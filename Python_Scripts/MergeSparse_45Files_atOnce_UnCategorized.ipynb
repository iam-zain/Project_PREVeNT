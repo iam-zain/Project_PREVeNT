{
 "cells": [
  {
   "cell_type": "code",
   "execution_count": 2,
   "id": "19e8148d",
   "metadata": {
    "ExecuteTime": {
     "end_time": "2023-02-17T10:37:48.028534Z",
     "start_time": "2023-02-17T10:37:47.611866Z"
    }
   },
   "outputs": [
    {
     "name": "stdout",
     "output_type": "stream",
     "text": [
      "Z:\\PPMI_Data\\Excels\\NonMotors\\Derived250\\UnCategorized_45Feats\n"
     ]
    }
   ],
   "source": [
    "import pandas as pd\n",
    "from functools import reduce"
   ]
  },
  {
   "cell_type": "code",
   "execution_count": 5,
   "id": "ebf50827",
   "metadata": {
    "ExecuteTime": {
     "end_time": "2023-02-17T10:38:25.854755Z",
     "start_time": "2023-02-17T10:38:25.804739Z"
    }
   },
   "outputs": [
    {
     "name": "stdout",
     "output_type": "stream",
     "text": [
      "Z:\\PPMI_Data\\Excels\\NonMotors\\NonMot_Files\n",
      "(683, 4)\n"
     ]
    },
    {
     "data": {
      "text/html": [
       "<div>\n",
       "<style scoped>\n",
       "    .dataframe tbody tr th:only-of-type {\n",
       "        vertical-align: middle;\n",
       "    }\n",
       "\n",
       "    .dataframe tbody tr th {\n",
       "        vertical-align: top;\n",
       "    }\n",
       "\n",
       "    .dataframe thead th {\n",
       "        text-align: right;\n",
       "    }\n",
       "</style>\n",
       "<table border=\"1\" class=\"dataframe\">\n",
       "  <thead>\n",
       "    <tr style=\"text-align: right;\">\n",
       "      <th></th>\n",
       "      <th>PATNO</th>\n",
       "      <th>APPRDX</th>\n",
       "      <th>Age</th>\n",
       "      <th>SEX</th>\n",
       "    </tr>\n",
       "  </thead>\n",
       "  <tbody>\n",
       "    <tr>\n",
       "      <th>0</th>\n",
       "      <td>3000</td>\n",
       "      <td>2</td>\n",
       "      <td>69.139726</td>\n",
       "      <td>0</td>\n",
       "    </tr>\n",
       "    <tr>\n",
       "      <th>1</th>\n",
       "      <td>3001</td>\n",
       "      <td>1</td>\n",
       "      <td>65.142466</td>\n",
       "      <td>1</td>\n",
       "    </tr>\n",
       "  </tbody>\n",
       "</table>\n",
       "</div>"
      ],
      "text/plain": [
       "   PATNO  APPRDX        Age  SEX\n",
       "0   3000       2  69.139726    0\n",
       "1   3001       1  65.142466    1"
      ]
     },
     "execution_count": 5,
     "metadata": {},
     "output_type": "execute_result"
    }
   ],
   "source": [
    "%cd Z:\\PPMI_Data\\Excels\\NonMotors\\NonMot_Files\n",
    "df_gen = pd.read_csv ('Gender_PATNO.csv')\n",
    "df1 = pd.read_csv ('PATNO_Age_APPRDX_Raw.csv')\n",
    "\n",
    "df2 = pd.merge(df1, df_gen, on = 'PATNO', how = 'inner')\n",
    "print(df2.shape)\n",
    "df2.head(2)"
   ]
  },
  {
   "cell_type": "code",
   "execution_count": 6,
   "id": "5b208658",
   "metadata": {
    "ExecuteTime": {
     "end_time": "2023-02-17T10:39:05.146798Z",
     "start_time": "2023-02-17T10:39:05.108982Z"
    }
   },
   "outputs": [],
   "source": [
    "df2.to_csv('Age_Gender_PATNO.csv', index = False)"
   ]
  },
  {
   "cell_type": "code",
   "execution_count": 7,
   "id": "a19b7618",
   "metadata": {
    "ExecuteTime": {
     "end_time": "2023-02-17T10:40:34.492983Z",
     "start_time": "2023-02-17T10:40:34.477348Z"
    }
   },
   "outputs": [
    {
     "name": "stdout",
     "output_type": "stream",
     "text": [
      "Z:\\PPMI_Data\\Excels\\NonMotors\\Derived250\\UnCategorized_45Feats\n"
     ]
    }
   ],
   "source": [
    "%cd Z:\\PPMI_Data\\Excels\\NonMotors\\Derived250\\UnCategorized_45Feats\n",
    "\n",
    "files = ['Benton.csv','Clock.csv','Cognitive_COGSTATE.csv','Epworth.csv','Geriatric.csv','Hopkins_Recall_Derived.csv',\n",
    "         'Hopkins_Recognition_Derived.csv','Letter.csv','Lexical.csv','MDS_UPDRS_Part_I.csv',\n",
    "         'MDS_UPDRS_Part_I_Pat.csv','Modified_Boston.csv', 'Montreal.csv','QUIP_Scores.csv','REM_Sleep_Scores.csv',\n",
    "         'SCOPA_Scores.csv','Semantic.csv','Socio.csv','STAI.csv','Symbol.csv','Trail.csv','UPSIT.csv']\n",
    "# Loading all the files at once"
   ]
  },
  {
   "cell_type": "code",
   "execution_count": 8,
   "id": "d4adec7a",
   "metadata": {
    "ExecuteTime": {
     "end_time": "2023-02-17T10:40:38.064877Z",
     "start_time": "2023-02-17T10:40:37.432004Z"
    }
   },
   "outputs": [
    {
     "name": "stdout",
     "output_type": "stream",
     "text": [
      "(30610, 50)\n"
     ]
    },
    {
     "data": {
      "text/html": [
       "<div>\n",
       "<style scoped>\n",
       "    .dataframe tbody tr th:only-of-type {\n",
       "        vertical-align: middle;\n",
       "    }\n",
       "\n",
       "    .dataframe tbody tr th {\n",
       "        vertical-align: top;\n",
       "    }\n",
       "\n",
       "    .dataframe thead th {\n",
       "        text-align: right;\n",
       "    }\n",
       "</style>\n",
       "<table border=\"1\" class=\"dataframe\">\n",
       "  <thead>\n",
       "    <tr style=\"text-align: right;\">\n",
       "      <th></th>\n",
       "      <th>PATNO</th>\n",
       "      <th>DVS_JLO_MSSAE</th>\n",
       "      <th>CLCKTOT</th>\n",
       "      <th>PAG_NAME</th>\n",
       "      <th>COGSTATE</th>\n",
       "      <th>ESST</th>\n",
       "      <th>GDSSHORT_Score</th>\n",
       "      <th>DVT_DELAYED_RECALL</th>\n",
       "      <th>DVT_RECOG_DISC_INDEX</th>\n",
       "      <th>DVS_LNS</th>\n",
       "      <th>...</th>\n",
       "      <th>SCOPA_Sex_Total</th>\n",
       "      <th>DVT_SFTANIM</th>\n",
       "      <th>EDUCYRS</th>\n",
       "      <th>HANDED</th>\n",
       "      <th>STAIS</th>\n",
       "      <th>STAIA</th>\n",
       "      <th>DVT_SDM</th>\n",
       "      <th>TMTASEC</th>\n",
       "      <th>TMTBSEC</th>\n",
       "      <th>UPSIT</th>\n",
       "    </tr>\n",
       "  </thead>\n",
       "  <tbody>\n",
       "    <tr>\n",
       "      <th>0</th>\n",
       "      <td>3000</td>\n",
       "      <td>15.00</td>\n",
       "      <td>NaN</td>\n",
       "      <td>NaN</td>\n",
       "      <td>NaN</td>\n",
       "      <td>NaN</td>\n",
       "      <td>NaN</td>\n",
       "      <td>NaN</td>\n",
       "      <td>NaN</td>\n",
       "      <td>NaN</td>\n",
       "      <td>...</td>\n",
       "      <td>NaN</td>\n",
       "      <td>NaN</td>\n",
       "      <td>NaN</td>\n",
       "      <td>NaN</td>\n",
       "      <td>NaN</td>\n",
       "      <td>NaN</td>\n",
       "      <td>NaN</td>\n",
       "      <td>NaN</td>\n",
       "      <td>NaN</td>\n",
       "      <td>NaN</td>\n",
       "    </tr>\n",
       "    <tr>\n",
       "      <th>1</th>\n",
       "      <td>3001</td>\n",
       "      <td>15.46</td>\n",
       "      <td>NaN</td>\n",
       "      <td>NaN</td>\n",
       "      <td>NaN</td>\n",
       "      <td>NaN</td>\n",
       "      <td>NaN</td>\n",
       "      <td>NaN</td>\n",
       "      <td>NaN</td>\n",
       "      <td>NaN</td>\n",
       "      <td>...</td>\n",
       "      <td>NaN</td>\n",
       "      <td>NaN</td>\n",
       "      <td>NaN</td>\n",
       "      <td>NaN</td>\n",
       "      <td>NaN</td>\n",
       "      <td>NaN</td>\n",
       "      <td>NaN</td>\n",
       "      <td>NaN</td>\n",
       "      <td>NaN</td>\n",
       "      <td>NaN</td>\n",
       "    </tr>\n",
       "  </tbody>\n",
       "</table>\n",
       "<p>2 rows × 50 columns</p>\n",
       "</div>"
      ],
      "text/plain": [
       "   PATNO  DVS_JLO_MSSAE  CLCKTOT PAG_NAME  COGSTATE  ESST  GDSSHORT_Score  \\\n",
       "0   3000          15.00      NaN      NaN       NaN   NaN             NaN   \n",
       "1   3001          15.46      NaN      NaN       NaN   NaN             NaN   \n",
       "\n",
       "   DVT_DELAYED_RECALL  DVT_RECOG_DISC_INDEX  DVS_LNS  ...  SCOPA_Sex_Total  \\\n",
       "0                 NaN                   NaN      NaN  ...              NaN   \n",
       "1                 NaN                   NaN      NaN  ...              NaN   \n",
       "\n",
       "  DVT_SFTANIM  EDUCYRS  HANDED  STAIS  STAIA  DVT_SDM  TMTASEC  TMTBSEC UPSIT  \n",
       "0         NaN      NaN     NaN    NaN    NaN      NaN      NaN      NaN   NaN  \n",
       "1         NaN      NaN     NaN    NaN    NaN      NaN      NaN      NaN   NaN  \n",
       "\n",
       "[2 rows x 50 columns]"
      ]
     },
     "execution_count": 8,
     "metadata": {},
     "output_type": "execute_result"
    }
   ],
   "source": [
    "df = pd.concat([pd.read_csv(f) for f in files], ignore_index=True)\n",
    "#The above code concatenates all the files vertically and ignores the original index, creating a new one.\n",
    "print(df.shape)\n",
    "df.head(2)"
   ]
  },
  {
   "cell_type": "code",
   "execution_count": 9,
   "id": "43b806f3",
   "metadata": {
    "ExecuteTime": {
     "end_time": "2023-02-17T10:40:40.199022Z",
     "start_time": "2023-02-17T10:40:39.960690Z"
    }
   },
   "outputs": [
    {
     "name": "stdout",
     "output_type": "stream",
     "text": [
      "(2185, 53)\n"
     ]
    },
    {
     "name": "stderr",
     "output_type": "stream",
     "text": [
      "C:\\Users\\system 4\\AppData\\Local\\Temp\\ipykernel_3340\\2768075079.py:6: FutureWarning: Passing 'suffixes' which cause duplicate columns {'PAG_NAME_x'} in the result is deprecated and will raise a MergeError in a future version.\n",
      "  df = df.merge(pd.read_csv(file), on='PATNO', how='outer')\n"
     ]
    },
    {
     "data": {
      "text/html": [
       "<div>\n",
       "<style scoped>\n",
       "    .dataframe tbody tr th:only-of-type {\n",
       "        vertical-align: middle;\n",
       "    }\n",
       "\n",
       "    .dataframe tbody tr th {\n",
       "        vertical-align: top;\n",
       "    }\n",
       "\n",
       "    .dataframe thead th {\n",
       "        text-align: right;\n",
       "    }\n",
       "</style>\n",
       "<table border=\"1\" class=\"dataframe\">\n",
       "  <thead>\n",
       "    <tr style=\"text-align: right;\">\n",
       "      <th></th>\n",
       "      <th>PATNO</th>\n",
       "      <th>DVS_JLO_MSSAE</th>\n",
       "      <th>CLCKTOT</th>\n",
       "      <th>PAG_NAME_x</th>\n",
       "      <th>COGSTATE</th>\n",
       "      <th>ESST</th>\n",
       "      <th>GDSSHORT_Score</th>\n",
       "      <th>DVT_DELAYED_RECALL</th>\n",
       "      <th>DVT_RECOG_DISC_INDEX</th>\n",
       "      <th>DVS_LNS</th>\n",
       "      <th>...</th>\n",
       "      <th>SCOPA_Sex_Total</th>\n",
       "      <th>DVT_SFTANIM</th>\n",
       "      <th>EDUCYRS</th>\n",
       "      <th>HANDED</th>\n",
       "      <th>STAIS</th>\n",
       "      <th>STAIA</th>\n",
       "      <th>DVT_SDM</th>\n",
       "      <th>TMTASEC</th>\n",
       "      <th>TMTBSEC</th>\n",
       "      <th>UPSIT</th>\n",
       "    </tr>\n",
       "  </thead>\n",
       "  <tbody>\n",
       "    <tr>\n",
       "      <th>0</th>\n",
       "      <td>3000</td>\n",
       "      <td>15.00</td>\n",
       "      <td>NaN</td>\n",
       "      <td>COGCATG</td>\n",
       "      <td>1.0</td>\n",
       "      <td>2.0</td>\n",
       "      <td>6.0</td>\n",
       "      <td>56.0</td>\n",
       "      <td>47.0</td>\n",
       "      <td>15.0</td>\n",
       "      <td>...</td>\n",
       "      <td>1.0</td>\n",
       "      <td>62.0</td>\n",
       "      <td>18.0</td>\n",
       "      <td>1.0</td>\n",
       "      <td>43.0</td>\n",
       "      <td>45.0</td>\n",
       "      <td>58.330002</td>\n",
       "      <td>24.0</td>\n",
       "      <td>61.0</td>\n",
       "      <td>35.0</td>\n",
       "    </tr>\n",
       "    <tr>\n",
       "      <th>1</th>\n",
       "      <td>3001</td>\n",
       "      <td>15.46</td>\n",
       "      <td>NaN</td>\n",
       "      <td>COGCATG</td>\n",
       "      <td>1.0</td>\n",
       "      <td>3.0</td>\n",
       "      <td>6.0</td>\n",
       "      <td>56.0</td>\n",
       "      <td>45.0</td>\n",
       "      <td>17.0</td>\n",
       "      <td>...</td>\n",
       "      <td>6.0</td>\n",
       "      <td>49.0</td>\n",
       "      <td>16.0</td>\n",
       "      <td>2.0</td>\n",
       "      <td>44.0</td>\n",
       "      <td>47.0</td>\n",
       "      <td>48.330002</td>\n",
       "      <td>53.0</td>\n",
       "      <td>90.0</td>\n",
       "      <td>25.0</td>\n",
       "    </tr>\n",
       "  </tbody>\n",
       "</table>\n",
       "<p>2 rows × 53 columns</p>\n",
       "</div>"
      ],
      "text/plain": [
       "   PATNO  DVS_JLO_MSSAE  CLCKTOT PAG_NAME_x  COGSTATE  ESST  GDSSHORT_Score  \\\n",
       "0   3000          15.00      NaN    COGCATG       1.0   2.0             6.0   \n",
       "1   3001          15.46      NaN    COGCATG       1.0   3.0             6.0   \n",
       "\n",
       "   DVT_DELAYED_RECALL  DVT_RECOG_DISC_INDEX  DVS_LNS  ...  SCOPA_Sex_Total  \\\n",
       "0                56.0                  47.0     15.0  ...              1.0   \n",
       "1                56.0                  45.0     17.0  ...              6.0   \n",
       "\n",
       "  DVT_SFTANIM  EDUCYRS  HANDED  STAIS  STAIA    DVT_SDM  TMTASEC  TMTBSEC  \\\n",
       "0        62.0     18.0     1.0   43.0   45.0  58.330002     24.0     61.0   \n",
       "1        49.0     16.0     2.0   44.0   47.0  48.330002     53.0     90.0   \n",
       "\n",
       "  UPSIT  \n",
       "0  35.0  \n",
       "1  25.0  \n",
       "\n",
       "[2 rows x 53 columns]"
      ]
     },
     "execution_count": 9,
     "metadata": {},
     "output_type": "execute_result"
    }
   ],
   "source": [
    "# Read the first csv file\n",
    "df = pd.read_csv(files[0])\n",
    "\n",
    "# Merge the rest of the csv files with an outer join\n",
    "for file in files[1:]:\n",
    "    df = df.merge(pd.read_csv(file), on='PATNO', how='outer')\n",
    "\n",
    "print(df.shape)\n",
    "df.head(2)\n"
   ]
  },
  {
   "cell_type": "code",
   "execution_count": 10,
   "id": "821d2ed5",
   "metadata": {
    "ExecuteTime": {
     "end_time": "2023-02-17T10:40:44.830787Z",
     "start_time": "2023-02-17T10:40:44.761696Z"
    }
   },
   "outputs": [],
   "source": [
    "df.to_csv('Feats45_unCategorised_Sparse.csv', index = False)"
   ]
  },
  {
   "cell_type": "markdown",
   "id": "891a4302",
   "metadata": {},
   "source": [
    "## Merging with APPRDX"
   ]
  },
  {
   "cell_type": "code",
   "execution_count": null,
   "id": "375dca61",
   "metadata": {},
   "outputs": [],
   "source": []
  },
  {
   "cell_type": "code",
   "execution_count": 16,
   "id": "e48c3541",
   "metadata": {
    "ExecuteTime": {
     "end_time": "2023-02-17T10:42:45.518535Z",
     "start_time": "2023-02-17T10:42:45.449518Z"
    }
   },
   "outputs": [
    {
     "name": "stdout",
     "output_type": "stream",
     "text": [
      "(683, 56)\n"
     ]
    },
    {
     "data": {
      "text/html": [
       "<div>\n",
       "<style scoped>\n",
       "    .dataframe tbody tr th:only-of-type {\n",
       "        vertical-align: middle;\n",
       "    }\n",
       "\n",
       "    .dataframe tbody tr th {\n",
       "        vertical-align: top;\n",
       "    }\n",
       "\n",
       "    .dataframe thead th {\n",
       "        text-align: right;\n",
       "    }\n",
       "</style>\n",
       "<table border=\"1\" class=\"dataframe\">\n",
       "  <thead>\n",
       "    <tr style=\"text-align: right;\">\n",
       "      <th></th>\n",
       "      <th>PATNO</th>\n",
       "      <th>APPRDX</th>\n",
       "      <th>Age</th>\n",
       "      <th>SEX</th>\n",
       "      <th>DVS_JLO_MSSAE</th>\n",
       "      <th>CLCKTOT</th>\n",
       "      <th>PAG_NAME_x</th>\n",
       "      <th>COGSTATE</th>\n",
       "      <th>ESST</th>\n",
       "      <th>GDSSHORT_Score</th>\n",
       "      <th>...</th>\n",
       "      <th>SCOPA_Sex_Total</th>\n",
       "      <th>DVT_SFTANIM</th>\n",
       "      <th>EDUCYRS</th>\n",
       "      <th>HANDED</th>\n",
       "      <th>STAIS</th>\n",
       "      <th>STAIA</th>\n",
       "      <th>DVT_SDM</th>\n",
       "      <th>TMTASEC</th>\n",
       "      <th>TMTBSEC</th>\n",
       "      <th>UPSIT</th>\n",
       "    </tr>\n",
       "  </thead>\n",
       "  <tbody>\n",
       "    <tr>\n",
       "      <th>0</th>\n",
       "      <td>3000</td>\n",
       "      <td>2</td>\n",
       "      <td>69.139726</td>\n",
       "      <td>0</td>\n",
       "      <td>15.00</td>\n",
       "      <td>NaN</td>\n",
       "      <td>COGCATG</td>\n",
       "      <td>1.0</td>\n",
       "      <td>2.0</td>\n",
       "      <td>6.0</td>\n",
       "      <td>...</td>\n",
       "      <td>1.0</td>\n",
       "      <td>62.0</td>\n",
       "      <td>18.0</td>\n",
       "      <td>1.0</td>\n",
       "      <td>43.0</td>\n",
       "      <td>45.0</td>\n",
       "      <td>58.330002</td>\n",
       "      <td>24.0</td>\n",
       "      <td>61.0</td>\n",
       "      <td>35.0</td>\n",
       "    </tr>\n",
       "    <tr>\n",
       "      <th>1</th>\n",
       "      <td>3001</td>\n",
       "      <td>1</td>\n",
       "      <td>65.142466</td>\n",
       "      <td>1</td>\n",
       "      <td>15.46</td>\n",
       "      <td>NaN</td>\n",
       "      <td>COGCATG</td>\n",
       "      <td>1.0</td>\n",
       "      <td>3.0</td>\n",
       "      <td>6.0</td>\n",
       "      <td>...</td>\n",
       "      <td>6.0</td>\n",
       "      <td>49.0</td>\n",
       "      <td>16.0</td>\n",
       "      <td>2.0</td>\n",
       "      <td>44.0</td>\n",
       "      <td>47.0</td>\n",
       "      <td>48.330002</td>\n",
       "      <td>53.0</td>\n",
       "      <td>90.0</td>\n",
       "      <td>25.0</td>\n",
       "    </tr>\n",
       "  </tbody>\n",
       "</table>\n",
       "<p>2 rows × 56 columns</p>\n",
       "</div>"
      ],
      "text/plain": [
       "   PATNO  APPRDX        Age  SEX  DVS_JLO_MSSAE  CLCKTOT PAG_NAME_x  COGSTATE  \\\n",
       "0   3000       2  69.139726    0          15.00      NaN    COGCATG       1.0   \n",
       "1   3001       1  65.142466    1          15.46      NaN    COGCATG       1.0   \n",
       "\n",
       "   ESST  GDSSHORT_Score  ...  SCOPA_Sex_Total  DVT_SFTANIM  EDUCYRS  HANDED  \\\n",
       "0   2.0             6.0  ...              1.0         62.0     18.0     1.0   \n",
       "1   3.0             6.0  ...              6.0         49.0     16.0     2.0   \n",
       "\n",
       "  STAIS  STAIA    DVT_SDM  TMTASEC  TMTBSEC  UPSIT  \n",
       "0  43.0   45.0  58.330002     24.0     61.0   35.0  \n",
       "1  44.0   47.0  48.330002     53.0     90.0   25.0  \n",
       "\n",
       "[2 rows x 56 columns]"
      ]
     },
     "execution_count": 16,
     "metadata": {},
     "output_type": "execute_result"
    }
   ],
   "source": [
    "df = pd.read_csv ('Feats45_unCategorised_Sparse.csv')\n",
    "df1 = pd.read_csv ('Age_Gender_PATNO.csv')\n",
    "\n",
    "df2 = pd.merge(df1, df, on = 'PATNO', how = 'inner')\n",
    "print(df2.shape)\n",
    "df2.head(2)"
   ]
  },
  {
   "cell_type": "code",
   "execution_count": 17,
   "id": "0aacce4e",
   "metadata": {
    "ExecuteTime": {
     "end_time": "2023-02-17T10:42:49.733705Z",
     "start_time": "2023-02-17T10:42:49.649069Z"
    }
   },
   "outputs": [],
   "source": [
    "df2.to_csv('Feats45_unCategSparse_APPRDX_Gender.csv', index = False)"
   ]
  },
  {
   "cell_type": "code",
   "execution_count": 21,
   "id": "ae959d96",
   "metadata": {
    "ExecuteTime": {
     "end_time": "2023-02-17T10:49:43.590648Z",
     "start_time": "2023-02-17T10:49:43.559389Z"
    }
   },
   "outputs": [
    {
     "name": "stdout",
     "output_type": "stream",
     "text": [
      "Z:\\PPMI_Data\\Excels\\CollaborativeFiltering\n",
      "(250, 50)\n"
     ]
    },
    {
     "data": {
      "text/html": [
       "<div>\n",
       "<style scoped>\n",
       "    .dataframe tbody tr th:only-of-type {\n",
       "        vertical-align: middle;\n",
       "    }\n",
       "\n",
       "    .dataframe tbody tr th {\n",
       "        vertical-align: top;\n",
       "    }\n",
       "\n",
       "    .dataframe thead th {\n",
       "        text-align: right;\n",
       "    }\n",
       "</style>\n",
       "<table border=\"1\" class=\"dataframe\">\n",
       "  <thead>\n",
       "    <tr style=\"text-align: right;\">\n",
       "      <th></th>\n",
       "      <th>PATNO</th>\n",
       "      <th>Patient_ID</th>\n",
       "      <th>APPRDX</th>\n",
       "      <th>Gender</th>\n",
       "      <th>Age</th>\n",
       "      <th>Anxiety</th>\n",
       "      <th>Apathy</th>\n",
       "      <th>Benton</th>\n",
       "      <th>Clock</th>\n",
       "      <th>Cognition</th>\n",
       "      <th>...</th>\n",
       "      <th>Semantic</th>\n",
       "      <th>SleepDay</th>\n",
       "      <th>SleepNight</th>\n",
       "      <th>STAIA</th>\n",
       "      <th>STAIS</th>\n",
       "      <th>Symbol_Digit</th>\n",
       "      <th>Trail_Making_A</th>\n",
       "      <th>Trail_Making_B</th>\n",
       "      <th>UPSIT</th>\n",
       "      <th>Urine</th>\n",
       "    </tr>\n",
       "  </thead>\n",
       "  <tbody>\n",
       "    <tr>\n",
       "      <th>1</th>\n",
       "      <td>3002</td>\n",
       "      <td>2</td>\n",
       "      <td>1</td>\n",
       "      <td>0</td>\n",
       "      <td>67.578082</td>\n",
       "      <td>1</td>\n",
       "      <td>0</td>\n",
       "      <td>12.16</td>\n",
       "      <td>7.0</td>\n",
       "      <td>1</td>\n",
       "      <td>...</td>\n",
       "      <td>57</td>\n",
       "      <td>1</td>\n",
       "      <td>0</td>\n",
       "      <td>45</td>\n",
       "      <td>59</td>\n",
       "      <td>47.5</td>\n",
       "      <td>110.0</td>\n",
       "      <td>204.0</td>\n",
       "      <td>17</td>\n",
       "      <td>1.0</td>\n",
       "    </tr>\n",
       "    <tr>\n",
       "      <th>5</th>\n",
       "      <td>3010</td>\n",
       "      <td>6</td>\n",
       "      <td>1</td>\n",
       "      <td>1</td>\n",
       "      <td>46.965716</td>\n",
       "      <td>1</td>\n",
       "      <td>1</td>\n",
       "      <td>7.76</td>\n",
       "      <td>6.0</td>\n",
       "      <td>1</td>\n",
       "      <td>...</td>\n",
       "      <td>36</td>\n",
       "      <td>1</td>\n",
       "      <td>3</td>\n",
       "      <td>40</td>\n",
       "      <td>39</td>\n",
       "      <td>52.0</td>\n",
       "      <td>27.0</td>\n",
       "      <td>52.0</td>\n",
       "      <td>9</td>\n",
       "      <td>0.0</td>\n",
       "    </tr>\n",
       "  </tbody>\n",
       "</table>\n",
       "<p>2 rows × 50 columns</p>\n",
       "</div>"
      ],
      "text/plain": [
       "   PATNO  Patient_ID  APPRDX  Gender        Age  Anxiety  Apathy  Benton  \\\n",
       "1   3002           2       1       0  67.578082        1       0   12.16   \n",
       "5   3010           6       1       1  46.965716        1       1    7.76   \n",
       "\n",
       "   Clock  Cognition  ...  Semantic  SleepDay  SleepNight  STAIA  STAIS  \\\n",
       "1    7.0          1  ...        57         1           0     45     59   \n",
       "5    6.0          1  ...        36         1           3     40     39   \n",
       "\n",
       "   Symbol_Digit  Trail_Making_A  Trail_Making_B  UPSIT  Urine  \n",
       "1          47.5           110.0           204.0     17    1.0  \n",
       "5          52.0            27.0            52.0      9    0.0  \n",
       "\n",
       "[2 rows x 50 columns]"
      ]
     },
     "execution_count": 21,
     "metadata": {},
     "output_type": "execute_result"
    }
   ],
   "source": [
    "%cd Z:\\PPMI_Data\\Excels\\CollaborativeFiltering\n",
    "df2 = pd.read_csv ('Feats45_unCategSparse_APPRDX.csv')\n",
    "df3 = df2.dropna()\n",
    "print(df3.shape)\n",
    "df3.head(2)"
   ]
  },
  {
   "cell_type": "code",
   "execution_count": 22,
   "id": "315369dd",
   "metadata": {
    "ExecuteTime": {
     "end_time": "2023-02-17T10:49:51.321492Z",
     "start_time": "2023-02-17T10:49:51.274592Z"
    }
   },
   "outputs": [],
   "source": [
    "df3.to_csv('Feats45_unCategAge_APPRDX_Gender.csv', index = False)"
   ]
  },
  {
   "cell_type": "code",
   "execution_count": null,
   "id": "c3ca8f69",
   "metadata": {},
   "outputs": [],
   "source": []
  }
 ],
 "metadata": {
  "kernelspec": {
   "display_name": "Python 3 (ipykernel)",
   "language": "python",
   "name": "python3"
  },
  "language_info": {
   "codemirror_mode": {
    "name": "ipython",
    "version": 3
   },
   "file_extension": ".py",
   "mimetype": "text/x-python",
   "name": "python",
   "nbconvert_exporter": "python",
   "pygments_lexer": "ipython3",
   "version": "3.9.16"
  },
  "toc": {
   "base_numbering": 1,
   "nav_menu": {},
   "number_sections": true,
   "sideBar": true,
   "skip_h1_title": false,
   "title_cell": "Table of Contents",
   "title_sidebar": "Contents",
   "toc_cell": false,
   "toc_position": {},
   "toc_section_display": true,
   "toc_window_display": false
  },
  "varInspector": {
   "cols": {
    "lenName": 16,
    "lenType": 16,
    "lenVar": 40
   },
   "kernels_config": {
    "python": {
     "delete_cmd_postfix": "",
     "delete_cmd_prefix": "del ",
     "library": "var_list.py",
     "varRefreshCmd": "print(var_dic_list())"
    },
    "r": {
     "delete_cmd_postfix": ") ",
     "delete_cmd_prefix": "rm(",
     "library": "var_list.r",
     "varRefreshCmd": "cat(var_dic_list()) "
    }
   },
   "types_to_exclude": [
    "module",
    "function",
    "builtin_function_or_method",
    "instance",
    "_Feature"
   ],
   "window_display": false
  }
 },
 "nbformat": 4,
 "nbformat_minor": 5
}
