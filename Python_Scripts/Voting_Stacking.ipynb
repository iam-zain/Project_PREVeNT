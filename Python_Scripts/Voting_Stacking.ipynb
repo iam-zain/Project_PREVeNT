{
 "cells": [
  {
   "cell_type": "code",
   "execution_count": 1,
   "id": "8cad8489",
   "metadata": {
    "ExecuteTime": {
     "end_time": "2023-02-17T09:14:36.429885Z",
     "start_time": "2023-02-17T09:14:35.057211Z"
    }
   },
   "outputs": [],
   "source": [
    "import joblib\n",
    "import numpy as np\n",
    "import pandas as pd\n",
    "from sklearn.svm import SVC\n",
    "from xgboost import XGBClassifier\n",
    "from sklearn.model_selection import KFold\n",
    "from sklearn.naive_bayes import GaussianNB\n",
    "from sklearn.metrics import accuracy_score\n",
    "from sklearn.tree import DecisionTreeClassifier\n",
    "from sklearn.model_selection import cross_val_score\n",
    "from sklearn.model_selection import train_test_split\n",
    "from sklearn.linear_model import LogisticRegression, Lasso, ElasticNet\n",
    "from sklearn.ensemble import VotingClassifier, StackingClassifier, BaggingClassifier\n",
    "from sklearn.ensemble import RandomForestClassifier, GradientBoostingClassifier, AdaBoostClassifier"
   ]
  },
  {
   "cell_type": "code",
   "execution_count": 2,
   "id": "3e86ada4",
   "metadata": {
    "ExecuteTime": {
     "end_time": "2023-02-17T09:14:36.530148Z",
     "start_time": "2023-02-17T09:14:36.476754Z"
    }
   },
   "outputs": [
    {
     "name": "stdout",
     "output_type": "stream",
     "text": [
      "Z:\\PPMI_Data\\Excels\\CollaborativeFiltering\n"
     ]
    },
    {
     "data": {
      "text/html": [
       "<div>\n",
       "<style scoped>\n",
       "    .dataframe tbody tr th:only-of-type {\n",
       "        vertical-align: middle;\n",
       "    }\n",
       "\n",
       "    .dataframe tbody tr th {\n",
       "        vertical-align: top;\n",
       "    }\n",
       "\n",
       "    .dataframe thead th {\n",
       "        text-align: right;\n",
       "    }\n",
       "</style>\n",
       "<table border=\"1\" class=\"dataframe\">\n",
       "  <thead>\n",
       "    <tr style=\"text-align: right;\">\n",
       "      <th></th>\n",
       "      <th>APPRDX</th>\n",
       "      <th>Anxiety</th>\n",
       "      <th>Apathy</th>\n",
       "      <th>Benton</th>\n",
       "      <th>Clock</th>\n",
       "      <th>Cognition</th>\n",
       "      <th>COGSTATE</th>\n",
       "      <th>Constipate</th>\n",
       "      <th>Depress</th>\n",
       "      <th>DopaDefic</th>\n",
       "      <th>...</th>\n",
       "      <th>Semantic</th>\n",
       "      <th>SleepDay</th>\n",
       "      <th>SleepNight</th>\n",
       "      <th>STAIA</th>\n",
       "      <th>STAIS</th>\n",
       "      <th>Symbol_Digit</th>\n",
       "      <th>Trail_Making_A</th>\n",
       "      <th>Trail_Making_B</th>\n",
       "      <th>UPSIT</th>\n",
       "      <th>Urine</th>\n",
       "    </tr>\n",
       "  </thead>\n",
       "  <tbody>\n",
       "    <tr>\n",
       "      <th>0</th>\n",
       "      <td>Patient</td>\n",
       "      <td>1</td>\n",
       "      <td>0</td>\n",
       "      <td>12.16</td>\n",
       "      <td>7</td>\n",
       "      <td>1</td>\n",
       "      <td>1</td>\n",
       "      <td>1</td>\n",
       "      <td>1</td>\n",
       "      <td>0</td>\n",
       "      <td>...</td>\n",
       "      <td>57</td>\n",
       "      <td>1</td>\n",
       "      <td>0</td>\n",
       "      <td>45</td>\n",
       "      <td>59</td>\n",
       "      <td>47.5</td>\n",
       "      <td>110</td>\n",
       "      <td>204</td>\n",
       "      <td>17</td>\n",
       "      <td>1</td>\n",
       "    </tr>\n",
       "    <tr>\n",
       "      <th>1</th>\n",
       "      <td>Patient</td>\n",
       "      <td>1</td>\n",
       "      <td>1</td>\n",
       "      <td>7.76</td>\n",
       "      <td>6</td>\n",
       "      <td>1</td>\n",
       "      <td>1</td>\n",
       "      <td>0</td>\n",
       "      <td>0</td>\n",
       "      <td>0</td>\n",
       "      <td>...</td>\n",
       "      <td>36</td>\n",
       "      <td>1</td>\n",
       "      <td>3</td>\n",
       "      <td>40</td>\n",
       "      <td>39</td>\n",
       "      <td>52.0</td>\n",
       "      <td>27</td>\n",
       "      <td>52</td>\n",
       "      <td>9</td>\n",
       "      <td>0</td>\n",
       "    </tr>\n",
       "  </tbody>\n",
       "</table>\n",
       "<p>2 rows × 46 columns</p>\n",
       "</div>"
      ],
      "text/plain": [
       "    APPRDX  Anxiety  Apathy  Benton  Clock  Cognition  COGSTATE  Constipate  \\\n",
       "0  Patient        1       0   12.16      7          1         1           1   \n",
       "1  Patient        1       1    7.76      6          1         1           0   \n",
       "\n",
       "   Depress  DopaDefic  ...  Semantic  SleepDay  SleepNight  STAIA  STAIS  \\\n",
       "0        1          0  ...        57         1           0     45     59   \n",
       "1        0          0  ...        36         1           3     40     39   \n",
       "\n",
       "   Symbol_Digit  Trail_Making_A  Trail_Making_B  UPSIT  Urine  \n",
       "0          47.5             110             204     17      1  \n",
       "1          52.0              27              52      9      0  \n",
       "\n",
       "[2 rows x 46 columns]"
      ]
     },
     "execution_count": 2,
     "metadata": {},
     "output_type": "execute_result"
    }
   ],
   "source": [
    "%cd Z:\\PPMI_Data\\Excels\\CollaborativeFiltering\n",
    "NonMot = pd.read_csv('Feats45_unCategAge_APPRDX.csv')\n",
    "NonMot1 = NonMot.drop(['PATNO', 'Patient_ID', 'Age'], axis = 1)\n",
    "NonMot1['APPRDX'] = NonMot1['APPRDX'].replace([1], 'Patient')\n",
    "NonMot1['APPRDX'] = NonMot1['APPRDX'].replace([2], 'Healthy')\n",
    "NonMot1.head(2)"
   ]
  },
  {
   "cell_type": "code",
   "execution_count": 6,
   "id": "6c541200",
   "metadata": {
    "ExecuteTime": {
     "end_time": "2023-02-17T09:24:07.627726Z",
     "start_time": "2023-02-17T09:23:14.455676Z"
    }
   },
   "outputs": [
    {
     "name": "stdout",
     "output_type": "stream",
     "text": [
      "Voting ensemble accuracy: 0.8400\n",
      "Stacking ensemble accuracy: 0.8600\n"
     ]
    }
   ],
   "source": [
    "\n",
    "# Load the dataset and split into training and testing sets\n",
    "X, y = NonMot1.drop('APPRDX', axis=1), NonMot1['APPRDX']\n",
    "X_train, X_test, y_train, y_test = train_test_split(X, y, test_size=0.2, random_state=1)\n",
    "\n",
    "# Define the base models\n",
    "base_models = [('rf', RandomForestClassifier(n_estimators=100, max_depth=5, min_samples_split=2, min_samples_leaf=1, max_features='sqrt', random_state=1)),\n",
    "               ('svc', SVC(kernel='linear', probability=True, random_state=1)),\n",
    "               ('lasso', LogisticRegression(penalty='l1', solver='liblinear', max_iter=500, random_state=1)),\n",
    "               ('enet', LogisticRegression(penalty='elasticnet', solver='saga', max_iter=10000, l1_ratio=0.5, random_state=1)),\n",
    "               ('ada', AdaBoostClassifier(base_estimator=RandomForestClassifier(max_depth=2), n_estimators=50, learning_rate=0.1, random_state=1)),\n",
    "               ('gb', GradientBoostingClassifier(n_estimators=100, random_state=1)),\n",
    "               ('xgb', XGBClassifier(max_depth=3, learning_rate=0.1, n_estimators=100, random_state=1)),\n",
    "               ('bagging', BaggingClassifier(n_estimators=100, max_samples=0.5, max_features=0.5, random_state=1))]\n",
    "\n",
    "# Define the voting ensemble model\n",
    "voting_model = VotingClassifier(estimators=base_models)\n",
    "\n",
    "# Define the stacking ensemble model\n",
    "stacking_model = StackingClassifier(estimators=base_models, final_estimator=LogisticRegression())\n",
    "\n",
    "# Train and evaluate the voting ensemble model\n",
    "voting_model.fit(X_train, y_train)\n",
    "voting_predictions = voting_model.predict(X_test)\n",
    "voting_accuracy = accuracy_score(y_test, voting_predictions)\n",
    "print(f'Voting ensemble accuracy: {voting_accuracy:.4f}')\n",
    "\n",
    "# Train and evaluate the stacking ensemble model\n",
    "stacking_model.fit(X_train, y_train)\n",
    "stacking_predictions = stacking_model.predict(X_test)\n",
    "stacking_accuracy = accuracy_score(y_test, stacking_predictions)\n",
    "print(f'Stacking ensemble accuracy: {stacking_accuracy:.4f}')"
   ]
  },
  {
   "cell_type": "code",
   "execution_count": 7,
   "id": "a19e035d",
   "metadata": {
    "ExecuteTime": {
     "end_time": "2023-02-17T09:37:22.518803Z",
     "start_time": "2023-02-17T09:28:26.564676Z"
    }
   },
   "outputs": [
    {
     "name": "stdout",
     "output_type": "stream",
     "text": [
      "Voting ensemble accuracy (mean): 0.8360\n",
      "Voting ensemble accuracy (std): 0.0656\n",
      "Stacking ensemble accuracy (mean): 0.8440\n",
      "Stacking ensemble accuracy (std): 0.0550\n"
     ]
    }
   ],
   "source": [
    "\n",
    "# Load the dataset\n",
    "X, y = NonMot1.drop('APPRDX', axis=1), NonMot1['APPRDX']\n",
    "\n",
    "# Define the base models\n",
    "base_models = [('rf', RandomForestClassifier(n_estimators=100, max_depth=5, min_samples_split=2, min_samples_leaf=1, max_features='sqrt', random_state=1)),\n",
    "               ('svc', SVC(kernel='linear', probability=True, random_state=1)),\n",
    "               ('lasso', LogisticRegression(penalty='l1', solver='liblinear', max_iter=500, random_state=1)),\n",
    "               ('enet', LogisticRegression(penalty='elasticnet', solver='saga', max_iter=10000, l1_ratio=0.5, random_state=1)),\n",
    "               ('ada', AdaBoostClassifier(base_estimator=RandomForestClassifier(max_depth=2), n_estimators=50, learning_rate=0.1, random_state=1)),\n",
    "               ('gb', GradientBoostingClassifier(n_estimators=100, random_state=1)),\n",
    "               ('xgb', XGBClassifier(max_depth=3, learning_rate=0.1, n_estimators=100, random_state=1)),\n",
    "               ('bagging', BaggingClassifier(n_estimators=100, max_samples=0.5, max_features=0.5, random_state=1))]\n",
    "\n",
    "# Define the voting ensemble model\n",
    "voting_model = VotingClassifier(estimators=base_models)\n",
    "\n",
    "# Define the stacking ensemble model\n",
    "stacking_model = StackingClassifier(estimators=base_models, final_estimator=LogisticRegression())\n",
    "\n",
    "# Define the number of folds\n",
    "num_folds = 10\n",
    "\n",
    "# Define the K-fold cross-validation object\n",
    "kfold = KFold(n_splits=num_folds, shuffle=True, random_state=1)\n",
    "\n",
    "# Evaluate the voting ensemble model using cross-validation\n",
    "voting_scores = cross_val_score(voting_model, X, y, cv=kfold, scoring='accuracy')\n",
    "print(f'Voting ensemble accuracy (mean): {voting_scores.mean():.4f}')\n",
    "print(f'Voting ensemble accuracy (std): {voting_scores.std():.4f}')\n",
    "\n",
    "# Evaluate the stacking ensemble model using cross-validation\n",
    "stacking_scores = cross_val_score(stacking_model, X, y, cv=kfold, scoring='accuracy')\n",
    "print(f'Stacking ensemble accuracy (mean): {stacking_scores.mean():.4f}')\n",
    "print(f'Stacking ensemble accuracy (std): {stacking_scores.std():.4f}')\n"
   ]
  },
  {
   "cell_type": "markdown",
   "id": "2b971c3d",
   "metadata": {},
   "source": [
    "# Define the stacking ensemble model with Logistic Regression final estimator\n",
    "stacking_model_lr = StackingClassifier(estimators=base_models, final_estimator=LogisticRegression())\n",
    "\n",
    "# Train and evaluate the stacking ensemble model with Logistic Regression final estimator\n",
    "stacking_model_lr.fit(X_train, y_train)\n",
    "stacking_predictions_lr = stacking_model_lr.predict(X_test)\n",
    "stacking_accuracy_lr = accuracy_score(y_test, stacking_predictions_lr)\n",
    "print(f'Stacking ensemble accuracy with Logistic Regression final estimator: {stacking_accuracy_lr:.4f}')\n",
    "\n",
    "# Define the stacking ensemble model with Random Forest final estimator\n",
    "stacking_model_rf = StackingClassifier(estimators=base_models, final_estimator=RandomForestClassifier(n_estimators=100, max_depth=5, random_state=1))\n",
    "\n",
    "# Train and evaluate the stacking ensemble model with Random Forest final estimator\n",
    "stacking_model_rf.fit(X_train, y_train)\n",
    "stacking_predictions_rf = stacking_model_rf.predict(X_test)\n",
    "stacking_accuracy_rf = accuracy_score(y_test, stacking_predictions_rf)\n",
    "print(f'Stacking ensemble accuracy with Random Forest final estimator: {stacking_accuracy_rf:.4f}')\n",
    "\n",
    "# Define the stacking ensemble model with SVM final estimator\n",
    "stacking_model_svm = StackingClassifier(estimators=base_models, final_estimator=SVC(probability=True, random_state=1))\n",
    "\n",
    "# Train and evaluate the stacking ensemble model with SVM final estimator\n",
    "stacking_model_svm.fit(X_train, y_train)\n",
    "stacking_predictions_svm = stacking_model_svm.predict(X_test)\n",
    "stacking_accuracy_svm = accuracy_score(y_test, stacking_predictions_svm)\n",
    "print(f'Stacking ensemble accuracy with SVM final estimator: {stacking_accuracy_svm:.4f}')"
   ]
  }
 ],
 "metadata": {
  "kernelspec": {
   "display_name": "Python 3 (ipykernel)",
   "language": "python",
   "name": "python3"
  },
  "language_info": {
   "codemirror_mode": {
    "name": "ipython",
    "version": 3
   },
   "file_extension": ".py",
   "mimetype": "text/x-python",
   "name": "python",
   "nbconvert_exporter": "python",
   "pygments_lexer": "ipython3",
   "version": "3.9.16"
  },
  "toc": {
   "base_numbering": 1,
   "nav_menu": {},
   "number_sections": true,
   "sideBar": true,
   "skip_h1_title": false,
   "title_cell": "Table of Contents",
   "title_sidebar": "Contents",
   "toc_cell": false,
   "toc_position": {},
   "toc_section_display": true,
   "toc_window_display": false
  },
  "varInspector": {
   "cols": {
    "lenName": 16,
    "lenType": 16,
    "lenVar": 40
   },
   "kernels_config": {
    "python": {
     "delete_cmd_postfix": "",
     "delete_cmd_prefix": "del ",
     "library": "var_list.py",
     "varRefreshCmd": "print(var_dic_list())"
    },
    "r": {
     "delete_cmd_postfix": ") ",
     "delete_cmd_prefix": "rm(",
     "library": "var_list.r",
     "varRefreshCmd": "cat(var_dic_list()) "
    }
   },
   "types_to_exclude": [
    "module",
    "function",
    "builtin_function_or_method",
    "instance",
    "_Feature"
   ],
   "window_display": false
  }
 },
 "nbformat": 4,
 "nbformat_minor": 5
}
