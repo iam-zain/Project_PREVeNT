{
 "cells": [
  {
   "cell_type": "code",
   "execution_count": 10,
   "id": "49a90c88",
   "metadata": {
    "ExecuteTime": {
     "end_time": "2023-05-16T12:45:59.149166Z",
     "start_time": "2023-05-16T12:45:58.870491Z"
    }
   },
   "outputs": [],
   "source": [
    "from shiny import App, render, ui\n",
    "\n",
    "app_ui = ui.page_fluid(\n",
    "    ui.input_slider(\"n\", \"N\", 0, 100, 20),\n",
    "    ui.output_text_verbatim(\"txt\"),\n",
    ")\n",
    "\n",
    "\n",
    "def server(input, output, session):\n",
    "    @output\n",
    "    @render.text\n",
    "    def txt():\n",
    "        return f\"n*2 is {input.n() * 2}\"\n",
    "\n",
    "\n",
    "app = App(app_ui, server)\n"
   ]
  }
 ],
 "metadata": {
  "kernelspec": {
   "display_name": "Python 3 (ipykernel)",
   "language": "python",
   "name": "python3"
  },
  "language_info": {
   "codemirror_mode": {
    "name": "ipython",
    "version": 3
   },
   "file_extension": ".py",
   "mimetype": "text/x-python",
   "name": "python",
   "nbconvert_exporter": "python",
   "pygments_lexer": "ipython3",
   "version": "3.9.16"
  },
  "toc": {
   "base_numbering": 1,
   "nav_menu": {},
   "number_sections": true,
   "sideBar": true,
   "skip_h1_title": false,
   "title_cell": "Table of Contents",
   "title_sidebar": "Contents",
   "toc_cell": false,
   "toc_position": {},
   "toc_section_display": true,
   "toc_window_display": false
  },
  "varInspector": {
   "cols": {
    "lenName": 16,
    "lenType": 16,
    "lenVar": 40
   },
   "kernels_config": {
    "python": {
     "delete_cmd_postfix": "",
     "delete_cmd_prefix": "del ",
     "library": "var_list.py",
     "varRefreshCmd": "print(var_dic_list())"
    },
    "r": {
     "delete_cmd_postfix": ") ",
     "delete_cmd_prefix": "rm(",
     "library": "var_list.r",
     "varRefreshCmd": "cat(var_dic_list()) "
    }
   },
   "types_to_exclude": [
    "module",
    "function",
    "builtin_function_or_method",
    "instance",
    "_Feature"
   ],
   "window_display": false
  }
 },
 "nbformat": 4,
 "nbformat_minor": 5
}
