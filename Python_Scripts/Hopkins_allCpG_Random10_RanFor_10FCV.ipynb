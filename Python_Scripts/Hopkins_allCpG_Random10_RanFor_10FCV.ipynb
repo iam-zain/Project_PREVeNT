{
 "cells": [
  {
   "cell_type": "markdown",
   "metadata": {
    "colab_type": "text",
    "id": "0MRC0e0KhQ0S"
   },
   "source": [
    "# Random Forest Classification"
   ]
  },
  {
   "cell_type": "code",
   "execution_count": 1,
   "metadata": {
    "ExecuteTime": {
     "end_time": "2023-01-14T14:22:19.603084Z",
     "start_time": "2023-01-14T14:22:16.668425Z"
    },
    "colab": {},
    "colab_type": "code",
    "id": "YvGPUQaHhXfL"
   },
   "outputs": [],
   "source": [
    "import random\n",
    "import numpy as np\n",
    "import pandas as pd\n",
    "import seaborn as sn\n",
    "from numpy import std\n",
    "from numpy import mean\n",
    "import matplotlib.pyplot as plt\n",
    "from sklearn.datasets import make_classification\n",
    "from sklearn.preprocessing import StandardScaler\n",
    "from sklearn.model_selection import cross_val_score\n",
    "from sklearn.ensemble import RandomForestClassifier\n",
    "from sklearn.model_selection import train_test_split\n",
    "from sklearn.model_selection import RepeatedStratifiedKFold\n",
    "from sklearn.metrics import confusion_matrix, accuracy_score\n",
    "%matplotlib inline"
   ]
  },
  {
   "cell_type": "markdown",
   "metadata": {},
   "source": [
    "## RanFor 100 times, CpG only "
   ]
  },
  {
   "cell_type": "code",
   "execution_count": 2,
   "metadata": {
    "ExecuteTime": {
     "end_time": "2023-01-14T14:22:21.468295Z",
     "start_time": "2023-01-14T14:22:19.638431Z"
    },
    "scrolled": true
   },
   "outputs": [
    {
     "name": "stdout",
     "output_type": "stream",
     "text": [
      "Z:\\PPMI_Data\\Excels\\NonMotors\\Derived250\\Male\\GeneCpG\\Hopkins\n",
      "(110, 4344)\n"
     ]
    },
    {
     "data": {
      "text/html": [
       "<div>\n",
       "<style scoped>\n",
       "    .dataframe tbody tr th:only-of-type {\n",
       "        vertical-align: middle;\n",
       "    }\n",
       "\n",
       "    .dataframe tbody tr th {\n",
       "        vertical-align: top;\n",
       "    }\n",
       "\n",
       "    .dataframe thead th {\n",
       "        text-align: right;\n",
       "    }\n",
       "</style>\n",
       "<table border=\"1\" class=\"dataframe\">\n",
       "  <thead>\n",
       "    <tr style=\"text-align: right;\">\n",
       "      <th></th>\n",
       "      <th>APPRDX</th>\n",
       "      <th>cg02440279</th>\n",
       "      <th>cg02131967</th>\n",
       "      <th>cg09920557</th>\n",
       "      <th>cg05952120</th>\n",
       "      <th>cg21796427</th>\n",
       "      <th>cg10468385</th>\n",
       "      <th>cg19354750</th>\n",
       "      <th>cg21657705</th>\n",
       "      <th>cg02040921</th>\n",
       "      <th>...</th>\n",
       "      <th>cg08990112</th>\n",
       "      <th>cg24987754</th>\n",
       "      <th>cg01108057</th>\n",
       "      <th>cg11424763</th>\n",
       "      <th>cg08584264</th>\n",
       "      <th>cg02750308</th>\n",
       "      <th>cg00382771</th>\n",
       "      <th>cg13510423</th>\n",
       "      <th>cg22194345</th>\n",
       "      <th>cg13669748</th>\n",
       "    </tr>\n",
       "  </thead>\n",
       "  <tbody>\n",
       "    <tr>\n",
       "      <th>0</th>\n",
       "      <td>1</td>\n",
       "      <td>0.012232</td>\n",
       "      <td>0.015209</td>\n",
       "      <td>0.013469</td>\n",
       "      <td>0.023272</td>\n",
       "      <td>0.947367</td>\n",
       "      <td>0.963202</td>\n",
       "      <td>0.03578</td>\n",
       "      <td>0.943351</td>\n",
       "      <td>0.011917</td>\n",
       "      <td>...</td>\n",
       "      <td>0.038912</td>\n",
       "      <td>0.856477</td>\n",
       "      <td>0.036409</td>\n",
       "      <td>0.907263</td>\n",
       "      <td>0.108370</td>\n",
       "      <td>0.546931</td>\n",
       "      <td>0.845835</td>\n",
       "      <td>0.307199</td>\n",
       "      <td>0.008555</td>\n",
       "      <td>0.060829</td>\n",
       "    </tr>\n",
       "    <tr>\n",
       "      <th>1</th>\n",
       "      <td>1</td>\n",
       "      <td>0.009682</td>\n",
       "      <td>0.009379</td>\n",
       "      <td>0.008381</td>\n",
       "      <td>0.016337</td>\n",
       "      <td>0.953605</td>\n",
       "      <td>0.975389</td>\n",
       "      <td>0.01686</td>\n",
       "      <td>0.974653</td>\n",
       "      <td>0.007736</td>\n",
       "      <td>...</td>\n",
       "      <td>0.046467</td>\n",
       "      <td>0.905048</td>\n",
       "      <td>0.022939</td>\n",
       "      <td>0.873880</td>\n",
       "      <td>0.213721</td>\n",
       "      <td>0.900037</td>\n",
       "      <td>0.916755</td>\n",
       "      <td>0.255893</td>\n",
       "      <td>0.040234</td>\n",
       "      <td>0.041951</td>\n",
       "    </tr>\n",
       "  </tbody>\n",
       "</table>\n",
       "<p>2 rows × 4344 columns</p>\n",
       "</div>"
      ],
      "text/plain": [
       "   APPRDX  cg02440279  cg02131967  cg09920557  cg05952120  cg21796427  \\\n",
       "0       1    0.012232    0.015209    0.013469    0.023272    0.947367   \n",
       "1       1    0.009682    0.009379    0.008381    0.016337    0.953605   \n",
       "\n",
       "   cg10468385  cg19354750  cg21657705  cg02040921  ...  cg08990112  \\\n",
       "0    0.963202     0.03578    0.943351    0.011917  ...    0.038912   \n",
       "1    0.975389     0.01686    0.974653    0.007736  ...    0.046467   \n",
       "\n",
       "   cg24987754  cg01108057  cg11424763  cg08584264  cg02750308  cg00382771  \\\n",
       "0    0.856477    0.036409    0.907263    0.108370    0.546931    0.845835   \n",
       "1    0.905048    0.022939    0.873880    0.213721    0.900037    0.916755   \n",
       "\n",
       "   cg13510423  cg22194345  cg13669748  \n",
       "0    0.307199    0.008555    0.060829  \n",
       "1    0.255893    0.040234    0.041951  \n",
       "\n",
       "[2 rows x 4344 columns]"
      ]
     },
     "execution_count": 2,
     "metadata": {},
     "output_type": "execute_result"
    }
   ],
   "source": [
    "%cd Z:\\PPMI_Data\\Excels\\NonMotors\\Derived250\\Male\\GeneCpG\\Hopkins\n",
    "df = pd.read_csv('Hopkins_with_MethylomeDetails_Male.csv')\n",
    "df = df.drop(['PATNO','Sentrix','HYS','Age','AgeCate','Category','Gender'], axis=1)\n",
    "print(df.shape)\n",
    "df.head(2)"
   ]
  },
  {
   "cell_type": "code",
   "execution_count": 3,
   "metadata": {
    "ExecuteTime": {
     "end_time": "2023-01-14T14:12:35.308522Z",
     "start_time": "2023-01-14T14:10:46.317956Z"
    }
   },
   "outputs": [
    {
     "name": "stdout",
     "output_type": "stream",
     "text": [
      "1\n",
      "2\n",
      "3\n",
      "4\n",
      "5\n",
      "6\n",
      "7\n",
      "8\n",
      "9\n",
      "10\n",
      "11\n",
      "12\n",
      "13\n",
      "14\n",
      "15\n",
      "16\n",
      "17\n",
      "18\n",
      "19\n",
      "20\n",
      "21\n",
      "22\n",
      "23\n",
      "24\n",
      "25\n",
      "26\n",
      "27\n",
      "28\n",
      "29\n",
      "30\n",
      "31\n",
      "32\n",
      "33\n",
      "34\n",
      "35\n",
      "36\n",
      "37\n",
      "38\n",
      "39\n",
      "40\n",
      "41\n",
      "42\n",
      "43\n",
      "44\n",
      "45\n",
      "46\n",
      "47\n",
      "48\n",
      "49\n",
      "50\n",
      "51\n",
      "52\n",
      "53\n",
      "54\n",
      "55\n",
      "56\n",
      "57\n",
      "58\n",
      "59\n",
      "60\n",
      "61\n",
      "62\n",
      "63\n",
      "64\n",
      "65\n",
      "66\n",
      "67\n",
      "68\n",
      "69\n",
      "70\n",
      "71\n",
      "72\n",
      "73\n",
      "74\n",
      "75\n",
      "76\n",
      "77\n",
      "78\n",
      "79\n",
      "80\n",
      "81\n",
      "82\n",
      "83\n",
      "84\n",
      "85\n",
      "86\n",
      "87\n",
      "88\n",
      "89\n",
      "90\n",
      "91\n",
      "92\n",
      "93\n",
      "94\n",
      "95\n",
      "96\n",
      "97\n",
      "98\n",
      "99\n",
      "100\n"
     ]
    }
   ],
   "source": [
    "np.random.seed (1)\n",
    "dframe1 = pd.DataFrame(columns=['Accuracy', 'Std_Dev'])\n",
    "for i in range (1,101) :\n",
    "        print(i)\n",
    "        dataset = df.groupby('APPRDX').apply(lambda x: x.sample(30))\n",
    "        X = dataset.iloc[:, 1:].values\n",
    "        y = dataset.iloc[:, 0].values\n",
    "        classifier = RandomForestClassifier(n_estimators = 100, criterion = 'entropy', random_state = 1)\n",
    "        cv = RepeatedStratifiedKFold(n_splits=10, n_repeats=1, random_state=1)\n",
    "        n_scores = cross_val_score(classifier, X, y, scoring='accuracy', cv=cv, n_jobs=-1, error_score='raise')\n",
    "        dframe1 = dframe1.append({'Accuracy': mean(n_scores), 'Std_Dev': std(n_scores)}, ignore_index=True)\n"
   ]
  },
  {
   "cell_type": "code",
   "execution_count": 4,
   "metadata": {
    "ExecuteTime": {
     "end_time": "2023-01-14T14:12:35.368311Z",
     "start_time": "2023-01-14T14:12:35.311567Z"
    },
    "scrolled": true
   },
   "outputs": [
    {
     "name": "stdout",
     "output_type": "stream",
     "text": [
      "   Accuracy   Std_Dev\n",
      "0  0.333333  0.149071\n",
      "1  0.333333  0.298142\n"
     ]
    }
   ],
   "source": [
    "print(dframe1.head(2))\n",
    "dframe1.to_csv (\"Hopkins_allCpG_Male_Accuracy_100RF.csv\", index=False)"
   ]
  },
  {
   "cell_type": "markdown",
   "metadata": {},
   "source": [
    "# Random 10 "
   ]
  },
  {
   "cell_type": "code",
   "execution_count": 3,
   "metadata": {
    "ExecuteTime": {
     "end_time": "2023-01-14T14:22:26.754259Z",
     "start_time": "2023-01-14T14:22:26.748191Z"
    }
   },
   "outputs": [],
   "source": [
    "df1 = df.drop (['APPRDX'], axis=1)"
   ]
  },
  {
   "cell_type": "code",
   "execution_count": 6,
   "metadata": {
    "ExecuteTime": {
     "end_time": "2023-01-14T14:13:54.248206Z",
     "start_time": "2023-01-14T14:12:59.448261Z"
    }
   },
   "outputs": [
    {
     "name": "stdout",
     "output_type": "stream",
     "text": [
      "1\n",
      "2\n",
      "3\n",
      "4\n",
      "5\n",
      "6\n",
      "7\n",
      "8\n",
      "9\n",
      "10\n",
      "11\n",
      "12\n",
      "13\n",
      "14\n",
      "15\n",
      "16\n",
      "17\n",
      "18\n",
      "19\n",
      "20\n",
      "21\n",
      "22\n",
      "23\n",
      "24\n",
      "25\n",
      "26\n",
      "27\n",
      "28\n",
      "29\n",
      "30\n",
      "31\n",
      "32\n",
      "33\n",
      "34\n",
      "35\n",
      "36\n",
      "37\n",
      "38\n",
      "39\n",
      "40\n",
      "41\n",
      "42\n",
      "43\n",
      "44\n",
      "45\n",
      "46\n",
      "47\n",
      "48\n",
      "49\n",
      "50\n",
      "51\n",
      "52\n",
      "53\n",
      "54\n",
      "55\n",
      "56\n",
      "57\n",
      "58\n",
      "59\n",
      "60\n",
      "61\n",
      "62\n",
      "63\n",
      "64\n",
      "65\n",
      "66\n",
      "67\n",
      "68\n",
      "69\n",
      "70\n",
      "71\n",
      "72\n",
      "73\n",
      "74\n",
      "75\n",
      "76\n",
      "77\n",
      "78\n",
      "79\n",
      "80\n",
      "81\n",
      "82\n",
      "83\n",
      "84\n",
      "85\n",
      "86\n",
      "87\n",
      "88\n",
      "89\n",
      "90\n",
      "91\n",
      "92\n",
      "93\n",
      "94\n",
      "95\n",
      "96\n",
      "97\n",
      "98\n",
      "99\n",
      "100\n"
     ]
    }
   ],
   "source": [
    "np.random.seed (1)\n",
    "dframe1 = pd.DataFrame(columns=['Accuracy', 'Std_Dev'])\n",
    "for i in range (1,101) :\n",
    "        print(i)\n",
    "        df3 = df1.sample(10, axis=1)\n",
    "        df3 = df3.reindex(['APPRDX', *df3.columns], axis=1).assign(APPRDX=df['APPRDX'])\n",
    "        dataset = df3.groupby('APPRDX').apply(lambda x: x.sample(30))\n",
    "        X = dataset.iloc[:, 1:].values\n",
    "        y = dataset.iloc[:, 0].values\n",
    "        classifier = RandomForestClassifier(n_estimators = 100, criterion = 'entropy', random_state = 1)\n",
    "        cv = RepeatedStratifiedKFold(n_splits=10, n_repeats=1, random_state=1)\n",
    "        n_scores = cross_val_score(classifier, X, y, scoring='accuracy', cv=cv, n_jobs=-1, error_score='raise')\n",
    "        dframe1 = dframe1.append({'Accuracy': mean(n_scores), 'Std_Dev': std(n_scores)}, ignore_index=True)\n"
   ]
  },
  {
   "cell_type": "code",
   "execution_count": 7,
   "metadata": {
    "ExecuteTime": {
     "end_time": "2023-01-14T14:13:54.948329Z",
     "start_time": "2023-01-14T14:13:54.928216Z"
    }
   },
   "outputs": [
    {
     "name": "stdout",
     "output_type": "stream",
     "text": [
      "   Accuracy   Std_Dev\n",
      "0  0.533333  0.145297\n",
      "1  0.566667  0.213437\n",
      "2  0.433333  0.290593\n"
     ]
    }
   ],
   "source": [
    "print(dframe1.head(3))\n",
    "dframe1.to_csv (\"Hopkins_Random_CpG10_Accuracy_1000RF.csv\")"
   ]
  },
  {
   "cell_type": "markdown",
   "metadata": {},
   "source": [
    "# Random 50 "
   ]
  },
  {
   "cell_type": "code",
   "execution_count": 4,
   "metadata": {
    "ExecuteTime": {
     "end_time": "2023-01-14T14:23:59.942737Z",
     "start_time": "2023-01-14T14:22:30.768028Z"
    }
   },
   "outputs": [
    {
     "name": "stdout",
     "output_type": "stream",
     "text": [
      "1\n",
      "2\n",
      "3\n",
      "4\n",
      "5\n",
      "6\n",
      "7\n",
      "8\n",
      "9\n",
      "10\n",
      "11\n",
      "12\n",
      "13\n",
      "14\n",
      "15\n",
      "16\n",
      "17\n",
      "18\n",
      "19\n",
      "20\n",
      "21\n",
      "22\n",
      "23\n",
      "24\n",
      "25\n",
      "26\n",
      "27\n",
      "28\n",
      "29\n",
      "30\n",
      "31\n",
      "32\n",
      "33\n",
      "34\n",
      "35\n",
      "36\n",
      "37\n",
      "38\n",
      "39\n",
      "40\n",
      "41\n",
      "42\n",
      "43\n",
      "44\n",
      "45\n",
      "46\n",
      "47\n",
      "48\n",
      "49\n",
      "50\n",
      "51\n",
      "52\n",
      "53\n",
      "54\n",
      "55\n",
      "56\n",
      "57\n",
      "58\n",
      "59\n",
      "60\n",
      "61\n",
      "62\n",
      "63\n",
      "64\n",
      "65\n",
      "66\n",
      "67\n",
      "68\n",
      "69\n",
      "70\n",
      "71\n",
      "72\n",
      "73\n",
      "74\n",
      "75\n",
      "76\n",
      "77\n",
      "78\n",
      "79\n",
      "80\n",
      "81\n",
      "82\n",
      "83\n",
      "84\n",
      "85\n",
      "86\n",
      "87\n",
      "88\n",
      "89\n",
      "90\n",
      "91\n",
      "92\n",
      "93\n",
      "94\n",
      "95\n",
      "96\n",
      "97\n",
      "98\n",
      "99\n",
      "100\n"
     ]
    }
   ],
   "source": [
    "np.random.seed (1)\n",
    "dframe1 = pd.DataFrame(columns=['Accuracy', 'Std_Dev'])\n",
    "for i in range (1,101) :\n",
    "        print(i)\n",
    "        df3 = df1.sample(50, axis=1)\n",
    "        df3 = df3.reindex(['APPRDX', *df3.columns], axis=1).assign(APPRDX=df['APPRDX'])\n",
    "        dataset = df3.groupby('APPRDX').apply(lambda x: x.sample(30))\n",
    "        X = dataset.iloc[:, 1:].values\n",
    "        y = dataset.iloc[:, 0].values\n",
    "        classifier = RandomForestClassifier(n_estimators = 100, criterion = 'entropy', random_state = 1)\n",
    "        cv = RepeatedStratifiedKFold(n_splits=10, n_repeats=1, random_state=1)\n",
    "        n_scores = cross_val_score(classifier, X, y, scoring='accuracy', cv=cv, n_jobs=-1, error_score='raise')\n",
    "        dframe1 = dframe1.append({'Accuracy': mean(n_scores), 'Std_Dev': std(n_scores)}, ignore_index=True)\n"
   ]
  },
  {
   "cell_type": "code",
   "execution_count": 5,
   "metadata": {
    "ExecuteTime": {
     "end_time": "2023-01-14T14:24:00.338311Z",
     "start_time": "2023-01-14T14:24:00.307523Z"
    }
   },
   "outputs": [
    {
     "name": "stdout",
     "output_type": "stream",
     "text": [
      "   Accuracy   Std_Dev\n",
      "0  0.616667  0.183333\n",
      "1  0.433333  0.238048\n",
      "2  0.416667  0.226691\n"
     ]
    }
   ],
   "source": [
    "print(dframe1.head(3))\n",
    "dframe1.to_csv (\"Hopkins_Random_CpG50_Accuracy_1000RF.csv\", index= False)"
   ]
  },
  {
   "cell_type": "code",
   "execution_count": null,
   "metadata": {},
   "outputs": [],
   "source": []
  }
 ],
 "metadata": {
  "colab": {
   "authorship_tag": "ABX9TyPA7K2PAkEFgaKFIvslUMEc",
   "collapsed_sections": [],
   "machine_shape": "hm",
   "name": "random_forest_classification.ipynb",
   "provenance": [],
   "toc_visible": true
  },
  "kernelspec": {
   "display_name": "Python 3 (ipykernel)",
   "language": "python",
   "name": "python3"
  },
  "language_info": {
   "codemirror_mode": {
    "name": "ipython",
    "version": 3
   },
   "file_extension": ".py",
   "mimetype": "text/x-python",
   "name": "python",
   "nbconvert_exporter": "python",
   "pygments_lexer": "ipython3",
   "version": "3.9.7"
  },
  "toc": {
   "base_numbering": 1,
   "nav_menu": {},
   "number_sections": true,
   "sideBar": true,
   "skip_h1_title": false,
   "title_cell": "Table of Contents",
   "title_sidebar": "Contents",
   "toc_cell": false,
   "toc_position": {},
   "toc_section_display": true,
   "toc_window_display": false
  },
  "varInspector": {
   "cols": {
    "lenName": 16,
    "lenType": 16,
    "lenVar": 40
   },
   "kernels_config": {
    "python": {
     "delete_cmd_postfix": "",
     "delete_cmd_prefix": "del ",
     "library": "var_list.py",
     "varRefreshCmd": "print(var_dic_list())"
    },
    "r": {
     "delete_cmd_postfix": ") ",
     "delete_cmd_prefix": "rm(",
     "library": "var_list.r",
     "varRefreshCmd": "cat(var_dic_list()) "
    }
   },
   "types_to_exclude": [
    "module",
    "function",
    "builtin_function_or_method",
    "instance",
    "_Feature"
   ],
   "window_display": false
  }
 },
 "nbformat": 4,
 "nbformat_minor": 1
}
