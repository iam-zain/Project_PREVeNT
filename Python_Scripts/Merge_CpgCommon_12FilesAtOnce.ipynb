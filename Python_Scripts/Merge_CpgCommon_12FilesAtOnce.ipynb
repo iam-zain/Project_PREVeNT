{
 "cells": [
  {
   "cell_type": "code",
   "execution_count": 1,
   "id": "19e8148d",
   "metadata": {
    "ExecuteTime": {
     "end_time": "2023-01-14T11:44:22.795240Z",
     "start_time": "2023-01-14T11:44:22.394180Z"
    }
   },
   "outputs": [
    {
     "name": "stdout",
     "output_type": "stream",
     "text": [
      "Z:\\PPMI_Data\\Excels\\NonMotors\\Derived250\\GeneCpG\\Xtras\\CommonCpG_Data_12CommonFeats\n"
     ]
    }
   ],
   "source": [
    "import pandas as pd\n",
    "from functools import reduce\n",
    "%cd Z:\\PPMI_Data\\Excels\\NonMotors\\Derived250\\GeneCpG\\Xtras\\CommonCpG_Data_12CommonFeats"
   ]
  },
  {
   "cell_type": "code",
   "execution_count": 2,
   "id": "a19b7618",
   "metadata": {
    "ExecuteTime": {
     "end_time": "2023-01-14T11:44:23.249737Z",
     "start_time": "2023-01-14T11:44:23.234103Z"
    }
   },
   "outputs": [],
   "source": [
    "files = ['Common 4_Cognition.csv','Common1_Gastro_Data.csv','Common2_SymbDigi.csv','Common4_LetterNumber_Data.csv',\n",
    "         'Common5_Fatigue.csv','Common5_Lexical_Data.csv','Common6_Depression.csv','Common6_TrailMakeB_Data.csv',\n",
    "         'Common8_Constipation.csv','Common10_Apathy_Data.csv','Common10_UPSIT.csv']\n",
    "# Loading all the files at once"
   ]
  },
  {
   "cell_type": "code",
   "execution_count": 3,
   "id": "d4adec7a",
   "metadata": {
    "ExecuteTime": {
     "end_time": "2023-01-14T11:44:25.371968Z",
     "start_time": "2023-01-14T11:44:24.829646Z"
    }
   },
   "outputs": [
    {
     "name": "stdout",
     "output_type": "stream",
     "text": [
      "(216, 73)\n"
     ]
    },
    {
     "name": "stderr",
     "output_type": "stream",
     "text": [
      "C:\\ProgramData\\Anaconda3\\lib\\site-packages\\pandas\\core\\frame.py:9190: FutureWarning: Passing 'suffixes' which cause duplicate columns {'APPRDX_x'} in the result is deprecated and will raise a MergeError in a future version.\n",
      "  return merge(\n",
      "C:\\ProgramData\\Anaconda3\\lib\\site-packages\\pandas\\core\\frame.py:9190: FutureWarning: Passing 'suffixes' which cause duplicate columns {'cg12298429_x'} in the result is deprecated and will raise a MergeError in a future version.\n",
      "  return merge(\n"
     ]
    },
    {
     "data": {
      "text/html": [
       "<div>\n",
       "<style scoped>\n",
       "    .dataframe tbody tr th:only-of-type {\n",
       "        vertical-align: middle;\n",
       "    }\n",
       "\n",
       "    .dataframe tbody tr th {\n",
       "        vertical-align: top;\n",
       "    }\n",
       "\n",
       "    .dataframe thead th {\n",
       "        text-align: right;\n",
       "    }\n",
       "</style>\n",
       "<table border=\"1\" class=\"dataframe\">\n",
       "  <thead>\n",
       "    <tr style=\"text-align: right;\">\n",
       "      <th></th>\n",
       "      <th>PATNO</th>\n",
       "      <th>APPRDX_x</th>\n",
       "      <th>cg00377727</th>\n",
       "      <th>cg19371224</th>\n",
       "      <th>cg12298429_x</th>\n",
       "      <th>cg12600134_x</th>\n",
       "      <th>APPRDX_y</th>\n",
       "      <th>cg21921473</th>\n",
       "      <th>APPRDX_x</th>\n",
       "      <th>cg06257360</th>\n",
       "      <th>...</th>\n",
       "      <th>cg05142211</th>\n",
       "      <th>cg13959611</th>\n",
       "      <th>cg04875789</th>\n",
       "      <th>cg03682895</th>\n",
       "      <th>cg18322516</th>\n",
       "      <th>cg24215869</th>\n",
       "      <th>cg03827764</th>\n",
       "      <th>cg24628866</th>\n",
       "      <th>cg10061292</th>\n",
       "      <th>cg00260798</th>\n",
       "    </tr>\n",
       "  </thead>\n",
       "  <tbody>\n",
       "    <tr>\n",
       "      <th>0</th>\n",
       "      <td>3001</td>\n",
       "      <td>1</td>\n",
       "      <td>0.9233</td>\n",
       "      <td>0.7516</td>\n",
       "      <td>0.0328</td>\n",
       "      <td>0.0253</td>\n",
       "      <td>1</td>\n",
       "      <td>0.832439</td>\n",
       "      <td>1</td>\n",
       "      <td>0.9000</td>\n",
       "      <td>...</td>\n",
       "      <td>0.035018</td>\n",
       "      <td>0.044262</td>\n",
       "      <td>0.042940</td>\n",
       "      <td>0.902725</td>\n",
       "      <td>0.930379</td>\n",
       "      <td>0.345836</td>\n",
       "      <td>0.918298</td>\n",
       "      <td>0.918421</td>\n",
       "      <td>0.013281</td>\n",
       "      <td>0.885679</td>\n",
       "    </tr>\n",
       "    <tr>\n",
       "      <th>1</th>\n",
       "      <td>3010</td>\n",
       "      <td>1</td>\n",
       "      <td>0.6787</td>\n",
       "      <td>0.8603</td>\n",
       "      <td>0.0335</td>\n",
       "      <td>0.0165</td>\n",
       "      <td>1</td>\n",
       "      <td>0.687594</td>\n",
       "      <td>1</td>\n",
       "      <td>0.9264</td>\n",
       "      <td>...</td>\n",
       "      <td>0.019257</td>\n",
       "      <td>0.046769</td>\n",
       "      <td>0.021087</td>\n",
       "      <td>0.905745</td>\n",
       "      <td>0.932127</td>\n",
       "      <td>0.274905</td>\n",
       "      <td>0.930904</td>\n",
       "      <td>0.909054</td>\n",
       "      <td>0.012895</td>\n",
       "      <td>0.903372</td>\n",
       "    </tr>\n",
       "  </tbody>\n",
       "</table>\n",
       "<p>2 rows × 73 columns</p>\n",
       "</div>"
      ],
      "text/plain": [
       "   PATNO  APPRDX_x  cg00377727  cg19371224  cg12298429_x  cg12600134_x  \\\n",
       "0   3001         1      0.9233      0.7516        0.0328        0.0253   \n",
       "1   3010         1      0.6787      0.8603        0.0335        0.0165   \n",
       "\n",
       "   APPRDX_y  cg21921473  APPRDX_x  cg06257360  ...  cg05142211  cg13959611  \\\n",
       "0         1    0.832439         1      0.9000  ...    0.035018    0.044262   \n",
       "1         1    0.687594         1      0.9264  ...    0.019257    0.046769   \n",
       "\n",
       "   cg04875789  cg03682895  cg18322516  cg24215869  cg03827764  cg24628866  \\\n",
       "0    0.042940    0.902725    0.930379    0.345836    0.918298    0.918421   \n",
       "1    0.021087    0.905745    0.932127    0.274905    0.930904    0.909054   \n",
       "\n",
       "   cg10061292  cg00260798  \n",
       "0    0.013281    0.885679  \n",
       "1    0.012895    0.903372  \n",
       "\n",
       "[2 rows x 73 columns]"
      ]
     },
     "execution_count": 3,
     "metadata": {},
     "output_type": "execute_result"
    }
   ],
   "source": [
    "df = reduce(lambda l,r: l.merge(r, on='PATNO'), [pd.read_csv(f) for f in files])\n",
    "# The above command merge all the files having one common column\n",
    "print(df.shape)\n",
    "df.head(2)"
   ]
  },
  {
   "cell_type": "code",
   "execution_count": 4,
   "id": "821d2ed5",
   "metadata": {
    "ExecuteTime": {
     "end_time": "2023-01-14T11:44:34.011492Z",
     "start_time": "2023-01-14T11:44:33.980178Z"
    }
   },
   "outputs": [],
   "source": [
    "df.to_csv('CommonCpG_ofEachFeats.csv', index = False)"
   ]
  }
 ],
 "metadata": {
  "kernelspec": {
   "display_name": "Python 3 (ipykernel)",
   "language": "python",
   "name": "python3"
  },
  "language_info": {
   "codemirror_mode": {
    "name": "ipython",
    "version": 3
   },
   "file_extension": ".py",
   "mimetype": "text/x-python",
   "name": "python",
   "nbconvert_exporter": "python",
   "pygments_lexer": "ipython3",
   "version": "3.9.7"
  },
  "toc": {
   "base_numbering": 1,
   "nav_menu": {},
   "number_sections": true,
   "sideBar": true,
   "skip_h1_title": false,
   "title_cell": "Table of Contents",
   "title_sidebar": "Contents",
   "toc_cell": false,
   "toc_position": {},
   "toc_section_display": true,
   "toc_window_display": false
  },
  "varInspector": {
   "cols": {
    "lenName": 16,
    "lenType": 16,
    "lenVar": 40
   },
   "kernels_config": {
    "python": {
     "delete_cmd_postfix": "",
     "delete_cmd_prefix": "del ",
     "library": "var_list.py",
     "varRefreshCmd": "print(var_dic_list())"
    },
    "r": {
     "delete_cmd_postfix": ") ",
     "delete_cmd_prefix": "rm(",
     "library": "var_list.r",
     "varRefreshCmd": "cat(var_dic_list()) "
    }
   },
   "types_to_exclude": [
    "module",
    "function",
    "builtin_function_or_method",
    "instance",
    "_Feature"
   ],
   "window_display": false
  }
 },
 "nbformat": 4,
 "nbformat_minor": 5
}
