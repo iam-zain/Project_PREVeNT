{
 "cells": [
  {
   "cell_type": "code",
   "execution_count": 1,
   "id": "19e8148d",
   "metadata": {
    "ExecuteTime": {
     "end_time": "2023-01-15T08:12:00.348309Z",
     "start_time": "2023-01-15T08:11:59.815749Z"
    }
   },
   "outputs": [
    {
     "name": "stdout",
     "output_type": "stream",
     "text": [
      "Z:\\PPMI_Data\\Excels\\NonMotors\\Derived250\\Female\\GeneCpG\\Xtras\n"
     ]
    }
   ],
   "source": [
    "import pandas as pd\n",
    "from functools import reduce\n",
    "%cd Z:\\PPMI_Data\\Excels\\NonMotors\\Derived250\\Female\\GeneCpG\\Xtras"
   ]
  },
  {
   "cell_type": "code",
   "execution_count": 2,
   "id": "a19b7618",
   "metadata": {
    "ExecuteTime": {
     "end_time": "2023-01-15T08:12:00.363937Z",
     "start_time": "2023-01-15T08:12:00.348309Z"
    }
   },
   "outputs": [],
   "source": [
    "files = ['Common_Cognition_CpG_Female.csv','Common_Constipation_CpG_Female.csv','Common_Gastro_CpG_Female.csv',\n",
    "         'Common_Pain_CpG_Female.csv','Common_UPSIT_CpG_Female.csv','Common_Urine_CpG_Female.csv',\n",
    "         'Common9_STAIS_Data_Female.csv','Common15_LexicalFluency_Data_Female.csv']\n",
    "# Loading all the files at once"
   ]
  },
  {
   "cell_type": "code",
   "execution_count": 3,
   "id": "d4adec7a",
   "metadata": {
    "ExecuteTime": {
     "end_time": "2023-01-15T08:12:00.495454Z",
     "start_time": "2023-01-15T08:12:00.363937Z"
    }
   },
   "outputs": [
    {
     "name": "stdout",
     "output_type": "stream",
     "text": [
      "(73, 71)\n"
     ]
    },
    {
     "data": {
      "text/html": [
       "<div>\n",
       "<style scoped>\n",
       "    .dataframe tbody tr th:only-of-type {\n",
       "        vertical-align: middle;\n",
       "    }\n",
       "\n",
       "    .dataframe tbody tr th {\n",
       "        vertical-align: top;\n",
       "    }\n",
       "\n",
       "    .dataframe thead th {\n",
       "        text-align: right;\n",
       "    }\n",
       "</style>\n",
       "<table border=\"1\" class=\"dataframe\">\n",
       "  <thead>\n",
       "    <tr style=\"text-align: right;\">\n",
       "      <th></th>\n",
       "      <th>PATNO</th>\n",
       "      <th>cg02992048</th>\n",
       "      <th>cg14587401</th>\n",
       "      <th>cg26950867_x</th>\n",
       "      <th>cg23446297_x</th>\n",
       "      <th>cg24926711_x</th>\n",
       "      <th>cg24305835</th>\n",
       "      <th>cg19930203</th>\n",
       "      <th>cg12103037_x</th>\n",
       "      <th>cg05896001_x</th>\n",
       "      <th>...</th>\n",
       "      <th>cg06480636</th>\n",
       "      <th>cg06632027</th>\n",
       "      <th>cg07433663</th>\n",
       "      <th>cg10253929</th>\n",
       "      <th>cg10769891</th>\n",
       "      <th>cg17990657</th>\n",
       "      <th>cg18795825</th>\n",
       "      <th>cg21088420</th>\n",
       "      <th>cg25158734</th>\n",
       "      <th>cg26632873</th>\n",
       "    </tr>\n",
       "  </thead>\n",
       "  <tbody>\n",
       "    <tr>\n",
       "      <th>0</th>\n",
       "      <td>3000</td>\n",
       "      <td>0.896164</td>\n",
       "      <td>0.040657</td>\n",
       "      <td>0.780498</td>\n",
       "      <td>0.052424</td>\n",
       "      <td>0.165702</td>\n",
       "      <td>0.036573</td>\n",
       "      <td>0.826955</td>\n",
       "      <td>0.076198</td>\n",
       "      <td>0.795810</td>\n",
       "      <td>...</td>\n",
       "      <td>0.629698</td>\n",
       "      <td>0.043348</td>\n",
       "      <td>0.088087</td>\n",
       "      <td>0.027381</td>\n",
       "      <td>0.031391</td>\n",
       "      <td>0.572508</td>\n",
       "      <td>0.025923</td>\n",
       "      <td>0.159974</td>\n",
       "      <td>0.282774</td>\n",
       "      <td>0.011142</td>\n",
       "    </tr>\n",
       "    <tr>\n",
       "      <th>1</th>\n",
       "      <td>3008</td>\n",
       "      <td>0.879386</td>\n",
       "      <td>0.038382</td>\n",
       "      <td>0.564284</td>\n",
       "      <td>0.035295</td>\n",
       "      <td>0.175988</td>\n",
       "      <td>0.036154</td>\n",
       "      <td>0.848004</td>\n",
       "      <td>0.054586</td>\n",
       "      <td>0.720987</td>\n",
       "      <td>...</td>\n",
       "      <td>0.696529</td>\n",
       "      <td>0.053420</td>\n",
       "      <td>0.082437</td>\n",
       "      <td>0.027822</td>\n",
       "      <td>0.012061</td>\n",
       "      <td>0.542720</td>\n",
       "      <td>0.023565</td>\n",
       "      <td>0.126312</td>\n",
       "      <td>0.212181</td>\n",
       "      <td>0.009994</td>\n",
       "    </tr>\n",
       "  </tbody>\n",
       "</table>\n",
       "<p>2 rows × 71 columns</p>\n",
       "</div>"
      ],
      "text/plain": [
       "   PATNO  cg02992048  cg14587401  cg26950867_x  cg23446297_x  cg24926711_x  \\\n",
       "0   3000    0.896164    0.040657      0.780498      0.052424      0.165702   \n",
       "1   3008    0.879386    0.038382      0.564284      0.035295      0.175988   \n",
       "\n",
       "   cg24305835  cg19930203  cg12103037_x  cg05896001_x  ...  cg06480636  \\\n",
       "0    0.036573    0.826955      0.076198      0.795810  ...    0.629698   \n",
       "1    0.036154    0.848004      0.054586      0.720987  ...    0.696529   \n",
       "\n",
       "   cg06632027  cg07433663  cg10253929  cg10769891  cg17990657  cg18795825  \\\n",
       "0    0.043348    0.088087    0.027381    0.031391    0.572508    0.025923   \n",
       "1    0.053420    0.082437    0.027822    0.012061    0.542720    0.023565   \n",
       "\n",
       "   cg21088420  cg25158734  cg26632873  \n",
       "0    0.159974    0.282774    0.011142  \n",
       "1    0.126312    0.212181    0.009994  \n",
       "\n",
       "[2 rows x 71 columns]"
      ]
     },
     "execution_count": 3,
     "metadata": {},
     "output_type": "execute_result"
    }
   ],
   "source": [
    "df = reduce(lambda l,r: l.merge(r, on='PATNO'), [pd.read_csv(f) for f in files])\n",
    "# The above command merge all the files having one common column\n",
    "print(df.shape)\n",
    "df.head(2)"
   ]
  },
  {
   "cell_type": "code",
   "execution_count": 4,
   "id": "821d2ed5",
   "metadata": {
    "ExecuteTime": {
     "end_time": "2023-01-15T08:12:00.548886Z",
     "start_time": "2023-01-15T08:12:00.495454Z"
    }
   },
   "outputs": [],
   "source": [
    "df.to_csv('CommonCpG_ofEachFeats_Female.csv', index = False)"
   ]
  },
  {
   "cell_type": "code",
   "execution_count": null,
   "id": "c5ea9621",
   "metadata": {},
   "outputs": [],
   "source": []
  }
 ],
 "metadata": {
  "kernelspec": {
   "display_name": "Python 3 (ipykernel)",
   "language": "python",
   "name": "python3"
  },
  "language_info": {
   "codemirror_mode": {
    "name": "ipython",
    "version": 3
   },
   "file_extension": ".py",
   "mimetype": "text/x-python",
   "name": "python",
   "nbconvert_exporter": "python",
   "pygments_lexer": "ipython3",
   "version": "3.9.7"
  },
  "toc": {
   "base_numbering": 1,
   "nav_menu": {},
   "number_sections": true,
   "sideBar": true,
   "skip_h1_title": false,
   "title_cell": "Table of Contents",
   "title_sidebar": "Contents",
   "toc_cell": false,
   "toc_position": {},
   "toc_section_display": true,
   "toc_window_display": false
  },
  "varInspector": {
   "cols": {
    "lenName": 16,
    "lenType": 16,
    "lenVar": 40
   },
   "kernels_config": {
    "python": {
     "delete_cmd_postfix": "",
     "delete_cmd_prefix": "del ",
     "library": "var_list.py",
     "varRefreshCmd": "print(var_dic_list())"
    },
    "r": {
     "delete_cmd_postfix": ") ",
     "delete_cmd_prefix": "rm(",
     "library": "var_list.r",
     "varRefreshCmd": "cat(var_dic_list()) "
    }
   },
   "types_to_exclude": [
    "module",
    "function",
    "builtin_function_or_method",
    "instance",
    "_Feature"
   ],
   "window_display": false
  }
 },
 "nbformat": 4,
 "nbformat_minor": 5
}
