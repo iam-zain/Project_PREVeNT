{
 "cells": [
  {
   "cell_type": "code",
   "execution_count": 1,
   "id": "227733c0",
   "metadata": {
    "ExecuteTime": {
     "end_time": "2023-01-15T05:05:56.229198Z",
     "start_time": "2023-01-15T05:04:02.681615Z"
    },
    "run_control": {
     "marked": false
    }
   },
   "outputs": [
    {
     "name": "stdout",
     "output_type": "stream",
     "text": [
      "Z:\\PPMI_Data\\Excels\\NonMotors\\Derived250\\Female\\GeneCpG\\LexicalFluency\n",
      "(233, 85923)\n"
     ]
    },
    {
     "data": {
      "text/html": [
       "<div>\n",
       "<style scoped>\n",
       "    .dataframe tbody tr th:only-of-type {\n",
       "        vertical-align: middle;\n",
       "    }\n",
       "\n",
       "    .dataframe tbody tr th {\n",
       "        vertical-align: top;\n",
       "    }\n",
       "\n",
       "    .dataframe thead th {\n",
       "        text-align: right;\n",
       "    }\n",
       "</style>\n",
       "<table border=\"1\" class=\"dataframe\">\n",
       "  <thead>\n",
       "    <tr style=\"text-align: right;\">\n",
       "      <th></th>\n",
       "      <th>Sentrix</th>\n",
       "      <th>PATNO</th>\n",
       "      <th>Gender</th>\n",
       "      <th>APPRDX</th>\n",
       "      <th>HYS</th>\n",
       "      <th>Age</th>\n",
       "      <th>AgeCate</th>\n",
       "      <th>Lexical_Fluency_Category</th>\n",
       "      <th>cg02315971</th>\n",
       "      <th>cg24133836</th>\n",
       "      <th>...</th>\n",
       "      <th>cg12092065</th>\n",
       "      <th>cg10388349</th>\n",
       "      <th>cg11918957</th>\n",
       "      <th>cg26583598</th>\n",
       "      <th>cg11023075</th>\n",
       "      <th>cg02097667</th>\n",
       "      <th>cg21616723</th>\n",
       "      <th>cg27335855</th>\n",
       "      <th>cg18259253</th>\n",
       "      <th>cg15404040</th>\n",
       "    </tr>\n",
       "  </thead>\n",
       "  <tbody>\n",
       "    <tr>\n",
       "      <th>0</th>\n",
       "      <td>200973410159_R03C01</td>\n",
       "      <td>3000</td>\n",
       "      <td>2</td>\n",
       "      <td>2</td>\n",
       "      <td>0</td>\n",
       "      <td>69.1</td>\n",
       "      <td>4</td>\n",
       "      <td>1</td>\n",
       "      <td>0.030109</td>\n",
       "      <td>0.016106</td>\n",
       "      <td>...</td>\n",
       "      <td>0.953091</td>\n",
       "      <td>0.392056</td>\n",
       "      <td>0.913402</td>\n",
       "      <td>0.913637</td>\n",
       "      <td>0.897198</td>\n",
       "      <td>0.871237</td>\n",
       "      <td>0.913624</td>\n",
       "      <td>0.651860</td>\n",
       "      <td>0.852542</td>\n",
       "      <td>0.909412</td>\n",
       "    </tr>\n",
       "    <tr>\n",
       "      <th>1</th>\n",
       "      <td>200991620021_R01C01</td>\n",
       "      <td>3001</td>\n",
       "      <td>1</td>\n",
       "      <td>1</td>\n",
       "      <td>2</td>\n",
       "      <td>65.1</td>\n",
       "      <td>4</td>\n",
       "      <td>0</td>\n",
       "      <td>0.028697</td>\n",
       "      <td>0.017000</td>\n",
       "      <td>...</td>\n",
       "      <td>0.924513</td>\n",
       "      <td>0.370289</td>\n",
       "      <td>0.902610</td>\n",
       "      <td>0.914253</td>\n",
       "      <td>0.881206</td>\n",
       "      <td>0.834363</td>\n",
       "      <td>0.912120</td>\n",
       "      <td>0.692530</td>\n",
       "      <td>0.839574</td>\n",
       "      <td>0.867794</td>\n",
       "    </tr>\n",
       "    <tr>\n",
       "      <th>2</th>\n",
       "      <td>200991620021_R03C01</td>\n",
       "      <td>3002</td>\n",
       "      <td>2</td>\n",
       "      <td>1</td>\n",
       "      <td>2</td>\n",
       "      <td>67.6</td>\n",
       "      <td>4</td>\n",
       "      <td>1</td>\n",
       "      <td>0.025308</td>\n",
       "      <td>0.017806</td>\n",
       "      <td>...</td>\n",
       "      <td>0.921575</td>\n",
       "      <td>0.416247</td>\n",
       "      <td>0.864819</td>\n",
       "      <td>0.942005</td>\n",
       "      <td>0.907732</td>\n",
       "      <td>0.869391</td>\n",
       "      <td>0.907648</td>\n",
       "      <td>0.834695</td>\n",
       "      <td>0.842573</td>\n",
       "      <td>0.917446</td>\n",
       "    </tr>\n",
       "  </tbody>\n",
       "</table>\n",
       "<p>3 rows × 85923 columns</p>\n",
       "</div>"
      ],
      "text/plain": [
       "               Sentrix  PATNO  Gender  APPRDX  HYS   Age  AgeCate  \\\n",
       "0  200973410159_R03C01   3000       2       2    0  69.1        4   \n",
       "1  200991620021_R01C01   3001       1       1    2  65.1        4   \n",
       "2  200991620021_R03C01   3002       2       1    2  67.6        4   \n",
       "\n",
       "   Lexical_Fluency_Category  cg02315971  cg24133836  ...  cg12092065  \\\n",
       "0                         1    0.030109    0.016106  ...    0.953091   \n",
       "1                         0    0.028697    0.017000  ...    0.924513   \n",
       "2                         1    0.025308    0.017806  ...    0.921575   \n",
       "\n",
       "   cg10388349  cg11918957  cg26583598  cg11023075  cg02097667  cg21616723  \\\n",
       "0    0.392056    0.913402    0.913637    0.897198    0.871237    0.913624   \n",
       "1    0.370289    0.902610    0.914253    0.881206    0.834363    0.912120   \n",
       "2    0.416247    0.864819    0.942005    0.907732    0.869391    0.907648   \n",
       "\n",
       "   cg27335855  cg18259253  cg15404040  \n",
       "0    0.651860    0.852542    0.909412  \n",
       "1    0.692530    0.839574    0.867794  \n",
       "2    0.834695    0.842573    0.917446  \n",
       "\n",
       "[3 rows x 85923 columns]"
      ]
     },
     "execution_count": 1,
     "metadata": {},
     "output_type": "execute_result"
    }
   ],
   "source": [
    "import pandas as pd\n",
    "import numpy as np\n",
    "%cd Z:\\PPMI_Data\\Excels\\NonMotors\\Derived250\\Female\\GeneCpG\\LexicalFluency\n",
    "df1 = pd.read_csv (\"LexicalFluency_with_MethylomeDetails.csv\")\n",
    "print (df1.shape)\n",
    "df1.head(3)"
   ]
  },
  {
   "cell_type": "code",
   "execution_count": 2,
   "id": "e5036d3d",
   "metadata": {
    "ExecuteTime": {
     "end_time": "2023-01-15T05:06:16.054190Z",
     "start_time": "2023-01-15T05:06:15.966056Z"
    }
   },
   "outputs": [
    {
     "name": "stdout",
     "output_type": "stream",
     "text": [
      "(75, 85923)\n"
     ]
    },
    {
     "data": {
      "text/html": [
       "<div>\n",
       "<style scoped>\n",
       "    .dataframe tbody tr th:only-of-type {\n",
       "        vertical-align: middle;\n",
       "    }\n",
       "\n",
       "    .dataframe tbody tr th {\n",
       "        vertical-align: top;\n",
       "    }\n",
       "\n",
       "    .dataframe thead th {\n",
       "        text-align: right;\n",
       "    }\n",
       "</style>\n",
       "<table border=\"1\" class=\"dataframe\">\n",
       "  <thead>\n",
       "    <tr style=\"text-align: right;\">\n",
       "      <th></th>\n",
       "      <th>Sentrix</th>\n",
       "      <th>PATNO</th>\n",
       "      <th>Gender</th>\n",
       "      <th>APPRDX</th>\n",
       "      <th>HYS</th>\n",
       "      <th>Age</th>\n",
       "      <th>AgeCate</th>\n",
       "      <th>Lexical_Fluency_Category</th>\n",
       "      <th>cg02315971</th>\n",
       "      <th>cg24133836</th>\n",
       "      <th>...</th>\n",
       "      <th>cg12092065</th>\n",
       "      <th>cg10388349</th>\n",
       "      <th>cg11918957</th>\n",
       "      <th>cg26583598</th>\n",
       "      <th>cg11023075</th>\n",
       "      <th>cg02097667</th>\n",
       "      <th>cg21616723</th>\n",
       "      <th>cg27335855</th>\n",
       "      <th>cg18259253</th>\n",
       "      <th>cg15404040</th>\n",
       "    </tr>\n",
       "  </thead>\n",
       "  <tbody>\n",
       "    <tr>\n",
       "      <th>0</th>\n",
       "      <td>200973410159_R03C01</td>\n",
       "      <td>3000</td>\n",
       "      <td>2</td>\n",
       "      <td>2</td>\n",
       "      <td>0</td>\n",
       "      <td>69.1</td>\n",
       "      <td>4</td>\n",
       "      <td>1</td>\n",
       "      <td>0.030109</td>\n",
       "      <td>0.016106</td>\n",
       "      <td>...</td>\n",
       "      <td>0.953091</td>\n",
       "      <td>0.392056</td>\n",
       "      <td>0.913402</td>\n",
       "      <td>0.913637</td>\n",
       "      <td>0.897198</td>\n",
       "      <td>0.871237</td>\n",
       "      <td>0.913624</td>\n",
       "      <td>0.651860</td>\n",
       "      <td>0.852542</td>\n",
       "      <td>0.909412</td>\n",
       "    </tr>\n",
       "    <tr>\n",
       "      <th>2</th>\n",
       "      <td>200991620021_R03C01</td>\n",
       "      <td>3002</td>\n",
       "      <td>2</td>\n",
       "      <td>1</td>\n",
       "      <td>2</td>\n",
       "      <td>67.6</td>\n",
       "      <td>4</td>\n",
       "      <td>1</td>\n",
       "      <td>0.025308</td>\n",
       "      <td>0.017806</td>\n",
       "      <td>...</td>\n",
       "      <td>0.921575</td>\n",
       "      <td>0.416247</td>\n",
       "      <td>0.864819</td>\n",
       "      <td>0.942005</td>\n",
       "      <td>0.907732</td>\n",
       "      <td>0.869391</td>\n",
       "      <td>0.907648</td>\n",
       "      <td>0.834695</td>\n",
       "      <td>0.842573</td>\n",
       "      <td>0.917446</td>\n",
       "    </tr>\n",
       "  </tbody>\n",
       "</table>\n",
       "<p>2 rows × 85923 columns</p>\n",
       "</div>"
      ],
      "text/plain": [
       "               Sentrix  PATNO  Gender  APPRDX  HYS   Age  AgeCate  \\\n",
       "0  200973410159_R03C01   3000       2       2    0  69.1        4   \n",
       "2  200991620021_R03C01   3002       2       1    2  67.6        4   \n",
       "\n",
       "   Lexical_Fluency_Category  cg02315971  cg24133836  ...  cg12092065  \\\n",
       "0                         1    0.030109    0.016106  ...    0.953091   \n",
       "2                         1    0.025308    0.017806  ...    0.921575   \n",
       "\n",
       "   cg10388349  cg11918957  cg26583598  cg11023075  cg02097667  cg21616723  \\\n",
       "0    0.392056    0.913402    0.913637    0.897198    0.871237    0.913624   \n",
       "2    0.416247    0.864819    0.942005    0.907732    0.869391    0.907648   \n",
       "\n",
       "   cg27335855  cg18259253  cg15404040  \n",
       "0    0.651860    0.852542    0.909412  \n",
       "2    0.834695    0.842573    0.917446  \n",
       "\n",
       "[2 rows x 85923 columns]"
      ]
     },
     "execution_count": 2,
     "metadata": {},
     "output_type": "execute_result"
    }
   ],
   "source": [
    "df = df1[df1.Gender == 2]\n",
    "print(df.shape)\n",
    "df.head(2)"
   ]
  },
  {
   "cell_type": "code",
   "execution_count": 3,
   "id": "0d4090c8",
   "metadata": {
    "ExecuteTime": {
     "end_time": "2023-01-15T05:06:46.253380Z",
     "start_time": "2023-01-15T05:06:25.353461Z"
    }
   },
   "outputs": [],
   "source": [
    "df.to_csv (\"LexicalFluencyCateg_Methylome_Female.csv\", index = False)"
   ]
  },
  {
   "cell_type": "code",
   "execution_count": null,
   "id": "1d33ac09",
   "metadata": {},
   "outputs": [],
   "source": []
  }
 ],
 "metadata": {
  "kernelspec": {
   "display_name": "Python 3 (ipykernel)",
   "language": "python",
   "name": "python3"
  },
  "language_info": {
   "codemirror_mode": {
    "name": "ipython",
    "version": 3
   },
   "file_extension": ".py",
   "mimetype": "text/x-python",
   "name": "python",
   "nbconvert_exporter": "python",
   "pygments_lexer": "ipython3",
   "version": "3.9.7"
  },
  "toc": {
   "base_numbering": 1,
   "nav_menu": {},
   "number_sections": true,
   "sideBar": true,
   "skip_h1_title": false,
   "title_cell": "Table of Contents",
   "title_sidebar": "Contents",
   "toc_cell": false,
   "toc_position": {},
   "toc_section_display": true,
   "toc_window_display": false
  },
  "varInspector": {
   "cols": {
    "lenName": 16,
    "lenType": 16,
    "lenVar": 40
   },
   "kernels_config": {
    "python": {
     "delete_cmd_postfix": "",
     "delete_cmd_prefix": "del ",
     "library": "var_list.py",
     "varRefreshCmd": "print(var_dic_list())"
    },
    "r": {
     "delete_cmd_postfix": ") ",
     "delete_cmd_prefix": "rm(",
     "library": "var_list.r",
     "varRefreshCmd": "cat(var_dic_list()) "
    }
   },
   "types_to_exclude": [
    "module",
    "function",
    "builtin_function_or_method",
    "instance",
    "_Feature"
   ],
   "window_display": false
  }
 },
 "nbformat": 4,
 "nbformat_minor": 5
}
