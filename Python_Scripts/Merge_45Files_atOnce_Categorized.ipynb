{
 "cells": [
  {
   "cell_type": "code",
   "execution_count": 1,
   "id": "19e8148d",
   "metadata": {
    "ExecuteTime": {
     "end_time": "2023-03-29T06:42:47.524587Z",
     "start_time": "2023-03-29T06:42:46.954221Z"
    }
   },
   "outputs": [],
   "source": [
    "import pandas as pd\n",
    "from functools import reduce"
   ]
  },
  {
   "cell_type": "code",
   "execution_count": 2,
   "id": "ebf50827",
   "metadata": {
    "ExecuteTime": {
     "end_time": "2023-03-29T06:42:47.577973Z",
     "start_time": "2023-03-29T06:42:47.524587Z"
    }
   },
   "outputs": [
    {
     "name": "stdout",
     "output_type": "stream",
     "text": [
      "Z:\\PPMI_Data\\Excels\\NonMotors\\NonMot_Files_RAW_PreProcess\\Feats_45_Categorized\n",
      "(683, 4)\n"
     ]
    },
    {
     "data": {
      "text/html": [
       "<div>\n",
       "<style scoped>\n",
       "    .dataframe tbody tr th:only-of-type {\n",
       "        vertical-align: middle;\n",
       "    }\n",
       "\n",
       "    .dataframe tbody tr th {\n",
       "        vertical-align: top;\n",
       "    }\n",
       "\n",
       "    .dataframe thead th {\n",
       "        text-align: right;\n",
       "    }\n",
       "</style>\n",
       "<table border=\"1\" class=\"dataframe\">\n",
       "  <thead>\n",
       "    <tr style=\"text-align: right;\">\n",
       "      <th></th>\n",
       "      <th>PATNO</th>\n",
       "      <th>Gender</th>\n",
       "      <th>APPRDX</th>\n",
       "      <th>Age</th>\n",
       "    </tr>\n",
       "  </thead>\n",
       "  <tbody>\n",
       "    <tr>\n",
       "      <th>0</th>\n",
       "      <td>3000</td>\n",
       "      <td>2</td>\n",
       "      <td>2</td>\n",
       "      <td>69.139726</td>\n",
       "    </tr>\n",
       "    <tr>\n",
       "      <th>1</th>\n",
       "      <td>3001</td>\n",
       "      <td>1</td>\n",
       "      <td>1</td>\n",
       "      <td>65.142466</td>\n",
       "    </tr>\n",
       "  </tbody>\n",
       "</table>\n",
       "</div>"
      ],
      "text/plain": [
       "   PATNO  Gender  APPRDX        Age\n",
       "0   3000       2       2  69.139726\n",
       "1   3001       1       1  65.142466"
      ]
     },
     "execution_count": 2,
     "metadata": {},
     "output_type": "execute_result"
    }
   ],
   "source": [
    "%cd Z:\\PPMI_Data\\Excels\\NonMotors\\NonMot_Files_RAW_PreProcess\\Feats_45_Categorized\n",
    "df_gen = pd.read_csv ('PATNO_Age_APPRDX_Raw.csv')\n",
    "df1 = pd.read_csv ('PATNO_Gender_Full.csv')\n",
    "\n",
    "df2 = pd.merge(df1, df_gen, on = 'PATNO', how = 'inner')\n",
    "df2.to_csv('PATNO_Age_Gender.csv', index = False)\n",
    "print(df2.shape)\n",
    "df2.head(2)"
   ]
  },
  {
   "cell_type": "code",
   "execution_count": 3,
   "id": "a19b7618",
   "metadata": {
    "ExecuteTime": {
     "end_time": "2023-03-29T06:42:47.656094Z",
     "start_time": "2023-03-29T06:42:47.577973Z"
    }
   },
   "outputs": [],
   "source": [
    "files = ['Benton_Derived_Categorized.csv','Clock_Drawing-Categorised.csv','Cognitive_Categorization-Categorised.csv',\n",
    "         'Epworth_Sleepiness_Scale-Categorised.csv','Geriatric_Depression_Scale-Categorised.csv',\n",
    "         'Hopkins_Recall_Derived_Categorized.csv', 'Hopkins_Recognition_Derived_Categorized.csv',\n",
    "         'Letter_-_Number_Sequencing__PD-Categorised.csv','Lexical_Fluency-Categorised.csv',\n",
    "         'MDS_UPDRS_Part_I__Patient_Questionnaire-Categorised.csv', 'MDS_UPDRS_Part_I-Categorised.csv',\n",
    "         'Modified_Boston_Naming_Test-Categorised.csv', 'Montreal_Cognitive_Assessment__MoCA-Categorised.csv',\n",
    "         'QUIP_Current_Short-Categorised.csv','REM_Sleep_Disorder_Questionnaire-Categorised.csv',\n",
    "         'SCOPA_AUT-Categorised.csv','Semantic_Fluency-Categorised.csv','Socio-Economics-Categorised.csv',\n",
    "         'State-Trait_Anxiety_Inventory-Categorised.csv', 'Symbol_Digit_Modalities-Categorised.csv',\n",
    "         'TrailMaking_Derived_Categorized.csv', 'University_of_Pennsylvania_Smell_ID_Test-Categorised.csv']\n",
    "# Loading all the files at once"
   ]
  },
  {
   "cell_type": "code",
   "execution_count": 4,
   "id": "d4adec7a",
   "metadata": {
    "ExecuteTime": {
     "end_time": "2023-03-29T06:42:47.809815Z",
     "start_time": "2023-03-29T06:42:47.656094Z"
    }
   },
   "outputs": [
    {
     "name": "stdout",
     "output_type": "stream",
     "text": [
      "(30625, 46)\n"
     ]
    },
    {
     "data": {
      "text/html": [
       "<div>\n",
       "<style scoped>\n",
       "    .dataframe tbody tr th:only-of-type {\n",
       "        vertical-align: middle;\n",
       "    }\n",
       "\n",
       "    .dataframe tbody tr th {\n",
       "        vertical-align: top;\n",
       "    }\n",
       "\n",
       "    .dataframe thead th {\n",
       "        text-align: right;\n",
       "    }\n",
       "</style>\n",
       "<table border=\"1\" class=\"dataframe\">\n",
       "  <thead>\n",
       "    <tr style=\"text-align: right;\">\n",
       "      <th></th>\n",
       "      <th>PATNO</th>\n",
       "      <th>Benton</th>\n",
       "      <th>Clock_Category</th>\n",
       "      <th>COGSTATE</th>\n",
       "      <th>Epworth_Category</th>\n",
       "      <th>Geriatric_Depression_Category</th>\n",
       "      <th>Hopkins_Recall</th>\n",
       "      <th>Hopkins_Recog</th>\n",
       "      <th>LetterNumber_Category</th>\n",
       "      <th>Lexical_Fluency_Category</th>\n",
       "      <th>...</th>\n",
       "      <th>SCOPA_Sex_Category</th>\n",
       "      <th>Semantic_Category</th>\n",
       "      <th>Education_Category</th>\n",
       "      <th>Hand_Category</th>\n",
       "      <th>STAIS_Category</th>\n",
       "      <th>STAIA_Category</th>\n",
       "      <th>Symbol_Digit_Category</th>\n",
       "      <th>Trail_Making_A_Category</th>\n",
       "      <th>Trail_Making_B_Category</th>\n",
       "      <th>UPSIT_3_Category</th>\n",
       "    </tr>\n",
       "  </thead>\n",
       "  <tbody>\n",
       "    <tr>\n",
       "      <th>0</th>\n",
       "      <td>3224</td>\n",
       "      <td>0.0</td>\n",
       "      <td>NaN</td>\n",
       "      <td>NaN</td>\n",
       "      <td>NaN</td>\n",
       "      <td>NaN</td>\n",
       "      <td>NaN</td>\n",
       "      <td>NaN</td>\n",
       "      <td>NaN</td>\n",
       "      <td>NaN</td>\n",
       "      <td>...</td>\n",
       "      <td>NaN</td>\n",
       "      <td>NaN</td>\n",
       "      <td>NaN</td>\n",
       "      <td>NaN</td>\n",
       "      <td>NaN</td>\n",
       "      <td>NaN</td>\n",
       "      <td>NaN</td>\n",
       "      <td>NaN</td>\n",
       "      <td>NaN</td>\n",
       "      <td>NaN</td>\n",
       "    </tr>\n",
       "    <tr>\n",
       "      <th>1</th>\n",
       "      <td>54937</td>\n",
       "      <td>0.0</td>\n",
       "      <td>NaN</td>\n",
       "      <td>NaN</td>\n",
       "      <td>NaN</td>\n",
       "      <td>NaN</td>\n",
       "      <td>NaN</td>\n",
       "      <td>NaN</td>\n",
       "      <td>NaN</td>\n",
       "      <td>NaN</td>\n",
       "      <td>...</td>\n",
       "      <td>NaN</td>\n",
       "      <td>NaN</td>\n",
       "      <td>NaN</td>\n",
       "      <td>NaN</td>\n",
       "      <td>NaN</td>\n",
       "      <td>NaN</td>\n",
       "      <td>NaN</td>\n",
       "      <td>NaN</td>\n",
       "      <td>NaN</td>\n",
       "      <td>NaN</td>\n",
       "    </tr>\n",
       "  </tbody>\n",
       "</table>\n",
       "<p>2 rows × 46 columns</p>\n",
       "</div>"
      ],
      "text/plain": [
       "   PATNO  Benton  Clock_Category  COGSTATE  Epworth_Category  \\\n",
       "0   3224     0.0             NaN       NaN               NaN   \n",
       "1  54937     0.0             NaN       NaN               NaN   \n",
       "\n",
       "   Geriatric_Depression_Category  Hopkins_Recall  Hopkins_Recog  \\\n",
       "0                            NaN             NaN            NaN   \n",
       "1                            NaN             NaN            NaN   \n",
       "\n",
       "   LetterNumber_Category  Lexical_Fluency_Category  ...  SCOPA_Sex_Category  \\\n",
       "0                    NaN                       NaN  ...                 NaN   \n",
       "1                    NaN                       NaN  ...                 NaN   \n",
       "\n",
       "   Semantic_Category  Education_Category  Hand_Category  STAIS_Category  \\\n",
       "0                NaN                 NaN            NaN             NaN   \n",
       "1                NaN                 NaN            NaN             NaN   \n",
       "\n",
       "   STAIA_Category  Symbol_Digit_Category  Trail_Making_A_Category  \\\n",
       "0             NaN                    NaN                      NaN   \n",
       "1             NaN                    NaN                      NaN   \n",
       "\n",
       "   Trail_Making_B_Category  UPSIT_3_Category  \n",
       "0                      NaN               NaN  \n",
       "1                      NaN               NaN  \n",
       "\n",
       "[2 rows x 46 columns]"
      ]
     },
     "execution_count": 4,
     "metadata": {},
     "output_type": "execute_result"
    }
   ],
   "source": [
    "df = pd.concat([pd.read_csv(f) for f in files], ignore_index=True)\n",
    "#The above code concatenates all the files vertically and ignores the original index, creating a new one.\n",
    "print(df.shape)\n",
    "df.head(2)"
   ]
  },
  {
   "cell_type": "code",
   "execution_count": 5,
   "id": "43b806f3",
   "metadata": {
    "ExecuteTime": {
     "end_time": "2023-03-29T06:42:47.941336Z",
     "start_time": "2023-03-29T06:42:47.809815Z"
    }
   },
   "outputs": [
    {
     "name": "stdout",
     "output_type": "stream",
     "text": [
      "(2186, 46)\n"
     ]
    },
    {
     "data": {
      "text/html": [
       "<div>\n",
       "<style scoped>\n",
       "    .dataframe tbody tr th:only-of-type {\n",
       "        vertical-align: middle;\n",
       "    }\n",
       "\n",
       "    .dataframe tbody tr th {\n",
       "        vertical-align: top;\n",
       "    }\n",
       "\n",
       "    .dataframe thead th {\n",
       "        text-align: right;\n",
       "    }\n",
       "</style>\n",
       "<table border=\"1\" class=\"dataframe\">\n",
       "  <thead>\n",
       "    <tr style=\"text-align: right;\">\n",
       "      <th></th>\n",
       "      <th>PATNO</th>\n",
       "      <th>Benton</th>\n",
       "      <th>Clock_Category</th>\n",
       "      <th>COGSTATE</th>\n",
       "      <th>Epworth_Category</th>\n",
       "      <th>Geriatric_Depression_Category</th>\n",
       "      <th>Hopkins_Recall</th>\n",
       "      <th>Hopkins_Recog</th>\n",
       "      <th>LetterNumber_Category</th>\n",
       "      <th>Lexical_Fluency_Category</th>\n",
       "      <th>...</th>\n",
       "      <th>SCOPA_Sex_Category</th>\n",
       "      <th>Semantic_Category</th>\n",
       "      <th>Education_Category</th>\n",
       "      <th>Hand_Category</th>\n",
       "      <th>STAIS_Category</th>\n",
       "      <th>STAIA_Category</th>\n",
       "      <th>Symbol_Digit_Category</th>\n",
       "      <th>Trail_Making_A_Category</th>\n",
       "      <th>Trail_Making_B_Category</th>\n",
       "      <th>UPSIT_3_Category</th>\n",
       "    </tr>\n",
       "  </thead>\n",
       "  <tbody>\n",
       "    <tr>\n",
       "      <th>0</th>\n",
       "      <td>3224</td>\n",
       "      <td>0.0</td>\n",
       "      <td>NaN</td>\n",
       "      <td>0.0</td>\n",
       "      <td>0.0</td>\n",
       "      <td>1.0</td>\n",
       "      <td>0.0</td>\n",
       "      <td>0.0</td>\n",
       "      <td>1.0</td>\n",
       "      <td>2.0</td>\n",
       "      <td>...</td>\n",
       "      <td>2.0</td>\n",
       "      <td>1.0</td>\n",
       "      <td>0.0</td>\n",
       "      <td>0.0</td>\n",
       "      <td>1.0</td>\n",
       "      <td>1.0</td>\n",
       "      <td>2.0</td>\n",
       "      <td>NaN</td>\n",
       "      <td>NaN</td>\n",
       "      <td>2.0</td>\n",
       "    </tr>\n",
       "    <tr>\n",
       "      <th>1</th>\n",
       "      <td>54937</td>\n",
       "      <td>0.0</td>\n",
       "      <td>NaN</td>\n",
       "      <td>0.0</td>\n",
       "      <td>0.0</td>\n",
       "      <td>1.0</td>\n",
       "      <td>0.0</td>\n",
       "      <td>0.0</td>\n",
       "      <td>0.0</td>\n",
       "      <td>NaN</td>\n",
       "      <td>...</td>\n",
       "      <td>0.0</td>\n",
       "      <td>0.0</td>\n",
       "      <td>0.0</td>\n",
       "      <td>0.0</td>\n",
       "      <td>1.0</td>\n",
       "      <td>1.0</td>\n",
       "      <td>0.0</td>\n",
       "      <td>NaN</td>\n",
       "      <td>NaN</td>\n",
       "      <td>NaN</td>\n",
       "    </tr>\n",
       "  </tbody>\n",
       "</table>\n",
       "<p>2 rows × 46 columns</p>\n",
       "</div>"
      ],
      "text/plain": [
       "   PATNO  Benton  Clock_Category  COGSTATE  Epworth_Category  \\\n",
       "0   3224     0.0             NaN       0.0               0.0   \n",
       "1  54937     0.0             NaN       0.0               0.0   \n",
       "\n",
       "   Geriatric_Depression_Category  Hopkins_Recall  Hopkins_Recog  \\\n",
       "0                            1.0             0.0            0.0   \n",
       "1                            1.0             0.0            0.0   \n",
       "\n",
       "   LetterNumber_Category  Lexical_Fluency_Category  ...  SCOPA_Sex_Category  \\\n",
       "0                    1.0                       2.0  ...                 2.0   \n",
       "1                    0.0                       NaN  ...                 0.0   \n",
       "\n",
       "   Semantic_Category  Education_Category  Hand_Category  STAIS_Category  \\\n",
       "0                1.0                 0.0            0.0             1.0   \n",
       "1                0.0                 0.0            0.0             1.0   \n",
       "\n",
       "   STAIA_Category  Symbol_Digit_Category  Trail_Making_A_Category  \\\n",
       "0             1.0                    2.0                      NaN   \n",
       "1             1.0                    0.0                      NaN   \n",
       "\n",
       "   Trail_Making_B_Category  UPSIT_3_Category  \n",
       "0                      NaN               2.0  \n",
       "1                      NaN               NaN  \n",
       "\n",
       "[2 rows x 46 columns]"
      ]
     },
     "execution_count": 5,
     "metadata": {},
     "output_type": "execute_result"
    }
   ],
   "source": [
    "# Read the first csv file\n",
    "df = pd.read_csv(files[0])\n",
    "\n",
    "# Merge the rest of the csv files with an outer join\n",
    "for file in files[1:]:\n",
    "    df = df.merge(pd.read_csv(file), on='PATNO', how='outer')\n",
    "\n",
    "print(df.shape)\n",
    "df.head(2)\n"
   ]
  },
  {
   "cell_type": "code",
   "execution_count": 6,
   "id": "821d2ed5",
   "metadata": {
    "ExecuteTime": {
     "end_time": "2023-03-29T06:42:48.010369Z",
     "start_time": "2023-03-29T06:42:47.941336Z"
    }
   },
   "outputs": [],
   "source": [
    "df.to_csv('Feats45_Categorised_Sparse.csv', index = False)"
   ]
  },
  {
   "cell_type": "markdown",
   "id": "891a4302",
   "metadata": {},
   "source": [
    "## Merging with APPRDX"
   ]
  },
  {
   "cell_type": "code",
   "execution_count": null,
   "id": "375dca61",
   "metadata": {},
   "outputs": [],
   "source": []
  },
  {
   "cell_type": "code",
   "execution_count": 7,
   "id": "e48c3541",
   "metadata": {
    "ExecuteTime": {
     "end_time": "2023-03-29T06:42:48.095003Z",
     "start_time": "2023-03-29T06:42:48.010369Z"
    }
   },
   "outputs": [
    {
     "name": "stdout",
     "output_type": "stream",
     "text": [
      "(683, 49)\n"
     ]
    },
    {
     "data": {
      "text/html": [
       "<div>\n",
       "<style scoped>\n",
       "    .dataframe tbody tr th:only-of-type {\n",
       "        vertical-align: middle;\n",
       "    }\n",
       "\n",
       "    .dataframe tbody tr th {\n",
       "        vertical-align: top;\n",
       "    }\n",
       "\n",
       "    .dataframe thead th {\n",
       "        text-align: right;\n",
       "    }\n",
       "</style>\n",
       "<table border=\"1\" class=\"dataframe\">\n",
       "  <thead>\n",
       "    <tr style=\"text-align: right;\">\n",
       "      <th></th>\n",
       "      <th>PATNO</th>\n",
       "      <th>Gender</th>\n",
       "      <th>APPRDX</th>\n",
       "      <th>Age</th>\n",
       "      <th>Benton</th>\n",
       "      <th>Clock_Category</th>\n",
       "      <th>COGSTATE</th>\n",
       "      <th>Epworth_Category</th>\n",
       "      <th>Geriatric_Depression_Category</th>\n",
       "      <th>Hopkins_Recall</th>\n",
       "      <th>...</th>\n",
       "      <th>SCOPA_Sex_Category</th>\n",
       "      <th>Semantic_Category</th>\n",
       "      <th>Education_Category</th>\n",
       "      <th>Hand_Category</th>\n",
       "      <th>STAIS_Category</th>\n",
       "      <th>STAIA_Category</th>\n",
       "      <th>Symbol_Digit_Category</th>\n",
       "      <th>Trail_Making_A_Category</th>\n",
       "      <th>Trail_Making_B_Category</th>\n",
       "      <th>UPSIT_3_Category</th>\n",
       "    </tr>\n",
       "  </thead>\n",
       "  <tbody>\n",
       "    <tr>\n",
       "      <th>0</th>\n",
       "      <td>3000</td>\n",
       "      <td>2</td>\n",
       "      <td>2</td>\n",
       "      <td>69.139726</td>\n",
       "      <td>0.0</td>\n",
       "      <td>NaN</td>\n",
       "      <td>0.0</td>\n",
       "      <td>0.0</td>\n",
       "      <td>1.0</td>\n",
       "      <td>0.0</td>\n",
       "      <td>...</td>\n",
       "      <td>0.0</td>\n",
       "      <td>0.0</td>\n",
       "      <td>1.0</td>\n",
       "      <td>0.0</td>\n",
       "      <td>1.0</td>\n",
       "      <td>1.0</td>\n",
       "      <td>0.0</td>\n",
       "      <td>0.0</td>\n",
       "      <td>0.0</td>\n",
       "      <td>0.0</td>\n",
       "    </tr>\n",
       "    <tr>\n",
       "      <th>1</th>\n",
       "      <td>3001</td>\n",
       "      <td>1</td>\n",
       "      <td>1</td>\n",
       "      <td>65.142466</td>\n",
       "      <td>0.0</td>\n",
       "      <td>NaN</td>\n",
       "      <td>0.0</td>\n",
       "      <td>0.0</td>\n",
       "      <td>1.0</td>\n",
       "      <td>0.0</td>\n",
       "      <td>...</td>\n",
       "      <td>2.0</td>\n",
       "      <td>1.0</td>\n",
       "      <td>1.0</td>\n",
       "      <td>1.0</td>\n",
       "      <td>1.0</td>\n",
       "      <td>1.0</td>\n",
       "      <td>1.0</td>\n",
       "      <td>1.0</td>\n",
       "      <td>0.0</td>\n",
       "      <td>1.0</td>\n",
       "    </tr>\n",
       "  </tbody>\n",
       "</table>\n",
       "<p>2 rows × 49 columns</p>\n",
       "</div>"
      ],
      "text/plain": [
       "   PATNO  Gender  APPRDX        Age  Benton  Clock_Category  COGSTATE  \\\n",
       "0   3000       2       2  69.139726     0.0             NaN       0.0   \n",
       "1   3001       1       1  65.142466     0.0             NaN       0.0   \n",
       "\n",
       "   Epworth_Category  Geriatric_Depression_Category  Hopkins_Recall  ...  \\\n",
       "0               0.0                            1.0             0.0  ...   \n",
       "1               0.0                            1.0             0.0  ...   \n",
       "\n",
       "   SCOPA_Sex_Category  Semantic_Category  Education_Category  Hand_Category  \\\n",
       "0                 0.0                0.0                 1.0            0.0   \n",
       "1                 2.0                1.0                 1.0            1.0   \n",
       "\n",
       "   STAIS_Category  STAIA_Category  Symbol_Digit_Category  \\\n",
       "0             1.0             1.0                    0.0   \n",
       "1             1.0             1.0                    1.0   \n",
       "\n",
       "   Trail_Making_A_Category  Trail_Making_B_Category  UPSIT_3_Category  \n",
       "0                      0.0                      0.0               0.0  \n",
       "1                      1.0                      0.0               1.0  \n",
       "\n",
       "[2 rows x 49 columns]"
      ]
     },
     "execution_count": 7,
     "metadata": {},
     "output_type": "execute_result"
    }
   ],
   "source": [
    "df = pd.read_csv ('Feats45_Categorised_Sparse.csv')\n",
    "df1 = pd.read_csv ('PATNO_Age_Gender.csv')\n",
    "\n",
    "df2 = pd.merge(df1, df, on = 'PATNO', how = 'inner')\n",
    "print(df2.shape)\n",
    "df2.head(2)"
   ]
  },
  {
   "cell_type": "code",
   "execution_count": 8,
   "id": "0aacce4e",
   "metadata": {
    "ExecuteTime": {
     "end_time": "2023-03-29T06:42:48.126253Z",
     "start_time": "2023-03-29T06:42:48.095003Z"
    }
   },
   "outputs": [],
   "source": [
    "df2.to_csv('Feats45_CategSparse_APPRDX_Gender.csv', index = False)"
   ]
  },
  {
   "cell_type": "code",
   "execution_count": 9,
   "id": "ae959d96",
   "metadata": {
    "ExecuteTime": {
     "end_time": "2023-03-29T06:42:48.257836Z",
     "start_time": "2023-03-29T06:42:48.126253Z"
    }
   },
   "outputs": [
    {
     "name": "stdout",
     "output_type": "stream",
     "text": [
      "(254, 49)\n"
     ]
    },
    {
     "data": {
      "text/html": [
       "<div>\n",
       "<style scoped>\n",
       "    .dataframe tbody tr th:only-of-type {\n",
       "        vertical-align: middle;\n",
       "    }\n",
       "\n",
       "    .dataframe tbody tr th {\n",
       "        vertical-align: top;\n",
       "    }\n",
       "\n",
       "    .dataframe thead th {\n",
       "        text-align: right;\n",
       "    }\n",
       "</style>\n",
       "<table border=\"1\" class=\"dataframe\">\n",
       "  <thead>\n",
       "    <tr style=\"text-align: right;\">\n",
       "      <th></th>\n",
       "      <th>PATNO</th>\n",
       "      <th>Gender</th>\n",
       "      <th>APPRDX</th>\n",
       "      <th>Age</th>\n",
       "      <th>Benton</th>\n",
       "      <th>Clock_Category</th>\n",
       "      <th>COGSTATE</th>\n",
       "      <th>Epworth_Category</th>\n",
       "      <th>Geriatric_Depression_Category</th>\n",
       "      <th>Hopkins_Recall</th>\n",
       "      <th>...</th>\n",
       "      <th>SCOPA_Sex_Category</th>\n",
       "      <th>Semantic_Category</th>\n",
       "      <th>Education_Category</th>\n",
       "      <th>Hand_Category</th>\n",
       "      <th>STAIS_Category</th>\n",
       "      <th>STAIA_Category</th>\n",
       "      <th>Symbol_Digit_Category</th>\n",
       "      <th>Trail_Making_A_Category</th>\n",
       "      <th>Trail_Making_B_Category</th>\n",
       "      <th>UPSIT_3_Category</th>\n",
       "    </tr>\n",
       "  </thead>\n",
       "  <tbody>\n",
       "    <tr>\n",
       "      <th>2</th>\n",
       "      <td>3002</td>\n",
       "      <td>2</td>\n",
       "      <td>1</td>\n",
       "      <td>67.578082</td>\n",
       "      <td>0.0</td>\n",
       "      <td>0.0</td>\n",
       "      <td>0.0</td>\n",
       "      <td>1.0</td>\n",
       "      <td>1.0</td>\n",
       "      <td>0.0</td>\n",
       "      <td>...</td>\n",
       "      <td>1.0</td>\n",
       "      <td>0.0</td>\n",
       "      <td>1.0</td>\n",
       "      <td>0.0</td>\n",
       "      <td>2.0</td>\n",
       "      <td>1.0</td>\n",
       "      <td>1.0</td>\n",
       "      <td>2.0</td>\n",
       "      <td>1.0</td>\n",
       "      <td>2.0</td>\n",
       "    </tr>\n",
       "    <tr>\n",
       "      <th>7</th>\n",
       "      <td>3008</td>\n",
       "      <td>2</td>\n",
       "      <td>2</td>\n",
       "      <td>81.890411</td>\n",
       "      <td>0.0</td>\n",
       "      <td>0.0</td>\n",
       "      <td>1.0</td>\n",
       "      <td>0.0</td>\n",
       "      <td>1.0</td>\n",
       "      <td>0.0</td>\n",
       "      <td>...</td>\n",
       "      <td>0.0</td>\n",
       "      <td>1.0</td>\n",
       "      <td>0.0</td>\n",
       "      <td>0.0</td>\n",
       "      <td>1.0</td>\n",
       "      <td>2.0</td>\n",
       "      <td>2.0</td>\n",
       "      <td>0.0</td>\n",
       "      <td>0.0</td>\n",
       "      <td>0.0</td>\n",
       "    </tr>\n",
       "  </tbody>\n",
       "</table>\n",
       "<p>2 rows × 49 columns</p>\n",
       "</div>"
      ],
      "text/plain": [
       "   PATNO  Gender  APPRDX        Age  Benton  Clock_Category  COGSTATE  \\\n",
       "2   3002       2       1  67.578082     0.0             0.0       0.0   \n",
       "7   3008       2       2  81.890411     0.0             0.0       1.0   \n",
       "\n",
       "   Epworth_Category  Geriatric_Depression_Category  Hopkins_Recall  ...  \\\n",
       "2               1.0                            1.0             0.0  ...   \n",
       "7               0.0                            1.0             0.0  ...   \n",
       "\n",
       "   SCOPA_Sex_Category  Semantic_Category  Education_Category  Hand_Category  \\\n",
       "2                 1.0                0.0                 1.0            0.0   \n",
       "7                 0.0                1.0                 0.0            0.0   \n",
       "\n",
       "   STAIS_Category  STAIA_Category  Symbol_Digit_Category  \\\n",
       "2             2.0             1.0                    1.0   \n",
       "7             1.0             2.0                    2.0   \n",
       "\n",
       "   Trail_Making_A_Category  Trail_Making_B_Category  UPSIT_3_Category  \n",
       "2                      2.0                      1.0               2.0  \n",
       "7                      0.0                      0.0               0.0  \n",
       "\n",
       "[2 rows x 49 columns]"
      ]
     },
     "execution_count": 9,
     "metadata": {},
     "output_type": "execute_result"
    }
   ],
   "source": [
    "df2 = pd.read_csv ('Feats45_CategSparse_APPRDX_Gender.csv')\n",
    "df3 = df2.dropna()\n",
    "print(df3.shape)\n",
    "df3.head(2)"
   ]
  },
  {
   "cell_type": "code",
   "execution_count": 10,
   "id": "315369dd",
   "metadata": {
    "ExecuteTime": {
     "end_time": "2023-03-29T06:42:48.358157Z",
     "start_time": "2023-03-29T06:42:48.257836Z"
    }
   },
   "outputs": [],
   "source": [
    "df3.to_csv('Feats45_CategAge_APPRDX_Gender.csv', index = False)"
   ]
  },
  {
   "cell_type": "code",
   "execution_count": null,
   "id": "c3ca8f69",
   "metadata": {},
   "outputs": [],
   "source": []
  }
 ],
 "metadata": {
  "kernelspec": {
   "display_name": "Python 3 (ipykernel)",
   "language": "python",
   "name": "python3"
  },
  "language_info": {
   "codemirror_mode": {
    "name": "ipython",
    "version": 3
   },
   "file_extension": ".py",
   "mimetype": "text/x-python",
   "name": "python",
   "nbconvert_exporter": "python",
   "pygments_lexer": "ipython3",
   "version": "3.9.16"
  },
  "toc": {
   "base_numbering": 1,
   "nav_menu": {},
   "number_sections": true,
   "sideBar": true,
   "skip_h1_title": false,
   "title_cell": "Table of Contents",
   "title_sidebar": "Contents",
   "toc_cell": false,
   "toc_position": {},
   "toc_section_display": true,
   "toc_window_display": false
  },
  "varInspector": {
   "cols": {
    "lenName": 16,
    "lenType": 16,
    "lenVar": 40
   },
   "kernels_config": {
    "python": {
     "delete_cmd_postfix": "",
     "delete_cmd_prefix": "del ",
     "library": "var_list.py",
     "varRefreshCmd": "print(var_dic_list())"
    },
    "r": {
     "delete_cmd_postfix": ") ",
     "delete_cmd_prefix": "rm(",
     "library": "var_list.r",
     "varRefreshCmd": "cat(var_dic_list()) "
    }
   },
   "types_to_exclude": [
    "module",
    "function",
    "builtin_function_or_method",
    "instance",
    "_Feature"
   ],
   "window_display": false
  }
 },
 "nbformat": 4,
 "nbformat_minor": 5
}
