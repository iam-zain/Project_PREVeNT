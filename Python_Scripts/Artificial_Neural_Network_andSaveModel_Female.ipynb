{
 "cells": [
  {
   "cell_type": "markdown",
   "metadata": {
    "colab_type": "text",
    "id": "lP6JLo1tGNBg"
   },
   "source": [
    "# Artificial Neural Network"
   ]
  },
  {
   "cell_type": "markdown",
   "metadata": {
    "colab_type": "text",
    "id": "gWZyYmS_UE_L"
   },
   "source": [
    "### Importing the libraries"
   ]
  },
  {
   "cell_type": "code",
   "execution_count": 19,
   "metadata": {
    "ExecuteTime": {
     "end_time": "2023-08-10T11:37:26.302603Z",
     "start_time": "2023-08-10T11:37:26.271341Z"
    },
    "colab": {},
    "colab_type": "code",
    "id": "MxkJoQBkUIHC"
   },
   "outputs": [
    {
     "data": {
      "text/plain": [
       "'2.9.1'"
      ]
     },
     "execution_count": 19,
     "metadata": {},
     "output_type": "execute_result"
    }
   ],
   "source": [
    "import numpy as np\n",
    "import pandas as pd\n",
    "import tensorflow as tf\n",
    "from numpy import loadtxt\n",
    "import matplotlib.pyplot as plt\n",
    "from imblearn.over_sampling import SMOTE\n",
    "from tensorflow.keras.layers import Dense\n",
    "from tensorflow.keras.optimizers import Adam\n",
    "from tensorflow.keras.regularizers import l2\n",
    "from tensorflow.keras.models import Sequential\n",
    "from sklearn.preprocessing import StandardScaler\n",
    "from sklearn.model_selection import train_test_split\n",
    "from keras.callbacks import EarlyStopping, ReduceLROnPlateau\n",
    "from sklearn.metrics import confusion_matrix, accuracy_score\n",
    "from tensorflow.keras.layers import Dense, Dropout, BatchNormalization\n",
    "tf.__version__"
   ]
  },
  {
   "cell_type": "markdown",
   "metadata": {
    "colab_type": "text",
    "id": "1E0Q3aoKUCRX"
   },
   "source": [
    "## Part 1 - Data Preprocessing"
   ]
  },
  {
   "cell_type": "markdown",
   "metadata": {
    "colab_type": "text",
    "id": "cKWAkFVGUU0Z"
   },
   "source": [
    "### Importing the dataset"
   ]
  },
  {
   "cell_type": "code",
   "execution_count": 2,
   "metadata": {
    "ExecuteTime": {
     "end_time": "2023-08-10T11:29:11.144400Z",
     "start_time": "2023-08-10T11:29:11.097581Z"
    }
   },
   "outputs": [
    {
     "name": "stdout",
     "output_type": "stream",
     "text": [
      "Z:\\PPMI_Data\\Excels\\NonMotors\\The251\\Female\\GeneCpG\\Xtras\\Top50_eachFeats\n",
      "(150, 229)\n"
     ]
    },
    {
     "data": {
      "text/html": [
       "<div>\n",
       "<style scoped>\n",
       "    .dataframe tbody tr th:only-of-type {\n",
       "        vertical-align: middle;\n",
       "    }\n",
       "\n",
       "    .dataframe tbody tr th {\n",
       "        vertical-align: top;\n",
       "    }\n",
       "\n",
       "    .dataframe thead th {\n",
       "        text-align: right;\n",
       "    }\n",
       "</style>\n",
       "<table border=\"1\" class=\"dataframe\">\n",
       "  <thead>\n",
       "    <tr style=\"text-align: right;\">\n",
       "      <th></th>\n",
       "      <th>APPRDX</th>\n",
       "      <th>cg11668199</th>\n",
       "      <th>cg04983473</th>\n",
       "      <th>cg25943702</th>\n",
       "      <th>cg01620849</th>\n",
       "      <th>cg22210403</th>\n",
       "      <th>cg21241862</th>\n",
       "      <th>cg19030090</th>\n",
       "      <th>cg02232418</th>\n",
       "      <th>cg18757169</th>\n",
       "      <th>...</th>\n",
       "      <th>cg14548871</th>\n",
       "      <th>cg04721557</th>\n",
       "      <th>cg17218282</th>\n",
       "      <th>cg20471798</th>\n",
       "      <th>cg04948892</th>\n",
       "      <th>cg12751142</th>\n",
       "      <th>cg17957325</th>\n",
       "      <th>cg13520090</th>\n",
       "      <th>cg05538980</th>\n",
       "      <th>cg18580385</th>\n",
       "    </tr>\n",
       "  </thead>\n",
       "  <tbody>\n",
       "    <tr>\n",
       "      <th>0</th>\n",
       "      <td>0</td>\n",
       "      <td>0.045694</td>\n",
       "      <td>0.924158</td>\n",
       "      <td>0.908038</td>\n",
       "      <td>0.033501</td>\n",
       "      <td>0.07147</td>\n",
       "      <td>0.904030</td>\n",
       "      <td>0.917645</td>\n",
       "      <td>0.830685</td>\n",
       "      <td>0.506640</td>\n",
       "      <td>...</td>\n",
       "      <td>0.027095</td>\n",
       "      <td>0.939462</td>\n",
       "      <td>0.767832</td>\n",
       "      <td>0.845091</td>\n",
       "      <td>0.156538</td>\n",
       "      <td>0.510861</td>\n",
       "      <td>0.922070</td>\n",
       "      <td>0.877443</td>\n",
       "      <td>0.792984</td>\n",
       "      <td>0.895246</td>\n",
       "    </tr>\n",
       "    <tr>\n",
       "      <th>1</th>\n",
       "      <td>0</td>\n",
       "      <td>0.050506</td>\n",
       "      <td>0.929821</td>\n",
       "      <td>0.928079</td>\n",
       "      <td>0.032749</td>\n",
       "      <td>0.06974</td>\n",
       "      <td>0.914086</td>\n",
       "      <td>0.889673</td>\n",
       "      <td>0.768925</td>\n",
       "      <td>0.535331</td>\n",
       "      <td>...</td>\n",
       "      <td>0.018183</td>\n",
       "      <td>0.939685</td>\n",
       "      <td>0.778352</td>\n",
       "      <td>0.820209</td>\n",
       "      <td>0.150134</td>\n",
       "      <td>0.622603</td>\n",
       "      <td>0.929889</td>\n",
       "      <td>0.778461</td>\n",
       "      <td>0.763160</td>\n",
       "      <td>0.887588</td>\n",
       "    </tr>\n",
       "  </tbody>\n",
       "</table>\n",
       "<p>2 rows × 229 columns</p>\n",
       "</div>"
      ],
      "text/plain": [
       "   APPRDX  cg11668199  cg04983473  cg25943702  cg01620849  cg22210403  \\\n",
       "0       0    0.045694    0.924158    0.908038    0.033501     0.07147   \n",
       "1       0    0.050506    0.929821    0.928079    0.032749     0.06974   \n",
       "\n",
       "   cg21241862  cg19030090  cg02232418  cg18757169  ...  cg14548871  \\\n",
       "0    0.904030    0.917645    0.830685    0.506640  ...    0.027095   \n",
       "1    0.914086    0.889673    0.768925    0.535331  ...    0.018183   \n",
       "\n",
       "   cg04721557  cg17218282  cg20471798  cg04948892  cg12751142  cg17957325  \\\n",
       "0    0.939462    0.767832    0.845091    0.156538    0.510861    0.922070   \n",
       "1    0.939685    0.778352    0.820209    0.150134    0.622603    0.929889   \n",
       "\n",
       "   cg13520090  cg05538980  cg18580385  \n",
       "0    0.877443    0.792984    0.895246  \n",
       "1    0.778461    0.763160    0.887588  \n",
       "\n",
       "[2 rows x 229 columns]"
      ]
     },
     "execution_count": 2,
     "metadata": {},
     "output_type": "execute_result"
    }
   ],
   "source": [
    "%cd Z:\\PPMI_Data\\Excels\\NonMotors\\The251\\Female\\GeneCpG\\Xtras\\Top50_eachFeats\n",
    "df = pd.read_csv('All5_Top50sCpG_Female.csv')\n",
    "# Removing a column\n",
    "dataset = df.drop(['PATNO'], axis = 1)\n",
    "#dataset.insert (1, 'Age', df ['Age'])\n",
    "# Making APPRDX values from 1 & 2 to 0 & 1\n",
    "dataset['APPRDX'] = dataset['APPRDX'] - 1\n",
    "print(dataset.shape)\n",
    "dataset.head(2)"
   ]
  },
  {
   "cell_type": "code",
   "execution_count": 3,
   "metadata": {
    "ExecuteTime": {
     "end_time": "2023-08-10T11:29:11.228655Z",
     "start_time": "2023-08-10T11:29:11.144400Z"
    },
    "scrolled": true
   },
   "outputs": [
    {
     "data": {
      "text/html": [
       "<div>\n",
       "<style scoped>\n",
       "    .dataframe tbody tr th:only-of-type {\n",
       "        vertical-align: middle;\n",
       "    }\n",
       "\n",
       "    .dataframe tbody tr th {\n",
       "        vertical-align: top;\n",
       "    }\n",
       "\n",
       "    .dataframe thead th {\n",
       "        text-align: right;\n",
       "    }\n",
       "</style>\n",
       "<table border=\"1\" class=\"dataframe\">\n",
       "  <thead>\n",
       "    <tr style=\"text-align: right;\">\n",
       "      <th></th>\n",
       "      <th>APPRDX</th>\n",
       "      <th>cg11668199</th>\n",
       "      <th>cg04983473</th>\n",
       "      <th>cg25943702</th>\n",
       "      <th>cg01620849</th>\n",
       "      <th>cg22210403</th>\n",
       "      <th>cg21241862</th>\n",
       "      <th>cg19030090</th>\n",
       "      <th>cg02232418</th>\n",
       "      <th>cg18757169</th>\n",
       "      <th>...</th>\n",
       "      <th>cg14548871</th>\n",
       "      <th>cg04721557</th>\n",
       "      <th>cg17218282</th>\n",
       "      <th>cg20471798</th>\n",
       "      <th>cg04948892</th>\n",
       "      <th>cg12751142</th>\n",
       "      <th>cg17957325</th>\n",
       "      <th>cg13520090</th>\n",
       "      <th>cg05538980</th>\n",
       "      <th>cg18580385</th>\n",
       "    </tr>\n",
       "  </thead>\n",
       "  <tbody>\n",
       "    <tr>\n",
       "      <th>148</th>\n",
       "      <td>1</td>\n",
       "      <td>0.037671</td>\n",
       "      <td>0.937181</td>\n",
       "      <td>0.889503</td>\n",
       "      <td>0.027040</td>\n",
       "      <td>0.098092</td>\n",
       "      <td>0.853682</td>\n",
       "      <td>0.879239</td>\n",
       "      <td>0.735723</td>\n",
       "      <td>0.556343</td>\n",
       "      <td>...</td>\n",
       "      <td>0.018879</td>\n",
       "      <td>0.912687</td>\n",
       "      <td>0.789966</td>\n",
       "      <td>0.846710</td>\n",
       "      <td>0.115861</td>\n",
       "      <td>0.593508</td>\n",
       "      <td>0.923592</td>\n",
       "      <td>0.830857</td>\n",
       "      <td>0.789654</td>\n",
       "      <td>0.854232</td>\n",
       "    </tr>\n",
       "    <tr>\n",
       "      <th>149</th>\n",
       "      <td>1</td>\n",
       "      <td>0.029829</td>\n",
       "      <td>0.932031</td>\n",
       "      <td>0.885029</td>\n",
       "      <td>0.020199</td>\n",
       "      <td>0.045114</td>\n",
       "      <td>0.899346</td>\n",
       "      <td>0.859192</td>\n",
       "      <td>0.732735</td>\n",
       "      <td>0.558189</td>\n",
       "      <td>...</td>\n",
       "      <td>0.024913</td>\n",
       "      <td>0.939579</td>\n",
       "      <td>0.740389</td>\n",
       "      <td>0.834707</td>\n",
       "      <td>0.112277</td>\n",
       "      <td>0.603202</td>\n",
       "      <td>0.929969</td>\n",
       "      <td>0.831216</td>\n",
       "      <td>0.811529</td>\n",
       "      <td>0.880580</td>\n",
       "    </tr>\n",
       "  </tbody>\n",
       "</table>\n",
       "<p>2 rows × 229 columns</p>\n",
       "</div>"
      ],
      "text/plain": [
       "     APPRDX  cg11668199  cg04983473  cg25943702  cg01620849  cg22210403  \\\n",
       "148       1    0.037671    0.937181    0.889503    0.027040    0.098092   \n",
       "149       1    0.029829    0.932031    0.885029    0.020199    0.045114   \n",
       "\n",
       "     cg21241862  cg19030090  cg02232418  cg18757169  ...  cg14548871  \\\n",
       "148    0.853682    0.879239    0.735723    0.556343  ...    0.018879   \n",
       "149    0.899346    0.859192    0.732735    0.558189  ...    0.024913   \n",
       "\n",
       "     cg04721557  cg17218282  cg20471798  cg04948892  cg12751142  cg17957325  \\\n",
       "148    0.912687    0.789966    0.846710    0.115861    0.593508    0.923592   \n",
       "149    0.939579    0.740389    0.834707    0.112277    0.603202    0.929969   \n",
       "\n",
       "     cg13520090  cg05538980  cg18580385  \n",
       "148    0.830857    0.789654    0.854232  \n",
       "149    0.831216    0.811529    0.880580  \n",
       "\n",
       "[2 rows x 229 columns]"
      ]
     },
     "execution_count": 3,
     "metadata": {},
     "output_type": "execute_result"
    }
   ],
   "source": [
    "dataset.tail(2)"
   ]
  },
  {
   "cell_type": "code",
   "execution_count": 4,
   "metadata": {
    "ExecuteTime": {
     "end_time": "2023-08-10T11:29:11.328979Z",
     "start_time": "2023-08-10T11:29:11.228655Z"
    },
    "colab": {},
    "colab_type": "code",
    "id": "MXUkhkMfU4wq"
   },
   "outputs": [
    {
     "name": "stdout",
     "output_type": "stream",
     "text": [
      "[[0.0456936  0.92415812 0.90803849 ... 0.87744273 0.79298365 0.89524644]\n",
      " [0.05050615 0.92982137 0.92807914 ... 0.77846127 0.76315959 0.88758828]\n",
      " [0.03515002 0.93895042 0.88622999 ... 0.8617157  0.82398515 0.90221598]\n",
      " ...\n",
      " [0.04335481 0.92451225 0.86283734 ... 0.82727662 0.79768849 0.87639012]\n",
      " [0.0376711  0.93718062 0.8895031  ... 0.83085706 0.7896543  0.85423178]\n",
      " [0.02982884 0.93203115 0.8850288  ... 0.83121647 0.81152901 0.88058002]]\n"
     ]
    }
   ],
   "source": [
    "X = dataset.iloc[:, 1:].values\n",
    "y = dataset.iloc[:, 0].values\n",
    "print(X)"
   ]
  },
  {
   "cell_type": "code",
   "execution_count": 5,
   "metadata": {
    "ExecuteTime": {
     "end_time": "2023-08-10T11:29:11.397995Z",
     "start_time": "2023-08-10T11:29:11.328979Z"
    },
    "colab": {
     "base_uri": "https://localhost:8080/",
     "height": 34
    },
    "colab_type": "code",
    "executionInfo": {
     "elapsed": 2391,
     "status": "ok",
     "timestamp": 1590257449961,
     "user": {
      "displayName": "Hadelin de Ponteves",
      "photoUrl": "https://lh3.googleusercontent.com/a-/AOh14GhEuXdT7eQweUmRPW8_laJuPggSK6hfvpl5a6WBaA=s64",
      "userId": "15047218817161520419"
     },
     "user_tz": -240
    },
    "id": "38vKGE6Nb2RR",
    "outputId": "a815e42a-e0dd-4cb5-ab97-b17ead98fbc3",
    "scrolled": true
   },
   "outputs": [
    {
     "name": "stdout",
     "output_type": "stream",
     "text": [
      "[0 0 0 0 0 0 0 0 0 0 0 0 0 0 0 0 0 0 0 0 0 0 0 0 0 0 0 0 0 0 0 0 0 0 0 0 0\n",
      " 0 0 0 0 0 0 0 0 0 0 0 0 0 0 0 0 0 0 0 0 0 0 0 0 0 0 0 0 0 0 0 0 0 0 0 0 0\n",
      " 0 0 0 0 0 0 0 0 0 0 0 0 0 0 0 0 0 0 0 0 0 0 0 0 0 0 0 0 0 0 0 0 0 0 0 0 0\n",
      " 1 1 1 1 1 1 1 1 1 1 1 1 1 1 1 1 1 1 1 1 1 1 1 1 1 1 1 1 1 1 1 1 1 1 1 1 1\n",
      " 1 1]\n"
     ]
    }
   ],
   "source": [
    "print(y)"
   ]
  },
  {
   "cell_type": "markdown",
   "metadata": {
    "colab_type": "text",
    "id": "vHol938cW8zd"
   },
   "source": [
    "### Splitting the dataset into the Training set and Test set"
   ]
  },
  {
   "cell_type": "code",
   "execution_count": 6,
   "metadata": {
    "ExecuteTime": {
     "end_time": "2023-08-10T11:29:11.498323Z",
     "start_time": "2023-08-10T11:29:11.397995Z"
    },
    "colab": {},
    "colab_type": "code",
    "id": "Z-TDt0Y_XEfc"
   },
   "outputs": [
    {
     "name": "stdout",
     "output_type": "stream",
     "text": [
      "[0 0 0 0 1 0 1 0 0 1 0 0 0 0 0 0 0 0 0 0 0 0 0 0 1 0 0 0 0 1]\n"
     ]
    }
   ],
   "source": [
    "X_train, X_test, y_train, y_test = train_test_split(X, y, test_size = 0.2, random_state = 1)\n",
    "print(y_test)"
   ]
  },
  {
   "cell_type": "code",
   "execution_count": 7,
   "metadata": {
    "ExecuteTime": {
     "end_time": "2023-08-10T11:29:11.613835Z",
     "start_time": "2023-08-10T11:29:11.498323Z"
    }
   },
   "outputs": [],
   "source": [
    "# Instantiate SMOTE\n",
    "smote = SMOTE(random_state=42)\n",
    "\n",
    "# Apply SMOTE to the training data\n",
    "X_train_resampled, y_train_resampled = smote.fit_resample(X_train, y_train)\n"
   ]
  },
  {
   "cell_type": "markdown",
   "metadata": {
    "ExecuteTime": {
     "end_time": "2023-02-09T04:09:06.480640Z",
     "start_time": "2023-02-09T04:09:06.427245Z"
    },
    "colab": {},
    "colab_type": "code",
    "id": "ViCrE00rV8Sk"
   },
   "source": [
    "from sklearn.preprocessing import StandardScaler\n",
    "sc = StandardScaler()\n",
    "X_train = sc.fit_transform(X_train)\n",
    "X_test = sc.transform(X_test)"
   ]
  },
  {
   "cell_type": "markdown",
   "metadata": {
    "colab_type": "text",
    "id": "8GWlJChhY_ZI"
   },
   "source": [
    "### Compiling the Network"
   ]
  },
  {
   "cell_type": "code",
   "execution_count": 24,
   "metadata": {
    "ExecuteTime": {
     "end_time": "2023-08-10T11:40:22.143438Z",
     "start_time": "2023-08-10T11:40:20.206758Z"
    }
   },
   "outputs": [
    {
     "name": "stdout",
     "output_type": "stream",
     "text": [
      "Model: \"sequential_4\"\n",
      "_________________________________________________________________\n",
      " Layer (type)                Output Shape              Param #   \n",
      "=================================================================\n",
      " dense_16 (Dense)            (None, 300)               68700     \n",
      "                                                                 \n",
      " batch_normalization_9 (Batc  (None, 300)              1200      \n",
      " hNormalization)                                                 \n",
      "                                                                 \n",
      " dropout_11 (Dropout)        (None, 300)               0         \n",
      "                                                                 \n",
      " dense_17 (Dense)            (None, 100)               30100     \n",
      "                                                                 \n",
      " batch_normalization_10 (Bat  (None, 100)              400       \n",
      " chNormalization)                                                \n",
      "                                                                 \n",
      " dropout_12 (Dropout)        (None, 100)               0         \n",
      "                                                                 \n",
      " dense_18 (Dense)            (None, 10)                1010      \n",
      "                                                                 \n",
      " batch_normalization_11 (Bat  (None, 10)               40        \n",
      " chNormalization)                                                \n",
      "                                                                 \n",
      " dropout_13 (Dropout)        (None, 10)                0         \n",
      "                                                                 \n",
      " dense_19 (Dense)            (None, 1)                 11        \n",
      "                                                                 \n",
      "=================================================================\n",
      "Total params: 101,461\n",
      "Trainable params: 100,641\n",
      "Non-trainable params: 820\n",
      "_________________________________________________________________\n",
      "Epoch 1/100\n",
      "5/5 [==============================] - 1s 56ms/step - loss: 0.9835 - accuracy: 0.5109 - val_loss: 0.7589 - val_accuracy: 0.0000e+00 - lr: 0.0010\n",
      "Epoch 2/100\n",
      "5/5 [==============================] - 0s 12ms/step - loss: 1.1341 - accuracy: 0.4599 - val_loss: 0.9593 - val_accuracy: 0.0000e+00 - lr: 0.0010\n",
      "Epoch 3/100\n",
      "5/5 [==============================] - 0s 8ms/step - loss: 0.7699 - accuracy: 0.5912 - val_loss: 1.2042 - val_accuracy: 0.0000e+00 - lr: 0.0010\n",
      "Epoch 4/100\n",
      "5/5 [==============================] - 0s 9ms/step - loss: 0.8797 - accuracy: 0.5766 - val_loss: 1.3565 - val_accuracy: 0.0000e+00 - lr: 0.0010\n",
      "Epoch 5/100\n",
      "5/5 [==============================] - 0s 12ms/step - loss: 0.7526 - accuracy: 0.5985 - val_loss: 1.5371 - val_accuracy: 0.0000e+00 - lr: 0.0010\n",
      "Epoch 6/100\n",
      "5/5 [==============================] - 0s 9ms/step - loss: 0.5750 - accuracy: 0.7153 - val_loss: 1.7901 - val_accuracy: 0.0000e+00 - lr: 0.0010\n",
      "Epoch 7/100\n",
      "5/5 [==============================] - 0s 12ms/step - loss: 0.6298 - accuracy: 0.6934 - val_loss: 1.8177 - val_accuracy: 0.0000e+00 - lr: 2.0000e-04\n",
      "Epoch 8/100\n",
      "5/5 [==============================] - 0s 9ms/step - loss: 0.6692 - accuracy: 0.6350 - val_loss: 1.8505 - val_accuracy: 0.0000e+00 - lr: 2.0000e-04\n",
      "Epoch 9/100\n",
      "5/5 [==============================] - 0s 12ms/step - loss: 0.6546 - accuracy: 0.6788 - val_loss: 1.8799 - val_accuracy: 0.0000e+00 - lr: 2.0000e-04\n",
      "Epoch 10/100\n",
      "5/5 [==============================] - 0s 12ms/step - loss: 0.6840 - accuracy: 0.6861 - val_loss: 1.9272 - val_accuracy: 0.0000e+00 - lr: 2.0000e-04\n",
      "Epoch 11/100\n",
      "5/5 [==============================] - 0s 8ms/step - loss: 0.6510 - accuracy: 0.6788 - val_loss: 1.9713 - val_accuracy: 0.0000e+00 - lr: 2.0000e-04\n",
      "1/1 [==============================] - 0s 85ms/step\n",
      "[[25  0]\n",
      " [ 5  0]]\n",
      "Accuracy: 0.8333333333333334\n"
     ]
    }
   ],
   "source": [
    "\n",
    "# Define the keras model\n",
    "model = Sequential()\n",
    "model.add(Dense(300, input_shape=(228,), activation='relu'))\n",
    "model.add(BatchNormalization())\n",
    "model.add(Dropout(0.5))\n",
    "model.add(Dense(100, activation='relu'))\n",
    "model.add(BatchNormalization())\n",
    "model.add(Dropout(0.5))\n",
    "model.add(Dense(10, activation='relu'))\n",
    "model.add(BatchNormalization())\n",
    "model.add(Dropout(0.5))\n",
    "model.add(Dense(1, activation='sigmoid'))\n",
    "\n",
    "opt = Adam(learning_rate=0.001)\n",
    "model.compile(optimizer=opt, loss='binary_crossentropy', metrics=['accuracy'])\n",
    "model.summary()\n",
    "\n",
    "# Add the EarlyStopping and ReduceLROnPlateau callbacks\n",
    "early_stopping = EarlyStopping(monitor='val_loss', patience=10, restore_best_weights=True)\n",
    "reduce_lr = ReduceLROnPlateau(monitor='val_loss', factor=0.2, patience=5, min_lr=1e-6)\n",
    "\n",
    "history = model.fit(X_train_resampled, y_train_resampled, epochs=100, validation_split=0.2,\n",
    "                    callbacks=[early_stopping, reduce_lr])\n",
    "\n",
    "y_pred = model.predict(X_test)\n",
    "y_pred = (y_pred > 0.5)\n",
    "\n",
    "cm = confusion_matrix(y_test, y_pred)\n",
    "print(cm)\n",
    "accuracy = accuracy_score(y_test, y_pred)\n",
    "print(\"Accuracy:\", accuracy)\n"
   ]
  },
  {
   "cell_type": "code",
   "execution_count": 8,
   "metadata": {
    "ExecuteTime": {
     "end_time": "2023-08-10T11:29:11.760950Z",
     "start_time": "2023-08-10T11:29:11.613835Z"
    }
   },
   "outputs": [
    {
     "name": "stdout",
     "output_type": "stream",
     "text": [
      "Model: \"sequential\"\n",
      "_________________________________________________________________\n",
      " Layer (type)                Output Shape              Param #   \n",
      "=================================================================\n",
      " dense (Dense)               (None, 300)               68700     \n",
      "                                                                 \n",
      " dropout (Dropout)           (None, 300)               0         \n",
      "                                                                 \n",
      " dense_1 (Dense)             (None, 100)               30100     \n",
      "                                                                 \n",
      " dropout_1 (Dropout)         (None, 100)               0         \n",
      "                                                                 \n",
      " dense_2 (Dense)             (None, 10)                1010      \n",
      "                                                                 \n",
      " dense_3 (Dense)             (None, 1)                 11        \n",
      "                                                                 \n",
      "=================================================================\n",
      "Total params: 99,821\n",
      "Trainable params: 99,821\n",
      "Non-trainable params: 0\n",
      "_________________________________________________________________\n"
     ]
    }
   ],
   "source": [
    "# Define the keras model\n",
    "model = Sequential()\n",
    "model.add(Dense(300, input_shape=(228,), activation='relu', kernel_regularizer=l2(0.001)))  # L2 regularization added\n",
    "model.add(Dropout(0.2))  # Dropout layer added for regularization\n",
    "model.add(Dense(100, activation='relu', kernel_regularizer=l2(0.001)))  # L2 regularization added\n",
    "model.add(Dropout(0.2))  # Dropout layer added for regularization\n",
    "model.add(Dense(10, activation='relu', kernel_regularizer=l2(0.001)))   # L2 regularization added\n",
    "model.add(Dense(1, activation='sigmoid'))\n",
    "\n",
    "opt = Adam(learning_rate=0.01)\n",
    "model.compile(optimizer=opt, loss='binary_crossentropy', metrics=['accuracy'])\n",
    "model.summary()"
   ]
  },
  {
   "cell_type": "markdown",
   "metadata": {
    "ExecuteTime": {
     "end_time": "2023-03-09T08:34:07.023122Z",
     "start_time": "2023-03-09T08:34:06.991883Z"
    }
   },
   "source": [
    "ann = tf.keras.models.Sequential()\n",
    "ann.add(tf.keras.layers.Dense(units=10, activation='relu', kernel_regularizer=tf.keras.regularizers.l1(0.01)))\n",
    "#ann.add(tf.keras.layers.Dropout(0.1))\n",
    "ann.add(tf.keras.layers.Dense(units=5, activation='relu', kernel_regularizer=tf.keras.regularizers.l1(0.01)))\n",
    "#ann.add(tf.keras.layers.Dropout(0.1))\n",
    "ann.add(tf.keras.layers.Dense(units=1, activation='sigmoid'))\n",
    "ann.compile(optimizer = 'adam', loss = 'binary_crossentropy', metrics = ['accuracy'])"
   ]
  },
  {
   "cell_type": "markdown",
   "metadata": {
    "colab_type": "text",
    "id": "0QR_G5u7ZLSM"
   },
   "source": [
    "### Training the ANN on the Training set"
   ]
  },
  {
   "cell_type": "code",
   "execution_count": 9,
   "metadata": {
    "ExecuteTime": {
     "end_time": "2023-08-10T11:29:14.438825Z",
     "start_time": "2023-08-10T11:29:11.760950Z"
    },
    "colab": {
     "base_uri": "https://localhost:8080/",
     "height": 1000
    },
    "colab_type": "code",
    "executionInfo": {
     "elapsed": 33685,
     "status": "ok",
     "timestamp": 1590257481284,
     "user": {
      "displayName": "Hadelin de Ponteves",
      "photoUrl": "https://lh3.googleusercontent.com/a-/AOh14GhEuXdT7eQweUmRPW8_laJuPggSK6hfvpl5a6WBaA=s64",
      "userId": "15047218817161520419"
     },
     "user_tz": -240
    },
    "id": "nHZ-LKv_ZRb3",
    "outputId": "718cc4b0-b5aa-40f0-9b20-d3d31730a531",
    "scrolled": true
   },
   "outputs": [
    {
     "name": "stdout",
     "output_type": "stream",
     "text": [
      "Epoch 1/50\n",
      "5/5 [==============================] - 1s 46ms/step - loss: 1.2409 - accuracy: 0.5109 - val_loss: 1.4530 - val_accuracy: 0.0000e+00\n",
      "Epoch 2/50\n",
      "5/5 [==============================] - 0s 8ms/step - loss: 0.9035 - accuracy: 0.6277 - val_loss: 1.1036 - val_accuracy: 0.0000e+00\n",
      "Epoch 3/50\n",
      "5/5 [==============================] - 0s 8ms/step - loss: 0.8395 - accuracy: 0.6350 - val_loss: 1.4084 - val_accuracy: 0.0000e+00\n",
      "Epoch 4/50\n",
      "5/5 [==============================] - 0s 6ms/step - loss: 0.8725 - accuracy: 0.6277 - val_loss: 1.1387 - val_accuracy: 0.0000e+00\n",
      "Epoch 5/50\n",
      "5/5 [==============================] - 0s 12ms/step - loss: 0.8160 - accuracy: 0.6350 - val_loss: 1.0111 - val_accuracy: 0.0000e+00\n",
      "Epoch 6/50\n",
      "5/5 [==============================] - 0s 8ms/step - loss: 0.7965 - accuracy: 0.6277 - val_loss: 1.2221 - val_accuracy: 0.0000e+00\n",
      "Epoch 7/50\n",
      "5/5 [==============================] - 0s 8ms/step - loss: 0.7715 - accuracy: 0.6277 - val_loss: 1.0907 - val_accuracy: 0.0000e+00\n",
      "Epoch 8/50\n",
      "5/5 [==============================] - 0s 8ms/step - loss: 0.7667 - accuracy: 0.6277 - val_loss: 1.0621 - val_accuracy: 0.0000e+00\n",
      "Epoch 9/50\n",
      "5/5 [==============================] - 0s 9ms/step - loss: 0.7612 - accuracy: 0.6277 - val_loss: 1.1233 - val_accuracy: 0.0000e+00\n",
      "Epoch 10/50\n",
      "5/5 [==============================] - 0s 8ms/step - loss: 0.7529 - accuracy: 0.6277 - val_loss: 1.0084 - val_accuracy: 0.0000e+00\n",
      "Epoch 11/50\n",
      "5/5 [==============================] - 0s 8ms/step - loss: 0.7380 - accuracy: 0.6277 - val_loss: 1.0574 - val_accuracy: 0.0000e+00\n",
      "Epoch 12/50\n",
      "5/5 [==============================] - 0s 6ms/step - loss: 0.7379 - accuracy: 0.6277 - val_loss: 1.0604 - val_accuracy: 0.0000e+00\n",
      "Epoch 13/50\n",
      "5/5 [==============================] - 0s 8ms/step - loss: 0.7175 - accuracy: 0.6277 - val_loss: 0.8673 - val_accuracy: 0.0000e+00\n",
      "Epoch 14/50\n",
      "5/5 [==============================] - 0s 8ms/step - loss: 0.7208 - accuracy: 0.6204 - val_loss: 1.0501 - val_accuracy: 0.0000e+00\n",
      "Epoch 15/50\n",
      "5/5 [==============================] - 0s 9ms/step - loss: 0.7449 - accuracy: 0.6277 - val_loss: 1.0268 - val_accuracy: 0.0000e+00\n",
      "Epoch 16/50\n",
      "5/5 [==============================] - 0s 8ms/step - loss: 0.7006 - accuracy: 0.6204 - val_loss: 1.0964 - val_accuracy: 0.0000e+00\n",
      "Epoch 17/50\n",
      "5/5 [==============================] - 0s 8ms/step - loss: 0.7102 - accuracy: 0.6277 - val_loss: 0.9233 - val_accuracy: 0.0000e+00\n",
      "Epoch 18/50\n",
      "5/5 [==============================] - 0s 8ms/step - loss: 0.7063 - accuracy: 0.6350 - val_loss: 1.0188 - val_accuracy: 0.0000e+00\n",
      "Epoch 19/50\n",
      "5/5 [==============================] - 0s 8ms/step - loss: 0.7062 - accuracy: 0.6277 - val_loss: 0.9800 - val_accuracy: 0.0000e+00\n",
      "Epoch 20/50\n",
      "5/5 [==============================] - 0s 9ms/step - loss: 0.7017 - accuracy: 0.6277 - val_loss: 0.9904 - val_accuracy: 0.0000e+00\n",
      "Epoch 21/50\n",
      "5/5 [==============================] - 0s 8ms/step - loss: 0.7007 - accuracy: 0.6277 - val_loss: 1.1340 - val_accuracy: 0.0000e+00\n",
      "Epoch 22/50\n",
      "5/5 [==============================] - 0s 8ms/step - loss: 0.7004 - accuracy: 0.6277 - val_loss: 0.9796 - val_accuracy: 0.0000e+00\n",
      "Epoch 23/50\n",
      "5/5 [==============================] - 0s 9ms/step - loss: 0.6828 - accuracy: 0.6277 - val_loss: 1.0980 - val_accuracy: 0.0000e+00\n",
      "Epoch 24/50\n",
      "5/5 [==============================] - 0s 8ms/step - loss: 0.7010 - accuracy: 0.6277 - val_loss: 0.8711 - val_accuracy: 0.0000e+00\n",
      "Epoch 25/50\n",
      "5/5 [==============================] - 0s 8ms/step - loss: 0.6949 - accuracy: 0.6277 - val_loss: 0.8461 - val_accuracy: 0.0000e+00\n",
      "Epoch 26/50\n",
      "5/5 [==============================] - 0s 6ms/step - loss: 0.6977 - accuracy: 0.6277 - val_loss: 0.8917 - val_accuracy: 0.0000e+00\n",
      "Epoch 27/50\n",
      "5/5 [==============================] - 0s 8ms/step - loss: 0.6786 - accuracy: 0.6277 - val_loss: 1.1286 - val_accuracy: 0.0000e+00\n",
      "Epoch 28/50\n",
      "5/5 [==============================] - 0s 8ms/step - loss: 0.7539 - accuracy: 0.6277 - val_loss: 0.9600 - val_accuracy: 0.0000e+00\n",
      "Epoch 29/50\n",
      "5/5 [==============================] - 0s 9ms/step - loss: 0.6886 - accuracy: 0.6277 - val_loss: 0.9247 - val_accuracy: 0.0000e+00\n",
      "Epoch 30/50\n",
      "5/5 [==============================] - 0s 8ms/step - loss: 0.6870 - accuracy: 0.6277 - val_loss: 0.9547 - val_accuracy: 0.0000e+00\n",
      "Epoch 31/50\n",
      "5/5 [==============================] - 0s 8ms/step - loss: 0.6862 - accuracy: 0.6277 - val_loss: 1.0174 - val_accuracy: 0.0000e+00\n",
      "Epoch 32/50\n",
      "5/5 [==============================] - 0s 6ms/step - loss: 0.6847 - accuracy: 0.6277 - val_loss: 0.9498 - val_accuracy: 0.0000e+00\n",
      "Epoch 33/50\n",
      "5/5 [==============================] - 0s 8ms/step - loss: 0.6845 - accuracy: 0.6277 - val_loss: 1.0030 - val_accuracy: 0.0000e+00\n",
      "Epoch 34/50\n",
      "5/5 [==============================] - 0s 8ms/step - loss: 0.6854 - accuracy: 0.6277 - val_loss: 1.0208 - val_accuracy: 0.0000e+00\n",
      "Epoch 35/50\n",
      "5/5 [==============================] - 0s 8ms/step - loss: 0.6805 - accuracy: 0.6277 - val_loss: 1.0590 - val_accuracy: 0.0000e+00\n",
      "Epoch 36/50\n",
      "5/5 [==============================] - 0s 8ms/step - loss: 0.6749 - accuracy: 0.6277 - val_loss: 0.9262 - val_accuracy: 0.0000e+00\n",
      "Epoch 37/50\n",
      "5/5 [==============================] - 0s 9ms/step - loss: 0.6838 - accuracy: 0.6277 - val_loss: 0.9582 - val_accuracy: 0.0000e+00\n",
      "Epoch 38/50\n",
      "5/5 [==============================] - 0s 8ms/step - loss: 0.6715 - accuracy: 0.6277 - val_loss: 1.0732 - val_accuracy: 0.0000e+00\n",
      "Epoch 39/50\n",
      "5/5 [==============================] - 0s 8ms/step - loss: 0.6802 - accuracy: 0.6277 - val_loss: 1.0327 - val_accuracy: 0.0000e+00\n",
      "Epoch 40/50\n",
      "5/5 [==============================] - 0s 6ms/step - loss: 0.6725 - accuracy: 0.6277 - val_loss: 0.9295 - val_accuracy: 0.0000e+00\n",
      "Epoch 41/50\n",
      "5/5 [==============================] - 0s 8ms/step - loss: 0.6792 - accuracy: 0.6277 - val_loss: 0.8990 - val_accuracy: 0.0000e+00\n",
      "Epoch 42/50\n",
      "5/5 [==============================] - 0s 4ms/step - loss: 0.6775 - accuracy: 0.6277 - val_loss: 0.9412 - val_accuracy: 0.0000e+00\n",
      "Epoch 43/50\n",
      "5/5 [==============================] - 0s 6ms/step - loss: 0.6802 - accuracy: 0.6277 - val_loss: 1.0065 - val_accuracy: 0.0000e+00\n",
      "Epoch 44/50\n",
      "5/5 [==============================] - 0s 4ms/step - loss: 0.6736 - accuracy: 0.6277 - val_loss: 0.9948 - val_accuracy: 0.0000e+00\n",
      "Epoch 45/50\n",
      "5/5 [==============================] - 0s 8ms/step - loss: 0.6711 - accuracy: 0.6277 - val_loss: 0.9035 - val_accuracy: 0.0000e+00\n",
      "Epoch 46/50\n",
      "5/5 [==============================] - 0s 9ms/step - loss: 0.6716 - accuracy: 0.6277 - val_loss: 0.9074 - val_accuracy: 0.0000e+00\n",
      "Epoch 47/50\n",
      "5/5 [==============================] - 0s 8ms/step - loss: 0.6744 - accuracy: 0.6277 - val_loss: 0.9695 - val_accuracy: 0.0000e+00\n",
      "Epoch 48/50\n",
      "5/5 [==============================] - 0s 8ms/step - loss: 0.6727 - accuracy: 0.6277 - val_loss: 0.9627 - val_accuracy: 0.0000e+00\n",
      "Epoch 49/50\n",
      "5/5 [==============================] - 0s 6ms/step - loss: 0.6703 - accuracy: 0.6277 - val_loss: 0.9711 - val_accuracy: 0.0000e+00\n",
      "Epoch 50/50\n",
      "5/5 [==============================] - 0s 8ms/step - loss: 0.6692 - accuracy: 0.6277 - val_loss: 0.9881 - val_accuracy: 0.0000e+00\n"
     ]
    }
   ],
   "source": [
    "history = model.fit(X_train_resampled, y_train_resampled, epochs = 50, validation_split = 0.2)"
   ]
  },
  {
   "cell_type": "markdown",
   "metadata": {
    "colab_type": "text",
    "id": "tJj5k2MxZga3"
   },
   "source": [
    "## Part 4 - Making the predictions and evaluating the model"
   ]
  },
  {
   "cell_type": "markdown",
   "metadata": {
    "colab_type": "text",
    "id": "u7yx47jPZt11"
   },
   "source": [
    "### Predicting the Test set results"
   ]
  },
  {
   "cell_type": "code",
   "execution_count": 25,
   "metadata": {
    "ExecuteTime": {
     "end_time": "2023-08-10T11:41:39.299660Z",
     "start_time": "2023-08-10T11:41:39.130418Z"
    },
    "scrolled": false
   },
   "outputs": [
    {
     "data": {
      "image/png": "[encoded data removed]",
      "text/plain": [
       "<Figure size 640x480 with 1 Axes>"
      ]
     },
     "metadata": {},
     "output_type": "display_data"
    }
   ],
   "source": [
    "# Plot training and validation loss\n",
    "plt.plot(history.history['loss'], label='train_loss')\n",
    "plt.plot(history.history['val_loss'], label='val_loss')\n",
    "plt.xlabel('Epochs')\n",
    "plt.ylabel('Loss')\n",
    "plt.legend()\n",
    "plt.show()"
   ]
  },
  {
   "cell_type": "code",
   "execution_count": 26,
   "metadata": {
    "ExecuteTime": {
     "end_time": "2023-08-10T11:41:44.132439Z",
     "start_time": "2023-08-10T11:41:43.978747Z"
    }
   },
   "outputs": [
    {
     "data": {
      "image/png": "[encoded data removed]",
      "text/plain": [
       "<Figure size 640x480 with 1 Axes>"
      ]
     },
     "metadata": {},
     "output_type": "display_data"
    }
   ],
   "source": [
    "# Plot training and validation accuracy\n",
    "plt.plot(history.history['accuracy'], label='train_acc')\n",
    "plt.plot(history.history['val_accuracy'], label='val_acc')\n",
    "plt.xlabel('Epochs')\n",
    "plt.ylabel('Accuracy')\n",
    "plt.legend()\n",
    "plt.show()"
   ]
  },
  {
   "cell_type": "code",
   "execution_count": 27,
   "metadata": {
    "ExecuteTime": {
     "end_time": "2023-08-10T11:44:30.128279Z",
     "start_time": "2023-08-10T11:44:30.059283Z"
    },
    "colab": {
     "base_uri": "https://localhost:8080/",
     "height": 137
    },
    "colab_type": "code",
    "executionInfo": {
     "elapsed": 33987,
     "status": "ok",
     "timestamp": 1590257481595,
     "user": {
      "displayName": "Hadelin de Ponteves",
      "photoUrl": "https://lh3.googleusercontent.com/a-/AOh14GhEuXdT7eQweUmRPW8_laJuPggSK6hfvpl5a6WBaA=s64",
      "userId": "15047218817161520419"
     },
     "user_tz": -240
    },
    "id": "nIyEeQdRZwgs",
    "outputId": "82330ba8-9bdc-4fd1-d3cf-b6d78ee7c2a3",
    "scrolled": true
   },
   "outputs": [
    {
     "name": "stdout",
     "output_type": "stream",
     "text": [
      "1/1 [==============================] - 0s 16ms/step\n",
      "[[0 0]\n",
      " [0 0]\n",
      " [0 0]\n",
      " [0 0]\n",
      " [0 1]\n",
      " [0 0]\n",
      " [0 1]\n",
      " [0 0]\n",
      " [0 0]\n",
      " [0 1]\n",
      " [0 0]\n",
      " [0 0]\n",
      " [0 0]\n",
      " [0 0]\n",
      " [0 0]\n",
      " [0 0]\n",
      " [0 0]\n",
      " [0 0]\n",
      " [0 0]\n",
      " [0 0]\n",
      " [0 0]\n",
      " [0 0]\n",
      " [0 0]\n",
      " [0 0]\n",
      " [0 1]\n",
      " [0 0]\n",
      " [0 0]\n",
      " [0 0]\n",
      " [0 0]\n",
      " [0 1]]\n"
     ]
    }
   ],
   "source": [
    "y_pred = model.predict(X_test)\n",
    "y_pred = (y_pred > 0.5)\n",
    "print(np.concatenate((y_pred.reshape(len(y_pred),1), y_test.reshape(len(y_test),1)),1))"
   ]
  },
  {
   "cell_type": "markdown",
   "metadata": {
    "colab_type": "text",
    "id": "o0oyfLWoaEGw"
   },
   "source": [
    "### Making the Confusion Matrix"
   ]
  },
  {
   "cell_type": "code",
   "execution_count": 28,
   "metadata": {
    "ExecuteTime": {
     "end_time": "2023-08-10T11:44:54.127203Z",
     "start_time": "2023-08-10T11:44:54.111547Z"
    },
    "colab": {
     "base_uri": "https://localhost:8080/",
     "height": 68
    },
    "colab_type": "code",
    "executionInfo": {
     "elapsed": 33981,
     "status": "ok",
     "timestamp": 1590257481595,
     "user": {
      "displayName": "Hadelin de Ponteves",
      "photoUrl": "https://lh3.googleusercontent.com/a-/AOh14GhEuXdT7eQweUmRPW8_laJuPggSK6hfvpl5a6WBaA=s64",
      "userId": "15047218817161520419"
     },
     "user_tz": -240
    },
    "id": "ci6K_r6LaF6P",
    "outputId": "4d854e9e-22d5-432f-f6e5-a102fe3ae0bd",
    "run_control": {
     "marked": false
    }
   },
   "outputs": [
    {
     "name": "stdout",
     "output_type": "stream",
     "text": [
      "[[25  0]\n",
      " [ 5  0]]\n"
     ]
    },
    {
     "data": {
      "text/plain": [
       "0.8333333333333334"
      ]
     },
     "execution_count": 28,
     "metadata": {},
     "output_type": "execute_result"
    }
   ],
   "source": [
    "cm = confusion_matrix(y_test, y_pred)\n",
    "print(cm)\n",
    "accuracy_score(y_test, y_pred)"
   ]
  },
  {
   "cell_type": "code",
   "execution_count": 29,
   "metadata": {
    "ExecuteTime": {
     "end_time": "2023-08-10T11:44:56.704529Z",
     "start_time": "2023-08-10T11:44:56.673266Z"
    }
   },
   "outputs": [
    {
     "name": "stdout",
     "output_type": "stream",
     "text": [
      "Model has dropout layers.\n"
     ]
    }
   ],
   "source": [
    "has_dropout = False\n",
    "for layer in model.layers:\n",
    "    if isinstance(layer, tf.keras.layers.Dropout):\n",
    "        has_dropout = True\n",
    "        break\n",
    "if has_dropout:\n",
    "    print(\"Model has dropout layers.\")\n",
    "else:\n",
    "    print(\"Model does not have dropout layers.\")\n"
   ]
  },
  {
   "cell_type": "code",
   "execution_count": 30,
   "metadata": {
    "ExecuteTime": {
     "end_time": "2023-08-10T11:44:58.757301Z",
     "start_time": "2023-08-10T11:44:58.741705Z"
    },
    "scrolled": true
   },
   "outputs": [
    {
     "name": "stdout",
     "output_type": "stream",
     "text": [
      "Model does not have regularization.\n"
     ]
    }
   ],
   "source": [
    "has_regularization = False\n",
    "for layer in model.layers:\n",
    "    if isinstance(layer, tf.keras.layers.Dense):\n",
    "        if layer.kernel_regularizer is not None or layer.bias_regularizer is not None:\n",
    "            has_regularization = True\n",
    "            break\n",
    "if has_regularization:\n",
    "    print(\"Model has regularization.\")\n",
    "else:\n",
    "    print(\"Model does not have regularization.\")\n"
   ]
  },
  {
   "cell_type": "markdown",
   "metadata": {},
   "source": [
    "## Save model"
   ]
  },
  {
   "cell_type": "code",
   "execution_count": 16,
   "metadata": {
    "ExecuteTime": {
     "end_time": "2023-08-10T11:29:15.328282Z",
     "start_time": "2023-08-10T11:29:15.178999Z"
    }
   },
   "outputs": [],
   "source": [
    "# Save model\n",
    "#model.save(\"model_ann.h5\")"
   ]
  },
  {
   "cell_type": "code",
   "execution_count": 17,
   "metadata": {
    "ExecuteTime": {
     "end_time": "2023-08-10T11:29:15.426609Z",
     "start_time": "2023-08-10T11:29:15.328282Z"
    },
    "scrolled": false
   },
   "outputs": [
    {
     "name": "stdout",
     "output_type": "stream",
     "text": [
      "Model: \"sequential\"\n",
      "_________________________________________________________________\n",
      " Layer (type)                Output Shape              Param #   \n",
      "=================================================================\n",
      " dense (Dense)               (None, 300)               68700     \n",
      "                                                                 \n",
      " dropout (Dropout)           (None, 300)               0         \n",
      "                                                                 \n",
      " dense_1 (Dense)             (None, 100)               30100     \n",
      "                                                                 \n",
      " dropout_1 (Dropout)         (None, 100)               0         \n",
      "                                                                 \n",
      " dense_2 (Dense)             (None, 10)                1010      \n",
      "                                                                 \n",
      " dense_3 (Dense)             (None, 1)                 11        \n",
      "                                                                 \n",
      "=================================================================\n",
      "Total params: 99,821\n",
      "Trainable params: 99,821\n",
      "Non-trainable params: 0\n",
      "_________________________________________________________________\n"
     ]
    }
   ],
   "source": [
    "model.summary()"
   ]
  },
  {
   "cell_type": "code",
   "execution_count": null,
   "metadata": {},
   "outputs": [],
   "source": []
  }
 ],
 "metadata": {
  "colab": {
   "authorship_tag": "ABX9TyMeRFWFoGrdaL5S3dx5MWmb",
   "collapsed_sections": [],
   "name": "artificial_neural_network.ipynb",
   "provenance": [],
   "toc_visible": true
  },
  "kernelspec": {
   "display_name": "Python 3 (ipykernel)",
   "language": "python",
   "name": "python3"
  },
  "language_info": {
   "codemirror_mode": {
    "name": "ipython",
    "version": 3
   },
   "file_extension": ".py",
   "mimetype": "text/x-python",
   "name": "python",
   "nbconvert_exporter": "python",
   "pygments_lexer": "ipython3",
   "version": "3.9.16"
  },
  "toc": {
   "base_numbering": 1,
   "nav_menu": {},
   "number_sections": true,
   "sideBar": true,
   "skip_h1_title": false,
   "title_cell": "Table of Contents",
   "title_sidebar": "Contents",
   "toc_cell": false,
   "toc_position": {},
   "toc_section_display": true,
   "toc_window_display": false
  },
  "varInspector": {
   "cols": {
    "lenName": 16,
    "lenType": 16,
    "lenVar": 40
   },
   "kernels_config": {
    "python": {
     "delete_cmd_postfix": "",
     "delete_cmd_prefix": "del ",
     "library": "var_list.py",
     "varRefreshCmd": "print(var_dic_list())"
    },
    "r": {
     "delete_cmd_postfix": ") ",
     "delete_cmd_prefix": "rm(",
     "library": "var_list.r",
     "varRefreshCmd": "cat(var_dic_list()) "
    }
   },
   "types_to_exclude": [
    "module",
    "function",
    "builtin_function_or_method",
    "instance",
    "_Feature"
   ],
   "window_display": false
  }
 },
 "nbformat": 4,
 "nbformat_minor": 1
}
