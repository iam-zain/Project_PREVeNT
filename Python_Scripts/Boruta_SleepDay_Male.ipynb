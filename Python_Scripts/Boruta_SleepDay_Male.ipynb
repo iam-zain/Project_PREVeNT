{
 "cells": [
  {
   "cell_type": "code",
   "execution_count": 1,
   "id": "51c5704f",
   "metadata": {
    "ExecuteTime": {
     "end_time": "2023-01-12T09:02:56.579849Z",
     "start_time": "2023-01-12T09:02:55.345313Z"
    }
   },
   "outputs": [],
   "source": [
    "import numpy as np\n",
    "import pandas as pd\n",
    "from boruta import BorutaPy\n",
    "from sklearn.datasets import load_diabetes\n",
    "from sklearn.metrics import accuracy_score \n",
    "from sklearn.ensemble import RandomForestRegressor\n",
    "from sklearn.ensemble import RandomForestClassifier\n",
    "from sklearn.model_selection import train_test_split"
   ]
  },
  {
   "cell_type": "code",
   "execution_count": 2,
   "id": "5ff336b1",
   "metadata": {
    "ExecuteTime": {
     "end_time": "2023-01-12T09:02:58.776519Z",
     "start_time": "2023-01-12T09:02:56.579849Z"
    }
   },
   "outputs": [
    {
     "name": "stdout",
     "output_type": "stream",
     "text": [
      "Z:\\PPMI_Data\\Excels\\NonMotors\\Derived250\\Male\\GeneCpG\\SleepDay\n"
     ]
    },
    {
     "data": {
      "text/html": [
       "<div>\n",
       "<style scoped>\n",
       "    .dataframe tbody tr th:only-of-type {\n",
       "        vertical-align: middle;\n",
       "    }\n",
       "\n",
       "    .dataframe tbody tr th {\n",
       "        vertical-align: top;\n",
       "    }\n",
       "\n",
       "    .dataframe thead th {\n",
       "        text-align: right;\n",
       "    }\n",
       "</style>\n",
       "<table border=\"1\" class=\"dataframe\">\n",
       "  <thead>\n",
       "    <tr style=\"text-align: right;\">\n",
       "      <th></th>\n",
       "      <th>Sentrix</th>\n",
       "      <th>PATNO</th>\n",
       "      <th>HYS</th>\n",
       "      <th>APPRDX</th>\n",
       "      <th>MDSP_SleepDay</th>\n",
       "      <th>cg03441945</th>\n",
       "      <th>cg21094410</th>\n",
       "      <th>cg22926093</th>\n",
       "      <th>cg25025609</th>\n",
       "      <th>cg16704802</th>\n",
       "      <th>...</th>\n",
       "      <th>cg00877887</th>\n",
       "      <th>cg10042437</th>\n",
       "      <th>cg11708297</th>\n",
       "      <th>cg11562513</th>\n",
       "      <th>cg02337566</th>\n",
       "      <th>cg02550961</th>\n",
       "      <th>cg04001842</th>\n",
       "      <th>cg02454595</th>\n",
       "      <th>cg07821960</th>\n",
       "      <th>cg21267231</th>\n",
       "    </tr>\n",
       "  </thead>\n",
       "  <tbody>\n",
       "    <tr>\n",
       "      <th>0</th>\n",
       "      <td>200991620021_R01C01</td>\n",
       "      <td>3001</td>\n",
       "      <td>2</td>\n",
       "      <td>1</td>\n",
       "      <td>1</td>\n",
       "      <td>0.908813</td>\n",
       "      <td>0.01135</td>\n",
       "      <td>0.012197</td>\n",
       "      <td>0.022372</td>\n",
       "      <td>0.018128</td>\n",
       "      <td>...</td>\n",
       "      <td>0.057492</td>\n",
       "      <td>0.172612</td>\n",
       "      <td>0.036982</td>\n",
       "      <td>0.032567</td>\n",
       "      <td>0.175452</td>\n",
       "      <td>0.036156</td>\n",
       "      <td>0.115088</td>\n",
       "      <td>0.058504</td>\n",
       "      <td>0.128815</td>\n",
       "      <td>0.197503</td>\n",
       "    </tr>\n",
       "  </tbody>\n",
       "</table>\n",
       "<p>1 rows × 10420 columns</p>\n",
       "</div>"
      ],
      "text/plain": [
       "               Sentrix  PATNO  HYS  APPRDX  MDSP_SleepDay  cg03441945  \\\n",
       "0  200991620021_R01C01   3001    2       1              1    0.908813   \n",
       "\n",
       "   cg21094410  cg22926093  cg25025609  cg16704802  ...  cg00877887  \\\n",
       "0     0.01135    0.012197    0.022372    0.018128  ...    0.057492   \n",
       "\n",
       "   cg10042437  cg11708297  cg11562513  cg02337566  cg02550961  cg04001842  \\\n",
       "0    0.172612    0.036982    0.032567    0.175452    0.036156    0.115088   \n",
       "\n",
       "   cg02454595  cg07821960  cg21267231  \n",
       "0    0.058504    0.128815    0.197503  \n",
       "\n",
       "[1 rows x 10420 columns]"
      ]
     },
     "execution_count": 2,
     "metadata": {},
     "output_type": "execute_result"
    }
   ],
   "source": [
    "%cd Z:\\PPMI_Data\\Excels\\NonMotors\\Derived250\\Male\\GeneCpG\\SleepDay\n",
    "data = pd.read_csv('SleepDayCateg_Methylome_Male.csv')\n",
    "data.head(1)"
   ]
  },
  {
   "cell_type": "code",
   "execution_count": 3,
   "id": "ee22df7a",
   "metadata": {
    "ExecuteTime": {
     "end_time": "2023-01-12T09:02:58.823393Z",
     "start_time": "2023-01-12T09:02:58.776519Z"
    }
   },
   "outputs": [],
   "source": [
    "X = data.drop(['Sentrix','PATNO','HYS','APPRDX','MDSP_SleepDay'], axis = 1)\n",
    "y = data['APPRDX']\n",
    "X_train, X_test, y_train, y_test = train_test_split(X, y, test_size = .2, random_state = 1) "
   ]
  },
  {
   "cell_type": "code",
   "execution_count": 4,
   "id": "c1ee3e48",
   "metadata": {
    "ExecuteTime": {
     "end_time": "2023-01-12T09:02:59.816164Z",
     "start_time": "2023-01-12T09:02:58.823393Z"
    }
   },
   "outputs": [
    {
     "data": {
      "text/plain": [
       "RandomForestClassifier(random_state=1)"
      ]
     },
     "execution_count": 4,
     "metadata": {},
     "output_type": "execute_result"
    }
   ],
   "source": [
    "rf_all_features = RandomForestClassifier(random_state=1)\n",
    "rf_all_features.fit(X_train, y_train)"
   ]
  },
  {
   "cell_type": "code",
   "execution_count": 5,
   "id": "f17f8606",
   "metadata": {
    "ExecuteTime": {
     "end_time": "2023-01-12T09:02:59.894361Z",
     "start_time": "2023-01-12T09:02:59.816164Z"
    }
   },
   "outputs": [
    {
     "data": {
      "text/plain": [
       "0.6612903225806451"
      ]
     },
     "execution_count": 5,
     "metadata": {},
     "output_type": "execute_result"
    }
   ],
   "source": [
    "accuracy_score(y_test, rf_all_features.predict(X_test))"
   ]
  },
  {
   "cell_type": "code",
   "execution_count": 6,
   "id": "5ba608ac",
   "metadata": {
    "ExecuteTime": {
     "end_time": "2023-01-12T09:05:20.360194Z",
     "start_time": "2023-01-12T09:02:59.894361Z"
    }
   },
   "outputs": [
    {
     "name": "stdout",
     "output_type": "stream",
     "text": [
      "Iteration: 1 / 100\n",
      "Iteration: 2 / 100\n",
      "Iteration: 3 / 100\n",
      "Iteration: 4 / 100\n",
      "Iteration: 5 / 100\n",
      "Iteration: 6 / 100\n",
      "Iteration: 7 / 100\n",
      "Iteration: 8 / 100\n",
      "Iteration: 9 / 100\n",
      "Iteration: 10 / 100\n",
      "Iteration: 11 / 100\n",
      "Iteration: 12 / 100\n",
      "Iteration: 13 / 100\n",
      "Iteration: 14 / 100\n",
      "Iteration: 15 / 100\n",
      "Iteration: 16 / 100\n",
      "Iteration: 17 / 100\n",
      "Iteration: 18 / 100\n",
      "Iteration: 19 / 100\n",
      "Iteration: 20 / 100\n",
      "Iteration: 21 / 100\n",
      "Iteration: 22 / 100\n",
      "Iteration: 23 / 100\n",
      "Iteration: 24 / 100\n",
      "Iteration: 25 / 100\n",
      "Iteration: 26 / 100\n",
      "Iteration: 27 / 100\n",
      "Iteration: 28 / 100\n",
      "Iteration: 29 / 100\n",
      "Iteration: 30 / 100\n",
      "Iteration: 31 / 100\n",
      "Iteration: 32 / 100\n",
      "Iteration: 33 / 100\n",
      "Iteration: 34 / 100\n",
      "Iteration: 35 / 100\n",
      "Iteration: 36 / 100\n",
      "Iteration: 37 / 100\n",
      "Iteration: 38 / 100\n",
      "Iteration: 39 / 100\n",
      "Iteration: 40 / 100\n",
      "Iteration: 41 / 100\n",
      "Iteration: 42 / 100\n",
      "Iteration: 43 / 100\n",
      "Iteration: 44 / 100\n",
      "Iteration: 45 / 100\n",
      "Iteration: 46 / 100\n",
      "Iteration: 47 / 100\n",
      "Iteration: 48 / 100\n",
      "Iteration: 49 / 100\n",
      "Iteration: 50 / 100\n",
      "Iteration: 51 / 100\n",
      "\n",
      "\n",
      "BorutaPy finished running.\n",
      "\n",
      "Iteration: \t52 / 100\n",
      "Confirmed: \t1\n",
      "Tentative: \t0\n",
      "Rejected: \t10414\n"
     ]
    },
    {
     "data": {
      "text/plain": [
       "BorutaPy(estimator=RandomForestClassifier(n_estimators=14,\n",
       "                                          random_state=RandomState(MT19937) at 0x259A3928740),\n",
       "         n_estimators='auto',\n",
       "         random_state=RandomState(MT19937) at 0x259A3928740, verbose=1)"
      ]
     },
     "execution_count": 6,
     "metadata": {},
     "output_type": "execute_result"
    }
   ],
   "source": [
    "rfc = RandomForestClassifier(random_state=1)\n",
    "boruta_selector = BorutaPy(rfc, n_estimators= 'auto', verbose=1, random_state=1)\n",
    "boruta_selector.fit(np.array(X_train), np.array(y_train))  "
   ]
  },
  {
   "cell_type": "code",
   "execution_count": 7,
   "id": "51f874e0",
   "metadata": {
    "ExecuteTime": {
     "end_time": "2023-01-12T09:05:20.375819Z",
     "start_time": "2023-01-12T09:05:20.360194Z"
    }
   },
   "outputs": [
    {
     "name": "stdout",
     "output_type": "stream",
     "text": [
      "No. of significant features:  1\n"
     ]
    }
   ],
   "source": [
    "# print(\"Ranking: \",boruta_selector.ranking_)          \n",
    "print(\"No. of significant features: \", boruta_selector.n_features_)"
   ]
  },
  {
   "cell_type": "code",
   "execution_count": 8,
   "id": "61cadc89",
   "metadata": {
    "ExecuteTime": {
     "end_time": "2023-01-12T09:05:20.460459Z",
     "start_time": "2023-01-12T09:05:20.375819Z"
    }
   },
   "outputs": [],
   "source": [
    "selected_rf_features = pd.DataFrame({'CpG':list(X_train.columns),\n",
    "                                       'Ranking':boruta_selector.ranking_})\n",
    "selected_rf_features = selected_rf_features.sort_values(by='Ranking')"
   ]
  },
  {
   "cell_type": "code",
   "execution_count": 9,
   "id": "6ae888ab",
   "metadata": {
    "ExecuteTime": {
     "end_time": "2023-01-12T09:05:20.513853Z",
     "start_time": "2023-01-12T09:05:20.460459Z"
    },
    "scrolled": true
   },
   "outputs": [
    {
     "data": {
      "text/html": [
       "<div>\n",
       "<style scoped>\n",
       "    .dataframe tbody tr th:only-of-type {\n",
       "        vertical-align: middle;\n",
       "    }\n",
       "\n",
       "    .dataframe tbody tr th {\n",
       "        vertical-align: top;\n",
       "    }\n",
       "\n",
       "    .dataframe thead th {\n",
       "        text-align: right;\n",
       "    }\n",
       "</style>\n",
       "<table border=\"1\" class=\"dataframe\">\n",
       "  <thead>\n",
       "    <tr style=\"text-align: right;\">\n",
       "      <th></th>\n",
       "      <th>CpG</th>\n",
       "      <th>Ranking</th>\n",
       "    </tr>\n",
       "  </thead>\n",
       "  <tbody>\n",
       "    <tr>\n",
       "      <th>1080</th>\n",
       "      <td>cg22505241</td>\n",
       "      <td>1</td>\n",
       "    </tr>\n",
       "    <tr>\n",
       "      <th>22</th>\n",
       "      <td>cg03389720</td>\n",
       "      <td>2</td>\n",
       "    </tr>\n",
       "    <tr>\n",
       "      <th>6911</th>\n",
       "      <td>cg01480447</td>\n",
       "      <td>3</td>\n",
       "    </tr>\n",
       "  </tbody>\n",
       "</table>\n",
       "</div>"
      ],
      "text/plain": [
       "             CpG  Ranking\n",
       "1080  cg22505241        1\n",
       "22    cg03389720        2\n",
       "6911  cg01480447        3"
      ]
     },
     "execution_count": 9,
     "metadata": {},
     "output_type": "execute_result"
    }
   ],
   "source": [
    "Top50 = selected_rf_features.iloc[:50, :]\n",
    "Top50.head(3)"
   ]
  },
  {
   "cell_type": "code",
   "execution_count": 10,
   "id": "9605e163",
   "metadata": {
    "ExecuteTime": {
     "end_time": "2023-01-12T09:05:20.614122Z",
     "start_time": "2023-01-12T09:05:20.513853Z"
    }
   },
   "outputs": [],
   "source": [
    "Top50.to_csv ('SleepDay_BorutaMale_Top50.csv', index = False)\n",
    "selected_rf_features.to_csv ('SleepDay_BorutaMale_All.csv', index = False)"
   ]
  },
  {
   "cell_type": "markdown",
   "id": "3268cc49",
   "metadata": {
    "ExecuteTime": {
     "end_time": "2022-10-25T10:29:24.834703Z",
     "start_time": "2022-10-25T10:29:24.602914Z"
    }
   },
   "source": [
    "#Identify a string in dataframe\n",
    "substring = 'cg15328505'\n",
    "selected_rf_features[selected_rf_features.apply(lambda row: row.astype(str).str.contains(substring, case=False).any(), axis=1)]\n"
   ]
  }
 ],
 "metadata": {
  "kernelspec": {
   "display_name": "Python 3 (ipykernel)",
   "language": "python",
   "name": "python3"
  },
  "language_info": {
   "codemirror_mode": {
    "name": "ipython",
    "version": 3
   },
   "file_extension": ".py",
   "mimetype": "text/x-python",
   "name": "python",
   "nbconvert_exporter": "python",
   "pygments_lexer": "ipython3",
   "version": "3.9.7"
  },
  "toc": {
   "base_numbering": 1,
   "nav_menu": {},
   "number_sections": true,
   "sideBar": true,
   "skip_h1_title": false,
   "title_cell": "Table of Contents",
   "title_sidebar": "Contents",
   "toc_cell": false,
   "toc_position": {},
   "toc_section_display": true,
   "toc_window_display": false
  },
  "varInspector": {
   "cols": {
    "lenName": 16,
    "lenType": 16,
    "lenVar": 40
   },
   "kernels_config": {
    "python": {
     "delete_cmd_postfix": "",
     "delete_cmd_prefix": "del ",
     "library": "var_list.py",
     "varRefreshCmd": "print(var_dic_list())"
    },
    "r": {
     "delete_cmd_postfix": ") ",
     "delete_cmd_prefix": "rm(",
     "library": "var_list.r",
     "varRefreshCmd": "cat(var_dic_list()) "
    }
   },
   "types_to_exclude": [
    "module",
    "function",
    "builtin_function_or_method",
    "instance",
    "_Feature"
   ],
   "window_display": false
  }
 },
 "nbformat": 4,
 "nbformat_minor": 5
}
