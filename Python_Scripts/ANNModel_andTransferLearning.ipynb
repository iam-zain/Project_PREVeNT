{
 "cells": [
  {
   "cell_type": "markdown",
   "metadata": {
    "colab_type": "text",
    "id": "lP6JLo1tGNBg"
   },
   "source": [
    "# Transfer Learning"
   ]
  },
  {
   "cell_type": "markdown",
   "metadata": {
    "colab_type": "text",
    "id": "gWZyYmS_UE_L"
   },
   "source": [
    "### Importing the libraries"
   ]
  },
  {
   "cell_type": "code",
   "execution_count": 1,
   "metadata": {
    "ExecuteTime": {
     "end_time": "2023-03-10T05:43:44.688326Z",
     "start_time": "2023-03-10T05:43:40.236880Z"
    },
    "colab": {},
    "colab_type": "code",
    "id": "MxkJoQBkUIHC"
   },
   "outputs": [
    {
     "data": {
      "text/plain": [
       "'2.9.1'"
      ]
     },
     "execution_count": 1,
     "metadata": {},
     "output_type": "execute_result"
    }
   ],
   "source": [
    "import numpy as np\n",
    "import pandas as pd\n",
    "import tensorflow as tf\n",
    "from keras.models import Model\n",
    "from tensorflow.keras.models import Sequential\n",
    "tf.__version__"
   ]
  },
  {
   "cell_type": "markdown",
   "metadata": {},
   "source": [
    "## Load an empty dataset for user input"
   ]
  },
  {
   "cell_type": "code",
   "execution_count": 2,
   "metadata": {
    "ExecuteTime": {
     "end_time": "2023-03-10T05:43:44.726134Z",
     "start_time": "2023-03-10T05:43:44.688326Z"
    },
    "scrolled": false
   },
   "outputs": [
    {
     "name": "stdout",
     "output_type": "stream",
     "text": [
      "Z:\\PPMI_Data\\Excels\\CollaborativeFiltering\n"
     ]
    },
    {
     "data": {
      "text/html": [
       "<div>\n",
       "<style scoped>\n",
       "    .dataframe tbody tr th:only-of-type {\n",
       "        vertical-align: middle;\n",
       "    }\n",
       "\n",
       "    .dataframe tbody tr th {\n",
       "        vertical-align: top;\n",
       "    }\n",
       "\n",
       "    .dataframe thead th {\n",
       "        text-align: right;\n",
       "    }\n",
       "</style>\n",
       "<table border=\"1\" class=\"dataframe\">\n",
       "  <thead>\n",
       "    <tr style=\"text-align: right;\">\n",
       "      <th></th>\n",
       "      <th>Anxiety</th>\n",
       "      <th>Apathy</th>\n",
       "      <th>Benton</th>\n",
       "      <th>Clock</th>\n",
       "      <th>Cognition</th>\n",
       "      <th>COGSTATE</th>\n",
       "      <th>Constipate</th>\n",
       "      <th>Depress</th>\n",
       "      <th>DopaDefic</th>\n",
       "      <th>Education</th>\n",
       "      <th>...</th>\n",
       "      <th>Semantic</th>\n",
       "      <th>SleepDay</th>\n",
       "      <th>SleepNight</th>\n",
       "      <th>STAIA</th>\n",
       "      <th>STAIS</th>\n",
       "      <th>Symbol_Digit</th>\n",
       "      <th>Trail_Making_A</th>\n",
       "      <th>Trail_Making_B</th>\n",
       "      <th>UPSIT</th>\n",
       "      <th>Urine</th>\n",
       "    </tr>\n",
       "  </thead>\n",
       "  <tbody>\n",
       "    <tr>\n",
       "      <th>0</th>\n",
       "      <td>NaN</td>\n",
       "      <td>NaN</td>\n",
       "      <td>NaN</td>\n",
       "      <td>NaN</td>\n",
       "      <td>NaN</td>\n",
       "      <td>NaN</td>\n",
       "      <td>NaN</td>\n",
       "      <td>NaN</td>\n",
       "      <td>NaN</td>\n",
       "      <td>NaN</td>\n",
       "      <td>...</td>\n",
       "      <td>NaN</td>\n",
       "      <td>NaN</td>\n",
       "      <td>NaN</td>\n",
       "      <td>NaN</td>\n",
       "      <td>NaN</td>\n",
       "      <td>NaN</td>\n",
       "      <td>NaN</td>\n",
       "      <td>NaN</td>\n",
       "      <td>NaN</td>\n",
       "      <td>NaN</td>\n",
       "    </tr>\n",
       "  </tbody>\n",
       "</table>\n",
       "<p>1 rows × 45 columns</p>\n",
       "</div>"
      ],
      "text/plain": [
       "   Anxiety  Apathy  Benton  Clock  Cognition  COGSTATE  Constipate  Depress  \\\n",
       "0      NaN     NaN     NaN    NaN        NaN       NaN         NaN      NaN   \n",
       "\n",
       "   DopaDefic  Education  ...  Semantic  SleepDay  SleepNight  STAIA  STAIS  \\\n",
       "0        NaN        NaN  ...       NaN       NaN         NaN    NaN    NaN   \n",
       "\n",
       "   Symbol_Digit  Trail_Making_A  Trail_Making_B  UPSIT  Urine  \n",
       "0           NaN             NaN             NaN    NaN    NaN  \n",
       "\n",
       "[1 rows x 45 columns]"
      ]
     },
     "execution_count": 2,
     "metadata": {},
     "output_type": "execute_result"
    }
   ],
   "source": [
    "%cd Z:\\PPMI_Data\\Excels\\CollaborativeFiltering\n",
    "df2 = pd.read_csv('NonMotor_Empty.csv')\n",
    "# Removing a column\n",
    "df3 = df2.drop('Patient_ID', axis = 1)\n",
    "df3.head(2)"
   ]
  },
  {
   "cell_type": "markdown",
   "metadata": {},
   "source": [
    "## Take input from user"
   ]
  },
  {
   "cell_type": "code",
   "execution_count": 3,
   "metadata": {
    "ExecuteTime": {
     "end_time": "2023-03-10T05:43:46.315727Z",
     "start_time": "2023-03-10T05:43:44.726134Z"
    }
   },
   "outputs": [
    {
     "name": "stdout",
     "output_type": "stream",
     "text": [
      "What is the user's age (in years): 44\n",
      "   Anxiety  Apathy  Benton  Clock  Cognition  COGSTATE  Constipate  Depress  \\\n",
      "0      NaN     NaN     NaN    NaN        NaN       NaN         NaN      NaN   \n",
      "\n",
      "   DopaDefic  Education  ...  SleepDay  SleepNight  STAIA  STAIS  \\\n",
      "0        NaN        NaN  ...       NaN         NaN    NaN    NaN   \n",
      "\n",
      "   Symbol_Digit  Trail_Making_A  Trail_Making_B  UPSIT  Urine   Age  \n",
      "0           NaN             NaN             NaN    NaN    NaN  44.0  \n",
      "\n",
      "[1 rows x 46 columns]\n"
     ]
    }
   ],
   "source": [
    "# Ask the user for the updated value of age\n",
    "new_age = int(input(\"What is the user's age (in years): \"))\n",
    "\n",
    "# Update the value of age in the dataframe\n",
    "df3.at[0, 'Age'] = new_age\n",
    "\n",
    "# Print the updated dataframe\n",
    "print(df3)\n"
   ]
  },
  {
   "cell_type": "markdown",
   "metadata": {},
   "source": [
    "## Loading Sparse Full data"
   ]
  },
  {
   "cell_type": "code",
   "execution_count": 4,
   "metadata": {
    "ExecuteTime": {
     "end_time": "2023-03-10T05:43:46.346920Z",
     "start_time": "2023-03-10T05:43:46.315727Z"
    }
   },
   "outputs": [
    {
     "name": "stdout",
     "output_type": "stream",
     "text": [
      "(618, 47)\n"
     ]
    },
    {
     "data": {
      "text/html": [
       "<div>\n",
       "<style scoped>\n",
       "    .dataframe tbody tr th:only-of-type {\n",
       "        vertical-align: middle;\n",
       "    }\n",
       "\n",
       "    .dataframe tbody tr th {\n",
       "        vertical-align: top;\n",
       "    }\n",
       "\n",
       "    .dataframe thead th {\n",
       "        text-align: right;\n",
       "    }\n",
       "</style>\n",
       "<table border=\"1\" class=\"dataframe\">\n",
       "  <thead>\n",
       "    <tr style=\"text-align: right;\">\n",
       "      <th></th>\n",
       "      <th>Patient_ID</th>\n",
       "      <th>Gender</th>\n",
       "      <th>Anxiety</th>\n",
       "      <th>Apathy</th>\n",
       "      <th>Benton</th>\n",
       "      <th>Clock</th>\n",
       "      <th>Cognition</th>\n",
       "      <th>COGSTATE</th>\n",
       "      <th>Constipate</th>\n",
       "      <th>Depress</th>\n",
       "      <th>...</th>\n",
       "      <th>Semantic</th>\n",
       "      <th>SleepDay</th>\n",
       "      <th>SleepNight</th>\n",
       "      <th>STAIA</th>\n",
       "      <th>STAIS</th>\n",
       "      <th>Symbol_Digit</th>\n",
       "      <th>Trail_Making_A</th>\n",
       "      <th>Trail_Making_B</th>\n",
       "      <th>UPSIT</th>\n",
       "      <th>Urine</th>\n",
       "    </tr>\n",
       "  </thead>\n",
       "  <tbody>\n",
       "    <tr>\n",
       "      <th>0</th>\n",
       "      <td>2</td>\n",
       "      <td>2</td>\n",
       "      <td>2</td>\n",
       "      <td>1</td>\n",
       "      <td>16.46</td>\n",
       "      <td>NaN</td>\n",
       "      <td>1</td>\n",
       "      <td>2.0</td>\n",
       "      <td>1</td>\n",
       "      <td>1</td>\n",
       "      <td>...</td>\n",
       "      <td>50</td>\n",
       "      <td>2</td>\n",
       "      <td>1</td>\n",
       "      <td>48</td>\n",
       "      <td>45</td>\n",
       "      <td>49.330002</td>\n",
       "      <td>54.0</td>\n",
       "      <td>91.0</td>\n",
       "      <td>26</td>\n",
       "      <td>5.0</td>\n",
       "    </tr>\n",
       "    <tr>\n",
       "      <th>1</th>\n",
       "      <td>3</td>\n",
       "      <td>1</td>\n",
       "      <td>2</td>\n",
       "      <td>1</td>\n",
       "      <td>13.16</td>\n",
       "      <td>8.0</td>\n",
       "      <td>2</td>\n",
       "      <td>2.0</td>\n",
       "      <td>2</td>\n",
       "      <td>2</td>\n",
       "      <td>...</td>\n",
       "      <td>58</td>\n",
       "      <td>2</td>\n",
       "      <td>1</td>\n",
       "      <td>46</td>\n",
       "      <td>60</td>\n",
       "      <td>48.500000</td>\n",
       "      <td>111.0</td>\n",
       "      <td>205.0</td>\n",
       "      <td>18</td>\n",
       "      <td>2.0</td>\n",
       "    </tr>\n",
       "  </tbody>\n",
       "</table>\n",
       "<p>2 rows × 47 columns</p>\n",
       "</div>"
      ],
      "text/plain": [
       "   Patient_ID  Gender  Anxiety  Apathy  Benton  Clock  Cognition  COGSTATE  \\\n",
       "0           2       2        2       1   16.46    NaN          1       2.0   \n",
       "1           3       1        2       1   13.16    8.0          2       2.0   \n",
       "\n",
       "   Constipate  Depress  ...  Semantic  SleepDay  SleepNight  STAIA  STAIS  \\\n",
       "0           1        1  ...        50         2           1     48     45   \n",
       "1           2        2  ...        58         2           1     46     60   \n",
       "\n",
       "   Symbol_Digit  Trail_Making_A  Trail_Making_B  UPSIT  Urine  \n",
       "0     49.330002            54.0            91.0     26    5.0  \n",
       "1     48.500000           111.0           205.0     18    2.0  \n",
       "\n",
       "[2 rows x 47 columns]"
      ]
     },
     "execution_count": 4,
     "metadata": {},
     "output_type": "execute_result"
    }
   ],
   "source": [
    "dframe1 = pd.read_csv('Feats45_unCategSparse_APPRDX.csv')\n",
    "# dropping a few columns\n",
    "dframe = dframe1.drop(['PATNO','APPRDX','Age'], axis = 1)\n",
    "dframe = dframe.add(1)\n",
    "print(dframe.shape)\n",
    "dframe.head(2)"
   ]
  },
  {
   "cell_type": "markdown",
   "metadata": {},
   "source": [
    "## Taking input from user"
   ]
  },
  {
   "cell_type": "code",
   "execution_count": 5,
   "metadata": {
    "ExecuteTime": {
     "end_time": "2023-03-10T05:43:58.876015Z",
     "start_time": "2023-03-10T05:43:46.346920Z"
    },
    "scrolled": false
   },
   "outputs": [
    {
     "name": "stdout",
     "output_type": "stream",
     "text": [
      "Enter the number of columns you want to update (minimum 3, maximum 45): 3\n",
      "Enter the name of the Feature 1: UPSIT\n",
      "Enter the score of the Feature 1: 9\n",
      "Enter the name of the Feature 2: Clock\n",
      "Enter the score of the Feature 2: 3\n",
      "Enter the name of the Feature 3: Pain\n",
      "Enter the score of the Feature 3: 2\n",
      "\n",
      "Updated dataframe:\n",
      "\n",
      "   Anxiety  Apathy  Benton  Clock  Cognition  COGSTATE  Constipate  Depress  \\\n",
      "0      NaN     NaN     NaN    3.0        NaN       NaN         NaN      NaN   \n",
      "\n",
      "   DopaDefic  Education  ...  SleepDay  SleepNight  STAIA  STAIS  \\\n",
      "0        NaN        NaN  ...       NaN         NaN    NaN    NaN   \n",
      "\n",
      "   Symbol_Digit  Trail_Making_A  Trail_Making_B  UPSIT  Urine   Age  \n",
      "0           NaN             NaN             NaN    9.0    NaN  44.0  \n",
      "\n",
      "[1 rows x 46 columns]\n",
      "\n",
      "Modified dataframe:\n",
      "\n",
      "   Clock  Pain  UPSIT\n",
      "0    NaN   1.0     26\n",
      "1    8.0   2.0     18\n",
      "2    NaN   2.0     24\n",
      "3    NaN   2.0     14\n",
      "4    NaN   3.0     19\n"
     ]
    }
   ],
   "source": [
    "def update_values(df3, dframe):\n",
    "    # Input from the user for number of columns\n",
    "    num_columns = int(input(\"Enter the number of columns you want to update (minimum 3, maximum 45): \"))\n",
    "    \n",
    "    while num_columns < 3 or num_columns > 45:\n",
    "        print(\"Invalid number of columns. Please enter a number between 3 and 45.\")\n",
    "        num_columns = int(input(\"Enter the number of columns you want to update (minimum 3, maximum 45): \"))\n",
    "    \n",
    "    columns = []\n",
    "    values = []\n",
    "     \n",
    "    # Loop to get input from the user for each column\n",
    "    for i in range(num_columns):\n",
    "        column = input(\"Enter the name of the Feature %d: \" % (i + 1))\n",
    "        value = input(\"Enter the score of the Feature %d: \" % (i + 1))\n",
    "        \n",
    "        columns.append(column)\n",
    "        values.append(int(value)) \n",
    "        \n",
    "    # Update the values in the dataframe\n",
    "    for i in range(num_columns):\n",
    "        df3.loc[df3[columns[i]] != values[i], columns[i]] = values[i] \n",
    "    \n",
    "    # Put values equal to zero on the columns that are not selected\n",
    "    for col in dframe.columns:\n",
    "        if col not in columns and col != 'Age': # Skip 'Age' column\n",
    "            dframe = dframe.drop(col, axis=1)\n",
    "    \n",
    "    return df3, dframe\n",
    "\n",
    "# Call the function\n",
    "df3, dframe = update_values(df3, dframe)\n",
    "\n",
    "# Print the updated dataframe and the modified dframe\n",
    "print(\"\\nUpdated dataframe:\\n\")\n",
    "print(df3.head())\n",
    "\n",
    "print(\"\\nModified dataframe:\\n\")\n",
    "print(dframe.head())\n"
   ]
  },
  {
   "cell_type": "markdown",
   "metadata": {
    "ExecuteTime": {
     "end_time": "2023-02-15T07:39:33.505278Z",
     "start_time": "2023-02-15T07:39:33.505278Z"
    },
    "scrolled": true
   },
   "source": [
    "## Moving Age column (as the first column)"
   ]
  },
  {
   "cell_type": "code",
   "execution_count": 6,
   "metadata": {
    "ExecuteTime": {
     "end_time": "2023-03-10T05:43:58.907263Z",
     "start_time": "2023-03-10T05:43:58.876015Z"
    }
   },
   "outputs": [
    {
     "data": {
      "text/html": [
       "<div>\n",
       "<style scoped>\n",
       "    .dataframe tbody tr th:only-of-type {\n",
       "        vertical-align: middle;\n",
       "    }\n",
       "\n",
       "    .dataframe tbody tr th {\n",
       "        vertical-align: top;\n",
       "    }\n",
       "\n",
       "    .dataframe thead th {\n",
       "        text-align: right;\n",
       "    }\n",
       "</style>\n",
       "<table border=\"1\" class=\"dataframe\">\n",
       "  <thead>\n",
       "    <tr style=\"text-align: right;\">\n",
       "      <th></th>\n",
       "      <th>Age</th>\n",
       "      <th>Anxiety</th>\n",
       "      <th>Apathy</th>\n",
       "      <th>Benton</th>\n",
       "      <th>Clock</th>\n",
       "      <th>Cognition</th>\n",
       "      <th>COGSTATE</th>\n",
       "      <th>Constipate</th>\n",
       "      <th>Depress</th>\n",
       "      <th>DopaDefic</th>\n",
       "      <th>...</th>\n",
       "      <th>Semantic</th>\n",
       "      <th>SleepDay</th>\n",
       "      <th>SleepNight</th>\n",
       "      <th>STAIA</th>\n",
       "      <th>STAIS</th>\n",
       "      <th>Symbol_Digit</th>\n",
       "      <th>Trail_Making_A</th>\n",
       "      <th>Trail_Making_B</th>\n",
       "      <th>UPSIT</th>\n",
       "      <th>Urine</th>\n",
       "    </tr>\n",
       "  </thead>\n",
       "  <tbody>\n",
       "    <tr>\n",
       "      <th>0</th>\n",
       "      <td>44.0</td>\n",
       "      <td>NaN</td>\n",
       "      <td>NaN</td>\n",
       "      <td>NaN</td>\n",
       "      <td>3.0</td>\n",
       "      <td>NaN</td>\n",
       "      <td>NaN</td>\n",
       "      <td>NaN</td>\n",
       "      <td>NaN</td>\n",
       "      <td>NaN</td>\n",
       "      <td>...</td>\n",
       "      <td>NaN</td>\n",
       "      <td>NaN</td>\n",
       "      <td>NaN</td>\n",
       "      <td>NaN</td>\n",
       "      <td>NaN</td>\n",
       "      <td>NaN</td>\n",
       "      <td>NaN</td>\n",
       "      <td>NaN</td>\n",
       "      <td>9.0</td>\n",
       "      <td>NaN</td>\n",
       "    </tr>\n",
       "  </tbody>\n",
       "</table>\n",
       "<p>1 rows × 46 columns</p>\n",
       "</div>"
      ],
      "text/plain": [
       "    Age  Anxiety  Apathy  Benton  Clock  Cognition  COGSTATE  Constipate  \\\n",
       "0  44.0      NaN     NaN     NaN    3.0        NaN       NaN         NaN   \n",
       "\n",
       "   Depress  DopaDefic  ...  Semantic  SleepDay  SleepNight  STAIA  STAIS  \\\n",
       "0      NaN        NaN  ...       NaN       NaN         NaN    NaN    NaN   \n",
       "\n",
       "   Symbol_Digit  Trail_Making_A  Trail_Making_B  UPSIT  Urine  \n",
       "0           NaN             NaN             NaN    9.0    NaN  \n",
       "\n",
       "[1 rows x 46 columns]"
      ]
     },
     "execution_count": 6,
     "metadata": {},
     "output_type": "execute_result"
    }
   ],
   "source": [
    "col_age = df3.pop('Age')\n",
    "df3.insert(0, \"Age\", col_age)\n",
    "df3.head()"
   ]
  },
  {
   "cell_type": "code",
   "execution_count": 7,
   "metadata": {
    "ExecuteTime": {
     "end_time": "2023-03-10T05:43:58.975827Z",
     "start_time": "2023-03-10T05:43:58.907263Z"
    }
   },
   "outputs": [
    {
     "name": "stdout",
     "output_type": "stream",
     "text": [
      "(1, 4)\n"
     ]
    },
    {
     "data": {
      "text/html": [
       "<div>\n",
       "<style scoped>\n",
       "    .dataframe tbody tr th:only-of-type {\n",
       "        vertical-align: middle;\n",
       "    }\n",
       "\n",
       "    .dataframe tbody tr th {\n",
       "        vertical-align: top;\n",
       "    }\n",
       "\n",
       "    .dataframe thead th {\n",
       "        text-align: right;\n",
       "    }\n",
       "</style>\n",
       "<table border=\"1\" class=\"dataframe\">\n",
       "  <thead>\n",
       "    <tr style=\"text-align: right;\">\n",
       "      <th></th>\n",
       "      <th>Age</th>\n",
       "      <th>Clock</th>\n",
       "      <th>Pain</th>\n",
       "      <th>UPSIT</th>\n",
       "    </tr>\n",
       "  </thead>\n",
       "  <tbody>\n",
       "    <tr>\n",
       "      <th>0</th>\n",
       "      <td>44.0</td>\n",
       "      <td>3.0</td>\n",
       "      <td>2.0</td>\n",
       "      <td>9.0</td>\n",
       "    </tr>\n",
       "  </tbody>\n",
       "</table>\n",
       "</div>"
      ],
      "text/plain": [
       "    Age  Clock  Pain  UPSIT\n",
       "0  44.0    3.0   2.0    9.0"
      ]
     },
     "execution_count": 7,
     "metadata": {},
     "output_type": "execute_result"
    }
   ],
   "source": [
    "# dropping a few columns\n",
    "df3 = df3.dropna(axis = 1)\n",
    "print(df3.shape)\n",
    "df3.head(2)"
   ]
  },
  {
   "cell_type": "markdown",
   "metadata": {},
   "source": [
    "## Removing NaN values, taking only those who have score for features given as input"
   ]
  },
  {
   "cell_type": "code",
   "execution_count": 8,
   "metadata": {
    "ExecuteTime": {
     "end_time": "2023-03-10T05:43:59.076098Z",
     "start_time": "2023-03-10T05:43:58.975827Z"
    }
   },
   "outputs": [
    {
     "name": "stdout",
     "output_type": "stream",
     "text": [
      "(284, 3)\n"
     ]
    },
    {
     "data": {
      "text/html": [
       "<div>\n",
       "<style scoped>\n",
       "    .dataframe tbody tr th:only-of-type {\n",
       "        vertical-align: middle;\n",
       "    }\n",
       "\n",
       "    .dataframe tbody tr th {\n",
       "        vertical-align: top;\n",
       "    }\n",
       "\n",
       "    .dataframe thead th {\n",
       "        text-align: right;\n",
       "    }\n",
       "</style>\n",
       "<table border=\"1\" class=\"dataframe\">\n",
       "  <thead>\n",
       "    <tr style=\"text-align: right;\">\n",
       "      <th></th>\n",
       "      <th>Clock</th>\n",
       "      <th>Pain</th>\n",
       "      <th>UPSIT</th>\n",
       "    </tr>\n",
       "  </thead>\n",
       "  <tbody>\n",
       "    <tr>\n",
       "      <th>1</th>\n",
       "      <td>8.0</td>\n",
       "      <td>2.0</td>\n",
       "      <td>18</td>\n",
       "    </tr>\n",
       "    <tr>\n",
       "      <th>5</th>\n",
       "      <td>7.0</td>\n",
       "      <td>3.0</td>\n",
       "      <td>10</td>\n",
       "    </tr>\n",
       "  </tbody>\n",
       "</table>\n",
       "</div>"
      ],
      "text/plain": [
       "   Clock  Pain  UPSIT\n",
       "1    8.0   2.0     18\n",
       "5    7.0   3.0     10"
      ]
     },
     "execution_count": 8,
     "metadata": {},
     "output_type": "execute_result"
    }
   ],
   "source": [
    "# dropping a few columns\n",
    "dframe = dframe.dropna()\n",
    "print(dframe.shape)\n",
    "dframe.head(2)"
   ]
  },
  {
   "cell_type": "markdown",
   "metadata": {},
   "source": [
    "### Adding Age Column to it"
   ]
  },
  {
   "cell_type": "code",
   "execution_count": 9,
   "metadata": {
    "ExecuteTime": {
     "end_time": "2023-03-10T05:43:59.160749Z",
     "start_time": "2023-03-10T05:43:59.076098Z"
    },
    "scrolled": true
   },
   "outputs": [
    {
     "data": {
      "text/html": [
       "<div>\n",
       "<style scoped>\n",
       "    .dataframe tbody tr th:only-of-type {\n",
       "        vertical-align: middle;\n",
       "    }\n",
       "\n",
       "    .dataframe tbody tr th {\n",
       "        vertical-align: top;\n",
       "    }\n",
       "\n",
       "    .dataframe thead th {\n",
       "        text-align: right;\n",
       "    }\n",
       "</style>\n",
       "<table border=\"1\" class=\"dataframe\">\n",
       "  <thead>\n",
       "    <tr style=\"text-align: right;\">\n",
       "      <th></th>\n",
       "      <th>Age</th>\n",
       "      <th>Clock</th>\n",
       "      <th>Pain</th>\n",
       "      <th>UPSIT</th>\n",
       "    </tr>\n",
       "  </thead>\n",
       "  <tbody>\n",
       "    <tr>\n",
       "      <th>1</th>\n",
       "      <td>67.578082</td>\n",
       "      <td>8.0</td>\n",
       "      <td>2.0</td>\n",
       "      <td>18</td>\n",
       "    </tr>\n",
       "    <tr>\n",
       "      <th>5</th>\n",
       "      <td>46.965716</td>\n",
       "      <td>7.0</td>\n",
       "      <td>3.0</td>\n",
       "      <td>10</td>\n",
       "    </tr>\n",
       "  </tbody>\n",
       "</table>\n",
       "</div>"
      ],
      "text/plain": [
       "         Age  Clock  Pain  UPSIT\n",
       "1  67.578082    8.0   2.0     18\n",
       "5  46.965716    7.0   3.0     10"
      ]
     },
     "execution_count": 9,
     "metadata": {},
     "output_type": "execute_result"
    }
   ],
   "source": [
    "# Drop the Age column from the original DataFrame\n",
    "col_age = dframe1.pop('Age')\n",
    "\n",
    "# Insert the column at the 1st position\n",
    "dframe.insert(0, \"Age\", col_age)\n",
    "dframe.head(2)"
   ]
  },
  {
   "cell_type": "markdown",
   "metadata": {},
   "source": [
    "### Adding APPRDX column as 1st column"
   ]
  },
  {
   "cell_type": "code",
   "execution_count": 10,
   "metadata": {
    "ExecuteTime": {
     "end_time": "2023-03-10T05:43:59.238866Z",
     "start_time": "2023-03-10T05:43:59.160749Z"
    }
   },
   "outputs": [],
   "source": [
    "col_Apprdx = dframe1.pop('APPRDX')\n",
    "dframe.insert(0, 'APPRDX', col_Apprdx)"
   ]
  },
  {
   "cell_type": "code",
   "execution_count": 11,
   "metadata": {
    "ExecuteTime": {
     "end_time": "2023-03-10T05:43:59.307883Z",
     "start_time": "2023-03-10T05:43:59.238866Z"
    }
   },
   "outputs": [
    {
     "name": "stdout",
     "output_type": "stream",
     "text": [
      "(284, 4)\n"
     ]
    },
    {
     "data": {
      "text/html": [
       "<div>\n",
       "<style scoped>\n",
       "    .dataframe tbody tr th:only-of-type {\n",
       "        vertical-align: middle;\n",
       "    }\n",
       "\n",
       "    .dataframe tbody tr th {\n",
       "        vertical-align: top;\n",
       "    }\n",
       "\n",
       "    .dataframe thead th {\n",
       "        text-align: right;\n",
       "    }\n",
       "</style>\n",
       "<table border=\"1\" class=\"dataframe\">\n",
       "  <thead>\n",
       "    <tr style=\"text-align: right;\">\n",
       "      <th></th>\n",
       "      <th>Age</th>\n",
       "      <th>Clock</th>\n",
       "      <th>Pain</th>\n",
       "      <th>UPSIT</th>\n",
       "    </tr>\n",
       "  </thead>\n",
       "  <tbody>\n",
       "    <tr>\n",
       "      <th>1</th>\n",
       "      <td>67.578082</td>\n",
       "      <td>8.0</td>\n",
       "      <td>2.0</td>\n",
       "      <td>18</td>\n",
       "    </tr>\n",
       "    <tr>\n",
       "      <th>5</th>\n",
       "      <td>46.965716</td>\n",
       "      <td>7.0</td>\n",
       "      <td>3.0</td>\n",
       "      <td>10</td>\n",
       "    </tr>\n",
       "  </tbody>\n",
       "</table>\n",
       "</div>"
      ],
      "text/plain": [
       "         Age  Clock  Pain  UPSIT\n",
       "1  67.578082    8.0   2.0     18\n",
       "5  46.965716    7.0   3.0     10"
      ]
     },
     "execution_count": 11,
     "metadata": {},
     "output_type": "execute_result"
    }
   ],
   "source": [
    "dframes = dframe.drop(['APPRDX'], axis = 1)\n",
    "print(dframes.shape)\n",
    "dframes.head(2)"
   ]
  },
  {
   "cell_type": "markdown",
   "metadata": {},
   "source": [
    "## Changing APPRDX values from 1 & 2 to 0 & 1"
   ]
  },
  {
   "cell_type": "code",
   "execution_count": 12,
   "metadata": {
    "ExecuteTime": {
     "end_time": "2023-03-10T05:43:59.376905Z",
     "start_time": "2023-03-10T05:43:59.307883Z"
    },
    "scrolled": true
   },
   "outputs": [
    {
     "data": {
      "text/html": [
       "<div>\n",
       "<style scoped>\n",
       "    .dataframe tbody tr th:only-of-type {\n",
       "        vertical-align: middle;\n",
       "    }\n",
       "\n",
       "    .dataframe tbody tr th {\n",
       "        vertical-align: top;\n",
       "    }\n",
       "\n",
       "    .dataframe thead th {\n",
       "        text-align: right;\n",
       "    }\n",
       "</style>\n",
       "<table border=\"1\" class=\"dataframe\">\n",
       "  <thead>\n",
       "    <tr style=\"text-align: right;\">\n",
       "      <th></th>\n",
       "      <th>APPRDX</th>\n",
       "      <th>Age</th>\n",
       "      <th>Clock</th>\n",
       "      <th>Pain</th>\n",
       "      <th>UPSIT</th>\n",
       "    </tr>\n",
       "  </thead>\n",
       "  <tbody>\n",
       "    <tr>\n",
       "      <th>1</th>\n",
       "      <td>0</td>\n",
       "      <td>67.578082</td>\n",
       "      <td>8.0</td>\n",
       "      <td>2.0</td>\n",
       "      <td>18</td>\n",
       "    </tr>\n",
       "    <tr>\n",
       "      <th>5</th>\n",
       "      <td>0</td>\n",
       "      <td>46.965716</td>\n",
       "      <td>7.0</td>\n",
       "      <td>3.0</td>\n",
       "      <td>10</td>\n",
       "    </tr>\n",
       "  </tbody>\n",
       "</table>\n",
       "</div>"
      ],
      "text/plain": [
       "   APPRDX        Age  Clock  Pain  UPSIT\n",
       "1       0  67.578082    8.0   2.0     18\n",
       "5       0  46.965716    7.0   3.0     10"
      ]
     },
     "execution_count": 12,
     "metadata": {},
     "output_type": "execute_result"
    }
   ],
   "source": [
    "dframe.loc[:, \"APPRDX\"] = dframe[\"APPRDX\"].apply(lambda x: x - 1)\n",
    "dframe.head(2)"
   ]
  },
  {
   "cell_type": "markdown",
   "metadata": {},
   "source": [
    "## Creating Test Train Dataset"
   ]
  },
  {
   "cell_type": "code",
   "execution_count": 13,
   "metadata": {
    "ExecuteTime": {
     "end_time": "2023-03-10T05:43:59.461541Z",
     "start_time": "2023-03-10T05:43:59.376905Z"
    }
   },
   "outputs": [],
   "source": [
    "X = dframe.iloc[:, 1:].values\n",
    "y = dframe.iloc[:, 0].values"
   ]
  },
  {
   "cell_type": "code",
   "execution_count": 14,
   "metadata": {
    "ExecuteTime": {
     "end_time": "2023-03-10T05:44:00.040994Z",
     "start_time": "2023-03-10T05:43:59.461541Z"
    }
   },
   "outputs": [],
   "source": [
    "from sklearn.model_selection import train_test_split\n",
    "X_train, X_test, y_train, y_test = train_test_split(X, y, test_size = 0.2, random_state = 1)"
   ]
  },
  {
   "cell_type": "code",
   "execution_count": 15,
   "metadata": {
    "ExecuteTime": {
     "end_time": "2023-03-10T05:44:00.063135Z",
     "start_time": "2023-03-10T05:44:00.040994Z"
    }
   },
   "outputs": [
    {
     "data": {
      "text/plain": [
       "array([[56.32054795,  8.        ,  1.        , 28.        ],\n",
       "       [66.6276368 ,  7.        ,  2.        , 28.        ],\n",
       "       [71.11780822,  6.        ,  1.        ,  9.        ],\n",
       "       [57.53972603,  8.        ,  1.        , 21.        ],\n",
       "       [62.64979415,  8.        ,  3.        , 22.        ],\n",
       "       [55.99726776,  7.        ,  1.        , 37.        ],\n",
       "       [41.56712329,  8.        ,  2.        , 31.        ],\n",
       "       [67.08634628,  5.        ,  2.        , 17.        ],\n",
       "       [49.97260274,  8.        ,  2.        , 16.        ],\n",
       "       [68.51780822,  8.        ,  1.        , 23.        ],\n",
       "       [37.24657534,  8.        ,  2.        , 36.        ],\n",
       "       [48.2295082 ,  7.        ,  1.        , 30.        ],\n",
       "       [60.49589041,  6.        ,  3.        , 39.        ],\n",
       "       [46.00678195,  8.        ,  1.        , 27.        ],\n",
       "       [62.84528782,  2.        ,  1.        , 15.        ],\n",
       "       [49.58170522,  8.        ,  4.        , 37.        ],\n",
       "       [53.59452055,  8.        ,  1.        , 28.        ],\n",
       "       [63.05216708,  8.        ,  1.        , 23.        ],\n",
       "       [56.89938618,  2.        ,  1.        , 27.        ],\n",
       "       [59.36986301,  8.        ,  1.        , 39.        ],\n",
       "       [62.60547945,  7.        ,  2.        , 36.        ],\n",
       "       [64.58082192,  8.        ,  2.        , 26.        ],\n",
       "       [48.81369863,  8.        ,  1.        , 40.        ],\n",
       "       [68.67289468,  7.        ,  1.        , 35.        ],\n",
       "       [71.70136986,  6.        ,  1.        , 18.        ],\n",
       "       [48.29508197,  8.        ,  1.        , 29.        ],\n",
       "       [63.83561644,  6.        ,  2.        , 23.        ],\n",
       "       [59.95616438,  8.        ,  1.        , 38.        ],\n",
       "       [61.25078224,  8.        ,  2.        , 12.        ],\n",
       "       [58.25731716,  8.        ,  1.        , 30.        ],\n",
       "       [36.64754098,  8.        ,  1.        , 22.        ],\n",
       "       [70.09424358,  7.        ,  1.        , 25.        ],\n",
       "       [62.26551389,  8.        ,  1.        , 23.        ],\n",
       "       [66.38356164,  8.        ,  2.        , 33.        ],\n",
       "       [60.45408339,  8.        ,  1.        , 27.        ],\n",
       "       [45.21369863,  7.        ,  2.        , 31.        ],\n",
       "       [69.84657534,  6.        ,  1.        , 30.        ],\n",
       "       [64.5136612 ,  8.        ,  1.        , 19.        ],\n",
       "       [53.46027397,  8.        ,  2.        , 28.        ],\n",
       "       [66.45461487,  5.        ,  2.        , 25.        ],\n",
       "       [78.32054795,  7.        ,  1.        , 25.        ],\n",
       "       [60.27374055,  7.        ,  2.        , 30.        ],\n",
       "       [72.97945206,  8.        ,  2.        , 33.        ],\n",
       "       [57.82191781,  7.        ,  1.        , 35.        ],\n",
       "       [65.20821918,  5.        ,  1.        , 14.        ],\n",
       "       [56.75342466,  7.        ,  1.        , 23.        ],\n",
       "       [67.57808219,  8.        ,  2.        , 18.        ],\n",
       "       [68.02465753,  8.        ,  2.        , 40.        ],\n",
       "       [70.61362377,  8.        ,  1.        , 32.        ],\n",
       "       [56.70958904,  8.        ,  2.        , 20.        ],\n",
       "       [54.80961898,  8.        ,  2.        , 33.        ],\n",
       "       [31.16090276,  8.        ,  1.        , 40.        ],\n",
       "       [49.17879332,  8.        ,  3.        , 28.        ],\n",
       "       [82.2520548 ,  8.        ,  4.        , 15.        ],\n",
       "       [62.1195823 ,  8.        ,  1.        , 31.        ],\n",
       "       [48.15342466,  7.        ,  2.        , 39.        ],\n",
       "       [73.52401377,  5.        ,  1.        , 15.        ],\n",
       "       [57.13965117,  8.        ,  1.        , 31.        ],\n",
       "       [62.0343888 ,  8.        ,  2.        , 22.        ],\n",
       "       [52.06575343,  7.        ,  1.        , 40.        ],\n",
       "       [61.28767123,  7.        ,  2.        , 30.        ],\n",
       "       [55.73424658,  5.        ,  1.        , 19.        ],\n",
       "       [66.15616438,  8.        ,  1.        , 38.        ],\n",
       "       [49.04383562,  8.        ,  2.        , 25.        ],\n",
       "       [58.99187814,  8.        ,  1.        , 33.        ],\n",
       "       [54.03827382,  8.        ,  2.        , 37.        ],\n",
       "       [49.12959054,  8.        ,  1.        , 25.        ],\n",
       "       [50.74750356,  8.        ,  1.        , 14.        ],\n",
       "       [65.73150685,  7.        ,  2.        , 23.        ],\n",
       "       [43.18769369,  7.        ,  1.        , 39.        ],\n",
       "       [50.46004192,  3.        ,  2.        , 20.        ],\n",
       "       [53.71911071,  8.        ,  2.        , 32.        ],\n",
       "       [45.79452055,  8.        ,  1.        , 32.        ],\n",
       "       [59.58919829,  8.        ,  1.        , 29.        ],\n",
       "       [69.36438356,  4.        ,  1.        , 22.        ],\n",
       "       [47.18781346,  8.        ,  1.        , 39.        ],\n",
       "       [30.96504229,  8.        ,  1.        , 38.        ],\n",
       "       [48.44535519,  7.        ,  2.        , 16.        ],\n",
       "       [68.88767123,  1.        ,  2.        , 10.        ],\n",
       "       [79.29202036,  6.        ,  2.        , 36.        ],\n",
       "       [75.05284827,  5.        ,  2.        ,  7.        ],\n",
       "       [57.23013699,  8.        ,  1.        , 37.        ],\n",
       "       [59.82465753,  6.        ,  1.        , 36.        ],\n",
       "       [68.69172094,  5.        ,  2.        , 15.        ],\n",
       "       [52.5369863 ,  8.        ,  1.        , 34.        ],\n",
       "       [74.07872595,  8.        ,  2.        , 37.        ],\n",
       "       [70.49863014,  8.        ,  2.        , 27.        ],\n",
       "       [58.87707164,  6.        ,  2.        , 25.        ],\n",
       "       [57.9260274 ,  8.        ,  1.        , 28.        ],\n",
       "       [63.94808743,  8.        ,  1.        , 38.        ],\n",
       "       [31.8630137 ,  8.        ,  1.        , 38.        ],\n",
       "       [48.03278689,  8.        ,  2.        , 18.        ],\n",
       "       [59.11674527,  7.        ,  1.        , 18.        ],\n",
       "       [49.16546897,  8.        ,  3.        , 38.        ],\n",
       "       [47.35420316,  6.        ,  4.        , 16.        ],\n",
       "       [58.42585523,  7.        ,  1.        , 39.        ],\n",
       "       [67.40273973,  7.        ,  2.        , 13.        ],\n",
       "       [68.37704918,  8.        ,  1.        , 30.        ],\n",
       "       [67.55182274,  8.        ,  1.        ,  8.        ],\n",
       "       [64.32240437,  8.        ,  3.        , 19.        ],\n",
       "       [53.93937421,  8.        ,  1.        , 39.        ],\n",
       "       [56.67290216,  8.        ,  3.        , 23.        ],\n",
       "       [59.64931507,  7.        ,  1.        , 35.        ],\n",
       "       [39.18630137,  8.        ,  4.        , 31.        ],\n",
       "       [54.16712329,  7.        ,  1.        , 20.        ],\n",
       "       [60.85593233,  8.        ,  2.        , 24.        ],\n",
       "       [69.1890411 ,  6.        ,  1.        , 35.        ],\n",
       "       [64.44918033,  8.        ,  1.        , 21.        ],\n",
       "       [49.89315069,  2.        ,  2.        , 18.        ],\n",
       "       [54.42191781,  8.        ,  1.        , 35.        ],\n",
       "       [58.44109589,  8.        ,  2.        , 36.        ],\n",
       "       [75.4726776 ,  4.        ,  3.        ,  6.        ],\n",
       "       [72.10928962,  4.        ,  1.        , 23.        ],\n",
       "       [56.80071862,  6.        ,  2.        , 39.        ],\n",
       "       [57.00821918,  8.        ,  2.        , 36.        ],\n",
       "       [56.36949622,  8.        ,  2.        , 16.        ],\n",
       "       [64.59704319,  7.        ,  1.        , 32.        ],\n",
       "       [69.9369863 ,  8.        ,  2.        , 38.        ],\n",
       "       [72.29315069,  7.        ,  1.        , 20.        ],\n",
       "       [72.03835616,  7.        ,  1.        , 19.        ],\n",
       "       [43.09202036,  8.        ,  1.        , 29.        ],\n",
       "       [69.81494872,  8.        ,  4.        , 11.        ],\n",
       "       [64.8442623 ,  7.        ,  4.        , 34.        ],\n",
       "       [64.2431694 ,  8.        ,  1.        , 18.        ],\n",
       "       [54.03561644,  8.        ,  1.        , 33.        ],\n",
       "       [73.87945206,  7.        ,  2.        , 23.        ],\n",
       "       [53.78082192,  7.        ,  2.        , 26.        ],\n",
       "       [64.01917808,  7.        ,  1.        , 27.        ],\n",
       "       [73.24931507,  7.        ,  1.        , 34.        ],\n",
       "       [32.19178082,  8.        ,  1.        , 39.        ],\n",
       "       [60.28493151,  8.        ,  1.        , 31.        ],\n",
       "       [73.96355266,  8.        ,  2.        , 27.        ],\n",
       "       [69.86575343,  8.        ,  2.        , 39.        ],\n",
       "       [71.63561644,  6.        ,  1.        , 29.        ],\n",
       "       [75.68219178,  1.        ,  2.        , 20.        ],\n",
       "       [55.73150685,  8.        ,  1.        , 39.        ],\n",
       "       [51.00248522,  8.        ,  2.        , 11.        ],\n",
       "       [65.82497193,  8.        ,  3.        , 10.        ],\n",
       "       [61.43561644,  8.        ,  2.        , 20.        ],\n",
       "       [68.77595628,  6.        ,  1.        , 14.        ],\n",
       "       [39.22465753,  8.        ,  2.        , 34.        ],\n",
       "       [66.38428026,  8.        ,  2.        , 39.        ],\n",
       "       [48.93424658,  8.        ,  1.        , 13.        ],\n",
       "       [59.93150685,  8.        ,  2.        , 31.        ],\n",
       "       [81.78630137,  8.        ,  1.        , 17.        ],\n",
       "       [46.79194551,  7.        ,  2.        , 30.        ],\n",
       "       [68.56438356,  7.        ,  1.        , 35.        ],\n",
       "       [48.27123288,  6.        ,  1.        , 36.        ],\n",
       "       [66.89315069,  6.        ,  1.        , 26.        ],\n",
       "       [58.69863014,  6.        ,  2.        , 21.        ],\n",
       "       [56.32876712,  8.        ,  1.        , 39.        ],\n",
       "       [62.55840258,  7.        ,  1.        , 24.        ],\n",
       "       [74.69589041,  8.        ,  1.        , 27.        ],\n",
       "       [63.95342466,  1.        ,  2.        , 18.        ],\n",
       "       [51.50979864,  5.        ,  1.        , 25.        ],\n",
       "       [62.23981585,  6.        ,  1.        , 29.        ],\n",
       "       [54.76757242,  8.        ,  1.        , 38.        ],\n",
       "       [62.33424658,  8.        ,  1.        , 38.        ],\n",
       "       [66.54101355,  7.        ,  2.        , 16.        ],\n",
       "       [54.9119994 ,  8.        ,  2.        , 21.        ],\n",
       "       [59.01643836,  5.        ,  1.        , 11.        ],\n",
       "       [56.40983607,  8.        ,  1.        , 31.        ],\n",
       "       [43.86883749,  7.        ,  1.        , 36.        ],\n",
       "       [48.4863388 ,  8.        ,  1.        , 31.        ],\n",
       "       [81.89041096,  8.        ,  2.        , 38.        ],\n",
       "       [70.67887566,  5.        ,  1.        , 11.        ],\n",
       "       [59.18743918,  8.        ,  2.        , 35.        ],\n",
       "       [49.22060034,  6.        ,  2.        , 25.        ],\n",
       "       [51.55464481,  8.        ,  2.        , 23.        ],\n",
       "       [72.32876712,  7.        ,  1.        , 33.        ],\n",
       "       [67.35952541,  8.        ,  1.        , 24.        ],\n",
       "       [73.55342466,  8.        ,  1.        , 23.        ],\n",
       "       [64.22465753,  8.        ,  2.        , 36.        ],\n",
       "       [53.25367168,  8.        ,  2.        , 20.        ],\n",
       "       [62.28744667,  6.        ,  1.        , 37.        ],\n",
       "       [57.66849315,  8.        ,  1.        , 38.        ],\n",
       "       [63.51232877,  8.        ,  2.        , 29.        ],\n",
       "       [60.2792724 ,  4.        ,  1.        ,  7.        ],\n",
       "       [55.59452055,  8.        ,  2.        , 35.        ],\n",
       "       [78.01614642,  5.        ,  2.        , 19.        ],\n",
       "       [68.49863014,  8.        ,  1.        , 30.        ],\n",
       "       [77.46027397,  7.        ,  2.        , 10.        ],\n",
       "       [68.84054944,  6.        ,  2.        , 12.        ],\n",
       "       [70.59370462,  6.        ,  1.        , 16.        ],\n",
       "       [67.91256831,  6.        ,  1.        , 32.        ],\n",
       "       [54.46575343,  8.        ,  1.        , 20.        ],\n",
       "       [66.56522195,  7.        ,  1.        , 31.        ],\n",
       "       [64.51506849,  8.        ,  1.        , 29.        ],\n",
       "       [63.09479752,  8.        ,  2.        , 19.        ],\n",
       "       [83.68219178,  7.        ,  2.        , 39.        ],\n",
       "       [64.07377049,  7.        ,  1.        ,  9.        ],\n",
       "       [71.5863912 ,  2.        ,  1.        , 17.        ],\n",
       "       [68.64641066,  2.        ,  3.        , 25.        ],\n",
       "       [52.715847  ,  8.        ,  3.        , 34.        ],\n",
       "       [66.2630137 ,  6.        ,  2.        , 36.        ],\n",
       "       [62.47945206,  5.        ,  2.        , 14.        ],\n",
       "       [73.28544801,  8.        ,  1.        , 27.        ],\n",
       "       [72.61917808,  8.        ,  1.        , 30.        ],\n",
       "       [68.78082192,  7.        ,  1.        , 38.        ],\n",
       "       [62.99613744,  7.        ,  1.        , 20.        ],\n",
       "       [52.15342466,  8.        ,  1.        , 29.        ],\n",
       "       [67.34360356,  4.        ,  1.        , 32.        ],\n",
       "       [52.38356164,  8.        ,  1.        , 38.        ],\n",
       "       [61.41911071,  8.        ,  2.        , 17.        ],\n",
       "       [46.965716  ,  7.        ,  3.        , 10.        ],\n",
       "       [60.0136612 ,  8.        ,  2.        , 23.        ],\n",
       "       [74.22382663,  8.        ,  1.        , 15.        ],\n",
       "       [38.34007037,  8.        ,  2.        , 35.        ],\n",
       "       [62.94655289,  7.        ,  2.        , 25.        ],\n",
       "       [75.43287671,  6.        ,  1.        , 22.        ],\n",
       "       [52.09589041,  8.        ,  1.        , 37.        ],\n",
       "       [67.40547945,  8.        ,  1.        , 35.        ],\n",
       "       [71.39071038,  8.        ,  1.        , 13.        ],\n",
       "       [60.75861217,  8.        ,  3.        , 15.        ],\n",
       "       [61.00520249,  8.        ,  1.        , 34.        ],\n",
       "       [64.22989745,  6.        ,  2.        , 27.        ],\n",
       "       [77.18460963,  5.        ,  2.        , 17.        ],\n",
       "       [63.66926417,  8.        ,  4.        , 37.        ],\n",
       "       [69.42739726,  4.        ,  2.        , 15.        ],\n",
       "       [57.7369863 ,  7.        ,  1.        , 30.        ],\n",
       "       [52.1230631 ,  5.        ,  2.        , 12.        ],\n",
       "       [77.26662924,  8.        ,  2.        , 12.        ],\n",
       "       [71.52707538,  8.        ,  2.        , 38.        ],\n",
       "       [79.24203908,  7.        ,  4.        , 38.        ],\n",
       "       [65.4       ,  5.        ,  1.        , 18.        ],\n",
       "       [45.54794521,  8.        ,  1.        , 39.        ],\n",
       "       [55.81420765,  8.        ,  2.        , 16.        ]])"
      ]
     },
     "execution_count": 15,
     "metadata": {},
     "output_type": "execute_result"
    }
   ],
   "source": [
    "X_train"
   ]
  },
  {
   "cell_type": "code",
   "execution_count": 16,
   "metadata": {
    "ExecuteTime": {
     "end_time": "2023-03-10T05:44:00.163512Z",
     "start_time": "2023-03-10T05:44:00.063135Z"
    },
    "scrolled": true
   },
   "outputs": [
    {
     "data": {
      "text/plain": [
       "array([1, 0, 0, 0, 0, 1, 1, 0, 0, 0, 1, 0, 1, 0, 0, 0, 0, 0, 1, 1, 1, 1,\n",
       "       1, 1, 0, 0, 0, 1, 0, 0, 0, 0, 0, 1, 0, 0, 1, 0, 0, 0, 0, 0, 0, 1,\n",
       "       0, 0, 0, 1, 1, 0, 0, 1, 0, 0, 0, 1, 0, 0, 0, 1, 0, 0, 1, 0, 0, 0,\n",
       "       0, 0, 0, 1, 0, 0, 1, 0, 0, 1, 1, 0, 0, 1, 0, 0, 1, 0, 1, 1, 0, 0,\n",
       "       0, 1, 1, 0, 1, 0, 0, 0, 0, 0, 0, 0, 1, 0, 1, 0, 0, 0, 1, 0, 0, 1,\n",
       "       1, 0, 0, 1, 1, 0, 0, 1, 0, 0, 0, 0, 1, 0, 1, 0, 0, 0, 1, 1, 1, 0,\n",
       "       1, 0, 0, 1, 0, 0, 0, 0, 0, 0, 0, 0, 0, 0, 1, 1, 0, 0, 1, 0, 0, 0,\n",
       "       0, 0, 0, 1, 0, 0, 0, 0, 0, 0, 1, 0, 1, 0, 0, 1, 0, 1, 1, 0, 0, 1,\n",
       "       0, 0, 1, 0, 1, 0, 0, 0, 0, 0, 0, 1, 0, 1, 0, 0, 0, 0, 1, 0, 1, 0,\n",
       "       1, 0, 0, 1, 1, 1, 0, 0, 0, 0, 0, 1, 1, 0, 0, 0, 1, 1, 0, 1, 0, 0,\n",
       "       0, 0, 1, 1, 0, 1, 0], dtype=int64)"
      ]
     },
     "execution_count": 16,
     "metadata": {},
     "output_type": "execute_result"
    }
   ],
   "source": [
    "y_train"
   ]
  },
  {
   "cell_type": "markdown",
   "metadata": {},
   "source": [
    "## Removing 1st layer of the model, replacing with dframe"
   ]
  },
  {
   "cell_type": "code",
   "execution_count": 17,
   "metadata": {
    "ExecuteTime": {
     "end_time": "2023-03-10T05:44:00.341993Z",
     "start_time": "2023-03-10T05:44:00.163512Z"
    }
   },
   "outputs": [],
   "source": [
    "from keras.models import load_model, Model\n",
    "from keras.layers import Input, Dense\n",
    "\n",
    "# Load the pre-trained model\n",
    "model_ann = load_model('model_ann.h5')\n",
    "\n",
    "# Define the input layer of the new model with a different shape\n",
    "new_input_layer = Input(shape=dframes.shape[1:])\n",
    "#new_input_layer = Dense(units = 13, input_shape=(dframes.shape[1:]), activation='relu')\n",
    "\n",
    "# Define the first hidden layer of the new model\n",
    "new_hidden_layer1 = Dense(units=12, activation='relu',kernel_regularizer=tf.keras.regularizers.l1(0.01))(new_input_layer)\n",
    "\n",
    "# Get the weights of the second hidden and output layers from the pre-trained model\n",
    "pretrained_hidden_layer2_weights = model_ann.layers[1].get_weights()\n",
    "pretrained_output_layer_weights = model_ann.layers[2].get_weights()\n",
    "\n",
    "# Define the second hidden layer and the output layer of the new model using the pre-trained weights\n",
    "new_hidden_layer2 = Dense(units=pretrained_hidden_layer2_weights[0].shape[1], activation='relu', weights=pretrained_hidden_layer2_weights)(new_hidden_layer1)\n",
    "new_output_layer = Dense(units=pretrained_output_layer_weights[0].shape[1], activation='sigmoid', weights=pretrained_output_layer_weights)(new_hidden_layer2)\n",
    "\n",
    "\n",
    "# Create the new model with the input layer and all four layers\n",
    "new_model = Model(inputs=new_input_layer, outputs=new_output_layer)\n",
    "\n",
    "# Compile the new model with the desired optimizer, loss function, and metrics\n",
    "new_model.compile(optimizer='adam', loss='binary_crossentropy', metrics=['accuracy'])\n",
    "\n",
    "for layer in new_model.layers[2:]:\n",
    "    layer.trainable = False"
   ]
  },
  {
   "cell_type": "code",
   "execution_count": 18,
   "metadata": {
    "ExecuteTime": {
     "end_time": "2023-03-10T05:44:00.379270Z",
     "start_time": "2023-03-10T05:44:00.341993Z"
    },
    "scrolled": true
   },
   "outputs": [
    {
     "name": "stdout",
     "output_type": "stream",
     "text": [
      "Model: \"model\"\n",
      "_________________________________________________________________\n",
      " Layer (type)                Output Shape              Param #   \n",
      "=================================================================\n",
      " input_1 (InputLayer)        [(None, 4)]               0         \n",
      "                                                                 \n",
      " dense (Dense)               (None, 12)                60        \n",
      "                                                                 \n",
      " dense_1 (Dense)             (None, 8)                 104       \n",
      "                                                                 \n",
      " dense_2 (Dense)             (None, 1)                 9         \n",
      "                                                                 \n",
      "=================================================================\n",
      "Total params: 173\n",
      "Trainable params: 60\n",
      "Non-trainable params: 113\n",
      "_________________________________________________________________\n"
     ]
    }
   ],
   "source": [
    "new_model.summary()"
   ]
  },
  {
   "cell_type": "code",
   "execution_count": 19,
   "metadata": {
    "ExecuteTime": {
     "end_time": "2023-03-10T05:44:03.068031Z",
     "start_time": "2023-03-10T05:44:00.379270Z"
    },
    "scrolled": true
   },
   "outputs": [
    {
     "name": "stdout",
     "output_type": "stream",
     "text": [
      "Epoch 1/100\n",
      "12/12 [==============================] - 1s 1ms/step - loss: 0.7201 - accuracy: 0.6740\n",
      "Epoch 2/100\n",
      "12/12 [==============================] - 0s 1ms/step - loss: 0.6695 - accuracy: 0.7093\n",
      "Epoch 3/100\n",
      "12/12 [==============================] - 0s 1ms/step - loss: 0.6337 - accuracy: 0.7797\n",
      "Epoch 4/100\n",
      "12/12 [==============================] - 0s 2ms/step - loss: 0.6220 - accuracy: 0.7841\n",
      "Epoch 5/100\n",
      "12/12 [==============================] - 0s 1ms/step - loss: 0.6028 - accuracy: 0.7930\n",
      "Epoch 6/100\n",
      "12/12 [==============================] - 0s 1ms/step - loss: 0.5954 - accuracy: 0.8282\n",
      "Epoch 7/100\n",
      "12/12 [==============================] - 0s 1ms/step - loss: 0.5905 - accuracy: 0.7974\n",
      "Epoch 8/100\n",
      "12/12 [==============================] - 0s 1ms/step - loss: 0.5834 - accuracy: 0.8062\n",
      "Epoch 9/100\n",
      "12/12 [==============================] - 0s 592us/step - loss: 0.5814 - accuracy: 0.8106\n",
      "Epoch 10/100\n",
      "12/12 [==============================] - 0s 1ms/step - loss: 0.5653 - accuracy: 0.8326\n",
      "Epoch 11/100\n",
      "12/12 [==============================] - 0s 1ms/step - loss: 0.5660 - accuracy: 0.8150\n",
      "Epoch 12/100\n",
      "12/12 [==============================] - 0s 1ms/step - loss: 0.5620 - accuracy: 0.8062\n",
      "Epoch 13/100\n",
      "12/12 [==============================] - 0s 1ms/step - loss: 0.5583 - accuracy: 0.8062\n",
      "Epoch 14/100\n",
      "12/12 [==============================] - 0s 0s/step - loss: 0.5637 - accuracy: 0.7753\n",
      "Epoch 15/100\n",
      "12/12 [==============================] - 0s 0s/step - loss: 0.5482 - accuracy: 0.8106\n",
      "Epoch 16/100\n",
      "12/12 [==============================] - 0s 1ms/step - loss: 0.5607 - accuracy: 0.8018\n",
      "Epoch 17/100\n",
      "12/12 [==============================] - 0s 1ms/step - loss: 0.5726 - accuracy: 0.7665\n",
      "Epoch 18/100\n",
      "12/12 [==============================] - 0s 1ms/step - loss: 0.5384 - accuracy: 0.8150\n",
      "Epoch 19/100\n",
      "12/12 [==============================] - 0s 2ms/step - loss: 0.5483 - accuracy: 0.8150\n",
      "Epoch 20/100\n",
      "12/12 [==============================] - 0s 1ms/step - loss: 0.5477 - accuracy: 0.8150\n",
      "Epoch 21/100\n",
      "12/12 [==============================] - 0s 1ms/step - loss: 0.5301 - accuracy: 0.8238\n",
      "Epoch 22/100\n",
      "12/12 [==============================] - 0s 1ms/step - loss: 0.5366 - accuracy: 0.8018\n",
      "Epoch 23/100\n",
      "12/12 [==============================] - 0s 1ms/step - loss: 0.5363 - accuracy: 0.8326\n",
      "Epoch 24/100\n",
      "12/12 [==============================] - 0s 0s/step - loss: 0.5345 - accuracy: 0.7974\n",
      "Epoch 25/100\n",
      "12/12 [==============================] - 0s 592us/step - loss: 0.5354 - accuracy: 0.7974\n",
      "Epoch 26/100\n",
      "12/12 [==============================] - 0s 1ms/step - loss: 0.5324 - accuracy: 0.7841\n",
      "Epoch 27/100\n",
      "12/12 [==============================] - 0s 0s/step - loss: 0.5314 - accuracy: 0.8194\n",
      "Epoch 28/100\n",
      "12/12 [==============================] - 0s 1ms/step - loss: 0.5289 - accuracy: 0.7974\n",
      "Epoch 29/100\n",
      "12/12 [==============================] - 0s 1ms/step - loss: 0.5214 - accuracy: 0.8150\n",
      "Epoch 30/100\n",
      "12/12 [==============================] - 0s 592us/step - loss: 0.5107 - accuracy: 0.8458\n",
      "Epoch 31/100\n",
      "12/12 [==============================] - 0s 0s/step - loss: 0.5128 - accuracy: 0.8238\n",
      "Epoch 32/100\n",
      "12/12 [==============================] - 0s 1ms/step - loss: 0.5138 - accuracy: 0.7974\n",
      "Epoch 33/100\n",
      "12/12 [==============================] - 0s 1ms/step - loss: 0.5156 - accuracy: 0.8238\n",
      "Epoch 34/100\n",
      "12/12 [==============================] - 0s 1ms/step - loss: 0.5272 - accuracy: 0.8018\n",
      "Epoch 35/100\n",
      "12/12 [==============================] - 0s 2ms/step - loss: 0.5048 - accuracy: 0.8238\n",
      "Epoch 36/100\n",
      "12/12 [==============================] - 0s 1ms/step - loss: 0.5036 - accuracy: 0.8194\n",
      "Epoch 37/100\n",
      "12/12 [==============================] - 0s 1ms/step - loss: 0.4979 - accuracy: 0.8326\n",
      "Epoch 38/100\n",
      "12/12 [==============================] - 0s 1ms/step - loss: 0.5009 - accuracy: 0.8326\n",
      "Epoch 39/100\n",
      "12/12 [==============================] - 0s 2ms/step - loss: 0.5089 - accuracy: 0.8062\n",
      "Epoch 40/100\n",
      "12/12 [==============================] - 0s 1ms/step - loss: 0.5020 - accuracy: 0.8194\n",
      "Epoch 41/100\n",
      "12/12 [==============================] - 0s 0s/step - loss: 0.4954 - accuracy: 0.8194\n",
      "Epoch 42/100\n",
      "12/12 [==============================] - 0s 1ms/step - loss: 0.4980 - accuracy: 0.8194\n",
      "Epoch 43/100\n",
      "12/12 [==============================] - 0s 1ms/step - loss: 0.4899 - accuracy: 0.8458\n",
      "Epoch 44/100\n",
      "12/12 [==============================] - 0s 2ms/step - loss: 0.4883 - accuracy: 0.8194\n",
      "Epoch 45/100\n",
      "12/12 [==============================] - 0s 915us/step - loss: 0.4871 - accuracy: 0.8282\n",
      "Epoch 46/100\n",
      "12/12 [==============================] - 0s 2ms/step - loss: 0.4896 - accuracy: 0.8238\n",
      "Epoch 47/100\n",
      "12/12 [==============================] - 0s 2ms/step - loss: 0.4940 - accuracy: 0.8458\n",
      "Epoch 48/100\n",
      "12/12 [==============================] - 0s 2ms/step - loss: 0.4827 - accuracy: 0.8370\n",
      "Epoch 49/100\n",
      "12/12 [==============================] - 0s 2ms/step - loss: 0.4901 - accuracy: 0.8282\n",
      "Epoch 50/100\n",
      "12/12 [==============================] - 0s 910us/step - loss: 0.4851 - accuracy: 0.8150\n",
      "Epoch 51/100\n",
      "12/12 [==============================] - 0s 1ms/step - loss: 0.4999 - accuracy: 0.8370\n",
      "Epoch 52/100\n",
      "12/12 [==============================] - 0s 1ms/step - loss: 0.4872 - accuracy: 0.8238\n",
      "Epoch 53/100\n",
      "12/12 [==============================] - 0s 2ms/step - loss: 0.4861 - accuracy: 0.8238\n",
      "Epoch 54/100\n",
      "12/12 [==============================] - 0s 1ms/step - loss: 0.5007 - accuracy: 0.8062\n",
      "Epoch 55/100\n",
      "12/12 [==============================] - 0s 364us/step - loss: 0.4965 - accuracy: 0.8018\n",
      "Epoch 56/100\n",
      "12/12 [==============================] - 0s 1ms/step - loss: 0.4988 - accuracy: 0.8106\n",
      "Epoch 57/100\n",
      "12/12 [==============================] - 0s 1ms/step - loss: 0.4824 - accuracy: 0.8282\n",
      "Epoch 58/100\n",
      "12/12 [==============================] - 0s 1ms/step - loss: 0.4876 - accuracy: 0.8238\n",
      "Epoch 59/100\n",
      "12/12 [==============================] - 0s 1ms/step - loss: 0.4789 - accuracy: 0.8370\n",
      "Epoch 60/100\n",
      "12/12 [==============================] - 0s 0s/step - loss: 0.4812 - accuracy: 0.8238\n",
      "Epoch 61/100\n",
      "12/12 [==============================] - 0s 1ms/step - loss: 0.4796 - accuracy: 0.8282\n",
      "Epoch 62/100\n",
      "12/12 [==============================] - 0s 1ms/step - loss: 0.4929 - accuracy: 0.8238\n",
      "Epoch 63/100\n",
      "12/12 [==============================] - 0s 1ms/step - loss: 0.4938 - accuracy: 0.8194\n",
      "Epoch 64/100\n",
      "12/12 [==============================] - 0s 1ms/step - loss: 0.4778 - accuracy: 0.8370\n",
      "Epoch 65/100\n",
      "12/12 [==============================] - 0s 592us/step - loss: 0.4755 - accuracy: 0.8414\n",
      "Epoch 66/100\n",
      "12/12 [==============================] - 0s 1ms/step - loss: 0.4758 - accuracy: 0.8414\n",
      "Epoch 67/100\n",
      "12/12 [==============================] - 0s 1ms/step - loss: 0.4765 - accuracy: 0.8282\n",
      "Epoch 68/100\n",
      "12/12 [==============================] - 0s 3ms/step - loss: 0.4791 - accuracy: 0.8238\n",
      "Epoch 69/100\n",
      "12/12 [==============================] - 0s 2ms/step - loss: 0.4752 - accuracy: 0.8150\n",
      "Epoch 70/100\n",
      "12/12 [==============================] - 0s 1ms/step - loss: 0.4871 - accuracy: 0.8150\n",
      "Epoch 71/100\n",
      "12/12 [==============================] - 0s 1ms/step - loss: 0.4823 - accuracy: 0.8194\n",
      "Epoch 72/100\n",
      "12/12 [==============================] - 0s 1ms/step - loss: 0.4862 - accuracy: 0.8018\n",
      "Epoch 73/100\n",
      "12/12 [==============================] - 0s 1ms/step - loss: 0.4750 - accuracy: 0.8546\n",
      "Epoch 74/100\n",
      "12/12 [==============================] - 0s 2ms/step - loss: 0.4803 - accuracy: 0.8106\n",
      "Epoch 75/100\n",
      "12/12 [==============================] - 0s 1ms/step - loss: 0.4714 - accuracy: 0.8370\n",
      "Epoch 76/100\n",
      "12/12 [==============================] - 0s 1ms/step - loss: 0.4741 - accuracy: 0.8238\n",
      "Epoch 77/100\n",
      "12/12 [==============================] - 0s 1ms/step - loss: 0.4759 - accuracy: 0.8194\n",
      "Epoch 78/100\n",
      "12/12 [==============================] - 0s 1ms/step - loss: 0.4775 - accuracy: 0.8326\n",
      "Epoch 79/100\n",
      "12/12 [==============================] - 0s 2ms/step - loss: 0.4752 - accuracy: 0.8106\n",
      "Epoch 80/100\n",
      "12/12 [==============================] - 0s 1ms/step - loss: 0.4799 - accuracy: 0.8282\n",
      "Epoch 81/100\n",
      "12/12 [==============================] - 0s 1ms/step - loss: 0.4745 - accuracy: 0.8106\n",
      "Epoch 82/100\n"
     ]
    },
    {
     "name": "stdout",
     "output_type": "stream",
     "text": [
      "12/12 [==============================] - 0s 1ms/step - loss: 0.4792 - accuracy: 0.8458\n",
      "Epoch 83/100\n",
      "12/12 [==============================] - 0s 1ms/step - loss: 0.4716 - accuracy: 0.8062\n",
      "Epoch 84/100\n",
      "12/12 [==============================] - 0s 592us/step - loss: 0.4740 - accuracy: 0.8546\n",
      "Epoch 85/100\n",
      "12/12 [==============================] - 0s 1ms/step - loss: 0.4683 - accuracy: 0.8502\n",
      "Epoch 86/100\n",
      "12/12 [==============================] - 0s 1ms/step - loss: 0.4663 - accuracy: 0.8458\n",
      "Epoch 87/100\n",
      "12/12 [==============================] - 0s 1ms/step - loss: 0.4750 - accuracy: 0.8150\n",
      "Epoch 88/100\n",
      "12/12 [==============================] - 0s 1ms/step - loss: 0.4696 - accuracy: 0.8326\n",
      "Epoch 89/100\n",
      "12/12 [==============================] - 0s 592us/step - loss: 0.4694 - accuracy: 0.8414\n",
      "Epoch 90/100\n",
      "12/12 [==============================] - 0s 1ms/step - loss: 0.4756 - accuracy: 0.8238\n",
      "Epoch 91/100\n",
      "12/12 [==============================] - 0s 1ms/step - loss: 0.4678 - accuracy: 0.8414\n",
      "Epoch 92/100\n",
      "12/12 [==============================] - 0s 1ms/step - loss: 0.4742 - accuracy: 0.8502\n",
      "Epoch 93/100\n",
      "12/12 [==============================] - 0s 1ms/step - loss: 0.4651 - accuracy: 0.8370\n",
      "Epoch 94/100\n",
      "12/12 [==============================] - 0s 1ms/step - loss: 0.4841 - accuracy: 0.8282\n",
      "Epoch 95/100\n",
      "12/12 [==============================] - 0s 1ms/step - loss: 0.4865 - accuracy: 0.8194\n",
      "Epoch 96/100\n",
      "12/12 [==============================] - 0s 1ms/step - loss: 0.4782 - accuracy: 0.8238\n",
      "Epoch 97/100\n",
      "12/12 [==============================] - 0s 1ms/step - loss: 0.4630 - accuracy: 0.8546\n",
      "Epoch 98/100\n",
      "12/12 [==============================] - 0s 2ms/step - loss: 0.4662 - accuracy: 0.8502\n",
      "Epoch 99/100\n",
      "12/12 [==============================] - 0s 1ms/step - loss: 0.4654 - accuracy: 0.8282\n",
      "Epoch 100/100\n",
      "12/12 [==============================] - 0s 1ms/step - loss: 0.4662 - accuracy: 0.8458\n"
     ]
    },
    {
     "data": {
      "text/plain": [
       "<keras.callbacks.History at 0x1ed0a67eb20>"
      ]
     },
     "execution_count": 19,
     "metadata": {},
     "output_type": "execute_result"
    }
   ],
   "source": [
    "new_model.fit(X_train, y_train, batch_size = 20, epochs = 100)"
   ]
  },
  {
   "cell_type": "code",
   "execution_count": 51,
   "metadata": {
    "ExecuteTime": {
     "end_time": "2023-03-10T06:44:19.731424Z",
     "start_time": "2023-03-10T06:44:19.668953Z"
    }
   },
   "outputs": [
    {
     "name": "stdout",
     "output_type": "stream",
     "text": [
      "  Category  Percentage\n",
      "0  Patient    0.935931\n"
     ]
    }
   ],
   "source": [
    "import pandas as pd\n",
    "\n",
    "# Predict the outcome of the df3 data frame\n",
    "prediction = new_model.predict(df3,verbose=0)\n",
    "\n",
    "# Determine the predicted class and scaled prediction\n",
    "if prediction[0][0] > 0.5:\n",
    "    predicted_class = \"Healthy\"\n",
    "    scaled_prediction = prediction[0][0]\n",
    "else:\n",
    "    scaled_prediction = 1 - (prediction[0][0] - 0) * (1 - 0.5) / (0.5 - 0)\n",
    "    predicted_class = \"Patient\"\n",
    "    scaled_prediction = scaled_prediction\n",
    "\n",
    "# Create a new dataframe with the predicted class and scaled prediction\n",
    "results_df_NeuNet = pd.DataFrame({'Category': [predicted_class],\n",
    "                           'Percentage': [scaled_prediction]})\n",
    "print(results_df_NeuNet)"
   ]
  },
  {
   "cell_type": "markdown",
   "metadata": {},
   "source": [
    "Code for calculating score of healthy or patient prediction"
   ]
  },
  {
   "cell_type": "code",
   "execution_count": 64,
   "metadata": {
    "ExecuteTime": {
     "end_time": "2023-03-10T09:11:05.592739Z",
     "start_time": "2023-03-10T09:11:05.561532Z"
    }
   },
   "outputs": [
    {
     "name": "stdout",
     "output_type": "stream",
     "text": [
      "Sum of scores in Healthy category: 1.5791520000000001\n",
      "Sum of scores in Patient category: 2.887\n",
      "Difference between Patient and Healthy categories: 43.59493333333333\n"
     ]
    }
   ],
   "source": [
    "# create the dataframe\n",
    "data = {'Category': ['Patient', 'Patient', 'Healthy', 'Patient', 'Patient', 'Healthy'],\n",
    "        'Score': [0.666667, 0.533333, 0.689576, 0.956667, 0.730333, 0.889576]}\n",
    "df = pd.DataFrame(data)\n",
    "\n",
    "# identify the categories with low and high occurrence\n",
    "low_cat = df['Category'].value_counts().idxmin()\n",
    "high_cat = df['Category'].value_counts().idxmax()\n",
    "\n",
    "# compute the sum of score in the low_cat and high_cat\n",
    "low_cat_sum = df.loc[df['Category'] == low_cat, 'Score'].sum()\n",
    "high_cat_sum = df.loc[df['Category'] == high_cat, 'Score'].sum()\n",
    "\n",
    "# compute the difference between high_cat_sum and low_cat_sum\n",
    "difference = (high_cat_sum - low_cat_sum)/3 * 100\n",
    "\n",
    "print(\"Sum of scores in {} category: {}\".format(low_cat, low_cat_sum))\n",
    "print(\"Sum of scores in {} category: {}\".format(high_cat, high_cat_sum))\n",
    "print(\"Difference between {} and {} categories: {}\".format(high_cat, low_cat, difference))\n"
   ]
  },
  {
   "cell_type": "code",
   "execution_count": 65,
   "metadata": {
    "ExecuteTime": {
     "end_time": "2023-03-10T09:11:08.571103Z",
     "start_time": "2023-03-10T09:11:08.539874Z"
    }
   },
   "outputs": [
    {
     "data": {
      "text/plain": [
       "43.59493333333333"
      ]
     },
     "execution_count": 65,
     "metadata": {},
     "output_type": "execute_result"
    }
   ],
   "source": [
    "difference"
   ]
  },
  {
   "cell_type": "code",
   "execution_count": 67,
   "metadata": {
    "ExecuteTime": {
     "end_time": "2023-03-10T09:25:06.509171Z",
     "start_time": "2023-03-10T09:25:06.477950Z"
    }
   },
   "outputs": [
    {
     "data": {
      "text/plain": [
       "'43.59'"
      ]
     },
     "execution_count": 67,
     "metadata": {},
     "output_type": "execute_result"
    }
   ],
   "source": [
    "difference = (high_cat_sum - low_cat_sum)/3 * 100\n",
    "rounded_difference = \"{:.2f}\".format(difference)\n",
    "rounded_difference"
   ]
  },
  {
   "cell_type": "markdown",
   "metadata": {
    "ExecuteTime": {
     "end_time": "2023-03-10T06:05:44.220148Z",
     "start_time": "2023-03-10T06:05:44.126385Z"
    }
   },
   "source": [
    "# Predict the outcome of the df3 data frame\n",
    "prediction = new_model.predict(df3)\n",
    "print(prediction[0][0])\n",
    "\n",
    "if prediction[0][0] > 0.5:\n",
    "    predicted_class = \"Healthy\"\n",
    "else:\n",
    "    scaled_prediction = 1 - (prediction[0][0] - 0) * (1 - 0.5) / (0.5 - 0)\n",
    "    predicted_class = \"Patient\"\n",
    "scaled_prediction = scaled_prediction\n",
    "print(\"The predicted class is: \" + predicted_class + \", and the values in Neural Network is: \" + str(scaled_prediction))\n"
   ]
  },
  {
   "cell_type": "markdown",
   "metadata": {
    "ExecuteTime": {
     "end_time": "2023-03-10T05:44:03.221692Z",
     "start_time": "2023-03-10T05:44:03.068031Z"
    }
   },
   "source": [
    "# Predict the outcome of the df3 data frame\n",
    "prediction = new_model.predict(df3)\n",
    "print (prediction [0][0])\n",
    "\n",
    "if prediction[0][0] > 0.5:\n",
    "    predicted_class = \"Healthy\"\n",
    "else:\n",
    "    predicted_class = \"Patient\"\n",
    "\n",
    "prediction_value = prediction[0][0]\n",
    "\n",
    "if prediction_value <= 0.5:\n",
    "    # Scale the prediction value between 0 to 0.5\n",
    "    scaled_value = 1 - (prediction_value / 0.5)\n",
    "else:\n",
    "    # Scale the prediction value between 0.5 to 1\n",
    "    scaled_value = (prediction_value - 0.5) / 0.5\n",
    "\n",
    "# Output the scaled value\n",
    "#print(\"The scaled value is:\", scaled_value)\n",
    "print(\"The predicted class is: \" + predicted_class + \", and the values in Neural Network is: \" + str(scaled_value))\n"
   ]
  },
  {
   "cell_type": "code",
   "execution_count": 22,
   "metadata": {
    "ExecuteTime": {
     "end_time": "2023-03-10T05:44:03.437853Z",
     "start_time": "2023-03-10T05:44:03.299816Z"
    },
    "scrolled": true
   },
   "outputs": [
    {
     "name": "stdout",
     "output_type": "stream",
     "text": [
      "2/2 [==============================] - 0s 0s/step\n",
      "[[1 1]\n",
      " [0 0]\n",
      " [1 1]\n",
      " [0 0]\n",
      " [0 0]\n",
      " [0 0]\n",
      " [0 0]\n",
      " [0 0]\n",
      " [0 0]\n",
      " [1 0]\n",
      " [1 1]\n",
      " [0 0]\n",
      " [0 0]\n",
      " [0 0]\n",
      " [0 0]\n",
      " [0 0]\n",
      " [0 0]\n",
      " [1 1]\n",
      " [1 1]\n",
      " [0 0]\n",
      " [0 0]\n",
      " [0 0]\n",
      " [1 0]\n",
      " [1 1]\n",
      " [1 1]\n",
      " [1 0]\n",
      " [0 0]\n",
      " [0 1]\n",
      " [0 0]\n",
      " [0 0]\n",
      " [1 1]\n",
      " [1 1]\n",
      " [0 0]\n",
      " [0 0]\n",
      " [1 0]\n",
      " [0 0]\n",
      " [0 0]\n",
      " [1 0]\n",
      " [0 0]\n",
      " [0 0]\n",
      " [0 0]\n",
      " [1 0]\n",
      " [1 1]\n",
      " [1 0]\n",
      " [1 0]\n",
      " [0 0]\n",
      " [0 0]\n",
      " [0 0]\n",
      " [0 0]\n",
      " [0 0]\n",
      " [0 0]\n",
      " [1 0]\n",
      " [0 0]\n",
      " [0 1]\n",
      " [0 0]\n",
      " [1 1]\n",
      " [1 1]]\n"
     ]
    }
   ],
   "source": [
    "y_pred = new_model.predict(X_test)\n",
    "y_pred = (y_pred > 0.5)\n",
    "print(np.concatenate((y_pred.reshape(len(y_pred),1), y_test.reshape(len(y_test),1)),1))"
   ]
  },
  {
   "cell_type": "code",
   "execution_count": 23,
   "metadata": {
    "ExecuteTime": {
     "end_time": "2023-03-10T05:44:03.453478Z",
     "start_time": "2023-03-10T05:44:03.437853Z"
    }
   },
   "outputs": [
    {
     "name": "stdout",
     "output_type": "stream",
     "text": [
      "[[34  9]\n",
      " [ 2 12]]\n"
     ]
    },
    {
     "data": {
      "text/plain": [
       "0.8070175438596491"
      ]
     },
     "execution_count": 23,
     "metadata": {},
     "output_type": "execute_result"
    }
   ],
   "source": [
    "from sklearn.metrics import confusion_matrix, accuracy_score\n",
    "cm = confusion_matrix(y_test, y_pred)\n",
    "print(cm)\n",
    "accuracy_score(y_test, y_pred)"
   ]
  },
  {
   "cell_type": "code",
   "execution_count": null,
   "metadata": {},
   "outputs": [],
   "source": []
  }
 ],
 "metadata": {
  "colab": {
   "authorship_tag": "ABX9TyMeRFWFoGrdaL5S3dx5MWmb",
   "collapsed_sections": [],
   "name": "artificial_neural_network.ipynb",
   "provenance": [],
   "toc_visible": true
  },
  "kernelspec": {
   "display_name": "Python 3 (ipykernel)",
   "language": "python",
   "name": "python3"
  },
  "language_info": {
   "codemirror_mode": {
    "name": "ipython",
    "version": 3
   },
   "file_extension": ".py",
   "mimetype": "text/x-python",
   "name": "python",
   "nbconvert_exporter": "python",
   "pygments_lexer": "ipython3",
   "version": "3.9.16"
  },
  "toc": {
   "base_numbering": 1,
   "nav_menu": {},
   "number_sections": true,
   "sideBar": true,
   "skip_h1_title": false,
   "title_cell": "Table of Contents",
   "title_sidebar": "Contents",
   "toc_cell": false,
   "toc_position": {},
   "toc_section_display": true,
   "toc_window_display": false
  },
  "varInspector": {
   "cols": {
    "lenName": 16,
    "lenType": 16,
    "lenVar": 40
   },
   "kernels_config": {
    "python": {
     "delete_cmd_postfix": "",
     "delete_cmd_prefix": "del ",
     "library": "var_list.py",
     "varRefreshCmd": "print(var_dic_list())"
    },
    "r": {
     "delete_cmd_postfix": ") ",
     "delete_cmd_prefix": "rm(",
     "library": "var_list.r",
     "varRefreshCmd": "cat(var_dic_list()) "
    }
   },
   "types_to_exclude": [
    "module",
    "function",
    "builtin_function_or_method",
    "instance",
    "_Feature"
   ],
   "window_display": false
  }
 },
 "nbformat": 4,
 "nbformat_minor": 1
}
