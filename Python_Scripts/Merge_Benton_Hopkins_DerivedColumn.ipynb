{
 "cells": [
  {
   "cell_type": "code",
   "execution_count": 1,
   "id": "8f0b1da4",
   "metadata": {
    "ExecuteTime": {
     "end_time": "2023-03-28T18:06:09.360506Z",
     "start_time": "2023-03-28T18:06:08.905918Z"
    }
   },
   "outputs": [],
   "source": [
    "import numpy as np\n",
    "import pandas as pd"
   ]
  },
  {
   "cell_type": "markdown",
   "id": "a013cef4",
   "metadata": {},
   "source": [
    "# Benton"
   ]
  },
  {
   "cell_type": "code",
   "execution_count": 2,
   "id": "1e3cfb68",
   "metadata": {
    "ExecuteTime": {
     "end_time": "2023-01-11T09:29:52.813061Z",
     "start_time": "2023-01-11T09:29:52.443013Z"
    }
   },
   "outputs": [
    {
     "name": "stdout",
     "output_type": "stream",
     "text": [
      "Z:\\PPMI_Data\\Excels\\NonMotors\\NonMot_Files_RAW_PreProcess\\Feats21_UnCategorized\n",
      "(250, 2)\n"
     ]
    },
    {
     "data": {
      "text/html": [
       "<div>\n",
       "<style scoped>\n",
       "    .dataframe tbody tr th:only-of-type {\n",
       "        vertical-align: middle;\n",
       "    }\n",
       "\n",
       "    .dataframe tbody tr th {\n",
       "        vertical-align: top;\n",
       "    }\n",
       "\n",
       "    .dataframe thead th {\n",
       "        text-align: right;\n",
       "    }\n",
       "</style>\n",
       "<table border=\"1\" class=\"dataframe\">\n",
       "  <thead>\n",
       "    <tr style=\"text-align: right;\">\n",
       "      <th></th>\n",
       "      <th>PATNO</th>\n",
       "      <th>APPRDX</th>\n",
       "    </tr>\n",
       "  </thead>\n",
       "  <tbody>\n",
       "    <tr>\n",
       "      <th>0</th>\n",
       "      <td>3002</td>\n",
       "      <td>1</td>\n",
       "    </tr>\n",
       "    <tr>\n",
       "      <th>1</th>\n",
       "      <td>3010</td>\n",
       "      <td>1</td>\n",
       "    </tr>\n",
       "  </tbody>\n",
       "</table>\n",
       "</div>"
      ],
      "text/plain": [
       "   PATNO  APPRDX\n",
       "0   3002       1\n",
       "1   3010       1"
      ]
     },
     "execution_count": 2,
     "metadata": {},
     "output_type": "execute_result"
    }
   ],
   "source": [
    "%cd Z:\\PPMI_Data\\Excels\\NonMotors\\NonMot_Files_RAW_PreProcess\\Feats21_UnCategorized\n",
    "df = pd.read_csv(\"NonMotor_SocioBehavior_Categorized_250APPRDX.csv\")\n",
    "print(df.shape)\n",
    "df.head(2)"
   ]
  },
  {
   "cell_type": "code",
   "execution_count": 4,
   "id": "2716f1e4",
   "metadata": {
    "ExecuteTime": {
     "end_time": "2023-01-11T09:30:04.343064Z",
     "start_time": "2023-01-11T09:30:04.313063Z"
    }
   },
   "outputs": [
    {
     "name": "stdout",
     "output_type": "stream",
     "text": [
      "(1474, 3)\n"
     ]
    },
    {
     "data": {
      "text/html": [
       "<div>\n",
       "<style scoped>\n",
       "    .dataframe tbody tr th:only-of-type {\n",
       "        vertical-align: middle;\n",
       "    }\n",
       "\n",
       "    .dataframe tbody tr th {\n",
       "        vertical-align: top;\n",
       "    }\n",
       "\n",
       "    .dataframe thead th {\n",
       "        text-align: right;\n",
       "    }\n",
       "</style>\n",
       "<table border=\"1\" class=\"dataframe\">\n",
       "  <thead>\n",
       "    <tr style=\"text-align: right;\">\n",
       "      <th></th>\n",
       "      <th>PATNO</th>\n",
       "      <th>Category</th>\n",
       "      <th>DVS_JLO_MSSAE</th>\n",
       "    </tr>\n",
       "  </thead>\n",
       "  <tbody>\n",
       "    <tr>\n",
       "      <th>0</th>\n",
       "      <td>3224</td>\n",
       "      <td>0</td>\n",
       "      <td>17.48</td>\n",
       "    </tr>\n",
       "    <tr>\n",
       "      <th>1</th>\n",
       "      <td>54937</td>\n",
       "      <td>0</td>\n",
       "      <td>17.48</td>\n",
       "    </tr>\n",
       "  </tbody>\n",
       "</table>\n",
       "</div>"
      ],
      "text/plain": [
       "   PATNO  Category  DVS_JLO_MSSAE\n",
       "0   3224         0          17.48\n",
       "1  54937         0          17.48"
      ]
     },
     "execution_count": 4,
     "metadata": {},
     "output_type": "execute_result"
    }
   ],
   "source": [
    "Benton = pd.read_csv (\"Benton_Derived_Categorized.csv\")\n",
    "print(Benton.shape)\n",
    "Benton.head(2)"
   ]
  },
  {
   "cell_type": "code",
   "execution_count": 5,
   "id": "65d42d96",
   "metadata": {
    "ExecuteTime": {
     "end_time": "2023-01-11T09:30:12.003050Z",
     "start_time": "2023-01-11T09:30:11.961600Z"
    }
   },
   "outputs": [
    {
     "name": "stdout",
     "output_type": "stream",
     "text": [
      "   PATNO  APPRDX  Category  DVS_JLO_MSSAE\n",
      "0   3002       1         0          12.16\n",
      "1   3010       1         0           7.76\n"
     ]
    }
   ],
   "source": [
    "df1 = pd.merge(df, Benton, on = \"PATNO\", how = \"inner\")\n",
    "print(df1.head(2))\n",
    "df1.to_csv('Benton_Derived_Categorized_APPRDX.csv')"
   ]
  },
  {
   "cell_type": "markdown",
   "id": "2061bfaa",
   "metadata": {},
   "source": [
    "# Hopkins"
   ]
  },
  {
   "cell_type": "code",
   "execution_count": 6,
   "id": "28cd04f4",
   "metadata": {
    "ExecuteTime": {
     "end_time": "2023-01-11T09:32:45.942814Z",
     "start_time": "2023-01-11T09:32:45.923090Z"
    }
   },
   "outputs": [
    {
     "name": "stdout",
     "output_type": "stream",
     "text": [
      "(1477, 3)\n"
     ]
    },
    {
     "data": {
      "text/html": [
       "<div>\n",
       "<style scoped>\n",
       "    .dataframe tbody tr th:only-of-type {\n",
       "        vertical-align: middle;\n",
       "    }\n",
       "\n",
       "    .dataframe tbody tr th {\n",
       "        vertical-align: top;\n",
       "    }\n",
       "\n",
       "    .dataframe thead th {\n",
       "        text-align: right;\n",
       "    }\n",
       "</style>\n",
       "<table border=\"1\" class=\"dataframe\">\n",
       "  <thead>\n",
       "    <tr style=\"text-align: right;\">\n",
       "      <th></th>\n",
       "      <th>PATNO</th>\n",
       "      <th>DVT_DELAYED_RECALL</th>\n",
       "      <th>Category</th>\n",
       "    </tr>\n",
       "  </thead>\n",
       "  <tbody>\n",
       "    <tr>\n",
       "      <th>0</th>\n",
       "      <td>3023</td>\n",
       "      <td>64</td>\n",
       "      <td>0</td>\n",
       "    </tr>\n",
       "    <tr>\n",
       "      <th>1</th>\n",
       "      <td>3219</td>\n",
       "      <td>64</td>\n",
       "      <td>0</td>\n",
       "    </tr>\n",
       "  </tbody>\n",
       "</table>\n",
       "</div>"
      ],
      "text/plain": [
       "   PATNO  DVT_DELAYED_RECALL  Category\n",
       "0   3023                  64         0\n",
       "1   3219                  64         0"
      ]
     },
     "execution_count": 6,
     "metadata": {},
     "output_type": "execute_result"
    }
   ],
   "source": [
    "Recall = pd.read_csv (\"Hopkins_Recall_Derived_Categorized.csv\")\n",
    "print(Recall.shape)\n",
    "Recall.head(2)"
   ]
  },
  {
   "cell_type": "code",
   "execution_count": 7,
   "id": "9b5b959c",
   "metadata": {
    "ExecuteTime": {
     "end_time": "2023-01-11T09:32:52.498377Z",
     "start_time": "2023-01-11T09:32:52.472917Z"
    }
   },
   "outputs": [
    {
     "name": "stdout",
     "output_type": "stream",
     "text": [
      "   PATNO  APPRDX  DVT_DELAYED_RECALL  Category\n",
      "0   3002       1                  63         0\n",
      "1   3010       1                  49         0\n"
     ]
    }
   ],
   "source": [
    "df1 = pd.merge(df, Recall, on = \"PATNO\", how = \"inner\")\n",
    "print(df1.head(2))\n",
    "df1.to_csv('Hopkins_Recall_Derived_Categorized_APPRDX.csv', index = False)"
   ]
  },
  {
   "cell_type": "code",
   "execution_count": 8,
   "id": "bff75315",
   "metadata": {
    "ExecuteTime": {
     "end_time": "2023-01-11T09:33:53.483208Z",
     "start_time": "2023-01-11T09:33:53.463129Z"
    }
   },
   "outputs": [
    {
     "name": "stdout",
     "output_type": "stream",
     "text": [
      "(1473, 3)\n"
     ]
    },
    {
     "data": {
      "text/html": [
       "<div>\n",
       "<style scoped>\n",
       "    .dataframe tbody tr th:only-of-type {\n",
       "        vertical-align: middle;\n",
       "    }\n",
       "\n",
       "    .dataframe tbody tr th {\n",
       "        vertical-align: top;\n",
       "    }\n",
       "\n",
       "    .dataframe thead th {\n",
       "        text-align: right;\n",
       "    }\n",
       "</style>\n",
       "<table border=\"1\" class=\"dataframe\">\n",
       "  <thead>\n",
       "    <tr style=\"text-align: right;\">\n",
       "      <th></th>\n",
       "      <th>PATNO</th>\n",
       "      <th>Category</th>\n",
       "      <th>DVT_RECOG_DISC_INDEX</th>\n",
       "    </tr>\n",
       "  </thead>\n",
       "  <tbody>\n",
       "    <tr>\n",
       "      <th>0</th>\n",
       "      <td>3653</td>\n",
       "      <td>0</td>\n",
       "      <td>63</td>\n",
       "    </tr>\n",
       "    <tr>\n",
       "      <th>1</th>\n",
       "      <td>3965</td>\n",
       "      <td>0</td>\n",
       "      <td>63</td>\n",
       "    </tr>\n",
       "  </tbody>\n",
       "</table>\n",
       "</div>"
      ],
      "text/plain": [
       "   PATNO  Category  DVT_RECOG_DISC_INDEX\n",
       "0   3653         0                    63\n",
       "1   3965         0                    63"
      ]
     },
     "execution_count": 8,
     "metadata": {},
     "output_type": "execute_result"
    }
   ],
   "source": [
    "Recognition = pd.read_csv (\"Hopkins_Recognition_Derived_Categorized.csv\")\n",
    "print(Recognition.shape)\n",
    "Recognition.head(2)"
   ]
  },
  {
   "cell_type": "code",
   "execution_count": 9,
   "id": "13719ac2",
   "metadata": {
    "ExecuteTime": {
     "end_time": "2023-01-11T09:33:57.283023Z",
     "start_time": "2023-01-11T09:33:57.243129Z"
    }
   },
   "outputs": [
    {
     "name": "stdout",
     "output_type": "stream",
     "text": [
      "   PATNO  APPRDX  Category  DVT_RECOG_DISC_INDEX\n",
      "0   3002       1         0                    38\n",
      "1   3010       1         0                    55\n"
     ]
    }
   ],
   "source": [
    "df1 = pd.merge(df, Recognition, on = \"PATNO\", how = \"inner\")\n",
    "print(df1.head(2))\n",
    "df1.to_csv('Hopkins_Recognition_Derived_Categorized_APPRDX.csv', index = False)"
   ]
  },
  {
   "cell_type": "markdown",
   "id": "3b3b5d31",
   "metadata": {},
   "source": [
    "# Trail Making"
   ]
  },
  {
   "cell_type": "code",
   "execution_count": 3,
   "id": "2d6cfea2",
   "metadata": {
    "ExecuteTime": {
     "end_time": "2023-03-28T18:06:17.269412Z",
     "start_time": "2023-03-28T18:06:17.184825Z"
    }
   },
   "outputs": [
    {
     "name": "stdout",
     "output_type": "stream",
     "text": [
      "Z:\\PPMI_Data\\Excels\\NonMotors\\NonMot_Files_RAW_PreProcess\n"
     ]
    },
    {
     "data": {
      "text/plain": [
       "Index(['Unnamed: 0', 'PATNO', 'PAG_NAME33', 'TMTASEC', 'TMTBSEC'], dtype='object')"
      ]
     },
     "execution_count": 3,
     "metadata": {},
     "output_type": "execute_result"
    }
   ],
   "source": [
    "%cd Z:\\PPMI_Data\\Excels\\NonMotors\\NonMot_Files_RAW_PreProcess\n",
    "Trail_Making = pd.read_csv(\"Trail_Making_A_and_B_trim1.csv\")\n",
    "Trail_Making.columns"
   ]
  },
  {
   "cell_type": "code",
   "execution_count": 5,
   "id": "0d33c1b1",
   "metadata": {
    "ExecuteTime": {
     "end_time": "2023-03-28T18:06:45.536147Z",
     "start_time": "2023-03-28T18:06:45.504919Z"
    }
   },
   "outputs": [
    {
     "data": {
      "text/html": [
       "<div>\n",
       "<style scoped>\n",
       "    .dataframe tbody tr th:only-of-type {\n",
       "        vertical-align: middle;\n",
       "    }\n",
       "\n",
       "    .dataframe tbody tr th {\n",
       "        vertical-align: top;\n",
       "    }\n",
       "\n",
       "    .dataframe thead th {\n",
       "        text-align: right;\n",
       "    }\n",
       "</style>\n",
       "<table border=\"1\" class=\"dataframe\">\n",
       "  <thead>\n",
       "    <tr style=\"text-align: right;\">\n",
       "      <th></th>\n",
       "      <th>Unnamed: 0</th>\n",
       "      <th>PATNO</th>\n",
       "      <th>PAG_NAME33</th>\n",
       "      <th>TMTASEC</th>\n",
       "      <th>TMTBSEC</th>\n",
       "    </tr>\n",
       "  </thead>\n",
       "  <tbody>\n",
       "    <tr>\n",
       "      <th>0</th>\n",
       "      <td>0</td>\n",
       "      <td>4101</td>\n",
       "      <td>TMT</td>\n",
       "      <td>32.0</td>\n",
       "      <td>71.0</td>\n",
       "    </tr>\n",
       "    <tr>\n",
       "      <th>1</th>\n",
       "      <td>1</td>\n",
       "      <td>3522</td>\n",
       "      <td>TMT</td>\n",
       "      <td>80.0</td>\n",
       "      <td>160.0</td>\n",
       "    </tr>\n",
       "  </tbody>\n",
       "</table>\n",
       "</div>"
      ],
      "text/plain": [
       "   Unnamed: 0  PATNO PAG_NAME33  TMTASEC  TMTBSEC\n",
       "0           0   4101        TMT     32.0     71.0\n",
       "1           1   3522        TMT     80.0    160.0"
      ]
     },
     "execution_count": 5,
     "metadata": {},
     "output_type": "execute_result"
    }
   ],
   "source": [
    "Trail_Making.drop_duplicates(subset = ['PATNO'], keep = 'first', inplace = True)\n",
    "Trail_Making.head(2)"
   ]
  },
  {
   "cell_type": "code",
   "execution_count": 7,
   "id": "1bb2ff1f",
   "metadata": {
    "ExecuteTime": {
     "end_time": "2023-03-28T18:09:26.362517Z",
     "start_time": "2023-03-28T18:09:26.346889Z"
    }
   },
   "outputs": [
    {
     "data": {
      "text/html": [
       "<div>\n",
       "<style scoped>\n",
       "    .dataframe tbody tr th:only-of-type {\n",
       "        vertical-align: middle;\n",
       "    }\n",
       "\n",
       "    .dataframe tbody tr th {\n",
       "        vertical-align: top;\n",
       "    }\n",
       "\n",
       "    .dataframe thead th {\n",
       "        text-align: right;\n",
       "    }\n",
       "</style>\n",
       "<table border=\"1\" class=\"dataframe\">\n",
       "  <thead>\n",
       "    <tr style=\"text-align: right;\">\n",
       "      <th></th>\n",
       "      <th>Unnamed: 0</th>\n",
       "      <th>PATNO</th>\n",
       "      <th>PAG_NAME33</th>\n",
       "      <th>TMTASEC</th>\n",
       "      <th>TMTBSEC</th>\n",
       "      <th>Trail_Making_A_Category</th>\n",
       "    </tr>\n",
       "  </thead>\n",
       "  <tbody>\n",
       "    <tr>\n",
       "      <th>0</th>\n",
       "      <td>0</td>\n",
       "      <td>4101</td>\n",
       "      <td>TMT</td>\n",
       "      <td>32.0</td>\n",
       "      <td>71.0</td>\n",
       "      <td>0.0</td>\n",
       "    </tr>\n",
       "    <tr>\n",
       "      <th>1</th>\n",
       "      <td>1</td>\n",
       "      <td>3522</td>\n",
       "      <td>TMT</td>\n",
       "      <td>80.0</td>\n",
       "      <td>160.0</td>\n",
       "      <td>1.0</td>\n",
       "    </tr>\n",
       "  </tbody>\n",
       "</table>\n",
       "</div>"
      ],
      "text/plain": [
       "   Unnamed: 0  PATNO PAG_NAME33  TMTASEC  TMTBSEC  Trail_Making_A_Category\n",
       "0           0   4101        TMT     32.0     71.0                      0.0\n",
       "1           1   3522        TMT     80.0    160.0                      1.0"
      ]
     },
     "execution_count": 7,
     "metadata": {},
     "output_type": "execute_result"
    }
   ],
   "source": [
    "col         = 'TMTASEC'\n",
    "conditions  = [ Trail_Making[col] < 50 , (Trail_Making[col] >= 50) & (Trail_Making[col] <= 80), \n",
    "              Trail_Making[col] > 80]\n",
    "choices     = [ 0, 1, 2]\n",
    "    \n",
    "Trail_Making[\"Trail_Making_A_Category\"] = np.select(conditions, choices, default=np.nan)\n",
    "Trail_Making.head(2)"
   ]
  },
  {
   "cell_type": "code",
   "execution_count": 8,
   "id": "b4cf760d",
   "metadata": {
    "ExecuteTime": {
     "end_time": "2023-03-28T18:10:26.187445Z",
     "start_time": "2023-03-28T18:10:26.156250Z"
    }
   },
   "outputs": [
    {
     "data": {
      "text/html": [
       "<div>\n",
       "<style scoped>\n",
       "    .dataframe tbody tr th:only-of-type {\n",
       "        vertical-align: middle;\n",
       "    }\n",
       "\n",
       "    .dataframe tbody tr th {\n",
       "        vertical-align: top;\n",
       "    }\n",
       "\n",
       "    .dataframe thead th {\n",
       "        text-align: right;\n",
       "    }\n",
       "</style>\n",
       "<table border=\"1\" class=\"dataframe\">\n",
       "  <thead>\n",
       "    <tr style=\"text-align: right;\">\n",
       "      <th></th>\n",
       "      <th>Unnamed: 0</th>\n",
       "      <th>PATNO</th>\n",
       "      <th>PAG_NAME33</th>\n",
       "      <th>TMTASEC</th>\n",
       "      <th>TMTBSEC</th>\n",
       "      <th>Trail_Making_A_Category</th>\n",
       "      <th>Trail_Making_B_Category</th>\n",
       "    </tr>\n",
       "  </thead>\n",
       "  <tbody>\n",
       "    <tr>\n",
       "      <th>0</th>\n",
       "      <td>0</td>\n",
       "      <td>4101</td>\n",
       "      <td>TMT</td>\n",
       "      <td>32.0</td>\n",
       "      <td>71.0</td>\n",
       "      <td>0.0</td>\n",
       "      <td>0.0</td>\n",
       "    </tr>\n",
       "    <tr>\n",
       "      <th>1</th>\n",
       "      <td>1</td>\n",
       "      <td>3522</td>\n",
       "      <td>TMT</td>\n",
       "      <td>80.0</td>\n",
       "      <td>160.0</td>\n",
       "      <td>1.0</td>\n",
       "      <td>1.0</td>\n",
       "    </tr>\n",
       "  </tbody>\n",
       "</table>\n",
       "</div>"
      ],
      "text/plain": [
       "   Unnamed: 0  PATNO PAG_NAME33  TMTASEC  TMTBSEC  Trail_Making_A_Category  \\\n",
       "0           0   4101        TMT     32.0     71.0                      0.0   \n",
       "1           1   3522        TMT     80.0    160.0                      1.0   \n",
       "\n",
       "   Trail_Making_B_Category  \n",
       "0                      0.0  \n",
       "1                      1.0  "
      ]
     },
     "execution_count": 8,
     "metadata": {},
     "output_type": "execute_result"
    }
   ],
   "source": [
    "col         = 'TMTBSEC'\n",
    "conditions  = [ Trail_Making[col] < 120 , (Trail_Making[col] >= 120) & (Trail_Making[col] <= 270), \n",
    "              Trail_Making[col] > 270]\n",
    "choices     = [ 0, 1, 2]\n",
    "    \n",
    "Trail_Making[\"Trail_Making_B_Category\"] = np.select(conditions, choices, default=np.nan)\n",
    "Trail_Making.head(2)"
   ]
  },
  {
   "cell_type": "code",
   "execution_count": 9,
   "id": "afcd2076",
   "metadata": {
    "ExecuteTime": {
     "end_time": "2023-03-28T18:10:42.958300Z",
     "start_time": "2023-03-28T18:10:42.927073Z"
    }
   },
   "outputs": [
    {
     "data": {
      "text/html": [
       "<div>\n",
       "<style scoped>\n",
       "    .dataframe tbody tr th:only-of-type {\n",
       "        vertical-align: middle;\n",
       "    }\n",
       "\n",
       "    .dataframe tbody tr th {\n",
       "        vertical-align: top;\n",
       "    }\n",
       "\n",
       "    .dataframe thead th {\n",
       "        text-align: right;\n",
       "    }\n",
       "</style>\n",
       "<table border=\"1\" class=\"dataframe\">\n",
       "  <thead>\n",
       "    <tr style=\"text-align: right;\">\n",
       "      <th></th>\n",
       "      <th>PATNO</th>\n",
       "      <th>PAG_NAME33</th>\n",
       "      <th>Trail_Making_A_Category</th>\n",
       "      <th>Trail_Making_B_Category</th>\n",
       "    </tr>\n",
       "  </thead>\n",
       "  <tbody>\n",
       "    <tr>\n",
       "      <th>0</th>\n",
       "      <td>4101</td>\n",
       "      <td>TMT</td>\n",
       "      <td>0.0</td>\n",
       "      <td>0.0</td>\n",
       "    </tr>\n",
       "    <tr>\n",
       "      <th>1</th>\n",
       "      <td>3522</td>\n",
       "      <td>TMT</td>\n",
       "      <td>1.0</td>\n",
       "      <td>1.0</td>\n",
       "    </tr>\n",
       "  </tbody>\n",
       "</table>\n",
       "</div>"
      ],
      "text/plain": [
       "   PATNO PAG_NAME33  Trail_Making_A_Category  Trail_Making_B_Category\n",
       "0   4101        TMT                      0.0                      0.0\n",
       "1   3522        TMT                      1.0                      1.0"
      ]
     },
     "execution_count": 9,
     "metadata": {},
     "output_type": "execute_result"
    }
   ],
   "source": [
    "Trail_Making_cut = Trail_Making.drop(['Unnamed: 0','TMTASEC', 'TMTBSEC'], axis = 1)\n",
    "Trail_Making_cut.head(2)"
   ]
  },
  {
   "cell_type": "code",
   "execution_count": 12,
   "id": "9595fc44",
   "metadata": {
    "ExecuteTime": {
     "end_time": "2023-03-28T18:13:46.231985Z",
     "start_time": "2023-03-28T18:13:46.200759Z"
    }
   },
   "outputs": [],
   "source": [
    "Trail_Making_cut.to_csv('TrailMaking_Derived_Categorized.csv', index = False)"
   ]
  },
  {
   "cell_type": "code",
   "execution_count": 17,
   "id": "1a26302a",
   "metadata": {
    "ExecuteTime": {
     "end_time": "2023-03-28T18:40:54.159501Z",
     "start_time": "2023-03-28T18:40:54.143907Z"
    }
   },
   "outputs": [
    {
     "name": "stdout",
     "output_type": "stream",
     "text": [
      "Z:\\PPMI_Data\\Excels\\NonMotors\\NonMot_Files_RAW_PreProcess\\Feats21_UnCategorized\n",
      "(250, 2)\n"
     ]
    },
    {
     "data": {
      "text/html": [
       "<div>\n",
       "<style scoped>\n",
       "    .dataframe tbody tr th:only-of-type {\n",
       "        vertical-align: middle;\n",
       "    }\n",
       "\n",
       "    .dataframe tbody tr th {\n",
       "        vertical-align: top;\n",
       "    }\n",
       "\n",
       "    .dataframe thead th {\n",
       "        text-align: right;\n",
       "    }\n",
       "</style>\n",
       "<table border=\"1\" class=\"dataframe\">\n",
       "  <thead>\n",
       "    <tr style=\"text-align: right;\">\n",
       "      <th></th>\n",
       "      <th>PATNO</th>\n",
       "      <th>APPRDX</th>\n",
       "    </tr>\n",
       "  </thead>\n",
       "  <tbody>\n",
       "    <tr>\n",
       "      <th>0</th>\n",
       "      <td>3002</td>\n",
       "      <td>1</td>\n",
       "    </tr>\n",
       "    <tr>\n",
       "      <th>1</th>\n",
       "      <td>3010</td>\n",
       "      <td>1</td>\n",
       "    </tr>\n",
       "  </tbody>\n",
       "</table>\n",
       "</div>"
      ],
      "text/plain": [
       "   PATNO  APPRDX\n",
       "0   3002       1\n",
       "1   3010       1"
      ]
     },
     "execution_count": 17,
     "metadata": {},
     "output_type": "execute_result"
    }
   ],
   "source": [
    "%cd Z:\\PPMI_Data\\Excels\\NonMotors\\NonMot_Files_RAW_PreProcess\\Feats21_UnCategorized\n",
    "df = pd.read_csv(\"NonMotor_SocioBehavior_Categorized_250APPRDX.csv\")\n",
    "print(df.shape)\n",
    "df.head(2)"
   ]
  },
  {
   "cell_type": "code",
   "execution_count": 14,
   "id": "6b8d129c",
   "metadata": {
    "ExecuteTime": {
     "end_time": "2023-03-28T18:13:59.761001Z",
     "start_time": "2023-03-28T18:13:59.729774Z"
    }
   },
   "outputs": [
    {
     "name": "stdout",
     "output_type": "stream",
     "text": [
      "   PATNO  APPRDX PAG_NAME33  Trail_Making_A_Category  Trail_Making_B_Category\n",
      "0   3002       1        TMT                      2.0                      1.0\n",
      "1   3010       1        TMT                      0.0                      0.0\n"
     ]
    }
   ],
   "source": [
    "df1 = pd.merge(df, Trail_Making_cut, on = \"PATNO\", how = \"inner\")\n",
    "print(df1.head(2))\n",
    "df1.to_csv('TrailMaking_Derived_Categorized_APPRDX.csv', index = False)"
   ]
  },
  {
   "cell_type": "markdown",
   "id": "598d2280",
   "metadata": {},
   "source": [
    "# QUIP Impulsive"
   ]
  },
  {
   "cell_type": "code",
   "execution_count": 21,
   "id": "35880c5f",
   "metadata": {
    "ExecuteTime": {
     "end_time": "2023-03-28T18:41:54.812809Z",
     "start_time": "2023-03-28T18:41:54.759415Z"
    }
   },
   "outputs": [
    {
     "name": "stdout",
     "output_type": "stream",
     "text": [
      "Z:\\PPMI_Data\\Excels\\NonMotors\\NonMot_All_21Feats_Categorized\n",
      "   PATNO  APPRDX PAG_NAME  Impulsive_ICD_Category  \\\n",
      "0   3002       1   QUIPCS                     0.0   \n",
      "1   3010       1   QUIPCS                     0.0   \n",
      "\n",
      "   Impulsive_CompulsiveBehavior_Category  \n",
      "0                                    0.0  \n",
      "1                                    0.0  \n"
     ]
    }
   ],
   "source": [
    "%cd Z:\\PPMI_Data\\Excels\\NonMotors\\NonMot_All_21Feats_Categorized\n",
    "impulse = pd.read_csv(\"QUIP_Current_Short-Categorised.csv\")\n",
    "df1 = pd.merge(df, impulse, on = \"PATNO\", how = \"inner\")\n",
    "print(df1.head(2))\n",
    "df1.to_csv('QUIP_Current_Categorized_APPRDX.csv', index = False)"
   ]
  },
  {
   "cell_type": "markdown",
   "id": "fa3f1327",
   "metadata": {},
   "source": [
    "# REM Sleep"
   ]
  },
  {
   "cell_type": "code",
   "execution_count": 22,
   "id": "a2f53eab",
   "metadata": {
    "ExecuteTime": {
     "end_time": "2023-03-28T18:55:00.473194Z",
     "start_time": "2023-03-28T18:55:00.435477Z"
    }
   },
   "outputs": [
    {
     "name": "stdout",
     "output_type": "stream",
     "text": [
      "Z:\\PPMI_Data\\Excels\\NonMotors\\NonMot_All_21Feats_Categorized\n",
      "   PATNO  APPRDX  PAG_NAME  REM_Dream_Category  REM_Movement_Category  \\\n",
      "0   3002       1  REMSLEEP                 2.0                    1.0   \n",
      "1   3010       1  REMSLEEP                 2.0                    1.0   \n",
      "\n",
      "   REM_AwakeProblem_Category  REM_AwakeDream_Category  REM_Neuro_Category  \n",
      "0                        1.0                      2.0                 1.0  \n",
      "1                        2.0                      2.0                 1.0  \n"
     ]
    }
   ],
   "source": [
    "impulse = pd.read_csv(\"REM_Sleep_Disorder_Questionnaire-Categorised.csv\")\n",
    "df1 = pd.merge(df, impulse, on = \"PATNO\", how = \"inner\")\n",
    "print(df1.head(2))\n",
    "df1.to_csv('REM_Sleep_Categorised_APPRDX.csv', index = False)"
   ]
  },
  {
   "cell_type": "code",
   "execution_count": null,
   "id": "266485bc",
   "metadata": {},
   "outputs": [],
   "source": []
  }
 ],
 "metadata": {
  "kernelspec": {
   "display_name": "Python 3 (ipykernel)",
   "language": "python",
   "name": "python3"
  },
  "language_info": {
   "codemirror_mode": {
    "name": "ipython",
    "version": 3
   },
   "file_extension": ".py",
   "mimetype": "text/x-python",
   "name": "python",
   "nbconvert_exporter": "python",
   "pygments_lexer": "ipython3",
   "version": "3.9.16"
  },
  "toc": {
   "base_numbering": 1,
   "nav_menu": {},
   "number_sections": true,
   "sideBar": true,
   "skip_h1_title": false,
   "title_cell": "Table of Contents",
   "title_sidebar": "Contents",
   "toc_cell": false,
   "toc_position": {},
   "toc_section_display": true,
   "toc_window_display": false
  },
  "varInspector": {
   "cols": {
    "lenName": 16,
    "lenType": 16,
    "lenVar": 40
   },
   "kernels_config": {
    "python": {
     "delete_cmd_postfix": "",
     "delete_cmd_prefix": "del ",
     "library": "var_list.py",
     "varRefreshCmd": "print(var_dic_list())"
    },
    "r": {
     "delete_cmd_postfix": ") ",
     "delete_cmd_prefix": "rm(",
     "library": "var_list.r",
     "varRefreshCmd": "cat(var_dic_list()) "
    }
   },
   "types_to_exclude": [
    "module",
    "function",
    "builtin_function_or_method",
    "instance",
    "_Feature"
   ],
   "window_display": false
  }
 },
 "nbformat": 4,
 "nbformat_minor": 5
}
