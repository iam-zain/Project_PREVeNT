{
 "cells": [
  {
   "cell_type": "code",
   "execution_count": 1,
   "id": "19e8148d",
   "metadata": {
    "ExecuteTime": {
     "end_time": "2023-04-02T10:45:37.450779Z",
     "start_time": "2023-04-02T10:45:36.880425Z"
    }
   },
   "outputs": [
    {
     "name": "stdout",
     "output_type": "stream",
     "text": [
      "Z:\\PPMI_Data\\Excels\\NonMotors\\The251\\Male\\GeneCpG\\Xtras\\Top50_eachFeats\n"
     ]
    }
   ],
   "source": [
    "import pandas as pd\n",
    "from functools import reduce\n",
    "%cd Z:\\PPMI_Data\\Excels\\NonMotors\\The251\\Male\\GeneCpG\\Xtras\\Top50_eachFeats"
   ]
  },
  {
   "cell_type": "code",
   "execution_count": 2,
   "id": "a19b7618",
   "metadata": {
    "ExecuteTime": {
     "end_time": "2023-04-02T10:45:37.466403Z",
     "start_time": "2023-04-02T10:45:37.450779Z"
    }
   },
   "outputs": [],
   "source": [
    "files = ['Top50NMI_SleepDay_Data.csv','Top50NMI_Apathy_Data_Male.csv','Top50NMI_TrailMakeA_Data_Male.csv',\n",
    "         'Top50NMI_Dream_Data_Male.csv','UPSIT_NMI_Top50_Male_Data.csv','TrlMakB_NMI_Top50_Male_Data.csv',\n",
    "        'SymbDigi_NMI_Top50_Male_Data.csv','Fatigue_NMI_Top50_Male_Data.csv','Depression_NMI_Top50_Male_Data.csv',\n",
    "        'Top50NMI_ScopaSex_Data_Male.csv','Cognition_NMI_Top50_Male_Data.csv']\n",
    "# Loading all the files at once"
   ]
  },
  {
   "cell_type": "code",
   "execution_count": 3,
   "id": "d4adec7a",
   "metadata": {
    "ExecuteTime": {
     "end_time": "2023-04-02T10:45:37.667008Z",
     "start_time": "2023-04-02T10:45:37.466403Z"
    }
   },
   "outputs": [
    {
     "name": "stdout",
     "output_type": "stream",
     "text": [
      "(110, 542)\n"
     ]
    },
    {
     "name": "stderr",
     "output_type": "stream",
     "text": [
      "C:\\Users\\system 4\\AppData\\Local\\Temp\\ipykernel_820\\415733947.py:1: FutureWarning: Passing 'suffixes' which cause duplicate columns {'cg20003494_x'} in the result is deprecated and will raise a MergeError in a future version.\n",
      "  df = reduce(lambda l,r: l.merge(r, on='PATNO'), [pd.read_csv(f) for f in files])\n",
      "C:\\Users\\system 4\\AppData\\Local\\Temp\\ipykernel_820\\415733947.py:1: FutureWarning: Passing 'suffixes' which cause duplicate columns {'cg26358225_x'} in the result is deprecated and will raise a MergeError in a future version.\n",
      "  df = reduce(lambda l,r: l.merge(r, on='PATNO'), [pd.read_csv(f) for f in files])\n",
      "C:\\Users\\system 4\\AppData\\Local\\Temp\\ipykernel_820\\415733947.py:1: FutureWarning: Passing 'suffixes' which cause duplicate columns {'cg00558297_x', 'cg12653876_x', 'cg20003494_x'} in the result is deprecated and will raise a MergeError in a future version.\n",
      "  df = reduce(lambda l,r: l.merge(r, on='PATNO'), [pd.read_csv(f) for f in files])\n"
     ]
    },
    {
     "data": {
      "text/html": [
       "<div>\n",
       "<style scoped>\n",
       "    .dataframe tbody tr th:only-of-type {\n",
       "        vertical-align: middle;\n",
       "    }\n",
       "\n",
       "    .dataframe tbody tr th {\n",
       "        vertical-align: top;\n",
       "    }\n",
       "\n",
       "    .dataframe thead th {\n",
       "        text-align: right;\n",
       "    }\n",
       "</style>\n",
       "<table border=\"1\" class=\"dataframe\">\n",
       "  <thead>\n",
       "    <tr style=\"text-align: right;\">\n",
       "      <th></th>\n",
       "      <th>PATNO</th>\n",
       "      <th>APPRDX</th>\n",
       "      <th>cg20003494_x</th>\n",
       "      <th>cg12653876_x</th>\n",
       "      <th>cg19559114_x</th>\n",
       "      <th>cg13795060_x</th>\n",
       "      <th>cg10131227_x</th>\n",
       "      <th>cg15272034_x</th>\n",
       "      <th>cg16004767</th>\n",
       "      <th>cg01408558_x</th>\n",
       "      <th>...</th>\n",
       "      <th>cg15340886_y</th>\n",
       "      <th>cg14654324_y</th>\n",
       "      <th>cg19711613</th>\n",
       "      <th>cg10131227_y</th>\n",
       "      <th>cg15469205_y</th>\n",
       "      <th>cg12613770</th>\n",
       "      <th>cg15736994</th>\n",
       "      <th>cg16840743_y</th>\n",
       "      <th>cg03909844_y</th>\n",
       "      <th>cg17668069_y</th>\n",
       "    </tr>\n",
       "  </thead>\n",
       "  <tbody>\n",
       "    <tr>\n",
       "      <th>0</th>\n",
       "      <td>3010</td>\n",
       "      <td>1</td>\n",
       "      <td>0.044374</td>\n",
       "      <td>0.852632</td>\n",
       "      <td>0.848369</td>\n",
       "      <td>0.062519</td>\n",
       "      <td>0.745797</td>\n",
       "      <td>0.841361</td>\n",
       "      <td>0.911231</td>\n",
       "      <td>0.758337</td>\n",
       "      <td>...</td>\n",
       "      <td>0.869738</td>\n",
       "      <td>0.022115</td>\n",
       "      <td>0.855062</td>\n",
       "      <td>0.745797</td>\n",
       "      <td>0.855777</td>\n",
       "      <td>0.820682</td>\n",
       "      <td>0.633122</td>\n",
       "      <td>0.080530</td>\n",
       "      <td>0.803857</td>\n",
       "      <td>0.046626</td>\n",
       "    </tr>\n",
       "    <tr>\n",
       "      <th>1</th>\n",
       "      <td>3024</td>\n",
       "      <td>1</td>\n",
       "      <td>0.024791</td>\n",
       "      <td>0.921059</td>\n",
       "      <td>0.875931</td>\n",
       "      <td>0.139074</td>\n",
       "      <td>0.916196</td>\n",
       "      <td>0.846269</td>\n",
       "      <td>0.906352</td>\n",
       "      <td>0.777207</td>\n",
       "      <td>...</td>\n",
       "      <td>0.917395</td>\n",
       "      <td>0.013890</td>\n",
       "      <td>0.899674</td>\n",
       "      <td>0.916196</td>\n",
       "      <td>0.883551</td>\n",
       "      <td>0.856734</td>\n",
       "      <td>0.674511</td>\n",
       "      <td>0.083895</td>\n",
       "      <td>0.758551</td>\n",
       "      <td>0.049131</td>\n",
       "    </tr>\n",
       "  </tbody>\n",
       "</table>\n",
       "<p>2 rows × 542 columns</p>\n",
       "</div>"
      ],
      "text/plain": [
       "   PATNO  APPRDX  cg20003494_x  cg12653876_x  cg19559114_x  cg13795060_x  \\\n",
       "0   3010       1      0.044374      0.852632      0.848369      0.062519   \n",
       "1   3024       1      0.024791      0.921059      0.875931      0.139074   \n",
       "\n",
       "   cg10131227_x  cg15272034_x  cg16004767  cg01408558_x  ...  cg15340886_y  \\\n",
       "0      0.745797      0.841361    0.911231      0.758337  ...      0.869738   \n",
       "1      0.916196      0.846269    0.906352      0.777207  ...      0.917395   \n",
       "\n",
       "   cg14654324_y  cg19711613  cg10131227_y  cg15469205_y  cg12613770  \\\n",
       "0      0.022115    0.855062      0.745797      0.855777    0.820682   \n",
       "1      0.013890    0.899674      0.916196      0.883551    0.856734   \n",
       "\n",
       "   cg15736994  cg16840743_y  cg03909844_y  cg17668069_y  \n",
       "0    0.633122      0.080530      0.803857      0.046626  \n",
       "1    0.674511      0.083895      0.758551      0.049131  \n",
       "\n",
       "[2 rows x 542 columns]"
      ]
     },
     "execution_count": 3,
     "metadata": {},
     "output_type": "execute_result"
    }
   ],
   "source": [
    "df = reduce(lambda l,r: l.merge(r, on='PATNO'), [pd.read_csv(f) for f in files])\n",
    "# The above command merge all the files having one common column\n",
    "df = df.loc[:,~df.columns.duplicated()].copy()\n",
    "print(df.shape)\n",
    "df.head(2)"
   ]
  },
  {
   "cell_type": "code",
   "execution_count": 4,
   "id": "bfc711aa",
   "metadata": {
    "ExecuteTime": {
     "end_time": "2023-04-02T10:45:37.704776Z",
     "start_time": "2023-04-02T10:45:37.667008Z"
    }
   },
   "outputs": [
    {
     "name": "stdout",
     "output_type": "stream",
     "text": [
      "(110, 340)\n"
     ]
    },
    {
     "data": {
      "text/html": [
       "<div>\n",
       "<style scoped>\n",
       "    .dataframe tbody tr th:only-of-type {\n",
       "        vertical-align: middle;\n",
       "    }\n",
       "\n",
       "    .dataframe tbody tr th {\n",
       "        vertical-align: top;\n",
       "    }\n",
       "\n",
       "    .dataframe thead th {\n",
       "        text-align: right;\n",
       "    }\n",
       "</style>\n",
       "<table border=\"1\" class=\"dataframe\">\n",
       "  <thead>\n",
       "    <tr style=\"text-align: right;\">\n",
       "      <th></th>\n",
       "      <th>PATNO</th>\n",
       "      <th>APPRDX</th>\n",
       "      <th>cg16004767</th>\n",
       "      <th>cg02959759</th>\n",
       "      <th>cg26485878</th>\n",
       "      <th>cg12229394</th>\n",
       "      <th>cg20157753</th>\n",
       "      <th>cg18113151</th>\n",
       "      <th>cg03132598</th>\n",
       "      <th>cg13848568</th>\n",
       "      <th>...</th>\n",
       "      <th>cg14207794</th>\n",
       "      <th>cg13632581</th>\n",
       "      <th>cg13675469</th>\n",
       "      <th>cg01408558</th>\n",
       "      <th>cg12869499</th>\n",
       "      <th>cg16117273</th>\n",
       "      <th>cg00035237</th>\n",
       "      <th>cg19711613</th>\n",
       "      <th>cg12613770</th>\n",
       "      <th>cg15736994</th>\n",
       "    </tr>\n",
       "  </thead>\n",
       "  <tbody>\n",
       "    <tr>\n",
       "      <th>0</th>\n",
       "      <td>3010</td>\n",
       "      <td>1</td>\n",
       "      <td>0.911231</td>\n",
       "      <td>0.099368</td>\n",
       "      <td>0.432436</td>\n",
       "      <td>0.039719</td>\n",
       "      <td>0.044258</td>\n",
       "      <td>0.899038</td>\n",
       "      <td>0.764265</td>\n",
       "      <td>0.019498</td>\n",
       "      <td>...</td>\n",
       "      <td>0.040470</td>\n",
       "      <td>0.340808</td>\n",
       "      <td>0.012562</td>\n",
       "      <td>0.758337</td>\n",
       "      <td>0.625208</td>\n",
       "      <td>0.162057</td>\n",
       "      <td>0.017622</td>\n",
       "      <td>0.855062</td>\n",
       "      <td>0.820682</td>\n",
       "      <td>0.633122</td>\n",
       "    </tr>\n",
       "    <tr>\n",
       "      <th>1</th>\n",
       "      <td>3024</td>\n",
       "      <td>1</td>\n",
       "      <td>0.906352</td>\n",
       "      <td>0.223760</td>\n",
       "      <td>0.446546</td>\n",
       "      <td>0.024525</td>\n",
       "      <td>0.047050</td>\n",
       "      <td>0.927527</td>\n",
       "      <td>0.834810</td>\n",
       "      <td>0.009789</td>\n",
       "      <td>...</td>\n",
       "      <td>0.022824</td>\n",
       "      <td>0.275967</td>\n",
       "      <td>0.007567</td>\n",
       "      <td>0.777207</td>\n",
       "      <td>0.649874</td>\n",
       "      <td>0.242877</td>\n",
       "      <td>0.008082</td>\n",
       "      <td>0.899674</td>\n",
       "      <td>0.856734</td>\n",
       "      <td>0.674511</td>\n",
       "    </tr>\n",
       "  </tbody>\n",
       "</table>\n",
       "<p>2 rows × 340 columns</p>\n",
       "</div>"
      ],
      "text/plain": [
       "   PATNO  APPRDX  cg16004767  cg02959759  cg26485878  cg12229394  cg20157753  \\\n",
       "0   3010       1    0.911231    0.099368    0.432436    0.039719    0.044258   \n",
       "1   3024       1    0.906352    0.223760    0.446546    0.024525    0.047050   \n",
       "\n",
       "   cg18113151  cg03132598  cg13848568  ...  cg14207794  cg13632581  \\\n",
       "0    0.899038    0.764265    0.019498  ...    0.040470    0.340808   \n",
       "1    0.927527    0.834810    0.009789  ...    0.022824    0.275967   \n",
       "\n",
       "   cg13675469  cg01408558  cg12869499  cg16117273  cg00035237  cg19711613  \\\n",
       "0    0.012562    0.758337    0.625208    0.162057    0.017622    0.855062   \n",
       "1    0.007567    0.777207    0.649874    0.242877    0.008082    0.899674   \n",
       "\n",
       "   cg12613770  cg15736994  \n",
       "0    0.820682    0.633122  \n",
       "1    0.856734    0.674511  \n",
       "\n",
       "[2 rows x 340 columns]"
      ]
     },
     "execution_count": 4,
     "metadata": {},
     "output_type": "execute_result"
    }
   ],
   "source": [
    "df = df[df.columns.drop(list(df.filter(regex='_x')))]\n",
    "df = df[df.columns.drop(list(df.filter(regex='_y')))]\n",
    "print(df.shape)\n",
    "df.head(2)"
   ]
  },
  {
   "cell_type": "code",
   "execution_count": 5,
   "id": "821d2ed5",
   "metadata": {
    "ExecuteTime": {
     "end_time": "2023-04-02T10:45:37.820665Z",
     "start_time": "2023-04-02T10:45:37.704776Z"
    }
   },
   "outputs": [],
   "source": [
    "df.to_csv('All11_Top50sCpG_Male.csv', index = False)"
   ]
  },
  {
   "cell_type": "code",
   "execution_count": null,
   "id": "ae959d96",
   "metadata": {},
   "outputs": [],
   "source": []
  }
 ],
 "metadata": {
  "kernelspec": {
   "display_name": "Python 3 (ipykernel)",
   "language": "python",
   "name": "python3"
  },
  "language_info": {
   "codemirror_mode": {
    "name": "ipython",
    "version": 3
   },
   "file_extension": ".py",
   "mimetype": "text/x-python",
   "name": "python",
   "nbconvert_exporter": "python",
   "pygments_lexer": "ipython3",
   "version": "3.9.16"
  },
  "toc": {
   "base_numbering": 1,
   "nav_menu": {},
   "number_sections": true,
   "sideBar": true,
   "skip_h1_title": false,
   "title_cell": "Table of Contents",
   "title_sidebar": "Contents",
   "toc_cell": false,
   "toc_position": {},
   "toc_section_display": true,
   "toc_window_display": false
  },
  "varInspector": {
   "cols": {
    "lenName": 16,
    "lenType": 16,
    "lenVar": 40
   },
   "kernels_config": {
    "python": {
     "delete_cmd_postfix": "",
     "delete_cmd_prefix": "del ",
     "library": "var_list.py",
     "varRefreshCmd": "print(var_dic_list())"
    },
    "r": {
     "delete_cmd_postfix": ") ",
     "delete_cmd_prefix": "rm(",
     "library": "var_list.r",
     "varRefreshCmd": "cat(var_dic_list()) "
    }
   },
   "types_to_exclude": [
    "module",
    "function",
    "builtin_function_or_method",
    "instance",
    "_Feature"
   ],
   "window_display": false
  }
 },
 "nbformat": 4,
 "nbformat_minor": 5
}
