{
 "cells": [
  {
   "cell_type": "code",
   "execution_count": 2,
   "id": "51c5704f",
   "metadata": {
    "ExecuteTime": {
     "end_time": "2023-03-30T11:34:28.907418Z",
     "start_time": "2023-03-30T11:34:27.403409Z"
    }
   },
   "outputs": [],
   "source": [
    "import numpy as np\n",
    "import pandas as pd\n",
    "from boruta import BorutaPy\n",
    "from sklearn.datasets import load_diabetes\n",
    "from sklearn.metrics import accuracy_score \n",
    "from sklearn.ensemble import RandomForestRegressor\n",
    "from sklearn.ensemble import RandomForestClassifier\n",
    "from sklearn.model_selection import train_test_split"
   ]
  },
  {
   "cell_type": "markdown",
   "id": "84e169d6",
   "metadata": {},
   "source": [
    "# Apathy"
   ]
  },
  {
   "cell_type": "code",
   "execution_count": 3,
   "id": "5ff336b1",
   "metadata": {
    "ExecuteTime": {
     "end_time": "2023-03-30T11:34:29.393115Z",
     "start_time": "2023-03-30T11:34:28.938671Z"
    }
   },
   "outputs": [
    {
     "name": "stdout",
     "output_type": "stream",
     "text": [
      "Z:\\PPMI_Data\\Excels\\NonMotors\\The251\\Male\\GeneCpG\\Apathy\n"
     ]
    },
    {
     "data": {
      "text/html": [
       "<div>\n",
       "<style scoped>\n",
       "    .dataframe tbody tr th:only-of-type {\n",
       "        vertical-align: middle;\n",
       "    }\n",
       "\n",
       "    .dataframe tbody tr th {\n",
       "        vertical-align: top;\n",
       "    }\n",
       "\n",
       "    .dataframe thead th {\n",
       "        text-align: right;\n",
       "    }\n",
       "</style>\n",
       "<table border=\"1\" class=\"dataframe\">\n",
       "  <thead>\n",
       "    <tr style=\"text-align: right;\">\n",
       "      <th></th>\n",
       "      <th>Sentrix</th>\n",
       "      <th>PATNO</th>\n",
       "      <th>Gender</th>\n",
       "      <th>APPRDX</th>\n",
       "      <th>HYS</th>\n",
       "      <th>Age</th>\n",
       "      <th>AgeCate</th>\n",
       "      <th>MDS_Apathy_Category</th>\n",
       "      <th>cg19958696</th>\n",
       "      <th>cg05962325</th>\n",
       "      <th>...</th>\n",
       "      <th>cg19795267</th>\n",
       "      <th>cg16922840</th>\n",
       "      <th>cg19628277</th>\n",
       "      <th>cg26480988</th>\n",
       "      <th>cg01673347</th>\n",
       "      <th>cg12994818</th>\n",
       "      <th>cg09008531</th>\n",
       "      <th>cg16463148</th>\n",
       "      <th>cg04021430</th>\n",
       "      <th>cg04863888</th>\n",
       "    </tr>\n",
       "  </thead>\n",
       "  <tbody>\n",
       "    <tr>\n",
       "      <th>0</th>\n",
       "      <td>200991620021_R01C01</td>\n",
       "      <td>3001</td>\n",
       "      <td>1</td>\n",
       "      <td>1</td>\n",
       "      <td>2</td>\n",
       "      <td>65.1</td>\n",
       "      <td>4</td>\n",
       "      <td>0</td>\n",
       "      <td>0.014601</td>\n",
       "      <td>0.068728</td>\n",
       "      <td>...</td>\n",
       "      <td>0.630319</td>\n",
       "      <td>0.85156</td>\n",
       "      <td>0.52162</td>\n",
       "      <td>0.495925</td>\n",
       "      <td>0.830013</td>\n",
       "      <td>0.076462</td>\n",
       "      <td>0.72859</td>\n",
       "      <td>0.246918</td>\n",
       "      <td>0.039718</td>\n",
       "      <td>0.024071</td>\n",
       "    </tr>\n",
       "  </tbody>\n",
       "</table>\n",
       "<p>1 rows × 3572 columns</p>\n",
       "</div>"
      ],
      "text/plain": [
       "               Sentrix  PATNO  Gender  APPRDX  HYS   Age  AgeCate  \\\n",
       "0  200991620021_R01C01   3001       1       1    2  65.1        4   \n",
       "\n",
       "   MDS_Apathy_Category  cg19958696  cg05962325  ...  cg19795267  cg16922840  \\\n",
       "0                    0    0.014601    0.068728  ...    0.630319     0.85156   \n",
       "\n",
       "   cg19628277  cg26480988  cg01673347  cg12994818  cg09008531  cg16463148  \\\n",
       "0     0.52162    0.495925    0.830013    0.076462     0.72859    0.246918   \n",
       "\n",
       "   cg04021430  cg04863888  \n",
       "0    0.039718    0.024071  \n",
       "\n",
       "[1 rows x 3572 columns]"
      ]
     },
     "execution_count": 3,
     "metadata": {},
     "output_type": "execute_result"
    }
   ],
   "source": [
    "%cd Z:\\PPMI_Data\\Excels\\NonMotors\\The251\\Male\\GeneCpG\\Apathy\n",
    "data = pd.read_csv('ApathyCateg_Methylome_Male.csv')\n",
    "data.head(1)"
   ]
  },
  {
   "cell_type": "code",
   "execution_count": 4,
   "id": "ee22df7a",
   "metadata": {
    "ExecuteTime": {
     "end_time": "2023-03-30T11:34:47.476955Z",
     "start_time": "2023-03-30T11:34:47.439236Z"
    }
   },
   "outputs": [
    {
     "name": "stdout",
     "output_type": "stream",
     "text": [
      "   cg19958696  cg05962325  cg15093662  cg04873221  cg05903298  cg19020436  \\\n",
      "0    0.014601    0.068728    0.019329    0.021747    0.012923    0.017399   \n",
      "1    0.013334    0.038642    0.017604    0.021562    0.012244    0.016683   \n",
      "\n",
      "   cg14994056  cg05973813  cg18337422  cg11738745  ...  cg19795267  \\\n",
      "0    0.033939    0.020282    0.017160    0.012127  ...    0.630319   \n",
      "1    0.036065    0.021018    0.013908    0.011829  ...    0.655485   \n",
      "\n",
      "   cg16922840  cg19628277  cg26480988  cg01673347  cg12994818  cg09008531  \\\n",
      "0     0.85156    0.521620    0.495925    0.830013    0.076462     0.72859   \n",
      "1     0.86754    0.546537    0.511772    0.802469    0.033789     0.63495   \n",
      "\n",
      "   cg16463148  cg04021430  cg04863888  \n",
      "0    0.246918    0.039718    0.024071  \n",
      "1    0.193630    0.023717    0.023474  \n",
      "\n",
      "[2 rows x 3564 columns]\n"
     ]
    }
   ],
   "source": [
    "X = data.drop(['Sentrix','PATNO','HYS','Gender','Age','AgeCate','APPRDX','MDS_Apathy_Category'], axis = 1)\n",
    "y = data['APPRDX']\n",
    "X_train, X_test, y_train, y_test = train_test_split(X, y, test_size = .2, random_state = 1) \n",
    "print(X.head(2))"
   ]
  },
  {
   "cell_type": "code",
   "execution_count": 5,
   "id": "c1ee3e48",
   "metadata": {
    "ExecuteTime": {
     "end_time": "2023-03-30T11:34:51.668449Z",
     "start_time": "2023-03-30T11:34:50.935279Z"
    }
   },
   "outputs": [
    {
     "data": {
      "text/plain": [
       "RandomForestClassifier(random_state=1)"
      ]
     },
     "execution_count": 5,
     "metadata": {},
     "output_type": "execute_result"
    }
   ],
   "source": [
    "rf_all_features = RandomForestClassifier(random_state=1)\n",
    "rf_all_features.fit(X_train, y_train)"
   ]
  },
  {
   "cell_type": "code",
   "execution_count": 6,
   "id": "f17f8606",
   "metadata": {
    "ExecuteTime": {
     "end_time": "2023-03-30T11:34:52.037780Z",
     "start_time": "2023-03-30T11:34:51.990915Z"
    }
   },
   "outputs": [
    {
     "data": {
      "text/plain": [
       "0.6612903225806451"
      ]
     },
     "execution_count": 6,
     "metadata": {},
     "output_type": "execute_result"
    }
   ],
   "source": [
    "accuracy_score(y_test, rf_all_features.predict(X_test))"
   ]
  },
  {
   "cell_type": "code",
   "execution_count": 7,
   "id": "5ba608ac",
   "metadata": {
    "ExecuteTime": {
     "end_time": "2023-03-30T11:35:51.417261Z",
     "start_time": "2023-03-30T11:34:52.338589Z"
    },
    "scrolled": true
   },
   "outputs": [
    {
     "name": "stdout",
     "output_type": "stream",
     "text": [
      "Iteration: 1 / 100\n",
      "Iteration: 2 / 100\n",
      "Iteration: 3 / 100\n",
      "Iteration: 4 / 100\n",
      "Iteration: 5 / 100\n",
      "Iteration: 6 / 100\n",
      "Iteration: 7 / 100\n",
      "Iteration: 8 / 100\n",
      "Iteration: 9 / 100\n",
      "Iteration: 10 / 100\n",
      "Iteration: 11 / 100\n",
      "Iteration: 12 / 100\n",
      "Iteration: 13 / 100\n",
      "Iteration: 14 / 100\n",
      "Iteration: 15 / 100\n",
      "Iteration: 16 / 100\n",
      "Iteration: 17 / 100\n",
      "Iteration: 18 / 100\n",
      "Iteration: 19 / 100\n",
      "Iteration: 20 / 100\n",
      "Iteration: 21 / 100\n",
      "Iteration: 22 / 100\n",
      "Iteration: 23 / 100\n",
      "Iteration: 24 / 100\n",
      "Iteration: 25 / 100\n",
      "Iteration: 26 / 100\n",
      "Iteration: 27 / 100\n",
      "Iteration: 28 / 100\n",
      "Iteration: 29 / 100\n",
      "Iteration: 30 / 100\n",
      "Iteration: 31 / 100\n",
      "Iteration: 32 / 100\n",
      "Iteration: 33 / 100\n",
      "Iteration: 34 / 100\n",
      "Iteration: 35 / 100\n",
      "Iteration: 36 / 100\n",
      "Iteration: 37 / 100\n",
      "Iteration: 38 / 100\n",
      "Iteration: 39 / 100\n",
      "Iteration: 40 / 100\n",
      "Iteration: 41 / 100\n",
      "Iteration: 42 / 100\n",
      "Iteration: 43 / 100\n",
      "Iteration: 44 / 100\n",
      "Iteration: 45 / 100\n",
      "Iteration: 46 / 100\n",
      "Iteration: 47 / 100\n",
      "Iteration: 48 / 100\n",
      "Iteration: 49 / 100\n",
      "Iteration: 50 / 100\n",
      "Iteration: 51 / 100\n",
      "Iteration: 52 / 100\n",
      "Iteration: 53 / 100\n",
      "Iteration: 54 / 100\n",
      "Iteration: 55 / 100\n",
      "Iteration: 56 / 100\n",
      "Iteration: 57 / 100\n",
      "Iteration: 58 / 100\n",
      "Iteration: 59 / 100\n",
      "Iteration: 60 / 100\n",
      "Iteration: 61 / 100\n",
      "Iteration: 62 / 100\n",
      "Iteration: 63 / 100\n",
      "Iteration: 64 / 100\n",
      "Iteration: 65 / 100\n",
      "Iteration: 66 / 100\n",
      "Iteration: 67 / 100\n",
      "Iteration: 68 / 100\n",
      "Iteration: 69 / 100\n",
      "Iteration: 70 / 100\n",
      "Iteration: 71 / 100\n",
      "Iteration: 72 / 100\n",
      "Iteration: 73 / 100\n",
      "Iteration: 74 / 100\n",
      "Iteration: 75 / 100\n",
      "Iteration: 76 / 100\n",
      "Iteration: 77 / 100\n",
      "Iteration: 78 / 100\n",
      "Iteration: 79 / 100\n",
      "Iteration: 80 / 100\n",
      "Iteration: 81 / 100\n",
      "Iteration: 82 / 100\n",
      "Iteration: 83 / 100\n",
      "Iteration: 84 / 100\n",
      "Iteration: 85 / 100\n",
      "Iteration: 86 / 100\n",
      "Iteration: 87 / 100\n",
      "Iteration: 88 / 100\n",
      "Iteration: 89 / 100\n",
      "Iteration: 90 / 100\n",
      "Iteration: 91 / 100\n",
      "Iteration: 92 / 100\n",
      "Iteration: 93 / 100\n",
      "Iteration: 94 / 100\n",
      "Iteration: 95 / 100\n",
      "Iteration: 96 / 100\n",
      "Iteration: 97 / 100\n",
      "Iteration: 98 / 100\n",
      "Iteration: 99 / 100\n",
      "\n",
      "\n",
      "BorutaPy finished running.\n",
      "\n",
      "Iteration: \t100 / 100\n",
      "Confirmed: \t2\n",
      "Tentative: \t1\n",
      "Rejected: \t3561\n"
     ]
    },
    {
     "data": {
      "text/plain": [
       "BorutaPy(estimator=RandomForestClassifier(n_estimators=24,\n",
       "                                          random_state=RandomState(MT19937) at 0x1F3F5678340),\n",
       "         n_estimators='auto',\n",
       "         random_state=RandomState(MT19937) at 0x1F3F5678340, verbose=1)"
      ]
     },
     "execution_count": 7,
     "metadata": {},
     "output_type": "execute_result"
    }
   ],
   "source": [
    "rfc = RandomForestClassifier(random_state=1)\n",
    "boruta_selector = BorutaPy(rfc, n_estimators= 'auto', verbose=1, random_state=1)\n",
    "boruta_selector.fit(np.array(X_train), np.array(y_train))  "
   ]
  },
  {
   "cell_type": "code",
   "execution_count": 8,
   "id": "51f874e0",
   "metadata": {
    "ExecuteTime": {
     "end_time": "2023-03-30T11:35:51.802746Z",
     "start_time": "2023-03-30T11:35:51.787121Z"
    }
   },
   "outputs": [
    {
     "name": "stdout",
     "output_type": "stream",
     "text": [
      "No. of significant features:  2\n"
     ]
    }
   ],
   "source": [
    "# print(\"Ranking: \",boruta_selector.ranking_)          \n",
    "print(\"No. of significant features: \", boruta_selector.n_features_)"
   ]
  },
  {
   "cell_type": "code",
   "execution_count": 9,
   "id": "61cadc89",
   "metadata": {
    "ExecuteTime": {
     "end_time": "2023-03-30T11:35:52.164915Z",
     "start_time": "2023-03-30T11:35:52.149290Z"
    }
   },
   "outputs": [],
   "source": [
    "selected_rf_features = pd.DataFrame({'CpG':list(X_train.columns),\n",
    "                                       'Ranking':boruta_selector.ranking_})\n",
    "selected_rf_features = selected_rf_features.sort_values(by='Ranking')"
   ]
  },
  {
   "cell_type": "code",
   "execution_count": 10,
   "id": "6ae888ab",
   "metadata": {
    "ExecuteTime": {
     "end_time": "2023-03-30T11:35:52.481342Z",
     "start_time": "2023-03-30T11:35:52.465717Z"
    },
    "scrolled": true
   },
   "outputs": [
    {
     "data": {
      "text/html": [
       "<div>\n",
       "<style scoped>\n",
       "    .dataframe tbody tr th:only-of-type {\n",
       "        vertical-align: middle;\n",
       "    }\n",
       "\n",
       "    .dataframe tbody tr th {\n",
       "        vertical-align: top;\n",
       "    }\n",
       "\n",
       "    .dataframe thead th {\n",
       "        text-align: right;\n",
       "    }\n",
       "</style>\n",
       "<table border=\"1\" class=\"dataframe\">\n",
       "  <thead>\n",
       "    <tr style=\"text-align: right;\">\n",
       "      <th></th>\n",
       "      <th>CpG</th>\n",
       "      <th>Ranking</th>\n",
       "    </tr>\n",
       "  </thead>\n",
       "  <tbody>\n",
       "    <tr>\n",
       "      <th>3506</th>\n",
       "      <td>cg13959611</td>\n",
       "      <td>1</td>\n",
       "    </tr>\n",
       "    <tr>\n",
       "      <th>1807</th>\n",
       "      <td>cg02157463</td>\n",
       "      <td>1</td>\n",
       "    </tr>\n",
       "    <tr>\n",
       "      <th>2633</th>\n",
       "      <td>cg19125584</td>\n",
       "      <td>2</td>\n",
       "    </tr>\n",
       "  </tbody>\n",
       "</table>\n",
       "</div>"
      ],
      "text/plain": [
       "             CpG  Ranking\n",
       "3506  cg13959611        1\n",
       "1807  cg02157463        1\n",
       "2633  cg19125584        2"
      ]
     },
     "execution_count": 10,
     "metadata": {},
     "output_type": "execute_result"
    }
   ],
   "source": [
    "Top50 = selected_rf_features.iloc[:50, :]\n",
    "Top50.head(3)"
   ]
  },
  {
   "cell_type": "code",
   "execution_count": 13,
   "id": "9605e163",
   "metadata": {
    "ExecuteTime": {
     "end_time": "2023-03-30T11:36:00.777260Z",
     "start_time": "2023-03-30T11:36:00.746074Z"
    }
   },
   "outputs": [],
   "source": [
    "Top50.to_csv ('Apathy_Boruta_Top50_Male.csv', index = False)\n",
    "selected_rf_features.to_csv ('Apathy_Boruta_All_Male.csv', index = False)"
   ]
  },
  {
   "cell_type": "code",
   "execution_count": 12,
   "id": "a5bc67f8",
   "metadata": {
    "ExecuteTime": {
     "end_time": "2023-03-30T11:35:53.368176Z",
     "start_time": "2023-03-30T11:35:53.305680Z"
    }
   },
   "outputs": [
    {
     "name": "stderr",
     "output_type": "stream",
     "text": [
      "C:\\Users\\system 4\\AppData\\Local\\Temp\\ipykernel_11424\\1187690991.py:6: SettingWithCopyWarning: \n",
      "A value is trying to be set on a copy of a slice from a DataFrame.\n",
      "Try using .loc[row_indexer,col_indexer] = value instead\n",
      "\n",
      "See the caveats in the documentation: https://pandas.pydata.org/pandas-docs/stable/user_guide/indexing.html#returning-a-view-versus-a-copy\n",
      "  df_subset['APPRDX'] = data['APPRDX']\n"
     ]
    },
    {
     "data": {
      "text/html": [
       "<div>\n",
       "<style scoped>\n",
       "    .dataframe tbody tr th:only-of-type {\n",
       "        vertical-align: middle;\n",
       "    }\n",
       "\n",
       "    .dataframe tbody tr th {\n",
       "        vertical-align: top;\n",
       "    }\n",
       "\n",
       "    .dataframe thead th {\n",
       "        text-align: right;\n",
       "    }\n",
       "</style>\n",
       "<table border=\"1\" class=\"dataframe\">\n",
       "  <thead>\n",
       "    <tr style=\"text-align: right;\">\n",
       "      <th></th>\n",
       "      <th>cg07584368</th>\n",
       "      <th>cg02699673</th>\n",
       "      <th>cg10957063</th>\n",
       "      <th>cg08955609</th>\n",
       "      <th>cg10400309</th>\n",
       "      <th>cg03984780</th>\n",
       "      <th>cg11865360</th>\n",
       "      <th>cg08409074</th>\n",
       "      <th>cg08702946</th>\n",
       "      <th>cg25407140</th>\n",
       "      <th>...</th>\n",
       "      <th>cg25361663</th>\n",
       "      <th>cg25288762</th>\n",
       "      <th>cg23362473</th>\n",
       "      <th>cg16643803</th>\n",
       "      <th>cg01447828</th>\n",
       "      <th>cg26126367</th>\n",
       "      <th>cg07897734</th>\n",
       "      <th>cg06552618</th>\n",
       "      <th>cg13959611</th>\n",
       "      <th>APPRDX</th>\n",
       "    </tr>\n",
       "  </thead>\n",
       "  <tbody>\n",
       "    <tr>\n",
       "      <th>0</th>\n",
       "      <td>0.868743</td>\n",
       "      <td>0.621165</td>\n",
       "      <td>0.630408</td>\n",
       "      <td>0.046059</td>\n",
       "      <td>0.013044</td>\n",
       "      <td>0.065929</td>\n",
       "      <td>0.279839</td>\n",
       "      <td>0.036602</td>\n",
       "      <td>0.922071</td>\n",
       "      <td>0.116656</td>\n",
       "      <td>...</td>\n",
       "      <td>0.911043</td>\n",
       "      <td>0.85890</td>\n",
       "      <td>0.917361</td>\n",
       "      <td>0.029913</td>\n",
       "      <td>0.441146</td>\n",
       "      <td>0.825690</td>\n",
       "      <td>0.842938</td>\n",
       "      <td>0.035788</td>\n",
       "      <td>0.044262</td>\n",
       "      <td>1</td>\n",
       "    </tr>\n",
       "    <tr>\n",
       "      <th>1</th>\n",
       "      <td>0.864397</td>\n",
       "      <td>0.576635</td>\n",
       "      <td>0.632613</td>\n",
       "      <td>0.026931</td>\n",
       "      <td>0.010265</td>\n",
       "      <td>0.066287</td>\n",
       "      <td>0.098743</td>\n",
       "      <td>0.020570</td>\n",
       "      <td>0.922684</td>\n",
       "      <td>0.077034</td>\n",
       "      <td>...</td>\n",
       "      <td>0.929506</td>\n",
       "      <td>0.85435</td>\n",
       "      <td>0.900393</td>\n",
       "      <td>0.033853</td>\n",
       "      <td>0.559728</td>\n",
       "      <td>0.852642</td>\n",
       "      <td>0.894486</td>\n",
       "      <td>0.031247</td>\n",
       "      <td>0.048167</td>\n",
       "      <td>2</td>\n",
       "    </tr>\n",
       "  </tbody>\n",
       "</table>\n",
       "<p>2 rows × 51 columns</p>\n",
       "</div>"
      ],
      "text/plain": [
       "   cg07584368  cg02699673  cg10957063  cg08955609  cg10400309  cg03984780  \\\n",
       "0    0.868743    0.621165    0.630408    0.046059    0.013044    0.065929   \n",
       "1    0.864397    0.576635    0.632613    0.026931    0.010265    0.066287   \n",
       "\n",
       "   cg11865360  cg08409074  cg08702946  cg25407140  ...  cg25361663  \\\n",
       "0    0.279839    0.036602    0.922071    0.116656  ...    0.911043   \n",
       "1    0.098743    0.020570    0.922684    0.077034  ...    0.929506   \n",
       "\n",
       "   cg25288762  cg23362473  cg16643803  cg01447828  cg26126367  cg07897734  \\\n",
       "0     0.85890    0.917361    0.029913    0.441146    0.825690    0.842938   \n",
       "1     0.85435    0.900393    0.033853    0.559728    0.852642    0.894486   \n",
       "\n",
       "   cg06552618  cg13959611  APPRDX  \n",
       "0    0.035788    0.044262       1  \n",
       "1    0.031247    0.048167       2  \n",
       "\n",
       "[2 rows x 51 columns]"
      ]
     },
     "execution_count": 12,
     "metadata": {},
     "output_type": "execute_result"
    }
   ],
   "source": [
    "# create a list of column names to subset from data\n",
    "col_names = Top50.iloc[:, 0].tolist()\n",
    "\n",
    "# subset df based on the column names\n",
    "df_subset = data.loc[:, data.columns.isin(col_names)]\n",
    "df_subset['APPRDX'] = data['APPRDX']\n",
    "df_subset.to_csv ('Apathy_Boruta_Top50_Data_Male.csv', index = False)\n",
    "df_subset.head(2)"
   ]
  },
  {
   "cell_type": "markdown",
   "id": "7d040fc9",
   "metadata": {},
   "source": [
    "# SCOPA Sex"
   ]
  },
  {
   "cell_type": "code",
   "execution_count": 14,
   "id": "6a0b3a09",
   "metadata": {
    "ExecuteTime": {
     "end_time": "2023-03-30T11:52:23.639170Z",
     "start_time": "2023-03-30T11:52:22.235281Z"
    }
   },
   "outputs": [
    {
     "name": "stdout",
     "output_type": "stream",
     "text": [
      "Z:\\PPMI_Data\\Excels\\NonMotors\\The251\\Male\\GeneCpG\\ScopaSex\n"
     ]
    },
    {
     "data": {
      "text/html": [
       "<div>\n",
       "<style scoped>\n",
       "    .dataframe tbody tr th:only-of-type {\n",
       "        vertical-align: middle;\n",
       "    }\n",
       "\n",
       "    .dataframe tbody tr th {\n",
       "        vertical-align: top;\n",
       "    }\n",
       "\n",
       "    .dataframe thead th {\n",
       "        text-align: right;\n",
       "    }\n",
       "</style>\n",
       "<table border=\"1\" class=\"dataframe\">\n",
       "  <thead>\n",
       "    <tr style=\"text-align: right;\">\n",
       "      <th></th>\n",
       "      <th>Sentrix</th>\n",
       "      <th>PATNO</th>\n",
       "      <th>HYS</th>\n",
       "      <th>Gender</th>\n",
       "      <th>SCOPA_Sex</th>\n",
       "      <th>APPRDX</th>\n",
       "      <th>cg17370322</th>\n",
       "      <th>cg15396799</th>\n",
       "      <th>cg15388598</th>\n",
       "      <th>cg14189621</th>\n",
       "      <th>...</th>\n",
       "      <th>cg00600684</th>\n",
       "      <th>cg13207036</th>\n",
       "      <th>cg05750276</th>\n",
       "      <th>cg02312170</th>\n",
       "      <th>cg17391830</th>\n",
       "      <th>cg13151449</th>\n",
       "      <th>cg13596132</th>\n",
       "      <th>cg26538046</th>\n",
       "      <th>cg18607338</th>\n",
       "      <th>cg14149699</th>\n",
       "    </tr>\n",
       "  </thead>\n",
       "  <tbody>\n",
       "    <tr>\n",
       "      <th>0</th>\n",
       "      <td>200991620021_R01C01</td>\n",
       "      <td>3001</td>\n",
       "      <td>2</td>\n",
       "      <td>1</td>\n",
       "      <td>2</td>\n",
       "      <td>1</td>\n",
       "      <td>0.013535</td>\n",
       "      <td>0.242275</td>\n",
       "      <td>0.01208</td>\n",
       "      <td>0.024553</td>\n",
       "      <td>...</td>\n",
       "      <td>0.927369</td>\n",
       "      <td>0.0306</td>\n",
       "      <td>0.052903</td>\n",
       "      <td>0.053346</td>\n",
       "      <td>0.041092</td>\n",
       "      <td>0.902988</td>\n",
       "      <td>0.911403</td>\n",
       "      <td>0.033966</td>\n",
       "      <td>0.827098</td>\n",
       "      <td>0.030215</td>\n",
       "    </tr>\n",
       "  </tbody>\n",
       "</table>\n",
       "<p>1 rows × 10540 columns</p>\n",
       "</div>"
      ],
      "text/plain": [
       "               Sentrix  PATNO  HYS  Gender  SCOPA_Sex  APPRDX  cg17370322  \\\n",
       "0  200991620021_R01C01   3001    2       1          2       1    0.013535   \n",
       "\n",
       "   cg15396799  cg15388598  cg14189621  ...  cg00600684  cg13207036  \\\n",
       "0    0.242275     0.01208    0.024553  ...    0.927369      0.0306   \n",
       "\n",
       "   cg05750276  cg02312170  cg17391830  cg13151449  cg13596132  cg26538046  \\\n",
       "0    0.052903    0.053346    0.041092    0.902988    0.911403    0.033966   \n",
       "\n",
       "   cg18607338  cg14149699  \n",
       "0    0.827098    0.030215  \n",
       "\n",
       "[1 rows x 10540 columns]"
      ]
     },
     "execution_count": 14,
     "metadata": {},
     "output_type": "execute_result"
    }
   ],
   "source": [
    "%cd Z:\\PPMI_Data\\Excels\\NonMotors\\The251\\Male\\GeneCpG\\ScopaSex\n",
    "data = pd.read_csv('SexMaleCateg_Methylome_APPRDX.csv')\n",
    "data.head(1)"
   ]
  },
  {
   "cell_type": "code",
   "execution_count": 15,
   "id": "d8daf3a3",
   "metadata": {
    "ExecuteTime": {
     "end_time": "2023-03-30T11:52:47.881420Z",
     "start_time": "2023-03-30T11:52:47.828067Z"
    }
   },
   "outputs": [
    {
     "name": "stdout",
     "output_type": "stream",
     "text": [
      "   cg17370322  cg15396799  cg15388598  cg14189621  cg15158045  cg09770095  \\\n",
      "0    0.013535    0.242275    0.012080    0.024553    0.929080    0.953919   \n",
      "1    0.012805    0.109881    0.018853    0.052400    0.945216    0.927368   \n",
      "\n",
      "   cg05412028  cg26685941  cg25868675  cg24107165  ...  cg00600684  \\\n",
      "0    0.091946    0.082563    0.015361    0.686841  ...    0.927369   \n",
      "1    0.117943    0.098877    0.019414    0.563660  ...    0.920645   \n",
      "\n",
      "   cg13207036  cg05750276  cg02312170  cg17391830  cg13151449  cg13596132  \\\n",
      "0    0.030600    0.052903    0.053346    0.041092    0.902988    0.911403   \n",
      "1    0.023915    0.023711    0.035630    0.027145    0.896837    0.889727   \n",
      "\n",
      "   cg26538046  cg18607338  cg14149699  \n",
      "0    0.033966    0.827098    0.030215  \n",
      "1    0.038348    0.836846    0.083898  \n",
      "\n",
      "[2 rows x 10534 columns]\n"
     ]
    }
   ],
   "source": [
    "X = data.drop(['Sentrix','PATNO','HYS','Gender','SCOPA_Sex','APPRDX'], axis = 1)\n",
    "y = data['APPRDX']\n",
    "X_train, X_test, y_train, y_test = train_test_split(X, y, test_size = .2, random_state = 1) \n",
    "print(X.head(2))"
   ]
  },
  {
   "cell_type": "code",
   "execution_count": 16,
   "id": "73fe318a",
   "metadata": {
    "ExecuteTime": {
     "end_time": "2023-03-30T11:52:51.909715Z",
     "start_time": "2023-03-30T11:52:50.706452Z"
    }
   },
   "outputs": [
    {
     "data": {
      "text/plain": [
       "RandomForestClassifier(random_state=1)"
      ]
     },
     "execution_count": 16,
     "metadata": {},
     "output_type": "execute_result"
    }
   ],
   "source": [
    "rf_all_features = RandomForestClassifier(random_state=1)\n",
    "rf_all_features.fit(X_train, y_train)"
   ]
  },
  {
   "cell_type": "code",
   "execution_count": 17,
   "id": "8e56e1b8",
   "metadata": {
    "ExecuteTime": {
     "end_time": "2023-03-30T11:52:52.765244Z",
     "start_time": "2023-03-30T11:52:52.664976Z"
    }
   },
   "outputs": [
    {
     "data": {
      "text/plain": [
       "0.6774193548387096"
      ]
     },
     "execution_count": 17,
     "metadata": {},
     "output_type": "execute_result"
    }
   ],
   "source": [
    "accuracy_score(y_test, rf_all_features.predict(X_test))"
   ]
  },
  {
   "cell_type": "code",
   "execution_count": 18,
   "id": "28d42b85",
   "metadata": {
    "ExecuteTime": {
     "end_time": "2023-03-30T11:55:36.212136Z",
     "start_time": "2023-03-30T11:52:53.628903Z"
    },
    "scrolled": true
   },
   "outputs": [
    {
     "name": "stdout",
     "output_type": "stream",
     "text": [
      "Iteration: 1 / 100\n",
      "Iteration: 2 / 100\n",
      "Iteration: 3 / 100\n",
      "Iteration: 4 / 100\n",
      "Iteration: 5 / 100\n",
      "Iteration: 6 / 100\n",
      "Iteration: 7 / 100\n",
      "Iteration: 8 / 100\n",
      "Iteration: 9 / 100\n",
      "Iteration: 10 / 100\n",
      "Iteration: 11 / 100\n",
      "Iteration: 12 / 100\n",
      "Iteration: 13 / 100\n",
      "Iteration: 14 / 100\n",
      "Iteration: 15 / 100\n",
      "Iteration: 16 / 100\n",
      "Iteration: 17 / 100\n",
      "Iteration: 18 / 100\n",
      "Iteration: 19 / 100\n",
      "Iteration: 20 / 100\n",
      "Iteration: 21 / 100\n",
      "Iteration: 22 / 100\n",
      "Iteration: 23 / 100\n",
      "Iteration: 24 / 100\n",
      "Iteration: 25 / 100\n",
      "Iteration: 26 / 100\n",
      "Iteration: 27 / 100\n",
      "Iteration: 28 / 100\n",
      "Iteration: 29 / 100\n",
      "\n",
      "\n",
      "BorutaPy finished running.\n",
      "\n",
      "Iteration: \t30 / 100\n",
      "Confirmed: \t1\n",
      "Tentative: \t0\n",
      "Rejected: \t10533\n"
     ]
    },
    {
     "data": {
      "text/plain": [
       "BorutaPy(estimator=RandomForestClassifier(n_estimators=14,\n",
       "                                          random_state=RandomState(MT19937) at 0x1F3F8834140),\n",
       "         n_estimators='auto',\n",
       "         random_state=RandomState(MT19937) at 0x1F3F8834140, verbose=1)"
      ]
     },
     "execution_count": 18,
     "metadata": {},
     "output_type": "execute_result"
    }
   ],
   "source": [
    "rfc = RandomForestClassifier(random_state=1)\n",
    "boruta_selector = BorutaPy(rfc, n_estimators= 'auto', verbose=1, random_state=1)\n",
    "boruta_selector.fit(np.array(X_train), np.array(y_train))  "
   ]
  },
  {
   "cell_type": "code",
   "execution_count": 19,
   "id": "7f0421ed",
   "metadata": {
    "ExecuteTime": {
     "end_time": "2023-03-30T11:55:36.931393Z",
     "start_time": "2023-03-30T11:55:36.915614Z"
    }
   },
   "outputs": [
    {
     "name": "stdout",
     "output_type": "stream",
     "text": [
      "No. of significant features:  1\n"
     ]
    }
   ],
   "source": [
    "# print(\"Ranking: \",boruta_selector.ranking_)          \n",
    "print(\"No. of significant features: \", boruta_selector.n_features_)"
   ]
  },
  {
   "cell_type": "code",
   "execution_count": 20,
   "id": "1b23b0c4",
   "metadata": {
    "ExecuteTime": {
     "end_time": "2023-03-30T11:55:37.888476Z",
     "start_time": "2023-03-30T11:55:37.872818Z"
    }
   },
   "outputs": [],
   "source": [
    "selected_rf_features = pd.DataFrame({'CpG':list(X_train.columns),\n",
    "                                       'Ranking':boruta_selector.ranking_})\n",
    "selected_rf_features = selected_rf_features.sort_values(by='Ranking')"
   ]
  },
  {
   "cell_type": "code",
   "execution_count": 21,
   "id": "7a76bee7",
   "metadata": {
    "ExecuteTime": {
     "end_time": "2023-03-30T11:55:38.675231Z",
     "start_time": "2023-03-30T11:55:38.659714Z"
    }
   },
   "outputs": [
    {
     "data": {
      "text/html": [
       "<div>\n",
       "<style scoped>\n",
       "    .dataframe tbody tr th:only-of-type {\n",
       "        vertical-align: middle;\n",
       "    }\n",
       "\n",
       "    .dataframe tbody tr th {\n",
       "        vertical-align: top;\n",
       "    }\n",
       "\n",
       "    .dataframe thead th {\n",
       "        text-align: right;\n",
       "    }\n",
       "</style>\n",
       "<table border=\"1\" class=\"dataframe\">\n",
       "  <thead>\n",
       "    <tr style=\"text-align: right;\">\n",
       "      <th></th>\n",
       "      <th>CpG</th>\n",
       "      <th>Ranking</th>\n",
       "    </tr>\n",
       "  </thead>\n",
       "  <tbody>\n",
       "    <tr>\n",
       "      <th>1519</th>\n",
       "      <td>cg05817202</td>\n",
       "      <td>1</td>\n",
       "    </tr>\n",
       "    <tr>\n",
       "      <th>3007</th>\n",
       "      <td>cg03682895</td>\n",
       "      <td>2</td>\n",
       "    </tr>\n",
       "    <tr>\n",
       "      <th>7783</th>\n",
       "      <td>cg19380722</td>\n",
       "      <td>3</td>\n",
       "    </tr>\n",
       "  </tbody>\n",
       "</table>\n",
       "</div>"
      ],
      "text/plain": [
       "             CpG  Ranking\n",
       "1519  cg05817202        1\n",
       "3007  cg03682895        2\n",
       "7783  cg19380722        3"
      ]
     },
     "execution_count": 21,
     "metadata": {},
     "output_type": "execute_result"
    }
   ],
   "source": [
    "Top50 = selected_rf_features.iloc[:50, :]\n",
    "Top50.head(3)"
   ]
  },
  {
   "cell_type": "code",
   "execution_count": 22,
   "id": "c7245d2b",
   "metadata": {
    "ExecuteTime": {
     "end_time": "2023-03-30T11:55:39.508360Z",
     "start_time": "2023-03-30T11:55:39.427222Z"
    }
   },
   "outputs": [],
   "source": [
    "Top50.to_csv ('ScopaSex_Boruta_Top50_Male.csv', index = False)\n",
    "selected_rf_features.to_csv ('ScopaSex_Boruta_All_Male.csv', index = False)"
   ]
  },
  {
   "cell_type": "code",
   "execution_count": 23,
   "id": "5b0f6753",
   "metadata": {
    "ExecuteTime": {
     "end_time": "2023-03-30T11:55:40.303214Z",
     "start_time": "2023-03-30T11:55:40.261943Z"
    }
   },
   "outputs": [
    {
     "name": "stderr",
     "output_type": "stream",
     "text": [
      "C:\\Users\\system 4\\AppData\\Local\\Temp\\ipykernel_11424\\2492820744.py:6: SettingWithCopyWarning: \n",
      "A value is trying to be set on a copy of a slice from a DataFrame.\n",
      "Try using .loc[row_indexer,col_indexer] = value instead\n",
      "\n",
      "See the caveats in the documentation: https://pandas.pydata.org/pandas-docs/stable/user_guide/indexing.html#returning-a-view-versus-a-copy\n",
      "  df_subset['PATNO'] = data['PATNO']\n",
      "C:\\Users\\system 4\\AppData\\Local\\Temp\\ipykernel_11424\\2492820744.py:7: SettingWithCopyWarning: \n",
      "A value is trying to be set on a copy of a slice from a DataFrame.\n",
      "Try using .loc[row_indexer,col_indexer] = value instead\n",
      "\n",
      "See the caveats in the documentation: https://pandas.pydata.org/pandas-docs/stable/user_guide/indexing.html#returning-a-view-versus-a-copy\n",
      "  df_subset['APPRDX'] = data['APPRDX']\n"
     ]
    },
    {
     "data": {
      "text/html": [
       "<div>\n",
       "<style scoped>\n",
       "    .dataframe tbody tr th:only-of-type {\n",
       "        vertical-align: middle;\n",
       "    }\n",
       "\n",
       "    .dataframe tbody tr th {\n",
       "        vertical-align: top;\n",
       "    }\n",
       "\n",
       "    .dataframe thead th {\n",
       "        text-align: right;\n",
       "    }\n",
       "</style>\n",
       "<table border=\"1\" class=\"dataframe\">\n",
       "  <thead>\n",
       "    <tr style=\"text-align: right;\">\n",
       "      <th></th>\n",
       "      <th>cg06751221</th>\n",
       "      <th>cg22870386</th>\n",
       "      <th>cg07588779</th>\n",
       "      <th>cg20095680</th>\n",
       "      <th>cg22807314</th>\n",
       "      <th>cg11865360</th>\n",
       "      <th>cg05817202</th>\n",
       "      <th>cg19612504</th>\n",
       "      <th>cg26243905</th>\n",
       "      <th>cg17422176</th>\n",
       "      <th>...</th>\n",
       "      <th>cg02477305</th>\n",
       "      <th>cg07659840</th>\n",
       "      <th>cg14595995</th>\n",
       "      <th>cg24272338</th>\n",
       "      <th>cg09119776</th>\n",
       "      <th>cg02153334</th>\n",
       "      <th>cg03303515</th>\n",
       "      <th>cg24120153</th>\n",
       "      <th>PATNO</th>\n",
       "      <th>APPRDX</th>\n",
       "    </tr>\n",
       "  </thead>\n",
       "  <tbody>\n",
       "    <tr>\n",
       "      <th>0</th>\n",
       "      <td>0.057391</td>\n",
       "      <td>0.828698</td>\n",
       "      <td>0.082613</td>\n",
       "      <td>0.035714</td>\n",
       "      <td>0.920441</td>\n",
       "      <td>0.279839</td>\n",
       "      <td>0.823899</td>\n",
       "      <td>0.954524</td>\n",
       "      <td>0.837745</td>\n",
       "      <td>0.117596</td>\n",
       "      <td>...</td>\n",
       "      <td>0.916772</td>\n",
       "      <td>0.833857</td>\n",
       "      <td>0.888622</td>\n",
       "      <td>0.912405</td>\n",
       "      <td>0.524141</td>\n",
       "      <td>0.942443</td>\n",
       "      <td>0.245769</td>\n",
       "      <td>0.713483</td>\n",
       "      <td>3001</td>\n",
       "      <td>1</td>\n",
       "    </tr>\n",
       "    <tr>\n",
       "      <th>1</th>\n",
       "      <td>0.083624</td>\n",
       "      <td>0.888004</td>\n",
       "      <td>0.095515</td>\n",
       "      <td>0.046304</td>\n",
       "      <td>0.926729</td>\n",
       "      <td>0.137535</td>\n",
       "      <td>0.849287</td>\n",
       "      <td>0.965545</td>\n",
       "      <td>0.900153</td>\n",
       "      <td>0.147173</td>\n",
       "      <td>...</td>\n",
       "      <td>0.923712</td>\n",
       "      <td>0.880487</td>\n",
       "      <td>0.915410</td>\n",
       "      <td>0.891393</td>\n",
       "      <td>0.551746</td>\n",
       "      <td>0.898963</td>\n",
       "      <td>0.211177</td>\n",
       "      <td>0.783492</td>\n",
       "      <td>3007</td>\n",
       "      <td>1</td>\n",
       "    </tr>\n",
       "  </tbody>\n",
       "</table>\n",
       "<p>2 rows × 52 columns</p>\n",
       "</div>"
      ],
      "text/plain": [
       "   cg06751221  cg22870386  cg07588779  cg20095680  cg22807314  cg11865360  \\\n",
       "0    0.057391    0.828698    0.082613    0.035714    0.920441    0.279839   \n",
       "1    0.083624    0.888004    0.095515    0.046304    0.926729    0.137535   \n",
       "\n",
       "   cg05817202  cg19612504  cg26243905  cg17422176  ...  cg02477305  \\\n",
       "0    0.823899    0.954524    0.837745    0.117596  ...    0.916772   \n",
       "1    0.849287    0.965545    0.900153    0.147173  ...    0.923712   \n",
       "\n",
       "   cg07659840  cg14595995  cg24272338  cg09119776  cg02153334  cg03303515  \\\n",
       "0    0.833857    0.888622    0.912405    0.524141    0.942443    0.245769   \n",
       "1    0.880487    0.915410    0.891393    0.551746    0.898963    0.211177   \n",
       "\n",
       "   cg24120153  PATNO  APPRDX  \n",
       "0    0.713483   3001       1  \n",
       "1    0.783492   3007       1  \n",
       "\n",
       "[2 rows x 52 columns]"
      ]
     },
     "execution_count": 23,
     "metadata": {},
     "output_type": "execute_result"
    }
   ],
   "source": [
    "# create a list of column names to subset from data\n",
    "col_names = Top50.iloc[:, 0].tolist()\n",
    "\n",
    "# subset df based on the column names\n",
    "df_subset = data.loc[:, data.columns.isin(col_names)]\n",
    "df_subset['PATNO'] = data['PATNO']\n",
    "df_subset['APPRDX'] = data['APPRDX']\n",
    "df_subset.to_csv ('ScopaSex_Boruta_Top50_Data_Male.csv', index = False)\n",
    "df_subset.head(2)"
   ]
  },
  {
   "cell_type": "code",
   "execution_count": null,
   "id": "7dfd02e6",
   "metadata": {},
   "outputs": [],
   "source": []
  }
 ],
 "metadata": {
  "kernelspec": {
   "display_name": "Python 3 (ipykernel)",
   "language": "python",
   "name": "python3"
  },
  "language_info": {
   "codemirror_mode": {
    "name": "ipython",
    "version": 3
   },
   "file_extension": ".py",
   "mimetype": "text/x-python",
   "name": "python",
   "nbconvert_exporter": "python",
   "pygments_lexer": "ipython3",
   "version": "3.9.16"
  },
  "toc": {
   "base_numbering": 1,
   "nav_menu": {},
   "number_sections": true,
   "sideBar": true,
   "skip_h1_title": false,
   "title_cell": "Table of Contents",
   "title_sidebar": "Contents",
   "toc_cell": false,
   "toc_position": {},
   "toc_section_display": true,
   "toc_window_display": false
  },
  "varInspector": {
   "cols": {
    "lenName": 16,
    "lenType": 16,
    "lenVar": 40
   },
   "kernels_config": {
    "python": {
     "delete_cmd_postfix": "",
     "delete_cmd_prefix": "del ",
     "library": "var_list.py",
     "varRefreshCmd": "print(var_dic_list())"
    },
    "r": {
     "delete_cmd_postfix": ") ",
     "delete_cmd_prefix": "rm(",
     "library": "var_list.r",
     "varRefreshCmd": "cat(var_dic_list()) "
    }
   },
   "types_to_exclude": [
    "module",
    "function",
    "builtin_function_or_method",
    "instance",
    "_Feature"
   ],
   "window_display": false
  }
 },
 "nbformat": 4,
 "nbformat_minor": 5
}
