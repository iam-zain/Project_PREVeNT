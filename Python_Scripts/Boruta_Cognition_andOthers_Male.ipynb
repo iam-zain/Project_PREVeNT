{
 "cells": [
  {
   "cell_type": "code",
   "execution_count": 1,
   "id": "51c5704f",
   "metadata": {
    "ExecuteTime": {
     "end_time": "2023-02-20T11:57:30.646297Z",
     "start_time": "2023-02-20T11:57:28.949602Z"
    }
   },
   "outputs": [],
   "source": [
    "import numpy as np\n",
    "import pandas as pd\n",
    "from boruta import BorutaPy\n",
    "from sklearn.datasets import load_diabetes\n",
    "from sklearn.metrics import accuracy_score \n",
    "from sklearn.ensemble import RandomForestRegressor\n",
    "from sklearn.ensemble import RandomForestClassifier\n",
    "from sklearn.model_selection import train_test_split"
   ]
  },
  {
   "cell_type": "markdown",
   "id": "e7293a88",
   "metadata": {},
   "source": [
    "# Cognition"
   ]
  },
  {
   "cell_type": "code",
   "execution_count": 2,
   "id": "5ff336b1",
   "metadata": {
    "ExecuteTime": {
     "end_time": "2023-02-20T11:59:36.787013Z",
     "start_time": "2023-02-20T11:57:30.648322Z"
    }
   },
   "outputs": [
    {
     "name": "stdout",
     "output_type": "stream",
     "text": [
      "Z:\\PPMI_Data\\Excels\\NonMotors\\Derived250\\Male\\GeneCpG\\Cognition\n"
     ]
    },
    {
     "data": {
      "text/html": [
       "<div>\n",
       "<style scoped>\n",
       "    .dataframe tbody tr th:only-of-type {\n",
       "        vertical-align: middle;\n",
       "    }\n",
       "\n",
       "    .dataframe tbody tr th {\n",
       "        vertical-align: top;\n",
       "    }\n",
       "\n",
       "    .dataframe thead th {\n",
       "        text-align: right;\n",
       "    }\n",
       "</style>\n",
       "<table border=\"1\" class=\"dataframe\">\n",
       "  <thead>\n",
       "    <tr style=\"text-align: right;\">\n",
       "      <th></th>\n",
       "      <th>Unnamed: 0</th>\n",
       "      <th>Sentrix</th>\n",
       "      <th>PATNO</th>\n",
       "      <th>HYS</th>\n",
       "      <th>Gender</th>\n",
       "      <th>APPRDX</th>\n",
       "      <th>Montreal_Cognitive</th>\n",
       "      <th>cg08012045</th>\n",
       "      <th>cg08300930</th>\n",
       "      <th>cg00134295</th>\n",
       "      <th>...</th>\n",
       "      <th>cg10054014</th>\n",
       "      <th>cg15364874</th>\n",
       "      <th>cg06622006</th>\n",
       "      <th>cg22071811</th>\n",
       "      <th>cg24960706</th>\n",
       "      <th>cg06917935</th>\n",
       "      <th>cg02794319</th>\n",
       "      <th>cg10702286</th>\n",
       "      <th>cg10353174</th>\n",
       "      <th>cg19590050</th>\n",
       "    </tr>\n",
       "  </thead>\n",
       "  <tbody>\n",
       "    <tr>\n",
       "      <th>0</th>\n",
       "      <td>0</td>\n",
       "      <td>200991620021_R01C01</td>\n",
       "      <td>3001</td>\n",
       "      <td>2</td>\n",
       "      <td>1</td>\n",
       "      <td>1</td>\n",
       "      <td>0</td>\n",
       "      <td>0.962437</td>\n",
       "      <td>0.964442</td>\n",
       "      <td>0.24353</td>\n",
       "      <td>...</td>\n",
       "      <td>0.852622</td>\n",
       "      <td>0.880126</td>\n",
       "      <td>0.876185</td>\n",
       "      <td>0.770531</td>\n",
       "      <td>0.830047</td>\n",
       "      <td>0.216268</td>\n",
       "      <td>0.23435</td>\n",
       "      <td>0.68155</td>\n",
       "      <td>0.103758</td>\n",
       "      <td>0.83789</td>\n",
       "    </tr>\n",
       "  </tbody>\n",
       "</table>\n",
       "<p>1 rows × 123024 columns</p>\n",
       "</div>"
      ],
      "text/plain": [
       "   Unnamed: 0              Sentrix  PATNO  HYS  Gender  APPRDX  \\\n",
       "0           0  200991620021_R01C01   3001    2       1       1   \n",
       "\n",
       "   Montreal_Cognitive  cg08012045  cg08300930  cg00134295  ...  cg10054014  \\\n",
       "0                   0    0.962437    0.964442     0.24353  ...    0.852622   \n",
       "\n",
       "   cg15364874  cg06622006  cg22071811  cg24960706  cg06917935  cg02794319  \\\n",
       "0    0.880126    0.876185    0.770531    0.830047    0.216268     0.23435   \n",
       "\n",
       "   cg10702286  cg10353174  cg19590050  \n",
       "0     0.68155    0.103758     0.83789  \n",
       "\n",
       "[1 rows x 123024 columns]"
      ]
     },
     "execution_count": 2,
     "metadata": {},
     "output_type": "execute_result"
    }
   ],
   "source": [
    "%cd Z:\\PPMI_Data\\Excels\\NonMotors\\Derived250\\Male\\GeneCpG\\Cognition\n",
    "data = pd.read_csv('CognitionCateg_Methylome_Male.csv')\n",
    "data.head(1)"
   ]
  },
  {
   "cell_type": "code",
   "execution_count": 3,
   "id": "ee22df7a",
   "metadata": {
    "ExecuteTime": {
     "end_time": "2023-02-20T11:59:37.724127Z",
     "start_time": "2023-02-20T11:59:36.797074Z"
    }
   },
   "outputs": [],
   "source": [
    "X = data.drop(['Unnamed: 0','Sentrix','PATNO','HYS','Gender','Montreal_Cognitive','APPRDX'], axis = 1)\n",
    "y = data['APPRDX']\n",
    "X_train, X_test, y_train, y_test = train_test_split(X, y, test_size = .2, random_state = 1) "
   ]
  },
  {
   "cell_type": "code",
   "execution_count": 4,
   "id": "c1ee3e48",
   "metadata": {
    "ExecuteTime": {
     "end_time": "2023-02-20T11:59:41.834962Z",
     "start_time": "2023-02-20T11:59:37.724127Z"
    }
   },
   "outputs": [
    {
     "data": {
      "text/plain": [
       "RandomForestClassifier(random_state=1)"
      ]
     },
     "execution_count": 4,
     "metadata": {},
     "output_type": "execute_result"
    }
   ],
   "source": [
    "rf_all_features = RandomForestClassifier(random_state=1)\n",
    "rf_all_features.fit(X_train, y_train)"
   ]
  },
  {
   "cell_type": "code",
   "execution_count": 5,
   "id": "f17f8606",
   "metadata": {
    "ExecuteTime": {
     "end_time": "2023-02-20T11:59:42.553125Z",
     "start_time": "2023-02-20T11:59:41.834962Z"
    }
   },
   "outputs": [
    {
     "data": {
      "text/plain": [
       "0.7258064516129032"
      ]
     },
     "execution_count": 5,
     "metadata": {},
     "output_type": "execute_result"
    }
   ],
   "source": [
    "accuracy_score(y_test, rf_all_features.predict(X_test))"
   ]
  },
  {
   "cell_type": "code",
   "execution_count": 6,
   "id": "5ba608ac",
   "metadata": {
    "ExecuteTime": {
     "end_time": "2023-02-20T12:28:21.266496Z",
     "start_time": "2023-02-20T11:59:42.553125Z"
    }
   },
   "outputs": [
    {
     "name": "stdout",
     "output_type": "stream",
     "text": [
      "Iteration: 1 / 100\n",
      "Iteration: 2 / 100\n",
      "Iteration: 3 / 100\n",
      "Iteration: 4 / 100\n",
      "Iteration: 5 / 100\n",
      "Iteration: 6 / 100\n",
      "Iteration: 7 / 100\n",
      "Iteration: 8 / 100\n",
      "Iteration: 9 / 100\n",
      "Iteration: 10 / 100\n",
      "Iteration: 11 / 100\n",
      "Iteration: 12 / 100\n",
      "Iteration: 13 / 100\n",
      "Iteration: 14 / 100\n",
      "Iteration: 15 / 100\n",
      "Iteration: 16 / 100\n",
      "Iteration: 17 / 100\n",
      "Iteration: 18 / 100\n",
      "Iteration: 19 / 100\n",
      "Iteration: 20 / 100\n",
      "Iteration: 21 / 100\n",
      "Iteration: 22 / 100\n",
      "Iteration: 23 / 100\n",
      "Iteration: 24 / 100\n",
      "Iteration: 25 / 100\n",
      "Iteration: 26 / 100\n",
      "Iteration: 27 / 100\n",
      "Iteration: 28 / 100\n",
      "Iteration: 29 / 100\n",
      "Iteration: 30 / 100\n",
      "Iteration: 31 / 100\n",
      "Iteration: 32 / 100\n",
      "Iteration: 33 / 100\n",
      "Iteration: 34 / 100\n",
      "\n",
      "\n",
      "BorutaPy finished running.\n",
      "\n",
      "Iteration: \t35 / 100\n",
      "Confirmed: \t1\n",
      "Tentative: \t0\n",
      "Rejected: \t123016\n"
     ]
    },
    {
     "data": {
      "text/plain": [
       "BorutaPy(estimator=RandomForestClassifier(n_estimators=14,\n",
       "                                          random_state=RandomState(MT19937) at 0x22525D59640),\n",
       "         n_estimators='auto',\n",
       "         random_state=RandomState(MT19937) at 0x22525D59640, verbose=1)"
      ]
     },
     "execution_count": 6,
     "metadata": {},
     "output_type": "execute_result"
    }
   ],
   "source": [
    "rfc = RandomForestClassifier(random_state=1)\n",
    "boruta_selector = BorutaPy(rfc, n_estimators= 'auto', verbose=1, random_state=1)\n",
    "boruta_selector.fit(np.array(X_train), np.array(y_train))  "
   ]
  },
  {
   "cell_type": "code",
   "execution_count": 7,
   "id": "51f874e0",
   "metadata": {
    "ExecuteTime": {
     "end_time": "2023-02-20T12:28:21.306724Z",
     "start_time": "2023-02-20T12:28:21.288618Z"
    }
   },
   "outputs": [
    {
     "name": "stdout",
     "output_type": "stream",
     "text": [
      "No. of significant features:  1\n"
     ]
    }
   ],
   "source": [
    "# print(\"Ranking: \",boruta_selector.ranking_)          \n",
    "print(\"No. of significant features: \", boruta_selector.n_features_)"
   ]
  },
  {
   "cell_type": "code",
   "execution_count": 8,
   "id": "61cadc89",
   "metadata": {
    "ExecuteTime": {
     "end_time": "2023-02-20T12:28:21.499799Z",
     "start_time": "2023-02-20T12:28:21.308750Z"
    }
   },
   "outputs": [],
   "source": [
    "selected_rf_features = pd.DataFrame({'CpG':list(X_train.columns),\n",
    "                                       'Ranking':boruta_selector.ranking_})\n",
    "selected_rf_features = selected_rf_features.sort_values(by='Ranking')"
   ]
  },
  {
   "cell_type": "code",
   "execution_count": 9,
   "id": "6ae888ab",
   "metadata": {
    "ExecuteTime": {
     "end_time": "2023-02-20T12:28:21.769278Z",
     "start_time": "2023-02-20T12:28:21.509860Z"
    },
    "scrolled": true
   },
   "outputs": [
    {
     "data": {
      "text/html": [
       "<div>\n",
       "<style scoped>\n",
       "    .dataframe tbody tr th:only-of-type {\n",
       "        vertical-align: middle;\n",
       "    }\n",
       "\n",
       "    .dataframe tbody tr th {\n",
       "        vertical-align: top;\n",
       "    }\n",
       "\n",
       "    .dataframe thead th {\n",
       "        text-align: right;\n",
       "    }\n",
       "</style>\n",
       "<table border=\"1\" class=\"dataframe\">\n",
       "  <thead>\n",
       "    <tr style=\"text-align: right;\">\n",
       "      <th></th>\n",
       "      <th>CpG</th>\n",
       "      <th>Ranking</th>\n",
       "    </tr>\n",
       "  </thead>\n",
       "  <tbody>\n",
       "    <tr>\n",
       "      <th>71838</th>\n",
       "      <td>cg21921473</td>\n",
       "      <td>1</td>\n",
       "    </tr>\n",
       "    <tr>\n",
       "      <th>66900</th>\n",
       "      <td>cg13675469</td>\n",
       "      <td>2</td>\n",
       "    </tr>\n",
       "    <tr>\n",
       "      <th>36361</th>\n",
       "      <td>cg06284898</td>\n",
       "      <td>3</td>\n",
       "    </tr>\n",
       "  </tbody>\n",
       "</table>\n",
       "</div>"
      ],
      "text/plain": [
       "              CpG  Ranking\n",
       "71838  cg21921473        1\n",
       "66900  cg13675469        2\n",
       "36361  cg06284898        3"
      ]
     },
     "execution_count": 9,
     "metadata": {},
     "output_type": "execute_result"
    }
   ],
   "source": [
    "Top50 = selected_rf_features.iloc[:51, :]\n",
    "Top50.head(3)"
   ]
  },
  {
   "cell_type": "code",
   "execution_count": 10,
   "id": "9605e163",
   "metadata": {
    "ExecuteTime": {
     "end_time": "2023-02-20T12:28:22.474898Z",
     "start_time": "2023-02-20T12:28:21.771303Z"
    }
   },
   "outputs": [],
   "source": [
    "Top50.to_csv ('Cognition_BorutaMale_Top50.csv', index = False)\n",
    "selected_rf_features.to_csv ('Cognition_BorutaMale_All.csv', index = False)"
   ]
  },
  {
   "cell_type": "code",
   "execution_count": 11,
   "id": "1797de28",
   "metadata": {
    "ExecuteTime": {
     "end_time": "2023-02-20T12:28:22.613640Z",
     "start_time": "2023-02-20T12:28:22.484951Z"
    }
   },
   "outputs": [
    {
     "name": "stderr",
     "output_type": "stream",
     "text": [
      "C:\\Users\\system 4\\AppData\\Local\\Temp\\ipykernel_6676\\1789865926.py:6: SettingWithCopyWarning: \n",
      "A value is trying to be set on a copy of a slice from a DataFrame.\n",
      "Try using .loc[row_indexer,col_indexer] = value instead\n",
      "\n",
      "See the caveats in the documentation: https://pandas.pydata.org/pandas-docs/stable/user_guide/indexing.html#returning-a-view-versus-a-copy\n",
      "  df_subset['APPRDX'] = data['APPRDX']\n"
     ]
    },
    {
     "data": {
      "text/html": [
       "<div>\n",
       "<style scoped>\n",
       "    .dataframe tbody tr th:only-of-type {\n",
       "        vertical-align: middle;\n",
       "    }\n",
       "\n",
       "    .dataframe tbody tr th {\n",
       "        vertical-align: top;\n",
       "    }\n",
       "\n",
       "    .dataframe thead th {\n",
       "        text-align: right;\n",
       "    }\n",
       "</style>\n",
       "<table border=\"1\" class=\"dataframe\">\n",
       "  <thead>\n",
       "    <tr style=\"text-align: right;\">\n",
       "      <th></th>\n",
       "      <th>cg27171575</th>\n",
       "      <th>cg10693616</th>\n",
       "      <th>cg06098693</th>\n",
       "      <th>cg16444863</th>\n",
       "      <th>cg18174834</th>\n",
       "      <th>cg22508530</th>\n",
       "      <th>cg06129513</th>\n",
       "      <th>cg13312668</th>\n",
       "      <th>cg07456278</th>\n",
       "      <th>cg05817202</th>\n",
       "      <th>...</th>\n",
       "      <th>cg22216017</th>\n",
       "      <th>cg15809230</th>\n",
       "      <th>cg17624978</th>\n",
       "      <th>cg16606731</th>\n",
       "      <th>cg13468400</th>\n",
       "      <th>cg11755107</th>\n",
       "      <th>cg10121816</th>\n",
       "      <th>cg13240962</th>\n",
       "      <th>cg15419852</th>\n",
       "      <th>APPRDX</th>\n",
       "    </tr>\n",
       "  </thead>\n",
       "  <tbody>\n",
       "    <tr>\n",
       "      <th>0</th>\n",
       "      <td>0.853809</td>\n",
       "      <td>0.012194</td>\n",
       "      <td>0.910787</td>\n",
       "      <td>0.931500</td>\n",
       "      <td>0.040499</td>\n",
       "      <td>0.597781</td>\n",
       "      <td>0.843875</td>\n",
       "      <td>0.858468</td>\n",
       "      <td>0.582067</td>\n",
       "      <td>0.823899</td>\n",
       "      <td>...</td>\n",
       "      <td>0.043279</td>\n",
       "      <td>0.015557</td>\n",
       "      <td>0.866434</td>\n",
       "      <td>0.574604</td>\n",
       "      <td>0.812987</td>\n",
       "      <td>0.014287</td>\n",
       "      <td>0.011981</td>\n",
       "      <td>0.778440</td>\n",
       "      <td>0.025940</td>\n",
       "      <td>1</td>\n",
       "    </tr>\n",
       "    <tr>\n",
       "      <th>1</th>\n",
       "      <td>0.895204</td>\n",
       "      <td>0.012696</td>\n",
       "      <td>0.924330</td>\n",
       "      <td>0.937715</td>\n",
       "      <td>0.034218</td>\n",
       "      <td>0.546212</td>\n",
       "      <td>0.920245</td>\n",
       "      <td>0.895692</td>\n",
       "      <td>0.667340</td>\n",
       "      <td>0.849287</td>\n",
       "      <td>...</td>\n",
       "      <td>0.045068</td>\n",
       "      <td>0.015942</td>\n",
       "      <td>0.899224</td>\n",
       "      <td>0.625920</td>\n",
       "      <td>0.897971</td>\n",
       "      <td>0.015179</td>\n",
       "      <td>0.014084</td>\n",
       "      <td>0.799525</td>\n",
       "      <td>0.037032</td>\n",
       "      <td>1</td>\n",
       "    </tr>\n",
       "  </tbody>\n",
       "</table>\n",
       "<p>2 rows × 52 columns</p>\n",
       "</div>"
      ],
      "text/plain": [
       "   cg27171575  cg10693616  cg06098693  cg16444863  cg18174834  cg22508530  \\\n",
       "0    0.853809    0.012194    0.910787    0.931500    0.040499    0.597781   \n",
       "1    0.895204    0.012696    0.924330    0.937715    0.034218    0.546212   \n",
       "\n",
       "   cg06129513  cg13312668  cg07456278  cg05817202  ...  cg22216017  \\\n",
       "0    0.843875    0.858468    0.582067    0.823899  ...    0.043279   \n",
       "1    0.920245    0.895692    0.667340    0.849287  ...    0.045068   \n",
       "\n",
       "   cg15809230  cg17624978  cg16606731  cg13468400  cg11755107  cg10121816  \\\n",
       "0    0.015557    0.866434    0.574604    0.812987    0.014287    0.011981   \n",
       "1    0.015942    0.899224    0.625920    0.897971    0.015179    0.014084   \n",
       "\n",
       "   cg13240962  cg15419852  APPRDX  \n",
       "0    0.778440    0.025940       1  \n",
       "1    0.799525    0.037032       1  \n",
       "\n",
       "[2 rows x 52 columns]"
      ]
     },
     "execution_count": 11,
     "metadata": {},
     "output_type": "execute_result"
    }
   ],
   "source": [
    "# create a list of column names to subset from data\n",
    "col_names = Top50.iloc[:, 0].tolist()\n",
    "\n",
    "# subset df based on the column names\n",
    "df_subset = data.loc[:, data.columns.isin(col_names)]\n",
    "df_subset['APPRDX'] = data['APPRDX']\n",
    "df_subset.to_csv ('Cognition_Boruta_Top50_Data_Male.csv', index = False)\n",
    "df_subset.head(2)"
   ]
  },
  {
   "cell_type": "markdown",
   "id": "8bbb17fc",
   "metadata": {},
   "source": [
    "# Fatigue"
   ]
  },
  {
   "cell_type": "code",
   "execution_count": 12,
   "id": "b124ca56",
   "metadata": {
    "ExecuteTime": {
     "end_time": "2023-02-20T12:28:30.392829Z",
     "start_time": "2023-02-20T12:28:22.615664Z"
    }
   },
   "outputs": [
    {
     "name": "stdout",
     "output_type": "stream",
     "text": [
      "Z:\\PPMI_Data\\Excels\\NonMotors\\Derived250\\Male\\GeneCpG\\Fatigue\n"
     ]
    },
    {
     "data": {
      "text/html": [
       "<div>\n",
       "<style scoped>\n",
       "    .dataframe tbody tr th:only-of-type {\n",
       "        vertical-align: middle;\n",
       "    }\n",
       "\n",
       "    .dataframe tbody tr th {\n",
       "        vertical-align: top;\n",
       "    }\n",
       "\n",
       "    .dataframe thead th {\n",
       "        text-align: right;\n",
       "    }\n",
       "</style>\n",
       "<table border=\"1\" class=\"dataframe\">\n",
       "  <thead>\n",
       "    <tr style=\"text-align: right;\">\n",
       "      <th></th>\n",
       "      <th>Unnamed: 0</th>\n",
       "      <th>Sentrix</th>\n",
       "      <th>PATNO</th>\n",
       "      <th>HYS</th>\n",
       "      <th>Gender</th>\n",
       "      <th>APPRDX</th>\n",
       "      <th>MDSP_Fatigue</th>\n",
       "      <th>cg17960051</th>\n",
       "      <th>cg06562372</th>\n",
       "      <th>cg04099454</th>\n",
       "      <th>...</th>\n",
       "      <th>cg15500865</th>\n",
       "      <th>cg10329418</th>\n",
       "      <th>cg18241308</th>\n",
       "      <th>cg04350520</th>\n",
       "      <th>cg04685170</th>\n",
       "      <th>cg20985067</th>\n",
       "      <th>cg08461772</th>\n",
       "      <th>cg25879118</th>\n",
       "      <th>cg07510163</th>\n",
       "      <th>ch.13.693633F</th>\n",
       "    </tr>\n",
       "  </thead>\n",
       "  <tbody>\n",
       "    <tr>\n",
       "      <th>0</th>\n",
       "      <td>0</td>\n",
       "      <td>200991620021_R01C01</td>\n",
       "      <td>3001</td>\n",
       "      <td>2</td>\n",
       "      <td>1</td>\n",
       "      <td>1</td>\n",
       "      <td>1</td>\n",
       "      <td>0.019716</td>\n",
       "      <td>0.024434</td>\n",
       "      <td>0.895146</td>\n",
       "      <td>...</td>\n",
       "      <td>0.105174</td>\n",
       "      <td>0.262518</td>\n",
       "      <td>0.784256</td>\n",
       "      <td>0.886425</td>\n",
       "      <td>0.080717</td>\n",
       "      <td>0.814912</td>\n",
       "      <td>0.331552</td>\n",
       "      <td>0.916387</td>\n",
       "      <td>0.841837</td>\n",
       "      <td>0.036872</td>\n",
       "    </tr>\n",
       "  </tbody>\n",
       "</table>\n",
       "<p>1 rows × 31218 columns</p>\n",
       "</div>"
      ],
      "text/plain": [
       "   Unnamed: 0              Sentrix  PATNO  HYS  Gender  APPRDX  MDSP_Fatigue  \\\n",
       "0           0  200991620021_R01C01   3001    2       1       1             1   \n",
       "\n",
       "   cg17960051  cg06562372  cg04099454  ...  cg15500865  cg10329418  \\\n",
       "0    0.019716    0.024434    0.895146  ...    0.105174    0.262518   \n",
       "\n",
       "   cg18241308  cg04350520  cg04685170  cg20985067  cg08461772  cg25879118  \\\n",
       "0    0.784256    0.886425    0.080717    0.814912    0.331552    0.916387   \n",
       "\n",
       "   cg07510163  ch.13.693633F  \n",
       "0    0.841837       0.036872  \n",
       "\n",
       "[1 rows x 31218 columns]"
      ]
     },
     "execution_count": 12,
     "metadata": {},
     "output_type": "execute_result"
    }
   ],
   "source": [
    "%cd Z:\\PPMI_Data\\Excels\\NonMotors\\Derived250\\Male\\GeneCpG\\Fatigue\n",
    "data = pd.read_csv('FatigueCateg_Methylome_Male.csv')\n",
    "data.head(1)"
   ]
  },
  {
   "cell_type": "code",
   "execution_count": 13,
   "id": "54be4f1e",
   "metadata": {
    "ExecuteTime": {
     "end_time": "2023-02-20T12:28:30.513467Z",
     "start_time": "2023-02-20T12:28:30.394853Z"
    }
   },
   "outputs": [],
   "source": [
    "X = data.drop(['Unnamed: 0','Sentrix','PATNO','HYS','Gender','MDSP_Fatigue','APPRDX'], axis = 1)\n",
    "y = data['APPRDX']\n",
    "X_train, X_test, y_train, y_test = train_test_split(X, y, test_size = .2, random_state = 1) "
   ]
  },
  {
   "cell_type": "code",
   "execution_count": 14,
   "id": "ac27673c",
   "metadata": {
    "ExecuteTime": {
     "end_time": "2023-02-20T12:28:32.222888Z",
     "start_time": "2023-02-20T12:28:30.515489Z"
    }
   },
   "outputs": [
    {
     "data": {
      "text/plain": [
       "RandomForestClassifier(random_state=1)"
      ]
     },
     "execution_count": 14,
     "metadata": {},
     "output_type": "execute_result"
    }
   ],
   "source": [
    "rf_all_features = RandomForestClassifier(random_state=1)\n",
    "rf_all_features.fit(X_train, y_train)"
   ]
  },
  {
   "cell_type": "code",
   "execution_count": 15,
   "id": "e1c43aa0",
   "metadata": {
    "ExecuteTime": {
     "end_time": "2023-02-20T12:28:32.426066Z",
     "start_time": "2023-02-20T12:28:32.224911Z"
    }
   },
   "outputs": [
    {
     "data": {
      "text/plain": [
       "0.7419354838709677"
      ]
     },
     "execution_count": 15,
     "metadata": {},
     "output_type": "execute_result"
    }
   ],
   "source": [
    "accuracy_score(y_test, rf_all_features.predict(X_test))"
   ]
  },
  {
   "cell_type": "code",
   "execution_count": 16,
   "id": "9a5680b4",
   "metadata": {
    "ExecuteTime": {
     "end_time": "2023-02-20T12:35:53.170317Z",
     "start_time": "2023-02-20T12:28:32.426066Z"
    }
   },
   "outputs": [
    {
     "name": "stdout",
     "output_type": "stream",
     "text": [
      "Iteration: 1 / 100\n",
      "Iteration: 2 / 100\n",
      "Iteration: 3 / 100\n",
      "Iteration: 4 / 100\n",
      "Iteration: 5 / 100\n",
      "Iteration: 6 / 100\n",
      "Iteration: 7 / 100\n",
      "Iteration: 8 / 100\n",
      "\n",
      "\n",
      "BorutaPy finished running.\n",
      "\n",
      "Iteration: \t9 / 100\n",
      "Confirmed: \t0\n",
      "Tentative: \t0\n",
      "Rejected: \t31211\n"
     ]
    },
    {
     "data": {
      "text/plain": [
       "BorutaPy(estimator=RandomForestClassifier(n_estimators=2498,\n",
       "                                          random_state=RandomState(MT19937) at 0x225A3A96340),\n",
       "         n_estimators='auto',\n",
       "         random_state=RandomState(MT19937) at 0x225A3A96340, verbose=1)"
      ]
     },
     "execution_count": 16,
     "metadata": {},
     "output_type": "execute_result"
    }
   ],
   "source": [
    "rfc = RandomForestClassifier(random_state=1)\n",
    "boruta_selector = BorutaPy(rfc, n_estimators= 'auto', verbose=1, random_state=2)\n",
    "boruta_selector.fit(np.array(X_train), np.array(y_train))  "
   ]
  },
  {
   "cell_type": "code",
   "execution_count": 17,
   "id": "8bbc4a3c",
   "metadata": {
    "ExecuteTime": {
     "end_time": "2023-02-20T12:35:53.190439Z",
     "start_time": "2023-02-20T12:35:53.172336Z"
    }
   },
   "outputs": [
    {
     "name": "stdout",
     "output_type": "stream",
     "text": [
      "No. of significant features:  0\n"
     ]
    }
   ],
   "source": [
    "# print(\"Ranking: \",boruta_selector.ranking_)          \n",
    "print(\"No. of significant features: \", boruta_selector.n_features_)"
   ]
  },
  {
   "cell_type": "code",
   "execution_count": 18,
   "id": "d8d7751f",
   "metadata": {
    "ExecuteTime": {
     "end_time": "2023-02-20T12:35:53.270911Z",
     "start_time": "2023-02-20T12:35:53.192476Z"
    }
   },
   "outputs": [],
   "source": [
    "selected_rf_features = pd.DataFrame({'CpG':list(X_train.columns),\n",
    "                                       'Ranking':boruta_selector.ranking_})\n",
    "selected_rf_features = selected_rf_features.sort_values(by='Ranking')"
   ]
  },
  {
   "cell_type": "code",
   "execution_count": 19,
   "id": "f5ece973",
   "metadata": {
    "ExecuteTime": {
     "end_time": "2023-02-20T12:35:53.391657Z",
     "start_time": "2023-02-20T12:35:53.272932Z"
    }
   },
   "outputs": [
    {
     "data": {
      "text/html": [
       "<div>\n",
       "<style scoped>\n",
       "    .dataframe tbody tr th:only-of-type {\n",
       "        vertical-align: middle;\n",
       "    }\n",
       "\n",
       "    .dataframe tbody tr th {\n",
       "        vertical-align: top;\n",
       "    }\n",
       "\n",
       "    .dataframe thead th {\n",
       "        text-align: right;\n",
       "    }\n",
       "</style>\n",
       "<table border=\"1\" class=\"dataframe\">\n",
       "  <thead>\n",
       "    <tr style=\"text-align: right;\">\n",
       "      <th></th>\n",
       "      <th>CpG</th>\n",
       "      <th>Ranking</th>\n",
       "    </tr>\n",
       "  </thead>\n",
       "  <tbody>\n",
       "    <tr>\n",
       "      <th>3858</th>\n",
       "      <td>cg18473117</td>\n",
       "      <td>2</td>\n",
       "    </tr>\n",
       "    <tr>\n",
       "      <th>3121</th>\n",
       "      <td>cg06129513</td>\n",
       "      <td>3</td>\n",
       "    </tr>\n",
       "    <tr>\n",
       "      <th>27671</th>\n",
       "      <td>cg15171154</td>\n",
       "      <td>4</td>\n",
       "    </tr>\n",
       "  </tbody>\n",
       "</table>\n",
       "</div>"
      ],
      "text/plain": [
       "              CpG  Ranking\n",
       "3858   cg18473117        2\n",
       "3121   cg06129513        3\n",
       "27671  cg15171154        4"
      ]
     },
     "execution_count": 19,
     "metadata": {},
     "output_type": "execute_result"
    }
   ],
   "source": [
    "Top50 = selected_rf_features.iloc[:51, :]\n",
    "Top50.head(3)"
   ]
  },
  {
   "cell_type": "code",
   "execution_count": 20,
   "id": "ab906c46",
   "metadata": {
    "ExecuteTime": {
     "end_time": "2023-02-20T12:35:53.592897Z",
     "start_time": "2023-02-20T12:35:53.393681Z"
    }
   },
   "outputs": [],
   "source": [
    "Top50.to_csv ('Fatigue_BorutaMale_Top50.csv', index = False)\n",
    "selected_rf_features.to_csv ('Fatigue_BorutaMale_All.csv', index = False)"
   ]
  },
  {
   "cell_type": "code",
   "execution_count": 21,
   "id": "6fb21eaa",
   "metadata": {
    "ExecuteTime": {
     "end_time": "2023-02-20T12:35:53.653293Z",
     "start_time": "2023-02-20T12:35:53.594918Z"
    }
   },
   "outputs": [
    {
     "name": "stderr",
     "output_type": "stream",
     "text": [
      "C:\\Users\\system 4\\AppData\\Local\\Temp\\ipykernel_6676\\4113585263.py:6: SettingWithCopyWarning: \n",
      "A value is trying to be set on a copy of a slice from a DataFrame.\n",
      "Try using .loc[row_indexer,col_indexer] = value instead\n",
      "\n",
      "See the caveats in the documentation: https://pandas.pydata.org/pandas-docs/stable/user_guide/indexing.html#returning-a-view-versus-a-copy\n",
      "  df_subset['APPRDX'] = data['APPRDX']\n"
     ]
    },
    {
     "data": {
      "text/html": [
       "<div>\n",
       "<style scoped>\n",
       "    .dataframe tbody tr th:only-of-type {\n",
       "        vertical-align: middle;\n",
       "    }\n",
       "\n",
       "    .dataframe tbody tr th {\n",
       "        vertical-align: top;\n",
       "    }\n",
       "\n",
       "    .dataframe thead th {\n",
       "        text-align: right;\n",
       "    }\n",
       "</style>\n",
       "<table border=\"1\" class=\"dataframe\">\n",
       "  <thead>\n",
       "    <tr style=\"text-align: right;\">\n",
       "      <th></th>\n",
       "      <th>cg14025220</th>\n",
       "      <th>cg06129513</th>\n",
       "      <th>cg03433260</th>\n",
       "      <th>cg19226007</th>\n",
       "      <th>cg18473117</th>\n",
       "      <th>cg23225637</th>\n",
       "      <th>cg14999396</th>\n",
       "      <th>cg17422176</th>\n",
       "      <th>cg00057317</th>\n",
       "      <th>cg01304065</th>\n",
       "      <th>...</th>\n",
       "      <th>cg16494828</th>\n",
       "      <th>cg22887963</th>\n",
       "      <th>cg15171154</th>\n",
       "      <th>cg17001689</th>\n",
       "      <th>cg13468400</th>\n",
       "      <th>cg00226956</th>\n",
       "      <th>cg26442607</th>\n",
       "      <th>cg25278660</th>\n",
       "      <th>cg25101936</th>\n",
       "      <th>APPRDX</th>\n",
       "    </tr>\n",
       "  </thead>\n",
       "  <tbody>\n",
       "    <tr>\n",
       "      <th>0</th>\n",
       "      <td>0.899514</td>\n",
       "      <td>0.843875</td>\n",
       "      <td>0.038531</td>\n",
       "      <td>0.040020</td>\n",
       "      <td>0.938774</td>\n",
       "      <td>0.874061</td>\n",
       "      <td>0.901298</td>\n",
       "      <td>0.117596</td>\n",
       "      <td>0.025983</td>\n",
       "      <td>0.021666</td>\n",
       "      <td>...</td>\n",
       "      <td>0.012698</td>\n",
       "      <td>0.349673</td>\n",
       "      <td>0.906395</td>\n",
       "      <td>0.018032</td>\n",
       "      <td>0.812987</td>\n",
       "      <td>0.626620</td>\n",
       "      <td>0.874991</td>\n",
       "      <td>0.944035</td>\n",
       "      <td>0.560435</td>\n",
       "      <td>1</td>\n",
       "    </tr>\n",
       "    <tr>\n",
       "      <th>1</th>\n",
       "      <td>0.911433</td>\n",
       "      <td>0.920245</td>\n",
       "      <td>0.020036</td>\n",
       "      <td>0.017811</td>\n",
       "      <td>0.928175</td>\n",
       "      <td>0.937422</td>\n",
       "      <td>0.854497</td>\n",
       "      <td>0.147173</td>\n",
       "      <td>0.029269</td>\n",
       "      <td>0.040407</td>\n",
       "      <td>...</td>\n",
       "      <td>0.012574</td>\n",
       "      <td>0.492091</td>\n",
       "      <td>0.902180</td>\n",
       "      <td>0.011688</td>\n",
       "      <td>0.897971</td>\n",
       "      <td>0.646688</td>\n",
       "      <td>0.866949</td>\n",
       "      <td>0.917977</td>\n",
       "      <td>0.599352</td>\n",
       "      <td>1</td>\n",
       "    </tr>\n",
       "  </tbody>\n",
       "</table>\n",
       "<p>2 rows × 52 columns</p>\n",
       "</div>"
      ],
      "text/plain": [
       "   cg14025220  cg06129513  cg03433260  cg19226007  cg18473117  cg23225637  \\\n",
       "0    0.899514    0.843875    0.038531    0.040020    0.938774    0.874061   \n",
       "1    0.911433    0.920245    0.020036    0.017811    0.928175    0.937422   \n",
       "\n",
       "   cg14999396  cg17422176  cg00057317  cg01304065  ...  cg16494828  \\\n",
       "0    0.901298    0.117596    0.025983    0.021666  ...    0.012698   \n",
       "1    0.854497    0.147173    0.029269    0.040407  ...    0.012574   \n",
       "\n",
       "   cg22887963  cg15171154  cg17001689  cg13468400  cg00226956  cg26442607  \\\n",
       "0    0.349673    0.906395    0.018032    0.812987    0.626620    0.874991   \n",
       "1    0.492091    0.902180    0.011688    0.897971    0.646688    0.866949   \n",
       "\n",
       "   cg25278660  cg25101936  APPRDX  \n",
       "0    0.944035    0.560435       1  \n",
       "1    0.917977    0.599352       1  \n",
       "\n",
       "[2 rows x 52 columns]"
      ]
     },
     "execution_count": 21,
     "metadata": {},
     "output_type": "execute_result"
    }
   ],
   "source": [
    "# create a list of column names to subset from data\n",
    "col_names = Top50.iloc[:, 0].tolist()\n",
    "\n",
    "# subset df based on the column names\n",
    "df_subset = data.loc[:, data.columns.isin(col_names)]\n",
    "df_subset['APPRDX'] = data['APPRDX']\n",
    "df_subset.to_csv ('Fatigue_Boruta_Top50_Data_Male.csv', index = False)\n",
    "df_subset.head(2)"
   ]
  },
  {
   "cell_type": "markdown",
   "id": "ef5e64cd",
   "metadata": {},
   "source": [
    "# Depression"
   ]
  },
  {
   "cell_type": "code",
   "execution_count": 22,
   "id": "1b535e49",
   "metadata": {
    "ExecuteTime": {
     "end_time": "2023-02-20T12:36:57.758053Z",
     "start_time": "2023-02-20T12:35:53.655318Z"
    }
   },
   "outputs": [
    {
     "name": "stdout",
     "output_type": "stream",
     "text": [
      "Z:\\PPMI_Data\\Excels\\NonMotors\\Derived250\\Male\\GeneCpG\\Depression\n"
     ]
    },
    {
     "data": {
      "text/html": [
       "<div>\n",
       "<style scoped>\n",
       "    .dataframe tbody tr th:only-of-type {\n",
       "        vertical-align: middle;\n",
       "    }\n",
       "\n",
       "    .dataframe tbody tr th {\n",
       "        vertical-align: top;\n",
       "    }\n",
       "\n",
       "    .dataframe thead th {\n",
       "        text-align: right;\n",
       "    }\n",
       "</style>\n",
       "<table border=\"1\" class=\"dataframe\">\n",
       "  <thead>\n",
       "    <tr style=\"text-align: right;\">\n",
       "      <th></th>\n",
       "      <th>Unnamed: 0</th>\n",
       "      <th>Sentrix</th>\n",
       "      <th>PATNO</th>\n",
       "      <th>HYS</th>\n",
       "      <th>Gender</th>\n",
       "      <th>APPRDX</th>\n",
       "      <th>MDS_Depress</th>\n",
       "      <th>cg20815302</th>\n",
       "      <th>cg25795414</th>\n",
       "      <th>cg00959375</th>\n",
       "      <th>...</th>\n",
       "      <th>cg02293835</th>\n",
       "      <th>cg25106148</th>\n",
       "      <th>cg09135009</th>\n",
       "      <th>cg16616325</th>\n",
       "      <th>cg08020573</th>\n",
       "      <th>cg19102621</th>\n",
       "      <th>cg26302779</th>\n",
       "      <th>cg10377074</th>\n",
       "      <th>cg06750710</th>\n",
       "      <th>ch.14.849914F</th>\n",
       "    </tr>\n",
       "  </thead>\n",
       "  <tbody>\n",
       "    <tr>\n",
       "      <th>0</th>\n",
       "      <td>0</td>\n",
       "      <td>200991620021_R01C01</td>\n",
       "      <td>3001</td>\n",
       "      <td>2</td>\n",
       "      <td>1</td>\n",
       "      <td>1</td>\n",
       "      <td>0</td>\n",
       "      <td>0.907957</td>\n",
       "      <td>0.86891</td>\n",
       "      <td>0.752844</td>\n",
       "      <td>...</td>\n",
       "      <td>0.890264</td>\n",
       "      <td>0.096523</td>\n",
       "      <td>0.088376</td>\n",
       "      <td>0.035056</td>\n",
       "      <td>0.040317</td>\n",
       "      <td>0.620467</td>\n",
       "      <td>0.917245</td>\n",
       "      <td>0.87378</td>\n",
       "      <td>0.809904</td>\n",
       "      <td>0.045885</td>\n",
       "    </tr>\n",
       "  </tbody>\n",
       "</table>\n",
       "<p>1 rows × 106982 columns</p>\n",
       "</div>"
      ],
      "text/plain": [
       "   Unnamed: 0              Sentrix  PATNO  HYS  Gender  APPRDX  MDS_Depress  \\\n",
       "0           0  200991620021_R01C01   3001    2       1       1            0   \n",
       "\n",
       "   cg20815302  cg25795414  cg00959375  ...  cg02293835  cg25106148  \\\n",
       "0    0.907957     0.86891    0.752844  ...    0.890264    0.096523   \n",
       "\n",
       "   cg09135009  cg16616325  cg08020573  cg19102621  cg26302779  cg10377074  \\\n",
       "0    0.088376    0.035056    0.040317    0.620467    0.917245     0.87378   \n",
       "\n",
       "   cg06750710  ch.14.849914F  \n",
       "0    0.809904       0.045885  \n",
       "\n",
       "[1 rows x 106982 columns]"
      ]
     },
     "execution_count": 22,
     "metadata": {},
     "output_type": "execute_result"
    }
   ],
   "source": [
    "%cd Z:\\PPMI_Data\\Excels\\NonMotors\\Derived250\\Male\\GeneCpG\\Depression\n",
    "data = pd.read_csv('DepressionCateg_Methylome_Male.csv')\n",
    "data.head(1)"
   ]
  },
  {
   "cell_type": "code",
   "execution_count": 23,
   "id": "c2274b1a",
   "metadata": {
    "ExecuteTime": {
     "end_time": "2023-02-20T12:36:58.140187Z",
     "start_time": "2023-02-20T12:36:57.770127Z"
    }
   },
   "outputs": [],
   "source": [
    "X = data.drop(['Unnamed: 0','Sentrix','PATNO','HYS','Gender','MDS_Depress','APPRDX'], axis = 1)\n",
    "y = data['APPRDX']\n",
    "X_train, X_test, y_train, y_test = train_test_split(X, y, test_size = .2, random_state = 1) "
   ]
  },
  {
   "cell_type": "code",
   "execution_count": 24,
   "id": "4ab54cad",
   "metadata": {
    "ExecuteTime": {
     "end_time": "2023-02-20T12:37:01.456351Z",
     "start_time": "2023-02-20T12:36:58.142219Z"
    }
   },
   "outputs": [
    {
     "data": {
      "text/plain": [
       "RandomForestClassifier(random_state=1)"
      ]
     },
     "execution_count": 24,
     "metadata": {},
     "output_type": "execute_result"
    }
   ],
   "source": [
    "rf_all_features = RandomForestClassifier(random_state=1)\n",
    "rf_all_features.fit(X_train, y_train)"
   ]
  },
  {
   "cell_type": "code",
   "execution_count": 25,
   "id": "d994edc5",
   "metadata": {
    "ExecuteTime": {
     "end_time": "2023-02-20T12:37:02.079436Z",
     "start_time": "2023-02-20T12:37:01.458373Z"
    }
   },
   "outputs": [
    {
     "data": {
      "text/plain": [
       "0.7096774193548387"
      ]
     },
     "execution_count": 25,
     "metadata": {},
     "output_type": "execute_result"
    }
   ],
   "source": [
    "accuracy_score(y_test, rf_all_features.predict(X_test))"
   ]
  },
  {
   "cell_type": "code",
   "execution_count": 26,
   "id": "1787b4a9",
   "metadata": {
    "ExecuteTime": {
     "end_time": "2023-02-20T13:02:28.427542Z",
     "start_time": "2023-02-20T12:37:02.081455Z"
    },
    "scrolled": true
   },
   "outputs": [
    {
     "name": "stdout",
     "output_type": "stream",
     "text": [
      "Iteration: 1 / 100\n",
      "Iteration: 2 / 100\n",
      "Iteration: 3 / 100\n",
      "Iteration: 4 / 100\n",
      "Iteration: 5 / 100\n",
      "Iteration: 6 / 100\n",
      "Iteration: 7 / 100\n",
      "Iteration: 8 / 100\n",
      "Iteration: 9 / 100\n",
      "Iteration: 10 / 100\n",
      "Iteration: 11 / 100\n",
      "Iteration: 12 / 100\n",
      "Iteration: 13 / 100\n",
      "Iteration: 14 / 100\n",
      "Iteration: 15 / 100\n",
      "Iteration: 16 / 100\n",
      "Iteration: 17 / 100\n",
      "Iteration: 18 / 100\n",
      "Iteration: 19 / 100\n",
      "Iteration: 20 / 100\n",
      "Iteration: 21 / 100\n",
      "Iteration: 22 / 100\n",
      "Iteration: 23 / 100\n",
      "Iteration: 24 / 100\n",
      "Iteration: 25 / 100\n",
      "Iteration: 26 / 100\n",
      "Iteration: 27 / 100\n",
      "Iteration: 28 / 100\n",
      "Iteration: 29 / 100\n",
      "Iteration: 30 / 100\n",
      "Iteration: 31 / 100\n",
      "Iteration: 32 / 100\n",
      "Iteration: 33 / 100\n",
      "Iteration: 34 / 100\n",
      "Iteration: 35 / 100\n",
      "Iteration: 36 / 100\n",
      "Iteration: 37 / 100\n",
      "Iteration: 38 / 100\n",
      "Iteration: 39 / 100\n",
      "Iteration: 40 / 100\n",
      "Iteration: 41 / 100\n",
      "Iteration: 42 / 100\n",
      "Iteration: 43 / 100\n",
      "\n",
      "\n",
      "BorutaPy finished running.\n",
      "\n",
      "Iteration: \t44 / 100\n",
      "Confirmed: \t3\n",
      "Tentative: \t0\n",
      "Rejected: \t106972\n"
     ]
    },
    {
     "data": {
      "text/plain": [
       "BorutaPy(estimator=RandomForestClassifier(n_estimators=24,\n",
       "                                          random_state=RandomState(MT19937) at 0x225A3A96B40),\n",
       "         n_estimators='auto',\n",
       "         random_state=RandomState(MT19937) at 0x225A3A96B40, verbose=1)"
      ]
     },
     "execution_count": 26,
     "metadata": {},
     "output_type": "execute_result"
    }
   ],
   "source": [
    "rfc = RandomForestClassifier(random_state=1)\n",
    "boruta_selector = BorutaPy(rfc, n_estimators= 'auto', verbose=1, random_state=1)\n",
    "boruta_selector.fit(np.array(X_train), np.array(y_train)) "
   ]
  },
  {
   "cell_type": "code",
   "execution_count": 27,
   "id": "326c2477",
   "metadata": {
    "ExecuteTime": {
     "end_time": "2023-02-20T13:02:29.014146Z",
     "start_time": "2023-02-20T13:02:28.797816Z"
    }
   },
   "outputs": [
    {
     "name": "stdout",
     "output_type": "stream",
     "text": [
      "No. of significant features:  3\n"
     ]
    }
   ],
   "source": [
    "# print(\"Ranking: \",boruta_selector.ranking_)          \n",
    "print(\"No. of significant features: \", boruta_selector.n_features_)"
   ]
  },
  {
   "cell_type": "code",
   "execution_count": 28,
   "id": "5878493b",
   "metadata": {
    "ExecuteTime": {
     "end_time": "2023-02-20T13:02:30.048873Z",
     "start_time": "2023-02-20T13:02:29.014146Z"
    }
   },
   "outputs": [],
   "source": [
    "selected_rf_features = pd.DataFrame({'CpG':list(X_train.columns),\n",
    "                                       'Ranking':boruta_selector.ranking_})\n",
    "selected_rf_features = selected_rf_features.sort_values(by='Ranking')"
   ]
  },
  {
   "cell_type": "code",
   "execution_count": 29,
   "id": "43f98287",
   "metadata": {
    "ExecuteTime": {
     "end_time": "2023-02-20T13:02:30.180452Z",
     "start_time": "2023-02-20T13:02:30.048873Z"
    }
   },
   "outputs": [
    {
     "data": {
      "text/html": [
       "<div>\n",
       "<style scoped>\n",
       "    .dataframe tbody tr th:only-of-type {\n",
       "        vertical-align: middle;\n",
       "    }\n",
       "\n",
       "    .dataframe tbody tr th {\n",
       "        vertical-align: top;\n",
       "    }\n",
       "\n",
       "    .dataframe thead th {\n",
       "        text-align: right;\n",
       "    }\n",
       "</style>\n",
       "<table border=\"1\" class=\"dataframe\">\n",
       "  <thead>\n",
       "    <tr style=\"text-align: right;\">\n",
       "      <th></th>\n",
       "      <th>CpG</th>\n",
       "      <th>Ranking</th>\n",
       "    </tr>\n",
       "  </thead>\n",
       "  <tbody>\n",
       "    <tr>\n",
       "      <th>11884</th>\n",
       "      <td>cg23149728</td>\n",
       "      <td>1</td>\n",
       "    </tr>\n",
       "    <tr>\n",
       "      <th>8777</th>\n",
       "      <td>cg18174834</td>\n",
       "      <td>1</td>\n",
       "    </tr>\n",
       "    <tr>\n",
       "      <th>25500</th>\n",
       "      <td>cg04415610</td>\n",
       "      <td>1</td>\n",
       "    </tr>\n",
       "  </tbody>\n",
       "</table>\n",
       "</div>"
      ],
      "text/plain": [
       "              CpG  Ranking\n",
       "11884  cg23149728        1\n",
       "8777   cg18174834        1\n",
       "25500  cg04415610        1"
      ]
     },
     "execution_count": 29,
     "metadata": {},
     "output_type": "execute_result"
    }
   ],
   "source": [
    "Top50 = selected_rf_features.iloc[:51, :]\n",
    "Top50.head(3)"
   ]
  },
  {
   "cell_type": "code",
   "execution_count": 30,
   "id": "f2f87c04",
   "metadata": {
    "ExecuteTime": {
     "end_time": "2023-02-20T13:02:30.581361Z",
     "start_time": "2023-02-20T13:02:30.180452Z"
    }
   },
   "outputs": [],
   "source": [
    "Top50.to_csv ('Depression_BorutaMale_Top50.csv', index = False)\n",
    "selected_rf_features.to_csv ('Depression_BorutaMale_All.csv', index = False)"
   ]
  },
  {
   "cell_type": "code",
   "execution_count": 31,
   "id": "f6c7f7de",
   "metadata": {
    "ExecuteTime": {
     "end_time": "2023-02-20T13:02:31.252627Z",
     "start_time": "2023-02-20T13:02:30.581361Z"
    }
   },
   "outputs": [
    {
     "name": "stderr",
     "output_type": "stream",
     "text": [
      "C:\\Users\\system 4\\AppData\\Local\\Temp\\ipykernel_6676\\2554772119.py:6: SettingWithCopyWarning: \n",
      "A value is trying to be set on a copy of a slice from a DataFrame.\n",
      "Try using .loc[row_indexer,col_indexer] = value instead\n",
      "\n",
      "See the caveats in the documentation: https://pandas.pydata.org/pandas-docs/stable/user_guide/indexing.html#returning-a-view-versus-a-copy\n",
      "  df_subset['APPRDX'] = data['APPRDX']\n"
     ]
    },
    {
     "data": {
      "text/html": [
       "<div>\n",
       "<style scoped>\n",
       "    .dataframe tbody tr th:only-of-type {\n",
       "        vertical-align: middle;\n",
       "    }\n",
       "\n",
       "    .dataframe tbody tr th {\n",
       "        vertical-align: top;\n",
       "    }\n",
       "\n",
       "    .dataframe thead th {\n",
       "        text-align: right;\n",
       "    }\n",
       "</style>\n",
       "<table border=\"1\" class=\"dataframe\">\n",
       "  <thead>\n",
       "    <tr style=\"text-align: right;\">\n",
       "      <th></th>\n",
       "      <th>cg03389720</th>\n",
       "      <th>cg02471954</th>\n",
       "      <th>cg23297661</th>\n",
       "      <th>cg15313666</th>\n",
       "      <th>cg22870386</th>\n",
       "      <th>cg18174834</th>\n",
       "      <th>cg06129513</th>\n",
       "      <th>cg23149728</th>\n",
       "      <th>cg07456278</th>\n",
       "      <th>cg05817202</th>\n",
       "      <th>...</th>\n",
       "      <th>cg12220605</th>\n",
       "      <th>cg27316956</th>\n",
       "      <th>cg16293892</th>\n",
       "      <th>cg13468400</th>\n",
       "      <th>cg11374446</th>\n",
       "      <th>cg06284898</th>\n",
       "      <th>cg11485463</th>\n",
       "      <th>cg21915910</th>\n",
       "      <th>cg21915910.1</th>\n",
       "      <th>APPRDX</th>\n",
       "    </tr>\n",
       "  </thead>\n",
       "  <tbody>\n",
       "    <tr>\n",
       "      <th>0</th>\n",
       "      <td>0.764712</td>\n",
       "      <td>0.853669</td>\n",
       "      <td>0.806845</td>\n",
       "      <td>0.907550</td>\n",
       "      <td>0.828698</td>\n",
       "      <td>0.040499</td>\n",
       "      <td>0.843875</td>\n",
       "      <td>0.708239</td>\n",
       "      <td>0.582067</td>\n",
       "      <td>0.823899</td>\n",
       "      <td>...</td>\n",
       "      <td>0.082447</td>\n",
       "      <td>0.378469</td>\n",
       "      <td>0.595614</td>\n",
       "      <td>0.812987</td>\n",
       "      <td>0.884892</td>\n",
       "      <td>0.816919</td>\n",
       "      <td>0.011261</td>\n",
       "      <td>0.796023</td>\n",
       "      <td>0.796023</td>\n",
       "      <td>1</td>\n",
       "    </tr>\n",
       "    <tr>\n",
       "      <th>1</th>\n",
       "      <td>0.820463</td>\n",
       "      <td>0.918805</td>\n",
       "      <td>0.903101</td>\n",
       "      <td>0.927117</td>\n",
       "      <td>0.888004</td>\n",
       "      <td>0.034218</td>\n",
       "      <td>0.920245</td>\n",
       "      <td>0.789988</td>\n",
       "      <td>0.667340</td>\n",
       "      <td>0.849287</td>\n",
       "      <td>...</td>\n",
       "      <td>0.113486</td>\n",
       "      <td>0.327984</td>\n",
       "      <td>0.558226</td>\n",
       "      <td>0.897971</td>\n",
       "      <td>0.859572</td>\n",
       "      <td>0.855105</td>\n",
       "      <td>0.013494</td>\n",
       "      <td>0.851971</td>\n",
       "      <td>0.851971</td>\n",
       "      <td>1</td>\n",
       "    </tr>\n",
       "  </tbody>\n",
       "</table>\n",
       "<p>2 rows × 52 columns</p>\n",
       "</div>"
      ],
      "text/plain": [
       "   cg03389720  cg02471954  cg23297661  cg15313666  cg22870386  cg18174834  \\\n",
       "0    0.764712    0.853669    0.806845    0.907550    0.828698    0.040499   \n",
       "1    0.820463    0.918805    0.903101    0.927117    0.888004    0.034218   \n",
       "\n",
       "   cg06129513  cg23149728  cg07456278  cg05817202  ...  cg12220605  \\\n",
       "0    0.843875    0.708239    0.582067    0.823899  ...    0.082447   \n",
       "1    0.920245    0.789988    0.667340    0.849287  ...    0.113486   \n",
       "\n",
       "   cg27316956  cg16293892  cg13468400  cg11374446  cg06284898  cg11485463  \\\n",
       "0    0.378469    0.595614    0.812987    0.884892    0.816919    0.011261   \n",
       "1    0.327984    0.558226    0.897971    0.859572    0.855105    0.013494   \n",
       "\n",
       "   cg21915910  cg21915910.1  APPRDX  \n",
       "0    0.796023      0.796023       1  \n",
       "1    0.851971      0.851971       1  \n",
       "\n",
       "[2 rows x 52 columns]"
      ]
     },
     "execution_count": 31,
     "metadata": {},
     "output_type": "execute_result"
    }
   ],
   "source": [
    "# create a list of column names to subset from data\n",
    "col_names = Top50.iloc[:, 0].tolist()\n",
    "\n",
    "# subset df based on the column names\n",
    "df_subset = data.loc[:, data.columns.isin(col_names)]\n",
    "df_subset['APPRDX'] = data['APPRDX']\n",
    "df_subset.to_csv ('Depression_Boruta_Top50_Data_Male.csv', index = False)\n",
    "df_subset.head(2)"
   ]
  },
  {
   "cell_type": "markdown",
   "id": "960a238d",
   "metadata": {},
   "source": [
    "# Symbol Digit"
   ]
  },
  {
   "cell_type": "code",
   "execution_count": 32,
   "id": "92b541f5",
   "metadata": {
    "ExecuteTime": {
     "end_time": "2023-02-20T13:05:52.057076Z",
     "start_time": "2023-02-20T13:02:31.252627Z"
    }
   },
   "outputs": [
    {
     "name": "stdout",
     "output_type": "stream",
     "text": [
      "Z:\\PPMI_Data\\Excels\\NonMotors\\Derived250\\Male\\GeneCpG\\SymbDigi\n"
     ]
    },
    {
     "data": {
      "text/html": [
       "<div>\n",
       "<style scoped>\n",
       "    .dataframe tbody tr th:only-of-type {\n",
       "        vertical-align: middle;\n",
       "    }\n",
       "\n",
       "    .dataframe tbody tr th {\n",
       "        vertical-align: top;\n",
       "    }\n",
       "\n",
       "    .dataframe thead th {\n",
       "        text-align: right;\n",
       "    }\n",
       "</style>\n",
       "<table border=\"1\" class=\"dataframe\">\n",
       "  <thead>\n",
       "    <tr style=\"text-align: right;\">\n",
       "      <th></th>\n",
       "      <th>Unnamed: 0</th>\n",
       "      <th>Sentrix</th>\n",
       "      <th>PATNO</th>\n",
       "      <th>HYS</th>\n",
       "      <th>Gender</th>\n",
       "      <th>APPRDX</th>\n",
       "      <th>Symbol_Digit</th>\n",
       "      <th>cg20815302</th>\n",
       "      <th>cg25795414</th>\n",
       "      <th>cg00959375</th>\n",
       "      <th>...</th>\n",
       "      <th>cg03814399</th>\n",
       "      <th>cg14792798</th>\n",
       "      <th>cg16910097</th>\n",
       "      <th>cg08750857</th>\n",
       "      <th>cg17933893</th>\n",
       "      <th>cg06917935</th>\n",
       "      <th>cg02794319</th>\n",
       "      <th>cg10702286</th>\n",
       "      <th>cg10353174</th>\n",
       "      <th>cg19590050</th>\n",
       "    </tr>\n",
       "  </thead>\n",
       "  <tbody>\n",
       "    <tr>\n",
       "      <th>0</th>\n",
       "      <td>0</td>\n",
       "      <td>200991620021_R01C01</td>\n",
       "      <td>3001</td>\n",
       "      <td>2</td>\n",
       "      <td>1</td>\n",
       "      <td>1</td>\n",
       "      <td>1</td>\n",
       "      <td>0.907957</td>\n",
       "      <td>0.86891</td>\n",
       "      <td>0.752844</td>\n",
       "      <td>...</td>\n",
       "      <td>0.880496</td>\n",
       "      <td>0.928546</td>\n",
       "      <td>0.900567</td>\n",
       "      <td>0.8778</td>\n",
       "      <td>0.836823</td>\n",
       "      <td>0.216268</td>\n",
       "      <td>0.23435</td>\n",
       "      <td>0.68155</td>\n",
       "      <td>0.103758</td>\n",
       "      <td>0.83789</td>\n",
       "    </tr>\n",
       "  </tbody>\n",
       "</table>\n",
       "<p>1 rows × 192589 columns</p>\n",
       "</div>"
      ],
      "text/plain": [
       "   Unnamed: 0              Sentrix  PATNO  HYS  Gender  APPRDX  Symbol_Digit  \\\n",
       "0           0  200991620021_R01C01   3001    2       1       1             1   \n",
       "\n",
       "   cg20815302  cg25795414  cg00959375  ...  cg03814399  cg14792798  \\\n",
       "0    0.907957     0.86891    0.752844  ...    0.880496    0.928546   \n",
       "\n",
       "   cg16910097  cg08750857  cg17933893  cg06917935  cg02794319  cg10702286  \\\n",
       "0    0.900567      0.8778    0.836823    0.216268     0.23435     0.68155   \n",
       "\n",
       "   cg10353174  cg19590050  \n",
       "0    0.103758     0.83789  \n",
       "\n",
       "[1 rows x 192589 columns]"
      ]
     },
     "execution_count": 32,
     "metadata": {},
     "output_type": "execute_result"
    }
   ],
   "source": [
    "%cd Z:\\PPMI_Data\\Excels\\NonMotors\\Derived250\\Male\\GeneCpG\\SymbDigi\n",
    "data = pd.read_csv('SymbDigiCateg_Methylome_Male.csv')\n",
    "data.head(1)"
   ]
  },
  {
   "cell_type": "code",
   "execution_count": 33,
   "id": "84c78fe3",
   "metadata": {
    "ExecuteTime": {
     "end_time": "2023-02-20T13:05:52.589698Z",
     "start_time": "2023-02-20T13:05:52.057076Z"
    }
   },
   "outputs": [],
   "source": [
    "X = data.drop(['Unnamed: 0','Sentrix','PATNO','HYS','Gender','Symbol_Digit','APPRDX'], axis = 1)\n",
    "y = data['APPRDX']\n",
    "X_train, X_test, y_train, y_test = train_test_split(X, y, test_size = .2, random_state = 1) "
   ]
  },
  {
   "cell_type": "code",
   "execution_count": 34,
   "id": "f8a56c63",
   "metadata": {
    "ExecuteTime": {
     "end_time": "2023-02-20T13:05:57.158380Z",
     "start_time": "2023-02-20T13:05:52.589698Z"
    }
   },
   "outputs": [
    {
     "data": {
      "text/plain": [
       "RandomForestClassifier(random_state=1)"
      ]
     },
     "execution_count": 34,
     "metadata": {},
     "output_type": "execute_result"
    }
   ],
   "source": [
    "rf_all_features = RandomForestClassifier(random_state=1)\n",
    "rf_all_features.fit(X_train, y_train)"
   ]
  },
  {
   "cell_type": "code",
   "execution_count": 35,
   "id": "4f286f59",
   "metadata": {
    "ExecuteTime": {
     "end_time": "2023-02-20T13:05:58.143965Z",
     "start_time": "2023-02-20T13:05:57.158380Z"
    }
   },
   "outputs": [
    {
     "data": {
      "text/plain": [
       "0.7096774193548387"
      ]
     },
     "execution_count": 35,
     "metadata": {},
     "output_type": "execute_result"
    }
   ],
   "source": [
    "accuracy_score(y_test, rf_all_features.predict(X_test))"
   ]
  },
  {
   "cell_type": "code",
   "execution_count": 37,
   "id": "8f630b04",
   "metadata": {
    "ExecuteTime": {
     "end_time": "2023-02-21T03:29:26.106626Z",
     "start_time": "2023-02-21T02:29:06.331573Z"
    }
   },
   "outputs": [
    {
     "name": "stdout",
     "output_type": "stream",
     "text": [
      "Iteration: 1 / 100\n",
      "Iteration: 2 / 100\n",
      "Iteration: 3 / 100\n",
      "Iteration: 4 / 100\n",
      "Iteration: 5 / 100\n",
      "Iteration: 6 / 100\n",
      "Iteration: 7 / 100\n",
      "Iteration: 8 / 100\n",
      "\n",
      "\n",
      "BorutaPy finished running.\n",
      "\n",
      "Iteration: \t9 / 100\n",
      "Confirmed: \t0\n",
      "Tentative: \t0\n",
      "Rejected: \t192582\n"
     ]
    },
    {
     "data": {
      "text/plain": [
       "BorutaPy(estimator=RandomForestClassifier(n_estimators=6206,\n",
       "                                          random_state=RandomState(MT19937) at 0x22507ABAA40),\n",
       "         n_estimators='auto',\n",
       "         random_state=RandomState(MT19937) at 0x22507ABAA40, verbose=1)"
      ]
     },
     "execution_count": 37,
     "metadata": {},
     "output_type": "execute_result"
    }
   ],
   "source": [
    "rfc = RandomForestClassifier(random_state=1)\n",
    "boruta_selector = BorutaPy(rfc, n_estimators= 'auto', verbose=1, random_state=2)\n",
    "boruta_selector.fit(np.array(X_train), np.array(y_train))  "
   ]
  },
  {
   "cell_type": "code",
   "execution_count": 38,
   "id": "4d733883",
   "metadata": {
    "ExecuteTime": {
     "end_time": "2023-02-21T03:56:38.585834Z",
     "start_time": "2023-02-21T03:56:38.507737Z"
    }
   },
   "outputs": [
    {
     "name": "stdout",
     "output_type": "stream",
     "text": [
      "No. of significant features:  0\n"
     ]
    }
   ],
   "source": [
    "# print(\"Ranking: \",boruta_selector.ranking_)          \n",
    "print(\"No. of significant features: \", boruta_selector.n_features_)"
   ]
  },
  {
   "cell_type": "code",
   "execution_count": 39,
   "id": "15ceaea1",
   "metadata": {
    "ExecuteTime": {
     "end_time": "2023-02-21T03:57:02.203426Z",
     "start_time": "2023-02-21T03:57:02.068077Z"
    }
   },
   "outputs": [],
   "source": [
    "selected_rf_features = pd.DataFrame({'CpG':list(X_train.columns),\n",
    "                                       'Ranking':boruta_selector.ranking_})\n",
    "selected_rf_features = selected_rf_features.sort_values(by='Ranking')"
   ]
  },
  {
   "cell_type": "code",
   "execution_count": 40,
   "id": "fc2dc3be",
   "metadata": {
    "ExecuteTime": {
     "end_time": "2023-02-21T03:57:21.435250Z",
     "start_time": "2023-02-21T03:57:21.417187Z"
    }
   },
   "outputs": [
    {
     "data": {
      "text/html": [
       "<div>\n",
       "<style scoped>\n",
       "    .dataframe tbody tr th:only-of-type {\n",
       "        vertical-align: middle;\n",
       "    }\n",
       "\n",
       "    .dataframe tbody tr th {\n",
       "        vertical-align: top;\n",
       "    }\n",
       "\n",
       "    .dataframe thead th {\n",
       "        text-align: right;\n",
       "    }\n",
       "</style>\n",
       "<table border=\"1\" class=\"dataframe\">\n",
       "  <thead>\n",
       "    <tr style=\"text-align: right;\">\n",
       "      <th></th>\n",
       "      <th>CpG</th>\n",
       "      <th>Ranking</th>\n",
       "    </tr>\n",
       "  </thead>\n",
       "  <tbody>\n",
       "    <tr>\n",
       "      <th>15059</th>\n",
       "      <td>cg18174834</td>\n",
       "      <td>2</td>\n",
       "    </tr>\n",
       "    <tr>\n",
       "      <th>23497</th>\n",
       "      <td>cg05817202</td>\n",
       "      <td>3</td>\n",
       "    </tr>\n",
       "    <tr>\n",
       "      <th>187084</th>\n",
       "      <td>cg15419852</td>\n",
       "      <td>4</td>\n",
       "    </tr>\n",
       "  </tbody>\n",
       "</table>\n",
       "</div>"
      ],
      "text/plain": [
       "               CpG  Ranking\n",
       "15059   cg18174834        2\n",
       "23497   cg05817202        3\n",
       "187084  cg15419852        4"
      ]
     },
     "execution_count": 40,
     "metadata": {},
     "output_type": "execute_result"
    }
   ],
   "source": [
    "Top50 = selected_rf_features.iloc[:51, :]\n",
    "Top50.head(3)"
   ]
  },
  {
   "cell_type": "code",
   "execution_count": 41,
   "id": "fa22bf1b",
   "metadata": {
    "ExecuteTime": {
     "end_time": "2023-02-21T03:57:42.520761Z",
     "start_time": "2023-02-21T03:57:42.019010Z"
    }
   },
   "outputs": [],
   "source": [
    "Top50.to_csv ('SymbDigi_BorutaMale_Top50.csv', index = False)\n",
    "selected_rf_features.to_csv ('SymbDigi_BorutaMale_All.csv', index = False)"
   ]
  },
  {
   "cell_type": "code",
   "execution_count": 42,
   "id": "2a67d0cd",
   "metadata": {
    "ExecuteTime": {
     "end_time": "2023-02-21T03:58:04.478070Z",
     "start_time": "2023-02-21T03:58:04.212555Z"
    }
   },
   "outputs": [
    {
     "name": "stderr",
     "output_type": "stream",
     "text": [
      "C:\\Users\\system 4\\AppData\\Local\\Temp\\ipykernel_6676\\1746843683.py:6: SettingWithCopyWarning: \n",
      "A value is trying to be set on a copy of a slice from a DataFrame.\n",
      "Try using .loc[row_indexer,col_indexer] = value instead\n",
      "\n",
      "See the caveats in the documentation: https://pandas.pydata.org/pandas-docs/stable/user_guide/indexing.html#returning-a-view-versus-a-copy\n",
      "  df_subset['APPRDX'] = data['APPRDX']\n"
     ]
    },
    {
     "data": {
      "text/html": [
       "<div>\n",
       "<style scoped>\n",
       "    .dataframe tbody tr th:only-of-type {\n",
       "        vertical-align: middle;\n",
       "    }\n",
       "\n",
       "    .dataframe tbody tr th {\n",
       "        vertical-align: top;\n",
       "    }\n",
       "\n",
       "    .dataframe thead th {\n",
       "        text-align: right;\n",
       "    }\n",
       "</style>\n",
       "<table border=\"1\" class=\"dataframe\">\n",
       "  <thead>\n",
       "    <tr style=\"text-align: right;\">\n",
       "      <th></th>\n",
       "      <th>cg02471954</th>\n",
       "      <th>cg15313666</th>\n",
       "      <th>cg27171575</th>\n",
       "      <th>cg10693616</th>\n",
       "      <th>cg18174834</th>\n",
       "      <th>cg02681134</th>\n",
       "      <th>cg26213368</th>\n",
       "      <th>cg05817202</th>\n",
       "      <th>cg17349352</th>\n",
       "      <th>cg19829375</th>\n",
       "      <th>...</th>\n",
       "      <th>cg27150010</th>\n",
       "      <th>cg13468400</th>\n",
       "      <th>cg15912098</th>\n",
       "      <th>cg11820312</th>\n",
       "      <th>cg11755107</th>\n",
       "      <th>cg13590297</th>\n",
       "      <th>cg07880064</th>\n",
       "      <th>cg15419852</th>\n",
       "      <th>cg11374446</th>\n",
       "      <th>APPRDX</th>\n",
       "    </tr>\n",
       "  </thead>\n",
       "  <tbody>\n",
       "    <tr>\n",
       "      <th>0</th>\n",
       "      <td>0.853669</td>\n",
       "      <td>0.907550</td>\n",
       "      <td>0.853809</td>\n",
       "      <td>0.012194</td>\n",
       "      <td>0.040499</td>\n",
       "      <td>0.018356</td>\n",
       "      <td>0.845328</td>\n",
       "      <td>0.823899</td>\n",
       "      <td>0.045292</td>\n",
       "      <td>0.791662</td>\n",
       "      <td>...</td>\n",
       "      <td>0.010640</td>\n",
       "      <td>0.812987</td>\n",
       "      <td>0.794243</td>\n",
       "      <td>0.924203</td>\n",
       "      <td>0.014287</td>\n",
       "      <td>0.103243</td>\n",
       "      <td>0.797291</td>\n",
       "      <td>0.025940</td>\n",
       "      <td>0.884892</td>\n",
       "      <td>1</td>\n",
       "    </tr>\n",
       "    <tr>\n",
       "      <th>1</th>\n",
       "      <td>0.918805</td>\n",
       "      <td>0.927117</td>\n",
       "      <td>0.895204</td>\n",
       "      <td>0.012696</td>\n",
       "      <td>0.034218</td>\n",
       "      <td>0.021660</td>\n",
       "      <td>0.671661</td>\n",
       "      <td>0.849287</td>\n",
       "      <td>0.028921</td>\n",
       "      <td>0.849490</td>\n",
       "      <td>...</td>\n",
       "      <td>0.012205</td>\n",
       "      <td>0.897971</td>\n",
       "      <td>0.923425</td>\n",
       "      <td>0.928210</td>\n",
       "      <td>0.015179</td>\n",
       "      <td>0.315527</td>\n",
       "      <td>0.820042</td>\n",
       "      <td>0.037032</td>\n",
       "      <td>0.859572</td>\n",
       "      <td>1</td>\n",
       "    </tr>\n",
       "  </tbody>\n",
       "</table>\n",
       "<p>2 rows × 52 columns</p>\n",
       "</div>"
      ],
      "text/plain": [
       "   cg02471954  cg15313666  cg27171575  cg10693616  cg18174834  cg02681134  \\\n",
       "0    0.853669    0.907550    0.853809    0.012194    0.040499    0.018356   \n",
       "1    0.918805    0.927117    0.895204    0.012696    0.034218    0.021660   \n",
       "\n",
       "   cg26213368  cg05817202  cg17349352  cg19829375  ...  cg27150010  \\\n",
       "0    0.845328    0.823899    0.045292    0.791662  ...    0.010640   \n",
       "1    0.671661    0.849287    0.028921    0.849490  ...    0.012205   \n",
       "\n",
       "   cg13468400  cg15912098  cg11820312  cg11755107  cg13590297  cg07880064  \\\n",
       "0    0.812987    0.794243    0.924203    0.014287    0.103243    0.797291   \n",
       "1    0.897971    0.923425    0.928210    0.015179    0.315527    0.820042   \n",
       "\n",
       "   cg15419852  cg11374446  APPRDX  \n",
       "0    0.025940    0.884892       1  \n",
       "1    0.037032    0.859572       1  \n",
       "\n",
       "[2 rows x 52 columns]"
      ]
     },
     "execution_count": 42,
     "metadata": {},
     "output_type": "execute_result"
    }
   ],
   "source": [
    "# create a list of column names to subset from data\n",
    "col_names = Top50.iloc[:, 0].tolist()\n",
    "\n",
    "# subset df based on the column names\n",
    "df_subset = data.loc[:, data.columns.isin(col_names)]\n",
    "df_subset['APPRDX'] = data['APPRDX']\n",
    "df_subset.to_csv ('SymbDigi_Boruta_Top50_Data_Male.csv', index = False)\n",
    "df_subset.head(2)"
   ]
  },
  {
   "cell_type": "markdown",
   "id": "1abace7f",
   "metadata": {},
   "source": [
    "# TrailMaking B"
   ]
  },
  {
   "cell_type": "code",
   "execution_count": 43,
   "id": "073f8e7c",
   "metadata": {
    "ExecuteTime": {
     "end_time": "2023-02-21T03:58:41.154544Z",
     "start_time": "2023-02-21T03:58:23.451536Z"
    }
   },
   "outputs": [
    {
     "name": "stdout",
     "output_type": "stream",
     "text": [
      "Z:\\PPMI_Data\\Excels\\NonMotors\\Derived250\\Male\\GeneCpG\\TrailMakingB\n"
     ]
    },
    {
     "data": {
      "text/html": [
       "<div>\n",
       "<style scoped>\n",
       "    .dataframe tbody tr th:only-of-type {\n",
       "        vertical-align: middle;\n",
       "    }\n",
       "\n",
       "    .dataframe tbody tr th {\n",
       "        vertical-align: top;\n",
       "    }\n",
       "\n",
       "    .dataframe thead th {\n",
       "        text-align: right;\n",
       "    }\n",
       "</style>\n",
       "<table border=\"1\" class=\"dataframe\">\n",
       "  <thead>\n",
       "    <tr style=\"text-align: right;\">\n",
       "      <th></th>\n",
       "      <th>Sentrix</th>\n",
       "      <th>PATNO</th>\n",
       "      <th>Gender</th>\n",
       "      <th>APPRDX</th>\n",
       "      <th>HYS</th>\n",
       "      <th>Age</th>\n",
       "      <th>AgeCate</th>\n",
       "      <th>Trail_Making_B_Category</th>\n",
       "      <th>cg02315971</th>\n",
       "      <th>cg24133836</th>\n",
       "      <th>...</th>\n",
       "      <th>cg00956423</th>\n",
       "      <th>cg14462343</th>\n",
       "      <th>cg07481734</th>\n",
       "      <th>cg22394535</th>\n",
       "      <th>cg13044444</th>\n",
       "      <th>cg23223756</th>\n",
       "      <th>cg16870358</th>\n",
       "      <th>cg04754776</th>\n",
       "      <th>cg00154746</th>\n",
       "      <th>cg06155771</th>\n",
       "    </tr>\n",
       "  </thead>\n",
       "  <tbody>\n",
       "    <tr>\n",
       "      <th>0</th>\n",
       "      <td>200991620021_R01C01</td>\n",
       "      <td>3001</td>\n",
       "      <td>1</td>\n",
       "      <td>1</td>\n",
       "      <td>2</td>\n",
       "      <td>65.1</td>\n",
       "      <td>4</td>\n",
       "      <td>0</td>\n",
       "      <td>0.028697</td>\n",
       "      <td>0.017</td>\n",
       "      <td>...</td>\n",
       "      <td>0.10987</td>\n",
       "      <td>0.056582</td>\n",
       "      <td>0.064137</td>\n",
       "      <td>0.053802</td>\n",
       "      <td>0.083556</td>\n",
       "      <td>0.042638</td>\n",
       "      <td>0.041733</td>\n",
       "      <td>0.896521</td>\n",
       "      <td>0.033285</td>\n",
       "      <td>0.753096</td>\n",
       "    </tr>\n",
       "  </tbody>\n",
       "</table>\n",
       "<p>1 rows × 61926 columns</p>\n",
       "</div>"
      ],
      "text/plain": [
       "               Sentrix  PATNO  Gender  APPRDX  HYS   Age  AgeCate  \\\n",
       "0  200991620021_R01C01   3001       1       1    2  65.1        4   \n",
       "\n",
       "   Trail_Making_B_Category  cg02315971  cg24133836  ...  cg00956423  \\\n",
       "0                        0    0.028697       0.017  ...     0.10987   \n",
       "\n",
       "   cg14462343  cg07481734  cg22394535  cg13044444  cg23223756  cg16870358  \\\n",
       "0    0.056582    0.064137    0.053802    0.083556    0.042638    0.041733   \n",
       "\n",
       "   cg04754776  cg00154746  cg06155771  \n",
       "0    0.896521    0.033285    0.753096  \n",
       "\n",
       "[1 rows x 61926 columns]"
      ]
     },
     "execution_count": 43,
     "metadata": {},
     "output_type": "execute_result"
    }
   ],
   "source": [
    "%cd Z:\\PPMI_Data\\Excels\\NonMotors\\Derived250\\Male\\GeneCpG\\TrailMakingB\n",
    "data = pd.read_csv('TrailMakingBCateg_Methylome_Male.csv')\n",
    "data.head(1)"
   ]
  },
  {
   "cell_type": "code",
   "execution_count": 44,
   "id": "40d17bee",
   "metadata": {
    "ExecuteTime": {
     "end_time": "2023-02-21T03:58:59.755230Z",
     "start_time": "2023-02-21T03:58:58.570749Z"
    }
   },
   "outputs": [],
   "source": [
    "X = data.drop(['Sentrix','PATNO','HYS','Gender','Age','AgeCate', 'Trail_Making_B_Category','APPRDX'], axis = 1)\n",
    "y = data['APPRDX']\n",
    "X_train, X_test, y_train, y_test = train_test_split(X, y, test_size = .2, random_state = 1) "
   ]
  },
  {
   "cell_type": "code",
   "execution_count": 45,
   "id": "164c2c7f",
   "metadata": {
    "ExecuteTime": {
     "end_time": "2023-02-21T03:59:13.187703Z",
     "start_time": "2023-02-21T03:59:12.036498Z"
    }
   },
   "outputs": [
    {
     "data": {
      "text/plain": [
       "RandomForestClassifier(random_state=1)"
      ]
     },
     "execution_count": 45,
     "metadata": {},
     "output_type": "execute_result"
    }
   ],
   "source": [
    "rf_all_features = RandomForestClassifier(random_state=1)\n",
    "rf_all_features.fit(X_train, y_train)"
   ]
  },
  {
   "cell_type": "code",
   "execution_count": 46,
   "id": "4f363ec3",
   "metadata": {
    "ExecuteTime": {
     "end_time": "2023-02-21T03:59:19.946989Z",
     "start_time": "2023-02-21T03:59:19.604898Z"
    }
   },
   "outputs": [
    {
     "data": {
      "text/plain": [
       "0.7666666666666667"
      ]
     },
     "execution_count": 46,
     "metadata": {},
     "output_type": "execute_result"
    }
   ],
   "source": [
    "accuracy_score(y_test, rf_all_features.predict(X_test))"
   ]
  },
  {
   "cell_type": "code",
   "execution_count": 67,
   "id": "bf87a078",
   "metadata": {
    "ExecuteTime": {
     "end_time": "2023-02-21T04:09:52.379857Z",
     "start_time": "2023-02-21T04:08:32.412079Z"
    },
    "scrolled": true
   },
   "outputs": [
    {
     "name": "stdout",
     "output_type": "stream",
     "text": [
      "Iteration: 1 / 100\n",
      "Iteration: 2 / 100\n",
      "Iteration: 3 / 100\n",
      "Iteration: 4 / 100\n",
      "Iteration: 5 / 100\n",
      "Iteration: 6 / 100\n",
      "Iteration: 7 / 100\n",
      "Iteration: 8 / 100\n",
      "\n",
      "\n",
      "BorutaPy finished running.\n",
      "\n",
      "Iteration: \t9 / 100\n",
      "Confirmed: \t0\n",
      "Tentative: \t0\n",
      "Rejected: \t5672\n"
     ]
    },
    {
     "data": {
      "text/plain": [
       "BorutaPy(estimator=RandomForestClassifier(n_estimators=1065,\n",
       "                                          random_state=RandomState(MT19937) at 0x2250719CA40),\n",
       "         n_estimators='auto',\n",
       "         random_state=RandomState(MT19937) at 0x2250719CA40, verbose=1)"
      ]
     },
     "execution_count": 67,
     "metadata": {},
     "output_type": "execute_result"
    }
   ],
   "source": [
    "rfc = RandomForestClassifier(random_state=1)\n",
    "boruta_selector = BorutaPy(rfc, n_estimators= 'auto', verbose=1, random_state=2)\n",
    "boruta_selector.fit(np.array(X_train), np.array(y_train))  "
   ]
  },
  {
   "cell_type": "code",
   "execution_count": 68,
   "id": "7f9148d8",
   "metadata": {
    "ExecuteTime": {
     "end_time": "2023-02-21T04:09:53.144491Z",
     "start_time": "2023-02-21T04:09:53.124359Z"
    }
   },
   "outputs": [
    {
     "name": "stdout",
     "output_type": "stream",
     "text": [
      "No. of significant features:  0\n"
     ]
    }
   ],
   "source": [
    "# print(\"Ranking: \",boruta_selector.ranking_)          \n",
    "print(\"No. of significant features: \", boruta_selector.n_features_)"
   ]
  },
  {
   "cell_type": "code",
   "execution_count": 69,
   "id": "411e31fe",
   "metadata": {
    "ExecuteTime": {
     "end_time": "2023-02-21T04:09:53.895883Z",
     "start_time": "2023-02-21T04:09:53.880257Z"
    }
   },
   "outputs": [],
   "source": [
    "selected_rf_features = pd.DataFrame({'CpG':list(X_train.columns),\n",
    "                                       'Ranking':boruta_selector.ranking_})\n",
    "selected_rf_features = selected_rf_features.sort_values(by='Ranking')"
   ]
  },
  {
   "cell_type": "code",
   "execution_count": 70,
   "id": "86ddbc7c",
   "metadata": {
    "ExecuteTime": {
     "end_time": "2023-02-21T04:09:54.656113Z",
     "start_time": "2023-02-21T04:09:54.630471Z"
    }
   },
   "outputs": [
    {
     "data": {
      "text/html": [
       "<div>\n",
       "<style scoped>\n",
       "    .dataframe tbody tr th:only-of-type {\n",
       "        vertical-align: middle;\n",
       "    }\n",
       "\n",
       "    .dataframe tbody tr th {\n",
       "        vertical-align: top;\n",
       "    }\n",
       "\n",
       "    .dataframe thead th {\n",
       "        text-align: right;\n",
       "    }\n",
       "</style>\n",
       "<table border=\"1\" class=\"dataframe\">\n",
       "  <thead>\n",
       "    <tr style=\"text-align: right;\">\n",
       "      <th></th>\n",
       "      <th>CpG</th>\n",
       "      <th>Ranking</th>\n",
       "    </tr>\n",
       "  </thead>\n",
       "  <tbody>\n",
       "    <tr>\n",
       "      <th>1330</th>\n",
       "      <td>cg03682895</td>\n",
       "      <td>2</td>\n",
       "    </tr>\n",
       "    <tr>\n",
       "      <th>2851</th>\n",
       "      <td>cg14398353</td>\n",
       "      <td>3</td>\n",
       "    </tr>\n",
       "    <tr>\n",
       "      <th>730</th>\n",
       "      <td>cg19400616</td>\n",
       "      <td>4</td>\n",
       "    </tr>\n",
       "  </tbody>\n",
       "</table>\n",
       "</div>"
      ],
      "text/plain": [
       "             CpG  Ranking\n",
       "1330  cg03682895        2\n",
       "2851  cg14398353        3\n",
       "730   cg19400616        4"
      ]
     },
     "execution_count": 70,
     "metadata": {},
     "output_type": "execute_result"
    }
   ],
   "source": [
    "Top50 = selected_rf_features.iloc[:51, :]\n",
    "Top50.head(3)"
   ]
  },
  {
   "cell_type": "code",
   "execution_count": 71,
   "id": "c132aed0",
   "metadata": {
    "ExecuteTime": {
     "end_time": "2023-02-21T04:09:55.420637Z",
     "start_time": "2023-02-21T04:09:55.405038Z"
    }
   },
   "outputs": [],
   "source": [
    "Top50.to_csv ('TrlMakB_BorutaMale_Top50.csv', index = False)\n",
    "selected_rf_features.to_csv ('TrlMakB_BorutaMale_All.csv', index = False)"
   ]
  },
  {
   "cell_type": "code",
   "execution_count": 72,
   "id": "8d4a260a",
   "metadata": {
    "ExecuteTime": {
     "end_time": "2023-02-21T04:09:56.197247Z",
     "start_time": "2023-02-21T04:09:56.159106Z"
    },
    "scrolled": true
   },
   "outputs": [
    {
     "name": "stderr",
     "output_type": "stream",
     "text": [
      "C:\\Users\\system 4\\AppData\\Local\\Temp\\ipykernel_6676\\399118056.py:6: SettingWithCopyWarning: \n",
      "A value is trying to be set on a copy of a slice from a DataFrame.\n",
      "Try using .loc[row_indexer,col_indexer] = value instead\n",
      "\n",
      "See the caveats in the documentation: https://pandas.pydata.org/pandas-docs/stable/user_guide/indexing.html#returning-a-view-versus-a-copy\n",
      "  df_subset['PATNO'] = data['PATNO']\n",
      "C:\\Users\\system 4\\AppData\\Local\\Temp\\ipykernel_6676\\399118056.py:7: SettingWithCopyWarning: \n",
      "A value is trying to be set on a copy of a slice from a DataFrame.\n",
      "Try using .loc[row_indexer,col_indexer] = value instead\n",
      "\n",
      "See the caveats in the documentation: https://pandas.pydata.org/pandas-docs/stable/user_guide/indexing.html#returning-a-view-versus-a-copy\n",
      "  df_subset['APPRDX'] = data['APPRDX']\n"
     ]
    },
    {
     "data": {
      "text/html": [
       "<div>\n",
       "<style scoped>\n",
       "    .dataframe tbody tr th:only-of-type {\n",
       "        vertical-align: middle;\n",
       "    }\n",
       "\n",
       "    .dataframe tbody tr th {\n",
       "        vertical-align: top;\n",
       "    }\n",
       "\n",
       "    .dataframe thead th {\n",
       "        text-align: right;\n",
       "    }\n",
       "</style>\n",
       "<table border=\"1\" class=\"dataframe\">\n",
       "  <thead>\n",
       "    <tr style=\"text-align: right;\">\n",
       "      <th></th>\n",
       "      <th>cg00260798</th>\n",
       "      <th>cg11023668</th>\n",
       "      <th>cg00877792</th>\n",
       "      <th>cg27498387</th>\n",
       "      <th>cg01458259</th>\n",
       "      <th>cg05294431</th>\n",
       "      <th>cg19997384</th>\n",
       "      <th>cg14927724</th>\n",
       "      <th>cg22219083</th>\n",
       "      <th>cg21639451</th>\n",
       "      <th>...</th>\n",
       "      <th>cg11559967</th>\n",
       "      <th>cg24718866</th>\n",
       "      <th>cg07806248</th>\n",
       "      <th>cg10210919</th>\n",
       "      <th>cg15028128</th>\n",
       "      <th>cg07897734</th>\n",
       "      <th>cg19731340</th>\n",
       "      <th>cg24272338</th>\n",
       "      <th>PATNO</th>\n",
       "      <th>APPRDX</th>\n",
       "    </tr>\n",
       "  </thead>\n",
       "  <tbody>\n",
       "    <tr>\n",
       "      <th>0</th>\n",
       "      <td>0.885679</td>\n",
       "      <td>0.497315</td>\n",
       "      <td>0.497734</td>\n",
       "      <td>0.316042</td>\n",
       "      <td>0.820166</td>\n",
       "      <td>0.726805</td>\n",
       "      <td>0.284672</td>\n",
       "      <td>0.284245</td>\n",
       "      <td>0.018263</td>\n",
       "      <td>0.899725</td>\n",
       "      <td>...</td>\n",
       "      <td>0.896292</td>\n",
       "      <td>0.013781</td>\n",
       "      <td>0.934287</td>\n",
       "      <td>0.026093</td>\n",
       "      <td>0.921116</td>\n",
       "      <td>0.842938</td>\n",
       "      <td>0.018411</td>\n",
       "      <td>0.912405</td>\n",
       "      <td>3001</td>\n",
       "      <td>1</td>\n",
       "    </tr>\n",
       "    <tr>\n",
       "      <th>1</th>\n",
       "      <td>0.916535</td>\n",
       "      <td>0.653975</td>\n",
       "      <td>0.453499</td>\n",
       "      <td>0.250261</td>\n",
       "      <td>0.857082</td>\n",
       "      <td>0.824456</td>\n",
       "      <td>0.329010</td>\n",
       "      <td>0.258556</td>\n",
       "      <td>0.021999</td>\n",
       "      <td>0.855613</td>\n",
       "      <td>...</td>\n",
       "      <td>0.918307</td>\n",
       "      <td>0.012835</td>\n",
       "      <td>0.905446</td>\n",
       "      <td>0.023069</td>\n",
       "      <td>0.919847</td>\n",
       "      <td>0.923446</td>\n",
       "      <td>0.017375</td>\n",
       "      <td>0.891393</td>\n",
       "      <td>3007</td>\n",
       "      <td>1</td>\n",
       "    </tr>\n",
       "  </tbody>\n",
       "</table>\n",
       "<p>2 rows × 53 columns</p>\n",
       "</div>"
      ],
      "text/plain": [
       "   cg00260798  cg11023668  cg00877792  cg27498387  cg01458259  cg05294431  \\\n",
       "0    0.885679    0.497315    0.497734    0.316042    0.820166    0.726805   \n",
       "1    0.916535    0.653975    0.453499    0.250261    0.857082    0.824456   \n",
       "\n",
       "   cg19997384  cg14927724  cg22219083  cg21639451  ...  cg11559967  \\\n",
       "0    0.284672    0.284245    0.018263    0.899725  ...    0.896292   \n",
       "1    0.329010    0.258556    0.021999    0.855613  ...    0.918307   \n",
       "\n",
       "   cg24718866  cg07806248  cg10210919  cg15028128  cg07897734  cg19731340  \\\n",
       "0    0.013781    0.934287    0.026093    0.921116    0.842938    0.018411   \n",
       "1    0.012835    0.905446    0.023069    0.919847    0.923446    0.017375   \n",
       "\n",
       "   cg24272338  PATNO  APPRDX  \n",
       "0    0.912405   3001       1  \n",
       "1    0.891393   3007       1  \n",
       "\n",
       "[2 rows x 53 columns]"
      ]
     },
     "execution_count": 72,
     "metadata": {},
     "output_type": "execute_result"
    }
   ],
   "source": [
    "# create a list of column names to subset from data\n",
    "col_names = Top50.iloc[:, 0].tolist()\n",
    "\n",
    "# subset df based on the column names\n",
    "df_subset = data.loc[:, data.columns.isin(col_names)]\n",
    "df_subset['PATNO'] = data['PATNO']\n",
    "df_subset['APPRDX'] = data['APPRDX']\n",
    "df_subset.to_csv ('TrlMakB_Boruta_Top50_Data_Male.csv', index = False)\n",
    "df_subset.head(2)"
   ]
  },
  {
   "cell_type": "markdown",
   "id": "b7b5af1e",
   "metadata": {},
   "source": [
    "# UPSIT"
   ]
  },
  {
   "cell_type": "code",
   "execution_count": 73,
   "id": "a1a67c9b",
   "metadata": {
    "ExecuteTime": {
     "end_time": "2023-02-21T04:23:50.784873Z",
     "start_time": "2023-02-21T04:23:48.233785Z"
    }
   },
   "outputs": [
    {
     "name": "stdout",
     "output_type": "stream",
     "text": [
      "Z:\\PPMI_Data\\Excels\\NonMotors\\Derived250\\Male\\GeneCpG\\UPSIT\n"
     ]
    },
    {
     "data": {
      "text/html": [
       "<div>\n",
       "<style scoped>\n",
       "    .dataframe tbody tr th:only-of-type {\n",
       "        vertical-align: middle;\n",
       "    }\n",
       "\n",
       "    .dataframe tbody tr th {\n",
       "        vertical-align: top;\n",
       "    }\n",
       "\n",
       "    .dataframe thead th {\n",
       "        text-align: right;\n",
       "    }\n",
       "</style>\n",
       "<table border=\"1\" class=\"dataframe\">\n",
       "  <thead>\n",
       "    <tr style=\"text-align: right;\">\n",
       "      <th></th>\n",
       "      <th>Sentrix</th>\n",
       "      <th>PATNO</th>\n",
       "      <th>HYS</th>\n",
       "      <th>Gender</th>\n",
       "      <th>APPRDX</th>\n",
       "      <th>UPSIT_3</th>\n",
       "      <th>UPSIT_Total</th>\n",
       "      <th>cg06067658</th>\n",
       "      <th>cg15442538</th>\n",
       "      <th>cg25928446</th>\n",
       "      <th>...</th>\n",
       "      <th>cg05766881</th>\n",
       "      <th>cg01708543</th>\n",
       "      <th>cg10933281</th>\n",
       "      <th>cg04735449</th>\n",
       "      <th>cg15856662</th>\n",
       "      <th>cg11864127</th>\n",
       "      <th>cg14420798</th>\n",
       "      <th>cg08859349</th>\n",
       "      <th>cg01481205</th>\n",
       "      <th>cg19228755</th>\n",
       "    </tr>\n",
       "  </thead>\n",
       "  <tbody>\n",
       "    <tr>\n",
       "      <th>0</th>\n",
       "      <td>200991620021_R01C01</td>\n",
       "      <td>3001</td>\n",
       "      <td>2</td>\n",
       "      <td>1</td>\n",
       "      <td>1</td>\n",
       "      <td>1</td>\n",
       "      <td>25</td>\n",
       "      <td>0.088679</td>\n",
       "      <td>0.890148</td>\n",
       "      <td>0.719238</td>\n",
       "      <td>...</td>\n",
       "      <td>0.748763</td>\n",
       "      <td>0.830052</td>\n",
       "      <td>0.861102</td>\n",
       "      <td>0.855659</td>\n",
       "      <td>0.788271</td>\n",
       "      <td>0.805084</td>\n",
       "      <td>0.729165</td>\n",
       "      <td>0.803183</td>\n",
       "      <td>0.925666</td>\n",
       "      <td>0.849608</td>\n",
       "    </tr>\n",
       "  </tbody>\n",
       "</table>\n",
       "<p>1 rows × 5679 columns</p>\n",
       "</div>"
      ],
      "text/plain": [
       "               Sentrix  PATNO  HYS  Gender  APPRDX  UPSIT_3  UPSIT_Total  \\\n",
       "0  200991620021_R01C01   3001    2       1       1        1           25   \n",
       "\n",
       "   cg06067658  cg15442538  cg25928446  ...  cg05766881  cg01708543  \\\n",
       "0    0.088679    0.890148    0.719238  ...    0.748763    0.830052   \n",
       "\n",
       "   cg10933281  cg04735449  cg15856662  cg11864127  cg14420798  cg08859349  \\\n",
       "0    0.861102    0.855659    0.788271    0.805084    0.729165    0.803183   \n",
       "\n",
       "   cg01481205  cg19228755  \n",
       "0    0.925666    0.849608  \n",
       "\n",
       "[1 rows x 5679 columns]"
      ]
     },
     "execution_count": 73,
     "metadata": {},
     "output_type": "execute_result"
    }
   ],
   "source": [
    "%cd Z:\\PPMI_Data\\Excels\\NonMotors\\Derived250\\Male\\GeneCpG\\UPSIT\n",
    "data = pd.read_csv('UPSIT3Categ_Methylome_Male.csv')\n",
    "data.head(1)"
   ]
  },
  {
   "cell_type": "code",
   "execution_count": 74,
   "id": "a3685b88",
   "metadata": {
    "ExecuteTime": {
     "end_time": "2023-02-21T04:23:52.740228Z",
     "start_time": "2023-02-21T04:23:52.589764Z"
    }
   },
   "outputs": [],
   "source": [
    "X = data.drop(['Sentrix','PATNO','HYS','Gender','UPSIT_3','UPSIT_Total','APPRDX'], axis = 1)\n",
    "y = data['APPRDX']\n",
    "X_train, X_test, y_train, y_test = train_test_split(X, y, test_size = .2, random_state = 1) "
   ]
  },
  {
   "cell_type": "code",
   "execution_count": 75,
   "id": "47740b43",
   "metadata": {
    "ExecuteTime": {
     "end_time": "2023-02-21T04:23:56.590262Z",
     "start_time": "2023-02-21T04:23:55.795226Z"
    }
   },
   "outputs": [
    {
     "data": {
      "text/plain": [
       "RandomForestClassifier(random_state=1)"
      ]
     },
     "execution_count": 75,
     "metadata": {},
     "output_type": "execute_result"
    }
   ],
   "source": [
    "rf_all_features = RandomForestClassifier(random_state=1)\n",
    "rf_all_features.fit(X_train, y_train)"
   ]
  },
  {
   "cell_type": "code",
   "execution_count": 76,
   "id": "9c03d860",
   "metadata": {
    "ExecuteTime": {
     "end_time": "2023-02-21T04:23:57.496479Z",
     "start_time": "2023-02-21T04:23:57.433979Z"
    }
   },
   "outputs": [
    {
     "data": {
      "text/plain": [
       "0.7096774193548387"
      ]
     },
     "execution_count": 76,
     "metadata": {},
     "output_type": "execute_result"
    }
   ],
   "source": [
    "accuracy_score(y_test, rf_all_features.predict(X_test))"
   ]
  },
  {
   "cell_type": "code",
   "execution_count": 77,
   "id": "d557e79d",
   "metadata": {
    "ExecuteTime": {
     "end_time": "2023-02-21T04:25:19.590884Z",
     "start_time": "2023-02-21T04:23:58.320768Z"
    }
   },
   "outputs": [
    {
     "name": "stdout",
     "output_type": "stream",
     "text": [
      "Iteration: 1 / 100\n",
      "Iteration: 2 / 100\n",
      "Iteration: 3 / 100\n",
      "Iteration: 4 / 100\n",
      "Iteration: 5 / 100\n",
      "Iteration: 6 / 100\n",
      "Iteration: 7 / 100\n",
      "Iteration: 8 / 100\n",
      "\n",
      "\n",
      "BorutaPy finished running.\n",
      "\n",
      "Iteration: \t9 / 100\n",
      "Confirmed: \t0\n",
      "Tentative: \t0\n",
      "Rejected: \t5672\n"
     ]
    },
    {
     "data": {
      "text/plain": [
       "BorutaPy(estimator=RandomForestClassifier(n_estimators=1065,\n",
       "                                          random_state=RandomState(MT19937) at 0x22507ABAB40),\n",
       "         n_estimators='auto',\n",
       "         random_state=RandomState(MT19937) at 0x22507ABAB40, verbose=1)"
      ]
     },
     "execution_count": 77,
     "metadata": {},
     "output_type": "execute_result"
    }
   ],
   "source": [
    "rfc = RandomForestClassifier(random_state=1)\n",
    "boruta_selector = BorutaPy(rfc, n_estimators= 'auto', verbose=1, random_state=2)\n",
    "boruta_selector.fit(np.array(X_train), np.array(y_train))  "
   ]
  },
  {
   "cell_type": "code",
   "execution_count": 78,
   "id": "1e3c14c3",
   "metadata": {
    "ExecuteTime": {
     "end_time": "2023-02-21T04:25:20.556027Z",
     "start_time": "2023-02-21T04:25:20.535931Z"
    }
   },
   "outputs": [
    {
     "name": "stdout",
     "output_type": "stream",
     "text": [
      "No. of significant features:  0\n"
     ]
    }
   ],
   "source": [
    "# print(\"Ranking: \",boruta_selector.ranking_)          \n",
    "print(\"No. of significant features: \", boruta_selector.n_features_)"
   ]
  },
  {
   "cell_type": "code",
   "execution_count": 79,
   "id": "958d0dce",
   "metadata": {
    "ExecuteTime": {
     "end_time": "2023-02-21T04:25:21.460961Z",
     "start_time": "2023-02-21T04:25:21.440878Z"
    }
   },
   "outputs": [],
   "source": [
    "selected_rf_features = pd.DataFrame({'CpG':list(X_train.columns),\n",
    "                                       'Ranking':boruta_selector.ranking_})\n",
    "selected_rf_features = selected_rf_features.sort_values(by='Ranking')"
   ]
  },
  {
   "cell_type": "code",
   "execution_count": 80,
   "id": "4c471c18",
   "metadata": {
    "ExecuteTime": {
     "end_time": "2023-02-21T04:25:22.466759Z",
     "start_time": "2023-02-21T04:25:22.448635Z"
    }
   },
   "outputs": [
    {
     "data": {
      "text/html": [
       "<div>\n",
       "<style scoped>\n",
       "    .dataframe tbody tr th:only-of-type {\n",
       "        vertical-align: middle;\n",
       "    }\n",
       "\n",
       "    .dataframe tbody tr th {\n",
       "        vertical-align: top;\n",
       "    }\n",
       "\n",
       "    .dataframe thead th {\n",
       "        text-align: right;\n",
       "    }\n",
       "</style>\n",
       "<table border=\"1\" class=\"dataframe\">\n",
       "  <thead>\n",
       "    <tr style=\"text-align: right;\">\n",
       "      <th></th>\n",
       "      <th>CpG</th>\n",
       "      <th>Ranking</th>\n",
       "    </tr>\n",
       "  </thead>\n",
       "  <tbody>\n",
       "    <tr>\n",
       "      <th>1330</th>\n",
       "      <td>cg03682895</td>\n",
       "      <td>2</td>\n",
       "    </tr>\n",
       "    <tr>\n",
       "      <th>2851</th>\n",
       "      <td>cg14398353</td>\n",
       "      <td>3</td>\n",
       "    </tr>\n",
       "    <tr>\n",
       "      <th>730</th>\n",
       "      <td>cg19400616</td>\n",
       "      <td>4</td>\n",
       "    </tr>\n",
       "  </tbody>\n",
       "</table>\n",
       "</div>"
      ],
      "text/plain": [
       "             CpG  Ranking\n",
       "1330  cg03682895        2\n",
       "2851  cg14398353        3\n",
       "730   cg19400616        4"
      ]
     },
     "execution_count": 80,
     "metadata": {},
     "output_type": "execute_result"
    }
   ],
   "source": [
    "Top50 = selected_rf_features.iloc[:51, :]\n",
    "Top50.head(3)"
   ]
  },
  {
   "cell_type": "code",
   "execution_count": 81,
   "id": "d34b1b16",
   "metadata": {
    "ExecuteTime": {
     "end_time": "2023-02-21T04:25:23.532646Z",
     "start_time": "2023-02-21T04:25:23.434063Z"
    }
   },
   "outputs": [],
   "source": [
    "Top50.to_csv ('UPSIT_BorutaMale_Top50.csv', index = False)\n",
    "selected_rf_features.to_csv ('UPSIT_BorutaMale_All.csv', index = False)"
   ]
  },
  {
   "cell_type": "code",
   "execution_count": 82,
   "id": "67a63aa7",
   "metadata": {
    "ExecuteTime": {
     "end_time": "2023-02-21T04:25:24.489674Z",
     "start_time": "2023-02-21T04:25:24.442800Z"
    }
   },
   "outputs": [
    {
     "name": "stderr",
     "output_type": "stream",
     "text": [
      "C:\\Users\\system 4\\AppData\\Local\\Temp\\ipykernel_6676\\3792604500.py:6: SettingWithCopyWarning: \n",
      "A value is trying to be set on a copy of a slice from a DataFrame.\n",
      "Try using .loc[row_indexer,col_indexer] = value instead\n",
      "\n",
      "See the caveats in the documentation: https://pandas.pydata.org/pandas-docs/stable/user_guide/indexing.html#returning-a-view-versus-a-copy\n",
      "  df_subset['PATNO'] = data['PATNO']\n",
      "C:\\Users\\system 4\\AppData\\Local\\Temp\\ipykernel_6676\\3792604500.py:7: SettingWithCopyWarning: \n",
      "A value is trying to be set on a copy of a slice from a DataFrame.\n",
      "Try using .loc[row_indexer,col_indexer] = value instead\n",
      "\n",
      "See the caveats in the documentation: https://pandas.pydata.org/pandas-docs/stable/user_guide/indexing.html#returning-a-view-versus-a-copy\n",
      "  df_subset['APPRDX'] = data['APPRDX']\n"
     ]
    },
    {
     "data": {
      "text/html": [
       "<div>\n",
       "<style scoped>\n",
       "    .dataframe tbody tr th:only-of-type {\n",
       "        vertical-align: middle;\n",
       "    }\n",
       "\n",
       "    .dataframe tbody tr th {\n",
       "        vertical-align: top;\n",
       "    }\n",
       "\n",
       "    .dataframe thead th {\n",
       "        text-align: right;\n",
       "    }\n",
       "</style>\n",
       "<table border=\"1\" class=\"dataframe\">\n",
       "  <thead>\n",
       "    <tr style=\"text-align: right;\">\n",
       "      <th></th>\n",
       "      <th>cg00260798</th>\n",
       "      <th>cg11023668</th>\n",
       "      <th>cg00877792</th>\n",
       "      <th>cg27498387</th>\n",
       "      <th>cg01458259</th>\n",
       "      <th>cg05294431</th>\n",
       "      <th>cg19997384</th>\n",
       "      <th>cg14927724</th>\n",
       "      <th>cg22219083</th>\n",
       "      <th>cg21639451</th>\n",
       "      <th>...</th>\n",
       "      <th>cg11559967</th>\n",
       "      <th>cg24718866</th>\n",
       "      <th>cg07806248</th>\n",
       "      <th>cg10210919</th>\n",
       "      <th>cg15028128</th>\n",
       "      <th>cg07897734</th>\n",
       "      <th>cg19731340</th>\n",
       "      <th>cg24272338</th>\n",
       "      <th>PATNO</th>\n",
       "      <th>APPRDX</th>\n",
       "    </tr>\n",
       "  </thead>\n",
       "  <tbody>\n",
       "    <tr>\n",
       "      <th>0</th>\n",
       "      <td>0.885679</td>\n",
       "      <td>0.497315</td>\n",
       "      <td>0.497734</td>\n",
       "      <td>0.316042</td>\n",
       "      <td>0.820166</td>\n",
       "      <td>0.726805</td>\n",
       "      <td>0.284672</td>\n",
       "      <td>0.284245</td>\n",
       "      <td>0.018263</td>\n",
       "      <td>0.899725</td>\n",
       "      <td>...</td>\n",
       "      <td>0.896292</td>\n",
       "      <td>0.013781</td>\n",
       "      <td>0.934287</td>\n",
       "      <td>0.026093</td>\n",
       "      <td>0.921116</td>\n",
       "      <td>0.842938</td>\n",
       "      <td>0.018411</td>\n",
       "      <td>0.912405</td>\n",
       "      <td>3001</td>\n",
       "      <td>1</td>\n",
       "    </tr>\n",
       "    <tr>\n",
       "      <th>1</th>\n",
       "      <td>0.916535</td>\n",
       "      <td>0.653975</td>\n",
       "      <td>0.453499</td>\n",
       "      <td>0.250261</td>\n",
       "      <td>0.857082</td>\n",
       "      <td>0.824456</td>\n",
       "      <td>0.329010</td>\n",
       "      <td>0.258556</td>\n",
       "      <td>0.021999</td>\n",
       "      <td>0.855613</td>\n",
       "      <td>...</td>\n",
       "      <td>0.918307</td>\n",
       "      <td>0.012835</td>\n",
       "      <td>0.905446</td>\n",
       "      <td>0.023069</td>\n",
       "      <td>0.919847</td>\n",
       "      <td>0.923446</td>\n",
       "      <td>0.017375</td>\n",
       "      <td>0.891393</td>\n",
       "      <td>3007</td>\n",
       "      <td>1</td>\n",
       "    </tr>\n",
       "  </tbody>\n",
       "</table>\n",
       "<p>2 rows × 53 columns</p>\n",
       "</div>"
      ],
      "text/plain": [
       "   cg00260798  cg11023668  cg00877792  cg27498387  cg01458259  cg05294431  \\\n",
       "0    0.885679    0.497315    0.497734    0.316042    0.820166    0.726805   \n",
       "1    0.916535    0.653975    0.453499    0.250261    0.857082    0.824456   \n",
       "\n",
       "   cg19997384  cg14927724  cg22219083  cg21639451  ...  cg11559967  \\\n",
       "0    0.284672    0.284245    0.018263    0.899725  ...    0.896292   \n",
       "1    0.329010    0.258556    0.021999    0.855613  ...    0.918307   \n",
       "\n",
       "   cg24718866  cg07806248  cg10210919  cg15028128  cg07897734  cg19731340  \\\n",
       "0    0.013781    0.934287    0.026093    0.921116    0.842938    0.018411   \n",
       "1    0.012835    0.905446    0.023069    0.919847    0.923446    0.017375   \n",
       "\n",
       "   cg24272338  PATNO  APPRDX  \n",
       "0    0.912405   3001       1  \n",
       "1    0.891393   3007       1  \n",
       "\n",
       "[2 rows x 53 columns]"
      ]
     },
     "execution_count": 82,
     "metadata": {},
     "output_type": "execute_result"
    }
   ],
   "source": [
    "# create a list of column names to subset from data\n",
    "col_names = Top50.iloc[:, 0].tolist()\n",
    "\n",
    "# subset df based on the column names\n",
    "df_subset = data.loc[:, data.columns.isin(col_names)]\n",
    "df_subset['PATNO'] = data['PATNO']\n",
    "df_subset['APPRDX'] = data['APPRDX']\n",
    "df_subset.to_csv ('UPSIT_Boruta_Top50_Data_Male.csv', index = False)\n",
    "df_subset.head(2)"
   ]
  },
  {
   "cell_type": "code",
   "execution_count": null,
   "id": "aa444e71",
   "metadata": {},
   "outputs": [],
   "source": []
  }
 ],
 "metadata": {
  "kernelspec": {
   "display_name": "Python 3 (ipykernel)",
   "language": "python",
   "name": "python3"
  },
  "language_info": {
   "codemirror_mode": {
    "name": "ipython",
    "version": 3
   },
   "file_extension": ".py",
   "mimetype": "text/x-python",
   "name": "python",
   "nbconvert_exporter": "python",
   "pygments_lexer": "ipython3",
   "version": "3.9.16"
  },
  "toc": {
   "base_numbering": 1,
   "nav_menu": {},
   "number_sections": true,
   "sideBar": true,
   "skip_h1_title": false,
   "title_cell": "Table of Contents",
   "title_sidebar": "Contents",
   "toc_cell": false,
   "toc_position": {},
   "toc_section_display": true,
   "toc_window_display": false
  },
  "varInspector": {
   "cols": {
    "lenName": 16,
    "lenType": 16,
    "lenVar": 40
   },
   "kernels_config": {
    "python": {
     "delete_cmd_postfix": "",
     "delete_cmd_prefix": "del ",
     "library": "var_list.py",
     "varRefreshCmd": "print(var_dic_list())"
    },
    "r": {
     "delete_cmd_postfix": ") ",
     "delete_cmd_prefix": "rm(",
     "library": "var_list.r",
     "varRefreshCmd": "cat(var_dic_list()) "
    }
   },
   "types_to_exclude": [
    "module",
    "function",
    "builtin_function_or_method",
    "instance",
    "_Feature"
   ],
   "window_display": false
  }
 },
 "nbformat": 4,
 "nbformat_minor": 5
}
