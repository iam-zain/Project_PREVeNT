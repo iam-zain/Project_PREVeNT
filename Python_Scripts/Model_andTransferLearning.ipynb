{
 "cells": [
  {
   "cell_type": "markdown",
   "metadata": {
    "colab_type": "text",
    "id": "lP6JLo1tGNBg"
   },
   "source": [
    "# Artificial Neural Network"
   ]
  },
  {
   "cell_type": "markdown",
   "metadata": {
    "colab_type": "text",
    "id": "gWZyYmS_UE_L"
   },
   "source": [
    "### Importing the libraries"
   ]
  },
  {
   "cell_type": "code",
   "execution_count": 1,
   "metadata": {
    "ExecuteTime": {
     "end_time": "2023-02-07T05:29:47.092522Z",
     "start_time": "2023-02-07T05:29:26.548816Z"
    },
    "colab": {},
    "colab_type": "code",
    "id": "MxkJoQBkUIHC"
   },
   "outputs": [],
   "source": [
    "import numpy as np\n",
    "import pandas as pd\n",
    "import tensorflow as tf"
   ]
  },
  {
   "cell_type": "code",
   "execution_count": 2,
   "metadata": {
    "ExecuteTime": {
     "end_time": "2023-02-07T05:29:47.108124Z",
     "start_time": "2023-02-07T05:29:47.092522Z"
    },
    "colab": {
     "base_uri": "https://localhost:8080/",
     "height": 34
    },
    "colab_type": "code",
    "executionInfo": {
     "elapsed": 2400,
     "status": "ok",
     "timestamp": 1590257449959,
     "user": {
      "displayName": "Hadelin de Ponteves",
      "photoUrl": "https://lh3.googleusercontent.com/a-/AOh14GhEuXdT7eQweUmRPW8_laJuPggSK6hfvpl5a6WBaA=s64",
      "userId": "15047218817161520419"
     },
     "user_tz": -240
    },
    "id": "ZaTwK7ojXr2F",
    "outputId": "0b27a96d-d11a-43e8-ab4b-87c1f01896fe"
   },
   "outputs": [
    {
     "data": {
      "text/plain": [
       "'2.9.1'"
      ]
     },
     "execution_count": 2,
     "metadata": {},
     "output_type": "execute_result"
    }
   ],
   "source": [
    "tf.__version__"
   ]
  },
  {
   "cell_type": "markdown",
   "metadata": {
    "colab_type": "text",
    "id": "1E0Q3aoKUCRX"
   },
   "source": [
    "## Part 1 - Data Preprocessing"
   ]
  },
  {
   "cell_type": "markdown",
   "metadata": {
    "colab_type": "text",
    "id": "cKWAkFVGUU0Z"
   },
   "source": [
    "### Importing the dataset"
   ]
  },
  {
   "cell_type": "code",
   "execution_count": 3,
   "metadata": {
    "ExecuteTime": {
     "end_time": "2023-02-07T05:29:47.270894Z",
     "start_time": "2023-02-07T05:29:47.108124Z"
    }
   },
   "outputs": [
    {
     "name": "stdout",
     "output_type": "stream",
     "text": [
      "Z:\\PPMI_Data\\Excels\\CollaborativeFiltering\n"
     ]
    },
    {
     "data": {
      "text/html": [
       "<div>\n",
       "<style scoped>\n",
       "    .dataframe tbody tr th:only-of-type {\n",
       "        vertical-align: middle;\n",
       "    }\n",
       "\n",
       "    .dataframe tbody tr th {\n",
       "        vertical-align: top;\n",
       "    }\n",
       "\n",
       "    .dataframe thead th {\n",
       "        text-align: right;\n",
       "    }\n",
       "</style>\n",
       "<table border=\"1\" class=\"dataframe\">\n",
       "  <thead>\n",
       "    <tr style=\"text-align: right;\">\n",
       "      <th></th>\n",
       "      <th>APPRDX</th>\n",
       "      <th>Anxiety</th>\n",
       "      <th>Apathy</th>\n",
       "      <th>Benton</th>\n",
       "      <th>Clock</th>\n",
       "      <th>Cognition</th>\n",
       "      <th>COGSTATE</th>\n",
       "      <th>Constipate</th>\n",
       "      <th>Depress</th>\n",
       "      <th>DopaDefic</th>\n",
       "      <th>...</th>\n",
       "      <th>Semantic</th>\n",
       "      <th>SleepDay</th>\n",
       "      <th>SleepNight</th>\n",
       "      <th>STAIA</th>\n",
       "      <th>STAIS</th>\n",
       "      <th>Symbol_Digit</th>\n",
       "      <th>Trail_Making_A</th>\n",
       "      <th>Trail_Making_B</th>\n",
       "      <th>UPSIT</th>\n",
       "      <th>Urine</th>\n",
       "    </tr>\n",
       "  </thead>\n",
       "  <tbody>\n",
       "    <tr>\n",
       "      <th>0</th>\n",
       "      <td>1</td>\n",
       "      <td>1</td>\n",
       "      <td>0</td>\n",
       "      <td>12.16</td>\n",
       "      <td>7</td>\n",
       "      <td>1</td>\n",
       "      <td>1</td>\n",
       "      <td>1</td>\n",
       "      <td>1</td>\n",
       "      <td>0</td>\n",
       "      <td>...</td>\n",
       "      <td>57</td>\n",
       "      <td>1</td>\n",
       "      <td>0</td>\n",
       "      <td>45</td>\n",
       "      <td>59</td>\n",
       "      <td>47.5</td>\n",
       "      <td>110</td>\n",
       "      <td>204</td>\n",
       "      <td>17</td>\n",
       "      <td>1</td>\n",
       "    </tr>\n",
       "    <tr>\n",
       "      <th>1</th>\n",
       "      <td>1</td>\n",
       "      <td>1</td>\n",
       "      <td>1</td>\n",
       "      <td>7.76</td>\n",
       "      <td>6</td>\n",
       "      <td>1</td>\n",
       "      <td>1</td>\n",
       "      <td>0</td>\n",
       "      <td>0</td>\n",
       "      <td>0</td>\n",
       "      <td>...</td>\n",
       "      <td>36</td>\n",
       "      <td>1</td>\n",
       "      <td>3</td>\n",
       "      <td>40</td>\n",
       "      <td>39</td>\n",
       "      <td>52.0</td>\n",
       "      <td>27</td>\n",
       "      <td>52</td>\n",
       "      <td>9</td>\n",
       "      <td>0</td>\n",
       "    </tr>\n",
       "  </tbody>\n",
       "</table>\n",
       "<p>2 rows × 46 columns</p>\n",
       "</div>"
      ],
      "text/plain": [
       "   APPRDX  Anxiety  Apathy  Benton  Clock  Cognition  COGSTATE  Constipate  \\\n",
       "0       1        1       0   12.16      7          1         1           1   \n",
       "1       1        1       1    7.76      6          1         1           0   \n",
       "\n",
       "   Depress  DopaDefic  ...  Semantic  SleepDay  SleepNight  STAIA  STAIS  \\\n",
       "0        1          0  ...        57         1           0     45     59   \n",
       "1        0          0  ...        36         1           3     40     39   \n",
       "\n",
       "   Symbol_Digit  Trail_Making_A  Trail_Making_B  UPSIT  Urine  \n",
       "0          47.5             110             204     17      1  \n",
       "1          52.0              27              52      9      0  \n",
       "\n",
       "[2 rows x 46 columns]"
      ]
     },
     "execution_count": 3,
     "metadata": {},
     "output_type": "execute_result"
    }
   ],
   "source": [
    "%cd Z:\\PPMI_Data\\Excels\\CollaborativeFiltering"
   ]
  },
  {
   "cell_type": "markdown",
   "metadata": {},
   "source": [
    "## Save model"
   ]
  },
  {
   "cell_type": "code",
   "execution_count": 20,
   "metadata": {
    "ExecuteTime": {
     "end_time": "2023-02-07T05:29:54.978345Z",
     "start_time": "2023-02-07T05:29:54.777649Z"
    }
   },
   "outputs": [],
   "source": [
    "# Save model\n",
    "ann.save(\"model_ann.h5\")"
   ]
  },
  {
   "cell_type": "code",
   "execution_count": 21,
   "metadata": {
    "ExecuteTime": {
     "end_time": "2023-02-07T05:29:54.994037Z",
     "start_time": "2023-02-07T05:29:54.978345Z"
    }
   },
   "outputs": [
    {
     "data": {
      "text/plain": [
       "<keras.callbacks.History at 0x1afa6a81f10>"
      ]
     },
     "execution_count": 21,
     "metadata": {},
     "output_type": "execute_result"
    }
   ],
   "source": [
    "ann.history"
   ]
  },
  {
   "cell_type": "markdown",
   "metadata": {},
   "source": [
    "## Load an empty dataset"
   ]
  },
  {
   "cell_type": "code",
   "execution_count": 54,
   "metadata": {
    "ExecuteTime": {
     "end_time": "2023-02-07T09:01:48.538119Z",
     "start_time": "2023-02-07T09:01:48.506859Z"
    },
    "scrolled": true
   },
   "outputs": [
    {
     "data": {
      "text/html": [
       "<div>\n",
       "<style scoped>\n",
       "    .dataframe tbody tr th:only-of-type {\n",
       "        vertical-align: middle;\n",
       "    }\n",
       "\n",
       "    .dataframe tbody tr th {\n",
       "        vertical-align: top;\n",
       "    }\n",
       "\n",
       "    .dataframe thead th {\n",
       "        text-align: right;\n",
       "    }\n",
       "</style>\n",
       "<table border=\"1\" class=\"dataframe\">\n",
       "  <thead>\n",
       "    <tr style=\"text-align: right;\">\n",
       "      <th></th>\n",
       "      <th>Anxiety</th>\n",
       "      <th>Apathy</th>\n",
       "      <th>Benton</th>\n",
       "      <th>Clock</th>\n",
       "      <th>Cognition</th>\n",
       "      <th>COGSTATE</th>\n",
       "      <th>Constipate</th>\n",
       "      <th>Depress</th>\n",
       "      <th>DopaDefic</th>\n",
       "      <th>Education</th>\n",
       "      <th>...</th>\n",
       "      <th>Semantic</th>\n",
       "      <th>SleepDay</th>\n",
       "      <th>SleepNight</th>\n",
       "      <th>STAIA</th>\n",
       "      <th>STAIS</th>\n",
       "      <th>Symbol_Digit</th>\n",
       "      <th>Trail_Making_A</th>\n",
       "      <th>Trail_Making_B</th>\n",
       "      <th>UPSIT</th>\n",
       "      <th>Urine</th>\n",
       "    </tr>\n",
       "  </thead>\n",
       "  <tbody>\n",
       "    <tr>\n",
       "      <th>0</th>\n",
       "      <td>NaN</td>\n",
       "      <td>NaN</td>\n",
       "      <td>NaN</td>\n",
       "      <td>NaN</td>\n",
       "      <td>NaN</td>\n",
       "      <td>NaN</td>\n",
       "      <td>NaN</td>\n",
       "      <td>NaN</td>\n",
       "      <td>NaN</td>\n",
       "      <td>NaN</td>\n",
       "      <td>...</td>\n",
       "      <td>NaN</td>\n",
       "      <td>NaN</td>\n",
       "      <td>NaN</td>\n",
       "      <td>NaN</td>\n",
       "      <td>NaN</td>\n",
       "      <td>NaN</td>\n",
       "      <td>NaN</td>\n",
       "      <td>NaN</td>\n",
       "      <td>NaN</td>\n",
       "      <td>NaN</td>\n",
       "    </tr>\n",
       "  </tbody>\n",
       "</table>\n",
       "<p>1 rows × 45 columns</p>\n",
       "</div>"
      ],
      "text/plain": [
       "   Anxiety  Apathy  Benton  Clock  Cognition  COGSTATE  Constipate  Depress  \\\n",
       "0      NaN     NaN     NaN    NaN        NaN       NaN         NaN      NaN   \n",
       "\n",
       "   DopaDefic  Education  ...  Semantic  SleepDay  SleepNight  STAIA  STAIS  \\\n",
       "0        NaN        NaN  ...       NaN       NaN         NaN    NaN    NaN   \n",
       "\n",
       "   Symbol_Digit  Trail_Making_A  Trail_Making_B  UPSIT  Urine  \n",
       "0           NaN             NaN             NaN    NaN    NaN  \n",
       "\n",
       "[1 rows x 45 columns]"
      ]
     },
     "execution_count": 54,
     "metadata": {},
     "output_type": "execute_result"
    }
   ],
   "source": [
    "df2 = pd.read_csv('NonMotor_Empty.csv')\n",
    "# Removing a column\n",
    "df3 = df2.drop('Patient_ID', axis = 1)\n",
    "df3.head(2)"
   ]
  },
  {
   "cell_type": "markdown",
   "metadata": {},
   "source": [
    "## Take input from user"
   ]
  },
  {
   "cell_type": "code",
   "execution_count": 60,
   "metadata": {
    "ExecuteTime": {
     "end_time": "2023-02-07T09:09:40.976423Z",
     "start_time": "2023-02-07T09:09:13.901499Z"
    },
    "scrolled": true
   },
   "outputs": [
    {
     "name": "stdout",
     "output_type": "stream",
     "text": [
      "Enter the number of columns you want to update (minimum 3, maximum 45): 4\n",
      "Enter the name of the Feature 1: UPSIT\n",
      "Enter the value to update for Feature 1: 3\n",
      "Enter the name of the Feature 2: COGSTATE\n",
      "Enter the value to update for Feature 2: 3\n",
      "Enter the name of the Feature 3: Semantic\n",
      "Enter the value to update for Feature 3: 6\n",
      "Enter the name of the Feature 4: Apathy\n",
      "Enter the value to update for Feature 4: 2\n"
     ]
    },
    {
     "data": {
      "text/html": [
       "<div>\n",
       "<style scoped>\n",
       "    .dataframe tbody tr th:only-of-type {\n",
       "        vertical-align: middle;\n",
       "    }\n",
       "\n",
       "    .dataframe tbody tr th {\n",
       "        vertical-align: top;\n",
       "    }\n",
       "\n",
       "    .dataframe thead th {\n",
       "        text-align: right;\n",
       "    }\n",
       "</style>\n",
       "<table border=\"1\" class=\"dataframe\">\n",
       "  <thead>\n",
       "    <tr style=\"text-align: right;\">\n",
       "      <th></th>\n",
       "      <th>Anxiety</th>\n",
       "      <th>Apathy</th>\n",
       "      <th>Benton</th>\n",
       "      <th>Clock</th>\n",
       "      <th>Cognition</th>\n",
       "      <th>COGSTATE</th>\n",
       "      <th>Constipate</th>\n",
       "      <th>Depress</th>\n",
       "      <th>DopaDefic</th>\n",
       "      <th>Education</th>\n",
       "      <th>...</th>\n",
       "      <th>Semantic</th>\n",
       "      <th>SleepDay</th>\n",
       "      <th>SleepNight</th>\n",
       "      <th>STAIA</th>\n",
       "      <th>STAIS</th>\n",
       "      <th>Symbol_Digit</th>\n",
       "      <th>Trail_Making_A</th>\n",
       "      <th>Trail_Making_B</th>\n",
       "      <th>UPSIT</th>\n",
       "      <th>Urine</th>\n",
       "    </tr>\n",
       "  </thead>\n",
       "  <tbody>\n",
       "    <tr>\n",
       "      <th>0</th>\n",
       "      <td>NaN</td>\n",
       "      <td>2.0</td>\n",
       "      <td>NaN</td>\n",
       "      <td>6.0</td>\n",
       "      <td>NaN</td>\n",
       "      <td>3.0</td>\n",
       "      <td>NaN</td>\n",
       "      <td>3.0</td>\n",
       "      <td>NaN</td>\n",
       "      <td>NaN</td>\n",
       "      <td>...</td>\n",
       "      <td>6.0</td>\n",
       "      <td>NaN</td>\n",
       "      <td>NaN</td>\n",
       "      <td>NaN</td>\n",
       "      <td>NaN</td>\n",
       "      <td>NaN</td>\n",
       "      <td>NaN</td>\n",
       "      <td>NaN</td>\n",
       "      <td>3.0</td>\n",
       "      <td>NaN</td>\n",
       "    </tr>\n",
       "  </tbody>\n",
       "</table>\n",
       "<p>1 rows × 45 columns</p>\n",
       "</div>"
      ],
      "text/plain": [
       "   Anxiety  Apathy  Benton  Clock  Cognition  COGSTATE  Constipate  Depress  \\\n",
       "0      NaN     2.0     NaN    6.0        NaN       3.0         NaN      3.0   \n",
       "\n",
       "   DopaDefic  Education  ...  Semantic  SleepDay  SleepNight  STAIA  STAIS  \\\n",
       "0        NaN        NaN  ...       6.0       NaN         NaN    NaN    NaN   \n",
       "\n",
       "   Symbol_Digit  Trail_Making_A  Trail_Making_B  UPSIT  Urine  \n",
       "0           NaN             NaN             NaN    3.0    NaN  \n",
       "\n",
       "[1 rows x 45 columns]"
      ]
     },
     "execution_count": 60,
     "metadata": {},
     "output_type": "execute_result"
    }
   ],
   "source": [
    "def update_values(df3):\n",
    "    # Input from the user for number of columns\n",
    "    num_columns = int(input(\"Enter the number of columns you want to update (minimum 3, maximum 45): \"))\n",
    "    \n",
    "    while num_columns < 3 or num_columns > 45:\n",
    "        print(\"Invalid number of columns. Please enter a number between 3 and 45.\")\n",
    "        num_columns = int(input(\"Enter the number of columns you want to update (minimum 3, maximum 45): \"))\n",
    "    \n",
    "    columns = []\n",
    "    values = []\n",
    "     \n",
    "     # Loop to get input from the user for each column\n",
    "    for i in range(num_columns):\n",
    "        column = input(\"Enter the name of the Feature %d: \" % (i + 1))\n",
    "        value = input(\"Enter the value to update for Feature %d: \" % (i + 1))\n",
    "        \n",
    "        columns.append(column)\n",
    "        values.append(int(value))\n",
    "    \n",
    "    # Update the values in the dataframe\n",
    "    for i in range(num_columns):\n",
    "        df3.loc[df3[columns[i]] != values[i], columns[i]] = values[i]\n",
    "    \n",
    "    return df3\n",
    "\n",
    "# Call the function\n",
    "df3 = update_values(df3)\n",
    "\n",
    "# Print the updated dataframe\n",
    "df3.head()"
   ]
  },
  {
   "cell_type": "code",
   "execution_count": 59,
   "metadata": {
    "ExecuteTime": {
     "end_time": "2023-02-07T09:02:53.134015Z",
     "start_time": "2023-02-07T09:02:53.102753Z"
    },
    "scrolled": true
   },
   "outputs": [
    {
     "data": {
      "text/html": [
       "<div>\n",
       "<style scoped>\n",
       "    .dataframe tbody tr th:only-of-type {\n",
       "        vertical-align: middle;\n",
       "    }\n",
       "\n",
       "    .dataframe tbody tr th {\n",
       "        vertical-align: top;\n",
       "    }\n",
       "\n",
       "    .dataframe thead th {\n",
       "        text-align: right;\n",
       "    }\n",
       "</style>\n",
       "<table border=\"1\" class=\"dataframe\">\n",
       "  <thead>\n",
       "    <tr style=\"text-align: right;\">\n",
       "      <th></th>\n",
       "      <th>Anxiety</th>\n",
       "      <th>Apathy</th>\n",
       "      <th>Benton</th>\n",
       "      <th>Clock</th>\n",
       "      <th>Cognition</th>\n",
       "      <th>COGSTATE</th>\n",
       "      <th>Constipate</th>\n",
       "      <th>Depress</th>\n",
       "      <th>DopaDefic</th>\n",
       "      <th>Education</th>\n",
       "      <th>...</th>\n",
       "      <th>Semantic</th>\n",
       "      <th>SleepDay</th>\n",
       "      <th>SleepNight</th>\n",
       "      <th>STAIA</th>\n",
       "      <th>STAIS</th>\n",
       "      <th>Symbol_Digit</th>\n",
       "      <th>Trail_Making_A</th>\n",
       "      <th>Trail_Making_B</th>\n",
       "      <th>UPSIT</th>\n",
       "      <th>Urine</th>\n",
       "    </tr>\n",
       "  </thead>\n",
       "  <tbody>\n",
       "    <tr>\n",
       "      <th>0</th>\n",
       "      <td>NaN</td>\n",
       "      <td>3.0</td>\n",
       "      <td>NaN</td>\n",
       "      <td>6.0</td>\n",
       "      <td>NaN</td>\n",
       "      <td>NaN</td>\n",
       "      <td>NaN</td>\n",
       "      <td>3.0</td>\n",
       "      <td>NaN</td>\n",
       "      <td>NaN</td>\n",
       "      <td>...</td>\n",
       "      <td>NaN</td>\n",
       "      <td>NaN</td>\n",
       "      <td>NaN</td>\n",
       "      <td>NaN</td>\n",
       "      <td>NaN</td>\n",
       "      <td>NaN</td>\n",
       "      <td>NaN</td>\n",
       "      <td>NaN</td>\n",
       "      <td>NaN</td>\n",
       "      <td>NaN</td>\n",
       "    </tr>\n",
       "  </tbody>\n",
       "</table>\n",
       "<p>1 rows × 45 columns</p>\n",
       "</div>"
      ],
      "text/plain": [
       "   Anxiety  Apathy  Benton  Clock  Cognition  COGSTATE  Constipate  Depress  \\\n",
       "0      NaN     3.0     NaN    6.0        NaN       NaN         NaN      3.0   \n",
       "\n",
       "   DopaDefic  Education  ...  Semantic  SleepDay  SleepNight  STAIA  STAIS  \\\n",
       "0        NaN        NaN  ...       NaN       NaN         NaN    NaN    NaN   \n",
       "\n",
       "   Symbol_Digit  Trail_Making_A  Trail_Making_B  UPSIT  Urine  \n",
       "0           NaN             NaN             NaN    NaN    NaN  \n",
       "\n",
       "[1 rows x 45 columns]"
      ]
     },
     "execution_count": 59,
     "metadata": {},
     "output_type": "execute_result"
    }
   ],
   "source": [
    "# Identify the columns to delete\n",
    "value = 'NaN'\n",
    "to_drop = df3.columns[df3.isin([value]).any()].tolist()\n",
    "df4 = df3.drop(to_drop, axis=1)\n",
    "df4.head()"
   ]
  },
  {
   "cell_type": "markdown",
   "metadata": {},
   "source": [
    "### Scale Transformation"
   ]
  },
  {
   "cell_type": "markdown",
   "metadata": {
    "ExecuteTime": {
     "end_time": "2023-02-06T13:04:22.947976Z",
     "start_time": "2023-02-06T13:04:22.925833Z"
    },
    "scrolled": false
   },
   "source": [
    "df3 = sc.transform(df3)"
   ]
  },
  {
   "cell_type": "markdown",
   "metadata": {
    "ExecuteTime": {
     "end_time": "2023-02-06T13:04:48.213505Z",
     "start_time": "2023-02-06T13:04:48.182242Z"
    },
    "scrolled": false
   },
   "source": [
    "df3"
   ]
  },
  {
   "cell_type": "markdown",
   "metadata": {},
   "source": [
    "### Remove columns empty values with NaN"
   ]
  },
  {
   "cell_type": "markdown",
   "metadata": {},
   "source": [
    "# Perform Transfer Learning"
   ]
  },
  {
   "cell_type": "code",
   "execution_count": 61,
   "metadata": {
    "ExecuteTime": {
     "end_time": "2023-02-07T09:09:44.625064Z",
     "start_time": "2023-02-07T09:09:44.524823Z"
    }
   },
   "outputs": [],
   "source": [
    "# Create a custom layer to wrap the pre-trained model\n",
    "\n",
    "def build(self, batch_input_shape):\n",
    "    self.model.build(batch_input_shape)\n",
    "    super(WrapperLayer, self).build(batch_input_shape)\n",
    "    \n",
    "def call(self, inputs):\n",
    "    return self.model(inputs)\n",
    "\n",
    "input_layer = tf.keras.Input(shape=df3.shape[1:])\n",
    "\n",
    "# Load a pre-trained model\n",
    "model = load_model(\"model_ann.h5\")\n",
    "\n",
    "# Wrap the pre-trained model in the custom layer\n",
    "x = WrapperLayer(model)(input_layer)\n",
    "\n",
    "# Create a new model using the custom input layer and the output from the wrapped pre-trained model\n",
    "model = tf.keras.models.Model(inputs=input_layer, outputs=x)\n",
    "\n",
    "# Compile the model\n",
    "model.compile(optimizer='adam', loss='binary_crossentropy', metrics=['accuracy'])\n"
   ]
  },
  {
   "cell_type": "code",
   "execution_count": 74,
   "metadata": {
    "ExecuteTime": {
     "end_time": "2023-02-07T09:13:54.266165Z",
     "start_time": "2023-02-07T09:13:54.197144Z"
    }
   },
   "outputs": [],
   "source": []
  },
  {
   "cell_type": "code",
   "execution_count": 75,
   "metadata": {
    "ExecuteTime": {
     "end_time": "2023-02-07T09:13:54.814554Z",
     "start_time": "2023-02-07T09:13:54.698608Z"
    }
   },
   "outputs": [
    {
     "name": "stdout",
     "output_type": "stream",
     "text": [
      "The predicted class is: Healthy\n"
     ]
    }
   ],
   "source": [
    "prediction = model.predict(df3)\n",
    "if prediction[0][0] > 0.5:\n",
    "    predicted_class = \"Patient\"\n",
    "else:\n",
    "    predicted_class = \"Healthy\"\n",
    "\n",
    "# Output the result to the user\n",
    "print(\"The predicted class is:\", predicted_class)"
   ]
  },
  {
   "cell_type": "markdown",
   "metadata": {},
   "source": [
    "    The class definition starts with the class name \"WrapperLayer\" which inherits from the \"Layer\" class in the \"tf.keras.layers\" module.\n",
    "    The \"init\" function takes a pre-trained model as input and calls the parent class's \"init\" function using \"super(WrapperLayer, self).init()\".\n",
    "    The \"call\" function takes inputs and returns the output of the pre-trained model when called. This allows the WrapperLayer to behave as if it were the pre-trained model, when it is used as part of a larger model."
   ]
  },
  {
   "cell_type": "markdown",
   "metadata": {},
   "source": [
    "The 0.5 in the line x = tf.keras.layers.Dropout(0.5)(x) is the rate of dropout, meaning that on average, during training, half of the neurons will be randomly dropped out (i.e., ignored), forcing the network to be more robust and prevent overfitting. Dropout is a common regularization technique for deep learning models. The value 0.5 is a common default for the dropout rate, but this value can be tuned based on the specifics of the problem and the data."
   ]
  },
  {
   "cell_type": "markdown",
   "metadata": {},
   "source": [
    "The number 1024 in the dense layer represents the number of neurons/units in the layer. It is a hyperparameter that can be tuned to optimize the performance of the model. The activation function used in this layer is 'relu' (rectified linear unit) which is a popular activation function used in deep learning models. The purpose of using this activation function is to introduce non-linearity in the model, allowing it to learn more complex representations of the data.b"
   ]
  },
  {
   "cell_type": "markdown",
   "metadata": {},
   "source": [
    "The size of the dense layer, in this case 1024, is a hyperparameter that can be tuned. The number of neurons in the dense layer can have an impact on model performance, with too few neurons leading to underfitting and too many neurons leading to overfitting.\n",
    "\n",
    "The number of neurons in the dense layer can be increased when the model needs to capture more complex relationships between the input and output. This can happen when the input data is high dimensional, has a large number of features, or when the relationship between the input and output is non-linear. Increasing the number of neurons in the dense layer can also improve model performance when the model has low capacity, meaning that it is not able to fit the data well with a small number of neurons.\n",
    "\n",
    "On the other hand, the number of neurons in the dense layer can be decreased when the model is overfitting, meaning that it is fitting the training data too well and is not generalizing well to new data. Decreasing the number of neurons in the dense layer can simplify the model and help it to generalize better to new data.\n",
    "\n",
    "Ultimately, the optimal number of neurons in the dense layer depends on the specific task and data, and finding the right number can require some trial and error. It is common to use techniques such as cross-validation and grid search to find the best hyperparameters for a particular task."
   ]
  },
  {
   "cell_type": "markdown",
   "metadata": {},
   "source": [
    "x = tf.keras.layers.Flatten()(x) is a line of code that uses the Flatten layer from TensorFlow's tf.keras API. The purpose of this layer is to flatten the input tensor into a 1D array.\n",
    "\n",
    "Before flattening, the input tensor might have multiple dimensions (such as height, width, and depth dimensions in a convolutional neural network). The Flatten layer takes in this tensor and reshapes it into a 1D array, which is then used as input to the next layer in the model."
   ]
  }
 ],
 "metadata": {
  "colab": {
   "authorship_tag": "ABX9TyMeRFWFoGrdaL5S3dx5MWmb",
   "collapsed_sections": [],
   "name": "artificial_neural_network.ipynb",
   "provenance": [],
   "toc_visible": true
  },
  "kernelspec": {
   "display_name": "Python 3 (ipykernel)",
   "language": "python",
   "name": "python3"
  },
  "language_info": {
   "codemirror_mode": {
    "name": "ipython",
    "version": 3
   },
   "file_extension": ".py",
   "mimetype": "text/x-python",
   "name": "python",
   "nbconvert_exporter": "python",
   "pygments_lexer": "ipython3",
   "version": "3.9.16"
  },
  "toc": {
   "base_numbering": 1,
   "nav_menu": {},
   "number_sections": true,
   "sideBar": true,
   "skip_h1_title": false,
   "title_cell": "Table of Contents",
   "title_sidebar": "Contents",
   "toc_cell": false,
   "toc_position": {},
   "toc_section_display": true,
   "toc_window_display": false
  },
  "varInspector": {
   "cols": {
    "lenName": 16,
    "lenType": 16,
    "lenVar": 40
   },
   "kernels_config": {
    "python": {
     "delete_cmd_postfix": "",
     "delete_cmd_prefix": "del ",
     "library": "var_list.py",
     "varRefreshCmd": "print(var_dic_list())"
    },
    "r": {
     "delete_cmd_postfix": ") ",
     "delete_cmd_prefix": "rm(",
     "library": "var_list.r",
     "varRefreshCmd": "cat(var_dic_list()) "
    }
   },
   "types_to_exclude": [
    "module",
    "function",
    "builtin_function_or_method",
    "instance",
    "_Feature"
   ],
   "window_display": false
  }
 },
 "nbformat": 4,
 "nbformat_minor": 1
}
