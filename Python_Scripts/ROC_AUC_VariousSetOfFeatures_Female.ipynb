{
 "cells": [
  {
   "cell_type": "markdown",
   "metadata": {},
   "source": [
    "# Multiple ROC-AUC in one plot"
   ]
  },
  {
   "cell_type": "code",
   "execution_count": 1,
   "metadata": {
    "ExecuteTime": {
     "end_time": "2023-08-21T05:28:54.755121Z",
     "start_time": "2023-08-21T05:28:52.595826Z"
    },
    "colab": {},
    "colab_type": "code",
    "id": "YvGPUQaHhXfL",
    "run_control": {
     "marked": false
    }
   },
   "outputs": [],
   "source": [
    "import random\n",
    "import numpy as np\n",
    "import pandas as pd\n",
    "import seaborn as sn\n",
    "from numpy import std\n",
    "from numpy import mean\n",
    "from sklearn import metrics\n",
    "import matplotlib.pyplot as plt\n",
    "from sklearn.metrics import RocCurveDisplay\n",
    "from sklearn.datasets import make_classification\n",
    "from sklearn.preprocessing import StandardScaler\n",
    "from sklearn.model_selection import cross_val_score\n",
    "from sklearn.ensemble import RandomForestClassifier\n",
    "from sklearn.model_selection import StratifiedKFold\n",
    "from sklearn.model_selection import train_test_split\n",
    "from sklearn.model_selection import cross_val_predict\n",
    "from sklearn.metrics import roc_curve, auc, plot_roc_curve\n",
    "from sklearn.model_selection import RepeatedStratifiedKFold\n",
    "from sklearn.metrics import confusion_matrix, accuracy_score\n",
    "%matplotlib inline"
   ]
  },
  {
   "cell_type": "markdown",
   "metadata": {},
   "source": [
    "## Loading Different Sets"
   ]
  },
  {
   "cell_type": "code",
   "execution_count": 2,
   "metadata": {
    "ExecuteTime": {
     "end_time": "2023-08-21T05:28:54.801976Z",
     "start_time": "2023-08-21T05:28:54.755121Z"
    }
   },
   "outputs": [
    {
     "name": "stdout",
     "output_type": "stream",
     "text": [
      "Z:\\PPMI_Data\\Excels\\NonMotors\\The251\\Female\n",
      "(84, 46)\n"
     ]
    },
    {
     "data": {
      "text/html": [
       "<div>\n",
       "<style scoped>\n",
       "    .dataframe tbody tr th:only-of-type {\n",
       "        vertical-align: middle;\n",
       "    }\n",
       "\n",
       "    .dataframe tbody tr th {\n",
       "        vertical-align: top;\n",
       "    }\n",
       "\n",
       "    .dataframe thead th {\n",
       "        text-align: right;\n",
       "    }\n",
       "</style>\n",
       "<table border=\"1\" class=\"dataframe\">\n",
       "  <thead>\n",
       "    <tr style=\"text-align: right;\">\n",
       "      <th></th>\n",
       "      <th>APPRDX</th>\n",
       "      <th>Benton</th>\n",
       "      <th>Clock</th>\n",
       "      <th>COGSTATE</th>\n",
       "      <th>Epworth</th>\n",
       "      <th>Geriatric_Depression</th>\n",
       "      <th>Hopkins_Recall</th>\n",
       "      <th>Hopkins_Recog</th>\n",
       "      <th>LetterNumber</th>\n",
       "      <th>Lexical_Fluency</th>\n",
       "      <th>...</th>\n",
       "      <th>SCOPA_Sex</th>\n",
       "      <th>Semantic</th>\n",
       "      <th>Education</th>\n",
       "      <th>Hand</th>\n",
       "      <th>STAIS</th>\n",
       "      <th>STAIA</th>\n",
       "      <th>Symbol_Digit</th>\n",
       "      <th>Trail_Making_A</th>\n",
       "      <th>Trail_Making_B</th>\n",
       "      <th>UPSIT</th>\n",
       "    </tr>\n",
       "  </thead>\n",
       "  <tbody>\n",
       "    <tr>\n",
       "      <th>0</th>\n",
       "      <td>0</td>\n",
       "      <td>0</td>\n",
       "      <td>0</td>\n",
       "      <td>0</td>\n",
       "      <td>1</td>\n",
       "      <td>1</td>\n",
       "      <td>0</td>\n",
       "      <td>0</td>\n",
       "      <td>1</td>\n",
       "      <td>1</td>\n",
       "      <td>...</td>\n",
       "      <td>1</td>\n",
       "      <td>0</td>\n",
       "      <td>1</td>\n",
       "      <td>0</td>\n",
       "      <td>2</td>\n",
       "      <td>1</td>\n",
       "      <td>1</td>\n",
       "      <td>2</td>\n",
       "      <td>1</td>\n",
       "      <td>2</td>\n",
       "    </tr>\n",
       "    <tr>\n",
       "      <th>1</th>\n",
       "      <td>0</td>\n",
       "      <td>0</td>\n",
       "      <td>0</td>\n",
       "      <td>1</td>\n",
       "      <td>0</td>\n",
       "      <td>0</td>\n",
       "      <td>0</td>\n",
       "      <td>0</td>\n",
       "      <td>1</td>\n",
       "      <td>2</td>\n",
       "      <td>...</td>\n",
       "      <td>0</td>\n",
       "      <td>1</td>\n",
       "      <td>0</td>\n",
       "      <td>0</td>\n",
       "      <td>1</td>\n",
       "      <td>1</td>\n",
       "      <td>2</td>\n",
       "      <td>2</td>\n",
       "      <td>1</td>\n",
       "      <td>1</td>\n",
       "    </tr>\n",
       "  </tbody>\n",
       "</table>\n",
       "<p>2 rows × 46 columns</p>\n",
       "</div>"
      ],
      "text/plain": [
       "   APPRDX  Benton  Clock  COGSTATE  Epworth  Geriatric_Depression  \\\n",
       "0       0       0      0         0        1                     1   \n",
       "1       0       0      0         1        0                     0   \n",
       "\n",
       "   Hopkins_Recall  Hopkins_Recog  LetterNumber  Lexical_Fluency  ...  \\\n",
       "0               0              0             1                1  ...   \n",
       "1               0              0             1                2  ...   \n",
       "\n",
       "   SCOPA_Sex  Semantic  Education  Hand  STAIS  STAIA  Symbol_Digit  \\\n",
       "0          1         0          1     0      2      1             1   \n",
       "1          0         1          0     0      1      1             2   \n",
       "\n",
       "   Trail_Making_A  Trail_Making_B  UPSIT  \n",
       "0               2               1      2  \n",
       "1               2               1      1  \n",
       "\n",
       "[2 rows x 46 columns]"
      ]
     },
     "execution_count": 2,
     "metadata": {},
     "output_type": "execute_result"
    }
   ],
   "source": [
    "# All 45\n",
    "%cd Z:\\PPMI_Data\\Excels\\NonMotors\\The251\\Female\n",
    "df1 = pd.read_csv('Feats45_CategAge_APPRDX_Female_Edit.csv')\n",
    "df1 = df1.drop(['PATNO'], axis=1)\n",
    "df1['APPRDX'] = df1['APPRDX'] -1\n",
    "print(df1.shape)\n",
    "df1.head(2)"
   ]
  },
  {
   "cell_type": "code",
   "execution_count": 3,
   "metadata": {
    "ExecuteTime": {
     "end_time": "2023-08-21T05:28:54.833197Z",
     "start_time": "2023-08-21T05:28:54.801976Z"
    },
    "scrolled": false
   },
   "outputs": [
    {
     "name": "stdout",
     "output_type": "stream",
     "text": [
      "(84, 6)\n"
     ]
    },
    {
     "data": {
      "text/html": [
       "<div>\n",
       "<style scoped>\n",
       "    .dataframe tbody tr th:only-of-type {\n",
       "        vertical-align: middle;\n",
       "    }\n",
       "\n",
       "    .dataframe tbody tr th {\n",
       "        vertical-align: top;\n",
       "    }\n",
       "\n",
       "    .dataframe thead th {\n",
       "        text-align: right;\n",
       "    }\n",
       "</style>\n",
       "<table border=\"1\" class=\"dataframe\">\n",
       "  <thead>\n",
       "    <tr style=\"text-align: right;\">\n",
       "      <th></th>\n",
       "      <th>APPRDX</th>\n",
       "      <th>UPSIT</th>\n",
       "      <th>MDSP_Constipate</th>\n",
       "      <th>Trail_Making_B</th>\n",
       "      <th>MDSP_Pain</th>\n",
       "      <th>Montreal_Cognitive</th>\n",
       "    </tr>\n",
       "  </thead>\n",
       "  <tbody>\n",
       "    <tr>\n",
       "      <th>0</th>\n",
       "      <td>0</td>\n",
       "      <td>2</td>\n",
       "      <td>1</td>\n",
       "      <td>1</td>\n",
       "      <td>1</td>\n",
       "      <td>0</td>\n",
       "    </tr>\n",
       "    <tr>\n",
       "      <th>1</th>\n",
       "      <td>0</td>\n",
       "      <td>1</td>\n",
       "      <td>0</td>\n",
       "      <td>1</td>\n",
       "      <td>1</td>\n",
       "      <td>0</td>\n",
       "    </tr>\n",
       "  </tbody>\n",
       "</table>\n",
       "</div>"
      ],
      "text/plain": [
       "   APPRDX  UPSIT  MDSP_Constipate  Trail_Making_B  MDSP_Pain  \\\n",
       "0       0      2                1               1          1   \n",
       "1       0      1                0               1          1   \n",
       "\n",
       "   Montreal_Cognitive  \n",
       "0                   0  \n",
       "1                   0  "
      ]
     },
     "execution_count": 3,
     "metadata": {},
     "output_type": "execute_result"
    }
   ],
   "source": [
    "# Decision Tree\n",
    "df2 = pd.read_csv('DecTree_All45Feats_Data_Female.csv')\n",
    "df2 = df2.drop(['PATNO'], axis=1)\n",
    "df2['APPRDX'] = df2['APPRDX'] -1\n",
    "print(df2.shape)\n",
    "df2.head(2)"
   ]
  },
  {
   "cell_type": "code",
   "execution_count": 4,
   "metadata": {
    "ExecuteTime": {
     "end_time": "2023-08-21T05:28:54.886621Z",
     "start_time": "2023-08-21T05:28:54.833197Z"
    }
   },
   "outputs": [
    {
     "name": "stdout",
     "output_type": "stream",
     "text": [
      "(84, 11)\n"
     ]
    },
    {
     "data": {
      "text/html": [
       "<div>\n",
       "<style scoped>\n",
       "    .dataframe tbody tr th:only-of-type {\n",
       "        vertical-align: middle;\n",
       "    }\n",
       "\n",
       "    .dataframe tbody tr th {\n",
       "        vertical-align: top;\n",
       "    }\n",
       "\n",
       "    .dataframe thead th {\n",
       "        text-align: right;\n",
       "    }\n",
       "</style>\n",
       "<table border=\"1\" class=\"dataframe\">\n",
       "  <thead>\n",
       "    <tr style=\"text-align: right;\">\n",
       "      <th></th>\n",
       "      <th>APPRDX</th>\n",
       "      <th>UPSIT</th>\n",
       "      <th>Montreal_Cognitive</th>\n",
       "      <th>MDSP_Pain</th>\n",
       "      <th>Semantic</th>\n",
       "      <th>Benton</th>\n",
       "      <th>SCOPA_Thermo</th>\n",
       "      <th>SCOPA_Sex</th>\n",
       "      <th>LetterNumber</th>\n",
       "      <th>MDSP_Constipate</th>\n",
       "      <th>REM_Dream</th>\n",
       "    </tr>\n",
       "  </thead>\n",
       "  <tbody>\n",
       "    <tr>\n",
       "      <th>0</th>\n",
       "      <td>0</td>\n",
       "      <td>2</td>\n",
       "      <td>0</td>\n",
       "      <td>1</td>\n",
       "      <td>0</td>\n",
       "      <td>0</td>\n",
       "      <td>1</td>\n",
       "      <td>1</td>\n",
       "      <td>1</td>\n",
       "      <td>1</td>\n",
       "      <td>2</td>\n",
       "    </tr>\n",
       "    <tr>\n",
       "      <th>1</th>\n",
       "      <td>0</td>\n",
       "      <td>1</td>\n",
       "      <td>0</td>\n",
       "      <td>1</td>\n",
       "      <td>1</td>\n",
       "      <td>0</td>\n",
       "      <td>1</td>\n",
       "      <td>0</td>\n",
       "      <td>1</td>\n",
       "      <td>0</td>\n",
       "      <td>1</td>\n",
       "    </tr>\n",
       "  </tbody>\n",
       "</table>\n",
       "</div>"
      ],
      "text/plain": [
       "   APPRDX  UPSIT  Montreal_Cognitive  MDSP_Pain  Semantic  Benton  \\\n",
       "0       0      2                   0          1         0       0   \n",
       "1       0      1                   0          1         1       0   \n",
       "\n",
       "   SCOPA_Thermo  SCOPA_Sex  LetterNumber  MDSP_Constipate  REM_Dream  \n",
       "0             1          1             1                1          2  \n",
       "1             1          0             1                0          1  "
      ]
     },
     "execution_count": 4,
     "metadata": {},
     "output_type": "execute_result"
    }
   ],
   "source": [
    "# Random Forest\n",
    "df3 = pd.read_csv('RanFor_All45Feats_Data_Female.csv')\n",
    "df3 = df3.drop(['PATNO'], axis=1)\n",
    "df3['APPRDX'] = df3['APPRDX'] -1\n",
    "print(df3.shape)\n",
    "df3.head(2)"
   ]
  },
  {
   "cell_type": "code",
   "execution_count": 5,
   "metadata": {
    "ExecuteTime": {
     "end_time": "2023-08-21T05:28:54.955609Z",
     "start_time": "2023-08-21T05:28:54.886621Z"
    },
    "scrolled": true
   },
   "outputs": [
    {
     "name": "stdout",
     "output_type": "stream",
     "text": [
      "(84, 5)\n"
     ]
    },
    {
     "data": {
      "text/html": [
       "<div>\n",
       "<style scoped>\n",
       "    .dataframe tbody tr th:only-of-type {\n",
       "        vertical-align: middle;\n",
       "    }\n",
       "\n",
       "    .dataframe tbody tr th {\n",
       "        vertical-align: top;\n",
       "    }\n",
       "\n",
       "    .dataframe thead th {\n",
       "        text-align: right;\n",
       "    }\n",
       "</style>\n",
       "<table border=\"1\" class=\"dataframe\">\n",
       "  <thead>\n",
       "    <tr style=\"text-align: right;\">\n",
       "      <th></th>\n",
       "      <th>APPRDX</th>\n",
       "      <th>MDSP_Constipate</th>\n",
       "      <th>Montreal_Cognitive</th>\n",
       "      <th>SCOPA_Gastro</th>\n",
       "      <th>UPSIT</th>\n",
       "    </tr>\n",
       "  </thead>\n",
       "  <tbody>\n",
       "    <tr>\n",
       "      <th>0</th>\n",
       "      <td>0</td>\n",
       "      <td>1</td>\n",
       "      <td>0</td>\n",
       "      <td>1</td>\n",
       "      <td>2</td>\n",
       "    </tr>\n",
       "    <tr>\n",
       "      <th>1</th>\n",
       "      <td>0</td>\n",
       "      <td>0</td>\n",
       "      <td>0</td>\n",
       "      <td>1</td>\n",
       "      <td>1</td>\n",
       "    </tr>\n",
       "  </tbody>\n",
       "</table>\n",
       "</div>"
      ],
      "text/plain": [
       "   APPRDX  MDSP_Constipate  Montreal_Cognitive  SCOPA_Gastro  UPSIT\n",
       "0       0                1                   0             1      2\n",
       "1       0                0                   0             1      1"
      ]
     },
     "execution_count": 5,
     "metadata": {},
     "output_type": "execute_result"
    }
   ],
   "source": [
    "# Boruta\n",
    "df4 = pd.read_csv('BorutaR_All45Feats_Data_Female.csv')\n",
    "df4 = df4.drop(['PATNO'], axis=1)\n",
    "df4['APPRDX'] = df4['APPRDX'] -1\n",
    "print(df4.shape)\n",
    "df4.head(2)"
   ]
  },
  {
   "cell_type": "code",
   "execution_count": 6,
   "metadata": {
    "ExecuteTime": {
     "end_time": "2023-08-21T05:28:55.018109Z",
     "start_time": "2023-08-21T05:28:54.955609Z"
    },
    "scrolled": true
   },
   "outputs": [
    {
     "name": "stdout",
     "output_type": "stream",
     "text": [
      "(84, 18)\n"
     ]
    },
    {
     "data": {
      "text/html": [
       "<div>\n",
       "<style scoped>\n",
       "    .dataframe tbody tr th:only-of-type {\n",
       "        vertical-align: middle;\n",
       "    }\n",
       "\n",
       "    .dataframe tbody tr th {\n",
       "        vertical-align: top;\n",
       "    }\n",
       "\n",
       "    .dataframe thead th {\n",
       "        text-align: right;\n",
       "    }\n",
       "</style>\n",
       "<table border=\"1\" class=\"dataframe\">\n",
       "  <thead>\n",
       "    <tr style=\"text-align: right;\">\n",
       "      <th></th>\n",
       "      <th>APPRDX</th>\n",
       "      <th>Benton</th>\n",
       "      <th>LetterNumber</th>\n",
       "      <th>Lexical_Fluency</th>\n",
       "      <th>MDSP_Constipate</th>\n",
       "      <th>MDSP_LightHead</th>\n",
       "      <th>MDSP_Pain</th>\n",
       "      <th>MDSP_Urine</th>\n",
       "      <th>Montreal_Cognitive</th>\n",
       "      <th>REM_Dream</th>\n",
       "      <th>SCOPA_Gastro</th>\n",
       "      <th>SCOPA_Sex</th>\n",
       "      <th>SCOPA_Thermo</th>\n",
       "      <th>SCOPA_Urine</th>\n",
       "      <th>Semantic</th>\n",
       "      <th>STAIS</th>\n",
       "      <th>Trail_Making_B</th>\n",
       "      <th>UPSIT</th>\n",
       "    </tr>\n",
       "  </thead>\n",
       "  <tbody>\n",
       "    <tr>\n",
       "      <th>0</th>\n",
       "      <td>0</td>\n",
       "      <td>0</td>\n",
       "      <td>1</td>\n",
       "      <td>1</td>\n",
       "      <td>1</td>\n",
       "      <td>0</td>\n",
       "      <td>1</td>\n",
       "      <td>1</td>\n",
       "      <td>0</td>\n",
       "      <td>2</td>\n",
       "      <td>1</td>\n",
       "      <td>1</td>\n",
       "      <td>1</td>\n",
       "      <td>1</td>\n",
       "      <td>0</td>\n",
       "      <td>2</td>\n",
       "      <td>1</td>\n",
       "      <td>2</td>\n",
       "    </tr>\n",
       "    <tr>\n",
       "      <th>1</th>\n",
       "      <td>0</td>\n",
       "      <td>0</td>\n",
       "      <td>1</td>\n",
       "      <td>2</td>\n",
       "      <td>0</td>\n",
       "      <td>0</td>\n",
       "      <td>1</td>\n",
       "      <td>0</td>\n",
       "      <td>0</td>\n",
       "      <td>1</td>\n",
       "      <td>1</td>\n",
       "      <td>0</td>\n",
       "      <td>1</td>\n",
       "      <td>1</td>\n",
       "      <td>1</td>\n",
       "      <td>1</td>\n",
       "      <td>1</td>\n",
       "      <td>1</td>\n",
       "    </tr>\n",
       "  </tbody>\n",
       "</table>\n",
       "</div>"
      ],
      "text/plain": [
       "   APPRDX  Benton  LetterNumber  Lexical_Fluency  MDSP_Constipate  \\\n",
       "0       0       0             1                1                1   \n",
       "1       0       0             1                2                0   \n",
       "\n",
       "   MDSP_LightHead  MDSP_Pain  MDSP_Urine  Montreal_Cognitive  REM_Dream  \\\n",
       "0               0          1           1                   0          2   \n",
       "1               0          1           0                   0          1   \n",
       "\n",
       "   SCOPA_Gastro  SCOPA_Sex  SCOPA_Thermo  SCOPA_Urine  Semantic  STAIS  \\\n",
       "0             1          1             1            1         0      2   \n",
       "1             1          0             1            1         1      1   \n",
       "\n",
       "   Trail_Making_B  UPSIT  \n",
       "0               1      2  \n",
       "1               1      1  "
      ]
     },
     "execution_count": 6,
     "metadata": {},
     "output_type": "execute_result"
    }
   ],
   "source": [
    "# All in 4 Methods\n",
    "df5 = pd.read_csv('AllCommon_inAll45Feats_Data_Female.csv')\n",
    "#df5 = df5.drop(['PATNO'], axis=1)\n",
    "df5['APPRDX'] = df5['APPRDX'] -1\n",
    "print(df5.shape)\n",
    "df5.head(2)"
   ]
  },
  {
   "cell_type": "code",
   "execution_count": 7,
   "metadata": {
    "ExecuteTime": {
     "end_time": "2023-08-21T05:28:55.087147Z",
     "start_time": "2023-08-21T05:28:55.018109Z"
    }
   },
   "outputs": [
    {
     "name": "stdout",
     "output_type": "stream",
     "text": [
      "(84, 6)\n"
     ]
    },
    {
     "data": {
      "text/html": [
       "<div>\n",
       "<style scoped>\n",
       "    .dataframe tbody tr th:only-of-type {\n",
       "        vertical-align: middle;\n",
       "    }\n",
       "\n",
       "    .dataframe tbody tr th {\n",
       "        vertical-align: top;\n",
       "    }\n",
       "\n",
       "    .dataframe thead th {\n",
       "        text-align: right;\n",
       "    }\n",
       "</style>\n",
       "<table border=\"1\" class=\"dataframe\">\n",
       "  <thead>\n",
       "    <tr style=\"text-align: right;\">\n",
       "      <th></th>\n",
       "      <th>APPRDX</th>\n",
       "      <th>MDSP_Constipate</th>\n",
       "      <th>MDSP_Pain</th>\n",
       "      <th>Montreal_Cognitive</th>\n",
       "      <th>SCOPA_Gastro</th>\n",
       "      <th>UPSIT</th>\n",
       "    </tr>\n",
       "  </thead>\n",
       "  <tbody>\n",
       "    <tr>\n",
       "      <th>0</th>\n",
       "      <td>0</td>\n",
       "      <td>1</td>\n",
       "      <td>1</td>\n",
       "      <td>0</td>\n",
       "      <td>1</td>\n",
       "      <td>2</td>\n",
       "    </tr>\n",
       "    <tr>\n",
       "      <th>1</th>\n",
       "      <td>0</td>\n",
       "      <td>0</td>\n",
       "      <td>1</td>\n",
       "      <td>0</td>\n",
       "      <td>1</td>\n",
       "      <td>1</td>\n",
       "    </tr>\n",
       "  </tbody>\n",
       "</table>\n",
       "</div>"
      ],
      "text/plain": [
       "   APPRDX  MDSP_Constipate  MDSP_Pain  Montreal_Cognitive  SCOPA_Gastro  UPSIT\n",
       "0       0                1          1                   0             1      2\n",
       "1       0                0          1                   0             1      1"
      ]
     },
     "execution_count": 7,
     "metadata": {},
     "output_type": "execute_result"
    }
   ],
   "source": [
    "# Common in any 2\n",
    "df6 = pd.read_csv('Any2Common_inAll45Feats_Data_Female.csv')\n",
    "df6 = df6.drop(['PATNO'], axis=1)\n",
    "df6['APPRDX'] = df6['APPRDX'] -1\n",
    "print(df6.shape)\n",
    "df6.head(2)"
   ]
  },
  {
   "cell_type": "code",
   "execution_count": 10,
   "metadata": {
    "ExecuteTime": {
     "end_time": "2023-08-21T05:29:19.392959Z",
     "start_time": "2023-08-21T05:29:12.461205Z"
    }
   },
   "outputs": [
    {
     "data": {
      "image/png": "[encoded data removed]",
      "text/plain": [
       "<Figure size 640x480 with 1 Axes>"
      ]
     },
     "metadata": {},
     "output_type": "display_data"
    }
   ],
   "source": [
    "# First DataFrame\n",
    "dataset1 = df1.groupby('APPRDX').apply(lambda x: x.sample(20, random_state=1))\n",
    "X1 = dataset1.iloc[:, 1:].values\n",
    "y1 = dataset1.iloc[:, 0].values\n",
    "classifier1 = RandomForestClassifier(n_estimators=100, criterion='gini')\n",
    "\n",
    "# Generate predicted probabilities using cross-validation\n",
    "y_prob1 = cross_val_predict(classifier1, X1, y1, cv=10, method='predict_proba')\n",
    "\n",
    "# Calculate the false positive rate and true positive rate for different thresholds\n",
    "fpr1, tpr1, thresholds1 = roc_curve(y1, y_prob1[:, 1], pos_label=1)\n",
    "\n",
    "# Calculate the area under the ROC curve\n",
    "roc_auc1 = auc(fpr1, tpr1)\n",
    "\n",
    "# Second DataFrame\n",
    "dataset2 = df2.groupby('APPRDX').apply(lambda x: x.sample(20, random_state=1))\n",
    "X2 = dataset2.iloc[:, 1:].values\n",
    "y2 = dataset2.iloc[:, 0].values\n",
    "classifier2 = RandomForestClassifier(n_estimators=100, criterion='gini')\n",
    "y_prob2 = cross_val_predict(classifier2, X2, y2, cv=10, method='predict_proba')\n",
    "fpr2, tpr2, thresholds2 = roc_curve(y2, y_prob2[:, 1], pos_label=1)\n",
    "roc_auc2 = auc(fpr2, tpr2)\n",
    "\n",
    "# Third DataFrame\n",
    "dataset3 = df3.groupby('APPRDX').apply(lambda x: x.sample(20, random_state=1))\n",
    "X3 = dataset3.iloc[:, 1:].values\n",
    "y3 = dataset3.iloc[:, 0].values\n",
    "classifier3 = RandomForestClassifier(n_estimators=100, criterion='gini')\n",
    "y_prob3 = cross_val_predict(classifier3, X3, y3, cv=10, method='predict_proba')\n",
    "fpr3, tpr3, thresholds3 = roc_curve(y3, y_prob3[:, 1], pos_label=1)\n",
    "roc_auc3 = auc(fpr3, tpr3)\n",
    "\n",
    "# Fourth DataFrame\n",
    "dataset4 = df4.groupby('APPRDX').apply(lambda x: x.sample(20, random_state=1))\n",
    "X4 = dataset4.iloc[:, 1:].values\n",
    "y4 = dataset4.iloc[:, 0].values\n",
    "classifier4 = RandomForestClassifier(n_estimators=100, criterion='gini')\n",
    "y_prob4 = cross_val_predict(classifier4, X4, y4, cv=10, method='predict_proba')\n",
    "fpr4, tpr4, thresholds4 = roc_curve(y4, y_prob4[:, 1], pos_label=1)\n",
    "roc_auc4 = auc(fpr4, tpr4)\n",
    "\n",
    "# Fifth DataFrame\n",
    "dataset5 = df5.groupby('APPRDX').apply(lambda x: x.sample(20, random_state=1))\n",
    "X5 = dataset5.iloc[:, 1:].values\n",
    "y5 = dataset5.iloc[:, 0].values\n",
    "classifier5 = RandomForestClassifier(n_estimators=100, criterion='gini')\n",
    "y_prob5 = cross_val_predict(classifier5, X5, y5, cv=10, method='predict_proba')\n",
    "fpr5, tpr5, thresholds5 = roc_curve(y5, y_prob5[:, 1], pos_label=1)\n",
    "roc_auc5 = auc(fpr5, tpr5)\n",
    "\n",
    "# Sixth DataFrame\n",
    "dataset6 = df6.groupby('APPRDX').apply(lambda x: x.sample(20, random_state=1))\n",
    "X6 = dataset6.iloc[:, 1:].values\n",
    "y6 = dataset6.iloc[:, 0].values\n",
    "classifier6 = RandomForestClassifier(n_estimators=100, criterion='gini')\n",
    "y_prob6 = cross_val_predict(classifier6, X6, y6, cv=10, method='predict_proba')\n",
    "fpr6, tpr6, thresholds6 = roc_curve(y6, y_prob6[:, 1], pos_label=1)\n",
    "roc_auc6 = auc(fpr6, tpr6)\n",
    "\n",
    "\n",
    "# Plot the ROC curves for all three dataframes in a single plot\n",
    "plt.plot(fpr1, tpr1, color='g', lw=2, label='All 45 Features (AUC = %0.2f)' % roc_auc1)\n",
    "plt.plot(fpr2, tpr2, color='r', lw=2, label='Decision Tree (AUC = %0.2f)' % roc_auc2)\n",
    "plt.plot(fpr3, tpr3, color='b', lw=2, label='Random Forest (AUC = %0.2f)' % roc_auc3)\n",
    "plt.plot(fpr4, tpr4, color='y', lw=2, label='Boruta (AUC = %0.2f)' % roc_auc4)\n",
    "plt.plot(fpr5, tpr5, color='m', lw=2, label='Features in all 4 (AUC = %0.2f)' % roc_auc5)\n",
    "plt.plot(fpr6, tpr6, color='c', lw=2, label='Common Features (AUC = %0.2f)' % roc_auc6)\n",
    "plt.plot([0, 1], [0, 1], color='k', lw=1.5, linestyle='--')\n",
    "plt.xlim([0.0, 1.0])\n",
    "plt.ylim([0.0, 1.05])\n",
    "plt.xticks(fontweight='bold')\n",
    "plt.yticks(fontweight='bold')\n",
    "plt.xlabel('False Positive Rate', fontweight='bold', fontsize=12)\n",
    "plt.ylabel('True Positive Rate', fontweight='bold', fontsize=12)\n",
    "plt.title('ROC-AUC: Various set of Features - Female', fontweight='bold', fontsize=14)\n",
    "plt.legend(loc=\"lower right\")\n",
    "\n",
    "# Save the plot as SVG and PDF files\n",
    "plt.savefig('ROC_AUC_VariousFeats_Female.svg')\n",
    "plt.savefig('ROC_AUC_VariousFeats_Female.pdf')\n",
    "\n",
    "# Show the plot\n",
    "plt.show()"
   ]
  },
  {
   "cell_type": "code",
   "execution_count": null,
   "metadata": {},
   "outputs": [],
   "source": []
  },
  {
   "cell_type": "code",
   "execution_count": 9,
   "metadata": {
    "ExecuteTime": {
     "end_time": "2023-08-21T05:29:02.255272Z",
     "start_time": "2023-08-21T05:29:02.192771Z"
    }
   },
   "outputs": [
    {
     "data": {
      "text/html": [
       "<div>\n",
       "<style scoped>\n",
       "    .dataframe tbody tr th:only-of-type {\n",
       "        vertical-align: middle;\n",
       "    }\n",
       "\n",
       "    .dataframe tbody tr th {\n",
       "        vertical-align: top;\n",
       "    }\n",
       "\n",
       "    .dataframe thead th {\n",
       "        text-align: right;\n",
       "    }\n",
       "</style>\n",
       "<table border=\"1\" class=\"dataframe\">\n",
       "  <thead>\n",
       "    <tr style=\"text-align: right;\">\n",
       "      <th></th>\n",
       "      <th>All_45_Features</th>\n",
       "      <th>Decision_Tree</th>\n",
       "      <th>Random_Forest</th>\n",
       "      <th>Boruta</th>\n",
       "      <th>Features_inAll4</th>\n",
       "      <th>Common_Features</th>\n",
       "    </tr>\n",
       "  </thead>\n",
       "  <tbody>\n",
       "    <tr>\n",
       "      <th>Sensitivity</th>\n",
       "      <td>0.8</td>\n",
       "      <td>0.75</td>\n",
       "      <td>0.900</td>\n",
       "      <td>0.80</td>\n",
       "      <td>0.800</td>\n",
       "      <td>0.750</td>\n",
       "    </tr>\n",
       "    <tr>\n",
       "      <th>Specificity</th>\n",
       "      <td>0.8</td>\n",
       "      <td>0.85</td>\n",
       "      <td>0.650</td>\n",
       "      <td>0.90</td>\n",
       "      <td>0.850</td>\n",
       "      <td>0.900</td>\n",
       "    </tr>\n",
       "    <tr>\n",
       "      <th>Balanced Accuracy</th>\n",
       "      <td>0.8</td>\n",
       "      <td>0.80</td>\n",
       "      <td>0.775</td>\n",
       "      <td>0.85</td>\n",
       "      <td>0.825</td>\n",
       "      <td>0.825</td>\n",
       "    </tr>\n",
       "  </tbody>\n",
       "</table>\n",
       "</div>"
      ],
      "text/plain": [
       "                   All_45_Features  Decision_Tree  Random_Forest  Boruta  \\\n",
       "Sensitivity                    0.8           0.75          0.900    0.80   \n",
       "Specificity                    0.8           0.85          0.650    0.90   \n",
       "Balanced Accuracy              0.8           0.80          0.775    0.85   \n",
       "\n",
       "                   Features_inAll4  Common_Features  \n",
       "Sensitivity                  0.800            0.750  \n",
       "Specificity                  0.850            0.900  \n",
       "Balanced Accuracy            0.825            0.825  "
      ]
     },
     "execution_count": 9,
     "metadata": {},
     "output_type": "execute_result"
    }
   ],
   "source": [
    "# First DataFrame\n",
    "tn1, fp1, fn1, tp1 = confusion_matrix(y1, np.argmax(y_prob1, axis=1)).ravel()\n",
    "sensitivity1 = tp1 / (tp1 + fn1)\n",
    "specificity1 = tn1 / (tn1 + fp1)\n",
    "balanced_accuracy1 = (sensitivity1 + specificity1) / 2\n",
    "\n",
    "#Second DataFrame\n",
    "tn2, fp2, fn2, tp2 = confusion_matrix(y2, np.argmax(y_prob2, axis=1)).ravel()\n",
    "sensitivity2 = tp2 / (tp2 + fn2)\n",
    "specificity2 = tn2 / (tn2 + fp2)\n",
    "balanced_accuracy2 = (sensitivity2 + specificity2) / 2\n",
    "\n",
    "#Third DataFrame\n",
    "tn3, fp3, fn3, tp3 = confusion_matrix(y3, np.argmax(y_prob3, axis=1)).ravel()\n",
    "sensitivity3 = tp3 / (tp3 + fn3)\n",
    "specificity3 = tn3 / (tn3 + fp3)\n",
    "balanced_accuracy3 = (sensitivity3 + specificity3) / 2\n",
    "\n",
    "#Fourth DataFrame\n",
    "tn4, fp4, fn4, tp4 = confusion_matrix(y4, np.argmax(y_prob4, axis=1)).ravel()\n",
    "sensitivity4 = tp4 / (tp4 + fn4)\n",
    "specificity4 = tn4 / (tn4 + fp4)\n",
    "balanced_accuracy4 = (sensitivity4 + specificity4) / 2\n",
    "\n",
    "#Fifth DataFrame\n",
    "tn5, fp5, fn5, tp5 = confusion_matrix(y5, np.argmax(y_prob5, axis=1)).ravel()\n",
    "sensitivity5 = tp5 / (tp5 + fn5)\n",
    "specificity5 = tn5 / (tn5 + fp5)\n",
    "balanced_accuracy5 = (sensitivity5 + specificity5) / 2\n",
    "\n",
    "#Sixth DataFrame\n",
    "tn6, fp6, fn6, tp6 = confusion_matrix(y6, np.argmax(y_prob6, axis=1)).ravel()\n",
    "sensitivity6 = tp6 / (tp6 + fn6)\n",
    "specificity6 = tn6 / (tn6 + fp6)\n",
    "balanced_accuracy6 = (sensitivity6 + specificity6) / 2\n",
    "\n",
    "data = {\n",
    "    'All_45_Features': [sensitivity1, specificity1, balanced_accuracy1],\n",
    "    'Decision_Tree': [sensitivity2, specificity2, balanced_accuracy2],\n",
    "    'Random_Forest': [sensitivity3, specificity3, balanced_accuracy3],\n",
    "    'Boruta': [sensitivity4, specificity4, balanced_accuracy4],\n",
    "    'Features_inAll4': [sensitivity5, specificity5, balanced_accuracy5],\n",
    "    'Common_Features': [sensitivity6, specificity6, balanced_accuracy6]\n",
    "}\n",
    "results_df = pd.DataFrame(data, index=['Sensitivity', 'Specificity', 'Balanced Accuracy'])\n",
    "\n",
    "results_df.to_csv('Table_VariousSetOfFeats_Female.csv')\n",
    "results_df.head()"
   ]
  },
  {
   "cell_type": "markdown",
   "metadata": {},
   "source": []
  }
 ],
 "metadata": {
  "colab": {
   "authorship_tag": "ABX9TyPA7K2PAkEFgaKFIvslUMEc",
   "collapsed_sections": [],
   "machine_shape": "hm",
   "name": "random_forest_classification.ipynb",
   "provenance": [],
   "toc_visible": true
  },
  "kernelspec": {
   "display_name": "Python 3 (ipykernel)",
   "language": "python",
   "name": "python3"
  },
  "language_info": {
   "codemirror_mode": {
    "name": "ipython",
    "version": 3
   },
   "file_extension": ".py",
   "mimetype": "text/x-python",
   "name": "python",
   "nbconvert_exporter": "python",
   "pygments_lexer": "ipython3",
   "version": "3.9.16"
  },
  "toc": {
   "base_numbering": 1,
   "nav_menu": {},
   "number_sections": true,
   "sideBar": true,
   "skip_h1_title": false,
   "title_cell": "Table of Contents",
   "title_sidebar": "Contents",
   "toc_cell": false,
   "toc_position": {},
   "toc_section_display": true,
   "toc_window_display": false
  },
  "varInspector": {
   "cols": {
    "lenName": 16,
    "lenType": 16,
    "lenVar": 40
   },
   "kernels_config": {
    "python": {
     "delete_cmd_postfix": "",
     "delete_cmd_prefix": "del ",
     "library": "var_list.py",
     "varRefreshCmd": "print(var_dic_list())"
    },
    "r": {
     "delete_cmd_postfix": ") ",
     "delete_cmd_prefix": "rm(",
     "library": "var_list.r",
     "varRefreshCmd": "cat(var_dic_list()) "
    }
   },
   "types_to_exclude": [
    "module",
    "function",
    "builtin_function_or_method",
    "instance",
    "_Feature"
   ],
   "window_display": false
  }
 },
 "nbformat": 4,
 "nbformat_minor": 1
}
