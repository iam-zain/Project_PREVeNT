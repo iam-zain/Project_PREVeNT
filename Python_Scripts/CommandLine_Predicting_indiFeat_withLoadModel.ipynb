{
 "cells": [
  {
   "cell_type": "code",
   "execution_count": 2,
   "id": "af1ead43",
   "metadata": {
    "ExecuteTime": {
     "end_time": "2023-02-27T11:33:43.880332Z",
     "start_time": "2023-02-27T11:33:43.247186Z"
    }
   },
   "outputs": [],
   "source": [
    "import os\n",
    "import sys\n",
    "import joblib\n",
    "import warnings\n",
    "import numpy as np\n",
    "import pandas as pd\n",
    "warnings.filterwarnings(\"ignore\")\n",
    "os.chdir ('Z:\\PPMI_Data\\Excels\\CollaborativeFiltering')"
   ]
  },
  {
   "cell_type": "code",
   "execution_count": 3,
   "id": "1869311c",
   "metadata": {
    "ExecuteTime": {
     "end_time": "2023-02-27T11:33:44.636237Z",
     "start_time": "2023-02-27T11:33:44.582868Z"
    }
   },
   "outputs": [
    {
     "ename": "ValueError",
     "evalue": "invalid literal for int() with base 10: '-f'",
     "output_type": "error",
     "traceback": [
      "\u001b[1;31m---------------------------------------------------------------------------\u001b[0m",
      "\u001b[1;31mValueError\u001b[0m                                Traceback (most recent call last)",
      "Cell \u001b[1;32mIn[3], line 5\u001b[0m\n\u001b[0;32m      2\u001b[0m tests_scores \u001b[38;5;241m=\u001b[39m []\n\u001b[0;32m      4\u001b[0m \u001b[38;5;66;03m# Get the number of tests\u001b[39;00m\n\u001b[1;32m----> 5\u001b[0m num_tests \u001b[38;5;241m=\u001b[39m \u001b[38;5;28;43mint\u001b[39;49m\u001b[43m(\u001b[49m\u001b[43msys\u001b[49m\u001b[38;5;241;43m.\u001b[39;49m\u001b[43margv\u001b[49m\u001b[43m[\u001b[49m\u001b[38;5;241;43m1\u001b[39;49m\u001b[43m]\u001b[49m\u001b[43m)\u001b[49m\n\u001b[0;32m      7\u001b[0m \u001b[38;5;66;03m# Check if the number of tests is valid\u001b[39;00m\n\u001b[0;32m      8\u001b[0m \u001b[38;5;28;01mif\u001b[39;00m num_tests \u001b[38;5;241m<\u001b[39m \u001b[38;5;241m3\u001b[39m \u001b[38;5;129;01mor\u001b[39;00m num_tests \u001b[38;5;241m>\u001b[39m \u001b[38;5;241m45\u001b[39m:\n",
      "\u001b[1;31mValueError\u001b[0m: invalid literal for int() with base 10: '-f'"
     ]
    }
   ],
   "source": [
    "# Initialize an empty list to store the tests and scores\n",
    "tests_scores = []\n",
    "\n",
    "# Get the number of tests\n",
    "while True:\n",
    "    num_tests = int(input('Enter the number of tests (minimum 3, maximum 45): '))\n",
    "    if num_tests >= 3 and num_tests <= 45:\n",
    "        break\n",
    "    print(\"Invalid input, please enter a number between 3 and 45\")\n",
    "\n",
    "# Get the name and score of each test\n",
    "for i in range(num_tests):\n",
    "    name = input(f'Enter the name of test {i + 1}: ')\n",
    "    score = int(input(f\"What is the score for {name}: \"))\n",
    "    tests_scores.append([name, score])\n",
    "\n",
    "\n",
    "# Initialize an empty list to store the predictions\n",
    "predictions = []\n",
    "\n",
    "# Predict for each test\n",
    "for i in range(num_tests):\n",
    "    name = tests_scores[i][0]\n",
    "    user_data = tests_scores[i][1]\n",
    "    user_data = np.array(user_data).reshape(-1, 1)\n",
    "\n",
    "    # Load the AdaBoost model from the file\n",
    "    adaBoost_model = joblib.load(name + '_AdaBoost_model.joblib')\n",
    "\n",
    "    # Use the loaded model for predictions or further processing\n",
    "    adaBoost_prediction = adaBoost_model.predict(user_data)\n",
    "    print(f\"For the test {name}, user may belong to: {adaBoost_prediction[0]} using AdaBoost model\")\n",
    "\n",
    "    # Load the Lasso model from the file\n",
    "    LASSO_model = joblib.load(name + '_Lasso_model.joblib')\n",
    "\n",
    "    # Use the loaded model for predictions or further processing\n",
    "    Lasso_prediction = LASSO_model.predict(user_data)\n",
    "    print(f\"For the test {name}, user may belong to: {Lasso_prediction[0]} using Lasso model\")\n",
    "\n",
    "    # Load the SVM Linear model from the file\n",
    "    svmL_model = joblib.load(name + '_svmL_model.joblib')\n",
    "\n",
    "    # Use the loaded model for predictions or further processing\n",
    "    SVM_prediction = svmL_model.predict(user_data)\n",
    "    print(f\"For the test {name}, user may belong to: {SVM_prediction[0]} using SVM model\")\n",
    "    \n",
    "    # Load the Elastic Net model from the file\n",
    "    enet_model = joblib.load(name + '_enet_model.joblib')\n",
    "\n",
    "    # Use the loaded model for predictions or further processing\n",
    "    enet_prediction = enet_model.predict(user_data)\n",
    "    print(f\"For the test {name}, user may belong to: {enet_prediction[0]} using Elastic Net model\")\n",
    "    \n",
    "    # Load the Bagging model from the file\n",
    "    Bag_model = joblib.load(name + '_bag_model.joblib')\n",
    "\n",
    "    # Use the loaded model for predictions or further processing\n",
    "    Bag_prediction = Bag_model.predict(user_data)\n",
    "    print(f\"For the test {name}, user may belong to: {Bag_prediction[0]} using Bagging model\")\n",
    "\n",
    "\n",
    "    # Add the predictions to the list\n",
    "    predictions.append([adaBoost_prediction[0], Lasso_prediction[0], SVM_prediction[0],enet_prediction[0],Bag_prediction[0]])\n",
    "\n",
    "# Convert the list into a dataframe\n",
    "feat_pred_df = pd.DataFrame(predictions, columns=[\"AdaBoost\", \"Lasso\", \"SVM Linear\", \"Elastic Net\",\"Bagging\"])\n",
    "\n",
    "counts = feat_pred_df.apply(pd.Series.value_counts, axis=1).fillna(0).astype(int)\n",
    "result = counts.idxmax(axis=1)\n",
    "max_inAll = pd.DataFrame()\n",
    "max_inAll[\"Maximum_Occurrence\"] = pd.DataFrame(result)\n",
    "max_inAll = max_inAll.iloc[:, ]\n",
    "counts = max_inAll['Maximum_Occurrence'].value_counts()\n",
    "most_occurring_value = counts.index[0]\n",
    "print(\"The user might fall under category of\", most_occurring_value)"
   ]
  },
  {
   "cell_type": "code",
   "execution_count": null,
   "id": "4e83ed84",
   "metadata": {},
   "outputs": [],
   "source": []
  }
 ],
 "metadata": {
  "kernelspec": {
   "display_name": "Python 3 (ipykernel)",
   "language": "python",
   "name": "python3"
  },
  "language_info": {
   "codemirror_mode": {
    "name": "ipython",
    "version": 3
   },
   "file_extension": ".py",
   "mimetype": "text/x-python",
   "name": "python",
   "nbconvert_exporter": "python",
   "pygments_lexer": "ipython3",
   "version": "3.9.16"
  },
  "toc": {
   "base_numbering": 1,
   "nav_menu": {},
   "number_sections": true,
   "sideBar": true,
   "skip_h1_title": false,
   "title_cell": "Table of Contents",
   "title_sidebar": "Contents",
   "toc_cell": false,
   "toc_position": {},
   "toc_section_display": true,
   "toc_window_display": false
  },
  "varInspector": {
   "cols": {
    "lenName": 16,
    "lenType": 16,
    "lenVar": 40
   },
   "kernels_config": {
    "python": {
     "delete_cmd_postfix": "",
     "delete_cmd_prefix": "del ",
     "library": "var_list.py",
     "varRefreshCmd": "print(var_dic_list())"
    },
    "r": {
     "delete_cmd_postfix": ") ",
     "delete_cmd_prefix": "rm(",
     "library": "var_list.r",
     "varRefreshCmd": "cat(var_dic_list()) "
    }
   },
   "types_to_exclude": [
    "module",
    "function",
    "builtin_function_or_method",
    "instance",
    "_Feature"
   ],
   "window_display": false
  }
 },
 "nbformat": 4,
 "nbformat_minor": 5
}
