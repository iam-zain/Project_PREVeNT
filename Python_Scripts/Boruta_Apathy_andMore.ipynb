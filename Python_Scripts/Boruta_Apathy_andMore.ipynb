{
 "cells": [
  {
   "cell_type": "code",
   "execution_count": 1,
   "id": "51c5704f",
   "metadata": {
    "ExecuteTime": {
     "end_time": "2023-02-20T08:12:46.361991Z",
     "start_time": "2023-02-20T08:12:44.858256Z"
    }
   },
   "outputs": [],
   "source": [
    "import numpy as np\n",
    "import pandas as pd\n",
    "from boruta import BorutaPy\n",
    "from sklearn.datasets import load_diabetes\n",
    "from sklearn.metrics import accuracy_score \n",
    "from sklearn.ensemble import RandomForestRegressor\n",
    "from sklearn.ensemble import RandomForestClassifier\n",
    "from sklearn.model_selection import train_test_split"
   ]
  },
  {
   "cell_type": "markdown",
   "id": "84e169d6",
   "metadata": {},
   "source": [
    "# Apathy"
   ]
  },
  {
   "cell_type": "code",
   "execution_count": 2,
   "id": "5ff336b1",
   "metadata": {
    "ExecuteTime": {
     "end_time": "2023-02-20T08:12:47.079568Z",
     "start_time": "2023-02-20T08:12:46.361991Z"
    }
   },
   "outputs": [
    {
     "name": "stdout",
     "output_type": "stream",
     "text": [
      "Z:\\PPMI_Data\\Excels\\NonMotors\\Derived250\\GeneCpG\\Apathy\n"
     ]
    },
    {
     "data": {
      "text/html": [
       "<div>\n",
       "<style scoped>\n",
       "    .dataframe tbody tr th:only-of-type {\n",
       "        vertical-align: middle;\n",
       "    }\n",
       "\n",
       "    .dataframe tbody tr th {\n",
       "        vertical-align: top;\n",
       "    }\n",
       "\n",
       "    .dataframe thead th {\n",
       "        text-align: right;\n",
       "    }\n",
       "</style>\n",
       "<table border=\"1\" class=\"dataframe\">\n",
       "  <thead>\n",
       "    <tr style=\"text-align: right;\">\n",
       "      <th></th>\n",
       "      <th>Sentrix</th>\n",
       "      <th>PATNO</th>\n",
       "      <th>Gender</th>\n",
       "      <th>APPRDX</th>\n",
       "      <th>HYS</th>\n",
       "      <th>Age</th>\n",
       "      <th>AgeCate</th>\n",
       "      <th>MDS_Apathy_Category</th>\n",
       "      <th>cg19958696</th>\n",
       "      <th>cg05962325</th>\n",
       "      <th>...</th>\n",
       "      <th>cg19795267</th>\n",
       "      <th>cg16922840</th>\n",
       "      <th>cg19628277</th>\n",
       "      <th>cg26480988</th>\n",
       "      <th>cg01673347</th>\n",
       "      <th>cg12994818</th>\n",
       "      <th>cg09008531</th>\n",
       "      <th>cg16463148</th>\n",
       "      <th>cg04021430</th>\n",
       "      <th>cg04863888</th>\n",
       "    </tr>\n",
       "  </thead>\n",
       "  <tbody>\n",
       "    <tr>\n",
       "      <th>0</th>\n",
       "      <td>200973410159_R03C01</td>\n",
       "      <td>3000</td>\n",
       "      <td>2</td>\n",
       "      <td>2</td>\n",
       "      <td>0</td>\n",
       "      <td>69.1</td>\n",
       "      <td>4</td>\n",
       "      <td>0</td>\n",
       "      <td>0.010314</td>\n",
       "      <td>0.057597</td>\n",
       "      <td>...</td>\n",
       "      <td>0.751058</td>\n",
       "      <td>0.901978</td>\n",
       "      <td>0.580283</td>\n",
       "      <td>0.548182</td>\n",
       "      <td>0.725312</td>\n",
       "      <td>0.092118</td>\n",
       "      <td>0.723395</td>\n",
       "      <td>0.129795</td>\n",
       "      <td>0.017529</td>\n",
       "      <td>0.026699</td>\n",
       "    </tr>\n",
       "  </tbody>\n",
       "</table>\n",
       "<p>1 rows × 3572 columns</p>\n",
       "</div>"
      ],
      "text/plain": [
       "               Sentrix  PATNO  Gender  APPRDX  HYS   Age  AgeCate  \\\n",
       "0  200973410159_R03C01   3000       2       2    0  69.1        4   \n",
       "\n",
       "   MDS_Apathy_Category  cg19958696  cg05962325  ...  cg19795267  cg16922840  \\\n",
       "0                    0    0.010314    0.057597  ...    0.751058    0.901978   \n",
       "\n",
       "   cg19628277  cg26480988  cg01673347  cg12994818  cg09008531  cg16463148  \\\n",
       "0    0.580283    0.548182    0.725312    0.092118    0.723395    0.129795   \n",
       "\n",
       "   cg04021430  cg04863888  \n",
       "0    0.017529    0.026699  \n",
       "\n",
       "[1 rows x 3572 columns]"
      ]
     },
     "execution_count": 2,
     "metadata": {},
     "output_type": "execute_result"
    }
   ],
   "source": [
    "%cd Z:\\PPMI_Data\\Excels\\NonMotors\\Derived250\\GeneCpG\\Apathy\n",
    "data = pd.read_csv('Apathy_with_MethylomeDetails.csv')\n",
    "data.head(1)"
   ]
  },
  {
   "cell_type": "code",
   "execution_count": 3,
   "id": "ee22df7a",
   "metadata": {
    "ExecuteTime": {
     "end_time": "2023-02-20T08:12:47.110819Z",
     "start_time": "2023-02-20T08:12:47.079568Z"
    }
   },
   "outputs": [
    {
     "name": "stdout",
     "output_type": "stream",
     "text": [
      "   cg19958696  cg05962325  cg15093662  cg04873221  cg05903298  cg19020436  \\\n",
      "0    0.010314    0.057597    0.020549    0.015659    0.011741    0.014318   \n",
      "1    0.014601    0.068728    0.019329    0.021747    0.012923    0.017399   \n",
      "\n",
      "   cg14994056  cg05973813  cg18337422  cg11738745  ...  cg19795267  \\\n",
      "0    0.035177    0.014771    0.013507    0.010626  ...    0.751058   \n",
      "1    0.033939    0.020282    0.017160    0.012127  ...    0.630319   \n",
      "\n",
      "   cg16922840  cg19628277  cg26480988  cg01673347  cg12994818  cg09008531  \\\n",
      "0    0.901978    0.580283    0.548182    0.725312    0.092118    0.723395   \n",
      "1    0.851560    0.521620    0.495925    0.830013    0.076462    0.728590   \n",
      "\n",
      "   cg16463148  cg04021430  cg04863888  \n",
      "0    0.129795    0.017529    0.026699  \n",
      "1    0.246918    0.039718    0.024071  \n",
      "\n",
      "[2 rows x 3564 columns]\n"
     ]
    }
   ],
   "source": [
    "X = data.drop(['Sentrix','PATNO','HYS','Gender','Age','AgeCate','MDS_Apathy_Category','APPRDX'], axis = 1)\n",
    "y = data['APPRDX']\n",
    "X_train, X_test, y_train, y_test = train_test_split(X, y, test_size = .2, random_state = 1) \n",
    "print(X.head(2))"
   ]
  },
  {
   "cell_type": "code",
   "execution_count": 4,
   "id": "c1ee3e48",
   "metadata": {
    "ExecuteTime": {
     "end_time": "2023-02-20T08:12:48.284941Z",
     "start_time": "2023-02-20T08:12:47.110819Z"
    }
   },
   "outputs": [
    {
     "data": {
      "text/plain": [
       "RandomForestClassifier(random_state=1)"
      ]
     },
     "execution_count": 4,
     "metadata": {},
     "output_type": "execute_result"
    }
   ],
   "source": [
    "rf_all_features = RandomForestClassifier(random_state=1)\n",
    "rf_all_features.fit(X_train, y_train)"
   ]
  },
  {
   "cell_type": "code",
   "execution_count": 5,
   "id": "f17f8606",
   "metadata": {
    "ExecuteTime": {
     "end_time": "2023-02-20T08:12:48.340738Z",
     "start_time": "2023-02-20T08:12:48.286969Z"
    }
   },
   "outputs": [
    {
     "data": {
      "text/plain": [
       "0.6413043478260869"
      ]
     },
     "execution_count": 5,
     "metadata": {},
     "output_type": "execute_result"
    }
   ],
   "source": [
    "accuracy_score(y_test, rf_all_features.predict(X_test))"
   ]
  },
  {
   "cell_type": "code",
   "execution_count": 6,
   "id": "5ba608ac",
   "metadata": {
    "ExecuteTime": {
     "end_time": "2023-02-20T08:14:34.554243Z",
     "start_time": "2023-02-20T08:12:48.340738Z"
    }
   },
   "outputs": [
    {
     "name": "stdout",
     "output_type": "stream",
     "text": [
      "Iteration: 1 / 100\n",
      "Iteration: 2 / 100\n",
      "Iteration: 3 / 100\n",
      "Iteration: 4 / 100\n",
      "Iteration: 5 / 100\n",
      "Iteration: 6 / 100\n",
      "Iteration: 7 / 100\n",
      "Iteration: 8 / 100\n",
      "\n",
      "\n",
      "BorutaPy finished running.\n",
      "\n",
      "Iteration: \t9 / 100\n",
      "Confirmed: \t0\n",
      "Tentative: \t0\n",
      "Rejected: \t3564\n"
     ]
    },
    {
     "data": {
      "text/plain": [
       "BorutaPy(estimator=RandomForestClassifier(n_estimators=844,\n",
       "                                          random_state=RandomState(MT19937) at 0x1498AE2BC40),\n",
       "         n_estimators='auto',\n",
       "         random_state=RandomState(MT19937) at 0x1498AE2BC40, verbose=1)"
      ]
     },
     "execution_count": 6,
     "metadata": {},
     "output_type": "execute_result"
    }
   ],
   "source": [
    "rfc = RandomForestClassifier(random_state=1)\n",
    "boruta_selector = BorutaPy(rfc, n_estimators= 'auto', verbose=1, random_state=1)\n",
    "boruta_selector.fit(np.array(X_train), np.array(y_train))  "
   ]
  },
  {
   "cell_type": "code",
   "execution_count": 7,
   "id": "51f874e0",
   "metadata": {
    "ExecuteTime": {
     "end_time": "2023-02-20T08:14:34.574349Z",
     "start_time": "2023-02-20T08:14:34.556267Z"
    }
   },
   "outputs": [
    {
     "name": "stdout",
     "output_type": "stream",
     "text": [
      "No. of significant features:  0\n"
     ]
    }
   ],
   "source": [
    "# print(\"Ranking: \",boruta_selector.ranking_)          \n",
    "print(\"No. of significant features: \", boruta_selector.n_features_)"
   ]
  },
  {
   "cell_type": "code",
   "execution_count": 8,
   "id": "61cadc89",
   "metadata": {
    "ExecuteTime": {
     "end_time": "2023-02-20T08:14:35.232825Z",
     "start_time": "2023-02-20T08:14:34.574349Z"
    }
   },
   "outputs": [],
   "source": [
    "selected_rf_features = pd.DataFrame({'CpG':list(X_train.columns),\n",
    "                                       'Ranking':boruta_selector.ranking_})\n",
    "selected_rf_features = selected_rf_features.sort_values(by='Ranking')"
   ]
  },
  {
   "cell_type": "code",
   "execution_count": 9,
   "id": "6ae888ab",
   "metadata": {
    "ExecuteTime": {
     "end_time": "2023-02-20T08:14:35.301839Z",
     "start_time": "2023-02-20T08:14:35.232825Z"
    },
    "scrolled": true
   },
   "outputs": [
    {
     "data": {
      "text/html": [
       "<div>\n",
       "<style scoped>\n",
       "    .dataframe tbody tr th:only-of-type {\n",
       "        vertical-align: middle;\n",
       "    }\n",
       "\n",
       "    .dataframe tbody tr th {\n",
       "        vertical-align: top;\n",
       "    }\n",
       "\n",
       "    .dataframe thead th {\n",
       "        text-align: right;\n",
       "    }\n",
       "</style>\n",
       "<table border=\"1\" class=\"dataframe\">\n",
       "  <thead>\n",
       "    <tr style=\"text-align: right;\">\n",
       "      <th></th>\n",
       "      <th>CpG</th>\n",
       "      <th>Ranking</th>\n",
       "    </tr>\n",
       "  </thead>\n",
       "  <tbody>\n",
       "    <tr>\n",
       "      <th>1030</th>\n",
       "      <td>cg01081395</td>\n",
       "      <td>2</td>\n",
       "    </tr>\n",
       "    <tr>\n",
       "      <th>1996</th>\n",
       "      <td>cg10013170</td>\n",
       "      <td>3</td>\n",
       "    </tr>\n",
       "    <tr>\n",
       "      <th>811</th>\n",
       "      <td>cg04856117</td>\n",
       "      <td>3</td>\n",
       "    </tr>\n",
       "  </tbody>\n",
       "</table>\n",
       "</div>"
      ],
      "text/plain": [
       "             CpG  Ranking\n",
       "1030  cg01081395        2\n",
       "1996  cg10013170        3\n",
       "811   cg04856117        3"
      ]
     },
     "execution_count": 9,
     "metadata": {},
     "output_type": "execute_result"
    }
   ],
   "source": [
    "Top50 = selected_rf_features.iloc[:51, :]\n",
    "Top50.head(3)"
   ]
  },
  {
   "cell_type": "code",
   "execution_count": 10,
   "id": "9605e163",
   "metadata": {
    "ExecuteTime": {
     "end_time": "2023-02-20T08:14:35.379968Z",
     "start_time": "2023-02-20T08:14:35.301839Z"
    }
   },
   "outputs": [],
   "source": [
    "Top50.to_csv ('Apathy_Boruta_Top50.csv', index = False)\n",
    "selected_rf_features.to_csv ('Apathy_Boruta_All.csv', index = False)"
   ]
  },
  {
   "cell_type": "code",
   "execution_count": 11,
   "id": "2ad56682",
   "metadata": {
    "ExecuteTime": {
     "end_time": "2023-02-20T08:14:35.502382Z",
     "start_time": "2023-02-20T08:14:35.379968Z"
    }
   },
   "outputs": [
    {
     "name": "stderr",
     "output_type": "stream",
     "text": [
      "C:\\Users\\system 4\\AppData\\Local\\Temp\\ipykernel_11932\\3868420342.py:6: SettingWithCopyWarning: \n",
      "A value is trying to be set on a copy of a slice from a DataFrame.\n",
      "Try using .loc[row_indexer,col_indexer] = value instead\n",
      "\n",
      "See the caveats in the documentation: https://pandas.pydata.org/pandas-docs/stable/user_guide/indexing.html#returning-a-view-versus-a-copy\n",
      "  df_subset['APPRDX'] = data['APPRDX']\n"
     ]
    },
    {
     "data": {
      "text/html": [
       "<div>\n",
       "<style scoped>\n",
       "    .dataframe tbody tr th:only-of-type {\n",
       "        vertical-align: middle;\n",
       "    }\n",
       "\n",
       "    .dataframe tbody tr th {\n",
       "        vertical-align: top;\n",
       "    }\n",
       "\n",
       "    .dataframe thead th {\n",
       "        text-align: right;\n",
       "    }\n",
       "</style>\n",
       "<table border=\"1\" class=\"dataframe\">\n",
       "  <thead>\n",
       "    <tr style=\"text-align: right;\">\n",
       "      <th></th>\n",
       "      <th>cg14824670</th>\n",
       "      <th>cg18299793</th>\n",
       "      <th>cg08556479</th>\n",
       "      <th>cg10164191</th>\n",
       "      <th>cg05064739</th>\n",
       "      <th>cg03476938</th>\n",
       "      <th>cg26840770</th>\n",
       "      <th>cg12049462</th>\n",
       "      <th>cg23804054</th>\n",
       "      <th>cg01589384</th>\n",
       "      <th>...</th>\n",
       "      <th>cg07897734</th>\n",
       "      <th>cg11875268</th>\n",
       "      <th>cg23203206</th>\n",
       "      <th>cg06632027</th>\n",
       "      <th>cg02553661</th>\n",
       "      <th>cg15567507</th>\n",
       "      <th>cg19458274</th>\n",
       "      <th>cg25324991</th>\n",
       "      <th>cg19628277</th>\n",
       "      <th>APPRDX</th>\n",
       "    </tr>\n",
       "  </thead>\n",
       "  <tbody>\n",
       "    <tr>\n",
       "      <th>0</th>\n",
       "      <td>0.312659</td>\n",
       "      <td>0.923536</td>\n",
       "      <td>0.864220</td>\n",
       "      <td>0.511121</td>\n",
       "      <td>0.88989</td>\n",
       "      <td>0.611944</td>\n",
       "      <td>0.109552</td>\n",
       "      <td>0.208430</td>\n",
       "      <td>0.290418</td>\n",
       "      <td>0.038556</td>\n",
       "      <td>...</td>\n",
       "      <td>0.890719</td>\n",
       "      <td>0.953648</td>\n",
       "      <td>0.621678</td>\n",
       "      <td>0.043348</td>\n",
       "      <td>0.947492</td>\n",
       "      <td>0.906558</td>\n",
       "      <td>0.018417</td>\n",
       "      <td>0.693119</td>\n",
       "      <td>0.580283</td>\n",
       "      <td>2</td>\n",
       "    </tr>\n",
       "    <tr>\n",
       "      <th>1</th>\n",
       "      <td>0.312060</td>\n",
       "      <td>0.885384</td>\n",
       "      <td>0.866326</td>\n",
       "      <td>0.604161</td>\n",
       "      <td>0.85152</td>\n",
       "      <td>0.549004</td>\n",
       "      <td>0.058578</td>\n",
       "      <td>0.131758</td>\n",
       "      <td>0.215196</td>\n",
       "      <td>0.042105</td>\n",
       "      <td>...</td>\n",
       "      <td>0.842938</td>\n",
       "      <td>0.956079</td>\n",
       "      <td>0.850858</td>\n",
       "      <td>0.029793</td>\n",
       "      <td>0.929744</td>\n",
       "      <td>0.824857</td>\n",
       "      <td>0.018518</td>\n",
       "      <td>0.599772</td>\n",
       "      <td>0.521620</td>\n",
       "      <td>1</td>\n",
       "    </tr>\n",
       "  </tbody>\n",
       "</table>\n",
       "<p>2 rows × 52 columns</p>\n",
       "</div>"
      ],
      "text/plain": [
       "   cg14824670  cg18299793  cg08556479  cg10164191  cg05064739  cg03476938  \\\n",
       "0    0.312659    0.923536    0.864220    0.511121     0.88989    0.611944   \n",
       "1    0.312060    0.885384    0.866326    0.604161     0.85152    0.549004   \n",
       "\n",
       "   cg26840770  cg12049462  cg23804054  cg01589384  ...  cg07897734  \\\n",
       "0    0.109552    0.208430    0.290418    0.038556  ...    0.890719   \n",
       "1    0.058578    0.131758    0.215196    0.042105  ...    0.842938   \n",
       "\n",
       "   cg11875268  cg23203206  cg06632027  cg02553661  cg15567507  cg19458274  \\\n",
       "0    0.953648    0.621678    0.043348    0.947492    0.906558    0.018417   \n",
       "1    0.956079    0.850858    0.029793    0.929744    0.824857    0.018518   \n",
       "\n",
       "   cg25324991  cg19628277  APPRDX  \n",
       "0    0.693119    0.580283       2  \n",
       "1    0.599772    0.521620       1  \n",
       "\n",
       "[2 rows x 52 columns]"
      ]
     },
     "execution_count": 11,
     "metadata": {},
     "output_type": "execute_result"
    }
   ],
   "source": [
    "# create a list of column names to subset from data\n",
    "col_names = Top50.iloc[:, 0].tolist()\n",
    "\n",
    "# subset df based on the column names\n",
    "df_subset = data.loc[:, data.columns.isin(col_names)]\n",
    "df_subset['APPRDX'] = data['APPRDX']\n",
    "df_subset.to_csv ('Apathy_Boruta_Top50_Data.csv', index = False)\n",
    "df_subset.head(2)"
   ]
  },
  {
   "cell_type": "markdown",
   "id": "d9b8170b",
   "metadata": {},
   "source": [
    "# Gastro"
   ]
  },
  {
   "cell_type": "code",
   "execution_count": 12,
   "id": "6a0b3a09",
   "metadata": {
    "ExecuteTime": {
     "end_time": "2023-02-20T08:14:53.814223Z",
     "start_time": "2023-02-20T08:14:35.502382Z"
    }
   },
   "outputs": [
    {
     "name": "stdout",
     "output_type": "stream",
     "text": [
      "Z:\\PPMI_Data\\Excels\\NonMotors\\Derived250\\GeneCpG\\Gastro\n"
     ]
    },
    {
     "data": {
      "text/html": [
       "<div>\n",
       "<style scoped>\n",
       "    .dataframe tbody tr th:only-of-type {\n",
       "        vertical-align: middle;\n",
       "    }\n",
       "\n",
       "    .dataframe tbody tr th {\n",
       "        vertical-align: top;\n",
       "    }\n",
       "\n",
       "    .dataframe thead th {\n",
       "        text-align: right;\n",
       "    }\n",
       "</style>\n",
       "<table border=\"1\" class=\"dataframe\">\n",
       "  <thead>\n",
       "    <tr style=\"text-align: right;\">\n",
       "      <th></th>\n",
       "      <th>Sentrix</th>\n",
       "      <th>PATNO</th>\n",
       "      <th>Gender</th>\n",
       "      <th>APPRDX</th>\n",
       "      <th>HYS</th>\n",
       "      <th>Age</th>\n",
       "      <th>AgeCate</th>\n",
       "      <th>SCOPA_Gastro_Category</th>\n",
       "      <th>cg03441945</th>\n",
       "      <th>cg21094410</th>\n",
       "      <th>...</th>\n",
       "      <th>cg12522722</th>\n",
       "      <th>cg11255513</th>\n",
       "      <th>cg09615521</th>\n",
       "      <th>cg12658517</th>\n",
       "      <th>cg02150941</th>\n",
       "      <th>cg22992837</th>\n",
       "      <th>cg02699881</th>\n",
       "      <th>cg05225390</th>\n",
       "      <th>cg01481208</th>\n",
       "      <th>cg08634588</th>\n",
       "    </tr>\n",
       "  </thead>\n",
       "  <tbody>\n",
       "    <tr>\n",
       "      <th>0</th>\n",
       "      <td>200973410159_R03C01</td>\n",
       "      <td>3000</td>\n",
       "      <td>2</td>\n",
       "      <td>2</td>\n",
       "      <td>0</td>\n",
       "      <td>69.1</td>\n",
       "      <td>4</td>\n",
       "      <td>0</td>\n",
       "      <td>0.89241</td>\n",
       "      <td>0.015756</td>\n",
       "      <td>...</td>\n",
       "      <td>0.909955</td>\n",
       "      <td>0.043985</td>\n",
       "      <td>0.054816</td>\n",
       "      <td>0.904326</td>\n",
       "      <td>0.135138</td>\n",
       "      <td>0.742557</td>\n",
       "      <td>0.029678</td>\n",
       "      <td>0.079017</td>\n",
       "      <td>0.894593</td>\n",
       "      <td>0.902949</td>\n",
       "    </tr>\n",
       "  </tbody>\n",
       "</table>\n",
       "<p>1 rows × 34012 columns</p>\n",
       "</div>"
      ],
      "text/plain": [
       "               Sentrix  PATNO  Gender  APPRDX  HYS   Age  AgeCate  \\\n",
       "0  200973410159_R03C01   3000       2       2    0  69.1        4   \n",
       "\n",
       "   SCOPA_Gastro_Category  cg03441945  cg21094410  ...  cg12522722  cg11255513  \\\n",
       "0                      0     0.89241    0.015756  ...    0.909955    0.043985   \n",
       "\n",
       "   cg09615521  cg12658517  cg02150941  cg22992837  cg02699881  cg05225390  \\\n",
       "0    0.054816    0.904326    0.135138    0.742557    0.029678    0.079017   \n",
       "\n",
       "   cg01481208  cg08634588  \n",
       "0    0.894593    0.902949  \n",
       "\n",
       "[1 rows x 34012 columns]"
      ]
     },
     "execution_count": 12,
     "metadata": {},
     "output_type": "execute_result"
    }
   ],
   "source": [
    "%cd Z:\\PPMI_Data\\Excels\\NonMotors\\Derived250\\GeneCpG\\Gastro\n",
    "data = pd.read_csv('Gastro_with_MethylomeDetails.csv')\n",
    "data.head(1)"
   ]
  },
  {
   "cell_type": "code",
   "execution_count": 13,
   "id": "d8daf3a3",
   "metadata": {
    "ExecuteTime": {
     "end_time": "2023-02-20T08:14:53.955089Z",
     "start_time": "2023-02-20T08:14:53.816243Z"
    }
   },
   "outputs": [
    {
     "name": "stdout",
     "output_type": "stream",
     "text": [
      "   cg03441945  cg21094410  cg22926093  cg25025609  cg16704802  cg06228737  \\\n",
      "0    0.892410    0.015756    0.011101    0.018491    0.020476    0.962482   \n",
      "1    0.908813    0.011350    0.012197    0.022372    0.018128    0.945195   \n",
      "\n",
      "   cg00220102  cg19016494  cg12247200  cg24658413  ...  cg12522722  \\\n",
      "0    0.677222    0.029560    0.929821    0.899519  ...    0.909955   \n",
      "1    0.730494    0.017911    0.921435    0.815257  ...    0.900398   \n",
      "\n",
      "   cg11255513  cg09615521  cg12658517  cg02150941  cg22992837  cg02699881  \\\n",
      "0    0.043985    0.054816    0.904326    0.135138    0.742557    0.029678   \n",
      "1    0.043525    0.043829    0.899376    0.078902    0.754703    0.030224   \n",
      "\n",
      "   cg05225390  cg01481208  cg08634588  \n",
      "0    0.079017    0.894593    0.902949  \n",
      "1    0.075161    0.909315    0.903716  \n",
      "\n",
      "[2 rows x 34004 columns]\n"
     ]
    }
   ],
   "source": [
    "X = data.drop(['Sentrix','PATNO','HYS','Gender','Age','AgeCate','SCOPA_Gastro_Category','APPRDX'], axis = 1)\n",
    "y = data['APPRDX']\n",
    "X_train, X_test, y_train, y_test = train_test_split(X, y, test_size = .2, random_state = 1) \n",
    "print(X.head(2))"
   ]
  },
  {
   "cell_type": "code",
   "execution_count": 14,
   "id": "73fe318a",
   "metadata": {
    "ExecuteTime": {
     "end_time": "2023-02-20T08:14:57.301238Z",
     "start_time": "2023-02-20T08:14:53.957112Z"
    }
   },
   "outputs": [
    {
     "data": {
      "text/plain": [
       "RandomForestClassifier(random_state=1)"
      ]
     },
     "execution_count": 14,
     "metadata": {},
     "output_type": "execute_result"
    }
   ],
   "source": [
    "rf_all_features = RandomForestClassifier(random_state=1)\n",
    "rf_all_features.fit(X_train, y_train)"
   ]
  },
  {
   "cell_type": "code",
   "execution_count": 15,
   "id": "8e56e1b8",
   "metadata": {
    "ExecuteTime": {
     "end_time": "2023-02-20T08:14:57.522050Z",
     "start_time": "2023-02-20T08:14:57.303255Z"
    }
   },
   "outputs": [
    {
     "data": {
      "text/plain": [
       "0.6413043478260869"
      ]
     },
     "execution_count": 15,
     "metadata": {},
     "output_type": "execute_result"
    }
   ],
   "source": [
    "accuracy_score(y_test, rf_all_features.predict(X_test))"
   ]
  },
  {
   "cell_type": "code",
   "execution_count": 16,
   "id": "28d42b85",
   "metadata": {
    "ExecuteTime": {
     "end_time": "2023-02-20T08:30:19.441922Z",
     "start_time": "2023-02-20T08:14:57.524070Z"
    },
    "scrolled": true
   },
   "outputs": [
    {
     "name": "stdout",
     "output_type": "stream",
     "text": [
      "Iteration: 1 / 100\n",
      "Iteration: 2 / 100\n",
      "Iteration: 3 / 100\n",
      "Iteration: 4 / 100\n",
      "Iteration: 5 / 100\n",
      "Iteration: 6 / 100\n",
      "Iteration: 7 / 100\n",
      "Iteration: 8 / 100\n",
      "Iteration: 9 / 100\n",
      "Iteration: 10 / 100\n",
      "Iteration: 11 / 100\n",
      "Iteration: 12 / 100\n",
      "Iteration: 13 / 100\n",
      "Iteration: 14 / 100\n",
      "Iteration: 15 / 100\n",
      "Iteration: 16 / 100\n",
      "Iteration: 17 / 100\n",
      "Iteration: 18 / 100\n",
      "Iteration: 19 / 100\n",
      "Iteration: 20 / 100\n",
      "Iteration: 21 / 100\n",
      "Iteration: 22 / 100\n",
      "Iteration: 23 / 100\n",
      "Iteration: 24 / 100\n",
      "Iteration: 25 / 100\n",
      "Iteration: 26 / 100\n",
      "Iteration: 27 / 100\n",
      "Iteration: 28 / 100\n",
      "Iteration: 29 / 100\n",
      "\n",
      "\n",
      "BorutaPy finished running.\n",
      "\n",
      "Iteration: \t30 / 100\n",
      "Confirmed: \t1\n",
      "Tentative: \t0\n",
      "Rejected: \t34003\n"
     ]
    },
    {
     "data": {
      "text/plain": [
       "BorutaPy(estimator=RandomForestClassifier(n_estimators=14,\n",
       "                                          random_state=RandomState(MT19937) at 0x1498B13F640),\n",
       "         n_estimators='auto',\n",
       "         random_state=RandomState(MT19937) at 0x1498B13F640, verbose=1)"
      ]
     },
     "execution_count": 16,
     "metadata": {},
     "output_type": "execute_result"
    }
   ],
   "source": [
    "rfc = RandomForestClassifier(random_state=1)\n",
    "boruta_selector = BorutaPy(rfc, n_estimators= 'auto', verbose=1, random_state=1)\n",
    "boruta_selector.fit(np.array(X_train), np.array(y_train))  "
   ]
  },
  {
   "cell_type": "code",
   "execution_count": 17,
   "id": "7f0421ed",
   "metadata": {
    "ExecuteTime": {
     "end_time": "2023-02-20T08:30:19.462034Z",
     "start_time": "2023-02-20T08:30:19.443948Z"
    }
   },
   "outputs": [
    {
     "name": "stdout",
     "output_type": "stream",
     "text": [
      "No. of significant features:  1\n"
     ]
    }
   ],
   "source": [
    "# print(\"Ranking: \",boruta_selector.ranking_)          \n",
    "print(\"No. of significant features: \", boruta_selector.n_features_)"
   ]
  },
  {
   "cell_type": "code",
   "execution_count": 18,
   "id": "1b23b0c4",
   "metadata": {
    "ExecuteTime": {
     "end_time": "2023-02-20T08:30:19.542590Z",
     "start_time": "2023-02-20T08:30:19.464059Z"
    }
   },
   "outputs": [],
   "source": [
    "selected_rf_features = pd.DataFrame({'CpG':list(X_train.columns),\n",
    "                                       'Ranking':boruta_selector.ranking_})\n",
    "selected_rf_features = selected_rf_features.sort_values(by='Ranking')"
   ]
  },
  {
   "cell_type": "code",
   "execution_count": 19,
   "id": "7a76bee7",
   "metadata": {
    "ExecuteTime": {
     "end_time": "2023-02-20T08:30:19.663245Z",
     "start_time": "2023-02-20T08:30:19.552653Z"
    }
   },
   "outputs": [
    {
     "data": {
      "text/html": [
       "<div>\n",
       "<style scoped>\n",
       "    .dataframe tbody tr th:only-of-type {\n",
       "        vertical-align: middle;\n",
       "    }\n",
       "\n",
       "    .dataframe tbody tr th {\n",
       "        vertical-align: top;\n",
       "    }\n",
       "\n",
       "    .dataframe thead th {\n",
       "        text-align: right;\n",
       "    }\n",
       "</style>\n",
       "<table border=\"1\" class=\"dataframe\">\n",
       "  <thead>\n",
       "    <tr style=\"text-align: right;\">\n",
       "      <th></th>\n",
       "      <th>CpG</th>\n",
       "      <th>Ranking</th>\n",
       "    </tr>\n",
       "  </thead>\n",
       "  <tbody>\n",
       "    <tr>\n",
       "      <th>32317</th>\n",
       "      <td>cg16199144</td>\n",
       "      <td>1</td>\n",
       "    </tr>\n",
       "    <tr>\n",
       "      <th>20524</th>\n",
       "      <td>cg21921473</td>\n",
       "      <td>2</td>\n",
       "    </tr>\n",
       "    <tr>\n",
       "      <th>788</th>\n",
       "      <td>cg25774148</td>\n",
       "      <td>2</td>\n",
       "    </tr>\n",
       "  </tbody>\n",
       "</table>\n",
       "</div>"
      ],
      "text/plain": [
       "              CpG  Ranking\n",
       "32317  cg16199144        1\n",
       "20524  cg21921473        2\n",
       "788    cg25774148        2"
      ]
     },
     "execution_count": 19,
     "metadata": {},
     "output_type": "execute_result"
    }
   ],
   "source": [
    "Top50 = selected_rf_features.iloc[:51, :]\n",
    "Top50.head(3)"
   ]
  },
  {
   "cell_type": "code",
   "execution_count": 20,
   "id": "c7245d2b",
   "metadata": {
    "ExecuteTime": {
     "end_time": "2023-02-20T08:30:19.824185Z",
     "start_time": "2023-02-20T08:30:19.665268Z"
    }
   },
   "outputs": [],
   "source": [
    "Top50.to_csv ('Gastro_Boruta_Top50.csv', index = False)\n",
    "selected_rf_features.to_csv ('Gastro_Boruta_All.csv', index = False)"
   ]
  },
  {
   "cell_type": "code",
   "execution_count": 21,
   "id": "5b0f6753",
   "metadata": {
    "ExecuteTime": {
     "end_time": "2023-02-20T08:30:19.944844Z",
     "start_time": "2023-02-20T08:30:19.826209Z"
    }
   },
   "outputs": [
    {
     "name": "stderr",
     "output_type": "stream",
     "text": [
      "C:\\Users\\system 4\\AppData\\Local\\Temp\\ipykernel_11932\\3247414631.py:6: SettingWithCopyWarning: \n",
      "A value is trying to be set on a copy of a slice from a DataFrame.\n",
      "Try using .loc[row_indexer,col_indexer] = value instead\n",
      "\n",
      "See the caveats in the documentation: https://pandas.pydata.org/pandas-docs/stable/user_guide/indexing.html#returning-a-view-versus-a-copy\n",
      "  df_subset['APPRDX'] = data['APPRDX']\n"
     ]
    },
    {
     "data": {
      "text/html": [
       "<div>\n",
       "<style scoped>\n",
       "    .dataframe tbody tr th:only-of-type {\n",
       "        vertical-align: middle;\n",
       "    }\n",
       "\n",
       "    .dataframe tbody tr th {\n",
       "        vertical-align: top;\n",
       "    }\n",
       "\n",
       "    .dataframe thead th {\n",
       "        text-align: right;\n",
       "    }\n",
       "</style>\n",
       "<table border=\"1\" class=\"dataframe\">\n",
       "  <thead>\n",
       "    <tr style=\"text-align: right;\">\n",
       "      <th></th>\n",
       "      <th>cg12452675</th>\n",
       "      <th>cg25774148</th>\n",
       "      <th>cg04926619</th>\n",
       "      <th>cg02744123</th>\n",
       "      <th>cg11351331</th>\n",
       "      <th>cg07250622</th>\n",
       "      <th>cg21043558</th>\n",
       "      <th>cg11697588</th>\n",
       "      <th>cg12510028</th>\n",
       "      <th>cg14841337</th>\n",
       "      <th>...</th>\n",
       "      <th>cg22152677</th>\n",
       "      <th>cg06734098</th>\n",
       "      <th>cg12220605</th>\n",
       "      <th>cg00875272</th>\n",
       "      <th>cg13468400</th>\n",
       "      <th>cg08096908</th>\n",
       "      <th>cg17223615</th>\n",
       "      <th>cg16199144</th>\n",
       "      <th>cg19371224</th>\n",
       "      <th>APPRDX</th>\n",
       "    </tr>\n",
       "  </thead>\n",
       "  <tbody>\n",
       "    <tr>\n",
       "      <th>0</th>\n",
       "      <td>0.047168</td>\n",
       "      <td>0.940005</td>\n",
       "      <td>0.627342</td>\n",
       "      <td>0.014085</td>\n",
       "      <td>0.895471</td>\n",
       "      <td>0.058003</td>\n",
       "      <td>0.638077</td>\n",
       "      <td>0.051262</td>\n",
       "      <td>0.037114</td>\n",
       "      <td>0.027298</td>\n",
       "      <td>...</td>\n",
       "      <td>0.932195</td>\n",
       "      <td>0.340984</td>\n",
       "      <td>0.117280</td>\n",
       "      <td>0.032753</td>\n",
       "      <td>0.895386</td>\n",
       "      <td>0.937764</td>\n",
       "      <td>0.822963</td>\n",
       "      <td>0.033485</td>\n",
       "      <td>0.895183</td>\n",
       "      <td>2</td>\n",
       "    </tr>\n",
       "    <tr>\n",
       "      <th>1</th>\n",
       "      <td>0.040326</td>\n",
       "      <td>0.915349</td>\n",
       "      <td>0.632705</td>\n",
       "      <td>0.013944</td>\n",
       "      <td>0.898821</td>\n",
       "      <td>0.032852</td>\n",
       "      <td>0.667449</td>\n",
       "      <td>0.076483</td>\n",
       "      <td>0.029810</td>\n",
       "      <td>0.021279</td>\n",
       "      <td>...</td>\n",
       "      <td>0.927876</td>\n",
       "      <td>0.050031</td>\n",
       "      <td>0.082447</td>\n",
       "      <td>0.026473</td>\n",
       "      <td>0.812987</td>\n",
       "      <td>0.905542</td>\n",
       "      <td>0.814484</td>\n",
       "      <td>0.027345</td>\n",
       "      <td>0.751572</td>\n",
       "      <td>1</td>\n",
       "    </tr>\n",
       "  </tbody>\n",
       "</table>\n",
       "<p>2 rows × 52 columns</p>\n",
       "</div>"
      ],
      "text/plain": [
       "   cg12452675  cg25774148  cg04926619  cg02744123  cg11351331  cg07250622  \\\n",
       "0    0.047168    0.940005    0.627342    0.014085    0.895471    0.058003   \n",
       "1    0.040326    0.915349    0.632705    0.013944    0.898821    0.032852   \n",
       "\n",
       "   cg21043558  cg11697588  cg12510028  cg14841337  ...  cg22152677  \\\n",
       "0    0.638077    0.051262    0.037114    0.027298  ...    0.932195   \n",
       "1    0.667449    0.076483    0.029810    0.021279  ...    0.927876   \n",
       "\n",
       "   cg06734098  cg12220605  cg00875272  cg13468400  cg08096908  cg17223615  \\\n",
       "0    0.340984    0.117280    0.032753    0.895386    0.937764    0.822963   \n",
       "1    0.050031    0.082447    0.026473    0.812987    0.905542    0.814484   \n",
       "\n",
       "   cg16199144  cg19371224  APPRDX  \n",
       "0    0.033485    0.895183       2  \n",
       "1    0.027345    0.751572       1  \n",
       "\n",
       "[2 rows x 52 columns]"
      ]
     },
     "execution_count": 21,
     "metadata": {},
     "output_type": "execute_result"
    }
   ],
   "source": [
    "# create a list of column names to subset from data\n",
    "col_names = Top50.iloc[:, 0].tolist()\n",
    "\n",
    "# subset df based on the column names\n",
    "df_subset = data.loc[:, data.columns.isin(col_names)]\n",
    "df_subset['APPRDX'] = data['APPRDX']\n",
    "df_subset.to_csv ('Gastro_Boruta_Top50_Data.csv', index = False)\n",
    "df_subset.head(2)"
   ]
  },
  {
   "cell_type": "markdown",
   "id": "a6f5dfa7",
   "metadata": {},
   "source": [
    "# Letter Number"
   ]
  },
  {
   "cell_type": "code",
   "execution_count": 22,
   "id": "e208216c",
   "metadata": {
    "ExecuteTime": {
     "end_time": "2023-02-20T08:31:22.376785Z",
     "start_time": "2023-02-20T08:30:19.946865Z"
    }
   },
   "outputs": [
    {
     "name": "stdout",
     "output_type": "stream",
     "text": [
      "Z:\\PPMI_Data\\Excels\\NonMotors\\Derived250\\GeneCpG\\LetterNumber\n"
     ]
    },
    {
     "data": {
      "text/html": [
       "<div>\n",
       "<style scoped>\n",
       "    .dataframe tbody tr th:only-of-type {\n",
       "        vertical-align: middle;\n",
       "    }\n",
       "\n",
       "    .dataframe tbody tr th {\n",
       "        vertical-align: top;\n",
       "    }\n",
       "\n",
       "    .dataframe thead th {\n",
       "        text-align: right;\n",
       "    }\n",
       "</style>\n",
       "<table border=\"1\" class=\"dataframe\">\n",
       "  <thead>\n",
       "    <tr style=\"text-align: right;\">\n",
       "      <th></th>\n",
       "      <th>Sentrix</th>\n",
       "      <th>PATNO</th>\n",
       "      <th>Gender</th>\n",
       "      <th>APPRDX</th>\n",
       "      <th>HYS</th>\n",
       "      <th>Age</th>\n",
       "      <th>AgeCate</th>\n",
       "      <th>LetterNumber_Category</th>\n",
       "      <th>cg20815302</th>\n",
       "      <th>cg25795414</th>\n",
       "      <th>...</th>\n",
       "      <th>cg27475074</th>\n",
       "      <th>cg02546039</th>\n",
       "      <th>cg25870071</th>\n",
       "      <th>cg26765773</th>\n",
       "      <th>cg22019496</th>\n",
       "      <th>cg02429154</th>\n",
       "      <th>cg05411695</th>\n",
       "      <th>cg13202877</th>\n",
       "      <th>cg17697230</th>\n",
       "      <th>cg05687264</th>\n",
       "    </tr>\n",
       "  </thead>\n",
       "  <tbody>\n",
       "    <tr>\n",
       "      <th>0</th>\n",
       "      <td>200973410159_R03C01</td>\n",
       "      <td>3000</td>\n",
       "      <td>2</td>\n",
       "      <td>2</td>\n",
       "      <td>0</td>\n",
       "      <td>69.1</td>\n",
       "      <td>4</td>\n",
       "      <td>1</td>\n",
       "      <td>0.91579</td>\n",
       "      <td>0.899909</td>\n",
       "      <td>...</td>\n",
       "      <td>0.028559</td>\n",
       "      <td>0.920549</td>\n",
       "      <td>0.469715</td>\n",
       "      <td>0.112805</td>\n",
       "      <td>0.892764</td>\n",
       "      <td>0.925107</td>\n",
       "      <td>0.070574</td>\n",
       "      <td>0.165807</td>\n",
       "      <td>0.918808</td>\n",
       "      <td>0.928897</td>\n",
       "    </tr>\n",
       "  </tbody>\n",
       "</table>\n",
       "<p>1 rows × 73193 columns</p>\n",
       "</div>"
      ],
      "text/plain": [
       "               Sentrix  PATNO  Gender  APPRDX  HYS   Age  AgeCate  \\\n",
       "0  200973410159_R03C01   3000       2       2    0  69.1        4   \n",
       "\n",
       "   LetterNumber_Category  cg20815302  cg25795414  ...  cg27475074  cg02546039  \\\n",
       "0                      1     0.91579    0.899909  ...    0.028559    0.920549   \n",
       "\n",
       "   cg25870071  cg26765773  cg22019496  cg02429154  cg05411695  cg13202877  \\\n",
       "0    0.469715    0.112805    0.892764    0.925107    0.070574    0.165807   \n",
       "\n",
       "   cg17697230  cg05687264  \n",
       "0    0.918808    0.928897  \n",
       "\n",
       "[1 rows x 73193 columns]"
      ]
     },
     "execution_count": 22,
     "metadata": {},
     "output_type": "execute_result"
    }
   ],
   "source": [
    "%cd Z:\\PPMI_Data\\Excels\\NonMotors\\Derived250\\GeneCpG\\LetterNumber\n",
    "data = pd.read_csv('LetterNumber_with_MethylomeDetails.csv')\n",
    "data.head(1)"
   ]
  },
  {
   "cell_type": "code",
   "execution_count": 23,
   "id": "b26b7430",
   "metadata": {
    "ExecuteTime": {
     "end_time": "2023-02-20T08:31:22.698562Z",
     "start_time": "2023-02-20T08:31:22.378809Z"
    }
   },
   "outputs": [
    {
     "name": "stdout",
     "output_type": "stream",
     "text": [
      "   cg20815302  cg25795414  cg00959375  cg07781847  cg05138383  cg27394794  \\\n",
      "0    0.915790    0.899909    0.804116    0.796131    0.740029    0.838002   \n",
      "1    0.907957    0.868910    0.752844    0.827413    0.771393    0.766283   \n",
      "\n",
      "   cg12443990  cg19788329  cg22178513  cg04167299  ...  cg27475074  \\\n",
      "0    0.822036    0.813254    0.745601    0.886094  ...    0.028559   \n",
      "1    0.791932    0.785104    0.723989    0.861925  ...    0.049168   \n",
      "\n",
      "   cg02546039  cg25870071  cg26765773  cg22019496  cg02429154  cg05411695  \\\n",
      "0    0.920549    0.469715    0.112805    0.892764    0.925107    0.070574   \n",
      "1    0.906285    0.458602    0.068597    0.859078    0.907987    0.036712   \n",
      "\n",
      "   cg13202877  cg17697230  cg05687264  \n",
      "0    0.165807    0.918808    0.928897  \n",
      "1    0.177144    0.927030    0.911733  \n",
      "\n",
      "[2 rows x 73185 columns]\n"
     ]
    }
   ],
   "source": [
    "X = data.drop(['Sentrix','PATNO','HYS','Gender','Age','AgeCate','LetterNumber_Category','APPRDX'], axis = 1)\n",
    "y = data['APPRDX']\n",
    "X_train, X_test, y_train, y_test = train_test_split(X, y, test_size = .2, random_state = 1) \n",
    "print(X.head(2))"
   ]
  },
  {
   "cell_type": "code",
   "execution_count": 24,
   "id": "78a1abde",
   "metadata": {
    "ExecuteTime": {
     "end_time": "2023-02-20T08:31:27.528435Z",
     "start_time": "2023-02-20T08:31:22.700582Z"
    }
   },
   "outputs": [
    {
     "data": {
      "text/plain": [
       "RandomForestClassifier(random_state=1)"
      ]
     },
     "execution_count": 24,
     "metadata": {},
     "output_type": "execute_result"
    }
   ],
   "source": [
    "rf_all_features = RandomForestClassifier(random_state=1)\n",
    "rf_all_features.fit(X_train, y_train)"
   ]
  },
  {
   "cell_type": "code",
   "execution_count": 25,
   "id": "d0ee8096",
   "metadata": {
    "ExecuteTime": {
     "end_time": "2023-02-20T08:31:27.980815Z",
     "start_time": "2023-02-20T08:31:27.528435Z"
    }
   },
   "outputs": [
    {
     "data": {
      "text/plain": [
       "0.6630434782608695"
      ]
     },
     "execution_count": 25,
     "metadata": {},
     "output_type": "execute_result"
    }
   ],
   "source": [
    "accuracy_score(y_test, rf_all_features.predict(X_test))"
   ]
  },
  {
   "cell_type": "code",
   "execution_count": 26,
   "id": "abdc68ad",
   "metadata": {
    "ExecuteTime": {
     "end_time": "2023-02-20T09:03:48.479910Z",
     "start_time": "2023-02-20T08:31:27.980815Z"
    },
    "scrolled": true
   },
   "outputs": [
    {
     "name": "stdout",
     "output_type": "stream",
     "text": [
      "Iteration: 1 / 100\n",
      "Iteration: 2 / 100\n",
      "Iteration: 3 / 100\n",
      "Iteration: 4 / 100\n",
      "Iteration: 5 / 100\n",
      "Iteration: 6 / 100\n",
      "Iteration: 7 / 100\n",
      "Iteration: 8 / 100\n",
      "\n",
      "\n",
      "BorutaPy finished running.\n",
      "\n",
      "Iteration: \t9 / 100\n",
      "Confirmed: \t0\n",
      "Tentative: \t0\n",
      "Rejected: \t73185\n"
     ]
    },
    {
     "data": {
      "text/plain": [
       "BorutaPy(estimator=RandomForestClassifier(n_estimators=3825,\n",
       "                                          random_state=RandomState(MT19937) at 0x1498B13F940),\n",
       "         n_estimators='auto',\n",
       "         random_state=RandomState(MT19937) at 0x1498B13F940, verbose=1)"
      ]
     },
     "execution_count": 26,
     "metadata": {},
     "output_type": "execute_result"
    }
   ],
   "source": [
    "rfc = RandomForestClassifier(random_state=1)\n",
    "boruta_selector = BorutaPy(rfc, n_estimators= 'auto', verbose=1, random_state=1)\n",
    "boruta_selector.fit(np.array(X_train), np.array(y_train))  "
   ]
  },
  {
   "cell_type": "code",
   "execution_count": 27,
   "id": "a872a584",
   "metadata": {
    "ExecuteTime": {
     "end_time": "2023-02-20T09:03:48.500062Z",
     "start_time": "2023-02-20T09:03:48.481943Z"
    }
   },
   "outputs": [
    {
     "name": "stdout",
     "output_type": "stream",
     "text": [
      "No. of significant features:  0\n"
     ]
    }
   ],
   "source": [
    "# print(\"Ranking: \",boruta_selector.ranking_)          \n",
    "print(\"No. of significant features: \", boruta_selector.n_features_)"
   ]
  },
  {
   "cell_type": "code",
   "execution_count": 28,
   "id": "f420e8b3",
   "metadata": {
    "ExecuteTime": {
     "end_time": "2023-02-20T09:03:48.625976Z",
     "start_time": "2023-02-20T09:03:48.500062Z"
    }
   },
   "outputs": [],
   "source": [
    "selected_rf_features = pd.DataFrame({'CpG':list(X_train.columns),\n",
    "                                       'Ranking':boruta_selector.ranking_})\n",
    "selected_rf_features = selected_rf_features.sort_values(by='Ranking')"
   ]
  },
  {
   "cell_type": "code",
   "execution_count": 29,
   "id": "243fcad7",
   "metadata": {
    "ExecuteTime": {
     "end_time": "2023-02-20T09:03:48.720686Z",
     "start_time": "2023-02-20T09:03:48.625976Z"
    }
   },
   "outputs": [
    {
     "data": {
      "text/html": [
       "<div>\n",
       "<style scoped>\n",
       "    .dataframe tbody tr th:only-of-type {\n",
       "        vertical-align: middle;\n",
       "    }\n",
       "\n",
       "    .dataframe tbody tr th {\n",
       "        vertical-align: top;\n",
       "    }\n",
       "\n",
       "    .dataframe thead th {\n",
       "        text-align: right;\n",
       "    }\n",
       "</style>\n",
       "<table border=\"1\" class=\"dataframe\">\n",
       "  <thead>\n",
       "    <tr style=\"text-align: right;\">\n",
       "      <th></th>\n",
       "      <th>CpG</th>\n",
       "      <th>Ranking</th>\n",
       "    </tr>\n",
       "  </thead>\n",
       "  <tbody>\n",
       "    <tr>\n",
       "      <th>27627</th>\n",
       "      <td>cg23937960</td>\n",
       "      <td>2</td>\n",
       "    </tr>\n",
       "    <tr>\n",
       "      <th>5711</th>\n",
       "      <td>cg24467842</td>\n",
       "      <td>2</td>\n",
       "    </tr>\n",
       "    <tr>\n",
       "      <th>42306</th>\n",
       "      <td>cg06709766</td>\n",
       "      <td>3</td>\n",
       "    </tr>\n",
       "  </tbody>\n",
       "</table>\n",
       "</div>"
      ],
      "text/plain": [
       "              CpG  Ranking\n",
       "27627  cg23937960        2\n",
       "5711   cg24467842        2\n",
       "42306  cg06709766        3"
      ]
     },
     "execution_count": 29,
     "metadata": {},
     "output_type": "execute_result"
    }
   ],
   "source": [
    "Top50 = selected_rf_features.iloc[:51, :]\n",
    "Top50.head(3)"
   ]
  },
  {
   "cell_type": "code",
   "execution_count": 30,
   "id": "d86ac67f",
   "metadata": {
    "ExecuteTime": {
     "end_time": "2023-02-20T09:03:48.982480Z",
     "start_time": "2023-02-20T09:03:48.722711Z"
    }
   },
   "outputs": [],
   "source": [
    "Top50.to_csv ('LetterNumber_Boruta_Top50.csv', index = False)\n",
    "selected_rf_features.to_csv ('LetterNumber_Boruta_All.csv', index = False)"
   ]
  },
  {
   "cell_type": "code",
   "execution_count": 31,
   "id": "2b18a784",
   "metadata": {
    "ExecuteTime": {
     "end_time": "2023-02-20T09:03:49.063171Z",
     "start_time": "2023-02-20T09:03:48.984499Z"
    }
   },
   "outputs": [
    {
     "name": "stderr",
     "output_type": "stream",
     "text": [
      "C:\\Users\\system 4\\AppData\\Local\\Temp\\ipykernel_11932\\226587430.py:6: SettingWithCopyWarning: \n",
      "A value is trying to be set on a copy of a slice from a DataFrame.\n",
      "Try using .loc[row_indexer,col_indexer] = value instead\n",
      "\n",
      "See the caveats in the documentation: https://pandas.pydata.org/pandas-docs/stable/user_guide/indexing.html#returning-a-view-versus-a-copy\n",
      "  df_subset['APPRDX'] = data['APPRDX']\n"
     ]
    },
    {
     "data": {
      "text/html": [
       "<div>\n",
       "<style scoped>\n",
       "    .dataframe tbody tr th:only-of-type {\n",
       "        vertical-align: middle;\n",
       "    }\n",
       "\n",
       "    .dataframe tbody tr th {\n",
       "        vertical-align: top;\n",
       "    }\n",
       "\n",
       "    .dataframe thead th {\n",
       "        text-align: right;\n",
       "    }\n",
       "</style>\n",
       "<table border=\"1\" class=\"dataframe\">\n",
       "  <thead>\n",
       "    <tr style=\"text-align: right;\">\n",
       "      <th></th>\n",
       "      <th>cg02471954</th>\n",
       "      <th>cg26657920</th>\n",
       "      <th>cg00260798</th>\n",
       "      <th>cg04009197</th>\n",
       "      <th>cg03245734</th>\n",
       "      <th>cg03424478</th>\n",
       "      <th>cg24467842</th>\n",
       "      <th>cg21747188</th>\n",
       "      <th>cg13312668</th>\n",
       "      <th>cg10619653</th>\n",
       "      <th>...</th>\n",
       "      <th>cg27542525</th>\n",
       "      <th>cg10322510</th>\n",
       "      <th>cg18967713</th>\n",
       "      <th>cg11802732</th>\n",
       "      <th>cg12220605</th>\n",
       "      <th>cg12015492</th>\n",
       "      <th>cg00811166</th>\n",
       "      <th>cg12046288</th>\n",
       "      <th>cg19371224</th>\n",
       "      <th>APPRDX</th>\n",
       "    </tr>\n",
       "  </thead>\n",
       "  <tbody>\n",
       "    <tr>\n",
       "      <th>0</th>\n",
       "      <td>0.928420</td>\n",
       "      <td>0.876827</td>\n",
       "      <td>0.924389</td>\n",
       "      <td>0.898288</td>\n",
       "      <td>0.042934</td>\n",
       "      <td>0.028517</td>\n",
       "      <td>0.830469</td>\n",
       "      <td>0.025714</td>\n",
       "      <td>0.902683</td>\n",
       "      <td>0.935868</td>\n",
       "      <td>...</td>\n",
       "      <td>0.329920</td>\n",
       "      <td>0.967393</td>\n",
       "      <td>0.015011</td>\n",
       "      <td>0.039124</td>\n",
       "      <td>0.117280</td>\n",
       "      <td>0.033413</td>\n",
       "      <td>0.887979</td>\n",
       "      <td>0.017441</td>\n",
       "      <td>0.895183</td>\n",
       "      <td>2</td>\n",
       "    </tr>\n",
       "    <tr>\n",
       "      <th>1</th>\n",
       "      <td>0.853669</td>\n",
       "      <td>0.836352</td>\n",
       "      <td>0.885679</td>\n",
       "      <td>0.850314</td>\n",
       "      <td>0.047562</td>\n",
       "      <td>0.030953</td>\n",
       "      <td>0.874708</td>\n",
       "      <td>0.064156</td>\n",
       "      <td>0.858468</td>\n",
       "      <td>0.906738</td>\n",
       "      <td>...</td>\n",
       "      <td>0.347469</td>\n",
       "      <td>0.967266</td>\n",
       "      <td>0.019488</td>\n",
       "      <td>0.038867</td>\n",
       "      <td>0.082447</td>\n",
       "      <td>0.039214</td>\n",
       "      <td>0.840791</td>\n",
       "      <td>0.019627</td>\n",
       "      <td>0.751572</td>\n",
       "      <td>1</td>\n",
       "    </tr>\n",
       "  </tbody>\n",
       "</table>\n",
       "<p>2 rows × 52 columns</p>\n",
       "</div>"
      ],
      "text/plain": [
       "   cg02471954  cg26657920  cg00260798  cg04009197  cg03245734  cg03424478  \\\n",
       "0    0.928420    0.876827    0.924389    0.898288    0.042934    0.028517   \n",
       "1    0.853669    0.836352    0.885679    0.850314    0.047562    0.030953   \n",
       "\n",
       "   cg24467842  cg21747188  cg13312668  cg10619653  ...  cg27542525  \\\n",
       "0    0.830469    0.025714    0.902683    0.935868  ...    0.329920   \n",
       "1    0.874708    0.064156    0.858468    0.906738  ...    0.347469   \n",
       "\n",
       "   cg10322510  cg18967713  cg11802732  cg12220605  cg12015492  cg00811166  \\\n",
       "0    0.967393    0.015011    0.039124    0.117280    0.033413    0.887979   \n",
       "1    0.967266    0.019488    0.038867    0.082447    0.039214    0.840791   \n",
       "\n",
       "   cg12046288  cg19371224  APPRDX  \n",
       "0    0.017441    0.895183       2  \n",
       "1    0.019627    0.751572       1  \n",
       "\n",
       "[2 rows x 52 columns]"
      ]
     },
     "execution_count": 31,
     "metadata": {},
     "output_type": "execute_result"
    }
   ],
   "source": [
    "# create a list of column names to subset from data\n",
    "col_names = Top50.iloc[:, 0].tolist()\n",
    "\n",
    "# subset df based on the column names\n",
    "df_subset = data.loc[:, data.columns.isin(col_names)]\n",
    "df_subset['APPRDX'] = data['APPRDX']\n",
    "df_subset.to_csv ('LetterNumber_Boruta_Top50_Data.csv', index = False)\n",
    "df_subset.head(2)"
   ]
  },
  {
   "cell_type": "markdown",
   "id": "f80c99fa",
   "metadata": {},
   "source": [
    "# Lexical Fluency"
   ]
  },
  {
   "cell_type": "code",
   "execution_count": 32,
   "id": "8e9c0f6a",
   "metadata": {
    "ExecuteTime": {
     "end_time": "2023-02-20T09:04:27.362576Z",
     "start_time": "2023-02-20T09:03:49.063171Z"
    }
   },
   "outputs": [
    {
     "name": "stdout",
     "output_type": "stream",
     "text": [
      "Z:\\PPMI_Data\\Excels\\NonMotors\\Derived250\\GeneCpG\\LexicalFluency\n"
     ]
    },
    {
     "data": {
      "text/html": [
       "<div>\n",
       "<style scoped>\n",
       "    .dataframe tbody tr th:only-of-type {\n",
       "        vertical-align: middle;\n",
       "    }\n",
       "\n",
       "    .dataframe tbody tr th {\n",
       "        vertical-align: top;\n",
       "    }\n",
       "\n",
       "    .dataframe thead th {\n",
       "        text-align: right;\n",
       "    }\n",
       "</style>\n",
       "<table border=\"1\" class=\"dataframe\">\n",
       "  <thead>\n",
       "    <tr style=\"text-align: right;\">\n",
       "      <th></th>\n",
       "      <th>Sentrix</th>\n",
       "      <th>PATNO</th>\n",
       "      <th>Gender</th>\n",
       "      <th>APPRDX</th>\n",
       "      <th>HYS</th>\n",
       "      <th>Age</th>\n",
       "      <th>AgeCate</th>\n",
       "      <th>Lexical_Fluency_Category</th>\n",
       "      <th>cg02315971</th>\n",
       "      <th>cg24133836</th>\n",
       "      <th>...</th>\n",
       "      <th>cg12092065</th>\n",
       "      <th>cg10388349</th>\n",
       "      <th>cg11918957</th>\n",
       "      <th>cg26583598</th>\n",
       "      <th>cg11023075</th>\n",
       "      <th>cg02097667</th>\n",
       "      <th>cg21616723</th>\n",
       "      <th>cg27335855</th>\n",
       "      <th>cg18259253</th>\n",
       "      <th>cg15404040</th>\n",
       "    </tr>\n",
       "  </thead>\n",
       "  <tbody>\n",
       "    <tr>\n",
       "      <th>0</th>\n",
       "      <td>200973410159_R03C01</td>\n",
       "      <td>3000</td>\n",
       "      <td>2</td>\n",
       "      <td>2</td>\n",
       "      <td>0</td>\n",
       "      <td>69.1</td>\n",
       "      <td>4</td>\n",
       "      <td>1</td>\n",
       "      <td>0.030109</td>\n",
       "      <td>0.016106</td>\n",
       "      <td>...</td>\n",
       "      <td>0.953091</td>\n",
       "      <td>0.392056</td>\n",
       "      <td>0.913402</td>\n",
       "      <td>0.913637</td>\n",
       "      <td>0.897198</td>\n",
       "      <td>0.871237</td>\n",
       "      <td>0.913624</td>\n",
       "      <td>0.65186</td>\n",
       "      <td>0.852542</td>\n",
       "      <td>0.909412</td>\n",
       "    </tr>\n",
       "  </tbody>\n",
       "</table>\n",
       "<p>1 rows × 85923 columns</p>\n",
       "</div>"
      ],
      "text/plain": [
       "               Sentrix  PATNO  Gender  APPRDX  HYS   Age  AgeCate  \\\n",
       "0  200973410159_R03C01   3000       2       2    0  69.1        4   \n",
       "\n",
       "   Lexical_Fluency_Category  cg02315971  cg24133836  ...  cg12092065  \\\n",
       "0                         1    0.030109    0.016106  ...    0.953091   \n",
       "\n",
       "   cg10388349  cg11918957  cg26583598  cg11023075  cg02097667  cg21616723  \\\n",
       "0    0.392056    0.913402    0.913637    0.897198    0.871237    0.913624   \n",
       "\n",
       "   cg27335855  cg18259253  cg15404040  \n",
       "0     0.65186    0.852542    0.909412  \n",
       "\n",
       "[1 rows x 85923 columns]"
      ]
     },
     "execution_count": 32,
     "metadata": {},
     "output_type": "execute_result"
    }
   ],
   "source": [
    "%cd Z:\\PPMI_Data\\Excels\\NonMotors\\Derived250\\GeneCpG\\LexicalFluency\n",
    "data = pd.read_csv('LexicalFluency_with_MethylomeDetails.csv')\n",
    "data.head(1)"
   ]
  },
  {
   "cell_type": "code",
   "execution_count": 33,
   "id": "1f678287",
   "metadata": {
    "ExecuteTime": {
     "end_time": "2023-02-20T09:04:27.583837Z",
     "start_time": "2023-02-20T09:04:27.362576Z"
    }
   },
   "outputs": [
    {
     "name": "stdout",
     "output_type": "stream",
     "text": [
      "   cg02315971  cg24133836  cg03286969  cg11738782  cg25741731  cg24629744  \\\n",
      "0    0.030109    0.016106    0.019371    0.884151    0.026326    0.868373   \n",
      "1    0.028697    0.017000    0.018631    0.871526    0.026148    0.866396   \n",
      "\n",
      "   cg23836745  cg11685489  cg06081147  cg18057762  ...  cg12092065  \\\n",
      "0    0.905809    0.825562    0.691096    0.045994  ...    0.953091   \n",
      "1    0.922285    0.881489    0.647436    0.035721  ...    0.924513   \n",
      "\n",
      "   cg10388349  cg11918957  cg26583598  cg11023075  cg02097667  cg21616723  \\\n",
      "0    0.392056    0.913402    0.913637    0.897198    0.871237    0.913624   \n",
      "1    0.370289    0.902610    0.914253    0.881206    0.834363    0.912120   \n",
      "\n",
      "   cg27335855  cg18259253  cg15404040  \n",
      "0     0.65186    0.852542    0.909412  \n",
      "1     0.69253    0.839574    0.867794  \n",
      "\n",
      "[2 rows x 85915 columns]\n"
     ]
    }
   ],
   "source": [
    "X = data.drop(['Sentrix','PATNO','HYS','Gender','Age','AgeCate','Lexical_Fluency_Category','APPRDX'], axis = 1)\n",
    "y = data['APPRDX']\n",
    "X_train, X_test, y_train, y_test = train_test_split(X, y, test_size = .2, random_state = 1) \n",
    "print(X.head(2))"
   ]
  },
  {
   "cell_type": "code",
   "execution_count": 34,
   "id": "aaae2559",
   "metadata": {
    "ExecuteTime": {
     "end_time": "2023-02-20T09:04:29.655995Z",
     "start_time": "2023-02-20T09:04:27.585851Z"
    }
   },
   "outputs": [
    {
     "data": {
      "text/plain": [
       "RandomForestClassifier(random_state=1)"
      ]
     },
     "execution_count": 34,
     "metadata": {},
     "output_type": "execute_result"
    }
   ],
   "source": [
    "rf_all_features = RandomForestClassifier(random_state=1)\n",
    "rf_all_features.fit(X_train, y_train)"
   ]
  },
  {
   "cell_type": "code",
   "execution_count": 35,
   "id": "3229a68b",
   "metadata": {
    "ExecuteTime": {
     "end_time": "2023-02-20T09:04:30.119206Z",
     "start_time": "2023-02-20T09:04:29.655995Z"
    }
   },
   "outputs": [
    {
     "data": {
      "text/plain": [
       "0.6808510638297872"
      ]
     },
     "execution_count": 35,
     "metadata": {},
     "output_type": "execute_result"
    }
   ],
   "source": [
    "accuracy_score(y_test, rf_all_features.predict(X_test))"
   ]
  },
  {
   "cell_type": "code",
   "execution_count": 36,
   "id": "5fa60f1d",
   "metadata": {
    "ExecuteTime": {
     "end_time": "2023-02-20T09:17:23.180748Z",
     "start_time": "2023-02-20T09:04:30.121236Z"
    }
   },
   "outputs": [
    {
     "name": "stdout",
     "output_type": "stream",
     "text": [
      "Iteration: 1 / 100\n",
      "Iteration: 2 / 100\n",
      "Iteration: 3 / 100\n",
      "Iteration: 4 / 100\n",
      "Iteration: 5 / 100\n",
      "Iteration: 6 / 100\n",
      "Iteration: 7 / 100\n",
      "Iteration: 8 / 100\n",
      "Iteration: 9 / 100\n",
      "Iteration: 10 / 100\n",
      "Iteration: 11 / 100\n",
      "Iteration: 12 / 100\n",
      "Iteration: 13 / 100\n",
      "Iteration: 14 / 100\n",
      "Iteration: 15 / 100\n",
      "Iteration: 16 / 100\n",
      "Iteration: 17 / 100\n",
      "Iteration: 18 / 100\n",
      "Iteration: 19 / 100\n",
      "Iteration: 20 / 100\n",
      "Iteration: 21 / 100\n",
      "Iteration: 22 / 100\n",
      "Iteration: 23 / 100\n",
      "Iteration: 24 / 100\n",
      "Iteration: 25 / 100\n",
      "Iteration: 26 / 100\n",
      "Iteration: 27 / 100\n",
      "Iteration: 28 / 100\n",
      "Iteration: 29 / 100\n",
      "Iteration: 30 / 100\n",
      "Iteration: 31 / 100\n",
      "Iteration: 32 / 100\n",
      "\n",
      "\n",
      "BorutaPy finished running.\n",
      "\n",
      "Iteration: \t33 / 100\n",
      "Confirmed: \t1\n",
      "Tentative: \t0\n",
      "Rejected: \t85914\n"
     ]
    },
    {
     "data": {
      "text/plain": [
       "BorutaPy(estimator=RandomForestClassifier(n_estimators=14,\n",
       "                                          random_state=RandomState(MT19937) at 0x1498B13F840),\n",
       "         n_estimators='auto',\n",
       "         random_state=RandomState(MT19937) at 0x1498B13F840, verbose=1)"
      ]
     },
     "execution_count": 36,
     "metadata": {},
     "output_type": "execute_result"
    }
   ],
   "source": [
    "rfc = RandomForestClassifier(random_state=1)\n",
    "boruta_selector = BorutaPy(rfc, n_estimators= 'auto', verbose=1, random_state=1)\n",
    "boruta_selector.fit(np.array(X_train), np.array(y_train))  "
   ]
  },
  {
   "cell_type": "code",
   "execution_count": 37,
   "id": "1798e184",
   "metadata": {
    "ExecuteTime": {
     "end_time": "2023-02-20T09:17:23.200846Z",
     "start_time": "2023-02-20T09:17:23.182768Z"
    }
   },
   "outputs": [
    {
     "name": "stdout",
     "output_type": "stream",
     "text": [
      "No. of significant features:  1\n"
     ]
    }
   ],
   "source": [
    "# print(\"Ranking: \",boruta_selector.ranking_)          \n",
    "print(\"No. of significant features: \", boruta_selector.n_features_)"
   ]
  },
  {
   "cell_type": "code",
   "execution_count": 38,
   "id": "7adc0160",
   "metadata": {
    "ExecuteTime": {
     "end_time": "2023-02-20T09:17:23.321469Z",
     "start_time": "2023-02-20T09:17:23.202869Z"
    }
   },
   "outputs": [],
   "source": [
    "selected_rf_features = pd.DataFrame({'CpG':list(X_train.columns),\n",
    "                                       'Ranking':boruta_selector.ranking_})\n",
    "selected_rf_features = selected_rf_features.sort_values(by='Ranking')"
   ]
  },
  {
   "cell_type": "code",
   "execution_count": 39,
   "id": "66a76e09",
   "metadata": {
    "ExecuteTime": {
     "end_time": "2023-02-20T09:17:23.442128Z",
     "start_time": "2023-02-20T09:17:23.323490Z"
    }
   },
   "outputs": [
    {
     "data": {
      "text/html": [
       "<div>\n",
       "<style scoped>\n",
       "    .dataframe tbody tr th:only-of-type {\n",
       "        vertical-align: middle;\n",
       "    }\n",
       "\n",
       "    .dataframe tbody tr th {\n",
       "        vertical-align: top;\n",
       "    }\n",
       "\n",
       "    .dataframe thead th {\n",
       "        text-align: right;\n",
       "    }\n",
       "</style>\n",
       "<table border=\"1\" class=\"dataframe\">\n",
       "  <thead>\n",
       "    <tr style=\"text-align: right;\">\n",
       "      <th></th>\n",
       "      <th>CpG</th>\n",
       "      <th>Ranking</th>\n",
       "    </tr>\n",
       "  </thead>\n",
       "  <tbody>\n",
       "    <tr>\n",
       "      <th>38024</th>\n",
       "      <td>cg21507882</td>\n",
       "      <td>1</td>\n",
       "    </tr>\n",
       "    <tr>\n",
       "      <th>77927</th>\n",
       "      <td>cg09304381</td>\n",
       "      <td>2</td>\n",
       "    </tr>\n",
       "    <tr>\n",
       "      <th>45363</th>\n",
       "      <td>cg19984257</td>\n",
       "      <td>3</td>\n",
       "    </tr>\n",
       "  </tbody>\n",
       "</table>\n",
       "</div>"
      ],
      "text/plain": [
       "              CpG  Ranking\n",
       "38024  cg21507882        1\n",
       "77927  cg09304381        2\n",
       "45363  cg19984257        3"
      ]
     },
     "execution_count": 39,
     "metadata": {},
     "output_type": "execute_result"
    }
   ],
   "source": [
    "Top50 = selected_rf_features.iloc[:51, :]\n",
    "Top50.head(3)"
   ]
  },
  {
   "cell_type": "code",
   "execution_count": 40,
   "id": "041f6160",
   "metadata": {
    "ExecuteTime": {
     "end_time": "2023-02-20T09:17:23.846352Z",
     "start_time": "2023-02-20T09:17:23.444150Z"
    }
   },
   "outputs": [],
   "source": [
    "Top50.to_csv ('LexicalFluency_Boruta_Top50.csv', index = False)\n",
    "selected_rf_features.to_csv ('LexicalFluency_Boruta_All.csv', index = False)"
   ]
  },
  {
   "cell_type": "code",
   "execution_count": 41,
   "id": "12858a92",
   "metadata": {
    "ExecuteTime": {
     "end_time": "2023-02-20T09:17:23.965008Z",
     "start_time": "2023-02-20T09:17:23.856403Z"
    }
   },
   "outputs": [
    {
     "name": "stderr",
     "output_type": "stream",
     "text": [
      "C:\\Users\\system 4\\AppData\\Local\\Temp\\ipykernel_11932\\1700292862.py:6: SettingWithCopyWarning: \n",
      "A value is trying to be set on a copy of a slice from a DataFrame.\n",
      "Try using .loc[row_indexer,col_indexer] = value instead\n",
      "\n",
      "See the caveats in the documentation: https://pandas.pydata.org/pandas-docs/stable/user_guide/indexing.html#returning-a-view-versus-a-copy\n",
      "  df_subset['APPRDX'] = data['APPRDX']\n"
     ]
    },
    {
     "data": {
      "text/html": [
       "<div>\n",
       "<style scoped>\n",
       "    .dataframe tbody tr th:only-of-type {\n",
       "        vertical-align: middle;\n",
       "    }\n",
       "\n",
       "    .dataframe tbody tr th {\n",
       "        vertical-align: top;\n",
       "    }\n",
       "\n",
       "    .dataframe thead th {\n",
       "        text-align: right;\n",
       "    }\n",
       "</style>\n",
       "<table border=\"1\" class=\"dataframe\">\n",
       "  <thead>\n",
       "    <tr style=\"text-align: right;\">\n",
       "      <th></th>\n",
       "      <th>cg26354221</th>\n",
       "      <th>cg14296039</th>\n",
       "      <th>cg10475683</th>\n",
       "      <th>cg23254463</th>\n",
       "      <th>cg06273051</th>\n",
       "      <th>cg18823302</th>\n",
       "      <th>cg15355235</th>\n",
       "      <th>cg07027506</th>\n",
       "      <th>cg02479278</th>\n",
       "      <th>cg25816115</th>\n",
       "      <th>...</th>\n",
       "      <th>cg15593930</th>\n",
       "      <th>cg13359134</th>\n",
       "      <th>cg07667731</th>\n",
       "      <th>cg09304381</th>\n",
       "      <th>cg23169811</th>\n",
       "      <th>cg26869617</th>\n",
       "      <th>cg21585627</th>\n",
       "      <th>cg02618319</th>\n",
       "      <th>cg09670616</th>\n",
       "      <th>APPRDX</th>\n",
       "    </tr>\n",
       "  </thead>\n",
       "  <tbody>\n",
       "    <tr>\n",
       "      <th>0</th>\n",
       "      <td>0.918085</td>\n",
       "      <td>0.873012</td>\n",
       "      <td>0.062533</td>\n",
       "      <td>0.919921</td>\n",
       "      <td>0.543591</td>\n",
       "      <td>0.944782</td>\n",
       "      <td>0.633212</td>\n",
       "      <td>0.645067</td>\n",
       "      <td>0.677445</td>\n",
       "      <td>0.875295</td>\n",
       "      <td>...</td>\n",
       "      <td>0.019946</td>\n",
       "      <td>0.016097</td>\n",
       "      <td>0.016602</td>\n",
       "      <td>0.981877</td>\n",
       "      <td>0.933661</td>\n",
       "      <td>0.923248</td>\n",
       "      <td>0.042639</td>\n",
       "      <td>0.981089</td>\n",
       "      <td>0.017773</td>\n",
       "      <td>2</td>\n",
       "    </tr>\n",
       "    <tr>\n",
       "      <th>1</th>\n",
       "      <td>0.924711</td>\n",
       "      <td>0.835527</td>\n",
       "      <td>0.044298</td>\n",
       "      <td>0.921331</td>\n",
       "      <td>0.492912</td>\n",
       "      <td>0.890833</td>\n",
       "      <td>0.027949</td>\n",
       "      <td>0.578137</td>\n",
       "      <td>0.641669</td>\n",
       "      <td>0.815073</td>\n",
       "      <td>...</td>\n",
       "      <td>0.027932</td>\n",
       "      <td>0.014686</td>\n",
       "      <td>0.013778</td>\n",
       "      <td>0.960567</td>\n",
       "      <td>0.931264</td>\n",
       "      <td>0.906871</td>\n",
       "      <td>0.057217</td>\n",
       "      <td>0.977055</td>\n",
       "      <td>0.031018</td>\n",
       "      <td>1</td>\n",
       "    </tr>\n",
       "  </tbody>\n",
       "</table>\n",
       "<p>2 rows × 52 columns</p>\n",
       "</div>"
      ],
      "text/plain": [
       "   cg26354221  cg14296039  cg10475683  cg23254463  cg06273051  cg18823302  \\\n",
       "0    0.918085    0.873012    0.062533    0.919921    0.543591    0.944782   \n",
       "1    0.924711    0.835527    0.044298    0.921331    0.492912    0.890833   \n",
       "\n",
       "   cg15355235  cg07027506  cg02479278  cg25816115  ...  cg15593930  \\\n",
       "0    0.633212    0.645067    0.677445    0.875295  ...    0.019946   \n",
       "1    0.027949    0.578137    0.641669    0.815073  ...    0.027932   \n",
       "\n",
       "   cg13359134  cg07667731  cg09304381  cg23169811  cg26869617  cg21585627  \\\n",
       "0    0.016097    0.016602    0.981877    0.933661    0.923248    0.042639   \n",
       "1    0.014686    0.013778    0.960567    0.931264    0.906871    0.057217   \n",
       "\n",
       "   cg02618319  cg09670616  APPRDX  \n",
       "0    0.981089    0.017773       2  \n",
       "1    0.977055    0.031018       1  \n",
       "\n",
       "[2 rows x 52 columns]"
      ]
     },
     "execution_count": 41,
     "metadata": {},
     "output_type": "execute_result"
    }
   ],
   "source": [
    "# create a list of column names to subset from data\n",
    "col_names = Top50.iloc[:, 0].tolist()\n",
    "\n",
    "# subset df based on the column names\n",
    "df_subset = data.loc[:, data.columns.isin(col_names)]\n",
    "df_subset['APPRDX'] = data['APPRDX']\n",
    "df_subset.to_csv ('LexicalFluency_Boruta_Top50_Data.csv', index = False)\n",
    "df_subset.head(2)"
   ]
  },
  {
   "cell_type": "markdown",
   "id": "fb011dce",
   "metadata": {},
   "source": [
    "# Trail Making B"
   ]
  },
  {
   "cell_type": "code",
   "execution_count": 42,
   "id": "77e71903",
   "metadata": {
    "ExecuteTime": {
     "end_time": "2023-02-20T09:17:47.966982Z",
     "start_time": "2023-02-20T09:17:23.967031Z"
    }
   },
   "outputs": [
    {
     "name": "stdout",
     "output_type": "stream",
     "text": [
      "Z:\\PPMI_Data\\Excels\\NonMotors\\Derived250\\GeneCpG\\TrailMakeB\n"
     ]
    },
    {
     "data": {
      "text/html": [
       "<div>\n",
       "<style scoped>\n",
       "    .dataframe tbody tr th:only-of-type {\n",
       "        vertical-align: middle;\n",
       "    }\n",
       "\n",
       "    .dataframe tbody tr th {\n",
       "        vertical-align: top;\n",
       "    }\n",
       "\n",
       "    .dataframe thead th {\n",
       "        text-align: right;\n",
       "    }\n",
       "</style>\n",
       "<table border=\"1\" class=\"dataframe\">\n",
       "  <thead>\n",
       "    <tr style=\"text-align: right;\">\n",
       "      <th></th>\n",
       "      <th>Sentrix</th>\n",
       "      <th>PATNO</th>\n",
       "      <th>Gender</th>\n",
       "      <th>APPRDX</th>\n",
       "      <th>HYS</th>\n",
       "      <th>Age</th>\n",
       "      <th>AgeCate</th>\n",
       "      <th>Trail_Making_B_Category</th>\n",
       "      <th>cg02315971</th>\n",
       "      <th>cg24133836</th>\n",
       "      <th>...</th>\n",
       "      <th>cg00956423</th>\n",
       "      <th>cg14462343</th>\n",
       "      <th>cg07481734</th>\n",
       "      <th>cg22394535</th>\n",
       "      <th>cg13044444</th>\n",
       "      <th>cg23223756</th>\n",
       "      <th>cg16870358</th>\n",
       "      <th>cg04754776</th>\n",
       "      <th>cg00154746</th>\n",
       "      <th>cg06155771</th>\n",
       "    </tr>\n",
       "  </thead>\n",
       "  <tbody>\n",
       "    <tr>\n",
       "      <th>0</th>\n",
       "      <td>200973410159_R03C01</td>\n",
       "      <td>3000</td>\n",
       "      <td>2</td>\n",
       "      <td>2</td>\n",
       "      <td>0</td>\n",
       "      <td>69.1</td>\n",
       "      <td>4</td>\n",
       "      <td>0</td>\n",
       "      <td>0.030109</td>\n",
       "      <td>0.016106</td>\n",
       "      <td>...</td>\n",
       "      <td>0.148515</td>\n",
       "      <td>0.036822</td>\n",
       "      <td>0.053052</td>\n",
       "      <td>0.044051</td>\n",
       "      <td>0.040994</td>\n",
       "      <td>0.047501</td>\n",
       "      <td>0.04635</td>\n",
       "      <td>0.904242</td>\n",
       "      <td>0.021033</td>\n",
       "      <td>0.813738</td>\n",
       "    </tr>\n",
       "  </tbody>\n",
       "</table>\n",
       "<p>1 rows × 61926 columns</p>\n",
       "</div>"
      ],
      "text/plain": [
       "               Sentrix  PATNO  Gender  APPRDX  HYS   Age  AgeCate  \\\n",
       "0  200973410159_R03C01   3000       2       2    0  69.1        4   \n",
       "\n",
       "   Trail_Making_B_Category  cg02315971  cg24133836  ...  cg00956423  \\\n",
       "0                        0    0.030109    0.016106  ...    0.148515   \n",
       "\n",
       "   cg14462343  cg07481734  cg22394535  cg13044444  cg23223756  cg16870358  \\\n",
       "0    0.036822    0.053052    0.044051    0.040994    0.047501     0.04635   \n",
       "\n",
       "   cg04754776  cg00154746  cg06155771  \n",
       "0    0.904242    0.021033    0.813738  \n",
       "\n",
       "[1 rows x 61926 columns]"
      ]
     },
     "execution_count": 42,
     "metadata": {},
     "output_type": "execute_result"
    }
   ],
   "source": [
    "%cd Z:\\PPMI_Data\\Excels\\NonMotors\\Derived250\\GeneCpG\\TrailMakeB\n",
    "data = pd.read_csv('TrailMakeB_with_MethylomeDetails.csv')\n",
    "data.head(1)"
   ]
  },
  {
   "cell_type": "code",
   "execution_count": 43,
   "id": "86f41eed",
   "metadata": {
    "ExecuteTime": {
     "end_time": "2023-02-20T09:17:48.098629Z",
     "start_time": "2023-02-20T09:17:47.966982Z"
    }
   },
   "outputs": [
    {
     "name": "stdout",
     "output_type": "stream",
     "text": [
      "   cg02315971  cg24133836  cg03286969  cg11738782  cg25741731  cg24629744  \\\n",
      "0    0.030109    0.016106    0.019371    0.884151    0.026326    0.868373   \n",
      "1    0.028697    0.017000    0.018631    0.871526    0.026148    0.866396   \n",
      "\n",
      "   cg23836745  cg11685489  cg06081147  cg18057762  ...  cg00956423  \\\n",
      "0    0.905809    0.825562    0.691096    0.045994  ...    0.148515   \n",
      "1    0.922285    0.881489    0.647436    0.035721  ...    0.109870   \n",
      "\n",
      "   cg14462343  cg07481734  cg22394535  cg13044444  cg23223756  cg16870358  \\\n",
      "0    0.036822    0.053052    0.044051    0.040994    0.047501    0.046350   \n",
      "1    0.056582    0.064137    0.053802    0.083556    0.042638    0.041733   \n",
      "\n",
      "   cg04754776  cg00154746  cg06155771  \n",
      "0    0.904242    0.021033    0.813738  \n",
      "1    0.896521    0.033285    0.753096  \n",
      "\n",
      "[2 rows x 61918 columns]\n"
     ]
    }
   ],
   "source": [
    "X = data.drop(['Sentrix','PATNO','HYS','Gender','Age','AgeCate','Trail_Making_B_Category','APPRDX'], axis = 1)\n",
    "y = data['APPRDX']\n",
    "X_train, X_test, y_train, y_test = train_test_split(X, y, test_size = .2, random_state = 1) \n",
    "print(X.head(2))"
   ]
  },
  {
   "cell_type": "code",
   "execution_count": 44,
   "id": "761263f7",
   "metadata": {
    "ExecuteTime": {
     "end_time": "2023-02-20T09:17:49.651226Z",
     "start_time": "2023-02-20T09:17:48.098629Z"
    }
   },
   "outputs": [
    {
     "data": {
      "text/plain": [
       "RandomForestClassifier(random_state=1)"
      ]
     },
     "execution_count": 44,
     "metadata": {},
     "output_type": "execute_result"
    }
   ],
   "source": [
    "rf_all_features = RandomForestClassifier(random_state=1)\n",
    "rf_all_features.fit(X_train, y_train)"
   ]
  },
  {
   "cell_type": "code",
   "execution_count": 45,
   "id": "78f9d666",
   "metadata": {
    "ExecuteTime": {
     "end_time": "2023-02-20T09:17:49.972278Z",
     "start_time": "2023-02-20T09:17:49.651226Z"
    }
   },
   "outputs": [
    {
     "data": {
      "text/plain": [
       "0.5909090909090909"
      ]
     },
     "execution_count": 45,
     "metadata": {},
     "output_type": "execute_result"
    }
   ],
   "source": [
    "accuracy_score(y_test, rf_all_features.predict(X_test))"
   ]
  },
  {
   "cell_type": "code",
   "execution_count": 46,
   "id": "da2ca58e",
   "metadata": {
    "ExecuteTime": {
     "end_time": "2023-02-20T09:26:06.102212Z",
     "start_time": "2023-02-20T09:17:49.972278Z"
    }
   },
   "outputs": [
    {
     "name": "stdout",
     "output_type": "stream",
     "text": [
      "Iteration: 1 / 100\n",
      "Iteration: 2 / 100\n",
      "Iteration: 3 / 100\n",
      "Iteration: 4 / 100\n",
      "Iteration: 5 / 100\n",
      "Iteration: 6 / 100\n",
      "Iteration: 7 / 100\n",
      "Iteration: 8 / 100\n",
      "Iteration: 9 / 100\n",
      "Iteration: 10 / 100\n",
      "Iteration: 11 / 100\n",
      "Iteration: 12 / 100\n",
      "Iteration: 13 / 100\n",
      "Iteration: 14 / 100\n",
      "Iteration: 15 / 100\n",
      "Iteration: 16 / 100\n",
      "Iteration: 17 / 100\n",
      "Iteration: 18 / 100\n",
      "Iteration: 19 / 100\n",
      "Iteration: 20 / 100\n",
      "Iteration: 21 / 100\n",
      "Iteration: 22 / 100\n",
      "Iteration: 23 / 100\n",
      "Iteration: 24 / 100\n",
      "Iteration: 25 / 100\n",
      "Iteration: 26 / 100\n",
      "Iteration: 27 / 100\n",
      "Iteration: 28 / 100\n",
      "Iteration: 29 / 100\n",
      "\n",
      "\n",
      "BorutaPy finished running.\n",
      "\n",
      "Iteration: \t30 / 100\n",
      "Confirmed: \t1\n",
      "Tentative: \t0\n",
      "Rejected: \t61917\n"
     ]
    },
    {
     "data": {
      "text/plain": [
       "BorutaPy(estimator=RandomForestClassifier(n_estimators=14,\n",
       "                                          random_state=RandomState(MT19937) at 0x1498B13F540),\n",
       "         n_estimators='auto',\n",
       "         random_state=RandomState(MT19937) at 0x1498B13F540, verbose=1)"
      ]
     },
     "execution_count": 46,
     "metadata": {},
     "output_type": "execute_result"
    }
   ],
   "source": [
    "rfc = RandomForestClassifier(random_state=1)\n",
    "boruta_selector = BorutaPy(rfc, n_estimators= 'auto', verbose=1, random_state=1)\n",
    "boruta_selector.fit(np.array(X_train), np.array(y_train))  "
   ]
  },
  {
   "cell_type": "code",
   "execution_count": 47,
   "id": "8f6b3b88",
   "metadata": {
    "ExecuteTime": {
     "end_time": "2023-02-20T09:26:06.117861Z",
     "start_time": "2023-02-20T09:26:06.102212Z"
    }
   },
   "outputs": [
    {
     "name": "stdout",
     "output_type": "stream",
     "text": [
      "No. of significant features:  1\n"
     ]
    }
   ],
   "source": [
    "# print(\"Ranking: \",boruta_selector.ranking_)          \n",
    "print(\"No. of significant features: \", boruta_selector.n_features_)"
   ]
  },
  {
   "cell_type": "code",
   "execution_count": 48,
   "id": "9ba15722",
   "metadata": {
    "ExecuteTime": {
     "end_time": "2023-02-20T09:26:06.218273Z",
     "start_time": "2023-02-20T09:26:06.117861Z"
    }
   },
   "outputs": [],
   "source": [
    "selected_rf_features = pd.DataFrame({'CpG':list(X_train.columns),\n",
    "                                       'Ranking':boruta_selector.ranking_})\n",
    "selected_rf_features = selected_rf_features.sort_values(by='Ranking')"
   ]
  },
  {
   "cell_type": "code",
   "execution_count": 49,
   "id": "c1f6887e",
   "metadata": {
    "ExecuteTime": {
     "end_time": "2023-02-20T09:26:06.280710Z",
     "start_time": "2023-02-20T09:26:06.218273Z"
    }
   },
   "outputs": [
    {
     "data": {
      "text/html": [
       "<div>\n",
       "<style scoped>\n",
       "    .dataframe tbody tr th:only-of-type {\n",
       "        vertical-align: middle;\n",
       "    }\n",
       "\n",
       "    .dataframe tbody tr th {\n",
       "        vertical-align: top;\n",
       "    }\n",
       "\n",
       "    .dataframe thead th {\n",
       "        text-align: right;\n",
       "    }\n",
       "</style>\n",
       "<table border=\"1\" class=\"dataframe\">\n",
       "  <thead>\n",
       "    <tr style=\"text-align: right;\">\n",
       "      <th></th>\n",
       "      <th>CpG</th>\n",
       "      <th>Ranking</th>\n",
       "    </tr>\n",
       "  </thead>\n",
       "  <tbody>\n",
       "    <tr>\n",
       "      <th>19521</th>\n",
       "      <td>cg10729106</td>\n",
       "      <td>1</td>\n",
       "    </tr>\n",
       "    <tr>\n",
       "      <th>54689</th>\n",
       "      <td>cg19810426</td>\n",
       "      <td>2</td>\n",
       "    </tr>\n",
       "    <tr>\n",
       "      <th>17648</th>\n",
       "      <td>cg13167828</td>\n",
       "      <td>3</td>\n",
       "    </tr>\n",
       "  </tbody>\n",
       "</table>\n",
       "</div>"
      ],
      "text/plain": [
       "              CpG  Ranking\n",
       "19521  cg10729106        1\n",
       "54689  cg19810426        2\n",
       "17648  cg13167828        3"
      ]
     },
     "execution_count": 49,
     "metadata": {},
     "output_type": "execute_result"
    }
   ],
   "source": [
    "Top50 = selected_rf_features.iloc[:51, :]\n",
    "Top50.head(3)"
   ]
  },
  {
   "cell_type": "code",
   "execution_count": 50,
   "id": "79bc9781",
   "metadata": {
    "ExecuteTime": {
     "end_time": "2023-02-20T09:26:06.519214Z",
     "start_time": "2023-02-20T09:26:06.280710Z"
    }
   },
   "outputs": [],
   "source": [
    "Top50.to_csv ('TrailMakeB_Boruta_Top50.csv', index = False)\n",
    "selected_rf_features.to_csv ('TrailMakeB_Boruta_All.csv', index = False)"
   ]
  },
  {
   "cell_type": "code",
   "execution_count": 51,
   "id": "f7ab98c7",
   "metadata": {
    "ExecuteTime": {
     "end_time": "2023-02-20T09:26:06.566061Z",
     "start_time": "2023-02-20T09:26:06.519214Z"
    }
   },
   "outputs": [
    {
     "name": "stderr",
     "output_type": "stream",
     "text": [
      "C:\\Users\\system 4\\AppData\\Local\\Temp\\ipykernel_11932\\958766410.py:6: SettingWithCopyWarning: \n",
      "A value is trying to be set on a copy of a slice from a DataFrame.\n",
      "Try using .loc[row_indexer,col_indexer] = value instead\n",
      "\n",
      "See the caveats in the documentation: https://pandas.pydata.org/pandas-docs/stable/user_guide/indexing.html#returning-a-view-versus-a-copy\n",
      "  df_subset['APPRDX'] = data['APPRDX']\n"
     ]
    },
    {
     "data": {
      "text/html": [
       "<div>\n",
       "<style scoped>\n",
       "    .dataframe tbody tr th:only-of-type {\n",
       "        vertical-align: middle;\n",
       "    }\n",
       "\n",
       "    .dataframe tbody tr th {\n",
       "        vertical-align: top;\n",
       "    }\n",
       "\n",
       "    .dataframe thead th {\n",
       "        text-align: right;\n",
       "    }\n",
       "</style>\n",
       "<table border=\"1\" class=\"dataframe\">\n",
       "  <thead>\n",
       "    <tr style=\"text-align: right;\">\n",
       "      <th></th>\n",
       "      <th>cg18439474</th>\n",
       "      <th>cg26354221</th>\n",
       "      <th>cg01746044</th>\n",
       "      <th>cg17898737</th>\n",
       "      <th>cg12153529</th>\n",
       "      <th>cg02109003</th>\n",
       "      <th>cg13122031</th>\n",
       "      <th>cg20721322</th>\n",
       "      <th>cg11492856</th>\n",
       "      <th>ch.22.138449R</th>\n",
       "      <th>...</th>\n",
       "      <th>cg15469205</th>\n",
       "      <th>cg09495953</th>\n",
       "      <th>cg16620860</th>\n",
       "      <th>cg19810426</th>\n",
       "      <th>cg10425946</th>\n",
       "      <th>cg12417702</th>\n",
       "      <th>cg27497687</th>\n",
       "      <th>cg16356224</th>\n",
       "      <th>cg25911279</th>\n",
       "      <th>APPRDX</th>\n",
       "    </tr>\n",
       "  </thead>\n",
       "  <tbody>\n",
       "    <tr>\n",
       "      <th>0</th>\n",
       "      <td>0.790590</td>\n",
       "      <td>0.918085</td>\n",
       "      <td>0.021957</td>\n",
       "      <td>0.923107</td>\n",
       "      <td>0.026793</td>\n",
       "      <td>0.717723</td>\n",
       "      <td>0.910175</td>\n",
       "      <td>0.255404</td>\n",
       "      <td>0.921944</td>\n",
       "      <td>0.070647</td>\n",
       "      <td>...</td>\n",
       "      <td>0.656929</td>\n",
       "      <td>0.812500</td>\n",
       "      <td>0.624056</td>\n",
       "      <td>0.337330</td>\n",
       "      <td>0.017390</td>\n",
       "      <td>0.069469</td>\n",
       "      <td>0.037778</td>\n",
       "      <td>0.148380</td>\n",
       "      <td>0.035425</td>\n",
       "      <td>2</td>\n",
       "    </tr>\n",
       "    <tr>\n",
       "      <th>1</th>\n",
       "      <td>0.818168</td>\n",
       "      <td>0.924711</td>\n",
       "      <td>0.051224</td>\n",
       "      <td>0.916143</td>\n",
       "      <td>0.032767</td>\n",
       "      <td>0.639496</td>\n",
       "      <td>0.813401</td>\n",
       "      <td>0.208455</td>\n",
       "      <td>0.911869</td>\n",
       "      <td>0.076957</td>\n",
       "      <td>...</td>\n",
       "      <td>0.865868</td>\n",
       "      <td>0.907085</td>\n",
       "      <td>0.582799</td>\n",
       "      <td>0.293279</td>\n",
       "      <td>0.051054</td>\n",
       "      <td>0.030323</td>\n",
       "      <td>0.033875</td>\n",
       "      <td>0.179434</td>\n",
       "      <td>0.031463</td>\n",
       "      <td>1</td>\n",
       "    </tr>\n",
       "  </tbody>\n",
       "</table>\n",
       "<p>2 rows × 52 columns</p>\n",
       "</div>"
      ],
      "text/plain": [
       "   cg18439474  cg26354221  cg01746044  cg17898737  cg12153529  cg02109003  \\\n",
       "0    0.790590    0.918085    0.021957    0.923107    0.026793    0.717723   \n",
       "1    0.818168    0.924711    0.051224    0.916143    0.032767    0.639496   \n",
       "\n",
       "   cg13122031  cg20721322  cg11492856  ch.22.138449R  ...  cg15469205  \\\n",
       "0    0.910175    0.255404    0.921944       0.070647  ...    0.656929   \n",
       "1    0.813401    0.208455    0.911869       0.076957  ...    0.865868   \n",
       "\n",
       "   cg09495953  cg16620860  cg19810426  cg10425946  cg12417702  cg27497687  \\\n",
       "0    0.812500    0.624056    0.337330    0.017390    0.069469    0.037778   \n",
       "1    0.907085    0.582799    0.293279    0.051054    0.030323    0.033875   \n",
       "\n",
       "   cg16356224  cg25911279  APPRDX  \n",
       "0    0.148380    0.035425       2  \n",
       "1    0.179434    0.031463       1  \n",
       "\n",
       "[2 rows x 52 columns]"
      ]
     },
     "execution_count": 51,
     "metadata": {},
     "output_type": "execute_result"
    }
   ],
   "source": [
    "# create a list of column names to subset from data\n",
    "col_names = Top50.iloc[:, 0].tolist()\n",
    "\n",
    "# subset df based on the column names\n",
    "df_subset = data.loc[:, data.columns.isin(col_names)]\n",
    "df_subset['APPRDX'] = data['APPRDX']\n",
    "df_subset.to_csv ('TrailMakeB_Boruta_Top50_Data.csv', index = False)\n",
    "df_subset.head(2)"
   ]
  },
  {
   "cell_type": "markdown",
   "id": "3268cc49",
   "metadata": {
    "ExecuteTime": {
     "end_time": "2022-10-25T10:29:24.834703Z",
     "start_time": "2022-10-25T10:29:24.602914Z"
    }
   },
   "source": [
    "#Identify a string in dataframe\n",
    "substring = 'cg15328505'\n",
    "selected_rf_features[selected_rf_features.apply(lambda row: row.astype(str).str.contains(substring, case=False).any(), axis=1)]\n"
   ]
  }
 ],
 "metadata": {
  "kernelspec": {
   "display_name": "Python 3 (ipykernel)",
   "language": "python",
   "name": "python3"
  },
  "language_info": {
   "codemirror_mode": {
    "name": "ipython",
    "version": 3
   },
   "file_extension": ".py",
   "mimetype": "text/x-python",
   "name": "python",
   "nbconvert_exporter": "python",
   "pygments_lexer": "ipython3",
   "version": "3.9.16"
  },
  "toc": {
   "base_numbering": 1,
   "nav_menu": {},
   "number_sections": true,
   "sideBar": true,
   "skip_h1_title": false,
   "title_cell": "Table of Contents",
   "title_sidebar": "Contents",
   "toc_cell": false,
   "toc_position": {},
   "toc_section_display": true,
   "toc_window_display": false
  },
  "varInspector": {
   "cols": {
    "lenName": 16,
    "lenType": 16,
    "lenVar": 40
   },
   "kernels_config": {
    "python": {
     "delete_cmd_postfix": "",
     "delete_cmd_prefix": "del ",
     "library": "var_list.py",
     "varRefreshCmd": "print(var_dic_list())"
    },
    "r": {
     "delete_cmd_postfix": ") ",
     "delete_cmd_prefix": "rm(",
     "library": "var_list.r",
     "varRefreshCmd": "cat(var_dic_list()) "
    }
   },
   "types_to_exclude": [
    "module",
    "function",
    "builtin_function_or_method",
    "instance",
    "_Feature"
   ],
   "window_display": false
  }
 },
 "nbformat": 4,
 "nbformat_minor": 5
}
