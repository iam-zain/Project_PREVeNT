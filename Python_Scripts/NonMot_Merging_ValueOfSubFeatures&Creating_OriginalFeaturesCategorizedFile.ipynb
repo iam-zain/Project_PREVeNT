{
 "cells": [
  {
   "cell_type": "code",
   "execution_count": 1,
   "id": "4b21c0f7",
   "metadata": {
    "ExecuteTime": {
     "end_time": "2022-07-03T06:19:38.276964Z",
     "start_time": "2022-07-03T06:19:37.851974Z"
    }
   },
   "outputs": [
    {
     "name": "stdout",
     "output_type": "stream",
     "text": [
      "Z:\\PPMI_Data\\Excel_Data\\Few_SocioBehaviour_Study_Data\n"
     ]
    }
   ],
   "source": [
    "import pandas as pd\n",
    "import numpy as np\n",
    "%cd Z:\\PPMI_Data\\Excel_Data\\Few_SocioBehaviour_Study_Data"
   ]
  },
  {
   "cell_type": "code",
   "execution_count": 12,
   "id": "8181089a",
   "metadata": {
    "ExecuteTime": {
     "end_time": "2022-07-03T06:27:00.177280Z",
     "start_time": "2022-07-03T06:27:00.160216Z"
    }
   },
   "outputs": [
    {
     "data": {
      "text/plain": [
       "Index(['PATNO', 'APPRDX', 'Benton_Category', 'COGSTATE', 'Clock_Category',\n",
       "       'Epworth_Category', 'Geriatric_Depression_Category', 'Hopkins_Category',\n",
       "       'Hopkins_Recog_Category', 'LetterNumber_Category',\n",
       "       'Lexical_Fluency_Category', 'MDS_Cognition_Category',\n",
       "       'MDS_Hallucination_Category', 'MDS_Depress_Category',\n",
       "       'MDS_Anxiety_Category', 'MDS_Apathy_Category', 'MDS_DopaDefic_Category',\n",
       "       'MDSP_SleepNight_Category', 'MDSP_SleepDay_Category',\n",
       "       'MDSP_Pain_Category', 'MDSP_Urine_Category', 'MDSP_Constipate_Category',\n",
       "       'MDSP_LightHead_Category', 'MDSP_Fatigue_Category',\n",
       "       'Modif_Boston_Category', 'Montreal_Cognitive_Category',\n",
       "       'Impulsive_ICD_Category', 'Impulsive_CompulsiveBehavior_Category',\n",
       "       'REM_Dream_Category', 'REM_Movement_Category',\n",
       "       'REM_AwakeProblem_Category', 'REM_AwakeDream_Category',\n",
       "       'REM_Neuro_Category', 'SCOPA_Gastro_Category', 'SCOPA_Urine_Category',\n",
       "       'SCOPA_Cardio_Category', 'SCOPA_Eye_Category', 'SCOPA_Thermo_Category',\n",
       "       'SCOPA_Sex_Category', 'Semantic_Category', 'Education_Category',\n",
       "       'Hand_Category', 'STAIS_Category', 'STAIA_Category',\n",
       "       'Symbol_Digit_Category', 'Trail_Making_A_Category',\n",
       "       'Trail_Making_B_Category', 'UPSIT_3_Category'],\n",
       "      dtype='object')"
      ]
     },
     "execution_count": 12,
     "metadata": {},
     "output_type": "execute_result"
    }
   ],
   "source": [
    "Non_Mot_All = pd.read_csv ('NonMotor_SocioBehavior_Categorized.csv')\n",
    "Non_Mot_All.columns"
   ]
  },
  {
   "cell_type": "code",
   "execution_count": 61,
   "id": "dac16042",
   "metadata": {
    "ExecuteTime": {
     "end_time": "2022-07-03T07:02:09.856510Z",
     "start_time": "2022-07-03T07:02:09.846480Z"
    }
   },
   "outputs": [
    {
     "data": {
      "text/html": [
       "<div>\n",
       "<style scoped>\n",
       "    .dataframe tbody tr th:only-of-type {\n",
       "        vertical-align: middle;\n",
       "    }\n",
       "\n",
       "    .dataframe tbody tr th {\n",
       "        vertical-align: top;\n",
       "    }\n",
       "\n",
       "    .dataframe thead th {\n",
       "        text-align: right;\n",
       "    }\n",
       "</style>\n",
       "<table border=\"1\" class=\"dataframe\">\n",
       "  <thead>\n",
       "    <tr style=\"text-align: right;\">\n",
       "      <th></th>\n",
       "      <th>PATNO</th>\n",
       "      <th>APPRDX</th>\n",
       "      <th>UPSIT_3_Category</th>\n",
       "    </tr>\n",
       "  </thead>\n",
       "  <tbody>\n",
       "    <tr>\n",
       "      <th>0</th>\n",
       "      <td>3002</td>\n",
       "      <td>1</td>\n",
       "      <td>2</td>\n",
       "    </tr>\n",
       "    <tr>\n",
       "      <th>1</th>\n",
       "      <td>3008</td>\n",
       "      <td>2</td>\n",
       "      <td>0</td>\n",
       "    </tr>\n",
       "    <tr>\n",
       "      <th>2</th>\n",
       "      <td>3009</td>\n",
       "      <td>2</td>\n",
       "      <td>0</td>\n",
       "    </tr>\n",
       "    <tr>\n",
       "      <th>3</th>\n",
       "      <td>3010</td>\n",
       "      <td>1</td>\n",
       "      <td>2</td>\n",
       "    </tr>\n",
       "    <tr>\n",
       "      <th>4</th>\n",
       "      <td>3013</td>\n",
       "      <td>2</td>\n",
       "      <td>0</td>\n",
       "    </tr>\n",
       "  </tbody>\n",
       "</table>\n",
       "</div>"
      ],
      "text/plain": [
       "   PATNO  APPRDX  UPSIT_3_Category\n",
       "0   3002       1                 2\n",
       "1   3008       2                 0\n",
       "2   3009       2                 0\n",
       "3   3010       1                 2\n",
       "4   3013       2                 0"
      ]
     },
     "execution_count": 61,
     "metadata": {},
     "output_type": "execute_result"
    }
   ],
   "source": [
    "Non_Mot_All_Cut = Non_Mot_All[['PATNO', 'APPRDX','UPSIT_3_Category']]\n",
    "Non_Mot_All_Cut.head()"
   ]
  },
  {
   "cell_type": "code",
   "execution_count": 62,
   "id": "b9820290",
   "metadata": {
    "ExecuteTime": {
     "end_time": "2022-07-03T07:02:15.691706Z",
     "start_time": "2022-07-03T07:02:15.671522Z"
    },
    "scrolled": false
   },
   "outputs": [],
   "source": [
    "Non_Mot_All_Cut.to_csv('UPSIT_Category.csv')"
   ]
  },
  {
   "cell_type": "markdown",
   "id": "80e3c7eb",
   "metadata": {},
   "source": [
    "# UPSIT_3_Category"
   ]
  },
  {
   "cell_type": "code",
   "execution_count": null,
   "id": "8cb3c280",
   "metadata": {},
   "outputs": [],
   "source": [
    "'Hopkins_Category',\n",
    "       'Hopkins_Recog_Category'"
   ]
  },
  {
   "cell_type": "code",
   "execution_count": 32,
   "id": "bf2cb932",
   "metadata": {
    "ExecuteTime": {
     "end_time": "2022-07-03T06:51:31.521169Z",
     "start_time": "2022-07-03T06:51:31.496021Z"
    },
    "scrolled": true
   },
   "outputs": [
    {
     "name": "stderr",
     "output_type": "stream",
     "text": [
      "C:\\Users\\SYSTEM~1\\AppData\\Local\\Temp/ipykernel_5244/2708965633.py:4: SettingWithCopyWarning: \n",
      "A value is trying to be set on a copy of a slice from a DataFrame.\n",
      "Try using .loc[row_indexer,col_indexer] = value instead\n",
      "\n",
      "See the caveats in the documentation: https://pandas.pydata.org/pandas-docs/stable/user_guide/indexing.html#returning-a-view-versus-a-copy\n",
      "  Non_Mot_All_Cut ['Hopkins_Categorized_Merged'] = UPSIT_3_Category_MDSP_Fatigue_Category_1_2\n"
     ]
    },
    {
     "data": {
      "text/html": [
       "<div>\n",
       "<style scoped>\n",
       "    .dataframe tbody tr th:only-of-type {\n",
       "        vertical-align: middle;\n",
       "    }\n",
       "\n",
       "    .dataframe tbody tr th {\n",
       "        vertical-align: top;\n",
       "    }\n",
       "\n",
       "    .dataframe thead th {\n",
       "        text-align: right;\n",
       "    }\n",
       "</style>\n",
       "<table border=\"1\" class=\"dataframe\">\n",
       "  <thead>\n",
       "    <tr style=\"text-align: right;\">\n",
       "      <th></th>\n",
       "      <th>PATNO</th>\n",
       "      <th>APPRDX</th>\n",
       "      <th>Hopkins_Category</th>\n",
       "      <th>Hopkins_Recog_Category</th>\n",
       "      <th>Hopkins_Categorized_Merged</th>\n",
       "    </tr>\n",
       "  </thead>\n",
       "  <tbody>\n",
       "    <tr>\n",
       "      <th>0</th>\n",
       "      <td>3002</td>\n",
       "      <td>1</td>\n",
       "      <td>0</td>\n",
       "      <td>0</td>\n",
       "      <td>0</td>\n",
       "    </tr>\n",
       "    <tr>\n",
       "      <th>1</th>\n",
       "      <td>3008</td>\n",
       "      <td>2</td>\n",
       "      <td>0</td>\n",
       "      <td>0</td>\n",
       "      <td>0</td>\n",
       "    </tr>\n",
       "    <tr>\n",
       "      <th>2</th>\n",
       "      <td>3009</td>\n",
       "      <td>2</td>\n",
       "      <td>1</td>\n",
       "      <td>0</td>\n",
       "      <td>1</td>\n",
       "    </tr>\n",
       "    <tr>\n",
       "      <th>3</th>\n",
       "      <td>3010</td>\n",
       "      <td>1</td>\n",
       "      <td>1</td>\n",
       "      <td>0</td>\n",
       "      <td>1</td>\n",
       "    </tr>\n",
       "    <tr>\n",
       "      <th>4</th>\n",
       "      <td>3013</td>\n",
       "      <td>2</td>\n",
       "      <td>1</td>\n",
       "      <td>0</td>\n",
       "      <td>1</td>\n",
       "    </tr>\n",
       "  </tbody>\n",
       "</table>\n",
       "</div>"
      ],
      "text/plain": [
       "   PATNO  APPRDX  Hopkins_Category  Hopkins_Recog_Category  \\\n",
       "0   3002       1                 0                       0   \n",
       "1   3008       2                 0                       0   \n",
       "2   3009       2                 1                       0   \n",
       "3   3010       1                 1                       0   \n",
       "4   3013       2                 1                       0   \n",
       "\n",
       "   Hopkins_Categorized_Merged  \n",
       "0                           0  \n",
       "1                           0  \n",
       "2                           1  \n",
       "3                           1  \n",
       "4                           1  "
      ]
     },
     "execution_count": 32,
     "metadata": {},
     "output_type": "execute_result"
    }
   ],
   "source": [
    "UPSIT_3_Category_MDSP_Fatigue_Category_1_2 = Non_Mot_All_Cut[\"Hopkins_Category\"] \\\n",
    "+ Non_Mot_All_Cut[\"Hopkins_Recog_Category\"]\n",
    "\n",
    "Non_Mot_All_Cut ['Hopkins_Categorized_Merged'] = UPSIT_3_Category_MDSP_Fatigue_Category_1_2\n",
    "Non_Mot_All_Cut.head()"
   ]
  },
  {
   "cell_type": "code",
   "execution_count": 33,
   "id": "bb91bc8f",
   "metadata": {
    "ExecuteTime": {
     "end_time": "2022-07-03T06:52:45.211560Z",
     "start_time": "2022-07-03T06:52:45.191477Z"
    }
   },
   "outputs": [
    {
     "name": "stderr",
     "output_type": "stream",
     "text": [
      "C:\\Users\\SYSTEM~1\\AppData\\Local\\Temp/ipykernel_5244/1127481913.py:5: SettingWithCopyWarning: \n",
      "A value is trying to be set on a copy of a slice from a DataFrame.\n",
      "Try using .loc[row_indexer,col_indexer] = value instead\n",
      "\n",
      "See the caveats in the documentation: https://pandas.pydata.org/pandas-docs/stable/user_guide/indexing.html#returning-a-view-versus-a-copy\n",
      "  Non_Mot_All_Cut [\"Hopkins_Categorized\"] = np.select(conditions, choices, default=np.nan)\n"
     ]
    },
    {
     "data": {
      "text/html": [
       "<div>\n",
       "<style scoped>\n",
       "    .dataframe tbody tr th:only-of-type {\n",
       "        vertical-align: middle;\n",
       "    }\n",
       "\n",
       "    .dataframe tbody tr th {\n",
       "        vertical-align: top;\n",
       "    }\n",
       "\n",
       "    .dataframe thead th {\n",
       "        text-align: right;\n",
       "    }\n",
       "</style>\n",
       "<table border=\"1\" class=\"dataframe\">\n",
       "  <thead>\n",
       "    <tr style=\"text-align: right;\">\n",
       "      <th></th>\n",
       "      <th>PATNO</th>\n",
       "      <th>APPRDX</th>\n",
       "      <th>Hopkins_Category</th>\n",
       "      <th>Hopkins_Recog_Category</th>\n",
       "      <th>Hopkins_Categorized_Merged</th>\n",
       "      <th>Hopkins_Categorized</th>\n",
       "    </tr>\n",
       "  </thead>\n",
       "  <tbody>\n",
       "    <tr>\n",
       "      <th>0</th>\n",
       "      <td>3002</td>\n",
       "      <td>1</td>\n",
       "      <td>0</td>\n",
       "      <td>0</td>\n",
       "      <td>0</td>\n",
       "      <td>0.0</td>\n",
       "    </tr>\n",
       "    <tr>\n",
       "      <th>1</th>\n",
       "      <td>3008</td>\n",
       "      <td>2</td>\n",
       "      <td>0</td>\n",
       "      <td>0</td>\n",
       "      <td>0</td>\n",
       "      <td>0.0</td>\n",
       "    </tr>\n",
       "    <tr>\n",
       "      <th>2</th>\n",
       "      <td>3009</td>\n",
       "      <td>2</td>\n",
       "      <td>1</td>\n",
       "      <td>0</td>\n",
       "      <td>1</td>\n",
       "      <td>1.0</td>\n",
       "    </tr>\n",
       "    <tr>\n",
       "      <th>3</th>\n",
       "      <td>3010</td>\n",
       "      <td>1</td>\n",
       "      <td>1</td>\n",
       "      <td>0</td>\n",
       "      <td>1</td>\n",
       "      <td>1.0</td>\n",
       "    </tr>\n",
       "    <tr>\n",
       "      <th>4</th>\n",
       "      <td>3013</td>\n",
       "      <td>2</td>\n",
       "      <td>1</td>\n",
       "      <td>0</td>\n",
       "      <td>1</td>\n",
       "      <td>1.0</td>\n",
       "    </tr>\n",
       "  </tbody>\n",
       "</table>\n",
       "</div>"
      ],
      "text/plain": [
       "   PATNO  APPRDX  Hopkins_Category  Hopkins_Recog_Category  \\\n",
       "0   3002       1                 0                       0   \n",
       "1   3008       2                 0                       0   \n",
       "2   3009       2                 1                       0   \n",
       "3   3010       1                 1                       0   \n",
       "4   3013       2                 1                       0   \n",
       "\n",
       "   Hopkins_Categorized_Merged  Hopkins_Categorized  \n",
       "0                           0                  0.0  \n",
       "1                           0                  0.0  \n",
       "2                           1                  1.0  \n",
       "3                           1                  1.0  \n",
       "4                           1                  1.0  "
      ]
     },
     "execution_count": 33,
     "metadata": {},
     "output_type": "execute_result"
    }
   ],
   "source": [
    "col         = 'Hopkins_Categorized_Merged'\n",
    "conditions  = [ Non_Mot_All_Cut[col] <= 0, (Non_Mot_All_Cut[col] > 0) & (Non_Mot_All_Cut[col] <= 2), Non_Mot_All_Cut[col] > 2 ]\n",
    "choices     = [ 0, 1, 2 ]\n",
    "    \n",
    "Non_Mot_All_Cut [\"Hopkins_Categorized\"] = np.select(conditions, choices, default=np.nan)\n",
    "Non_Mot_All_Cut .head()"
   ]
  },
  {
   "cell_type": "code",
   "execution_count": 34,
   "id": "54daa8d9",
   "metadata": {
    "ExecuteTime": {
     "end_time": "2022-07-03T06:52:53.471099Z",
     "start_time": "2022-07-03T06:52:53.461551Z"
    }
   },
   "outputs": [],
   "source": [
    "Non_Mot_All_Cut.to_csv('Hopkins_Categorized.csv')"
   ]
  },
  {
   "cell_type": "code",
   "execution_count": null,
   "id": "6fbd906b",
   "metadata": {},
   "outputs": [],
   "source": []
  },
  {
   "cell_type": "code",
   "execution_count": null,
   "id": "4f20210a",
   "metadata": {
    "ExecuteTime": {
     "end_time": "2022-07-02T07:42:05.195081Z",
     "start_time": "2022-07-02T07:42:05.179452Z"
    },
    "scrolled": true
   },
   "outputs": [],
   "source": [
    "UPSIT_3_Category_MDS_Depress_Category_1_3 = Non_Mot_All_Cut[\"UPSIT_3_Category\"] + Non_Mot_All_Cut[\"MDS_Depress_Category\"]\n",
    "Non_Mot_All_Cut ['UPSIT_MDS_Depress'] = UPSIT_3_Category_MDS_Depress_Category_1_3\n"
   ]
  },
  {
   "cell_type": "code",
   "execution_count": null,
   "id": "6e898ebd",
   "metadata": {
    "ExecuteTime": {
     "end_time": "2022-07-02T08:46:49.289306Z",
     "start_time": "2022-07-02T08:46:49.273894Z"
    },
    "scrolled": true
   },
   "outputs": [],
   "source": [
    "UPSIT_3_Category_MDSP_Constipate_Category_1_4 = Non_Mot_All_Cut[\"UPSIT_3_Category\"] + Non_Mot_All_Cut[\"MDSP_Constipate_Category\"]\n",
    "Non_Mot_All_Cut ['UPSIT_MDSP_Constipate'] = UPSIT_3_Category_MDSP_Constipate_Category_1_4\n"
   ]
  },
  {
   "cell_type": "code",
   "execution_count": null,
   "id": "af217696",
   "metadata": {
    "ExecuteTime": {
     "end_time": "2022-07-02T07:44:45.127382Z",
     "start_time": "2022-07-02T07:44:45.111755Z"
    }
   },
   "outputs": [],
   "source": [
    "UPSIT_3_Category_MDSP_LightHead_Category_1_5 = Non_Mot_All_Cut[\"UPSIT_3_Category\"] + Non_Mot_All_Cut[\"MDSP_LightHead_Category\"]\n",
    "Non_Mot_All_Cut ['UPSIT_MDSP_LightHead'] = UPSIT_3_Category_MDSP_LightHead_Category_1_5\n"
   ]
  },
  {
   "cell_type": "code",
   "execution_count": null,
   "id": "e0329ebc",
   "metadata": {
    "ExecuteTime": {
     "end_time": "2022-07-02T08:46:47.355181Z",
     "start_time": "2022-07-02T08:46:47.339546Z"
    }
   },
   "outputs": [],
   "source": [
    "UPSIT_3_Category_MDSP_Pain_1_6 = Non_Mot_All_Cut[\"UPSIT_3_Category\"] + Non_Mot_All_Cut[\"MDSP_Pain_Category\"]\n",
    "Non_Mot_All_Cut ['UPSIT_MDSP_Pain'] = UPSIT_3_Category_MDSP_Pain_1_6\n"
   ]
  },
  {
   "cell_type": "code",
   "execution_count": null,
   "id": "92666d4e",
   "metadata": {
    "ExecuteTime": {
     "end_time": "2022-07-02T07:46:14.729330Z",
     "start_time": "2022-07-02T07:46:14.713737Z"
    }
   },
   "outputs": [],
   "source": [
    "UPSIT_3_Category_MDSP_SleepDay_Category_1_7 = Non_Mot_All_Cut[\"UPSIT_3_Category\"] + Non_Mot_All_Cut[\"MDSP_SleepDay_Category\"]\n",
    "Non_Mot_All_Cut ['UPSIT_MDSP_SleepDay'] = UPSIT_3_Category_MDSP_SleepDay_Category_1_7\n"
   ]
  },
  {
   "cell_type": "code",
   "execution_count": null,
   "id": "19e36549",
   "metadata": {
    "ExecuteTime": {
     "end_time": "2022-07-02T07:47:00.438918Z",
     "start_time": "2022-07-02T07:47:00.423326Z"
    }
   },
   "outputs": [],
   "source": [
    "UPSIT_3_Category_Montreal_Cognitive_Category_1_8 = Non_Mot_All_Cut[\"UPSIT_3_Category\"] + Non_Mot_All_Cut[\"Montreal_Cognitive_Category\"]\n",
    "Non_Mot_All_Cut ['UPSIT_Montreal_Cognitive'] = UPSIT_3_Category_Montreal_Cognitive_Category_1_8\n"
   ]
  },
  {
   "cell_type": "code",
   "execution_count": null,
   "id": "68460d0f",
   "metadata": {
    "ExecuteTime": {
     "end_time": "2022-07-02T07:47:50.739870Z",
     "start_time": "2022-07-02T07:47:50.724276Z"
    }
   },
   "outputs": [],
   "source": [
    "UPSIT_3_Category_Symbol_Digit_Category_1_9 = Non_Mot_All_Cut[\"UPSIT_3_Category\"] + Non_Mot_All_Cut[\"Symbol_Digit_Category\"]\n",
    "Non_Mot_All_Cut ['UPSIT_Symbol_Digit'] = UPSIT_3_Category_Symbol_Digit_Category_1_9\n"
   ]
  },
  {
   "cell_type": "code",
   "execution_count": null,
   "id": "b6aac402",
   "metadata": {
    "ExecuteTime": {
     "end_time": "2022-07-02T07:48:32.362810Z",
     "start_time": "2022-07-02T07:48:32.331531Z"
    }
   },
   "outputs": [],
   "source": [
    "UPSIT_3_Categorys_SCOPA_Sex_Category_1_10 = Non_Mot_All_Cut[\"UPSIT_3_Category\"] + Non_Mot_All_Cut[\"SCOPA_Sex_Category\"]\n",
    "Non_Mot_All_Cut ['UPSIT_SCOPA_Sex'] = UPSIT_3_Categorys_SCOPA_Sex_Category_1_10\n"
   ]
  },
  {
   "cell_type": "markdown",
   "id": "f67c6111",
   "metadata": {},
   "source": [
    "# MDSP_Fatigue_Category"
   ]
  },
  {
   "cell_type": "code",
   "execution_count": null,
   "id": "67eb3d5d",
   "metadata": {
    "ExecuteTime": {
     "end_time": "2022-07-02T07:50:16.184494Z",
     "start_time": "2022-07-02T07:50:16.169049Z"
    }
   },
   "outputs": [],
   "source": [
    "MDSP_Fatigue_Category_MDS_Depress_Category_2_3 = Non_Mot_All_Cut[\"MDSP_Fatigue_Category\"] + Non_Mot_All_Cut[\"MDS_Depress_Category\"]\n",
    "Non_Mot_All_Cut ['MDSP_Fatigue_MDS_Depress'] = MDSP_Fatigue_Category_MDS_Depress_Category_2_3\n"
   ]
  },
  {
   "cell_type": "code",
   "execution_count": null,
   "id": "882a9534",
   "metadata": {
    "ExecuteTime": {
     "end_time": "2022-07-02T07:50:57.832816Z",
     "start_time": "2022-07-02T07:50:57.817158Z"
    }
   },
   "outputs": [],
   "source": [
    "MDSP_Fatigue_Category_MDSP_Constipate_Category_2_4 = Non_Mot_All_Cut[\"MDSP_Fatigue_Category\"] + Non_Mot_All_Cut[\"MDSP_Constipate_Category\"]\n",
    "Non_Mot_All_Cut ['MDSP_Fatigue_MDSP_Constipate'] = MDSP_Fatigue_Category_MDSP_Constipate_Category_2_4\n"
   ]
  },
  {
   "cell_type": "code",
   "execution_count": null,
   "id": "334dde2d",
   "metadata": {
    "ExecuteTime": {
     "end_time": "2022-07-02T07:51:44.679467Z",
     "start_time": "2022-07-02T07:51:44.663803Z"
    }
   },
   "outputs": [],
   "source": [
    "MDSP_Fatigue_Category_MDSP_LightHead_Category_2_5 = Non_Mot_All_Cut[\"MDSP_Fatigue_Category\"] + Non_Mot_All_Cut[\"MDSP_LightHead_Category\"]\n",
    "Non_Mot_All_Cut ['MDSP_Fatigue_MDSP_LightHead'] = MDSP_Fatigue_Category_MDSP_LightHead_Category_2_5\n"
   ]
  },
  {
   "cell_type": "code",
   "execution_count": null,
   "id": "db8343ac",
   "metadata": {
    "ExecuteTime": {
     "end_time": "2022-07-02T07:52:47.029204Z",
     "start_time": "2022-07-02T07:52:47.013580Z"
    }
   },
   "outputs": [],
   "source": [
    "MDSP_Fatigue_Category_MDSP_Pain_Category_2_6 = Non_Mot_All_Cut[\"MDSP_Fatigue_Category\"] + Non_Mot_All_Cut[\"MDSP_Pain_Category\"]\n",
    "Non_Mot_All_Cut ['MDSP_Fatigue_MDSP_Pain'] = MDSP_Fatigue_Category_MDSP_Pain_Category_2_6\n"
   ]
  },
  {
   "cell_type": "code",
   "execution_count": null,
   "id": "f289c2d4",
   "metadata": {
    "ExecuteTime": {
     "end_time": "2022-07-02T07:53:35.710083Z",
     "start_time": "2022-07-02T07:53:35.678785Z"
    }
   },
   "outputs": [],
   "source": [
    "MDSP_Fatigue_Category_MDSP_SleepDay_Category_2_7 = Non_Mot_All_Cut[\"MDSP_Fatigue_Category\"] + Non_Mot_All_Cut[\"MDSP_SleepDay_Category\"]\n",
    "Non_Mot_All_Cut ['MDSP_Fatigue_MDSP_SleepDay'] = MDSP_Fatigue_Category_MDSP_SleepDay_Category_2_7\n"
   ]
  },
  {
   "cell_type": "code",
   "execution_count": null,
   "id": "08be29b5",
   "metadata": {
    "ExecuteTime": {
     "end_time": "2022-07-02T07:54:16.383377Z",
     "start_time": "2022-07-02T07:54:16.367738Z"
    }
   },
   "outputs": [],
   "source": [
    "MDSP_Fatigue_Category_Montreal_Cognitive_Category_2_8 = Non_Mot_All_Cut[\"MDSP_Fatigue_Category\"] + Non_Mot_All_Cut[\"Montreal_Cognitive_Category\"]\n",
    "Non_Mot_All_Cut ['MDSP_Fatigue_Montreal_Cognitive'] = MDSP_Fatigue_Category_Montreal_Cognitive_Category_2_8\n"
   ]
  },
  {
   "cell_type": "code",
   "execution_count": null,
   "id": "d93b79d7",
   "metadata": {
    "ExecuteTime": {
     "end_time": "2022-07-02T07:55:28.988454Z",
     "start_time": "2022-07-02T07:55:28.972860Z"
    }
   },
   "outputs": [],
   "source": [
    "MDSP_Fatigue_Symbol_Digit_Category_2_9 = Non_Mot_All_Cut[\"MDSP_Fatigue_Category\"] + Non_Mot_All_Cut[\"Symbol_Digit_Category\"]\n",
    "Non_Mot_All_Cut ['MDSP_Fatigue_Symbol_Digit'] = MDSP_Fatigue_Symbol_Digit_Category_2_9\n"
   ]
  },
  {
   "cell_type": "code",
   "execution_count": null,
   "id": "970303c9",
   "metadata": {
    "ExecuteTime": {
     "end_time": "2022-07-02T07:56:21.587203Z",
     "start_time": "2022-07-02T07:56:21.571551Z"
    }
   },
   "outputs": [],
   "source": [
    "MDSP_Fatigue_SCOPA_Sex_Category_2_10 = Non_Mot_All_Cut[\"MDSP_Fatigue_Category\"] + Non_Mot_All_Cut[\"SCOPA_Sex_Category\"]\n",
    "Non_Mot_All_Cut ['MDSP_Fatigue_SCOPA_Sex'] = MDSP_Fatigue_SCOPA_Sex_Category_2_10\n"
   ]
  },
  {
   "cell_type": "markdown",
   "id": "c02687ba",
   "metadata": {},
   "source": [
    "# MDS_Depress_Category"
   ]
  },
  {
   "cell_type": "code",
   "execution_count": null,
   "id": "81a932c3",
   "metadata": {
    "ExecuteTime": {
     "end_time": "2022-07-02T07:59:07.751159Z",
     "start_time": "2022-07-02T07:59:07.719890Z"
    }
   },
   "outputs": [],
   "source": [
    "MDS_Depress_MDSP_Constipate_Category_3_4 = Non_Mot_All_Cut[\"MDS_Depress_Category\"] + Non_Mot_All_Cut[\"MDSP_Constipate_Category\"]\n",
    "Non_Mot_All_Cut ['MDS_Depress_MDSP_Constipate'] = MDS_Depress_MDSP_Constipate_Category_3_4\n"
   ]
  },
  {
   "cell_type": "code",
   "execution_count": null,
   "id": "f9f8095a",
   "metadata": {
    "ExecuteTime": {
     "end_time": "2022-07-02T08:00:35.832078Z",
     "start_time": "2022-07-02T08:00:35.816535Z"
    }
   },
   "outputs": [],
   "source": [
    "MDS_Depress_Category_MDSP_LightHead_Category_3_5 = Non_Mot_All_Cut[\"MDS_Depress_Category\"] + Non_Mot_All_Cut[\"MDSP_LightHead_Category\"]\n",
    "Non_Mot_All_Cut ['MDS_Depress_MDSP_LightHead'] = MDS_Depress_Category_MDSP_LightHead_Category_3_5\n"
   ]
  },
  {
   "cell_type": "code",
   "execution_count": null,
   "id": "be6c647f",
   "metadata": {
    "ExecuteTime": {
     "end_time": "2022-07-02T08:01:42.283196Z",
     "start_time": "2022-07-02T08:01:42.267573Z"
    }
   },
   "outputs": [],
   "source": [
    "MDS_Depress_MDSP_Pain_Category_3_6 = Non_Mot_All_Cut[\"MDS_Depress_Category\"] + Non_Mot_All_Cut[\"MDSP_Pain_Category\"]\n",
    "Non_Mot_All_Cut ['MDS_Depress_MDSP_Pain'] = MDS_Depress_MDSP_Pain_Category_3_6\n"
   ]
  },
  {
   "cell_type": "code",
   "execution_count": null,
   "id": "e612accc",
   "metadata": {
    "ExecuteTime": {
     "end_time": "2022-07-02T08:05:42.219181Z",
     "start_time": "2022-07-02T08:05:42.203525Z"
    }
   },
   "outputs": [],
   "source": [
    "MDS_Depress_MDSP_SleepDay_Category_3_7 = Non_Mot_All_Cut[\"MDS_Depress_Category\"] + Non_Mot_All_Cut[\"MDSP_SleepDay_Category\"]\n",
    "Non_Mot_All_Cut ['MDS_Depress_MDSP_SleepDay'] = MDS_Depress_MDSP_SleepDay_Category_3_7\n"
   ]
  },
  {
   "cell_type": "code",
   "execution_count": null,
   "id": "550964d0",
   "metadata": {
    "ExecuteTime": {
     "end_time": "2022-07-02T08:06:10.364282Z",
     "start_time": "2022-07-02T08:06:10.348656Z"
    }
   },
   "outputs": [],
   "source": [
    "MDS_Depress_Montreal_Cognitive_Category_3_8 = Non_Mot_All_Cut[\"MDS_Depress_Category\"] + Non_Mot_All_Cut[\"Montreal_Cognitive_Category\"]\n",
    "Non_Mot_All_Cut ['MDS_Depress_Montreal_Cognitive'] = MDS_Depress_Montreal_Cognitive_Category_3_8\n"
   ]
  },
  {
   "cell_type": "code",
   "execution_count": null,
   "id": "e259fe90",
   "metadata": {
    "ExecuteTime": {
     "end_time": "2022-07-02T08:06:37.602605Z",
     "start_time": "2022-07-02T08:06:37.580462Z"
    },
    "scrolled": true
   },
   "outputs": [],
   "source": [
    "MDS_Depress_Symbol_Digit_Category_3_9 = Non_Mot_All_Cut[\"MDS_Depress_Category\"] + Non_Mot_All_Cut[\"Symbol_Digit_Category\"]\n",
    "Non_Mot_All_Cut ['MDS_Depress_Symbol_Digit'] = MDS_Depress_Symbol_Digit_Category_3_9\n"
   ]
  },
  {
   "cell_type": "code",
   "execution_count": null,
   "id": "58e26d5b",
   "metadata": {
    "ExecuteTime": {
     "end_time": "2022-07-02T08:07:32.445571Z",
     "start_time": "2022-07-02T08:07:32.430175Z"
    }
   },
   "outputs": [],
   "source": [
    "MDS_Depress_SCOPA_Sex_Category_3_10 = Non_Mot_All_Cut[\"MDS_Depress_Category\"] + Non_Mot_All_Cut[\"SCOPA_Sex_Category\"]\n",
    "Non_Mot_All_Cut ['MDS_Depress_SCOPA_Sex'] = MDS_Depress_SCOPA_Sex_Category_3_10\n"
   ]
  },
  {
   "cell_type": "markdown",
   "id": "8faffb57",
   "metadata": {},
   "source": [
    "# MDSP_Constipate_Category"
   ]
  },
  {
   "cell_type": "code",
   "execution_count": null,
   "id": "8e8615a1",
   "metadata": {
    "ExecuteTime": {
     "end_time": "2022-07-02T08:17:24.112989Z",
     "start_time": "2022-07-02T08:17:24.097589Z"
    }
   },
   "outputs": [],
   "source": [
    "MDSP_Constipate_MDSP_LightHead_4_5 = Non_Mot_All_Cut[\"MDSP_Constipate_Category\"] + Non_Mot_All_Cut[\"MDSP_LightHead_Category\"]\n",
    "Non_Mot_All_Cut ['MDSP_Constipate_MDSP_LightHead'] = MDSP_Constipate_MDSP_LightHead_4_5\n"
   ]
  },
  {
   "cell_type": "code",
   "execution_count": null,
   "id": "4f991cc6",
   "metadata": {
    "ExecuteTime": {
     "end_time": "2022-07-02T08:18:55.464007Z",
     "start_time": "2022-07-02T08:18:55.448606Z"
    }
   },
   "outputs": [],
   "source": [
    "MDSP_Constipate_MDSP_Pain_4_6 = Non_Mot_All_Cut[\"MDSP_Constipate_Category\"] + Non_Mot_All_Cut[\"MDSP_Pain_Category\"]\n",
    "Non_Mot_All_Cut ['MDSP_Constipate_MDSP_Pain'] = MDSP_Constipate_MDSP_Pain_4_6\n"
   ]
  },
  {
   "cell_type": "code",
   "execution_count": null,
   "id": "5cd24d69",
   "metadata": {
    "ExecuteTime": {
     "end_time": "2022-07-02T08:19:21.672156Z",
     "start_time": "2022-07-02T08:19:21.656755Z"
    }
   },
   "outputs": [],
   "source": [
    "MDSP_Constipate_MDSP_SleepDay_Category_4_7 = Non_Mot_All_Cut[\"MDSP_Constipate_Category\"] + Non_Mot_All_Cut[\"MDSP_SleepDay_Category\"]\n",
    "Non_Mot_All_Cut ['MDSP_Constipate_MDSP_SleepDay'] = MDSP_Constipate_MDSP_SleepDay_Category_4_7\n"
   ]
  },
  {
   "cell_type": "code",
   "execution_count": null,
   "id": "5c5e6ce2",
   "metadata": {
    "ExecuteTime": {
     "end_time": "2022-07-02T08:19:44.941520Z",
     "start_time": "2022-07-02T08:19:44.910464Z"
    }
   },
   "outputs": [],
   "source": [
    "MDSP_Constipate_Montreal_Cognitive_4_8 = Non_Mot_All_Cut[\"MDSP_Constipate_Category\"] + Non_Mot_All_Cut[\"Montreal_Cognitive_Category\"]\n",
    "Non_Mot_All_Cut ['MDSP_Constipate_Montreal_Cognitive'] = MDSP_Constipate_Montreal_Cognitive_4_8\n"
   ]
  },
  {
   "cell_type": "code",
   "execution_count": null,
   "id": "89b29d15",
   "metadata": {
    "ExecuteTime": {
     "end_time": "2022-07-02T08:20:13.435812Z",
     "start_time": "2022-07-02T08:20:13.420174Z"
    }
   },
   "outputs": [],
   "source": [
    "MDSP_Constipate_Symbol_Digit_4_9 = Non_Mot_All_Cut[\"MDSP_Constipate_Category\"] + Non_Mot_All_Cut[\"Symbol_Digit_Category\"]\n",
    "Non_Mot_All_Cut ['MDSP_Constipate_Symbol_Digit'] = MDSP_Constipate_Symbol_Digit_4_9\n"
   ]
  },
  {
   "cell_type": "code",
   "execution_count": null,
   "id": "d0e00d87",
   "metadata": {
    "ExecuteTime": {
     "end_time": "2022-07-02T08:20:53.582398Z",
     "start_time": "2022-07-02T08:20:53.566772Z"
    }
   },
   "outputs": [],
   "source": [
    "MDSP_Constipate_SCOPA_Sex_4_10 = Non_Mot_All_Cut[\"MDSP_Constipate_Category\"] + Non_Mot_All_Cut[\"SCOPA_Sex_Category\"]\n",
    "Non_Mot_All_Cut ['MDSP_Constipate_SCOPA_Sex'] = MDSP_Constipate_SCOPA_Sex_4_10\n"
   ]
  },
  {
   "cell_type": "markdown",
   "id": "5595377c",
   "metadata": {},
   "source": [
    "# MDSP_LightHead_Category"
   ]
  },
  {
   "cell_type": "code",
   "execution_count": null,
   "id": "bdf461a2",
   "metadata": {
    "ExecuteTime": {
     "end_time": "2022-07-02T08:22:06.655745Z",
     "start_time": "2022-07-02T08:22:06.640150Z"
    }
   },
   "outputs": [],
   "source": [
    "MDSP_LightHead_MDSP_Pain_5_6 = Non_Mot_All_Cut[\"MDSP_LightHead_Category\"] + Non_Mot_All_Cut[\"MDSP_Pain_Category\"]\n",
    "Non_Mot_All_Cut ['MDSP_LightHead_MDSP_Pain'] = MDSP_LightHead_MDSP_Pain_5_6\n"
   ]
  },
  {
   "cell_type": "code",
   "execution_count": null,
   "id": "d96c2ce1",
   "metadata": {
    "ExecuteTime": {
     "end_time": "2022-07-02T08:22:51.646423Z",
     "start_time": "2022-07-02T08:22:51.630791Z"
    }
   },
   "outputs": [],
   "source": [
    "MDSP_LightHead_MDSP_SleepDay_5_7 = Non_Mot_All_Cut[\"MDSP_LightHead_Category\"] + Non_Mot_All_Cut[\"MDSP_SleepDay_Category\"]\n",
    "Non_Mot_All_Cut ['MDSP_LightHead_MDSP_SleepDay'] = MDSP_LightHead_MDSP_SleepDay_5_7\n"
   ]
  },
  {
   "cell_type": "code",
   "execution_count": null,
   "id": "3c2b1acc",
   "metadata": {
    "ExecuteTime": {
     "end_time": "2022-07-02T08:23:32.300618Z",
     "start_time": "2022-07-02T08:23:32.278440Z"
    }
   },
   "outputs": [],
   "source": [
    "MDSP_LightHead_Montreal_Cognitive_Category_5_8 = Non_Mot_All_Cut[\"MDSP_LightHead_Category\"] + Non_Mot_All_Cut[\"Montreal_Cognitive_Category\"]\n",
    "Non_Mot_All_Cut ['MDSP_LightHead_Montreal_Cognitive'] = MDSP_LightHead_Montreal_Cognitive_Category_5_8\n"
   ]
  },
  {
   "cell_type": "code",
   "execution_count": null,
   "id": "55912d60",
   "metadata": {
    "ExecuteTime": {
     "end_time": "2022-07-02T08:24:11.667017Z",
     "start_time": "2022-07-02T08:24:11.651363Z"
    }
   },
   "outputs": [],
   "source": [
    "MDSP_LightHead_Symbol_Digit_Category_5_9 = Non_Mot_All_Cut[\"MDSP_LightHead_Category\"] + Non_Mot_All_Cut[\"Symbol_Digit_Category\"]\n",
    "Non_Mot_All_Cut ['MDSP_LightHead_Symbol_Digit'] = MDSP_LightHead_Symbol_Digit_Category_5_9\n"
   ]
  },
  {
   "cell_type": "code",
   "execution_count": null,
   "id": "124da016",
   "metadata": {
    "ExecuteTime": {
     "end_time": "2022-07-02T08:24:37.914682Z",
     "start_time": "2022-07-02T08:24:37.899058Z"
    }
   },
   "outputs": [],
   "source": [
    "MDSP_LightHead_SCOPA_Sex_Category_5_10 = Non_Mot_All_Cut[\"MDSP_LightHead_Category\"] + Non_Mot_All_Cut[\"SCOPA_Sex_Category\"]\n",
    "Non_Mot_All_Cut ['MDSP_LightHead_SCOPA_Sex'] = MDSP_LightHead_SCOPA_Sex_Category_5_10\n"
   ]
  },
  {
   "cell_type": "markdown",
   "id": "2222f9ca",
   "metadata": {},
   "source": [
    "# MDSP_Pain_Category"
   ]
  },
  {
   "cell_type": "code",
   "execution_count": null,
   "id": "f68f4f00",
   "metadata": {
    "ExecuteTime": {
     "end_time": "2022-07-02T08:27:05.404013Z",
     "start_time": "2022-07-02T08:27:05.388420Z"
    }
   },
   "outputs": [],
   "source": [
    "MDSP_Pain_Category_MDSP_SleepDay_Category_6_7 = Non_Mot_All_Cut[\"MDSP_Pain_Category\"] + Non_Mot_All_Cut[\"MDSP_SleepDay_Category\"]\n",
    "Non_Mot_All_Cut ['MDSP_Pain_MDSP_SleepDay'] = MDSP_Pain_Category_MDSP_SleepDay_Category_6_7\n"
   ]
  },
  {
   "cell_type": "code",
   "execution_count": null,
   "id": "3ac93a5d",
   "metadata": {
    "ExecuteTime": {
     "end_time": "2022-07-02T08:27:29.220469Z",
     "start_time": "2022-07-02T08:27:29.204836Z"
    }
   },
   "outputs": [],
   "source": [
    "MDSP_Pain_Montreal_Cognitive_Category_6_8 = Non_Mot_All_Cut[\"MDSP_Pain_Category\"] + Non_Mot_All_Cut[\"Montreal_Cognitive_Category\"]\n",
    "Non_Mot_All_Cut ['MDSP_Pain_Montreal_Cognitive'] = MDSP_Pain_Montreal_Cognitive_Category_6_8\n"
   ]
  },
  {
   "cell_type": "code",
   "execution_count": null,
   "id": "b6cb3072",
   "metadata": {
    "ExecuteTime": {
     "end_time": "2022-07-02T08:27:56.511999Z",
     "start_time": "2022-07-02T08:27:56.496597Z"
    }
   },
   "outputs": [],
   "source": [
    "MDSP_Pain_Symbol_Digit_Category_6_9 = Non_Mot_All_Cut[\"MDSP_Pain_Category\"] + Non_Mot_All_Cut[\"Symbol_Digit_Category\"]\n",
    "Non_Mot_All_Cut ['MDSP_Pain_Symbol_Digit'] = MDSP_Pain_Symbol_Digit_Category_6_9\n"
   ]
  },
  {
   "cell_type": "code",
   "execution_count": null,
   "id": "2ba99ae6",
   "metadata": {
    "ExecuteTime": {
     "end_time": "2022-07-02T08:28:19.949164Z",
     "start_time": "2022-07-02T08:28:19.917898Z"
    }
   },
   "outputs": [],
   "source": [
    "MDSP_Pain_SCOPA_Sex_Category_6_10 = Non_Mot_All_Cut[\"MDSP_Pain_Category\"] + Non_Mot_All_Cut[\"SCOPA_Sex_Category\"]\n",
    "Non_Mot_All_Cut ['MDSP_Pain_SCOPA_Sex'] = MDSP_Pain_SCOPA_Sex_Category_6_10\n"
   ]
  },
  {
   "cell_type": "markdown",
   "id": "81822c81",
   "metadata": {},
   "source": [
    "# MDSP_SleepDay_Category"
   ]
  },
  {
   "cell_type": "code",
   "execution_count": null,
   "id": "47a7fec2",
   "metadata": {
    "ExecuteTime": {
     "end_time": "2022-07-02T08:29:59.164381Z",
     "start_time": "2022-07-02T08:29:59.133355Z"
    }
   },
   "outputs": [],
   "source": [
    "MDSP_SleepDay_Montreal_Cognitive_Category_7_8 = Non_Mot_All_Cut[\"MDSP_SleepDay_Category\"] + Non_Mot_All_Cut[\"Montreal_Cognitive_Category\"]\n",
    "Non_Mot_All_Cut ['MDSP_SleepDay_Montreal_Cognitive'] = MDSP_SleepDay_Montreal_Cognitive_Category_7_8\n"
   ]
  },
  {
   "cell_type": "code",
   "execution_count": null,
   "id": "3336334c",
   "metadata": {
    "ExecuteTime": {
     "end_time": "2022-07-02T08:30:21.601536Z",
     "start_time": "2022-07-02T08:30:21.585912Z"
    }
   },
   "outputs": [],
   "source": [
    "MDSP_SleepDay_Symbol_Digit_Category_7_9 = Non_Mot_All_Cut[\"MDSP_SleepDay_Category\"] + Non_Mot_All_Cut[\"Symbol_Digit_Category\"]\n",
    "Non_Mot_All_Cut ['MDSP_SleepDay_Symbol_Digit'] = MDSP_SleepDay_Symbol_Digit_Category_7_9\n"
   ]
  },
  {
   "cell_type": "code",
   "execution_count": null,
   "id": "6b81c4f5",
   "metadata": {
    "ExecuteTime": {
     "end_time": "2022-07-02T08:30:42.049530Z",
     "start_time": "2022-07-02T08:30:42.034157Z"
    }
   },
   "outputs": [],
   "source": [
    "MDSP_SleepDay_SCOPA_Sex_Category_7_10 = Non_Mot_All_Cut[\"MDSP_SleepDay_Category\"] + Non_Mot_All_Cut[\"SCOPA_Sex_Category\"]\n",
    "Non_Mot_All_Cut ['MDSP_SleepDay_SCOPA_Sex'] = MDSP_SleepDay_SCOPA_Sex_Category_7_10\n"
   ]
  },
  {
   "cell_type": "markdown",
   "id": "111d9a66",
   "metadata": {},
   "source": [
    "# Montreal_Cognitive_Category"
   ]
  },
  {
   "cell_type": "code",
   "execution_count": null,
   "id": "ec1a4fe3",
   "metadata": {
    "ExecuteTime": {
     "end_time": "2022-07-02T08:31:53.532430Z",
     "start_time": "2022-07-02T08:31:53.516837Z"
    }
   },
   "outputs": [],
   "source": [
    "Montreal_Cognitive_Symbol_Digit_Category_8_9 = Non_Mot_All_Cut[\"Montreal_Cognitive_Category\"] + Non_Mot_All_Cut[\"Symbol_Digit_Category\"]\n",
    "Non_Mot_All_Cut ['Montreal_Cognitive_Symbol_Digit'] = Montreal_Cognitive_Symbol_Digit_Category_8_9\n"
   ]
  },
  {
   "cell_type": "code",
   "execution_count": null,
   "id": "bb578518",
   "metadata": {
    "ExecuteTime": {
     "end_time": "2022-07-02T08:32:13.842669Z",
     "start_time": "2022-07-02T08:32:13.827003Z"
    }
   },
   "outputs": [],
   "source": [
    "Montreal_Cognitive_SCOPA_Sex_Category_8_10 = Non_Mot_All_Cut[\"Montreal_Cognitive_Category\"] + Non_Mot_All_Cut[\"SCOPA_Sex_Category\"]\n",
    "Non_Mot_All_Cut ['Montreal_Cognitive_SCOPA_Sex'] = Montreal_Cognitive_SCOPA_Sex_Category_8_10\n"
   ]
  },
  {
   "cell_type": "markdown",
   "id": "16018e9a",
   "metadata": {},
   "source": [
    "# SCOPA_Eye"
   ]
  },
  {
   "cell_type": "code",
   "execution_count": null,
   "id": "8c00487b",
   "metadata": {
    "ExecuteTime": {
     "end_time": "2022-07-02T08:32:56.729831Z",
     "start_time": "2022-07-02T08:32:56.714432Z"
    }
   },
   "outputs": [],
   "source": [
    "Symbol_Digit_SCOPA_Sex_9_10 = Non_Mot_All_Cut[\"Symbol_Digit_Category\"] + Non_Mot_All_Cut[\"SCOPA_Sex_Category\"]\n",
    "Non_Mot_All_Cut ['Symbol_Digit_SCOPA_Sex'] = Symbol_Digit_SCOPA_Sex_9_10\n"
   ]
  },
  {
   "cell_type": "code",
   "execution_count": null,
   "id": "6d60d4a6",
   "metadata": {
    "ExecuteTime": {
     "end_time": "2022-07-02T08:47:12.924650Z",
     "start_time": "2022-07-02T08:47:12.908996Z"
    },
    "scrolled": true
   },
   "outputs": [],
   "source": [
    "Non_Mot_All_Cut.columns"
   ]
  },
  {
   "cell_type": "markdown",
   "id": "625e70da",
   "metadata": {},
   "source": [
    "# Saving"
   ]
  },
  {
   "cell_type": "code",
   "execution_count": null,
   "id": "4a9dafbb",
   "metadata": {},
   "outputs": [],
   "source": []
  },
  {
   "cell_type": "code",
   "execution_count": null,
   "id": "e6f0d328",
   "metadata": {
    "ExecuteTime": {
     "end_time": "2022-07-02T08:47:22.592837Z",
     "start_time": "2022-07-02T08:47:22.577180Z"
    }
   },
   "outputs": [],
   "source": [
    "Non_Mot_All_Cut.to_csv('NonMot_Top10_Common4_2CategMerge_1CategAlso.csv')"
   ]
  },
  {
   "cell_type": "code",
   "execution_count": null,
   "id": "6c2179df",
   "metadata": {
    "ExecuteTime": {
     "end_time": "2022-07-02T08:47:26.037052Z",
     "start_time": "2022-07-02T08:47:26.014877Z"
    }
   },
   "outputs": [],
   "source": [
    "Non_Mot_Only_2Cat = pd.read_csv('NonMot_Top10_Common4_2CategMerge_1CategAlso.csv')\n",
    "Non_Mot_Only_2Cat.columns"
   ]
  },
  {
   "cell_type": "code",
   "execution_count": null,
   "id": "372e54fc",
   "metadata": {
    "ExecuteTime": {
     "end_time": "2022-07-02T08:47:28.689148Z",
     "start_time": "2022-07-02T08:47:28.673522Z"
    }
   },
   "outputs": [],
   "source": [
    "Non_Mot_Only_2Categ = Non_Mot_Only_2Cat.drop (['Unnamed: 0', 'UPSIT_3_Category',\n",
    "       'MDSP_Fatigue_Category', 'MDS_Depress_Category',\n",
    "       'MDSP_Constipate_Category', 'MDSP_LightHead_Category',\n",
    "       'MDSP_Pain_Category', 'MDSP_SleepDay_Category',\n",
    "       'Montreal_Cognitive_Category', 'Symbol_Digit_Category',\n",
    "       'SCOPA_Sex_Category'], axis=1)\n",
    "Non_Mot_Only_2Categ.head()"
   ]
  },
  {
   "cell_type": "code",
   "execution_count": null,
   "id": "bd94acb1",
   "metadata": {
    "ExecuteTime": {
     "end_time": "2022-07-02T08:48:02.432046Z",
     "start_time": "2022-07-02T08:48:02.416650Z"
    }
   },
   "outputs": [],
   "source": [
    "Non_Mot_Only_2Categ.to_csv ('NonMot_Top10_Common4_2CategMerge.csv')"
   ]
  },
  {
   "cell_type": "code",
   "execution_count": null,
   "id": "89f219a1",
   "metadata": {},
   "outputs": [],
   "source": []
  }
 ],
 "metadata": {
  "kernelspec": {
   "display_name": "Python 3 (ipykernel)",
   "language": "python",
   "name": "python3"
  },
  "language_info": {
   "codemirror_mode": {
    "name": "ipython",
    "version": 3
   },
   "file_extension": ".py",
   "mimetype": "text/x-python",
   "name": "python",
   "nbconvert_exporter": "python",
   "pygments_lexer": "ipython3",
   "version": "3.9.16"
  },
  "toc": {
   "base_numbering": 1,
   "nav_menu": {},
   "number_sections": true,
   "sideBar": true,
   "skip_h1_title": false,
   "title_cell": "Table of Contents",
   "title_sidebar": "Contents",
   "toc_cell": false,
   "toc_position": {},
   "toc_section_display": true,
   "toc_window_display": false
  },
  "varInspector": {
   "cols": {
    "lenName": 16,
    "lenType": 16,
    "lenVar": 40
   },
   "kernels_config": {
    "python": {
     "delete_cmd_postfix": "",
     "delete_cmd_prefix": "del ",
     "library": "var_list.py",
     "varRefreshCmd": "print(var_dic_list())"
    },
    "r": {
     "delete_cmd_postfix": ") ",
     "delete_cmd_prefix": "rm(",
     "library": "var_list.r",
     "varRefreshCmd": "cat(var_dic_list()) "
    }
   },
   "types_to_exclude": [
    "module",
    "function",
    "builtin_function_or_method",
    "instance",
    "_Feature"
   ],
   "window_display": false
  }
 },
 "nbformat": 4,
 "nbformat_minor": 5
}
