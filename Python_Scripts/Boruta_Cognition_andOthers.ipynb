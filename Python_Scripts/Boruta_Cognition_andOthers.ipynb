{
 "cells": [
  {
   "cell_type": "code",
   "execution_count": 1,
   "id": "51c5704f",
   "metadata": {
    "ExecuteTime": {
     "end_time": "2023-02-21T06:44:47.809452Z",
     "start_time": "2023-02-21T06:44:45.904322Z"
    }
   },
   "outputs": [],
   "source": [
    "import numpy as np\n",
    "import pandas as pd\n",
    "from boruta import BorutaPy\n",
    "from sklearn.datasets import load_diabetes\n",
    "from sklearn.metrics import accuracy_score \n",
    "from sklearn.ensemble import RandomForestRegressor\n",
    "from sklearn.ensemble import RandomForestClassifier\n",
    "from sklearn.model_selection import train_test_split"
   ]
  },
  {
   "cell_type": "markdown",
   "id": "84e169d6",
   "metadata": {},
   "source": [
    "# Cognition"
   ]
  },
  {
   "cell_type": "code",
   "execution_count": 2,
   "id": "5ff336b1",
   "metadata": {
    "ExecuteTime": {
     "end_time": "2023-02-20T07:44:25.592511Z",
     "start_time": "2023-02-20T07:41:07.047653Z"
    }
   },
   "outputs": [
    {
     "name": "stdout",
     "output_type": "stream",
     "text": [
      "Z:\\PPMI_Data\\Excels\\NonMotors\\Derived250\\GeneCpG\\Cognition\n"
     ]
    },
    {
     "data": {
      "text/html": [
       "<div>\n",
       "<style scoped>\n",
       "    .dataframe tbody tr th:only-of-type {\n",
       "        vertical-align: middle;\n",
       "    }\n",
       "\n",
       "    .dataframe tbody tr th {\n",
       "        vertical-align: top;\n",
       "    }\n",
       "\n",
       "    .dataframe thead th {\n",
       "        text-align: right;\n",
       "    }\n",
       "</style>\n",
       "<table border=\"1\" class=\"dataframe\">\n",
       "  <thead>\n",
       "    <tr style=\"text-align: right;\">\n",
       "      <th></th>\n",
       "      <th>Sentrix</th>\n",
       "      <th>PATNO</th>\n",
       "      <th>HYS</th>\n",
       "      <th>Gender</th>\n",
       "      <th>APPRDX</th>\n",
       "      <th>Montreal_Cognitive</th>\n",
       "      <th>cg08012045</th>\n",
       "      <th>cg08300930</th>\n",
       "      <th>cg00134295</th>\n",
       "      <th>cg10537824</th>\n",
       "      <th>...</th>\n",
       "      <th>cg10054014</th>\n",
       "      <th>cg15364874</th>\n",
       "      <th>cg06622006</th>\n",
       "      <th>cg22071811</th>\n",
       "      <th>cg24960706</th>\n",
       "      <th>cg06917935</th>\n",
       "      <th>cg02794319</th>\n",
       "      <th>cg10702286</th>\n",
       "      <th>cg10353174</th>\n",
       "      <th>cg19590050</th>\n",
       "    </tr>\n",
       "  </thead>\n",
       "  <tbody>\n",
       "    <tr>\n",
       "      <th>0</th>\n",
       "      <td>200991620021_R01C01</td>\n",
       "      <td>3001</td>\n",
       "      <td>2</td>\n",
       "      <td>1</td>\n",
       "      <td>1</td>\n",
       "      <td>0</td>\n",
       "      <td>0.962437</td>\n",
       "      <td>0.964442</td>\n",
       "      <td>0.24353</td>\n",
       "      <td>0.826172</td>\n",
       "      <td>...</td>\n",
       "      <td>0.852622</td>\n",
       "      <td>0.880126</td>\n",
       "      <td>0.876185</td>\n",
       "      <td>0.770531</td>\n",
       "      <td>0.830047</td>\n",
       "      <td>0.216268</td>\n",
       "      <td>0.23435</td>\n",
       "      <td>0.68155</td>\n",
       "      <td>0.103758</td>\n",
       "      <td>0.83789</td>\n",
       "    </tr>\n",
       "  </tbody>\n",
       "</table>\n",
       "<p>1 rows × 123023 columns</p>\n",
       "</div>"
      ],
      "text/plain": [
       "               Sentrix  PATNO  HYS  Gender  APPRDX  Montreal_Cognitive  \\\n",
       "0  200991620021_R01C01   3001    2       1       1                   0   \n",
       "\n",
       "   cg08012045  cg08300930  cg00134295  cg10537824  ...  cg10054014  \\\n",
       "0    0.962437    0.964442     0.24353    0.826172  ...    0.852622   \n",
       "\n",
       "   cg15364874  cg06622006  cg22071811  cg24960706  cg06917935  cg02794319  \\\n",
       "0    0.880126    0.876185    0.770531    0.830047    0.216268     0.23435   \n",
       "\n",
       "   cg10702286  cg10353174  cg19590050  \n",
       "0     0.68155    0.103758     0.83789  \n",
       "\n",
       "[1 rows x 123023 columns]"
      ]
     },
     "execution_count": 2,
     "metadata": {},
     "output_type": "execute_result"
    }
   ],
   "source": [
    "%cd Z:\\PPMI_Data\\Excels\\NonMotors\\Derived250\\GeneCpG\\Cognition\n",
    "data = pd.read_csv('CognitionCateg_Methylome_APPRDXFilter.csv')\n",
    "data.head(1)"
   ]
  },
  {
   "cell_type": "code",
   "execution_count": 3,
   "id": "ee22df7a",
   "metadata": {
    "ExecuteTime": {
     "end_time": "2023-02-20T07:45:12.822087Z",
     "start_time": "2023-02-20T07:45:12.306169Z"
    }
   },
   "outputs": [
    {
     "name": "stdout",
     "output_type": "stream",
     "text": [
      "   cg08012045  cg08300930  cg00134295  cg10537824  cg04990650  cg03379001  \\\n",
      "0    0.962437    0.964442     0.24353    0.826172    0.845330    0.852316   \n",
      "1    0.962158    0.963041     0.22606    0.729373    0.830303    0.764861   \n",
      "\n",
      "   cg02215627  cg06699201  cg18100935  cg19220149  ...  cg10054014  \\\n",
      "0    0.871498    0.653140     0.89167    0.874343  ...    0.852622   \n",
      "1    0.821899    0.717675     0.88783    0.817058  ...    0.900772   \n",
      "\n",
      "   cg15364874  cg06622006  cg22071811  cg24960706  cg06917935  cg02794319  \\\n",
      "0    0.880126    0.876185    0.770531    0.830047    0.216268    0.234350   \n",
      "1    0.901686    0.906222    0.804494    0.905520    0.254265    0.290337   \n",
      "\n",
      "   cg10702286  cg10353174  cg19590050  \n",
      "0    0.681550    0.103758    0.837890  \n",
      "1    0.760554    0.075480    0.833824  \n",
      "\n",
      "[2 rows x 123017 columns]\n"
     ]
    }
   ],
   "source": [
    "X = data.drop(['Sentrix','PATNO','HYS','Gender','Montreal_Cognitive','APPRDX'], axis = 1)\n",
    "y = data['APPRDX']\n",
    "X_train, X_test, y_train, y_test = train_test_split(X, y, test_size = .2, random_state = 1) \n",
    "print(X.head(2))"
   ]
  },
  {
   "cell_type": "code",
   "execution_count": 4,
   "id": "c1ee3e48",
   "metadata": {
    "ExecuteTime": {
     "end_time": "2023-02-20T07:45:37.973546Z",
     "start_time": "2023-02-20T07:45:31.631694Z"
    }
   },
   "outputs": [
    {
     "data": {
      "text/plain": [
       "RandomForestClassifier(random_state=1)"
      ]
     },
     "execution_count": 4,
     "metadata": {},
     "output_type": "execute_result"
    }
   ],
   "source": [
    "rf_all_features = RandomForestClassifier(random_state=1)\n",
    "rf_all_features.fit(X_train, y_train)"
   ]
  },
  {
   "cell_type": "code",
   "execution_count": 5,
   "id": "f17f8606",
   "metadata": {
    "ExecuteTime": {
     "end_time": "2023-02-20T07:45:48.083963Z",
     "start_time": "2023-02-20T07:45:47.381168Z"
    }
   },
   "outputs": [
    {
     "data": {
      "text/plain": [
       "0.717391304347826"
      ]
     },
     "execution_count": 5,
     "metadata": {},
     "output_type": "execute_result"
    }
   ],
   "source": [
    "accuracy_score(y_test, rf_all_features.predict(X_test))"
   ]
  },
  {
   "cell_type": "code",
   "execution_count": 7,
   "id": "5ba608ac",
   "metadata": {
    "ExecuteTime": {
     "end_time": "2023-02-20T09:07:42.501834Z",
     "start_time": "2023-02-20T08:15:24.037641Z"
    },
    "scrolled": true
   },
   "outputs": [
    {
     "name": "stdout",
     "output_type": "stream",
     "text": [
      "Iteration: 1 / 100\n",
      "Iteration: 2 / 100\n",
      "Iteration: 3 / 100\n",
      "Iteration: 4 / 100\n",
      "Iteration: 5 / 100\n",
      "Iteration: 6 / 100\n",
      "Iteration: 7 / 100\n",
      "Iteration: 8 / 100\n",
      "Iteration: 9 / 100\n",
      "Iteration: 10 / 100\n",
      "Iteration: 11 / 100\n",
      "Iteration: 12 / 100\n",
      "Iteration: 13 / 100\n",
      "Iteration: 14 / 100\n",
      "Iteration: 15 / 100\n",
      "Iteration: 16 / 100\n",
      "Iteration: 17 / 100\n",
      "Iteration: 18 / 100\n",
      "Iteration: 19 / 100\n",
      "Iteration: 20 / 100\n",
      "Iteration: 21 / 100\n",
      "Iteration: 22 / 100\n",
      "Iteration: 23 / 100\n",
      "Iteration: 24 / 100\n",
      "Iteration: 25 / 100\n",
      "Iteration: 26 / 100\n",
      "Iteration: 27 / 100\n",
      "Iteration: 28 / 100\n",
      "Iteration: 29 / 100\n",
      "Iteration: 30 / 100\n",
      "Iteration: 31 / 100\n",
      "Iteration: 32 / 100\n",
      "Iteration: 33 / 100\n",
      "Iteration: 34 / 100\n",
      "Iteration: 35 / 100\n",
      "Iteration: 36 / 100\n",
      "Iteration: 37 / 100\n",
      "Iteration: 38 / 100\n",
      "Iteration: 39 / 100\n",
      "Iteration: 40 / 100\n",
      "Iteration: 41 / 100\n",
      "Iteration: 42 / 100\n",
      "Iteration: 43 / 100\n",
      "\n",
      "\n",
      "BorutaPy finished running.\n",
      "\n",
      "Iteration: \t44 / 100\n",
      "Confirmed: \t3\n",
      "Tentative: \t0\n",
      "Rejected: \t123014\n"
     ]
    },
    {
     "data": {
      "text/plain": [
       "BorutaPy(estimator=RandomForestClassifier(n_estimators=24,\n",
       "                                          random_state=RandomState(MT19937) at 0x17A4B19ED40),\n",
       "         n_estimators='auto',\n",
       "         random_state=RandomState(MT19937) at 0x17A4B19ED40, verbose=1)"
      ]
     },
     "execution_count": 7,
     "metadata": {},
     "output_type": "execute_result"
    }
   ],
   "source": [
    "rfc = RandomForestClassifier(random_state=1)\n",
    "boruta_selector = BorutaPy(rfc, n_estimators= 'auto', verbose=1, random_state=1)\n",
    "boruta_selector.fit(np.array(X_train), np.array(y_train))  "
   ]
  },
  {
   "cell_type": "code",
   "execution_count": 8,
   "id": "51f874e0",
   "metadata": {
    "ExecuteTime": {
     "end_time": "2023-02-20T09:07:52.627692Z",
     "start_time": "2023-02-20T09:07:52.602049Z"
    }
   },
   "outputs": [
    {
     "name": "stdout",
     "output_type": "stream",
     "text": [
      "No. of significant features:  3\n"
     ]
    }
   ],
   "source": [
    "# print(\"Ranking: \",boruta_selector.ranking_)          \n",
    "print(\"No. of significant features: \", boruta_selector.n_features_)"
   ]
  },
  {
   "cell_type": "code",
   "execution_count": 9,
   "id": "61cadc89",
   "metadata": {
    "ExecuteTime": {
     "end_time": "2023-02-20T09:08:01.234761Z",
     "start_time": "2023-02-20T09:08:01.194434Z"
    }
   },
   "outputs": [],
   "source": [
    "selected_rf_features = pd.DataFrame({'CpG':list(X_train.columns),\n",
    "                                       'Ranking':boruta_selector.ranking_})\n",
    "selected_rf_features = selected_rf_features.sort_values(by='Ranking')"
   ]
  },
  {
   "cell_type": "code",
   "execution_count": 10,
   "id": "6ae888ab",
   "metadata": {
    "ExecuteTime": {
     "end_time": "2023-02-20T09:08:09.736919Z",
     "start_time": "2023-02-20T09:08:09.711277Z"
    },
    "scrolled": true
   },
   "outputs": [
    {
     "data": {
      "text/html": [
       "<div>\n",
       "<style scoped>\n",
       "    .dataframe tbody tr th:only-of-type {\n",
       "        vertical-align: middle;\n",
       "    }\n",
       "\n",
       "    .dataframe tbody tr th {\n",
       "        vertical-align: top;\n",
       "    }\n",
       "\n",
       "    .dataframe thead th {\n",
       "        text-align: right;\n",
       "    }\n",
       "</style>\n",
       "<table border=\"1\" class=\"dataframe\">\n",
       "  <thead>\n",
       "    <tr style=\"text-align: right;\">\n",
       "      <th></th>\n",
       "      <th>CpG</th>\n",
       "      <th>Ranking</th>\n",
       "    </tr>\n",
       "  </thead>\n",
       "  <tbody>\n",
       "    <tr>\n",
       "      <th>11596</th>\n",
       "      <td>cg12345955</td>\n",
       "      <td>1</td>\n",
       "    </tr>\n",
       "    <tr>\n",
       "      <th>75799</th>\n",
       "      <td>cg19816560</td>\n",
       "      <td>1</td>\n",
       "    </tr>\n",
       "    <tr>\n",
       "      <th>20944</th>\n",
       "      <td>cg12298429</td>\n",
       "      <td>1</td>\n",
       "    </tr>\n",
       "  </tbody>\n",
       "</table>\n",
       "</div>"
      ],
      "text/plain": [
       "              CpG  Ranking\n",
       "11596  cg12345955        1\n",
       "75799  cg19816560        1\n",
       "20944  cg12298429        1"
      ]
     },
     "execution_count": 10,
     "metadata": {},
     "output_type": "execute_result"
    }
   ],
   "source": [
    "Top50 = selected_rf_features.iloc[:51, :]\n",
    "Top50.head(3)"
   ]
  },
  {
   "cell_type": "code",
   "execution_count": 11,
   "id": "9605e163",
   "metadata": {
    "ExecuteTime": {
     "end_time": "2023-02-20T09:08:18.768856Z",
     "start_time": "2023-02-20T09:08:18.527060Z"
    }
   },
   "outputs": [],
   "source": [
    "Top50.to_csv ('Cognition_Boruta_Top50.csv', index = False)\n",
    "selected_rf_features.to_csv ('Cognition_Boruta_All.csv', index = False)"
   ]
  },
  {
   "cell_type": "code",
   "execution_count": 12,
   "id": "a5bc67f8",
   "metadata": {
    "ExecuteTime": {
     "end_time": "2023-02-20T09:08:28.896618Z",
     "start_time": "2023-02-20T09:08:28.755562Z"
    }
   },
   "outputs": [
    {
     "name": "stderr",
     "output_type": "stream",
     "text": [
      "C:\\Users\\system 4\\AppData\\Local\\Temp\\ipykernel_3576\\4033399529.py:6: SettingWithCopyWarning: \n",
      "A value is trying to be set on a copy of a slice from a DataFrame.\n",
      "Try using .loc[row_indexer,col_indexer] = value instead\n",
      "\n",
      "See the caveats in the documentation: https://pandas.pydata.org/pandas-docs/stable/user_guide/indexing.html#returning-a-view-versus-a-copy\n",
      "  df_subset['APPRDX'] = data['APPRDX']\n"
     ]
    },
    {
     "data": {
      "text/html": [
       "<div>\n",
       "<style scoped>\n",
       "    .dataframe tbody tr th:only-of-type {\n",
       "        vertical-align: middle;\n",
       "    }\n",
       "\n",
       "    .dataframe tbody tr th {\n",
       "        vertical-align: top;\n",
       "    }\n",
       "\n",
       "    .dataframe thead th {\n",
       "        text-align: right;\n",
       "    }\n",
       "</style>\n",
       "<table border=\"1\" class=\"dataframe\">\n",
       "  <thead>\n",
       "    <tr style=\"text-align: right;\">\n",
       "      <th></th>\n",
       "      <th>cg16541194</th>\n",
       "      <th>cg16333036</th>\n",
       "      <th>cg10410319</th>\n",
       "      <th>cg12345955</th>\n",
       "      <th>cg21043558</th>\n",
       "      <th>cg07456278</th>\n",
       "      <th>cg19690051</th>\n",
       "      <th>cg26090534</th>\n",
       "      <th>cg00417288</th>\n",
       "      <th>cg25850998</th>\n",
       "      <th>...</th>\n",
       "      <th>cg04061361</th>\n",
       "      <th>cg22534925</th>\n",
       "      <th>cg12220605</th>\n",
       "      <th>cg12044671</th>\n",
       "      <th>cg13976366</th>\n",
       "      <th>cg16199144</th>\n",
       "      <th>cg16006242</th>\n",
       "      <th>cg25911279</th>\n",
       "      <th>cg07931157</th>\n",
       "      <th>APPRDX</th>\n",
       "    </tr>\n",
       "  </thead>\n",
       "  <tbody>\n",
       "    <tr>\n",
       "      <th>0</th>\n",
       "      <td>0.576279</td>\n",
       "      <td>0.496829</td>\n",
       "      <td>0.021390</td>\n",
       "      <td>0.015210</td>\n",
       "      <td>0.667449</td>\n",
       "      <td>0.582067</td>\n",
       "      <td>0.104141</td>\n",
       "      <td>0.962848</td>\n",
       "      <td>0.892366</td>\n",
       "      <td>0.031865</td>\n",
       "      <td>...</td>\n",
       "      <td>0.568646</td>\n",
       "      <td>0.914514</td>\n",
       "      <td>0.082447</td>\n",
       "      <td>0.869433</td>\n",
       "      <td>0.031021</td>\n",
       "      <td>0.027345</td>\n",
       "      <td>0.020243</td>\n",
       "      <td>0.031463</td>\n",
       "      <td>0.066176</td>\n",
       "      <td>1</td>\n",
       "    </tr>\n",
       "    <tr>\n",
       "      <th>1</th>\n",
       "      <td>0.471834</td>\n",
       "      <td>0.463492</td>\n",
       "      <td>0.020285</td>\n",
       "      <td>0.013241</td>\n",
       "      <td>0.659961</td>\n",
       "      <td>0.667340</td>\n",
       "      <td>0.045867</td>\n",
       "      <td>0.963592</td>\n",
       "      <td>0.934470</td>\n",
       "      <td>0.017234</td>\n",
       "      <td>...</td>\n",
       "      <td>0.719066</td>\n",
       "      <td>0.930051</td>\n",
       "      <td>0.113486</td>\n",
       "      <td>0.755008</td>\n",
       "      <td>0.019411</td>\n",
       "      <td>0.033869</td>\n",
       "      <td>0.016203</td>\n",
       "      <td>0.020530</td>\n",
       "      <td>0.069590</td>\n",
       "      <td>1</td>\n",
       "    </tr>\n",
       "  </tbody>\n",
       "</table>\n",
       "<p>2 rows × 52 columns</p>\n",
       "</div>"
      ],
      "text/plain": [
       "   cg16541194  cg16333036  cg10410319  cg12345955  cg21043558  cg07456278  \\\n",
       "0    0.576279    0.496829    0.021390    0.015210    0.667449    0.582067   \n",
       "1    0.471834    0.463492    0.020285    0.013241    0.659961    0.667340   \n",
       "\n",
       "   cg19690051  cg26090534  cg00417288  cg25850998  ...  cg04061361  \\\n",
       "0    0.104141    0.962848    0.892366    0.031865  ...    0.568646   \n",
       "1    0.045867    0.963592    0.934470    0.017234  ...    0.719066   \n",
       "\n",
       "   cg22534925  cg12220605  cg12044671  cg13976366  cg16199144  cg16006242  \\\n",
       "0    0.914514    0.082447    0.869433    0.031021    0.027345    0.020243   \n",
       "1    0.930051    0.113486    0.755008    0.019411    0.033869    0.016203   \n",
       "\n",
       "   cg25911279  cg07931157  APPRDX  \n",
       "0    0.031463    0.066176       1  \n",
       "1    0.020530    0.069590       1  \n",
       "\n",
       "[2 rows x 52 columns]"
      ]
     },
     "execution_count": 12,
     "metadata": {},
     "output_type": "execute_result"
    }
   ],
   "source": [
    "# create a list of column names to subset from data\n",
    "col_names = Top50.iloc[:, 0].tolist()\n",
    "\n",
    "# subset df based on the column names\n",
    "df_subset = data.loc[:, data.columns.isin(col_names)]\n",
    "df_subset['APPRDX'] = data['APPRDX']\n",
    "df_subset.to_csv ('Cognition_Boruta_Top50_Data.csv', index = False)\n",
    "df_subset.head(2)"
   ]
  },
  {
   "cell_type": "markdown",
   "id": "7d040fc9",
   "metadata": {},
   "source": [
    "# Constipation"
   ]
  },
  {
   "cell_type": "code",
   "execution_count": 13,
   "id": "6a0b3a09",
   "metadata": {
    "ExecuteTime": {
     "end_time": "2023-02-20T09:08:43.646856Z",
     "start_time": "2023-02-20T09:08:37.549678Z"
    }
   },
   "outputs": [
    {
     "name": "stdout",
     "output_type": "stream",
     "text": [
      "Z:\\PPMI_Data\\Excels\\NonMotors\\Derived250\\GeneCpG\\Constipation\n"
     ]
    },
    {
     "data": {
      "text/html": [
       "<div>\n",
       "<style scoped>\n",
       "    .dataframe tbody tr th:only-of-type {\n",
       "        vertical-align: middle;\n",
       "    }\n",
       "\n",
       "    .dataframe tbody tr th {\n",
       "        vertical-align: top;\n",
       "    }\n",
       "\n",
       "    .dataframe thead th {\n",
       "        text-align: right;\n",
       "    }\n",
       "</style>\n",
       "<table border=\"1\" class=\"dataframe\">\n",
       "  <thead>\n",
       "    <tr style=\"text-align: right;\">\n",
       "      <th></th>\n",
       "      <th>Sentrix</th>\n",
       "      <th>PATNO</th>\n",
       "      <th>HYS</th>\n",
       "      <th>Gender</th>\n",
       "      <th>APPRDX</th>\n",
       "      <th>MDSP_Constipate</th>\n",
       "      <th>cg13609937</th>\n",
       "      <th>cg13847987</th>\n",
       "      <th>cg13822231</th>\n",
       "      <th>cg20728472</th>\n",
       "      <th>...</th>\n",
       "      <th>cg06819251</th>\n",
       "      <th>cg22158158</th>\n",
       "      <th>cg20161227</th>\n",
       "      <th>cg05701765</th>\n",
       "      <th>cg25437180</th>\n",
       "      <th>cg06002203</th>\n",
       "      <th>cg21722170</th>\n",
       "      <th>cg13142750</th>\n",
       "      <th>cg12743359</th>\n",
       "      <th>cg04293703</th>\n",
       "    </tr>\n",
       "  </thead>\n",
       "  <tbody>\n",
       "    <tr>\n",
       "      <th>0</th>\n",
       "      <td>200991620021_R01C01</td>\n",
       "      <td>3001</td>\n",
       "      <td>2</td>\n",
       "      <td>1</td>\n",
       "      <td>1</td>\n",
       "      <td>0</td>\n",
       "      <td>0.0201</td>\n",
       "      <td>0.922355</td>\n",
       "      <td>0.011956</td>\n",
       "      <td>0.02195</td>\n",
       "      <td>...</td>\n",
       "      <td>0.900701</td>\n",
       "      <td>0.906393</td>\n",
       "      <td>0.948309</td>\n",
       "      <td>0.847871</td>\n",
       "      <td>0.647087</td>\n",
       "      <td>0.836282</td>\n",
       "      <td>0.731078</td>\n",
       "      <td>0.62803</td>\n",
       "      <td>0.883242</td>\n",
       "      <td>0.534427</td>\n",
       "    </tr>\n",
       "  </tbody>\n",
       "</table>\n",
       "<p>1 rows × 20757 columns</p>\n",
       "</div>"
      ],
      "text/plain": [
       "               Sentrix  PATNO  HYS  Gender  APPRDX  MDSP_Constipate  \\\n",
       "0  200991620021_R01C01   3001    2       1       1                0   \n",
       "\n",
       "   cg13609937  cg13847987  cg13822231  cg20728472  ...  cg06819251  \\\n",
       "0      0.0201    0.922355    0.011956     0.02195  ...    0.900701   \n",
       "\n",
       "   cg22158158  cg20161227  cg05701765  cg25437180  cg06002203  cg21722170  \\\n",
       "0    0.906393    0.948309    0.847871    0.647087    0.836282    0.731078   \n",
       "\n",
       "   cg13142750  cg12743359  cg04293703  \n",
       "0     0.62803    0.883242    0.534427  \n",
       "\n",
       "[1 rows x 20757 columns]"
      ]
     },
     "execution_count": 13,
     "metadata": {},
     "output_type": "execute_result"
    }
   ],
   "source": [
    "%cd Z:\\PPMI_Data\\Excels\\NonMotors\\Derived250\\GeneCpG\\Constipation\n",
    "data = pd.read_csv('ConstipationCateg_Methylome_APPRDXFilter.csv')\n",
    "data.head(1)"
   ]
  },
  {
   "cell_type": "code",
   "execution_count": 15,
   "id": "d8daf3a3",
   "metadata": {
    "ExecuteTime": {
     "end_time": "2023-02-20T11:26:48.384591Z",
     "start_time": "2023-02-20T11:26:47.967902Z"
    }
   },
   "outputs": [
    {
     "name": "stdout",
     "output_type": "stream",
     "text": [
      "   cg13609937  cg13847987  cg13822231  cg20728472  cg14567798  cg14205952  \\\n",
      "0    0.020100    0.922355    0.011956    0.021950    0.019629    0.011816   \n",
      "1    0.071529    0.938088    0.013730    0.029759    0.025837    0.013719   \n",
      "\n",
      "   cg13083110  cg24453271  cg18015632  cg21195763  ...  cg06819251  \\\n",
      "0    0.531190    0.824585    0.879564    0.805367  ...    0.900701   \n",
      "1    0.578083    0.820133    0.892031    0.823493  ...    0.739334   \n",
      "\n",
      "   cg22158158  cg20161227  cg05701765  cg25437180  cg06002203  cg21722170  \\\n",
      "0    0.906393    0.948309    0.847871    0.647087    0.836282    0.731078   \n",
      "1    0.888118    0.914366    0.854601    0.685887    0.890144    0.816051   \n",
      "\n",
      "   cg13142750  cg12743359  cg04293703  \n",
      "0     0.62803    0.883242    0.534427  \n",
      "1     0.73572    0.892971    0.540466  \n",
      "\n",
      "[2 rows x 20751 columns]\n"
     ]
    }
   ],
   "source": [
    "X = data.drop(['Sentrix','PATNO','HYS','Gender','MDSP_Constipate','APPRDX'], axis = 1)\n",
    "y = data['APPRDX']\n",
    "X_train, X_test, y_train, y_test = train_test_split(X, y, test_size = .2, random_state = 1) \n",
    "print(X.head(2))"
   ]
  },
  {
   "cell_type": "code",
   "execution_count": 16,
   "id": "73fe318a",
   "metadata": {
    "ExecuteTime": {
     "end_time": "2023-02-20T11:26:54.401596Z",
     "start_time": "2023-02-20T11:26:51.678610Z"
    }
   },
   "outputs": [
    {
     "data": {
      "text/plain": [
       "RandomForestClassifier(random_state=1)"
      ]
     },
     "execution_count": 16,
     "metadata": {},
     "output_type": "execute_result"
    }
   ],
   "source": [
    "rf_all_features = RandomForestClassifier(random_state=1)\n",
    "rf_all_features.fit(X_train, y_train)"
   ]
  },
  {
   "cell_type": "code",
   "execution_count": 17,
   "id": "8e56e1b8",
   "metadata": {
    "ExecuteTime": {
     "end_time": "2023-02-20T11:26:56.337272Z",
     "start_time": "2023-02-20T11:26:56.199167Z"
    }
   },
   "outputs": [
    {
     "data": {
      "text/plain": [
       "0.7065217391304348"
      ]
     },
     "execution_count": 17,
     "metadata": {},
     "output_type": "execute_result"
    }
   ],
   "source": [
    "accuracy_score(y_test, rf_all_features.predict(X_test))"
   ]
  },
  {
   "cell_type": "code",
   "execution_count": 18,
   "id": "28d42b85",
   "metadata": {
    "ExecuteTime": {
     "end_time": "2023-02-20T11:36:08.397546Z",
     "start_time": "2023-02-20T11:26:58.126478Z"
    },
    "scrolled": true
   },
   "outputs": [
    {
     "name": "stdout",
     "output_type": "stream",
     "text": [
      "Iteration: 1 / 100\n",
      "Iteration: 2 / 100\n",
      "Iteration: 3 / 100\n",
      "Iteration: 4 / 100\n",
      "Iteration: 5 / 100\n",
      "Iteration: 6 / 100\n",
      "Iteration: 7 / 100\n",
      "Iteration: 8 / 100\n",
      "Iteration: 9 / 100\n",
      "Iteration: 10 / 100\n",
      "Iteration: 11 / 100\n",
      "Iteration: 12 / 100\n",
      "Iteration: 13 / 100\n",
      "Iteration: 14 / 100\n",
      "Iteration: 15 / 100\n",
      "Iteration: 16 / 100\n",
      "Iteration: 17 / 100\n",
      "Iteration: 18 / 100\n",
      "Iteration: 19 / 100\n",
      "Iteration: 20 / 100\n",
      "Iteration: 21 / 100\n",
      "Iteration: 22 / 100\n",
      "Iteration: 23 / 100\n",
      "Iteration: 24 / 100\n",
      "Iteration: 25 / 100\n",
      "Iteration: 26 / 100\n",
      "Iteration: 27 / 100\n",
      "Iteration: 28 / 100\n",
      "Iteration: 29 / 100\n",
      "Iteration: 30 / 100\n",
      "Iteration: 31 / 100\n",
      "Iteration: 32 / 100\n",
      "Iteration: 33 / 100\n",
      "Iteration: 34 / 100\n",
      "Iteration: 35 / 100\n",
      "Iteration: 36 / 100\n",
      "Iteration: 37 / 100\n",
      "Iteration: 38 / 100\n",
      "Iteration: 39 / 100\n",
      "Iteration: 40 / 100\n",
      "Iteration: 41 / 100\n",
      "Iteration: 42 / 100\n",
      "Iteration: 43 / 100\n",
      "Iteration: 44 / 100\n",
      "Iteration: 45 / 100\n",
      "Iteration: 46 / 100\n",
      "\n",
      "\n",
      "BorutaPy finished running.\n",
      "\n",
      "Iteration: \t47 / 100\n",
      "Confirmed: \t1\n",
      "Tentative: \t0\n",
      "Rejected: \t20750\n"
     ]
    },
    {
     "data": {
      "text/plain": [
       "BorutaPy(estimator=RandomForestClassifier(n_estimators=14,\n",
       "                                          random_state=RandomState(MT19937) at 0x17A0532B340),\n",
       "         n_estimators='auto',\n",
       "         random_state=RandomState(MT19937) at 0x17A0532B340, verbose=1)"
      ]
     },
     "execution_count": 18,
     "metadata": {},
     "output_type": "execute_result"
    }
   ],
   "source": [
    "rfc = RandomForestClassifier(random_state=1)\n",
    "boruta_selector = BorutaPy(rfc, n_estimators= 'auto', verbose=1, random_state=1)\n",
    "boruta_selector.fit(np.array(X_train), np.array(y_train))  "
   ]
  },
  {
   "cell_type": "code",
   "execution_count": 19,
   "id": "7f0421ed",
   "metadata": {
    "ExecuteTime": {
     "end_time": "2023-02-20T11:36:10.042156Z",
     "start_time": "2023-02-20T11:36:10.026458Z"
    }
   },
   "outputs": [
    {
     "name": "stdout",
     "output_type": "stream",
     "text": [
      "No. of significant features:  1\n"
     ]
    }
   ],
   "source": [
    "# print(\"Ranking: \",boruta_selector.ranking_)          \n",
    "print(\"No. of significant features: \", boruta_selector.n_features_)"
   ]
  },
  {
   "cell_type": "code",
   "execution_count": 20,
   "id": "1b23b0c4",
   "metadata": {
    "ExecuteTime": {
     "end_time": "2023-02-20T11:36:11.660632Z",
     "start_time": "2023-02-20T11:36:11.644928Z"
    }
   },
   "outputs": [],
   "source": [
    "selected_rf_features = pd.DataFrame({'CpG':list(X_train.columns),\n",
    "                                       'Ranking':boruta_selector.ranking_})\n",
    "selected_rf_features = selected_rf_features.sort_values(by='Ranking')"
   ]
  },
  {
   "cell_type": "code",
   "execution_count": 21,
   "id": "7a76bee7",
   "metadata": {
    "ExecuteTime": {
     "end_time": "2023-02-20T11:36:13.241594Z",
     "start_time": "2023-02-20T11:36:13.226000Z"
    }
   },
   "outputs": [
    {
     "data": {
      "text/html": [
       "<div>\n",
       "<style scoped>\n",
       "    .dataframe tbody tr th:only-of-type {\n",
       "        vertical-align: middle;\n",
       "    }\n",
       "\n",
       "    .dataframe tbody tr th {\n",
       "        vertical-align: top;\n",
       "    }\n",
       "\n",
       "    .dataframe thead th {\n",
       "        text-align: right;\n",
       "    }\n",
       "</style>\n",
       "<table border=\"1\" class=\"dataframe\">\n",
       "  <thead>\n",
       "    <tr style=\"text-align: right;\">\n",
       "      <th></th>\n",
       "      <th>CpG</th>\n",
       "      <th>Ranking</th>\n",
       "    </tr>\n",
       "  </thead>\n",
       "  <tbody>\n",
       "    <tr>\n",
       "      <th>3459</th>\n",
       "      <td>cg12298429</td>\n",
       "      <td>1</td>\n",
       "    </tr>\n",
       "    <tr>\n",
       "      <th>3545</th>\n",
       "      <td>cg27281389</td>\n",
       "      <td>2</td>\n",
       "    </tr>\n",
       "    <tr>\n",
       "      <th>14151</th>\n",
       "      <td>cg17528967</td>\n",
       "      <td>3</td>\n",
       "    </tr>\n",
       "  </tbody>\n",
       "</table>\n",
       "</div>"
      ],
      "text/plain": [
       "              CpG  Ranking\n",
       "3459   cg12298429        1\n",
       "3545   cg27281389        2\n",
       "14151  cg17528967        3"
      ]
     },
     "execution_count": 21,
     "metadata": {},
     "output_type": "execute_result"
    }
   ],
   "source": [
    "Top50 = selected_rf_features.iloc[:51, :]\n",
    "Top50.head(3)"
   ]
  },
  {
   "cell_type": "code",
   "execution_count": 22,
   "id": "c7245d2b",
   "metadata": {
    "ExecuteTime": {
     "end_time": "2023-02-20T11:36:14.995630Z",
     "start_time": "2023-02-20T11:36:14.879558Z"
    }
   },
   "outputs": [],
   "source": [
    "Top50.to_csv ('Constipation_Boruta_Top50.csv', index = False)\n",
    "selected_rf_features.to_csv ('Constipation_Boruta_All.csv', index = False)"
   ]
  },
  {
   "cell_type": "code",
   "execution_count": 23,
   "id": "5b0f6753",
   "metadata": {
    "ExecuteTime": {
     "end_time": "2023-02-20T11:36:16.642997Z",
     "start_time": "2023-02-20T11:36:16.574042Z"
    }
   },
   "outputs": [
    {
     "name": "stderr",
     "output_type": "stream",
     "text": [
      "C:\\Users\\system 4\\AppData\\Local\\Temp\\ipykernel_3576\\3466572124.py:6: SettingWithCopyWarning: \n",
      "A value is trying to be set on a copy of a slice from a DataFrame.\n",
      "Try using .loc[row_indexer,col_indexer] = value instead\n",
      "\n",
      "See the caveats in the documentation: https://pandas.pydata.org/pandas-docs/stable/user_guide/indexing.html#returning-a-view-versus-a-copy\n",
      "  df_subset['APPRDX'] = data['APPRDX']\n"
     ]
    },
    {
     "data": {
      "text/html": [
       "<div>\n",
       "<style scoped>\n",
       "    .dataframe tbody tr th:only-of-type {\n",
       "        vertical-align: middle;\n",
       "    }\n",
       "\n",
       "    .dataframe tbody tr th {\n",
       "        vertical-align: top;\n",
       "    }\n",
       "\n",
       "    .dataframe thead th {\n",
       "        text-align: right;\n",
       "    }\n",
       "</style>\n",
       "<table border=\"1\" class=\"dataframe\">\n",
       "  <thead>\n",
       "    <tr style=\"text-align: right;\">\n",
       "      <th></th>\n",
       "      <th>cg22237213</th>\n",
       "      <th>cg06751221</th>\n",
       "      <th>cg13332222</th>\n",
       "      <th>cg14005240</th>\n",
       "      <th>cg14889643</th>\n",
       "      <th>cg17612987</th>\n",
       "      <th>cg21043558</th>\n",
       "      <th>cg12298429</th>\n",
       "      <th>cg27281389</th>\n",
       "      <th>cg25434660</th>\n",
       "      <th>...</th>\n",
       "      <th>cg20187858</th>\n",
       "      <th>cg09233704</th>\n",
       "      <th>cg05142211</th>\n",
       "      <th>cg12683454</th>\n",
       "      <th>cg09043524</th>\n",
       "      <th>cg14196331</th>\n",
       "      <th>cg26458329</th>\n",
       "      <th>cg19371224</th>\n",
       "      <th>cg02454595</th>\n",
       "      <th>APPRDX</th>\n",
       "    </tr>\n",
       "  </thead>\n",
       "  <tbody>\n",
       "    <tr>\n",
       "      <th>0</th>\n",
       "      <td>0.922623</td>\n",
       "      <td>0.057391</td>\n",
       "      <td>0.902238</td>\n",
       "      <td>0.878486</td>\n",
       "      <td>0.017995</td>\n",
       "      <td>0.031849</td>\n",
       "      <td>0.667449</td>\n",
       "      <td>0.032801</td>\n",
       "      <td>0.026921</td>\n",
       "      <td>0.848560</td>\n",
       "      <td>...</td>\n",
       "      <td>0.164275</td>\n",
       "      <td>0.620103</td>\n",
       "      <td>0.035018</td>\n",
       "      <td>0.023826</td>\n",
       "      <td>0.926060</td>\n",
       "      <td>0.034453</td>\n",
       "      <td>0.029374</td>\n",
       "      <td>0.751572</td>\n",
       "      <td>0.058504</td>\n",
       "      <td>1</td>\n",
       "    </tr>\n",
       "    <tr>\n",
       "      <th>1</th>\n",
       "      <td>0.918179</td>\n",
       "      <td>0.083624</td>\n",
       "      <td>0.928699</td>\n",
       "      <td>0.887782</td>\n",
       "      <td>0.020710</td>\n",
       "      <td>0.031061</td>\n",
       "      <td>0.659961</td>\n",
       "      <td>0.042715</td>\n",
       "      <td>0.033420</td>\n",
       "      <td>0.864457</td>\n",
       "      <td>...</td>\n",
       "      <td>0.122112</td>\n",
       "      <td>0.682452</td>\n",
       "      <td>0.041906</td>\n",
       "      <td>0.028970</td>\n",
       "      <td>0.898801</td>\n",
       "      <td>0.028081</td>\n",
       "      <td>0.021559</td>\n",
       "      <td>0.855625</td>\n",
       "      <td>0.042324</td>\n",
       "      <td>1</td>\n",
       "    </tr>\n",
       "  </tbody>\n",
       "</table>\n",
       "<p>2 rows × 52 columns</p>\n",
       "</div>"
      ],
      "text/plain": [
       "   cg22237213  cg06751221  cg13332222  cg14005240  cg14889643  cg17612987  \\\n",
       "0    0.922623    0.057391    0.902238    0.878486    0.017995    0.031849   \n",
       "1    0.918179    0.083624    0.928699    0.887782    0.020710    0.031061   \n",
       "\n",
       "   cg21043558  cg12298429  cg27281389  cg25434660  ...  cg20187858  \\\n",
       "0    0.667449    0.032801    0.026921    0.848560  ...    0.164275   \n",
       "1    0.659961    0.042715    0.033420    0.864457  ...    0.122112   \n",
       "\n",
       "   cg09233704  cg05142211  cg12683454  cg09043524  cg14196331  cg26458329  \\\n",
       "0    0.620103    0.035018    0.023826    0.926060    0.034453    0.029374   \n",
       "1    0.682452    0.041906    0.028970    0.898801    0.028081    0.021559   \n",
       "\n",
       "   cg19371224  cg02454595  APPRDX  \n",
       "0    0.751572    0.058504       1  \n",
       "1    0.855625    0.042324       1  \n",
       "\n",
       "[2 rows x 52 columns]"
      ]
     },
     "execution_count": 23,
     "metadata": {},
     "output_type": "execute_result"
    }
   ],
   "source": [
    "# create a list of column names to subset from data\n",
    "col_names = Top50.iloc[:, 0].tolist()\n",
    "\n",
    "# subset df based on the column names\n",
    "df_subset = data.loc[:, data.columns.isin(col_names)]\n",
    "df_subset['APPRDX'] = data['APPRDX']\n",
    "df_subset.to_csv ('Constipation_Boruta_Top50_Data.csv', index = False)\n",
    "df_subset.head(2)"
   ]
  },
  {
   "cell_type": "markdown",
   "id": "a6f5dfa7",
   "metadata": {},
   "source": [
    "# Depression"
   ]
  },
  {
   "cell_type": "code",
   "execution_count": 24,
   "id": "e208216c",
   "metadata": {
    "ExecuteTime": {
     "end_time": "2023-02-20T11:37:44.066706Z",
     "start_time": "2023-02-20T11:36:18.250218Z"
    }
   },
   "outputs": [
    {
     "name": "stdout",
     "output_type": "stream",
     "text": [
      "Z:\\PPMI_Data\\Excels\\NonMotors\\Derived250\\GeneCpG\\Depression\n"
     ]
    },
    {
     "data": {
      "text/html": [
       "<div>\n",
       "<style scoped>\n",
       "    .dataframe tbody tr th:only-of-type {\n",
       "        vertical-align: middle;\n",
       "    }\n",
       "\n",
       "    .dataframe tbody tr th {\n",
       "        vertical-align: top;\n",
       "    }\n",
       "\n",
       "    .dataframe thead th {\n",
       "        text-align: right;\n",
       "    }\n",
       "</style>\n",
       "<table border=\"1\" class=\"dataframe\">\n",
       "  <thead>\n",
       "    <tr style=\"text-align: right;\">\n",
       "      <th></th>\n",
       "      <th>Sentrix</th>\n",
       "      <th>PATNO</th>\n",
       "      <th>HYS</th>\n",
       "      <th>Gender</th>\n",
       "      <th>APPRDX</th>\n",
       "      <th>MDS_Depress</th>\n",
       "      <th>cg20815302</th>\n",
       "      <th>cg25795414</th>\n",
       "      <th>cg00959375</th>\n",
       "      <th>cg07781847</th>\n",
       "      <th>...</th>\n",
       "      <th>cg02293835</th>\n",
       "      <th>cg25106148</th>\n",
       "      <th>cg09135009</th>\n",
       "      <th>cg16616325</th>\n",
       "      <th>cg08020573</th>\n",
       "      <th>cg19102621</th>\n",
       "      <th>cg26302779</th>\n",
       "      <th>cg10377074</th>\n",
       "      <th>cg06750710</th>\n",
       "      <th>ch.14.849914F</th>\n",
       "    </tr>\n",
       "  </thead>\n",
       "  <tbody>\n",
       "    <tr>\n",
       "      <th>0</th>\n",
       "      <td>200991620021_R01C01</td>\n",
       "      <td>3001</td>\n",
       "      <td>2</td>\n",
       "      <td>1</td>\n",
       "      <td>1</td>\n",
       "      <td>0</td>\n",
       "      <td>0.907957</td>\n",
       "      <td>0.86891</td>\n",
       "      <td>0.752844</td>\n",
       "      <td>0.827413</td>\n",
       "      <td>...</td>\n",
       "      <td>0.890264</td>\n",
       "      <td>0.096523</td>\n",
       "      <td>0.088376</td>\n",
       "      <td>0.035056</td>\n",
       "      <td>0.040317</td>\n",
       "      <td>0.620467</td>\n",
       "      <td>0.917245</td>\n",
       "      <td>0.87378</td>\n",
       "      <td>0.809904</td>\n",
       "      <td>0.045885</td>\n",
       "    </tr>\n",
       "  </tbody>\n",
       "</table>\n",
       "<p>1 rows × 106981 columns</p>\n",
       "</div>"
      ],
      "text/plain": [
       "               Sentrix  PATNO  HYS  Gender  APPRDX  MDS_Depress  cg20815302  \\\n",
       "0  200991620021_R01C01   3001    2       1       1            0    0.907957   \n",
       "\n",
       "   cg25795414  cg00959375  cg07781847  ...  cg02293835  cg25106148  \\\n",
       "0     0.86891    0.752844    0.827413  ...    0.890264    0.096523   \n",
       "\n",
       "   cg09135009  cg16616325  cg08020573  cg19102621  cg26302779  cg10377074  \\\n",
       "0    0.088376    0.035056    0.040317    0.620467    0.917245     0.87378   \n",
       "\n",
       "   cg06750710  ch.14.849914F  \n",
       "0    0.809904       0.045885  \n",
       "\n",
       "[1 rows x 106981 columns]"
      ]
     },
     "execution_count": 24,
     "metadata": {},
     "output_type": "execute_result"
    }
   ],
   "source": [
    "%cd Z:\\PPMI_Data\\Excels\\NonMotors\\Derived250\\GeneCpG\\Depression\n",
    "data = pd.read_csv('DepressionCateg_Methylome_APPRDXFilter.csv')\n",
    "data.head(1)"
   ]
  },
  {
   "cell_type": "code",
   "execution_count": 25,
   "id": "b26b7430",
   "metadata": {
    "ExecuteTime": {
     "end_time": "2023-02-20T11:39:20.325168Z",
     "start_time": "2023-02-20T11:39:19.845931Z"
    }
   },
   "outputs": [
    {
     "name": "stdout",
     "output_type": "stream",
     "text": [
      "   cg20815302  cg25795414  cg00959375  cg07781847  cg05138383  cg27394794  \\\n",
      "0    0.907957    0.868910    0.752844    0.827413    0.771393    0.766283   \n",
      "1    0.918626    0.865257    0.798170    0.823846    0.760193    0.801117   \n",
      "\n",
      "   cg12443990  cg19788329  cg22178513  cg04167299  ...  cg02293835  \\\n",
      "0    0.791932    0.785104    0.723989    0.861925  ...    0.890264   \n",
      "1    0.772456    0.742722    0.580721    0.898379  ...    0.841768   \n",
      "\n",
      "   cg25106148  cg09135009  cg16616325  cg08020573  cg19102621  cg26302779  \\\n",
      "0    0.096523    0.088376    0.035056    0.040317    0.620467    0.917245   \n",
      "1    0.056917    0.062589    0.032271    0.033286    0.656780    0.876781   \n",
      "\n",
      "   cg10377074  cg06750710  ch.14.849914F  \n",
      "0    0.873780    0.809904       0.045885  \n",
      "1    0.891459    0.791871       0.061687  \n",
      "\n",
      "[2 rows x 106975 columns]\n"
     ]
    }
   ],
   "source": [
    "X = data.drop(['Sentrix','PATNO','HYS','Gender','MDS_Depress','APPRDX'], axis = 1)\n",
    "y = data['APPRDX']\n",
    "X_train, X_test, y_train, y_test = train_test_split(X, y, test_size = .2, random_state = 1) \n",
    "print(X.head(2))"
   ]
  },
  {
   "cell_type": "code",
   "execution_count": 26,
   "id": "78a1abde",
   "metadata": {
    "ExecuteTime": {
     "end_time": "2023-02-20T11:39:44.962407Z",
     "start_time": "2023-02-20T11:39:39.362342Z"
    }
   },
   "outputs": [
    {
     "data": {
      "text/plain": [
       "RandomForestClassifier(random_state=1)"
      ]
     },
     "execution_count": 26,
     "metadata": {},
     "output_type": "execute_result"
    }
   ],
   "source": [
    "rf_all_features = RandomForestClassifier(random_state=1)\n",
    "rf_all_features.fit(X_train, y_train)"
   ]
  },
  {
   "cell_type": "code",
   "execution_count": 27,
   "id": "d0ee8096",
   "metadata": {
    "ExecuteTime": {
     "end_time": "2023-02-20T11:39:53.441346Z",
     "start_time": "2023-02-20T11:39:52.861790Z"
    }
   },
   "outputs": [
    {
     "data": {
      "text/plain": [
       "0.7065217391304348"
      ]
     },
     "execution_count": 27,
     "metadata": {},
     "output_type": "execute_result"
    }
   ],
   "source": [
    "accuracy_score(y_test, rf_all_features.predict(X_test))"
   ]
  },
  {
   "cell_type": "code",
   "execution_count": 28,
   "id": "abdc68ad",
   "metadata": {
    "ExecuteTime": {
     "end_time": "2023-02-20T12:27:29.002950Z",
     "start_time": "2023-02-20T11:40:01.624784Z"
    }
   },
   "outputs": [
    {
     "name": "stdout",
     "output_type": "stream",
     "text": [
      "Iteration: 1 / 100\n",
      "Iteration: 2 / 100\n",
      "Iteration: 3 / 100\n",
      "Iteration: 4 / 100\n",
      "Iteration: 5 / 100\n",
      "Iteration: 6 / 100\n",
      "Iteration: 7 / 100\n",
      "Iteration: 8 / 100\n",
      "Iteration: 9 / 100\n",
      "Iteration: 10 / 100\n",
      "Iteration: 11 / 100\n",
      "Iteration: 12 / 100\n",
      "Iteration: 13 / 100\n",
      "Iteration: 14 / 100\n",
      "Iteration: 15 / 100\n",
      "Iteration: 16 / 100\n",
      "Iteration: 17 / 100\n",
      "Iteration: 18 / 100\n",
      "Iteration: 19 / 100\n",
      "Iteration: 20 / 100\n",
      "Iteration: 21 / 100\n",
      "Iteration: 22 / 100\n",
      "Iteration: 23 / 100\n",
      "Iteration: 24 / 100\n",
      "Iteration: 25 / 100\n",
      "Iteration: 26 / 100\n",
      "Iteration: 27 / 100\n",
      "Iteration: 28 / 100\n",
      "Iteration: 29 / 100\n",
      "Iteration: 30 / 100\n",
      "Iteration: 31 / 100\n",
      "Iteration: 32 / 100\n",
      "Iteration: 33 / 100\n",
      "Iteration: 34 / 100\n",
      "Iteration: 35 / 100\n",
      "Iteration: 36 / 100\n",
      "Iteration: 37 / 100\n",
      "Iteration: 38 / 100\n",
      "Iteration: 39 / 100\n",
      "Iteration: 40 / 100\n",
      "Iteration: 41 / 100\n",
      "Iteration: 42 / 100\n",
      "Iteration: 43 / 100\n",
      "Iteration: 44 / 100\n",
      "Iteration: 45 / 100\n",
      "Iteration: 46 / 100\n",
      "\n",
      "\n",
      "BorutaPy finished running.\n",
      "\n",
      "Iteration: \t47 / 100\n",
      "Confirmed: \t2\n",
      "Tentative: \t0\n",
      "Rejected: \t106973\n"
     ]
    },
    {
     "data": {
      "text/plain": [
       "BorutaPy(estimator=RandomForestClassifier(n_estimators=20,\n",
       "                                          random_state=RandomState(MT19937) at 0x17A47D8D040),\n",
       "         n_estimators='auto',\n",
       "         random_state=RandomState(MT19937) at 0x17A47D8D040, verbose=1)"
      ]
     },
     "execution_count": 28,
     "metadata": {},
     "output_type": "execute_result"
    }
   ],
   "source": [
    "rfc = RandomForestClassifier(random_state=1)\n",
    "boruta_selector = BorutaPy(rfc, n_estimators= 'auto', verbose=1, random_state=1)\n",
    "boruta_selector.fit(np.array(X_train), np.array(y_train))  "
   ]
  },
  {
   "cell_type": "code",
   "execution_count": 29,
   "id": "a872a584",
   "metadata": {
    "ExecuteTime": {
     "end_time": "2023-02-20T12:27:43.680078Z",
     "start_time": "2023-02-20T12:27:43.661997Z"
    }
   },
   "outputs": [
    {
     "name": "stdout",
     "output_type": "stream",
     "text": [
      "No. of significant features:  2\n"
     ]
    }
   ],
   "source": [
    "# print(\"Ranking: \",boruta_selector.ranking_)          \n",
    "print(\"No. of significant features: \", boruta_selector.n_features_)"
   ]
  },
  {
   "cell_type": "code",
   "execution_count": 30,
   "id": "f420e8b3",
   "metadata": {
    "ExecuteTime": {
     "end_time": "2023-02-20T12:27:52.026495Z",
     "start_time": "2023-02-20T12:27:51.825346Z"
    }
   },
   "outputs": [],
   "source": [
    "selected_rf_features = pd.DataFrame({'CpG':list(X_train.columns),\n",
    "                                       'Ranking':boruta_selector.ranking_})\n",
    "selected_rf_features = selected_rf_features.sort_values(by='Ranking')"
   ]
  },
  {
   "cell_type": "code",
   "execution_count": 31,
   "id": "243fcad7",
   "metadata": {
    "ExecuteTime": {
     "end_time": "2023-02-20T12:28:00.310519Z",
     "start_time": "2023-02-20T12:28:00.212020Z"
    }
   },
   "outputs": [
    {
     "data": {
      "text/html": [
       "<div>\n",
       "<style scoped>\n",
       "    .dataframe tbody tr th:only-of-type {\n",
       "        vertical-align: middle;\n",
       "    }\n",
       "\n",
       "    .dataframe tbody tr th {\n",
       "        vertical-align: top;\n",
       "    }\n",
       "\n",
       "    .dataframe thead th {\n",
       "        text-align: right;\n",
       "    }\n",
       "</style>\n",
       "<table border=\"1\" class=\"dataframe\">\n",
       "  <thead>\n",
       "    <tr style=\"text-align: right;\">\n",
       "      <th></th>\n",
       "      <th>CpG</th>\n",
       "      <th>Ranking</th>\n",
       "    </tr>\n",
       "  </thead>\n",
       "  <tbody>\n",
       "    <tr>\n",
       "      <th>25511</th>\n",
       "      <td>cg21092373</td>\n",
       "      <td>1</td>\n",
       "    </tr>\n",
       "    <tr>\n",
       "      <th>105610</th>\n",
       "      <td>cg11485463</td>\n",
       "      <td>1</td>\n",
       "    </tr>\n",
       "    <tr>\n",
       "      <th>56467</th>\n",
       "      <td>cg24094897</td>\n",
       "      <td>2</td>\n",
       "    </tr>\n",
       "  </tbody>\n",
       "</table>\n",
       "</div>"
      ],
      "text/plain": [
       "               CpG  Ranking\n",
       "25511   cg21092373        1\n",
       "105610  cg11485463        1\n",
       "56467   cg24094897        2"
      ]
     },
     "execution_count": 31,
     "metadata": {},
     "output_type": "execute_result"
    }
   ],
   "source": [
    "Top50 = selected_rf_features.iloc[:51, :]\n",
    "Top50.head(3)"
   ]
  },
  {
   "cell_type": "code",
   "execution_count": 32,
   "id": "d86ac67f",
   "metadata": {
    "ExecuteTime": {
     "end_time": "2023-02-20T12:28:09.631680Z",
     "start_time": "2023-02-20T12:28:08.828729Z"
    }
   },
   "outputs": [],
   "source": [
    "Top50.to_csv ('Depression_Boruta_Top50.csv', index = False)\n",
    "selected_rf_features.to_csv ('Depression_Boruta_All.csv', index = False)"
   ]
  },
  {
   "cell_type": "code",
   "execution_count": 33,
   "id": "9984ac71",
   "metadata": {
    "ExecuteTime": {
     "end_time": "2023-02-20T12:28:18.026888Z",
     "start_time": "2023-02-20T12:28:17.747174Z"
    }
   },
   "outputs": [
    {
     "name": "stderr",
     "output_type": "stream",
     "text": [
      "C:\\Users\\system 4\\AppData\\Local\\Temp\\ipykernel_3576\\842568119.py:6: SettingWithCopyWarning: \n",
      "A value is trying to be set on a copy of a slice from a DataFrame.\n",
      "Try using .loc[row_indexer,col_indexer] = value instead\n",
      "\n",
      "See the caveats in the documentation: https://pandas.pydata.org/pandas-docs/stable/user_guide/indexing.html#returning-a-view-versus-a-copy\n",
      "  df_subset['APPRDX'] = data['APPRDX']\n"
     ]
    },
    {
     "data": {
      "text/html": [
       "<div>\n",
       "<style scoped>\n",
       "    .dataframe tbody tr th:only-of-type {\n",
       "        vertical-align: middle;\n",
       "    }\n",
       "\n",
       "    .dataframe tbody tr th {\n",
       "        vertical-align: top;\n",
       "    }\n",
       "\n",
       "    .dataframe thead th {\n",
       "        text-align: right;\n",
       "    }\n",
       "</style>\n",
       "<table border=\"1\" class=\"dataframe\">\n",
       "  <thead>\n",
       "    <tr style=\"text-align: right;\">\n",
       "      <th></th>\n",
       "      <th>cg18780217</th>\n",
       "      <th>cg21747188</th>\n",
       "      <th>cg04841205</th>\n",
       "      <th>cg00052836</th>\n",
       "      <th>cg07456278</th>\n",
       "      <th>cg12510028</th>\n",
       "      <th>cg19690051</th>\n",
       "      <th>cg21062891</th>\n",
       "      <th>cg21096050</th>\n",
       "      <th>cg12298429</th>\n",
       "      <th>...</th>\n",
       "      <th>cg12220605</th>\n",
       "      <th>cg12683454</th>\n",
       "      <th>cg13976366</th>\n",
       "      <th>cg25911279</th>\n",
       "      <th>cg19371224</th>\n",
       "      <th>cg12600134</th>\n",
       "      <th>cg11485463</th>\n",
       "      <th>cg23026864</th>\n",
       "      <th>cg19928377.1</th>\n",
       "      <th>APPRDX</th>\n",
       "    </tr>\n",
       "  </thead>\n",
       "  <tbody>\n",
       "    <tr>\n",
       "      <th>0</th>\n",
       "      <td>0.038530</td>\n",
       "      <td>0.064156</td>\n",
       "      <td>0.729990</td>\n",
       "      <td>0.872534</td>\n",
       "      <td>0.582067</td>\n",
       "      <td>0.029810</td>\n",
       "      <td>0.104141</td>\n",
       "      <td>0.887982</td>\n",
       "      <td>0.893820</td>\n",
       "      <td>0.032801</td>\n",
       "      <td>...</td>\n",
       "      <td>0.082447</td>\n",
       "      <td>0.023826</td>\n",
       "      <td>0.031021</td>\n",
       "      <td>0.031463</td>\n",
       "      <td>0.751572</td>\n",
       "      <td>0.025254</td>\n",
       "      <td>0.011261</td>\n",
       "      <td>0.074048</td>\n",
       "      <td>0.649511</td>\n",
       "      <td>1</td>\n",
       "    </tr>\n",
       "    <tr>\n",
       "      <th>1</th>\n",
       "      <td>0.022502</td>\n",
       "      <td>0.056883</td>\n",
       "      <td>0.790912</td>\n",
       "      <td>0.916062</td>\n",
       "      <td>0.667340</td>\n",
       "      <td>0.035511</td>\n",
       "      <td>0.045867</td>\n",
       "      <td>0.923072</td>\n",
       "      <td>0.884377</td>\n",
       "      <td>0.042715</td>\n",
       "      <td>...</td>\n",
       "      <td>0.113486</td>\n",
       "      <td>0.028970</td>\n",
       "      <td>0.019411</td>\n",
       "      <td>0.020530</td>\n",
       "      <td>0.855625</td>\n",
       "      <td>0.017894</td>\n",
       "      <td>0.013494</td>\n",
       "      <td>0.091529</td>\n",
       "      <td>0.686080</td>\n",
       "      <td>1</td>\n",
       "    </tr>\n",
       "  </tbody>\n",
       "</table>\n",
       "<p>2 rows × 52 columns</p>\n",
       "</div>"
      ],
      "text/plain": [
       "   cg18780217  cg21747188  cg04841205  cg00052836  cg07456278  cg12510028  \\\n",
       "0    0.038530    0.064156    0.729990    0.872534    0.582067    0.029810   \n",
       "1    0.022502    0.056883    0.790912    0.916062    0.667340    0.035511   \n",
       "\n",
       "   cg19690051  cg21062891  cg21096050  cg12298429  ...  cg12220605  \\\n",
       "0    0.104141    0.887982    0.893820    0.032801  ...    0.082447   \n",
       "1    0.045867    0.923072    0.884377    0.042715  ...    0.113486   \n",
       "\n",
       "   cg12683454  cg13976366  cg25911279  cg19371224  cg12600134  cg11485463  \\\n",
       "0    0.023826    0.031021    0.031463    0.751572    0.025254    0.011261   \n",
       "1    0.028970    0.019411    0.020530    0.855625    0.017894    0.013494   \n",
       "\n",
       "   cg23026864  cg19928377.1  APPRDX  \n",
       "0    0.074048      0.649511       1  \n",
       "1    0.091529      0.686080       1  \n",
       "\n",
       "[2 rows x 52 columns]"
      ]
     },
     "execution_count": 33,
     "metadata": {},
     "output_type": "execute_result"
    }
   ],
   "source": [
    "# create a list of column names to subset from data\n",
    "col_names = Top50.iloc[:, 0].tolist()\n",
    "\n",
    "# subset df based on the column names\n",
    "df_subset = data.loc[:, data.columns.isin(col_names)]\n",
    "df_subset['APPRDX'] = data['APPRDX']\n",
    "df_subset.to_csv ('Depression_Boruta_Top50_Data.csv', index = False)\n",
    "df_subset.head(2)"
   ]
  },
  {
   "cell_type": "markdown",
   "id": "f80c99fa",
   "metadata": {},
   "source": [
    "# Fatigue"
   ]
  },
  {
   "cell_type": "code",
   "execution_count": 34,
   "id": "8e9c0f6a",
   "metadata": {
    "ExecuteTime": {
     "end_time": "2023-02-20T12:28:39.779818Z",
     "start_time": "2023-02-20T12:28:29.369185Z"
    }
   },
   "outputs": [
    {
     "name": "stdout",
     "output_type": "stream",
     "text": [
      "Z:\\PPMI_Data\\Excels\\NonMotors\\Derived250\\GeneCpG\\Fatigue\n"
     ]
    },
    {
     "data": {
      "text/html": [
       "<div>\n",
       "<style scoped>\n",
       "    .dataframe tbody tr th:only-of-type {\n",
       "        vertical-align: middle;\n",
       "    }\n",
       "\n",
       "    .dataframe tbody tr th {\n",
       "        vertical-align: top;\n",
       "    }\n",
       "\n",
       "    .dataframe thead th {\n",
       "        text-align: right;\n",
       "    }\n",
       "</style>\n",
       "<table border=\"1\" class=\"dataframe\">\n",
       "  <thead>\n",
       "    <tr style=\"text-align: right;\">\n",
       "      <th></th>\n",
       "      <th>Sentrix</th>\n",
       "      <th>PATNO</th>\n",
       "      <th>HYS</th>\n",
       "      <th>Gender</th>\n",
       "      <th>APPRDX</th>\n",
       "      <th>MDSP_Fatigue</th>\n",
       "      <th>cg17960051</th>\n",
       "      <th>cg06562372</th>\n",
       "      <th>cg04099454</th>\n",
       "      <th>cg18542829</th>\n",
       "      <th>...</th>\n",
       "      <th>cg15500865</th>\n",
       "      <th>cg10329418</th>\n",
       "      <th>cg18241308</th>\n",
       "      <th>cg04350520</th>\n",
       "      <th>cg04685170</th>\n",
       "      <th>cg20985067</th>\n",
       "      <th>cg08461772</th>\n",
       "      <th>cg25879118</th>\n",
       "      <th>cg07510163</th>\n",
       "      <th>ch.13.693633F</th>\n",
       "    </tr>\n",
       "  </thead>\n",
       "  <tbody>\n",
       "    <tr>\n",
       "      <th>0</th>\n",
       "      <td>200991620021_R01C01</td>\n",
       "      <td>3001</td>\n",
       "      <td>2</td>\n",
       "      <td>1</td>\n",
       "      <td>1</td>\n",
       "      <td>1</td>\n",
       "      <td>0.019716</td>\n",
       "      <td>0.024434</td>\n",
       "      <td>0.895146</td>\n",
       "      <td>0.024184</td>\n",
       "      <td>...</td>\n",
       "      <td>0.105174</td>\n",
       "      <td>0.262518</td>\n",
       "      <td>0.784256</td>\n",
       "      <td>0.886425</td>\n",
       "      <td>0.080717</td>\n",
       "      <td>0.814912</td>\n",
       "      <td>0.331552</td>\n",
       "      <td>0.916387</td>\n",
       "      <td>0.841837</td>\n",
       "      <td>0.036872</td>\n",
       "    </tr>\n",
       "  </tbody>\n",
       "</table>\n",
       "<p>1 rows × 31217 columns</p>\n",
       "</div>"
      ],
      "text/plain": [
       "               Sentrix  PATNO  HYS  Gender  APPRDX  MDSP_Fatigue  cg17960051  \\\n",
       "0  200991620021_R01C01   3001    2       1       1             1    0.019716   \n",
       "\n",
       "   cg06562372  cg04099454  cg18542829  ...  cg15500865  cg10329418  \\\n",
       "0    0.024434    0.895146    0.024184  ...    0.105174    0.262518   \n",
       "\n",
       "   cg18241308  cg04350520  cg04685170  cg20985067  cg08461772  cg25879118  \\\n",
       "0    0.784256    0.886425    0.080717    0.814912    0.331552    0.916387   \n",
       "\n",
       "   cg07510163  ch.13.693633F  \n",
       "0    0.841837       0.036872  \n",
       "\n",
       "[1 rows x 31217 columns]"
      ]
     },
     "execution_count": 34,
     "metadata": {},
     "output_type": "execute_result"
    }
   ],
   "source": [
    "%cd Z:\\PPMI_Data\\Excels\\NonMotors\\Derived250\\GeneCpG\\Fatigue\n",
    "data = pd.read_csv('FatigueCateg_Methylome_APPRDXFilter.csv')\n",
    "data.head(1)"
   ]
  },
  {
   "cell_type": "code",
   "execution_count": 35,
   "id": "1f678287",
   "metadata": {
    "ExecuteTime": {
     "end_time": "2023-02-20T12:28:47.617133Z",
     "start_time": "2023-02-20T12:28:47.035788Z"
    }
   },
   "outputs": [
    {
     "name": "stdout",
     "output_type": "stream",
     "text": [
      "   cg17960051  cg06562372  cg04099454  cg18542829  cg04599912  cg15759056  \\\n",
      "0    0.019716    0.024434    0.895146    0.024184    0.014927    0.012150   \n",
      "1    0.020417    0.016055    0.882493    0.045616    0.021537    0.013626   \n",
      "\n",
      "   cg16703576  cg00031165  cg26835636  cg15446670  ...  cg15500865  \\\n",
      "0    0.026345    0.078477    0.016245    0.062766  ...    0.105174   \n",
      "1    0.032826    0.033160    0.018156    0.093692  ...    0.066103   \n",
      "\n",
      "   cg10329418  cg18241308  cg04350520  cg04685170  cg20985067  cg08461772  \\\n",
      "0    0.262518    0.784256    0.886425    0.080717    0.814912    0.331552   \n",
      "1    0.210723    0.905081    0.882225    0.082907    0.906400    0.497660   \n",
      "\n",
      "   cg25879118  cg07510163  ch.13.693633F  \n",
      "0    0.916387    0.841837       0.036872  \n",
      "1    0.915460    0.822889       0.039866  \n",
      "\n",
      "[2 rows x 31211 columns]\n"
     ]
    }
   ],
   "source": [
    "X = data.drop(['Sentrix','PATNO','HYS','Gender','MDSP_Fatigue','APPRDX'], axis = 1)\n",
    "y = data['APPRDX']\n",
    "X_train, X_test, y_train, y_test = train_test_split(X, y, test_size = .2, random_state = 1) \n",
    "print(X.head(2))"
   ]
  },
  {
   "cell_type": "code",
   "execution_count": 36,
   "id": "aaae2559",
   "metadata": {
    "ExecuteTime": {
     "end_time": "2023-02-20T12:28:57.505363Z",
     "start_time": "2023-02-20T12:28:54.332692Z"
    }
   },
   "outputs": [
    {
     "data": {
      "text/plain": [
       "RandomForestClassifier(random_state=1)"
      ]
     },
     "execution_count": 36,
     "metadata": {},
     "output_type": "execute_result"
    }
   ],
   "source": [
    "rf_all_features = RandomForestClassifier(random_state=1)\n",
    "rf_all_features.fit(X_train, y_train)"
   ]
  },
  {
   "cell_type": "code",
   "execution_count": 37,
   "id": "3229a68b",
   "metadata": {
    "ExecuteTime": {
     "end_time": "2023-02-20T12:29:00.220564Z",
     "start_time": "2023-02-20T12:29:00.021473Z"
    }
   },
   "outputs": [
    {
     "data": {
      "text/plain": [
       "0.7065217391304348"
      ]
     },
     "execution_count": 37,
     "metadata": {},
     "output_type": "execute_result"
    }
   ],
   "source": [
    "accuracy_score(y_test, rf_all_features.predict(X_test))"
   ]
  },
  {
   "cell_type": "code",
   "execution_count": 38,
   "id": "5fa60f1d",
   "metadata": {
    "ExecuteTime": {
     "end_time": "2023-02-20T12:43:12.565267Z",
     "start_time": "2023-02-20T12:29:02.716825Z"
    }
   },
   "outputs": [
    {
     "name": "stdout",
     "output_type": "stream",
     "text": [
      "Iteration: 1 / 100\n",
      "Iteration: 2 / 100\n",
      "Iteration: 3 / 100\n",
      "Iteration: 4 / 100\n",
      "Iteration: 5 / 100\n",
      "Iteration: 6 / 100\n",
      "Iteration: 7 / 100\n",
      "Iteration: 8 / 100\n",
      "\n",
      "\n",
      "BorutaPy finished running.\n",
      "\n",
      "Iteration: \t9 / 100\n",
      "Confirmed: \t0\n",
      "Tentative: \t0\n",
      "Rejected: \t31211\n"
     ]
    },
    {
     "data": {
      "text/plain": [
       "BorutaPy(estimator=RandomForestClassifier(n_estimators=2498,\n",
       "                                          random_state=RandomState(MT19937) at 0x17A47D8D140),\n",
       "         n_estimators='auto',\n",
       "         random_state=RandomState(MT19937) at 0x17A47D8D140, verbose=1)"
      ]
     },
     "execution_count": 38,
     "metadata": {},
     "output_type": "execute_result"
    }
   ],
   "source": [
    "rfc = RandomForestClassifier(random_state=1)\n",
    "boruta_selector = BorutaPy(rfc, n_estimators= 'auto', verbose=1, random_state=1)\n",
    "boruta_selector.fit(np.array(X_train), np.array(y_train))  "
   ]
  },
  {
   "cell_type": "code",
   "execution_count": 39,
   "id": "1798e184",
   "metadata": {
    "ExecuteTime": {
     "end_time": "2023-02-20T12:43:15.080773Z",
     "start_time": "2023-02-20T12:43:15.062711Z"
    }
   },
   "outputs": [
    {
     "name": "stdout",
     "output_type": "stream",
     "text": [
      "No. of significant features:  0\n"
     ]
    }
   ],
   "source": [
    "# print(\"Ranking: \",boruta_selector.ranking_)          \n",
    "print(\"No. of significant features: \", boruta_selector.n_features_)"
   ]
  },
  {
   "cell_type": "code",
   "execution_count": 40,
   "id": "7adc0160",
   "metadata": {
    "ExecuteTime": {
     "end_time": "2023-02-20T12:43:17.533841Z",
     "start_time": "2023-02-20T12:43:17.515725Z"
    }
   },
   "outputs": [],
   "source": [
    "selected_rf_features = pd.DataFrame({'CpG':list(X_train.columns),\n",
    "                                       'Ranking':boruta_selector.ranking_})\n",
    "selected_rf_features = selected_rf_features.sort_values(by='Ranking')"
   ]
  },
  {
   "cell_type": "code",
   "execution_count": 41,
   "id": "66a76e09",
   "metadata": {
    "ExecuteTime": {
     "end_time": "2023-02-20T12:43:20.267520Z",
     "start_time": "2023-02-20T12:43:20.249419Z"
    }
   },
   "outputs": [
    {
     "data": {
      "text/html": [
       "<div>\n",
       "<style scoped>\n",
       "    .dataframe tbody tr th:only-of-type {\n",
       "        vertical-align: middle;\n",
       "    }\n",
       "\n",
       "    .dataframe tbody tr th {\n",
       "        vertical-align: top;\n",
       "    }\n",
       "\n",
       "    .dataframe thead th {\n",
       "        text-align: right;\n",
       "    }\n",
       "</style>\n",
       "<table border=\"1\" class=\"dataframe\">\n",
       "  <thead>\n",
       "    <tr style=\"text-align: right;\">\n",
       "      <th></th>\n",
       "      <th>CpG</th>\n",
       "      <th>Ranking</th>\n",
       "    </tr>\n",
       "  </thead>\n",
       "  <tbody>\n",
       "    <tr>\n",
       "      <th>10169</th>\n",
       "      <td>cg23668004</td>\n",
       "      <td>2</td>\n",
       "    </tr>\n",
       "    <tr>\n",
       "      <th>14758</th>\n",
       "      <td>cg09197492</td>\n",
       "      <td>3</td>\n",
       "    </tr>\n",
       "    <tr>\n",
       "      <th>21009</th>\n",
       "      <td>cg11036438</td>\n",
       "      <td>4</td>\n",
       "    </tr>\n",
       "  </tbody>\n",
       "</table>\n",
       "</div>"
      ],
      "text/plain": [
       "              CpG  Ranking\n",
       "10169  cg23668004        2\n",
       "14758  cg09197492        3\n",
       "21009  cg11036438        4"
      ]
     },
     "execution_count": 41,
     "metadata": {},
     "output_type": "execute_result"
    }
   ],
   "source": [
    "Top50 = selected_rf_features.iloc[:51, :]\n",
    "Top50.head(3)"
   ]
  },
  {
   "cell_type": "code",
   "execution_count": 42,
   "id": "041f6160",
   "metadata": {
    "ExecuteTime": {
     "end_time": "2023-02-20T12:43:22.820027Z",
     "start_time": "2023-02-20T12:43:22.701410Z"
    }
   },
   "outputs": [],
   "source": [
    "Top50.to_csv ('Fatigue_Boruta_Top50.csv', index = False)\n",
    "selected_rf_features.to_csv ('Fatigue_Boruta_All.csv', index = False)"
   ]
  },
  {
   "cell_type": "code",
   "execution_count": 43,
   "id": "c395e9d4",
   "metadata": {
    "ExecuteTime": {
     "end_time": "2023-02-20T12:43:25.293317Z",
     "start_time": "2023-02-20T12:43:25.235025Z"
    }
   },
   "outputs": [
    {
     "name": "stderr",
     "output_type": "stream",
     "text": [
      "C:\\Users\\system 4\\AppData\\Local\\Temp\\ipykernel_3576\\2639640420.py:6: SettingWithCopyWarning: \n",
      "A value is trying to be set on a copy of a slice from a DataFrame.\n",
      "Try using .loc[row_indexer,col_indexer] = value instead\n",
      "\n",
      "See the caveats in the documentation: https://pandas.pydata.org/pandas-docs/stable/user_guide/indexing.html#returning-a-view-versus-a-copy\n",
      "  df_subset['APPRDX'] = data['APPRDX']\n"
     ]
    },
    {
     "data": {
      "text/html": [
       "<div>\n",
       "<style scoped>\n",
       "    .dataframe tbody tr th:only-of-type {\n",
       "        vertical-align: middle;\n",
       "    }\n",
       "\n",
       "    .dataframe tbody tr th {\n",
       "        vertical-align: top;\n",
       "    }\n",
       "\n",
       "    .dataframe thead th {\n",
       "        text-align: right;\n",
       "    }\n",
       "</style>\n",
       "<table border=\"1\" class=\"dataframe\">\n",
       "  <thead>\n",
       "    <tr style=\"text-align: right;\">\n",
       "      <th></th>\n",
       "      <th>cg06751221</th>\n",
       "      <th>cg03476938</th>\n",
       "      <th>cg23655939</th>\n",
       "      <th>cg21043558</th>\n",
       "      <th>cg19226007</th>\n",
       "      <th>cg18473117</th>\n",
       "      <th>cg12510028</th>\n",
       "      <th>cg27133496</th>\n",
       "      <th>cg17422176</th>\n",
       "      <th>cg01020980</th>\n",
       "      <th>...</th>\n",
       "      <th>cg09233704</th>\n",
       "      <th>cg22749855</th>\n",
       "      <th>cg05142211</th>\n",
       "      <th>cg00883689</th>\n",
       "      <th>cg12220605</th>\n",
       "      <th>cg12683454</th>\n",
       "      <th>cg16494828</th>\n",
       "      <th>cg00651709</th>\n",
       "      <th>cg15267345</th>\n",
       "      <th>APPRDX</th>\n",
       "    </tr>\n",
       "  </thead>\n",
       "  <tbody>\n",
       "    <tr>\n",
       "      <th>0</th>\n",
       "      <td>0.057391</td>\n",
       "      <td>0.549004</td>\n",
       "      <td>0.515701</td>\n",
       "      <td>0.667449</td>\n",
       "      <td>0.040020</td>\n",
       "      <td>0.938774</td>\n",
       "      <td>0.029810</td>\n",
       "      <td>0.510178</td>\n",
       "      <td>0.117596</td>\n",
       "      <td>0.011566</td>\n",
       "      <td>...</td>\n",
       "      <td>0.620103</td>\n",
       "      <td>0.843622</td>\n",
       "      <td>0.035018</td>\n",
       "      <td>0.525123</td>\n",
       "      <td>0.082447</td>\n",
       "      <td>0.023826</td>\n",
       "      <td>0.012698</td>\n",
       "      <td>0.899361</td>\n",
       "      <td>0.029328</td>\n",
       "      <td>1</td>\n",
       "    </tr>\n",
       "    <tr>\n",
       "      <th>1</th>\n",
       "      <td>0.083624</td>\n",
       "      <td>0.561954</td>\n",
       "      <td>0.523438</td>\n",
       "      <td>0.659961</td>\n",
       "      <td>0.017811</td>\n",
       "      <td>0.928175</td>\n",
       "      <td>0.035511</td>\n",
       "      <td>0.653650</td>\n",
       "      <td>0.147173</td>\n",
       "      <td>0.011167</td>\n",
       "      <td>...</td>\n",
       "      <td>0.682452</td>\n",
       "      <td>0.816596</td>\n",
       "      <td>0.041906</td>\n",
       "      <td>0.578082</td>\n",
       "      <td>0.113486</td>\n",
       "      <td>0.028970</td>\n",
       "      <td>0.012574</td>\n",
       "      <td>0.897422</td>\n",
       "      <td>0.026110</td>\n",
       "      <td>1</td>\n",
       "    </tr>\n",
       "  </tbody>\n",
       "</table>\n",
       "<p>2 rows × 52 columns</p>\n",
       "</div>"
      ],
      "text/plain": [
       "   cg06751221  cg03476938  cg23655939  cg21043558  cg19226007  cg18473117  \\\n",
       "0    0.057391    0.549004    0.515701    0.667449    0.040020    0.938774   \n",
       "1    0.083624    0.561954    0.523438    0.659961    0.017811    0.928175   \n",
       "\n",
       "   cg12510028  cg27133496  cg17422176  cg01020980  ...  cg09233704  \\\n",
       "0    0.029810    0.510178    0.117596    0.011566  ...    0.620103   \n",
       "1    0.035511    0.653650    0.147173    0.011167  ...    0.682452   \n",
       "\n",
       "   cg22749855  cg05142211  cg00883689  cg12220605  cg12683454  cg16494828  \\\n",
       "0    0.843622    0.035018    0.525123    0.082447    0.023826    0.012698   \n",
       "1    0.816596    0.041906    0.578082    0.113486    0.028970    0.012574   \n",
       "\n",
       "   cg00651709  cg15267345  APPRDX  \n",
       "0    0.899361    0.029328       1  \n",
       "1    0.897422    0.026110       1  \n",
       "\n",
       "[2 rows x 52 columns]"
      ]
     },
     "execution_count": 43,
     "metadata": {},
     "output_type": "execute_result"
    }
   ],
   "source": [
    "# create a list of column names to subset from data\n",
    "col_names = Top50.iloc[:, 0].tolist()\n",
    "\n",
    "# subset df based on the column names\n",
    "df_subset = data.loc[:, data.columns.isin(col_names)]\n",
    "df_subset['APPRDX'] = data['APPRDX']\n",
    "df_subset.to_csv ('Fatigue_Boruta_Top50_Data.csv', index = False)\n",
    "df_subset.head(2)"
   ]
  },
  {
   "cell_type": "markdown",
   "id": "fb011dce",
   "metadata": {},
   "source": [
    "# SymbolDigit  "
   ]
  },
  {
   "cell_type": "code",
   "execution_count": 70,
   "id": "77e71903",
   "metadata": {
    "ExecuteTime": {
     "end_time": "2023-02-21T03:26:05.229367Z",
     "start_time": "2023-02-21T03:20:39.213957Z"
    }
   },
   "outputs": [
    {
     "name": "stdout",
     "output_type": "stream",
     "text": [
      "Z:\\PPMI_Data\\Excels\\NonMotors\\Derived250\\GeneCpG\\SymbolDigit\n"
     ]
    },
    {
     "data": {
      "text/html": [
       "<div>\n",
       "<style scoped>\n",
       "    .dataframe tbody tr th:only-of-type {\n",
       "        vertical-align: middle;\n",
       "    }\n",
       "\n",
       "    .dataframe tbody tr th {\n",
       "        vertical-align: top;\n",
       "    }\n",
       "\n",
       "    .dataframe thead th {\n",
       "        text-align: right;\n",
       "    }\n",
       "</style>\n",
       "<table border=\"1\" class=\"dataframe\">\n",
       "  <thead>\n",
       "    <tr style=\"text-align: right;\">\n",
       "      <th></th>\n",
       "      <th>Sentrix</th>\n",
       "      <th>PATNO</th>\n",
       "      <th>HYS</th>\n",
       "      <th>Gender</th>\n",
       "      <th>APPRDX</th>\n",
       "      <th>Symbol_Digit</th>\n",
       "      <th>cg20815302</th>\n",
       "      <th>cg25795414</th>\n",
       "      <th>cg00959375</th>\n",
       "      <th>cg07781847</th>\n",
       "      <th>...</th>\n",
       "      <th>cg03814399</th>\n",
       "      <th>cg14792798</th>\n",
       "      <th>cg16910097</th>\n",
       "      <th>cg08750857</th>\n",
       "      <th>cg17933893</th>\n",
       "      <th>cg06917935</th>\n",
       "      <th>cg02794319</th>\n",
       "      <th>cg10702286</th>\n",
       "      <th>cg10353174</th>\n",
       "      <th>cg19590050</th>\n",
       "    </tr>\n",
       "  </thead>\n",
       "  <tbody>\n",
       "    <tr>\n",
       "      <th>0</th>\n",
       "      <td>200991620021_R01C01</td>\n",
       "      <td>3001</td>\n",
       "      <td>2</td>\n",
       "      <td>1</td>\n",
       "      <td>1</td>\n",
       "      <td>1</td>\n",
       "      <td>0.907957</td>\n",
       "      <td>0.86891</td>\n",
       "      <td>0.752844</td>\n",
       "      <td>0.827413</td>\n",
       "      <td>...</td>\n",
       "      <td>0.880496</td>\n",
       "      <td>0.928546</td>\n",
       "      <td>0.900567</td>\n",
       "      <td>0.8778</td>\n",
       "      <td>0.836823</td>\n",
       "      <td>0.216268</td>\n",
       "      <td>0.23435</td>\n",
       "      <td>0.68155</td>\n",
       "      <td>0.103758</td>\n",
       "      <td>0.83789</td>\n",
       "    </tr>\n",
       "  </tbody>\n",
       "</table>\n",
       "<p>1 rows × 192588 columns</p>\n",
       "</div>"
      ],
      "text/plain": [
       "               Sentrix  PATNO  HYS  Gender  APPRDX  Symbol_Digit  cg20815302  \\\n",
       "0  200991620021_R01C01   3001    2       1       1             1    0.907957   \n",
       "\n",
       "   cg25795414  cg00959375  cg07781847  ...  cg03814399  cg14792798  \\\n",
       "0     0.86891    0.752844    0.827413  ...    0.880496    0.928546   \n",
       "\n",
       "   cg16910097  cg08750857  cg17933893  cg06917935  cg02794319  cg10702286  \\\n",
       "0    0.900567      0.8778    0.836823    0.216268     0.23435     0.68155   \n",
       "\n",
       "   cg10353174  cg19590050  \n",
       "0    0.103758     0.83789  \n",
       "\n",
       "[1 rows x 192588 columns]"
      ]
     },
     "execution_count": 70,
     "metadata": {},
     "output_type": "execute_result"
    }
   ],
   "source": [
    "%cd Z:\\PPMI_Data\\Excels\\NonMotors\\Derived250\\GeneCpG\\SymbolDigit\n",
    "data = pd.read_csv('SymbDigiCateg_Methylome_APPRDXFilter.csv')\n",
    "data.head(1)"
   ]
  },
  {
   "cell_type": "code",
   "execution_count": 71,
   "id": "86f41eed",
   "metadata": {
    "ExecuteTime": {
     "end_time": "2023-02-21T03:26:25.960644Z",
     "start_time": "2023-02-21T03:26:25.229350Z"
    }
   },
   "outputs": [
    {
     "name": "stdout",
     "output_type": "stream",
     "text": [
      "   cg20815302  cg25795414  cg00959375  cg07781847  cg05138383  cg27394794  \\\n",
      "0    0.907957    0.868910    0.752844    0.827413    0.771393    0.766283   \n",
      "1    0.918626    0.865257    0.798170    0.823846    0.760193    0.801117   \n",
      "\n",
      "   cg12443990  cg19788329  cg22178513  cg04167299  ...  cg03814399  \\\n",
      "0    0.791932    0.785104    0.723989    0.861925  ...    0.880496   \n",
      "1    0.772456    0.742722    0.580721    0.898379  ...    0.877306   \n",
      "\n",
      "   cg14792798  cg16910097  cg08750857  cg17933893  cg06917935  cg02794319  \\\n",
      "0    0.928546    0.900567    0.877800    0.836823    0.216268    0.234350   \n",
      "1    0.912956    0.935591    0.942104    0.750613    0.254265    0.290337   \n",
      "\n",
      "   cg10702286  cg10353174  cg19590050  \n",
      "0    0.681550    0.103758    0.837890  \n",
      "1    0.760554    0.075480    0.833824  \n",
      "\n",
      "[2 rows x 192582 columns]\n"
     ]
    }
   ],
   "source": [
    "X = data.drop(['Sentrix','PATNO','HYS','Gender','Symbol_Digit','APPRDX'], axis = 1)\n",
    "y = data['APPRDX']\n",
    "X_train, X_test, y_train, y_test = train_test_split(X, y, test_size = .2, random_state = 1) \n",
    "print(X.head(2))"
   ]
  },
  {
   "cell_type": "code",
   "execution_count": 72,
   "id": "761263f7",
   "metadata": {
    "ExecuteTime": {
     "end_time": "2023-02-21T03:27:04.385782Z",
     "start_time": "2023-02-21T03:26:56.385944Z"
    }
   },
   "outputs": [
    {
     "data": {
      "text/plain": [
       "RandomForestClassifier(random_state=1)"
      ]
     },
     "execution_count": 72,
     "metadata": {},
     "output_type": "execute_result"
    }
   ],
   "source": [
    "rf_all_features = RandomForestClassifier(random_state=1)\n",
    "rf_all_features.fit(X_train, y_train)"
   ]
  },
  {
   "cell_type": "code",
   "execution_count": 73,
   "id": "78f9d666",
   "metadata": {
    "ExecuteTime": {
     "end_time": "2023-02-21T03:27:25.713579Z",
     "start_time": "2023-02-21T03:27:23.641883Z"
    }
   },
   "outputs": [
    {
     "data": {
      "text/plain": [
       "0.6956521739130435"
      ]
     },
     "execution_count": 73,
     "metadata": {},
     "output_type": "execute_result"
    }
   ],
   "source": [
    "accuracy_score(y_test, rf_all_features.predict(X_test))"
   ]
  },
  {
   "cell_type": "code",
   "execution_count": 74,
   "id": "da2ca58e",
   "metadata": {
    "ExecuteTime": {
     "end_time": "2023-02-21T05:07:56.934064Z",
     "start_time": "2023-02-21T03:27:43.375300Z"
    },
    "scrolled": true
   },
   "outputs": [
    {
     "name": "stdout",
     "output_type": "stream",
     "text": [
      "Iteration: 1 / 100\n",
      "Iteration: 2 / 100\n",
      "Iteration: 3 / 100\n",
      "Iteration: 4 / 100\n",
      "Iteration: 5 / 100\n",
      "Iteration: 6 / 100\n",
      "Iteration: 7 / 100\n",
      "Iteration: 8 / 100\n",
      "Iteration: 9 / 100\n",
      "Iteration: 10 / 100\n",
      "Iteration: 11 / 100\n",
      "Iteration: 12 / 100\n",
      "Iteration: 13 / 100\n",
      "Iteration: 14 / 100\n",
      "Iteration: 15 / 100\n",
      "Iteration: 16 / 100\n",
      "Iteration: 17 / 100\n",
      "Iteration: 18 / 100\n",
      "Iteration: 19 / 100\n",
      "Iteration: 20 / 100\n",
      "Iteration: 21 / 100\n",
      "Iteration: 22 / 100\n",
      "Iteration: 23 / 100\n",
      "Iteration: 24 / 100\n",
      "Iteration: 25 / 100\n",
      "Iteration: 26 / 100\n",
      "Iteration: 27 / 100\n",
      "Iteration: 28 / 100\n",
      "Iteration: 29 / 100\n",
      "Iteration: 30 / 100\n",
      "Iteration: 31 / 100\n",
      "Iteration: 32 / 100\n",
      "Iteration: 33 / 100\n",
      "Iteration: 34 / 100\n",
      "\n",
      "\n",
      "BorutaPy finished running.\n",
      "\n",
      "Iteration: \t35 / 100\n",
      "Confirmed: \t1\n",
      "Tentative: \t0\n",
      "Rejected: \t192581\n"
     ]
    },
    {
     "data": {
      "text/plain": [
       "BorutaPy(estimator=RandomForestClassifier(n_estimators=14,\n",
       "                                          random_state=RandomState(MT19937) at 0x17A4C5D2740),\n",
       "         n_estimators='auto',\n",
       "         random_state=RandomState(MT19937) at 0x17A4C5D2740, verbose=1)"
      ]
     },
     "execution_count": 74,
     "metadata": {},
     "output_type": "execute_result"
    }
   ],
   "source": [
    "rfc = RandomForestClassifier(random_state=1)\n",
    "boruta_selector = BorutaPy(rfc, n_estimators= 'auto', verbose=1, random_state=1)\n",
    "boruta_selector.fit(np.array(X_train), np.array(y_train))  "
   ]
  },
  {
   "cell_type": "code",
   "execution_count": 75,
   "id": "8f6b3b88",
   "metadata": {
    "ExecuteTime": {
     "end_time": "2023-02-21T05:08:29.411550Z",
     "start_time": "2023-02-21T05:08:29.349050Z"
    }
   },
   "outputs": [
    {
     "name": "stdout",
     "output_type": "stream",
     "text": [
      "No. of significant features:  1\n"
     ]
    }
   ],
   "source": [
    "# print(\"Ranking: \",boruta_selector.ranking_)          \n",
    "print(\"No. of significant features: \", boruta_selector.n_features_)"
   ]
  },
  {
   "cell_type": "code",
   "execution_count": 76,
   "id": "9ba15722",
   "metadata": {
    "ExecuteTime": {
     "end_time": "2023-02-21T05:08:44.300154Z",
     "start_time": "2023-02-21T05:08:43.810088Z"
    }
   },
   "outputs": [],
   "source": [
    "selected_rf_features = pd.DataFrame({'CpG':list(X_train.columns),\n",
    "                                       'Ranking':boruta_selector.ranking_})\n",
    "selected_rf_features = selected_rf_features.sort_values(by='Ranking')"
   ]
  },
  {
   "cell_type": "code",
   "execution_count": 77,
   "id": "c1f6887e",
   "metadata": {
    "ExecuteTime": {
     "end_time": "2023-02-21T05:08:59.032752Z",
     "start_time": "2023-02-21T05:08:58.653010Z"
    }
   },
   "outputs": [
    {
     "data": {
      "text/html": [
       "<div>\n",
       "<style scoped>\n",
       "    .dataframe tbody tr th:only-of-type {\n",
       "        vertical-align: middle;\n",
       "    }\n",
       "\n",
       "    .dataframe tbody tr th {\n",
       "        vertical-align: top;\n",
       "    }\n",
       "\n",
       "    .dataframe thead th {\n",
       "        text-align: right;\n",
       "    }\n",
       "</style>\n",
       "<table border=\"1\" class=\"dataframe\">\n",
       "  <thead>\n",
       "    <tr style=\"text-align: right;\">\n",
       "      <th></th>\n",
       "      <th>CpG</th>\n",
       "      <th>Ranking</th>\n",
       "    </tr>\n",
       "  </thead>\n",
       "  <tbody>\n",
       "    <tr>\n",
       "      <th>129347</th>\n",
       "      <td>cg16078938</td>\n",
       "      <td>1</td>\n",
       "    </tr>\n",
       "    <tr>\n",
       "      <th>117259</th>\n",
       "      <td>cg19816560</td>\n",
       "      <td>2</td>\n",
       "    </tr>\n",
       "    <tr>\n",
       "      <th>44329</th>\n",
       "      <td>cg21092373</td>\n",
       "      <td>3</td>\n",
       "    </tr>\n",
       "  </tbody>\n",
       "</table>\n",
       "</div>"
      ],
      "text/plain": [
       "               CpG  Ranking\n",
       "129347  cg16078938        1\n",
       "117259  cg19816560        2\n",
       "44329   cg21092373        3"
      ]
     },
     "execution_count": 77,
     "metadata": {},
     "output_type": "execute_result"
    }
   ],
   "source": [
    "Top50 = selected_rf_features.iloc[:51, :]\n",
    "Top50.head(3)"
   ]
  },
  {
   "cell_type": "code",
   "execution_count": 78,
   "id": "79bc9781",
   "metadata": {
    "ExecuteTime": {
     "end_time": "2023-02-21T05:09:16.601651Z",
     "start_time": "2023-02-21T05:09:15.479854Z"
    }
   },
   "outputs": [],
   "source": [
    "Top50.to_csv ('SymbDigi_Boruta_Top50.csv', index = False)\n",
    "selected_rf_features.to_csv ('SymbDigi_Boruta_All.csv', index = False)"
   ]
  },
  {
   "cell_type": "code",
   "execution_count": 79,
   "id": "4f0d7540",
   "metadata": {
    "ExecuteTime": {
     "end_time": "2023-02-21T05:09:32.503731Z",
     "start_time": "2023-02-21T05:09:31.438223Z"
    }
   },
   "outputs": [
    {
     "name": "stderr",
     "output_type": "stream",
     "text": [
      "C:\\Users\\system 4\\AppData\\Local\\Temp\\ipykernel_3576\\275907179.py:6: SettingWithCopyWarning: \n",
      "A value is trying to be set on a copy of a slice from a DataFrame.\n",
      "Try using .loc[row_indexer,col_indexer] = value instead\n",
      "\n",
      "See the caveats in the documentation: https://pandas.pydata.org/pandas-docs/stable/user_guide/indexing.html#returning-a-view-versus-a-copy\n",
      "  df_subset['APPRDX'] = data['APPRDX']\n"
     ]
    },
    {
     "data": {
      "text/html": [
       "<div>\n",
       "<style scoped>\n",
       "    .dataframe tbody tr th:only-of-type {\n",
       "        vertical-align: middle;\n",
       "    }\n",
       "\n",
       "    .dataframe tbody tr th {\n",
       "        vertical-align: top;\n",
       "    }\n",
       "\n",
       "    .dataframe thead th {\n",
       "        text-align: right;\n",
       "    }\n",
       "</style>\n",
       "<table border=\"1\" class=\"dataframe\">\n",
       "  <thead>\n",
       "    <tr style=\"text-align: right;\">\n",
       "      <th></th>\n",
       "      <th>cg20250922</th>\n",
       "      <th>cg16541194</th>\n",
       "      <th>cg21747188</th>\n",
       "      <th>cg10410319</th>\n",
       "      <th>cg12345955</th>\n",
       "      <th>cg19690051</th>\n",
       "      <th>cg21062891</th>\n",
       "      <th>cg00417288</th>\n",
       "      <th>cg12298429</th>\n",
       "      <th>cg14648916</th>\n",
       "      <th>...</th>\n",
       "      <th>cg22534925</th>\n",
       "      <th>cg12179916</th>\n",
       "      <th>cg12044671</th>\n",
       "      <th>cg19555872</th>\n",
       "      <th>cg25273343</th>\n",
       "      <th>cg04286615</th>\n",
       "      <th>cg07931157</th>\n",
       "      <th>cg01120173</th>\n",
       "      <th>cg12600134</th>\n",
       "      <th>APPRDX</th>\n",
       "    </tr>\n",
       "  </thead>\n",
       "  <tbody>\n",
       "    <tr>\n",
       "      <th>0</th>\n",
       "      <td>0.279845</td>\n",
       "      <td>0.576279</td>\n",
       "      <td>0.064156</td>\n",
       "      <td>0.021390</td>\n",
       "      <td>0.015210</td>\n",
       "      <td>0.104141</td>\n",
       "      <td>0.887982</td>\n",
       "      <td>0.892366</td>\n",
       "      <td>0.032801</td>\n",
       "      <td>0.014798</td>\n",
       "      <td>...</td>\n",
       "      <td>0.914514</td>\n",
       "      <td>0.638415</td>\n",
       "      <td>0.869433</td>\n",
       "      <td>0.879701</td>\n",
       "      <td>0.736708</td>\n",
       "      <td>0.034118</td>\n",
       "      <td>0.066176</td>\n",
       "      <td>0.10021</td>\n",
       "      <td>0.025254</td>\n",
       "      <td>1</td>\n",
       "    </tr>\n",
       "    <tr>\n",
       "      <th>1</th>\n",
       "      <td>0.241012</td>\n",
       "      <td>0.471834</td>\n",
       "      <td>0.056883</td>\n",
       "      <td>0.020285</td>\n",
       "      <td>0.013241</td>\n",
       "      <td>0.045867</td>\n",
       "      <td>0.923072</td>\n",
       "      <td>0.934470</td>\n",
       "      <td>0.042715</td>\n",
       "      <td>0.019783</td>\n",
       "      <td>...</td>\n",
       "      <td>0.930051</td>\n",
       "      <td>0.679014</td>\n",
       "      <td>0.755008</td>\n",
       "      <td>0.894245</td>\n",
       "      <td>0.876514</td>\n",
       "      <td>0.020293</td>\n",
       "      <td>0.069590</td>\n",
       "      <td>0.16000</td>\n",
       "      <td>0.017894</td>\n",
       "      <td>1</td>\n",
       "    </tr>\n",
       "  </tbody>\n",
       "</table>\n",
       "<p>2 rows × 52 columns</p>\n",
       "</div>"
      ],
      "text/plain": [
       "   cg20250922  cg16541194  cg21747188  cg10410319  cg12345955  cg19690051  \\\n",
       "0    0.279845    0.576279    0.064156    0.021390    0.015210    0.104141   \n",
       "1    0.241012    0.471834    0.056883    0.020285    0.013241    0.045867   \n",
       "\n",
       "   cg21062891  cg00417288  cg12298429  cg14648916  ...  cg22534925  \\\n",
       "0    0.887982    0.892366    0.032801    0.014798  ...    0.914514   \n",
       "1    0.923072    0.934470    0.042715    0.019783  ...    0.930051   \n",
       "\n",
       "   cg12179916  cg12044671  cg19555872  cg25273343  cg04286615  cg07931157  \\\n",
       "0    0.638415    0.869433    0.879701    0.736708    0.034118    0.066176   \n",
       "1    0.679014    0.755008    0.894245    0.876514    0.020293    0.069590   \n",
       "\n",
       "   cg01120173  cg12600134  APPRDX  \n",
       "0     0.10021    0.025254       1  \n",
       "1     0.16000    0.017894       1  \n",
       "\n",
       "[2 rows x 52 columns]"
      ]
     },
     "execution_count": 79,
     "metadata": {},
     "output_type": "execute_result"
    }
   ],
   "source": [
    "# create a list of column names to subset from data\n",
    "col_names = Top50.iloc[:, 0].tolist()\n",
    "\n",
    "# subset df based on the column names\n",
    "df_subset = data.loc[:, data.columns.isin(col_names)]\n",
    "df_subset['APPRDX'] = data['APPRDX']\n",
    "df_subset.to_csv ('SymbDigi_Boruta_Top50_Data.csv', index = False)\n",
    "df_subset.head(2)"
   ]
  },
  {
   "cell_type": "markdown",
   "id": "57055dde",
   "metadata": {},
   "source": [
    "# UPSIT  "
   ]
  },
  {
   "cell_type": "code",
   "execution_count": 2,
   "id": "b5a0059b",
   "metadata": {
    "ExecuteTime": {
     "end_time": "2023-02-21T06:44:55.131878Z",
     "start_time": "2023-02-21T06:44:54.060531Z"
    }
   },
   "outputs": [
    {
     "name": "stdout",
     "output_type": "stream",
     "text": [
      "Z:\\PPMI_Data\\Excels\\NonMotors\\Derived250\\GeneCpG\\UPSIT\n"
     ]
    },
    {
     "data": {
      "text/html": [
       "<div>\n",
       "<style scoped>\n",
       "    .dataframe tbody tr th:only-of-type {\n",
       "        vertical-align: middle;\n",
       "    }\n",
       "\n",
       "    .dataframe tbody tr th {\n",
       "        vertical-align: top;\n",
       "    }\n",
       "\n",
       "    .dataframe thead th {\n",
       "        text-align: right;\n",
       "    }\n",
       "</style>\n",
       "<table border=\"1\" class=\"dataframe\">\n",
       "  <thead>\n",
       "    <tr style=\"text-align: right;\">\n",
       "      <th></th>\n",
       "      <th>Sentrix</th>\n",
       "      <th>PATNO</th>\n",
       "      <th>HYS</th>\n",
       "      <th>Gender</th>\n",
       "      <th>APPRDX</th>\n",
       "      <th>UPSIT_3</th>\n",
       "      <th>UPSIT_Total</th>\n",
       "      <th>cg06067658</th>\n",
       "      <th>cg15442538</th>\n",
       "      <th>cg25928446</th>\n",
       "      <th>...</th>\n",
       "      <th>cg05766881</th>\n",
       "      <th>cg01708543</th>\n",
       "      <th>cg10933281</th>\n",
       "      <th>cg04735449</th>\n",
       "      <th>cg15856662</th>\n",
       "      <th>cg11864127</th>\n",
       "      <th>cg14420798</th>\n",
       "      <th>cg08859349</th>\n",
       "      <th>cg01481205</th>\n",
       "      <th>cg19228755</th>\n",
       "    </tr>\n",
       "  </thead>\n",
       "  <tbody>\n",
       "    <tr>\n",
       "      <th>0</th>\n",
       "      <td>200991620021_R01C01</td>\n",
       "      <td>3001</td>\n",
       "      <td>2</td>\n",
       "      <td>1</td>\n",
       "      <td>1</td>\n",
       "      <td>1</td>\n",
       "      <td>25</td>\n",
       "      <td>0.088679</td>\n",
       "      <td>0.890148</td>\n",
       "      <td>0.719238</td>\n",
       "      <td>...</td>\n",
       "      <td>0.748763</td>\n",
       "      <td>0.830052</td>\n",
       "      <td>0.861102</td>\n",
       "      <td>0.855659</td>\n",
       "      <td>0.788271</td>\n",
       "      <td>0.805084</td>\n",
       "      <td>0.729165</td>\n",
       "      <td>0.803183</td>\n",
       "      <td>0.925666</td>\n",
       "      <td>0.849608</td>\n",
       "    </tr>\n",
       "  </tbody>\n",
       "</table>\n",
       "<p>1 rows × 5679 columns</p>\n",
       "</div>"
      ],
      "text/plain": [
       "               Sentrix  PATNO  HYS  Gender  APPRDX  UPSIT_3  UPSIT_Total  \\\n",
       "0  200991620021_R01C01   3001    2       1       1        1           25   \n",
       "\n",
       "   cg06067658  cg15442538  cg25928446  ...  cg05766881  cg01708543  \\\n",
       "0    0.088679    0.890148    0.719238  ...    0.748763    0.830052   \n",
       "\n",
       "   cg10933281  cg04735449  cg15856662  cg11864127  cg14420798  cg08859349  \\\n",
       "0    0.861102    0.855659    0.788271    0.805084    0.729165    0.803183   \n",
       "\n",
       "   cg01481205  cg19228755  \n",
       "0    0.925666    0.849608  \n",
       "\n",
       "[1 rows x 5679 columns]"
      ]
     },
     "execution_count": 2,
     "metadata": {},
     "output_type": "execute_result"
    }
   ],
   "source": [
    "%cd Z:\\PPMI_Data\\Excels\\NonMotors\\Derived250\\GeneCpG\\UPSIT\n",
    "data = pd.read_csv('UPSIT3Categ_Methylome_APPRDXFilter.csv')\n",
    "data.head(1)"
   ]
  },
  {
   "cell_type": "code",
   "execution_count": 3,
   "id": "948bcb68",
   "metadata": {
    "ExecuteTime": {
     "end_time": "2023-02-21T06:44:55.517334Z",
     "start_time": "2023-02-21T06:44:55.463941Z"
    }
   },
   "outputs": [
    {
     "name": "stdout",
     "output_type": "stream",
     "text": [
      "   cg06067658  cg15442538  cg25928446  cg12415575  cg26358225  cg19058526  \\\n",
      "0    0.088679    0.890148    0.719238    0.066678    0.151532    0.133249   \n",
      "1    0.128668    0.916448    0.726893    0.066768    0.198886    0.141136   \n",
      "\n",
      "   cg20195763  cg23725394  cg27107076  cg15657055  ...  cg05766881  \\\n",
      "0    0.479724    0.926745    0.538423    0.697562  ...    0.748763   \n",
      "1    0.412058    0.876792    0.665097    0.797354  ...    0.886279   \n",
      "\n",
      "   cg01708543  cg10933281  cg04735449  cg15856662  cg11864127  cg14420798  \\\n",
      "0    0.830052    0.861102    0.855659    0.788271    0.805084    0.729165   \n",
      "1    0.898054    0.896800    0.911732    0.863749    0.893595    0.829444   \n",
      "\n",
      "   cg08859349  cg01481205  cg19228755  \n",
      "0    0.803183    0.925666    0.849608  \n",
      "1    0.866504    0.917233    0.786606  \n",
      "\n",
      "[2 rows x 5672 columns]\n"
     ]
    }
   ],
   "source": [
    "X = data.drop(['Sentrix','PATNO','HYS','Gender','UPSIT_3','UPSIT_Total','APPRDX'], axis = 1)\n",
    "y = data['APPRDX']\n",
    "X_train, X_test, y_train, y_test = train_test_split(X, y, test_size = .2, random_state = 1) \n",
    "print(X.head(2))"
   ]
  },
  {
   "cell_type": "code",
   "execution_count": 4,
   "id": "58505696",
   "metadata": {
    "ExecuteTime": {
     "end_time": "2023-02-21T06:44:57.854972Z",
     "start_time": "2023-02-21T06:44:56.551314Z"
    }
   },
   "outputs": [
    {
     "data": {
      "text/plain": [
       "RandomForestClassifier(random_state=1)"
      ]
     },
     "execution_count": 4,
     "metadata": {},
     "output_type": "execute_result"
    }
   ],
   "source": [
    "rf_all_features = RandomForestClassifier(random_state=1)\n",
    "rf_all_features.fit(X_train, y_train)"
   ]
  },
  {
   "cell_type": "code",
   "execution_count": 5,
   "id": "e9c04333",
   "metadata": {
    "ExecuteTime": {
     "end_time": "2023-02-21T06:44:58.371931Z",
     "start_time": "2023-02-21T06:44:58.309440Z"
    }
   },
   "outputs": [
    {
     "data": {
      "text/plain": [
       "0.717391304347826"
      ]
     },
     "execution_count": 5,
     "metadata": {},
     "output_type": "execute_result"
    }
   ],
   "source": [
    "accuracy_score(y_test, rf_all_features.predict(X_test))"
   ]
  },
  {
   "cell_type": "code",
   "execution_count": 7,
   "id": "0e1c8205",
   "metadata": {
    "ExecuteTime": {
     "end_time": "2023-02-21T06:48:10.754837Z",
     "start_time": "2023-02-21T06:45:37.891385Z"
    },
    "scrolled": true
   },
   "outputs": [
    {
     "name": "stdout",
     "output_type": "stream",
     "text": [
      "Iteration: 1 / 100\n",
      "Iteration: 2 / 100\n",
      "Iteration: 3 / 100\n",
      "Iteration: 4 / 100\n",
      "Iteration: 5 / 100\n",
      "Iteration: 6 / 100\n",
      "Iteration: 7 / 100\n",
      "Iteration: 8 / 100\n",
      "Iteration: 9 / 100\n",
      "Iteration: 10 / 100\n",
      "Iteration: 11 / 100\n",
      "Iteration: 12 / 100\n",
      "Iteration: 13 / 100\n",
      "Iteration: 14 / 100\n",
      "Iteration: 15 / 100\n",
      "Iteration: 16 / 100\n",
      "Iteration: 17 / 100\n",
      "Iteration: 18 / 100\n",
      "Iteration: 19 / 100\n",
      "Iteration: 20 / 100\n",
      "Iteration: 21 / 100\n",
      "Iteration: 22 / 100\n",
      "Iteration: 23 / 100\n",
      "Iteration: 24 / 100\n",
      "Iteration: 25 / 100\n",
      "Iteration: 26 / 100\n",
      "Iteration: 27 / 100\n",
      "Iteration: 28 / 100\n",
      "Iteration: 29 / 100\n",
      "Iteration: 30 / 100\n",
      "Iteration: 31 / 100\n",
      "Iteration: 32 / 100\n",
      "\n",
      "\n",
      "BorutaPy finished running.\n",
      "\n",
      "Iteration: \t33 / 100\n",
      "Confirmed: \t1\n",
      "Tentative: \t0\n",
      "Rejected: \t5671\n"
     ]
    },
    {
     "data": {
      "text/plain": [
       "BorutaPy(estimator=RandomForestClassifier(n_estimators=14,\n",
       "                                          random_state=RandomState(MT19937) at 0x1F4D6438940),\n",
       "         n_estimators='auto',\n",
       "         random_state=RandomState(MT19937) at 0x1F4D6438940, verbose=1)"
      ]
     },
     "execution_count": 7,
     "metadata": {},
     "output_type": "execute_result"
    }
   ],
   "source": [
    "rfc = RandomForestClassifier(random_state=1)\n",
    "boruta_selector = BorutaPy(rfc, n_estimators= 'auto', verbose=1, random_state=1)\n",
    "boruta_selector.fit(np.array(X_train), np.array(y_train))  "
   ]
  },
  {
   "cell_type": "code",
   "execution_count": 8,
   "id": "e603788a",
   "metadata": {
    "ExecuteTime": {
     "end_time": "2023-02-21T06:48:11.193834Z",
     "start_time": "2023-02-21T06:48:11.178151Z"
    }
   },
   "outputs": [
    {
     "name": "stdout",
     "output_type": "stream",
     "text": [
      "No. of significant features:  1\n"
     ]
    }
   ],
   "source": [
    "# print(\"Ranking: \",boruta_selector.ranking_)          \n",
    "print(\"No. of significant features: \", boruta_selector.n_features_)"
   ]
  },
  {
   "cell_type": "code",
   "execution_count": 9,
   "id": "eed75ba1",
   "metadata": {
    "ExecuteTime": {
     "end_time": "2023-02-21T06:48:11.579253Z",
     "start_time": "2023-02-21T06:48:11.557108Z"
    }
   },
   "outputs": [],
   "source": [
    "selected_rf_features = pd.DataFrame({'CpG':list(X_train.columns),\n",
    "                                       'Ranking':boruta_selector.ranking_})\n",
    "selected_rf_features = selected_rf_features.sort_values(by='Ranking')"
   ]
  },
  {
   "cell_type": "code",
   "execution_count": 10,
   "id": "a01a7595",
   "metadata": {
    "ExecuteTime": {
     "end_time": "2023-02-21T06:48:11.980552Z",
     "start_time": "2023-02-21T06:48:11.958345Z"
    }
   },
   "outputs": [
    {
     "data": {
      "text/html": [
       "<div>\n",
       "<style scoped>\n",
       "    .dataframe tbody tr th:only-of-type {\n",
       "        vertical-align: middle;\n",
       "    }\n",
       "\n",
       "    .dataframe tbody tr th {\n",
       "        vertical-align: top;\n",
       "    }\n",
       "\n",
       "    .dataframe thead th {\n",
       "        text-align: right;\n",
       "    }\n",
       "</style>\n",
       "<table border=\"1\" class=\"dataframe\">\n",
       "  <thead>\n",
       "    <tr style=\"text-align: right;\">\n",
       "      <th></th>\n",
       "      <th>CpG</th>\n",
       "      <th>Ranking</th>\n",
       "    </tr>\n",
       "  </thead>\n",
       "  <tbody>\n",
       "    <tr>\n",
       "      <th>883</th>\n",
       "      <td>cg02152968</td>\n",
       "      <td>1</td>\n",
       "    </tr>\n",
       "    <tr>\n",
       "      <th>5204</th>\n",
       "      <td>cg05142211</td>\n",
       "      <td>2</td>\n",
       "    </tr>\n",
       "    <tr>\n",
       "      <th>3939</th>\n",
       "      <td>cg26484715</td>\n",
       "      <td>3</td>\n",
       "    </tr>\n",
       "  </tbody>\n",
       "</table>\n",
       "</div>"
      ],
      "text/plain": [
       "             CpG  Ranking\n",
       "883   cg02152968        1\n",
       "5204  cg05142211        2\n",
       "3939  cg26484715        3"
      ]
     },
     "execution_count": 10,
     "metadata": {},
     "output_type": "execute_result"
    }
   ],
   "source": [
    "Top50 = selected_rf_features.iloc[:51, :]\n",
    "Top50.head(3)"
   ]
  },
  {
   "cell_type": "code",
   "execution_count": 11,
   "id": "87b964b0",
   "metadata": {
    "ExecuteTime": {
     "end_time": "2023-02-21T06:48:12.381864Z",
     "start_time": "2023-02-21T06:48:12.359652Z"
    }
   },
   "outputs": [],
   "source": [
    "Top50.to_csv ('UPSIT_Boruta_Top50.csv', index = False)\n",
    "selected_rf_features.to_csv ('UPSIT_Boruta_All.csv', index = False)"
   ]
  },
  {
   "cell_type": "code",
   "execution_count": 12,
   "id": "fd1f6705",
   "metadata": {
    "ExecuteTime": {
     "end_time": "2023-02-21T06:48:12.798587Z",
     "start_time": "2023-02-21T06:48:12.745197Z"
    }
   },
   "outputs": [
    {
     "name": "stderr",
     "output_type": "stream",
     "text": [
      "C:\\Users\\system 4\\AppData\\Local\\Temp\\ipykernel_1284\\4138935079.py:6: SettingWithCopyWarning: \n",
      "A value is trying to be set on a copy of a slice from a DataFrame.\n",
      "Try using .loc[row_indexer,col_indexer] = value instead\n",
      "\n",
      "See the caveats in the documentation: https://pandas.pydata.org/pandas-docs/stable/user_guide/indexing.html#returning-a-view-versus-a-copy\n",
      "  df_subset['PATNO'] = data['PATNO']\n",
      "C:\\Users\\system 4\\AppData\\Local\\Temp\\ipykernel_1284\\4138935079.py:7: SettingWithCopyWarning: \n",
      "A value is trying to be set on a copy of a slice from a DataFrame.\n",
      "Try using .loc[row_indexer,col_indexer] = value instead\n",
      "\n",
      "See the caveats in the documentation: https://pandas.pydata.org/pandas-docs/stable/user_guide/indexing.html#returning-a-view-versus-a-copy\n",
      "  df_subset['APPRDX'] = data['APPRDX']\n"
     ]
    },
    {
     "data": {
      "text/html": [
       "<div>\n",
       "<style scoped>\n",
       "    .dataframe tbody tr th:only-of-type {\n",
       "        vertical-align: middle;\n",
       "    }\n",
       "\n",
       "    .dataframe tbody tr th {\n",
       "        vertical-align: top;\n",
       "    }\n",
       "\n",
       "    .dataframe thead th {\n",
       "        text-align: right;\n",
       "    }\n",
       "</style>\n",
       "<table border=\"1\" class=\"dataframe\">\n",
       "  <thead>\n",
       "    <tr style=\"text-align: right;\">\n",
       "      <th></th>\n",
       "      <th>cg14719675</th>\n",
       "      <th>cg00260798</th>\n",
       "      <th>cg10244356</th>\n",
       "      <th>cg00877792</th>\n",
       "      <th>cg12534008</th>\n",
       "      <th>cg03476938</th>\n",
       "      <th>cg10061292</th>\n",
       "      <th>cg23205529</th>\n",
       "      <th>cg23074747</th>\n",
       "      <th>cg02152968</th>\n",
       "      <th>...</th>\n",
       "      <th>cg01117061</th>\n",
       "      <th>cg08125401</th>\n",
       "      <th>cg07897734</th>\n",
       "      <th>cg06632027</th>\n",
       "      <th>cg00538060</th>\n",
       "      <th>cg05142211</th>\n",
       "      <th>cg13959611</th>\n",
       "      <th>cg19458274</th>\n",
       "      <th>PATNO</th>\n",
       "      <th>APPRDX</th>\n",
       "    </tr>\n",
       "  </thead>\n",
       "  <tbody>\n",
       "    <tr>\n",
       "      <th>0</th>\n",
       "      <td>0.043587</td>\n",
       "      <td>0.885679</td>\n",
       "      <td>0.592379</td>\n",
       "      <td>0.497734</td>\n",
       "      <td>0.253873</td>\n",
       "      <td>0.549004</td>\n",
       "      <td>0.013281</td>\n",
       "      <td>0.054117</td>\n",
       "      <td>0.011630</td>\n",
       "      <td>0.263403</td>\n",
       "      <td>...</td>\n",
       "      <td>0.024752</td>\n",
       "      <td>0.136334</td>\n",
       "      <td>0.842938</td>\n",
       "      <td>0.029793</td>\n",
       "      <td>0.785801</td>\n",
       "      <td>0.035018</td>\n",
       "      <td>0.044262</td>\n",
       "      <td>0.018518</td>\n",
       "      <td>3001</td>\n",
       "      <td>1</td>\n",
       "    </tr>\n",
       "    <tr>\n",
       "      <th>1</th>\n",
       "      <td>0.080217</td>\n",
       "      <td>0.916535</td>\n",
       "      <td>0.609867</td>\n",
       "      <td>0.453499</td>\n",
       "      <td>0.229244</td>\n",
       "      <td>0.561954</td>\n",
       "      <td>0.012520</td>\n",
       "      <td>0.048337</td>\n",
       "      <td>0.011863</td>\n",
       "      <td>0.231128</td>\n",
       "      <td>...</td>\n",
       "      <td>0.080059</td>\n",
       "      <td>0.081183</td>\n",
       "      <td>0.923446</td>\n",
       "      <td>0.027356</td>\n",
       "      <td>0.818536</td>\n",
       "      <td>0.041906</td>\n",
       "      <td>0.033433</td>\n",
       "      <td>0.019884</td>\n",
       "      <td>3007</td>\n",
       "      <td>1</td>\n",
       "    </tr>\n",
       "  </tbody>\n",
       "</table>\n",
       "<p>2 rows × 53 columns</p>\n",
       "</div>"
      ],
      "text/plain": [
       "   cg14719675  cg00260798  cg10244356  cg00877792  cg12534008  cg03476938  \\\n",
       "0    0.043587    0.885679    0.592379    0.497734    0.253873    0.549004   \n",
       "1    0.080217    0.916535    0.609867    0.453499    0.229244    0.561954   \n",
       "\n",
       "   cg10061292  cg23205529  cg23074747  cg02152968  ...  cg01117061  \\\n",
       "0    0.013281    0.054117    0.011630    0.263403  ...    0.024752   \n",
       "1    0.012520    0.048337    0.011863    0.231128  ...    0.080059   \n",
       "\n",
       "   cg08125401  cg07897734  cg06632027  cg00538060  cg05142211  cg13959611  \\\n",
       "0    0.136334    0.842938    0.029793    0.785801    0.035018    0.044262   \n",
       "1    0.081183    0.923446    0.027356    0.818536    0.041906    0.033433   \n",
       "\n",
       "   cg19458274  PATNO  APPRDX  \n",
       "0    0.018518   3001       1  \n",
       "1    0.019884   3007       1  \n",
       "\n",
       "[2 rows x 53 columns]"
      ]
     },
     "execution_count": 12,
     "metadata": {},
     "output_type": "execute_result"
    }
   ],
   "source": [
    "# create a list of column names to subset from data\n",
    "col_names = Top50.iloc[:, 0].tolist()\n",
    "\n",
    "# subset df based on the column names\n",
    "df_subset = data.loc[:, data.columns.isin(col_names)]\n",
    "df_subset['PATNO'] = data['PATNO']\n",
    "df_subset['APPRDX'] = data['APPRDX']\n",
    "df_subset.to_csv ('UPSIT_Boruta_Top50_Data.csv', index = False)\n",
    "df_subset.head(2)"
   ]
  },
  {
   "cell_type": "code",
   "execution_count": null,
   "id": "12432472",
   "metadata": {},
   "outputs": [],
   "source": []
  }
 ],
 "metadata": {
  "kernelspec": {
   "display_name": "Python 3 (ipykernel)",
   "language": "python",
   "name": "python3"
  },
  "language_info": {
   "codemirror_mode": {
    "name": "ipython",
    "version": 3
   },
   "file_extension": ".py",
   "mimetype": "text/x-python",
   "name": "python",
   "nbconvert_exporter": "python",
   "pygments_lexer": "ipython3",
   "version": "3.9.16"
  },
  "toc": {
   "base_numbering": 1,
   "nav_menu": {},
   "number_sections": true,
   "sideBar": true,
   "skip_h1_title": false,
   "title_cell": "Table of Contents",
   "title_sidebar": "Contents",
   "toc_cell": false,
   "toc_position": {},
   "toc_section_display": true,
   "toc_window_display": false
  },
  "varInspector": {
   "cols": {
    "lenName": 16,
    "lenType": 16,
    "lenVar": 40
   },
   "kernels_config": {
    "python": {
     "delete_cmd_postfix": "",
     "delete_cmd_prefix": "del ",
     "library": "var_list.py",
     "varRefreshCmd": "print(var_dic_list())"
    },
    "r": {
     "delete_cmd_postfix": ") ",
     "delete_cmd_prefix": "rm(",
     "library": "var_list.r",
     "varRefreshCmd": "cat(var_dic_list()) "
    }
   },
   "types_to_exclude": [
    "module",
    "function",
    "builtin_function_or_method",
    "instance",
    "_Feature"
   ],
   "window_display": false
  }
 },
 "nbformat": 4,
 "nbformat_minor": 5
}
