{
 "cells": [
  {
   "cell_type": "code",
   "execution_count": 1,
   "id": "227733c0",
   "metadata": {
    "ExecuteTime": {
     "end_time": "2023-03-28T18:21:28.460102Z",
     "start_time": "2023-03-28T18:21:28.027743Z"
    },
    "run_control": {
     "marked": false
    }
   },
   "outputs": [],
   "source": [
    "import pandas as pd\n",
    "import numpy as np"
   ]
  },
  {
   "cell_type": "code",
   "execution_count": 4,
   "id": "e7b73661",
   "metadata": {
    "ExecuteTime": {
     "end_time": "2023-03-28T18:21:47.633434Z",
     "start_time": "2023-03-28T18:21:47.617810Z"
    }
   },
   "outputs": [
    {
     "name": "stdout",
     "output_type": "stream",
     "text": [
      "Z:\\PPMI_Data\\Excels\\NonMotors\\NonMot_Files_RAW_PreProcess\n"
     ]
    }
   ],
   "source": [
    "%cd Z:\\PPMI_Data\\Excels\\NonMotors\\NonMot_Files_RAW_PreProcess"
   ]
  },
  {
   "cell_type": "markdown",
   "id": "b523654b",
   "metadata": {},
   "source": [
    "## QUIP_Impulsive"
   ]
  },
  {
   "cell_type": "code",
   "execution_count": 5,
   "id": "f251361c",
   "metadata": {
    "ExecuteTime": {
     "end_time": "2023-03-28T18:21:48.805867Z",
     "start_time": "2023-03-28T18:21:48.689998Z"
    }
   },
   "outputs": [
    {
     "data": {
      "text/plain": [
       "Index(['REC_ID', 'F_STATUS', 'PATNO', 'EVENT_ID', 'PAG_NAME', 'INFODT',\n",
       "       'PTINBOTH', 'TMGAMBLE', 'CNTRLGMB', 'TMSEX', 'CNTRLSEX', 'TMBUY',\n",
       "       'CNTRLBUY', 'TMEAT', 'CNTRLEAT', 'TMTORACT', 'TMTMTACT', 'TMTRWD',\n",
       "       'TMDISMED', 'CNTRLDSM', 'ORIG_ENTRY', 'LAST_UPDATE', 'QUERY',\n",
       "       'SITE_APRV'],\n",
       "      dtype='object')"
      ]
     },
     "execution_count": 5,
     "metadata": {},
     "output_type": "execute_result"
    }
   ],
   "source": [
    "QUIP_Impulsive = pd.read_csv(\"QUIP_Current_Short-Archived.csv\")\n",
    "QUIP_Impulsive.columns"
   ]
  },
  {
   "cell_type": "code",
   "execution_count": 7,
   "id": "050dbe06",
   "metadata": {
    "ExecuteTime": {
     "end_time": "2023-03-28T18:21:56.445301Z",
     "start_time": "2023-03-28T18:21:56.398448Z"
    },
    "scrolled": false
   },
   "outputs": [
    {
     "data": {
      "text/html": [
       "<div>\n",
       "<style scoped>\n",
       "    .dataframe tbody tr th:only-of-type {\n",
       "        vertical-align: middle;\n",
       "    }\n",
       "\n",
       "    .dataframe tbody tr th {\n",
       "        vertical-align: top;\n",
       "    }\n",
       "\n",
       "    .dataframe thead th {\n",
       "        text-align: right;\n",
       "    }\n",
       "</style>\n",
       "<table border=\"1\" class=\"dataframe\">\n",
       "  <thead>\n",
       "    <tr style=\"text-align: right;\">\n",
       "      <th></th>\n",
       "      <th>REC_ID</th>\n",
       "      <th>F_STATUS</th>\n",
       "      <th>PATNO</th>\n",
       "      <th>EVENT_ID</th>\n",
       "      <th>PAG_NAME</th>\n",
       "      <th>INFODT</th>\n",
       "      <th>PTINBOTH</th>\n",
       "      <th>TMGAMBLE</th>\n",
       "      <th>CNTRLGMB</th>\n",
       "      <th>TMSEX</th>\n",
       "      <th>...</th>\n",
       "      <th>CNTRLEAT</th>\n",
       "      <th>TMTORACT</th>\n",
       "      <th>TMTMTACT</th>\n",
       "      <th>TMTRWD</th>\n",
       "      <th>TMDISMED</th>\n",
       "      <th>CNTRLDSM</th>\n",
       "      <th>ORIG_ENTRY</th>\n",
       "      <th>LAST_UPDATE</th>\n",
       "      <th>QUERY</th>\n",
       "      <th>SITE_APRV</th>\n",
       "    </tr>\n",
       "  </thead>\n",
       "  <tbody>\n",
       "    <tr>\n",
       "      <th>0</th>\n",
       "      <td>232537101</td>\n",
       "      <td>S</td>\n",
       "      <td>3401</td>\n",
       "      <td>BL</td>\n",
       "      <td>QUIPCS</td>\n",
       "      <td>Jul-10</td>\n",
       "      <td>1.0</td>\n",
       "      <td>0.0</td>\n",
       "      <td>0.0</td>\n",
       "      <td>0.0</td>\n",
       "      <td>...</td>\n",
       "      <td>0.0</td>\n",
       "      <td>0.0</td>\n",
       "      <td>0.0</td>\n",
       "      <td>0.0</td>\n",
       "      <td>0</td>\n",
       "      <td>0</td>\n",
       "      <td>Jul-10</td>\n",
       "      <td>40:25.0</td>\n",
       "      <td>NaN</td>\n",
       "      <td>Jul-10</td>\n",
       "    </tr>\n",
       "    <tr>\n",
       "      <th>1</th>\n",
       "      <td>233826501</td>\n",
       "      <td>S</td>\n",
       "      <td>3400</td>\n",
       "      <td>BL</td>\n",
       "      <td>QUIPCS</td>\n",
       "      <td>Jul-10</td>\n",
       "      <td>1.0</td>\n",
       "      <td>0.0</td>\n",
       "      <td>0.0</td>\n",
       "      <td>0.0</td>\n",
       "      <td>...</td>\n",
       "      <td>0.0</td>\n",
       "      <td>0.0</td>\n",
       "      <td>0.0</td>\n",
       "      <td>0.0</td>\n",
       "      <td>0</td>\n",
       "      <td>0</td>\n",
       "      <td>Jul-10</td>\n",
       "      <td>40:01.0</td>\n",
       "      <td>NaN</td>\n",
       "      <td>Jul-10</td>\n",
       "    </tr>\n",
       "  </tbody>\n",
       "</table>\n",
       "<p>2 rows × 24 columns</p>\n",
       "</div>"
      ],
      "text/plain": [
       "      REC_ID F_STATUS  PATNO EVENT_ID PAG_NAME  INFODT  PTINBOTH  TMGAMBLE  \\\n",
       "0  232537101        S   3401       BL   QUIPCS  Jul-10       1.0       0.0   \n",
       "1  233826501        S   3400       BL   QUIPCS  Jul-10       1.0       0.0   \n",
       "\n",
       "   CNTRLGMB  TMSEX  ...  CNTRLEAT  TMTORACT  TMTMTACT  TMTRWD  TMDISMED  \\\n",
       "0       0.0    0.0  ...       0.0       0.0       0.0     0.0         0   \n",
       "1       0.0    0.0  ...       0.0       0.0       0.0     0.0         0   \n",
       "\n",
       "   CNTRLDSM  ORIG_ENTRY  LAST_UPDATE QUERY SITE_APRV  \n",
       "0         0      Jul-10      40:25.0   NaN    Jul-10  \n",
       "1         0      Jul-10      40:01.0   NaN    Jul-10  \n",
       "\n",
       "[2 rows x 24 columns]"
      ]
     },
     "execution_count": 7,
     "metadata": {},
     "output_type": "execute_result"
    }
   ],
   "source": [
    "QUIP_Impulsive.drop_duplicates(subset = ['PATNO'], keep = 'first', inplace = True)\n",
    "QUIP_Impulsive.head(2)"
   ]
  },
  {
   "cell_type": "code",
   "execution_count": 8,
   "id": "b8c0d75e",
   "metadata": {
    "ExecuteTime": {
     "end_time": "2023-03-28T18:22:01.757264Z",
     "start_time": "2023-03-28T18:22:01.726014Z"
    },
    "scrolled": true
   },
   "outputs": [
    {
     "data": {
      "text/html": [
       "<div>\n",
       "<style scoped>\n",
       "    .dataframe tbody tr th:only-of-type {\n",
       "        vertical-align: middle;\n",
       "    }\n",
       "\n",
       "    .dataframe tbody tr th {\n",
       "        vertical-align: top;\n",
       "    }\n",
       "\n",
       "    .dataframe thead th {\n",
       "        text-align: right;\n",
       "    }\n",
       "</style>\n",
       "<table border=\"1\" class=\"dataframe\">\n",
       "  <thead>\n",
       "    <tr style=\"text-align: right;\">\n",
       "      <th></th>\n",
       "      <th>PATNO</th>\n",
       "      <th>PAG_NAME</th>\n",
       "      <th>TMGAMBLE</th>\n",
       "      <th>CNTRLGMB</th>\n",
       "      <th>TMSEX</th>\n",
       "      <th>CNTRLSEX</th>\n",
       "      <th>TMBUY</th>\n",
       "      <th>CNTRLBUY</th>\n",
       "      <th>TMEAT</th>\n",
       "      <th>CNTRLEAT</th>\n",
       "      <th>TMTORACT</th>\n",
       "      <th>TMTMTACT</th>\n",
       "      <th>TMTRWD</th>\n",
       "      <th>TMDISMED</th>\n",
       "      <th>CNTRLDSM</th>\n",
       "    </tr>\n",
       "  </thead>\n",
       "  <tbody>\n",
       "    <tr>\n",
       "      <th>0</th>\n",
       "      <td>3401</td>\n",
       "      <td>QUIPCS</td>\n",
       "      <td>0.0</td>\n",
       "      <td>0.0</td>\n",
       "      <td>0.0</td>\n",
       "      <td>0.0</td>\n",
       "      <td>0.0</td>\n",
       "      <td>0.0</td>\n",
       "      <td>0.0</td>\n",
       "      <td>0.0</td>\n",
       "      <td>0.0</td>\n",
       "      <td>0.0</td>\n",
       "      <td>0.0</td>\n",
       "      <td>0</td>\n",
       "      <td>0</td>\n",
       "    </tr>\n",
       "    <tr>\n",
       "      <th>1</th>\n",
       "      <td>3400</td>\n",
       "      <td>QUIPCS</td>\n",
       "      <td>0.0</td>\n",
       "      <td>0.0</td>\n",
       "      <td>0.0</td>\n",
       "      <td>0.0</td>\n",
       "      <td>0.0</td>\n",
       "      <td>0.0</td>\n",
       "      <td>1.0</td>\n",
       "      <td>0.0</td>\n",
       "      <td>0.0</td>\n",
       "      <td>0.0</td>\n",
       "      <td>0.0</td>\n",
       "      <td>0</td>\n",
       "      <td>0</td>\n",
       "    </tr>\n",
       "  </tbody>\n",
       "</table>\n",
       "</div>"
      ],
      "text/plain": [
       "   PATNO PAG_NAME  TMGAMBLE  CNTRLGMB  TMSEX  CNTRLSEX  TMBUY  CNTRLBUY  \\\n",
       "0   3401   QUIPCS       0.0       0.0    0.0       0.0    0.0       0.0   \n",
       "1   3400   QUIPCS       0.0       0.0    0.0       0.0    0.0       0.0   \n",
       "\n",
       "   TMEAT  CNTRLEAT  TMTORACT  TMTMTACT  TMTRWD TMDISMED CNTRLDSM  \n",
       "0    0.0       0.0       0.0       0.0     0.0        0        0  \n",
       "1    1.0       0.0       0.0       0.0     0.0        0        0  "
      ]
     },
     "execution_count": 8,
     "metadata": {},
     "output_type": "execute_result"
    }
   ],
   "source": [
    "QUIP_Impulsive_cut1 = QUIP_Impulsive.drop(['REC_ID', 'F_STATUS', 'EVENT_ID', 'INFODT',\n",
    "                                                  'PTINBOTH', 'ORIG_ENTRY', 'LAST_UPDATE',\n",
    "       'QUERY', 'SITE_APRV'], axis = 1)\n",
    "QUIP_Impulsive_cut1.head(2)"
   ]
  },
  {
   "cell_type": "code",
   "execution_count": 9,
   "id": "4ca792df",
   "metadata": {
    "ExecuteTime": {
     "end_time": "2023-03-28T18:22:20.962231Z",
     "start_time": "2023-03-28T18:22:20.930949Z"
    }
   },
   "outputs": [
    {
     "data": {
      "text/html": [
       "<div>\n",
       "<style scoped>\n",
       "    .dataframe tbody tr th:only-of-type {\n",
       "        vertical-align: middle;\n",
       "    }\n",
       "\n",
       "    .dataframe tbody tr th {\n",
       "        vertical-align: top;\n",
       "    }\n",
       "\n",
       "    .dataframe thead th {\n",
       "        text-align: right;\n",
       "    }\n",
       "</style>\n",
       "<table border=\"1\" class=\"dataframe\">\n",
       "  <thead>\n",
       "    <tr style=\"text-align: right;\">\n",
       "      <th></th>\n",
       "      <th>PATNO</th>\n",
       "      <th>PAG_NAME</th>\n",
       "      <th>TMGAMBLE</th>\n",
       "      <th>CNTRLGMB</th>\n",
       "      <th>TMSEX</th>\n",
       "      <th>CNTRLSEX</th>\n",
       "      <th>TMBUY</th>\n",
       "      <th>CNTRLBUY</th>\n",
       "      <th>TMEAT</th>\n",
       "      <th>CNTRLEAT</th>\n",
       "      <th>TMTORACT</th>\n",
       "      <th>TMTMTACT</th>\n",
       "      <th>TMTRWD</th>\n",
       "      <th>TMDISMED</th>\n",
       "      <th>CNTRLDSM</th>\n",
       "      <th>Impulsive_ICD_Score</th>\n",
       "    </tr>\n",
       "  </thead>\n",
       "  <tbody>\n",
       "    <tr>\n",
       "      <th>0</th>\n",
       "      <td>3401</td>\n",
       "      <td>QUIPCS</td>\n",
       "      <td>0.0</td>\n",
       "      <td>0.0</td>\n",
       "      <td>0.0</td>\n",
       "      <td>0.0</td>\n",
       "      <td>0.0</td>\n",
       "      <td>0.0</td>\n",
       "      <td>0.0</td>\n",
       "      <td>0.0</td>\n",
       "      <td>0.0</td>\n",
       "      <td>0.0</td>\n",
       "      <td>0.0</td>\n",
       "      <td>0</td>\n",
       "      <td>0</td>\n",
       "      <td>0.0</td>\n",
       "    </tr>\n",
       "    <tr>\n",
       "      <th>1</th>\n",
       "      <td>3400</td>\n",
       "      <td>QUIPCS</td>\n",
       "      <td>0.0</td>\n",
       "      <td>0.0</td>\n",
       "      <td>0.0</td>\n",
       "      <td>0.0</td>\n",
       "      <td>0.0</td>\n",
       "      <td>0.0</td>\n",
       "      <td>1.0</td>\n",
       "      <td>0.0</td>\n",
       "      <td>0.0</td>\n",
       "      <td>0.0</td>\n",
       "      <td>0.0</td>\n",
       "      <td>0</td>\n",
       "      <td>0</td>\n",
       "      <td>1.0</td>\n",
       "    </tr>\n",
       "  </tbody>\n",
       "</table>\n",
       "</div>"
      ],
      "text/plain": [
       "   PATNO PAG_NAME  TMGAMBLE  CNTRLGMB  TMSEX  CNTRLSEX  TMBUY  CNTRLBUY  \\\n",
       "0   3401   QUIPCS       0.0       0.0    0.0       0.0    0.0       0.0   \n",
       "1   3400   QUIPCS       0.0       0.0    0.0       0.0    0.0       0.0   \n",
       "\n",
       "   TMEAT  CNTRLEAT  TMTORACT  TMTMTACT  TMTRWD TMDISMED CNTRLDSM  \\\n",
       "0    0.0       0.0       0.0       0.0     0.0        0        0   \n",
       "1    1.0       0.0       0.0       0.0     0.0        0        0   \n",
       "\n",
       "   Impulsive_ICD_Score  \n",
       "0                  0.0  \n",
       "1                  1.0  "
      ]
     },
     "execution_count": 9,
     "metadata": {},
     "output_type": "execute_result"
    }
   ],
   "source": [
    "QUIP_Impulsive_cut1 ['Impulsive_ICD_Score']= QUIP_Impulsive_cut1.iloc[:,2:10].sum(axis=1)\n",
    "QUIP_Impulsive_cut1.head(2)"
   ]
  },
  {
   "cell_type": "code",
   "execution_count": 10,
   "id": "a2606444",
   "metadata": {
    "ExecuteTime": {
     "end_time": "2023-03-28T18:22:29.536289Z",
     "start_time": "2023-03-28T18:22:29.505098Z"
    }
   },
   "outputs": [
    {
     "data": {
      "text/html": [
       "<div>\n",
       "<style scoped>\n",
       "    .dataframe tbody tr th:only-of-type {\n",
       "        vertical-align: middle;\n",
       "    }\n",
       "\n",
       "    .dataframe tbody tr th {\n",
       "        vertical-align: top;\n",
       "    }\n",
       "\n",
       "    .dataframe thead th {\n",
       "        text-align: right;\n",
       "    }\n",
       "</style>\n",
       "<table border=\"1\" class=\"dataframe\">\n",
       "  <thead>\n",
       "    <tr style=\"text-align: right;\">\n",
       "      <th></th>\n",
       "      <th>PATNO</th>\n",
       "      <th>PAG_NAME</th>\n",
       "      <th>TMGAMBLE</th>\n",
       "      <th>CNTRLGMB</th>\n",
       "      <th>TMSEX</th>\n",
       "      <th>CNTRLSEX</th>\n",
       "      <th>TMBUY</th>\n",
       "      <th>CNTRLBUY</th>\n",
       "      <th>TMEAT</th>\n",
       "      <th>CNTRLEAT</th>\n",
       "      <th>TMTORACT</th>\n",
       "      <th>TMTMTACT</th>\n",
       "      <th>TMTRWD</th>\n",
       "      <th>TMDISMED</th>\n",
       "      <th>CNTRLDSM</th>\n",
       "      <th>Impulsive_ICD_Score</th>\n",
       "      <th>Impulsive_CompulsiveBehavior_Score</th>\n",
       "    </tr>\n",
       "  </thead>\n",
       "  <tbody>\n",
       "    <tr>\n",
       "      <th>0</th>\n",
       "      <td>3401</td>\n",
       "      <td>QUIPCS</td>\n",
       "      <td>0.0</td>\n",
       "      <td>0.0</td>\n",
       "      <td>0.0</td>\n",
       "      <td>0.0</td>\n",
       "      <td>0.0</td>\n",
       "      <td>0.0</td>\n",
       "      <td>0.0</td>\n",
       "      <td>0.0</td>\n",
       "      <td>0.0</td>\n",
       "      <td>0.0</td>\n",
       "      <td>0.0</td>\n",
       "      <td>0</td>\n",
       "      <td>0</td>\n",
       "      <td>0.0</td>\n",
       "      <td>0.0</td>\n",
       "    </tr>\n",
       "    <tr>\n",
       "      <th>1</th>\n",
       "      <td>3400</td>\n",
       "      <td>QUIPCS</td>\n",
       "      <td>0.0</td>\n",
       "      <td>0.0</td>\n",
       "      <td>0.0</td>\n",
       "      <td>0.0</td>\n",
       "      <td>0.0</td>\n",
       "      <td>0.0</td>\n",
       "      <td>1.0</td>\n",
       "      <td>0.0</td>\n",
       "      <td>0.0</td>\n",
       "      <td>0.0</td>\n",
       "      <td>0.0</td>\n",
       "      <td>0</td>\n",
       "      <td>0</td>\n",
       "      <td>1.0</td>\n",
       "      <td>0.0</td>\n",
       "    </tr>\n",
       "  </tbody>\n",
       "</table>\n",
       "</div>"
      ],
      "text/plain": [
       "   PATNO PAG_NAME  TMGAMBLE  CNTRLGMB  TMSEX  CNTRLSEX  TMBUY  CNTRLBUY  \\\n",
       "0   3401   QUIPCS       0.0       0.0    0.0       0.0    0.0       0.0   \n",
       "1   3400   QUIPCS       0.0       0.0    0.0       0.0    0.0       0.0   \n",
       "\n",
       "   TMEAT  CNTRLEAT  TMTORACT  TMTMTACT  TMTRWD TMDISMED CNTRLDSM  \\\n",
       "0    0.0       0.0       0.0       0.0     0.0        0        0   \n",
       "1    1.0       0.0       0.0       0.0     0.0        0        0   \n",
       "\n",
       "   Impulsive_ICD_Score  Impulsive_CompulsiveBehavior_Score  \n",
       "0                  0.0                                 0.0  \n",
       "1                  1.0                                 0.0  "
      ]
     },
     "execution_count": 10,
     "metadata": {},
     "output_type": "execute_result"
    }
   ],
   "source": [
    "QUIP_Impulsive_cut1 ['Impulsive_CompulsiveBehavior_Score']= QUIP_Impulsive_cut1.iloc[:,10:13].sum(axis=1)\n",
    "QUIP_Impulsive_cut1.head(2)"
   ]
  },
  {
   "cell_type": "markdown",
   "id": "adcbb9f2",
   "metadata": {
    "ExecuteTime": {
     "end_time": "2022-04-02T09:26:38.673672Z",
     "start_time": "2022-04-02T09:26:38.649672Z"
    }
   },
   "source": [
    "QUIP_Impulsive_cut1 ['Impulsive_CompulsiveMedication_Score']= QUIP_Impulsive_cut1.iloc[:,13:15].sum(axis=1)\n",
    "QUIP_Impulsive_cut1.head()"
   ]
  },
  {
   "cell_type": "code",
   "execution_count": 11,
   "id": "f9db673b",
   "metadata": {
    "ExecuteTime": {
     "end_time": "2023-03-28T18:22:37.059589Z",
     "start_time": "2023-03-28T18:22:37.043965Z"
    }
   },
   "outputs": [
    {
     "data": {
      "text/html": [
       "<div>\n",
       "<style scoped>\n",
       "    .dataframe tbody tr th:only-of-type {\n",
       "        vertical-align: middle;\n",
       "    }\n",
       "\n",
       "    .dataframe tbody tr th {\n",
       "        vertical-align: top;\n",
       "    }\n",
       "\n",
       "    .dataframe thead th {\n",
       "        text-align: right;\n",
       "    }\n",
       "</style>\n",
       "<table border=\"1\" class=\"dataframe\">\n",
       "  <thead>\n",
       "    <tr style=\"text-align: right;\">\n",
       "      <th></th>\n",
       "      <th>PATNO</th>\n",
       "      <th>PAG_NAME</th>\n",
       "      <th>Impulsive_ICD_Score</th>\n",
       "      <th>Impulsive_CompulsiveBehavior_Score</th>\n",
       "    </tr>\n",
       "  </thead>\n",
       "  <tbody>\n",
       "    <tr>\n",
       "      <th>0</th>\n",
       "      <td>3401</td>\n",
       "      <td>QUIPCS</td>\n",
       "      <td>0.0</td>\n",
       "      <td>0.0</td>\n",
       "    </tr>\n",
       "    <tr>\n",
       "      <th>1</th>\n",
       "      <td>3400</td>\n",
       "      <td>QUIPCS</td>\n",
       "      <td>1.0</td>\n",
       "      <td>0.0</td>\n",
       "    </tr>\n",
       "  </tbody>\n",
       "</table>\n",
       "</div>"
      ],
      "text/plain": [
       "   PATNO PAG_NAME  Impulsive_ICD_Score  Impulsive_CompulsiveBehavior_Score\n",
       "0   3401   QUIPCS                  0.0                                 0.0\n",
       "1   3400   QUIPCS                  1.0                                 0.0"
      ]
     },
     "execution_count": 11,
     "metadata": {},
     "output_type": "execute_result"
    }
   ],
   "source": [
    "QUIP_Impulsive_cut2 = QUIP_Impulsive_cut1.drop(['TMGAMBLE', 'CNTRLGMB', 'TMSEX', 'CNTRLSEX', 'TMBUY',\n",
    "       'CNTRLBUY', 'TMEAT', 'CNTRLEAT', 'TMTORACT', 'TMTMTACT', 'TMTRWD',\n",
    "       'TMDISMED', 'CNTRLDSM'], axis = 1)\n",
    "QUIP_Impulsive_cut2.head(2)"
   ]
  },
  {
   "cell_type": "code",
   "execution_count": 19,
   "id": "669fc9f9",
   "metadata": {
    "ExecuteTime": {
     "end_time": "2023-03-28T18:29:02.355371Z",
     "start_time": "2023-03-28T18:29:02.339743Z"
    }
   },
   "outputs": [
    {
     "data": {
      "text/plain": [
       "8.0"
      ]
     },
     "execution_count": 19,
     "metadata": {},
     "output_type": "execute_result"
    }
   ],
   "source": [
    "highest_value = QUIP_Impulsive_cut2['Impulsive_ICD_Score'].max()\n",
    "highest_value"
   ]
  },
  {
   "cell_type": "code",
   "execution_count": 16,
   "id": "1a66b638",
   "metadata": {
    "ExecuteTime": {
     "end_time": "2023-03-28T18:28:22.617370Z",
     "start_time": "2023-03-28T18:28:22.601731Z"
    },
    "scrolled": true
   },
   "outputs": [
    {
     "data": {
      "text/plain": [
       "3.0"
      ]
     },
     "execution_count": 16,
     "metadata": {},
     "output_type": "execute_result"
    }
   ],
   "source": [
    "highest_value = QUIP_Impulsive_cut2['Impulsive_CompulsiveBehavior_Score'].max()\n",
    "highest_value"
   ]
  },
  {
   "cell_type": "code",
   "execution_count": 21,
   "id": "6067022d",
   "metadata": {
    "ExecuteTime": {
     "end_time": "2023-03-28T18:36:43.479064Z",
     "start_time": "2023-03-28T18:36:43.463439Z"
    }
   },
   "outputs": [
    {
     "data": {
      "text/html": [
       "<div>\n",
       "<style scoped>\n",
       "    .dataframe tbody tr th:only-of-type {\n",
       "        vertical-align: middle;\n",
       "    }\n",
       "\n",
       "    .dataframe tbody tr th {\n",
       "        vertical-align: top;\n",
       "    }\n",
       "\n",
       "    .dataframe thead th {\n",
       "        text-align: right;\n",
       "    }\n",
       "</style>\n",
       "<table border=\"1\" class=\"dataframe\">\n",
       "  <thead>\n",
       "    <tr style=\"text-align: right;\">\n",
       "      <th></th>\n",
       "      <th>PATNO</th>\n",
       "      <th>PAG_NAME</th>\n",
       "      <th>Impulsive_ICD_Score</th>\n",
       "      <th>Impulsive_CompulsiveBehavior_Score</th>\n",
       "      <th>Impulsive_ICD_Category</th>\n",
       "    </tr>\n",
       "  </thead>\n",
       "  <tbody>\n",
       "    <tr>\n",
       "      <th>0</th>\n",
       "      <td>3401</td>\n",
       "      <td>QUIPCS</td>\n",
       "      <td>0.0</td>\n",
       "      <td>0.0</td>\n",
       "      <td>0.0</td>\n",
       "    </tr>\n",
       "    <tr>\n",
       "      <th>1</th>\n",
       "      <td>3400</td>\n",
       "      <td>QUIPCS</td>\n",
       "      <td>1.0</td>\n",
       "      <td>0.0</td>\n",
       "      <td>0.0</td>\n",
       "    </tr>\n",
       "  </tbody>\n",
       "</table>\n",
       "</div>"
      ],
      "text/plain": [
       "   PATNO PAG_NAME  Impulsive_ICD_Score  Impulsive_CompulsiveBehavior_Score  \\\n",
       "0   3401   QUIPCS                  0.0                                 0.0   \n",
       "1   3400   QUIPCS                  1.0                                 0.0   \n",
       "\n",
       "   Impulsive_ICD_Category  \n",
       "0                     0.0  \n",
       "1                     0.0  "
      ]
     },
     "execution_count": 21,
     "metadata": {},
     "output_type": "execute_result"
    }
   ],
   "source": [
    "col         = 'Impulsive_ICD_Score'\n",
    "conditions  = [ QUIP_Impulsive_cut2[col] <2 , (QUIP_Impulsive_cut2[col] >= 2) & (QUIP_Impulsive_cut2[col] < 5),\n",
    "              (QUIP_Impulsive_cut2[col] >= 5)]\n",
    "choices     = [ 0, 1, 2]\n",
    "    \n",
    "QUIP_Impulsive_cut2[\"Impulsive_ICD_Category\"] = np.select(conditions, choices, default=np.nan)\n",
    "QUIP_Impulsive_cut2.head(2)"
   ]
  },
  {
   "cell_type": "code",
   "execution_count": 24,
   "id": "d374aace",
   "metadata": {
    "ExecuteTime": {
     "end_time": "2023-03-28T18:37:55.738864Z",
     "start_time": "2023-03-28T18:37:55.723242Z"
    }
   },
   "outputs": [
    {
     "data": {
      "text/html": [
       "<div>\n",
       "<style scoped>\n",
       "    .dataframe tbody tr th:only-of-type {\n",
       "        vertical-align: middle;\n",
       "    }\n",
       "\n",
       "    .dataframe tbody tr th {\n",
       "        vertical-align: top;\n",
       "    }\n",
       "\n",
       "    .dataframe thead th {\n",
       "        text-align: right;\n",
       "    }\n",
       "</style>\n",
       "<table border=\"1\" class=\"dataframe\">\n",
       "  <thead>\n",
       "    <tr style=\"text-align: right;\">\n",
       "      <th></th>\n",
       "      <th>PATNO</th>\n",
       "      <th>PAG_NAME</th>\n",
       "      <th>Impulsive_ICD_Score</th>\n",
       "      <th>Impulsive_CompulsiveBehavior_Score</th>\n",
       "      <th>Impulsive_ICD_Category</th>\n",
       "      <th>Impulsive_CompulsiveBehavior_Category</th>\n",
       "    </tr>\n",
       "  </thead>\n",
       "  <tbody>\n",
       "    <tr>\n",
       "      <th>0</th>\n",
       "      <td>3401</td>\n",
       "      <td>QUIPCS</td>\n",
       "      <td>0.0</td>\n",
       "      <td>0.0</td>\n",
       "      <td>0.0</td>\n",
       "      <td>0.0</td>\n",
       "    </tr>\n",
       "    <tr>\n",
       "      <th>1</th>\n",
       "      <td>3400</td>\n",
       "      <td>QUIPCS</td>\n",
       "      <td>1.0</td>\n",
       "      <td>0.0</td>\n",
       "      <td>0.0</td>\n",
       "      <td>0.0</td>\n",
       "    </tr>\n",
       "  </tbody>\n",
       "</table>\n",
       "</div>"
      ],
      "text/plain": [
       "   PATNO PAG_NAME  Impulsive_ICD_Score  Impulsive_CompulsiveBehavior_Score  \\\n",
       "0   3401   QUIPCS                  0.0                                 0.0   \n",
       "1   3400   QUIPCS                  1.0                                 0.0   \n",
       "\n",
       "   Impulsive_ICD_Category  Impulsive_CompulsiveBehavior_Category  \n",
       "0                     0.0                                    0.0  \n",
       "1                     0.0                                    0.0  "
      ]
     },
     "execution_count": 24,
     "metadata": {},
     "output_type": "execute_result"
    }
   ],
   "source": [
    "col         = 'Impulsive_CompulsiveBehavior_Score'\n",
    "conditions  = [ QUIP_Impulsive_cut2[col] == 0 , (QUIP_Impulsive_cut2[col] == 1), (QUIP_Impulsive_cut2[col] > 1)]\n",
    "choices     = [ 0, 1, 2]\n",
    "    \n",
    "QUIP_Impulsive_cut2[\"Impulsive_CompulsiveBehavior_Category\"] = np.select(conditions, choices, default=np.nan)\n",
    "QUIP_Impulsive_cut2.head(2)"
   ]
  },
  {
   "cell_type": "code",
   "execution_count": 107,
   "id": "5f43248c",
   "metadata": {
    "ExecuteTime": {
     "end_time": "2022-05-17T04:22:54.900710Z",
     "start_time": "2022-05-17T04:22:54.768470Z"
    }
   },
   "outputs": [],
   "source": []
  },
  {
   "cell_type": "code",
   "execution_count": 25,
   "id": "955e870a",
   "metadata": {
    "ExecuteTime": {
     "end_time": "2023-03-28T18:38:13.835878Z",
     "start_time": "2023-03-28T18:38:13.798013Z"
    }
   },
   "outputs": [
    {
     "data": {
      "text/html": [
       "<div>\n",
       "<style scoped>\n",
       "    .dataframe tbody tr th:only-of-type {\n",
       "        vertical-align: middle;\n",
       "    }\n",
       "\n",
       "    .dataframe tbody tr th {\n",
       "        vertical-align: top;\n",
       "    }\n",
       "\n",
       "    .dataframe thead th {\n",
       "        text-align: right;\n",
       "    }\n",
       "</style>\n",
       "<table border=\"1\" class=\"dataframe\">\n",
       "  <thead>\n",
       "    <tr style=\"text-align: right;\">\n",
       "      <th></th>\n",
       "      <th>PATNO</th>\n",
       "      <th>PAG_NAME</th>\n",
       "      <th>Impulsive_ICD_Category</th>\n",
       "      <th>Impulsive_CompulsiveBehavior_Category</th>\n",
       "    </tr>\n",
       "  </thead>\n",
       "  <tbody>\n",
       "    <tr>\n",
       "      <th>0</th>\n",
       "      <td>3401</td>\n",
       "      <td>QUIPCS</td>\n",
       "      <td>0.0</td>\n",
       "      <td>0.0</td>\n",
       "    </tr>\n",
       "    <tr>\n",
       "      <th>1</th>\n",
       "      <td>3400</td>\n",
       "      <td>QUIPCS</td>\n",
       "      <td>0.0</td>\n",
       "      <td>0.0</td>\n",
       "    </tr>\n",
       "  </tbody>\n",
       "</table>\n",
       "</div>"
      ],
      "text/plain": [
       "   PATNO PAG_NAME  Impulsive_ICD_Category  \\\n",
       "0   3401   QUIPCS                     0.0   \n",
       "1   3400   QUIPCS                     0.0   \n",
       "\n",
       "   Impulsive_CompulsiveBehavior_Category  \n",
       "0                                    0.0  \n",
       "1                                    0.0  "
      ]
     },
     "execution_count": 25,
     "metadata": {},
     "output_type": "execute_result"
    }
   ],
   "source": [
    "QUIP_Impulsive_cut2 = QUIP_Impulsive_cut2.dropna(how='any',axis=0) \n",
    "QUIP_Impulsive_cut3 = QUIP_Impulsive_cut2.drop([\"Impulsive_ICD_Score\", \"Impulsive_CompulsiveBehavior_Score\", \n",
    "                                        ], axis = 1)\n",
    "QUIP_Impulsive_cut3.head(2)"
   ]
  },
  {
   "cell_type": "code",
   "execution_count": 27,
   "id": "c012aac1",
   "metadata": {
    "ExecuteTime": {
     "end_time": "2023-03-28T18:39:26.658163Z",
     "start_time": "2023-03-28T18:39:26.620332Z"
    }
   },
   "outputs": [],
   "source": [
    "QUIP_Impulsive_cut3.to_csv(\"QUIP_Current_Short-Categorised.csv\", index=False)"
   ]
  },
  {
   "cell_type": "code",
   "execution_count": null,
   "id": "fc52a87a",
   "metadata": {},
   "outputs": [],
   "source": []
  },
  {
   "cell_type": "markdown",
   "id": "80ccecf9",
   "metadata": {},
   "source": [
    "## REM_Sleep_Disorder_Questionnaire"
   ]
  },
  {
   "cell_type": "code",
   "execution_count": 28,
   "id": "db6fdcc5",
   "metadata": {
    "ExecuteTime": {
     "end_time": "2023-03-28T18:42:20.505510Z",
     "start_time": "2023-03-28T18:42:20.289375Z"
    }
   },
   "outputs": [
    {
     "data": {
      "text/plain": [
       "Index(['REC_ID', 'F_STATUS', 'PATNO', 'EVENT_ID', 'PAG_NAME', 'INFODT',\n",
       "       'PTCGBOTH', 'DRMVIVID', 'DRMAGRAC', 'DRMNOCTB', 'SLPLMBMV', 'SLPINJUR',\n",
       "       'DRMVERBL', 'DRMFIGHT', 'DRMUMV', 'DRMOBJFL', 'MVAWAKEN', 'DRMREMEM',\n",
       "       'SLPDSTRB', 'STROKE', 'HETRA', 'PARKISM', 'RLS', 'NARCLPSY', 'DEPRS',\n",
       "       'EPILEPSY', 'BRNINFM', 'CNSOTH', 'ORIG_ENTRY', 'LAST_UPDATE', 'QUERY',\n",
       "       'SITE_APRV'],\n",
       "      dtype='object')"
      ]
     },
     "execution_count": 28,
     "metadata": {},
     "output_type": "execute_result"
    }
   ],
   "source": [
    "REM_Sleep = pd.read_csv(\"REM_Sleep_Disorder_Questionnaire-Archived.csv\")\n",
    "REM_Sleep.columns"
   ]
  },
  {
   "cell_type": "code",
   "execution_count": 29,
   "id": "8ca3fed3",
   "metadata": {
    "ExecuteTime": {
     "end_time": "2023-03-28T18:42:26.224665Z",
     "start_time": "2023-03-28T18:42:26.193447Z"
    }
   },
   "outputs": [
    {
     "data": {
      "text/html": [
       "<div>\n",
       "<style scoped>\n",
       "    .dataframe tbody tr th:only-of-type {\n",
       "        vertical-align: middle;\n",
       "    }\n",
       "\n",
       "    .dataframe tbody tr th {\n",
       "        vertical-align: top;\n",
       "    }\n",
       "\n",
       "    .dataframe thead th {\n",
       "        text-align: right;\n",
       "    }\n",
       "</style>\n",
       "<table border=\"1\" class=\"dataframe\">\n",
       "  <thead>\n",
       "    <tr style=\"text-align: right;\">\n",
       "      <th></th>\n",
       "      <th>REC_ID</th>\n",
       "      <th>F_STATUS</th>\n",
       "      <th>PATNO</th>\n",
       "      <th>EVENT_ID</th>\n",
       "      <th>PAG_NAME</th>\n",
       "      <th>INFODT</th>\n",
       "      <th>PTCGBOTH</th>\n",
       "      <th>DRMVIVID</th>\n",
       "      <th>DRMAGRAC</th>\n",
       "      <th>DRMNOCTB</th>\n",
       "      <th>...</th>\n",
       "      <th>RLS</th>\n",
       "      <th>NARCLPSY</th>\n",
       "      <th>DEPRS</th>\n",
       "      <th>EPILEPSY</th>\n",
       "      <th>BRNINFM</th>\n",
       "      <th>CNSOTH</th>\n",
       "      <th>ORIG_ENTRY</th>\n",
       "      <th>LAST_UPDATE</th>\n",
       "      <th>QUERY</th>\n",
       "      <th>SITE_APRV</th>\n",
       "    </tr>\n",
       "  </thead>\n",
       "  <tbody>\n",
       "    <tr>\n",
       "      <th>0</th>\n",
       "      <td>456173201</td>\n",
       "      <td>S</td>\n",
       "      <td>10874</td>\n",
       "      <td>BL</td>\n",
       "      <td>REMSLEEP</td>\n",
       "      <td>09/2014</td>\n",
       "      <td>1.0</td>\n",
       "      <td>1</td>\n",
       "      <td>0</td>\n",
       "      <td>0.0</td>\n",
       "      <td>...</td>\n",
       "      <td>0.0</td>\n",
       "      <td>0.0</td>\n",
       "      <td>0.0</td>\n",
       "      <td>0.0</td>\n",
       "      <td>0.0</td>\n",
       "      <td>0.0</td>\n",
       "      <td>09/2014</td>\n",
       "      <td>2020-06-26 19:13:07.0</td>\n",
       "      <td>NaN</td>\n",
       "      <td>09/2014</td>\n",
       "    </tr>\n",
       "    <tr>\n",
       "      <th>7</th>\n",
       "      <td>416214101</td>\n",
       "      <td>S</td>\n",
       "      <td>12224</td>\n",
       "      <td>BL</td>\n",
       "      <td>REMSLEEP</td>\n",
       "      <td>10/2013</td>\n",
       "      <td>1.0</td>\n",
       "      <td>1</td>\n",
       "      <td>1</td>\n",
       "      <td>0.0</td>\n",
       "      <td>...</td>\n",
       "      <td>0.0</td>\n",
       "      <td>0.0</td>\n",
       "      <td>1.0</td>\n",
       "      <td>0.0</td>\n",
       "      <td>0.0</td>\n",
       "      <td>0.0</td>\n",
       "      <td>10/2013</td>\n",
       "      <td>2020-06-26 19:12:48.0</td>\n",
       "      <td>NaN</td>\n",
       "      <td>10/2013</td>\n",
       "    </tr>\n",
       "  </tbody>\n",
       "</table>\n",
       "<p>2 rows × 32 columns</p>\n",
       "</div>"
      ],
      "text/plain": [
       "      REC_ID F_STATUS  PATNO EVENT_ID  PAG_NAME   INFODT  PTCGBOTH  DRMVIVID  \\\n",
       "0  456173201        S  10874       BL  REMSLEEP  09/2014       1.0         1   \n",
       "7  416214101        S  12224       BL  REMSLEEP  10/2013       1.0         1   \n",
       "\n",
       "   DRMAGRAC  DRMNOCTB  ...  RLS  NARCLPSY  DEPRS  EPILEPSY  BRNINFM  CNSOTH  \\\n",
       "0         0       0.0  ...  0.0       0.0    0.0       0.0      0.0     0.0   \n",
       "7         1       0.0  ...  0.0       0.0    1.0       0.0      0.0     0.0   \n",
       "\n",
       "   ORIG_ENTRY            LAST_UPDATE  QUERY  SITE_APRV  \n",
       "0     09/2014  2020-06-26 19:13:07.0    NaN    09/2014  \n",
       "7     10/2013  2020-06-26 19:12:48.0    NaN    10/2013  \n",
       "\n",
       "[2 rows x 32 columns]"
      ]
     },
     "execution_count": 29,
     "metadata": {},
     "output_type": "execute_result"
    }
   ],
   "source": [
    "REM_Sleep.drop_duplicates(subset = ['PATNO'], keep = 'first', inplace = True)\n",
    "REM_Sleep.head(2)"
   ]
  },
  {
   "cell_type": "code",
   "execution_count": 30,
   "id": "196eaa51",
   "metadata": {
    "ExecuteTime": {
     "end_time": "2023-03-28T18:42:30.905884Z",
     "start_time": "2023-03-28T18:42:30.874626Z"
    }
   },
   "outputs": [
    {
     "data": {
      "text/html": [
       "<div>\n",
       "<style scoped>\n",
       "    .dataframe tbody tr th:only-of-type {\n",
       "        vertical-align: middle;\n",
       "    }\n",
       "\n",
       "    .dataframe tbody tr th {\n",
       "        vertical-align: top;\n",
       "    }\n",
       "\n",
       "    .dataframe thead th {\n",
       "        text-align: right;\n",
       "    }\n",
       "</style>\n",
       "<table border=\"1\" class=\"dataframe\">\n",
       "  <thead>\n",
       "    <tr style=\"text-align: right;\">\n",
       "      <th></th>\n",
       "      <th>PATNO</th>\n",
       "      <th>PAG_NAME</th>\n",
       "      <th>DRMVIVID</th>\n",
       "      <th>DRMAGRAC</th>\n",
       "      <th>DRMNOCTB</th>\n",
       "      <th>SLPLMBMV</th>\n",
       "      <th>SLPINJUR</th>\n",
       "      <th>DRMVERBL</th>\n",
       "      <th>DRMFIGHT</th>\n",
       "      <th>DRMUMV</th>\n",
       "      <th>...</th>\n",
       "      <th>DRMREMEM</th>\n",
       "      <th>SLPDSTRB</th>\n",
       "      <th>STROKE</th>\n",
       "      <th>HETRA</th>\n",
       "      <th>PARKISM</th>\n",
       "      <th>RLS</th>\n",
       "      <th>NARCLPSY</th>\n",
       "      <th>DEPRS</th>\n",
       "      <th>EPILEPSY</th>\n",
       "      <th>BRNINFM</th>\n",
       "    </tr>\n",
       "  </thead>\n",
       "  <tbody>\n",
       "    <tr>\n",
       "      <th>0</th>\n",
       "      <td>10874</td>\n",
       "      <td>REMSLEEP</td>\n",
       "      <td>1</td>\n",
       "      <td>0</td>\n",
       "      <td>0.0</td>\n",
       "      <td>0.0</td>\n",
       "      <td>0.0</td>\n",
       "      <td>1.0</td>\n",
       "      <td>0.0</td>\n",
       "      <td>0.0</td>\n",
       "      <td>...</td>\n",
       "      <td>0.0</td>\n",
       "      <td>0.0</td>\n",
       "      <td>0</td>\n",
       "      <td>0.0</td>\n",
       "      <td>0</td>\n",
       "      <td>0.0</td>\n",
       "      <td>0.0</td>\n",
       "      <td>0.0</td>\n",
       "      <td>0.0</td>\n",
       "      <td>0.0</td>\n",
       "    </tr>\n",
       "    <tr>\n",
       "      <th>7</th>\n",
       "      <td>12224</td>\n",
       "      <td>REMSLEEP</td>\n",
       "      <td>1</td>\n",
       "      <td>1</td>\n",
       "      <td>0.0</td>\n",
       "      <td>0.0</td>\n",
       "      <td>0.0</td>\n",
       "      <td>1.0</td>\n",
       "      <td>0.0</td>\n",
       "      <td>0.0</td>\n",
       "      <td>...</td>\n",
       "      <td>1.0</td>\n",
       "      <td>0.0</td>\n",
       "      <td>0</td>\n",
       "      <td>1.0</td>\n",
       "      <td>0</td>\n",
       "      <td>0.0</td>\n",
       "      <td>0.0</td>\n",
       "      <td>1.0</td>\n",
       "      <td>0.0</td>\n",
       "      <td>0.0</td>\n",
       "    </tr>\n",
       "  </tbody>\n",
       "</table>\n",
       "<p>2 rows × 22 columns</p>\n",
       "</div>"
      ],
      "text/plain": [
       "   PATNO  PAG_NAME  DRMVIVID  DRMAGRAC  DRMNOCTB  SLPLMBMV  SLPINJUR  \\\n",
       "0  10874  REMSLEEP         1         0       0.0       0.0       0.0   \n",
       "7  12224  REMSLEEP         1         1       0.0       0.0       0.0   \n",
       "\n",
       "   DRMVERBL  DRMFIGHT  DRMUMV  ...  DRMREMEM  SLPDSTRB  STROKE  HETRA  \\\n",
       "0       1.0       0.0     0.0  ...       0.0       0.0       0    0.0   \n",
       "7       1.0       0.0     0.0  ...       1.0       0.0       0    1.0   \n",
       "\n",
       "   PARKISM  RLS  NARCLPSY  DEPRS  EPILEPSY  BRNINFM  \n",
       "0        0  0.0       0.0    0.0       0.0      0.0  \n",
       "7        0  0.0       0.0    1.0       0.0      0.0  \n",
       "\n",
       "[2 rows x 22 columns]"
      ]
     },
     "execution_count": 30,
     "metadata": {},
     "output_type": "execute_result"
    }
   ],
   "source": [
    "REM_Sleep_cut = REM_Sleep.drop(['REC_ID', 'F_STATUS', 'EVENT_ID', 'INFODT','PTCGBOTH','CNSOTH', 'ORIG_ENTRY', 'LAST_UPDATE', 'QUERY',\n",
    "       'SITE_APRV' ], axis = 1)\n",
    "REM_Sleep_cut.head(2)"
   ]
  },
  {
   "cell_type": "markdown",
   "id": "7d5d15e8",
   "metadata": {},
   "source": [
    "Cateorizing as per their criteria"
   ]
  },
  {
   "cell_type": "code",
   "execution_count": 31,
   "id": "ce6de79b",
   "metadata": {
    "ExecuteTime": {
     "end_time": "2023-03-28T18:42:42.858768Z",
     "start_time": "2023-03-28T18:42:42.827548Z"
    },
    "scrolled": true
   },
   "outputs": [
    {
     "data": {
      "text/html": [
       "<div>\n",
       "<style scoped>\n",
       "    .dataframe tbody tr th:only-of-type {\n",
       "        vertical-align: middle;\n",
       "    }\n",
       "\n",
       "    .dataframe tbody tr th {\n",
       "        vertical-align: top;\n",
       "    }\n",
       "\n",
       "    .dataframe thead th {\n",
       "        text-align: right;\n",
       "    }\n",
       "</style>\n",
       "<table border=\"1\" class=\"dataframe\">\n",
       "  <thead>\n",
       "    <tr style=\"text-align: right;\">\n",
       "      <th></th>\n",
       "      <th>PATNO</th>\n",
       "      <th>PAG_NAME</th>\n",
       "      <th>DRMVIVID</th>\n",
       "      <th>DRMAGRAC</th>\n",
       "      <th>DRMNOCTB</th>\n",
       "      <th>SLPLMBMV</th>\n",
       "      <th>SLPINJUR</th>\n",
       "      <th>DRMVERBL</th>\n",
       "      <th>DRMFIGHT</th>\n",
       "      <th>DRMUMV</th>\n",
       "      <th>...</th>\n",
       "      <th>SLPDSTRB</th>\n",
       "      <th>STROKE</th>\n",
       "      <th>HETRA</th>\n",
       "      <th>PARKISM</th>\n",
       "      <th>RLS</th>\n",
       "      <th>NARCLPSY</th>\n",
       "      <th>DEPRS</th>\n",
       "      <th>EPILEPSY</th>\n",
       "      <th>BRNINFM</th>\n",
       "      <th>REM_Dream_Score</th>\n",
       "    </tr>\n",
       "  </thead>\n",
       "  <tbody>\n",
       "    <tr>\n",
       "      <th>0</th>\n",
       "      <td>10874</td>\n",
       "      <td>REMSLEEP</td>\n",
       "      <td>1</td>\n",
       "      <td>0</td>\n",
       "      <td>0.0</td>\n",
       "      <td>0.0</td>\n",
       "      <td>0.0</td>\n",
       "      <td>1.0</td>\n",
       "      <td>0.0</td>\n",
       "      <td>0.0</td>\n",
       "      <td>...</td>\n",
       "      <td>0.0</td>\n",
       "      <td>0</td>\n",
       "      <td>0.0</td>\n",
       "      <td>0</td>\n",
       "      <td>0.0</td>\n",
       "      <td>0.0</td>\n",
       "      <td>0.0</td>\n",
       "      <td>0.0</td>\n",
       "      <td>0.0</td>\n",
       "      <td>1.0</td>\n",
       "    </tr>\n",
       "    <tr>\n",
       "      <th>7</th>\n",
       "      <td>12224</td>\n",
       "      <td>REMSLEEP</td>\n",
       "      <td>1</td>\n",
       "      <td>1</td>\n",
       "      <td>0.0</td>\n",
       "      <td>0.0</td>\n",
       "      <td>0.0</td>\n",
       "      <td>1.0</td>\n",
       "      <td>0.0</td>\n",
       "      <td>0.0</td>\n",
       "      <td>...</td>\n",
       "      <td>0.0</td>\n",
       "      <td>0</td>\n",
       "      <td>1.0</td>\n",
       "      <td>0</td>\n",
       "      <td>0.0</td>\n",
       "      <td>0.0</td>\n",
       "      <td>1.0</td>\n",
       "      <td>0.0</td>\n",
       "      <td>0.0</td>\n",
       "      <td>2.0</td>\n",
       "    </tr>\n",
       "  </tbody>\n",
       "</table>\n",
       "<p>2 rows × 23 columns</p>\n",
       "</div>"
      ],
      "text/plain": [
       "   PATNO  PAG_NAME  DRMVIVID  DRMAGRAC  DRMNOCTB  SLPLMBMV  SLPINJUR  \\\n",
       "0  10874  REMSLEEP         1         0       0.0       0.0       0.0   \n",
       "7  12224  REMSLEEP         1         1       0.0       0.0       0.0   \n",
       "\n",
       "   DRMVERBL  DRMFIGHT  DRMUMV  ...  SLPDSTRB  STROKE  HETRA  PARKISM  RLS  \\\n",
       "0       1.0       0.0     0.0  ...       0.0       0    0.0        0  0.0   \n",
       "7       1.0       0.0     0.0  ...       0.0       0    1.0        0  0.0   \n",
       "\n",
       "   NARCLPSY  DEPRS  EPILEPSY  BRNINFM  REM_Dream_Score  \n",
       "0       0.0    0.0       0.0      0.0              1.0  \n",
       "7       0.0    1.0       0.0      0.0              2.0  \n",
       "\n",
       "[2 rows x 23 columns]"
      ]
     },
     "execution_count": 31,
     "metadata": {},
     "output_type": "execute_result"
    }
   ],
   "source": [
    "REM_Sleep_cut ['REM_Dream_Score']= REM_Sleep_cut.iloc[:,2:5].sum(axis=1)\n",
    "REM_Sleep_cut.head(2)"
   ]
  },
  {
   "cell_type": "code",
   "execution_count": 32,
   "id": "410c445f",
   "metadata": {
    "ExecuteTime": {
     "end_time": "2023-03-28T18:42:47.521116Z",
     "start_time": "2023-03-28T18:42:47.489834Z"
    }
   },
   "outputs": [
    {
     "data": {
      "text/html": [
       "<div>\n",
       "<style scoped>\n",
       "    .dataframe tbody tr th:only-of-type {\n",
       "        vertical-align: middle;\n",
       "    }\n",
       "\n",
       "    .dataframe tbody tr th {\n",
       "        vertical-align: top;\n",
       "    }\n",
       "\n",
       "    .dataframe thead th {\n",
       "        text-align: right;\n",
       "    }\n",
       "</style>\n",
       "<table border=\"1\" class=\"dataframe\">\n",
       "  <thead>\n",
       "    <tr style=\"text-align: right;\">\n",
       "      <th></th>\n",
       "      <th>PATNO</th>\n",
       "      <th>PAG_NAME</th>\n",
       "      <th>DRMVIVID</th>\n",
       "      <th>DRMAGRAC</th>\n",
       "      <th>DRMNOCTB</th>\n",
       "      <th>SLPLMBMV</th>\n",
       "      <th>SLPINJUR</th>\n",
       "      <th>DRMVERBL</th>\n",
       "      <th>DRMFIGHT</th>\n",
       "      <th>DRMUMV</th>\n",
       "      <th>...</th>\n",
       "      <th>STROKE</th>\n",
       "      <th>HETRA</th>\n",
       "      <th>PARKISM</th>\n",
       "      <th>RLS</th>\n",
       "      <th>NARCLPSY</th>\n",
       "      <th>DEPRS</th>\n",
       "      <th>EPILEPSY</th>\n",
       "      <th>BRNINFM</th>\n",
       "      <th>REM_Dream_Score</th>\n",
       "      <th>REM_Movement_Score</th>\n",
       "    </tr>\n",
       "  </thead>\n",
       "  <tbody>\n",
       "    <tr>\n",
       "      <th>0</th>\n",
       "      <td>10874</td>\n",
       "      <td>REMSLEEP</td>\n",
       "      <td>1</td>\n",
       "      <td>0</td>\n",
       "      <td>0.0</td>\n",
       "      <td>0.0</td>\n",
       "      <td>0.0</td>\n",
       "      <td>1.0</td>\n",
       "      <td>0.0</td>\n",
       "      <td>0.0</td>\n",
       "      <td>...</td>\n",
       "      <td>0</td>\n",
       "      <td>0.0</td>\n",
       "      <td>0</td>\n",
       "      <td>0.0</td>\n",
       "      <td>0.0</td>\n",
       "      <td>0.0</td>\n",
       "      <td>0.0</td>\n",
       "      <td>0.0</td>\n",
       "      <td>1.0</td>\n",
       "      <td>1.0</td>\n",
       "    </tr>\n",
       "    <tr>\n",
       "      <th>7</th>\n",
       "      <td>12224</td>\n",
       "      <td>REMSLEEP</td>\n",
       "      <td>1</td>\n",
       "      <td>1</td>\n",
       "      <td>0.0</td>\n",
       "      <td>0.0</td>\n",
       "      <td>0.0</td>\n",
       "      <td>1.0</td>\n",
       "      <td>0.0</td>\n",
       "      <td>0.0</td>\n",
       "      <td>...</td>\n",
       "      <td>0</td>\n",
       "      <td>1.0</td>\n",
       "      <td>0</td>\n",
       "      <td>0.0</td>\n",
       "      <td>0.0</td>\n",
       "      <td>1.0</td>\n",
       "      <td>0.0</td>\n",
       "      <td>0.0</td>\n",
       "      <td>2.0</td>\n",
       "      <td>1.0</td>\n",
       "    </tr>\n",
       "  </tbody>\n",
       "</table>\n",
       "<p>2 rows × 24 columns</p>\n",
       "</div>"
      ],
      "text/plain": [
       "   PATNO  PAG_NAME  DRMVIVID  DRMAGRAC  DRMNOCTB  SLPLMBMV  SLPINJUR  \\\n",
       "0  10874  REMSLEEP         1         0       0.0       0.0       0.0   \n",
       "7  12224  REMSLEEP         1         1       0.0       0.0       0.0   \n",
       "\n",
       "   DRMVERBL  DRMFIGHT  DRMUMV  ...  STROKE  HETRA  PARKISM  RLS  NARCLPSY  \\\n",
       "0       1.0       0.0     0.0  ...       0    0.0        0  0.0       0.0   \n",
       "7       1.0       0.0     0.0  ...       0    1.0        0  0.0       0.0   \n",
       "\n",
       "   DEPRS  EPILEPSY  BRNINFM  REM_Dream_Score  REM_Movement_Score  \n",
       "0    0.0       0.0      0.0              1.0                 1.0  \n",
       "7    1.0       0.0      0.0              2.0                 1.0  \n",
       "\n",
       "[2 rows x 24 columns]"
      ]
     },
     "execution_count": 32,
     "metadata": {},
     "output_type": "execute_result"
    }
   ],
   "source": [
    "REM_Sleep_cut ['REM_Movement_Score']= REM_Sleep_cut.iloc[:,5:11].sum(axis=1)\n",
    "REM_Sleep_cut.head(2)"
   ]
  },
  {
   "cell_type": "code",
   "execution_count": 33,
   "id": "1e14eb85",
   "metadata": {
    "ExecuteTime": {
     "end_time": "2023-03-28T18:43:02.690967Z",
     "start_time": "2023-03-28T18:43:02.644083Z"
    }
   },
   "outputs": [
    {
     "data": {
      "text/html": [
       "<div>\n",
       "<style scoped>\n",
       "    .dataframe tbody tr th:only-of-type {\n",
       "        vertical-align: middle;\n",
       "    }\n",
       "\n",
       "    .dataframe tbody tr th {\n",
       "        vertical-align: top;\n",
       "    }\n",
       "\n",
       "    .dataframe thead th {\n",
       "        text-align: right;\n",
       "    }\n",
       "</style>\n",
       "<table border=\"1\" class=\"dataframe\">\n",
       "  <thead>\n",
       "    <tr style=\"text-align: right;\">\n",
       "      <th></th>\n",
       "      <th>PATNO</th>\n",
       "      <th>PAG_NAME</th>\n",
       "      <th>MVAWAKEN</th>\n",
       "      <th>DRMREMEM</th>\n",
       "      <th>SLPDSTRB</th>\n",
       "      <th>STROKE</th>\n",
       "      <th>HETRA</th>\n",
       "      <th>PARKISM</th>\n",
       "      <th>RLS</th>\n",
       "      <th>NARCLPSY</th>\n",
       "      <th>DEPRS</th>\n",
       "      <th>EPILEPSY</th>\n",
       "      <th>BRNINFM</th>\n",
       "      <th>REM_Dream_Score</th>\n",
       "      <th>REM_Movement_Score</th>\n",
       "    </tr>\n",
       "  </thead>\n",
       "  <tbody>\n",
       "    <tr>\n",
       "      <th>0</th>\n",
       "      <td>10874</td>\n",
       "      <td>REMSLEEP</td>\n",
       "      <td>0</td>\n",
       "      <td>0.0</td>\n",
       "      <td>0.0</td>\n",
       "      <td>0</td>\n",
       "      <td>0.0</td>\n",
       "      <td>0</td>\n",
       "      <td>0.0</td>\n",
       "      <td>0.0</td>\n",
       "      <td>0.0</td>\n",
       "      <td>0.0</td>\n",
       "      <td>0.0</td>\n",
       "      <td>1.0</td>\n",
       "      <td>1.0</td>\n",
       "    </tr>\n",
       "    <tr>\n",
       "      <th>7</th>\n",
       "      <td>12224</td>\n",
       "      <td>REMSLEEP</td>\n",
       "      <td>0</td>\n",
       "      <td>1.0</td>\n",
       "      <td>0.0</td>\n",
       "      <td>0</td>\n",
       "      <td>1.0</td>\n",
       "      <td>0</td>\n",
       "      <td>0.0</td>\n",
       "      <td>0.0</td>\n",
       "      <td>1.0</td>\n",
       "      <td>0.0</td>\n",
       "      <td>0.0</td>\n",
       "      <td>2.0</td>\n",
       "      <td>1.0</td>\n",
       "    </tr>\n",
       "  </tbody>\n",
       "</table>\n",
       "</div>"
      ],
      "text/plain": [
       "   PATNO  PAG_NAME  MVAWAKEN  DRMREMEM  SLPDSTRB  STROKE  HETRA  PARKISM  RLS  \\\n",
       "0  10874  REMSLEEP         0       0.0       0.0       0    0.0        0  0.0   \n",
       "7  12224  REMSLEEP         0       1.0       0.0       0    1.0        0  0.0   \n",
       "\n",
       "   NARCLPSY  DEPRS  EPILEPSY  BRNINFM  REM_Dream_Score  REM_Movement_Score  \n",
       "0       0.0    0.0       0.0      0.0              1.0                 1.0  \n",
       "7       0.0    1.0       0.0      0.0              2.0                 1.0  "
      ]
     },
     "execution_count": 33,
     "metadata": {},
     "output_type": "execute_result"
    }
   ],
   "source": [
    "REM_Sleep_cut1 = REM_Sleep_cut.drop(['DRMVIVID', 'DRMAGRAC', 'DRMNOCTB', 'SLPLMBMV', 'SLPINJUR',\n",
    "       'DRMVERBL', 'DRMFIGHT', 'DRMUMV', 'DRMOBJFL'], axis = 1)\n",
    "REM_Sleep_cut1.head(2)"
   ]
  },
  {
   "cell_type": "code",
   "execution_count": 34,
   "id": "d9ac07cb",
   "metadata": {
    "ExecuteTime": {
     "end_time": "2023-03-28T18:43:07.979834Z",
     "start_time": "2023-03-28T18:43:07.948554Z"
    }
   },
   "outputs": [
    {
     "data": {
      "text/html": [
       "<div>\n",
       "<style scoped>\n",
       "    .dataframe tbody tr th:only-of-type {\n",
       "        vertical-align: middle;\n",
       "    }\n",
       "\n",
       "    .dataframe tbody tr th {\n",
       "        vertical-align: top;\n",
       "    }\n",
       "\n",
       "    .dataframe thead th {\n",
       "        text-align: right;\n",
       "    }\n",
       "</style>\n",
       "<table border=\"1\" class=\"dataframe\">\n",
       "  <thead>\n",
       "    <tr style=\"text-align: right;\">\n",
       "      <th></th>\n",
       "      <th>PATNO</th>\n",
       "      <th>PAG_NAME</th>\n",
       "      <th>MVAWAKEN</th>\n",
       "      <th>DRMREMEM</th>\n",
       "      <th>SLPDSTRB</th>\n",
       "      <th>STROKE</th>\n",
       "      <th>HETRA</th>\n",
       "      <th>PARKISM</th>\n",
       "      <th>RLS</th>\n",
       "      <th>NARCLPSY</th>\n",
       "      <th>DEPRS</th>\n",
       "      <th>EPILEPSY</th>\n",
       "      <th>BRNINFM</th>\n",
       "      <th>REM_Dream_Score</th>\n",
       "      <th>REM_Movement_Score</th>\n",
       "      <th>REM_Neuro_Score</th>\n",
       "    </tr>\n",
       "  </thead>\n",
       "  <tbody>\n",
       "    <tr>\n",
       "      <th>0</th>\n",
       "      <td>10874</td>\n",
       "      <td>REMSLEEP</td>\n",
       "      <td>0</td>\n",
       "      <td>0.0</td>\n",
       "      <td>0.0</td>\n",
       "      <td>0</td>\n",
       "      <td>0.0</td>\n",
       "      <td>0</td>\n",
       "      <td>0.0</td>\n",
       "      <td>0.0</td>\n",
       "      <td>0.0</td>\n",
       "      <td>0.0</td>\n",
       "      <td>0.0</td>\n",
       "      <td>1.0</td>\n",
       "      <td>1.0</td>\n",
       "      <td>0.0</td>\n",
       "    </tr>\n",
       "    <tr>\n",
       "      <th>7</th>\n",
       "      <td>12224</td>\n",
       "      <td>REMSLEEP</td>\n",
       "      <td>0</td>\n",
       "      <td>1.0</td>\n",
       "      <td>0.0</td>\n",
       "      <td>0</td>\n",
       "      <td>1.0</td>\n",
       "      <td>0</td>\n",
       "      <td>0.0</td>\n",
       "      <td>0.0</td>\n",
       "      <td>1.0</td>\n",
       "      <td>0.0</td>\n",
       "      <td>0.0</td>\n",
       "      <td>2.0</td>\n",
       "      <td>1.0</td>\n",
       "      <td>2.0</td>\n",
       "    </tr>\n",
       "  </tbody>\n",
       "</table>\n",
       "</div>"
      ],
      "text/plain": [
       "   PATNO  PAG_NAME  MVAWAKEN  DRMREMEM  SLPDSTRB  STROKE  HETRA  PARKISM  RLS  \\\n",
       "0  10874  REMSLEEP         0       0.0       0.0       0    0.0        0  0.0   \n",
       "7  12224  REMSLEEP         0       1.0       0.0       0    1.0        0  0.0   \n",
       "\n",
       "   NARCLPSY  DEPRS  EPILEPSY  BRNINFM  REM_Dream_Score  REM_Movement_Score  \\\n",
       "0       0.0    0.0       0.0      0.0              1.0                 1.0   \n",
       "7       0.0    1.0       0.0      0.0              2.0                 1.0   \n",
       "\n",
       "   REM_Neuro_Score  \n",
       "0              0.0  \n",
       "7              2.0  "
      ]
     },
     "execution_count": 34,
     "metadata": {},
     "output_type": "execute_result"
    }
   ],
   "source": [
    "REM_Sleep_cut1 ['REM_Neuro_Score']= REM_Sleep_cut1.iloc[:,5:13].sum(axis=1)\n",
    "REM_Sleep_cut1.head(2)"
   ]
  },
  {
   "cell_type": "code",
   "execution_count": 35,
   "id": "beedf537",
   "metadata": {
    "ExecuteTime": {
     "end_time": "2023-03-28T18:43:13.914581Z",
     "start_time": "2023-03-28T18:43:13.898986Z"
    }
   },
   "outputs": [
    {
     "data": {
      "text/html": [
       "<div>\n",
       "<style scoped>\n",
       "    .dataframe tbody tr th:only-of-type {\n",
       "        vertical-align: middle;\n",
       "    }\n",
       "\n",
       "    .dataframe tbody tr th {\n",
       "        vertical-align: top;\n",
       "    }\n",
       "\n",
       "    .dataframe thead th {\n",
       "        text-align: right;\n",
       "    }\n",
       "</style>\n",
       "<table border=\"1\" class=\"dataframe\">\n",
       "  <thead>\n",
       "    <tr style=\"text-align: right;\">\n",
       "      <th></th>\n",
       "      <th>PATNO</th>\n",
       "      <th>PAG_NAME</th>\n",
       "      <th>MVAWAKEN</th>\n",
       "      <th>DRMREMEM</th>\n",
       "      <th>SLPDSTRB</th>\n",
       "      <th>REM_Dream_Score</th>\n",
       "      <th>REM_Movement_Score</th>\n",
       "      <th>REM_Neuro_Score</th>\n",
       "    </tr>\n",
       "  </thead>\n",
       "  <tbody>\n",
       "    <tr>\n",
       "      <th>0</th>\n",
       "      <td>10874</td>\n",
       "      <td>REMSLEEP</td>\n",
       "      <td>0</td>\n",
       "      <td>0.0</td>\n",
       "      <td>0.0</td>\n",
       "      <td>1.0</td>\n",
       "      <td>1.0</td>\n",
       "      <td>0.0</td>\n",
       "    </tr>\n",
       "    <tr>\n",
       "      <th>7</th>\n",
       "      <td>12224</td>\n",
       "      <td>REMSLEEP</td>\n",
       "      <td>0</td>\n",
       "      <td>1.0</td>\n",
       "      <td>0.0</td>\n",
       "      <td>2.0</td>\n",
       "      <td>1.0</td>\n",
       "      <td>2.0</td>\n",
       "    </tr>\n",
       "  </tbody>\n",
       "</table>\n",
       "</div>"
      ],
      "text/plain": [
       "   PATNO  PAG_NAME  MVAWAKEN  DRMREMEM  SLPDSTRB  REM_Dream_Score  \\\n",
       "0  10874  REMSLEEP         0       0.0       0.0              1.0   \n",
       "7  12224  REMSLEEP         0       1.0       0.0              2.0   \n",
       "\n",
       "   REM_Movement_Score  REM_Neuro_Score  \n",
       "0                 1.0              0.0  \n",
       "7                 1.0              2.0  "
      ]
     },
     "execution_count": 35,
     "metadata": {},
     "output_type": "execute_result"
    }
   ],
   "source": [
    "REM_Sleep_cut2 = REM_Sleep_cut1.drop(['STROKE', 'HETRA', 'PARKISM', 'RLS', 'NARCLPSY', 'DEPRS',\n",
    "       'EPILEPSY', 'BRNINFM'], axis = 1)\n",
    "REM_Sleep_cut2.head(2)"
   ]
  },
  {
   "cell_type": "code",
   "execution_count": 37,
   "id": "708711ef",
   "metadata": {
    "ExecuteTime": {
     "end_time": "2023-03-28T18:45:26.048963Z",
     "start_time": "2023-03-28T18:45:26.017679Z"
    }
   },
   "outputs": [
    {
     "data": {
      "text/html": [
       "<div>\n",
       "<style scoped>\n",
       "    .dataframe tbody tr th:only-of-type {\n",
       "        vertical-align: middle;\n",
       "    }\n",
       "\n",
       "    .dataframe tbody tr th {\n",
       "        vertical-align: top;\n",
       "    }\n",
       "\n",
       "    .dataframe thead th {\n",
       "        text-align: right;\n",
       "    }\n",
       "</style>\n",
       "<table border=\"1\" class=\"dataframe\">\n",
       "  <thead>\n",
       "    <tr style=\"text-align: right;\">\n",
       "      <th></th>\n",
       "      <th>PATNO</th>\n",
       "      <th>PAG_NAME</th>\n",
       "      <th>MVAWAKEN</th>\n",
       "      <th>DRMREMEM</th>\n",
       "      <th>SLPDSTRB</th>\n",
       "      <th>REM_Dream_Score</th>\n",
       "      <th>REM_Movement_Score</th>\n",
       "      <th>REM_Neuro_Score</th>\n",
       "      <th>REM_AwakeDream_Score</th>\n",
       "    </tr>\n",
       "  </thead>\n",
       "  <tbody>\n",
       "    <tr>\n",
       "      <th>0</th>\n",
       "      <td>10874</td>\n",
       "      <td>REMSLEEP</td>\n",
       "      <td>0</td>\n",
       "      <td>0.0</td>\n",
       "      <td>0.0</td>\n",
       "      <td>1.0</td>\n",
       "      <td>1.0</td>\n",
       "      <td>0.0</td>\n",
       "      <td>0.0</td>\n",
       "    </tr>\n",
       "    <tr>\n",
       "      <th>7</th>\n",
       "      <td>12224</td>\n",
       "      <td>REMSLEEP</td>\n",
       "      <td>0</td>\n",
       "      <td>1.0</td>\n",
       "      <td>0.0</td>\n",
       "      <td>2.0</td>\n",
       "      <td>1.0</td>\n",
       "      <td>2.0</td>\n",
       "      <td>1.0</td>\n",
       "    </tr>\n",
       "  </tbody>\n",
       "</table>\n",
       "</div>"
      ],
      "text/plain": [
       "   PATNO  PAG_NAME  MVAWAKEN  DRMREMEM  SLPDSTRB  REM_Dream_Score  \\\n",
       "0  10874  REMSLEEP         0       0.0       0.0              1.0   \n",
       "7  12224  REMSLEEP         0       1.0       0.0              2.0   \n",
       "\n",
       "   REM_Movement_Score  REM_Neuro_Score  REM_AwakeDream_Score  \n",
       "0                 1.0              0.0                   0.0  \n",
       "7                 1.0              2.0                   1.0  "
      ]
     },
     "execution_count": 37,
     "metadata": {},
     "output_type": "execute_result"
    }
   ],
   "source": [
    "REM_Sleep_cut2 ['REM_AwakeDream_Score']= REM_Sleep_cut2.iloc[:,3:4].sum(axis=1)\n",
    "REM_Sleep_cut2.head(2)"
   ]
  },
  {
   "cell_type": "code",
   "execution_count": 38,
   "id": "3888309b",
   "metadata": {
    "ExecuteTime": {
     "end_time": "2023-03-28T18:45:30.949150Z",
     "start_time": "2023-03-28T18:45:30.917858Z"
    }
   },
   "outputs": [
    {
     "data": {
      "text/html": [
       "<div>\n",
       "<style scoped>\n",
       "    .dataframe tbody tr th:only-of-type {\n",
       "        vertical-align: middle;\n",
       "    }\n",
       "\n",
       "    .dataframe tbody tr th {\n",
       "        vertical-align: top;\n",
       "    }\n",
       "\n",
       "    .dataframe thead th {\n",
       "        text-align: right;\n",
       "    }\n",
       "</style>\n",
       "<table border=\"1\" class=\"dataframe\">\n",
       "  <thead>\n",
       "    <tr style=\"text-align: right;\">\n",
       "      <th></th>\n",
       "      <th>PATNO</th>\n",
       "      <th>PAG_NAME</th>\n",
       "      <th>MVAWAKEN</th>\n",
       "      <th>SLPDSTRB</th>\n",
       "      <th>REM_Dream_Score</th>\n",
       "      <th>REM_Movement_Score</th>\n",
       "      <th>REM_Neuro_Score</th>\n",
       "      <th>REM_AwakeDream_Score</th>\n",
       "    </tr>\n",
       "  </thead>\n",
       "  <tbody>\n",
       "    <tr>\n",
       "      <th>0</th>\n",
       "      <td>10874</td>\n",
       "      <td>REMSLEEP</td>\n",
       "      <td>0</td>\n",
       "      <td>0.0</td>\n",
       "      <td>1.0</td>\n",
       "      <td>1.0</td>\n",
       "      <td>0.0</td>\n",
       "      <td>0.0</td>\n",
       "    </tr>\n",
       "    <tr>\n",
       "      <th>7</th>\n",
       "      <td>12224</td>\n",
       "      <td>REMSLEEP</td>\n",
       "      <td>0</td>\n",
       "      <td>0.0</td>\n",
       "      <td>2.0</td>\n",
       "      <td>1.0</td>\n",
       "      <td>2.0</td>\n",
       "      <td>1.0</td>\n",
       "    </tr>\n",
       "  </tbody>\n",
       "</table>\n",
       "</div>"
      ],
      "text/plain": [
       "   PATNO  PAG_NAME  MVAWAKEN  SLPDSTRB  REM_Dream_Score  REM_Movement_Score  \\\n",
       "0  10874  REMSLEEP         0       0.0              1.0                 1.0   \n",
       "7  12224  REMSLEEP         0       0.0              2.0                 1.0   \n",
       "\n",
       "   REM_Neuro_Score  REM_AwakeDream_Score  \n",
       "0              0.0                   0.0  \n",
       "7              2.0                   1.0  "
      ]
     },
     "execution_count": 38,
     "metadata": {},
     "output_type": "execute_result"
    }
   ],
   "source": [
    "REM_Sleep_cut3 = REM_Sleep_cut2.drop(['DRMREMEM'], axis = 1)\n",
    "REM_Sleep_cut3.head(2)"
   ]
  },
  {
   "cell_type": "code",
   "execution_count": 39,
   "id": "67e79e16",
   "metadata": {
    "ExecuteTime": {
     "end_time": "2023-03-28T18:45:35.525802Z",
     "start_time": "2023-03-28T18:45:35.494520Z"
    }
   },
   "outputs": [
    {
     "data": {
      "text/html": [
       "<div>\n",
       "<style scoped>\n",
       "    .dataframe tbody tr th:only-of-type {\n",
       "        vertical-align: middle;\n",
       "    }\n",
       "\n",
       "    .dataframe tbody tr th {\n",
       "        vertical-align: top;\n",
       "    }\n",
       "\n",
       "    .dataframe thead th {\n",
       "        text-align: right;\n",
       "    }\n",
       "</style>\n",
       "<table border=\"1\" class=\"dataframe\">\n",
       "  <thead>\n",
       "    <tr style=\"text-align: right;\">\n",
       "      <th></th>\n",
       "      <th>PATNO</th>\n",
       "      <th>PAG_NAME</th>\n",
       "      <th>MVAWAKEN</th>\n",
       "      <th>SLPDSTRB</th>\n",
       "      <th>REM_Dream_Score</th>\n",
       "      <th>REM_Movement_Score</th>\n",
       "      <th>REM_Neuro_Score</th>\n",
       "      <th>REM_AwakeDream_Score</th>\n",
       "      <th>REM_AwakeProblem_Score</th>\n",
       "    </tr>\n",
       "  </thead>\n",
       "  <tbody>\n",
       "    <tr>\n",
       "      <th>0</th>\n",
       "      <td>10874</td>\n",
       "      <td>REMSLEEP</td>\n",
       "      <td>0</td>\n",
       "      <td>0.0</td>\n",
       "      <td>1.0</td>\n",
       "      <td>1.0</td>\n",
       "      <td>0.0</td>\n",
       "      <td>0.0</td>\n",
       "      <td>0.0</td>\n",
       "    </tr>\n",
       "    <tr>\n",
       "      <th>7</th>\n",
       "      <td>12224</td>\n",
       "      <td>REMSLEEP</td>\n",
       "      <td>0</td>\n",
       "      <td>0.0</td>\n",
       "      <td>2.0</td>\n",
       "      <td>1.0</td>\n",
       "      <td>2.0</td>\n",
       "      <td>1.0</td>\n",
       "      <td>0.0</td>\n",
       "    </tr>\n",
       "  </tbody>\n",
       "</table>\n",
       "</div>"
      ],
      "text/plain": [
       "   PATNO  PAG_NAME  MVAWAKEN  SLPDSTRB  REM_Dream_Score  REM_Movement_Score  \\\n",
       "0  10874  REMSLEEP         0       0.0              1.0                 1.0   \n",
       "7  12224  REMSLEEP         0       0.0              2.0                 1.0   \n",
       "\n",
       "   REM_Neuro_Score  REM_AwakeDream_Score  REM_AwakeProblem_Score  \n",
       "0              0.0                   0.0                     0.0  \n",
       "7              2.0                   1.0                     0.0  "
      ]
     },
     "execution_count": 39,
     "metadata": {},
     "output_type": "execute_result"
    }
   ],
   "source": [
    "REM_Sleep_cut3 ['REM_AwakeProblem_Score']= REM_Sleep_cut3.iloc[:,2:4].sum(axis=1)\n",
    "REM_Sleep_cut3.head(2)"
   ]
  },
  {
   "cell_type": "code",
   "execution_count": 40,
   "id": "62591b8d",
   "metadata": {
    "ExecuteTime": {
     "end_time": "2023-03-28T18:45:40.563831Z",
     "start_time": "2023-03-28T18:45:40.526025Z"
    }
   },
   "outputs": [
    {
     "data": {
      "text/html": [
       "<div>\n",
       "<style scoped>\n",
       "    .dataframe tbody tr th:only-of-type {\n",
       "        vertical-align: middle;\n",
       "    }\n",
       "\n",
       "    .dataframe tbody tr th {\n",
       "        vertical-align: top;\n",
       "    }\n",
       "\n",
       "    .dataframe thead th {\n",
       "        text-align: right;\n",
       "    }\n",
       "</style>\n",
       "<table border=\"1\" class=\"dataframe\">\n",
       "  <thead>\n",
       "    <tr style=\"text-align: right;\">\n",
       "      <th></th>\n",
       "      <th>PATNO</th>\n",
       "      <th>PAG_NAME</th>\n",
       "      <th>REM_Dream_Score</th>\n",
       "      <th>REM_Movement_Score</th>\n",
       "      <th>REM_Neuro_Score</th>\n",
       "      <th>REM_AwakeDream_Score</th>\n",
       "      <th>REM_AwakeProblem_Score</th>\n",
       "    </tr>\n",
       "  </thead>\n",
       "  <tbody>\n",
       "    <tr>\n",
       "      <th>0</th>\n",
       "      <td>10874</td>\n",
       "      <td>REMSLEEP</td>\n",
       "      <td>1.0</td>\n",
       "      <td>1.0</td>\n",
       "      <td>0.0</td>\n",
       "      <td>0.0</td>\n",
       "      <td>0.0</td>\n",
       "    </tr>\n",
       "    <tr>\n",
       "      <th>7</th>\n",
       "      <td>12224</td>\n",
       "      <td>REMSLEEP</td>\n",
       "      <td>2.0</td>\n",
       "      <td>1.0</td>\n",
       "      <td>2.0</td>\n",
       "      <td>1.0</td>\n",
       "      <td>0.0</td>\n",
       "    </tr>\n",
       "  </tbody>\n",
       "</table>\n",
       "</div>"
      ],
      "text/plain": [
       "   PATNO  PAG_NAME  REM_Dream_Score  REM_Movement_Score  REM_Neuro_Score  \\\n",
       "0  10874  REMSLEEP              1.0                 1.0              0.0   \n",
       "7  12224  REMSLEEP              2.0                 1.0              2.0   \n",
       "\n",
       "   REM_AwakeDream_Score  REM_AwakeProblem_Score  \n",
       "0                   0.0                     0.0  \n",
       "7                   1.0                     0.0  "
      ]
     },
     "execution_count": 40,
     "metadata": {},
     "output_type": "execute_result"
    }
   ],
   "source": [
    "REM_Sleep_cut4 = REM_Sleep_cut3.drop([ 'MVAWAKEN', 'SLPDSTRB'], axis = 1)\n",
    "REM_Sleep_cut4.head(2)"
   ]
  },
  {
   "cell_type": "code",
   "execution_count": 41,
   "id": "3684370c",
   "metadata": {
    "ExecuteTime": {
     "end_time": "2023-03-28T18:45:51.630646Z",
     "start_time": "2023-03-28T18:45:51.615021Z"
    },
    "scrolled": true
   },
   "outputs": [
    {
     "name": "stdout",
     "output_type": "stream",
     "text": [
      "Highest values of all columns:\n",
      "PATNO                        92834\n",
      "PAG_NAME                  REMSLEEP\n",
      "REM_Dream_Score                3.0\n",
      "REM_Movement_Score             6.0\n",
      "REM_Neuro_Score                6.0\n",
      "REM_AwakeDream_Score           1.0\n",
      "REM_AwakeProblem_Score         2.0\n",
      "dtype: object\n"
     ]
    }
   ],
   "source": [
    "highest_values = REM_Sleep_cut4.max()\n",
    "\n",
    "print('Highest values of all columns:')\n",
    "print(highest_values)"
   ]
  },
  {
   "cell_type": "code",
   "execution_count": 42,
   "id": "d5a56733",
   "metadata": {
    "ExecuteTime": {
     "end_time": "2023-03-28T18:50:07.799887Z",
     "start_time": "2023-03-28T18:50:07.768692Z"
    }
   },
   "outputs": [
    {
     "data": {
      "text/html": [
       "<div>\n",
       "<style scoped>\n",
       "    .dataframe tbody tr th:only-of-type {\n",
       "        vertical-align: middle;\n",
       "    }\n",
       "\n",
       "    .dataframe tbody tr th {\n",
       "        vertical-align: top;\n",
       "    }\n",
       "\n",
       "    .dataframe thead th {\n",
       "        text-align: right;\n",
       "    }\n",
       "</style>\n",
       "<table border=\"1\" class=\"dataframe\">\n",
       "  <thead>\n",
       "    <tr style=\"text-align: right;\">\n",
       "      <th></th>\n",
       "      <th>PATNO</th>\n",
       "      <th>PAG_NAME</th>\n",
       "      <th>REM_Dream_Score</th>\n",
       "      <th>REM_Movement_Score</th>\n",
       "      <th>REM_Neuro_Score</th>\n",
       "      <th>REM_AwakeDream_Score</th>\n",
       "      <th>REM_AwakeProblem_Score</th>\n",
       "      <th>REM_Dream_Category</th>\n",
       "    </tr>\n",
       "  </thead>\n",
       "  <tbody>\n",
       "    <tr>\n",
       "      <th>0</th>\n",
       "      <td>10874</td>\n",
       "      <td>REMSLEEP</td>\n",
       "      <td>1.0</td>\n",
       "      <td>1.0</td>\n",
       "      <td>0.0</td>\n",
       "      <td>0.0</td>\n",
       "      <td>0.0</td>\n",
       "      <td>1.0</td>\n",
       "    </tr>\n",
       "    <tr>\n",
       "      <th>7</th>\n",
       "      <td>12224</td>\n",
       "      <td>REMSLEEP</td>\n",
       "      <td>2.0</td>\n",
       "      <td>1.0</td>\n",
       "      <td>2.0</td>\n",
       "      <td>1.0</td>\n",
       "      <td>0.0</td>\n",
       "      <td>2.0</td>\n",
       "    </tr>\n",
       "  </tbody>\n",
       "</table>\n",
       "</div>"
      ],
      "text/plain": [
       "   PATNO  PAG_NAME  REM_Dream_Score  REM_Movement_Score  REM_Neuro_Score  \\\n",
       "0  10874  REMSLEEP              1.0                 1.0              0.0   \n",
       "7  12224  REMSLEEP              2.0                 1.0              2.0   \n",
       "\n",
       "   REM_AwakeDream_Score  REM_AwakeProblem_Score  REM_Dream_Category  \n",
       "0                   0.0                     0.0                 1.0  \n",
       "7                   1.0                     0.0                 2.0  "
      ]
     },
     "execution_count": 42,
     "metadata": {},
     "output_type": "execute_result"
    }
   ],
   "source": [
    "col         = 'REM_Dream_Score'\n",
    "conditions  = [ REM_Sleep_cut4[col] <1 , (REM_Sleep_cut4[col] == 1), (REM_Sleep_cut4[col] > 1)]\n",
    "choices     = [ 0, 1, 2]\n",
    "    \n",
    "REM_Sleep_cut4[\"REM_Dream_Category\"] = np.select(conditions, choices, default=np.nan)\n",
    "REM_Sleep_cut4.head(2)"
   ]
  },
  {
   "cell_type": "code",
   "execution_count": 44,
   "id": "1c517546",
   "metadata": {
    "ExecuteTime": {
     "end_time": "2023-03-28T18:51:12.893246Z",
     "start_time": "2023-03-28T18:51:12.877623Z"
    }
   },
   "outputs": [
    {
     "data": {
      "text/html": [
       "<div>\n",
       "<style scoped>\n",
       "    .dataframe tbody tr th:only-of-type {\n",
       "        vertical-align: middle;\n",
       "    }\n",
       "\n",
       "    .dataframe tbody tr th {\n",
       "        vertical-align: top;\n",
       "    }\n",
       "\n",
       "    .dataframe thead th {\n",
       "        text-align: right;\n",
       "    }\n",
       "</style>\n",
       "<table border=\"1\" class=\"dataframe\">\n",
       "  <thead>\n",
       "    <tr style=\"text-align: right;\">\n",
       "      <th></th>\n",
       "      <th>PATNO</th>\n",
       "      <th>PAG_NAME</th>\n",
       "      <th>REM_Dream_Score</th>\n",
       "      <th>REM_Movement_Score</th>\n",
       "      <th>REM_Neuro_Score</th>\n",
       "      <th>REM_AwakeDream_Score</th>\n",
       "      <th>REM_AwakeProblem_Score</th>\n",
       "      <th>REM_Dream_Category</th>\n",
       "      <th>REM_Movement_Category</th>\n",
       "    </tr>\n",
       "  </thead>\n",
       "  <tbody>\n",
       "    <tr>\n",
       "      <th>0</th>\n",
       "      <td>10874</td>\n",
       "      <td>REMSLEEP</td>\n",
       "      <td>1.0</td>\n",
       "      <td>1.0</td>\n",
       "      <td>0.0</td>\n",
       "      <td>0.0</td>\n",
       "      <td>0.0</td>\n",
       "      <td>1.0</td>\n",
       "      <td>0.0</td>\n",
       "    </tr>\n",
       "    <tr>\n",
       "      <th>7</th>\n",
       "      <td>12224</td>\n",
       "      <td>REMSLEEP</td>\n",
       "      <td>2.0</td>\n",
       "      <td>1.0</td>\n",
       "      <td>2.0</td>\n",
       "      <td>1.0</td>\n",
       "      <td>0.0</td>\n",
       "      <td>2.0</td>\n",
       "      <td>0.0</td>\n",
       "    </tr>\n",
       "  </tbody>\n",
       "</table>\n",
       "</div>"
      ],
      "text/plain": [
       "   PATNO  PAG_NAME  REM_Dream_Score  REM_Movement_Score  REM_Neuro_Score  \\\n",
       "0  10874  REMSLEEP              1.0                 1.0              0.0   \n",
       "7  12224  REMSLEEP              2.0                 1.0              2.0   \n",
       "\n",
       "   REM_AwakeDream_Score  REM_AwakeProblem_Score  REM_Dream_Category  \\\n",
       "0                   0.0                     0.0                 1.0   \n",
       "7                   1.0                     0.0                 2.0   \n",
       "\n",
       "   REM_Movement_Category  \n",
       "0                    0.0  \n",
       "7                    0.0  "
      ]
     },
     "execution_count": 44,
     "metadata": {},
     "output_type": "execute_result"
    }
   ],
   "source": [
    "col         = 'REM_Movement_Score'\n",
    "conditions  = [REM_Sleep_cut4[col] <2 , (REM_Sleep_cut4[col] > 1) & (REM_Sleep_cut4[col] < 4),\n",
    "              (REM_Sleep_cut4[col] >= 4)]\n",
    "choices     = [ 0, 1, 2]\n",
    "    \n",
    "REM_Sleep_cut4[\"REM_Movement_Category\"] = np.select(conditions, choices, default=np.nan)\n",
    "REM_Sleep_cut4.head(2)"
   ]
  },
  {
   "cell_type": "code",
   "execution_count": 46,
   "id": "8c396d60",
   "metadata": {
    "ExecuteTime": {
     "end_time": "2023-03-28T18:51:56.575828Z",
     "start_time": "2023-03-28T18:51:56.544576Z"
    }
   },
   "outputs": [
    {
     "data": {
      "text/html": [
       "<div>\n",
       "<style scoped>\n",
       "    .dataframe tbody tr th:only-of-type {\n",
       "        vertical-align: middle;\n",
       "    }\n",
       "\n",
       "    .dataframe tbody tr th {\n",
       "        vertical-align: top;\n",
       "    }\n",
       "\n",
       "    .dataframe thead th {\n",
       "        text-align: right;\n",
       "    }\n",
       "</style>\n",
       "<table border=\"1\" class=\"dataframe\">\n",
       "  <thead>\n",
       "    <tr style=\"text-align: right;\">\n",
       "      <th></th>\n",
       "      <th>PATNO</th>\n",
       "      <th>PAG_NAME</th>\n",
       "      <th>REM_Dream_Score</th>\n",
       "      <th>REM_Movement_Score</th>\n",
       "      <th>REM_Neuro_Score</th>\n",
       "      <th>REM_AwakeDream_Score</th>\n",
       "      <th>REM_AwakeProblem_Score</th>\n",
       "      <th>REM_Dream_Category</th>\n",
       "      <th>REM_Movement_Category</th>\n",
       "      <th>REM_AwakeProblem_Category</th>\n",
       "    </tr>\n",
       "  </thead>\n",
       "  <tbody>\n",
       "    <tr>\n",
       "      <th>0</th>\n",
       "      <td>10874</td>\n",
       "      <td>REMSLEEP</td>\n",
       "      <td>1.0</td>\n",
       "      <td>1.0</td>\n",
       "      <td>0.0</td>\n",
       "      <td>0.0</td>\n",
       "      <td>0.0</td>\n",
       "      <td>1.0</td>\n",
       "      <td>0.0</td>\n",
       "      <td>0.0</td>\n",
       "    </tr>\n",
       "    <tr>\n",
       "      <th>7</th>\n",
       "      <td>12224</td>\n",
       "      <td>REMSLEEP</td>\n",
       "      <td>2.0</td>\n",
       "      <td>1.0</td>\n",
       "      <td>2.0</td>\n",
       "      <td>1.0</td>\n",
       "      <td>0.0</td>\n",
       "      <td>2.0</td>\n",
       "      <td>0.0</td>\n",
       "      <td>0.0</td>\n",
       "    </tr>\n",
       "  </tbody>\n",
       "</table>\n",
       "</div>"
      ],
      "text/plain": [
       "   PATNO  PAG_NAME  REM_Dream_Score  REM_Movement_Score  REM_Neuro_Score  \\\n",
       "0  10874  REMSLEEP              1.0                 1.0              0.0   \n",
       "7  12224  REMSLEEP              2.0                 1.0              2.0   \n",
       "\n",
       "   REM_AwakeDream_Score  REM_AwakeProblem_Score  REM_Dream_Category  \\\n",
       "0                   0.0                     0.0                 1.0   \n",
       "7                   1.0                     0.0                 2.0   \n",
       "\n",
       "   REM_Movement_Category  REM_AwakeProblem_Category  \n",
       "0                    0.0                        0.0  \n",
       "7                    0.0                        0.0  "
      ]
     },
     "execution_count": 46,
     "metadata": {},
     "output_type": "execute_result"
    }
   ],
   "source": [
    "col         = 'REM_AwakeProblem_Score'\n",
    "conditions  = [ REM_Sleep_cut4[col] == 0 , (REM_Sleep_cut4[col] == 1), (REM_Sleep_cut4[col] == 2)]\n",
    "choices     = [ 0, 1, 2]\n",
    "    \n",
    "REM_Sleep_cut4[\"REM_AwakeProblem_Category\"] = np.select(conditions, choices, default=np.nan)\n",
    "REM_Sleep_cut4.head(2)"
   ]
  },
  {
   "cell_type": "code",
   "execution_count": 48,
   "id": "981b21c0",
   "metadata": {
    "ExecuteTime": {
     "end_time": "2023-03-28T18:52:19.425728Z",
     "start_time": "2023-03-28T18:52:19.394481Z"
    }
   },
   "outputs": [
    {
     "data": {
      "text/html": [
       "<div>\n",
       "<style scoped>\n",
       "    .dataframe tbody tr th:only-of-type {\n",
       "        vertical-align: middle;\n",
       "    }\n",
       "\n",
       "    .dataframe tbody tr th {\n",
       "        vertical-align: top;\n",
       "    }\n",
       "\n",
       "    .dataframe thead th {\n",
       "        text-align: right;\n",
       "    }\n",
       "</style>\n",
       "<table border=\"1\" class=\"dataframe\">\n",
       "  <thead>\n",
       "    <tr style=\"text-align: right;\">\n",
       "      <th></th>\n",
       "      <th>PATNO</th>\n",
       "      <th>PAG_NAME</th>\n",
       "      <th>REM_Dream_Score</th>\n",
       "      <th>REM_Movement_Score</th>\n",
       "      <th>REM_Neuro_Score</th>\n",
       "      <th>REM_AwakeDream_Score</th>\n",
       "      <th>REM_AwakeProblem_Score</th>\n",
       "      <th>REM_Dream_Category</th>\n",
       "      <th>REM_Movement_Category</th>\n",
       "      <th>REM_AwakeProblem_Category</th>\n",
       "      <th>REM_AwakeDream_Category</th>\n",
       "    </tr>\n",
       "  </thead>\n",
       "  <tbody>\n",
       "    <tr>\n",
       "      <th>0</th>\n",
       "      <td>10874</td>\n",
       "      <td>REMSLEEP</td>\n",
       "      <td>1.0</td>\n",
       "      <td>1.0</td>\n",
       "      <td>0.0</td>\n",
       "      <td>0.0</td>\n",
       "      <td>0.0</td>\n",
       "      <td>1.0</td>\n",
       "      <td>0.0</td>\n",
       "      <td>0.0</td>\n",
       "      <td>0.0</td>\n",
       "    </tr>\n",
       "    <tr>\n",
       "      <th>7</th>\n",
       "      <td>12224</td>\n",
       "      <td>REMSLEEP</td>\n",
       "      <td>2.0</td>\n",
       "      <td>1.0</td>\n",
       "      <td>2.0</td>\n",
       "      <td>1.0</td>\n",
       "      <td>0.0</td>\n",
       "      <td>2.0</td>\n",
       "      <td>0.0</td>\n",
       "      <td>0.0</td>\n",
       "      <td>2.0</td>\n",
       "    </tr>\n",
       "  </tbody>\n",
       "</table>\n",
       "</div>"
      ],
      "text/plain": [
       "   PATNO  PAG_NAME  REM_Dream_Score  REM_Movement_Score  REM_Neuro_Score  \\\n",
       "0  10874  REMSLEEP              1.0                 1.0              0.0   \n",
       "7  12224  REMSLEEP              2.0                 1.0              2.0   \n",
       "\n",
       "   REM_AwakeDream_Score  REM_AwakeProblem_Score  REM_Dream_Category  \\\n",
       "0                   0.0                     0.0                 1.0   \n",
       "7                   1.0                     0.0                 2.0   \n",
       "\n",
       "   REM_Movement_Category  REM_AwakeProblem_Category  REM_AwakeDream_Category  \n",
       "0                    0.0                        0.0                      0.0  \n",
       "7                    0.0                        0.0                      2.0  "
      ]
     },
     "execution_count": 48,
     "metadata": {},
     "output_type": "execute_result"
    }
   ],
   "source": [
    "col         = 'REM_AwakeDream_Score'\n",
    "conditions  = [ REM_Sleep_cut4[col] <1 , (REM_Sleep_cut4[col] >= 1)]\n",
    "choices     = [ 0, 2]\n",
    "    \n",
    "REM_Sleep_cut4[\"REM_AwakeDream_Category\"] = np.select(conditions, choices, default=np.nan)\n",
    "REM_Sleep_cut4.head(2)"
   ]
  },
  {
   "cell_type": "code",
   "execution_count": 49,
   "id": "e4246eac",
   "metadata": {
    "ExecuteTime": {
     "end_time": "2023-03-28T18:53:01.015281Z",
     "start_time": "2023-03-28T18:53:00.977514Z"
    }
   },
   "outputs": [
    {
     "data": {
      "text/html": [
       "<div>\n",
       "<style scoped>\n",
       "    .dataframe tbody tr th:only-of-type {\n",
       "        vertical-align: middle;\n",
       "    }\n",
       "\n",
       "    .dataframe tbody tr th {\n",
       "        vertical-align: top;\n",
       "    }\n",
       "\n",
       "    .dataframe thead th {\n",
       "        text-align: right;\n",
       "    }\n",
       "</style>\n",
       "<table border=\"1\" class=\"dataframe\">\n",
       "  <thead>\n",
       "    <tr style=\"text-align: right;\">\n",
       "      <th></th>\n",
       "      <th>PATNO</th>\n",
       "      <th>PAG_NAME</th>\n",
       "      <th>REM_Dream_Score</th>\n",
       "      <th>REM_Movement_Score</th>\n",
       "      <th>REM_Neuro_Score</th>\n",
       "      <th>REM_AwakeDream_Score</th>\n",
       "      <th>REM_AwakeProblem_Score</th>\n",
       "      <th>REM_Dream_Category</th>\n",
       "      <th>REM_Movement_Category</th>\n",
       "      <th>REM_AwakeProblem_Category</th>\n",
       "      <th>REM_AwakeDream_Category</th>\n",
       "      <th>REM_Neuro_Category</th>\n",
       "    </tr>\n",
       "  </thead>\n",
       "  <tbody>\n",
       "    <tr>\n",
       "      <th>0</th>\n",
       "      <td>10874</td>\n",
       "      <td>REMSLEEP</td>\n",
       "      <td>1.0</td>\n",
       "      <td>1.0</td>\n",
       "      <td>0.0</td>\n",
       "      <td>0.0</td>\n",
       "      <td>0.0</td>\n",
       "      <td>1.0</td>\n",
       "      <td>0.0</td>\n",
       "      <td>0.0</td>\n",
       "      <td>0.0</td>\n",
       "      <td>0.0</td>\n",
       "    </tr>\n",
       "    <tr>\n",
       "      <th>7</th>\n",
       "      <td>12224</td>\n",
       "      <td>REMSLEEP</td>\n",
       "      <td>2.0</td>\n",
       "      <td>1.0</td>\n",
       "      <td>2.0</td>\n",
       "      <td>1.0</td>\n",
       "      <td>0.0</td>\n",
       "      <td>2.0</td>\n",
       "      <td>0.0</td>\n",
       "      <td>0.0</td>\n",
       "      <td>2.0</td>\n",
       "      <td>1.0</td>\n",
       "    </tr>\n",
       "  </tbody>\n",
       "</table>\n",
       "</div>"
      ],
      "text/plain": [
       "   PATNO  PAG_NAME  REM_Dream_Score  REM_Movement_Score  REM_Neuro_Score  \\\n",
       "0  10874  REMSLEEP              1.0                 1.0              0.0   \n",
       "7  12224  REMSLEEP              2.0                 1.0              2.0   \n",
       "\n",
       "   REM_AwakeDream_Score  REM_AwakeProblem_Score  REM_Dream_Category  \\\n",
       "0                   0.0                     0.0                 1.0   \n",
       "7                   1.0                     0.0                 2.0   \n",
       "\n",
       "   REM_Movement_Category  REM_AwakeProblem_Category  REM_AwakeDream_Category  \\\n",
       "0                    0.0                        0.0                      0.0   \n",
       "7                    0.0                        0.0                      2.0   \n",
       "\n",
       "   REM_Neuro_Category  \n",
       "0                 0.0  \n",
       "7                 1.0  "
      ]
     },
     "execution_count": 49,
     "metadata": {},
     "output_type": "execute_result"
    }
   ],
   "source": [
    "col         = 'REM_Neuro_Score'\n",
    "conditions  = [ REM_Sleep_cut4[col] <2 , (REM_Sleep_cut4[col] > 1) & (REM_Sleep_cut4[col] < 4),\n",
    "              (REM_Sleep_cut4[col] >= 4)]\n",
    "choices     = [ 0, 1, 2]\n",
    "    \n",
    "REM_Sleep_cut4[\"REM_Neuro_Category\"] = np.select(conditions, choices, default=np.nan)\n",
    "REM_Sleep_cut4.head(2)"
   ]
  },
  {
   "cell_type": "code",
   "execution_count": 52,
   "id": "50ccf35e",
   "metadata": {
    "ExecuteTime": {
     "end_time": "2023-03-28T19:06:13.492818Z",
     "start_time": "2023-03-28T19:06:13.477191Z"
    }
   },
   "outputs": [],
   "source": [
    "REM_Sleep_cut4.to_csv(\"REM_Sleep_Disorder_Questionnaire-Categorised1.csv\", index=False)"
   ]
  },
  {
   "cell_type": "code",
   "execution_count": null,
   "id": "c2fdf421",
   "metadata": {},
   "outputs": [],
   "source": []
  }
 ],
 "metadata": {
  "kernelspec": {
   "display_name": "Python 3 (ipykernel)",
   "language": "python",
   "name": "python3"
  },
  "language_info": {
   "codemirror_mode": {
    "name": "ipython",
    "version": 3
   },
   "file_extension": ".py",
   "mimetype": "text/x-python",
   "name": "python",
   "nbconvert_exporter": "python",
   "pygments_lexer": "ipython3",
   "version": "3.9.16"
  },
  "toc": {
   "base_numbering": 1,
   "nav_menu": {},
   "number_sections": true,
   "sideBar": true,
   "skip_h1_title": false,
   "title_cell": "Table of Contents",
   "title_sidebar": "Contents",
   "toc_cell": false,
   "toc_position": {},
   "toc_section_display": true,
   "toc_window_display": false
  },
  "varInspector": {
   "cols": {
    "lenName": 16,
    "lenType": 16,
    "lenVar": 40
   },
   "kernels_config": {
    "python": {
     "delete_cmd_postfix": "",
     "delete_cmd_prefix": "del ",
     "library": "var_list.py",
     "varRefreshCmd": "print(var_dic_list())"
    },
    "r": {
     "delete_cmd_postfix": ") ",
     "delete_cmd_prefix": "rm(",
     "library": "var_list.r",
     "varRefreshCmd": "cat(var_dic_list()) "
    }
   },
   "types_to_exclude": [
    "module",
    "function",
    "builtin_function_or_method",
    "instance",
    "_Feature"
   ],
   "window_display": false
  }
 },
 "nbformat": 4,
 "nbformat_minor": 5
}
