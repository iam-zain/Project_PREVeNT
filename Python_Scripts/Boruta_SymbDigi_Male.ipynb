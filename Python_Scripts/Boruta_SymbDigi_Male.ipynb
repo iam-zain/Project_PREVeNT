{
 "cells": [
  {
   "cell_type": "code",
   "execution_count": 1,
   "id": "51c5704f",
   "metadata": {
    "ExecuteTime": {
     "end_time": "2022-12-26T12:05:20.742311Z",
     "start_time": "2022-12-26T12:05:19.502064Z"
    }
   },
   "outputs": [],
   "source": [
    "import numpy as np\n",
    "import pandas as pd\n",
    "from boruta import BorutaPy\n",
    "from sklearn.datasets import load_diabetes\n",
    "from sklearn.metrics import accuracy_score \n",
    "from sklearn.ensemble import RandomForestRegressor\n",
    "from sklearn.ensemble import RandomForestClassifier\n",
    "from sklearn.model_selection import train_test_split"
   ]
  },
  {
   "cell_type": "code",
   "execution_count": 2,
   "id": "5ff336b1",
   "metadata": {
    "ExecuteTime": {
     "end_time": "2022-12-26T12:15:23.159685Z",
     "start_time": "2022-12-26T12:05:20.742311Z"
    }
   },
   "outputs": [
    {
     "name": "stdout",
     "output_type": "stream",
     "text": [
      "Z:\\PPMI_Data\\Excels\\Only_Male\\GeneCpG\\SymbDigi\n"
     ]
    },
    {
     "data": {
      "text/html": [
       "<div>\n",
       "<style scoped>\n",
       "    .dataframe tbody tr th:only-of-type {\n",
       "        vertical-align: middle;\n",
       "    }\n",
       "\n",
       "    .dataframe tbody tr th {\n",
       "        vertical-align: top;\n",
       "    }\n",
       "\n",
       "    .dataframe thead th {\n",
       "        text-align: right;\n",
       "    }\n",
       "</style>\n",
       "<table border=\"1\" class=\"dataframe\">\n",
       "  <thead>\n",
       "    <tr style=\"text-align: right;\">\n",
       "      <th></th>\n",
       "      <th>Unnamed: 0</th>\n",
       "      <th>Sentrix</th>\n",
       "      <th>PATNO</th>\n",
       "      <th>HYS</th>\n",
       "      <th>Gender</th>\n",
       "      <th>APPRDX</th>\n",
       "      <th>Symbol_Digit</th>\n",
       "      <th>cg20815302</th>\n",
       "      <th>cg25795414</th>\n",
       "      <th>cg00959375</th>\n",
       "      <th>...</th>\n",
       "      <th>cg03814399</th>\n",
       "      <th>cg14792798</th>\n",
       "      <th>cg16910097</th>\n",
       "      <th>cg08750857</th>\n",
       "      <th>cg17933893</th>\n",
       "      <th>cg06917935</th>\n",
       "      <th>cg02794319</th>\n",
       "      <th>cg10702286</th>\n",
       "      <th>cg10353174</th>\n",
       "      <th>cg19590050</th>\n",
       "    </tr>\n",
       "  </thead>\n",
       "  <tbody>\n",
       "    <tr>\n",
       "      <th>0</th>\n",
       "      <td>0</td>\n",
       "      <td>200991620021_R01C01</td>\n",
       "      <td>3001</td>\n",
       "      <td>2</td>\n",
       "      <td>1</td>\n",
       "      <td>1</td>\n",
       "      <td>1</td>\n",
       "      <td>0.907957</td>\n",
       "      <td>0.86891</td>\n",
       "      <td>0.752844</td>\n",
       "      <td>...</td>\n",
       "      <td>0.880496</td>\n",
       "      <td>0.928546</td>\n",
       "      <td>0.900567</td>\n",
       "      <td>0.8778</td>\n",
       "      <td>0.836823</td>\n",
       "      <td>0.216268</td>\n",
       "      <td>0.23435</td>\n",
       "      <td>0.68155</td>\n",
       "      <td>0.103758</td>\n",
       "      <td>0.83789</td>\n",
       "    </tr>\n",
       "  </tbody>\n",
       "</table>\n",
       "<p>1 rows × 192589 columns</p>\n",
       "</div>"
      ],
      "text/plain": [
       "   Unnamed: 0              Sentrix  PATNO  HYS  Gender  APPRDX  Symbol_Digit  \\\n",
       "0           0  200991620021_R01C01   3001    2       1       1             1   \n",
       "\n",
       "   cg20815302  cg25795414  cg00959375  ...  cg03814399  cg14792798  \\\n",
       "0    0.907957     0.86891    0.752844  ...    0.880496    0.928546   \n",
       "\n",
       "   cg16910097  cg08750857  cg17933893  cg06917935  cg02794319  cg10702286  \\\n",
       "0    0.900567      0.8778    0.836823    0.216268     0.23435     0.68155   \n",
       "\n",
       "   cg10353174  cg19590050  \n",
       "0    0.103758     0.83789  \n",
       "\n",
       "[1 rows x 192589 columns]"
      ]
     },
     "execution_count": 2,
     "metadata": {},
     "output_type": "execute_result"
    }
   ],
   "source": [
    "%cd Z:\\PPMI_Data\\Excels\\Only_Male\\GeneCpG\\SymbDigi\n",
    "data = pd.read_csv('SymbDigiCateg_Methylome_Male.csv')\n",
    "data.head(1)"
   ]
  },
  {
   "cell_type": "code",
   "execution_count": 9,
   "id": "ee22df7a",
   "metadata": {
    "ExecuteTime": {
     "end_time": "2022-12-26T12:27:32.266712Z",
     "start_time": "2022-12-26T12:27:27.087837Z"
    }
   },
   "outputs": [],
   "source": [
    "X = data.drop(['Unnamed: 0','Sentrix','PATNO','HYS','Gender','Symbol_Digit'], axis = 1)\n",
    "y = data['APPRDX']\n",
    "X_train, X_test, y_train, y_test = train_test_split(X, y, test_size = .2, random_state = 1) "
   ]
  },
  {
   "cell_type": "code",
   "execution_count": 10,
   "id": "c1ee3e48",
   "metadata": {
    "ExecuteTime": {
     "end_time": "2022-12-26T12:28:40.019034Z",
     "start_time": "2022-12-26T12:28:33.608223Z"
    }
   },
   "outputs": [
    {
     "data": {
      "text/plain": [
       "RandomForestClassifier(random_state=1)"
      ]
     },
     "execution_count": 10,
     "metadata": {},
     "output_type": "execute_result"
    }
   ],
   "source": [
    "rf_all_features = RandomForestClassifier(random_state=1)\n",
    "rf_all_features.fit(X_train, y_train)"
   ]
  },
  {
   "cell_type": "code",
   "execution_count": 11,
   "id": "f17f8606",
   "metadata": {
    "ExecuteTime": {
     "end_time": "2022-12-26T12:29:11.436473Z",
     "start_time": "2022-12-26T12:29:09.887999Z"
    }
   },
   "outputs": [
    {
     "data": {
      "text/plain": [
       "0.7258064516129032"
      ]
     },
     "execution_count": 11,
     "metadata": {},
     "output_type": "execute_result"
    }
   ],
   "source": [
    "accuracy_score(y_test, rf_all_features.predict(X_test))"
   ]
  },
  {
   "cell_type": "code",
   "execution_count": 12,
   "id": "5ba608ac",
   "metadata": {
    "ExecuteTime": {
     "end_time": "2022-12-26T13:35:08.094619Z",
     "start_time": "2022-12-26T12:29:45.827755Z"
    },
    "scrolled": true
   },
   "outputs": [
    {
     "name": "stdout",
     "output_type": "stream",
     "text": [
      "Iteration: 1 / 100\n",
      "Iteration: 2 / 100\n",
      "Iteration: 3 / 100\n",
      "Iteration: 4 / 100\n",
      "Iteration: 5 / 100\n",
      "Iteration: 6 / 100\n",
      "Iteration: 7 / 100\n",
      "Iteration: 8 / 100\n",
      "Iteration: 9 / 100\n",
      "Iteration: 10 / 100\n",
      "Iteration: 11 / 100\n",
      "Iteration: 12 / 100\n",
      "Iteration: 13 / 100\n",
      "Iteration: 14 / 100\n",
      "Iteration: 15 / 100\n",
      "Iteration: 16 / 100\n",
      "Iteration: 17 / 100\n",
      "Iteration: 18 / 100\n",
      "Iteration: 19 / 100\n",
      "Iteration: 20 / 100\n",
      "Iteration: 21 / 100\n",
      "Iteration: 22 / 100\n",
      "Iteration: 23 / 100\n",
      "Iteration: 24 / 100\n",
      "Iteration: 25 / 100\n",
      "Iteration: 26 / 100\n",
      "Iteration: 27 / 100\n",
      "Iteration: 28 / 100\n",
      "Iteration: 29 / 100\n",
      "Iteration: 30 / 100\n",
      "Iteration: 31 / 100\n",
      "Iteration: 32 / 100\n",
      "\n",
      "\n",
      "BorutaPy finished running.\n",
      "\n",
      "Iteration: \t33 / 100\n",
      "Confirmed: \t2\n",
      "Tentative: \t0\n",
      "Rejected: \t192581\n"
     ]
    },
    {
     "data": {
      "text/plain": [
       "BorutaPy(estimator=RandomForestClassifier(n_estimators=20,\n",
       "                                          random_state=RandomState(MT19937) at 0x16F81D2EC40),\n",
       "         n_estimators='auto',\n",
       "         random_state=RandomState(MT19937) at 0x16F81D2EC40, verbose=1)"
      ]
     },
     "execution_count": 12,
     "metadata": {},
     "output_type": "execute_result"
    }
   ],
   "source": [
    "rfc = RandomForestClassifier(random_state=1)\n",
    "boruta_selector = BorutaPy(rfc, n_estimators= 'auto', verbose=1, random_state=2)\n",
    "boruta_selector.fit(np.array(X_train), np.array(y_train))  "
   ]
  },
  {
   "cell_type": "code",
   "execution_count": 13,
   "id": "51f874e0",
   "metadata": {
    "ExecuteTime": {
     "end_time": "2022-12-26T13:35:39.754921Z",
     "start_time": "2022-12-26T13:35:39.692373Z"
    }
   },
   "outputs": [
    {
     "name": "stdout",
     "output_type": "stream",
     "text": [
      "No. of significant features:  2\n"
     ]
    }
   ],
   "source": [
    "# print(\"Ranking: \",boruta_selector.ranking_)          \n",
    "print(\"No. of significant features: \", boruta_selector.n_features_)"
   ]
  },
  {
   "cell_type": "code",
   "execution_count": 14,
   "id": "61cadc89",
   "metadata": {
    "ExecuteTime": {
     "end_time": "2022-12-26T13:35:58.390885Z",
     "start_time": "2022-12-26T13:35:58.074075Z"
    }
   },
   "outputs": [],
   "source": [
    "selected_rf_features = pd.DataFrame({'CpG':list(X_train.columns),\n",
    "                                       'Ranking':boruta_selector.ranking_})\n",
    "selected_rf_features = selected_rf_features.sort_values(by='Ranking')"
   ]
  },
  {
   "cell_type": "code",
   "execution_count": 15,
   "id": "6ae888ab",
   "metadata": {
    "ExecuteTime": {
     "end_time": "2022-12-26T13:36:16.495985Z",
     "start_time": "2022-12-26T13:36:16.423342Z"
    },
    "scrolled": true
   },
   "outputs": [
    {
     "data": {
      "text/html": [
       "<div>\n",
       "<style scoped>\n",
       "    .dataframe tbody tr th:only-of-type {\n",
       "        vertical-align: middle;\n",
       "    }\n",
       "\n",
       "    .dataframe tbody tr th {\n",
       "        vertical-align: top;\n",
       "    }\n",
       "\n",
       "    .dataframe thead th {\n",
       "        text-align: right;\n",
       "    }\n",
       "</style>\n",
       "<table border=\"1\" class=\"dataframe\">\n",
       "  <thead>\n",
       "    <tr style=\"text-align: right;\">\n",
       "      <th></th>\n",
       "      <th>CpG</th>\n",
       "      <th>Ranking</th>\n",
       "    </tr>\n",
       "  </thead>\n",
       "  <tbody>\n",
       "    <tr>\n",
       "      <th>0</th>\n",
       "      <td>APPRDX</td>\n",
       "      <td>1</td>\n",
       "    </tr>\n",
       "    <tr>\n",
       "      <th>7938</th>\n",
       "      <td>cg27171575</td>\n",
       "      <td>1</td>\n",
       "    </tr>\n",
       "    <tr>\n",
       "      <th>187085</th>\n",
       "      <td>cg15419852</td>\n",
       "      <td>2</td>\n",
       "    </tr>\n",
       "  </tbody>\n",
       "</table>\n",
       "</div>"
      ],
      "text/plain": [
       "               CpG  Ranking\n",
       "0           APPRDX        1\n",
       "7938    cg27171575        1\n",
       "187085  cg15419852        2"
      ]
     },
     "execution_count": 15,
     "metadata": {},
     "output_type": "execute_result"
    }
   ],
   "source": [
    "Top50 = selected_rf_features.iloc[:51, :]\n",
    "Top50.head(3)"
   ]
  },
  {
   "cell_type": "code",
   "execution_count": 16,
   "id": "9605e163",
   "metadata": {
    "ExecuteTime": {
     "end_time": "2022-12-26T13:36:35.164725Z",
     "start_time": "2022-12-26T13:36:34.451608Z"
    }
   },
   "outputs": [],
   "source": [
    "Top50.to_csv ('SymbDigi_BorutaMale_Top50.csv', index = False)\n",
    "selected_rf_features.to_csv ('SymbDigi_BorutaMale_All.csv', index = False)"
   ]
  },
  {
   "cell_type": "markdown",
   "id": "3268cc49",
   "metadata": {
    "ExecuteTime": {
     "end_time": "2022-10-25T10:29:24.834703Z",
     "start_time": "2022-10-25T10:29:24.602914Z"
    }
   },
   "source": [
    "#Identify a string in dataframe\n",
    "substring = 'cg15328505'\n",
    "selected_rf_features[selected_rf_features.apply(lambda row: row.astype(str).str.contains(substring, case=False).any(), axis=1)]\n"
   ]
  }
 ],
 "metadata": {
  "kernelspec": {
   "display_name": "Python 3 (ipykernel)",
   "language": "python",
   "name": "python3"
  },
  "language_info": {
   "codemirror_mode": {
    "name": "ipython",
    "version": 3
   },
   "file_extension": ".py",
   "mimetype": "text/x-python",
   "name": "python",
   "nbconvert_exporter": "python",
   "pygments_lexer": "ipython3",
   "version": "3.9.16"
  },
  "toc": {
   "base_numbering": 1,
   "nav_menu": {},
   "number_sections": true,
   "sideBar": true,
   "skip_h1_title": false,
   "title_cell": "Table of Contents",
   "title_sidebar": "Contents",
   "toc_cell": false,
   "toc_position": {},
   "toc_section_display": true,
   "toc_window_display": false
  },
  "varInspector": {
   "cols": {
    "lenName": 16,
    "lenType": 16,
    "lenVar": 40
   },
   "kernels_config": {
    "python": {
     "delete_cmd_postfix": "",
     "delete_cmd_prefix": "del ",
     "library": "var_list.py",
     "varRefreshCmd": "print(var_dic_list())"
    },
    "r": {
     "delete_cmd_postfix": ") ",
     "delete_cmd_prefix": "rm(",
     "library": "var_list.r",
     "varRefreshCmd": "cat(var_dic_list()) "
    }
   },
   "types_to_exclude": [
    "module",
    "function",
    "builtin_function_or_method",
    "instance",
    "_Feature"
   ],
   "window_display": false
  }
 },
 "nbformat": 4,
 "nbformat_minor": 5
}
