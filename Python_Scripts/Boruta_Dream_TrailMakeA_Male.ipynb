{
 "cells": [
  {
   "cell_type": "code",
   "execution_count": 1,
   "id": "51c5704f",
   "metadata": {
    "ExecuteTime": {
     "end_time": "2023-03-30T10:38:55.673224Z",
     "start_time": "2023-03-30T10:38:54.184796Z"
    }
   },
   "outputs": [],
   "source": [
    "import numpy as np\n",
    "import pandas as pd\n",
    "from boruta import BorutaPy\n",
    "from sklearn.datasets import load_diabetes\n",
    "from sklearn.metrics import accuracy_score \n",
    "from sklearn.ensemble import RandomForestRegressor\n",
    "from sklearn.ensemble import RandomForestClassifier\n",
    "from sklearn.model_selection import train_test_split"
   ]
  },
  {
   "cell_type": "markdown",
   "id": "84e169d6",
   "metadata": {},
   "source": [
    "# TrailMake A"
   ]
  },
  {
   "cell_type": "code",
   "execution_count": 2,
   "id": "5ff336b1",
   "metadata": {
    "ExecuteTime": {
     "end_time": "2023-03-30T10:39:23.516053Z",
     "start_time": "2023-03-30T10:38:55.704476Z"
    }
   },
   "outputs": [
    {
     "name": "stdout",
     "output_type": "stream",
     "text": [
      "Z:\\PPMI_Data\\Excels\\NonMotors\\The251\\Male\\GeneCpG\\TrailMakeA\n"
     ]
    },
    {
     "data": {
      "text/html": [
       "<div>\n",
       "<style scoped>\n",
       "    .dataframe tbody tr th:only-of-type {\n",
       "        vertical-align: middle;\n",
       "    }\n",
       "\n",
       "    .dataframe tbody tr th {\n",
       "        vertical-align: top;\n",
       "    }\n",
       "\n",
       "    .dataframe thead th {\n",
       "        text-align: right;\n",
       "    }\n",
       "</style>\n",
       "<table border=\"1\" class=\"dataframe\">\n",
       "  <thead>\n",
       "    <tr style=\"text-align: right;\">\n",
       "      <th></th>\n",
       "      <th>Unnamed: 0</th>\n",
       "      <th>Sentrix</th>\n",
       "      <th>PATNO</th>\n",
       "      <th>Gender</th>\n",
       "      <th>Age</th>\n",
       "      <th>AgeCate</th>\n",
       "      <th>HYS</th>\n",
       "      <th>APPRDX</th>\n",
       "      <th>Trail_Making_A</th>\n",
       "      <th>cg08012045</th>\n",
       "      <th>...</th>\n",
       "      <th>cg00956423</th>\n",
       "      <th>cg14462343</th>\n",
       "      <th>cg07481734</th>\n",
       "      <th>cg22394535</th>\n",
       "      <th>cg13044444</th>\n",
       "      <th>cg23223756</th>\n",
       "      <th>cg16870358</th>\n",
       "      <th>cg04754776</th>\n",
       "      <th>cg00154746</th>\n",
       "      <th>cg06155771</th>\n",
       "    </tr>\n",
       "  </thead>\n",
       "  <tbody>\n",
       "    <tr>\n",
       "      <th>0</th>\n",
       "      <td>1</td>\n",
       "      <td>200991620021_R01C01</td>\n",
       "      <td>3001</td>\n",
       "      <td>1</td>\n",
       "      <td>65.1</td>\n",
       "      <td>4</td>\n",
       "      <td>2</td>\n",
       "      <td>1</td>\n",
       "      <td>1.0</td>\n",
       "      <td>0.962437</td>\n",
       "      <td>...</td>\n",
       "      <td>0.10987</td>\n",
       "      <td>0.056582</td>\n",
       "      <td>0.064137</td>\n",
       "      <td>0.053802</td>\n",
       "      <td>0.083556</td>\n",
       "      <td>0.042638</td>\n",
       "      <td>0.041733</td>\n",
       "      <td>0.896521</td>\n",
       "      <td>0.033285</td>\n",
       "      <td>0.753096</td>\n",
       "    </tr>\n",
       "  </tbody>\n",
       "</table>\n",
       "<p>1 rows × 87727 columns</p>\n",
       "</div>"
      ],
      "text/plain": [
       "   Unnamed: 0              Sentrix  PATNO  Gender   Age  AgeCate  HYS  APPRDX  \\\n",
       "0           1  200991620021_R01C01   3001       1  65.1        4    2       1   \n",
       "\n",
       "   Trail_Making_A  cg08012045  ...  cg00956423  cg14462343  cg07481734  \\\n",
       "0             1.0    0.962437  ...     0.10987    0.056582    0.064137   \n",
       "\n",
       "   cg22394535  cg13044444  cg23223756  cg16870358  cg04754776  cg00154746  \\\n",
       "0    0.053802    0.083556    0.042638    0.041733    0.896521    0.033285   \n",
       "\n",
       "   cg06155771  \n",
       "0    0.753096  \n",
       "\n",
       "[1 rows x 87727 columns]"
      ]
     },
     "execution_count": 2,
     "metadata": {},
     "output_type": "execute_result"
    }
   ],
   "source": [
    "%cd Z:\\PPMI_Data\\Excels\\NonMotors\\The251\\Male\\GeneCpG\\TrailMakeA\n",
    "data = pd.read_csv('TrailMakeA_with_MethylomeDetails_Male.csv')\n",
    "data.head(1)"
   ]
  },
  {
   "cell_type": "code",
   "execution_count": 3,
   "id": "ee22df7a",
   "metadata": {
    "ExecuteTime": {
     "end_time": "2023-03-30T10:41:00.721859Z",
     "start_time": "2023-03-30T10:41:00.559071Z"
    }
   },
   "outputs": [
    {
     "name": "stdout",
     "output_type": "stream",
     "text": [
      "   cg08012045  cg08300930  cg00134295  cg10537824  cg04990650  cg03379001  \\\n",
      "0    0.962437    0.964442    0.243530    0.826172    0.845330    0.852316   \n",
      "1    0.938567    0.960982    0.207738    0.792745    0.796766    0.838331   \n",
      "\n",
      "   cg02215627  cg06699201  cg18100935  cg19220149  ...  cg00956423  \\\n",
      "0    0.871498    0.653140    0.891670    0.874343  ...     0.10987   \n",
      "1    0.857896    0.816283    0.897772    0.833252  ...     0.13650   \n",
      "\n",
      "   cg14462343  cg07481734  cg22394535  cg13044444  cg23223756  cg16870358  \\\n",
      "0    0.056582    0.064137    0.053802    0.083556    0.042638    0.041733   \n",
      "1    0.038891    0.039595    0.026053    0.051206    0.029660    0.027424   \n",
      "\n",
      "   cg04754776  cg00154746  cg06155771  \n",
      "0    0.896521    0.033285    0.753096  \n",
      "1    0.868682    0.020491    0.888800  \n",
      "\n",
      "[2 rows x 87718 columns]\n"
     ]
    }
   ],
   "source": [
    "X = data.drop(['Unnamed: 0', 'Sentrix','PATNO','HYS','Gender','Age','AgeCate','APPRDX','Trail_Making_A'], axis = 1)\n",
    "y = data['APPRDX']\n",
    "X_train, X_test, y_train, y_test = train_test_split(X, y, test_size = .2, random_state = 1) \n",
    "print(X.head(2))"
   ]
  },
  {
   "cell_type": "code",
   "execution_count": 4,
   "id": "c1ee3e48",
   "metadata": {
    "ExecuteTime": {
     "end_time": "2023-03-30T10:41:14.097523Z",
     "start_time": "2023-03-30T10:41:12.670630Z"
    }
   },
   "outputs": [
    {
     "data": {
      "text/plain": [
       "RandomForestClassifier(random_state=1)"
      ]
     },
     "execution_count": 4,
     "metadata": {},
     "output_type": "execute_result"
    }
   ],
   "source": [
    "rf_all_features = RandomForestClassifier(random_state=1)\n",
    "rf_all_features.fit(X_train, y_train)"
   ]
  },
  {
   "cell_type": "code",
   "execution_count": 5,
   "id": "f17f8606",
   "metadata": {
    "ExecuteTime": {
     "end_time": "2023-03-30T10:41:18.980442Z",
     "start_time": "2023-03-30T10:41:18.501048Z"
    }
   },
   "outputs": [
    {
     "data": {
      "text/plain": [
       "0.6875"
      ]
     },
     "execution_count": 5,
     "metadata": {},
     "output_type": "execute_result"
    }
   ],
   "source": [
    "accuracy_score(y_test, rf_all_features.predict(X_test))"
   ]
  },
  {
   "cell_type": "code",
   "execution_count": 6,
   "id": "5ba608ac",
   "metadata": {
    "ExecuteTime": {
     "end_time": "2023-03-30T10:51:04.841783Z",
     "start_time": "2023-03-30T10:41:23.190925Z"
    },
    "scrolled": true
   },
   "outputs": [
    {
     "name": "stdout",
     "output_type": "stream",
     "text": [
      "Iteration: 1 / 100\n",
      "Iteration: 2 / 100\n",
      "Iteration: 3 / 100\n",
      "Iteration: 4 / 100\n",
      "Iteration: 5 / 100\n",
      "Iteration: 6 / 100\n",
      "Iteration: 7 / 100\n",
      "Iteration: 8 / 100\n",
      "\n",
      "\n",
      "BorutaPy finished running.\n",
      "\n",
      "Iteration: \t9 / 100\n",
      "Confirmed: \t0\n",
      "Tentative: \t0\n",
      "Rejected: \t87718\n"
     ]
    },
    {
     "data": {
      "text/plain": [
       "BorutaPy(estimator=RandomForestClassifier(n_estimators=4188,\n",
       "                                          random_state=RandomState(MT19937) at 0x1AC060C1E40),\n",
       "         n_estimators='auto',\n",
       "         random_state=RandomState(MT19937) at 0x1AC060C1E40, verbose=1)"
      ]
     },
     "execution_count": 6,
     "metadata": {},
     "output_type": "execute_result"
    }
   ],
   "source": [
    "rfc = RandomForestClassifier(random_state=1)\n",
    "boruta_selector = BorutaPy(rfc, n_estimators= 'auto', verbose=1, random_state=1)\n",
    "boruta_selector.fit(np.array(X_train), np.array(y_train))  "
   ]
  },
  {
   "cell_type": "code",
   "execution_count": 7,
   "id": "51f874e0",
   "metadata": {
    "ExecuteTime": {
     "end_time": "2023-03-30T10:51:09.622200Z",
     "start_time": "2023-03-30T10:51:09.609203Z"
    }
   },
   "outputs": [
    {
     "name": "stdout",
     "output_type": "stream",
     "text": [
      "No. of significant features:  0\n"
     ]
    }
   ],
   "source": [
    "# print(\"Ranking: \",boruta_selector.ranking_)          \n",
    "print(\"No. of significant features: \", boruta_selector.n_features_)"
   ]
  },
  {
   "cell_type": "code",
   "execution_count": 8,
   "id": "61cadc89",
   "metadata": {
    "ExecuteTime": {
     "end_time": "2023-03-30T10:51:14.423487Z",
     "start_time": "2023-03-30T10:51:14.392238Z"
    }
   },
   "outputs": [],
   "source": [
    "selected_rf_features = pd.DataFrame({'CpG':list(X_train.columns),\n",
    "                                       'Ranking':boruta_selector.ranking_})\n",
    "selected_rf_features = selected_rf_features.sort_values(by='Ranking')"
   ]
  },
  {
   "cell_type": "code",
   "execution_count": 9,
   "id": "6ae888ab",
   "metadata": {
    "ExecuteTime": {
     "end_time": "2023-03-30T10:51:19.191404Z",
     "start_time": "2023-03-30T10:51:19.172701Z"
    },
    "scrolled": true
   },
   "outputs": [
    {
     "data": {
      "text/html": [
       "<div>\n",
       "<style scoped>\n",
       "    .dataframe tbody tr th:only-of-type {\n",
       "        vertical-align: middle;\n",
       "    }\n",
       "\n",
       "    .dataframe tbody tr th {\n",
       "        vertical-align: top;\n",
       "    }\n",
       "\n",
       "    .dataframe thead th {\n",
       "        text-align: right;\n",
       "    }\n",
       "</style>\n",
       "<table border=\"1\" class=\"dataframe\">\n",
       "  <thead>\n",
       "    <tr style=\"text-align: right;\">\n",
       "      <th></th>\n",
       "      <th>CpG</th>\n",
       "      <th>Ranking</th>\n",
       "    </tr>\n",
       "  </thead>\n",
       "  <tbody>\n",
       "    <tr>\n",
       "      <th>52196</th>\n",
       "      <td>cg10623221</td>\n",
       "      <td>2</td>\n",
       "    </tr>\n",
       "    <tr>\n",
       "      <th>14887</th>\n",
       "      <td>cg04001014</td>\n",
       "      <td>2</td>\n",
       "    </tr>\n",
       "    <tr>\n",
       "      <th>5585</th>\n",
       "      <td>ch.8.2598327F</td>\n",
       "      <td>3</td>\n",
       "    </tr>\n",
       "  </tbody>\n",
       "</table>\n",
       "</div>"
      ],
      "text/plain": [
       "                 CpG  Ranking\n",
       "52196     cg10623221        2\n",
       "14887     cg04001014        2\n",
       "5585   ch.8.2598327F        3"
      ]
     },
     "execution_count": 9,
     "metadata": {},
     "output_type": "execute_result"
    }
   ],
   "source": [
    "Top50 = selected_rf_features.iloc[:51, :]\n",
    "Top50.head(3)"
   ]
  },
  {
   "cell_type": "code",
   "execution_count": 10,
   "id": "9605e163",
   "metadata": {
    "ExecuteTime": {
     "end_time": "2023-03-30T10:51:23.959172Z",
     "start_time": "2023-03-30T10:51:23.788200Z"
    }
   },
   "outputs": [],
   "source": [
    "Top50.to_csv ('TrailMakeA_Boruta_Top50_Male.csv', index = False)\n",
    "selected_rf_features.to_csv ('TrailMakeA_Boruta_All_Male.csv', index = False)"
   ]
  },
  {
   "cell_type": "code",
   "execution_count": 11,
   "id": "a5bc67f8",
   "metadata": {
    "ExecuteTime": {
     "end_time": "2023-03-30T10:51:28.718178Z",
     "start_time": "2023-03-30T10:51:28.672117Z"
    }
   },
   "outputs": [
    {
     "name": "stderr",
     "output_type": "stream",
     "text": [
      "C:\\Users\\system 4\\AppData\\Local\\Temp\\ipykernel_11008\\2872064585.py:6: SettingWithCopyWarning: \n",
      "A value is trying to be set on a copy of a slice from a DataFrame.\n",
      "Try using .loc[row_indexer,col_indexer] = value instead\n",
      "\n",
      "See the caveats in the documentation: https://pandas.pydata.org/pandas-docs/stable/user_guide/indexing.html#returning-a-view-versus-a-copy\n",
      "  df_subset['APPRDX'] = data['APPRDX']\n"
     ]
    },
    {
     "data": {
      "text/html": [
       "<div>\n",
       "<style scoped>\n",
       "    .dataframe tbody tr th:only-of-type {\n",
       "        vertical-align: middle;\n",
       "    }\n",
       "\n",
       "    .dataframe tbody tr th {\n",
       "        vertical-align: top;\n",
       "    }\n",
       "\n",
       "    .dataframe thead th {\n",
       "        text-align: right;\n",
       "    }\n",
       "</style>\n",
       "<table border=\"1\" class=\"dataframe\">\n",
       "  <thead>\n",
       "    <tr style=\"text-align: right;\">\n",
       "      <th></th>\n",
       "      <th>cg23328194</th>\n",
       "      <th>ch.8.2598327F</th>\n",
       "      <th>cg03584202</th>\n",
       "      <th>cg05720640</th>\n",
       "      <th>cg16108246</th>\n",
       "      <th>cg03060781</th>\n",
       "      <th>cg05955802</th>\n",
       "      <th>cg04001014</th>\n",
       "      <th>cg21608703</th>\n",
       "      <th>cg01513659</th>\n",
       "      <th>...</th>\n",
       "      <th>cg09159198</th>\n",
       "      <th>cg03619568</th>\n",
       "      <th>cg16912215</th>\n",
       "      <th>cg02180305</th>\n",
       "      <th>cg15043720</th>\n",
       "      <th>cg16933706</th>\n",
       "      <th>cg17652025</th>\n",
       "      <th>cg26819609</th>\n",
       "      <th>cg07880064</th>\n",
       "      <th>APPRDX</th>\n",
       "    </tr>\n",
       "  </thead>\n",
       "  <tbody>\n",
       "    <tr>\n",
       "      <th>0</th>\n",
       "      <td>0.722162</td>\n",
       "      <td>0.036232</td>\n",
       "      <td>0.914221</td>\n",
       "      <td>0.345524</td>\n",
       "      <td>0.074928</td>\n",
       "      <td>0.823503</td>\n",
       "      <td>0.035858</td>\n",
       "      <td>0.038820</td>\n",
       "      <td>0.049725</td>\n",
       "      <td>0.826730</td>\n",
       "      <td>...</td>\n",
       "      <td>0.652014</td>\n",
       "      <td>0.836325</td>\n",
       "      <td>0.536352</td>\n",
       "      <td>0.640409</td>\n",
       "      <td>0.057796</td>\n",
       "      <td>0.077437</td>\n",
       "      <td>0.042378</td>\n",
       "      <td>0.118916</td>\n",
       "      <td>0.797291</td>\n",
       "      <td>1</td>\n",
       "    </tr>\n",
       "    <tr>\n",
       "      <th>1</th>\n",
       "      <td>0.728596</td>\n",
       "      <td>0.024407</td>\n",
       "      <td>0.919825</td>\n",
       "      <td>0.276704</td>\n",
       "      <td>0.083055</td>\n",
       "      <td>0.901964</td>\n",
       "      <td>0.019171</td>\n",
       "      <td>0.033699</td>\n",
       "      <td>0.041892</td>\n",
       "      <td>0.776323</td>\n",
       "      <td>...</td>\n",
       "      <td>0.771486</td>\n",
       "      <td>0.629661</td>\n",
       "      <td>0.384349</td>\n",
       "      <td>0.647882</td>\n",
       "      <td>0.027904</td>\n",
       "      <td>0.031536</td>\n",
       "      <td>0.042088</td>\n",
       "      <td>0.077118</td>\n",
       "      <td>0.764450</td>\n",
       "      <td>2</td>\n",
       "    </tr>\n",
       "  </tbody>\n",
       "</table>\n",
       "<p>2 rows × 52 columns</p>\n",
       "</div>"
      ],
      "text/plain": [
       "   cg23328194  ch.8.2598327F  cg03584202  cg05720640  cg16108246  cg03060781  \\\n",
       "0    0.722162       0.036232    0.914221    0.345524    0.074928    0.823503   \n",
       "1    0.728596       0.024407    0.919825    0.276704    0.083055    0.901964   \n",
       "\n",
       "   cg05955802  cg04001014  cg21608703  cg01513659  ...  cg09159198  \\\n",
       "0    0.035858    0.038820    0.049725    0.826730  ...    0.652014   \n",
       "1    0.019171    0.033699    0.041892    0.776323  ...    0.771486   \n",
       "\n",
       "   cg03619568  cg16912215  cg02180305  cg15043720  cg16933706  cg17652025  \\\n",
       "0    0.836325    0.536352    0.640409    0.057796    0.077437    0.042378   \n",
       "1    0.629661    0.384349    0.647882    0.027904    0.031536    0.042088   \n",
       "\n",
       "   cg26819609  cg07880064  APPRDX  \n",
       "0    0.118916    0.797291       1  \n",
       "1    0.077118    0.764450       2  \n",
       "\n",
       "[2 rows x 52 columns]"
      ]
     },
     "execution_count": 11,
     "metadata": {},
     "output_type": "execute_result"
    }
   ],
   "source": [
    "# create a list of column names to subset from data\n",
    "col_names = Top50.iloc[:, 0].tolist()\n",
    "\n",
    "# subset df based on the column names\n",
    "df_subset = data.loc[:, data.columns.isin(col_names)]\n",
    "df_subset['APPRDX'] = data['APPRDX']\n",
    "df_subset.to_csv ('TrailMakeA_Boruta_Top50_Data_Male.csv', index = False)\n",
    "df_subset.head(2)"
   ]
  },
  {
   "cell_type": "markdown",
   "id": "7d040fc9",
   "metadata": {},
   "source": [
    "# Dream"
   ]
  },
  {
   "cell_type": "code",
   "execution_count": 12,
   "id": "6a0b3a09",
   "metadata": {
    "ExecuteTime": {
     "end_time": "2023-03-30T10:51:34.021370Z",
     "start_time": "2023-03-30T10:51:33.926510Z"
    }
   },
   "outputs": [
    {
     "name": "stdout",
     "output_type": "stream",
     "text": [
      "Z:\\PPMI_Data\\Excels\\NonMotors\\The251\\Male\\GeneCpG\\Dream\n"
     ]
    },
    {
     "data": {
      "text/html": [
       "<div>\n",
       "<style scoped>\n",
       "    .dataframe tbody tr th:only-of-type {\n",
       "        vertical-align: middle;\n",
       "    }\n",
       "\n",
       "    .dataframe tbody tr th {\n",
       "        vertical-align: top;\n",
       "    }\n",
       "\n",
       "    .dataframe thead th {\n",
       "        text-align: right;\n",
       "    }\n",
       "</style>\n",
       "<table border=\"1\" class=\"dataframe\">\n",
       "  <thead>\n",
       "    <tr style=\"text-align: right;\">\n",
       "      <th></th>\n",
       "      <th>Unnamed: 0</th>\n",
       "      <th>Sentrix</th>\n",
       "      <th>PATNO</th>\n",
       "      <th>Gender</th>\n",
       "      <th>Age</th>\n",
       "      <th>AgeCate</th>\n",
       "      <th>HYS</th>\n",
       "      <th>APPRDX</th>\n",
       "      <th>REM_Dream</th>\n",
       "      <th>cg07920064</th>\n",
       "      <th>...</th>\n",
       "      <th>cg12444710</th>\n",
       "      <th>cg01442833</th>\n",
       "      <th>cg17429457</th>\n",
       "      <th>cg26703873</th>\n",
       "      <th>cg21642591</th>\n",
       "      <th>cg06818627</th>\n",
       "      <th>cg20495247</th>\n",
       "      <th>cg12696399</th>\n",
       "      <th>cg22978941</th>\n",
       "      <th>cg12009719</th>\n",
       "    </tr>\n",
       "  </thead>\n",
       "  <tbody>\n",
       "    <tr>\n",
       "      <th>0</th>\n",
       "      <td>3</td>\n",
       "      <td>200973410167_R05C01</td>\n",
       "      <td>3010</td>\n",
       "      <td>1</td>\n",
       "      <td>47.0</td>\n",
       "      <td>2</td>\n",
       "      <td>2</td>\n",
       "      <td>1</td>\n",
       "      <td>2</td>\n",
       "      <td>0.020416</td>\n",
       "      <td>...</td>\n",
       "      <td>0.875451</td>\n",
       "      <td>0.022926</td>\n",
       "      <td>0.863662</td>\n",
       "      <td>0.907782</td>\n",
       "      <td>0.022595</td>\n",
       "      <td>0.019975</td>\n",
       "      <td>0.046285</td>\n",
       "      <td>0.021058</td>\n",
       "      <td>0.031956</td>\n",
       "      <td>0.590721</td>\n",
       "    </tr>\n",
       "  </tbody>\n",
       "</table>\n",
       "<p>1 rows × 648 columns</p>\n",
       "</div>"
      ],
      "text/plain": [
       "   Unnamed: 0              Sentrix  PATNO  Gender   Age  AgeCate  HYS  APPRDX  \\\n",
       "0           3  200973410167_R05C01   3010       1  47.0        2    2       1   \n",
       "\n",
       "   REM_Dream  cg07920064  ...  cg12444710  cg01442833  cg17429457  cg26703873  \\\n",
       "0          2    0.020416  ...    0.875451    0.022926    0.863662    0.907782   \n",
       "\n",
       "   cg21642591  cg06818627  cg20495247  cg12696399  cg22978941  cg12009719  \n",
       "0    0.022595    0.019975    0.046285    0.021058    0.031956    0.590721  \n",
       "\n",
       "[1 rows x 648 columns]"
      ]
     },
     "execution_count": 12,
     "metadata": {},
     "output_type": "execute_result"
    }
   ],
   "source": [
    "%cd Z:\\PPMI_Data\\Excels\\NonMotors\\The251\\Male\\GeneCpG\\Dream\n",
    "data = pd.read_csv('Dream_with_MethylomeDetails_Male.csv')\n",
    "data.head(1)"
   ]
  },
  {
   "cell_type": "code",
   "execution_count": 13,
   "id": "d8daf3a3",
   "metadata": {
    "ExecuteTime": {
     "end_time": "2023-03-30T10:53:10.767464Z",
     "start_time": "2023-03-30T10:53:10.745291Z"
    }
   },
   "outputs": [
    {
     "name": "stdout",
     "output_type": "stream",
     "text": [
      "   cg07920064  cg27486695  cg08290072  cg19964303  cg24775454  cg26544277  \\\n",
      "0    0.020416    0.010285    0.028790    0.967632    0.034748    0.021628   \n",
      "1    0.011673    0.007561    0.014732    0.977709    0.018826    0.010112   \n",
      "\n",
      "   cg23153680  cg06716437  cg18014247  cg19412109  ...  cg12444710  \\\n",
      "0    0.106042    0.188028    0.060150    0.134090  ...    0.875451   \n",
      "1    0.028173    0.123297    0.040974    0.136673  ...    0.857053   \n",
      "\n",
      "   cg01442833  cg17429457  cg26703873  cg21642591  cg06818627  cg20495247  \\\n",
      "0    0.022926    0.863662    0.907782    0.022595    0.019975    0.046285   \n",
      "1    0.023881    0.829684    0.916199    0.039999    0.031587    0.041728   \n",
      "\n",
      "   cg12696399  cg22978941  cg12009719  \n",
      "0    0.021058    0.031956    0.590721  \n",
      "1    0.034263    0.026730    0.514764  \n",
      "\n",
      "[2 rows x 639 columns]\n"
     ]
    }
   ],
   "source": [
    "X = data.drop(['Unnamed: 0', 'Sentrix','PATNO','HYS','Gender','REM_Dream','Age','AgeCate','APPRDX'], axis = 1)\n",
    "y = data['APPRDX']\n",
    "X_train, X_test, y_train, y_test = train_test_split(X, y, test_size = .2, random_state = 1) \n",
    "print(X.head(2))"
   ]
  },
  {
   "cell_type": "code",
   "execution_count": 14,
   "id": "73fe318a",
   "metadata": {
    "ExecuteTime": {
     "end_time": "2023-03-30T10:53:15.930786Z",
     "start_time": "2023-03-30T10:53:15.730210Z"
    }
   },
   "outputs": [
    {
     "data": {
      "text/plain": [
       "RandomForestClassifier(random_state=1)"
      ]
     },
     "execution_count": 14,
     "metadata": {},
     "output_type": "execute_result"
    }
   ],
   "source": [
    "rf_all_features = RandomForestClassifier(random_state=1)\n",
    "rf_all_features.fit(X_train, y_train)"
   ]
  },
  {
   "cell_type": "code",
   "execution_count": 15,
   "id": "8e56e1b8",
   "metadata": {
    "ExecuteTime": {
     "end_time": "2023-03-30T10:53:16.200336Z",
     "start_time": "2023-03-30T10:53:16.169077Z"
    }
   },
   "outputs": [
    {
     "data": {
      "text/plain": [
       "0.6363636363636364"
      ]
     },
     "execution_count": 15,
     "metadata": {},
     "output_type": "execute_result"
    }
   ],
   "source": [
    "accuracy_score(y_test, rf_all_features.predict(X_test))"
   ]
  },
  {
   "cell_type": "code",
   "execution_count": 16,
   "id": "28d42b85",
   "metadata": {
    "ExecuteTime": {
     "end_time": "2023-03-30T10:53:21.922974Z",
     "start_time": "2023-03-30T10:53:16.686258Z"
    },
    "scrolled": true
   },
   "outputs": [
    {
     "name": "stdout",
     "output_type": "stream",
     "text": [
      "Iteration: 1 / 100\n",
      "Iteration: 2 / 100\n",
      "Iteration: 3 / 100\n",
      "Iteration: 4 / 100\n",
      "Iteration: 5 / 100\n",
      "Iteration: 6 / 100\n",
      "Iteration: 7 / 100\n",
      "Iteration: 8 / 100\n",
      "Iteration: 9 / 100\n",
      "Iteration: 10 / 100\n",
      "Iteration: 11 / 100\n",
      "Iteration: 12 / 100\n",
      "Iteration: 13 / 100\n",
      "Iteration: 14 / 100\n",
      "Iteration: 15 / 100\n",
      "Iteration: 16 / 100\n",
      "Iteration: 17 / 100\n",
      "Iteration: 18 / 100\n",
      "Iteration: 19 / 100\n",
      "Iteration: 20 / 100\n",
      "Iteration: 21 / 100\n",
      "Iteration: 22 / 100\n",
      "\n",
      "\n",
      "BorutaPy finished running.\n",
      "\n",
      "Iteration: \t23 / 100\n",
      "Confirmed: \t0\n",
      "Tentative: \t0\n",
      "Rejected: \t639\n"
     ]
    },
    {
     "data": {
      "text/plain": [
       "BorutaPy(estimator=RandomForestClassifier(n_estimators=14,\n",
       "                                          random_state=RandomState(MT19937) at 0x1AC40545440),\n",
       "         n_estimators='auto',\n",
       "         random_state=RandomState(MT19937) at 0x1AC40545440, verbose=1)"
      ]
     },
     "execution_count": 16,
     "metadata": {},
     "output_type": "execute_result"
    }
   ],
   "source": [
    "rfc = RandomForestClassifier(random_state=1)\n",
    "boruta_selector = BorutaPy(rfc, n_estimators= 'auto', verbose=1, random_state=1)\n",
    "boruta_selector.fit(np.array(X_train), np.array(y_train))  "
   ]
  },
  {
   "cell_type": "code",
   "execution_count": 17,
   "id": "7f0421ed",
   "metadata": {
    "ExecuteTime": {
     "end_time": "2023-03-30T10:53:22.139208Z",
     "start_time": "2023-03-30T10:53:22.123580Z"
    }
   },
   "outputs": [
    {
     "name": "stdout",
     "output_type": "stream",
     "text": [
      "No. of significant features:  0\n"
     ]
    }
   ],
   "source": [
    "# print(\"Ranking: \",boruta_selector.ranking_)          \n",
    "print(\"No. of significant features: \", boruta_selector.n_features_)"
   ]
  },
  {
   "cell_type": "code",
   "execution_count": 18,
   "id": "1b23b0c4",
   "metadata": {
    "ExecuteTime": {
     "end_time": "2023-03-30T10:53:22.370975Z",
     "start_time": "2023-03-30T10:53:22.355351Z"
    }
   },
   "outputs": [],
   "source": [
    "selected_rf_features = pd.DataFrame({'CpG':list(X_train.columns),\n",
    "                                       'Ranking':boruta_selector.ranking_})\n",
    "selected_rf_features = selected_rf_features.sort_values(by='Ranking')"
   ]
  },
  {
   "cell_type": "code",
   "execution_count": 19,
   "id": "7a76bee7",
   "metadata": {
    "ExecuteTime": {
     "end_time": "2023-03-30T10:53:22.587171Z",
     "start_time": "2023-03-30T10:53:22.571563Z"
    }
   },
   "outputs": [
    {
     "data": {
      "text/html": [
       "<div>\n",
       "<style scoped>\n",
       "    .dataframe tbody tr th:only-of-type {\n",
       "        vertical-align: middle;\n",
       "    }\n",
       "\n",
       "    .dataframe tbody tr th {\n",
       "        vertical-align: top;\n",
       "    }\n",
       "\n",
       "    .dataframe thead th {\n",
       "        text-align: right;\n",
       "    }\n",
       "</style>\n",
       "<table border=\"1\" class=\"dataframe\">\n",
       "  <thead>\n",
       "    <tr style=\"text-align: right;\">\n",
       "      <th></th>\n",
       "      <th>CpG</th>\n",
       "      <th>Ranking</th>\n",
       "    </tr>\n",
       "  </thead>\n",
       "  <tbody>\n",
       "    <tr>\n",
       "      <th>607</th>\n",
       "      <td>cg25745663</td>\n",
       "      <td>2</td>\n",
       "    </tr>\n",
       "    <tr>\n",
       "      <th>113</th>\n",
       "      <td>cg05519181</td>\n",
       "      <td>3</td>\n",
       "    </tr>\n",
       "    <tr>\n",
       "      <th>466</th>\n",
       "      <td>cg27068143</td>\n",
       "      <td>4</td>\n",
       "    </tr>\n",
       "  </tbody>\n",
       "</table>\n",
       "</div>"
      ],
      "text/plain": [
       "            CpG  Ranking\n",
       "607  cg25745663        2\n",
       "113  cg05519181        3\n",
       "466  cg27068143        4"
      ]
     },
     "execution_count": 19,
     "metadata": {},
     "output_type": "execute_result"
    }
   ],
   "source": [
    "Top50 = selected_rf_features.iloc[:51, :]\n",
    "Top50.head(3)"
   ]
  },
  {
   "cell_type": "code",
   "execution_count": 20,
   "id": "c7245d2b",
   "metadata": {
    "ExecuteTime": {
     "end_time": "2023-03-30T10:53:25.365008Z",
     "start_time": "2023-03-30T10:53:25.349440Z"
    }
   },
   "outputs": [],
   "source": [
    "Top50.to_csv ('Dream_Boruta_Top50_Male.csv', index = False)\n",
    "selected_rf_features.to_csv ('Dream_Boruta_All_Male.csv', index = False)"
   ]
  },
  {
   "cell_type": "code",
   "execution_count": 21,
   "id": "5b0f6753",
   "metadata": {
    "ExecuteTime": {
     "end_time": "2023-03-30T10:53:28.745564Z",
     "start_time": "2023-03-30T10:53:28.676602Z"
    }
   },
   "outputs": [
    {
     "name": "stderr",
     "output_type": "stream",
     "text": [
      "C:\\Users\\system 4\\AppData\\Local\\Temp\\ipykernel_11008\\1028601944.py:6: SettingWithCopyWarning: \n",
      "A value is trying to be set on a copy of a slice from a DataFrame.\n",
      "Try using .loc[row_indexer,col_indexer] = value instead\n",
      "\n",
      "See the caveats in the documentation: https://pandas.pydata.org/pandas-docs/stable/user_guide/indexing.html#returning-a-view-versus-a-copy\n",
      "  df_subset['PATNO'] = data['PATNO']\n",
      "C:\\Users\\system 4\\AppData\\Local\\Temp\\ipykernel_11008\\1028601944.py:7: SettingWithCopyWarning: \n",
      "A value is trying to be set on a copy of a slice from a DataFrame.\n",
      "Try using .loc[row_indexer,col_indexer] = value instead\n",
      "\n",
      "See the caveats in the documentation: https://pandas.pydata.org/pandas-docs/stable/user_guide/indexing.html#returning-a-view-versus-a-copy\n",
      "  df_subset['APPRDX'] = data['APPRDX']\n"
     ]
    },
    {
     "data": {
      "text/html": [
       "<div>\n",
       "<style scoped>\n",
       "    .dataframe tbody tr th:only-of-type {\n",
       "        vertical-align: middle;\n",
       "    }\n",
       "\n",
       "    .dataframe tbody tr th {\n",
       "        vertical-align: top;\n",
       "    }\n",
       "\n",
       "    .dataframe thead th {\n",
       "        text-align: right;\n",
       "    }\n",
       "</style>\n",
       "<table border=\"1\" class=\"dataframe\">\n",
       "  <thead>\n",
       "    <tr style=\"text-align: right;\">\n",
       "      <th></th>\n",
       "      <th>cg25836061</th>\n",
       "      <th>cg12175949</th>\n",
       "      <th>cg13463109</th>\n",
       "      <th>cg04692870</th>\n",
       "      <th>cg05519181</th>\n",
       "      <th>cg07795168</th>\n",
       "      <th>cg25935985</th>\n",
       "      <th>cg03129541</th>\n",
       "      <th>cg24096745</th>\n",
       "      <th>cg00744924</th>\n",
       "      <th>...</th>\n",
       "      <th>cg10365880</th>\n",
       "      <th>cg07308881</th>\n",
       "      <th>cg09132121</th>\n",
       "      <th>cg20878697</th>\n",
       "      <th>cg14276366</th>\n",
       "      <th>cg25745663</th>\n",
       "      <th>cg18016466</th>\n",
       "      <th>cg19258682</th>\n",
       "      <th>PATNO</th>\n",
       "      <th>APPRDX</th>\n",
       "    </tr>\n",
       "  </thead>\n",
       "  <tbody>\n",
       "    <tr>\n",
       "      <th>0</th>\n",
       "      <td>0.908477</td>\n",
       "      <td>0.019751</td>\n",
       "      <td>0.873580</td>\n",
       "      <td>0.565374</td>\n",
       "      <td>0.872761</td>\n",
       "      <td>0.977116</td>\n",
       "      <td>0.210510</td>\n",
       "      <td>0.012383</td>\n",
       "      <td>0.905673</td>\n",
       "      <td>0.879814</td>\n",
       "      <td>...</td>\n",
       "      <td>0.924827</td>\n",
       "      <td>0.699845</td>\n",
       "      <td>0.889340</td>\n",
       "      <td>0.780733</td>\n",
       "      <td>0.915085</td>\n",
       "      <td>0.016247</td>\n",
       "      <td>0.020425</td>\n",
       "      <td>0.021563</td>\n",
       "      <td>3010</td>\n",
       "      <td>1</td>\n",
       "    </tr>\n",
       "    <tr>\n",
       "      <th>1</th>\n",
       "      <td>0.896387</td>\n",
       "      <td>0.012827</td>\n",
       "      <td>0.857712</td>\n",
       "      <td>0.663156</td>\n",
       "      <td>0.836375</td>\n",
       "      <td>0.980372</td>\n",
       "      <td>0.190329</td>\n",
       "      <td>0.007813</td>\n",
       "      <td>0.946070</td>\n",
       "      <td>0.907005</td>\n",
       "      <td>...</td>\n",
       "      <td>0.940162</td>\n",
       "      <td>0.763235</td>\n",
       "      <td>0.929361</td>\n",
       "      <td>0.876878</td>\n",
       "      <td>0.859082</td>\n",
       "      <td>0.011207</td>\n",
       "      <td>0.014503</td>\n",
       "      <td>0.011485</td>\n",
       "      <td>3024</td>\n",
       "      <td>1</td>\n",
       "    </tr>\n",
       "  </tbody>\n",
       "</table>\n",
       "<p>2 rows × 53 columns</p>\n",
       "</div>"
      ],
      "text/plain": [
       "   cg25836061  cg12175949  cg13463109  cg04692870  cg05519181  cg07795168  \\\n",
       "0    0.908477    0.019751    0.873580    0.565374    0.872761    0.977116   \n",
       "1    0.896387    0.012827    0.857712    0.663156    0.836375    0.980372   \n",
       "\n",
       "   cg25935985  cg03129541  cg24096745  cg00744924  ...  cg10365880  \\\n",
       "0    0.210510    0.012383    0.905673    0.879814  ...    0.924827   \n",
       "1    0.190329    0.007813    0.946070    0.907005  ...    0.940162   \n",
       "\n",
       "   cg07308881  cg09132121  cg20878697  cg14276366  cg25745663  cg18016466  \\\n",
       "0    0.699845    0.889340    0.780733    0.915085    0.016247    0.020425   \n",
       "1    0.763235    0.929361    0.876878    0.859082    0.011207    0.014503   \n",
       "\n",
       "   cg19258682  PATNO  APPRDX  \n",
       "0    0.021563   3010       1  \n",
       "1    0.011485   3024       1  \n",
       "\n",
       "[2 rows x 53 columns]"
      ]
     },
     "execution_count": 21,
     "metadata": {},
     "output_type": "execute_result"
    }
   ],
   "source": [
    "# create a list of column names to subset from data\n",
    "col_names = Top50.iloc[:, 0].tolist()\n",
    "\n",
    "# subset df based on the column names\n",
    "df_subset = data.loc[:, data.columns.isin(col_names)]\n",
    "df_subset['PATNO'] = data['PATNO']\n",
    "df_subset['APPRDX'] = data['APPRDX']\n",
    "df_subset.to_csv ('Dream_Boruta_Top50_Data_Male.csv', index = False)\n",
    "df_subset.head(2)"
   ]
  },
  {
   "cell_type": "code",
   "execution_count": null,
   "id": "7dfd02e6",
   "metadata": {},
   "outputs": [],
   "source": []
  }
 ],
 "metadata": {
  "kernelspec": {
   "display_name": "Python 3 (ipykernel)",
   "language": "python",
   "name": "python3"
  },
  "language_info": {
   "codemirror_mode": {
    "name": "ipython",
    "version": 3
   },
   "file_extension": ".py",
   "mimetype": "text/x-python",
   "name": "python",
   "nbconvert_exporter": "python",
   "pygments_lexer": "ipython3",
   "version": "3.9.16"
  },
  "toc": {
   "base_numbering": 1,
   "nav_menu": {},
   "number_sections": true,
   "sideBar": true,
   "skip_h1_title": false,
   "title_cell": "Table of Contents",
   "title_sidebar": "Contents",
   "toc_cell": false,
   "toc_position": {},
   "toc_section_display": true,
   "toc_window_display": false
  },
  "varInspector": {
   "cols": {
    "lenName": 16,
    "lenType": 16,
    "lenVar": 40
   },
   "kernels_config": {
    "python": {
     "delete_cmd_postfix": "",
     "delete_cmd_prefix": "del ",
     "library": "var_list.py",
     "varRefreshCmd": "print(var_dic_list())"
    },
    "r": {
     "delete_cmd_postfix": ") ",
     "delete_cmd_prefix": "rm(",
     "library": "var_list.r",
     "varRefreshCmd": "cat(var_dic_list()) "
    }
   },
   "types_to_exclude": [
    "module",
    "function",
    "builtin_function_or_method",
    "instance",
    "_Feature"
   ],
   "window_display": false
  }
 },
 "nbformat": 4,
 "nbformat_minor": 5
}
