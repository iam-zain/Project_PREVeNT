{
 "cells": [
  {
   "cell_type": "markdown",
   "metadata": {
    "colab_type": "text",
    "id": "0MRC0e0KhQ0S"
   },
   "source": [
    "# Random Forest Classification"
   ]
  },
  {
   "cell_type": "code",
   "execution_count": 1,
   "metadata": {
    "ExecuteTime": {
     "end_time": "2023-01-14T14:17:48.783099Z",
     "start_time": "2023-01-14T14:17:46.958154Z"
    },
    "colab": {},
    "colab_type": "code",
    "id": "YvGPUQaHhXfL"
   },
   "outputs": [],
   "source": [
    "import random\n",
    "import numpy as np\n",
    "import pandas as pd\n",
    "import seaborn as sn\n",
    "from numpy import std\n",
    "from numpy import mean\n",
    "import matplotlib.pyplot as plt\n",
    "from sklearn.datasets import make_classification\n",
    "from sklearn.preprocessing import StandardScaler\n",
    "from sklearn.model_selection import cross_val_score\n",
    "from sklearn.ensemble import RandomForestClassifier\n",
    "from sklearn.model_selection import train_test_split\n",
    "from sklearn.model_selection import RepeatedStratifiedKFold\n",
    "from sklearn.metrics import confusion_matrix, accuracy_score\n",
    "%matplotlib inline"
   ]
  },
  {
   "cell_type": "markdown",
   "metadata": {},
   "source": [
    "## RanFor 100 times, CpG only "
   ]
  },
  {
   "cell_type": "code",
   "execution_count": 2,
   "metadata": {
    "ExecuteTime": {
     "end_time": "2023-01-14T14:17:51.188148Z",
     "start_time": "2023-01-14T14:17:48.788146Z"
    },
    "scrolled": true
   },
   "outputs": [
    {
     "name": "stdout",
     "output_type": "stream",
     "text": [
      "Z:\\PPMI_Data\\Excels\\NonMotors\\Derived250\\Male\\GeneCpG\\SleepDay\n",
      "(308, 10416)\n"
     ]
    },
    {
     "data": {
      "text/html": [
       "<div>\n",
       "<style scoped>\n",
       "    .dataframe tbody tr th:only-of-type {\n",
       "        vertical-align: middle;\n",
       "    }\n",
       "\n",
       "    .dataframe tbody tr th {\n",
       "        vertical-align: top;\n",
       "    }\n",
       "\n",
       "    .dataframe thead th {\n",
       "        text-align: right;\n",
       "    }\n",
       "</style>\n",
       "<table border=\"1\" class=\"dataframe\">\n",
       "  <thead>\n",
       "    <tr style=\"text-align: right;\">\n",
       "      <th></th>\n",
       "      <th>APPRDX</th>\n",
       "      <th>cg03441945</th>\n",
       "      <th>cg21094410</th>\n",
       "      <th>cg22926093</th>\n",
       "      <th>cg25025609</th>\n",
       "      <th>cg16704802</th>\n",
       "      <th>cg06228737</th>\n",
       "      <th>cg00220102</th>\n",
       "      <th>cg19016494</th>\n",
       "      <th>cg12247200</th>\n",
       "      <th>...</th>\n",
       "      <th>cg00877887</th>\n",
       "      <th>cg10042437</th>\n",
       "      <th>cg11708297</th>\n",
       "      <th>cg11562513</th>\n",
       "      <th>cg02337566</th>\n",
       "      <th>cg02550961</th>\n",
       "      <th>cg04001842</th>\n",
       "      <th>cg02454595</th>\n",
       "      <th>cg07821960</th>\n",
       "      <th>cg21267231</th>\n",
       "    </tr>\n",
       "  </thead>\n",
       "  <tbody>\n",
       "    <tr>\n",
       "      <th>0</th>\n",
       "      <td>1</td>\n",
       "      <td>0.908813</td>\n",
       "      <td>0.011350</td>\n",
       "      <td>0.012197</td>\n",
       "      <td>0.022372</td>\n",
       "      <td>0.018128</td>\n",
       "      <td>0.945195</td>\n",
       "      <td>0.730494</td>\n",
       "      <td>0.017911</td>\n",
       "      <td>0.921435</td>\n",
       "      <td>...</td>\n",
       "      <td>0.057492</td>\n",
       "      <td>0.172612</td>\n",
       "      <td>0.036982</td>\n",
       "      <td>0.032567</td>\n",
       "      <td>0.175452</td>\n",
       "      <td>0.036156</td>\n",
       "      <td>0.115088</td>\n",
       "      <td>0.058504</td>\n",
       "      <td>0.128815</td>\n",
       "      <td>0.197503</td>\n",
       "    </tr>\n",
       "    <tr>\n",
       "      <th>1</th>\n",
       "      <td>1</td>\n",
       "      <td>0.866976</td>\n",
       "      <td>0.022294</td>\n",
       "      <td>0.017479</td>\n",
       "      <td>0.028596</td>\n",
       "      <td>0.031988</td>\n",
       "      <td>0.937886</td>\n",
       "      <td>0.646004</td>\n",
       "      <td>0.075093</td>\n",
       "      <td>0.930482</td>\n",
       "      <td>...</td>\n",
       "      <td>0.061353</td>\n",
       "      <td>0.099857</td>\n",
       "      <td>0.021763</td>\n",
       "      <td>0.024687</td>\n",
       "      <td>0.131826</td>\n",
       "      <td>0.045940</td>\n",
       "      <td>0.050066</td>\n",
       "      <td>0.042324</td>\n",
       "      <td>0.052716</td>\n",
       "      <td>0.134819</td>\n",
       "    </tr>\n",
       "  </tbody>\n",
       "</table>\n",
       "<p>2 rows × 10416 columns</p>\n",
       "</div>"
      ],
      "text/plain": [
       "   APPRDX  cg03441945  cg21094410  cg22926093  cg25025609  cg16704802  \\\n",
       "0       1    0.908813    0.011350    0.012197    0.022372    0.018128   \n",
       "1       1    0.866976    0.022294    0.017479    0.028596    0.031988   \n",
       "\n",
       "   cg06228737  cg00220102  cg19016494  cg12247200  ...  cg00877887  \\\n",
       "0    0.945195    0.730494    0.017911    0.921435  ...    0.057492   \n",
       "1    0.937886    0.646004    0.075093    0.930482  ...    0.061353   \n",
       "\n",
       "   cg10042437  cg11708297  cg11562513  cg02337566  cg02550961  cg04001842  \\\n",
       "0    0.172612    0.036982    0.032567    0.175452    0.036156    0.115088   \n",
       "1    0.099857    0.021763    0.024687    0.131826    0.045940    0.050066   \n",
       "\n",
       "   cg02454595  cg07821960  cg21267231  \n",
       "0    0.058504    0.128815    0.197503  \n",
       "1    0.042324    0.052716    0.134819  \n",
       "\n",
       "[2 rows x 10416 columns]"
      ]
     },
     "execution_count": 2,
     "metadata": {},
     "output_type": "execute_result"
    }
   ],
   "source": [
    "%cd Z:\\PPMI_Data\\Excels\\NonMotors\\Derived250\\Male\\GeneCpG\\SleepDay\n",
    "df = pd.read_csv('SleepDayCateg_Methylome_Male.csv')\n",
    "df = df.drop(['PATNO','Sentrix','HYS','MDSP_SleepDay'], axis=1)\n",
    "print(df.shape)\n",
    "df.head(2)"
   ]
  },
  {
   "cell_type": "code",
   "execution_count": 4,
   "metadata": {
    "ExecuteTime": {
     "end_time": "2023-01-14T14:25:03.888190Z",
     "start_time": "2023-01-14T14:18:03.363368Z"
    }
   },
   "outputs": [
    {
     "name": "stdout",
     "output_type": "stream",
     "text": [
      "1\n",
      "2\n",
      "3\n",
      "4\n",
      "5\n",
      "6\n",
      "7\n",
      "8\n",
      "9\n",
      "10\n",
      "11\n",
      "12\n",
      "13\n",
      "14\n",
      "15\n",
      "16\n",
      "17\n",
      "18\n",
      "19\n",
      "20\n",
      "21\n",
      "22\n",
      "23\n",
      "24\n",
      "25\n",
      "26\n",
      "27\n",
      "28\n",
      "29\n",
      "30\n",
      "31\n",
      "32\n",
      "33\n",
      "34\n",
      "35\n",
      "36\n",
      "37\n",
      "38\n",
      "39\n",
      "40\n",
      "41\n",
      "42\n",
      "43\n",
      "44\n",
      "45\n",
      "46\n",
      "47\n",
      "48\n",
      "49\n",
      "50\n",
      "51\n",
      "52\n",
      "53\n",
      "54\n",
      "55\n",
      "56\n",
      "57\n",
      "58\n",
      "59\n",
      "60\n",
      "61\n",
      "62\n",
      "63\n",
      "64\n",
      "65\n",
      "66\n",
      "67\n",
      "68\n",
      "69\n",
      "70\n",
      "71\n",
      "72\n",
      "73\n",
      "74\n",
      "75\n",
      "76\n",
      "77\n",
      "78\n",
      "79\n",
      "80\n",
      "81\n",
      "82\n",
      "83\n",
      "84\n",
      "85\n",
      "86\n",
      "87\n",
      "88\n",
      "89\n",
      "90\n",
      "91\n",
      "92\n",
      "93\n",
      "94\n",
      "95\n",
      "96\n",
      "97\n",
      "98\n",
      "99\n",
      "100\n"
     ]
    }
   ],
   "source": [
    "np.random.seed (1)\n",
    "dframe1 = pd.DataFrame(columns=['Accuracy', 'Std_Dev'])\n",
    "for i in range (1,101) :\n",
    "        print(i)\n",
    "        dataset = df.groupby('APPRDX').apply(lambda x: x.sample(90))\n",
    "        X = dataset.iloc[:, 1:].values\n",
    "        y = dataset.iloc[:, 0].values\n",
    "        classifier = RandomForestClassifier(n_estimators = 100, criterion = 'entropy', random_state = 1)\n",
    "        cv = RepeatedStratifiedKFold(n_splits=10, n_repeats=1, random_state=1)\n",
    "        n_scores = cross_val_score(classifier, X, y, scoring='accuracy', cv=cv, n_jobs=-1, error_score='raise')\n",
    "        dframe1 = dframe1.append({'Accuracy': mean(n_scores), 'Std_Dev': std(n_scores)}, ignore_index=True)\n"
   ]
  },
  {
   "cell_type": "code",
   "execution_count": 5,
   "metadata": {
    "ExecuteTime": {
     "end_time": "2023-01-14T14:25:22.843119Z",
     "start_time": "2023-01-14T14:25:22.813321Z"
    },
    "run_control": {
     "marked": false
    },
    "scrolled": true
   },
   "outputs": [
    {
     "name": "stdout",
     "output_type": "stream",
     "text": [
      "   Accuracy   Std_Dev\n",
      "0  0.433333  0.110554\n",
      "1  0.450000  0.147928\n"
     ]
    }
   ],
   "source": [
    "print(dframe1.head(2))\n",
    "dframe1.to_csv (\"SleepDay_allCpG_Male_Accuracy_100RF.csv\", index=False)"
   ]
  },
  {
   "cell_type": "markdown",
   "metadata": {},
   "source": [
    "# Random 7 "
   ]
  },
  {
   "cell_type": "code",
   "execution_count": 6,
   "metadata": {
    "ExecuteTime": {
     "end_time": "2023-01-14T14:25:24.768429Z",
     "start_time": "2023-01-14T14:25:24.718249Z"
    }
   },
   "outputs": [],
   "source": [
    "df1 = df.drop (['APPRDX'], axis=1)"
   ]
  },
  {
   "cell_type": "code",
   "execution_count": 7,
   "metadata": {
    "ExecuteTime": {
     "end_time": "2023-01-14T14:26:26.898348Z",
     "start_time": "2023-01-14T14:25:26.188134Z"
    }
   },
   "outputs": [
    {
     "name": "stdout",
     "output_type": "stream",
     "text": [
      "1\n",
      "2\n",
      "3\n",
      "4\n",
      "5\n",
      "6\n",
      "7\n",
      "8\n",
      "9\n",
      "10\n",
      "11\n",
      "12\n",
      "13\n",
      "14\n",
      "15\n",
      "16\n",
      "17\n",
      "18\n",
      "19\n",
      "20\n",
      "21\n",
      "22\n",
      "23\n",
      "24\n",
      "25\n",
      "26\n",
      "27\n",
      "28\n",
      "29\n",
      "30\n",
      "31\n",
      "32\n",
      "33\n",
      "34\n",
      "35\n",
      "36\n",
      "37\n",
      "38\n",
      "39\n",
      "40\n",
      "41\n",
      "42\n",
      "43\n",
      "44\n",
      "45\n",
      "46\n",
      "47\n",
      "48\n",
      "49\n",
      "50\n",
      "51\n",
      "52\n",
      "53\n",
      "54\n",
      "55\n",
      "56\n",
      "57\n",
      "58\n",
      "59\n",
      "60\n",
      "61\n",
      "62\n",
      "63\n",
      "64\n",
      "65\n",
      "66\n",
      "67\n",
      "68\n",
      "69\n",
      "70\n",
      "71\n",
      "72\n",
      "73\n",
      "74\n",
      "75\n",
      "76\n",
      "77\n",
      "78\n",
      "79\n",
      "80\n",
      "81\n",
      "82\n",
      "83\n",
      "84\n",
      "85\n",
      "86\n",
      "87\n",
      "88\n",
      "89\n",
      "90\n",
      "91\n",
      "92\n",
      "93\n",
      "94\n",
      "95\n",
      "96\n",
      "97\n",
      "98\n",
      "99\n",
      "100\n"
     ]
    }
   ],
   "source": [
    "np.random.seed (1)\n",
    "dframe1 = pd.DataFrame(columns=['Accuracy', 'Std_Dev'])\n",
    "for i in range (1,101) :\n",
    "        print(i)\n",
    "        df3 = df1.sample(7, axis=1)\n",
    "        df3 = df3.reindex(['APPRDX', *df3.columns], axis=1).assign(APPRDX=df['APPRDX'])\n",
    "        dataset = df3.groupby('APPRDX').apply(lambda x: x.sample(90))\n",
    "        X = dataset.iloc[:, 1:].values\n",
    "        y = dataset.iloc[:, 0].values\n",
    "        classifier = RandomForestClassifier(n_estimators = 100, criterion = 'entropy', random_state = 1)\n",
    "        cv = RepeatedStratifiedKFold(n_splits=10, n_repeats=1, random_state=1)\n",
    "        n_scores = cross_val_score(classifier, X, y, scoring='accuracy', cv=cv, n_jobs=-1, error_score='raise')\n",
    "        dframe1 = dframe1.append({'Accuracy': mean(n_scores), 'Std_Dev': std(n_scores)}, ignore_index=True)\n"
   ]
  },
  {
   "cell_type": "code",
   "execution_count": 8,
   "metadata": {
    "ExecuteTime": {
     "end_time": "2023-01-14T14:26:27.613339Z",
     "start_time": "2023-01-14T14:26:27.593249Z"
    }
   },
   "outputs": [
    {
     "name": "stdout",
     "output_type": "stream",
     "text": [
      "   Accuracy   Std_Dev\n",
      "0  0.466667  0.100000\n",
      "1  0.505556  0.125339\n",
      "2  0.405556  0.113990\n"
     ]
    }
   ],
   "source": [
    "print(dframe1.head(3))\n",
    "dframe1.to_csv (\"SleepDay_Random_CpG7_Accuracy_1000RF.csv\",index=False)"
   ]
  },
  {
   "cell_type": "markdown",
   "metadata": {},
   "source": [
    "# Random 50 "
   ]
  },
  {
   "cell_type": "code",
   "execution_count": 9,
   "metadata": {
    "ExecuteTime": {
     "end_time": "2023-01-14T14:27:42.478549Z",
     "start_time": "2023-01-14T14:26:28.268300Z"
    }
   },
   "outputs": [
    {
     "name": "stdout",
     "output_type": "stream",
     "text": [
      "1\n",
      "2\n",
      "3\n",
      "4\n",
      "5\n",
      "6\n",
      "7\n",
      "8\n",
      "9\n",
      "10\n",
      "11\n",
      "12\n",
      "13\n",
      "14\n",
      "15\n",
      "16\n",
      "17\n",
      "18\n",
      "19\n",
      "20\n",
      "21\n",
      "22\n",
      "23\n",
      "24\n",
      "25\n",
      "26\n",
      "27\n",
      "28\n",
      "29\n",
      "30\n",
      "31\n",
      "32\n",
      "33\n",
      "34\n",
      "35\n",
      "36\n",
      "37\n",
      "38\n",
      "39\n",
      "40\n",
      "41\n",
      "42\n",
      "43\n",
      "44\n",
      "45\n",
      "46\n",
      "47\n",
      "48\n",
      "49\n",
      "50\n",
      "51\n",
      "52\n",
      "53\n",
      "54\n",
      "55\n",
      "56\n",
      "57\n",
      "58\n",
      "59\n",
      "60\n",
      "61\n",
      "62\n",
      "63\n",
      "64\n",
      "65\n",
      "66\n",
      "67\n",
      "68\n",
      "69\n",
      "70\n",
      "71\n",
      "72\n",
      "73\n",
      "74\n",
      "75\n",
      "76\n",
      "77\n",
      "78\n",
      "79\n",
      "80\n",
      "81\n",
      "82\n",
      "83\n",
      "84\n",
      "85\n",
      "86\n",
      "87\n",
      "88\n",
      "89\n",
      "90\n",
      "91\n",
      "92\n",
      "93\n",
      "94\n",
      "95\n",
      "96\n",
      "97\n",
      "98\n",
      "99\n",
      "100\n"
     ]
    }
   ],
   "source": [
    "np.random.seed (1)\n",
    "dframe1 = pd.DataFrame(columns=['Accuracy', 'Std_Dev'])\n",
    "for i in range (1,101) :\n",
    "        print(i)\n",
    "        df3 = df1.sample(50, axis=1)\n",
    "        df3 = df3.reindex(['APPRDX', *df3.columns], axis=1).assign(APPRDX=df['APPRDX'])\n",
    "        dataset = df3.groupby('APPRDX').apply(lambda x: x.sample(90))\n",
    "        X = dataset.iloc[:, 1:].values\n",
    "        y = dataset.iloc[:, 0].values\n",
    "        classifier = RandomForestClassifier(n_estimators = 100, criterion = 'entropy', random_state = 1)\n",
    "        cv = RepeatedStratifiedKFold(n_splits=10, n_repeats=1, random_state=1)\n",
    "        n_scores = cross_val_score(classifier, X, y, scoring='accuracy', cv=cv, n_jobs=-1, error_score='raise')\n",
    "        dframe1 = dframe1.append({'Accuracy': mean(n_scores), 'Std_Dev': std(n_scores)}, ignore_index=True)\n"
   ]
  },
  {
   "cell_type": "code",
   "execution_count": 10,
   "metadata": {
    "ExecuteTime": {
     "end_time": "2023-01-14T14:27:43.268317Z",
     "start_time": "2023-01-14T14:27:43.248585Z"
    }
   },
   "outputs": [
    {
     "name": "stdout",
     "output_type": "stream",
     "text": [
      "   Accuracy   Std_Dev\n",
      "0  0.505556  0.145827\n",
      "1  0.400000  0.088889\n",
      "2  0.538889  0.102590\n"
     ]
    }
   ],
   "source": [
    "print(dframe1.head(3))\n",
    "dframe1.to_csv (\"SleepDay_Random_CpG50_Accuracy_1000RF.csv\",index=False)"
   ]
  },
  {
   "cell_type": "code",
   "execution_count": null,
   "metadata": {},
   "outputs": [],
   "source": []
  },
  {
   "cell_type": "code",
   "execution_count": null,
   "metadata": {},
   "outputs": [],
   "source": []
  }
 ],
 "metadata": {
  "colab": {
   "authorship_tag": "ABX9TyPA7K2PAkEFgaKFIvslUMEc",
   "collapsed_sections": [],
   "machine_shape": "hm",
   "name": "random_forest_classification.ipynb",
   "provenance": [],
   "toc_visible": true
  },
  "kernelspec": {
   "display_name": "Python 3 (ipykernel)",
   "language": "python",
   "name": "python3"
  },
  "language_info": {
   "codemirror_mode": {
    "name": "ipython",
    "version": 3
   },
   "file_extension": ".py",
   "mimetype": "text/x-python",
   "name": "python",
   "nbconvert_exporter": "python",
   "pygments_lexer": "ipython3",
   "version": "3.9.7"
  },
  "toc": {
   "base_numbering": 1,
   "nav_menu": {},
   "number_sections": true,
   "sideBar": true,
   "skip_h1_title": false,
   "title_cell": "Table of Contents",
   "title_sidebar": "Contents",
   "toc_cell": false,
   "toc_position": {},
   "toc_section_display": true,
   "toc_window_display": false
  },
  "varInspector": {
   "cols": {
    "lenName": 16,
    "lenType": 16,
    "lenVar": 40
   },
   "kernels_config": {
    "python": {
     "delete_cmd_postfix": "",
     "delete_cmd_prefix": "del ",
     "library": "var_list.py",
     "varRefreshCmd": "print(var_dic_list())"
    },
    "r": {
     "delete_cmd_postfix": ") ",
     "delete_cmd_prefix": "rm(",
     "library": "var_list.r",
     "varRefreshCmd": "cat(var_dic_list()) "
    }
   },
   "types_to_exclude": [
    "module",
    "function",
    "builtin_function_or_method",
    "instance",
    "_Feature"
   ],
   "window_display": false
  }
 },
 "nbformat": 4,
 "nbformat_minor": 1
}
