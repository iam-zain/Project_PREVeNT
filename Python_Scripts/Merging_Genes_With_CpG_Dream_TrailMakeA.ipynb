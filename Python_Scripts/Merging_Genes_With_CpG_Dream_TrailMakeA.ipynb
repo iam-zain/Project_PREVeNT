{
 "cells": [
  {
   "cell_type": "code",
   "execution_count": 1,
   "id": "9dbdd92c",
   "metadata": {
    "ExecuteTime": {
     "end_time": "2023-03-30T09:03:56.626848Z",
     "start_time": "2023-03-30T09:03:56.141136Z"
    }
   },
   "outputs": [],
   "source": [
    "import numpy as np\n",
    "import pandas as pd"
   ]
  },
  {
   "cell_type": "code",
   "execution_count": 2,
   "id": "bf7c8fe9",
   "metadata": {
    "ExecuteTime": {
     "end_time": "2023-03-30T09:03:57.175132Z",
     "start_time": "2023-03-30T09:03:56.626848Z"
    }
   },
   "outputs": [
    {
     "name": "stdout",
     "output_type": "stream",
     "text": [
      "Z:\\PPMI_Data\\Excels\\NonMotors\\The251\\GeneCpG\\TrailMakeA\n",
      "(897065, 2)\n"
     ]
    },
    {
     "data": {
      "text/html": [
       "<div>\n",
       "<style scoped>\n",
       "    .dataframe tbody tr th:only-of-type {\n",
       "        vertical-align: middle;\n",
       "    }\n",
       "\n",
       "    .dataframe tbody tr th {\n",
       "        vertical-align: top;\n",
       "    }\n",
       "\n",
       "    .dataframe thead th {\n",
       "        text-align: right;\n",
       "    }\n",
       "</style>\n",
       "<table border=\"1\" class=\"dataframe\">\n",
       "  <thead>\n",
       "    <tr style=\"text-align: right;\">\n",
       "      <th></th>\n",
       "      <th>Gene</th>\n",
       "      <th>CpG</th>\n",
       "    </tr>\n",
       "  </thead>\n",
       "  <tbody>\n",
       "    <tr>\n",
       "      <th>0</th>\n",
       "      <td>A1BG</td>\n",
       "      <td>cg27629882</td>\n",
       "    </tr>\n",
       "    <tr>\n",
       "      <th>1</th>\n",
       "      <td>A1BG</td>\n",
       "      <td>cg25623524</td>\n",
       "    </tr>\n",
       "  </tbody>\n",
       "</table>\n",
       "</div>"
      ],
      "text/plain": [
       "   Gene         CpG\n",
       "0  A1BG  cg27629882\n",
       "1  A1BG  cg25623524"
      ]
     },
     "execution_count": 2,
     "metadata": {},
     "output_type": "execute_result"
    }
   ],
   "source": [
    "%cd Z:\\PPMI_Data\\Excels\\NonMotors\\The251\\GeneCpG\\TrailMakeA\n",
    "gene = pd.read_csv (\"Cpg_GeneLongColumn_OnlyAnnotated.csv\")\n",
    "print(gene.shape)\n",
    "gene.head(2)"
   ]
  },
  {
   "cell_type": "markdown",
   "id": "c6f9d4dc",
   "metadata": {},
   "source": [
    "## Trail Making A"
   ]
  },
  {
   "cell_type": "code",
   "execution_count": 3,
   "id": "62e4daf8",
   "metadata": {
    "ExecuteTime": {
     "end_time": "2023-03-30T09:03:57.460352Z",
     "start_time": "2023-03-30T09:03:57.175132Z"
    }
   },
   "outputs": [
    {
     "name": "stdout",
     "output_type": "stream",
     "text": [
      "(2161, 1)\n",
      "(87976, 2)\n"
     ]
    },
    {
     "data": {
      "text/html": [
       "<div>\n",
       "<style scoped>\n",
       "    .dataframe tbody tr th:only-of-type {\n",
       "        vertical-align: middle;\n",
       "    }\n",
       "\n",
       "    .dataframe tbody tr th {\n",
       "        vertical-align: top;\n",
       "    }\n",
       "\n",
       "    .dataframe thead th {\n",
       "        text-align: right;\n",
       "    }\n",
       "</style>\n",
       "<table border=\"1\" class=\"dataframe\">\n",
       "  <thead>\n",
       "    <tr style=\"text-align: right;\">\n",
       "      <th></th>\n",
       "      <th>Gene</th>\n",
       "      <th>CpG</th>\n",
       "    </tr>\n",
       "  </thead>\n",
       "  <tbody>\n",
       "    <tr>\n",
       "      <th>0</th>\n",
       "      <td>A2M</td>\n",
       "      <td>cg08012045</td>\n",
       "    </tr>\n",
       "    <tr>\n",
       "      <th>1</th>\n",
       "      <td>A2M</td>\n",
       "      <td>cg08300930</td>\n",
       "    </tr>\n",
       "    <tr>\n",
       "      <th>2</th>\n",
       "      <td>A2M</td>\n",
       "      <td>cg00134295</td>\n",
       "    </tr>\n",
       "  </tbody>\n",
       "</table>\n",
       "</div>"
      ],
      "text/plain": [
       "  Gene         CpG\n",
       "0  A2M  cg08012045\n",
       "1  A2M  cg08300930\n",
       "2  A2M  cg00134295"
      ]
     },
     "execution_count": 3,
     "metadata": {},
     "output_type": "execute_result"
    }
   ],
   "source": [
    "feature1 = pd.read_csv (\"TrailMakeA_Gene.csv\")\n",
    "print(feature1.shape)\n",
    "feature1.head(2)\n",
    "df1 = pd.merge (feature1, gene, on = \"Gene\", how ='inner')\n",
    "print(df1.shape)\n",
    "df1.to_csv('CpG_TrailMakeA_Gene.csv', index = False)\n",
    "df1.head(3)"
   ]
  },
  {
   "cell_type": "code",
   "execution_count": 4,
   "id": "a79d6d60",
   "metadata": {
    "ExecuteTime": {
     "end_time": "2023-03-30T09:03:57.507231Z",
     "start_time": "2023-03-30T09:03:57.460352Z"
    },
    "scrolled": true
   },
   "outputs": [
    {
     "name": "stdout",
     "output_type": "stream",
     "text": [
      "(231, 9)\n"
     ]
    },
    {
     "data": {
      "text/html": [
       "<div>\n",
       "<style scoped>\n",
       "    .dataframe tbody tr th:only-of-type {\n",
       "        vertical-align: middle;\n",
       "    }\n",
       "\n",
       "    .dataframe tbody tr th {\n",
       "        vertical-align: top;\n",
       "    }\n",
       "\n",
       "    .dataframe thead th {\n",
       "        text-align: right;\n",
       "    }\n",
       "</style>\n",
       "<table border=\"1\" class=\"dataframe\">\n",
       "  <thead>\n",
       "    <tr style=\"text-align: right;\">\n",
       "      <th></th>\n",
       "      <th>Sentrix</th>\n",
       "      <th>PATNO</th>\n",
       "      <th>Gender</th>\n",
       "      <th>Age</th>\n",
       "      <th>AgeCate</th>\n",
       "      <th>HYS</th>\n",
       "      <th>APPRDX</th>\n",
       "      <th>Trail_Making_A_Category</th>\n",
       "      <th>Trail_Making_B_Category</th>\n",
       "    </tr>\n",
       "  </thead>\n",
       "  <tbody>\n",
       "    <tr>\n",
       "      <th>0</th>\n",
       "      <td>200973410159_R03C01</td>\n",
       "      <td>3000</td>\n",
       "      <td>2</td>\n",
       "      <td>69.1</td>\n",
       "      <td>4</td>\n",
       "      <td>0</td>\n",
       "      <td>2</td>\n",
       "      <td>0.0</td>\n",
       "      <td>0.0</td>\n",
       "    </tr>\n",
       "    <tr>\n",
       "      <th>1</th>\n",
       "      <td>200991620021_R01C01</td>\n",
       "      <td>3001</td>\n",
       "      <td>1</td>\n",
       "      <td>65.1</td>\n",
       "      <td>4</td>\n",
       "      <td>2</td>\n",
       "      <td>1</td>\n",
       "      <td>1.0</td>\n",
       "      <td>0.0</td>\n",
       "    </tr>\n",
       "    <tr>\n",
       "      <th>2</th>\n",
       "      <td>200991620021_R03C01</td>\n",
       "      <td>3002</td>\n",
       "      <td>2</td>\n",
       "      <td>67.6</td>\n",
       "      <td>4</td>\n",
       "      <td>2</td>\n",
       "      <td>1</td>\n",
       "      <td>2.0</td>\n",
       "      <td>1.0</td>\n",
       "    </tr>\n",
       "  </tbody>\n",
       "</table>\n",
       "</div>"
      ],
      "text/plain": [
       "               Sentrix  PATNO  Gender   Age  AgeCate  HYS  APPRDX  \\\n",
       "0  200973410159_R03C01   3000       2  69.1        4    0       2   \n",
       "1  200991620021_R01C01   3001       1  65.1        4    2       1   \n",
       "2  200991620021_R03C01   3002       2  67.6        4    2       1   \n",
       "\n",
       "   Trail_Making_A_Category  Trail_Making_B_Category  \n",
       "0                      0.0                      0.0  \n",
       "1                      1.0                      0.0  \n",
       "2                      2.0                      1.0  "
      ]
     },
     "execution_count": 4,
     "metadata": {},
     "output_type": "execute_result"
    }
   ],
   "source": [
    "PATNO = pd.read_csv('Sentrix_PATNO_APPRDX_HYS_Gender_Age_of524Methyl_APP1_2.csv')\n",
    "Trail = pd.read_csv('TrailMaking_Derived_Categorized.csv')\n",
    "df3 = pd.merge (PATNO, Trail, on = \"PATNO\", how ='inner')\n",
    "print(df3.shape)\n",
    "df3.to_csv('TrailMakeA_PATNO_APPRDX_Age_in524Methyl.csv', index = False)\n",
    "df3.head(3)"
   ]
  },
  {
   "cell_type": "code",
   "execution_count": 5,
   "id": "d527dbc5",
   "metadata": {
    "ExecuteTime": {
     "end_time": "2023-03-30T09:03:57.576249Z",
     "start_time": "2023-03-30T09:03:57.507231Z"
    }
   },
   "outputs": [
    {
     "name": "stdout",
     "output_type": "stream",
     "text": [
      "(158, 9)\n"
     ]
    },
    {
     "data": {
      "text/html": [
       "<div>\n",
       "<style scoped>\n",
       "    .dataframe tbody tr th:only-of-type {\n",
       "        vertical-align: middle;\n",
       "    }\n",
       "\n",
       "    .dataframe tbody tr th {\n",
       "        vertical-align: top;\n",
       "    }\n",
       "\n",
       "    .dataframe thead th {\n",
       "        text-align: right;\n",
       "    }\n",
       "</style>\n",
       "<table border=\"1\" class=\"dataframe\">\n",
       "  <thead>\n",
       "    <tr style=\"text-align: right;\">\n",
       "      <th></th>\n",
       "      <th>Sentrix</th>\n",
       "      <th>PATNO</th>\n",
       "      <th>Gender</th>\n",
       "      <th>Age</th>\n",
       "      <th>AgeCate</th>\n",
       "      <th>HYS</th>\n",
       "      <th>APPRDX</th>\n",
       "      <th>Trail_Making_A_Category</th>\n",
       "      <th>Trail_Making_B_Category</th>\n",
       "    </tr>\n",
       "  </thead>\n",
       "  <tbody>\n",
       "    <tr>\n",
       "      <th>1</th>\n",
       "      <td>200991620021_R01C01</td>\n",
       "      <td>3001</td>\n",
       "      <td>1</td>\n",
       "      <td>65.1</td>\n",
       "      <td>4</td>\n",
       "      <td>2</td>\n",
       "      <td>1</td>\n",
       "      <td>1.0</td>\n",
       "      <td>0.0</td>\n",
       "    </tr>\n",
       "    <tr>\n",
       "      <th>4</th>\n",
       "      <td>200989060135_R07C01</td>\n",
       "      <td>3004</td>\n",
       "      <td>1</td>\n",
       "      <td>59.4</td>\n",
       "      <td>3</td>\n",
       "      <td>0</td>\n",
       "      <td>2</td>\n",
       "      <td>1.0</td>\n",
       "      <td>1.0</td>\n",
       "    </tr>\n",
       "  </tbody>\n",
       "</table>\n",
       "</div>"
      ],
      "text/plain": [
       "               Sentrix  PATNO  Gender   Age  AgeCate  HYS  APPRDX  \\\n",
       "1  200991620021_R01C01   3001       1  65.1        4    2       1   \n",
       "4  200989060135_R07C01   3004       1  59.4        3    0       2   \n",
       "\n",
       "   Trail_Making_A_Category  Trail_Making_B_Category  \n",
       "1                      1.0                      0.0  \n",
       "4                      1.0                      1.0  "
      ]
     },
     "execution_count": 5,
     "metadata": {},
     "output_type": "execute_result"
    }
   ],
   "source": [
    "df4 = df3.loc[df3['Gender'] == 1]\n",
    "print(df4.shape)\n",
    "df4.to_csv('TrailMakeA_PATNO_APPRDX_Age_in524Methyl_Male.csv')\n",
    "df4.head(2)"
   ]
  },
  {
   "cell_type": "markdown",
   "id": "754c8179",
   "metadata": {},
   "source": [
    "## Dream"
   ]
  },
  {
   "cell_type": "code",
   "execution_count": 6,
   "id": "41ab90be",
   "metadata": {
    "ExecuteTime": {
     "end_time": "2023-03-30T09:03:57.792432Z",
     "start_time": "2023-03-30T09:03:57.576249Z"
    }
   },
   "outputs": [
    {
     "name": "stdout",
     "output_type": "stream",
     "text": [
      "Z:\\PPMI_Data\\Excels\\NonMotors\\The251\\GeneCpG\\Dream\n",
      "(665, 2)\n"
     ]
    },
    {
     "data": {
      "text/html": [
       "<div>\n",
       "<style scoped>\n",
       "    .dataframe tbody tr th:only-of-type {\n",
       "        vertical-align: middle;\n",
       "    }\n",
       "\n",
       "    .dataframe tbody tr th {\n",
       "        vertical-align: top;\n",
       "    }\n",
       "\n",
       "    .dataframe thead th {\n",
       "        text-align: right;\n",
       "    }\n",
       "</style>\n",
       "<table border=\"1\" class=\"dataframe\">\n",
       "  <thead>\n",
       "    <tr style=\"text-align: right;\">\n",
       "      <th></th>\n",
       "      <th>Gene</th>\n",
       "      <th>CpG</th>\n",
       "    </tr>\n",
       "  </thead>\n",
       "  <tbody>\n",
       "    <tr>\n",
       "      <th>0</th>\n",
       "      <td>ABCB6</td>\n",
       "      <td>cg07920064</td>\n",
       "    </tr>\n",
       "    <tr>\n",
       "      <th>1</th>\n",
       "      <td>ABCB6</td>\n",
       "      <td>cg27486695</td>\n",
       "    </tr>\n",
       "  </tbody>\n",
       "</table>\n",
       "</div>"
      ],
      "text/plain": [
       "    Gene         CpG\n",
       "0  ABCB6  cg07920064\n",
       "1  ABCB6  cg27486695"
      ]
     },
     "execution_count": 6,
     "metadata": {},
     "output_type": "execute_result"
    }
   ],
   "source": [
    "%cd Z:\\PPMI_Data\\Excels\\NonMotors\\The251\\GeneCpG\\Dream\n",
    "feature2 = pd.read_csv (\"Dream_Gene.csv\")\n",
    "df2 = pd.merge (feature2, gene, on = \"Gene\", how ='inner')\n",
    "print(df2.shape)\n",
    "df2.to_csv('CpG_Dream_Gene.csv', index = False)\n",
    "df2.head(2)"
   ]
  },
  {
   "cell_type": "code",
   "execution_count": 7,
   "id": "48cebff9",
   "metadata": {
    "ExecuteTime": {
     "end_time": "2023-03-30T09:03:57.823688Z",
     "start_time": "2023-03-30T09:03:57.792432Z"
    },
    "scrolled": true
   },
   "outputs": [
    {
     "name": "stdout",
     "output_type": "stream",
     "text": [
      "(160, 8)\n"
     ]
    },
    {
     "data": {
      "text/html": [
       "<div>\n",
       "<style scoped>\n",
       "    .dataframe tbody tr th:only-of-type {\n",
       "        vertical-align: middle;\n",
       "    }\n",
       "\n",
       "    .dataframe tbody tr th {\n",
       "        vertical-align: top;\n",
       "    }\n",
       "\n",
       "    .dataframe thead th {\n",
       "        text-align: right;\n",
       "    }\n",
       "</style>\n",
       "<table border=\"1\" class=\"dataframe\">\n",
       "  <thead>\n",
       "    <tr style=\"text-align: right;\">\n",
       "      <th></th>\n",
       "      <th>Sentrix</th>\n",
       "      <th>PATNO</th>\n",
       "      <th>Gender</th>\n",
       "      <th>Age</th>\n",
       "      <th>AgeCate</th>\n",
       "      <th>HYS</th>\n",
       "      <th>APPRDX</th>\n",
       "      <th>REM_Dream</th>\n",
       "    </tr>\n",
       "  </thead>\n",
       "  <tbody>\n",
       "    <tr>\n",
       "      <th>0</th>\n",
       "      <td>200991620021_R03C01</td>\n",
       "      <td>3002</td>\n",
       "      <td>2</td>\n",
       "      <td>67.6</td>\n",
       "      <td>4</td>\n",
       "      <td>2</td>\n",
       "      <td>1</td>\n",
       "      <td>2</td>\n",
       "    </tr>\n",
       "    <tr>\n",
       "      <th>1</th>\n",
       "      <td>200973410143_R01C01</td>\n",
       "      <td>3008</td>\n",
       "      <td>2</td>\n",
       "      <td>81.9</td>\n",
       "      <td>5</td>\n",
       "      <td>0</td>\n",
       "      <td>2</td>\n",
       "      <td>2</td>\n",
       "    </tr>\n",
       "    <tr>\n",
       "      <th>2</th>\n",
       "      <td>200973410143_R06C01</td>\n",
       "      <td>3009</td>\n",
       "      <td>2</td>\n",
       "      <td>83.7</td>\n",
       "      <td>5</td>\n",
       "      <td>0</td>\n",
       "      <td>2</td>\n",
       "      <td>1</td>\n",
       "    </tr>\n",
       "  </tbody>\n",
       "</table>\n",
       "</div>"
      ],
      "text/plain": [
       "               Sentrix  PATNO  Gender   Age  AgeCate  HYS  APPRDX  REM_Dream\n",
       "0  200991620021_R03C01   3002       2  67.6        4    2       1          2\n",
       "1  200973410143_R01C01   3008       2  81.9        5    0       2          2\n",
       "2  200973410143_R06C01   3009       2  83.7        5    0       2          1"
      ]
     },
     "execution_count": 7,
     "metadata": {},
     "output_type": "execute_result"
    }
   ],
   "source": [
    "PATNO = pd.read_csv('Sentrix_PATNO_APPRDX_HYS_Gender_Age_of524Methyl_APP1_2.csv')\n",
    "Trail = pd.read_csv('REM_Dream_Categorized.csv')\n",
    "df3 = pd.merge (PATNO, Trail, on = \"PATNO\", how ='inner')\n",
    "print(df3.shape)\n",
    "df3.to_csv('Dream_PATNO_APPRDX_Age_in524Methyl.csv', index = False)\n",
    "df3.head(3)"
   ]
  },
  {
   "cell_type": "code",
   "execution_count": 8,
   "id": "0f56a476",
   "metadata": {
    "ExecuteTime": {
     "end_time": "2023-03-30T09:03:57.892708Z",
     "start_time": "2023-03-30T09:03:57.823688Z"
    }
   },
   "outputs": [
    {
     "name": "stdout",
     "output_type": "stream",
     "text": [
      "(110, 8)\n"
     ]
    },
    {
     "data": {
      "text/html": [
       "<div>\n",
       "<style scoped>\n",
       "    .dataframe tbody tr th:only-of-type {\n",
       "        vertical-align: middle;\n",
       "    }\n",
       "\n",
       "    .dataframe tbody tr th {\n",
       "        vertical-align: top;\n",
       "    }\n",
       "\n",
       "    .dataframe thead th {\n",
       "        text-align: right;\n",
       "    }\n",
       "</style>\n",
       "<table border=\"1\" class=\"dataframe\">\n",
       "  <thead>\n",
       "    <tr style=\"text-align: right;\">\n",
       "      <th></th>\n",
       "      <th>Sentrix</th>\n",
       "      <th>PATNO</th>\n",
       "      <th>Gender</th>\n",
       "      <th>Age</th>\n",
       "      <th>AgeCate</th>\n",
       "      <th>HYS</th>\n",
       "      <th>APPRDX</th>\n",
       "      <th>REM_Dream</th>\n",
       "    </tr>\n",
       "  </thead>\n",
       "  <tbody>\n",
       "    <tr>\n",
       "      <th>3</th>\n",
       "      <td>200973410167_R05C01</td>\n",
       "      <td>3010</td>\n",
       "      <td>1</td>\n",
       "      <td>47.0</td>\n",
       "      <td>2</td>\n",
       "      <td>2</td>\n",
       "      <td>1</td>\n",
       "      <td>2</td>\n",
       "    </tr>\n",
       "    <tr>\n",
       "      <th>8</th>\n",
       "      <td>200989060143_R08C01</td>\n",
       "      <td>3024</td>\n",
       "      <td>1</td>\n",
       "      <td>52.7</td>\n",
       "      <td>2</td>\n",
       "      <td>2</td>\n",
       "      <td>1</td>\n",
       "      <td>0</td>\n",
       "    </tr>\n",
       "  </tbody>\n",
       "</table>\n",
       "</div>"
      ],
      "text/plain": [
       "               Sentrix  PATNO  Gender   Age  AgeCate  HYS  APPRDX  REM_Dream\n",
       "3  200973410167_R05C01   3010       1  47.0        2    2       1          2\n",
       "8  200989060143_R08C01   3024       1  52.7        2    2       1          0"
      ]
     },
     "execution_count": 8,
     "metadata": {},
     "output_type": "execute_result"
    }
   ],
   "source": [
    "df4 = df3.loc[df3['Gender'] == 1]\n",
    "print(df4.shape)\n",
    "df4.to_csv('Dream_PATNO_APPRDX_Age_in524Methyl_Male.csv')\n",
    "df4.head(2)"
   ]
  },
  {
   "cell_type": "code",
   "execution_count": null,
   "id": "09f9eaa1",
   "metadata": {},
   "outputs": [],
   "source": []
  }
 ],
 "metadata": {
  "kernelspec": {
   "display_name": "Python 3 (ipykernel)",
   "language": "python",
   "name": "python3"
  },
  "language_info": {
   "codemirror_mode": {
    "name": "ipython",
    "version": 3
   },
   "file_extension": ".py",
   "mimetype": "text/x-python",
   "name": "python",
   "nbconvert_exporter": "python",
   "pygments_lexer": "ipython3",
   "version": "3.9.16"
  },
  "toc": {
   "base_numbering": 1,
   "nav_menu": {},
   "number_sections": true,
   "sideBar": true,
   "skip_h1_title": false,
   "title_cell": "Table of Contents",
   "title_sidebar": "Contents",
   "toc_cell": false,
   "toc_position": {},
   "toc_section_display": true,
   "toc_window_display": false
  },
  "varInspector": {
   "cols": {
    "lenName": 16,
    "lenType": 16,
    "lenVar": 40
   },
   "kernels_config": {
    "python": {
     "delete_cmd_postfix": "",
     "delete_cmd_prefix": "del ",
     "library": "var_list.py",
     "varRefreshCmd": "print(var_dic_list())"
    },
    "r": {
     "delete_cmd_postfix": ") ",
     "delete_cmd_prefix": "rm(",
     "library": "var_list.r",
     "varRefreshCmd": "cat(var_dic_list()) "
    }
   },
   "types_to_exclude": [
    "module",
    "function",
    "builtin_function_or_method",
    "instance",
    "_Feature"
   ],
   "window_display": false
  }
 },
 "nbformat": 4,
 "nbformat_minor": 5
}
