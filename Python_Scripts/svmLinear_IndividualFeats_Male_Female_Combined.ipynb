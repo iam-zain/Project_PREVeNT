{
 "cells": [
  {
   "cell_type": "code",
   "execution_count": 1,
   "id": "c30f5e3d",
   "metadata": {
    "ExecuteTime": {
     "end_time": "2023-03-29T08:31:44.810758Z",
     "start_time": "2023-03-29T08:31:38.124424Z"
    }
   },
   "outputs": [],
   "source": [
    "import numpy as np\n",
    "import pandas as pd\n",
    "from sklearn.svm import SVC\n",
    "from joblib import Parallel, delayed\n",
    "from sklearn.metrics import confusion_matrix\n",
    "from sklearn.model_selection import StratifiedKFold, train_test_split"
   ]
  },
  {
   "cell_type": "markdown",
   "id": "3c539d9f",
   "metadata": {},
   "source": [
    "## Male"
   ]
  },
  {
   "cell_type": "code",
   "execution_count": 2,
   "id": "2545d7d6",
   "metadata": {
    "ExecuteTime": {
     "end_time": "2023-03-29T08:32:33.088440Z",
     "start_time": "2023-03-29T08:31:44.810758Z"
    }
   },
   "outputs": [
    {
     "name": "stdout",
     "output_type": "stream",
     "text": [
      "Z:\\PPMI_Data\\Excels\\NonMotors\\The251\\Male\n",
      "(167, 47)\n",
      "1    111\n",
      "2     56\n",
      "Name: APPRDX, dtype: int64\n"
     ]
    }
   ],
   "source": [
    "%cd Z:\\PPMI_Data\\Excels\\NonMotors\\The251\\Male\n",
    "NonMot1 = pd.read_csv('Feats45_CategAge_APPRDX_Male_Edit.csv')\n",
    "print(NonMot1.shape)\n",
    "\n",
    "NonMot2 = NonMot1.drop('PATNO', axis=1)\n",
    "NonMot2['APPRDX'] = pd.Categorical(NonMot2['APPRDX'])\n",
    "print(NonMot2['APPRDX'].value_counts())\n",
    "\n",
    "output = pd.DataFrame()\n",
    "\n",
    "NUM_CORES = 4\n",
    "NUM_FOLDS = 10\n",
    "NUM_REPEATS = 1\n",
    "NUM_SAMPLES = 50\n",
    "NUM_RUNS = 100\n",
    "\n",
    "def run_model(col_index):\n",
    "    print(NonMot2.columns[col_index])\n",
    "    acc_list = []\n",
    "    for j in range(NUM_RUNS):\n",
    "        print(col_index)\n",
    "        print(j)\n",
    "        df = NonMot2.groupby('APPRDX').apply(lambda x: x.sample(NUM_SAMPLES)).reset_index(drop=True)\n",
    "        df = df.iloc[:, [0, col_index]]\n",
    "        X = df.iloc[:, 1:].values\n",
    "        y = df.iloc[:, 0].values\n",
    "        skf = StratifiedKFold(n_splits=NUM_FOLDS, shuffle=True, random_state=j)\n",
    "        for train_index, test_index in skf.split(X, y):\n",
    "            X_train, X_test = X[train_index], X[test_index]\n",
    "            y_train, y_test = y[train_index], y[test_index]\n",
    "            svc = SVC(kernel='linear')\n",
    "            svc.fit(X_train, y_train)\n",
    "            pred = svc.predict(X_test)\n",
    "            res = confusion_matrix(y_test, pred)\n",
    "            print(res)\n",
    "            acc = np.sum(np.diag(res)) / np.sum(res)\n",
    "            acc_list.append(acc)\n",
    "    return acc_list\n",
    "\n",
    "results = Parallel(n_jobs=NUM_CORES)(\n",
    "    delayed(run_model)(col_index) for col_index in range(1, NonMot2.shape[1])\n",
    ")\n",
    "\n",
    "output = pd.DataFrame(np.array(results).T)\n",
    "output.columns = NonMot2.columns[1:]\n",
    "output.to_csv('NonMot_Indi45Feats_Male_100svmL.csv', index=False)"
   ]
  },
  {
   "cell_type": "markdown",
   "id": "cac8e69e",
   "metadata": {},
   "source": [
    "## Female"
   ]
  },
  {
   "cell_type": "code",
   "execution_count": 3,
   "id": "d4d1438e",
   "metadata": {
    "ExecuteTime": {
     "end_time": "2023-03-29T08:33:08.925866Z",
     "start_time": "2023-03-29T08:32:33.088440Z"
    },
    "scrolled": true
   },
   "outputs": [
    {
     "name": "stdout",
     "output_type": "stream",
     "text": [
      "Z:\\PPMI_Data\\Excels\\NonMotors\\The251\\Female\n",
      "(84, 47)\n",
      "1    54\n",
      "2    30\n",
      "Name: APPRDX, dtype: int64\n"
     ]
    }
   ],
   "source": [
    "%cd Z:\\PPMI_Data\\Excels\\NonMotors\\The251\\Female\n",
    "NonMot1 = pd.read_csv('Feats45_CategAge_APPRDX_Female_Edit.csv')\n",
    "print(NonMot1.shape)\n",
    "\n",
    "NonMot2 = NonMot1.drop('PATNO', axis=1)\n",
    "NonMot2['APPRDX'] = pd.Categorical(NonMot2['APPRDX'])\n",
    "print(NonMot2['APPRDX'].value_counts())\n",
    "\n",
    "output = pd.DataFrame()\n",
    "\n",
    "NUM_CORES = 4\n",
    "NUM_FOLDS = 10\n",
    "NUM_REPEATS = 1\n",
    "NUM_SAMPLES = 30\n",
    "NUM_RUNS = 100\n",
    "\n",
    "def run_model(col_index):\n",
    "    print(NonMot2.columns[col_index])\n",
    "    acc_list = []\n",
    "    for j in range(NUM_RUNS):\n",
    "        print(col_index)\n",
    "        print(j)\n",
    "        df = NonMot2.groupby('APPRDX').apply(lambda x: x.sample(NUM_SAMPLES)).reset_index(drop=True)\n",
    "        df = df.iloc[:, [0, col_index]]\n",
    "        X = df.iloc[:, 1:].values\n",
    "        y = df.iloc[:, 0].values\n",
    "        skf = StratifiedKFold(n_splits=NUM_FOLDS, shuffle=True, random_state=j)\n",
    "        for train_index, test_index in skf.split(X, y):\n",
    "            X_train, X_test = X[train_index], X[test_index]\n",
    "            y_train, y_test = y[train_index], y[test_index]\n",
    "            svc = SVC(kernel='linear')\n",
    "            svc.fit(X_train, y_train)\n",
    "            pred = svc.predict(X_test)\n",
    "            res = confusion_matrix(y_test, pred)\n",
    "            print(res)\n",
    "            acc = np.sum(np.diag(res)) / np.sum(res)\n",
    "            acc_list.append(acc)\n",
    "    return acc_list\n",
    "\n",
    "results = Parallel(n_jobs=NUM_CORES)(\n",
    "    delayed(run_model)(col_index) for col_index in range(1, NonMot2.shape[1])\n",
    ")\n",
    "\n",
    "output = pd.DataFrame(np.array(results).T)\n",
    "output.columns = NonMot2.columns[1:]\n",
    "output.to_csv('NonMot_Indi45Feats_Female_100svmL.csv', index=False)"
   ]
  },
  {
   "cell_type": "markdown",
   "id": "95a14c11",
   "metadata": {},
   "source": [
    "## Combined"
   ]
  },
  {
   "cell_type": "code",
   "execution_count": 4,
   "id": "f5d2ad43",
   "metadata": {
    "ExecuteTime": {
     "end_time": "2023-03-29T08:33:53.083513Z",
     "start_time": "2023-03-29T08:33:08.925866Z"
    }
   },
   "outputs": [
    {
     "name": "stdout",
     "output_type": "stream",
     "text": [
      "Z:\\PPMI_Data\\Excels\\NonMotors\\The251\n",
      "(251, 46)\n",
      "1    165\n",
      "2     86\n",
      "Name: APPRDX, dtype: int64\n"
     ]
    }
   ],
   "source": [
    "%cd Z:\\PPMI_Data\\Excels\\NonMotors\\The251\n",
    "NonMot2 = pd.read_csv('Feats45_Categ.csv')\n",
    "print(NonMot2.shape)\n",
    "NonMot2['APPRDX'] = pd.Categorical(NonMot2['APPRDX'])\n",
    "print(NonMot2['APPRDX'].value_counts())\n",
    "\n",
    "output = pd.DataFrame()\n",
    "\n",
    "NUM_CORES = 4\n",
    "NUM_FOLDS = 10\n",
    "NUM_REPEATS = 1\n",
    "NUM_SAMPLES = 80\n",
    "NUM_RUNS = 100\n",
    "\n",
    "def run_model(col_index):\n",
    "    print(NonMot2.columns[col_index])\n",
    "    acc_list = []\n",
    "    for j in range(NUM_RUNS):\n",
    "        print(col_index)\n",
    "        print(j)\n",
    "        df = NonMot2.groupby('APPRDX').apply(lambda x: x.sample(NUM_SAMPLES)).reset_index(drop=True)\n",
    "        df = df.iloc[:, [0, col_index]]\n",
    "        X = df.iloc[:, 1:].values\n",
    "        y = df.iloc[:, 0].values\n",
    "        skf = StratifiedKFold(n_splits=NUM_FOLDS, shuffle=True, random_state=j)\n",
    "        for train_index, test_index in skf.split(X, y):\n",
    "            X_train, X_test = X[train_index], X[test_index]\n",
    "            y_train, y_test = y[train_index], y[test_index]\n",
    "            svc = SVC(kernel='linear')\n",
    "            svc.fit(X_train, y_train)\n",
    "            pred = svc.predict(X_test)\n",
    "            res = confusion_matrix(y_test, pred)\n",
    "            print(res)\n",
    "            acc = np.sum(np.diag(res)) / np.sum(res)\n",
    "            acc_list.append(acc)\n",
    "    return acc_list\n",
    "\n",
    "results = Parallel(n_jobs=NUM_CORES)(\n",
    "    delayed(run_model)(col_index) for col_index in range(1, NonMot2.shape[1])\n",
    ")\n",
    "\n",
    "output = pd.DataFrame(np.array(results).T)\n",
    "output.columns = NonMot2.columns[1:]\n",
    "output.to_csv('NonMot_Indi45Feats_Combined_100svmL.csv', index=False)"
   ]
  }
 ],
 "metadata": {
  "kernelspec": {
   "display_name": "Python 3 (ipykernel)",
   "language": "python",
   "name": "python3"
  },
  "language_info": {
   "codemirror_mode": {
    "name": "ipython",
    "version": 3
   },
   "file_extension": ".py",
   "mimetype": "text/x-python",
   "name": "python",
   "nbconvert_exporter": "python",
   "pygments_lexer": "ipython3",
   "version": "3.9.16"
  },
  "toc": {
   "base_numbering": 1,
   "nav_menu": {},
   "number_sections": true,
   "sideBar": true,
   "skip_h1_title": false,
   "title_cell": "Table of Contents",
   "title_sidebar": "Contents",
   "toc_cell": false,
   "toc_position": {},
   "toc_section_display": true,
   "toc_window_display": false
  },
  "varInspector": {
   "cols": {
    "lenName": 16,
    "lenType": 16,
    "lenVar": 40
   },
   "kernels_config": {
    "python": {
     "delete_cmd_postfix": "",
     "delete_cmd_prefix": "del ",
     "library": "var_list.py",
     "varRefreshCmd": "print(var_dic_list())"
    },
    "r": {
     "delete_cmd_postfix": ") ",
     "delete_cmd_prefix": "rm(",
     "library": "var_list.r",
     "varRefreshCmd": "cat(var_dic_list()) "
    }
   },
   "types_to_exclude": [
    "module",
    "function",
    "builtin_function_or_method",
    "instance",
    "_Feature"
   ],
   "window_display": false
  }
 },
 "nbformat": 4,
 "nbformat_minor": 5
}
