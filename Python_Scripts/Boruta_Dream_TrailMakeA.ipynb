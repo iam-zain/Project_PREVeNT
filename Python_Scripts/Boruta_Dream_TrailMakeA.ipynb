{
 "cells": [
  {
   "cell_type": "code",
   "execution_count": 1,
   "id": "51c5704f",
   "metadata": {
    "ExecuteTime": {
     "end_time": "2023-03-30T09:18:27.466802Z",
     "start_time": "2023-03-30T09:18:16.198234Z"
    }
   },
   "outputs": [],
   "source": [
    "import numpy as np\n",
    "import pandas as pd\n",
    "from boruta import BorutaPy\n",
    "from sklearn.datasets import load_diabetes\n",
    "from sklearn.metrics import accuracy_score \n",
    "from sklearn.ensemble import RandomForestRegressor\n",
    "from sklearn.ensemble import RandomForestClassifier\n",
    "from sklearn.model_selection import train_test_split"
   ]
  },
  {
   "cell_type": "markdown",
   "id": "84e169d6",
   "metadata": {},
   "source": [
    "# TrailMake A"
   ]
  },
  {
   "cell_type": "code",
   "execution_count": 6,
   "id": "5ff336b1",
   "metadata": {
    "ExecuteTime": {
     "end_time": "2023-03-30T09:21:25.672216Z",
     "start_time": "2023-03-30T09:20:47.331894Z"
    }
   },
   "outputs": [
    {
     "name": "stdout",
     "output_type": "stream",
     "text": [
      "Z:\\PPMI_Data\\Excels\\NonMotors\\The251\\GeneCpG\\TrailMakeA\n"
     ]
    },
    {
     "data": {
      "text/html": [
       "<div>\n",
       "<style scoped>\n",
       "    .dataframe tbody tr th:only-of-type {\n",
       "        vertical-align: middle;\n",
       "    }\n",
       "\n",
       "    .dataframe tbody tr th {\n",
       "        vertical-align: top;\n",
       "    }\n",
       "\n",
       "    .dataframe thead th {\n",
       "        text-align: right;\n",
       "    }\n",
       "</style>\n",
       "<table border=\"1\" class=\"dataframe\">\n",
       "  <thead>\n",
       "    <tr style=\"text-align: right;\">\n",
       "      <th></th>\n",
       "      <th>Sentrix</th>\n",
       "      <th>PATNO</th>\n",
       "      <th>Gender</th>\n",
       "      <th>Age</th>\n",
       "      <th>AgeCate</th>\n",
       "      <th>HYS</th>\n",
       "      <th>APPRDX</th>\n",
       "      <th>Trail_Making_A</th>\n",
       "      <th>cg08012045</th>\n",
       "      <th>cg08300930</th>\n",
       "      <th>...</th>\n",
       "      <th>cg00956423</th>\n",
       "      <th>cg14462343</th>\n",
       "      <th>cg07481734</th>\n",
       "      <th>cg22394535</th>\n",
       "      <th>cg13044444</th>\n",
       "      <th>cg23223756</th>\n",
       "      <th>cg16870358</th>\n",
       "      <th>cg04754776</th>\n",
       "      <th>cg00154746</th>\n",
       "      <th>cg06155771</th>\n",
       "    </tr>\n",
       "  </thead>\n",
       "  <tbody>\n",
       "    <tr>\n",
       "      <th>0</th>\n",
       "      <td>200973410159_R03C01</td>\n",
       "      <td>3000</td>\n",
       "      <td>2</td>\n",
       "      <td>69.1</td>\n",
       "      <td>4</td>\n",
       "      <td>0</td>\n",
       "      <td>2</td>\n",
       "      <td>0.0</td>\n",
       "      <td>0.964598</td>\n",
       "      <td>0.960974</td>\n",
       "      <td>...</td>\n",
       "      <td>0.148515</td>\n",
       "      <td>0.036822</td>\n",
       "      <td>0.053052</td>\n",
       "      <td>0.044051</td>\n",
       "      <td>0.040994</td>\n",
       "      <td>0.047501</td>\n",
       "      <td>0.04635</td>\n",
       "      <td>0.904242</td>\n",
       "      <td>0.021033</td>\n",
       "      <td>0.813738</td>\n",
       "    </tr>\n",
       "  </tbody>\n",
       "</table>\n",
       "<p>1 rows × 87726 columns</p>\n",
       "</div>"
      ],
      "text/plain": [
       "               Sentrix  PATNO  Gender   Age  AgeCate  HYS  APPRDX  \\\n",
       "0  200973410159_R03C01   3000       2  69.1        4    0       2   \n",
       "\n",
       "   Trail_Making_A  cg08012045  cg08300930  ...  cg00956423  cg14462343  \\\n",
       "0             0.0    0.964598    0.960974  ...    0.148515    0.036822   \n",
       "\n",
       "   cg07481734  cg22394535  cg13044444  cg23223756  cg16870358  cg04754776  \\\n",
       "0    0.053052    0.044051    0.040994    0.047501     0.04635    0.904242   \n",
       "\n",
       "   cg00154746  cg06155771  \n",
       "0    0.021033    0.813738  \n",
       "\n",
       "[1 rows x 87726 columns]"
      ]
     },
     "execution_count": 6,
     "metadata": {},
     "output_type": "execute_result"
    }
   ],
   "source": [
    "%cd Z:\\PPMI_Data\\Excels\\NonMotors\\The251\\GeneCpG\\TrailMakeA\n",
    "data = pd.read_csv('TrailMakeA_with_MethylomeDetails.csv')\n",
    "data.head(1)"
   ]
  },
  {
   "cell_type": "code",
   "execution_count": 7,
   "id": "ee22df7a",
   "metadata": {
    "ExecuteTime": {
     "end_time": "2023-03-30T09:21:29.594201Z",
     "start_time": "2023-03-30T09:21:29.362326Z"
    }
   },
   "outputs": [
    {
     "name": "stdout",
     "output_type": "stream",
     "text": [
      "   cg08012045  cg08300930  cg00134295  cg10537824  cg04990650  cg03379001  \\\n",
      "0    0.964598    0.960974    0.241886    0.852113    0.765526    0.856057   \n",
      "1    0.962437    0.964442    0.243530    0.826172    0.845330    0.852316   \n",
      "\n",
      "   cg02215627  cg06699201  cg18100935  cg19220149  ...  cg00956423  \\\n",
      "0    0.874673    0.798285     0.89382    0.879652  ...    0.148515   \n",
      "1    0.871498    0.653140     0.89167    0.874343  ...    0.109870   \n",
      "\n",
      "   cg14462343  cg07481734  cg22394535  cg13044444  cg23223756  cg16870358  \\\n",
      "0    0.036822    0.053052    0.044051    0.040994    0.047501    0.046350   \n",
      "1    0.056582    0.064137    0.053802    0.083556    0.042638    0.041733   \n",
      "\n",
      "   cg04754776  cg00154746  cg06155771  \n",
      "0    0.904242    0.021033    0.813738  \n",
      "1    0.896521    0.033285    0.753096  \n",
      "\n",
      "[2 rows x 87718 columns]\n"
     ]
    }
   ],
   "source": [
    "X = data.drop(['Sentrix','PATNO','HYS','Gender','Age','AgeCate','APPRDX','Trail_Making_A'], axis = 1)\n",
    "y = data['APPRDX']\n",
    "X_train, X_test, y_train, y_test = train_test_split(X, y, test_size = .2, random_state = 1) \n",
    "print(X.head(2))"
   ]
  },
  {
   "cell_type": "code",
   "execution_count": 8,
   "id": "c1ee3e48",
   "metadata": {
    "ExecuteTime": {
     "end_time": "2023-03-30T09:21:47.736366Z",
     "start_time": "2023-03-30T09:21:45.441439Z"
    }
   },
   "outputs": [
    {
     "data": {
      "text/plain": [
       "RandomForestClassifier(random_state=1)"
      ]
     },
     "execution_count": 8,
     "metadata": {},
     "output_type": "execute_result"
    }
   ],
   "source": [
    "rf_all_features = RandomForestClassifier(random_state=1)\n",
    "rf_all_features.fit(X_train, y_train)"
   ]
  },
  {
   "cell_type": "code",
   "execution_count": 9,
   "id": "f17f8606",
   "metadata": {
    "ExecuteTime": {
     "end_time": "2023-03-30T09:21:52.656050Z",
     "start_time": "2023-03-30T09:21:52.154671Z"
    }
   },
   "outputs": [
    {
     "data": {
      "text/plain": [
       "0.6382978723404256"
      ]
     },
     "execution_count": 9,
     "metadata": {},
     "output_type": "execute_result"
    }
   ],
   "source": [
    "accuracy_score(y_test, rf_all_features.predict(X_test))"
   ]
  },
  {
   "cell_type": "code",
   "execution_count": 10,
   "id": "5ba608ac",
   "metadata": {
    "ExecuteTime": {
     "end_time": "2023-03-30T09:36:26.375151Z",
     "start_time": "2023-03-30T09:21:56.930144Z"
    },
    "scrolled": true
   },
   "outputs": [
    {
     "name": "stdout",
     "output_type": "stream",
     "text": [
      "Iteration: 1 / 100\n",
      "Iteration: 2 / 100\n",
      "Iteration: 3 / 100\n",
      "Iteration: 4 / 100\n",
      "Iteration: 5 / 100\n",
      "Iteration: 6 / 100\n",
      "Iteration: 7 / 100\n",
      "Iteration: 8 / 100\n",
      "Iteration: 9 / 100\n",
      "Iteration: 10 / 100\n",
      "Iteration: 11 / 100\n",
      "Iteration: 12 / 100\n",
      "Iteration: 13 / 100\n",
      "Iteration: 14 / 100\n",
      "Iteration: 15 / 100\n",
      "Iteration: 16 / 100\n",
      "Iteration: 17 / 100\n",
      "Iteration: 18 / 100\n",
      "Iteration: 19 / 100\n",
      "Iteration: 20 / 100\n",
      "Iteration: 21 / 100\n",
      "Iteration: 22 / 100\n",
      "Iteration: 23 / 100\n",
      "Iteration: 24 / 100\n",
      "Iteration: 25 / 100\n",
      "Iteration: 26 / 100\n",
      "Iteration: 27 / 100\n",
      "Iteration: 28 / 100\n",
      "Iteration: 29 / 100\n",
      "Iteration: 30 / 100\n",
      "Iteration: 31 / 100\n",
      "Iteration: 32 / 100\n",
      "Iteration: 33 / 100\n",
      "Iteration: 34 / 100\n",
      "\n",
      "\n",
      "BorutaPy finished running.\n",
      "\n",
      "Iteration: \t35 / 100\n",
      "Confirmed: \t4\n",
      "Tentative: \t0\n",
      "Rejected: \t87714\n"
     ]
    },
    {
     "data": {
      "text/plain": [
       "BorutaPy(estimator=RandomForestClassifier(n_estimators=28,\n",
       "                                          random_state=RandomState(MT19937) at 0x23284997340),\n",
       "         n_estimators='auto',\n",
       "         random_state=RandomState(MT19937) at 0x23284997340, verbose=1)"
      ]
     },
     "execution_count": 10,
     "metadata": {},
     "output_type": "execute_result"
    }
   ],
   "source": [
    "rfc = RandomForestClassifier(random_state=1)\n",
    "boruta_selector = BorutaPy(rfc, n_estimators= 'auto', verbose=1, random_state=1)\n",
    "boruta_selector.fit(np.array(X_train), np.array(y_train))  "
   ]
  },
  {
   "cell_type": "code",
   "execution_count": 11,
   "id": "51f874e0",
   "metadata": {
    "ExecuteTime": {
     "end_time": "2023-03-30T09:36:30.819594Z",
     "start_time": "2023-03-30T09:36:30.804034Z"
    }
   },
   "outputs": [
    {
     "name": "stdout",
     "output_type": "stream",
     "text": [
      "No. of significant features:  4\n"
     ]
    }
   ],
   "source": [
    "# print(\"Ranking: \",boruta_selector.ranking_)          \n",
    "print(\"No. of significant features: \", boruta_selector.n_features_)"
   ]
  },
  {
   "cell_type": "code",
   "execution_count": 12,
   "id": "61cadc89",
   "metadata": {
    "ExecuteTime": {
     "end_time": "2023-03-30T09:36:35.267888Z",
     "start_time": "2023-03-30T09:36:35.189772Z"
    }
   },
   "outputs": [],
   "source": [
    "selected_rf_features = pd.DataFrame({'CpG':list(X_train.columns),\n",
    "                                       'Ranking':boruta_selector.ranking_})\n",
    "selected_rf_features = selected_rf_features.sort_values(by='Ranking')"
   ]
  },
  {
   "cell_type": "code",
   "execution_count": 13,
   "id": "6ae888ab",
   "metadata": {
    "ExecuteTime": {
     "end_time": "2023-03-30T09:36:40.280955Z",
     "start_time": "2023-03-30T09:36:40.258812Z"
    },
    "scrolled": true
   },
   "outputs": [
    {
     "data": {
      "text/html": [
       "<div>\n",
       "<style scoped>\n",
       "    .dataframe tbody tr th:only-of-type {\n",
       "        vertical-align: middle;\n",
       "    }\n",
       "\n",
       "    .dataframe tbody tr th {\n",
       "        vertical-align: top;\n",
       "    }\n",
       "\n",
       "    .dataframe thead th {\n",
       "        text-align: right;\n",
       "    }\n",
       "</style>\n",
       "<table border=\"1\" class=\"dataframe\">\n",
       "  <thead>\n",
       "    <tr style=\"text-align: right;\">\n",
       "      <th></th>\n",
       "      <th>CpG</th>\n",
       "      <th>Ranking</th>\n",
       "    </tr>\n",
       "  </thead>\n",
       "  <tbody>\n",
       "    <tr>\n",
       "      <th>79610</th>\n",
       "      <td>cg12683454</td>\n",
       "      <td>1</td>\n",
       "    </tr>\n",
       "    <tr>\n",
       "      <th>57541</th>\n",
       "      <td>cg03972596</td>\n",
       "      <td>1</td>\n",
       "    </tr>\n",
       "    <tr>\n",
       "      <th>16055</th>\n",
       "      <td>cg09252204</td>\n",
       "      <td>1</td>\n",
       "    </tr>\n",
       "  </tbody>\n",
       "</table>\n",
       "</div>"
      ],
      "text/plain": [
       "              CpG  Ranking\n",
       "79610  cg12683454        1\n",
       "57541  cg03972596        1\n",
       "16055  cg09252204        1"
      ]
     },
     "execution_count": 13,
     "metadata": {},
     "output_type": "execute_result"
    }
   ],
   "source": [
    "Top50 = selected_rf_features.iloc[:51, :]\n",
    "Top50.head(3)"
   ]
  },
  {
   "cell_type": "code",
   "execution_count": 14,
   "id": "9605e163",
   "metadata": {
    "ExecuteTime": {
     "end_time": "2023-03-30T09:36:44.993368Z",
     "start_time": "2023-03-30T09:36:44.839582Z"
    }
   },
   "outputs": [],
   "source": [
    "Top50.to_csv ('TrailMakeA_Boruta_Top50.csv', index = False)\n",
    "selected_rf_features.to_csv ('TrailMakeA_Boruta_All.csv', index = False)"
   ]
  },
  {
   "cell_type": "code",
   "execution_count": 15,
   "id": "a5bc67f8",
   "metadata": {
    "ExecuteTime": {
     "end_time": "2023-03-30T09:36:49.868384Z",
     "start_time": "2023-03-30T09:36:49.793388Z"
    }
   },
   "outputs": [
    {
     "name": "stderr",
     "output_type": "stream",
     "text": [
      "C:\\Users\\system 4\\AppData\\Local\\Temp\\ipykernel_972\\1836242874.py:6: SettingWithCopyWarning: \n",
      "A value is trying to be set on a copy of a slice from a DataFrame.\n",
      "Try using .loc[row_indexer,col_indexer] = value instead\n",
      "\n",
      "See the caveats in the documentation: https://pandas.pydata.org/pandas-docs/stable/user_guide/indexing.html#returning-a-view-versus-a-copy\n",
      "  df_subset['APPRDX'] = data['APPRDX']\n"
     ]
    },
    {
     "data": {
      "text/html": [
       "<div>\n",
       "<style scoped>\n",
       "    .dataframe tbody tr th:only-of-type {\n",
       "        vertical-align: middle;\n",
       "    }\n",
       "\n",
       "    .dataframe tbody tr th {\n",
       "        vertical-align: top;\n",
       "    }\n",
       "\n",
       "    .dataframe thead th {\n",
       "        text-align: right;\n",
       "    }\n",
       "</style>\n",
       "<table border=\"1\" class=\"dataframe\">\n",
       "  <thead>\n",
       "    <tr style=\"text-align: right;\">\n",
       "      <th></th>\n",
       "      <th>cg17427302</th>\n",
       "      <th>cg15313666</th>\n",
       "      <th>cg20995061</th>\n",
       "      <th>cg24465448</th>\n",
       "      <th>cg12696505</th>\n",
       "      <th>cg01083159</th>\n",
       "      <th>cg15629915</th>\n",
       "      <th>cg09252204</th>\n",
       "      <th>cg11492856</th>\n",
       "      <th>cg02479278</th>\n",
       "      <th>...</th>\n",
       "      <th>cg07667731</th>\n",
       "      <th>cg20567867</th>\n",
       "      <th>cg12683454</th>\n",
       "      <th>cg04888085</th>\n",
       "      <th>cg09304381</th>\n",
       "      <th>cg25911279</th>\n",
       "      <th>cg23811160</th>\n",
       "      <th>cg08810486</th>\n",
       "      <th>cg17464366</th>\n",
       "      <th>APPRDX</th>\n",
       "    </tr>\n",
       "  </thead>\n",
       "  <tbody>\n",
       "    <tr>\n",
       "      <th>0</th>\n",
       "      <td>0.933776</td>\n",
       "      <td>0.909546</td>\n",
       "      <td>0.041305</td>\n",
       "      <td>0.023223</td>\n",
       "      <td>0.031196</td>\n",
       "      <td>0.285636</td>\n",
       "      <td>0.054835</td>\n",
       "      <td>0.363327</td>\n",
       "      <td>0.921944</td>\n",
       "      <td>0.677445</td>\n",
       "      <td>...</td>\n",
       "      <td>0.016602</td>\n",
       "      <td>0.923635</td>\n",
       "      <td>0.020790</td>\n",
       "      <td>0.016866</td>\n",
       "      <td>0.981877</td>\n",
       "      <td>0.035425</td>\n",
       "      <td>0.185028</td>\n",
       "      <td>0.446588</td>\n",
       "      <td>0.360898</td>\n",
       "      <td>2</td>\n",
       "    </tr>\n",
       "    <tr>\n",
       "      <th>1</th>\n",
       "      <td>0.897221</td>\n",
       "      <td>0.907550</td>\n",
       "      <td>0.022731</td>\n",
       "      <td>0.016847</td>\n",
       "      <td>0.090758</td>\n",
       "      <td>0.323545</td>\n",
       "      <td>0.067318</td>\n",
       "      <td>0.026972</td>\n",
       "      <td>0.911869</td>\n",
       "      <td>0.641669</td>\n",
       "      <td>...</td>\n",
       "      <td>0.013778</td>\n",
       "      <td>0.920654</td>\n",
       "      <td>0.023826</td>\n",
       "      <td>0.014670</td>\n",
       "      <td>0.960567</td>\n",
       "      <td>0.031463</td>\n",
       "      <td>0.171493</td>\n",
       "      <td>0.028135</td>\n",
       "      <td>0.040671</td>\n",
       "      <td>1</td>\n",
       "    </tr>\n",
       "  </tbody>\n",
       "</table>\n",
       "<p>2 rows × 52 columns</p>\n",
       "</div>"
      ],
      "text/plain": [
       "   cg17427302  cg15313666  cg20995061  cg24465448  cg12696505  cg01083159  \\\n",
       "0    0.933776    0.909546    0.041305    0.023223    0.031196    0.285636   \n",
       "1    0.897221    0.907550    0.022731    0.016847    0.090758    0.323545   \n",
       "\n",
       "   cg15629915  cg09252204  cg11492856  cg02479278  ...  cg07667731  \\\n",
       "0    0.054835    0.363327    0.921944    0.677445  ...    0.016602   \n",
       "1    0.067318    0.026972    0.911869    0.641669  ...    0.013778   \n",
       "\n",
       "   cg20567867  cg12683454  cg04888085  cg09304381  cg25911279  cg23811160  \\\n",
       "0    0.923635    0.020790    0.016866    0.981877    0.035425    0.185028   \n",
       "1    0.920654    0.023826    0.014670    0.960567    0.031463    0.171493   \n",
       "\n",
       "   cg08810486  cg17464366  APPRDX  \n",
       "0    0.446588    0.360898       2  \n",
       "1    0.028135    0.040671       1  \n",
       "\n",
       "[2 rows x 52 columns]"
      ]
     },
     "execution_count": 15,
     "metadata": {},
     "output_type": "execute_result"
    }
   ],
   "source": [
    "# create a list of column names to subset from data\n",
    "col_names = Top50.iloc[:, 0].tolist()\n",
    "\n",
    "# subset df based on the column names\n",
    "df_subset = data.loc[:, data.columns.isin(col_names)]\n",
    "df_subset['APPRDX'] = data['APPRDX']\n",
    "df_subset.to_csv ('TrailMakeA_Boruta_Top50_Data.csv', index = False)\n",
    "df_subset.head(2)"
   ]
  },
  {
   "cell_type": "markdown",
   "id": "7d040fc9",
   "metadata": {},
   "source": [
    "# Dream"
   ]
  },
  {
   "cell_type": "code",
   "execution_count": 16,
   "id": "6a0b3a09",
   "metadata": {
    "ExecuteTime": {
     "end_time": "2023-03-30T09:36:54.805152Z",
     "start_time": "2023-03-30T09:36:54.702880Z"
    }
   },
   "outputs": [
    {
     "name": "stdout",
     "output_type": "stream",
     "text": [
      "Z:\\PPMI_Data\\Excels\\NonMotors\\The251\\GeneCpG\\Dream\n"
     ]
    },
    {
     "data": {
      "text/html": [
       "<div>\n",
       "<style scoped>\n",
       "    .dataframe tbody tr th:only-of-type {\n",
       "        vertical-align: middle;\n",
       "    }\n",
       "\n",
       "    .dataframe tbody tr th {\n",
       "        vertical-align: top;\n",
       "    }\n",
       "\n",
       "    .dataframe thead th {\n",
       "        text-align: right;\n",
       "    }\n",
       "</style>\n",
       "<table border=\"1\" class=\"dataframe\">\n",
       "  <thead>\n",
       "    <tr style=\"text-align: right;\">\n",
       "      <th></th>\n",
       "      <th>Sentrix</th>\n",
       "      <th>PATNO</th>\n",
       "      <th>Gender</th>\n",
       "      <th>Age</th>\n",
       "      <th>AgeCate</th>\n",
       "      <th>HYS</th>\n",
       "      <th>APPRDX</th>\n",
       "      <th>REM_Dream</th>\n",
       "      <th>cg07920064</th>\n",
       "      <th>cg27486695</th>\n",
       "      <th>...</th>\n",
       "      <th>cg12444710</th>\n",
       "      <th>cg01442833</th>\n",
       "      <th>cg17429457</th>\n",
       "      <th>cg26703873</th>\n",
       "      <th>cg21642591</th>\n",
       "      <th>cg06818627</th>\n",
       "      <th>cg20495247</th>\n",
       "      <th>cg12696399</th>\n",
       "      <th>cg22978941</th>\n",
       "      <th>cg12009719</th>\n",
       "    </tr>\n",
       "  </thead>\n",
       "  <tbody>\n",
       "    <tr>\n",
       "      <th>0</th>\n",
       "      <td>200991620021_R03C01</td>\n",
       "      <td>3002</td>\n",
       "      <td>2</td>\n",
       "      <td>67.6</td>\n",
       "      <td>4</td>\n",
       "      <td>2</td>\n",
       "      <td>1</td>\n",
       "      <td>2</td>\n",
       "      <td>0.023631</td>\n",
       "      <td>0.010635</td>\n",
       "      <td>...</td>\n",
       "      <td>0.865247</td>\n",
       "      <td>0.026656</td>\n",
       "      <td>0.916954</td>\n",
       "      <td>0.913505</td>\n",
       "      <td>0.03158</td>\n",
       "      <td>0.041244</td>\n",
       "      <td>0.052317</td>\n",
       "      <td>0.022932</td>\n",
       "      <td>0.045476</td>\n",
       "      <td>0.586523</td>\n",
       "    </tr>\n",
       "  </tbody>\n",
       "</table>\n",
       "<p>1 rows × 647 columns</p>\n",
       "</div>"
      ],
      "text/plain": [
       "               Sentrix  PATNO  Gender   Age  AgeCate  HYS  APPRDX  REM_Dream  \\\n",
       "0  200991620021_R03C01   3002       2  67.6        4    2       1          2   \n",
       "\n",
       "   cg07920064  cg27486695  ...  cg12444710  cg01442833  cg17429457  \\\n",
       "0    0.023631    0.010635  ...    0.865247    0.026656    0.916954   \n",
       "\n",
       "   cg26703873  cg21642591  cg06818627  cg20495247  cg12696399  cg22978941  \\\n",
       "0    0.913505     0.03158    0.041244    0.052317    0.022932    0.045476   \n",
       "\n",
       "   cg12009719  \n",
       "0    0.586523  \n",
       "\n",
       "[1 rows x 647 columns]"
      ]
     },
     "execution_count": 16,
     "metadata": {},
     "output_type": "execute_result"
    }
   ],
   "source": [
    "%cd Z:\\PPMI_Data\\Excels\\NonMotors\\The251\\GeneCpG\\Dream\n",
    "data = pd.read_csv('Dream_with_MethylomeDetails.csv')\n",
    "data.head(1)"
   ]
  },
  {
   "cell_type": "code",
   "execution_count": 17,
   "id": "d8daf3a3",
   "metadata": {
    "ExecuteTime": {
     "end_time": "2023-03-30T09:36:58.491895Z",
     "start_time": "2023-03-30T09:36:58.283657Z"
    }
   },
   "outputs": [
    {
     "name": "stdout",
     "output_type": "stream",
     "text": [
      "   cg07920064  cg27486695  cg08290072  cg19964303  cg24775454  cg26544277  \\\n",
      "0    0.023631    0.010635    0.022312    0.979811    0.023961    0.020120   \n",
      "1    0.011070    0.008845    0.012105    0.980551    0.015579    0.014584   \n",
      "\n",
      "   cg23153680  cg06716437  cg18014247  cg19412109  ...  cg12444710  \\\n",
      "0    0.115778    0.190787    0.038345    0.173499  ...    0.865247   \n",
      "1    0.087679    0.145042    0.035543    0.223806  ...    0.775811   \n",
      "\n",
      "   cg01442833  cg17429457  cg26703873  cg21642591  cg06818627  cg20495247  \\\n",
      "0    0.026656    0.916954    0.913505    0.031580    0.041244    0.052317   \n",
      "1    0.021784    0.776223    0.926893    0.019075    0.018032    0.027572   \n",
      "\n",
      "   cg12696399  cg22978941  cg12009719  \n",
      "0    0.022932    0.045476    0.586523  \n",
      "1    0.026038    0.022241    0.526541  \n",
      "\n",
      "[2 rows x 639 columns]\n"
     ]
    }
   ],
   "source": [
    "X = data.drop(['Sentrix','PATNO','HYS','Gender','REM_Dream','Age','AgeCate','APPRDX'], axis = 1)\n",
    "y = data['APPRDX']\n",
    "X_train, X_test, y_train, y_test = train_test_split(X, y, test_size = .2, random_state = 1) \n",
    "print(X.head(2))"
   ]
  },
  {
   "cell_type": "code",
   "execution_count": 18,
   "id": "73fe318a",
   "metadata": {
    "ExecuteTime": {
     "end_time": "2023-03-30T09:36:58.934211Z",
     "start_time": "2023-03-30T09:36:58.713311Z"
    }
   },
   "outputs": [
    {
     "data": {
      "text/plain": [
       "RandomForestClassifier(random_state=1)"
      ]
     },
     "execution_count": 18,
     "metadata": {},
     "output_type": "execute_result"
    }
   ],
   "source": [
    "rf_all_features = RandomForestClassifier(random_state=1)\n",
    "rf_all_features.fit(X_train, y_train)"
   ]
  },
  {
   "cell_type": "code",
   "execution_count": 19,
   "id": "8e56e1b8",
   "metadata": {
    "ExecuteTime": {
     "end_time": "2023-03-30T09:36:59.160496Z",
     "start_time": "2023-03-30T09:36:59.129249Z"
    }
   },
   "outputs": [
    {
     "data": {
      "text/plain": [
       "0.6875"
      ]
     },
     "execution_count": 19,
     "metadata": {},
     "output_type": "execute_result"
    }
   ],
   "source": [
    "accuracy_score(y_test, rf_all_features.predict(X_test))"
   ]
  },
  {
   "cell_type": "code",
   "execution_count": 20,
   "id": "28d42b85",
   "metadata": {
    "ExecuteTime": {
     "end_time": "2023-03-30T09:37:07.355182Z",
     "start_time": "2023-03-30T09:36:59.362583Z"
    },
    "scrolled": true
   },
   "outputs": [
    {
     "name": "stdout",
     "output_type": "stream",
     "text": [
      "Iteration: 1 / 100\n",
      "Iteration: 2 / 100\n",
      "Iteration: 3 / 100\n",
      "Iteration: 4 / 100\n",
      "Iteration: 5 / 100\n",
      "Iteration: 6 / 100\n",
      "Iteration: 7 / 100\n",
      "Iteration: 8 / 100\n",
      "Iteration: 9 / 100\n",
      "Iteration: 10 / 100\n",
      "Iteration: 11 / 100\n",
      "Iteration: 12 / 100\n",
      "Iteration: 13 / 100\n",
      "Iteration: 14 / 100\n",
      "Iteration: 15 / 100\n",
      "Iteration: 16 / 100\n",
      "Iteration: 17 / 100\n",
      "Iteration: 18 / 100\n",
      "Iteration: 19 / 100\n",
      "Iteration: 20 / 100\n",
      "Iteration: 21 / 100\n",
      "Iteration: 22 / 100\n",
      "Iteration: 23 / 100\n",
      "Iteration: 24 / 100\n",
      "Iteration: 25 / 100\n",
      "Iteration: 26 / 100\n",
      "Iteration: 27 / 100\n",
      "Iteration: 28 / 100\n",
      "Iteration: 29 / 100\n",
      "Iteration: 30 / 100\n",
      "Iteration: 31 / 100\n",
      "Iteration: 32 / 100\n",
      "Iteration: 33 / 100\n",
      "Iteration: 34 / 100\n",
      "Iteration: 35 / 100\n",
      "Iteration: 36 / 100\n",
      "Iteration: 37 / 100\n",
      "Iteration: 38 / 100\n",
      "Iteration: 39 / 100\n",
      "Iteration: 40 / 100\n",
      "Iteration: 41 / 100\n",
      "Iteration: 42 / 100\n",
      "Iteration: 43 / 100\n",
      "Iteration: 44 / 100\n",
      "Iteration: 45 / 100\n",
      "Iteration: 46 / 100\n",
      "Iteration: 47 / 100\n",
      "Iteration: 48 / 100\n",
      "Iteration: 49 / 100\n",
      "Iteration: 50 / 100\n",
      "Iteration: 51 / 100\n",
      "Iteration: 52 / 100\n",
      "Iteration: 53 / 100\n",
      "Iteration: 54 / 100\n",
      "Iteration: 55 / 100\n",
      "Iteration: 56 / 100\n",
      "Iteration: 57 / 100\n",
      "Iteration: 58 / 100\n",
      "Iteration: 59 / 100\n",
      "\n",
      "\n",
      "BorutaPy finished running.\n",
      "\n",
      "Iteration: \t60 / 100\n",
      "Confirmed: \t3\n",
      "Tentative: \t0\n",
      "Rejected: \t636\n"
     ]
    },
    {
     "data": {
      "text/plain": [
       "BorutaPy(estimator=RandomForestClassifier(n_estimators=24,\n",
       "                                          random_state=RandomState(MT19937) at 0x23284997D40),\n",
       "         n_estimators='auto',\n",
       "         random_state=RandomState(MT19937) at 0x23284997D40, verbose=1)"
      ]
     },
     "execution_count": 20,
     "metadata": {},
     "output_type": "execute_result"
    }
   ],
   "source": [
    "rfc = RandomForestClassifier(random_state=1)\n",
    "boruta_selector = BorutaPy(rfc, n_estimators= 'auto', verbose=1, random_state=1)\n",
    "boruta_selector.fit(np.array(X_train), np.array(y_train))  "
   ]
  },
  {
   "cell_type": "code",
   "execution_count": 21,
   "id": "7f0421ed",
   "metadata": {
    "ExecuteTime": {
     "end_time": "2023-03-30T09:37:07.603646Z",
     "start_time": "2023-03-30T09:37:07.588012Z"
    }
   },
   "outputs": [
    {
     "name": "stdout",
     "output_type": "stream",
     "text": [
      "No. of significant features:  3\n"
     ]
    }
   ],
   "source": [
    "# print(\"Ranking: \",boruta_selector.ranking_)          \n",
    "print(\"No. of significant features: \", boruta_selector.n_features_)"
   ]
  },
  {
   "cell_type": "code",
   "execution_count": 22,
   "id": "1b23b0c4",
   "metadata": {
    "ExecuteTime": {
     "end_time": "2023-03-30T09:37:07.835654Z",
     "start_time": "2023-03-30T09:37:07.820031Z"
    }
   },
   "outputs": [],
   "source": [
    "selected_rf_features = pd.DataFrame({'CpG':list(X_train.columns),\n",
    "                                       'Ranking':boruta_selector.ranking_})\n",
    "selected_rf_features = selected_rf_features.sort_values(by='Ranking')"
   ]
  },
  {
   "cell_type": "code",
   "execution_count": 23,
   "id": "7a76bee7",
   "metadata": {
    "ExecuteTime": {
     "end_time": "2023-03-30T09:37:08.105369Z",
     "start_time": "2023-03-30T09:37:08.083220Z"
    }
   },
   "outputs": [
    {
     "data": {
      "text/html": [
       "<div>\n",
       "<style scoped>\n",
       "    .dataframe tbody tr th:only-of-type {\n",
       "        vertical-align: middle;\n",
       "    }\n",
       "\n",
       "    .dataframe tbody tr th {\n",
       "        vertical-align: top;\n",
       "    }\n",
       "\n",
       "    .dataframe thead th {\n",
       "        text-align: right;\n",
       "    }\n",
       "</style>\n",
       "<table border=\"1\" class=\"dataframe\">\n",
       "  <thead>\n",
       "    <tr style=\"text-align: right;\">\n",
       "      <th></th>\n",
       "      <th>CpG</th>\n",
       "      <th>Ranking</th>\n",
       "    </tr>\n",
       "  </thead>\n",
       "  <tbody>\n",
       "    <tr>\n",
       "      <th>563</th>\n",
       "      <td>cg04201744</td>\n",
       "      <td>1</td>\n",
       "    </tr>\n",
       "    <tr>\n",
       "      <th>466</th>\n",
       "      <td>cg27068143</td>\n",
       "      <td>1</td>\n",
       "    </tr>\n",
       "    <tr>\n",
       "      <th>117</th>\n",
       "      <td>cg02328545</td>\n",
       "      <td>1</td>\n",
       "    </tr>\n",
       "  </tbody>\n",
       "</table>\n",
       "</div>"
      ],
      "text/plain": [
       "            CpG  Ranking\n",
       "563  cg04201744        1\n",
       "466  cg27068143        1\n",
       "117  cg02328545        1"
      ]
     },
     "execution_count": 23,
     "metadata": {},
     "output_type": "execute_result"
    }
   ],
   "source": [
    "Top50 = selected_rf_features.iloc[:51, :]\n",
    "Top50.head(3)"
   ]
  },
  {
   "cell_type": "code",
   "execution_count": 24,
   "id": "c7245d2b",
   "metadata": {
    "ExecuteTime": {
     "end_time": "2023-03-30T09:37:08.331370Z",
     "start_time": "2023-03-30T09:37:08.308679Z"
    }
   },
   "outputs": [],
   "source": [
    "Top50.to_csv ('Dream_Boruta_Top50.csv', index = False)\n",
    "selected_rf_features.to_csv ('Dream_Boruta_All.csv', index = False)"
   ]
  },
  {
   "cell_type": "code",
   "execution_count": 26,
   "id": "5b0f6753",
   "metadata": {
    "ExecuteTime": {
     "end_time": "2023-03-30T09:39:04.203955Z",
     "start_time": "2023-03-30T09:39:04.141510Z"
    }
   },
   "outputs": [
    {
     "name": "stderr",
     "output_type": "stream",
     "text": [
      "C:\\Users\\system 4\\AppData\\Local\\Temp\\ipykernel_972\\3187581813.py:6: SettingWithCopyWarning: \n",
      "A value is trying to be set on a copy of a slice from a DataFrame.\n",
      "Try using .loc[row_indexer,col_indexer] = value instead\n",
      "\n",
      "See the caveats in the documentation: https://pandas.pydata.org/pandas-docs/stable/user_guide/indexing.html#returning-a-view-versus-a-copy\n",
      "  df_subset['PATNO'] = data['PATNO']\n",
      "C:\\Users\\system 4\\AppData\\Local\\Temp\\ipykernel_972\\3187581813.py:7: SettingWithCopyWarning: \n",
      "A value is trying to be set on a copy of a slice from a DataFrame.\n",
      "Try using .loc[row_indexer,col_indexer] = value instead\n",
      "\n",
      "See the caveats in the documentation: https://pandas.pydata.org/pandas-docs/stable/user_guide/indexing.html#returning-a-view-versus-a-copy\n",
      "  df_subset['APPRDX'] = data['APPRDX']\n"
     ]
    },
    {
     "data": {
      "text/html": [
       "<div>\n",
       "<style scoped>\n",
       "    .dataframe tbody tr th:only-of-type {\n",
       "        vertical-align: middle;\n",
       "    }\n",
       "\n",
       "    .dataframe tbody tr th {\n",
       "        vertical-align: top;\n",
       "    }\n",
       "\n",
       "    .dataframe thead th {\n",
       "        text-align: right;\n",
       "    }\n",
       "</style>\n",
       "<table border=\"1\" class=\"dataframe\">\n",
       "  <thead>\n",
       "    <tr style=\"text-align: right;\">\n",
       "      <th></th>\n",
       "      <th>cg07916323</th>\n",
       "      <th>cg25836061</th>\n",
       "      <th>cg12175949</th>\n",
       "      <th>cg11361387</th>\n",
       "      <th>cg27521571</th>\n",
       "      <th>cg24164157</th>\n",
       "      <th>cg04856117</th>\n",
       "      <th>cg12728623</th>\n",
       "      <th>cg02328545</th>\n",
       "      <th>cg17403609</th>\n",
       "      <th>...</th>\n",
       "      <th>cg04201744</th>\n",
       "      <th>cg07308881</th>\n",
       "      <th>cg11780096</th>\n",
       "      <th>cg14276366</th>\n",
       "      <th>cg25745663</th>\n",
       "      <th>cg19258682</th>\n",
       "      <th>cg02803589</th>\n",
       "      <th>cg21642591</th>\n",
       "      <th>PATNO</th>\n",
       "      <th>APPRDX</th>\n",
       "    </tr>\n",
       "  </thead>\n",
       "  <tbody>\n",
       "    <tr>\n",
       "      <th>0</th>\n",
       "      <td>0.083608</td>\n",
       "      <td>0.880723</td>\n",
       "      <td>0.019869</td>\n",
       "      <td>0.826294</td>\n",
       "      <td>0.554459</td>\n",
       "      <td>0.104010</td>\n",
       "      <td>0.585446</td>\n",
       "      <td>0.893565</td>\n",
       "      <td>0.975067</td>\n",
       "      <td>0.143041</td>\n",
       "      <td>...</td>\n",
       "      <td>0.890941</td>\n",
       "      <td>0.792484</td>\n",
       "      <td>0.750843</td>\n",
       "      <td>0.878788</td>\n",
       "      <td>0.011783</td>\n",
       "      <td>0.025435</td>\n",
       "      <td>0.924742</td>\n",
       "      <td>0.031580</td>\n",
       "      <td>3002</td>\n",
       "      <td>1</td>\n",
       "    </tr>\n",
       "    <tr>\n",
       "      <th>1</th>\n",
       "      <td>0.052975</td>\n",
       "      <td>0.928010</td>\n",
       "      <td>0.016260</td>\n",
       "      <td>0.781571</td>\n",
       "      <td>0.658729</td>\n",
       "      <td>0.078016</td>\n",
       "      <td>0.524912</td>\n",
       "      <td>0.907389</td>\n",
       "      <td>0.970260</td>\n",
       "      <td>0.114913</td>\n",
       "      <td>...</td>\n",
       "      <td>0.802491</td>\n",
       "      <td>0.894306</td>\n",
       "      <td>0.593850</td>\n",
       "      <td>0.918059</td>\n",
       "      <td>0.014489</td>\n",
       "      <td>0.027770</td>\n",
       "      <td>0.944254</td>\n",
       "      <td>0.019075</td>\n",
       "      <td>3008</td>\n",
       "      <td>2</td>\n",
       "    </tr>\n",
       "  </tbody>\n",
       "</table>\n",
       "<p>2 rows × 53 columns</p>\n",
       "</div>"
      ],
      "text/plain": [
       "   cg07916323  cg25836061  cg12175949  cg11361387  cg27521571  cg24164157  \\\n",
       "0    0.083608    0.880723    0.019869    0.826294    0.554459    0.104010   \n",
       "1    0.052975    0.928010    0.016260    0.781571    0.658729    0.078016   \n",
       "\n",
       "   cg04856117  cg12728623  cg02328545  cg17403609  ...  cg04201744  \\\n",
       "0    0.585446    0.893565    0.975067    0.143041  ...    0.890941   \n",
       "1    0.524912    0.907389    0.970260    0.114913  ...    0.802491   \n",
       "\n",
       "   cg07308881  cg11780096  cg14276366  cg25745663  cg19258682  cg02803589  \\\n",
       "0    0.792484    0.750843    0.878788    0.011783    0.025435    0.924742   \n",
       "1    0.894306    0.593850    0.918059    0.014489    0.027770    0.944254   \n",
       "\n",
       "   cg21642591  PATNO  APPRDX  \n",
       "0    0.031580   3002       1  \n",
       "1    0.019075   3008       2  \n",
       "\n",
       "[2 rows x 53 columns]"
      ]
     },
     "execution_count": 26,
     "metadata": {},
     "output_type": "execute_result"
    }
   ],
   "source": [
    "# create a list of column names to subset from data\n",
    "col_names = Top50.iloc[:, 0].tolist()\n",
    "\n",
    "# subset df based on the column names\n",
    "df_subset = data.loc[:, data.columns.isin(col_names)]\n",
    "df_subset['PATNO'] = data['PATNO']\n",
    "df_subset['APPRDX'] = data['APPRDX']\n",
    "df_subset.to_csv ('Dream_Boruta_Top50_Data.csv', index = False)\n",
    "df_subset.head(2)"
   ]
  },
  {
   "cell_type": "code",
   "execution_count": null,
   "id": "7dfd02e6",
   "metadata": {},
   "outputs": [],
   "source": []
  }
 ],
 "metadata": {
  "kernelspec": {
   "display_name": "Python 3 (ipykernel)",
   "language": "python",
   "name": "python3"
  },
  "language_info": {
   "codemirror_mode": {
    "name": "ipython",
    "version": 3
   },
   "file_extension": ".py",
   "mimetype": "text/x-python",
   "name": "python",
   "nbconvert_exporter": "python",
   "pygments_lexer": "ipython3",
   "version": "3.9.16"
  },
  "toc": {
   "base_numbering": 1,
   "nav_menu": {},
   "number_sections": true,
   "sideBar": true,
   "skip_h1_title": false,
   "title_cell": "Table of Contents",
   "title_sidebar": "Contents",
   "toc_cell": false,
   "toc_position": {},
   "toc_section_display": true,
   "toc_window_display": false
  },
  "varInspector": {
   "cols": {
    "lenName": 16,
    "lenType": 16,
    "lenVar": 40
   },
   "kernels_config": {
    "python": {
     "delete_cmd_postfix": "",
     "delete_cmd_prefix": "del ",
     "library": "var_list.py",
     "varRefreshCmd": "print(var_dic_list())"
    },
    "r": {
     "delete_cmd_postfix": ") ",
     "delete_cmd_prefix": "rm(",
     "library": "var_list.r",
     "varRefreshCmd": "cat(var_dic_list()) "
    }
   },
   "types_to_exclude": [
    "module",
    "function",
    "builtin_function_or_method",
    "instance",
    "_Feature"
   ],
   "window_display": false
  }
 },
 "nbformat": 4,
 "nbformat_minor": 5
}
