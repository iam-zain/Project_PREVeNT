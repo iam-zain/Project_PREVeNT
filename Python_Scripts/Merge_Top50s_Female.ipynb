{
 "cells": [
  {
   "cell_type": "code",
   "execution_count": 1,
   "id": "dfe84a79",
   "metadata": {
    "ExecuteTime": {
     "end_time": "2023-02-21T04:20:30.060548Z",
     "start_time": "2023-02-21T04:20:28.486061Z"
    }
   },
   "outputs": [],
   "source": [
    "import numpy as np\n",
    "import pandas as pd"
   ]
  },
  {
   "cell_type": "markdown",
   "id": "1a80e298",
   "metadata": {},
   "source": [
    "# Cognition"
   ]
  },
  {
   "cell_type": "code",
   "execution_count": 2,
   "id": "aba917f8",
   "metadata": {
    "ExecuteTime": {
     "end_time": "2023-02-21T04:20:30.276771Z",
     "start_time": "2023-02-21T04:20:30.060548Z"
    },
    "scrolled": true
   },
   "outputs": [
    {
     "name": "stdout",
     "output_type": "stream",
     "text": [
      "Z:\\PPMI_Data\\Excels\\NonMotors\\Derived250\\Female\\GeneCpG\\Cognition\n",
      "(150, 52)\n",
      "(150, 52)\n"
     ]
    }
   ],
   "source": [
    "%cd Z:\\PPMI_Data\\Excels\\NonMotors\\Derived250\\Female\\GeneCpG\\Cognition\n",
    "df1 = pd.read_csv('NMI_Top50_Cognition_Methylome_Female.csv')\n",
    "print(df1.shape)\n",
    "df2 = pd.read_csv('Cognition_Boruta_Top50_Data_Female.csv')\n",
    "print(df2.shape)"
   ]
  },
  {
   "cell_type": "code",
   "execution_count": 3,
   "id": "0622fe4c",
   "metadata": {
    "ExecuteTime": {
     "end_time": "2023-02-21T04:20:30.461743Z",
     "start_time": "2023-02-21T04:20:30.276771Z"
    }
   },
   "outputs": [
    {
     "name": "stdout",
     "output_type": "stream",
     "text": [
      "(150, 100)\n"
     ]
    },
    {
     "data": {
      "text/html": [
       "<div>\n",
       "<style scoped>\n",
       "    .dataframe tbody tr th:only-of-type {\n",
       "        vertical-align: middle;\n",
       "    }\n",
       "\n",
       "    .dataframe tbody tr th {\n",
       "        vertical-align: top;\n",
       "    }\n",
       "\n",
       "    .dataframe thead th {\n",
       "        text-align: right;\n",
       "    }\n",
       "</style>\n",
       "<table border=\"1\" class=\"dataframe\">\n",
       "  <thead>\n",
       "    <tr style=\"text-align: right;\">\n",
       "      <th></th>\n",
       "      <th>PATNO</th>\n",
       "      <th>APPRDX</th>\n",
       "      <th>cg20699097</th>\n",
       "      <th>cg12162792</th>\n",
       "      <th>cg25537999</th>\n",
       "      <th>cg03239914</th>\n",
       "      <th>cg14268784</th>\n",
       "      <th>cg10615711</th>\n",
       "      <th>cg20373081</th>\n",
       "      <th>cg06322035</th>\n",
       "      <th>...</th>\n",
       "      <th>cg05015348</th>\n",
       "      <th>cg18497960</th>\n",
       "      <th>cg18830699</th>\n",
       "      <th>cg18319799</th>\n",
       "      <th>cg04954056</th>\n",
       "      <th>cg09902448</th>\n",
       "      <th>cg00319242</th>\n",
       "      <th>cg05125128</th>\n",
       "      <th>cg26819590</th>\n",
       "      <th>cg06191029</th>\n",
       "    </tr>\n",
       "  </thead>\n",
       "  <tbody>\n",
       "    <tr>\n",
       "      <th>0</th>\n",
       "      <td>3002</td>\n",
       "      <td>1</td>\n",
       "      <td>0.522515</td>\n",
       "      <td>0.887998</td>\n",
       "      <td>0.864310</td>\n",
       "      <td>0.024669</td>\n",
       "      <td>0.752473</td>\n",
       "      <td>0.820693</td>\n",
       "      <td>0.485638</td>\n",
       "      <td>0.922618</td>\n",
       "      <td>...</td>\n",
       "      <td>0.925712</td>\n",
       "      <td>0.031527</td>\n",
       "      <td>0.080178</td>\n",
       "      <td>0.020568</td>\n",
       "      <td>0.924756</td>\n",
       "      <td>0.952915</td>\n",
       "      <td>0.936700</td>\n",
       "      <td>0.894132</td>\n",
       "      <td>0.930234</td>\n",
       "      <td>0.622872</td>\n",
       "    </tr>\n",
       "    <tr>\n",
       "      <th>1</th>\n",
       "      <td>3003</td>\n",
       "      <td>1</td>\n",
       "      <td>0.504891</td>\n",
       "      <td>0.881857</td>\n",
       "      <td>0.906418</td>\n",
       "      <td>0.027039</td>\n",
       "      <td>0.742175</td>\n",
       "      <td>0.840767</td>\n",
       "      <td>0.514168</td>\n",
       "      <td>0.931757</td>\n",
       "      <td>...</td>\n",
       "      <td>0.929549</td>\n",
       "      <td>0.028693</td>\n",
       "      <td>0.125536</td>\n",
       "      <td>0.019818</td>\n",
       "      <td>0.906033</td>\n",
       "      <td>0.959074</td>\n",
       "      <td>0.935086</td>\n",
       "      <td>0.887206</td>\n",
       "      <td>0.923072</td>\n",
       "      <td>0.895365</td>\n",
       "    </tr>\n",
       "  </tbody>\n",
       "</table>\n",
       "<p>2 rows × 100 columns</p>\n",
       "</div>"
      ],
      "text/plain": [
       "   PATNO  APPRDX  cg20699097  cg12162792  cg25537999  cg03239914  cg14268784  \\\n",
       "0   3002       1    0.522515    0.887998    0.864310    0.024669    0.752473   \n",
       "1   3003       1    0.504891    0.881857    0.906418    0.027039    0.742175   \n",
       "\n",
       "   cg10615711  cg20373081  cg06322035  ...  cg05015348  cg18497960  \\\n",
       "0    0.820693    0.485638    0.922618  ...    0.925712    0.031527   \n",
       "1    0.840767    0.514168    0.931757  ...    0.929549    0.028693   \n",
       "\n",
       "   cg18830699  cg18319799  cg04954056  cg09902448  cg00319242  cg05125128  \\\n",
       "0    0.080178    0.020568    0.924756    0.952915    0.936700    0.894132   \n",
       "1    0.125536    0.019818    0.906033    0.959074    0.935086    0.887206   \n",
       "\n",
       "   cg26819590  cg06191029  \n",
       "0    0.930234    0.622872  \n",
       "1    0.923072    0.895365  \n",
       "\n",
       "[2 rows x 100 columns]"
      ]
     },
     "execution_count": 3,
     "metadata": {},
     "output_type": "execute_result"
    }
   ],
   "source": [
    "# concatenate the two dataframes along the columns axis\n",
    "concatenated_df = pd.concat([df1, df2], axis=1)\n",
    "\n",
    "# drop the duplicate columns\n",
    "final_df = concatenated_df.loc[:,~concatenated_df.columns.duplicated()]\n",
    "final_df.to_csv ('Cognition_Top50sMerge_Data_Female.csv', index = False)\n",
    "print(final_df.shape)\n",
    "final_df.head(2)"
   ]
  },
  {
   "cell_type": "markdown",
   "id": "ed23379b",
   "metadata": {},
   "source": [
    "# Constipation"
   ]
  },
  {
   "cell_type": "code",
   "execution_count": 4,
   "id": "383e3516",
   "metadata": {
    "ExecuteTime": {
     "end_time": "2023-02-21T04:20:30.624503Z",
     "start_time": "2023-02-21T04:20:30.461743Z"
    }
   },
   "outputs": [
    {
     "name": "stdout",
     "output_type": "stream",
     "text": [
      "Z:\\PPMI_Data\\Excels\\NonMotors\\Derived250\\Female\\GeneCpG\\Constipation\n",
      "(150, 52)\n",
      "(150, 52)\n"
     ]
    }
   ],
   "source": [
    "%cd Z:\\PPMI_Data\\Excels\\NonMotors\\Derived250\\Female\\GeneCpG\\Constipation\n",
    "df1 = pd.read_csv('NMI_Top50_Constipation_Methylome_Female.csv')\n",
    "print(df1.shape)\n",
    "df2 = pd.read_csv('Constipation_Boruta_Top50_Data_Female.csv')\n",
    "print(df2.shape)"
   ]
  },
  {
   "cell_type": "code",
   "execution_count": 5,
   "id": "a1951c84",
   "metadata": {
    "ExecuteTime": {
     "end_time": "2023-02-21T04:20:30.740395Z",
     "start_time": "2023-02-21T04:20:30.624503Z"
    }
   },
   "outputs": [
    {
     "name": "stdout",
     "output_type": "stream",
     "text": [
      "(150, 100)\n"
     ]
    },
    {
     "data": {
      "text/html": [
       "<div>\n",
       "<style scoped>\n",
       "    .dataframe tbody tr th:only-of-type {\n",
       "        vertical-align: middle;\n",
       "    }\n",
       "\n",
       "    .dataframe tbody tr th {\n",
       "        vertical-align: top;\n",
       "    }\n",
       "\n",
       "    .dataframe thead th {\n",
       "        text-align: right;\n",
       "    }\n",
       "</style>\n",
       "<table border=\"1\" class=\"dataframe\">\n",
       "  <thead>\n",
       "    <tr style=\"text-align: right;\">\n",
       "      <th></th>\n",
       "      <th>PATNO</th>\n",
       "      <th>APPRDX</th>\n",
       "      <th>cg14268784</th>\n",
       "      <th>cg22136726</th>\n",
       "      <th>cg00335286</th>\n",
       "      <th>cg20080383</th>\n",
       "      <th>cg17594730</th>\n",
       "      <th>cg03166896</th>\n",
       "      <th>cg21409615</th>\n",
       "      <th>cg09351848</th>\n",
       "      <th>...</th>\n",
       "      <th>cg24632646</th>\n",
       "      <th>cg18258770</th>\n",
       "      <th>cg15454710</th>\n",
       "      <th>cg13365781</th>\n",
       "      <th>cg19878200</th>\n",
       "      <th>cg23814714</th>\n",
       "      <th>cg06173919</th>\n",
       "      <th>cg19458274</th>\n",
       "      <th>cg20641425</th>\n",
       "      <th>cg11712482</th>\n",
       "    </tr>\n",
       "  </thead>\n",
       "  <tbody>\n",
       "    <tr>\n",
       "      <th>0</th>\n",
       "      <td>3002</td>\n",
       "      <td>1</td>\n",
       "      <td>0.752473</td>\n",
       "      <td>0.699776</td>\n",
       "      <td>0.650353</td>\n",
       "      <td>0.644179</td>\n",
       "      <td>0.905597</td>\n",
       "      <td>0.941780</td>\n",
       "      <td>0.882367</td>\n",
       "      <td>0.864516</td>\n",
       "      <td>...</td>\n",
       "      <td>0.925054</td>\n",
       "      <td>0.066482</td>\n",
       "      <td>0.831087</td>\n",
       "      <td>0.014288</td>\n",
       "      <td>0.123791</td>\n",
       "      <td>0.879547</td>\n",
       "      <td>0.938525</td>\n",
       "      <td>0.015144</td>\n",
       "      <td>0.611551</td>\n",
       "      <td>0.426216</td>\n",
       "    </tr>\n",
       "    <tr>\n",
       "      <th>1</th>\n",
       "      <td>3003</td>\n",
       "      <td>1</td>\n",
       "      <td>0.742175</td>\n",
       "      <td>0.667122</td>\n",
       "      <td>0.708811</td>\n",
       "      <td>0.461084</td>\n",
       "      <td>0.937221</td>\n",
       "      <td>0.937959</td>\n",
       "      <td>0.893561</td>\n",
       "      <td>0.855371</td>\n",
       "      <td>...</td>\n",
       "      <td>0.921383</td>\n",
       "      <td>0.073510</td>\n",
       "      <td>0.885725</td>\n",
       "      <td>0.014145</td>\n",
       "      <td>0.104146</td>\n",
       "      <td>0.900867</td>\n",
       "      <td>0.958519</td>\n",
       "      <td>0.015374</td>\n",
       "      <td>0.744868</td>\n",
       "      <td>0.431001</td>\n",
       "    </tr>\n",
       "  </tbody>\n",
       "</table>\n",
       "<p>2 rows × 100 columns</p>\n",
       "</div>"
      ],
      "text/plain": [
       "   PATNO  APPRDX  cg14268784  cg22136726  cg00335286  cg20080383  cg17594730  \\\n",
       "0   3002       1    0.752473    0.699776    0.650353    0.644179    0.905597   \n",
       "1   3003       1    0.742175    0.667122    0.708811    0.461084    0.937221   \n",
       "\n",
       "   cg03166896  cg21409615  cg09351848  ...  cg24632646  cg18258770  \\\n",
       "0    0.941780    0.882367    0.864516  ...    0.925054    0.066482   \n",
       "1    0.937959    0.893561    0.855371  ...    0.921383    0.073510   \n",
       "\n",
       "   cg15454710  cg13365781  cg19878200  cg23814714  cg06173919  cg19458274  \\\n",
       "0    0.831087    0.014288    0.123791    0.879547    0.938525    0.015144   \n",
       "1    0.885725    0.014145    0.104146    0.900867    0.958519    0.015374   \n",
       "\n",
       "   cg20641425  cg11712482  \n",
       "0    0.611551    0.426216  \n",
       "1    0.744868    0.431001  \n",
       "\n",
       "[2 rows x 100 columns]"
      ]
     },
     "execution_count": 5,
     "metadata": {},
     "output_type": "execute_result"
    }
   ],
   "source": [
    "# concatenate the two dataframes along the columns axis\n",
    "concatenated_df = pd.concat([df1, df2], axis=1)\n",
    "\n",
    "# drop the duplicate columns\n",
    "final_df = concatenated_df.loc[:,~concatenated_df.columns.duplicated()]\n",
    "final_df.to_csv ('Constipation_Top50sMerge_Data_Female.csv', index = False)\n",
    "print(final_df.shape)\n",
    "final_df.head(2)"
   ]
  },
  {
   "cell_type": "markdown",
   "id": "04aaf296",
   "metadata": {},
   "source": [
    "# Gastro"
   ]
  },
  {
   "cell_type": "code",
   "execution_count": 6,
   "id": "e108f968",
   "metadata": {
    "ExecuteTime": {
     "end_time": "2023-02-21T04:20:30.963070Z",
     "start_time": "2023-02-21T04:20:30.746903Z"
    }
   },
   "outputs": [
    {
     "name": "stdout",
     "output_type": "stream",
     "text": [
      "Z:\\PPMI_Data\\Excels\\NonMotors\\Derived250\\Female\\GeneCpG\\Gastro\n",
      "(150, 52)\n",
      "(150, 52)\n"
     ]
    }
   ],
   "source": [
    "%cd Z:\\PPMI_Data\\Excels\\NonMotors\\Derived250\\Female\\GeneCpG\\Gastro\n",
    "df1 = pd.read_csv('NMI_Top50_Gastro_Methylome_Female.csv')\n",
    "print(df1.shape)\n",
    "df2 = pd.read_csv('Gastro_Boruta_Top50_Data_Female.csv')\n",
    "print(df2.shape)"
   ]
  },
  {
   "cell_type": "code",
   "execution_count": 7,
   "id": "b20efb4f",
   "metadata": {
    "ExecuteTime": {
     "end_time": "2023-02-21T04:20:31.063346Z",
     "start_time": "2023-02-21T04:20:30.963070Z"
    }
   },
   "outputs": [
    {
     "name": "stdout",
     "output_type": "stream",
     "text": [
      "(150, 99)\n"
     ]
    },
    {
     "data": {
      "text/html": [
       "<div>\n",
       "<style scoped>\n",
       "    .dataframe tbody tr th:only-of-type {\n",
       "        vertical-align: middle;\n",
       "    }\n",
       "\n",
       "    .dataframe tbody tr th {\n",
       "        vertical-align: top;\n",
       "    }\n",
       "\n",
       "    .dataframe thead th {\n",
       "        text-align: right;\n",
       "    }\n",
       "</style>\n",
       "<table border=\"1\" class=\"dataframe\">\n",
       "  <thead>\n",
       "    <tr style=\"text-align: right;\">\n",
       "      <th></th>\n",
       "      <th>PATNO</th>\n",
       "      <th>APPRDX</th>\n",
       "      <th>cg20699097</th>\n",
       "      <th>cg12162792</th>\n",
       "      <th>cg14268784</th>\n",
       "      <th>cg10615711</th>\n",
       "      <th>cg18248290</th>\n",
       "      <th>cg21028211</th>\n",
       "      <th>cg22136726</th>\n",
       "      <th>cg19138499</th>\n",
       "      <th>...</th>\n",
       "      <th>cg02386354</th>\n",
       "      <th>cg11667847</th>\n",
       "      <th>cg23446297</th>\n",
       "      <th>cg03157284</th>\n",
       "      <th>cg16281009</th>\n",
       "      <th>cg00882235</th>\n",
       "      <th>cg12103037</th>\n",
       "      <th>cg08455380</th>\n",
       "      <th>cg15995909</th>\n",
       "      <th>cg08658665</th>\n",
       "    </tr>\n",
       "  </thead>\n",
       "  <tbody>\n",
       "    <tr>\n",
       "      <th>0</th>\n",
       "      <td>3000</td>\n",
       "      <td>2</td>\n",
       "      <td>0.561816</td>\n",
       "      <td>0.855302</td>\n",
       "      <td>0.703388</td>\n",
       "      <td>0.673214</td>\n",
       "      <td>0.898221</td>\n",
       "      <td>0.038356</td>\n",
       "      <td>0.736337</td>\n",
       "      <td>0.920851</td>\n",
       "      <td>...</td>\n",
       "      <td>0.925231</td>\n",
       "      <td>0.496920</td>\n",
       "      <td>0.052424</td>\n",
       "      <td>0.533353</td>\n",
       "      <td>0.892000</td>\n",
       "      <td>0.058645</td>\n",
       "      <td>0.076198</td>\n",
       "      <td>0.062389</td>\n",
       "      <td>0.924530</td>\n",
       "      <td>0.048968</td>\n",
       "    </tr>\n",
       "    <tr>\n",
       "      <th>1</th>\n",
       "      <td>3002</td>\n",
       "      <td>1</td>\n",
       "      <td>0.522515</td>\n",
       "      <td>0.887998</td>\n",
       "      <td>0.752473</td>\n",
       "      <td>0.820693</td>\n",
       "      <td>0.913113</td>\n",
       "      <td>0.025499</td>\n",
       "      <td>0.699776</td>\n",
       "      <td>0.928081</td>\n",
       "      <td>...</td>\n",
       "      <td>0.927492</td>\n",
       "      <td>0.451558</td>\n",
       "      <td>0.053269</td>\n",
       "      <td>0.493896</td>\n",
       "      <td>0.857446</td>\n",
       "      <td>0.070943</td>\n",
       "      <td>0.088004</td>\n",
       "      <td>0.049029</td>\n",
       "      <td>0.912166</td>\n",
       "      <td>0.045645</td>\n",
       "    </tr>\n",
       "  </tbody>\n",
       "</table>\n",
       "<p>2 rows × 99 columns</p>\n",
       "</div>"
      ],
      "text/plain": [
       "   PATNO  APPRDX  cg20699097  cg12162792  cg14268784  cg10615711  cg18248290  \\\n",
       "0   3000       2    0.561816    0.855302    0.703388    0.673214    0.898221   \n",
       "1   3002       1    0.522515    0.887998    0.752473    0.820693    0.913113   \n",
       "\n",
       "   cg21028211  cg22136726  cg19138499  ...  cg02386354  cg11667847  \\\n",
       "0    0.038356    0.736337    0.920851  ...    0.925231    0.496920   \n",
       "1    0.025499    0.699776    0.928081  ...    0.927492    0.451558   \n",
       "\n",
       "   cg23446297  cg03157284  cg16281009  cg00882235  cg12103037  cg08455380  \\\n",
       "0    0.052424    0.533353    0.892000    0.058645    0.076198    0.062389   \n",
       "1    0.053269    0.493896    0.857446    0.070943    0.088004    0.049029   \n",
       "\n",
       "   cg15995909  cg08658665  \n",
       "0    0.924530    0.048968  \n",
       "1    0.912166    0.045645  \n",
       "\n",
       "[2 rows x 99 columns]"
      ]
     },
     "execution_count": 7,
     "metadata": {},
     "output_type": "execute_result"
    }
   ],
   "source": [
    "# concatenate the two dataframes along the columns axis\n",
    "concatenated_df = pd.concat([df1, df2], axis=1)\n",
    "\n",
    "# drop the duplicate columns\n",
    "final_df = concatenated_df.loc[:,~concatenated_df.columns.duplicated()]\n",
    "final_df.to_csv ('Gastro_Top50sMerge_Data_Female.csv', index = False)\n",
    "print(final_df.shape)\n",
    "final_df.head(2)"
   ]
  },
  {
   "cell_type": "markdown",
   "id": "8ebd5b9b",
   "metadata": {},
   "source": [
    "# LexicalFluency"
   ]
  },
  {
   "cell_type": "code",
   "execution_count": 8,
   "id": "0dec4845",
   "metadata": {
    "ExecuteTime": {
     "end_time": "2023-02-21T04:20:31.179236Z",
     "start_time": "2023-02-21T04:20:31.063346Z"
    }
   },
   "outputs": [
    {
     "name": "stdout",
     "output_type": "stream",
     "text": [
      "Z:\\PPMI_Data\\Excels\\NonMotors\\Derived250\\Female\\GeneCpG\\LexicalFluency\n",
      "(75, 52)\n",
      "(75, 52)\n"
     ]
    }
   ],
   "source": [
    "%cd Z:\\PPMI_Data\\Excels\\NonMotors\\Derived250\\Female\\GeneCpG\\LexicalFluency\n",
    "df1 = pd.read_csv('Top50NMI_LexicalFluency_Female_Data.csv')\n",
    "print(df1.shape)\n",
    "df2 = pd.read_csv('Top50Boruta_LexicalFluency_Female_Data.csv')\n",
    "print(df2.shape)"
   ]
  },
  {
   "cell_type": "code",
   "execution_count": 9,
   "id": "50c59174",
   "metadata": {
    "ExecuteTime": {
     "end_time": "2023-02-21T04:20:31.326382Z",
     "start_time": "2023-02-21T04:20:31.179236Z"
    }
   },
   "outputs": [
    {
     "name": "stdout",
     "output_type": "stream",
     "text": [
      "(75, 96)\n"
     ]
    },
    {
     "data": {
      "text/html": [
       "<div>\n",
       "<style scoped>\n",
       "    .dataframe tbody tr th:only-of-type {\n",
       "        vertical-align: middle;\n",
       "    }\n",
       "\n",
       "    .dataframe tbody tr th {\n",
       "        vertical-align: top;\n",
       "    }\n",
       "\n",
       "    .dataframe thead th {\n",
       "        text-align: right;\n",
       "    }\n",
       "</style>\n",
       "<table border=\"1\" class=\"dataframe\">\n",
       "  <thead>\n",
       "    <tr style=\"text-align: right;\">\n",
       "      <th></th>\n",
       "      <th>PATNO</th>\n",
       "      <th>APPRDX</th>\n",
       "      <th>cg26111030</th>\n",
       "      <th>cg17605629</th>\n",
       "      <th>cg06480636</th>\n",
       "      <th>cg13901712</th>\n",
       "      <th>cg22190754</th>\n",
       "      <th>cg20717075</th>\n",
       "      <th>cg15000071</th>\n",
       "      <th>cg22707381</th>\n",
       "      <th>...</th>\n",
       "      <th>cg10364513</th>\n",
       "      <th>cg14410319</th>\n",
       "      <th>cg25158734</th>\n",
       "      <th>cg00337440</th>\n",
       "      <th>cg11543740</th>\n",
       "      <th>cg20546928</th>\n",
       "      <th>cg25126016</th>\n",
       "      <th>cg18295068</th>\n",
       "      <th>cg12942009</th>\n",
       "      <th>cg02320740</th>\n",
       "    </tr>\n",
       "  </thead>\n",
       "  <tbody>\n",
       "    <tr>\n",
       "      <th>0</th>\n",
       "      <td>3000</td>\n",
       "      <td>2</td>\n",
       "      <td>0.027015</td>\n",
       "      <td>0.726750</td>\n",
       "      <td>0.629698</td>\n",
       "      <td>0.891398</td>\n",
       "      <td>0.383983</td>\n",
       "      <td>0.424800</td>\n",
       "      <td>0.550229</td>\n",
       "      <td>0.611164</td>\n",
       "      <td>...</td>\n",
       "      <td>0.048438</td>\n",
       "      <td>0.087773</td>\n",
       "      <td>0.282774</td>\n",
       "      <td>0.609358</td>\n",
       "      <td>0.928531</td>\n",
       "      <td>0.053702</td>\n",
       "      <td>0.887791</td>\n",
       "      <td>0.077857</td>\n",
       "      <td>0.907575</td>\n",
       "      <td>0.019762</td>\n",
       "    </tr>\n",
       "    <tr>\n",
       "      <th>1</th>\n",
       "      <td>3002</td>\n",
       "      <td>1</td>\n",
       "      <td>0.017736</td>\n",
       "      <td>0.668591</td>\n",
       "      <td>0.677090</td>\n",
       "      <td>0.863390</td>\n",
       "      <td>0.765749</td>\n",
       "      <td>0.612856</td>\n",
       "      <td>0.570055</td>\n",
       "      <td>0.668208</td>\n",
       "      <td>...</td>\n",
       "      <td>0.032091</td>\n",
       "      <td>0.078954</td>\n",
       "      <td>0.286004</td>\n",
       "      <td>0.554657</td>\n",
       "      <td>0.905266</td>\n",
       "      <td>0.042847</td>\n",
       "      <td>0.940108</td>\n",
       "      <td>0.052616</td>\n",
       "      <td>0.919997</td>\n",
       "      <td>0.024096</td>\n",
       "    </tr>\n",
       "  </tbody>\n",
       "</table>\n",
       "<p>2 rows × 96 columns</p>\n",
       "</div>"
      ],
      "text/plain": [
       "   PATNO  APPRDX  cg26111030  cg17605629  cg06480636  cg13901712  cg22190754  \\\n",
       "0   3000       2    0.027015    0.726750    0.629698    0.891398    0.383983   \n",
       "1   3002       1    0.017736    0.668591    0.677090    0.863390    0.765749   \n",
       "\n",
       "   cg20717075  cg15000071  cg22707381  ...  cg10364513  cg14410319  \\\n",
       "0    0.424800    0.550229    0.611164  ...    0.048438    0.087773   \n",
       "1    0.612856    0.570055    0.668208  ...    0.032091    0.078954   \n",
       "\n",
       "   cg25158734  cg00337440  cg11543740  cg20546928  cg25126016  cg18295068  \\\n",
       "0    0.282774    0.609358    0.928531    0.053702    0.887791    0.077857   \n",
       "1    0.286004    0.554657    0.905266    0.042847    0.940108    0.052616   \n",
       "\n",
       "   cg12942009  cg02320740  \n",
       "0    0.907575    0.019762  \n",
       "1    0.919997    0.024096  \n",
       "\n",
       "[2 rows x 96 columns]"
      ]
     },
     "execution_count": 9,
     "metadata": {},
     "output_type": "execute_result"
    }
   ],
   "source": [
    "# concatenate the two dataframes along the columns axis\n",
    "concatenated_df = pd.concat([df1, df2], axis=1)\n",
    "\n",
    "# drop the duplicate columns\n",
    "final_df = concatenated_df.loc[:,~concatenated_df.columns.duplicated()]\n",
    "final_df.to_csv ('LexicalFluency_Top50sMerge_Data_Female.csv', index = False)\n",
    "print(final_df.shape)\n",
    "final_df.head(2)"
   ]
  },
  {
   "cell_type": "markdown",
   "id": "cec9bb89",
   "metadata": {},
   "source": [
    "# Pain"
   ]
  },
  {
   "cell_type": "code",
   "execution_count": 10,
   "id": "7a0f28e0",
   "metadata": {
    "ExecuteTime": {
     "end_time": "2023-02-21T04:20:31.480040Z",
     "start_time": "2023-02-21T04:20:31.326382Z"
    }
   },
   "outputs": [
    {
     "name": "stdout",
     "output_type": "stream",
     "text": [
      "Z:\\PPMI_Data\\Excels\\NonMotors\\Derived250\\Female\\GeneCpG\\Pain\n",
      "(150, 52)\n",
      "(150, 52)\n"
     ]
    }
   ],
   "source": [
    "%cd Z:\\PPMI_Data\\Excels\\NonMotors\\Derived250\\Female\\GeneCpG\\Pain\n",
    "df1 = pd.read_csv('NMI_Top50_Pain_Methylome_Female.csv')\n",
    "print(df1.shape)\n",
    "df2 = pd.read_csv('Pain_Boruta_Top50_Data_Female.csv')\n",
    "print(df2.shape)"
   ]
  },
  {
   "cell_type": "code",
   "execution_count": 11,
   "id": "0417724c",
   "metadata": {
    "ExecuteTime": {
     "end_time": "2023-02-21T04:20:31.580307Z",
     "start_time": "2023-02-21T04:20:31.480040Z"
    },
    "scrolled": true
   },
   "outputs": [
    {
     "name": "stdout",
     "output_type": "stream",
     "text": [
      "(150, 101)\n"
     ]
    },
    {
     "data": {
      "text/html": [
       "<div>\n",
       "<style scoped>\n",
       "    .dataframe tbody tr th:only-of-type {\n",
       "        vertical-align: middle;\n",
       "    }\n",
       "\n",
       "    .dataframe tbody tr th {\n",
       "        vertical-align: top;\n",
       "    }\n",
       "\n",
       "    .dataframe thead th {\n",
       "        text-align: right;\n",
       "    }\n",
       "</style>\n",
       "<table border=\"1\" class=\"dataframe\">\n",
       "  <thead>\n",
       "    <tr style=\"text-align: right;\">\n",
       "      <th></th>\n",
       "      <th>PATNO</th>\n",
       "      <th>APPRDX</th>\n",
       "      <th>cg20699097</th>\n",
       "      <th>cg12162792</th>\n",
       "      <th>cg25537999</th>\n",
       "      <th>cg03239914</th>\n",
       "      <th>cg10615711</th>\n",
       "      <th>cg17754830</th>\n",
       "      <th>cg20742385</th>\n",
       "      <th>cg20064928</th>\n",
       "      <th>...</th>\n",
       "      <th>cg01158140</th>\n",
       "      <th>cg01248375</th>\n",
       "      <th>cg01947036</th>\n",
       "      <th>cg10586471</th>\n",
       "      <th>cg19878200</th>\n",
       "      <th>cg26819590</th>\n",
       "      <th>cg01378481</th>\n",
       "      <th>cg25911279</th>\n",
       "      <th>cg25547939</th>\n",
       "      <th>cg11712482</th>\n",
       "    </tr>\n",
       "  </thead>\n",
       "  <tbody>\n",
       "    <tr>\n",
       "      <th>0</th>\n",
       "      <td>3002</td>\n",
       "      <td>1</td>\n",
       "      <td>0.522515</td>\n",
       "      <td>0.887998</td>\n",
       "      <td>0.864310</td>\n",
       "      <td>0.024669</td>\n",
       "      <td>0.820693</td>\n",
       "      <td>0.234933</td>\n",
       "      <td>0.831509</td>\n",
       "      <td>0.018605</td>\n",
       "      <td>...</td>\n",
       "      <td>0.830883</td>\n",
       "      <td>0.031342</td>\n",
       "      <td>0.017338</td>\n",
       "      <td>0.796200</td>\n",
       "      <td>0.123791</td>\n",
       "      <td>0.930234</td>\n",
       "      <td>0.897877</td>\n",
       "      <td>0.024504</td>\n",
       "      <td>0.915858</td>\n",
       "      <td>0.426216</td>\n",
       "    </tr>\n",
       "    <tr>\n",
       "      <th>1</th>\n",
       "      <td>3003</td>\n",
       "      <td>1</td>\n",
       "      <td>0.504891</td>\n",
       "      <td>0.881857</td>\n",
       "      <td>0.906418</td>\n",
       "      <td>0.027039</td>\n",
       "      <td>0.840767</td>\n",
       "      <td>0.203623</td>\n",
       "      <td>0.804018</td>\n",
       "      <td>0.019957</td>\n",
       "      <td>...</td>\n",
       "      <td>0.887657</td>\n",
       "      <td>0.039883</td>\n",
       "      <td>0.012522</td>\n",
       "      <td>0.820927</td>\n",
       "      <td>0.104146</td>\n",
       "      <td>0.923072</td>\n",
       "      <td>0.913737</td>\n",
       "      <td>0.026267</td>\n",
       "      <td>0.910504</td>\n",
       "      <td>0.431001</td>\n",
       "    </tr>\n",
       "  </tbody>\n",
       "</table>\n",
       "<p>2 rows × 101 columns</p>\n",
       "</div>"
      ],
      "text/plain": [
       "   PATNO  APPRDX  cg20699097  cg12162792  cg25537999  cg03239914  cg10615711  \\\n",
       "0   3002       1    0.522515    0.887998    0.864310    0.024669    0.820693   \n",
       "1   3003       1    0.504891    0.881857    0.906418    0.027039    0.840767   \n",
       "\n",
       "   cg17754830  cg20742385  cg20064928  ...  cg01158140  cg01248375  \\\n",
       "0    0.234933    0.831509    0.018605  ...    0.830883    0.031342   \n",
       "1    0.203623    0.804018    0.019957  ...    0.887657    0.039883   \n",
       "\n",
       "   cg01947036  cg10586471  cg19878200  cg26819590  cg01378481  cg25911279  \\\n",
       "0    0.017338    0.796200    0.123791    0.930234    0.897877    0.024504   \n",
       "1    0.012522    0.820927    0.104146    0.923072    0.913737    0.026267   \n",
       "\n",
       "   cg25547939  cg11712482  \n",
       "0    0.915858    0.426216  \n",
       "1    0.910504    0.431001  \n",
       "\n",
       "[2 rows x 101 columns]"
      ]
     },
     "execution_count": 11,
     "metadata": {},
     "output_type": "execute_result"
    }
   ],
   "source": [
    "# concatenate the two dataframes along the columns axis\n",
    "concatenated_df = pd.concat([df1, df2], axis=1)\n",
    "\n",
    "# drop the duplicate columns\n",
    "final_df = concatenated_df.loc[:,~concatenated_df.columns.duplicated()]\n",
    "final_df.to_csv ('Pain_Top50sMerge_Data_Female.csv', index = False)\n",
    "print(final_df.shape)\n",
    "final_df.head(2)"
   ]
  },
  {
   "cell_type": "markdown",
   "id": "1e7d9da9",
   "metadata": {},
   "source": [
    "# STAIS"
   ]
  },
  {
   "cell_type": "code",
   "execution_count": 12,
   "id": "7721c718",
   "metadata": {
    "ExecuteTime": {
     "end_time": "2023-02-21T04:20:31.782242Z",
     "start_time": "2023-02-21T04:20:31.580307Z"
    }
   },
   "outputs": [
    {
     "name": "stdout",
     "output_type": "stream",
     "text": [
      "Z:\\PPMI_Data\\Excels\\NonMotors\\Derived250\\Female\\GeneCpG\\STAIS\n",
      "(150, 52)\n",
      "(150, 52)\n"
     ]
    }
   ],
   "source": [
    "%cd Z:\\PPMI_Data\\Excels\\NonMotors\\Derived250\\Female\\GeneCpG\\STAIS\n",
    "df1 = pd.read_csv('Top50NMI_STAIS_Female_Data.csv')\n",
    "print(df1.shape)\n",
    "df2 = pd.read_csv('Top50Boruta_STAIS_Female_Data.csv')\n",
    "print(df2.shape)"
   ]
  },
  {
   "cell_type": "code",
   "execution_count": 13,
   "id": "40bad19e",
   "metadata": {
    "ExecuteTime": {
     "end_time": "2023-02-21T04:20:31.866884Z",
     "start_time": "2023-02-21T04:20:31.782242Z"
    }
   },
   "outputs": [
    {
     "name": "stdout",
     "output_type": "stream",
     "text": [
      "(150, 94)\n"
     ]
    },
    {
     "data": {
      "text/html": [
       "<div>\n",
       "<style scoped>\n",
       "    .dataframe tbody tr th:only-of-type {\n",
       "        vertical-align: middle;\n",
       "    }\n",
       "\n",
       "    .dataframe tbody tr th {\n",
       "        vertical-align: top;\n",
       "    }\n",
       "\n",
       "    .dataframe thead th {\n",
       "        text-align: right;\n",
       "    }\n",
       "</style>\n",
       "<table border=\"1\" class=\"dataframe\">\n",
       "  <thead>\n",
       "    <tr style=\"text-align: right;\">\n",
       "      <th></th>\n",
       "      <th>PATNO</th>\n",
       "      <th>APPRDX</th>\n",
       "      <th>cg18117347</th>\n",
       "      <th>cg23865342</th>\n",
       "      <th>cg02699069</th>\n",
       "      <th>cg25150162</th>\n",
       "      <th>cg22930773</th>\n",
       "      <th>cg16516429</th>\n",
       "      <th>cg11436767</th>\n",
       "      <th>cg16234718</th>\n",
       "      <th>...</th>\n",
       "      <th>cg23085154</th>\n",
       "      <th>cg18640030</th>\n",
       "      <th>cg14195166</th>\n",
       "      <th>cg08351336</th>\n",
       "      <th>cg00824260</th>\n",
       "      <th>cg25020550</th>\n",
       "      <th>cg17446654</th>\n",
       "      <th>cg13527921</th>\n",
       "      <th>cg15499799</th>\n",
       "      <th>cg13134297</th>\n",
       "    </tr>\n",
       "  </thead>\n",
       "  <tbody>\n",
       "    <tr>\n",
       "      <th>0</th>\n",
       "      <td>3000</td>\n",
       "      <td>2</td>\n",
       "      <td>0.123347</td>\n",
       "      <td>0.902565</td>\n",
       "      <td>0.048809</td>\n",
       "      <td>0.766530</td>\n",
       "      <td>0.874594</td>\n",
       "      <td>0.845297</td>\n",
       "      <td>0.457878</td>\n",
       "      <td>0.909822</td>\n",
       "      <td>...</td>\n",
       "      <td>0.541307</td>\n",
       "      <td>0.731529</td>\n",
       "      <td>0.786456</td>\n",
       "      <td>0.099350</td>\n",
       "      <td>0.922703</td>\n",
       "      <td>0.272605</td>\n",
       "      <td>0.025802</td>\n",
       "      <td>0.106406</td>\n",
       "      <td>0.681785</td>\n",
       "      <td>0.154995</td>\n",
       "    </tr>\n",
       "    <tr>\n",
       "      <th>1</th>\n",
       "      <td>3002</td>\n",
       "      <td>1</td>\n",
       "      <td>0.156355</td>\n",
       "      <td>0.896196</td>\n",
       "      <td>0.043996</td>\n",
       "      <td>0.650854</td>\n",
       "      <td>0.867694</td>\n",
       "      <td>0.865760</td>\n",
       "      <td>0.466237</td>\n",
       "      <td>0.920270</td>\n",
       "      <td>...</td>\n",
       "      <td>0.638374</td>\n",
       "      <td>0.780602</td>\n",
       "      <td>0.798387</td>\n",
       "      <td>0.106778</td>\n",
       "      <td>0.913702</td>\n",
       "      <td>0.344200</td>\n",
       "      <td>0.013819</td>\n",
       "      <td>0.149376</td>\n",
       "      <td>0.762136</td>\n",
       "      <td>0.246300</td>\n",
       "    </tr>\n",
       "  </tbody>\n",
       "</table>\n",
       "<p>2 rows × 94 columns</p>\n",
       "</div>"
      ],
      "text/plain": [
       "   PATNO  APPRDX  cg18117347  cg23865342  cg02699069  cg25150162  cg22930773  \\\n",
       "0   3000       2    0.123347    0.902565    0.048809    0.766530    0.874594   \n",
       "1   3002       1    0.156355    0.896196    0.043996    0.650854    0.867694   \n",
       "\n",
       "   cg16516429  cg11436767  cg16234718  ...  cg23085154  cg18640030  \\\n",
       "0    0.845297    0.457878    0.909822  ...    0.541307    0.731529   \n",
       "1    0.865760    0.466237    0.920270  ...    0.638374    0.780602   \n",
       "\n",
       "   cg14195166  cg08351336  cg00824260  cg25020550  cg17446654  cg13527921  \\\n",
       "0    0.786456    0.099350    0.922703    0.272605    0.025802    0.106406   \n",
       "1    0.798387    0.106778    0.913702    0.344200    0.013819    0.149376   \n",
       "\n",
       "   cg15499799  cg13134297  \n",
       "0    0.681785    0.154995  \n",
       "1    0.762136    0.246300  \n",
       "\n",
       "[2 rows x 94 columns]"
      ]
     },
     "execution_count": 13,
     "metadata": {},
     "output_type": "execute_result"
    }
   ],
   "source": [
    "# concatenate the two dataframes along the columns axis\n",
    "concatenated_df = pd.concat([df1, df2], axis=1)\n",
    "\n",
    "# drop the duplicate columns\n",
    "final_df = concatenated_df.loc[:,~concatenated_df.columns.duplicated()]\n",
    "final_df.to_csv ('STAIS_Top50sMerge_Data_Female.csv', index = False)\n",
    "print(final_df.shape)\n",
    "final_df.head(2)"
   ]
  },
  {
   "cell_type": "markdown",
   "id": "dc3edc7d",
   "metadata": {},
   "source": [
    "# UPSIT"
   ]
  },
  {
   "cell_type": "code",
   "execution_count": 14,
   "id": "d1b6374f",
   "metadata": {
    "ExecuteTime": {
     "end_time": "2023-02-21T04:20:32.014026Z",
     "start_time": "2023-02-21T04:20:31.866884Z"
    }
   },
   "outputs": [
    {
     "name": "stdout",
     "output_type": "stream",
     "text": [
      "Z:\\PPMI_Data\\Excels\\NonMotors\\Derived250\\Female\\GeneCpG\\UPSIT\n",
      "(150, 52)\n",
      "(150, 52)\n"
     ]
    }
   ],
   "source": [
    "%cd Z:\\PPMI_Data\\Excels\\NonMotors\\Derived250\\Female\\GeneCpG\\UPSIT\n",
    "df1 = pd.read_csv('NMI_Top50_UPSIT_Methylome_Female.csv')\n",
    "print(df1.shape)\n",
    "df2 = pd.read_csv('UPSIT_Boruta_Top50_Data_Female.csv')\n",
    "print(df2.shape)"
   ]
  },
  {
   "cell_type": "code",
   "execution_count": 15,
   "id": "71bd9b63",
   "metadata": {
    "ExecuteTime": {
     "end_time": "2023-02-21T04:20:32.083052Z",
     "start_time": "2023-02-21T04:20:32.014026Z"
    }
   },
   "outputs": [
    {
     "name": "stdout",
     "output_type": "stream",
     "text": [
      "(150, 97)\n"
     ]
    },
    {
     "data": {
      "text/html": [
       "<div>\n",
       "<style scoped>\n",
       "    .dataframe tbody tr th:only-of-type {\n",
       "        vertical-align: middle;\n",
       "    }\n",
       "\n",
       "    .dataframe tbody tr th {\n",
       "        vertical-align: top;\n",
       "    }\n",
       "\n",
       "    .dataframe thead th {\n",
       "        text-align: right;\n",
       "    }\n",
       "</style>\n",
       "<table border=\"1\" class=\"dataframe\">\n",
       "  <thead>\n",
       "    <tr style=\"text-align: right;\">\n",
       "      <th></th>\n",
       "      <th>PATNO</th>\n",
       "      <th>APPRDX</th>\n",
       "      <th>cg02488409</th>\n",
       "      <th>cg23865342</th>\n",
       "      <th>cg12845419</th>\n",
       "      <th>cg23142730</th>\n",
       "      <th>cg02888917</th>\n",
       "      <th>cg27486833</th>\n",
       "      <th>cg26730369</th>\n",
       "      <th>cg11686092</th>\n",
       "      <th>...</th>\n",
       "      <th>cg18322516</th>\n",
       "      <th>cg25149563</th>\n",
       "      <th>cg23390920</th>\n",
       "      <th>cg21280928</th>\n",
       "      <th>cg26544028</th>\n",
       "      <th>cg03385171</th>\n",
       "      <th>cg03191458</th>\n",
       "      <th>cg04324977</th>\n",
       "      <th>cg00153831</th>\n",
       "      <th>cg19458274</th>\n",
       "    </tr>\n",
       "  </thead>\n",
       "  <tbody>\n",
       "    <tr>\n",
       "      <th>0</th>\n",
       "      <td>3002</td>\n",
       "      <td>1</td>\n",
       "      <td>0.921580</td>\n",
       "      <td>0.896196</td>\n",
       "      <td>0.518718</td>\n",
       "      <td>0.826768</td>\n",
       "      <td>0.061802</td>\n",
       "      <td>0.729550</td>\n",
       "      <td>0.064156</td>\n",
       "      <td>0.041555</td>\n",
       "      <td>...</td>\n",
       "      <td>0.922824</td>\n",
       "      <td>0.748475</td>\n",
       "      <td>0.489156</td>\n",
       "      <td>0.892898</td>\n",
       "      <td>0.656587</td>\n",
       "      <td>0.920785</td>\n",
       "      <td>0.907265</td>\n",
       "      <td>0.936076</td>\n",
       "      <td>0.936939</td>\n",
       "      <td>0.015144</td>\n",
       "    </tr>\n",
       "    <tr>\n",
       "      <th>1</th>\n",
       "      <td>3003</td>\n",
       "      <td>1</td>\n",
       "      <td>0.923798</td>\n",
       "      <td>0.876246</td>\n",
       "      <td>0.548928</td>\n",
       "      <td>0.807613</td>\n",
       "      <td>0.063124</td>\n",
       "      <td>0.745873</td>\n",
       "      <td>0.091314</td>\n",
       "      <td>0.091124</td>\n",
       "      <td>...</td>\n",
       "      <td>0.912891</td>\n",
       "      <td>0.841205</td>\n",
       "      <td>0.505509</td>\n",
       "      <td>0.866465</td>\n",
       "      <td>0.629046</td>\n",
       "      <td>0.922969</td>\n",
       "      <td>0.929922</td>\n",
       "      <td>0.910388</td>\n",
       "      <td>0.916622</td>\n",
       "      <td>0.015374</td>\n",
       "    </tr>\n",
       "  </tbody>\n",
       "</table>\n",
       "<p>2 rows × 97 columns</p>\n",
       "</div>"
      ],
      "text/plain": [
       "   PATNO  APPRDX  cg02488409  cg23865342  cg12845419  cg23142730  cg02888917  \\\n",
       "0   3002       1    0.921580    0.896196    0.518718    0.826768    0.061802   \n",
       "1   3003       1    0.923798    0.876246    0.548928    0.807613    0.063124   \n",
       "\n",
       "   cg27486833  cg26730369  cg11686092  ...  cg18322516  cg25149563  \\\n",
       "0    0.729550    0.064156    0.041555  ...    0.922824    0.748475   \n",
       "1    0.745873    0.091314    0.091124  ...    0.912891    0.841205   \n",
       "\n",
       "   cg23390920  cg21280928  cg26544028  cg03385171  cg03191458  cg04324977  \\\n",
       "0    0.489156    0.892898    0.656587    0.920785    0.907265    0.936076   \n",
       "1    0.505509    0.866465    0.629046    0.922969    0.929922    0.910388   \n",
       "\n",
       "   cg00153831  cg19458274  \n",
       "0    0.936939    0.015144  \n",
       "1    0.916622    0.015374  \n",
       "\n",
       "[2 rows x 97 columns]"
      ]
     },
     "execution_count": 15,
     "metadata": {},
     "output_type": "execute_result"
    }
   ],
   "source": [
    "# concatenate the two dataframes along the columns axis\n",
    "concatenated_df = pd.concat([df1, df2], axis=1)\n",
    "\n",
    "# drop the duplicate columns\n",
    "final_df = concatenated_df.loc[:,~concatenated_df.columns.duplicated()]\n",
    "final_df.to_csv ('UPSIT_Top50sMerge_Data_Female.csv', index = False)\n",
    "print(final_df.shape)\n",
    "final_df.head(2)"
   ]
  },
  {
   "cell_type": "markdown",
   "id": "22e89ac8",
   "metadata": {},
   "source": [
    "# Urine"
   ]
  },
  {
   "cell_type": "code",
   "execution_count": 16,
   "id": "a53ddf95",
   "metadata": {
    "ExecuteTime": {
     "end_time": "2023-02-21T04:20:32.198938Z",
     "start_time": "2023-02-21T04:20:32.083052Z"
    }
   },
   "outputs": [
    {
     "name": "stdout",
     "output_type": "stream",
     "text": [
      "Z:\\PPMI_Data\\Excels\\NonMotors\\Derived250\\Female\\GeneCpG\\Urine\n",
      "(150, 52)\n",
      "(150, 52)\n"
     ]
    }
   ],
   "source": [
    "%cd Z:\\PPMI_Data\\Excels\\NonMotors\\Derived250\\Female\\GeneCpG\\Urine\n",
    "df1 = pd.read_csv('NMI_Top50_Urine_Methylome_Female.csv')\n",
    "print(df1.shape)\n",
    "df2 = pd.read_csv('Urine_Boruta_Top50_Data_Female.csv')\n",
    "print(df2.shape)"
   ]
  },
  {
   "cell_type": "code",
   "execution_count": 17,
   "id": "deebdb24",
   "metadata": {
    "ExecuteTime": {
     "end_time": "2023-02-21T04:20:32.336997Z",
     "start_time": "2023-02-21T04:20:32.198938Z"
    }
   },
   "outputs": [
    {
     "name": "stdout",
     "output_type": "stream",
     "text": [
      "(150, 93)\n"
     ]
    },
    {
     "data": {
      "text/html": [
       "<div>\n",
       "<style scoped>\n",
       "    .dataframe tbody tr th:only-of-type {\n",
       "        vertical-align: middle;\n",
       "    }\n",
       "\n",
       "    .dataframe tbody tr th {\n",
       "        vertical-align: top;\n",
       "    }\n",
       "\n",
       "    .dataframe thead th {\n",
       "        text-align: right;\n",
       "    }\n",
       "</style>\n",
       "<table border=\"1\" class=\"dataframe\">\n",
       "  <thead>\n",
       "    <tr style=\"text-align: right;\">\n",
       "      <th></th>\n",
       "      <th>PATNO</th>\n",
       "      <th>APPRDX</th>\n",
       "      <th>cg26889735</th>\n",
       "      <th>cg10695325</th>\n",
       "      <th>cg20080383</th>\n",
       "      <th>cg17594730</th>\n",
       "      <th>cg25696758</th>\n",
       "      <th>cg15109118</th>\n",
       "      <th>ch.12.2471797R</th>\n",
       "      <th>cg03802461</th>\n",
       "      <th>...</th>\n",
       "      <th>cg07110488</th>\n",
       "      <th>cg25793587</th>\n",
       "      <th>cg05438378</th>\n",
       "      <th>cg25186332</th>\n",
       "      <th>cg07924503</th>\n",
       "      <th>cg03913050</th>\n",
       "      <th>cg12372912</th>\n",
       "      <th>cg10029130</th>\n",
       "      <th>cg27193204</th>\n",
       "      <th>cg15567507</th>\n",
       "    </tr>\n",
       "  </thead>\n",
       "  <tbody>\n",
       "    <tr>\n",
       "      <th>0</th>\n",
       "      <td>3002</td>\n",
       "      <td>1</td>\n",
       "      <td>0.893980</td>\n",
       "      <td>0.076813</td>\n",
       "      <td>0.644179</td>\n",
       "      <td>0.905597</td>\n",
       "      <td>0.877105</td>\n",
       "      <td>0.887928</td>\n",
       "      <td>0.024404</td>\n",
       "      <td>0.034039</td>\n",
       "      <td>...</td>\n",
       "      <td>0.910569</td>\n",
       "      <td>0.804496</td>\n",
       "      <td>0.325756</td>\n",
       "      <td>0.917926</td>\n",
       "      <td>0.289985</td>\n",
       "      <td>0.154252</td>\n",
       "      <td>0.919962</td>\n",
       "      <td>0.054931</td>\n",
       "      <td>0.878167</td>\n",
       "      <td>0.906558</td>\n",
       "    </tr>\n",
       "    <tr>\n",
       "      <th>1</th>\n",
       "      <td>3003</td>\n",
       "      <td>1</td>\n",
       "      <td>0.902188</td>\n",
       "      <td>0.076971</td>\n",
       "      <td>0.461084</td>\n",
       "      <td>0.937221</td>\n",
       "      <td>0.884699</td>\n",
       "      <td>0.876819</td>\n",
       "      <td>0.030409</td>\n",
       "      <td>0.043548</td>\n",
       "      <td>...</td>\n",
       "      <td>0.862993</td>\n",
       "      <td>0.671177</td>\n",
       "      <td>0.321502</td>\n",
       "      <td>0.887484</td>\n",
       "      <td>0.300905</td>\n",
       "      <td>0.182643</td>\n",
       "      <td>0.908645</td>\n",
       "      <td>0.067078</td>\n",
       "      <td>0.879973</td>\n",
       "      <td>0.891626</td>\n",
       "    </tr>\n",
       "  </tbody>\n",
       "</table>\n",
       "<p>2 rows × 93 columns</p>\n",
       "</div>"
      ],
      "text/plain": [
       "   PATNO  APPRDX  cg26889735  cg10695325  cg20080383  cg17594730  cg25696758  \\\n",
       "0   3002       1    0.893980    0.076813    0.644179    0.905597    0.877105   \n",
       "1   3003       1    0.902188    0.076971    0.461084    0.937221    0.884699   \n",
       "\n",
       "   cg15109118  ch.12.2471797R  cg03802461  ...  cg07110488  cg25793587  \\\n",
       "0    0.887928        0.024404    0.034039  ...    0.910569    0.804496   \n",
       "1    0.876819        0.030409    0.043548  ...    0.862993    0.671177   \n",
       "\n",
       "   cg05438378  cg25186332  cg07924503  cg03913050  cg12372912  cg10029130  \\\n",
       "0    0.325756    0.917926    0.289985    0.154252    0.919962    0.054931   \n",
       "1    0.321502    0.887484    0.300905    0.182643    0.908645    0.067078   \n",
       "\n",
       "   cg27193204  cg15567507  \n",
       "0    0.878167    0.906558  \n",
       "1    0.879973    0.891626  \n",
       "\n",
       "[2 rows x 93 columns]"
      ]
     },
     "execution_count": 17,
     "metadata": {},
     "output_type": "execute_result"
    }
   ],
   "source": [
    "# concatenate the two dataframes along the columns axis\n",
    "concatenated_df = pd.concat([df1, df2], axis=1)\n",
    "\n",
    "# drop the duplicate columns\n",
    "final_df = concatenated_df.loc[:,~concatenated_df.columns.duplicated()]\n",
    "final_df.to_csv ('Urine_Top50sMerge_Data_Female.csv', index = False)\n",
    "print(final_df.shape)\n",
    "final_df.head(2)"
   ]
  }
 ],
 "metadata": {
  "kernelspec": {
   "display_name": "Python 3 (ipykernel)",
   "language": "python",
   "name": "python3"
  },
  "language_info": {
   "codemirror_mode": {
    "name": "ipython",
    "version": 3
   },
   "file_extension": ".py",
   "mimetype": "text/x-python",
   "name": "python",
   "nbconvert_exporter": "python",
   "pygments_lexer": "ipython3",
   "version": "3.9.16"
  },
  "toc": {
   "base_numbering": 1,
   "nav_menu": {},
   "number_sections": true,
   "sideBar": true,
   "skip_h1_title": false,
   "title_cell": "Table of Contents",
   "title_sidebar": "Contents",
   "toc_cell": false,
   "toc_position": {},
   "toc_section_display": true,
   "toc_window_display": false
  },
  "varInspector": {
   "cols": {
    "lenName": 16,
    "lenType": 16,
    "lenVar": 40
   },
   "kernels_config": {
    "python": {
     "delete_cmd_postfix": "",
     "delete_cmd_prefix": "del ",
     "library": "var_list.py",
     "varRefreshCmd": "print(var_dic_list())"
    },
    "r": {
     "delete_cmd_postfix": ") ",
     "delete_cmd_prefix": "rm(",
     "library": "var_list.r",
     "varRefreshCmd": "cat(var_dic_list()) "
    }
   },
   "types_to_exclude": [
    "module",
    "function",
    "builtin_function_or_method",
    "instance",
    "_Feature"
   ],
   "window_display": false
  }
 },
 "nbformat": 4,
 "nbformat_minor": 5
}
