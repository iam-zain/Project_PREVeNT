{
 "cells": [
  {
   "cell_type": "code",
   "execution_count": 1,
   "id": "9dbdd92c",
   "metadata": {
    "ExecuteTime": {
     "end_time": "2023-01-15T06:48:50.701421Z",
     "start_time": "2023-01-15T06:48:49.907455Z"
    }
   },
   "outputs": [],
   "source": [
    "import numpy as np\n",
    "import matplotlib.pyplot as plt\n",
    "import pandas as pd"
   ]
  },
  {
   "cell_type": "code",
   "execution_count": null,
   "id": "c5dd40b6",
   "metadata": {},
   "outputs": [],
   "source": []
  },
  {
   "cell_type": "code",
   "execution_count": 2,
   "id": "bf7c8fe9",
   "metadata": {
    "ExecuteTime": {
     "end_time": "2023-01-15T06:48:58.827576Z",
     "start_time": "2023-01-15T06:48:58.063046Z"
    }
   },
   "outputs": [
    {
     "name": "stdout",
     "output_type": "stream",
     "text": [
      "Z:\\PPMI_Data\\Excels\\Only_Male\\GeneCpG\\Xtras\n",
      "(897065, 2)\n"
     ]
    },
    {
     "data": {
      "text/html": [
       "<div>\n",
       "<style scoped>\n",
       "    .dataframe tbody tr th:only-of-type {\n",
       "        vertical-align: middle;\n",
       "    }\n",
       "\n",
       "    .dataframe tbody tr th {\n",
       "        vertical-align: top;\n",
       "    }\n",
       "\n",
       "    .dataframe thead th {\n",
       "        text-align: right;\n",
       "    }\n",
       "</style>\n",
       "<table border=\"1\" class=\"dataframe\">\n",
       "  <thead>\n",
       "    <tr style=\"text-align: right;\">\n",
       "      <th></th>\n",
       "      <th>Gene</th>\n",
       "      <th>CpG</th>\n",
       "    </tr>\n",
       "  </thead>\n",
       "  <tbody>\n",
       "    <tr>\n",
       "      <th>0</th>\n",
       "      <td>A1BG</td>\n",
       "      <td>cg27629882</td>\n",
       "    </tr>\n",
       "    <tr>\n",
       "      <th>1</th>\n",
       "      <td>A1BG</td>\n",
       "      <td>cg25623524</td>\n",
       "    </tr>\n",
       "    <tr>\n",
       "      <th>2</th>\n",
       "      <td>A1BG</td>\n",
       "      <td>cg03630821</td>\n",
       "    </tr>\n",
       "    <tr>\n",
       "      <th>3</th>\n",
       "      <td>A1BG</td>\n",
       "      <td>cg10734734</td>\n",
       "    </tr>\n",
       "    <tr>\n",
       "      <th>4</th>\n",
       "      <td>A1BG</td>\n",
       "      <td>cg22286978</td>\n",
       "    </tr>\n",
       "  </tbody>\n",
       "</table>\n",
       "</div>"
      ],
      "text/plain": [
       "   Gene         CpG\n",
       "0  A1BG  cg27629882\n",
       "1  A1BG  cg25623524\n",
       "2  A1BG  cg03630821\n",
       "3  A1BG  cg10734734\n",
       "4  A1BG  cg22286978"
      ]
     },
     "execution_count": 2,
     "metadata": {},
     "output_type": "execute_result"
    }
   ],
   "source": [
    "%cd Z:\\PPMI_Data\\Excels\\Only_Male\\GeneCpG\\Xtras\n",
    "gene = pd.read_csv (\"Cpg_GeneLongColumn_OnlyAnnotated.csv\")\n",
    "print(gene.shape)\n",
    "gene.head()"
   ]
  },
  {
   "cell_type": "markdown",
   "id": "9d867f6f",
   "metadata": {},
   "source": [
    "# NMI above 0.08 Male"
   ]
  },
  {
   "cell_type": "code",
   "execution_count": 8,
   "id": "599448d9",
   "metadata": {
    "ExecuteTime": {
     "end_time": "2023-01-10T08:05:30.569583Z",
     "start_time": "2023-01-10T08:05:30.538320Z"
    },
    "scrolled": false
   },
   "outputs": [
    {
     "name": "stdout",
     "output_type": "stream",
     "text": [
      "Z:\\PPMI_Data\\Excels\\Only_Male\\GeneCpG\\Xtras\\NMI\n",
      "(16, 1)\n"
     ]
    },
    {
     "data": {
      "text/html": [
       "<div>\n",
       "<style scoped>\n",
       "    .dataframe tbody tr th:only-of-type {\n",
       "        vertical-align: middle;\n",
       "    }\n",
       "\n",
       "    .dataframe tbody tr th {\n",
       "        vertical-align: top;\n",
       "    }\n",
       "\n",
       "    .dataframe thead th {\n",
       "        text-align: right;\n",
       "    }\n",
       "</style>\n",
       "<table border=\"1\" class=\"dataframe\">\n",
       "  <thead>\n",
       "    <tr style=\"text-align: right;\">\n",
       "      <th></th>\n",
       "      <th>CpG</th>\n",
       "    </tr>\n",
       "  </thead>\n",
       "  <tbody>\n",
       "    <tr>\n",
       "      <th>0</th>\n",
       "      <td>cg16117273</td>\n",
       "    </tr>\n",
       "    <tr>\n",
       "      <th>1</th>\n",
       "      <td>cg24860848</td>\n",
       "    </tr>\n",
       "    <tr>\n",
       "      <th>2</th>\n",
       "      <td>cg15953070</td>\n",
       "    </tr>\n",
       "    <tr>\n",
       "      <th>3</th>\n",
       "      <td>cg04414720</td>\n",
       "    </tr>\n",
       "    <tr>\n",
       "      <th>4</th>\n",
       "      <td>cg11877812</td>\n",
       "    </tr>\n",
       "  </tbody>\n",
       "</table>\n",
       "</div>"
      ],
      "text/plain": [
       "          CpG\n",
       "0  cg16117273\n",
       "1  cg24860848\n",
       "2  cg15953070\n",
       "3  cg04414720\n",
       "4  cg11877812"
      ]
     },
     "execution_count": 8,
     "metadata": {},
     "output_type": "execute_result"
    }
   ],
   "source": [
    "%cd Z:\\PPMI_Data\\Excels\\Only_Male\\GeneCpG\\Xtras\\NMI\n",
    "feature1 = pd.read_csv (\"CpG08_Male.csv\")\n",
    "print(feature1.shape)\n",
    "feature1.head()"
   ]
  },
  {
   "cell_type": "code",
   "execution_count": 9,
   "id": "62e4daf8",
   "metadata": {
    "ExecuteTime": {
     "end_time": "2023-01-10T08:05:31.735782Z",
     "start_time": "2023-01-10T08:05:31.419338Z"
    }
   },
   "outputs": [
    {
     "data": {
      "text/html": [
       "<div>\n",
       "<style scoped>\n",
       "    .dataframe tbody tr th:only-of-type {\n",
       "        vertical-align: middle;\n",
       "    }\n",
       "\n",
       "    .dataframe tbody tr th {\n",
       "        vertical-align: top;\n",
       "    }\n",
       "\n",
       "    .dataframe thead th {\n",
       "        text-align: right;\n",
       "    }\n",
       "</style>\n",
       "<table border=\"1\" class=\"dataframe\">\n",
       "  <thead>\n",
       "    <tr style=\"text-align: right;\">\n",
       "      <th></th>\n",
       "      <th>CpG</th>\n",
       "      <th>Gene</th>\n",
       "    </tr>\n",
       "  </thead>\n",
       "  <tbody>\n",
       "    <tr>\n",
       "      <th>0</th>\n",
       "      <td>cg16117273</td>\n",
       "      <td>PRKD1</td>\n",
       "    </tr>\n",
       "    <tr>\n",
       "      <th>1</th>\n",
       "      <td>cg24860848</td>\n",
       "      <td>APAF1</td>\n",
       "    </tr>\n",
       "    <tr>\n",
       "      <th>2</th>\n",
       "      <td>cg15953070</td>\n",
       "      <td>KCNH4</td>\n",
       "    </tr>\n",
       "  </tbody>\n",
       "</table>\n",
       "</div>"
      ],
      "text/plain": [
       "          CpG   Gene\n",
       "0  cg16117273  PRKD1\n",
       "1  cg24860848  APAF1\n",
       "2  cg15953070  KCNH4"
      ]
     },
     "execution_count": 9,
     "metadata": {},
     "output_type": "execute_result"
    }
   ],
   "source": [
    "df1 = pd.merge (feature1, gene, on = \"CpG\", how ='inner')\n",
    "df1.head(3)"
   ]
  },
  {
   "cell_type": "code",
   "execution_count": 10,
   "id": "680ff2e3",
   "metadata": {
    "ExecuteTime": {
     "end_time": "2023-01-10T08:05:32.839671Z",
     "start_time": "2023-01-10T08:05:32.824071Z"
    }
   },
   "outputs": [],
   "source": [
    "df1.to_csv('CpG_NMI.08_Male_Gene.csv', index = False)"
   ]
  },
  {
   "cell_type": "markdown",
   "id": "64f8ef2d",
   "metadata": {},
   "source": [
    "# NMI above 0.07 Male"
   ]
  },
  {
   "cell_type": "code",
   "execution_count": 11,
   "id": "41ab90be",
   "metadata": {
    "ExecuteTime": {
     "end_time": "2023-01-10T08:05:37.107402Z",
     "start_time": "2023-01-10T08:05:36.790880Z"
    }
   },
   "outputs": [
    {
     "name": "stdout",
     "output_type": "stream",
     "text": [
      "          CpG     Gene\n",
      "0  cg16117273    PRKD1\n",
      "1  cg24860848    APAF1\n",
      "2  cg15953070    KCNH4\n",
      "3  cg04414720  GOLPH3L\n",
      "4  cg19166896  SLCO3A1\n"
     ]
    }
   ],
   "source": [
    "feature2 = pd.read_csv (\"CpG07_Male.csv\")\n",
    "df2 = pd.merge (feature2, gene, on = \"CpG\", how ='inner')\n",
    "print(df2.head())\n",
    "df2.to_csv('CpG_NMI.07_Male_Gene.csv', index = False)"
   ]
  },
  {
   "cell_type": "markdown",
   "id": "af415afe",
   "metadata": {},
   "source": [
    "# NMI above 0.06 Male"
   ]
  },
  {
   "cell_type": "code",
   "execution_count": 13,
   "id": "7b7c9edd",
   "metadata": {
    "ExecuteTime": {
     "end_time": "2023-01-10T08:06:02.476504Z",
     "start_time": "2023-01-10T08:06:02.144375Z"
    }
   },
   "outputs": [
    {
     "name": "stdout",
     "output_type": "stream",
     "text": [
      "          CpG     Gene\n",
      "0  cg16117273    PRKD1\n",
      "1  cg24860848    APAF1\n",
      "2  cg15953070    KCNH4\n",
      "3  cg04414720  GOLPH3L\n",
      "4  cg19166896  SLCO3A1\n"
     ]
    }
   ],
   "source": [
    "feature3 = pd.read_csv (\"CpG06_Male.csv\")\n",
    "df3 = pd.merge (feature3, gene, on = \"CpG\", how ='inner')\n",
    "print(df3.head())\n",
    "df3.to_csv('CpG_NMI.06_Male_Gene.csv', index = False)"
   ]
  },
  {
   "cell_type": "markdown",
   "id": "489368ad",
   "metadata": {},
   "source": [
    "# CpG from 9 Feats Male"
   ]
  },
  {
   "cell_type": "code",
   "execution_count": 14,
   "id": "a98aa211",
   "metadata": {
    "ExecuteTime": {
     "end_time": "2023-01-10T08:08:52.430713Z",
     "start_time": "2023-01-10T08:08:52.114173Z"
    }
   },
   "outputs": [
    {
     "name": "stdout",
     "output_type": "stream",
     "text": [
      "          CpG  Gene\n",
      "0  cg06485214  JPH3\n",
      "1  cg27521571  COMT\n",
      "2  cg01447828   PRX\n",
      "3  cg02157463  JPH3\n",
      "4  cg11865360  BDNF\n"
     ]
    }
   ],
   "source": [
    "feature3 = pd.read_csv (\"CpG_9FeatsCommon_Male.csv\")\n",
    "df3 = pd.merge (feature3, gene, on = \"CpG\", how ='inner')\n",
    "print(df3.head())\n",
    "df3.to_csv('CpG_9FeatsCommon_Male_Gene.csv', index = False)"
   ]
  },
  {
   "cell_type": "markdown",
   "id": "ff75e423",
   "metadata": {},
   "source": [
    "# CpG common from 9 Feats and Chromosome NMI Male"
   ]
  },
  {
   "cell_type": "code",
   "execution_count": 15,
   "id": "56522323",
   "metadata": {
    "ExecuteTime": {
     "end_time": "2023-01-10T08:11:21.950928Z",
     "start_time": "2023-01-10T08:11:21.624121Z"
    }
   },
   "outputs": [
    {
     "name": "stdout",
     "output_type": "stream",
     "text": [
      "          CpG     Gene\n",
      "0  cg06704773     GAS5\n",
      "1  cg06704773  SNORD74\n",
      "2  cg06704773  SNORD75\n",
      "3  cg06704773  SNORD76\n",
      "4  cg06704773  SNORD77\n"
     ]
    }
   ],
   "source": [
    "feature3 = pd.read_csv (\"CpG_Common_inNMIChr_9Feats.csv\")\n",
    "df3 = pd.merge (feature3, gene, on = \"CpG\", how ='inner')\n",
    "print(df3.head())\n",
    "df3.to_csv('CpG_Common_inNMIChr_9Feats_Gene.csv', index = False)"
   ]
  },
  {
   "cell_type": "markdown",
   "id": "f8f241fe",
   "metadata": {},
   "source": [
    "# Female"
   ]
  },
  {
   "cell_type": "markdown",
   "id": "066c37dd",
   "metadata": {},
   "source": [
    "# NMI above 0.15 Female"
   ]
  },
  {
   "cell_type": "code",
   "execution_count": 16,
   "id": "448cef35",
   "metadata": {
    "ExecuteTime": {
     "end_time": "2023-01-10T08:25:49.112687Z",
     "start_time": "2023-01-10T08:25:48.780583Z"
    }
   },
   "outputs": [
    {
     "name": "stdout",
     "output_type": "stream",
     "text": [
      "Z:\\PPMI_Data\\Excels\\Only_Female\\GeneCpG\\Xtras\\NMI\n",
      "          CpG         Gene\n",
      "0  cg15487922   AC016725.4\n",
      "1  cg05702234  AC104389.28\n",
      "2  cg05702234         HBE1\n",
      "3  cg05702234         HBG2\n",
      "4  cg24441068        EIF3M\n"
     ]
    }
   ],
   "source": [
    "%cd Z:\\PPMI_Data\\Excels\\Only_Female\\GeneCpG\\Xtras\\NMI\n",
    "feature3 = pd.read_csv (\"CpG15_Female.csv\")\n",
    "df3 = pd.merge (feature3, gene, on = \"CpG\", how ='inner')\n",
    "print(df3.head())\n",
    "df3.to_csv('CpG15_Female_Gene.csv', index = False)"
   ]
  },
  {
   "cell_type": "markdown",
   "id": "4be78d5e",
   "metadata": {},
   "source": [
    "# NMI above 0.13 Female"
   ]
  },
  {
   "cell_type": "code",
   "execution_count": 17,
   "id": "164b7059",
   "metadata": {
    "ExecuteTime": {
     "end_time": "2023-01-10T08:27:08.488350Z",
     "start_time": "2023-01-10T08:27:08.171856Z"
    }
   },
   "outputs": [
    {
     "name": "stdout",
     "output_type": "stream",
     "text": [
      "          CpG         Gene\n",
      "0  cg15487922   AC016725.4\n",
      "1  cg05702234  AC104389.28\n",
      "2  cg05702234         HBE1\n",
      "3  cg05702234         HBG2\n",
      "4  cg24441068        EIF3M\n"
     ]
    }
   ],
   "source": [
    "feature3 = pd.read_csv (\"CpG13_Female.csv\")\n",
    "df3 = pd.merge (feature3, gene, on = \"CpG\", how ='inner')\n",
    "print(df3.head())\n",
    "df3.to_csv('CpG13_Female_Gene.csv', index = False)"
   ]
  },
  {
   "cell_type": "markdown",
   "id": "cdbfb0cb",
   "metadata": {},
   "source": [
    "# NMI above 0.12 Female"
   ]
  },
  {
   "cell_type": "code",
   "execution_count": 19,
   "id": "6ddc9910",
   "metadata": {
    "ExecuteTime": {
     "end_time": "2023-01-10T08:28:07.712291Z",
     "start_time": "2023-01-10T08:28:07.380293Z"
    }
   },
   "outputs": [
    {
     "name": "stdout",
     "output_type": "stream",
     "text": [
      "          CpG         Gene\n",
      "0  cg15487922   AC016725.4\n",
      "1  cg05702234  AC104389.28\n",
      "2  cg05702234         HBE1\n",
      "3  cg05702234         HBG2\n",
      "4  cg24441068        EIF3M\n"
     ]
    }
   ],
   "source": [
    "feature3 = pd.read_csv (\"CpG12_Female.csv\")\n",
    "df3 = pd.merge (feature3, gene, on = \"CpG\", how ='inner')\n",
    "print(df3.head())\n",
    "df3.to_csv('CpG12_Female_Gene.csv', index = False)"
   ]
  },
  {
   "cell_type": "markdown",
   "id": "30384f5b",
   "metadata": {},
   "source": [
    "# CpG from 6 Feats Female"
   ]
  },
  {
   "cell_type": "code",
   "execution_count": 20,
   "id": "423febd9",
   "metadata": {
    "ExecuteTime": {
     "end_time": "2023-01-10T08:30:42.508143Z",
     "start_time": "2023-01-10T08:30:42.191758Z"
    }
   },
   "outputs": [
    {
     "name": "stdout",
     "output_type": "stream",
     "text": [
      "          CpG    Gene\n",
      "0  cg02992048    DLG2\n",
      "1  cg14587401    ARSK\n",
      "2  cg14587401   TTC37\n",
      "3  cg23446297  HIVEP2\n",
      "4  cg24926711   HPSE2\n"
     ]
    }
   ],
   "source": [
    "feature3 = pd.read_csv (\"CpG_6FeatsCommon_Female.csv\")\n",
    "df3 = pd.merge (feature3, gene, on = \"CpG\", how ='inner')\n",
    "print(df3.head())\n",
    "df3.to_csv('CpG_6FeatsCommon_Female_Gene.csv', index = False)"
   ]
  },
  {
   "cell_type": "markdown",
   "id": "cd794386",
   "metadata": {},
   "source": [
    "# CpG common from 6 Feats and Chromosome NMI Female"
   ]
  },
  {
   "cell_type": "code",
   "execution_count": 21,
   "id": "4438e252",
   "metadata": {
    "ExecuteTime": {
     "end_time": "2023-01-10T08:32:41.981752Z",
     "start_time": "2023-01-10T08:32:41.649722Z"
    }
   },
   "outputs": [
    {
     "name": "stdout",
     "output_type": "stream",
     "text": [
      "          CpG   Gene\n",
      "0  cg18248290  IL23R\n",
      "1  cg19138499  REPS1\n",
      "2  cg02992048   DLG2\n",
      "3  cg14587401   ARSK\n",
      "4  cg14587401  TTC37\n"
     ]
    }
   ],
   "source": [
    "feature3 = pd.read_csv (\"CpG_Common_inNMIChr_6Feats_Female.csv\")\n",
    "df3 = pd.merge (feature3, gene, on = \"CpG\", how ='inner')\n",
    "print(df3.head())\n",
    "df3.to_csv('CpG_Common_inNMIChr_6Feats_Female_Gene.csv', index = False)"
   ]
  },
  {
   "cell_type": "code",
   "execution_count": null,
   "id": "a79c004c",
   "metadata": {},
   "outputs": [],
   "source": []
  }
 ],
 "metadata": {
  "kernelspec": {
   "display_name": "Python 3 (ipykernel)",
   "language": "python",
   "name": "python3"
  },
  "language_info": {
   "codemirror_mode": {
    "name": "ipython",
    "version": 3
   },
   "file_extension": ".py",
   "mimetype": "text/x-python",
   "name": "python",
   "nbconvert_exporter": "python",
   "pygments_lexer": "ipython3",
   "version": "3.9.7"
  },
  "toc": {
   "base_numbering": 1,
   "nav_menu": {},
   "number_sections": true,
   "sideBar": true,
   "skip_h1_title": false,
   "title_cell": "Table of Contents",
   "title_sidebar": "Contents",
   "toc_cell": false,
   "toc_position": {},
   "toc_section_display": true,
   "toc_window_display": false
  },
  "varInspector": {
   "cols": {
    "lenName": 16,
    "lenType": 16,
    "lenVar": 40
   },
   "kernels_config": {
    "python": {
     "delete_cmd_postfix": "",
     "delete_cmd_prefix": "del ",
     "library": "var_list.py",
     "varRefreshCmd": "print(var_dic_list())"
    },
    "r": {
     "delete_cmd_postfix": ") ",
     "delete_cmd_prefix": "rm(",
     "library": "var_list.r",
     "varRefreshCmd": "cat(var_dic_list()) "
    }
   },
   "types_to_exclude": [
    "module",
    "function",
    "builtin_function_or_method",
    "instance",
    "_Feature"
   ],
   "window_display": false
  }
 },
 "nbformat": 4,
 "nbformat_minor": 5
}
