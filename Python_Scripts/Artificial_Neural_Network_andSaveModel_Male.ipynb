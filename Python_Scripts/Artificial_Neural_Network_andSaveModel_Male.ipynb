{
 "cells": [
  {
   "cell_type": "markdown",
   "metadata": {
    "colab_type": "text",
    "id": "lP6JLo1tGNBg"
   },
   "source": [
    "# Artificial Neural Network"
   ]
  },
  {
   "cell_type": "markdown",
   "metadata": {
    "colab_type": "text",
    "id": "gWZyYmS_UE_L"
   },
   "source": [
    "### Importing the libraries"
   ]
  },
  {
   "cell_type": "code",
   "execution_count": 1,
   "metadata": {
    "ExecuteTime": {
     "end_time": "2023-03-09T09:10:50.012927Z",
     "start_time": "2023-03-09T09:10:44.361333Z"
    },
    "colab": {},
    "colab_type": "code",
    "id": "MxkJoQBkUIHC"
   },
   "outputs": [
    {
     "data": {
      "text/plain": [
       "'2.9.1'"
      ]
     },
     "execution_count": 1,
     "metadata": {},
     "output_type": "execute_result"
    }
   ],
   "source": [
    "import numpy as np\n",
    "import pandas as pd\n",
    "import tensorflow as tf\n",
    "from numpy import loadtxt\n",
    "import matplotlib.pyplot as plt\n",
    "from tensorflow.keras.layers import Dense\n",
    "from tensorflow.keras.models import Sequential\n",
    "from sklearn.model_selection import train_test_split\n",
    "from sklearn.metrics import confusion_matrix, accuracy_score\n",
    "tf.__version__"
   ]
  },
  {
   "cell_type": "markdown",
   "metadata": {
    "colab_type": "text",
    "id": "1E0Q3aoKUCRX"
   },
   "source": [
    "## Part 1 - Data Preprocessing"
   ]
  },
  {
   "cell_type": "markdown",
   "metadata": {
    "colab_type": "text",
    "id": "cKWAkFVGUU0Z"
   },
   "source": [
    "### Importing the dataset"
   ]
  },
  {
   "cell_type": "code",
   "execution_count": 2,
   "metadata": {
    "ExecuteTime": {
     "end_time": "2023-03-09T09:10:50.097571Z",
     "start_time": "2023-03-09T09:10:50.012927Z"
    }
   },
   "outputs": [
    {
     "name": "stdout",
     "output_type": "stream",
     "text": [
      "Z:\\PPMI_Data\\Excels\\CollaborativeFiltering\\Methylation_Model\n",
      "(308, 328)\n"
     ]
    },
    {
     "data": {
      "text/html": [
       "<div>\n",
       "<style scoped>\n",
       "    .dataframe tbody tr th:only-of-type {\n",
       "        vertical-align: middle;\n",
       "    }\n",
       "\n",
       "    .dataframe tbody tr th {\n",
       "        vertical-align: top;\n",
       "    }\n",
       "\n",
       "    .dataframe thead th {\n",
       "        text-align: right;\n",
       "    }\n",
       "</style>\n",
       "<table border=\"1\" class=\"dataframe\">\n",
       "  <thead>\n",
       "    <tr style=\"text-align: right;\">\n",
       "      <th></th>\n",
       "      <th>APPRDX</th>\n",
       "      <th>cg00017221</th>\n",
       "      <th>cg00030584</th>\n",
       "      <th>cg00113363</th>\n",
       "      <th>cg00128386</th>\n",
       "      <th>cg00156743</th>\n",
       "      <th>cg00295303</th>\n",
       "      <th>cg00418511</th>\n",
       "      <th>cg00558297</th>\n",
       "      <th>cg00597128</th>\n",
       "      <th>...</th>\n",
       "      <th>cg26879084</th>\n",
       "      <th>cg26926318</th>\n",
       "      <th>cg26941073</th>\n",
       "      <th>cg27079446</th>\n",
       "      <th>cg27175112</th>\n",
       "      <th>cg27281389</th>\n",
       "      <th>cg27339255</th>\n",
       "      <th>cg27366263</th>\n",
       "      <th>cg27603338</th>\n",
       "      <th>cg27648238</th>\n",
       "    </tr>\n",
       "  </thead>\n",
       "  <tbody>\n",
       "    <tr>\n",
       "      <th>0</th>\n",
       "      <td>0</td>\n",
       "      <td>0.023520</td>\n",
       "      <td>0.344298</td>\n",
       "      <td>0.021304</td>\n",
       "      <td>0.960123</td>\n",
       "      <td>0.821042</td>\n",
       "      <td>0.824603</td>\n",
       "      <td>0.038859</td>\n",
       "      <td>0.776180</td>\n",
       "      <td>0.653704</td>\n",
       "      <td>...</td>\n",
       "      <td>0.835011</td>\n",
       "      <td>0.916727</td>\n",
       "      <td>0.925943</td>\n",
       "      <td>0.017127</td>\n",
       "      <td>0.895680</td>\n",
       "      <td>0.026921</td>\n",
       "      <td>0.873614</td>\n",
       "      <td>0.873463</td>\n",
       "      <td>0.458258</td>\n",
       "      <td>0.845385</td>\n",
       "    </tr>\n",
       "    <tr>\n",
       "      <th>1</th>\n",
       "      <td>0</td>\n",
       "      <td>0.033311</td>\n",
       "      <td>0.306851</td>\n",
       "      <td>0.012358</td>\n",
       "      <td>0.934346</td>\n",
       "      <td>0.823265</td>\n",
       "      <td>0.875819</td>\n",
       "      <td>0.019836</td>\n",
       "      <td>0.366488</td>\n",
       "      <td>0.732829</td>\n",
       "      <td>...</td>\n",
       "      <td>0.811623</td>\n",
       "      <td>0.912079</td>\n",
       "      <td>0.915694</td>\n",
       "      <td>0.018519</td>\n",
       "      <td>0.928806</td>\n",
       "      <td>0.033420</td>\n",
       "      <td>0.832723</td>\n",
       "      <td>0.863693</td>\n",
       "      <td>0.445499</td>\n",
       "      <td>0.834479</td>\n",
       "    </tr>\n",
       "  </tbody>\n",
       "</table>\n",
       "<p>2 rows × 328 columns</p>\n",
       "</div>"
      ],
      "text/plain": [
       "   APPRDX  cg00017221  cg00030584  cg00113363  cg00128386  cg00156743  \\\n",
       "0       0    0.023520    0.344298    0.021304    0.960123    0.821042   \n",
       "1       0    0.033311    0.306851    0.012358    0.934346    0.823265   \n",
       "\n",
       "   cg00295303  cg00418511  cg00558297  cg00597128  ...  cg26879084  \\\n",
       "0    0.824603    0.038859    0.776180    0.653704  ...    0.835011   \n",
       "1    0.875819    0.019836    0.366488    0.732829  ...    0.811623   \n",
       "\n",
       "   cg26926318  cg26941073  cg27079446  cg27175112  cg27281389  cg27339255  \\\n",
       "0    0.916727    0.925943    0.017127    0.895680    0.026921    0.873614   \n",
       "1    0.912079    0.915694    0.018519    0.928806    0.033420    0.832723   \n",
       "\n",
       "   cg27366263  cg27603338  cg27648238  \n",
       "0    0.873463    0.458258    0.845385  \n",
       "1    0.863693    0.445499    0.834479  \n",
       "\n",
       "[2 rows x 328 columns]"
      ]
     },
     "execution_count": 2,
     "metadata": {},
     "output_type": "execute_result"
    }
   ],
   "source": [
    "%cd Z:\\PPMI_Data\\Excels\\CollaborativeFiltering\\Methylation_Model\n",
    "df = pd.read_csv('NMI_Methylome_Male06_Age.csv')\n",
    "# Removing a column\n",
    "dataset = df.drop(['PATNO', 'Patient_ID','Age'], axis = 1)\n",
    "#dataset.insert (1, 'Age', df ['Age'])\n",
    "# Making APPRDX values from 1 & 2 to 0 & 1\n",
    "dataset['APPRDX'] = dataset['APPRDX'] - 1\n",
    "print(dataset.shape)\n",
    "dataset.head(2)"
   ]
  },
  {
   "cell_type": "code",
   "execution_count": 3,
   "metadata": {
    "ExecuteTime": {
     "end_time": "2023-03-09T09:10:50.144454Z",
     "start_time": "2023-03-09T09:10:50.097571Z"
    }
   },
   "outputs": [
    {
     "data": {
      "text/html": [
       "<div>\n",
       "<style scoped>\n",
       "    .dataframe tbody tr th:only-of-type {\n",
       "        vertical-align: middle;\n",
       "    }\n",
       "\n",
       "    .dataframe tbody tr th {\n",
       "        vertical-align: top;\n",
       "    }\n",
       "\n",
       "    .dataframe thead th {\n",
       "        text-align: right;\n",
       "    }\n",
       "</style>\n",
       "<table border=\"1\" class=\"dataframe\">\n",
       "  <thead>\n",
       "    <tr style=\"text-align: right;\">\n",
       "      <th></th>\n",
       "      <th>APPRDX</th>\n",
       "      <th>cg00017221</th>\n",
       "      <th>cg00030584</th>\n",
       "      <th>cg00113363</th>\n",
       "      <th>cg00128386</th>\n",
       "      <th>cg00156743</th>\n",
       "      <th>cg00295303</th>\n",
       "      <th>cg00418511</th>\n",
       "      <th>cg00558297</th>\n",
       "      <th>cg00597128</th>\n",
       "      <th>...</th>\n",
       "      <th>cg26879084</th>\n",
       "      <th>cg26926318</th>\n",
       "      <th>cg26941073</th>\n",
       "      <th>cg27079446</th>\n",
       "      <th>cg27175112</th>\n",
       "      <th>cg27281389</th>\n",
       "      <th>cg27339255</th>\n",
       "      <th>cg27366263</th>\n",
       "      <th>cg27603338</th>\n",
       "      <th>cg27648238</th>\n",
       "    </tr>\n",
       "  </thead>\n",
       "  <tbody>\n",
       "    <tr>\n",
       "      <th>306</th>\n",
       "      <td>1</td>\n",
       "      <td>0.015719</td>\n",
       "      <td>0.380722</td>\n",
       "      <td>0.010514</td>\n",
       "      <td>0.963340</td>\n",
       "      <td>0.899114</td>\n",
       "      <td>0.890893</td>\n",
       "      <td>0.038055</td>\n",
       "      <td>0.772920</td>\n",
       "      <td>0.348175</td>\n",
       "      <td>...</td>\n",
       "      <td>0.852996</td>\n",
       "      <td>0.908892</td>\n",
       "      <td>0.933013</td>\n",
       "      <td>0.018602</td>\n",
       "      <td>0.903400</td>\n",
       "      <td>0.011374</td>\n",
       "      <td>0.862685</td>\n",
       "      <td>0.764067</td>\n",
       "      <td>0.440161</td>\n",
       "      <td>0.906936</td>\n",
       "    </tr>\n",
       "    <tr>\n",
       "      <th>307</th>\n",
       "      <td>1</td>\n",
       "      <td>0.026659</td>\n",
       "      <td>0.195581</td>\n",
       "      <td>0.014547</td>\n",
       "      <td>0.958277</td>\n",
       "      <td>0.865897</td>\n",
       "      <td>0.844592</td>\n",
       "      <td>0.022062</td>\n",
       "      <td>0.604574</td>\n",
       "      <td>0.781507</td>\n",
       "      <td>...</td>\n",
       "      <td>0.838157</td>\n",
       "      <td>0.929789</td>\n",
       "      <td>0.931938</td>\n",
       "      <td>0.017685</td>\n",
       "      <td>0.886063</td>\n",
       "      <td>0.019583</td>\n",
       "      <td>0.856798</td>\n",
       "      <td>0.897929</td>\n",
       "      <td>0.435785</td>\n",
       "      <td>0.863049</td>\n",
       "    </tr>\n",
       "  </tbody>\n",
       "</table>\n",
       "<p>2 rows × 328 columns</p>\n",
       "</div>"
      ],
      "text/plain": [
       "     APPRDX  cg00017221  cg00030584  cg00113363  cg00128386  cg00156743  \\\n",
       "306       1    0.015719    0.380722    0.010514    0.963340    0.899114   \n",
       "307       1    0.026659    0.195581    0.014547    0.958277    0.865897   \n",
       "\n",
       "     cg00295303  cg00418511  cg00558297  cg00597128  ...  cg26879084  \\\n",
       "306    0.890893    0.038055    0.772920    0.348175  ...    0.852996   \n",
       "307    0.844592    0.022062    0.604574    0.781507  ...    0.838157   \n",
       "\n",
       "     cg26926318  cg26941073  cg27079446  cg27175112  cg27281389  cg27339255  \\\n",
       "306    0.908892    0.933013    0.018602    0.903400    0.011374    0.862685   \n",
       "307    0.929789    0.931938    0.017685    0.886063    0.019583    0.856798   \n",
       "\n",
       "     cg27366263  cg27603338  cg27648238  \n",
       "306    0.764067    0.440161    0.906936  \n",
       "307    0.897929    0.435785    0.863049  \n",
       "\n",
       "[2 rows x 328 columns]"
      ]
     },
     "execution_count": 3,
     "metadata": {},
     "output_type": "execute_result"
    }
   ],
   "source": [
    "dataset.tail(2)"
   ]
  },
  {
   "cell_type": "code",
   "execution_count": 4,
   "metadata": {
    "ExecuteTime": {
     "end_time": "2023-03-09T09:10:50.244718Z",
     "start_time": "2023-03-09T09:10:50.144454Z"
    },
    "colab": {},
    "colab_type": "code",
    "id": "MXUkhkMfU4wq"
   },
   "outputs": [
    {
     "name": "stdout",
     "output_type": "stream",
     "text": [
      "[[0.02351958 0.34429838 0.02130382 ... 0.87346307 0.45825781 0.84538476]\n",
      " [0.03331114 0.3068507  0.0123584  ... 0.86369311 0.44549871 0.83447915]\n",
      " [0.02915928 0.49401904 0.01306744 ... 0.85038726 0.47158239 0.79721014]\n",
      " ...\n",
      " [0.03169496 0.45841932 0.01553139 ... 0.85365979 0.54731595 0.87283149]\n",
      " [0.01571926 0.38072169 0.01051411 ... 0.76406653 0.44016127 0.90693643]\n",
      " [0.02665907 0.19558137 0.01454701 ... 0.89792933 0.43578519 0.86304876]]\n"
     ]
    }
   ],
   "source": [
    "X = dataset.iloc[:, 1:].values\n",
    "y = dataset.iloc[:, 0].values\n",
    "print(X)"
   ]
  },
  {
   "cell_type": "code",
   "execution_count": 5,
   "metadata": {
    "ExecuteTime": {
     "end_time": "2023-03-09T09:10:50.313733Z",
     "start_time": "2023-03-09T09:10:50.244718Z"
    },
    "colab": {
     "base_uri": "https://localhost:8080/",
     "height": 34
    },
    "colab_type": "code",
    "executionInfo": {
     "elapsed": 2391,
     "status": "ok",
     "timestamp": 1590257449961,
     "user": {
      "displayName": "Hadelin de Ponteves",
      "photoUrl": "https://lh3.googleusercontent.com/a-/AOh14GhEuXdT7eQweUmRPW8_laJuPggSK6hfvpl5a6WBaA=s64",
      "userId": "15047218817161520419"
     },
     "user_tz": -240
    },
    "id": "38vKGE6Nb2RR",
    "outputId": "a815e42a-e0dd-4cb5-ab97-b17ead98fbc3"
   },
   "outputs": [
    {
     "name": "stdout",
     "output_type": "stream",
     "text": [
      "[0 0 0 0 0 0 0 0 0 0 0 0 0 0 0 0 0 0 0 0 0 0 0 0 0 0 0 0 0 0 0 0 0 0 0 0 0\n",
      " 0 0 0 0 0 0 0 0 0 0 0 0 0 0 0 0 0 0 0 0 0 0 0 0 0 0 0 0 0 0 0 0 0 0 0 0 0\n",
      " 0 0 0 0 0 0 0 0 0 0 0 0 0 0 0 0 0 0 0 0 0 0 0 0 0 0 0 0 0 0 0 0 0 0 0 0 0\n",
      " 0 0 0 0 0 0 0 0 0 0 0 0 0 0 0 0 0 0 0 0 0 0 0 0 0 0 0 0 0 0 0 0 0 0 0 0 0\n",
      " 0 0 0 0 0 0 0 0 0 0 0 0 0 0 0 0 0 0 0 0 0 0 0 0 0 0 0 0 0 0 0 0 0 0 0 0 0\n",
      " 0 0 0 0 0 0 0 0 0 0 0 0 0 0 0 0 0 0 0 0 0 0 0 0 0 0 0 0 0 1 1 1 1 1 1 1 1\n",
      " 1 1 1 1 1 1 1 1 1 1 1 1 1 1 1 1 1 1 1 1 1 1 1 1 1 1 1 1 1 1 1 1 1 1 1 1 1\n",
      " 1 1 1 1 1 1 1 1 1 1 1 1 1 1 1 1 1 1 1 1 1 1 1 1 1 1 1 1 1 1 1 1 1 1 1 1 1\n",
      " 1 1 1 1 1 1 1 1 1 1 1 1]\n"
     ]
    }
   ],
   "source": [
    "print(y)"
   ]
  },
  {
   "cell_type": "markdown",
   "metadata": {
    "colab_type": "text",
    "id": "vHol938cW8zd"
   },
   "source": [
    "### Splitting the dataset into the Training set and Test set"
   ]
  },
  {
   "cell_type": "code",
   "execution_count": 6,
   "metadata": {
    "ExecuteTime": {
     "end_time": "2023-03-09T09:10:50.398376Z",
     "start_time": "2023-03-09T09:10:50.313733Z"
    },
    "colab": {},
    "colab_type": "code",
    "id": "Z-TDt0Y_XEfc"
   },
   "outputs": [
    {
     "name": "stdout",
     "output_type": "stream",
     "text": [
      "[0 1 1 1 1 0 0 1 1 0 0 0 1 1 1 1 0 0 1 0 1 0 0 0 1 1 0 0 0 0 0 1 0 0 0 0 0\n",
      " 0 0 0 1 0 0 0 0 1 0 0 0 0 0 1 0 0 0 0 1 0 0 0 0 0]\n"
     ]
    }
   ],
   "source": [
    "X_train, X_test, y_train, y_test = train_test_split(X, y, test_size = 0.2, random_state = 1)\n",
    "print(y_test)"
   ]
  },
  {
   "cell_type": "markdown",
   "metadata": {
    "ExecuteTime": {
     "end_time": "2023-02-09T04:09:06.480640Z",
     "start_time": "2023-02-09T04:09:06.427245Z"
    },
    "colab": {},
    "colab_type": "code",
    "id": "ViCrE00rV8Sk"
   },
   "source": [
    "from sklearn.preprocessing import StandardScaler\n",
    "sc = StandardScaler()\n",
    "X_train = sc.fit_transform(X_train)\n",
    "X_test = sc.transform(X_test)"
   ]
  },
  {
   "cell_type": "markdown",
   "metadata": {
    "colab_type": "text",
    "id": "8GWlJChhY_ZI"
   },
   "source": [
    "### Compiling the Network"
   ]
  },
  {
   "cell_type": "code",
   "execution_count": 9,
   "metadata": {
    "ExecuteTime": {
     "end_time": "2023-03-09T09:11:11.180883Z",
     "start_time": "2023-03-09T09:11:11.080662Z"
    }
   },
   "outputs": [
    {
     "name": "stdout",
     "output_type": "stream",
     "text": [
      "Model: \"sequential_1\"\n",
      "_________________________________________________________________\n",
      " Layer (type)                Output Shape              Param #   \n",
      "=================================================================\n",
      " dense_4 (Dense)             (None, 300)               98400     \n",
      "                                                                 \n",
      " dense_5 (Dense)             (None, 100)               30100     \n",
      "                                                                 \n",
      " dense_6 (Dense)             (None, 10)                1010      \n",
      "                                                                 \n",
      " dropout_1 (Dropout)         (None, 10)                0         \n",
      "                                                                 \n",
      " dense_7 (Dense)             (None, 1)                 11        \n",
      "                                                                 \n",
      "=================================================================\n",
      "Total params: 129,521\n",
      "Trainable params: 129,521\n",
      "Non-trainable params: 0\n",
      "_________________________________________________________________\n"
     ]
    }
   ],
   "source": [
    "\n",
    "# define the keras model\n",
    "model = Sequential()\n",
    "model.add(Dense(300, input_shape=(327,), activation='relu'))\n",
    "#model.add(tf.keras.layers.Dropout(0.1))\n",
    "model.add(Dense(100, activation='relu'))\n",
    "model.add(Dense(10, activation='relu'))\n",
    "model.add(tf.keras.layers.Dropout(0.2))\n",
    "model.add(Dense(1, activation='sigmoid'))\n",
    "opt=tf.keras.optimizers.Adam(learning_rate=0.01)\n",
    "model.compile(optimizer = opt, loss = 'binary_crossentropy', metrics = ['accuracy'])\n",
    "model.summary()"
   ]
  },
  {
   "cell_type": "markdown",
   "metadata": {
    "ExecuteTime": {
     "end_time": "2023-03-09T08:34:07.023122Z",
     "start_time": "2023-03-09T08:34:06.991883Z"
    }
   },
   "source": [
    "ann = tf.keras.models.Sequential()\n",
    "ann.add(tf.keras.layers.Dense(units=10, activation='relu', kernel_regularizer=tf.keras.regularizers.l1(0.01)))\n",
    "#ann.add(tf.keras.layers.Dropout(0.1))\n",
    "ann.add(tf.keras.layers.Dense(units=5, activation='relu', kernel_regularizer=tf.keras.regularizers.l1(0.01)))\n",
    "#ann.add(tf.keras.layers.Dropout(0.1))\n",
    "ann.add(tf.keras.layers.Dense(units=1, activation='sigmoid'))\n",
    "ann.compile(optimizer = 'adam', loss = 'binary_crossentropy', metrics = ['accuracy'])"
   ]
  },
  {
   "cell_type": "markdown",
   "metadata": {
    "colab_type": "text",
    "id": "0QR_G5u7ZLSM"
   },
   "source": [
    "### Training the ANN on the Training set"
   ]
  },
  {
   "cell_type": "code",
   "execution_count": 10,
   "metadata": {
    "ExecuteTime": {
     "end_time": "2023-03-09T09:11:15.555343Z",
     "start_time": "2023-03-09T09:11:12.584990Z"
    },
    "colab": {
     "base_uri": "https://localhost:8080/",
     "height": 1000
    },
    "colab_type": "code",
    "executionInfo": {
     "elapsed": 33685,
     "status": "ok",
     "timestamp": 1590257481284,
     "user": {
      "displayName": "Hadelin de Ponteves",
      "photoUrl": "https://lh3.googleusercontent.com/a-/AOh14GhEuXdT7eQweUmRPW8_laJuPggSK6hfvpl5a6WBaA=s64",
      "userId": "15047218817161520419"
     },
     "user_tz": -240
    },
    "id": "nHZ-LKv_ZRb3",
    "outputId": "718cc4b0-b5aa-40f0-9b20-d3d31730a531",
    "scrolled": true
   },
   "outputs": [
    {
     "name": "stdout",
     "output_type": "stream",
     "text": [
      "Epoch 1/50\n",
      "7/7 [==============================] - 1s 31ms/step - loss: 1.2075 - accuracy: 0.6224 - val_loss: 0.6381 - val_accuracy: 0.7000\n",
      "Epoch 2/50\n",
      "7/7 [==============================] - 0s 5ms/step - loss: 0.6393 - accuracy: 0.6939 - val_loss: 0.6196 - val_accuracy: 0.7000\n",
      "Epoch 3/50\n",
      "7/7 [==============================] - 0s 6ms/step - loss: 0.6293 - accuracy: 0.6939 - val_loss: 0.6525 - val_accuracy: 0.7000\n",
      "Epoch 4/50\n",
      "7/7 [==============================] - 0s 5ms/step - loss: 0.6652 - accuracy: 0.6939 - val_loss: 0.6414 - val_accuracy: 0.7000\n",
      "Epoch 5/50\n",
      "7/7 [==============================] - 0s 5ms/step - loss: 0.6428 - accuracy: 0.6939 - val_loss: 0.6262 - val_accuracy: 0.7000\n",
      "Epoch 6/50\n",
      "7/7 [==============================] - 0s 6ms/step - loss: 0.6789 - accuracy: 0.6939 - val_loss: 0.6698 - val_accuracy: 0.7000\n",
      "Epoch 7/50\n",
      "7/7 [==============================] - 0s 10ms/step - loss: 0.6692 - accuracy: 0.6939 - val_loss: 0.6648 - val_accuracy: 0.7000\n",
      "Epoch 8/50\n",
      "7/7 [==============================] - 0s 8ms/step - loss: 0.6631 - accuracy: 0.6939 - val_loss: 0.6572 - val_accuracy: 0.7000\n",
      "Epoch 9/50\n",
      "7/7 [==============================] - 0s 8ms/step - loss: 0.6392 - accuracy: 0.6939 - val_loss: 0.6518 - val_accuracy: 0.7000\n",
      "Epoch 10/50\n",
      "7/7 [==============================] - 0s 5ms/step - loss: 0.6511 - accuracy: 0.6939 - val_loss: 0.6450 - val_accuracy: 0.7000\n",
      "Epoch 11/50\n",
      "7/7 [==============================] - 0s 5ms/step - loss: 0.6447 - accuracy: 0.6939 - val_loss: 0.6389 - val_accuracy: 0.7000\n",
      "Epoch 12/50\n",
      "7/7 [==============================] - 0s 4ms/step - loss: 0.6395 - accuracy: 0.6939 - val_loss: 0.6337 - val_accuracy: 0.7000\n",
      "Epoch 13/50\n",
      "7/7 [==============================] - 0s 5ms/step - loss: 0.6480 - accuracy: 0.6582 - val_loss: 0.6298 - val_accuracy: 0.7000\n",
      "Epoch 14/50\n",
      "7/7 [==============================] - 0s 5ms/step - loss: 0.6314 - accuracy: 0.6939 - val_loss: 0.6264 - val_accuracy: 0.7000\n",
      "Epoch 15/50\n",
      "7/7 [==============================] - 0s 4ms/step - loss: 0.6278 - accuracy: 0.6939 - val_loss: 0.6232 - val_accuracy: 0.7000\n",
      "Epoch 16/50\n",
      "7/7 [==============================] - 0s 5ms/step - loss: 0.6254 - accuracy: 0.6939 - val_loss: 0.6205 - val_accuracy: 0.7000\n",
      "Epoch 17/50\n",
      "7/7 [==============================] - 0s 6ms/step - loss: 0.6229 - accuracy: 0.6939 - val_loss: 0.6182 - val_accuracy: 0.7000\n",
      "Epoch 18/50\n",
      "7/7 [==============================] - 0s 5ms/step - loss: 0.6216 - accuracy: 0.6939 - val_loss: 0.6164 - val_accuracy: 0.7000\n",
      "Epoch 19/50\n",
      "7/7 [==============================] - 0s 5ms/step - loss: 0.6199 - accuracy: 0.6939 - val_loss: 0.6155 - val_accuracy: 0.7000\n",
      "Epoch 20/50\n",
      "7/7 [==============================] - 0s 6ms/step - loss: 0.6194 - accuracy: 0.6939 - val_loss: 0.6149 - val_accuracy: 0.7000\n",
      "Epoch 21/50\n",
      "7/7 [==============================] - 0s 5ms/step - loss: 0.6189 - accuracy: 0.6939 - val_loss: 0.6145 - val_accuracy: 0.7000\n",
      "Epoch 22/50\n",
      "7/7 [==============================] - 0s 4ms/step - loss: 0.6186 - accuracy: 0.6939 - val_loss: 0.6143 - val_accuracy: 0.7000\n",
      "Epoch 23/50\n",
      "7/7 [==============================] - 0s 5ms/step - loss: 0.6182 - accuracy: 0.6939 - val_loss: 0.6135 - val_accuracy: 0.7000\n",
      "Epoch 24/50\n",
      "7/7 [==============================] - 0s 8ms/step - loss: 0.6175 - accuracy: 0.6939 - val_loss: 0.6130 - val_accuracy: 0.7000\n",
      "Epoch 25/50\n",
      "7/7 [==============================] - 0s 6ms/step - loss: 0.6173 - accuracy: 0.6939 - val_loss: 0.6124 - val_accuracy: 0.7000\n",
      "Epoch 26/50\n",
      "7/7 [==============================] - 0s 8ms/step - loss: 0.6170 - accuracy: 0.6939 - val_loss: 0.6120 - val_accuracy: 0.7000\n",
      "Epoch 27/50\n",
      "7/7 [==============================] - 0s 6ms/step - loss: 0.6166 - accuracy: 0.6939 - val_loss: 0.6117 - val_accuracy: 0.7000\n",
      "Epoch 28/50\n",
      "7/7 [==============================] - 0s 8ms/step - loss: 0.6167 - accuracy: 0.6939 - val_loss: 0.6115 - val_accuracy: 0.7000\n",
      "Epoch 29/50\n",
      "7/7 [==============================] - 0s 6ms/step - loss: 0.6163 - accuracy: 0.6939 - val_loss: 0.6115 - val_accuracy: 0.7000\n",
      "Epoch 30/50\n",
      "7/7 [==============================] - 0s 5ms/step - loss: 0.6162 - accuracy: 0.6939 - val_loss: 0.6114 - val_accuracy: 0.7000\n",
      "Epoch 31/50\n",
      "7/7 [==============================] - 0s 8ms/step - loss: 0.6163 - accuracy: 0.6939 - val_loss: 0.6112 - val_accuracy: 0.7000\n",
      "Epoch 32/50\n",
      "7/7 [==============================] - 0s 5ms/step - loss: 0.6161 - accuracy: 0.6939 - val_loss: 0.6112 - val_accuracy: 0.7000\n",
      "Epoch 33/50\n",
      "7/7 [==============================] - 0s 5ms/step - loss: 0.6160 - accuracy: 0.6939 - val_loss: 0.6112 - val_accuracy: 0.7000\n",
      "Epoch 34/50\n",
      "7/7 [==============================] - 0s 4ms/step - loss: 0.6161 - accuracy: 0.6939 - val_loss: 0.6113 - val_accuracy: 0.7000\n",
      "Epoch 35/50\n",
      "7/7 [==============================] - 0s 5ms/step - loss: 0.6161 - accuracy: 0.6939 - val_loss: 0.6113 - val_accuracy: 0.7000\n",
      "Epoch 36/50\n",
      "7/7 [==============================] - 0s 8ms/step - loss: 0.6160 - accuracy: 0.6939 - val_loss: 0.6112 - val_accuracy: 0.7000\n",
      "Epoch 37/50\n",
      "7/7 [==============================] - 0s 5ms/step - loss: 0.6160 - accuracy: 0.6939 - val_loss: 0.6111 - val_accuracy: 0.7000\n",
      "Epoch 38/50\n",
      "7/7 [==============================] - 0s 8ms/step - loss: 0.6161 - accuracy: 0.6939 - val_loss: 0.6111 - val_accuracy: 0.7000\n",
      "Epoch 39/50\n",
      "7/7 [==============================] - 0s 6ms/step - loss: 0.6161 - accuracy: 0.6939 - val_loss: 0.6112 - val_accuracy: 0.7000\n",
      "Epoch 40/50\n",
      "7/7 [==============================] - 0s 5ms/step - loss: 0.6160 - accuracy: 0.6939 - val_loss: 0.6111 - val_accuracy: 0.7000\n",
      "Epoch 41/50\n",
      "7/7 [==============================] - 0s 6ms/step - loss: 0.6160 - accuracy: 0.6939 - val_loss: 0.6110 - val_accuracy: 0.7000\n",
      "Epoch 42/50\n",
      "7/7 [==============================] - 0s 5ms/step - loss: 0.6160 - accuracy: 0.6939 - val_loss: 0.6110 - val_accuracy: 0.7000\n",
      "Epoch 43/50\n",
      "7/7 [==============================] - 0s 5ms/step - loss: 0.6160 - accuracy: 0.6939 - val_loss: 0.6109 - val_accuracy: 0.7000\n",
      "Epoch 44/50\n",
      "7/7 [==============================] - 0s 6ms/step - loss: 0.6162 - accuracy: 0.6939 - val_loss: 0.6109 - val_accuracy: 0.7000\n",
      "Epoch 45/50\n",
      "7/7 [==============================] - 0s 8ms/step - loss: 0.6162 - accuracy: 0.6939 - val_loss: 0.6109 - val_accuracy: 0.7000\n",
      "Epoch 46/50\n",
      "7/7 [==============================] - 0s 6ms/step - loss: 0.6160 - accuracy: 0.6939 - val_loss: 0.6109 - val_accuracy: 0.7000\n",
      "Epoch 47/50\n",
      "7/7 [==============================] - 0s 8ms/step - loss: 0.6163 - accuracy: 0.6939 - val_loss: 0.6109 - val_accuracy: 0.7000\n",
      "Epoch 48/50\n",
      "7/7 [==============================] - 0s 5ms/step - loss: 0.6162 - accuracy: 0.6939 - val_loss: 0.6109 - val_accuracy: 0.7000\n",
      "Epoch 49/50\n",
      "7/7 [==============================] - 0s 4ms/step - loss: 0.6162 - accuracy: 0.6939 - val_loss: 0.6109 - val_accuracy: 0.7000\n",
      "Epoch 50/50\n",
      "7/7 [==============================] - 0s 5ms/step - loss: 0.6161 - accuracy: 0.6939 - val_loss: 0.6109 - val_accuracy: 0.7000\n"
     ]
    }
   ],
   "source": [
    "history = model.fit(X_train, y_train, epochs = 50, validation_split = 0.2)"
   ]
  },
  {
   "cell_type": "markdown",
   "metadata": {
    "colab_type": "text",
    "id": "tJj5k2MxZga3"
   },
   "source": [
    "## Part 4 - Making the predictions and evaluating the model"
   ]
  },
  {
   "cell_type": "markdown",
   "metadata": {
    "colab_type": "text",
    "id": "u7yx47jPZt11"
   },
   "source": [
    "### Predicting the Test set results"
   ]
  },
  {
   "cell_type": "code",
   "execution_count": 11,
   "metadata": {
    "ExecuteTime": {
     "end_time": "2023-03-09T09:11:17.298073Z",
     "start_time": "2023-03-09T09:11:17.113209Z"
    },
    "scrolled": false
   },
   "outputs": [
    {
     "data": {
      "image/png": "[encoded data removed]",
      "text/plain": [
       "<Figure size 640x480 with 1 Axes>"
      ]
     },
     "metadata": {},
     "output_type": "display_data"
    }
   ],
   "source": [
    "plt.plot(history.history['loss'])\n",
    "plt.plot(history.history['val_loss'])\n",
    "plt.show()"
   ]
  },
  {
   "cell_type": "code",
   "execution_count": 14,
   "metadata": {
    "ExecuteTime": {
     "end_time": "2023-03-09T09:11:33.278442Z",
     "start_time": "2023-03-09T09:11:33.193849Z"
    },
    "colab": {
     "base_uri": "https://localhost:8080/",
     "height": 137
    },
    "colab_type": "code",
    "executionInfo": {
     "elapsed": 33987,
     "status": "ok",
     "timestamp": 1590257481595,
     "user": {
      "displayName": "Hadelin de Ponteves",
      "photoUrl": "https://lh3.googleusercontent.com/a-/AOh14GhEuXdT7eQweUmRPW8_laJuPggSK6hfvpl5a6WBaA=s64",
      "userId": "15047218817161520419"
     },
     "user_tz": -240
    },
    "id": "nIyEeQdRZwgs",
    "outputId": "82330ba8-9bdc-4fd1-d3cf-b6d78ee7c2a3",
    "scrolled": true
   },
   "outputs": [
    {
     "name": "stdout",
     "output_type": "stream",
     "text": [
      "2/2 [==============================] - 0s 16ms/step\n",
      "[[0 0]\n",
      " [0 1]\n",
      " [0 1]\n",
      " [0 1]\n",
      " [0 1]\n",
      " [0 0]\n",
      " [0 0]\n",
      " [0 1]\n",
      " [0 1]\n",
      " [0 0]\n",
      " [0 0]\n",
      " [0 0]\n",
      " [0 1]\n",
      " [0 1]\n",
      " [0 1]\n",
      " [0 1]\n",
      " [0 0]\n",
      " [0 0]\n",
      " [0 1]\n",
      " [0 0]\n",
      " [0 1]\n",
      " [0 0]\n",
      " [0 0]\n",
      " [0 0]\n",
      " [0 1]\n",
      " [0 1]\n",
      " [0 0]\n",
      " [0 0]\n",
      " [0 0]\n",
      " [0 0]\n",
      " [0 0]\n",
      " [0 1]\n",
      " [0 0]\n",
      " [0 0]\n",
      " [0 0]\n",
      " [0 0]\n",
      " [0 0]\n",
      " [0 0]\n",
      " [0 0]\n",
      " [0 0]\n",
      " [0 1]\n",
      " [0 0]\n",
      " [0 0]\n",
      " [0 0]\n",
      " [0 0]\n",
      " [0 1]\n",
      " [0 0]\n",
      " [0 0]\n",
      " [0 0]\n",
      " [0 0]\n",
      " [0 0]\n",
      " [0 1]\n",
      " [0 0]\n",
      " [0 0]\n",
      " [0 0]\n",
      " [0 0]\n",
      " [0 1]\n",
      " [0 0]\n",
      " [0 0]\n",
      " [0 0]\n",
      " [0 0]\n",
      " [0 0]]\n"
     ]
    }
   ],
   "source": [
    "y_pred = model.predict(X_test)\n",
    "y_pred = (y_pred > 0.5)\n",
    "print(np.concatenate((y_pred.reshape(len(y_pred),1), y_test.reshape(len(y_test),1)),1))"
   ]
  },
  {
   "cell_type": "markdown",
   "metadata": {
    "colab_type": "text",
    "id": "o0oyfLWoaEGw"
   },
   "source": [
    "### Making the Confusion Matrix"
   ]
  },
  {
   "cell_type": "code",
   "execution_count": 15,
   "metadata": {
    "ExecuteTime": {
     "end_time": "2023-03-09T09:11:34.829887Z",
     "start_time": "2023-03-09T09:11:34.798691Z"
    },
    "colab": {
     "base_uri": "https://localhost:8080/",
     "height": 68
    },
    "colab_type": "code",
    "executionInfo": {
     "elapsed": 33981,
     "status": "ok",
     "timestamp": 1590257481595,
     "user": {
      "displayName": "Hadelin de Ponteves",
      "photoUrl": "https://lh3.googleusercontent.com/a-/AOh14GhEuXdT7eQweUmRPW8_laJuPggSK6hfvpl5a6WBaA=s64",
      "userId": "15047218817161520419"
     },
     "user_tz": -240
    },
    "id": "ci6K_r6LaF6P",
    "outputId": "4d854e9e-22d5-432f-f6e5-a102fe3ae0bd",
    "run_control": {
     "marked": false
    }
   },
   "outputs": [
    {
     "name": "stdout",
     "output_type": "stream",
     "text": [
      "[[43  0]\n",
      " [19  0]]\n"
     ]
    },
    {
     "data": {
      "text/plain": [
       "0.6935483870967742"
      ]
     },
     "execution_count": 15,
     "metadata": {},
     "output_type": "execute_result"
    }
   ],
   "source": [
    "cm = confusion_matrix(y_test, y_pred)\n",
    "print(cm)\n",
    "accuracy_score(y_test, y_pred)"
   ]
  },
  {
   "cell_type": "code",
   "execution_count": null,
   "metadata": {
    "ExecuteTime": {
     "end_time": "2023-03-09T09:10:51.393074Z",
     "start_time": "2023-03-09T09:10:51.393074Z"
    }
   },
   "outputs": [],
   "source": [
    "has_dropout = False\n",
    "for layer in model.layers:\n",
    "    if isinstance(layer, tf.keras.layers.Dropout):\n",
    "        has_dropout = True\n",
    "        break\n",
    "if has_dropout:\n",
    "    print(\"Model has dropout layers.\")\n",
    "else:\n",
    "    print(\"Model does not have dropout layers.\")\n"
   ]
  },
  {
   "cell_type": "code",
   "execution_count": null,
   "metadata": {
    "ExecuteTime": {
     "end_time": "2023-03-09T09:10:51.393074Z",
     "start_time": "2023-03-09T09:10:51.393074Z"
    },
    "scrolled": true
   },
   "outputs": [],
   "source": [
    "has_regularization = False\n",
    "for layer in model.layers:\n",
    "    if isinstance(layer, tf.keras.layers.Dense):\n",
    "        if layer.kernel_regularizer is not None or layer.bias_regularizer is not None:\n",
    "            has_regularization = True\n",
    "            break\n",
    "if has_regularization:\n",
    "    print(\"Model has regularization.\")\n",
    "else:\n",
    "    print(\"Model does not have regularization.\")\n"
   ]
  },
  {
   "cell_type": "markdown",
   "metadata": {},
   "source": [
    "## Save model"
   ]
  },
  {
   "cell_type": "code",
   "execution_count": null,
   "metadata": {
    "ExecuteTime": {
     "end_time": "2023-03-09T09:10:51.393074Z",
     "start_time": "2023-03-09T09:10:51.393074Z"
    }
   },
   "outputs": [],
   "source": [
    "# Save model\n",
    "#model.save(\"model_ann.h5\")"
   ]
  },
  {
   "cell_type": "code",
   "execution_count": null,
   "metadata": {
    "ExecuteTime": {
     "end_time": "2023-03-09T09:10:51.393074Z",
     "start_time": "2023-03-09T09:10:51.393074Z"
    },
    "scrolled": false
   },
   "outputs": [],
   "source": [
    "model.summary()"
   ]
  },
  {
   "cell_type": "code",
   "execution_count": null,
   "metadata": {},
   "outputs": [],
   "source": []
  }
 ],
 "metadata": {
  "colab": {
   "authorship_tag": "ABX9TyMeRFWFoGrdaL5S3dx5MWmb",
   "collapsed_sections": [],
   "name": "artificial_neural_network.ipynb",
   "provenance": [],
   "toc_visible": true
  },
  "kernelspec": {
   "display_name": "Python 3 (ipykernel)",
   "language": "python",
   "name": "python3"
  },
  "language_info": {
   "codemirror_mode": {
    "name": "ipython",
    "version": 3
   },
   "file_extension": ".py",
   "mimetype": "text/x-python",
   "name": "python",
   "nbconvert_exporter": "python",
   "pygments_lexer": "ipython3",
   "version": "3.9.16"
  },
  "toc": {
   "base_numbering": 1,
   "nav_menu": {},
   "number_sections": true,
   "sideBar": true,
   "skip_h1_title": false,
   "title_cell": "Table of Contents",
   "title_sidebar": "Contents",
   "toc_cell": false,
   "toc_position": {},
   "toc_section_display": true,
   "toc_window_display": false
  },
  "varInspector": {
   "cols": {
    "lenName": 16,
    "lenType": 16,
    "lenVar": 40
   },
   "kernels_config": {
    "python": {
     "delete_cmd_postfix": "",
     "delete_cmd_prefix": "del ",
     "library": "var_list.py",
     "varRefreshCmd": "print(var_dic_list())"
    },
    "r": {
     "delete_cmd_postfix": ") ",
     "delete_cmd_prefix": "rm(",
     "library": "var_list.r",
     "varRefreshCmd": "cat(var_dic_list()) "
    }
   },
   "types_to_exclude": [
    "module",
    "function",
    "builtin_function_or_method",
    "instance",
    "_Feature"
   ],
   "window_display": false
  }
 },
 "nbformat": 4,
 "nbformat_minor": 1
}
