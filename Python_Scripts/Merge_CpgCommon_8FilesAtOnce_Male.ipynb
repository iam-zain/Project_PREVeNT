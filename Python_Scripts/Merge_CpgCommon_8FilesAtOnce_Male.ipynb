{
 "cells": [
  {
   "cell_type": "code",
   "execution_count": 1,
   "id": "19e8148d",
   "metadata": {
    "ExecuteTime": {
     "end_time": "2023-01-15T08:00:12.051050Z",
     "start_time": "2023-01-15T08:00:11.506720Z"
    }
   },
   "outputs": [
    {
     "name": "stdout",
     "output_type": "stream",
     "text": [
      "Z:\\PPMI_Data\\Excels\\NonMotors\\Derived250\\Male\\GeneCpG\\Xtras\n"
     ]
    }
   ],
   "source": [
    "import pandas as pd\n",
    "from functools import reduce\n",
    "%cd Z:\\PPMI_Data\\Excels\\NonMotors\\Derived250\\Male\\GeneCpG\\Xtras"
   ]
  },
  {
   "cell_type": "code",
   "execution_count": 2,
   "id": "a19b7618",
   "metadata": {
    "ExecuteTime": {
     "end_time": "2023-01-15T08:00:12.066676Z",
     "start_time": "2023-01-15T08:00:12.051050Z"
    }
   },
   "outputs": [],
   "source": [
    "files = ['Common_Cognition_CpG_Male.csv','Common_Depression_CpG_Male.csv','Common_Fatigue_CpG_Male.csv',\n",
    "         'Common_SymbDigi_CpG_Male.csv','Common_TrlMakB_CpG_Male.csv','Common_UPSIT_CpG_Male.csv',\n",
    "         'Common7_Sleepday_Data_Male.csv','Common10_Hopkins_Data_Male.csv']\n",
    "# Loading all the files at once"
   ]
  },
  {
   "cell_type": "code",
   "execution_count": 3,
   "id": "d4adec7a",
   "metadata": {
    "ExecuteTime": {
     "end_time": "2023-01-15T08:00:12.220337Z",
     "start_time": "2023-01-15T08:00:12.066676Z"
    }
   },
   "outputs": [
    {
     "name": "stdout",
     "output_type": "stream",
     "text": [
      "(109, 46)\n"
     ]
    },
    {
     "data": {
      "text/html": [
       "<div>\n",
       "<style scoped>\n",
       "    .dataframe tbody tr th:only-of-type {\n",
       "        vertical-align: middle;\n",
       "    }\n",
       "\n",
       "    .dataframe tbody tr th {\n",
       "        vertical-align: top;\n",
       "    }\n",
       "\n",
       "    .dataframe thead th {\n",
       "        text-align: right;\n",
       "    }\n",
       "</style>\n",
       "<table border=\"1\" class=\"dataframe\">\n",
       "  <thead>\n",
       "    <tr style=\"text-align: right;\">\n",
       "      <th></th>\n",
       "      <th>PATNO</th>\n",
       "      <th>cg18174834_x</th>\n",
       "      <th>cg13675469</th>\n",
       "      <th>cg19829375</th>\n",
       "      <th>cg23149728</th>\n",
       "      <th>cg18174834_y</th>\n",
       "      <th>cg06704773</th>\n",
       "      <th>cg07656888</th>\n",
       "      <th>cg27266871</th>\n",
       "      <th>cg12220605</th>\n",
       "      <th>...</th>\n",
       "      <th>cg03616148</th>\n",
       "      <th>cg00314622</th>\n",
       "      <th>cg21620535</th>\n",
       "      <th>cg03567838</th>\n",
       "      <th>cg04891959</th>\n",
       "      <th>cg07804122</th>\n",
       "      <th>cg21228068</th>\n",
       "      <th>cg23867254</th>\n",
       "      <th>cg11489262</th>\n",
       "      <th>cg06947206</th>\n",
       "    </tr>\n",
       "  </thead>\n",
       "  <tbody>\n",
       "    <tr>\n",
       "      <th>0</th>\n",
       "      <td>3029</td>\n",
       "      <td>0.047790</td>\n",
       "      <td>0.010265</td>\n",
       "      <td>0.840155</td>\n",
       "      <td>0.742275</td>\n",
       "      <td>0.047790</td>\n",
       "      <td>0.026550</td>\n",
       "      <td>0.868124</td>\n",
       "      <td>0.387007</td>\n",
       "      <td>0.161607</td>\n",
       "      <td>...</td>\n",
       "      <td>0.669980</td>\n",
       "      <td>0.696370</td>\n",
       "      <td>0.045212</td>\n",
       "      <td>0.854349</td>\n",
       "      <td>0.021231</td>\n",
       "      <td>0.047708</td>\n",
       "      <td>0.905122</td>\n",
       "      <td>0.553096</td>\n",
       "      <td>0.090989</td>\n",
       "      <td>0.010944</td>\n",
       "    </tr>\n",
       "    <tr>\n",
       "      <th>1</th>\n",
       "      <td>3071</td>\n",
       "      <td>0.064484</td>\n",
       "      <td>0.012743</td>\n",
       "      <td>0.867541</td>\n",
       "      <td>0.858005</td>\n",
       "      <td>0.064484</td>\n",
       "      <td>0.032365</td>\n",
       "      <td>0.899058</td>\n",
       "      <td>0.252709</td>\n",
       "      <td>0.117267</td>\n",
       "      <td>...</td>\n",
       "      <td>0.833404</td>\n",
       "      <td>0.819708</td>\n",
       "      <td>0.062264</td>\n",
       "      <td>0.871040</td>\n",
       "      <td>0.028525</td>\n",
       "      <td>0.059414</td>\n",
       "      <td>0.894786</td>\n",
       "      <td>0.607279</td>\n",
       "      <td>0.112388</td>\n",
       "      <td>0.010933</td>\n",
       "    </tr>\n",
       "  </tbody>\n",
       "</table>\n",
       "<p>2 rows × 46 columns</p>\n",
       "</div>"
      ],
      "text/plain": [
       "   PATNO  cg18174834_x  cg13675469  cg19829375  cg23149728  cg18174834_y  \\\n",
       "0   3029      0.047790    0.010265    0.840155    0.742275      0.047790   \n",
       "1   3071      0.064484    0.012743    0.867541    0.858005      0.064484   \n",
       "\n",
       "   cg06704773  cg07656888  cg27266871  cg12220605  ...  cg03616148  \\\n",
       "0    0.026550    0.868124    0.387007    0.161607  ...    0.669980   \n",
       "1    0.032365    0.899058    0.252709    0.117267  ...    0.833404   \n",
       "\n",
       "   cg00314622  cg21620535  cg03567838  cg04891959  cg07804122  cg21228068  \\\n",
       "0    0.696370    0.045212    0.854349    0.021231    0.047708    0.905122   \n",
       "1    0.819708    0.062264    0.871040    0.028525    0.059414    0.894786   \n",
       "\n",
       "   cg23867254  cg11489262  cg06947206  \n",
       "0    0.553096    0.090989    0.010944  \n",
       "1    0.607279    0.112388    0.010933  \n",
       "\n",
       "[2 rows x 46 columns]"
      ]
     },
     "execution_count": 3,
     "metadata": {},
     "output_type": "execute_result"
    }
   ],
   "source": [
    "df = reduce(lambda l,r: l.merge(r, on='PATNO'), [pd.read_csv(f) for f in files])\n",
    "# The above command merge all the files having one common column\n",
    "print(df.shape)\n",
    "df.head(2)"
   ]
  },
  {
   "cell_type": "code",
   "execution_count": 4,
   "id": "821d2ed5",
   "metadata": {
    "ExecuteTime": {
     "end_time": "2023-01-15T08:00:12.251587Z",
     "start_time": "2023-01-15T08:00:12.220337Z"
    }
   },
   "outputs": [],
   "source": [
    "df.to_csv('CommonCpG_ofEachFeats_Male.csv', index = False)"
   ]
  },
  {
   "cell_type": "code",
   "execution_count": null,
   "id": "c5ea9621",
   "metadata": {},
   "outputs": [],
   "source": []
  }
 ],
 "metadata": {
  "kernelspec": {
   "display_name": "Python 3 (ipykernel)",
   "language": "python",
   "name": "python3"
  },
  "language_info": {
   "codemirror_mode": {
    "name": "ipython",
    "version": 3
   },
   "file_extension": ".py",
   "mimetype": "text/x-python",
   "name": "python",
   "nbconvert_exporter": "python",
   "pygments_lexer": "ipython3",
   "version": "3.9.7"
  },
  "toc": {
   "base_numbering": 1,
   "nav_menu": {},
   "number_sections": true,
   "sideBar": true,
   "skip_h1_title": false,
   "title_cell": "Table of Contents",
   "title_sidebar": "Contents",
   "toc_cell": false,
   "toc_position": {},
   "toc_section_display": true,
   "toc_window_display": false
  },
  "varInspector": {
   "cols": {
    "lenName": 16,
    "lenType": 16,
    "lenVar": 40
   },
   "kernels_config": {
    "python": {
     "delete_cmd_postfix": "",
     "delete_cmd_prefix": "del ",
     "library": "var_list.py",
     "varRefreshCmd": "print(var_dic_list())"
    },
    "r": {
     "delete_cmd_postfix": ") ",
     "delete_cmd_prefix": "rm(",
     "library": "var_list.r",
     "varRefreshCmd": "cat(var_dic_list()) "
    }
   },
   "types_to_exclude": [
    "module",
    "function",
    "builtin_function_or_method",
    "instance",
    "_Feature"
   ],
   "window_display": false
  }
 },
 "nbformat": 4,
 "nbformat_minor": 5
}
