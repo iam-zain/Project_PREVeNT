{
 "cells": [
  {
   "cell_type": "code",
   "execution_count": 1,
   "id": "e5d97d6c",
   "metadata": {
    "ExecuteTime": {
     "end_time": "2023-02-25T11:20:24.591295Z",
     "start_time": "2023-02-25T11:20:22.801660Z"
    }
   },
   "outputs": [],
   "source": [
    "import os\n",
    "import math\n",
    "import numpy as np\n",
    "import pandas as pd\n",
    "from scipy.stats import pearsonr\n",
    "from sklearn.metrics import pairwise_distances\n",
    "from sklearn.preprocessing import MinMaxScaler\n",
    "from sklearn.metrics.pairwise import cosine_similarity"
   ]
  },
  {
   "cell_type": "code",
   "execution_count": 4,
   "id": "f76840ed",
   "metadata": {
    "ExecuteTime": {
     "end_time": "2023-02-25T11:27:43.806742Z",
     "start_time": "2023-02-25T11:27:21.624333Z"
    }
   },
   "outputs": [
    {
     "name": "stdout",
     "output_type": "stream",
     "text": [
      "What is the user's age (in years): 66\n",
      "Enter the number of columns you want to update (minimum 3, maximum 45): 3\n",
      "Enter the name of the Feature 1: UPSIT\n",
      "Enter the score of the Feature 1: 31\n",
      "Enter the name of the Feature 2: Clock\n",
      "Enter the score of the Feature 2: 4\n",
      "Enter the name of the Feature 3: Pain\n",
      "Enter the score of the Feature 3: 2\n",
      "The user might fall under category of Healthy\n"
     ]
    },
    {
     "name": "stderr",
     "output_type": "stream",
     "text": [
      "C:\\Users\\system 4\\AppData\\Local\\Temp\\ipykernel_9568\\3086389099.py:67: SettingWithCopyWarning: \n",
      "A value is trying to be set on a copy of a slice from a DataFrame\n",
      "\n",
      "See the caveats in the documentation: https://pandas.pydata.org/pandas-docs/stable/user_guide/indexing.html#returning-a-view-versus-a-copy\n",
      "  curr_user_similarity1.rename(columns={'index': 'Index_Column'}, inplace=True)\n",
      "C:\\Users\\system 4\\AppData\\Local\\Temp\\ipykernel_9568\\3086389099.py:75: SettingWithCopyWarning: \n",
      "A value is trying to be set on a copy of a slice from a DataFrame.\n",
      "Try using .loc[row_indexer,col_indexer] = value instead\n",
      "\n",
      "See the caveats in the documentation: https://pandas.pydata.org/pandas-docs/stable/user_guide/indexing.html#returning-a-view-versus-a-copy\n",
      "  curr_user_similarity1['Patient_Type'] = curr_user_similarity1['Patient_ID'].apply(categorize)\n"
     ]
    }
   ],
   "source": [
    "os.chdir ('Z:\\PPMI_Data\\Excels\\CollaborativeFiltering')\n",
    "df = pd.read_csv('Feats45_unCategAge_APPRDX.csv')\n",
    "df1 = df.drop(['PATNO','APPRDX'], axis = 1)\n",
    "df2 = pd.read_csv('NonMotor_Empty.csv')\n",
    "df3 = df2.drop('Patient_ID', axis = 1)\n",
    "new_age = int(input(\"What is the user's age (in years): \"))\n",
    "df3.at[0, 'Age'] = new_age\n",
    "col_age = df3.pop('Age')\n",
    "df3.insert(0, \"Age\", col_age)\n",
    "\n",
    "def update_values(df3):\n",
    "    # Input from the user for number of columns\n",
    "    num_columns = int(input(\"Enter the number of columns you want to update (minimum 3, maximum 45): \"))\n",
    "    \n",
    "    while num_columns < 3 or num_columns > 45:\n",
    "        print(\"Invalid number of columns. Please enter a number between 3 and 45.\")\n",
    "        num_columns = int(input(\"Enter the number of columns you want to update (minimum 3, maximum 45): \"))\n",
    "    \n",
    "    columns = []\n",
    "    values = []\n",
    "     \n",
    "     # Loop to get input from the user for each column\n",
    "    for i in range(num_columns):\n",
    "        column = input(\"Enter the name of the Feature %d: \" % (i + 1))\n",
    "        value = input(\"Enter the score of the Feature %d: \" % (i + 1))\n",
    "        \n",
    "        columns.append(column)\n",
    "        values.append(int(value))\n",
    "    \n",
    "    # Update the values in the dataframe\n",
    "    for i in range(num_columns):\n",
    "        df3.loc[df3[columns[i]] != values[i], columns[i]] = values[i]\n",
    "    \n",
    "    return df3\n",
    "\n",
    "df3 = update_values(df3)\n",
    "df3.insert (0, 'Patient_ID', df2['Patient_ID'])\n",
    "merged_df = pd.concat ([df1, df3], axis = 0)\n",
    "merged_df.reset_index(inplace = True)\n",
    "merged_df1 = merged_df.drop(['index','Patient_ID'], axis = 1)\n",
    "scaler = MinMaxScaler (feature_range = (1,5))\n",
    "df_scaled = scaler.fit_transform(merged_df1)\n",
    "df_scaled = pd.DataFrame (df_scaled, columns = merged_df1.columns)\n",
    "df_scaled.insert (0, 'Patient_ID', merged_df['Patient_ID'], True)\n",
    "df_melted = df_scaled.melt(id_vars='Patient_ID', var_name='Feature', value_name='Value')\n",
    "feat_rating_count = df_melted.groupby('Patient_ID')['Value'].count()\n",
    "feat_rating_count = pd.DataFrame(feat_rating_count)\n",
    "feat_rating_count.columns = ['Value_count']\n",
    "feat_rating_count['Patient_ID'] = feat_rating_count.index\n",
    "feat_rating_count = feat_rating_count.reset_index(drop=True)\n",
    "dframe = df_melted.merge(feat_rating_count, on = 'Patient_ID', how = 'inner')\n",
    "RatingMat = dframe.pivot_table(index=['Patient_ID'],columns=['Feature'],values=['Value'],fill_value=0)\n",
    "Original_RatingMat = RatingMat.copy()\n",
    "RatingMat.columns = RatingMat.columns.droplevel()\n",
    "RatingMat_centered = RatingMat.sub(RatingMat.mean(axis=1), axis=0)\n",
    "user_similarity = cosine_similarity(RatingMat_centered)\n",
    "user_sim_df = pd.DataFrame(user_similarity, index=RatingMat.index, columns=RatingMat.index)\n",
    "user_Eucsimilarity = 1 - pairwise_distances(RatingMat, metric=\"euclidean\")\n",
    "user_Eucsim_df = pd.DataFrame(user_Eucsimilarity, index=RatingMat.index, columns=RatingMat.index)\n",
    "current_user_rating = dframe[(dframe.Patient_ID == 999) & (dframe.Value != 0)]['Feature']\n",
    "current_user_rating = pd.DataFrame(current_user_rating, columns=['Feature'])\n",
    "curr_user_similarity = pd.DataFrame(user_sim_df.loc[999])\n",
    "curr_user_similarity.rename(columns={999:'Similarity_Score'},inplace=True)\n",
    "curr_user_similarity.sort_values(by='Similarity_Score', ascending=False, inplace=True)\n",
    "curr_user_similarity1 = curr_user_similarity.iloc[1:, :]\n",
    "curr_user_similarity1.reset_index(inplace=True)\n",
    "curr_user_similarity1.rename(columns={'index': 'Index_Column'}, inplace=True)\n",
    "\n",
    "def categorize(x):\n",
    "    if x < 165:\n",
    "        return 'Patient'\n",
    "    else:\n",
    "        return 'Healthy'\n",
    "\n",
    "curr_user_similarity1['Patient_Type'] = curr_user_similarity1['Patient_ID'].apply(categorize)\n",
    "similar_user = curr_user_similarity1.iloc[:5, :]\n",
    "counts = similar_user['Patient_Type'].value_counts()\n",
    "most_occurring_value = counts.index[0]\n",
    "print(\"The user might fall under category of\", most_occurring_value)"
   ]
  },
  {
   "cell_type": "markdown",
   "id": "19ba42ac",
   "metadata": {},
   "source": [
    "### Predicting Scoring of user: Top users of its category"
   ]
  },
  {
   "cell_type": "code",
   "execution_count": 26,
   "id": "22c9ceb7",
   "metadata": {
    "ExecuteTime": {
     "end_time": "2023-02-16T17:44:25.443665Z",
     "start_time": "2023-02-16T17:44:25.374647Z"
    }
   },
   "outputs": [],
   "source": [
    "select_simil_user = similar_user.loc[similar_user['Patient_Type'] == most_occurring_value]\n",
    "df_simil = df1[df1['Patient_ID'].isin(select_simil_user['Patient_ID'])]\n",
    "similar_user = similar_user.drop(['Patient_Type'], axis=1)\n",
    "df_score = pd.merge(similar_user, df_simil, on = 'Patient_ID', how = 'inner')\n",
    "X = df_simil\n",
    "Y = df3.drop(['Patient_ID', 'Age'], axis = 1)\n",
    "weights = df_score.iloc[:, 1]\n",
    "values = X.iloc[:, 2:]\n",
    "weighted_avg_cols = np.average(values, axis=0, weights=weights)\n",
    "fill_values = {col: val for col, val in zip(Y.columns, weighted_avg_cols)}\n",
    "Y = Y.fillna(fill_values)\n",
    "col_Age = df3.pop('Age')\n",
    "Y.insert(0, 'Age', col_Age)\n",
    "Y"
   ]
  },
  {
   "cell_type": "code",
   "execution_count": null,
   "id": "f0a755aa",
   "metadata": {},
   "outputs": [],
   "source": []
  }
 ],
 "metadata": {
  "kernelspec": {
   "display_name": "Python 3 (ipykernel)",
   "language": "python",
   "name": "python3"
  },
  "language_info": {
   "codemirror_mode": {
    "name": "ipython",
    "version": 3
   },
   "file_extension": ".py",
   "mimetype": "text/x-python",
   "name": "python",
   "nbconvert_exporter": "python",
   "pygments_lexer": "ipython3",
   "version": "3.9.16"
  },
  "toc": {
   "base_numbering": 1,
   "nav_menu": {},
   "number_sections": true,
   "sideBar": true,
   "skip_h1_title": false,
   "title_cell": "Table of Contents",
   "title_sidebar": "Contents",
   "toc_cell": false,
   "toc_position": {},
   "toc_section_display": true,
   "toc_window_display": false
  },
  "varInspector": {
   "cols": {
    "lenName": 16,
    "lenType": 16,
    "lenVar": 40
   },
   "kernels_config": {
    "python": {
     "delete_cmd_postfix": "",
     "delete_cmd_prefix": "del ",
     "library": "var_list.py",
     "varRefreshCmd": "print(var_dic_list())"
    },
    "r": {
     "delete_cmd_postfix": ") ",
     "delete_cmd_prefix": "rm(",
     "library": "var_list.r",
     "varRefreshCmd": "cat(var_dic_list()) "
    }
   },
   "types_to_exclude": [
    "module",
    "function",
    "builtin_function_or_method",
    "instance",
    "_Feature"
   ],
   "window_display": false
  }
 },
 "nbformat": 4,
 "nbformat_minor": 5
}
