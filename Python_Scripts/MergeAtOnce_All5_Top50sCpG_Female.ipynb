{
 "cells": [
  {
   "cell_type": "code",
   "execution_count": 9,
   "id": "19e8148d",
   "metadata": {
    "ExecuteTime": {
     "end_time": "2023-03-31T10:07:50.508783Z",
     "start_time": "2023-03-31T10:07:50.493122Z"
    }
   },
   "outputs": [
    {
     "name": "stdout",
     "output_type": "stream",
     "text": [
      "Z:\\PPMI_Data\\Excels\\NonMotors\\The251\\Female\\GeneCpG\\Xtras\\Top50_eachFeats\n"
     ]
    }
   ],
   "source": [
    "import pandas as pd\n",
    "from functools import reduce\n",
    "%cd Z:\\PPMI_Data\\Excels\\NonMotors\\The251\\Female\\GeneCpG\\Xtras\\Top50_eachFeats"
   ]
  },
  {
   "cell_type": "code",
   "execution_count": 10,
   "id": "a19b7618",
   "metadata": {
    "ExecuteTime": {
     "end_time": "2023-03-31T10:07:51.226684Z",
     "start_time": "2023-03-31T10:07:51.211117Z"
    }
   },
   "outputs": [],
   "source": [
    "files = ['Cognition_Boruta_Top50_Data_Female.csv','Constipation_Boruta_Top50_Data_Female.csv',\n",
    "        'Gastro_Boruta_Top50_Data_Female.csv','NMI_Top50_Pain_Methylome_Female.csv',\n",
    "        'NMI_Top50_UPSIT_Methylome_Female.csv']\n",
    "# Loading all the files at once"
   ]
  },
  {
   "cell_type": "code",
   "execution_count": 11,
   "id": "d4adec7a",
   "metadata": {
    "ExecuteTime": {
     "end_time": "2023-03-31T10:07:51.812819Z",
     "start_time": "2023-03-31T10:07:51.743768Z"
    }
   },
   "outputs": [
    {
     "name": "stdout",
     "output_type": "stream",
     "text": [
      "(150, 252)\n"
     ]
    },
    {
     "data": {
      "text/html": [
       "<div>\n",
       "<style scoped>\n",
       "    .dataframe tbody tr th:only-of-type {\n",
       "        vertical-align: middle;\n",
       "    }\n",
       "\n",
       "    .dataframe tbody tr th {\n",
       "        vertical-align: top;\n",
       "    }\n",
       "\n",
       "    .dataframe thead th {\n",
       "        text-align: right;\n",
       "    }\n",
       "</style>\n",
       "<table border=\"1\" class=\"dataframe\">\n",
       "  <thead>\n",
       "    <tr style=\"text-align: right;\">\n",
       "      <th></th>\n",
       "      <th>PATNO</th>\n",
       "      <th>APPRDX</th>\n",
       "      <th>cg11668199</th>\n",
       "      <th>cg04983473</th>\n",
       "      <th>cg25943702</th>\n",
       "      <th>cg12845419_x</th>\n",
       "      <th>cg01620849</th>\n",
       "      <th>cg22210403</th>\n",
       "      <th>cg21241862</th>\n",
       "      <th>cg19030090</th>\n",
       "      <th>...</th>\n",
       "      <th>cg14548871</th>\n",
       "      <th>cg04721557</th>\n",
       "      <th>cg17218282</th>\n",
       "      <th>cg20471798</th>\n",
       "      <th>cg04948892</th>\n",
       "      <th>cg12751142</th>\n",
       "      <th>cg17957325</th>\n",
       "      <th>cg13520090</th>\n",
       "      <th>cg05538980</th>\n",
       "      <th>cg18580385</th>\n",
       "    </tr>\n",
       "  </thead>\n",
       "  <tbody>\n",
       "    <tr>\n",
       "      <th>0</th>\n",
       "      <td>3002</td>\n",
       "      <td>1</td>\n",
       "      <td>0.045694</td>\n",
       "      <td>0.924158</td>\n",
       "      <td>0.908038</td>\n",
       "      <td>0.518718</td>\n",
       "      <td>0.033501</td>\n",
       "      <td>0.07147</td>\n",
       "      <td>0.904030</td>\n",
       "      <td>0.917645</td>\n",
       "      <td>...</td>\n",
       "      <td>0.027095</td>\n",
       "      <td>0.939462</td>\n",
       "      <td>0.767832</td>\n",
       "      <td>0.845091</td>\n",
       "      <td>0.156538</td>\n",
       "      <td>0.510861</td>\n",
       "      <td>0.922070</td>\n",
       "      <td>0.877443</td>\n",
       "      <td>0.792984</td>\n",
       "      <td>0.895246</td>\n",
       "    </tr>\n",
       "    <tr>\n",
       "      <th>1</th>\n",
       "      <td>3003</td>\n",
       "      <td>1</td>\n",
       "      <td>0.050506</td>\n",
       "      <td>0.929821</td>\n",
       "      <td>0.928079</td>\n",
       "      <td>0.548928</td>\n",
       "      <td>0.032749</td>\n",
       "      <td>0.06974</td>\n",
       "      <td>0.914086</td>\n",
       "      <td>0.889673</td>\n",
       "      <td>...</td>\n",
       "      <td>0.018183</td>\n",
       "      <td>0.939685</td>\n",
       "      <td>0.778352</td>\n",
       "      <td>0.820209</td>\n",
       "      <td>0.150134</td>\n",
       "      <td>0.622603</td>\n",
       "      <td>0.929889</td>\n",
       "      <td>0.778461</td>\n",
       "      <td>0.763160</td>\n",
       "      <td>0.887588</td>\n",
       "    </tr>\n",
       "  </tbody>\n",
       "</table>\n",
       "<p>2 rows × 252 columns</p>\n",
       "</div>"
      ],
      "text/plain": [
       "   PATNO  APPRDX  cg11668199  cg04983473  cg25943702  cg12845419_x  \\\n",
       "0   3002       1    0.045694    0.924158    0.908038      0.518718   \n",
       "1   3003       1    0.050506    0.929821    0.928079      0.548928   \n",
       "\n",
       "   cg01620849  cg22210403  cg21241862  cg19030090  ...  cg14548871  \\\n",
       "0    0.033501     0.07147    0.904030    0.917645  ...    0.027095   \n",
       "1    0.032749     0.06974    0.914086    0.889673  ...    0.018183   \n",
       "\n",
       "   cg04721557  cg17218282  cg20471798  cg04948892  cg12751142  cg17957325  \\\n",
       "0    0.939462    0.767832    0.845091    0.156538    0.510861    0.922070   \n",
       "1    0.939685    0.778352    0.820209    0.150134    0.622603    0.929889   \n",
       "\n",
       "   cg13520090  cg05538980  cg18580385  \n",
       "0    0.877443    0.792984    0.895246  \n",
       "1    0.778461    0.763160    0.887588  \n",
       "\n",
       "[2 rows x 252 columns]"
      ]
     },
     "execution_count": 11,
     "metadata": {},
     "output_type": "execute_result"
    }
   ],
   "source": [
    "df = reduce(lambda l,r: l.merge(r, on='PATNO'), [pd.read_csv(f) for f in files])\n",
    "# The above command merge all the files having one common column\n",
    "df = df.loc[:,~df.columns.duplicated()].copy()\n",
    "print(df.shape)\n",
    "df.head(2)"
   ]
  },
  {
   "cell_type": "code",
   "execution_count": 12,
   "id": "bfc711aa",
   "metadata": {
    "ExecuteTime": {
     "end_time": "2023-03-31T10:07:54.189721Z",
     "start_time": "2023-03-31T10:07:54.151951Z"
    }
   },
   "outputs": [
    {
     "name": "stdout",
     "output_type": "stream",
     "text": [
      "(150, 230)\n"
     ]
    },
    {
     "data": {
      "text/html": [
       "<div>\n",
       "<style scoped>\n",
       "    .dataframe tbody tr th:only-of-type {\n",
       "        vertical-align: middle;\n",
       "    }\n",
       "\n",
       "    .dataframe tbody tr th {\n",
       "        vertical-align: top;\n",
       "    }\n",
       "\n",
       "    .dataframe thead th {\n",
       "        text-align: right;\n",
       "    }\n",
       "</style>\n",
       "<table border=\"1\" class=\"dataframe\">\n",
       "  <thead>\n",
       "    <tr style=\"text-align: right;\">\n",
       "      <th></th>\n",
       "      <th>PATNO</th>\n",
       "      <th>APPRDX</th>\n",
       "      <th>cg11668199</th>\n",
       "      <th>cg04983473</th>\n",
       "      <th>cg25943702</th>\n",
       "      <th>cg01620849</th>\n",
       "      <th>cg22210403</th>\n",
       "      <th>cg21241862</th>\n",
       "      <th>cg19030090</th>\n",
       "      <th>cg02232418</th>\n",
       "      <th>...</th>\n",
       "      <th>cg14548871</th>\n",
       "      <th>cg04721557</th>\n",
       "      <th>cg17218282</th>\n",
       "      <th>cg20471798</th>\n",
       "      <th>cg04948892</th>\n",
       "      <th>cg12751142</th>\n",
       "      <th>cg17957325</th>\n",
       "      <th>cg13520090</th>\n",
       "      <th>cg05538980</th>\n",
       "      <th>cg18580385</th>\n",
       "    </tr>\n",
       "  </thead>\n",
       "  <tbody>\n",
       "    <tr>\n",
       "      <th>0</th>\n",
       "      <td>3002</td>\n",
       "      <td>1</td>\n",
       "      <td>0.045694</td>\n",
       "      <td>0.924158</td>\n",
       "      <td>0.908038</td>\n",
       "      <td>0.033501</td>\n",
       "      <td>0.07147</td>\n",
       "      <td>0.904030</td>\n",
       "      <td>0.917645</td>\n",
       "      <td>0.830685</td>\n",
       "      <td>...</td>\n",
       "      <td>0.027095</td>\n",
       "      <td>0.939462</td>\n",
       "      <td>0.767832</td>\n",
       "      <td>0.845091</td>\n",
       "      <td>0.156538</td>\n",
       "      <td>0.510861</td>\n",
       "      <td>0.922070</td>\n",
       "      <td>0.877443</td>\n",
       "      <td>0.792984</td>\n",
       "      <td>0.895246</td>\n",
       "    </tr>\n",
       "    <tr>\n",
       "      <th>1</th>\n",
       "      <td>3003</td>\n",
       "      <td>1</td>\n",
       "      <td>0.050506</td>\n",
       "      <td>0.929821</td>\n",
       "      <td>0.928079</td>\n",
       "      <td>0.032749</td>\n",
       "      <td>0.06974</td>\n",
       "      <td>0.914086</td>\n",
       "      <td>0.889673</td>\n",
       "      <td>0.768925</td>\n",
       "      <td>...</td>\n",
       "      <td>0.018183</td>\n",
       "      <td>0.939685</td>\n",
       "      <td>0.778352</td>\n",
       "      <td>0.820209</td>\n",
       "      <td>0.150134</td>\n",
       "      <td>0.622603</td>\n",
       "      <td>0.929889</td>\n",
       "      <td>0.778461</td>\n",
       "      <td>0.763160</td>\n",
       "      <td>0.887588</td>\n",
       "    </tr>\n",
       "  </tbody>\n",
       "</table>\n",
       "<p>2 rows × 230 columns</p>\n",
       "</div>"
      ],
      "text/plain": [
       "   PATNO  APPRDX  cg11668199  cg04983473  cg25943702  cg01620849  cg22210403  \\\n",
       "0   3002       1    0.045694    0.924158    0.908038    0.033501     0.07147   \n",
       "1   3003       1    0.050506    0.929821    0.928079    0.032749     0.06974   \n",
       "\n",
       "   cg21241862  cg19030090  cg02232418  ...  cg14548871  cg04721557  \\\n",
       "0    0.904030    0.917645    0.830685  ...    0.027095    0.939462   \n",
       "1    0.914086    0.889673    0.768925  ...    0.018183    0.939685   \n",
       "\n",
       "   cg17218282  cg20471798  cg04948892  cg12751142  cg17957325  cg13520090  \\\n",
       "0    0.767832    0.845091    0.156538    0.510861    0.922070    0.877443   \n",
       "1    0.778352    0.820209    0.150134    0.622603    0.929889    0.778461   \n",
       "\n",
       "   cg05538980  cg18580385  \n",
       "0    0.792984    0.895246  \n",
       "1    0.763160    0.887588  \n",
       "\n",
       "[2 rows x 230 columns]"
      ]
     },
     "execution_count": 12,
     "metadata": {},
     "output_type": "execute_result"
    }
   ],
   "source": [
    "df = df[df.columns.drop(list(df.filter(regex='_x')))]\n",
    "df = df[df.columns.drop(list(df.filter(regex='_y')))]\n",
    "print(df.shape)\n",
    "df.head(2)"
   ]
  },
  {
   "cell_type": "code",
   "execution_count": 13,
   "id": "821d2ed5",
   "metadata": {
    "ExecuteTime": {
     "end_time": "2023-03-31T10:08:26.990231Z",
     "start_time": "2023-03-31T10:08:26.936832Z"
    }
   },
   "outputs": [],
   "source": [
    "df.to_csv('All5_Top50sCpG_Female.csv', index = False)"
   ]
  },
  {
   "cell_type": "code",
   "execution_count": null,
   "id": "ae959d96",
   "metadata": {},
   "outputs": [],
   "source": []
  }
 ],
 "metadata": {
  "kernelspec": {
   "display_name": "Python 3 (ipykernel)",
   "language": "python",
   "name": "python3"
  },
  "language_info": {
   "codemirror_mode": {
    "name": "ipython",
    "version": 3
   },
   "file_extension": ".py",
   "mimetype": "text/x-python",
   "name": "python",
   "nbconvert_exporter": "python",
   "pygments_lexer": "ipython3",
   "version": "3.9.16"
  },
  "toc": {
   "base_numbering": 1,
   "nav_menu": {},
   "number_sections": true,
   "sideBar": true,
   "skip_h1_title": false,
   "title_cell": "Table of Contents",
   "title_sidebar": "Contents",
   "toc_cell": false,
   "toc_position": {},
   "toc_section_display": true,
   "toc_window_display": false
  },
  "varInspector": {
   "cols": {
    "lenName": 16,
    "lenType": 16,
    "lenVar": 40
   },
   "kernels_config": {
    "python": {
     "delete_cmd_postfix": "",
     "delete_cmd_prefix": "del ",
     "library": "var_list.py",
     "varRefreshCmd": "print(var_dic_list())"
    },
    "r": {
     "delete_cmd_postfix": ") ",
     "delete_cmd_prefix": "rm(",
     "library": "var_list.r",
     "varRefreshCmd": "cat(var_dic_list()) "
    }
   },
   "types_to_exclude": [
    "module",
    "function",
    "builtin_function_or_method",
    "instance",
    "_Feature"
   ],
   "window_display": false
  }
 },
 "nbformat": 4,
 "nbformat_minor": 5
}
