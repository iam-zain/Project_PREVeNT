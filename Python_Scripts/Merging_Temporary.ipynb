{
 "cells": [
  {
   "cell_type": "code",
   "execution_count": 1,
   "id": "56c76844",
   "metadata": {
    "ExecuteTime": {
     "end_time": "2023-02-09T06:03:02.967258Z",
     "start_time": "2023-02-09T06:03:02.512771Z"
    }
   },
   "outputs": [],
   "source": [
    "import numpy as np\n",
    "import pandas as pd"
   ]
  },
  {
   "cell_type": "code",
   "execution_count": 2,
   "id": "a90e89ac",
   "metadata": {
    "ExecuteTime": {
     "end_time": "2023-02-09T06:03:03.045351Z",
     "start_time": "2023-02-09T06:03:03.014101Z"
    }
   },
   "outputs": [
    {
     "name": "stdout",
     "output_type": "stream",
     "text": [
      "Z:\\PPMI_Data\\Excels\\CollaborativeFiltering\n",
      "(458, 5)\n"
     ]
    },
    {
     "data": {
      "text/html": [
       "<div>\n",
       "<style scoped>\n",
       "    .dataframe tbody tr th:only-of-type {\n",
       "        vertical-align: middle;\n",
       "    }\n",
       "\n",
       "    .dataframe tbody tr th {\n",
       "        vertical-align: top;\n",
       "    }\n",
       "\n",
       "    .dataframe thead th {\n",
       "        text-align: right;\n",
       "    }\n",
       "</style>\n",
       "<table border=\"1\" class=\"dataframe\">\n",
       "  <thead>\n",
       "    <tr style=\"text-align: right;\">\n",
       "      <th></th>\n",
       "      <th>PATNO</th>\n",
       "      <th>Gender</th>\n",
       "      <th>HYS</th>\n",
       "      <th>AgeCate</th>\n",
       "      <th>Age</th>\n",
       "    </tr>\n",
       "  </thead>\n",
       "  <tbody>\n",
       "    <tr>\n",
       "      <th>0</th>\n",
       "      <td>3000</td>\n",
       "      <td>2</td>\n",
       "      <td>0</td>\n",
       "      <td>4</td>\n",
       "      <td>69.1</td>\n",
       "    </tr>\n",
       "    <tr>\n",
       "      <th>1</th>\n",
       "      <td>3001</td>\n",
       "      <td>1</td>\n",
       "      <td>2</td>\n",
       "      <td>4</td>\n",
       "      <td>65.1</td>\n",
       "    </tr>\n",
       "    <tr>\n",
       "      <th>2</th>\n",
       "      <td>3002</td>\n",
       "      <td>2</td>\n",
       "      <td>2</td>\n",
       "      <td>4</td>\n",
       "      <td>67.6</td>\n",
       "    </tr>\n",
       "  </tbody>\n",
       "</table>\n",
       "</div>"
      ],
      "text/plain": [
       "   PATNO  Gender  HYS  AgeCate   Age\n",
       "0   3000       2    0        4  69.1\n",
       "1   3001       1    2        4  65.1\n",
       "2   3002       2    2        4  67.6"
      ]
     },
     "execution_count": 2,
     "metadata": {},
     "output_type": "execute_result"
    }
   ],
   "source": [
    "%cd Z:\\PPMI_Data\\Excels\\CollaborativeFiltering\n",
    "df1 = pd.read_csv (\"PATNO_Gender_Age.csv\")\n",
    "print(df1.shape)\n",
    "df1.head(3)"
   ]
  },
  {
   "cell_type": "code",
   "execution_count": 3,
   "id": "60af41ce",
   "metadata": {
    "ExecuteTime": {
     "end_time": "2023-02-09T06:03:05.136369Z",
     "start_time": "2023-02-09T06:03:05.089548Z"
    }
   },
   "outputs": [
    {
     "name": "stdout",
     "output_type": "stream",
     "text": [
      "(250, 48)\n"
     ]
    },
    {
     "data": {
      "text/html": [
       "<div>\n",
       "<style scoped>\n",
       "    .dataframe tbody tr th:only-of-type {\n",
       "        vertical-align: middle;\n",
       "    }\n",
       "\n",
       "    .dataframe tbody tr th {\n",
       "        vertical-align: top;\n",
       "    }\n",
       "\n",
       "    .dataframe thead th {\n",
       "        text-align: right;\n",
       "    }\n",
       "</style>\n",
       "<table border=\"1\" class=\"dataframe\">\n",
       "  <thead>\n",
       "    <tr style=\"text-align: right;\">\n",
       "      <th></th>\n",
       "      <th>PATNO</th>\n",
       "      <th>APPRDX</th>\n",
       "      <th>Patient_ID</th>\n",
       "      <th>Anxiety</th>\n",
       "      <th>Apathy</th>\n",
       "      <th>Benton</th>\n",
       "      <th>Clock</th>\n",
       "      <th>Cognition</th>\n",
       "      <th>COGSTATE</th>\n",
       "      <th>Constipate</th>\n",
       "      <th>...</th>\n",
       "      <th>Semantic</th>\n",
       "      <th>SleepDay</th>\n",
       "      <th>SleepNight</th>\n",
       "      <th>STAIA</th>\n",
       "      <th>STAIS</th>\n",
       "      <th>Symbol_Digit</th>\n",
       "      <th>Trail_Making_A</th>\n",
       "      <th>Trail_Making_B</th>\n",
       "      <th>UPSIT</th>\n",
       "      <th>Urine</th>\n",
       "    </tr>\n",
       "  </thead>\n",
       "  <tbody>\n",
       "    <tr>\n",
       "      <th>0</th>\n",
       "      <td>3002</td>\n",
       "      <td>1</td>\n",
       "      <td>1</td>\n",
       "      <td>1</td>\n",
       "      <td>0</td>\n",
       "      <td>12.16</td>\n",
       "      <td>7</td>\n",
       "      <td>1</td>\n",
       "      <td>1</td>\n",
       "      <td>1</td>\n",
       "      <td>...</td>\n",
       "      <td>57</td>\n",
       "      <td>1</td>\n",
       "      <td>0</td>\n",
       "      <td>45</td>\n",
       "      <td>59</td>\n",
       "      <td>47.500000</td>\n",
       "      <td>110</td>\n",
       "      <td>204</td>\n",
       "      <td>17</td>\n",
       "      <td>1</td>\n",
       "    </tr>\n",
       "    <tr>\n",
       "      <th>1</th>\n",
       "      <td>3010</td>\n",
       "      <td>1</td>\n",
       "      <td>2</td>\n",
       "      <td>1</td>\n",
       "      <td>1</td>\n",
       "      <td>7.76</td>\n",
       "      <td>6</td>\n",
       "      <td>1</td>\n",
       "      <td>1</td>\n",
       "      <td>0</td>\n",
       "      <td>...</td>\n",
       "      <td>36</td>\n",
       "      <td>1</td>\n",
       "      <td>3</td>\n",
       "      <td>40</td>\n",
       "      <td>39</td>\n",
       "      <td>52.000000</td>\n",
       "      <td>27</td>\n",
       "      <td>52</td>\n",
       "      <td>9</td>\n",
       "      <td>0</td>\n",
       "    </tr>\n",
       "    <tr>\n",
       "      <th>2</th>\n",
       "      <td>3020</td>\n",
       "      <td>1</td>\n",
       "      <td>3</td>\n",
       "      <td>0</td>\n",
       "      <td>0</td>\n",
       "      <td>13.49</td>\n",
       "      <td>7</td>\n",
       "      <td>1</td>\n",
       "      <td>2</td>\n",
       "      <td>0</td>\n",
       "      <td>...</td>\n",
       "      <td>45</td>\n",
       "      <td>1</td>\n",
       "      <td>2</td>\n",
       "      <td>42</td>\n",
       "      <td>42</td>\n",
       "      <td>43.330002</td>\n",
       "      <td>90</td>\n",
       "      <td>252</td>\n",
       "      <td>26</td>\n",
       "      <td>0</td>\n",
       "    </tr>\n",
       "  </tbody>\n",
       "</table>\n",
       "<p>3 rows × 48 columns</p>\n",
       "</div>"
      ],
      "text/plain": [
       "   PATNO  APPRDX  Patient_ID  Anxiety  Apathy  Benton  Clock  Cognition  \\\n",
       "0   3002       1           1        1       0   12.16      7          1   \n",
       "1   3010       1           2        1       1    7.76      6          1   \n",
       "2   3020       1           3        0       0   13.49      7          1   \n",
       "\n",
       "   COGSTATE  Constipate  ...  Semantic  SleepDay  SleepNight  STAIA  STAIS  \\\n",
       "0         1           1  ...        57         1           0     45     59   \n",
       "1         1           0  ...        36         1           3     40     39   \n",
       "2         2           0  ...        45         1           2     42     42   \n",
       "\n",
       "   Symbol_Digit  Trail_Making_A  Trail_Making_B  UPSIT  Urine  \n",
       "0     47.500000             110             204     17      1  \n",
       "1     52.000000              27              52      9      0  \n",
       "2     43.330002              90             252     26      0  \n",
       "\n",
       "[3 rows x 48 columns]"
      ]
     },
     "execution_count": 3,
     "metadata": {},
     "output_type": "execute_result"
    }
   ],
   "source": [
    "df2 = pd.read_csv (\"Feats45_unCateg_APPRDX.csv\")\n",
    "print(df2.shape)\n",
    "df2.head(3)"
   ]
  },
  {
   "cell_type": "code",
   "execution_count": 4,
   "id": "a86f4db9",
   "metadata": {
    "ExecuteTime": {
     "end_time": "2023-02-09T06:03:12.979800Z",
     "start_time": "2023-02-09T06:03:12.948606Z"
    }
   },
   "outputs": [
    {
     "name": "stdout",
     "output_type": "stream",
     "text": [
      "(160, 52)\n"
     ]
    },
    {
     "data": {
      "text/html": [
       "<div>\n",
       "<style scoped>\n",
       "    .dataframe tbody tr th:only-of-type {\n",
       "        vertical-align: middle;\n",
       "    }\n",
       "\n",
       "    .dataframe tbody tr th {\n",
       "        vertical-align: top;\n",
       "    }\n",
       "\n",
       "    .dataframe thead th {\n",
       "        text-align: right;\n",
       "    }\n",
       "</style>\n",
       "<table border=\"1\" class=\"dataframe\">\n",
       "  <thead>\n",
       "    <tr style=\"text-align: right;\">\n",
       "      <th></th>\n",
       "      <th>PATNO</th>\n",
       "      <th>Gender</th>\n",
       "      <th>HYS</th>\n",
       "      <th>AgeCate</th>\n",
       "      <th>Age</th>\n",
       "      <th>APPRDX</th>\n",
       "      <th>Patient_ID</th>\n",
       "      <th>Anxiety</th>\n",
       "      <th>Apathy</th>\n",
       "      <th>Benton</th>\n",
       "      <th>...</th>\n",
       "      <th>Semantic</th>\n",
       "      <th>SleepDay</th>\n",
       "      <th>SleepNight</th>\n",
       "      <th>STAIA</th>\n",
       "      <th>STAIS</th>\n",
       "      <th>Symbol_Digit</th>\n",
       "      <th>Trail_Making_A</th>\n",
       "      <th>Trail_Making_B</th>\n",
       "      <th>UPSIT</th>\n",
       "      <th>Urine</th>\n",
       "    </tr>\n",
       "  </thead>\n",
       "  <tbody>\n",
       "    <tr>\n",
       "      <th>0</th>\n",
       "      <td>3002</td>\n",
       "      <td>2</td>\n",
       "      <td>2</td>\n",
       "      <td>4</td>\n",
       "      <td>67.6</td>\n",
       "      <td>1</td>\n",
       "      <td>1</td>\n",
       "      <td>1</td>\n",
       "      <td>0</td>\n",
       "      <td>12.16</td>\n",
       "      <td>...</td>\n",
       "      <td>57</td>\n",
       "      <td>1</td>\n",
       "      <td>0</td>\n",
       "      <td>45</td>\n",
       "      <td>59</td>\n",
       "      <td>47.500000</td>\n",
       "      <td>110</td>\n",
       "      <td>204</td>\n",
       "      <td>17</td>\n",
       "      <td>1</td>\n",
       "    </tr>\n",
       "    <tr>\n",
       "      <th>1</th>\n",
       "      <td>3008</td>\n",
       "      <td>2</td>\n",
       "      <td>0</td>\n",
       "      <td>5</td>\n",
       "      <td>81.9</td>\n",
       "      <td>2</td>\n",
       "      <td>165</td>\n",
       "      <td>1</td>\n",
       "      <td>0</td>\n",
       "      <td>11.52</td>\n",
       "      <td>...</td>\n",
       "      <td>52</td>\n",
       "      <td>1</td>\n",
       "      <td>2</td>\n",
       "      <td>51</td>\n",
       "      <td>45</td>\n",
       "      <td>41.669998</td>\n",
       "      <td>43</td>\n",
       "      <td>105</td>\n",
       "      <td>37</td>\n",
       "      <td>2</td>\n",
       "    </tr>\n",
       "  </tbody>\n",
       "</table>\n",
       "<p>2 rows × 52 columns</p>\n",
       "</div>"
      ],
      "text/plain": [
       "   PATNO  Gender  HYS  AgeCate   Age  APPRDX  Patient_ID  Anxiety  Apathy  \\\n",
       "0   3002       2    2        4  67.6       1           1        1       0   \n",
       "1   3008       2    0        5  81.9       2         165        1       0   \n",
       "\n",
       "   Benton  ...  Semantic  SleepDay  SleepNight  STAIA  STAIS  Symbol_Digit  \\\n",
       "0   12.16  ...        57         1           0     45     59     47.500000   \n",
       "1   11.52  ...        52         1           2     51     45     41.669998   \n",
       "\n",
       "   Trail_Making_A  Trail_Making_B  UPSIT  Urine  \n",
       "0             110             204     17      1  \n",
       "1              43             105     37      2  \n",
       "\n",
       "[2 rows x 52 columns]"
      ]
     },
     "execution_count": 4,
     "metadata": {},
     "output_type": "execute_result"
    }
   ],
   "source": [
    "df3 = pd.merge (df1, df2, on = 'PATNO', how = 'inner')\n",
    "print(df3.shape)\n",
    "df3.head(2)"
   ]
  },
  {
   "cell_type": "code",
   "execution_count": 12,
   "id": "77f9be29",
   "metadata": {
    "ExecuteTime": {
     "end_time": "2023-01-18T04:05:48.259668Z",
     "start_time": "2023-01-18T04:05:48.244068Z"
    }
   },
   "outputs": [],
   "source": [
    "df3.to_csv (\"Common6_TrailMakeB_DataHYS.csv\", index = False)"
   ]
  },
  {
   "cell_type": "markdown",
   "id": "abf0bf34",
   "metadata": {},
   "source": []
  },
  {
   "cell_type": "code",
   "execution_count": 13,
   "id": "6cf37cfb",
   "metadata": {
    "ExecuteTime": {
     "end_time": "2023-01-18T05:08:50.110320Z",
     "start_time": "2023-01-18T05:08:50.047807Z"
    }
   },
   "outputs": [
    {
     "name": "stdout",
     "output_type": "stream",
     "text": [
      "Z:\\PPMI_Data\\Excels\\NonMotors\\Derived250\\GeneCpG\\LexicalFluency\n",
      "(233, 7)\n"
     ]
    },
    {
     "data": {
      "text/html": [
       "<div>\n",
       "<style scoped>\n",
       "    .dataframe tbody tr th:only-of-type {\n",
       "        vertical-align: middle;\n",
       "    }\n",
       "\n",
       "    .dataframe tbody tr th {\n",
       "        vertical-align: top;\n",
       "    }\n",
       "\n",
       "    .dataframe thead th {\n",
       "        text-align: right;\n",
       "    }\n",
       "</style>\n",
       "<table border=\"1\" class=\"dataframe\">\n",
       "  <thead>\n",
       "    <tr style=\"text-align: right;\">\n",
       "      <th></th>\n",
       "      <th>PATNO</th>\n",
       "      <th>APPRDX</th>\n",
       "      <th>cg02471166</th>\n",
       "      <th>cg11492856</th>\n",
       "      <th>cg04001014</th>\n",
       "      <th>cg02618319</th>\n",
       "      <th>cg18504826</th>\n",
       "    </tr>\n",
       "  </thead>\n",
       "  <tbody>\n",
       "    <tr>\n",
       "      <th>0</th>\n",
       "      <td>3000</td>\n",
       "      <td>2</td>\n",
       "      <td>0.601775</td>\n",
       "      <td>0.921944</td>\n",
       "      <td>0.036511</td>\n",
       "      <td>0.981089</td>\n",
       "      <td>0.923461</td>\n",
       "    </tr>\n",
       "    <tr>\n",
       "      <th>1</th>\n",
       "      <td>3001</td>\n",
       "      <td>1</td>\n",
       "      <td>0.804546</td>\n",
       "      <td>0.911869</td>\n",
       "      <td>0.038820</td>\n",
       "      <td>0.977055</td>\n",
       "      <td>0.912524</td>\n",
       "    </tr>\n",
       "    <tr>\n",
       "      <th>2</th>\n",
       "      <td>3002</td>\n",
       "      <td>1</td>\n",
       "      <td>0.734715</td>\n",
       "      <td>0.927646</td>\n",
       "      <td>0.042524</td>\n",
       "      <td>0.980235</td>\n",
       "      <td>0.924475</td>\n",
       "    </tr>\n",
       "  </tbody>\n",
       "</table>\n",
       "</div>"
      ],
      "text/plain": [
       "   PATNO  APPRDX  cg02471166  cg11492856  cg04001014  cg02618319  cg18504826\n",
       "0   3000       2    0.601775    0.921944    0.036511    0.981089    0.923461\n",
       "1   3001       1    0.804546    0.911869    0.038820    0.977055    0.912524\n",
       "2   3002       1    0.734715    0.927646    0.042524    0.980235    0.924475"
      ]
     },
     "execution_count": 13,
     "metadata": {},
     "output_type": "execute_result"
    }
   ],
   "source": [
    "%cd Z:\\PPMI_Data\\Excels\\NonMotors\\Derived250\\GeneCpG\\LexicalFluency\n",
    "df2 = pd.read_csv (\"Common5_Lexical_Data.csv\")\n",
    "print(df2.shape)\n",
    "df2.head(3)"
   ]
  },
  {
   "cell_type": "code",
   "execution_count": 14,
   "id": "90152760",
   "metadata": {
    "ExecuteTime": {
     "end_time": "2023-01-18T05:09:09.625207Z",
     "start_time": "2023-01-18T05:09:09.603064Z"
    }
   },
   "outputs": [
    {
     "name": "stdout",
     "output_type": "stream",
     "text": [
      "(233, 8)\n",
      "   PATNO  HYS  APPRDX  cg02471166  cg11492856  cg04001014  cg02618319  \\\n",
      "0   3000    0       2    0.601775    0.921944    0.036511    0.981089   \n",
      "1   3001    2       1    0.804546    0.911869    0.038820    0.977055   \n",
      "\n",
      "   cg18504826  \n",
      "0    0.923461  \n",
      "1    0.912524  \n"
     ]
    }
   ],
   "source": [
    "df3 = pd.merge (df1, df2, on = 'PATNO', how = 'inner')\n",
    "print(df3.shape)\n",
    "print(df3.head(2))\n",
    "df3.to_csv (\"Common5_Lexical_DataHYS.csv\", index = False)"
   ]
  },
  {
   "cell_type": "markdown",
   "id": "d85adcb8",
   "metadata": {},
   "source": []
  },
  {
   "cell_type": "code",
   "execution_count": 15,
   "id": "4f080c69",
   "metadata": {
    "ExecuteTime": {
     "end_time": "2023-01-18T05:24:55.379757Z",
     "start_time": "2023-01-18T05:24:55.317249Z"
    }
   },
   "outputs": [
    {
     "name": "stdout",
     "output_type": "stream",
     "text": [
      "Z:\\PPMI_Data\\Excels\\NonMotors\\Derived250\\GeneCpG\\LetterNumber\n",
      "(458, 6)\n"
     ]
    },
    {
     "data": {
      "text/html": [
       "<div>\n",
       "<style scoped>\n",
       "    .dataframe tbody tr th:only-of-type {\n",
       "        vertical-align: middle;\n",
       "    }\n",
       "\n",
       "    .dataframe tbody tr th {\n",
       "        vertical-align: top;\n",
       "    }\n",
       "\n",
       "    .dataframe thead th {\n",
       "        text-align: right;\n",
       "    }\n",
       "</style>\n",
       "<table border=\"1\" class=\"dataframe\">\n",
       "  <thead>\n",
       "    <tr style=\"text-align: right;\">\n",
       "      <th></th>\n",
       "      <th>PATNO</th>\n",
       "      <th>APPRDX</th>\n",
       "      <th>cg03424478</th>\n",
       "      <th>cg06650206</th>\n",
       "      <th>cg12298429</th>\n",
       "      <th>cg12046288</th>\n",
       "    </tr>\n",
       "  </thead>\n",
       "  <tbody>\n",
       "    <tr>\n",
       "      <th>0</th>\n",
       "      <td>3000</td>\n",
       "      <td>2</td>\n",
       "      <td>0.028517</td>\n",
       "      <td>0.920542</td>\n",
       "      <td>0.045533</td>\n",
       "      <td>0.017441</td>\n",
       "    </tr>\n",
       "    <tr>\n",
       "      <th>1</th>\n",
       "      <td>3001</td>\n",
       "      <td>1</td>\n",
       "      <td>0.030953</td>\n",
       "      <td>0.878158</td>\n",
       "      <td>0.032801</td>\n",
       "      <td>0.019627</td>\n",
       "    </tr>\n",
       "    <tr>\n",
       "      <th>2</th>\n",
       "      <td>3002</td>\n",
       "      <td>1</td>\n",
       "      <td>0.030566</td>\n",
       "      <td>0.903557</td>\n",
       "      <td>0.029017</td>\n",
       "      <td>0.018174</td>\n",
       "    </tr>\n",
       "  </tbody>\n",
       "</table>\n",
       "</div>"
      ],
      "text/plain": [
       "   PATNO  APPRDX  cg03424478  cg06650206  cg12298429  cg12046288\n",
       "0   3000       2    0.028517    0.920542    0.045533    0.017441\n",
       "1   3001       1    0.030953    0.878158    0.032801    0.019627\n",
       "2   3002       1    0.030566    0.903557    0.029017    0.018174"
      ]
     },
     "execution_count": 15,
     "metadata": {},
     "output_type": "execute_result"
    }
   ],
   "source": [
    "%cd Z:\\PPMI_Data\\Excels\\NonMotors\\Derived250\\GeneCpG\\LetterNumber\n",
    "df2 = pd.read_csv (\"Common4_LetterNumber_Data.csv\")\n",
    "print(df2.shape)\n",
    "df2.head(3)"
   ]
  },
  {
   "cell_type": "code",
   "execution_count": 16,
   "id": "d5254f81",
   "metadata": {
    "ExecuteTime": {
     "end_time": "2023-01-18T05:25:05.466604Z",
     "start_time": "2023-01-18T05:25:05.428889Z"
    }
   },
   "outputs": [
    {
     "name": "stdout",
     "output_type": "stream",
     "text": [
      "(458, 7)\n",
      "   PATNO  HYS  APPRDX  cg03424478  cg06650206  cg12298429  cg12046288\n",
      "0   3000    0       2    0.028517    0.920542    0.045533    0.017441\n",
      "1   3001    2       1    0.030953    0.878158    0.032801    0.019627\n"
     ]
    }
   ],
   "source": [
    "df3 = pd.merge (df1, df2, on = 'PATNO', how = 'inner')\n",
    "print(df3.shape)\n",
    "print(df3.head(2))\n",
    "df3.to_csv (\"Common4_LetterNumber_DataHYS.csv\", index = False)"
   ]
  },
  {
   "cell_type": "markdown",
   "id": "99854470",
   "metadata": {},
   "source": []
  },
  {
   "cell_type": "code",
   "execution_count": 17,
   "id": "a24a8742",
   "metadata": {
    "ExecuteTime": {
     "end_time": "2023-01-18T05:41:36.424410Z",
     "start_time": "2023-01-18T05:41:36.377566Z"
    }
   },
   "outputs": [
    {
     "name": "stdout",
     "output_type": "stream",
     "text": [
      "Z:\\PPMI_Data\\Excels\\NonMotors\\Derived250\\GeneCpG\\Gastro\n",
      "(458, 3)\n"
     ]
    },
    {
     "data": {
      "text/html": [
       "<div>\n",
       "<style scoped>\n",
       "    .dataframe tbody tr th:only-of-type {\n",
       "        vertical-align: middle;\n",
       "    }\n",
       "\n",
       "    .dataframe tbody tr th {\n",
       "        vertical-align: top;\n",
       "    }\n",
       "\n",
       "    .dataframe thead th {\n",
       "        text-align: right;\n",
       "    }\n",
       "</style>\n",
       "<table border=\"1\" class=\"dataframe\">\n",
       "  <thead>\n",
       "    <tr style=\"text-align: right;\">\n",
       "      <th></th>\n",
       "      <th>PATNO</th>\n",
       "      <th>APPRDX</th>\n",
       "      <th>cg21921473</th>\n",
       "    </tr>\n",
       "  </thead>\n",
       "  <tbody>\n",
       "    <tr>\n",
       "      <th>0</th>\n",
       "      <td>3000</td>\n",
       "      <td>2</td>\n",
       "      <td>0.807672</td>\n",
       "    </tr>\n",
       "    <tr>\n",
       "      <th>1</th>\n",
       "      <td>3001</td>\n",
       "      <td>1</td>\n",
       "      <td>0.832439</td>\n",
       "    </tr>\n",
       "    <tr>\n",
       "      <th>2</th>\n",
       "      <td>3002</td>\n",
       "      <td>1</td>\n",
       "      <td>0.906036</td>\n",
       "    </tr>\n",
       "  </tbody>\n",
       "</table>\n",
       "</div>"
      ],
      "text/plain": [
       "   PATNO  APPRDX  cg21921473\n",
       "0   3000       2    0.807672\n",
       "1   3001       1    0.832439\n",
       "2   3002       1    0.906036"
      ]
     },
     "execution_count": 17,
     "metadata": {},
     "output_type": "execute_result"
    }
   ],
   "source": [
    "%cd Z:\\PPMI_Data\\Excels\\NonMotors\\Derived250\\GeneCpG\\Gastro\n",
    "df2 = pd.read_csv (\"Common1_Gastro_Data.csv\")\n",
    "print(df2.shape)\n",
    "df2.head(3)"
   ]
  },
  {
   "cell_type": "code",
   "execution_count": 18,
   "id": "1044975d",
   "metadata": {
    "ExecuteTime": {
     "end_time": "2023-01-18T05:41:54.280995Z",
     "start_time": "2023-01-18T05:41:54.249802Z"
    }
   },
   "outputs": [
    {
     "name": "stdout",
     "output_type": "stream",
     "text": [
      "(458, 4)\n",
      "   PATNO  HYS  APPRDX  cg21921473\n",
      "0   3000    0       2    0.807672\n",
      "1   3001    2       1    0.832439\n"
     ]
    }
   ],
   "source": [
    "df3 = pd.merge (df1, df2, on = 'PATNO', how = 'inner')\n",
    "print(df3.shape)\n",
    "print(df3.head(2))\n",
    "df3.to_csv (\"Common1_Gastro_DataHYS.csv\", index = False)"
   ]
  },
  {
   "cell_type": "markdown",
   "id": "ef99cc14",
   "metadata": {},
   "source": []
  },
  {
   "cell_type": "code",
   "execution_count": 19,
   "id": "837106b8",
   "metadata": {
    "ExecuteTime": {
     "end_time": "2023-01-18T05:47:09.845150Z",
     "start_time": "2023-01-18T05:47:09.782704Z"
    }
   },
   "outputs": [
    {
     "name": "stdout",
     "output_type": "stream",
     "text": [
      "Z:\\PPMI_Data\\Excels\\NonMotors\\Derived250\\GeneCpG\\Apathy\n",
      "(458, 12)\n"
     ]
    },
    {
     "data": {
      "text/html": [
       "<div>\n",
       "<style scoped>\n",
       "    .dataframe tbody tr th:only-of-type {\n",
       "        vertical-align: middle;\n",
       "    }\n",
       "\n",
       "    .dataframe tbody tr th {\n",
       "        vertical-align: top;\n",
       "    }\n",
       "\n",
       "    .dataframe thead th {\n",
       "        text-align: right;\n",
       "    }\n",
       "</style>\n",
       "<table border=\"1\" class=\"dataframe\">\n",
       "  <thead>\n",
       "    <tr style=\"text-align: right;\">\n",
       "      <th></th>\n",
       "      <th>PATNO</th>\n",
       "      <th>APPRDX</th>\n",
       "      <th>cg02157463</th>\n",
       "      <th>cg04333485</th>\n",
       "      <th>cg08187983</th>\n",
       "      <th>cg11486829</th>\n",
       "      <th>cg03605226</th>\n",
       "      <th>cg01366849</th>\n",
       "      <th>cg14498209</th>\n",
       "      <th>cg01081395</th>\n",
       "      <th>cg17741809</th>\n",
       "      <th>cg26200585</th>\n",
       "    </tr>\n",
       "  </thead>\n",
       "  <tbody>\n",
       "    <tr>\n",
       "      <th>0</th>\n",
       "      <td>3000</td>\n",
       "      <td>2</td>\n",
       "      <td>0.677453</td>\n",
       "      <td>0.162589</td>\n",
       "      <td>0.976590</td>\n",
       "      <td>0.850409</td>\n",
       "      <td>0.030330</td>\n",
       "      <td>0.945979</td>\n",
       "      <td>0.066835</td>\n",
       "      <td>0.525126</td>\n",
       "      <td>0.581553</td>\n",
       "      <td>0.894961</td>\n",
       "    </tr>\n",
       "    <tr>\n",
       "      <th>1</th>\n",
       "      <td>3001</td>\n",
       "      <td>1</td>\n",
       "      <td>0.641978</td>\n",
       "      <td>0.184197</td>\n",
       "      <td>0.972912</td>\n",
       "      <td>0.813852</td>\n",
       "      <td>0.051677</td>\n",
       "      <td>0.922968</td>\n",
       "      <td>0.070633</td>\n",
       "      <td>0.826699</td>\n",
       "      <td>0.452972</td>\n",
       "      <td>0.740107</td>\n",
       "    </tr>\n",
       "    <tr>\n",
       "      <th>2</th>\n",
       "      <td>3002</td>\n",
       "      <td>1</td>\n",
       "      <td>0.637395</td>\n",
       "      <td>0.132808</td>\n",
       "      <td>0.975221</td>\n",
       "      <td>0.756494</td>\n",
       "      <td>0.111494</td>\n",
       "      <td>0.952598</td>\n",
       "      <td>0.055912</td>\n",
       "      <td>0.857042</td>\n",
       "      <td>0.442759</td>\n",
       "      <td>0.861804</td>\n",
       "    </tr>\n",
       "  </tbody>\n",
       "</table>\n",
       "</div>"
      ],
      "text/plain": [
       "   PATNO  APPRDX  cg02157463  cg04333485  cg08187983  cg11486829  cg03605226  \\\n",
       "0   3000       2    0.677453    0.162589    0.976590    0.850409    0.030330   \n",
       "1   3001       1    0.641978    0.184197    0.972912    0.813852    0.051677   \n",
       "2   3002       1    0.637395    0.132808    0.975221    0.756494    0.111494   \n",
       "\n",
       "   cg01366849  cg14498209  cg01081395  cg17741809  cg26200585  \n",
       "0    0.945979    0.066835    0.525126    0.581553    0.894961  \n",
       "1    0.922968    0.070633    0.826699    0.452972    0.740107  \n",
       "2    0.952598    0.055912    0.857042    0.442759    0.861804  "
      ]
     },
     "execution_count": 19,
     "metadata": {},
     "output_type": "execute_result"
    }
   ],
   "source": [
    "%cd Z:\\PPMI_Data\\Excels\\NonMotors\\Derived250\\GeneCpG\\Apathy\n",
    "df2 = pd.read_csv (\"Common10_Apathy_Data.csv\")\n",
    "print(df2.shape)\n",
    "df2.head(3)"
   ]
  },
  {
   "cell_type": "code",
   "execution_count": 20,
   "id": "2ba5fe70",
   "metadata": {
    "ExecuteTime": {
     "end_time": "2023-01-18T05:47:22.407537Z",
     "start_time": "2023-01-18T05:47:22.369705Z"
    }
   },
   "outputs": [
    {
     "name": "stdout",
     "output_type": "stream",
     "text": [
      "(458, 13)\n",
      "   PATNO  HYS  APPRDX  cg02157463  cg04333485  cg08187983  cg11486829  \\\n",
      "0   3000    0       2    0.677453    0.162589    0.976590    0.850409   \n",
      "1   3001    2       1    0.641978    0.184197    0.972912    0.813852   \n",
      "\n",
      "   cg03605226  cg01366849  cg14498209  cg01081395  cg17741809  cg26200585  \n",
      "0    0.030330    0.945979    0.066835    0.525126    0.581553    0.894961  \n",
      "1    0.051677    0.922968    0.070633    0.826699    0.452972    0.740107  \n"
     ]
    }
   ],
   "source": [
    "df3 = pd.merge (df1, df2, on = 'PATNO', how = 'inner')\n",
    "print(df3.shape)\n",
    "print(df3.head(2))\n",
    "df3.to_csv (\"Common10_Apathy_DataHYS.csv\", index = False)"
   ]
  },
  {
   "cell_type": "markdown",
   "id": "5cd123a5",
   "metadata": {},
   "source": [
    "# Male"
   ]
  },
  {
   "cell_type": "code",
   "execution_count": 21,
   "id": "9fb946a4",
   "metadata": {
    "ExecuteTime": {
     "end_time": "2023-01-18T06:18:31.160676Z",
     "start_time": "2023-01-18T06:18:31.129449Z"
    }
   },
   "outputs": [
    {
     "name": "stdout",
     "output_type": "stream",
     "text": [
      "Z:\\PPMI_Data\\Excels\\NonMotors\\Derived250\\Male\\GeneCpG\\Hopkins\n",
      "(110, 12)\n"
     ]
    },
    {
     "data": {
      "text/html": [
       "<div>\n",
       "<style scoped>\n",
       "    .dataframe tbody tr th:only-of-type {\n",
       "        vertical-align: middle;\n",
       "    }\n",
       "\n",
       "    .dataframe tbody tr th {\n",
       "        vertical-align: top;\n",
       "    }\n",
       "\n",
       "    .dataframe thead th {\n",
       "        text-align: right;\n",
       "    }\n",
       "</style>\n",
       "<table border=\"1\" class=\"dataframe\">\n",
       "  <thead>\n",
       "    <tr style=\"text-align: right;\">\n",
       "      <th></th>\n",
       "      <th>PATNO</th>\n",
       "      <th>APPRDX</th>\n",
       "      <th>cg03616148</th>\n",
       "      <th>cg00314622</th>\n",
       "      <th>cg21620535</th>\n",
       "      <th>cg03567838</th>\n",
       "      <th>cg04891959</th>\n",
       "      <th>cg07804122</th>\n",
       "      <th>cg21228068</th>\n",
       "      <th>cg23867254</th>\n",
       "      <th>cg11489262</th>\n",
       "      <th>cg06947206</th>\n",
       "    </tr>\n",
       "  </thead>\n",
       "  <tbody>\n",
       "    <tr>\n",
       "      <th>0</th>\n",
       "      <td>3010</td>\n",
       "      <td>1</td>\n",
       "      <td>0.485398</td>\n",
       "      <td>0.732007</td>\n",
       "      <td>0.038450</td>\n",
       "      <td>0.866703</td>\n",
       "      <td>0.022596</td>\n",
       "      <td>0.033899</td>\n",
       "      <td>0.549556</td>\n",
       "      <td>0.650420</td>\n",
       "      <td>0.083984</td>\n",
       "      <td>0.011422</td>\n",
       "    </tr>\n",
       "    <tr>\n",
       "      <th>1</th>\n",
       "      <td>3024</td>\n",
       "      <td>1</td>\n",
       "      <td>0.795923</td>\n",
       "      <td>0.703085</td>\n",
       "      <td>0.033025</td>\n",
       "      <td>0.841374</td>\n",
       "      <td>0.033186</td>\n",
       "      <td>0.041293</td>\n",
       "      <td>0.903135</td>\n",
       "      <td>0.664160</td>\n",
       "      <td>0.090219</td>\n",
       "      <td>0.007042</td>\n",
       "    </tr>\n",
       "    <tr>\n",
       "      <th>2</th>\n",
       "      <td>3029</td>\n",
       "      <td>2</td>\n",
       "      <td>0.669980</td>\n",
       "      <td>0.696370</td>\n",
       "      <td>0.045212</td>\n",
       "      <td>0.854349</td>\n",
       "      <td>0.021231</td>\n",
       "      <td>0.047708</td>\n",
       "      <td>0.905122</td>\n",
       "      <td>0.553096</td>\n",
       "      <td>0.090989</td>\n",
       "      <td>0.010944</td>\n",
       "    </tr>\n",
       "  </tbody>\n",
       "</table>\n",
       "</div>"
      ],
      "text/plain": [
       "   PATNO  APPRDX  cg03616148  cg00314622  cg21620535  cg03567838  cg04891959  \\\n",
       "0   3010       1    0.485398    0.732007    0.038450    0.866703    0.022596   \n",
       "1   3024       1    0.795923    0.703085    0.033025    0.841374    0.033186   \n",
       "2   3029       2    0.669980    0.696370    0.045212    0.854349    0.021231   \n",
       "\n",
       "   cg07804122  cg21228068  cg23867254  cg11489262  cg06947206  \n",
       "0    0.033899    0.549556    0.650420    0.083984    0.011422  \n",
       "1    0.041293    0.903135    0.664160    0.090219    0.007042  \n",
       "2    0.047708    0.905122    0.553096    0.090989    0.010944  "
      ]
     },
     "execution_count": 21,
     "metadata": {},
     "output_type": "execute_result"
    }
   ],
   "source": [
    "%cd Z:\\PPMI_Data\\Excels\\NonMotors\\Derived250\\Male\\GeneCpG\\Hopkins\n",
    "df2 = pd.read_csv (\"Common10_Hopkins_Data_Male.csv\")\n",
    "print(df2.shape)\n",
    "df2.head(3)"
   ]
  },
  {
   "cell_type": "code",
   "execution_count": 22,
   "id": "a98dbc4e",
   "metadata": {
    "ExecuteTime": {
     "end_time": "2023-01-18T06:19:06.045221Z",
     "start_time": "2023-01-18T06:19:06.013924Z"
    }
   },
   "outputs": [
    {
     "name": "stdout",
     "output_type": "stream",
     "text": [
      "(110, 13)\n",
      "   PATNO  HYS  APPRDX  cg03616148  cg00314622  cg21620535  cg03567838  \\\n",
      "0   3010    2       1    0.485398    0.732007    0.038450    0.866703   \n",
      "1   3024    2       1    0.795923    0.703085    0.033025    0.841374   \n",
      "\n",
      "   cg04891959  cg07804122  cg21228068  cg23867254  cg11489262  cg06947206  \n",
      "0    0.022596    0.033899    0.549556     0.65042    0.083984    0.011422  \n",
      "1    0.033186    0.041293    0.903135     0.66416    0.090219    0.007042  \n"
     ]
    }
   ],
   "source": [
    "df3 = pd.merge (df1, df2, on = 'PATNO', how = 'inner')\n",
    "print(df3.shape)\n",
    "print(df3.head(2))\n",
    "df3.to_csv (\"Common10_Hopkins_Data_MaleHYS.csv\", index = False)"
   ]
  },
  {
   "cell_type": "code",
   "execution_count": 23,
   "id": "4a0dd5df",
   "metadata": {
    "ExecuteTime": {
     "end_time": "2023-01-18T06:55:10.042252Z",
     "start_time": "2023-01-18T06:55:10.011059Z"
    }
   },
   "outputs": [
    {
     "name": "stdout",
     "output_type": "stream",
     "text": [
      "Z:\\PPMI_Data\\Excels\\NonMotors\\Derived250\\Male\\GeneCpG\\SleepDay\n",
      "(308, 9)\n"
     ]
    },
    {
     "data": {
      "text/html": [
       "<div>\n",
       "<style scoped>\n",
       "    .dataframe tbody tr th:only-of-type {\n",
       "        vertical-align: middle;\n",
       "    }\n",
       "\n",
       "    .dataframe tbody tr th {\n",
       "        vertical-align: top;\n",
       "    }\n",
       "\n",
       "    .dataframe thead th {\n",
       "        text-align: right;\n",
       "    }\n",
       "</style>\n",
       "<table border=\"1\" class=\"dataframe\">\n",
       "  <thead>\n",
       "    <tr style=\"text-align: right;\">\n",
       "      <th></th>\n",
       "      <th>PATNO</th>\n",
       "      <th>APPRDX</th>\n",
       "      <th>cg22505241</th>\n",
       "      <th>cg16004767</th>\n",
       "      <th>cg05519181</th>\n",
       "      <th>cg12229394</th>\n",
       "      <th>cg12653876</th>\n",
       "      <th>cg10895922</th>\n",
       "      <th>cg21426547</th>\n",
       "    </tr>\n",
       "  </thead>\n",
       "  <tbody>\n",
       "    <tr>\n",
       "      <th>0</th>\n",
       "      <td>3001</td>\n",
       "      <td>1</td>\n",
       "      <td>0.914495</td>\n",
       "      <td>0.882369</td>\n",
       "      <td>0.828366</td>\n",
       "      <td>0.025663</td>\n",
       "      <td>0.892774</td>\n",
       "      <td>0.063407</td>\n",
       "      <td>0.732635</td>\n",
       "    </tr>\n",
       "  </tbody>\n",
       "</table>\n",
       "</div>"
      ],
      "text/plain": [
       "   PATNO  APPRDX  cg22505241  cg16004767  cg05519181  cg12229394  cg12653876  \\\n",
       "0   3001       1    0.914495    0.882369    0.828366    0.025663    0.892774   \n",
       "\n",
       "   cg10895922  cg21426547  \n",
       "0    0.063407    0.732635  "
      ]
     },
     "execution_count": 23,
     "metadata": {},
     "output_type": "execute_result"
    }
   ],
   "source": [
    "%cd Z:\\PPMI_Data\\Excels\\NonMotors\\Derived250\\Male\\GeneCpG\\SleepDay\n",
    "df2 = pd.read_csv (\"Common7_SleepDay_Data_Male.csv\")\n",
    "print(df2.shape)\n",
    "df2.head(1)"
   ]
  },
  {
   "cell_type": "code",
   "execution_count": 24,
   "id": "eaec15d2",
   "metadata": {
    "ExecuteTime": {
     "end_time": "2023-01-18T06:55:29.064146Z",
     "start_time": "2023-01-18T06:55:29.048520Z"
    }
   },
   "outputs": [
    {
     "name": "stdout",
     "output_type": "stream",
     "text": [
      "(308, 10)\n",
      "   PATNO  HYS  APPRDX  cg22505241  cg16004767  cg05519181  cg12229394  \\\n",
      "0   3001    2       1    0.914495    0.882369    0.828366    0.025663   \n",
      "1   3004    0       2    0.905095    0.892872    0.841617    0.025362   \n",
      "\n",
      "   cg12653876  cg10895922  cg21426547  \n",
      "0    0.892774    0.063407    0.732635  \n",
      "1    0.892106    0.026382    0.688197  \n"
     ]
    }
   ],
   "source": [
    "df3 = pd.merge (df1, df2, on = 'PATNO', how = 'inner')\n",
    "print(df3.shape)\n",
    "print(df3.head(2))\n",
    "df3.to_csv (\"Common7_SleepDay_Data_MaleHYS.csv\", index = False)"
   ]
  },
  {
   "cell_type": "markdown",
   "id": "46fd0b9b",
   "metadata": {},
   "source": [
    "# Female"
   ]
  },
  {
   "cell_type": "code",
   "execution_count": 25,
   "id": "ccc45c64",
   "metadata": {
    "ExecuteTime": {
     "end_time": "2023-01-18T07:14:08.804251Z",
     "start_time": "2023-01-18T07:14:08.772986Z"
    }
   },
   "outputs": [
    {
     "name": "stdout",
     "output_type": "stream",
     "text": [
      "Z:\\PPMI_Data\\Excels\\NonMotors\\Derived250\\Female\\GeneCpG\\STAIS\n",
      "(150, 11)\n"
     ]
    },
    {
     "data": {
      "text/html": [
       "<div>\n",
       "<style scoped>\n",
       "    .dataframe tbody tr th:only-of-type {\n",
       "        vertical-align: middle;\n",
       "    }\n",
       "\n",
       "    .dataframe tbody tr th {\n",
       "        vertical-align: top;\n",
       "    }\n",
       "\n",
       "    .dataframe thead th {\n",
       "        text-align: right;\n",
       "    }\n",
       "</style>\n",
       "<table border=\"1\" class=\"dataframe\">\n",
       "  <thead>\n",
       "    <tr style=\"text-align: right;\">\n",
       "      <th></th>\n",
       "      <th>PATNO</th>\n",
       "      <th>APPRDX</th>\n",
       "      <th>cg01600124</th>\n",
       "      <th>cg08271803</th>\n",
       "      <th>cg16516429</th>\n",
       "      <th>cg26955850</th>\n",
       "      <th>cg23881278</th>\n",
       "      <th>cg16234718</th>\n",
       "      <th>cg21105972</th>\n",
       "      <th>cg23974023</th>\n",
       "      <th>cg22930773</th>\n",
       "    </tr>\n",
       "  </thead>\n",
       "  <tbody>\n",
       "    <tr>\n",
       "      <th>0</th>\n",
       "      <td>3000</td>\n",
       "      <td>2</td>\n",
       "      <td>0.937918</td>\n",
       "      <td>0.153215</td>\n",
       "      <td>0.845297</td>\n",
       "      <td>0.298055</td>\n",
       "      <td>0.033502</td>\n",
       "      <td>0.909822</td>\n",
       "      <td>0.79264</td>\n",
       "      <td>0.813086</td>\n",
       "      <td>0.874594</td>\n",
       "    </tr>\n",
       "  </tbody>\n",
       "</table>\n",
       "</div>"
      ],
      "text/plain": [
       "   PATNO  APPRDX  cg01600124  cg08271803  cg16516429  cg26955850  cg23881278  \\\n",
       "0   3000       2    0.937918    0.153215    0.845297    0.298055    0.033502   \n",
       "\n",
       "   cg16234718  cg21105972  cg23974023  cg22930773  \n",
       "0    0.909822     0.79264    0.813086    0.874594  "
      ]
     },
     "execution_count": 25,
     "metadata": {},
     "output_type": "execute_result"
    }
   ],
   "source": [
    "%cd Z:\\PPMI_Data\\Excels\\NonMotors\\Derived250\\Female\\GeneCpG\\STAIS\n",
    "df2 = pd.read_csv (\"Common9_STAIS_Data_Female.csv\")\n",
    "print(df2.shape)\n",
    "df2.head(1)"
   ]
  },
  {
   "cell_type": "code",
   "execution_count": 26,
   "id": "fc1cf8ed",
   "metadata": {
    "ExecuteTime": {
     "end_time": "2023-01-18T07:14:09.652286Z",
     "start_time": "2023-01-18T07:14:09.620999Z"
    }
   },
   "outputs": [
    {
     "name": "stdout",
     "output_type": "stream",
     "text": [
      "(150, 12)\n",
      "   PATNO  HYS  APPRDX  cg01600124  cg08271803  cg16516429  cg26955850  \\\n",
      "0   3000    0       2    0.937918    0.153215    0.845297    0.298055   \n",
      "1   3002    2       1    0.930119    0.041552    0.865760    0.359086   \n",
      "\n",
      "   cg23881278  cg16234718  cg21105972  cg23974023  cg22930773  \n",
      "0    0.033502    0.909822    0.792640    0.813086    0.874594  \n",
      "1    0.043708    0.920270    0.840348    0.806178    0.867694  \n"
     ]
    }
   ],
   "source": [
    "df3 = pd.merge (df1, df2, on = 'PATNO', how = 'inner')\n",
    "print(df3.shape)\n",
    "print(df3.head(2))\n",
    "df3.to_csv (\"Common9_STAIS_Data_FemaleHYS.csv\", index = False)"
   ]
  },
  {
   "cell_type": "code",
   "execution_count": 27,
   "id": "1b2dcd7f",
   "metadata": {
    "ExecuteTime": {
     "end_time": "2023-01-18T07:59:55.498893Z",
     "start_time": "2023-01-18T07:59:55.461127Z"
    }
   },
   "outputs": [
    {
     "name": "stdout",
     "output_type": "stream",
     "text": [
      "Z:\\PPMI_Data\\Excels\\NonMotors\\Derived250\\Female\\GeneCpG\\LexicalFluency\n",
      "(75, 17)\n"
     ]
    },
    {
     "data": {
      "text/html": [
       "<div>\n",
       "<style scoped>\n",
       "    .dataframe tbody tr th:only-of-type {\n",
       "        vertical-align: middle;\n",
       "    }\n",
       "\n",
       "    .dataframe tbody tr th {\n",
       "        vertical-align: top;\n",
       "    }\n",
       "\n",
       "    .dataframe thead th {\n",
       "        text-align: right;\n",
       "    }\n",
       "</style>\n",
       "<table border=\"1\" class=\"dataframe\">\n",
       "  <thead>\n",
       "    <tr style=\"text-align: right;\">\n",
       "      <th></th>\n",
       "      <th>PATNO</th>\n",
       "      <th>APPRDX</th>\n",
       "      <th>cg02933993</th>\n",
       "      <th>cg04294383</th>\n",
       "      <th>cg04451259</th>\n",
       "      <th>cg05302035</th>\n",
       "      <th>cg05382797</th>\n",
       "      <th>cg06480636</th>\n",
       "      <th>cg06632027</th>\n",
       "      <th>cg07433663</th>\n",
       "      <th>cg10253929</th>\n",
       "      <th>cg10769891</th>\n",
       "      <th>cg17990657</th>\n",
       "      <th>cg18795825</th>\n",
       "      <th>cg21088420</th>\n",
       "      <th>cg25158734</th>\n",
       "      <th>cg26632873</th>\n",
       "    </tr>\n",
       "  </thead>\n",
       "  <tbody>\n",
       "    <tr>\n",
       "      <th>0</th>\n",
       "      <td>3000</td>\n",
       "      <td>2</td>\n",
       "      <td>0.723011</td>\n",
       "      <td>0.921624</td>\n",
       "      <td>0.83535</td>\n",
       "      <td>0.86667</td>\n",
       "      <td>0.023748</td>\n",
       "      <td>0.629698</td>\n",
       "      <td>0.043348</td>\n",
       "      <td>0.088087</td>\n",
       "      <td>0.027381</td>\n",
       "      <td>0.031391</td>\n",
       "      <td>0.572508</td>\n",
       "      <td>0.025923</td>\n",
       "      <td>0.159974</td>\n",
       "      <td>0.282774</td>\n",
       "      <td>0.011142</td>\n",
       "    </tr>\n",
       "  </tbody>\n",
       "</table>\n",
       "</div>"
      ],
      "text/plain": [
       "   PATNO  APPRDX  cg02933993  cg04294383  cg04451259  cg05302035  cg05382797  \\\n",
       "0   3000       2    0.723011    0.921624     0.83535     0.86667    0.023748   \n",
       "\n",
       "   cg06480636  cg06632027  cg07433663  cg10253929  cg10769891  cg17990657  \\\n",
       "0    0.629698    0.043348    0.088087    0.027381    0.031391    0.572508   \n",
       "\n",
       "   cg18795825  cg21088420  cg25158734  cg26632873  \n",
       "0    0.025923    0.159974    0.282774    0.011142  "
      ]
     },
     "execution_count": 27,
     "metadata": {},
     "output_type": "execute_result"
    }
   ],
   "source": [
    "%cd Z:\\PPMI_Data\\Excels\\NonMotors\\Derived250\\Female\\GeneCpG\\LexicalFluency\n",
    "df2 = pd.read_csv (\"Common15_LexicalFluency_Data_Female.csv\")\n",
    "print(df2.shape)\n",
    "df2.head(1)"
   ]
  },
  {
   "cell_type": "code",
   "execution_count": 28,
   "id": "b6c77e89",
   "metadata": {
    "ExecuteTime": {
     "end_time": "2023-01-18T08:00:13.825408Z",
     "start_time": "2023-01-18T08:00:13.794214Z"
    }
   },
   "outputs": [
    {
     "name": "stdout",
     "output_type": "stream",
     "text": [
      "(75, 18)\n",
      "   PATNO  HYS  APPRDX  cg02933993  cg04294383  cg04451259  cg05302035  \\\n",
      "0   3000    0       2    0.723011    0.921624    0.835350    0.866670   \n",
      "1   3002    2       1    0.583824    0.893732    0.764024    0.888044   \n",
      "\n",
      "   cg05382797  cg06480636  cg06632027  cg07433663  cg10253929  cg10769891  \\\n",
      "0    0.023748    0.629698    0.043348    0.088087    0.027381    0.031391   \n",
      "1    0.027251    0.677090    0.025609    0.064613    0.019520    0.015638   \n",
      "\n",
      "   cg17990657  cg18795825  cg21088420  cg25158734  cg26632873  \n",
      "0    0.572508    0.025923    0.159974    0.282774    0.011142  \n",
      "1    0.548622    0.026647    0.164491    0.286004    0.010213  \n"
     ]
    }
   ],
   "source": [
    "df3 = pd.merge (df1, df2, on = 'PATNO', how = 'inner')\n",
    "print(df3.shape)\n",
    "print(df3.head(2))\n",
    "df3.to_csv (\"Common15_LexicalFluency_Data_FemaleHYS.csv\", index = False)"
   ]
  },
  {
   "cell_type": "code",
   "execution_count": null,
   "id": "387ebf8c",
   "metadata": {},
   "outputs": [],
   "source": []
  }
 ],
 "metadata": {
  "kernelspec": {
   "display_name": "Python 3 (ipykernel)",
   "language": "python",
   "name": "python3"
  },
  "language_info": {
   "codemirror_mode": {
    "name": "ipython",
    "version": 3
   },
   "file_extension": ".py",
   "mimetype": "text/x-python",
   "name": "python",
   "nbconvert_exporter": "python",
   "pygments_lexer": "ipython3",
   "version": "3.9.16"
  },
  "toc": {
   "base_numbering": 1,
   "nav_menu": {},
   "number_sections": true,
   "sideBar": true,
   "skip_h1_title": false,
   "title_cell": "Table of Contents",
   "title_sidebar": "Contents",
   "toc_cell": false,
   "toc_position": {},
   "toc_section_display": true,
   "toc_window_display": false
  },
  "varInspector": {
   "cols": {
    "lenName": 16,
    "lenType": 16,
    "lenVar": 40
   },
   "kernels_config": {
    "python": {
     "delete_cmd_postfix": "",
     "delete_cmd_prefix": "del ",
     "library": "var_list.py",
     "varRefreshCmd": "print(var_dic_list())"
    },
    "r": {
     "delete_cmd_postfix": ") ",
     "delete_cmd_prefix": "rm(",
     "library": "var_list.r",
     "varRefreshCmd": "cat(var_dic_list()) "
    }
   },
   "types_to_exclude": [
    "module",
    "function",
    "builtin_function_or_method",
    "instance",
    "_Feature"
   ],
   "window_display": false
  }
 },
 "nbformat": 4,
 "nbformat_minor": 5
}
