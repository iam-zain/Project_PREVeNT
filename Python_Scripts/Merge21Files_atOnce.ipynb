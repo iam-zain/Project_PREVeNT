{
 "cells": [
  {
   "cell_type": "code",
   "execution_count": 1,
   "id": "19e8148d",
   "metadata": {
    "ExecuteTime": {
     "end_time": "2023-01-13T18:40:09.123319Z",
     "start_time": "2023-01-13T18:40:08.603360Z"
    }
   },
   "outputs": [
    {
     "name": "stdout",
     "output_type": "stream",
     "text": [
      "Z:\\PPMI_Data\\Excels\\NonMotors\\NonMot_Files_RAW_PreProcess\\Feats21_UnCategorized\n"
     ]
    }
   ],
   "source": [
    "import pandas as pd\n",
    "from functools import reduce\n",
    "%cd Z:\\PPMI_Data\\Excels\\NonMotors\\NonMot_Files_RAW_PreProcess\\Feats21_UnCategorized"
   ]
  },
  {
   "cell_type": "code",
   "execution_count": 2,
   "id": "a19b7618",
   "metadata": {
    "ExecuteTime": {
     "end_time": "2023-01-13T18:40:09.143453Z",
     "start_time": "2023-01-13T18:40:09.128334Z"
    }
   },
   "outputs": [],
   "source": [
    "files = ['Benton.csv','Clock.csv','Cognitive.csv','Epworth.csv','Geriatric.csv','Hopkins_Recall_Derived.csv',\n",
    "         'Hopkins_Recognition_Derived.csv','Letter.csv','Lexical.csv','MDS.csv','MDSP.csv','Modified_Boston.csv',\n",
    "        'Montreal.csv','QUIP.csv','REM.csv','SCOPA.csv','Semantic.csv','Socio.csv','STAI.csv',\n",
    "        'Symbol.csv','Trail.csv','UPSIT.csv']\n",
    "# Loading all the files at once"
   ]
  },
  {
   "cell_type": "code",
   "execution_count": 3,
   "id": "d4adec7a",
   "metadata": {
    "ExecuteTime": {
     "end_time": "2023-01-13T18:40:09.389467Z",
     "start_time": "2023-01-13T18:40:09.143453Z"
    }
   },
   "outputs": [
    {
     "name": "stdout",
     "output_type": "stream",
     "text": [
      "(254, 26)\n"
     ]
    },
    {
     "data": {
      "text/html": [
       "<div>\n",
       "<style scoped>\n",
       "    .dataframe tbody tr th:only-of-type {\n",
       "        vertical-align: middle;\n",
       "    }\n",
       "\n",
       "    .dataframe tbody tr th {\n",
       "        vertical-align: top;\n",
       "    }\n",
       "\n",
       "    .dataframe thead th {\n",
       "        text-align: right;\n",
       "    }\n",
       "</style>\n",
       "<table border=\"1\" class=\"dataframe\">\n",
       "  <thead>\n",
       "    <tr style=\"text-align: right;\">\n",
       "      <th></th>\n",
       "      <th>PATNO</th>\n",
       "      <th>DVS_JLO_MSSAE</th>\n",
       "      <th>CLCKTOT</th>\n",
       "      <th>COGSTATE</th>\n",
       "      <th>ESST</th>\n",
       "      <th>GDSSHORT_Score</th>\n",
       "      <th>DVT_DELAYED_RECALL</th>\n",
       "      <th>DVT_RECOG_DISC_INDEX</th>\n",
       "      <th>DVS_LNS</th>\n",
       "      <th>LEXICAL_Total</th>\n",
       "      <th>...</th>\n",
       "      <th>SCOPAT</th>\n",
       "      <th>DVT_SFTANIM</th>\n",
       "      <th>EDUCYRS</th>\n",
       "      <th>HANDED</th>\n",
       "      <th>STAIS</th>\n",
       "      <th>STAIA</th>\n",
       "      <th>DVT_SDM</th>\n",
       "      <th>TMTASEC</th>\n",
       "      <th>TMTBSEC</th>\n",
       "      <th>UPSIT</th>\n",
       "    </tr>\n",
       "  </thead>\n",
       "  <tbody>\n",
       "    <tr>\n",
       "      <th>0</th>\n",
       "      <td>3002</td>\n",
       "      <td>12.16</td>\n",
       "      <td>7</td>\n",
       "      <td>1.0</td>\n",
       "      <td>11</td>\n",
       "      <td>6</td>\n",
       "      <td>63</td>\n",
       "      <td>38</td>\n",
       "      <td>13</td>\n",
       "      <td>43</td>\n",
       "      <td>...</td>\n",
       "      <td>23</td>\n",
       "      <td>57</td>\n",
       "      <td>16</td>\n",
       "      <td>1</td>\n",
       "      <td>59</td>\n",
       "      <td>45</td>\n",
       "      <td>47.500000</td>\n",
       "      <td>110</td>\n",
       "      <td>204</td>\n",
       "      <td>17</td>\n",
       "    </tr>\n",
       "    <tr>\n",
       "      <th>1</th>\n",
       "      <td>3008</td>\n",
       "      <td>11.52</td>\n",
       "      <td>7</td>\n",
       "      <td>2.0</td>\n",
       "      <td>4</td>\n",
       "      <td>5</td>\n",
       "      <td>58</td>\n",
       "      <td>56</td>\n",
       "      <td>11</td>\n",
       "      <td>40</td>\n",
       "      <td>...</td>\n",
       "      <td>30</td>\n",
       "      <td>52</td>\n",
       "      <td>14</td>\n",
       "      <td>1</td>\n",
       "      <td>45</td>\n",
       "      <td>51</td>\n",
       "      <td>41.669998</td>\n",
       "      <td>43</td>\n",
       "      <td>105</td>\n",
       "      <td>37</td>\n",
       "    </tr>\n",
       "  </tbody>\n",
       "</table>\n",
       "<p>2 rows × 26 columns</p>\n",
       "</div>"
      ],
      "text/plain": [
       "   PATNO  DVS_JLO_MSSAE  CLCKTOT  COGSTATE  ESST  GDSSHORT_Score  \\\n",
       "0   3002          12.16        7       1.0    11               6   \n",
       "1   3008          11.52        7       2.0     4               5   \n",
       "\n",
       "   DVT_DELAYED_RECALL  DVT_RECOG_DISC_INDEX  DVS_LNS  LEXICAL_Total  ...  \\\n",
       "0                  63                    38       13             43  ...   \n",
       "1                  58                    56       11             40  ...   \n",
       "\n",
       "   SCOPAT  DVT_SFTANIM  EDUCYRS  HANDED  STAIS  STAIA    DVT_SDM  TMTASEC  \\\n",
       "0      23           57       16       1     59     45  47.500000      110   \n",
       "1      30           52       14       1     45     51  41.669998       43   \n",
       "\n",
       "   TMTBSEC  UPSIT  \n",
       "0      204     17  \n",
       "1      105     37  \n",
       "\n",
       "[2 rows x 26 columns]"
      ]
     },
     "execution_count": 3,
     "metadata": {},
     "output_type": "execute_result"
    }
   ],
   "source": [
    "df = reduce(lambda l,r: l.merge(r, on='PATNO'), [pd.read_csv(f) for f in files])\n",
    "# The above command merge all the files having one common column\n",
    "print(df.shape)\n",
    "df.head(2)"
   ]
  },
  {
   "cell_type": "code",
   "execution_count": 4,
   "id": "821d2ed5",
   "metadata": {
    "ExecuteTime": {
     "end_time": "2023-01-13T18:40:09.408036Z",
     "start_time": "2023-01-13T18:40:09.389467Z"
    }
   },
   "outputs": [],
   "source": [
    "df.to_csv('Feats21_unCategorised.csv', index = False)"
   ]
  },
  {
   "cell_type": "markdown",
   "id": "891a4302",
   "metadata": {},
   "source": [
    "## Merging with APPRDX"
   ]
  },
  {
   "cell_type": "code",
   "execution_count": 5,
   "id": "e48c3541",
   "metadata": {
    "ExecuteTime": {
     "end_time": "2023-01-13T18:40:09.508406Z",
     "start_time": "2023-01-13T18:40:09.408036Z"
    }
   },
   "outputs": [
    {
     "name": "stdout",
     "output_type": "stream",
     "text": [
      "(250, 27)\n"
     ]
    },
    {
     "data": {
      "text/html": [
       "<div>\n",
       "<style scoped>\n",
       "    .dataframe tbody tr th:only-of-type {\n",
       "        vertical-align: middle;\n",
       "    }\n",
       "\n",
       "    .dataframe tbody tr th {\n",
       "        vertical-align: top;\n",
       "    }\n",
       "\n",
       "    .dataframe thead th {\n",
       "        text-align: right;\n",
       "    }\n",
       "</style>\n",
       "<table border=\"1\" class=\"dataframe\">\n",
       "  <thead>\n",
       "    <tr style=\"text-align: right;\">\n",
       "      <th></th>\n",
       "      <th>PATNO</th>\n",
       "      <th>APPRDX</th>\n",
       "      <th>DVS_JLO_MSSAE</th>\n",
       "      <th>CLCKTOT</th>\n",
       "      <th>COGSTATE</th>\n",
       "      <th>ESST</th>\n",
       "      <th>GDSSHORT_Score</th>\n",
       "      <th>DVT_DELAYED_RECALL</th>\n",
       "      <th>DVT_RECOG_DISC_INDEX</th>\n",
       "      <th>DVS_LNS</th>\n",
       "      <th>...</th>\n",
       "      <th>SCOPAT</th>\n",
       "      <th>DVT_SFTANIM</th>\n",
       "      <th>EDUCYRS</th>\n",
       "      <th>HANDED</th>\n",
       "      <th>STAIS</th>\n",
       "      <th>STAIA</th>\n",
       "      <th>DVT_SDM</th>\n",
       "      <th>TMTASEC</th>\n",
       "      <th>TMTBSEC</th>\n",
       "      <th>UPSIT</th>\n",
       "    </tr>\n",
       "  </thead>\n",
       "  <tbody>\n",
       "    <tr>\n",
       "      <th>0</th>\n",
       "      <td>3002</td>\n",
       "      <td>1</td>\n",
       "      <td>12.16</td>\n",
       "      <td>7</td>\n",
       "      <td>1.0</td>\n",
       "      <td>11</td>\n",
       "      <td>6</td>\n",
       "      <td>63</td>\n",
       "      <td>38</td>\n",
       "      <td>13</td>\n",
       "      <td>...</td>\n",
       "      <td>23</td>\n",
       "      <td>57</td>\n",
       "      <td>16</td>\n",
       "      <td>1</td>\n",
       "      <td>59</td>\n",
       "      <td>45</td>\n",
       "      <td>47.5</td>\n",
       "      <td>110</td>\n",
       "      <td>204</td>\n",
       "      <td>17</td>\n",
       "    </tr>\n",
       "    <tr>\n",
       "      <th>1</th>\n",
       "      <td>3010</td>\n",
       "      <td>1</td>\n",
       "      <td>7.76</td>\n",
       "      <td>6</td>\n",
       "      <td>1.0</td>\n",
       "      <td>2</td>\n",
       "      <td>6</td>\n",
       "      <td>49</td>\n",
       "      <td>55</td>\n",
       "      <td>14</td>\n",
       "      <td>...</td>\n",
       "      <td>10</td>\n",
       "      <td>36</td>\n",
       "      <td>16</td>\n",
       "      <td>1</td>\n",
       "      <td>39</td>\n",
       "      <td>40</td>\n",
       "      <td>52.0</td>\n",
       "      <td>27</td>\n",
       "      <td>52</td>\n",
       "      <td>9</td>\n",
       "    </tr>\n",
       "  </tbody>\n",
       "</table>\n",
       "<p>2 rows × 27 columns</p>\n",
       "</div>"
      ],
      "text/plain": [
       "   PATNO  APPRDX  DVS_JLO_MSSAE  CLCKTOT  COGSTATE  ESST  GDSSHORT_Score  \\\n",
       "0   3002       1          12.16        7       1.0    11               6   \n",
       "1   3010       1           7.76        6       1.0     2               6   \n",
       "\n",
       "   DVT_DELAYED_RECALL  DVT_RECOG_DISC_INDEX  DVS_LNS  ...  SCOPAT  \\\n",
       "0                  63                    38       13  ...      23   \n",
       "1                  49                    55       14  ...      10   \n",
       "\n",
       "   DVT_SFTANIM  EDUCYRS  HANDED  STAIS  STAIA  DVT_SDM  TMTASEC  TMTBSEC  \\\n",
       "0           57       16       1     59     45     47.5      110      204   \n",
       "1           36       16       1     39     40     52.0       27       52   \n",
       "\n",
       "   UPSIT  \n",
       "0     17  \n",
       "1      9  \n",
       "\n",
       "[2 rows x 27 columns]"
      ]
     },
     "execution_count": 5,
     "metadata": {},
     "output_type": "execute_result"
    }
   ],
   "source": [
    "df1 = pd.read_csv ('PATNO_21Feats_250APPRDX.csv')\n",
    "df2 = pd.merge(df1, df, on = 'PATNO', how = 'inner')\n",
    "print(df2.shape)\n",
    "df2.head(2)"
   ]
  },
  {
   "cell_type": "code",
   "execution_count": 6,
   "id": "0aacce4e",
   "metadata": {
    "ExecuteTime": {
     "end_time": "2023-01-13T18:40:09.608233Z",
     "start_time": "2023-01-13T18:40:09.508406Z"
    }
   },
   "outputs": [],
   "source": [
    "df2.to_csv('Feats21_unCateg_APPRDX.csv', index = False)"
   ]
  },
  {
   "cell_type": "code",
   "execution_count": null,
   "id": "ae959d96",
   "metadata": {},
   "outputs": [],
   "source": []
  }
 ],
 "metadata": {
  "kernelspec": {
   "display_name": "Python 3 (ipykernel)",
   "language": "python",
   "name": "python3"
  },
  "language_info": {
   "codemirror_mode": {
    "name": "ipython",
    "version": 3
   },
   "file_extension": ".py",
   "mimetype": "text/x-python",
   "name": "python",
   "nbconvert_exporter": "python",
   "pygments_lexer": "ipython3",
   "version": "3.9.16"
  },
  "toc": {
   "base_numbering": 1,
   "nav_menu": {},
   "number_sections": true,
   "sideBar": true,
   "skip_h1_title": false,
   "title_cell": "Table of Contents",
   "title_sidebar": "Contents",
   "toc_cell": false,
   "toc_position": {},
   "toc_section_display": true,
   "toc_window_display": false
  },
  "varInspector": {
   "cols": {
    "lenName": 16,
    "lenType": 16,
    "lenVar": 40
   },
   "kernels_config": {
    "python": {
     "delete_cmd_postfix": "",
     "delete_cmd_prefix": "del ",
     "library": "var_list.py",
     "varRefreshCmd": "print(var_dic_list())"
    },
    "r": {
     "delete_cmd_postfix": ") ",
     "delete_cmd_prefix": "rm(",
     "library": "var_list.r",
     "varRefreshCmd": "cat(var_dic_list()) "
    }
   },
   "types_to_exclude": [
    "module",
    "function",
    "builtin_function_or_method",
    "instance",
    "_Feature"
   ],
   "window_display": false
  }
 },
 "nbformat": 4,
 "nbformat_minor": 5
}
