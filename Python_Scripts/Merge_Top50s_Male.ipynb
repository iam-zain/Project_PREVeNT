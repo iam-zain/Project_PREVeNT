{
 "cells": [
  {
   "cell_type": "code",
   "execution_count": 1,
   "id": "dfe84a79",
   "metadata": {
    "ExecuteTime": {
     "end_time": "2023-02-21T07:12:46.399284Z",
     "start_time": "2023-02-21T07:12:45.978788Z"
    }
   },
   "outputs": [],
   "source": [
    "import numpy as np\n",
    "import pandas as pd"
   ]
  },
  {
   "cell_type": "markdown",
   "id": "1a80e298",
   "metadata": {},
   "source": [
    "# Cognition"
   ]
  },
  {
   "cell_type": "code",
   "execution_count": 2,
   "id": "aba917f8",
   "metadata": {
    "ExecuteTime": {
     "end_time": "2023-02-21T05:01:13.977458Z",
     "start_time": "2023-02-21T05:01:13.946207Z"
    },
    "scrolled": true
   },
   "outputs": [
    {
     "name": "stdout",
     "output_type": "stream",
     "text": [
      "Z:\\PPMI_Data\\Excels\\NonMotors\\Derived250\\Male\\GeneCpG\\Cognition\n",
      "(307, 52)\n"
     ]
    }
   ],
   "source": [
    "%cd Z:\\PPMI_Data\\Excels\\NonMotors\\Derived250\\Male\\GeneCpG\\Cognition\n",
    "\n",
    "df2 = pd.read_csv('Cognition_Boruta_Top50_Data_Male.csv')\n",
    "print(df2.shape)"
   ]
  },
  {
   "cell_type": "code",
   "execution_count": 3,
   "id": "5b178e8d",
   "metadata": {
    "ExecuteTime": {
     "end_time": "2023-02-21T05:04:24.005491Z",
     "start_time": "2023-02-21T05:01:24.115237Z"
    },
    "scrolled": true
   },
   "outputs": [
    {
     "name": "stdout",
     "output_type": "stream",
     "text": [
      "(50, 1)\n"
     ]
    },
    {
     "ename": "NameError",
     "evalue": "name 'data' is not defined",
     "output_type": "error",
     "traceback": [
      "\u001b[1;31m---------------------------------------------------------------------------\u001b[0m",
      "\u001b[1;31mNameError\u001b[0m                                 Traceback (most recent call last)",
      "Cell \u001b[1;32mIn[3], line 9\u001b[0m\n\u001b[0;32m      7\u001b[0m \u001b[38;5;66;03m# subset df based on the column names\u001b[39;00m\n\u001b[0;32m      8\u001b[0m df_subset \u001b[38;5;241m=\u001b[39m df\u001b[38;5;241m.\u001b[39mloc[:, df\u001b[38;5;241m.\u001b[39mcolumns\u001b[38;5;241m.\u001b[39misin(col_names)]\n\u001b[1;32m----> 9\u001b[0m df_subset[\u001b[38;5;124m'\u001b[39m\u001b[38;5;124mAPPRDX\u001b[39m\u001b[38;5;124m'\u001b[39m] \u001b[38;5;241m=\u001b[39m \u001b[43mdata\u001b[49m[\u001b[38;5;124m'\u001b[39m\u001b[38;5;124mAPPRDX\u001b[39m\u001b[38;5;124m'\u001b[39m]\n\u001b[0;32m     10\u001b[0m df_subset\u001b[38;5;241m.\u001b[39mto_csv (\u001b[38;5;124m'\u001b[39m\u001b[38;5;124mCognition_NMI_Top50_Male_Data.csv\u001b[39m\u001b[38;5;124m'\u001b[39m, index \u001b[38;5;241m=\u001b[39m \u001b[38;5;28;01mFalse\u001b[39;00m)\n\u001b[0;32m     11\u001b[0m df_subset\u001b[38;5;241m.\u001b[39mhead(\u001b[38;5;241m2\u001b[39m)\n",
      "\u001b[1;31mNameError\u001b[0m: name 'data' is not defined"
     ]
    }
   ],
   "source": [
    "df = pd.read_csv('CognitionCateg_Methylome_Male.csv')\n",
    "df1 = pd.read_csv('Cognition_NMI_Top50_Male.csv')\n",
    "print(df1.shape)\n"
   ]
  },
  {
   "cell_type": "code",
   "execution_count": 4,
   "id": "4ce66ba8",
   "metadata": {
    "ExecuteTime": {
     "end_time": "2023-02-21T05:05:05.478989Z",
     "start_time": "2023-02-21T05:05:04.930669Z"
    }
   },
   "outputs": [
    {
     "name": "stderr",
     "output_type": "stream",
     "text": [
      "C:\\Users\\system 4\\AppData\\Local\\Temp\\ipykernel_2668\\2893584996.py:6: SettingWithCopyWarning: \n",
      "A value is trying to be set on a copy of a slice from a DataFrame.\n",
      "Try using .loc[row_indexer,col_indexer] = value instead\n",
      "\n",
      "See the caveats in the documentation: https://pandas.pydata.org/pandas-docs/stable/user_guide/indexing.html#returning-a-view-versus-a-copy\n",
      "  df_subset['APPRDX'] = df['APPRDX']\n"
     ]
    },
    {
     "data": {
      "text/html": [
       "<div>\n",
       "<style scoped>\n",
       "    .dataframe tbody tr th:only-of-type {\n",
       "        vertical-align: middle;\n",
       "    }\n",
       "\n",
       "    .dataframe tbody tr th {\n",
       "        vertical-align: top;\n",
       "    }\n",
       "\n",
       "    .dataframe thead th {\n",
       "        text-align: right;\n",
       "    }\n",
       "</style>\n",
       "<table border=\"1\" class=\"dataframe\">\n",
       "  <thead>\n",
       "    <tr style=\"text-align: right;\">\n",
       "      <th></th>\n",
       "      <th>cg03787486</th>\n",
       "      <th>cg01360545</th>\n",
       "      <th>cg12573516</th>\n",
       "      <th>cg18859045</th>\n",
       "      <th>cg11450827</th>\n",
       "      <th>cg20981182</th>\n",
       "      <th>cg19505862</th>\n",
       "      <th>cg26941073</th>\n",
       "      <th>cg22917487</th>\n",
       "      <th>cg17545723</th>\n",
       "      <th>...</th>\n",
       "      <th>cg10131227</th>\n",
       "      <th>cg15469205</th>\n",
       "      <th>cg12613770</th>\n",
       "      <th>cg20003494</th>\n",
       "      <th>cg15736994</th>\n",
       "      <th>cg16840743</th>\n",
       "      <th>cg03909844</th>\n",
       "      <th>cg00558297</th>\n",
       "      <th>cg17668069</th>\n",
       "      <th>APPRDX</th>\n",
       "    </tr>\n",
       "  </thead>\n",
       "  <tbody>\n",
       "    <tr>\n",
       "      <th>0</th>\n",
       "      <td>0.035693</td>\n",
       "      <td>0.605723</td>\n",
       "      <td>0.026891</td>\n",
       "      <td>0.233609</td>\n",
       "      <td>0.797882</td>\n",
       "      <td>0.070829</td>\n",
       "      <td>0.040946</td>\n",
       "      <td>0.925943</td>\n",
       "      <td>0.875027</td>\n",
       "      <td>0.843961</td>\n",
       "      <td>...</td>\n",
       "      <td>0.929469</td>\n",
       "      <td>0.865868</td>\n",
       "      <td>0.838669</td>\n",
       "      <td>0.025708</td>\n",
       "      <td>0.523965</td>\n",
       "      <td>0.072730</td>\n",
       "      <td>0.675087</td>\n",
       "      <td>0.776180</td>\n",
       "      <td>0.044870</td>\n",
       "      <td>1</td>\n",
       "    </tr>\n",
       "    <tr>\n",
       "      <th>1</th>\n",
       "      <td>0.034595</td>\n",
       "      <td>0.633931</td>\n",
       "      <td>0.050838</td>\n",
       "      <td>0.335034</td>\n",
       "      <td>0.805798</td>\n",
       "      <td>0.079024</td>\n",
       "      <td>0.040822</td>\n",
       "      <td>0.915694</td>\n",
       "      <td>0.851476</td>\n",
       "      <td>0.877484</td>\n",
       "      <td>...</td>\n",
       "      <td>0.719363</td>\n",
       "      <td>0.830760</td>\n",
       "      <td>0.848701</td>\n",
       "      <td>0.045513</td>\n",
       "      <td>0.562597</td>\n",
       "      <td>0.072311</td>\n",
       "      <td>0.769234</td>\n",
       "      <td>0.366488</td>\n",
       "      <td>0.045872</td>\n",
       "      <td>1</td>\n",
       "    </tr>\n",
       "  </tbody>\n",
       "</table>\n",
       "<p>2 rows × 51 columns</p>\n",
       "</div>"
      ],
      "text/plain": [
       "   cg03787486  cg01360545  cg12573516  cg18859045  cg11450827  cg20981182  \\\n",
       "0    0.035693    0.605723    0.026891    0.233609    0.797882    0.070829   \n",
       "1    0.034595    0.633931    0.050838    0.335034    0.805798    0.079024   \n",
       "\n",
       "   cg19505862  cg26941073  cg22917487  cg17545723  ...  cg10131227  \\\n",
       "0    0.040946    0.925943    0.875027    0.843961  ...    0.929469   \n",
       "1    0.040822    0.915694    0.851476    0.877484  ...    0.719363   \n",
       "\n",
       "   cg15469205  cg12613770  cg20003494  cg15736994  cg16840743  cg03909844  \\\n",
       "0    0.865868    0.838669    0.025708    0.523965    0.072730    0.675087   \n",
       "1    0.830760    0.848701    0.045513    0.562597    0.072311    0.769234   \n",
       "\n",
       "   cg00558297  cg17668069  APPRDX  \n",
       "0    0.776180    0.044870       1  \n",
       "1    0.366488    0.045872       1  \n",
       "\n",
       "[2 rows x 51 columns]"
      ]
     },
     "execution_count": 4,
     "metadata": {},
     "output_type": "execute_result"
    }
   ],
   "source": [
    "# create a list of column names to subset from data\n",
    "col_names = df1.iloc[:, 0].tolist()\n",
    "\n",
    "# subset df based on the column names\n",
    "df_subset = df.loc[:, df.columns.isin(col_names)]\n",
    "df_subset['APPRDX'] = df['APPRDX']\n",
    "df_subset.to_csv ('Cognition_NMI_Top50_Male_Data.csv', index = False)\n",
    "df_subset.head(2)"
   ]
  },
  {
   "cell_type": "code",
   "execution_count": 5,
   "id": "0622fe4c",
   "metadata": {
    "ExecuteTime": {
     "end_time": "2023-02-21T05:05:17.217063Z",
     "start_time": "2023-02-21T05:05:16.294729Z"
    }
   },
   "outputs": [
    {
     "name": "stdout",
     "output_type": "stream",
     "text": [
      "(307, 101)\n"
     ]
    },
    {
     "data": {
      "text/html": [
       "<div>\n",
       "<style scoped>\n",
       "    .dataframe tbody tr th:only-of-type {\n",
       "        vertical-align: middle;\n",
       "    }\n",
       "\n",
       "    .dataframe tbody tr th {\n",
       "        vertical-align: top;\n",
       "    }\n",
       "\n",
       "    .dataframe thead th {\n",
       "        text-align: right;\n",
       "    }\n",
       "</style>\n",
       "<table border=\"1\" class=\"dataframe\">\n",
       "  <thead>\n",
       "    <tr style=\"text-align: right;\">\n",
       "      <th></th>\n",
       "      <th>PATNO</th>\n",
       "      <th>APPRDX</th>\n",
       "      <th>cg27171575</th>\n",
       "      <th>cg10693616</th>\n",
       "      <th>cg06098693</th>\n",
       "      <th>cg16444863</th>\n",
       "      <th>cg18174834</th>\n",
       "      <th>cg06129513</th>\n",
       "      <th>cg13312668</th>\n",
       "      <th>cg07456278</th>\n",
       "      <th>...</th>\n",
       "      <th>cg19711613</th>\n",
       "      <th>cg10131227</th>\n",
       "      <th>cg15469205</th>\n",
       "      <th>cg12613770</th>\n",
       "      <th>cg20003494</th>\n",
       "      <th>cg15736994</th>\n",
       "      <th>cg16840743</th>\n",
       "      <th>cg03909844</th>\n",
       "      <th>cg00558297</th>\n",
       "      <th>cg17668069</th>\n",
       "    </tr>\n",
       "  </thead>\n",
       "  <tbody>\n",
       "    <tr>\n",
       "      <th>0</th>\n",
       "      <td>3001</td>\n",
       "      <td>1</td>\n",
       "      <td>0.853809</td>\n",
       "      <td>0.012194</td>\n",
       "      <td>0.910787</td>\n",
       "      <td>0.931500</td>\n",
       "      <td>0.040499</td>\n",
       "      <td>0.843875</td>\n",
       "      <td>0.858468</td>\n",
       "      <td>0.582067</td>\n",
       "      <td>...</td>\n",
       "      <td>0.841310</td>\n",
       "      <td>0.929469</td>\n",
       "      <td>0.865868</td>\n",
       "      <td>0.838669</td>\n",
       "      <td>0.025708</td>\n",
       "      <td>0.523965</td>\n",
       "      <td>0.072730</td>\n",
       "      <td>0.675087</td>\n",
       "      <td>0.776180</td>\n",
       "      <td>0.044870</td>\n",
       "    </tr>\n",
       "    <tr>\n",
       "      <th>1</th>\n",
       "      <td>3007</td>\n",
       "      <td>1</td>\n",
       "      <td>0.895204</td>\n",
       "      <td>0.012696</td>\n",
       "      <td>0.924330</td>\n",
       "      <td>0.937715</td>\n",
       "      <td>0.034218</td>\n",
       "      <td>0.920245</td>\n",
       "      <td>0.895692</td>\n",
       "      <td>0.667340</td>\n",
       "      <td>...</td>\n",
       "      <td>0.839718</td>\n",
       "      <td>0.719363</td>\n",
       "      <td>0.830760</td>\n",
       "      <td>0.848701</td>\n",
       "      <td>0.045513</td>\n",
       "      <td>0.562597</td>\n",
       "      <td>0.072311</td>\n",
       "      <td>0.769234</td>\n",
       "      <td>0.366488</td>\n",
       "      <td>0.045872</td>\n",
       "    </tr>\n",
       "  </tbody>\n",
       "</table>\n",
       "<p>2 rows × 101 columns</p>\n",
       "</div>"
      ],
      "text/plain": [
       "   PATNO  APPRDX  cg27171575  cg10693616  cg06098693  cg16444863  cg18174834  \\\n",
       "0   3001       1    0.853809    0.012194    0.910787    0.931500    0.040499   \n",
       "1   3007       1    0.895204    0.012696    0.924330    0.937715    0.034218   \n",
       "\n",
       "   cg06129513  cg13312668  cg07456278  ...  cg19711613  cg10131227  \\\n",
       "0    0.843875    0.858468    0.582067  ...    0.841310    0.929469   \n",
       "1    0.920245    0.895692    0.667340  ...    0.839718    0.719363   \n",
       "\n",
       "   cg15469205  cg12613770  cg20003494  cg15736994  cg16840743  cg03909844  \\\n",
       "0    0.865868    0.838669    0.025708    0.523965    0.072730    0.675087   \n",
       "1    0.830760    0.848701    0.045513    0.562597    0.072311    0.769234   \n",
       "\n",
       "   cg00558297  cg17668069  \n",
       "0    0.776180    0.044870  \n",
       "1    0.366488    0.045872  \n",
       "\n",
       "[2 rows x 101 columns]"
      ]
     },
     "execution_count": 5,
     "metadata": {},
     "output_type": "execute_result"
    }
   ],
   "source": [
    "# concatenate the two dataframes along the columns axis\n",
    "concatenated_df = pd.concat([df2, df_subset], axis=1)\n",
    "\n",
    "# drop the duplicate columns\n",
    "final_df = concatenated_df.loc[:,~concatenated_df.columns.duplicated()]\n",
    "final_df.to_csv ('Cognition_Top50sMerge_Data_Male.csv', index = False)\n",
    "print(final_df.shape)\n",
    "final_df.head(2)"
   ]
  },
  {
   "cell_type": "markdown",
   "id": "ed23379b",
   "metadata": {},
   "source": [
    "# Depression"
   ]
  },
  {
   "cell_type": "code",
   "execution_count": 8,
   "id": "383e3516",
   "metadata": {
    "ExecuteTime": {
     "end_time": "2023-02-21T05:08:38.252405Z",
     "start_time": "2023-02-21T05:08:38.136539Z"
    }
   },
   "outputs": [
    {
     "name": "stdout",
     "output_type": "stream",
     "text": [
      "Z:\\PPMI_Data\\Excels\\NonMotors\\Derived250\\Male\\GeneCpG\\Depression\n",
      "(307, 52)\n"
     ]
    }
   ],
   "source": [
    "%cd Z:\\PPMI_Data\\Excels\\NonMotors\\Derived250\\Male\\GeneCpG\\Depression\n",
    "\n",
    "df2 = pd.read_csv('Depression_Boruta_Top50_Data_Male.csv')\n",
    "print(df2.shape)"
   ]
  },
  {
   "cell_type": "code",
   "execution_count": 9,
   "id": "dde6c562",
   "metadata": {
    "ExecuteTime": {
     "end_time": "2023-02-21T05:09:45.718405Z",
     "start_time": "2023-02-21T05:08:39.991241Z"
    }
   },
   "outputs": [
    {
     "name": "stdout",
     "output_type": "stream",
     "text": [
      "(50, 1)\n"
     ]
    },
    {
     "name": "stderr",
     "output_type": "stream",
     "text": [
      "C:\\Users\\system 4\\AppData\\Local\\Temp\\ipykernel_2668\\152000019.py:9: SettingWithCopyWarning: \n",
      "A value is trying to be set on a copy of a slice from a DataFrame.\n",
      "Try using .loc[row_indexer,col_indexer] = value instead\n",
      "\n",
      "See the caveats in the documentation: https://pandas.pydata.org/pandas-docs/stable/user_guide/indexing.html#returning-a-view-versus-a-copy\n",
      "  df_subset['APPRDX'] = df['APPRDX']\n"
     ]
    },
    {
     "data": {
      "text/html": [
       "<div>\n",
       "<style scoped>\n",
       "    .dataframe tbody tr th:only-of-type {\n",
       "        vertical-align: middle;\n",
       "    }\n",
       "\n",
       "    .dataframe tbody tr th {\n",
       "        vertical-align: top;\n",
       "    }\n",
       "\n",
       "    .dataframe thead th {\n",
       "        text-align: right;\n",
       "    }\n",
       "</style>\n",
       "<table border=\"1\" class=\"dataframe\">\n",
       "  <thead>\n",
       "    <tr style=\"text-align: right;\">\n",
       "      <th></th>\n",
       "      <th>cg06724212</th>\n",
       "      <th>cg01070424</th>\n",
       "      <th>cg01360545</th>\n",
       "      <th>cg24860848</th>\n",
       "      <th>cg05826330</th>\n",
       "      <th>cg23149728</th>\n",
       "      <th>cg19559114</th>\n",
       "      <th>cg12573516</th>\n",
       "      <th>cg02050165</th>\n",
       "      <th>cg18859045</th>\n",
       "      <th>...</th>\n",
       "      <th>cg12613770</th>\n",
       "      <th>cg20003494</th>\n",
       "      <th>cg06470379</th>\n",
       "      <th>cg05467890</th>\n",
       "      <th>cg15736994</th>\n",
       "      <th>cg16840743</th>\n",
       "      <th>cg00558297</th>\n",
       "      <th>cg06435511</th>\n",
       "      <th>cg11485463</th>\n",
       "      <th>APPRDX</th>\n",
       "    </tr>\n",
       "  </thead>\n",
       "  <tbody>\n",
       "    <tr>\n",
       "      <th>0</th>\n",
       "      <td>0.594896</td>\n",
       "      <td>0.450485</td>\n",
       "      <td>0.605723</td>\n",
       "      <td>0.783908</td>\n",
       "      <td>0.015721</td>\n",
       "      <td>0.708239</td>\n",
       "      <td>0.823933</td>\n",
       "      <td>0.026891</td>\n",
       "      <td>0.713721</td>\n",
       "      <td>0.233609</td>\n",
       "      <td>...</td>\n",
       "      <td>0.838669</td>\n",
       "      <td>0.025708</td>\n",
       "      <td>0.775220</td>\n",
       "      <td>0.870255</td>\n",
       "      <td>0.523965</td>\n",
       "      <td>0.072730</td>\n",
       "      <td>0.776180</td>\n",
       "      <td>0.960060</td>\n",
       "      <td>0.011261</td>\n",
       "      <td>1</td>\n",
       "    </tr>\n",
       "    <tr>\n",
       "      <th>1</th>\n",
       "      <td>0.577396</td>\n",
       "      <td>0.368044</td>\n",
       "      <td>0.633931</td>\n",
       "      <td>0.839703</td>\n",
       "      <td>0.018893</td>\n",
       "      <td>0.789988</td>\n",
       "      <td>0.882641</td>\n",
       "      <td>0.050838</td>\n",
       "      <td>0.840914</td>\n",
       "      <td>0.335034</td>\n",
       "      <td>...</td>\n",
       "      <td>0.848701</td>\n",
       "      <td>0.045513</td>\n",
       "      <td>0.840957</td>\n",
       "      <td>0.876092</td>\n",
       "      <td>0.562597</td>\n",
       "      <td>0.072311</td>\n",
       "      <td>0.366488</td>\n",
       "      <td>0.943276</td>\n",
       "      <td>0.013494</td>\n",
       "      <td>1</td>\n",
       "    </tr>\n",
       "  </tbody>\n",
       "</table>\n",
       "<p>2 rows × 51 columns</p>\n",
       "</div>"
      ],
      "text/plain": [
       "   cg06724212  cg01070424  cg01360545  cg24860848  cg05826330  cg23149728  \\\n",
       "0    0.594896    0.450485    0.605723    0.783908    0.015721    0.708239   \n",
       "1    0.577396    0.368044    0.633931    0.839703    0.018893    0.789988   \n",
       "\n",
       "   cg19559114  cg12573516  cg02050165  cg18859045  ...  cg12613770  \\\n",
       "0    0.823933    0.026891    0.713721    0.233609  ...    0.838669   \n",
       "1    0.882641    0.050838    0.840914    0.335034  ...    0.848701   \n",
       "\n",
       "   cg20003494  cg06470379  cg05467890  cg15736994  cg16840743  cg00558297  \\\n",
       "0    0.025708    0.775220    0.870255    0.523965    0.072730    0.776180   \n",
       "1    0.045513    0.840957    0.876092    0.562597    0.072311    0.366488   \n",
       "\n",
       "   cg06435511  cg11485463  APPRDX  \n",
       "0    0.960060    0.011261       1  \n",
       "1    0.943276    0.013494       1  \n",
       "\n",
       "[2 rows x 51 columns]"
      ]
     },
     "execution_count": 9,
     "metadata": {},
     "output_type": "execute_result"
    }
   ],
   "source": [
    "df = pd.read_csv('DepressionCateg_Methylome_Male.csv')\n",
    "df1 = pd.read_csv('Depression_NMI_Top50_Male.csv')\n",
    "print(df1.shape)\n",
    "# create a list of column names to subset from data\n",
    "col_names = df1.iloc[:, 0].tolist()\n",
    "\n",
    "# subset df based on the column names\n",
    "df_subset = df.loc[:, df.columns.isin(col_names)]\n",
    "df_subset['APPRDX'] = df['APPRDX']\n",
    "df_subset.to_csv ('Depression_NMI_Top50_Male_Data.csv', index = False)\n",
    "df_subset.head(2)"
   ]
  },
  {
   "cell_type": "code",
   "execution_count": 11,
   "id": "a1951c84",
   "metadata": {
    "ExecuteTime": {
     "end_time": "2023-02-21T05:10:41.565435Z",
     "start_time": "2023-02-21T05:10:41.480730Z"
    }
   },
   "outputs": [
    {
     "name": "stdout",
     "output_type": "stream",
     "text": [
      "(307, 100)\n"
     ]
    },
    {
     "data": {
      "text/html": [
       "<div>\n",
       "<style scoped>\n",
       "    .dataframe tbody tr th:only-of-type {\n",
       "        vertical-align: middle;\n",
       "    }\n",
       "\n",
       "    .dataframe tbody tr th {\n",
       "        vertical-align: top;\n",
       "    }\n",
       "\n",
       "    .dataframe thead th {\n",
       "        text-align: right;\n",
       "    }\n",
       "</style>\n",
       "<table border=\"1\" class=\"dataframe\">\n",
       "  <thead>\n",
       "    <tr style=\"text-align: right;\">\n",
       "      <th></th>\n",
       "      <th>PATNO</th>\n",
       "      <th>APPRDX</th>\n",
       "      <th>cg03389720</th>\n",
       "      <th>cg02471954</th>\n",
       "      <th>cg23297661</th>\n",
       "      <th>cg15313666</th>\n",
       "      <th>cg22870386</th>\n",
       "      <th>cg18174834</th>\n",
       "      <th>cg06129513</th>\n",
       "      <th>cg23149728</th>\n",
       "      <th>...</th>\n",
       "      <th>cg19711613</th>\n",
       "      <th>cg23061549</th>\n",
       "      <th>cg12613770</th>\n",
       "      <th>cg20003494</th>\n",
       "      <th>cg06470379</th>\n",
       "      <th>cg05467890</th>\n",
       "      <th>cg15736994</th>\n",
       "      <th>cg16840743</th>\n",
       "      <th>cg00558297</th>\n",
       "      <th>cg06435511</th>\n",
       "    </tr>\n",
       "  </thead>\n",
       "  <tbody>\n",
       "    <tr>\n",
       "      <th>0</th>\n",
       "      <td>3001</td>\n",
       "      <td>1</td>\n",
       "      <td>0.764712</td>\n",
       "      <td>0.853669</td>\n",
       "      <td>0.806845</td>\n",
       "      <td>0.907550</td>\n",
       "      <td>0.828698</td>\n",
       "      <td>0.040499</td>\n",
       "      <td>0.843875</td>\n",
       "      <td>0.708239</td>\n",
       "      <td>...</td>\n",
       "      <td>0.841310</td>\n",
       "      <td>0.914102</td>\n",
       "      <td>0.838669</td>\n",
       "      <td>0.025708</td>\n",
       "      <td>0.775220</td>\n",
       "      <td>0.870255</td>\n",
       "      <td>0.523965</td>\n",
       "      <td>0.072730</td>\n",
       "      <td>0.776180</td>\n",
       "      <td>0.960060</td>\n",
       "    </tr>\n",
       "    <tr>\n",
       "      <th>1</th>\n",
       "      <td>3007</td>\n",
       "      <td>1</td>\n",
       "      <td>0.820463</td>\n",
       "      <td>0.918805</td>\n",
       "      <td>0.903101</td>\n",
       "      <td>0.927117</td>\n",
       "      <td>0.888004</td>\n",
       "      <td>0.034218</td>\n",
       "      <td>0.920245</td>\n",
       "      <td>0.789988</td>\n",
       "      <td>...</td>\n",
       "      <td>0.839718</td>\n",
       "      <td>0.932469</td>\n",
       "      <td>0.848701</td>\n",
       "      <td>0.045513</td>\n",
       "      <td>0.840957</td>\n",
       "      <td>0.876092</td>\n",
       "      <td>0.562597</td>\n",
       "      <td>0.072311</td>\n",
       "      <td>0.366488</td>\n",
       "      <td>0.943276</td>\n",
       "    </tr>\n",
       "  </tbody>\n",
       "</table>\n",
       "<p>2 rows × 100 columns</p>\n",
       "</div>"
      ],
      "text/plain": [
       "   PATNO  APPRDX  cg03389720  cg02471954  cg23297661  cg15313666  cg22870386  \\\n",
       "0   3001       1    0.764712    0.853669    0.806845    0.907550    0.828698   \n",
       "1   3007       1    0.820463    0.918805    0.903101    0.927117    0.888004   \n",
       "\n",
       "   cg18174834  cg06129513  cg23149728  ...  cg19711613  cg23061549  \\\n",
       "0    0.040499    0.843875    0.708239  ...    0.841310    0.914102   \n",
       "1    0.034218    0.920245    0.789988  ...    0.839718    0.932469   \n",
       "\n",
       "   cg12613770  cg20003494  cg06470379  cg05467890  cg15736994  cg16840743  \\\n",
       "0    0.838669    0.025708    0.775220    0.870255    0.523965    0.072730   \n",
       "1    0.848701    0.045513    0.840957    0.876092    0.562597    0.072311   \n",
       "\n",
       "   cg00558297  cg06435511  \n",
       "0    0.776180    0.960060  \n",
       "1    0.366488    0.943276  \n",
       "\n",
       "[2 rows x 100 columns]"
      ]
     },
     "execution_count": 11,
     "metadata": {},
     "output_type": "execute_result"
    }
   ],
   "source": [
    "# concatenate the two dataframes along the columns axis\n",
    "concatenated_df = pd.concat([df2, df_subset], axis=1)\n",
    "\n",
    "# drop the duplicate columns\n",
    "final_df = concatenated_df.loc[:,~concatenated_df.columns.duplicated()]\n",
    "final_df.to_csv ('Depression_Top50sMerge_Data_Male.csv', index = False)\n",
    "print(final_df.shape)\n",
    "final_df.head(2)"
   ]
  },
  {
   "cell_type": "markdown",
   "id": "04aaf296",
   "metadata": {},
   "source": [
    "# Fatigue"
   ]
  },
  {
   "cell_type": "code",
   "execution_count": 12,
   "id": "e108f968",
   "metadata": {
    "ExecuteTime": {
     "end_time": "2023-02-21T05:11:01.386836Z",
     "start_time": "2023-02-21T05:11:01.333411Z"
    },
    "scrolled": true
   },
   "outputs": [
    {
     "name": "stdout",
     "output_type": "stream",
     "text": [
      "Z:\\PPMI_Data\\Excels\\NonMotors\\Derived250\\Male\\GeneCpG\\Fatigue\n",
      "(307, 52)\n"
     ]
    }
   ],
   "source": [
    "%cd Z:\\PPMI_Data\\Excels\\NonMotors\\Derived250\\Male\\GeneCpG\\Fatigue\n",
    "\n",
    "df2 = pd.read_csv('Fatigue_Boruta_Top50_Data_Male.csv')\n",
    "print(df2.shape)"
   ]
  },
  {
   "cell_type": "code",
   "execution_count": 13,
   "id": "ac591188",
   "metadata": {
    "ExecuteTime": {
     "end_time": "2023-02-21T05:11:58.588871Z",
     "start_time": "2023-02-21T05:11:52.339776Z"
    }
   },
   "outputs": [
    {
     "name": "stdout",
     "output_type": "stream",
     "text": [
      "(50, 1)\n"
     ]
    },
    {
     "name": "stderr",
     "output_type": "stream",
     "text": [
      "C:\\Users\\system 4\\AppData\\Local\\Temp\\ipykernel_2668\\383895989.py:9: SettingWithCopyWarning: \n",
      "A value is trying to be set on a copy of a slice from a DataFrame.\n",
      "Try using .loc[row_indexer,col_indexer] = value instead\n",
      "\n",
      "See the caveats in the documentation: https://pandas.pydata.org/pandas-docs/stable/user_guide/indexing.html#returning-a-view-versus-a-copy\n",
      "  df_subset['APPRDX'] = df['APPRDX']\n"
     ]
    },
    {
     "data": {
      "text/html": [
       "<div>\n",
       "<style scoped>\n",
       "    .dataframe tbody tr th:only-of-type {\n",
       "        vertical-align: middle;\n",
       "    }\n",
       "\n",
       "    .dataframe tbody tr th {\n",
       "        vertical-align: top;\n",
       "    }\n",
       "\n",
       "    .dataframe thead th {\n",
       "        text-align: right;\n",
       "    }\n",
       "</style>\n",
       "<table border=\"1\" class=\"dataframe\">\n",
       "  <thead>\n",
       "    <tr style=\"text-align: right;\">\n",
       "      <th></th>\n",
       "      <th>cg03787486</th>\n",
       "      <th>cg04721711</th>\n",
       "      <th>cg05826330</th>\n",
       "      <th>cg02295000</th>\n",
       "      <th>cg09537714</th>\n",
       "      <th>cg15272034</th>\n",
       "      <th>cg24810998</th>\n",
       "      <th>cg16448286</th>\n",
       "      <th>cg12350196</th>\n",
       "      <th>cg17240004</th>\n",
       "      <th>...</th>\n",
       "      <th>cg06470379</th>\n",
       "      <th>cg15228932</th>\n",
       "      <th>cg25330422</th>\n",
       "      <th>cg17136384</th>\n",
       "      <th>cg10538320</th>\n",
       "      <th>cg16195239</th>\n",
       "      <th>cg25772658</th>\n",
       "      <th>cg09826790</th>\n",
       "      <th>cg19095988</th>\n",
       "      <th>APPRDX</th>\n",
       "    </tr>\n",
       "  </thead>\n",
       "  <tbody>\n",
       "    <tr>\n",
       "      <th>0</th>\n",
       "      <td>0.035693</td>\n",
       "      <td>0.831384</td>\n",
       "      <td>0.015721</td>\n",
       "      <td>0.826318</td>\n",
       "      <td>0.726330</td>\n",
       "      <td>0.850724</td>\n",
       "      <td>0.734430</td>\n",
       "      <td>0.906014</td>\n",
       "      <td>0.407146</td>\n",
       "      <td>0.922325</td>\n",
       "      <td>...</td>\n",
       "      <td>0.775220</td>\n",
       "      <td>0.922735</td>\n",
       "      <td>0.713645</td>\n",
       "      <td>0.901962</td>\n",
       "      <td>0.032919</td>\n",
       "      <td>0.946079</td>\n",
       "      <td>0.911458</td>\n",
       "      <td>0.869270</td>\n",
       "      <td>0.757170</td>\n",
       "      <td>1</td>\n",
       "    </tr>\n",
       "    <tr>\n",
       "      <th>1</th>\n",
       "      <td>0.034595</td>\n",
       "      <td>0.875973</td>\n",
       "      <td>0.018893</td>\n",
       "      <td>0.805755</td>\n",
       "      <td>0.742926</td>\n",
       "      <td>0.837866</td>\n",
       "      <td>0.907744</td>\n",
       "      <td>0.890996</td>\n",
       "      <td>0.345335</td>\n",
       "      <td>0.932065</td>\n",
       "      <td>...</td>\n",
       "      <td>0.840957</td>\n",
       "      <td>0.916820</td>\n",
       "      <td>0.655201</td>\n",
       "      <td>0.872775</td>\n",
       "      <td>0.025642</td>\n",
       "      <td>0.905118</td>\n",
       "      <td>0.903341</td>\n",
       "      <td>0.914964</td>\n",
       "      <td>0.849966</td>\n",
       "      <td>1</td>\n",
       "    </tr>\n",
       "  </tbody>\n",
       "</table>\n",
       "<p>2 rows × 51 columns</p>\n",
       "</div>"
      ],
      "text/plain": [
       "   cg03787486  cg04721711  cg05826330  cg02295000  cg09537714  cg15272034  \\\n",
       "0    0.035693    0.831384    0.015721    0.826318    0.726330    0.850724   \n",
       "1    0.034595    0.875973    0.018893    0.805755    0.742926    0.837866   \n",
       "\n",
       "   cg24810998  cg16448286  cg12350196  cg17240004  ...  cg06470379  \\\n",
       "0    0.734430    0.906014    0.407146    0.922325  ...    0.775220   \n",
       "1    0.907744    0.890996    0.345335    0.932065  ...    0.840957   \n",
       "\n",
       "   cg15228932  cg25330422  cg17136384  cg10538320  cg16195239  cg25772658  \\\n",
       "0    0.922735    0.713645    0.901962    0.032919    0.946079    0.911458   \n",
       "1    0.916820    0.655201    0.872775    0.025642    0.905118    0.903341   \n",
       "\n",
       "   cg09826790  cg19095988  APPRDX  \n",
       "0    0.869270    0.757170       1  \n",
       "1    0.914964    0.849966       1  \n",
       "\n",
       "[2 rows x 51 columns]"
      ]
     },
     "execution_count": 13,
     "metadata": {},
     "output_type": "execute_result"
    }
   ],
   "source": [
    "df = pd.read_csv('FatigueCateg_Methylome_Male.csv')\n",
    "df1 = pd.read_csv('Fatigue_NMI_Top50_Male.csv')\n",
    "print(df1.shape)\n",
    "# create a list of column names to subset from data\n",
    "col_names = df1.iloc[:, 0].tolist()\n",
    "\n",
    "# subset df based on the column names\n",
    "df_subset = df.loc[:, df.columns.isin(col_names)]\n",
    "df_subset['APPRDX'] = df['APPRDX']\n",
    "df_subset.to_csv ('Fatigue_NMI_Top50_Male_Data.csv', index = False)\n",
    "df_subset.head(2)"
   ]
  },
  {
   "cell_type": "code",
   "execution_count": 14,
   "id": "b20efb4f",
   "metadata": {
    "ExecuteTime": {
     "end_time": "2023-02-21T05:12:12.690901Z",
     "start_time": "2023-02-21T05:12:12.621878Z"
    }
   },
   "outputs": [
    {
     "name": "stdout",
     "output_type": "stream",
     "text": [
      "(307, 100)\n"
     ]
    },
    {
     "data": {
      "text/html": [
       "<div>\n",
       "<style scoped>\n",
       "    .dataframe tbody tr th:only-of-type {\n",
       "        vertical-align: middle;\n",
       "    }\n",
       "\n",
       "    .dataframe tbody tr th {\n",
       "        vertical-align: top;\n",
       "    }\n",
       "\n",
       "    .dataframe thead th {\n",
       "        text-align: right;\n",
       "    }\n",
       "</style>\n",
       "<table border=\"1\" class=\"dataframe\">\n",
       "  <thead>\n",
       "    <tr style=\"text-align: right;\">\n",
       "      <th></th>\n",
       "      <th>PATNO</th>\n",
       "      <th>APPRDX</th>\n",
       "      <th>cg14025220</th>\n",
       "      <th>cg06129513</th>\n",
       "      <th>cg03433260</th>\n",
       "      <th>cg19226007</th>\n",
       "      <th>cg18473117</th>\n",
       "      <th>cg23225637</th>\n",
       "      <th>cg14999396</th>\n",
       "      <th>cg17422176</th>\n",
       "      <th>...</th>\n",
       "      <th>cg16338844</th>\n",
       "      <th>cg06470379</th>\n",
       "      <th>cg15228932</th>\n",
       "      <th>cg25330422</th>\n",
       "      <th>cg17136384</th>\n",
       "      <th>cg10538320</th>\n",
       "      <th>cg16195239</th>\n",
       "      <th>cg25772658</th>\n",
       "      <th>cg09826790</th>\n",
       "      <th>cg19095988</th>\n",
       "    </tr>\n",
       "  </thead>\n",
       "  <tbody>\n",
       "    <tr>\n",
       "      <th>0</th>\n",
       "      <td>3001</td>\n",
       "      <td>1</td>\n",
       "      <td>0.899514</td>\n",
       "      <td>0.843875</td>\n",
       "      <td>0.038531</td>\n",
       "      <td>0.040020</td>\n",
       "      <td>0.938774</td>\n",
       "      <td>0.874061</td>\n",
       "      <td>0.901298</td>\n",
       "      <td>0.117596</td>\n",
       "      <td>...</td>\n",
       "      <td>0.753305</td>\n",
       "      <td>0.775220</td>\n",
       "      <td>0.922735</td>\n",
       "      <td>0.713645</td>\n",
       "      <td>0.901962</td>\n",
       "      <td>0.032919</td>\n",
       "      <td>0.946079</td>\n",
       "      <td>0.911458</td>\n",
       "      <td>0.869270</td>\n",
       "      <td>0.757170</td>\n",
       "    </tr>\n",
       "    <tr>\n",
       "      <th>1</th>\n",
       "      <td>3007</td>\n",
       "      <td>1</td>\n",
       "      <td>0.911433</td>\n",
       "      <td>0.920245</td>\n",
       "      <td>0.020036</td>\n",
       "      <td>0.017811</td>\n",
       "      <td>0.928175</td>\n",
       "      <td>0.937422</td>\n",
       "      <td>0.854497</td>\n",
       "      <td>0.147173</td>\n",
       "      <td>...</td>\n",
       "      <td>0.769894</td>\n",
       "      <td>0.840957</td>\n",
       "      <td>0.916820</td>\n",
       "      <td>0.655201</td>\n",
       "      <td>0.872775</td>\n",
       "      <td>0.025642</td>\n",
       "      <td>0.905118</td>\n",
       "      <td>0.903341</td>\n",
       "      <td>0.914964</td>\n",
       "      <td>0.849966</td>\n",
       "    </tr>\n",
       "  </tbody>\n",
       "</table>\n",
       "<p>2 rows × 100 columns</p>\n",
       "</div>"
      ],
      "text/plain": [
       "   PATNO  APPRDX  cg14025220  cg06129513  cg03433260  cg19226007  cg18473117  \\\n",
       "0   3001       1    0.899514    0.843875    0.038531    0.040020    0.938774   \n",
       "1   3007       1    0.911433    0.920245    0.020036    0.017811    0.928175   \n",
       "\n",
       "   cg23225637  cg14999396  cg17422176  ...  cg16338844  cg06470379  \\\n",
       "0    0.874061    0.901298    0.117596  ...    0.753305    0.775220   \n",
       "1    0.937422    0.854497    0.147173  ...    0.769894    0.840957   \n",
       "\n",
       "   cg15228932  cg25330422  cg17136384  cg10538320  cg16195239  cg25772658  \\\n",
       "0    0.922735    0.713645    0.901962    0.032919    0.946079    0.911458   \n",
       "1    0.916820    0.655201    0.872775    0.025642    0.905118    0.903341   \n",
       "\n",
       "   cg09826790  cg19095988  \n",
       "0    0.869270    0.757170  \n",
       "1    0.914964    0.849966  \n",
       "\n",
       "[2 rows x 100 columns]"
      ]
     },
     "execution_count": 14,
     "metadata": {},
     "output_type": "execute_result"
    }
   ],
   "source": [
    "# concatenate the two dataframes along the columns axis\n",
    "concatenated_df = pd.concat([df2, df_subset], axis=1)\n",
    "\n",
    "# drop the duplicate columns\n",
    "final_df = concatenated_df.loc[:,~concatenated_df.columns.duplicated()]\n",
    "final_df.to_csv ('Fatigue_Top50sMerge_Data_Male.csv', index = False)\n",
    "print(final_df.shape)\n",
    "final_df.head(2)"
   ]
  },
  {
   "cell_type": "markdown",
   "id": "8ebd5b9b",
   "metadata": {},
   "source": [
    "# Hopkins"
   ]
  },
  {
   "cell_type": "code",
   "execution_count": 15,
   "id": "0dec4845",
   "metadata": {
    "ExecuteTime": {
     "end_time": "2023-02-21T05:13:55.795350Z",
     "start_time": "2023-02-21T05:13:55.764093Z"
    }
   },
   "outputs": [
    {
     "name": "stdout",
     "output_type": "stream",
     "text": [
      "Z:\\PPMI_Data\\Excels\\NonMotors\\Derived250\\Male\\GeneCpG\\Hopkins\n",
      "(110, 52)\n",
      "(110, 52)\n"
     ]
    }
   ],
   "source": [
    "%cd Z:\\PPMI_Data\\Excels\\NonMotors\\Derived250\\Male\\GeneCpG\\Hopkins\n",
    "df1 = pd.read_csv('Top50NMI_Hopkins_Data.csv')\n",
    "print(df1.shape)\n",
    "df2 = pd.read_csv('Top50Boruta_Hopkins_Data.csv')\n",
    "print(df2.shape)"
   ]
  },
  {
   "cell_type": "code",
   "execution_count": 16,
   "id": "50c59174",
   "metadata": {
    "ExecuteTime": {
     "end_time": "2023-02-21T05:14:03.591425Z",
     "start_time": "2023-02-21T05:14:03.528885Z"
    }
   },
   "outputs": [
    {
     "name": "stdout",
     "output_type": "stream",
     "text": [
      "(110, 96)\n"
     ]
    },
    {
     "data": {
      "text/html": [
       "<div>\n",
       "<style scoped>\n",
       "    .dataframe tbody tr th:only-of-type {\n",
       "        vertical-align: middle;\n",
       "    }\n",
       "\n",
       "    .dataframe tbody tr th {\n",
       "        vertical-align: top;\n",
       "    }\n",
       "\n",
       "    .dataframe thead th {\n",
       "        text-align: right;\n",
       "    }\n",
       "</style>\n",
       "<table border=\"1\" class=\"dataframe\">\n",
       "  <thead>\n",
       "    <tr style=\"text-align: right;\">\n",
       "      <th></th>\n",
       "      <th>PATNO</th>\n",
       "      <th>APPRDX</th>\n",
       "      <th>cg16606032</th>\n",
       "      <th>cg21620535</th>\n",
       "      <th>cg04154142</th>\n",
       "      <th>cg11733478</th>\n",
       "      <th>cg19041419</th>\n",
       "      <th>cg09625173</th>\n",
       "      <th>cg03596479</th>\n",
       "      <th>cg13444528</th>\n",
       "      <th>...</th>\n",
       "      <th>cg25332095</th>\n",
       "      <th>cg09149648</th>\n",
       "      <th>cg08426369</th>\n",
       "      <th>cg18477429</th>\n",
       "      <th>cg06947206</th>\n",
       "      <th>cg07033239</th>\n",
       "      <th>cg04030905</th>\n",
       "      <th>cg06347150</th>\n",
       "      <th>cg11489262</th>\n",
       "      <th>cg09445727</th>\n",
       "    </tr>\n",
       "  </thead>\n",
       "  <tbody>\n",
       "    <tr>\n",
       "      <th>0</th>\n",
       "      <td>3010</td>\n",
       "      <td>1</td>\n",
       "      <td>0.886049</td>\n",
       "      <td>0.038450</td>\n",
       "      <td>0.549569</td>\n",
       "      <td>0.054790</td>\n",
       "      <td>0.807488</td>\n",
       "      <td>0.037946</td>\n",
       "      <td>0.489814</td>\n",
       "      <td>0.020101</td>\n",
       "      <td>...</td>\n",
       "      <td>0.883962</td>\n",
       "      <td>0.016367</td>\n",
       "      <td>0.871505</td>\n",
       "      <td>0.865235</td>\n",
       "      <td>0.011422</td>\n",
       "      <td>0.861033</td>\n",
       "      <td>0.025250</td>\n",
       "      <td>0.079547</td>\n",
       "      <td>0.083984</td>\n",
       "      <td>0.032773</td>\n",
       "    </tr>\n",
       "    <tr>\n",
       "      <th>1</th>\n",
       "      <td>3024</td>\n",
       "      <td>1</td>\n",
       "      <td>0.910212</td>\n",
       "      <td>0.033025</td>\n",
       "      <td>0.711563</td>\n",
       "      <td>0.023197</td>\n",
       "      <td>0.804178</td>\n",
       "      <td>0.028863</td>\n",
       "      <td>0.614094</td>\n",
       "      <td>0.009059</td>\n",
       "      <td>...</td>\n",
       "      <td>0.858942</td>\n",
       "      <td>0.012130</td>\n",
       "      <td>0.870550</td>\n",
       "      <td>0.865201</td>\n",
       "      <td>0.007042</td>\n",
       "      <td>0.842768</td>\n",
       "      <td>0.028493</td>\n",
       "      <td>0.041906</td>\n",
       "      <td>0.090219</td>\n",
       "      <td>0.020563</td>\n",
       "    </tr>\n",
       "  </tbody>\n",
       "</table>\n",
       "<p>2 rows × 96 columns</p>\n",
       "</div>"
      ],
      "text/plain": [
       "   PATNO  APPRDX  cg16606032  cg21620535  cg04154142  cg11733478  cg19041419  \\\n",
       "0   3010       1    0.886049    0.038450    0.549569    0.054790    0.807488   \n",
       "1   3024       1    0.910212    0.033025    0.711563    0.023197    0.804178   \n",
       "\n",
       "   cg09625173  cg03596479  cg13444528  ...  cg25332095  cg09149648  \\\n",
       "0    0.037946    0.489814    0.020101  ...    0.883962    0.016367   \n",
       "1    0.028863    0.614094    0.009059  ...    0.858942    0.012130   \n",
       "\n",
       "   cg08426369  cg18477429  cg06947206  cg07033239  cg04030905  cg06347150  \\\n",
       "0    0.871505    0.865235    0.011422    0.861033    0.025250    0.079547   \n",
       "1    0.870550    0.865201    0.007042    0.842768    0.028493    0.041906   \n",
       "\n",
       "   cg11489262  cg09445727  \n",
       "0    0.083984    0.032773  \n",
       "1    0.090219    0.020563  \n",
       "\n",
       "[2 rows x 96 columns]"
      ]
     },
     "execution_count": 16,
     "metadata": {},
     "output_type": "execute_result"
    }
   ],
   "source": [
    "# concatenate the two dataframes along the columns axis\n",
    "concatenated_df = pd.concat([df1, df2], axis=1)\n",
    "\n",
    "# drop the duplicate columns\n",
    "final_df = concatenated_df.loc[:,~concatenated_df.columns.duplicated()]\n",
    "final_df.to_csv ('Hopkins_Top50sMerge_Data_Male.csv', index = False)\n",
    "print(final_df.shape)\n",
    "final_df.head(2)"
   ]
  },
  {
   "cell_type": "markdown",
   "id": "cec9bb89",
   "metadata": {},
   "source": [
    "# SleepDay"
   ]
  },
  {
   "cell_type": "code",
   "execution_count": 2,
   "id": "7a0f28e0",
   "metadata": {
    "ExecuteTime": {
     "end_time": "2023-02-21T07:14:04.135350Z",
     "start_time": "2023-02-21T07:14:04.097144Z"
    }
   },
   "outputs": [
    {
     "name": "stdout",
     "output_type": "stream",
     "text": [
      "Z:\\PPMI_Data\\Excels\\NonMotors\\Derived250\\Male\\GeneCpG\\SleepDay\n",
      "(308, 52)\n",
      "(308, 52)\n"
     ]
    }
   ],
   "source": [
    "%cd Z:\\PPMI_Data\\Excels\\NonMotors\\Derived250\\Male\\GeneCpG\\SleepDay\n",
    "df1 = pd.read_csv('Top50NMI_SleepDay_Data.csv')\n",
    "print(df1.shape)\n",
    "df2 = pd.read_csv('Top50Boruta_SleepDay_Data.csv')\n",
    "print(df2.shape)"
   ]
  },
  {
   "cell_type": "code",
   "execution_count": 3,
   "id": "50405625",
   "metadata": {
    "ExecuteTime": {
     "end_time": "2023-02-21T07:14:08.435322Z",
     "start_time": "2023-02-21T07:14:08.346862Z"
    }
   },
   "outputs": [
    {
     "name": "stdout",
     "output_type": "stream",
     "text": [
      "(308, 97)\n"
     ]
    },
    {
     "data": {
      "text/html": [
       "<div>\n",
       "<style scoped>\n",
       "    .dataframe tbody tr th:only-of-type {\n",
       "        vertical-align: middle;\n",
       "    }\n",
       "\n",
       "    .dataframe tbody tr th {\n",
       "        vertical-align: top;\n",
       "    }\n",
       "\n",
       "    .dataframe thead th {\n",
       "        text-align: right;\n",
       "    }\n",
       "</style>\n",
       "<table border=\"1\" class=\"dataframe\">\n",
       "  <thead>\n",
       "    <tr style=\"text-align: right;\">\n",
       "      <th></th>\n",
       "      <th>PATNO</th>\n",
       "      <th>APPRDX</th>\n",
       "      <th>cg20003494</th>\n",
       "      <th>cg12653876</th>\n",
       "      <th>cg19559114</th>\n",
       "      <th>cg13795060</th>\n",
       "      <th>cg10131227</th>\n",
       "      <th>cg15272034</th>\n",
       "      <th>cg16004767</th>\n",
       "      <th>cg01408558</th>\n",
       "      <th>...</th>\n",
       "      <th>cg17184604</th>\n",
       "      <th>cg02152968</th>\n",
       "      <th>cg11865360</th>\n",
       "      <th>cg14311020</th>\n",
       "      <th>cg06301399</th>\n",
       "      <th>cg27427921</th>\n",
       "      <th>cg16636935</th>\n",
       "      <th>cg12282552</th>\n",
       "      <th>cg02847244</th>\n",
       "      <th>cg03552709</th>\n",
       "    </tr>\n",
       "  </thead>\n",
       "  <tbody>\n",
       "    <tr>\n",
       "      <th>0</th>\n",
       "      <td>3001</td>\n",
       "      <td>1</td>\n",
       "      <td>0.025708</td>\n",
       "      <td>0.892774</td>\n",
       "      <td>0.823933</td>\n",
       "      <td>0.187463</td>\n",
       "      <td>0.929469</td>\n",
       "      <td>0.850724</td>\n",
       "      <td>0.882369</td>\n",
       "      <td>0.770711</td>\n",
       "      <td>...</td>\n",
       "      <td>0.009053</td>\n",
       "      <td>0.263403</td>\n",
       "      <td>0.279839</td>\n",
       "      <td>0.016512</td>\n",
       "      <td>0.799493</td>\n",
       "      <td>0.140804</td>\n",
       "      <td>0.431007</td>\n",
       "      <td>0.440017</td>\n",
       "      <td>0.926509</td>\n",
       "      <td>0.884891</td>\n",
       "    </tr>\n",
       "    <tr>\n",
       "      <th>1</th>\n",
       "      <td>3007</td>\n",
       "      <td>1</td>\n",
       "      <td>0.045513</td>\n",
       "      <td>0.859283</td>\n",
       "      <td>0.882641</td>\n",
       "      <td>0.095824</td>\n",
       "      <td>0.719363</td>\n",
       "      <td>0.837866</td>\n",
       "      <td>0.906843</td>\n",
       "      <td>0.796137</td>\n",
       "      <td>...</td>\n",
       "      <td>0.008577</td>\n",
       "      <td>0.231128</td>\n",
       "      <td>0.137535</td>\n",
       "      <td>0.024924</td>\n",
       "      <td>0.736076</td>\n",
       "      <td>0.121699</td>\n",
       "      <td>0.429671</td>\n",
       "      <td>0.492883</td>\n",
       "      <td>0.916526</td>\n",
       "      <td>0.913208</td>\n",
       "    </tr>\n",
       "  </tbody>\n",
       "</table>\n",
       "<p>2 rows × 97 columns</p>\n",
       "</div>"
      ],
      "text/plain": [
       "   PATNO  APPRDX  cg20003494  cg12653876  cg19559114  cg13795060  cg10131227  \\\n",
       "0   3001       1    0.025708    0.892774    0.823933    0.187463    0.929469   \n",
       "1   3007       1    0.045513    0.859283    0.882641    0.095824    0.719363   \n",
       "\n",
       "   cg15272034  cg16004767  cg01408558  ...  cg17184604  cg02152968  \\\n",
       "0    0.850724    0.882369    0.770711  ...    0.009053    0.263403   \n",
       "1    0.837866    0.906843    0.796137  ...    0.008577    0.231128   \n",
       "\n",
       "   cg11865360  cg14311020  cg06301399  cg27427921  cg16636935  cg12282552  \\\n",
       "0    0.279839    0.016512    0.799493    0.140804    0.431007    0.440017   \n",
       "1    0.137535    0.024924    0.736076    0.121699    0.429671    0.492883   \n",
       "\n",
       "   cg02847244  cg03552709  \n",
       "0    0.926509    0.884891  \n",
       "1    0.916526    0.913208  \n",
       "\n",
       "[2 rows x 97 columns]"
      ]
     },
     "execution_count": 3,
     "metadata": {},
     "output_type": "execute_result"
    }
   ],
   "source": [
    "# concatenate the two dataframes along the columns axis\n",
    "concatenated_df = pd.concat([df1, df2], axis=1)\n",
    "\n",
    "# drop the duplicate columns\n",
    "final_df = concatenated_df.loc[:,~concatenated_df.columns.duplicated()]\n",
    "final_df.to_csv ('Hopkins_Top50sMerge_Data_Male.csv', index = False)\n",
    "print(final_df.shape)\n",
    "final_df.head(2)"
   ]
  },
  {
   "cell_type": "markdown",
   "id": "1e7d9da9",
   "metadata": {},
   "source": [
    "# Symbol Digit"
   ]
  },
  {
   "cell_type": "code",
   "execution_count": 19,
   "id": "7721c718",
   "metadata": {
    "ExecuteTime": {
     "end_time": "2023-02-21T05:18:51.172884Z",
     "start_time": "2023-02-21T05:18:51.119454Z"
    }
   },
   "outputs": [
    {
     "name": "stdout",
     "output_type": "stream",
     "text": [
      "Z:\\PPMI_Data\\Excels\\NonMotors\\Derived250\\Male\\GeneCpG\\SymbDigi\n",
      "(307, 52)\n"
     ]
    }
   ],
   "source": [
    "%cd Z:\\PPMI_Data\\Excels\\NonMotors\\Derived250\\Male\\GeneCpG\\SymbDigi\n",
    "\n",
    "df2 = pd.read_csv('SymbDigi_Boruta_Top50_Data_Male.csv')\n",
    "print(df2.shape)"
   ]
  },
  {
   "cell_type": "code",
   "execution_count": 20,
   "id": "48e60cab",
   "metadata": {
    "ExecuteTime": {
     "end_time": "2023-02-21T05:23:56.484444Z",
     "start_time": "2023-02-21T05:19:19.918531Z"
    }
   },
   "outputs": [
    {
     "name": "stdout",
     "output_type": "stream",
     "text": [
      "(50, 1)\n"
     ]
    },
    {
     "name": "stderr",
     "output_type": "stream",
     "text": [
      "C:\\Users\\system 4\\AppData\\Local\\Temp\\ipykernel_2668\\2136549653.py:9: SettingWithCopyWarning: \n",
      "A value is trying to be set on a copy of a slice from a DataFrame.\n",
      "Try using .loc[row_indexer,col_indexer] = value instead\n",
      "\n",
      "See the caveats in the documentation: https://pandas.pydata.org/pandas-docs/stable/user_guide/indexing.html#returning-a-view-versus-a-copy\n",
      "  df_subset['APPRDX'] = df['APPRDX']\n"
     ]
    },
    {
     "data": {
      "text/html": [
       "<div>\n",
       "<style scoped>\n",
       "    .dataframe tbody tr th:only-of-type {\n",
       "        vertical-align: middle;\n",
       "    }\n",
       "\n",
       "    .dataframe tbody tr th {\n",
       "        vertical-align: top;\n",
       "    }\n",
       "\n",
       "    .dataframe thead th {\n",
       "        text-align: right;\n",
       "    }\n",
       "</style>\n",
       "<table border=\"1\" class=\"dataframe\">\n",
       "  <thead>\n",
       "    <tr style=\"text-align: right;\">\n",
       "      <th></th>\n",
       "      <th>cg14523394</th>\n",
       "      <th>cg09372808</th>\n",
       "      <th>cg01070424</th>\n",
       "      <th>cg16402452</th>\n",
       "      <th>cg01360545</th>\n",
       "      <th>cg14947609</th>\n",
       "      <th>cg22126136</th>\n",
       "      <th>cg15272034</th>\n",
       "      <th>cg19559114</th>\n",
       "      <th>cg18859045</th>\n",
       "      <th>...</th>\n",
       "      <th>cg15469205</th>\n",
       "      <th>cg12613770</th>\n",
       "      <th>cg19166896</th>\n",
       "      <th>cg17364323</th>\n",
       "      <th>cg20003494</th>\n",
       "      <th>cg15736994</th>\n",
       "      <th>cg03909844</th>\n",
       "      <th>cg00558297</th>\n",
       "      <th>cg17668069</th>\n",
       "      <th>APPRDX</th>\n",
       "    </tr>\n",
       "  </thead>\n",
       "  <tbody>\n",
       "    <tr>\n",
       "      <th>0</th>\n",
       "      <td>0.943573</td>\n",
       "      <td>0.859071</td>\n",
       "      <td>0.450485</td>\n",
       "      <td>0.949497</td>\n",
       "      <td>0.605723</td>\n",
       "      <td>0.797382</td>\n",
       "      <td>0.824268</td>\n",
       "      <td>0.850724</td>\n",
       "      <td>0.823933</td>\n",
       "      <td>0.233609</td>\n",
       "      <td>...</td>\n",
       "      <td>0.865868</td>\n",
       "      <td>0.838669</td>\n",
       "      <td>0.928030</td>\n",
       "      <td>0.240152</td>\n",
       "      <td>0.025708</td>\n",
       "      <td>0.523965</td>\n",
       "      <td>0.675087</td>\n",
       "      <td>0.776180</td>\n",
       "      <td>0.044870</td>\n",
       "      <td>1</td>\n",
       "    </tr>\n",
       "    <tr>\n",
       "      <th>1</th>\n",
       "      <td>0.900230</td>\n",
       "      <td>0.870130</td>\n",
       "      <td>0.368044</td>\n",
       "      <td>0.925802</td>\n",
       "      <td>0.633931</td>\n",
       "      <td>0.867282</td>\n",
       "      <td>0.837835</td>\n",
       "      <td>0.837866</td>\n",
       "      <td>0.882641</td>\n",
       "      <td>0.335034</td>\n",
       "      <td>...</td>\n",
       "      <td>0.830760</td>\n",
       "      <td>0.848701</td>\n",
       "      <td>0.936842</td>\n",
       "      <td>0.179619</td>\n",
       "      <td>0.045513</td>\n",
       "      <td>0.562597</td>\n",
       "      <td>0.769234</td>\n",
       "      <td>0.366488</td>\n",
       "      <td>0.045872</td>\n",
       "      <td>1</td>\n",
       "    </tr>\n",
       "  </tbody>\n",
       "</table>\n",
       "<p>2 rows × 51 columns</p>\n",
       "</div>"
      ],
      "text/plain": [
       "   cg14523394  cg09372808  cg01070424  cg16402452  cg01360545  cg14947609  \\\n",
       "0    0.943573    0.859071    0.450485    0.949497    0.605723    0.797382   \n",
       "1    0.900230    0.870130    0.368044    0.925802    0.633931    0.867282   \n",
       "\n",
       "   cg22126136  cg15272034  cg19559114  cg18859045  ...  cg15469205  \\\n",
       "0    0.824268    0.850724    0.823933    0.233609  ...    0.865868   \n",
       "1    0.837835    0.837866    0.882641    0.335034  ...    0.830760   \n",
       "\n",
       "   cg12613770  cg19166896  cg17364323  cg20003494  cg15736994  cg03909844  \\\n",
       "0    0.838669    0.928030    0.240152    0.025708    0.523965    0.675087   \n",
       "1    0.848701    0.936842    0.179619    0.045513    0.562597    0.769234   \n",
       "\n",
       "   cg00558297  cg17668069  APPRDX  \n",
       "0    0.776180    0.044870       1  \n",
       "1    0.366488    0.045872       1  \n",
       "\n",
       "[2 rows x 51 columns]"
      ]
     },
     "execution_count": 20,
     "metadata": {},
     "output_type": "execute_result"
    }
   ],
   "source": [
    "df = pd.read_csv('SymbDigiCateg_Methylome_Male.csv')\n",
    "df1 = pd.read_csv('SymbDigi_NMI_Top50_Male.csv')\n",
    "print(df1.shape)\n",
    "# create a list of column names to subset from data\n",
    "col_names = df1.iloc[:, 0].tolist()\n",
    "\n",
    "# subset df based on the column names\n",
    "df_subset = df.loc[:, df.columns.isin(col_names)]\n",
    "df_subset['APPRDX'] = df['APPRDX']\n",
    "df_subset.to_csv ('SymbDigi_NMI_Top50_Male_Data.csv', index = False)\n",
    "df_subset.head(2)"
   ]
  },
  {
   "cell_type": "code",
   "execution_count": 21,
   "id": "40bad19e",
   "metadata": {
    "ExecuteTime": {
     "end_time": "2023-02-21T05:24:04.607136Z",
     "start_time": "2023-02-21T05:24:04.538065Z"
    }
   },
   "outputs": [
    {
     "name": "stdout",
     "output_type": "stream",
     "text": [
      "(307, 101)\n"
     ]
    },
    {
     "data": {
      "text/html": [
       "<div>\n",
       "<style scoped>\n",
       "    .dataframe tbody tr th:only-of-type {\n",
       "        vertical-align: middle;\n",
       "    }\n",
       "\n",
       "    .dataframe tbody tr th {\n",
       "        vertical-align: top;\n",
       "    }\n",
       "\n",
       "    .dataframe thead th {\n",
       "        text-align: right;\n",
       "    }\n",
       "</style>\n",
       "<table border=\"1\" class=\"dataframe\">\n",
       "  <thead>\n",
       "    <tr style=\"text-align: right;\">\n",
       "      <th></th>\n",
       "      <th>PATNO</th>\n",
       "      <th>APPRDX</th>\n",
       "      <th>cg02471954</th>\n",
       "      <th>cg15313666</th>\n",
       "      <th>cg27171575</th>\n",
       "      <th>cg10693616</th>\n",
       "      <th>cg18174834</th>\n",
       "      <th>cg02681134</th>\n",
       "      <th>cg26213368</th>\n",
       "      <th>cg05817202</th>\n",
       "      <th>...</th>\n",
       "      <th>cg19557537</th>\n",
       "      <th>cg15469205</th>\n",
       "      <th>cg12613770</th>\n",
       "      <th>cg19166896</th>\n",
       "      <th>cg17364323</th>\n",
       "      <th>cg20003494</th>\n",
       "      <th>cg15736994</th>\n",
       "      <th>cg03909844</th>\n",
       "      <th>cg00558297</th>\n",
       "      <th>cg17668069</th>\n",
       "    </tr>\n",
       "  </thead>\n",
       "  <tbody>\n",
       "    <tr>\n",
       "      <th>0</th>\n",
       "      <td>3001</td>\n",
       "      <td>1</td>\n",
       "      <td>0.853669</td>\n",
       "      <td>0.907550</td>\n",
       "      <td>0.853809</td>\n",
       "      <td>0.012194</td>\n",
       "      <td>0.040499</td>\n",
       "      <td>0.018356</td>\n",
       "      <td>0.845328</td>\n",
       "      <td>0.823899</td>\n",
       "      <td>...</td>\n",
       "      <td>0.034398</td>\n",
       "      <td>0.865868</td>\n",
       "      <td>0.838669</td>\n",
       "      <td>0.928030</td>\n",
       "      <td>0.240152</td>\n",
       "      <td>0.025708</td>\n",
       "      <td>0.523965</td>\n",
       "      <td>0.675087</td>\n",
       "      <td>0.776180</td>\n",
       "      <td>0.044870</td>\n",
       "    </tr>\n",
       "    <tr>\n",
       "      <th>1</th>\n",
       "      <td>3007</td>\n",
       "      <td>1</td>\n",
       "      <td>0.918805</td>\n",
       "      <td>0.927117</td>\n",
       "      <td>0.895204</td>\n",
       "      <td>0.012696</td>\n",
       "      <td>0.034218</td>\n",
       "      <td>0.021660</td>\n",
       "      <td>0.671661</td>\n",
       "      <td>0.849287</td>\n",
       "      <td>...</td>\n",
       "      <td>0.040056</td>\n",
       "      <td>0.830760</td>\n",
       "      <td>0.848701</td>\n",
       "      <td>0.936842</td>\n",
       "      <td>0.179619</td>\n",
       "      <td>0.045513</td>\n",
       "      <td>0.562597</td>\n",
       "      <td>0.769234</td>\n",
       "      <td>0.366488</td>\n",
       "      <td>0.045872</td>\n",
       "    </tr>\n",
       "  </tbody>\n",
       "</table>\n",
       "<p>2 rows × 101 columns</p>\n",
       "</div>"
      ],
      "text/plain": [
       "   PATNO  APPRDX  cg02471954  cg15313666  cg27171575  cg10693616  cg18174834  \\\n",
       "0   3001       1    0.853669    0.907550    0.853809    0.012194    0.040499   \n",
       "1   3007       1    0.918805    0.927117    0.895204    0.012696    0.034218   \n",
       "\n",
       "   cg02681134  cg26213368  cg05817202  ...  cg19557537  cg15469205  \\\n",
       "0    0.018356    0.845328    0.823899  ...    0.034398    0.865868   \n",
       "1    0.021660    0.671661    0.849287  ...    0.040056    0.830760   \n",
       "\n",
       "   cg12613770  cg19166896  cg17364323  cg20003494  cg15736994  cg03909844  \\\n",
       "0    0.838669    0.928030    0.240152    0.025708    0.523965    0.675087   \n",
       "1    0.848701    0.936842    0.179619    0.045513    0.562597    0.769234   \n",
       "\n",
       "   cg00558297  cg17668069  \n",
       "0    0.776180    0.044870  \n",
       "1    0.366488    0.045872  \n",
       "\n",
       "[2 rows x 101 columns]"
      ]
     },
     "execution_count": 21,
     "metadata": {},
     "output_type": "execute_result"
    }
   ],
   "source": [
    "# concatenate the two dataframes along the columns axis\n",
    "concatenated_df = pd.concat([df2, df_subset], axis=1)\n",
    "\n",
    "# drop the duplicate columns\n",
    "final_df = concatenated_df.loc[:,~concatenated_df.columns.duplicated()]\n",
    "final_df.to_csv ('SymbDigi_Top50sMerge_Data_Male.csv', index = False)\n",
    "print(final_df.shape)\n",
    "final_df.head(2)"
   ]
  },
  {
   "cell_type": "markdown",
   "id": "dc3edc7d",
   "metadata": {},
   "source": [
    "# TrailMakingB"
   ]
  },
  {
   "cell_type": "code",
   "execution_count": 22,
   "id": "d1b6374f",
   "metadata": {
    "ExecuteTime": {
     "end_time": "2023-02-21T05:24:07.145078Z",
     "start_time": "2023-02-21T05:24:07.129464Z"
    }
   },
   "outputs": [
    {
     "name": "stdout",
     "output_type": "stream",
     "text": [
      "Z:\\PPMI_Data\\Excels\\NonMotors\\Derived250\\Male\\GeneCpG\\TrailMakingB\n",
      "(149, 52)\n"
     ]
    }
   ],
   "source": [
    "%cd Z:\\PPMI_Data\\Excels\\NonMotors\\Derived250\\Male\\GeneCpG\\TrailMakingB\n",
    "\n",
    "df2 = pd.read_csv('TrlMakB_Boruta_Top50_Data_Male.csv')\n",
    "print(df2.shape)"
   ]
  },
  {
   "cell_type": "code",
   "execution_count": 23,
   "id": "54d97912",
   "metadata": {
    "ExecuteTime": {
     "end_time": "2023-02-21T05:24:26.946115Z",
     "start_time": "2023-02-21T05:24:09.716341Z"
    }
   },
   "outputs": [
    {
     "name": "stdout",
     "output_type": "stream",
     "text": [
      "(50, 1)\n"
     ]
    },
    {
     "name": "stderr",
     "output_type": "stream",
     "text": [
      "C:\\Users\\system 4\\AppData\\Local\\Temp\\ipykernel_2668\\1367291246.py:9: SettingWithCopyWarning: \n",
      "A value is trying to be set on a copy of a slice from a DataFrame.\n",
      "Try using .loc[row_indexer,col_indexer] = value instead\n",
      "\n",
      "See the caveats in the documentation: https://pandas.pydata.org/pandas-docs/stable/user_guide/indexing.html#returning-a-view-versus-a-copy\n",
      "  df_subset['APPRDX'] = df['APPRDX']\n"
     ]
    },
    {
     "data": {
      "text/html": [
       "<div>\n",
       "<style scoped>\n",
       "    .dataframe tbody tr th:only-of-type {\n",
       "        vertical-align: middle;\n",
       "    }\n",
       "\n",
       "    .dataframe tbody tr th {\n",
       "        vertical-align: top;\n",
       "    }\n",
       "\n",
       "    .dataframe thead th {\n",
       "        text-align: right;\n",
       "    }\n",
       "</style>\n",
       "<table border=\"1\" class=\"dataframe\">\n",
       "  <thead>\n",
       "    <tr style=\"text-align: right;\">\n",
       "      <th></th>\n",
       "      <th>cg26358225</th>\n",
       "      <th>cg21125969</th>\n",
       "      <th>cg21365903</th>\n",
       "      <th>cg09292077</th>\n",
       "      <th>cg02062003</th>\n",
       "      <th>cg00156001</th>\n",
       "      <th>cg12308865</th>\n",
       "      <th>cg22193013</th>\n",
       "      <th>cg15972191</th>\n",
       "      <th>cg27559224</th>\n",
       "      <th>...</th>\n",
       "      <th>cg21217911</th>\n",
       "      <th>cg04398603</th>\n",
       "      <th>cg01819787</th>\n",
       "      <th>cg23983141</th>\n",
       "      <th>cg10744426</th>\n",
       "      <th>cg15598946</th>\n",
       "      <th>cg20547759</th>\n",
       "      <th>cg12510530</th>\n",
       "      <th>cg12876349</th>\n",
       "      <th>APPRDX</th>\n",
       "    </tr>\n",
       "  </thead>\n",
       "  <tbody>\n",
       "    <tr>\n",
       "      <th>0</th>\n",
       "      <td>0.151532</td>\n",
       "      <td>0.800085</td>\n",
       "      <td>0.039909</td>\n",
       "      <td>0.903905</td>\n",
       "      <td>0.022970</td>\n",
       "      <td>0.883715</td>\n",
       "      <td>0.042668</td>\n",
       "      <td>0.816653</td>\n",
       "      <td>0.793503</td>\n",
       "      <td>0.752564</td>\n",
       "      <td>...</td>\n",
       "      <td>0.888126</td>\n",
       "      <td>0.018454</td>\n",
       "      <td>0.596337</td>\n",
       "      <td>0.863465</td>\n",
       "      <td>0.798091</td>\n",
       "      <td>0.867094</td>\n",
       "      <td>0.662837</td>\n",
       "      <td>0.459716</td>\n",
       "      <td>0.026228</td>\n",
       "      <td>1</td>\n",
       "    </tr>\n",
       "    <tr>\n",
       "      <th>1</th>\n",
       "      <td>0.133372</td>\n",
       "      <td>0.853735</td>\n",
       "      <td>0.029918</td>\n",
       "      <td>0.908555</td>\n",
       "      <td>0.035312</td>\n",
       "      <td>0.880948</td>\n",
       "      <td>0.120141</td>\n",
       "      <td>0.900043</td>\n",
       "      <td>0.576380</td>\n",
       "      <td>0.798434</td>\n",
       "      <td>...</td>\n",
       "      <td>0.878809</td>\n",
       "      <td>0.027430</td>\n",
       "      <td>0.555448</td>\n",
       "      <td>0.865416</td>\n",
       "      <td>0.888148</td>\n",
       "      <td>0.883124</td>\n",
       "      <td>0.705238</td>\n",
       "      <td>0.331128</td>\n",
       "      <td>0.091576</td>\n",
       "      <td>1</td>\n",
       "    </tr>\n",
       "  </tbody>\n",
       "</table>\n",
       "<p>2 rows × 51 columns</p>\n",
       "</div>"
      ],
      "text/plain": [
       "   cg26358225  cg21125969  cg21365903  cg09292077  cg02062003  cg00156001  \\\n",
       "0    0.151532    0.800085    0.039909    0.903905    0.022970    0.883715   \n",
       "1    0.133372    0.853735    0.029918    0.908555    0.035312    0.880948   \n",
       "\n",
       "   cg12308865  cg22193013  cg15972191  cg27559224  ...  cg21217911  \\\n",
       "0    0.042668    0.816653    0.793503    0.752564  ...    0.888126   \n",
       "1    0.120141    0.900043    0.576380    0.798434  ...    0.878809   \n",
       "\n",
       "   cg04398603  cg01819787  cg23983141  cg10744426  cg15598946  cg20547759  \\\n",
       "0    0.018454    0.596337    0.863465    0.798091    0.867094    0.662837   \n",
       "1    0.027430    0.555448    0.865416    0.888148    0.883124    0.705238   \n",
       "\n",
       "   cg12510530  cg12876349  APPRDX  \n",
       "0    0.459716    0.026228       1  \n",
       "1    0.331128    0.091576       1  \n",
       "\n",
       "[2 rows x 51 columns]"
      ]
     },
     "execution_count": 23,
     "metadata": {},
     "output_type": "execute_result"
    }
   ],
   "source": [
    "df = pd.read_csv('TrailMakingBCateg_Methylome_Male.csv')\n",
    "df1 = pd.read_csv('TrlMakB_NMI_Top50_Male.csv')\n",
    "print(df1.shape)\n",
    "# create a list of column names to subset from data\n",
    "col_names = df1.iloc[:, 0].tolist()\n",
    "\n",
    "# subset df based on the column names\n",
    "df_subset = df.loc[:, df.columns.isin(col_names)]\n",
    "df_subset['APPRDX'] = df['APPRDX']\n",
    "df_subset.to_csv ('TrlMakB_NMI_Top50_Male_Data.csv', index = False)\n",
    "df_subset.head(2)"
   ]
  },
  {
   "cell_type": "code",
   "execution_count": 24,
   "id": "71bd9b63",
   "metadata": {
    "ExecuteTime": {
     "end_time": "2023-02-21T05:24:29.601293Z",
     "start_time": "2023-02-21T05:24:29.554397Z"
    }
   },
   "outputs": [
    {
     "name": "stdout",
     "output_type": "stream",
     "text": [
      "(149, 99)\n"
     ]
    },
    {
     "data": {
      "text/html": [
       "<div>\n",
       "<style scoped>\n",
       "    .dataframe tbody tr th:only-of-type {\n",
       "        vertical-align: middle;\n",
       "    }\n",
       "\n",
       "    .dataframe tbody tr th {\n",
       "        vertical-align: top;\n",
       "    }\n",
       "\n",
       "    .dataframe thead th {\n",
       "        text-align: right;\n",
       "    }\n",
       "</style>\n",
       "<table border=\"1\" class=\"dataframe\">\n",
       "  <thead>\n",
       "    <tr style=\"text-align: right;\">\n",
       "      <th></th>\n",
       "      <th>PATNO</th>\n",
       "      <th>APPRDX</th>\n",
       "      <th>cg17456612</th>\n",
       "      <th>cg14123992</th>\n",
       "      <th>cg22906524</th>\n",
       "      <th>cg22184944</th>\n",
       "      <th>cg14999396</th>\n",
       "      <th>cg16766139</th>\n",
       "      <th>cg02109003</th>\n",
       "      <th>cg24257038</th>\n",
       "      <th>...</th>\n",
       "      <th>cg16518986</th>\n",
       "      <th>cg21217911</th>\n",
       "      <th>cg04398603</th>\n",
       "      <th>cg01819787</th>\n",
       "      <th>cg23983141</th>\n",
       "      <th>cg10744426</th>\n",
       "      <th>cg15598946</th>\n",
       "      <th>cg20547759</th>\n",
       "      <th>cg12510530</th>\n",
       "      <th>cg12876349</th>\n",
       "    </tr>\n",
       "  </thead>\n",
       "  <tbody>\n",
       "    <tr>\n",
       "      <th>0</th>\n",
       "      <td>3001</td>\n",
       "      <td>1</td>\n",
       "      <td>0.129620</td>\n",
       "      <td>0.706168</td>\n",
       "      <td>0.569369</td>\n",
       "      <td>0.783626</td>\n",
       "      <td>0.901298</td>\n",
       "      <td>0.182831</td>\n",
       "      <td>0.639496</td>\n",
       "      <td>0.016959</td>\n",
       "      <td>...</td>\n",
       "      <td>0.743797</td>\n",
       "      <td>0.888126</td>\n",
       "      <td>0.018454</td>\n",
       "      <td>0.596337</td>\n",
       "      <td>0.863465</td>\n",
       "      <td>0.798091</td>\n",
       "      <td>0.867094</td>\n",
       "      <td>0.662837</td>\n",
       "      <td>0.459716</td>\n",
       "      <td>0.026228</td>\n",
       "    </tr>\n",
       "    <tr>\n",
       "      <th>1</th>\n",
       "      <td>3010</td>\n",
       "      <td>1</td>\n",
       "      <td>0.192883</td>\n",
       "      <td>0.814368</td>\n",
       "      <td>0.553591</td>\n",
       "      <td>0.801868</td>\n",
       "      <td>0.892316</td>\n",
       "      <td>0.112209</td>\n",
       "      <td>0.565529</td>\n",
       "      <td>0.015629</td>\n",
       "      <td>...</td>\n",
       "      <td>0.839926</td>\n",
       "      <td>0.878809</td>\n",
       "      <td>0.027430</td>\n",
       "      <td>0.555448</td>\n",
       "      <td>0.865416</td>\n",
       "      <td>0.888148</td>\n",
       "      <td>0.883124</td>\n",
       "      <td>0.705238</td>\n",
       "      <td>0.331128</td>\n",
       "      <td>0.091576</td>\n",
       "    </tr>\n",
       "  </tbody>\n",
       "</table>\n",
       "<p>2 rows × 99 columns</p>\n",
       "</div>"
      ],
      "text/plain": [
       "   PATNO  APPRDX  cg17456612  cg14123992  cg22906524  cg22184944  cg14999396  \\\n",
       "0   3001       1    0.129620    0.706168    0.569369    0.783626    0.901298   \n",
       "1   3010       1    0.192883    0.814368    0.553591    0.801868    0.892316   \n",
       "\n",
       "   cg16766139  cg02109003  cg24257038  ...  cg16518986  cg21217911  \\\n",
       "0    0.182831    0.639496    0.016959  ...    0.743797    0.888126   \n",
       "1    0.112209    0.565529    0.015629  ...    0.839926    0.878809   \n",
       "\n",
       "   cg04398603  cg01819787  cg23983141  cg10744426  cg15598946  cg20547759  \\\n",
       "0    0.018454    0.596337    0.863465    0.798091    0.867094    0.662837   \n",
       "1    0.027430    0.555448    0.865416    0.888148    0.883124    0.705238   \n",
       "\n",
       "   cg12510530  cg12876349  \n",
       "0    0.459716    0.026228  \n",
       "1    0.331128    0.091576  \n",
       "\n",
       "[2 rows x 99 columns]"
      ]
     },
     "execution_count": 24,
     "metadata": {},
     "output_type": "execute_result"
    }
   ],
   "source": [
    "# concatenate the two dataframes along the columns axis\n",
    "concatenated_df = pd.concat([df2, df_subset], axis=1)\n",
    "\n",
    "# drop the duplicate columns\n",
    "final_df = concatenated_df.loc[:,~concatenated_df.columns.duplicated()]\n",
    "final_df.to_csv ('TrlMakB_Top50sMerge_Data_Male.csv', index = False)\n",
    "print(final_df.shape)\n",
    "final_df.head(2)"
   ]
  },
  {
   "cell_type": "markdown",
   "id": "22e89ac8",
   "metadata": {},
   "source": [
    "# UPSIT"
   ]
  },
  {
   "cell_type": "code",
   "execution_count": 25,
   "id": "a53ddf95",
   "metadata": {
    "ExecuteTime": {
     "end_time": "2023-02-21T05:24:30.787806Z",
     "start_time": "2023-02-21T05:24:30.719849Z"
    }
   },
   "outputs": [
    {
     "name": "stdout",
     "output_type": "stream",
     "text": [
      "Z:\\PPMI_Data\\Excels\\NonMotors\\Derived250\\Male\\GeneCpG\\UPSIT\n",
      "(307, 52)\n"
     ]
    }
   ],
   "source": [
    "%cd Z:\\PPMI_Data\\Excels\\NonMotors\\Derived250\\Male\\GeneCpG\\UPSIT\n",
    "\n",
    "df2 = pd.read_csv('UPSIT_Boruta_Top50_Data_Male.csv')\n",
    "print(df2.shape)"
   ]
  },
  {
   "cell_type": "code",
   "execution_count": 26,
   "id": "deebdb24",
   "metadata": {
    "ExecuteTime": {
     "end_time": "2023-02-21T05:24:33.510268Z",
     "start_time": "2023-02-21T05:24:32.078790Z"
    },
    "scrolled": true
   },
   "outputs": [
    {
     "name": "stdout",
     "output_type": "stream",
     "text": [
      "(50, 1)\n"
     ]
    },
    {
     "name": "stderr",
     "output_type": "stream",
     "text": [
      "C:\\Users\\system 4\\AppData\\Local\\Temp\\ipykernel_2668\\1973208743.py:9: SettingWithCopyWarning: \n",
      "A value is trying to be set on a copy of a slice from a DataFrame.\n",
      "Try using .loc[row_indexer,col_indexer] = value instead\n",
      "\n",
      "See the caveats in the documentation: https://pandas.pydata.org/pandas-docs/stable/user_guide/indexing.html#returning-a-view-versus-a-copy\n",
      "  df_subset['APPRDX'] = df['APPRDX']\n"
     ]
    },
    {
     "data": {
      "text/html": [
       "<div>\n",
       "<style scoped>\n",
       "    .dataframe tbody tr th:only-of-type {\n",
       "        vertical-align: middle;\n",
       "    }\n",
       "\n",
       "    .dataframe tbody tr th {\n",
       "        vertical-align: top;\n",
       "    }\n",
       "\n",
       "    .dataframe thead th {\n",
       "        text-align: right;\n",
       "    }\n",
       "</style>\n",
       "<table border=\"1\" class=\"dataframe\">\n",
       "  <thead>\n",
       "    <tr style=\"text-align: right;\">\n",
       "      <th></th>\n",
       "      <th>cg26358225</th>\n",
       "      <th>cg01605403</th>\n",
       "      <th>cg22295787</th>\n",
       "      <th>cg02295000</th>\n",
       "      <th>cg00360077</th>\n",
       "      <th>cg02176314</th>\n",
       "      <th>cg14746118</th>\n",
       "      <th>cg23074747</th>\n",
       "      <th>cg12501949</th>\n",
       "      <th>cg00241302</th>\n",
       "      <th>...</th>\n",
       "      <th>cg27315341</th>\n",
       "      <th>cg06263834</th>\n",
       "      <th>cg02944903</th>\n",
       "      <th>cg16628215</th>\n",
       "      <th>cg20003494</th>\n",
       "      <th>cg05142211</th>\n",
       "      <th>cg19646414</th>\n",
       "      <th>cg07466585</th>\n",
       "      <th>cg23127998</th>\n",
       "      <th>APPRDX</th>\n",
       "    </tr>\n",
       "  </thead>\n",
       "  <tbody>\n",
       "    <tr>\n",
       "      <th>0</th>\n",
       "      <td>0.151532</td>\n",
       "      <td>0.879499</td>\n",
       "      <td>0.016057</td>\n",
       "      <td>0.826318</td>\n",
       "      <td>0.912095</td>\n",
       "      <td>0.916863</td>\n",
       "      <td>0.778754</td>\n",
       "      <td>0.011630</td>\n",
       "      <td>0.747517</td>\n",
       "      <td>0.794822</td>\n",
       "      <td>...</td>\n",
       "      <td>0.855311</td>\n",
       "      <td>0.049564</td>\n",
       "      <td>0.779978</td>\n",
       "      <td>0.053833</td>\n",
       "      <td>0.025708</td>\n",
       "      <td>0.035018</td>\n",
       "      <td>0.888881</td>\n",
       "      <td>0.082290</td>\n",
       "      <td>0.216844</td>\n",
       "      <td>1</td>\n",
       "    </tr>\n",
       "    <tr>\n",
       "      <th>1</th>\n",
       "      <td>0.198886</td>\n",
       "      <td>0.935782</td>\n",
       "      <td>0.021968</td>\n",
       "      <td>0.805755</td>\n",
       "      <td>0.916703</td>\n",
       "      <td>0.920714</td>\n",
       "      <td>0.798111</td>\n",
       "      <td>0.011863</td>\n",
       "      <td>0.757032</td>\n",
       "      <td>0.827757</td>\n",
       "      <td>...</td>\n",
       "      <td>0.769311</td>\n",
       "      <td>0.030237</td>\n",
       "      <td>0.653859</td>\n",
       "      <td>0.022553</td>\n",
       "      <td>0.045513</td>\n",
       "      <td>0.041906</td>\n",
       "      <td>0.885429</td>\n",
       "      <td>0.025043</td>\n",
       "      <td>0.166560</td>\n",
       "      <td>1</td>\n",
       "    </tr>\n",
       "  </tbody>\n",
       "</table>\n",
       "<p>2 rows × 51 columns</p>\n",
       "</div>"
      ],
      "text/plain": [
       "   cg26358225  cg01605403  cg22295787  cg02295000  cg00360077  cg02176314  \\\n",
       "0    0.151532    0.879499    0.016057    0.826318    0.912095    0.916863   \n",
       "1    0.198886    0.935782    0.021968    0.805755    0.916703    0.920714   \n",
       "\n",
       "   cg14746118  cg23074747  cg12501949  cg00241302  ...  cg27315341  \\\n",
       "0    0.778754    0.011630    0.747517    0.794822  ...    0.855311   \n",
       "1    0.798111    0.011863    0.757032    0.827757  ...    0.769311   \n",
       "\n",
       "   cg06263834  cg02944903  cg16628215  cg20003494  cg05142211  cg19646414  \\\n",
       "0    0.049564    0.779978    0.053833    0.025708    0.035018    0.888881   \n",
       "1    0.030237    0.653859    0.022553    0.045513    0.041906    0.885429   \n",
       "\n",
       "   cg07466585  cg23127998  APPRDX  \n",
       "0    0.082290    0.216844       1  \n",
       "1    0.025043    0.166560       1  \n",
       "\n",
       "[2 rows x 51 columns]"
      ]
     },
     "execution_count": 26,
     "metadata": {},
     "output_type": "execute_result"
    }
   ],
   "source": [
    "df = pd.read_csv('UPSIT3Categ_Methylome_Male.csv')\n",
    "df1 = pd.read_csv('UPSIT_NMI_Top50_Male.csv')\n",
    "print(df1.shape)\n",
    "# create a list of column names to subset from data\n",
    "col_names = df1.iloc[:, 0].tolist()\n",
    "\n",
    "# subset df based on the column names\n",
    "df_subset = df.loc[:, df.columns.isin(col_names)]\n",
    "df_subset['APPRDX'] = df['APPRDX']\n",
    "df_subset.to_csv ('UPSIT_NMI_Top50_Male_Data.csv', index = False)\n",
    "df_subset.head(2)"
   ]
  },
  {
   "cell_type": "code",
   "execution_count": 27,
   "id": "b449c22b",
   "metadata": {
    "ExecuteTime": {
     "end_time": "2023-02-21T05:24:34.167586Z",
     "start_time": "2023-02-21T05:24:34.098565Z"
    }
   },
   "outputs": [
    {
     "name": "stdout",
     "output_type": "stream",
     "text": [
      "(307, 98)\n"
     ]
    },
    {
     "data": {
      "text/html": [
       "<div>\n",
       "<style scoped>\n",
       "    .dataframe tbody tr th:only-of-type {\n",
       "        vertical-align: middle;\n",
       "    }\n",
       "\n",
       "    .dataframe tbody tr th {\n",
       "        vertical-align: top;\n",
       "    }\n",
       "\n",
       "    .dataframe thead th {\n",
       "        text-align: right;\n",
       "    }\n",
       "</style>\n",
       "<table border=\"1\" class=\"dataframe\">\n",
       "  <thead>\n",
       "    <tr style=\"text-align: right;\">\n",
       "      <th></th>\n",
       "      <th>PATNO</th>\n",
       "      <th>APPRDX</th>\n",
       "      <th>cg00260798</th>\n",
       "      <th>cg11023668</th>\n",
       "      <th>cg00877792</th>\n",
       "      <th>cg27498387</th>\n",
       "      <th>cg01458259</th>\n",
       "      <th>cg05294431</th>\n",
       "      <th>cg19997384</th>\n",
       "      <th>cg14927724</th>\n",
       "      <th>...</th>\n",
       "      <th>cg24260971</th>\n",
       "      <th>cg27315341</th>\n",
       "      <th>cg06263834</th>\n",
       "      <th>cg02944903</th>\n",
       "      <th>cg16628215</th>\n",
       "      <th>cg20003494</th>\n",
       "      <th>cg05142211</th>\n",
       "      <th>cg19646414</th>\n",
       "      <th>cg07466585</th>\n",
       "      <th>cg23127998</th>\n",
       "    </tr>\n",
       "  </thead>\n",
       "  <tbody>\n",
       "    <tr>\n",
       "      <th>0</th>\n",
       "      <td>3001</td>\n",
       "      <td>1</td>\n",
       "      <td>0.885679</td>\n",
       "      <td>0.497315</td>\n",
       "      <td>0.497734</td>\n",
       "      <td>0.316042</td>\n",
       "      <td>0.820166</td>\n",
       "      <td>0.726805</td>\n",
       "      <td>0.284672</td>\n",
       "      <td>0.284245</td>\n",
       "      <td>...</td>\n",
       "      <td>0.101776</td>\n",
       "      <td>0.855311</td>\n",
       "      <td>0.049564</td>\n",
       "      <td>0.779978</td>\n",
       "      <td>0.053833</td>\n",
       "      <td>0.025708</td>\n",
       "      <td>0.035018</td>\n",
       "      <td>0.888881</td>\n",
       "      <td>0.082290</td>\n",
       "      <td>0.216844</td>\n",
       "    </tr>\n",
       "    <tr>\n",
       "      <th>1</th>\n",
       "      <td>3007</td>\n",
       "      <td>1</td>\n",
       "      <td>0.916535</td>\n",
       "      <td>0.653975</td>\n",
       "      <td>0.453499</td>\n",
       "      <td>0.250261</td>\n",
       "      <td>0.857082</td>\n",
       "      <td>0.824456</td>\n",
       "      <td>0.329010</td>\n",
       "      <td>0.258556</td>\n",
       "      <td>...</td>\n",
       "      <td>0.060896</td>\n",
       "      <td>0.769311</td>\n",
       "      <td>0.030237</td>\n",
       "      <td>0.653859</td>\n",
       "      <td>0.022553</td>\n",
       "      <td>0.045513</td>\n",
       "      <td>0.041906</td>\n",
       "      <td>0.885429</td>\n",
       "      <td>0.025043</td>\n",
       "      <td>0.166560</td>\n",
       "    </tr>\n",
       "  </tbody>\n",
       "</table>\n",
       "<p>2 rows × 98 columns</p>\n",
       "</div>"
      ],
      "text/plain": [
       "   PATNO  APPRDX  cg00260798  cg11023668  cg00877792  cg27498387  cg01458259  \\\n",
       "0   3001       1    0.885679    0.497315    0.497734    0.316042    0.820166   \n",
       "1   3007       1    0.916535    0.653975    0.453499    0.250261    0.857082   \n",
       "\n",
       "   cg05294431  cg19997384  cg14927724  ...  cg24260971  cg27315341  \\\n",
       "0    0.726805    0.284672    0.284245  ...    0.101776    0.855311   \n",
       "1    0.824456    0.329010    0.258556  ...    0.060896    0.769311   \n",
       "\n",
       "   cg06263834  cg02944903  cg16628215  cg20003494  cg05142211  cg19646414  \\\n",
       "0    0.049564    0.779978    0.053833    0.025708    0.035018    0.888881   \n",
       "1    0.030237    0.653859    0.022553    0.045513    0.041906    0.885429   \n",
       "\n",
       "   cg07466585  cg23127998  \n",
       "0    0.082290    0.216844  \n",
       "1    0.025043    0.166560  \n",
       "\n",
       "[2 rows x 98 columns]"
      ]
     },
     "execution_count": 27,
     "metadata": {},
     "output_type": "execute_result"
    }
   ],
   "source": [
    "# concatenate the two dataframes along the columns axis\n",
    "concatenated_df = pd.concat([df2, df_subset], axis=1)\n",
    "\n",
    "# drop the duplicate columns\n",
    "final_df = concatenated_df.loc[:,~concatenated_df.columns.duplicated()]\n",
    "final_df.to_csv ('UPSIT_Top50sMerge_Data_Male.csv', index = False)\n",
    "print(final_df.shape)\n",
    "final_df.head(2)"
   ]
  },
  {
   "cell_type": "code",
   "execution_count": null,
   "id": "6d209d0f",
   "metadata": {},
   "outputs": [],
   "source": []
  }
 ],
 "metadata": {
  "kernelspec": {
   "display_name": "Python 3 (ipykernel)",
   "language": "python",
   "name": "python3"
  },
  "language_info": {
   "codemirror_mode": {
    "name": "ipython",
    "version": 3
   },
   "file_extension": ".py",
   "mimetype": "text/x-python",
   "name": "python",
   "nbconvert_exporter": "python",
   "pygments_lexer": "ipython3",
   "version": "3.9.16"
  },
  "toc": {
   "base_numbering": 1,
   "nav_menu": {},
   "number_sections": true,
   "sideBar": true,
   "skip_h1_title": false,
   "title_cell": "Table of Contents",
   "title_sidebar": "Contents",
   "toc_cell": false,
   "toc_position": {},
   "toc_section_display": true,
   "toc_window_display": false
  },
  "varInspector": {
   "cols": {
    "lenName": 16,
    "lenType": 16,
    "lenVar": 40
   },
   "kernels_config": {
    "python": {
     "delete_cmd_postfix": "",
     "delete_cmd_prefix": "del ",
     "library": "var_list.py",
     "varRefreshCmd": "print(var_dic_list())"
    },
    "r": {
     "delete_cmd_postfix": ") ",
     "delete_cmd_prefix": "rm(",
     "library": "var_list.r",
     "varRefreshCmd": "cat(var_dic_list()) "
    }
   },
   "types_to_exclude": [
    "module",
    "function",
    "builtin_function_or_method",
    "instance",
    "_Feature"
   ],
   "window_display": false
  }
 },
 "nbformat": 4,
 "nbformat_minor": 5
}
