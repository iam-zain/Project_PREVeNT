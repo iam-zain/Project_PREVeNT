{
 "cells": [
  {
   "cell_type": "markdown",
   "metadata": {
    "colab_type": "text",
    "id": "0MRC0e0KhQ0S"
   },
   "source": [
    "## Random Forest Classification"
   ]
  },
  {
   "cell_type": "code",
   "execution_count": 1,
   "metadata": {
    "ExecuteTime": {
     "end_time": "2023-03-25T11:03:54.681065Z",
     "start_time": "2023-03-25T11:03:41.138844Z"
    },
    "colab": {},
    "colab_type": "code",
    "id": "YvGPUQaHhXfL"
   },
   "outputs": [],
   "source": [
    "import random\n",
    "import numpy as np\n",
    "import pandas as pd\n",
    "import seaborn as sn\n",
    "from numpy import std\n",
    "from numpy import mean\n",
    "import matplotlib.pyplot as plt\n",
    "from sklearn.metrics import roc_curve, auc\n",
    "from sklearn.datasets import make_classification\n",
    "from sklearn.preprocessing import StandardScaler\n",
    "from sklearn.model_selection import cross_val_score\n",
    "from sklearn.ensemble import RandomForestClassifier\n",
    "from sklearn.model_selection import train_test_split\n",
    "from sklearn.model_selection import cross_val_predict\n",
    "from sklearn.model_selection import RepeatedStratifiedKFold\n",
    "from sklearn.metrics import confusion_matrix, accuracy_score\n",
    "%matplotlib inline"
   ]
  },
  {
   "cell_type": "code",
   "execution_count": 9,
   "metadata": {
    "ExecuteTime": {
     "end_time": "2023-03-25T11:12:48.427399Z",
     "start_time": "2023-03-25T11:12:48.380495Z"
    },
    "scrolled": false
   },
   "outputs": [
    {
     "name": "stdout",
     "output_type": "stream",
     "text": [
      "Z:\\PPMI_Data\\Excels\\NonMotors\\Derived250\n",
      "(250, 46)\n"
     ]
    },
    {
     "data": {
      "text/html": [
       "<div>\n",
       "<style scoped>\n",
       "    .dataframe tbody tr th:only-of-type {\n",
       "        vertical-align: middle;\n",
       "    }\n",
       "\n",
       "    .dataframe tbody tr th {\n",
       "        vertical-align: top;\n",
       "    }\n",
       "\n",
       "    .dataframe thead th {\n",
       "        text-align: right;\n",
       "    }\n",
       "</style>\n",
       "<table border=\"1\" class=\"dataframe\">\n",
       "  <thead>\n",
       "    <tr style=\"text-align: right;\">\n",
       "      <th></th>\n",
       "      <th>APPRDX</th>\n",
       "      <th>Benton</th>\n",
       "      <th>COGSTATE</th>\n",
       "      <th>Clock</th>\n",
       "      <th>Epworth</th>\n",
       "      <th>Geriatric_Depression</th>\n",
       "      <th>Hopkins</th>\n",
       "      <th>Hopkins_Recog</th>\n",
       "      <th>LetterNumber</th>\n",
       "      <th>Lexical_Fluency</th>\n",
       "      <th>...</th>\n",
       "      <th>SCOPA_Sex</th>\n",
       "      <th>Semantic</th>\n",
       "      <th>Education</th>\n",
       "      <th>Hand</th>\n",
       "      <th>STAIS</th>\n",
       "      <th>STAIA</th>\n",
       "      <th>Symbol_Digit</th>\n",
       "      <th>Trail_Making_A</th>\n",
       "      <th>Trail_Making_B</th>\n",
       "      <th>UPSIT</th>\n",
       "    </tr>\n",
       "  </thead>\n",
       "  <tbody>\n",
       "    <tr>\n",
       "      <th>0</th>\n",
       "      <td>0</td>\n",
       "      <td>0</td>\n",
       "      <td>0</td>\n",
       "      <td>0</td>\n",
       "      <td>1</td>\n",
       "      <td>1</td>\n",
       "      <td>0</td>\n",
       "      <td>0</td>\n",
       "      <td>1</td>\n",
       "      <td>1</td>\n",
       "      <td>...</td>\n",
       "      <td>1</td>\n",
       "      <td>0</td>\n",
       "      <td>1</td>\n",
       "      <td>0</td>\n",
       "      <td>2</td>\n",
       "      <td>1</td>\n",
       "      <td>1</td>\n",
       "      <td>1</td>\n",
       "      <td>1</td>\n",
       "      <td>2</td>\n",
       "    </tr>\n",
       "    <tr>\n",
       "      <th>1</th>\n",
       "      <td>1</td>\n",
       "      <td>0</td>\n",
       "      <td>1</td>\n",
       "      <td>0</td>\n",
       "      <td>0</td>\n",
       "      <td>1</td>\n",
       "      <td>0</td>\n",
       "      <td>0</td>\n",
       "      <td>1</td>\n",
       "      <td>1</td>\n",
       "      <td>...</td>\n",
       "      <td>0</td>\n",
       "      <td>1</td>\n",
       "      <td>0</td>\n",
       "      <td>0</td>\n",
       "      <td>1</td>\n",
       "      <td>2</td>\n",
       "      <td>2</td>\n",
       "      <td>1</td>\n",
       "      <td>1</td>\n",
       "      <td>0</td>\n",
       "    </tr>\n",
       "  </tbody>\n",
       "</table>\n",
       "<p>2 rows × 46 columns</p>\n",
       "</div>"
      ],
      "text/plain": [
       "   APPRDX  Benton  COGSTATE  Clock  Epworth  Geriatric_Depression  Hopkins  \\\n",
       "0       0       0         0      0        1                     1        0   \n",
       "1       1       0         1      0        0                     1        0   \n",
       "\n",
       "   Hopkins_Recog  LetterNumber  Lexical_Fluency  ...  SCOPA_Sex  Semantic  \\\n",
       "0              0             1                1  ...          1         0   \n",
       "1              0             1                1  ...          0         1   \n",
       "\n",
       "   Education  Hand  STAIS  STAIA  Symbol_Digit  Trail_Making_A  \\\n",
       "0          1     0      2      1             1               1   \n",
       "1          0     0      1      2             2               1   \n",
       "\n",
       "   Trail_Making_B  UPSIT  \n",
       "0               1      2  \n",
       "1               1      0  \n",
       "\n",
       "[2 rows x 46 columns]"
      ]
     },
     "execution_count": 9,
     "metadata": {},
     "output_type": "execute_result"
    }
   ],
   "source": [
    "%cd Z:\\PPMI_Data\\Excels\\NonMotors\\Derived250\n",
    "df1 = pd.read_csv('NonMotor_SocioBehavior_Categorized_Edit.csv')\n",
    "df1['APPRDX'] = df1['APPRDX'] -1\n",
    "print(df1.shape)\n",
    "df1.head(2)"
   ]
  },
  {
   "cell_type": "code",
   "execution_count": 11,
   "metadata": {
    "ExecuteTime": {
     "end_time": "2023-03-25T11:13:53.852609Z",
     "start_time": "2023-03-25T11:13:53.821358Z"
    }
   },
   "outputs": [
    {
     "name": "stdout",
     "output_type": "stream",
     "text": [
      "Z:\\PPMI_Data\\Excels\\CollaborativeFiltering\n",
      "(250, 46)\n"
     ]
    },
    {
     "data": {
      "text/html": [
       "<div>\n",
       "<style scoped>\n",
       "    .dataframe tbody tr th:only-of-type {\n",
       "        vertical-align: middle;\n",
       "    }\n",
       "\n",
       "    .dataframe tbody tr th {\n",
       "        vertical-align: top;\n",
       "    }\n",
       "\n",
       "    .dataframe thead th {\n",
       "        text-align: right;\n",
       "    }\n",
       "</style>\n",
       "<table border=\"1\" class=\"dataframe\">\n",
       "  <thead>\n",
       "    <tr style=\"text-align: right;\">\n",
       "      <th></th>\n",
       "      <th>APPRDX</th>\n",
       "      <th>Anxiety</th>\n",
       "      <th>Apathy</th>\n",
       "      <th>Benton</th>\n",
       "      <th>Clock</th>\n",
       "      <th>Cognition</th>\n",
       "      <th>COGSTATE</th>\n",
       "      <th>Constipate</th>\n",
       "      <th>Depress</th>\n",
       "      <th>DopaDefic</th>\n",
       "      <th>...</th>\n",
       "      <th>Semantic</th>\n",
       "      <th>SleepDay</th>\n",
       "      <th>SleepNight</th>\n",
       "      <th>STAIA</th>\n",
       "      <th>STAIS</th>\n",
       "      <th>Symbol_Digit</th>\n",
       "      <th>Trail_Making_A</th>\n",
       "      <th>Trail_Making_B</th>\n",
       "      <th>UPSIT</th>\n",
       "      <th>Urine</th>\n",
       "    </tr>\n",
       "  </thead>\n",
       "  <tbody>\n",
       "    <tr>\n",
       "      <th>0</th>\n",
       "      <td>0</td>\n",
       "      <td>1</td>\n",
       "      <td>0</td>\n",
       "      <td>12.16</td>\n",
       "      <td>7</td>\n",
       "      <td>1</td>\n",
       "      <td>1</td>\n",
       "      <td>1</td>\n",
       "      <td>1</td>\n",
       "      <td>0</td>\n",
       "      <td>...</td>\n",
       "      <td>57</td>\n",
       "      <td>1</td>\n",
       "      <td>0</td>\n",
       "      <td>45</td>\n",
       "      <td>59</td>\n",
       "      <td>47.5</td>\n",
       "      <td>110</td>\n",
       "      <td>204</td>\n",
       "      <td>17</td>\n",
       "      <td>1</td>\n",
       "    </tr>\n",
       "    <tr>\n",
       "      <th>1</th>\n",
       "      <td>0</td>\n",
       "      <td>1</td>\n",
       "      <td>1</td>\n",
       "      <td>7.76</td>\n",
       "      <td>6</td>\n",
       "      <td>1</td>\n",
       "      <td>1</td>\n",
       "      <td>0</td>\n",
       "      <td>0</td>\n",
       "      <td>0</td>\n",
       "      <td>...</td>\n",
       "      <td>36</td>\n",
       "      <td>1</td>\n",
       "      <td>3</td>\n",
       "      <td>40</td>\n",
       "      <td>39</td>\n",
       "      <td>52.0</td>\n",
       "      <td>27</td>\n",
       "      <td>52</td>\n",
       "      <td>9</td>\n",
       "      <td>0</td>\n",
       "    </tr>\n",
       "  </tbody>\n",
       "</table>\n",
       "<p>2 rows × 46 columns</p>\n",
       "</div>"
      ],
      "text/plain": [
       "   APPRDX  Anxiety  Apathy  Benton  Clock  Cognition  COGSTATE  Constipate  \\\n",
       "0       0        1       0   12.16      7          1         1           1   \n",
       "1       0        1       1    7.76      6          1         1           0   \n",
       "\n",
       "   Depress  DopaDefic  ...  Semantic  SleepDay  SleepNight  STAIA  STAIS  \\\n",
       "0        1          0  ...        57         1           0     45     59   \n",
       "1        0          0  ...        36         1           3     40     39   \n",
       "\n",
       "   Symbol_Digit  Trail_Making_A  Trail_Making_B  UPSIT  Urine  \n",
       "0          47.5             110             204     17      1  \n",
       "1          52.0              27              52      9      0  \n",
       "\n",
       "[2 rows x 46 columns]"
      ]
     },
     "execution_count": 11,
     "metadata": {},
     "output_type": "execute_result"
    }
   ],
   "source": [
    "%cd Z:\\PPMI_Data\\Excels\\CollaborativeFiltering\n",
    "df2 = pd.read_csv('Feats45_unCateg_APPRDX.csv')\n",
    "df2 = df2.drop(['PATNO','Patient_ID'], axis=1)\n",
    "df2['APPRDX'] = df2['APPRDX'] -1\n",
    "print(df2.shape)\n",
    "df2.head(2)"
   ]
  },
  {
   "cell_type": "code",
   "execution_count": 16,
   "metadata": {
    "ExecuteTime": {
     "end_time": "2023-03-25T11:14:56.903945Z",
     "start_time": "2023-03-25T11:14:56.857090Z"
    },
    "scrolled": true
   },
   "outputs": [
    {
     "name": "stdout",
     "output_type": "stream",
     "text": [
      "Z:\\PPMI_Data\\Excels\\NonMotors\\Derived250\n",
      "(250, 46)\n"
     ]
    },
    {
     "data": {
      "text/html": [
       "<div>\n",
       "<style scoped>\n",
       "    .dataframe tbody tr th:only-of-type {\n",
       "        vertical-align: middle;\n",
       "    }\n",
       "\n",
       "    .dataframe tbody tr th {\n",
       "        vertical-align: top;\n",
       "    }\n",
       "\n",
       "    .dataframe thead th {\n",
       "        text-align: right;\n",
       "    }\n",
       "</style>\n",
       "<table border=\"1\" class=\"dataframe\">\n",
       "  <thead>\n",
       "    <tr style=\"text-align: right;\">\n",
       "      <th></th>\n",
       "      <th>APPRDX</th>\n",
       "      <th>Benton</th>\n",
       "      <th>COGSTATE</th>\n",
       "      <th>Clock</th>\n",
       "      <th>Epworth</th>\n",
       "      <th>Geriatric_Depression</th>\n",
       "      <th>Hopkins</th>\n",
       "      <th>Hopkins_Recog</th>\n",
       "      <th>LetterNumber</th>\n",
       "      <th>Lexical_Fluency</th>\n",
       "      <th>...</th>\n",
       "      <th>SCOPA_Sex</th>\n",
       "      <th>Semantic</th>\n",
       "      <th>Education</th>\n",
       "      <th>Hand</th>\n",
       "      <th>STAIS</th>\n",
       "      <th>STAIA</th>\n",
       "      <th>Symbol_Digit</th>\n",
       "      <th>Trail_Making_A</th>\n",
       "      <th>Trail_Making_B</th>\n",
       "      <th>UPSIT</th>\n",
       "    </tr>\n",
       "  </thead>\n",
       "  <tbody>\n",
       "    <tr>\n",
       "      <th>0</th>\n",
       "      <td>0</td>\n",
       "      <td>0</td>\n",
       "      <td>0</td>\n",
       "      <td>0</td>\n",
       "      <td>1</td>\n",
       "      <td>1</td>\n",
       "      <td>0</td>\n",
       "      <td>0</td>\n",
       "      <td>1</td>\n",
       "      <td>1</td>\n",
       "      <td>...</td>\n",
       "      <td>1</td>\n",
       "      <td>0</td>\n",
       "      <td>1</td>\n",
       "      <td>0</td>\n",
       "      <td>2</td>\n",
       "      <td>1</td>\n",
       "      <td>1</td>\n",
       "      <td>1</td>\n",
       "      <td>1</td>\n",
       "      <td>2</td>\n",
       "    </tr>\n",
       "    <tr>\n",
       "      <th>1</th>\n",
       "      <td>1</td>\n",
       "      <td>0</td>\n",
       "      <td>1</td>\n",
       "      <td>0</td>\n",
       "      <td>0</td>\n",
       "      <td>1</td>\n",
       "      <td>0</td>\n",
       "      <td>0</td>\n",
       "      <td>1</td>\n",
       "      <td>1</td>\n",
       "      <td>...</td>\n",
       "      <td>0</td>\n",
       "      <td>1</td>\n",
       "      <td>0</td>\n",
       "      <td>0</td>\n",
       "      <td>1</td>\n",
       "      <td>2</td>\n",
       "      <td>2</td>\n",
       "      <td>1</td>\n",
       "      <td>1</td>\n",
       "      <td>0</td>\n",
       "    </tr>\n",
       "  </tbody>\n",
       "</table>\n",
       "<p>2 rows × 46 columns</p>\n",
       "</div>"
      ],
      "text/plain": [
       "   APPRDX  Benton  COGSTATE  Clock  Epworth  Geriatric_Depression  Hopkins  \\\n",
       "0       0       0         0      0        1                     1        0   \n",
       "1       1       0         1      0        0                     1        0   \n",
       "\n",
       "   Hopkins_Recog  LetterNumber  Lexical_Fluency  ...  SCOPA_Sex  Semantic  \\\n",
       "0              0             1                1  ...          1         0   \n",
       "1              0             1                1  ...          0         1   \n",
       "\n",
       "   Education  Hand  STAIS  STAIA  Symbol_Digit  Trail_Making_A  \\\n",
       "0          1     0      2      1             1               1   \n",
       "1          0     0      1      2             2               1   \n",
       "\n",
       "   Trail_Making_B  UPSIT  \n",
       "0               1      2  \n",
       "1               1      0  \n",
       "\n",
       "[2 rows x 46 columns]"
      ]
     },
     "execution_count": 16,
     "metadata": {},
     "output_type": "execute_result"
    }
   ],
   "source": [
    "%cd Z:\\PPMI_Data\\Excels\\NonMotors\\Derived250\n",
    "df3 = pd.read_csv('NonMotor_SocioBehavior_Categorized_EditRaw_Gender.csv')\n",
    "df3 = df3.drop(['PATNO','Gender'], axis=1)\n",
    "df3['APPRDX'] = df3['APPRDX'] -1\n",
    "print(df3.shape)\n",
    "df3.head(2)"
   ]
  },
  {
   "cell_type": "markdown",
   "metadata": {},
   "source": [
    "## Multiple ROC-AUC in one plot"
   ]
  },
  {
   "cell_type": "code",
   "execution_count": 21,
   "metadata": {
    "ExecuteTime": {
     "end_time": "2023-03-25T11:24:11.119288Z",
     "start_time": "2023-03-25T11:24:06.954164Z"
    },
    "scrolled": false
   },
   "outputs": [
    {
     "data": {
      "image/png": "[encoded data removed]",
      "text/plain": [
       "<Figure size 640x480 with 1 Axes>"
      ]
     },
     "metadata": {},
     "output_type": "display_data"
    }
   ],
   "source": [
    "# Create a list of colors for each dataset\n",
    "colors = ['b', 'r', 'g']\n",
    "\n",
    "# Define the names for each dataset in the legend\n",
    "dataset_names = ['Dat 1', 'Data 2', 'Dataset 3']\n",
    "\n",
    "# Loop over the datasets and plot the ROC curves\n",
    "for i, dataset in enumerate([df1, df2, df3]):\n",
    "    # Sample the data\n",
    "    dataset_sampled = dataset.groupby('APPRDX').apply(lambda x: x.sample(80, random_state=1))\n",
    "    X = dataset_sampled.iloc[:, 1:].values\n",
    "    y = dataset_sampled.iloc[:, 0].values\n",
    "\n",
    "    # Fit the model\n",
    "    classifier = RandomForestClassifier(n_estimators=100, criterion='gini')\n",
    "    y_prob = cross_val_predict(classifier, X, y, cv=10, method='predict_proba')\n",
    "\n",
    "    # Calculate the false positive rate and true positive rate for different thresholds\n",
    "    fpr, tpr, thresholds = roc_curve(y, y_prob[:, 1], pos_label=1)\n",
    "\n",
    "    # Calculate the area under the ROC curve\n",
    "    roc_auc = auc(fpr, tpr)\n",
    "\n",
    "    # Plot the ROC curve with the updated legend label\n",
    "    plt.plot(fpr, tpr, color=colors[i], lw=2, label='%s (AUC = %0.2f)' % (dataset_names[i], roc_auc))\n",
    "\n",
    "# Plot the diagonal line (random guess)\n",
    "plt.plot([0, 1], [0, 1], color='k', lw=1.5, linestyle='--')\n",
    "\n",
    "# Set the plot parameters\n",
    "plt.xlim([0.0, 1.0])\n",
    "plt.ylim([0.0, 1.05])\n",
    "plt.xticks(fontweight='bold')\n",
    "plt.yticks(fontweight='bold')\n",
    "plt.xlabel('False Positive Rate', fontweight='bold', fontsize=12)\n",
    "plt.ylabel('True Positive Rate', fontweight='bold', fontsize=12)\n",
    "plt.title('ROC-AUC: All 45 Features', fontweight='bold', fontsize=14)\n",
    "plt.legend(loc=\"lower right\")\n",
    "\n",
    "# Save the plot as SVG and PDF files\n",
    "# plt.savefig('ROC_AUC_All45Features_Categ.svg')\n",
    "# plt.savefig('ROC_AUC_All45Features_Categ.pdf')\n",
    "\n",
    "# Show the plot\n",
    "plt.show()\n"
   ]
  },
  {
   "cell_type": "markdown",
   "metadata": {},
   "source": [
    "## Different sample for each dataframe df1, df2, df3"
   ]
  },
  {
   "cell_type": "code",
   "execution_count": 22,
   "metadata": {
    "ExecuteTime": {
     "end_time": "2023-03-25T11:30:46.314860Z",
     "start_time": "2023-03-25T11:30:42.273570Z"
    }
   },
   "outputs": [
    {
     "data": {
      "image/png": "[encoded data removed]",
      "text/plain": [
       "<Figure size 640x480 with 1 Axes>"
      ]
     },
     "metadata": {},
     "output_type": "display_data"
    }
   ],
   "source": [
    "# Create a list of colors for each dataset\n",
    "colors = ['b', 'r', 'g']\n",
    "\n",
    "# Define the names for each dataset in the legend\n",
    "dataset_names = ['Dat 1', 'Data 2', 'Dataset 3']\n",
    "\n",
    "# Loop over the datasets and plot the ROC curves\n",
    "for i, dataset in enumerate([df1, df2, df3]):\n",
    "    # Sample the data\n",
    "    if i == 0:\n",
    "        dataset_sampled = dataset.groupby('APPRDX').apply(lambda x: x.sample(30, random_state=1))\n",
    "    elif i == 1:\n",
    "        dataset_sampled = dataset.groupby('APPRDX').apply(lambda x: x.sample(50, random_state=1))\n",
    "    else:\n",
    "        dataset_sampled = dataset.groupby('APPRDX').apply(lambda x: x.sample(80, random_state=1))\n",
    "    \n",
    "    X = dataset_sampled.iloc[:, 1:].values\n",
    "    y = dataset_sampled.iloc[:, 0].values\n",
    "\n",
    "    # Fit the model\n",
    "    classifier = RandomForestClassifier(n_estimators=100, criterion='gini')\n",
    "    y_prob = cross_val_predict(classifier, X, y, cv=10, method='predict_proba')\n",
    "\n",
    "    # Calculate the false positive rate and true positive rate for different thresholds\n",
    "    fpr, tpr, thresholds = roc_curve(y, y_prob[:, 1], pos_label=1)\n",
    "\n",
    "    # Calculate the area under the ROC curve\n",
    "    roc_auc = auc(fpr, tpr)\n",
    "\n",
    "    # Plot the ROC curve with the updated legend label\n",
    "    plt.plot(fpr, tpr, color=colors[i], lw=2, label='%s (AUC = %0.2f)' % (dataset_names[i], roc_auc))\n",
    "\n",
    "# Plot the diagonal line (random guess)\n",
    "plt.plot([0, 1], [0, 1], color='k', lw=1.5, linestyle='--')\n",
    "\n",
    "# Set the plot parameters\n",
    "plt.xlim([0.0, 1.0])\n",
    "plt.ylim([0.0, 1.05])\n",
    "plt.xticks(fontweight='bold')\n",
    "plt.yticks(fontweight='bold')\n",
    "plt.xlabel('False Positive Rate', fontweight='bold', fontsize=12)\n",
    "plt.ylabel('True Positive Rate', fontweight='bold', fontsize=12)\n",
    "plt.title('ROC-AUC: All 45 Features', fontweight='bold', fontsize=14)\n",
    "plt.legend(loc=\"lower right\")\n",
    "\n",
    "# Save the plot as SVG and PDF files\n",
    "# plt.savefig('ROC_AUC_All45Features_Categ.svg')\n",
    "# plt.savefig('ROC_AUC_All45Features_Categ.pdf')\n",
    "\n",
    "# Show the plot\n",
    "plt.show()\n"
   ]
  },
  {
   "cell_type": "code",
   "execution_count": null,
   "metadata": {},
   "outputs": [],
   "source": []
  }
 ],
 "metadata": {
  "colab": {
   "authorship_tag": "ABX9TyPA7K2PAkEFgaKFIvslUMEc",
   "collapsed_sections": [],
   "machine_shape": "hm",
   "name": "random_forest_classification.ipynb",
   "provenance": [],
   "toc_visible": true
  },
  "kernelspec": {
   "display_name": "Python 3 (ipykernel)",
   "language": "python",
   "name": "python3"
  },
  "language_info": {
   "codemirror_mode": {
    "name": "ipython",
    "version": 3
   },
   "file_extension": ".py",
   "mimetype": "text/x-python",
   "name": "python",
   "nbconvert_exporter": "python",
   "pygments_lexer": "ipython3",
   "version": "3.9.16"
  },
  "toc": {
   "base_numbering": 1,
   "nav_menu": {},
   "number_sections": true,
   "sideBar": true,
   "skip_h1_title": false,
   "title_cell": "Table of Contents",
   "title_sidebar": "Contents",
   "toc_cell": false,
   "toc_position": {},
   "toc_section_display": true,
   "toc_window_display": false
  },
  "varInspector": {
   "cols": {
    "lenName": 16,
    "lenType": 16,
    "lenVar": 40
   },
   "kernels_config": {
    "python": {
     "delete_cmd_postfix": "",
     "delete_cmd_prefix": "del ",
     "library": "var_list.py",
     "varRefreshCmd": "print(var_dic_list())"
    },
    "r": {
     "delete_cmd_postfix": ") ",
     "delete_cmd_prefix": "rm(",
     "library": "var_list.r",
     "varRefreshCmd": "cat(var_dic_list()) "
    }
   },
   "types_to_exclude": [
    "module",
    "function",
    "builtin_function_or_method",
    "instance",
    "_Feature"
   ],
   "window_display": false
  }
 },
 "nbformat": 4,
 "nbformat_minor": 1
}
