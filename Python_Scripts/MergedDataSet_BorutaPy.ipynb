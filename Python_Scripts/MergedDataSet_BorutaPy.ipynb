{
 "cells": [
  {
   "cell_type": "code",
   "execution_count": 1,
   "id": "51c5704f",
   "metadata": {
    "ExecuteTime": {
     "end_time": "2023-05-22T10:44:54.800622Z",
     "start_time": "2023-05-22T10:44:53.343496Z"
    }
   },
   "outputs": [],
   "source": [
    "import numpy as np\n",
    "import pandas as pd\n",
    "from boruta import BorutaPy\n",
    "from sklearn.metrics import accuracy_score \n",
    "from sklearn.ensemble import RandomForestRegressor\n",
    "from sklearn.model_selection import train_test_split"
   ]
  },
  {
   "cell_type": "code",
   "execution_count": 2,
   "id": "5ff336b1",
   "metadata": {
    "ExecuteTime": {
     "end_time": "2023-05-22T10:44:56.242069Z",
     "start_time": "2023-05-22T10:44:54.800622Z"
    },
    "scrolled": true
   },
   "outputs": [
    {
     "name": "stdout",
     "output_type": "stream",
     "text": [
      "Z:\\Project_Top2B\\April_2023\\Files_Top2B\\CpG_inRow\n"
     ]
    },
    {
     "name": "stderr",
     "output_type": "stream",
     "text": [
      "C:\\Users\\system 4\\AppData\\Local\\Temp\\ipykernel_1188\\2895854811.py:2: DtypeWarning: Columns (2,5,11,13,16,23,24,25,26,28,29,33,39,40,43,46,47,48,53,63,68,69,73,92,94,97,112,113,114,118,130,133,134,136,140,142,143,147,155,156,161,165,169,173,175,177,178,179,180,187,189,190,205,210,212,215,217,218,220,223,225,228,231,232,233,236,237,242,244,245,251,253,257,258,260,266,268,273,278,280,282,283,285,296,302,303,304,305,306,308,314,322,323,334,337,338,344,350,357,359,367,375,378,381,384,385,388,390,392,396,401,404,405,407,408,411,414,415,418,420,426,433,434,435,436,439,445,450,452,454,455,457,458,463,469,471,479,480,484,495,502,510,513,514,519,528,531,534,539,541,543,556,558,559,560,562,564,565,566,568,572,579,583,586,587,590,593,604,608,609,614,616,620,624,626,627,629,630,631,637,640,641,644,651,652,654,656,668,675,680,681,683,685,689,691,694,697,701,706,712,714,716,721,726,729,730,732,737,738,740,746,764,768,780,781,786,787,791,792,794,796,799,803,805,811,812,813,815,819,820,822,836,837,850,858,859,862,879,885,887,890,906,907,909,912,917,922,923,925,930,931,934,936,937,938,947,948,954,955,958,959,961,964,967,969,971,978,980,981,982,987,989,991,992,996,1000,1006,1010,1016,1021,1024,1025,1027,1029,1033,1035,1040,1042,1045,1047,1050,1055,1056,1062,1065,1066,1067,1068,1074,1079,1081,1093,1098,1099,1102,1106,1108,1111,1121,1123,1129,1135,1139,1142,1150,1160,1162,1163,1178,1179,1188,1201,1202,1210,1212,1214,1222,1224,1226,1233,1236,1238,1240,1243,1245,1246,1251,1254,1255,1256,1260,1262,1265,1269,1276,1278,1281,1285,1287,1288,1289,1290,1291,1300,1302,1304,1305,1307,1314,1316,1323,1325,1331,1333,1341,1343,1347,1351,1355,1356,1359,1369,1371,1374,1377,1381,1382,1385,1386,1393,1398,1404,1406,1410,1415,1416,1418,1422,1424,1425,1426,1432,1434,1440,1441,1450,1451,1457,1463,1476,1480,1485,1488,1489,1513,1516,1518,1525,1526,1538,1541,1550,1551,1558,1563,1565,1570,1574,1579,1589,1590,1593,1601,1604,1606,1608,1614,1619,1622,1625,1629,1632,1635,1640,1645,1646,1647,1648,1651,1654,1658,1660,1663,1664,1665,1667,1677,1680,1681,1684,1688,1690,1693,1694,1697,1706,1709,1710,1714,1716,1718,1719,1720,1722,1723,1735,1737,1742,1747,1749,1751,1753,1757,1759,1764,1767,1782,1785,1788,1791,1792,1793,1795,1800,1801,1805,1806,1808,1810,1812,1814,1815,1816,1817,1822,1823,1828,1829,1831,1833,1835,1838,1839,1841,1846,1855,1864,1871,1879,1881,1883,1884,1894,1897,1901,1905,1908,1919,1926,1929,1931,1932,1938,1940,1948,1949,1950,1952,1959,1964,1967,1968,1969,1970,1971,1980,1985,1987,1989,1993,1995,1997,2002,2003,2006,2009,2015,2020,2023,2024,2026,2027,2033,2034,2035,2040,2048,2053,2057,2059,2060,2062,2063,2075,2078,2087,2090,2095,2098,2103,2105,2112,2113,2114,2118,2119,2122,2123,2133,2134,2139,2142,2145,2148,2150,2152,2155,2157,2163,2165,2168,2171,2175,2176,2178,2182,2183,2186,2190,2191,2197,2199,2200,2201,2207,2211,2214,2216,2218,2219,2222,2223,2224,2227,2228,2229,2232,2234,2236,2237,2238,2239,2240,2242,2243,2245,2247,2249,2250,2255,2256,2259,2260,2265,2269,2276,2278,2284,2294,2295,2297,2298,2299,2300,2302,2304,2305,2307,2308,2314,2319,2321,2323,2326,2328,2329,2330,2332,2335,2337,2338,2342,2348,2352,2353,2356,2357,2358,2360,2362,2363,2365,2372,2373,2375,2386,2395,2397,2398,2399,2400,2402,2403,2404,2405,2408,2410,2415,2419,2421,2423,2431,2433,2438,2439,2445,2447,2450,2454,2458,2463,2465,2467,2470,2473,2476,2481,2482,2485,2486,2490,2493,2494,2496,2499,2501,2503,2505,2508,2512,2516,2517,2522,2523,2524,2533,2537,2539,2543,2544,2549,2556,2558,2559,2562,2563,2566,2574,2577,2579,2585,2587,2592,2594,2595,2598,2599,2607,2609,2612,2615,2620,2622,2626,2631,2639,2640,2643,2652,2656,2660,2668,2669,2678,2682,2689,2692,2698,2702,2705,2714,2717,2719,2725,2731,2738,2744,2746,2748,2750,2752,2755,2768,2770,2771,2774,2780,2796,2798,2799,2800,2801,2803,2805,2809,2813,2816,2818,2820,2821,2823,2831,2836,2837,2839,2840,2841,2843,2845,2859,2865,2866,2876,2885,2887,2888,2889,2893,2895,2896,2898,2907,2914,2915,2919,2926,2931,2932,2934,2945,2946,2947,2948,2952,2955,2956,2958,2960,2971,2972,2977,2978,2988,2989,2993,3000,3003,3007,3009,3015,3016,3021,3022,3023,3036,3038,3045,3048,3051,3052,3056,3057,3058,3064,3065,3068,3075,3076,3077,3078,3081,3083,3088,3103,3106,3108,3109,3111,3119,3123,3126,3128,3135,3139,3142,3147,3148,3149,3153,3159,3161,3162,3165,3169,3171,3172,3173,3176,3179,3181,3182,3183,3184,3187,3192) have mixed types. Specify dtype option on import or set low_memory=False.\n",
      "  data = pd.read_csv('Merged18_Top2B.csv')\n"
     ]
    },
    {
     "data": {
      "text/html": [
       "<div>\n",
       "<style scoped>\n",
       "    .dataframe tbody tr th:only-of-type {\n",
       "        vertical-align: middle;\n",
       "    }\n",
       "\n",
       "    .dataframe tbody tr th {\n",
       "        vertical-align: top;\n",
       "    }\n",
       "\n",
       "    .dataframe thead th {\n",
       "        text-align: right;\n",
       "    }\n",
       "</style>\n",
       "<table border=\"1\" class=\"dataframe\">\n",
       "  <thead>\n",
       "    <tr style=\"text-align: right;\">\n",
       "      <th></th>\n",
       "      <th>Age</th>\n",
       "      <th>cg00018024</th>\n",
       "      <th>cg00018539</th>\n",
       "      <th>cg00019511</th>\n",
       "      <th>cg00029353</th>\n",
       "      <th>cg00030423</th>\n",
       "      <th>cg00034416</th>\n",
       "      <th>cg00034611</th>\n",
       "      <th>cg00041368</th>\n",
       "      <th>cg00048759</th>\n",
       "      <th>...</th>\n",
       "      <th>cg27551895</th>\n",
       "      <th>cg27569265</th>\n",
       "      <th>cg27597926</th>\n",
       "      <th>cg27601855</th>\n",
       "      <th>cg27624319</th>\n",
       "      <th>cg27629898</th>\n",
       "      <th>cg27633533</th>\n",
       "      <th>cg27635069</th>\n",
       "      <th>cg27658967</th>\n",
       "      <th>cg27664120</th>\n",
       "    </tr>\n",
       "  </thead>\n",
       "  <tbody>\n",
       "    <tr>\n",
       "      <th>0</th>\n",
       "      <td>54.0</td>\n",
       "      <td>0.002752287</td>\n",
       "      <td>0.922941</td>\n",
       "      <td>0.93185</td>\n",
       "      <td>0.05592473</td>\n",
       "      <td>0.005002</td>\n",
       "      <td>0.000827</td>\n",
       "      <td>0.792639</td>\n",
       "      <td>0.950103</td>\n",
       "      <td>0.301871</td>\n",
       "      <td>...</td>\n",
       "      <td>0.13139</td>\n",
       "      <td>0.023274</td>\n",
       "      <td>0.050163282</td>\n",
       "      <td>0.047956</td>\n",
       "      <td>0.265469</td>\n",
       "      <td>0.674344</td>\n",
       "      <td>0.942482</td>\n",
       "      <td>0.157283</td>\n",
       "      <td>0.037267</td>\n",
       "      <td>0.932489</td>\n",
       "    </tr>\n",
       "  </tbody>\n",
       "</table>\n",
       "<p>1 rows × 3194 columns</p>\n",
       "</div>"
      ],
      "text/plain": [
       "    Age   cg00018024  cg00018539  cg00019511  cg00029353  cg00030423  \\\n",
       "0  54.0  0.002752287    0.922941     0.93185  0.05592473    0.005002   \n",
       "\n",
       "   cg00034416  cg00034611  cg00041368  cg00048759  ... cg27551895  cg27569265  \\\n",
       "0    0.000827    0.792639    0.950103    0.301871  ...    0.13139    0.023274   \n",
       "\n",
       "    cg27597926  cg27601855  cg27624319 cg27629898  cg27633533  cg27635069  \\\n",
       "0  0.050163282    0.047956    0.265469   0.674344    0.942482    0.157283   \n",
       "\n",
       "   cg27658967  cg27664120  \n",
       "0    0.037267    0.932489  \n",
       "\n",
       "[1 rows x 3194 columns]"
      ]
     },
     "execution_count": 2,
     "metadata": {},
     "output_type": "execute_result"
    }
   ],
   "source": [
    "%cd Z:\\Project_Top2B\\April_2023\\Files_Top2B\\CpG_inRow\n",
    "data = pd.read_csv('Merged18_Top2B.csv')\n",
    "data = data.drop(['CpG'], axis = 1)\n",
    "data.head(1)"
   ]
  },
  {
   "cell_type": "code",
   "execution_count": 3,
   "id": "2884da98",
   "metadata": {
    "ExecuteTime": {
     "end_time": "2023-05-22T10:45:19.287473Z",
     "start_time": "2023-05-22T10:44:56.242069Z"
    }
   },
   "outputs": [
    {
     "data": {
      "text/html": [
       "<div>\n",
       "<style scoped>\n",
       "    .dataframe tbody tr th:only-of-type {\n",
       "        vertical-align: middle;\n",
       "    }\n",
       "\n",
       "    .dataframe tbody tr th {\n",
       "        vertical-align: top;\n",
       "    }\n",
       "\n",
       "    .dataframe thead th {\n",
       "        text-align: right;\n",
       "    }\n",
       "</style>\n",
       "<table border=\"1\" class=\"dataframe\">\n",
       "  <thead>\n",
       "    <tr style=\"text-align: right;\">\n",
       "      <th></th>\n",
       "      <th>Age</th>\n",
       "      <th>cg00018024</th>\n",
       "      <th>cg00018539</th>\n",
       "      <th>cg00019511</th>\n",
       "      <th>cg00029353</th>\n",
       "      <th>cg00030423</th>\n",
       "      <th>cg00034416</th>\n",
       "      <th>cg00034611</th>\n",
       "      <th>cg00041368</th>\n",
       "      <th>cg00048759</th>\n",
       "      <th>...</th>\n",
       "      <th>cg27551895</th>\n",
       "      <th>cg27569265</th>\n",
       "      <th>cg27597926</th>\n",
       "      <th>cg27601855</th>\n",
       "      <th>cg27624319</th>\n",
       "      <th>cg27629898</th>\n",
       "      <th>cg27633533</th>\n",
       "      <th>cg27635069</th>\n",
       "      <th>cg27658967</th>\n",
       "      <th>cg27664120</th>\n",
       "    </tr>\n",
       "  </thead>\n",
       "  <tbody>\n",
       "    <tr>\n",
       "      <th>0</th>\n",
       "      <td>54.0</td>\n",
       "      <td>0.002752</td>\n",
       "      <td>0.922941</td>\n",
       "      <td>0.931850</td>\n",
       "      <td>0.055925</td>\n",
       "      <td>0.005002</td>\n",
       "      <td>0.000827</td>\n",
       "      <td>0.792639</td>\n",
       "      <td>0.950103</td>\n",
       "      <td>0.301871</td>\n",
       "      <td>...</td>\n",
       "      <td>0.131390</td>\n",
       "      <td>0.023274</td>\n",
       "      <td>0.050163</td>\n",
       "      <td>0.047956</td>\n",
       "      <td>0.265469</td>\n",
       "      <td>0.674344</td>\n",
       "      <td>0.942482</td>\n",
       "      <td>0.157283</td>\n",
       "      <td>0.037267</td>\n",
       "      <td>0.932489</td>\n",
       "    </tr>\n",
       "    <tr>\n",
       "      <th>1</th>\n",
       "      <td>76.0</td>\n",
       "      <td>0.000848</td>\n",
       "      <td>0.918074</td>\n",
       "      <td>0.900106</td>\n",
       "      <td>0.046729</td>\n",
       "      <td>0.000000</td>\n",
       "      <td>0.001294</td>\n",
       "      <td>0.826015</td>\n",
       "      <td>0.938318</td>\n",
       "      <td>0.336293</td>\n",
       "      <td>...</td>\n",
       "      <td>0.111728</td>\n",
       "      <td>0.022058</td>\n",
       "      <td>0.054580</td>\n",
       "      <td>0.040623</td>\n",
       "      <td>0.359073</td>\n",
       "      <td>0.674820</td>\n",
       "      <td>0.961366</td>\n",
       "      <td>0.145363</td>\n",
       "      <td>0.030927</td>\n",
       "      <td>0.917839</td>\n",
       "    </tr>\n",
       "  </tbody>\n",
       "</table>\n",
       "<p>2 rows × 3194 columns</p>\n",
       "</div>"
      ],
      "text/plain": [
       "    Age  cg00018024  cg00018539  cg00019511  cg00029353  cg00030423  \\\n",
       "0  54.0    0.002752    0.922941    0.931850    0.055925    0.005002   \n",
       "1  76.0    0.000848    0.918074    0.900106    0.046729    0.000000   \n",
       "\n",
       "   cg00034416  cg00034611  cg00041368  cg00048759  ...  cg27551895  \\\n",
       "0    0.000827    0.792639    0.950103    0.301871  ...    0.131390   \n",
       "1    0.001294    0.826015    0.938318    0.336293  ...    0.111728   \n",
       "\n",
       "   cg27569265  cg27597926  cg27601855  cg27624319  cg27629898  cg27633533  \\\n",
       "0    0.023274    0.050163    0.047956    0.265469    0.674344    0.942482   \n",
       "1    0.022058    0.054580    0.040623    0.359073    0.674820    0.961366   \n",
       "\n",
       "   cg27635069  cg27658967  cg27664120  \n",
       "0    0.157283    0.037267    0.932489  \n",
       "1    0.145363    0.030927    0.917839  \n",
       "\n",
       "[2 rows x 3194 columns]"
      ]
     },
     "execution_count": 3,
     "metadata": {},
     "output_type": "execute_result"
    }
   ],
   "source": [
    "# Replace 'void' values with NaN\n",
    "data = data.replace('void', np.nan)\n",
    "\n",
    "# Loop over each column and replace NaN values with column means\n",
    "for col in data.columns:\n",
    "    # Convert the column to numeric data type\n",
    "    data[col] = pd.to_numeric(data[col])\n",
    "    \n",
    "    # Calculate the mean of the column\n",
    "    col_mean = data[col].mean()\n",
    "    \n",
    "    # Replace NaN values with the column mean\n",
    "    data[col].fillna(col_mean, inplace=True)\n",
    "\n",
    "data.to_csv(\"Merged18_Top2B_Mean.csv\", index = False)\n",
    "data.head(2)"
   ]
  },
  {
   "cell_type": "code",
   "execution_count": 4,
   "id": "ee22df7a",
   "metadata": {
    "ExecuteTime": {
     "end_time": "2023-05-22T10:45:19.528300Z",
     "start_time": "2023-05-22T10:45:19.287473Z"
    }
   },
   "outputs": [],
   "source": [
    "X = data.drop(['Age'], axis = 1)\n",
    "y = data['Age']\n",
    "X_train, X_test, y_train, y_test = train_test_split(X, y, test_size = .2, random_state = 1) "
   ]
  },
  {
   "cell_type": "code",
   "execution_count": 5,
   "id": "c1ee3e48",
   "metadata": {
    "ExecuteTime": {
     "end_time": "2023-05-22T10:49:31.347487Z",
     "start_time": "2023-05-22T10:45:19.531300Z"
    }
   },
   "outputs": [
    {
     "data": {
      "text/plain": [
       "RandomForestRegressor(random_state=1)"
      ]
     },
     "execution_count": 5,
     "metadata": {},
     "output_type": "execute_result"
    }
   ],
   "source": [
    "rf_all_features = RandomForestRegressor(random_state=1)\n",
    "rf_all_features.fit(X_train, y_train)"
   ]
  },
  {
   "cell_type": "markdown",
   "id": "c2f0bbed",
   "metadata": {
    "ExecuteTime": {
     "end_time": "2023-02-06T04:25:14.735313Z",
     "start_time": "2023-02-06T04:25:13.854630Z"
    }
   },
   "source": [
    "accuracy_score(y_test, rf_all_features.predict(X_test))"
   ]
  },
  {
   "cell_type": "code",
   "execution_count": 6,
   "id": "5ba608ac",
   "metadata": {
    "ExecuteTime": {
     "end_time": "2023-05-23T00:19:46.324783Z",
     "start_time": "2023-05-22T10:49:31.349508Z"
    },
    "scrolled": true
   },
   "outputs": [
    {
     "name": "stdout",
     "output_type": "stream",
     "text": [
      "Iteration: 1 / 100\n",
      "Iteration: 2 / 100\n",
      "Iteration: 3 / 100\n",
      "Iteration: 4 / 100\n",
      "Iteration: 5 / 100\n",
      "Iteration: 6 / 100\n",
      "Iteration: 7 / 100\n",
      "Iteration: 8 / 100\n",
      "Iteration: 9 / 100\n",
      "Iteration: 10 / 100\n",
      "Iteration: 11 / 100\n",
      "Iteration: 12 / 100\n",
      "Iteration: 13 / 100\n",
      "Iteration: 14 / 100\n",
      "Iteration: 15 / 100\n",
      "Iteration: 16 / 100\n",
      "Iteration: 17 / 100\n",
      "Iteration: 18 / 100\n",
      "Iteration: 19 / 100\n",
      "Iteration: 20 / 100\n",
      "Iteration: 21 / 100\n",
      "Iteration: 22 / 100\n",
      "Iteration: 23 / 100\n",
      "Iteration: 24 / 100\n",
      "Iteration: 25 / 100\n",
      "Iteration: 26 / 100\n",
      "Iteration: 27 / 100\n",
      "Iteration: 28 / 100\n",
      "Iteration: 29 / 100\n",
      "Iteration: 30 / 100\n",
      "Iteration: 31 / 100\n",
      "Iteration: 32 / 100\n",
      "Iteration: 33 / 100\n",
      "Iteration: 34 / 100\n",
      "Iteration: 35 / 100\n",
      "Iteration: 36 / 100\n",
      "Iteration: 37 / 100\n",
      "Iteration: 38 / 100\n",
      "Iteration: 39 / 100\n",
      "Iteration: 40 / 100\n",
      "Iteration: 41 / 100\n",
      "Iteration: 42 / 100\n",
      "Iteration: 43 / 100\n",
      "Iteration: 44 / 100\n",
      "Iteration: 45 / 100\n",
      "Iteration: 46 / 100\n",
      "Iteration: 47 / 100\n",
      "Iteration: 48 / 100\n",
      "Iteration: 49 / 100\n",
      "Iteration: 50 / 100\n",
      "Iteration: 51 / 100\n",
      "Iteration: 52 / 100\n",
      "Iteration: 53 / 100\n",
      "Iteration: 54 / 100\n",
      "Iteration: 55 / 100\n",
      "Iteration: 56 / 100\n",
      "Iteration: 57 / 100\n",
      "Iteration: 58 / 100\n",
      "Iteration: 59 / 100\n",
      "Iteration: 60 / 100\n",
      "Iteration: 61 / 100\n",
      "Iteration: 62 / 100\n",
      "Iteration: 63 / 100\n",
      "Iteration: 64 / 100\n",
      "Iteration: 65 / 100\n",
      "Iteration: 66 / 100\n",
      "Iteration: 67 / 100\n",
      "Iteration: 68 / 100\n",
      "Iteration: 69 / 100\n",
      "Iteration: 70 / 100\n",
      "Iteration: 71 / 100\n",
      "Iteration: 72 / 100\n",
      "Iteration: 73 / 100\n",
      "Iteration: 74 / 100\n",
      "Iteration: 75 / 100\n",
      "Iteration: 76 / 100\n",
      "Iteration: 77 / 100\n",
      "Iteration: 78 / 100\n",
      "Iteration: 79 / 100\n",
      "Iteration: 80 / 100\n",
      "Iteration: 81 / 100\n",
      "Iteration: 82 / 100\n",
      "Iteration: 83 / 100\n",
      "Iteration: 84 / 100\n",
      "Iteration: 85 / 100\n",
      "Iteration: 86 / 100\n",
      "Iteration: 87 / 100\n",
      "Iteration: 88 / 100\n",
      "Iteration: 89 / 100\n",
      "Iteration: 90 / 100\n",
      "Iteration: 91 / 100\n",
      "Iteration: 92 / 100\n",
      "Iteration: 93 / 100\n",
      "Iteration: 94 / 100\n",
      "Iteration: 95 / 100\n",
      "Iteration: 96 / 100\n",
      "Iteration: 97 / 100\n",
      "Iteration: 98 / 100\n",
      "Iteration: 99 / 100\n",
      "\n",
      "\n",
      "BorutaPy finished running.\n",
      "\n",
      "Iteration: \t100 / 100\n",
      "Confirmed: \t236\n",
      "Tentative: \t69\n",
      "Rejected: \t2833\n"
     ]
    },
    {
     "data": {
      "text/plain": [
       "BorutaPy(estimator=RandomForestRegressor(n_estimators=268,\n",
       "                                         random_state=RandomState(MT19937) at 0x2900A3BE640),\n",
       "         n_estimators='auto',\n",
       "         random_state=RandomState(MT19937) at 0x2900A3BE640, verbose=1)"
      ]
     },
     "execution_count": 6,
     "metadata": {},
     "output_type": "execute_result"
    }
   ],
   "source": [
    "rfc = RandomForestRegressor(random_state=1)\n",
    "boruta_selector = BorutaPy(rfc, n_estimators= 'auto', verbose=1, random_state=1)\n",
    "boruta_selector.fit(np.array(X_train), np.array(y_train))  "
   ]
  },
  {
   "cell_type": "code",
   "execution_count": 7,
   "id": "51f874e0",
   "metadata": {
    "ExecuteTime": {
     "end_time": "2023-05-23T00:19:46.350440Z",
     "start_time": "2023-05-23T00:19:46.324783Z"
    }
   },
   "outputs": [
    {
     "name": "stdout",
     "output_type": "stream",
     "text": [
      "No. of significant features:  236\n"
     ]
    }
   ],
   "source": [
    "# print(\"Ranking: \",boruta_selector.ranking_)          \n",
    "print(\"No. of significant features: \", boruta_selector.n_features_)"
   ]
  },
  {
   "cell_type": "code",
   "execution_count": 8,
   "id": "61cadc89",
   "metadata": {
    "ExecuteTime": {
     "end_time": "2023-05-23T00:19:46.428553Z",
     "start_time": "2023-05-23T00:19:46.350440Z"
    }
   },
   "outputs": [],
   "source": [
    "selected_rf_features = pd.DataFrame({'CpG':list(X_train.columns),\n",
    "                                       'Ranking':boruta_selector.ranking_})\n",
    "selected_rf_features = selected_rf_features.sort_values(by='Ranking')"
   ]
  },
  {
   "cell_type": "code",
   "execution_count": 9,
   "id": "9605e163",
   "metadata": {
    "ExecuteTime": {
     "end_time": "2023-05-23T00:19:46.551055Z",
     "start_time": "2023-05-23T00:19:46.428553Z"
    }
   },
   "outputs": [],
   "source": [
    "selected_rf_features.to_csv ('CpG_BorutaPy_onAll.csv', index = False)"
   ]
  },
  {
   "cell_type": "code",
   "execution_count": null,
   "id": "71786413",
   "metadata": {},
   "outputs": [],
   "source": []
  }
 ],
 "metadata": {
  "kernelspec": {
   "display_name": "Python 3 (ipykernel)",
   "language": "python",
   "name": "python3"
  },
  "language_info": {
   "codemirror_mode": {
    "name": "ipython",
    "version": 3
   },
   "file_extension": ".py",
   "mimetype": "text/x-python",
   "name": "python",
   "nbconvert_exporter": "python",
   "pygments_lexer": "ipython3",
   "version": "3.9.16"
  },
  "toc": {
   "base_numbering": 1,
   "nav_menu": {},
   "number_sections": true,
   "sideBar": true,
   "skip_h1_title": false,
   "title_cell": "Table of Contents",
   "title_sidebar": "Contents",
   "toc_cell": false,
   "toc_position": {},
   "toc_section_display": true,
   "toc_window_display": false
  },
  "varInspector": {
   "cols": {
    "lenName": 16,
    "lenType": 16,
    "lenVar": 40
   },
   "kernels_config": {
    "python": {
     "delete_cmd_postfix": "",
     "delete_cmd_prefix": "del ",
     "library": "var_list.py",
     "varRefreshCmd": "print(var_dic_list())"
    },
    "r": {
     "delete_cmd_postfix": ") ",
     "delete_cmd_prefix": "rm(",
     "library": "var_list.r",
     "varRefreshCmd": "cat(var_dic_list()) "
    }
   },
   "types_to_exclude": [
    "module",
    "function",
    "builtin_function_or_method",
    "instance",
    "_Feature"
   ],
   "window_display": false
  }
 },
 "nbformat": 4,
 "nbformat_minor": 5
}
