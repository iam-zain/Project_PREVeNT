{
 "cells": [
  {
   "cell_type": "code",
   "execution_count": 1,
   "id": "51c5704f",
   "metadata": {
    "ExecuteTime": {
     "end_time": "2023-02-20T12:24:06.970066Z",
     "start_time": "2023-02-20T12:24:05.242884Z"
    }
   },
   "outputs": [],
   "source": [
    "import numpy as np\n",
    "import pandas as pd\n",
    "from boruta import BorutaPy\n",
    "from sklearn.datasets import load_diabetes\n",
    "from sklearn.metrics import accuracy_score \n",
    "from sklearn.ensemble import RandomForestRegressor\n",
    "from sklearn.ensemble import RandomForestClassifier\n",
    "from sklearn.model_selection import train_test_split"
   ]
  },
  {
   "cell_type": "markdown",
   "id": "4f42b7b4",
   "metadata": {},
   "source": [
    "# Cognition"
   ]
  },
  {
   "cell_type": "code",
   "execution_count": 2,
   "id": "3a2c4b8e",
   "metadata": {
    "ExecuteTime": {
     "end_time": "2023-02-20T12:25:12.591613Z",
     "start_time": "2023-02-20T12:24:06.972087Z"
    }
   },
   "outputs": [
    {
     "name": "stdout",
     "output_type": "stream",
     "text": [
      "Z:\\PPMI_Data\\Excels\\NonMotors\\Derived250\\Female\\GeneCpG\\Cognition\n"
     ]
    },
    {
     "data": {
      "text/html": [
       "<div>\n",
       "<style scoped>\n",
       "    .dataframe tbody tr th:only-of-type {\n",
       "        vertical-align: middle;\n",
       "    }\n",
       "\n",
       "    .dataframe tbody tr th {\n",
       "        vertical-align: top;\n",
       "    }\n",
       "\n",
       "    .dataframe thead th {\n",
       "        text-align: right;\n",
       "    }\n",
       "</style>\n",
       "<table border=\"1\" class=\"dataframe\">\n",
       "  <thead>\n",
       "    <tr style=\"text-align: right;\">\n",
       "      <th></th>\n",
       "      <th>Unnamed: 0</th>\n",
       "      <th>Sentrix</th>\n",
       "      <th>PATNO</th>\n",
       "      <th>HYS</th>\n",
       "      <th>Gender</th>\n",
       "      <th>APPRDX</th>\n",
       "      <th>Montreal_Cognitive</th>\n",
       "      <th>cg08012045</th>\n",
       "      <th>cg08300930</th>\n",
       "      <th>cg00134295</th>\n",
       "      <th>...</th>\n",
       "      <th>cg10054014</th>\n",
       "      <th>cg15364874</th>\n",
       "      <th>cg06622006</th>\n",
       "      <th>cg22071811</th>\n",
       "      <th>cg24960706</th>\n",
       "      <th>cg06917935</th>\n",
       "      <th>cg02794319</th>\n",
       "      <th>cg10702286</th>\n",
       "      <th>cg10353174</th>\n",
       "      <th>cg19590050</th>\n",
       "    </tr>\n",
       "  </thead>\n",
       "  <tbody>\n",
       "    <tr>\n",
       "      <th>0</th>\n",
       "      <td>214</td>\n",
       "      <td>200991620021_R03C01</td>\n",
       "      <td>3002</td>\n",
       "      <td>2</td>\n",
       "      <td>2</td>\n",
       "      <td>1</td>\n",
       "      <td>0</td>\n",
       "      <td>0.952757</td>\n",
       "      <td>0.970714</td>\n",
       "      <td>0.227504</td>\n",
       "      <td>...</td>\n",
       "      <td>0.918107</td>\n",
       "      <td>0.923478</td>\n",
       "      <td>0.902558</td>\n",
       "      <td>0.775472</td>\n",
       "      <td>0.832588</td>\n",
       "      <td>0.259813</td>\n",
       "      <td>0.306235</td>\n",
       "      <td>0.836966</td>\n",
       "      <td>0.063255</td>\n",
       "      <td>0.888196</td>\n",
       "    </tr>\n",
       "  </tbody>\n",
       "</table>\n",
       "<p>1 rows × 123024 columns</p>\n",
       "</div>"
      ],
      "text/plain": [
       "   Unnamed: 0              Sentrix  PATNO  HYS  Gender  APPRDX  \\\n",
       "0         214  200991620021_R03C01   3002    2       2       1   \n",
       "\n",
       "   Montreal_Cognitive  cg08012045  cg08300930  cg00134295  ...  cg10054014  \\\n",
       "0                   0    0.952757    0.970714    0.227504  ...    0.918107   \n",
       "\n",
       "   cg15364874  cg06622006  cg22071811  cg24960706  cg06917935  cg02794319  \\\n",
       "0    0.923478    0.902558    0.775472    0.832588    0.259813    0.306235   \n",
       "\n",
       "   cg10702286  cg10353174  cg19590050  \n",
       "0    0.836966    0.063255    0.888196  \n",
       "\n",
       "[1 rows x 123024 columns]"
      ]
     },
     "execution_count": 2,
     "metadata": {},
     "output_type": "execute_result"
    }
   ],
   "source": [
    "%cd Z:\\PPMI_Data\\Excels\\NonMotors\\Derived250\\Female\\GeneCpG\\Cognition\n",
    "data = pd.read_csv('CognitionCateg_Methylome_Female.csv')\n",
    "data.head(1)"
   ]
  },
  {
   "cell_type": "code",
   "execution_count": 3,
   "id": "682317f5",
   "metadata": {
    "ExecuteTime": {
     "end_time": "2023-02-20T12:25:12.792732Z",
     "start_time": "2023-02-20T12:25:12.593639Z"
    }
   },
   "outputs": [],
   "source": [
    "X = data.drop(['Unnamed: 0','Sentrix','PATNO','HYS','Gender','Montreal_Cognitive','APPRDX'], axis = 1)\n",
    "y = data['APPRDX']\n",
    "X_train, X_test, y_train, y_test = train_test_split(X, y, test_size = .2, random_state = 1) "
   ]
  },
  {
   "cell_type": "code",
   "execution_count": 4,
   "id": "1a4fdf61",
   "metadata": {
    "ExecuteTime": {
     "end_time": "2023-02-20T12:25:14.560984Z",
     "start_time": "2023-02-20T12:25:12.794752Z"
    }
   },
   "outputs": [
    {
     "data": {
      "text/plain": [
       "RandomForestClassifier(random_state=1)"
      ]
     },
     "execution_count": 4,
     "metadata": {},
     "output_type": "execute_result"
    }
   ],
   "source": [
    "rf_all_features = RandomForestClassifier(random_state=1)\n",
    "rf_all_features.fit(X_train, y_train)"
   ]
  },
  {
   "cell_type": "code",
   "execution_count": 5,
   "id": "1aa3cdce",
   "metadata": {
    "ExecuteTime": {
     "end_time": "2023-02-20T12:25:15.304343Z",
     "start_time": "2023-02-20T12:25:14.563010Z"
    }
   },
   "outputs": [
    {
     "data": {
      "text/plain": [
       "0.7666666666666667"
      ]
     },
     "execution_count": 5,
     "metadata": {},
     "output_type": "execute_result"
    }
   ],
   "source": [
    "accuracy_score(y_test, rf_all_features.predict(X_test))"
   ]
  },
  {
   "cell_type": "code",
   "execution_count": 6,
   "id": "d99b7046",
   "metadata": {
    "ExecuteTime": {
     "end_time": "2023-02-20T12:35:58.141619Z",
     "start_time": "2023-02-20T12:25:15.306370Z"
    },
    "scrolled": true
   },
   "outputs": [
    {
     "name": "stdout",
     "output_type": "stream",
     "text": [
      "Iteration: 1 / 100\n",
      "Iteration: 2 / 100\n",
      "Iteration: 3 / 100\n",
      "Iteration: 4 / 100\n",
      "Iteration: 5 / 100\n",
      "Iteration: 6 / 100\n",
      "Iteration: 7 / 100\n",
      "Iteration: 8 / 100\n",
      "Iteration: 9 / 100\n",
      "Iteration: 10 / 100\n",
      "Iteration: 11 / 100\n",
      "Iteration: 12 / 100\n",
      "Iteration: 13 / 100\n",
      "Iteration: 14 / 100\n",
      "Iteration: 15 / 100\n",
      "Iteration: 16 / 100\n",
      "Iteration: 17 / 100\n",
      "Iteration: 18 / 100\n",
      "Iteration: 19 / 100\n",
      "Iteration: 20 / 100\n",
      "Iteration: 21 / 100\n",
      "Iteration: 22 / 100\n",
      "Iteration: 23 / 100\n",
      "Iteration: 24 / 100\n",
      "Iteration: 25 / 100\n",
      "Iteration: 26 / 100\n",
      "Iteration: 27 / 100\n",
      "Iteration: 28 / 100\n",
      "Iteration: 29 / 100\n",
      "Iteration: 30 / 100\n",
      "Iteration: 31 / 100\n",
      "Iteration: 32 / 100\n",
      "\n",
      "\n",
      "BorutaPy finished running.\n",
      "\n",
      "Iteration: \t33 / 100\n",
      "Confirmed: \t3\n",
      "Tentative: \t0\n",
      "Rejected: \t123014\n"
     ]
    },
    {
     "data": {
      "text/plain": [
       "BorutaPy(estimator=RandomForestClassifier(n_estimators=24,\n",
       "                                          random_state=RandomState(MT19937) at 0x1BB2CBAAD40),\n",
       "         n_estimators='auto',\n",
       "         random_state=RandomState(MT19937) at 0x1BB2CBAAD40, verbose=1)"
      ]
     },
     "execution_count": 6,
     "metadata": {},
     "output_type": "execute_result"
    }
   ],
   "source": [
    "rfc = RandomForestClassifier(random_state=1)\n",
    "boruta_selector = BorutaPy(rfc, n_estimators= 'auto', verbose=1, random_state=1)\n",
    "boruta_selector.fit(np.array(X_train), np.array(y_train))  "
   ]
  },
  {
   "cell_type": "code",
   "execution_count": 7,
   "id": "b204a13f",
   "metadata": {
    "ExecuteTime": {
     "end_time": "2023-02-20T12:35:58.161750Z",
     "start_time": "2023-02-20T12:35:58.143655Z"
    }
   },
   "outputs": [
    {
     "name": "stdout",
     "output_type": "stream",
     "text": [
      "No. of significant features:  3\n"
     ]
    }
   ],
   "source": [
    "# print(\"Ranking: \",boruta_selector.ranking_)          \n",
    "print(\"No. of significant features: \", boruta_selector.n_features_)"
   ]
  },
  {
   "cell_type": "code",
   "execution_count": 8,
   "id": "657da2e2",
   "metadata": {
    "ExecuteTime": {
     "end_time": "2023-02-20T12:35:58.352816Z",
     "start_time": "2023-02-20T12:35:58.163779Z"
    }
   },
   "outputs": [],
   "source": [
    "selected_rf_features = pd.DataFrame({'CpG':list(X_train.columns),\n",
    "                                       'Ranking':boruta_selector.ranking_})\n",
    "selected_rf_features = selected_rf_features.sort_values(by='Ranking')"
   ]
  },
  {
   "cell_type": "code",
   "execution_count": 9,
   "id": "883e5605",
   "metadata": {
    "ExecuteTime": {
     "end_time": "2023-02-20T12:35:58.403087Z",
     "start_time": "2023-02-20T12:35:58.354837Z"
    }
   },
   "outputs": [
    {
     "data": {
      "text/html": [
       "<div>\n",
       "<style scoped>\n",
       "    .dataframe tbody tr th:only-of-type {\n",
       "        vertical-align: middle;\n",
       "    }\n",
       "\n",
       "    .dataframe tbody tr th {\n",
       "        vertical-align: top;\n",
       "    }\n",
       "\n",
       "    .dataframe thead th {\n",
       "        text-align: right;\n",
       "    }\n",
       "</style>\n",
       "<table border=\"1\" class=\"dataframe\">\n",
       "  <thead>\n",
       "    <tr style=\"text-align: right;\">\n",
       "      <th></th>\n",
       "      <th>CpG</th>\n",
       "      <th>Ranking</th>\n",
       "    </tr>\n",
       "  </thead>\n",
       "  <tbody>\n",
       "    <tr>\n",
       "      <th>30220</th>\n",
       "      <td>cg02992048</td>\n",
       "      <td>1</td>\n",
       "    </tr>\n",
       "    <tr>\n",
       "      <th>40451</th>\n",
       "      <td>cg20230179</td>\n",
       "      <td>1</td>\n",
       "    </tr>\n",
       "    <tr>\n",
       "      <th>49358</th>\n",
       "      <td>cg24573261</td>\n",
       "      <td>1</td>\n",
       "    </tr>\n",
       "  </tbody>\n",
       "</table>\n",
       "</div>"
      ],
      "text/plain": [
       "              CpG  Ranking\n",
       "30220  cg02992048        1\n",
       "40451  cg20230179        1\n",
       "49358  cg24573261        1"
      ]
     },
     "execution_count": 9,
     "metadata": {},
     "output_type": "execute_result"
    }
   ],
   "source": [
    "Top50 = selected_rf_features.iloc[:51, :]\n",
    "Top50.head(3)"
   ]
  },
  {
   "cell_type": "code",
   "execution_count": 10,
   "id": "84d17647",
   "metadata": {
    "ExecuteTime": {
     "end_time": "2023-02-20T12:35:58.764973Z",
     "start_time": "2023-02-20T12:35:58.405115Z"
    }
   },
   "outputs": [],
   "source": [
    "Top50.to_csv ('Cognition_BorutaFemale_Top50.csv', index = False)\n",
    "selected_rf_features.to_csv ('Cognition_BorutaFemale_All.csv', index = False)"
   ]
  },
  {
   "cell_type": "code",
   "execution_count": 11,
   "id": "79afd632",
   "metadata": {
    "ExecuteTime": {
     "end_time": "2023-02-20T12:35:58.845446Z",
     "start_time": "2023-02-20T12:35:58.766990Z"
    }
   },
   "outputs": [
    {
     "name": "stderr",
     "output_type": "stream",
     "text": [
      "C:\\Users\\system 4\\AppData\\Local\\Temp\\ipykernel_2992\\2974393707.py:6: SettingWithCopyWarning: \n",
      "A value is trying to be set on a copy of a slice from a DataFrame.\n",
      "Try using .loc[row_indexer,col_indexer] = value instead\n",
      "\n",
      "See the caveats in the documentation: https://pandas.pydata.org/pandas-docs/stable/user_guide/indexing.html#returning-a-view-versus-a-copy\n",
      "  df_subset['APPRDX'] = data['APPRDX']\n"
     ]
    },
    {
     "data": {
      "text/html": [
       "<div>\n",
       "<style scoped>\n",
       "    .dataframe tbody tr th:only-of-type {\n",
       "        vertical-align: middle;\n",
       "    }\n",
       "\n",
       "    .dataframe tbody tr th {\n",
       "        vertical-align: top;\n",
       "    }\n",
       "\n",
       "    .dataframe thead th {\n",
       "        text-align: right;\n",
       "    }\n",
       "</style>\n",
       "<table border=\"1\" class=\"dataframe\">\n",
       "  <thead>\n",
       "    <tr style=\"text-align: right;\">\n",
       "      <th></th>\n",
       "      <th>cg11668199</th>\n",
       "      <th>cg04983473</th>\n",
       "      <th>cg25943702</th>\n",
       "      <th>cg12845419</th>\n",
       "      <th>cg01620849</th>\n",
       "      <th>cg22210403</th>\n",
       "      <th>cg21241862</th>\n",
       "      <th>cg19030090</th>\n",
       "      <th>cg02232418</th>\n",
       "      <th>cg18757169</th>\n",
       "      <th>...</th>\n",
       "      <th>cg18319799</th>\n",
       "      <th>cg04954056</th>\n",
       "      <th>cg01158140</th>\n",
       "      <th>cg09902448</th>\n",
       "      <th>cg00319242</th>\n",
       "      <th>cg05125128</th>\n",
       "      <th>cg26819590</th>\n",
       "      <th>cg14587401</th>\n",
       "      <th>cg06191029</th>\n",
       "      <th>APPRDX</th>\n",
       "    </tr>\n",
       "  </thead>\n",
       "  <tbody>\n",
       "    <tr>\n",
       "      <th>0</th>\n",
       "      <td>0.045694</td>\n",
       "      <td>0.924158</td>\n",
       "      <td>0.908038</td>\n",
       "      <td>0.518718</td>\n",
       "      <td>0.033501</td>\n",
       "      <td>0.07147</td>\n",
       "      <td>0.904030</td>\n",
       "      <td>0.917645</td>\n",
       "      <td>0.830685</td>\n",
       "      <td>0.506640</td>\n",
       "      <td>...</td>\n",
       "      <td>0.020568</td>\n",
       "      <td>0.924756</td>\n",
       "      <td>0.830883</td>\n",
       "      <td>0.952915</td>\n",
       "      <td>0.936700</td>\n",
       "      <td>0.894132</td>\n",
       "      <td>0.930234</td>\n",
       "      <td>0.036688</td>\n",
       "      <td>0.622872</td>\n",
       "      <td>1</td>\n",
       "    </tr>\n",
       "    <tr>\n",
       "      <th>1</th>\n",
       "      <td>0.050506</td>\n",
       "      <td>0.929821</td>\n",
       "      <td>0.928079</td>\n",
       "      <td>0.548928</td>\n",
       "      <td>0.032749</td>\n",
       "      <td>0.06974</td>\n",
       "      <td>0.914086</td>\n",
       "      <td>0.889673</td>\n",
       "      <td>0.768925</td>\n",
       "      <td>0.535331</td>\n",
       "      <td>...</td>\n",
       "      <td>0.019818</td>\n",
       "      <td>0.906033</td>\n",
       "      <td>0.887657</td>\n",
       "      <td>0.959074</td>\n",
       "      <td>0.935086</td>\n",
       "      <td>0.887206</td>\n",
       "      <td>0.923072</td>\n",
       "      <td>0.047844</td>\n",
       "      <td>0.895365</td>\n",
       "      <td>1</td>\n",
       "    </tr>\n",
       "  </tbody>\n",
       "</table>\n",
       "<p>2 rows × 52 columns</p>\n",
       "</div>"
      ],
      "text/plain": [
       "   cg11668199  cg04983473  cg25943702  cg12845419  cg01620849  cg22210403  \\\n",
       "0    0.045694    0.924158    0.908038    0.518718    0.033501     0.07147   \n",
       "1    0.050506    0.929821    0.928079    0.548928    0.032749     0.06974   \n",
       "\n",
       "   cg21241862  cg19030090  cg02232418  cg18757169  ...  cg18319799  \\\n",
       "0    0.904030    0.917645    0.830685    0.506640  ...    0.020568   \n",
       "1    0.914086    0.889673    0.768925    0.535331  ...    0.019818   \n",
       "\n",
       "   cg04954056  cg01158140  cg09902448  cg00319242  cg05125128  cg26819590  \\\n",
       "0    0.924756    0.830883    0.952915    0.936700    0.894132    0.930234   \n",
       "1    0.906033    0.887657    0.959074    0.935086    0.887206    0.923072   \n",
       "\n",
       "   cg14587401  cg06191029  APPRDX  \n",
       "0    0.036688    0.622872       1  \n",
       "1    0.047844    0.895365       1  \n",
       "\n",
       "[2 rows x 52 columns]"
      ]
     },
     "execution_count": 11,
     "metadata": {},
     "output_type": "execute_result"
    }
   ],
   "source": [
    "# create a list of column names to subset from data\n",
    "col_names = Top50.iloc[:, 0].tolist()\n",
    "\n",
    "# subset df based on the column names\n",
    "df_subset = data.loc[:, data.columns.isin(col_names)]\n",
    "df_subset['APPRDX'] = data['APPRDX']\n",
    "df_subset.to_csv ('Cognition_Boruta_Top50_Data_Female.csv', index = False)\n",
    "df_subset.head(2)"
   ]
  },
  {
   "cell_type": "markdown",
   "id": "8828c865",
   "metadata": {},
   "source": [
    "# Constipation"
   ]
  },
  {
   "cell_type": "code",
   "execution_count": 29,
   "id": "36a7b994",
   "metadata": {
    "ExecuteTime": {
     "end_time": "2023-02-20T12:41:19.668922Z",
     "start_time": "2023-02-20T12:41:16.613837Z"
    }
   },
   "outputs": [
    {
     "name": "stdout",
     "output_type": "stream",
     "text": [
      "Z:\\PPMI_Data\\Excels\\NonMotors\\Derived250\\Female\\GeneCpG\\Constipation\n"
     ]
    },
    {
     "data": {
      "text/html": [
       "<div>\n",
       "<style scoped>\n",
       "    .dataframe tbody tr th:only-of-type {\n",
       "        vertical-align: middle;\n",
       "    }\n",
       "\n",
       "    .dataframe tbody tr th {\n",
       "        vertical-align: top;\n",
       "    }\n",
       "\n",
       "    .dataframe thead th {\n",
       "        text-align: right;\n",
       "    }\n",
       "</style>\n",
       "<table border=\"1\" class=\"dataframe\">\n",
       "  <thead>\n",
       "    <tr style=\"text-align: right;\">\n",
       "      <th></th>\n",
       "      <th>Unnamed: 0</th>\n",
       "      <th>Sentrix</th>\n",
       "      <th>PATNO</th>\n",
       "      <th>HYS</th>\n",
       "      <th>Gender</th>\n",
       "      <th>APPRDX</th>\n",
       "      <th>MDSP_Constipate</th>\n",
       "      <th>cg13609937</th>\n",
       "      <th>cg13847987</th>\n",
       "      <th>cg13822231</th>\n",
       "      <th>...</th>\n",
       "      <th>cg06819251</th>\n",
       "      <th>cg22158158</th>\n",
       "      <th>cg20161227</th>\n",
       "      <th>cg05701765</th>\n",
       "      <th>cg25437180</th>\n",
       "      <th>cg06002203</th>\n",
       "      <th>cg21722170</th>\n",
       "      <th>cg13142750</th>\n",
       "      <th>cg12743359</th>\n",
       "      <th>cg04293703</th>\n",
       "    </tr>\n",
       "  </thead>\n",
       "  <tbody>\n",
       "    <tr>\n",
       "      <th>0</th>\n",
       "      <td>214</td>\n",
       "      <td>200991620021_R03C01</td>\n",
       "      <td>3002</td>\n",
       "      <td>2</td>\n",
       "      <td>2</td>\n",
       "      <td>1</td>\n",
       "      <td>1</td>\n",
       "      <td>0.022266</td>\n",
       "      <td>0.939755</td>\n",
       "      <td>0.011179</td>\n",
       "      <td>...</td>\n",
       "      <td>0.913934</td>\n",
       "      <td>0.883586</td>\n",
       "      <td>0.946774</td>\n",
       "      <td>0.8147</td>\n",
       "      <td>0.642126</td>\n",
       "      <td>0.912947</td>\n",
       "      <td>0.870158</td>\n",
       "      <td>0.698537</td>\n",
       "      <td>0.871932</td>\n",
       "      <td>0.573198</td>\n",
       "    </tr>\n",
       "  </tbody>\n",
       "</table>\n",
       "<p>1 rows × 20758 columns</p>\n",
       "</div>"
      ],
      "text/plain": [
       "   Unnamed: 0              Sentrix  PATNO  HYS  Gender  APPRDX  \\\n",
       "0         214  200991620021_R03C01   3002    2       2       1   \n",
       "\n",
       "   MDSP_Constipate  cg13609937  cg13847987  cg13822231  ...  cg06819251  \\\n",
       "0                1    0.022266    0.939755    0.011179  ...    0.913934   \n",
       "\n",
       "   cg22158158  cg20161227  cg05701765  cg25437180  cg06002203  cg21722170  \\\n",
       "0    0.883586    0.946774      0.8147    0.642126    0.912947    0.870158   \n",
       "\n",
       "   cg13142750  cg12743359  cg04293703  \n",
       "0    0.698537    0.871932    0.573198  \n",
       "\n",
       "[1 rows x 20758 columns]"
      ]
     },
     "execution_count": 29,
     "metadata": {},
     "output_type": "execute_result"
    }
   ],
   "source": [
    "%cd Z:\\PPMI_Data\\Excels\\NonMotors\\Derived250\\Female\\GeneCpG\\Constipation\n",
    "data = pd.read_csv('ConstipationCateg_Methylome_Female.csv')\n",
    "data.head(1)"
   ]
  },
  {
   "cell_type": "code",
   "execution_count": 30,
   "id": "7c2a038e",
   "metadata": {
    "ExecuteTime": {
     "end_time": "2023-02-20T12:41:24.619008Z",
     "start_time": "2023-02-20T12:41:24.500285Z"
    },
    "scrolled": true
   },
   "outputs": [
    {
     "name": "stdout",
     "output_type": "stream",
     "text": [
      "   cg13609937  cg13847987  cg13822231  cg20728472  cg14567798  cg14205952  \\\n",
      "0    0.022266    0.939755    0.011179    0.018786    0.018662    0.011471   \n",
      "1    0.023747    0.954997    0.009352    0.034445    0.014196    0.009332   \n",
      "\n",
      "   cg13083110  cg24453271  cg18015632  cg21195763  ...  cg06819251  \\\n",
      "0    0.587818    0.783724    0.827664    0.860302  ...    0.913934   \n",
      "1    0.506270    0.809293    0.900723    0.852396  ...    0.923224   \n",
      "\n",
      "   cg22158158  cg20161227  cg05701765  cg25437180  cg06002203  cg21722170  \\\n",
      "0    0.883586    0.946774    0.814700    0.642126    0.912947    0.870158   \n",
      "1    0.867354    0.969337    0.852062    0.694741    0.861585    0.764911   \n",
      "\n",
      "   cg13142750  cg12743359  cg04293703  \n",
      "0    0.698537    0.871932    0.573198  \n",
      "1    0.633921    0.823493    0.545910  \n",
      "\n",
      "[2 rows x 20751 columns]\n"
     ]
    }
   ],
   "source": [
    "X = data.drop(['Unnamed: 0','Sentrix','PATNO','HYS','Gender','MDSP_Constipate','APPRDX'], axis = 1)\n",
    "y = data['APPRDX']\n",
    "X_train, X_test, y_train, y_test = train_test_split(X, y, test_size = .2, random_state = 1) \n",
    "print(X.head(2))"
   ]
  },
  {
   "cell_type": "code",
   "execution_count": 31,
   "id": "f791641c",
   "metadata": {
    "ExecuteTime": {
     "end_time": "2023-02-20T12:41:29.244283Z",
     "start_time": "2023-02-20T12:41:28.602954Z"
    }
   },
   "outputs": [
    {
     "data": {
      "text/plain": [
       "RandomForestClassifier(random_state=1)"
      ]
     },
     "execution_count": 31,
     "metadata": {},
     "output_type": "execute_result"
    }
   ],
   "source": [
    "rf_all_features = RandomForestClassifier(random_state=1)\n",
    "rf_all_features.fit(X_train, y_train)"
   ]
  },
  {
   "cell_type": "code",
   "execution_count": 32,
   "id": "2398f05d",
   "metadata": {
    "ExecuteTime": {
     "end_time": "2023-02-20T12:41:31.254154Z",
     "start_time": "2023-02-20T12:41:31.115157Z"
    }
   },
   "outputs": [
    {
     "data": {
      "text/plain": [
       "0.7666666666666667"
      ]
     },
     "execution_count": 32,
     "metadata": {},
     "output_type": "execute_result"
    }
   ],
   "source": [
    "accuracy_score(y_test, rf_all_features.predict(X_test))"
   ]
  },
  {
   "cell_type": "code",
   "execution_count": 33,
   "id": "3f18d204",
   "metadata": {
    "ExecuteTime": {
     "end_time": "2023-02-20T12:43:26.299066Z",
     "start_time": "2023-02-20T12:41:33.206825Z"
    }
   },
   "outputs": [
    {
     "name": "stdout",
     "output_type": "stream",
     "text": [
      "Iteration: 1 / 100\n",
      "Iteration: 2 / 100\n",
      "Iteration: 3 / 100\n",
      "Iteration: 4 / 100\n",
      "Iteration: 5 / 100\n",
      "Iteration: 6 / 100\n",
      "Iteration: 7 / 100\n",
      "Iteration: 8 / 100\n",
      "Iteration: 9 / 100\n",
      "Iteration: 10 / 100\n",
      "Iteration: 11 / 100\n",
      "Iteration: 12 / 100\n",
      "Iteration: 13 / 100\n",
      "Iteration: 14 / 100\n",
      "Iteration: 15 / 100\n",
      "Iteration: 16 / 100\n",
      "Iteration: 17 / 100\n",
      "Iteration: 18 / 100\n",
      "Iteration: 19 / 100\n",
      "Iteration: 20 / 100\n",
      "Iteration: 21 / 100\n",
      "Iteration: 22 / 100\n",
      "Iteration: 23 / 100\n",
      "Iteration: 24 / 100\n",
      "Iteration: 25 / 100\n",
      "Iteration: 26 / 100\n",
      "Iteration: 27 / 100\n",
      "Iteration: 28 / 100\n",
      "Iteration: 29 / 100\n",
      "Iteration: 30 / 100\n",
      "Iteration: 31 / 100\n",
      "Iteration: 32 / 100\n",
      "Iteration: 33 / 100\n",
      "Iteration: 34 / 100\n",
      "Iteration: 35 / 100\n",
      "Iteration: 36 / 100\n",
      "Iteration: 37 / 100\n",
      "\n",
      "\n",
      "BorutaPy finished running.\n",
      "\n",
      "Iteration: \t38 / 100\n",
      "Confirmed: \t4\n",
      "Tentative: \t0\n",
      "Rejected: \t20747\n"
     ]
    },
    {
     "data": {
      "text/plain": [
       "BorutaPy(estimator=RandomForestClassifier(n_estimators=28,\n",
       "                                          random_state=RandomState(MT19937) at 0x1BB0EE4DC40),\n",
       "         n_estimators='auto',\n",
       "         random_state=RandomState(MT19937) at 0x1BB0EE4DC40, verbose=1)"
      ]
     },
     "execution_count": 33,
     "metadata": {},
     "output_type": "execute_result"
    }
   ],
   "source": [
    "rfc = RandomForestClassifier(random_state=1)\n",
    "boruta_selector = BorutaPy(rfc, n_estimators= 'auto', verbose=1, random_state=1)\n",
    "boruta_selector.fit(np.array(X_train), np.array(y_train))  "
   ]
  },
  {
   "cell_type": "code",
   "execution_count": 34,
   "id": "8550297a",
   "metadata": {
    "ExecuteTime": {
     "end_time": "2023-02-20T12:43:28.127689Z",
     "start_time": "2023-02-20T12:43:28.109599Z"
    }
   },
   "outputs": [
    {
     "name": "stdout",
     "output_type": "stream",
     "text": [
      "No. of significant features:  4\n"
     ]
    }
   ],
   "source": [
    "# print(\"Ranking: \",boruta_selector.ranking_)          \n",
    "print(\"No. of significant features: \", boruta_selector.n_features_)"
   ]
  },
  {
   "cell_type": "code",
   "execution_count": 35,
   "id": "72010728",
   "metadata": {
    "ExecuteTime": {
     "end_time": "2023-02-20T12:43:29.856021Z",
     "start_time": "2023-02-20T12:43:29.837925Z"
    }
   },
   "outputs": [],
   "source": [
    "selected_rf_features = pd.DataFrame({'CpG':list(X_train.columns),\n",
    "                                       'Ranking':boruta_selector.ranking_})\n",
    "selected_rf_features = selected_rf_features.sort_values(by='Ranking')"
   ]
  },
  {
   "cell_type": "code",
   "execution_count": 36,
   "id": "1cf140da",
   "metadata": {
    "ExecuteTime": {
     "end_time": "2023-02-20T12:43:31.583916Z",
     "start_time": "2023-02-20T12:43:31.565834Z"
    }
   },
   "outputs": [
    {
     "data": {
      "text/html": [
       "<div>\n",
       "<style scoped>\n",
       "    .dataframe tbody tr th:only-of-type {\n",
       "        vertical-align: middle;\n",
       "    }\n",
       "\n",
       "    .dataframe tbody tr th {\n",
       "        vertical-align: top;\n",
       "    }\n",
       "\n",
       "    .dataframe thead th {\n",
       "        text-align: right;\n",
       "    }\n",
       "</style>\n",
       "<table border=\"1\" class=\"dataframe\">\n",
       "  <thead>\n",
       "    <tr style=\"text-align: right;\">\n",
       "      <th></th>\n",
       "      <th>CpG</th>\n",
       "      <th>Ranking</th>\n",
       "    </tr>\n",
       "  </thead>\n",
       "  <tbody>\n",
       "    <tr>\n",
       "      <th>11100</th>\n",
       "      <td>cg12103037</td>\n",
       "      <td>1</td>\n",
       "    </tr>\n",
       "    <tr>\n",
       "      <th>12655</th>\n",
       "      <td>cg15995909</td>\n",
       "      <td>1</td>\n",
       "    </tr>\n",
       "    <tr>\n",
       "      <th>8075</th>\n",
       "      <td>cg07198258</td>\n",
       "      <td>1</td>\n",
       "    </tr>\n",
       "  </tbody>\n",
       "</table>\n",
       "</div>"
      ],
      "text/plain": [
       "              CpG  Ranking\n",
       "11100  cg12103037        1\n",
       "12655  cg15995909        1\n",
       "8075   cg07198258        1"
      ]
     },
     "execution_count": 36,
     "metadata": {},
     "output_type": "execute_result"
    }
   ],
   "source": [
    "Top50 = selected_rf_features.iloc[:51, :]\n",
    "Top50.head(3)"
   ]
  },
  {
   "cell_type": "code",
   "execution_count": 37,
   "id": "1ceaa46f",
   "metadata": {
    "ExecuteTime": {
     "end_time": "2023-02-20T12:43:33.393125Z",
     "start_time": "2023-02-20T12:43:33.354958Z"
    }
   },
   "outputs": [],
   "source": [
    "Top50.to_csv ('Constipation_BorutaFemale_Top50.csv', index = False)\n",
    "selected_rf_features.to_csv ('Constipation_BorutaFemale_All.csv', index = False)"
   ]
  },
  {
   "cell_type": "code",
   "execution_count": 38,
   "id": "8276b29f",
   "metadata": {
    "ExecuteTime": {
     "end_time": "2023-02-20T12:43:35.221354Z",
     "start_time": "2023-02-20T12:43:35.183154Z"
    }
   },
   "outputs": [
    {
     "name": "stderr",
     "output_type": "stream",
     "text": [
      "C:\\Users\\system 4\\AppData\\Local\\Temp\\ipykernel_2992\\3324591374.py:6: SettingWithCopyWarning: \n",
      "A value is trying to be set on a copy of a slice from a DataFrame.\n",
      "Try using .loc[row_indexer,col_indexer] = value instead\n",
      "\n",
      "See the caveats in the documentation: https://pandas.pydata.org/pandas-docs/stable/user_guide/indexing.html#returning-a-view-versus-a-copy\n",
      "  df_subset['APPRDX'] = data['APPRDX']\n"
     ]
    },
    {
     "data": {
      "text/html": [
       "<div>\n",
       "<style scoped>\n",
       "    .dataframe tbody tr th:only-of-type {\n",
       "        vertical-align: middle;\n",
       "    }\n",
       "\n",
       "    .dataframe tbody tr th {\n",
       "        vertical-align: top;\n",
       "    }\n",
       "\n",
       "    .dataframe thead th {\n",
       "        text-align: right;\n",
       "    }\n",
       "</style>\n",
       "<table border=\"1\" class=\"dataframe\">\n",
       "  <thead>\n",
       "    <tr style=\"text-align: right;\">\n",
       "      <th></th>\n",
       "      <th>cg14270890</th>\n",
       "      <th>cg22237213</th>\n",
       "      <th>cg07053599</th>\n",
       "      <th>cg06630567</th>\n",
       "      <th>cg26856497</th>\n",
       "      <th>cg23565749</th>\n",
       "      <th>cg12413242</th>\n",
       "      <th>cg24784310</th>\n",
       "      <th>cg04359365</th>\n",
       "      <th>cg00265238</th>\n",
       "      <th>...</th>\n",
       "      <th>cg15454710</th>\n",
       "      <th>cg13365781</th>\n",
       "      <th>cg19878200</th>\n",
       "      <th>cg23814714</th>\n",
       "      <th>cg06173919</th>\n",
       "      <th>cg16694455</th>\n",
       "      <th>cg19458274</th>\n",
       "      <th>cg20641425</th>\n",
       "      <th>cg11712482</th>\n",
       "      <th>APPRDX</th>\n",
       "    </tr>\n",
       "  </thead>\n",
       "  <tbody>\n",
       "    <tr>\n",
       "      <th>0</th>\n",
       "      <td>0.905918</td>\n",
       "      <td>0.911791</td>\n",
       "      <td>0.024867</td>\n",
       "      <td>0.930482</td>\n",
       "      <td>0.906581</td>\n",
       "      <td>0.033449</td>\n",
       "      <td>0.686040</td>\n",
       "      <td>0.140557</td>\n",
       "      <td>0.085721</td>\n",
       "      <td>0.036745</td>\n",
       "      <td>...</td>\n",
       "      <td>0.831087</td>\n",
       "      <td>0.014288</td>\n",
       "      <td>0.123791</td>\n",
       "      <td>0.879547</td>\n",
       "      <td>0.938525</td>\n",
       "      <td>0.907496</td>\n",
       "      <td>0.015144</td>\n",
       "      <td>0.611551</td>\n",
       "      <td>0.426216</td>\n",
       "      <td>1</td>\n",
       "    </tr>\n",
       "    <tr>\n",
       "      <th>1</th>\n",
       "      <td>0.903949</td>\n",
       "      <td>0.932302</td>\n",
       "      <td>0.023275</td>\n",
       "      <td>0.926093</td>\n",
       "      <td>0.889148</td>\n",
       "      <td>0.037335</td>\n",
       "      <td>0.703256</td>\n",
       "      <td>0.115134</td>\n",
       "      <td>0.199964</td>\n",
       "      <td>0.037143</td>\n",
       "      <td>...</td>\n",
       "      <td>0.885725</td>\n",
       "      <td>0.014145</td>\n",
       "      <td>0.104146</td>\n",
       "      <td>0.900867</td>\n",
       "      <td>0.958519</td>\n",
       "      <td>0.908508</td>\n",
       "      <td>0.015374</td>\n",
       "      <td>0.744868</td>\n",
       "      <td>0.431001</td>\n",
       "      <td>1</td>\n",
       "    </tr>\n",
       "  </tbody>\n",
       "</table>\n",
       "<p>2 rows × 52 columns</p>\n",
       "</div>"
      ],
      "text/plain": [
       "   cg14270890  cg22237213  cg07053599  cg06630567  cg26856497  cg23565749  \\\n",
       "0    0.905918    0.911791    0.024867    0.930482    0.906581    0.033449   \n",
       "1    0.903949    0.932302    0.023275    0.926093    0.889148    0.037335   \n",
       "\n",
       "   cg12413242  cg24784310  cg04359365  cg00265238  ...  cg15454710  \\\n",
       "0    0.686040    0.140557    0.085721    0.036745  ...    0.831087   \n",
       "1    0.703256    0.115134    0.199964    0.037143  ...    0.885725   \n",
       "\n",
       "   cg13365781  cg19878200  cg23814714  cg06173919  cg16694455  cg19458274  \\\n",
       "0    0.014288    0.123791    0.879547    0.938525    0.907496    0.015144   \n",
       "1    0.014145    0.104146    0.900867    0.958519    0.908508    0.015374   \n",
       "\n",
       "   cg20641425  cg11712482  APPRDX  \n",
       "0    0.611551    0.426216       1  \n",
       "1    0.744868    0.431001       1  \n",
       "\n",
       "[2 rows x 52 columns]"
      ]
     },
     "execution_count": 38,
     "metadata": {},
     "output_type": "execute_result"
    }
   ],
   "source": [
    "# create a list of column names to subset from data\n",
    "col_names = Top50.iloc[:, 0].tolist()\n",
    "\n",
    "# subset df based on the column names\n",
    "df_subset = data.loc[:, data.columns.isin(col_names)]\n",
    "df_subset['APPRDX'] = data['APPRDX']\n",
    "df_subset.to_csv ('Constipation_Boruta_Top50_Data_Female.csv', index = False)\n",
    "df_subset.head(2)"
   ]
  },
  {
   "cell_type": "markdown",
   "id": "80c5a907",
   "metadata": {},
   "source": [
    "# Gastro"
   ]
  },
  {
   "cell_type": "code",
   "execution_count": 39,
   "id": "7bf18228",
   "metadata": {
    "ExecuteTime": {
     "end_time": "2023-02-20T12:43:42.935658Z",
     "start_time": "2023-02-20T12:43:36.931190Z"
    }
   },
   "outputs": [
    {
     "name": "stdout",
     "output_type": "stream",
     "text": [
      "Z:\\PPMI_Data\\Excels\\NonMotors\\Derived250\\Female\\GeneCpG\\Gastro\n"
     ]
    },
    {
     "data": {
      "text/html": [
       "<div>\n",
       "<style scoped>\n",
       "    .dataframe tbody tr th:only-of-type {\n",
       "        vertical-align: middle;\n",
       "    }\n",
       "\n",
       "    .dataframe tbody tr th {\n",
       "        vertical-align: top;\n",
       "    }\n",
       "\n",
       "    .dataframe thead th {\n",
       "        text-align: right;\n",
       "    }\n",
       "</style>\n",
       "<table border=\"1\" class=\"dataframe\">\n",
       "  <thead>\n",
       "    <tr style=\"text-align: right;\">\n",
       "      <th></th>\n",
       "      <th>Sentrix</th>\n",
       "      <th>PATNO</th>\n",
       "      <th>Gender</th>\n",
       "      <th>APPRDX</th>\n",
       "      <th>HYS</th>\n",
       "      <th>Age</th>\n",
       "      <th>AgeCate</th>\n",
       "      <th>SCOPA_Gastro_Category</th>\n",
       "      <th>cg03441945</th>\n",
       "      <th>cg21094410</th>\n",
       "      <th>...</th>\n",
       "      <th>cg05766881</th>\n",
       "      <th>cg01708543</th>\n",
       "      <th>cg10933281</th>\n",
       "      <th>cg04735449</th>\n",
       "      <th>cg15856662</th>\n",
       "      <th>cg11864127</th>\n",
       "      <th>cg14420798</th>\n",
       "      <th>cg08859349</th>\n",
       "      <th>cg01481205</th>\n",
       "      <th>cg19228755</th>\n",
       "    </tr>\n",
       "  </thead>\n",
       "  <tbody>\n",
       "    <tr>\n",
       "      <th>0</th>\n",
       "      <td>200973410159_R03C01</td>\n",
       "      <td>3000</td>\n",
       "      <td>2</td>\n",
       "      <td>2</td>\n",
       "      <td>0</td>\n",
       "      <td>69.1</td>\n",
       "      <td>4</td>\n",
       "      <td>0</td>\n",
       "      <td>0.89241</td>\n",
       "      <td>0.015756</td>\n",
       "      <td>...</td>\n",
       "      <td>0.874283</td>\n",
       "      <td>0.88697</td>\n",
       "      <td>0.903544</td>\n",
       "      <td>0.918856</td>\n",
       "      <td>0.869453</td>\n",
       "      <td>0.889527</td>\n",
       "      <td>0.853304</td>\n",
       "      <td>0.862654</td>\n",
       "      <td>0.929857</td>\n",
       "      <td>0.889773</td>\n",
       "    </tr>\n",
       "  </tbody>\n",
       "</table>\n",
       "<p>1 rows × 36563 columns</p>\n",
       "</div>"
      ],
      "text/plain": [
       "               Sentrix  PATNO  Gender  APPRDX  HYS   Age  AgeCate  \\\n",
       "0  200973410159_R03C01   3000       2       2    0  69.1        4   \n",
       "\n",
       "   SCOPA_Gastro_Category  cg03441945  cg21094410  ...  cg05766881  cg01708543  \\\n",
       "0                      0     0.89241    0.015756  ...    0.874283     0.88697   \n",
       "\n",
       "   cg10933281  cg04735449  cg15856662  cg11864127  cg14420798  cg08859349  \\\n",
       "0    0.903544    0.918856    0.869453    0.889527    0.853304    0.862654   \n",
       "\n",
       "   cg01481205  cg19228755  \n",
       "0    0.929857    0.889773  \n",
       "\n",
       "[1 rows x 36563 columns]"
      ]
     },
     "execution_count": 39,
     "metadata": {},
     "output_type": "execute_result"
    }
   ],
   "source": [
    "%cd Z:\\PPMI_Data\\Excels\\NonMotors\\Derived250\\Female\\GeneCpG\\Gastro\n",
    "data = pd.read_csv('GastroCateg_Methylome_Female.csv')\n",
    "data.head(1)"
   ]
  },
  {
   "cell_type": "code",
   "execution_count": 40,
   "id": "b69ca633",
   "metadata": {
    "ExecuteTime": {
     "end_time": "2023-02-20T12:43:45.969834Z",
     "start_time": "2023-02-20T12:43:45.871315Z"
    }
   },
   "outputs": [
    {
     "name": "stdout",
     "output_type": "stream",
     "text": [
      "   cg03441945  cg21094410  cg22926093  cg25025609  cg16704802  cg06228737  \\\n",
      "0    0.892410    0.015756    0.011101    0.018491    0.020476    0.962482   \n",
      "1    0.922532    0.013309    0.012393    0.018230    0.018660    0.924050   \n",
      "\n",
      "   cg00220102  cg19016494  cg12247200  cg24658413  ...  cg05766881  \\\n",
      "0    0.677222    0.029560    0.929821    0.899519  ...    0.874283   \n",
      "1    0.577240    0.019605    0.937446    0.846377  ...    0.843815   \n",
      "\n",
      "   cg01708543  cg10933281  cg04735449  cg15856662  cg11864127  cg14420798  \\\n",
      "0    0.886970    0.903544    0.918856    0.869453    0.889527    0.853304   \n",
      "1    0.861038    0.870442    0.896617    0.857573    0.832123    0.807071   \n",
      "\n",
      "   cg08859349  cg01481205  cg19228755  \n",
      "0    0.862654    0.929857    0.889773  \n",
      "1    0.846446    0.914551    0.874165  \n",
      "\n",
      "[2 rows x 36555 columns]\n"
     ]
    }
   ],
   "source": [
    "X = data.drop(['Sentrix','PATNO','HYS','Gender','Age','AgeCate','SCOPA_Gastro_Category','APPRDX'], axis = 1)\n",
    "y = data['APPRDX']\n",
    "X_train, X_test, y_train, y_test = train_test_split(X, y, test_size = .2, random_state = 1) \n",
    "print(X.head(2))"
   ]
  },
  {
   "cell_type": "code",
   "execution_count": 41,
   "id": "2d4fb003",
   "metadata": {
    "ExecuteTime": {
     "end_time": "2023-02-20T12:43:52.459888Z",
     "start_time": "2023-02-20T12:43:51.678348Z"
    }
   },
   "outputs": [
    {
     "data": {
      "text/plain": [
       "RandomForestClassifier(random_state=1)"
      ]
     },
     "execution_count": 41,
     "metadata": {},
     "output_type": "execute_result"
    }
   ],
   "source": [
    "rf_all_features = RandomForestClassifier(random_state=1)\n",
    "rf_all_features.fit(X_train, y_train)"
   ]
  },
  {
   "cell_type": "code",
   "execution_count": 42,
   "id": "5c5dd910",
   "metadata": {
    "ExecuteTime": {
     "end_time": "2023-02-20T12:43:55.553645Z",
     "start_time": "2023-02-20T12:43:55.354825Z"
    }
   },
   "outputs": [
    {
     "data": {
      "text/plain": [
       "0.8333333333333334"
      ]
     },
     "execution_count": 42,
     "metadata": {},
     "output_type": "execute_result"
    }
   ],
   "source": [
    "accuracy_score(y_test, rf_all_features.predict(X_test))"
   ]
  },
  {
   "cell_type": "code",
   "execution_count": 43,
   "id": "13ba8814",
   "metadata": {
    "ExecuteTime": {
     "end_time": "2023-02-20T12:47:09.826069Z",
     "start_time": "2023-02-20T12:43:58.388211Z"
    }
   },
   "outputs": [
    {
     "name": "stdout",
     "output_type": "stream",
     "text": [
      "Iteration: 1 / 100\n",
      "Iteration: 2 / 100\n",
      "Iteration: 3 / 100\n",
      "Iteration: 4 / 100\n",
      "Iteration: 5 / 100\n",
      "Iteration: 6 / 100\n",
      "Iteration: 7 / 100\n",
      "Iteration: 8 / 100\n",
      "Iteration: 9 / 100\n",
      "Iteration: 10 / 100\n",
      "Iteration: 11 / 100\n",
      "Iteration: 12 / 100\n",
      "Iteration: 13 / 100\n",
      "Iteration: 14 / 100\n",
      "Iteration: 15 / 100\n",
      "Iteration: 16 / 100\n",
      "Iteration: 17 / 100\n",
      "Iteration: 18 / 100\n",
      "Iteration: 19 / 100\n",
      "Iteration: 20 / 100\n",
      "Iteration: 21 / 100\n",
      "Iteration: 22 / 100\n",
      "Iteration: 23 / 100\n",
      "Iteration: 24 / 100\n",
      "Iteration: 25 / 100\n",
      "Iteration: 26 / 100\n",
      "Iteration: 27 / 100\n",
      "Iteration: 28 / 100\n",
      "Iteration: 29 / 100\n",
      "Iteration: 30 / 100\n",
      "Iteration: 31 / 100\n",
      "Iteration: 32 / 100\n",
      "\n",
      "\n",
      "BorutaPy finished running.\n",
      "\n",
      "Iteration: \t33 / 100\n",
      "Confirmed: \t1\n",
      "Tentative: \t0\n",
      "Rejected: \t36554\n"
     ]
    },
    {
     "data": {
      "text/plain": [
       "BorutaPy(estimator=RandomForestClassifier(n_estimators=14,\n",
       "                                          random_state=RandomState(MT19937) at 0x1BB0EE4D840),\n",
       "         n_estimators='auto',\n",
       "         random_state=RandomState(MT19937) at 0x1BB0EE4D840, verbose=1)"
      ]
     },
     "execution_count": 43,
     "metadata": {},
     "output_type": "execute_result"
    }
   ],
   "source": [
    "rfc = RandomForestClassifier(random_state=1)\n",
    "boruta_selector = BorutaPy(rfc, n_estimators= 'auto', verbose=1, random_state=1)\n",
    "boruta_selector.fit(np.array(X_train), np.array(y_train))  "
   ]
  },
  {
   "cell_type": "code",
   "execution_count": 44,
   "id": "ad536286",
   "metadata": {
    "ExecuteTime": {
     "end_time": "2023-02-20T12:47:12.959848Z",
     "start_time": "2023-02-20T12:47:12.941771Z"
    }
   },
   "outputs": [
    {
     "name": "stdout",
     "output_type": "stream",
     "text": [
      "No. of significant features:  1\n"
     ]
    }
   ],
   "source": [
    "# print(\"Ranking: \",boruta_selector.ranking_)          \n",
    "print(\"No. of significant features: \", boruta_selector.n_features_)"
   ]
  },
  {
   "cell_type": "code",
   "execution_count": 45,
   "id": "ea8e25f2",
   "metadata": {
    "ExecuteTime": {
     "end_time": "2023-02-20T12:47:15.933089Z",
     "start_time": "2023-02-20T12:47:15.915002Z"
    }
   },
   "outputs": [],
   "source": [
    "selected_rf_features = pd.DataFrame({'CpG':list(X_train.columns),\n",
    "                                       'Ranking':boruta_selector.ranking_})\n",
    "selected_rf_features = selected_rf_features.sort_values(by='Ranking')"
   ]
  },
  {
   "cell_type": "code",
   "execution_count": 46,
   "id": "28d5e2d5",
   "metadata": {
    "ExecuteTime": {
     "end_time": "2023-02-20T12:47:18.885856Z",
     "start_time": "2023-02-20T12:47:18.867757Z"
    }
   },
   "outputs": [
    {
     "data": {
      "text/html": [
       "<div>\n",
       "<style scoped>\n",
       "    .dataframe tbody tr th:only-of-type {\n",
       "        vertical-align: middle;\n",
       "    }\n",
       "\n",
       "    .dataframe tbody tr th {\n",
       "        vertical-align: top;\n",
       "    }\n",
       "\n",
       "    .dataframe thead th {\n",
       "        text-align: right;\n",
       "    }\n",
       "</style>\n",
       "<table border=\"1\" class=\"dataframe\">\n",
       "  <thead>\n",
       "    <tr style=\"text-align: right;\">\n",
       "      <th></th>\n",
       "      <th>CpG</th>\n",
       "      <th>Ranking</th>\n",
       "    </tr>\n",
       "  </thead>\n",
       "  <tbody>\n",
       "    <tr>\n",
       "      <th>6774</th>\n",
       "      <td>cg25909697</td>\n",
       "      <td>1</td>\n",
       "    </tr>\n",
       "    <tr>\n",
       "      <th>14281</th>\n",
       "      <td>cg06407053</td>\n",
       "      <td>2</td>\n",
       "    </tr>\n",
       "    <tr>\n",
       "      <th>12002</th>\n",
       "      <td>cg18248290</td>\n",
       "      <td>3</td>\n",
       "    </tr>\n",
       "  </tbody>\n",
       "</table>\n",
       "</div>"
      ],
      "text/plain": [
       "              CpG  Ranking\n",
       "6774   cg25909697        1\n",
       "14281  cg06407053        2\n",
       "12002  cg18248290        3"
      ]
     },
     "execution_count": 46,
     "metadata": {},
     "output_type": "execute_result"
    }
   ],
   "source": [
    "Top50 = selected_rf_features.iloc[:51, :]\n",
    "Top50.head(3)"
   ]
  },
  {
   "cell_type": "code",
   "execution_count": 47,
   "id": "179344d0",
   "metadata": {
    "ExecuteTime": {
     "end_time": "2023-02-20T12:47:21.919185Z",
     "start_time": "2023-02-20T12:47:21.840811Z"
    }
   },
   "outputs": [],
   "source": [
    "Top50.to_csv ('Gastro_BorutaFemale_Top50.csv', index = False)\n",
    "selected_rf_features.to_csv ('Gastro_BorutaFemale_All.csv', index = False)"
   ]
  },
  {
   "cell_type": "code",
   "execution_count": 48,
   "id": "b8240de1",
   "metadata": {
    "ExecuteTime": {
     "end_time": "2023-02-20T12:47:24.892289Z",
     "start_time": "2023-02-20T12:47:24.813870Z"
    }
   },
   "outputs": [
    {
     "name": "stderr",
     "output_type": "stream",
     "text": [
      "C:\\Users\\system 4\\AppData\\Local\\Temp\\ipykernel_2992\\2099485117.py:6: SettingWithCopyWarning: \n",
      "A value is trying to be set on a copy of a slice from a DataFrame.\n",
      "Try using .loc[row_indexer,col_indexer] = value instead\n",
      "\n",
      "See the caveats in the documentation: https://pandas.pydata.org/pandas-docs/stable/user_guide/indexing.html#returning-a-view-versus-a-copy\n",
      "  df_subset['APPRDX'] = data['APPRDX']\n"
     ]
    },
    {
     "data": {
      "text/html": [
       "<div>\n",
       "<style scoped>\n",
       "    .dataframe tbody tr th:only-of-type {\n",
       "        vertical-align: middle;\n",
       "    }\n",
       "\n",
       "    .dataframe tbody tr th {\n",
       "        vertical-align: top;\n",
       "    }\n",
       "\n",
       "    .dataframe thead th {\n",
       "        text-align: right;\n",
       "    }\n",
       "</style>\n",
       "<table border=\"1\" class=\"dataframe\">\n",
       "  <thead>\n",
       "    <tr style=\"text-align: right;\">\n",
       "      <th></th>\n",
       "      <th>cg22908141</th>\n",
       "      <th>cg10726394</th>\n",
       "      <th>cg00800908</th>\n",
       "      <th>cg11868755</th>\n",
       "      <th>cg13934472</th>\n",
       "      <th>cg00282674</th>\n",
       "      <th>cg08696401</th>\n",
       "      <th>cg17497187</th>\n",
       "      <th>cg09236126</th>\n",
       "      <th>cg02694058</th>\n",
       "      <th>...</th>\n",
       "      <th>cg11667847</th>\n",
       "      <th>cg23446297</th>\n",
       "      <th>cg03157284</th>\n",
       "      <th>cg16281009</th>\n",
       "      <th>cg00882235</th>\n",
       "      <th>cg12103037</th>\n",
       "      <th>cg08455380</th>\n",
       "      <th>cg15995909</th>\n",
       "      <th>cg08658665</th>\n",
       "      <th>APPRDX</th>\n",
       "    </tr>\n",
       "  </thead>\n",
       "  <tbody>\n",
       "    <tr>\n",
       "      <th>0</th>\n",
       "      <td>0.554475</td>\n",
       "      <td>0.022090</td>\n",
       "      <td>0.935055</td>\n",
       "      <td>0.743071</td>\n",
       "      <td>0.455235</td>\n",
       "      <td>0.033416</td>\n",
       "      <td>0.858968</td>\n",
       "      <td>0.841456</td>\n",
       "      <td>0.973491</td>\n",
       "      <td>0.198977</td>\n",
       "      <td>...</td>\n",
       "      <td>0.496920</td>\n",
       "      <td>0.052424</td>\n",
       "      <td>0.533353</td>\n",
       "      <td>0.892000</td>\n",
       "      <td>0.058645</td>\n",
       "      <td>0.076198</td>\n",
       "      <td>0.062389</td>\n",
       "      <td>0.924530</td>\n",
       "      <td>0.048968</td>\n",
       "      <td>2</td>\n",
       "    </tr>\n",
       "    <tr>\n",
       "      <th>1</th>\n",
       "      <td>0.593300</td>\n",
       "      <td>0.010402</td>\n",
       "      <td>0.921612</td>\n",
       "      <td>0.798193</td>\n",
       "      <td>0.448433</td>\n",
       "      <td>0.039272</td>\n",
       "      <td>0.891080</td>\n",
       "      <td>0.821130</td>\n",
       "      <td>0.795918</td>\n",
       "      <td>0.260704</td>\n",
       "      <td>...</td>\n",
       "      <td>0.451558</td>\n",
       "      <td>0.053269</td>\n",
       "      <td>0.493896</td>\n",
       "      <td>0.857446</td>\n",
       "      <td>0.070943</td>\n",
       "      <td>0.088004</td>\n",
       "      <td>0.049029</td>\n",
       "      <td>0.912166</td>\n",
       "      <td>0.045645</td>\n",
       "      <td>1</td>\n",
       "    </tr>\n",
       "  </tbody>\n",
       "</table>\n",
       "<p>2 rows × 52 columns</p>\n",
       "</div>"
      ],
      "text/plain": [
       "   cg22908141  cg10726394  cg00800908  cg11868755  cg13934472  cg00282674  \\\n",
       "0    0.554475    0.022090    0.935055    0.743071    0.455235    0.033416   \n",
       "1    0.593300    0.010402    0.921612    0.798193    0.448433    0.039272   \n",
       "\n",
       "   cg08696401  cg17497187  cg09236126  cg02694058  ...  cg11667847  \\\n",
       "0    0.858968    0.841456    0.973491    0.198977  ...    0.496920   \n",
       "1    0.891080    0.821130    0.795918    0.260704  ...    0.451558   \n",
       "\n",
       "   cg23446297  cg03157284  cg16281009  cg00882235  cg12103037  cg08455380  \\\n",
       "0    0.052424    0.533353    0.892000    0.058645    0.076198    0.062389   \n",
       "1    0.053269    0.493896    0.857446    0.070943    0.088004    0.049029   \n",
       "\n",
       "   cg15995909  cg08658665  APPRDX  \n",
       "0    0.924530    0.048968       2  \n",
       "1    0.912166    0.045645       1  \n",
       "\n",
       "[2 rows x 52 columns]"
      ]
     },
     "execution_count": 48,
     "metadata": {},
     "output_type": "execute_result"
    }
   ],
   "source": [
    "# create a list of column names to subset from data\n",
    "col_names = Top50.iloc[:, 0].tolist()\n",
    "\n",
    "# subset df based on the column names\n",
    "df_subset = data.loc[:, data.columns.isin(col_names)]\n",
    "df_subset['APPRDX'] = data['APPRDX']\n",
    "df_subset.to_csv ('Gastro_Boruta_Top50_Data_Female.csv', index = False)\n",
    "df_subset.head(2)"
   ]
  },
  {
   "cell_type": "markdown",
   "id": "00970d0d",
   "metadata": {},
   "source": [
    "# Pain"
   ]
  },
  {
   "cell_type": "code",
   "execution_count": 49,
   "id": "a4d93255",
   "metadata": {
    "ExecuteTime": {
     "end_time": "2023-02-20T12:48:02.825175Z",
     "start_time": "2023-02-20T12:47:27.807173Z"
    }
   },
   "outputs": [
    {
     "name": "stdout",
     "output_type": "stream",
     "text": [
      "Z:\\PPMI_Data\\Excels\\NonMotors\\Derived250\\Female\\GeneCpG\\Pain\n"
     ]
    },
    {
     "data": {
      "text/html": [
       "<div>\n",
       "<style scoped>\n",
       "    .dataframe tbody tr th:only-of-type {\n",
       "        vertical-align: middle;\n",
       "    }\n",
       "\n",
       "    .dataframe tbody tr th {\n",
       "        vertical-align: top;\n",
       "    }\n",
       "\n",
       "    .dataframe thead th {\n",
       "        text-align: right;\n",
       "    }\n",
       "</style>\n",
       "<table border=\"1\" class=\"dataframe\">\n",
       "  <thead>\n",
       "    <tr style=\"text-align: right;\">\n",
       "      <th></th>\n",
       "      <th>Unnamed: 0</th>\n",
       "      <th>Sentrix</th>\n",
       "      <th>PATNO</th>\n",
       "      <th>HYS</th>\n",
       "      <th>Gender</th>\n",
       "      <th>APPRDX</th>\n",
       "      <th>MDSP_Pain</th>\n",
       "      <th>cg08012045</th>\n",
       "      <th>cg08300930</th>\n",
       "      <th>cg00134295</th>\n",
       "      <th>...</th>\n",
       "      <th>cg12385643</th>\n",
       "      <th>cg14543119</th>\n",
       "      <th>cg11523984</th>\n",
       "      <th>cg04449108</th>\n",
       "      <th>cg14323797</th>\n",
       "      <th>cg02234120</th>\n",
       "      <th>cg23874600</th>\n",
       "      <th>cg27361577</th>\n",
       "      <th>cg00831331</th>\n",
       "      <th>ch.14.849914F</th>\n",
       "    </tr>\n",
       "  </thead>\n",
       "  <tbody>\n",
       "    <tr>\n",
       "      <th>0</th>\n",
       "      <td>213</td>\n",
       "      <td>200991620021_R03C01</td>\n",
       "      <td>3002</td>\n",
       "      <td>2</td>\n",
       "      <td>2</td>\n",
       "      <td>1</td>\n",
       "      <td>1</td>\n",
       "      <td>0.952757</td>\n",
       "      <td>0.970714</td>\n",
       "      <td>0.227504</td>\n",
       "      <td>...</td>\n",
       "      <td>0.803776</td>\n",
       "      <td>0.793736</td>\n",
       "      <td>0.737096</td>\n",
       "      <td>0.93174</td>\n",
       "      <td>0.882883</td>\n",
       "      <td>0.864305</td>\n",
       "      <td>0.933641</td>\n",
       "      <td>0.728115</td>\n",
       "      <td>0.923617</td>\n",
       "      <td>0.049931</td>\n",
       "    </tr>\n",
       "  </tbody>\n",
       "</table>\n",
       "<p>1 rows × 108280 columns</p>\n",
       "</div>"
      ],
      "text/plain": [
       "   Unnamed: 0              Sentrix  PATNO  HYS  Gender  APPRDX  MDSP_Pain  \\\n",
       "0         213  200991620021_R03C01   3002    2       2       1          1   \n",
       "\n",
       "   cg08012045  cg08300930  cg00134295  ...  cg12385643  cg14543119  \\\n",
       "0    0.952757    0.970714    0.227504  ...    0.803776    0.793736   \n",
       "\n",
       "   cg11523984  cg04449108  cg14323797  cg02234120  cg23874600  cg27361577  \\\n",
       "0    0.737096     0.93174    0.882883    0.864305    0.933641    0.728115   \n",
       "\n",
       "   cg00831331  ch.14.849914F  \n",
       "0    0.923617       0.049931  \n",
       "\n",
       "[1 rows x 108280 columns]"
      ]
     },
     "execution_count": 49,
     "metadata": {},
     "output_type": "execute_result"
    }
   ],
   "source": [
    "%cd Z:\\PPMI_Data\\Excels\\NonMotors\\Derived250\\Female\\GeneCpG\\Pain\n",
    "data = pd.read_csv('PainCateg_Methylome_Female.csv')\n",
    "data.head(1)"
   ]
  },
  {
   "cell_type": "code",
   "execution_count": 50,
   "id": "be5bafb7",
   "metadata": {
    "ExecuteTime": {
     "end_time": "2023-02-20T12:48:10.459388Z",
     "start_time": "2023-02-20T12:48:10.200137Z"
    }
   },
   "outputs": [
    {
     "name": "stdout",
     "output_type": "stream",
     "text": [
      "   cg08012045  cg08300930  cg00134295  cg10537824  cg04990650  cg03379001  \\\n",
      "0    0.952757    0.970714    0.227504    0.860591    0.836116    0.863656   \n",
      "1    0.948345    0.966610    0.209896    0.826954    0.798853    0.877657   \n",
      "\n",
      "   cg02215627  cg06699201  cg18100935  cg19220149  ...  cg12385643  \\\n",
      "0    0.885796    0.741853    0.879686    0.840151  ...    0.803776   \n",
      "1    0.846453    0.778225    0.902908    0.842138  ...    0.878934   \n",
      "\n",
      "   cg14543119  cg11523984  cg04449108  cg14323797  cg02234120  cg23874600  \\\n",
      "0    0.793736    0.737096    0.931740    0.882883    0.864305    0.933641   \n",
      "1    0.799641    0.780678    0.937121    0.797353    0.802888    0.933380   \n",
      "\n",
      "   cg27361577  cg00831331  ch.14.849914F  \n",
      "0    0.728115    0.923617       0.049931  \n",
      "1    0.669195    0.916997       0.056143  \n",
      "\n",
      "[2 rows x 108273 columns]\n"
     ]
    }
   ],
   "source": [
    "X = data.drop(['Unnamed: 0','Sentrix','PATNO','HYS','Gender','MDSP_Pain','APPRDX'], axis = 1)\n",
    "y = data['APPRDX']\n",
    "X_train, X_test, y_train, y_test = train_test_split(X, y, test_size = .2, random_state = 1) \n",
    "print(X.head(2))"
   ]
  },
  {
   "cell_type": "code",
   "execution_count": 51,
   "id": "d4c4fe1d",
   "metadata": {
    "ExecuteTime": {
     "end_time": "2023-02-20T12:48:28.145774Z",
     "start_time": "2023-02-20T12:48:26.619545Z"
    }
   },
   "outputs": [
    {
     "data": {
      "text/plain": [
       "RandomForestClassifier(random_state=1)"
      ]
     },
     "execution_count": 51,
     "metadata": {},
     "output_type": "execute_result"
    }
   ],
   "source": [
    "rf_all_features = RandomForestClassifier(random_state=1)\n",
    "rf_all_features.fit(X_train, y_train)"
   ]
  },
  {
   "cell_type": "code",
   "execution_count": 52,
   "id": "ca894af5",
   "metadata": {
    "ExecuteTime": {
     "end_time": "2023-02-20T12:48:36.590868Z",
     "start_time": "2023-02-20T12:48:36.029865Z"
    }
   },
   "outputs": [
    {
     "data": {
      "text/plain": [
       "0.8"
      ]
     },
     "execution_count": 52,
     "metadata": {},
     "output_type": "execute_result"
    }
   ],
   "source": [
    "accuracy_score(y_test, rf_all_features.predict(X_test))"
   ]
  },
  {
   "cell_type": "code",
   "execution_count": 53,
   "id": "680a3ff8",
   "metadata": {
    "ExecuteTime": {
     "end_time": "2023-02-20T12:59:05.510117Z",
     "start_time": "2023-02-20T12:48:45.237686Z"
    }
   },
   "outputs": [
    {
     "name": "stdout",
     "output_type": "stream",
     "text": [
      "Iteration: 1 / 100\n",
      "Iteration: 2 / 100\n",
      "Iteration: 3 / 100\n",
      "Iteration: 4 / 100\n",
      "Iteration: 5 / 100\n",
      "Iteration: 6 / 100\n",
      "Iteration: 7 / 100\n",
      "Iteration: 8 / 100\n",
      "Iteration: 9 / 100\n",
      "Iteration: 10 / 100\n",
      "Iteration: 11 / 100\n",
      "Iteration: 12 / 100\n",
      "Iteration: 13 / 100\n",
      "Iteration: 14 / 100\n",
      "Iteration: 15 / 100\n",
      "Iteration: 16 / 100\n",
      "Iteration: 17 / 100\n",
      "Iteration: 18 / 100\n",
      "Iteration: 19 / 100\n",
      "Iteration: 20 / 100\n",
      "Iteration: 21 / 100\n",
      "Iteration: 22 / 100\n",
      "Iteration: 23 / 100\n",
      "Iteration: 24 / 100\n",
      "Iteration: 25 / 100\n",
      "Iteration: 26 / 100\n",
      "Iteration: 27 / 100\n",
      "Iteration: 28 / 100\n",
      "Iteration: 29 / 100\n",
      "Iteration: 30 / 100\n",
      "Iteration: 31 / 100\n",
      "Iteration: 32 / 100\n",
      "Iteration: 33 / 100\n",
      "Iteration: 34 / 100\n",
      "Iteration: 35 / 100\n",
      "Iteration: 36 / 100\n",
      "Iteration: 37 / 100\n",
      "\n",
      "\n",
      "BorutaPy finished running.\n",
      "\n",
      "Iteration: \t38 / 100\n",
      "Confirmed: \t2\n",
      "Tentative: \t0\n",
      "Rejected: \t108271\n"
     ]
    },
    {
     "data": {
      "text/plain": [
       "BorutaPy(estimator=RandomForestClassifier(n_estimators=20,\n",
       "                                          random_state=RandomState(MT19937) at 0x1BB0EE4DA40),\n",
       "         n_estimators='auto',\n",
       "         random_state=RandomState(MT19937) at 0x1BB0EE4DA40, verbose=1)"
      ]
     },
     "execution_count": 53,
     "metadata": {},
     "output_type": "execute_result"
    }
   ],
   "source": [
    "rfc = RandomForestClassifier(random_state=1)\n",
    "boruta_selector = BorutaPy(rfc, n_estimators= 'auto', verbose=1, random_state=1)\n",
    "boruta_selector.fit(np.array(X_train), np.array(y_train))  "
   ]
  },
  {
   "cell_type": "code",
   "execution_count": 54,
   "id": "37c56216",
   "metadata": {
    "ExecuteTime": {
     "end_time": "2023-02-20T12:59:14.428541Z",
     "start_time": "2023-02-20T12:59:14.410476Z"
    }
   },
   "outputs": [
    {
     "name": "stdout",
     "output_type": "stream",
     "text": [
      "No. of significant features:  2\n"
     ]
    }
   ],
   "source": [
    "# print(\"Ranking: \",boruta_selector.ranking_)          \n",
    "print(\"No. of significant features: \", boruta_selector.n_features_)"
   ]
  },
  {
   "cell_type": "code",
   "execution_count": 55,
   "id": "172239b3",
   "metadata": {
    "ExecuteTime": {
     "end_time": "2023-02-20T12:59:22.603598Z",
     "start_time": "2023-02-20T12:59:22.545316Z"
    }
   },
   "outputs": [],
   "source": [
    "selected_rf_features = pd.DataFrame({'CpG':list(X_train.columns),\n",
    "                                       'Ranking':boruta_selector.ranking_})\n",
    "selected_rf_features = selected_rf_features.sort_values(by='Ranking')"
   ]
  },
  {
   "cell_type": "code",
   "execution_count": 56,
   "id": "03cb4870",
   "metadata": {
    "ExecuteTime": {
     "end_time": "2023-02-20T12:59:30.798412Z",
     "start_time": "2023-02-20T12:59:30.780303Z"
    }
   },
   "outputs": [
    {
     "data": {
      "text/html": [
       "<div>\n",
       "<style scoped>\n",
       "    .dataframe tbody tr th:only-of-type {\n",
       "        vertical-align: middle;\n",
       "    }\n",
       "\n",
       "    .dataframe tbody tr th {\n",
       "        vertical-align: top;\n",
       "    }\n",
       "\n",
       "    .dataframe thead th {\n",
       "        text-align: right;\n",
       "    }\n",
       "</style>\n",
       "<table border=\"1\" class=\"dataframe\">\n",
       "  <thead>\n",
       "    <tr style=\"text-align: right;\">\n",
       "      <th></th>\n",
       "      <th>CpG</th>\n",
       "      <th>Ranking</th>\n",
       "    </tr>\n",
       "  </thead>\n",
       "  <tbody>\n",
       "    <tr>\n",
       "      <th>82191</th>\n",
       "      <td>cg01836011</td>\n",
       "      <td>1</td>\n",
       "    </tr>\n",
       "    <tr>\n",
       "      <th>27676</th>\n",
       "      <td>cg19485268</td>\n",
       "      <td>1</td>\n",
       "    </tr>\n",
       "    <tr>\n",
       "      <th>35273</th>\n",
       "      <td>cg26950867</td>\n",
       "      <td>2</td>\n",
       "    </tr>\n",
       "  </tbody>\n",
       "</table>\n",
       "</div>"
      ],
      "text/plain": [
       "              CpG  Ranking\n",
       "82191  cg01836011        1\n",
       "27676  cg19485268        1\n",
       "35273  cg26950867        2"
      ]
     },
     "execution_count": 56,
     "metadata": {},
     "output_type": "execute_result"
    }
   ],
   "source": [
    "Top50 = selected_rf_features.iloc[:51, :]\n",
    "Top50.head(3)"
   ]
  },
  {
   "cell_type": "code",
   "execution_count": 57,
   "id": "1730e33f",
   "metadata": {
    "ExecuteTime": {
     "end_time": "2023-02-20T12:59:39.295669Z",
     "start_time": "2023-02-20T12:59:38.996290Z"
    }
   },
   "outputs": [],
   "source": [
    "Top50.to_csv ('Pain_BorutaFemale_Top50.csv', index = False)\n",
    "selected_rf_features.to_csv ('Pain_BorutaFemale_All.csv', index = False)"
   ]
  },
  {
   "cell_type": "code",
   "execution_count": 58,
   "id": "92adda76",
   "metadata": {
    "ExecuteTime": {
     "end_time": "2023-02-20T12:59:48.114575Z",
     "start_time": "2023-02-20T12:59:48.036190Z"
    }
   },
   "outputs": [
    {
     "name": "stderr",
     "output_type": "stream",
     "text": [
      "C:\\Users\\system 4\\AppData\\Local\\Temp\\ipykernel_2992\\809891941.py:6: SettingWithCopyWarning: \n",
      "A value is trying to be set on a copy of a slice from a DataFrame.\n",
      "Try using .loc[row_indexer,col_indexer] = value instead\n",
      "\n",
      "See the caveats in the documentation: https://pandas.pydata.org/pandas-docs/stable/user_guide/indexing.html#returning-a-view-versus-a-copy\n",
      "  df_subset['APPRDX'] = data['APPRDX']\n"
     ]
    },
    {
     "data": {
      "text/html": [
       "<div>\n",
       "<style scoped>\n",
       "    .dataframe tbody tr th:only-of-type {\n",
       "        vertical-align: middle;\n",
       "    }\n",
       "\n",
       "    .dataframe tbody tr th {\n",
       "        vertical-align: top;\n",
       "    }\n",
       "\n",
       "    .dataframe thead th {\n",
       "        text-align: right;\n",
       "    }\n",
       "</style>\n",
       "<table border=\"1\" class=\"dataframe\">\n",
       "  <thead>\n",
       "    <tr style=\"text-align: right;\">\n",
       "      <th></th>\n",
       "      <th>cg06263630</th>\n",
       "      <th>cg01806972</th>\n",
       "      <th>cg13107682</th>\n",
       "      <th>cg13332222</th>\n",
       "      <th>cg17597915</th>\n",
       "      <th>cg12845419</th>\n",
       "      <th>cg16646261</th>\n",
       "      <th>cg24752563</th>\n",
       "      <th>cg15859602</th>\n",
       "      <th>cg19511263</th>\n",
       "      <th>...</th>\n",
       "      <th>cg01248375</th>\n",
       "      <th>cg01947036</th>\n",
       "      <th>cg10586471</th>\n",
       "      <th>cg19878200</th>\n",
       "      <th>cg26819590</th>\n",
       "      <th>cg01378481</th>\n",
       "      <th>cg25911279</th>\n",
       "      <th>cg25547939</th>\n",
       "      <th>cg11712482</th>\n",
       "      <th>APPRDX</th>\n",
       "    </tr>\n",
       "  </thead>\n",
       "  <tbody>\n",
       "    <tr>\n",
       "      <th>0</th>\n",
       "      <td>0.847555</td>\n",
       "      <td>0.192149</td>\n",
       "      <td>0.061848</td>\n",
       "      <td>0.885483</td>\n",
       "      <td>0.929066</td>\n",
       "      <td>0.518718</td>\n",
       "      <td>0.903759</td>\n",
       "      <td>0.631837</td>\n",
       "      <td>0.833900</td>\n",
       "      <td>0.900896</td>\n",
       "      <td>...</td>\n",
       "      <td>0.031342</td>\n",
       "      <td>0.017338</td>\n",
       "      <td>0.796200</td>\n",
       "      <td>0.123791</td>\n",
       "      <td>0.930234</td>\n",
       "      <td>0.897877</td>\n",
       "      <td>0.024504</td>\n",
       "      <td>0.915858</td>\n",
       "      <td>0.426216</td>\n",
       "      <td>1</td>\n",
       "    </tr>\n",
       "    <tr>\n",
       "      <th>1</th>\n",
       "      <td>0.838412</td>\n",
       "      <td>0.181933</td>\n",
       "      <td>0.089608</td>\n",
       "      <td>0.945536</td>\n",
       "      <td>0.927944</td>\n",
       "      <td>0.548928</td>\n",
       "      <td>0.907222</td>\n",
       "      <td>0.516742</td>\n",
       "      <td>0.827027</td>\n",
       "      <td>0.854604</td>\n",
       "      <td>...</td>\n",
       "      <td>0.039883</td>\n",
       "      <td>0.012522</td>\n",
       "      <td>0.820927</td>\n",
       "      <td>0.104146</td>\n",
       "      <td>0.923072</td>\n",
       "      <td>0.913737</td>\n",
       "      <td>0.026267</td>\n",
       "      <td>0.910504</td>\n",
       "      <td>0.431001</td>\n",
       "      <td>1</td>\n",
       "    </tr>\n",
       "  </tbody>\n",
       "</table>\n",
       "<p>2 rows × 52 columns</p>\n",
       "</div>"
      ],
      "text/plain": [
       "   cg06263630  cg01806972  cg13107682  cg13332222  cg17597915  cg12845419  \\\n",
       "0    0.847555    0.192149    0.061848    0.885483    0.929066    0.518718   \n",
       "1    0.838412    0.181933    0.089608    0.945536    0.927944    0.548928   \n",
       "\n",
       "   cg16646261  cg24752563  cg15859602  cg19511263  ...  cg01248375  \\\n",
       "0    0.903759    0.631837    0.833900    0.900896  ...    0.031342   \n",
       "1    0.907222    0.516742    0.827027    0.854604  ...    0.039883   \n",
       "\n",
       "   cg01947036  cg10586471  cg19878200  cg26819590  cg01378481  cg25911279  \\\n",
       "0    0.017338    0.796200    0.123791    0.930234    0.897877    0.024504   \n",
       "1    0.012522    0.820927    0.104146    0.923072    0.913737    0.026267   \n",
       "\n",
       "   cg25547939  cg11712482  APPRDX  \n",
       "0    0.915858    0.426216       1  \n",
       "1    0.910504    0.431001       1  \n",
       "\n",
       "[2 rows x 52 columns]"
      ]
     },
     "execution_count": 58,
     "metadata": {},
     "output_type": "execute_result"
    }
   ],
   "source": [
    "# create a list of column names to subset from data\n",
    "col_names = Top50.iloc[:, 0].tolist()\n",
    "\n",
    "# subset df based on the column names\n",
    "df_subset = data.loc[:, data.columns.isin(col_names)]\n",
    "df_subset['APPRDX'] = data['APPRDX']\n",
    "df_subset.to_csv ('Pain_Boruta_Top50_Data_Female.csv', index = False)\n",
    "df_subset.head(2)"
   ]
  },
  {
   "cell_type": "markdown",
   "id": "18881fc7",
   "metadata": {},
   "source": [
    "# UPSIT"
   ]
  },
  {
   "cell_type": "code",
   "execution_count": 59,
   "id": "5ff336b1",
   "metadata": {
    "ExecuteTime": {
     "end_time": "2023-02-20T12:59:56.912632Z",
     "start_time": "2023-02-20T12:59:56.392074Z"
    }
   },
   "outputs": [
    {
     "name": "stdout",
     "output_type": "stream",
     "text": [
      "Z:\\PPMI_Data\\Excels\\NonMotors\\Derived250\\Female\\GeneCpG\\UPSIT\n"
     ]
    },
    {
     "data": {
      "text/html": [
       "<div>\n",
       "<style scoped>\n",
       "    .dataframe tbody tr th:only-of-type {\n",
       "        vertical-align: middle;\n",
       "    }\n",
       "\n",
       "    .dataframe tbody tr th {\n",
       "        vertical-align: top;\n",
       "    }\n",
       "\n",
       "    .dataframe thead th {\n",
       "        text-align: right;\n",
       "    }\n",
       "</style>\n",
       "<table border=\"1\" class=\"dataframe\">\n",
       "  <thead>\n",
       "    <tr style=\"text-align: right;\">\n",
       "      <th></th>\n",
       "      <th>Sentrix</th>\n",
       "      <th>PATNO</th>\n",
       "      <th>HYS</th>\n",
       "      <th>Gender</th>\n",
       "      <th>APPRDX</th>\n",
       "      <th>UPSIT_3</th>\n",
       "      <th>UPSIT_Total</th>\n",
       "      <th>cg06067658</th>\n",
       "      <th>cg15442538</th>\n",
       "      <th>cg25928446</th>\n",
       "      <th>...</th>\n",
       "      <th>cg05766881</th>\n",
       "      <th>cg01708543</th>\n",
       "      <th>cg10933281</th>\n",
       "      <th>cg04735449</th>\n",
       "      <th>cg15856662</th>\n",
       "      <th>cg11864127</th>\n",
       "      <th>cg14420798</th>\n",
       "      <th>cg08859349</th>\n",
       "      <th>cg01481205</th>\n",
       "      <th>cg19228755</th>\n",
       "    </tr>\n",
       "  </thead>\n",
       "  <tbody>\n",
       "    <tr>\n",
       "      <th>0</th>\n",
       "      <td>200991620021_R03C01</td>\n",
       "      <td>3002</td>\n",
       "      <td>2</td>\n",
       "      <td>2</td>\n",
       "      <td>1</td>\n",
       "      <td>2</td>\n",
       "      <td>17</td>\n",
       "      <td>0.130195</td>\n",
       "      <td>0.886075</td>\n",
       "      <td>0.721228</td>\n",
       "      <td>...</td>\n",
       "      <td>0.843815</td>\n",
       "      <td>0.861038</td>\n",
       "      <td>0.870442</td>\n",
       "      <td>0.896617</td>\n",
       "      <td>0.857573</td>\n",
       "      <td>0.832123</td>\n",
       "      <td>0.807071</td>\n",
       "      <td>0.846446</td>\n",
       "      <td>0.914551</td>\n",
       "      <td>0.874165</td>\n",
       "    </tr>\n",
       "  </tbody>\n",
       "</table>\n",
       "<p>1 rows × 5679 columns</p>\n",
       "</div>"
      ],
      "text/plain": [
       "               Sentrix  PATNO  HYS  Gender  APPRDX  UPSIT_3  UPSIT_Total  \\\n",
       "0  200991620021_R03C01   3002    2       2       1        2           17   \n",
       "\n",
       "   cg06067658  cg15442538  cg25928446  ...  cg05766881  cg01708543  \\\n",
       "0    0.130195    0.886075    0.721228  ...    0.843815    0.861038   \n",
       "\n",
       "   cg10933281  cg04735449  cg15856662  cg11864127  cg14420798  cg08859349  \\\n",
       "0    0.870442    0.896617    0.857573    0.832123    0.807071    0.846446   \n",
       "\n",
       "   cg01481205  cg19228755  \n",
       "0    0.914551    0.874165  \n",
       "\n",
       "[1 rows x 5679 columns]"
      ]
     },
     "execution_count": 59,
     "metadata": {},
     "output_type": "execute_result"
    }
   ],
   "source": [
    "%cd Z:\\PPMI_Data\\Excels\\NonMotors\\Derived250\\Female\\GeneCpG\\UPSIT\n",
    "data = pd.read_csv('UPSIT3Categ_Methylome_Female.csv')\n",
    "data.head(1)"
   ]
  },
  {
   "cell_type": "code",
   "execution_count": 60,
   "id": "ee22df7a",
   "metadata": {
    "ExecuteTime": {
     "end_time": "2023-02-20T13:00:04.426280Z",
     "start_time": "2023-02-20T13:00:04.166965Z"
    }
   },
   "outputs": [
    {
     "name": "stdout",
     "output_type": "stream",
     "text": [
      "   cg06067658  cg15442538  cg25928446  cg12415575  cg26358225  cg19058526  \\\n",
      "0    0.130195    0.886075    0.721228    0.030683    0.126684    0.070607   \n",
      "1    0.070498    0.904334    0.706840    0.051474    0.141152    0.170727   \n",
      "\n",
      "   cg20195763  cg23725394  cg27107076  cg15657055  ...  cg05766881  \\\n",
      "0    0.416702    0.932702    0.623884    0.732753  ...    0.843815   \n",
      "1    0.421593    0.934273    0.643751    0.728273  ...    0.857097   \n",
      "\n",
      "   cg01708543  cg10933281  cg04735449  cg15856662  cg11864127  cg14420798  \\\n",
      "0    0.861038    0.870442    0.896617    0.857573    0.832123    0.807071   \n",
      "1    0.881147    0.912999    0.897845    0.836257    0.882631    0.835665   \n",
      "\n",
      "   cg08859349  cg01481205  cg19228755  \n",
      "0    0.846446    0.914551    0.874165  \n",
      "1    0.896638    0.944095    0.914684  \n",
      "\n",
      "[2 rows x 5672 columns]\n"
     ]
    }
   ],
   "source": [
    "X = data.drop(['Sentrix','PATNO','HYS','Gender','UPSIT_3','UPSIT_Total','APPRDX'], axis = 1)\n",
    "y = data['APPRDX']\n",
    "X_train, X_test, y_train, y_test = train_test_split(X, y, test_size = .2, random_state = 1) \n",
    "print(X.head(2))"
   ]
  },
  {
   "cell_type": "code",
   "execution_count": 61,
   "id": "c1ee3e48",
   "metadata": {
    "ExecuteTime": {
     "end_time": "2023-02-20T13:00:05.732526Z",
     "start_time": "2023-02-20T13:00:05.392847Z"
    }
   },
   "outputs": [
    {
     "data": {
      "text/plain": [
       "RandomForestClassifier(random_state=1)"
      ]
     },
     "execution_count": 61,
     "metadata": {},
     "output_type": "execute_result"
    }
   ],
   "source": [
    "rf_all_features = RandomForestClassifier(random_state=1)\n",
    "rf_all_features.fit(X_train, y_train)"
   ]
  },
  {
   "cell_type": "code",
   "execution_count": 62,
   "id": "f17f8606",
   "metadata": {
    "ExecuteTime": {
     "end_time": "2023-02-20T13:00:06.415862Z",
     "start_time": "2023-02-20T13:00:06.357587Z"
    }
   },
   "outputs": [
    {
     "data": {
      "text/plain": [
       "0.8"
      ]
     },
     "execution_count": 62,
     "metadata": {},
     "output_type": "execute_result"
    }
   ],
   "source": [
    "accuracy_score(y_test, rf_all_features.predict(X_test))"
   ]
  },
  {
   "cell_type": "code",
   "execution_count": 63,
   "id": "5ba608ac",
   "metadata": {
    "ExecuteTime": {
     "end_time": "2023-02-20T13:00:43.232202Z",
     "start_time": "2023-02-20T13:00:07.080977Z"
    },
    "scrolled": true
   },
   "outputs": [
    {
     "name": "stdout",
     "output_type": "stream",
     "text": [
      "Iteration: 1 / 100\n",
      "Iteration: 2 / 100\n",
      "Iteration: 3 / 100\n",
      "Iteration: 4 / 100\n",
      "Iteration: 5 / 100\n",
      "Iteration: 6 / 100\n",
      "Iteration: 7 / 100\n",
      "Iteration: 8 / 100\n",
      "Iteration: 9 / 100\n",
      "Iteration: 10 / 100\n",
      "Iteration: 11 / 100\n",
      "Iteration: 12 / 100\n",
      "Iteration: 13 / 100\n",
      "Iteration: 14 / 100\n",
      "Iteration: 15 / 100\n",
      "Iteration: 16 / 100\n",
      "Iteration: 17 / 100\n",
      "Iteration: 18 / 100\n",
      "Iteration: 19 / 100\n",
      "Iteration: 20 / 100\n",
      "Iteration: 21 / 100\n",
      "Iteration: 22 / 100\n",
      "Iteration: 23 / 100\n",
      "Iteration: 24 / 100\n",
      "Iteration: 25 / 100\n",
      "Iteration: 26 / 100\n",
      "Iteration: 27 / 100\n",
      "Iteration: 28 / 100\n",
      "Iteration: 29 / 100\n",
      "Iteration: 30 / 100\n",
      "Iteration: 31 / 100\n",
      "Iteration: 32 / 100\n",
      "Iteration: 33 / 100\n",
      "Iteration: 34 / 100\n",
      "Iteration: 35 / 100\n",
      "Iteration: 36 / 100\n",
      "Iteration: 37 / 100\n",
      "Iteration: 38 / 100\n",
      "Iteration: 39 / 100\n",
      "Iteration: 40 / 100\n",
      "\n",
      "\n",
      "BorutaPy finished running.\n",
      "\n",
      "Iteration: \t41 / 100\n",
      "Confirmed: \t5\n",
      "Tentative: \t0\n",
      "Rejected: \t5667\n"
     ]
    },
    {
     "data": {
      "text/plain": [
       "BorutaPy(estimator=RandomForestClassifier(n_estimators=31,\n",
       "                                          random_state=RandomState(MT19937) at 0x1BB0EE4DE40),\n",
       "         n_estimators='auto',\n",
       "         random_state=RandomState(MT19937) at 0x1BB0EE4DE40, verbose=1)"
      ]
     },
     "execution_count": 63,
     "metadata": {},
     "output_type": "execute_result"
    }
   ],
   "source": [
    "rfc = RandomForestClassifier(random_state=1)\n",
    "boruta_selector = BorutaPy(rfc, n_estimators= 'auto', verbose=1, random_state=2)\n",
    "boruta_selector.fit(np.array(X_train), np.array(y_train))  "
   ]
  },
  {
   "cell_type": "code",
   "execution_count": 64,
   "id": "51f874e0",
   "metadata": {
    "ExecuteTime": {
     "end_time": "2023-02-20T13:00:45.842319Z",
     "start_time": "2023-02-20T13:00:45.824252Z"
    }
   },
   "outputs": [
    {
     "name": "stdout",
     "output_type": "stream",
     "text": [
      "No. of significant features:  5\n"
     ]
    }
   ],
   "source": [
    "# print(\"Ranking: \",boruta_selector.ranking_)          \n",
    "print(\"No. of significant features: \", boruta_selector.n_features_)"
   ]
  },
  {
   "cell_type": "code",
   "execution_count": 65,
   "id": "61cadc89",
   "metadata": {
    "ExecuteTime": {
     "end_time": "2023-02-20T13:00:48.153626Z",
     "start_time": "2023-02-20T13:00:46.628055Z"
    }
   },
   "outputs": [],
   "source": [
    "selected_rf_features = pd.DataFrame({'CpG':list(X_train.columns),\n",
    "                                       'Ranking':boruta_selector.ranking_})\n",
    "selected_rf_features = selected_rf_features.sort_values(by='Ranking')"
   ]
  },
  {
   "cell_type": "code",
   "execution_count": 66,
   "id": "6ae888ab",
   "metadata": {
    "ExecuteTime": {
     "end_time": "2023-02-20T13:00:48.857182Z",
     "start_time": "2023-02-20T13:00:48.839092Z"
    },
    "scrolled": true
   },
   "outputs": [
    {
     "data": {
      "text/html": [
       "<div>\n",
       "<style scoped>\n",
       "    .dataframe tbody tr th:only-of-type {\n",
       "        vertical-align: middle;\n",
       "    }\n",
       "\n",
       "    .dataframe tbody tr th {\n",
       "        vertical-align: top;\n",
       "    }\n",
       "\n",
       "    .dataframe thead th {\n",
       "        text-align: right;\n",
       "    }\n",
       "</style>\n",
       "<table border=\"1\" class=\"dataframe\">\n",
       "  <thead>\n",
       "    <tr style=\"text-align: right;\">\n",
       "      <th></th>\n",
       "      <th>CpG</th>\n",
       "      <th>Ranking</th>\n",
       "    </tr>\n",
       "  </thead>\n",
       "  <tbody>\n",
       "    <tr>\n",
       "      <th>2326</th>\n",
       "      <td>cg27362302</td>\n",
       "      <td>1</td>\n",
       "    </tr>\n",
       "    <tr>\n",
       "      <th>2559</th>\n",
       "      <td>cg09046813</td>\n",
       "      <td>1</td>\n",
       "    </tr>\n",
       "    <tr>\n",
       "      <th>2517</th>\n",
       "      <td>cg12347084</td>\n",
       "      <td>1</td>\n",
       "    </tr>\n",
       "  </tbody>\n",
       "</table>\n",
       "</div>"
      ],
      "text/plain": [
       "             CpG  Ranking\n",
       "2326  cg27362302        1\n",
       "2559  cg09046813        1\n",
       "2517  cg12347084        1"
      ]
     },
     "execution_count": 66,
     "metadata": {},
     "output_type": "execute_result"
    }
   ],
   "source": [
    "Top50 = selected_rf_features.iloc[:51, :]\n",
    "Top50.head(3)"
   ]
  },
  {
   "cell_type": "code",
   "execution_count": 67,
   "id": "9605e163",
   "metadata": {
    "ExecuteTime": {
     "end_time": "2023-02-20T13:00:49.581157Z",
     "start_time": "2023-02-20T13:00:49.542975Z"
    }
   },
   "outputs": [],
   "source": [
    "Top50.to_csv ('UPSIT_BorutaFemale_Top50.csv', index = False)\n",
    "selected_rf_features.to_csv ('UPSIT_BorutaFemale_All.csv', index = False)"
   ]
  },
  {
   "cell_type": "code",
   "execution_count": 68,
   "id": "4a2551a5",
   "metadata": {
    "ExecuteTime": {
     "end_time": "2023-02-20T13:00:50.626727Z",
     "start_time": "2023-02-20T13:00:50.186370Z"
    }
   },
   "outputs": [
    {
     "name": "stderr",
     "output_type": "stream",
     "text": [
      "C:\\Users\\system 4\\AppData\\Local\\Temp\\ipykernel_2992\\750700284.py:6: SettingWithCopyWarning: \n",
      "A value is trying to be set on a copy of a slice from a DataFrame.\n",
      "Try using .loc[row_indexer,col_indexer] = value instead\n",
      "\n",
      "See the caveats in the documentation: https://pandas.pydata.org/pandas-docs/stable/user_guide/indexing.html#returning-a-view-versus-a-copy\n",
      "  df_subset['APPRDX'] = data['APPRDX']\n"
     ]
    },
    {
     "data": {
      "text/html": [
       "<div>\n",
       "<style scoped>\n",
       "    .dataframe tbody tr th:only-of-type {\n",
       "        vertical-align: middle;\n",
       "    }\n",
       "\n",
       "    .dataframe tbody tr th {\n",
       "        vertical-align: top;\n",
       "    }\n",
       "\n",
       "    .dataframe thead th {\n",
       "        text-align: right;\n",
       "    }\n",
       "</style>\n",
       "<table border=\"1\" class=\"dataframe\">\n",
       "  <thead>\n",
       "    <tr style=\"text-align: right;\">\n",
       "      <th></th>\n",
       "      <th>cg00260798</th>\n",
       "      <th>cg07668077</th>\n",
       "      <th>cg17502447</th>\n",
       "      <th>cg17478371</th>\n",
       "      <th>cg02888917</th>\n",
       "      <th>cg00173854</th>\n",
       "      <th>cg12845419</th>\n",
       "      <th>cg17503711</th>\n",
       "      <th>cg27344018</th>\n",
       "      <th>cg23187886</th>\n",
       "      <th>...</th>\n",
       "      <th>cg25149563</th>\n",
       "      <th>cg23390920</th>\n",
       "      <th>cg21280928</th>\n",
       "      <th>cg26544028</th>\n",
       "      <th>cg03385171</th>\n",
       "      <th>cg03191458</th>\n",
       "      <th>cg04324977</th>\n",
       "      <th>cg00153831</th>\n",
       "      <th>cg19458274</th>\n",
       "      <th>APPRDX</th>\n",
       "    </tr>\n",
       "  </thead>\n",
       "  <tbody>\n",
       "    <tr>\n",
       "      <th>0</th>\n",
       "      <td>0.879267</td>\n",
       "      <td>0.743484</td>\n",
       "      <td>0.862084</td>\n",
       "      <td>0.020390</td>\n",
       "      <td>0.061802</td>\n",
       "      <td>0.025939</td>\n",
       "      <td>0.518718</td>\n",
       "      <td>0.460579</td>\n",
       "      <td>0.876019</td>\n",
       "      <td>0.028337</td>\n",
       "      <td>...</td>\n",
       "      <td>0.748475</td>\n",
       "      <td>0.489156</td>\n",
       "      <td>0.892898</td>\n",
       "      <td>0.656587</td>\n",
       "      <td>0.920785</td>\n",
       "      <td>0.907265</td>\n",
       "      <td>0.936076</td>\n",
       "      <td>0.936939</td>\n",
       "      <td>0.015144</td>\n",
       "      <td>1</td>\n",
       "    </tr>\n",
       "    <tr>\n",
       "      <th>1</th>\n",
       "      <td>0.910582</td>\n",
       "      <td>0.825779</td>\n",
       "      <td>0.831112</td>\n",
       "      <td>0.034629</td>\n",
       "      <td>0.063124</td>\n",
       "      <td>0.048876</td>\n",
       "      <td>0.548928</td>\n",
       "      <td>0.333375</td>\n",
       "      <td>0.853940</td>\n",
       "      <td>0.031037</td>\n",
       "      <td>...</td>\n",
       "      <td>0.841205</td>\n",
       "      <td>0.505509</td>\n",
       "      <td>0.866465</td>\n",
       "      <td>0.629046</td>\n",
       "      <td>0.922969</td>\n",
       "      <td>0.929922</td>\n",
       "      <td>0.910388</td>\n",
       "      <td>0.916622</td>\n",
       "      <td>0.015374</td>\n",
       "      <td>1</td>\n",
       "    </tr>\n",
       "  </tbody>\n",
       "</table>\n",
       "<p>2 rows × 52 columns</p>\n",
       "</div>"
      ],
      "text/plain": [
       "   cg00260798  cg07668077  cg17502447  cg17478371  cg02888917  cg00173854  \\\n",
       "0    0.879267    0.743484    0.862084    0.020390    0.061802    0.025939   \n",
       "1    0.910582    0.825779    0.831112    0.034629    0.063124    0.048876   \n",
       "\n",
       "   cg12845419  cg17503711  cg27344018  cg23187886  ...  cg25149563  \\\n",
       "0    0.518718    0.460579    0.876019    0.028337  ...    0.748475   \n",
       "1    0.548928    0.333375    0.853940    0.031037  ...    0.841205   \n",
       "\n",
       "   cg23390920  cg21280928  cg26544028  cg03385171  cg03191458  cg04324977  \\\n",
       "0    0.489156    0.892898    0.656587    0.920785    0.907265    0.936076   \n",
       "1    0.505509    0.866465    0.629046    0.922969    0.929922    0.910388   \n",
       "\n",
       "   cg00153831  cg19458274  APPRDX  \n",
       "0    0.936939    0.015144       1  \n",
       "1    0.916622    0.015374       1  \n",
       "\n",
       "[2 rows x 52 columns]"
      ]
     },
     "execution_count": 68,
     "metadata": {},
     "output_type": "execute_result"
    }
   ],
   "source": [
    "# create a list of column names to subset from data\n",
    "col_names = Top50.iloc[:, 0].tolist()\n",
    "\n",
    "# subset df based on the column names\n",
    "df_subset = data.loc[:, data.columns.isin(col_names)]\n",
    "df_subset['APPRDX'] = data['APPRDX']\n",
    "df_subset.to_csv ('UPSIT_Boruta_Top50_Data_Female.csv', index = False)\n",
    "df_subset.head(2)"
   ]
  },
  {
   "cell_type": "markdown",
   "id": "92bc0dbc",
   "metadata": {},
   "source": [
    "# Urine"
   ]
  },
  {
   "cell_type": "code",
   "execution_count": 69,
   "id": "fe49a059",
   "metadata": {
    "ExecuteTime": {
     "end_time": "2023-02-20T13:00:53.303059Z",
     "start_time": "2023-02-20T13:00:51.231833Z"
    }
   },
   "outputs": [
    {
     "name": "stdout",
     "output_type": "stream",
     "text": [
      "Z:\\PPMI_Data\\Excels\\NonMotors\\Derived250\\Female\\GeneCpG\\Urine\n"
     ]
    },
    {
     "data": {
      "text/html": [
       "<div>\n",
       "<style scoped>\n",
       "    .dataframe tbody tr th:only-of-type {\n",
       "        vertical-align: middle;\n",
       "    }\n",
       "\n",
       "    .dataframe tbody tr th {\n",
       "        vertical-align: top;\n",
       "    }\n",
       "\n",
       "    .dataframe thead th {\n",
       "        text-align: right;\n",
       "    }\n",
       "</style>\n",
       "<table border=\"1\" class=\"dataframe\">\n",
       "  <thead>\n",
       "    <tr style=\"text-align: right;\">\n",
       "      <th></th>\n",
       "      <th>Sentrix</th>\n",
       "      <th>PATNO</th>\n",
       "      <th>Gender</th>\n",
       "      <th>APPRDX</th>\n",
       "      <th>HYS</th>\n",
       "      <th>Age</th>\n",
       "      <th>AgeCate</th>\n",
       "      <th>SCOPA_Urine_Category</th>\n",
       "      <th>cg08012045</th>\n",
       "      <th>cg08300930</th>\n",
       "      <th>...</th>\n",
       "      <th>cg16839933</th>\n",
       "      <th>cg00481999</th>\n",
       "      <th>cg16533561</th>\n",
       "      <th>cg11773570</th>\n",
       "      <th>cg22912011</th>\n",
       "      <th>cg02944422</th>\n",
       "      <th>cg24822140</th>\n",
       "      <th>cg10840597</th>\n",
       "      <th>cg20350952</th>\n",
       "      <th>cg08656747</th>\n",
       "    </tr>\n",
       "  </thead>\n",
       "  <tbody>\n",
       "    <tr>\n",
       "      <th>0</th>\n",
       "      <td>200973410159_R03C01</td>\n",
       "      <td>3000</td>\n",
       "      <td>2</td>\n",
       "      <td>2</td>\n",
       "      <td>0</td>\n",
       "      <td>69.1</td>\n",
       "      <td>4</td>\n",
       "      <td>1</td>\n",
       "      <td>0.964598</td>\n",
       "      <td>0.960974</td>\n",
       "      <td>...</td>\n",
       "      <td>0.227529</td>\n",
       "      <td>0.404628</td>\n",
       "      <td>0.784774</td>\n",
       "      <td>0.287128</td>\n",
       "      <td>0.260995</td>\n",
       "      <td>0.367307</td>\n",
       "      <td>0.166336</td>\n",
       "      <td>0.899156</td>\n",
       "      <td>0.774554</td>\n",
       "      <td>0.453867</td>\n",
       "    </tr>\n",
       "  </tbody>\n",
       "</table>\n",
       "<p>1 rows × 11017 columns</p>\n",
       "</div>"
      ],
      "text/plain": [
       "               Sentrix  PATNO  Gender  APPRDX  HYS   Age  AgeCate  \\\n",
       "0  200973410159_R03C01   3000       2       2    0  69.1        4   \n",
       "\n",
       "   SCOPA_Urine_Category  cg08012045  cg08300930  ...  cg16839933  cg00481999  \\\n",
       "0                     1    0.964598    0.960974  ...    0.227529    0.404628   \n",
       "\n",
       "   cg16533561  cg11773570  cg22912011  cg02944422  cg24822140  cg10840597  \\\n",
       "0    0.784774    0.287128    0.260995    0.367307    0.166336    0.899156   \n",
       "\n",
       "   cg20350952  cg08656747  \n",
       "0    0.774554    0.453867  \n",
       "\n",
       "[1 rows x 11017 columns]"
      ]
     },
     "execution_count": 69,
     "metadata": {},
     "output_type": "execute_result"
    }
   ],
   "source": [
    "%cd Z:\\PPMI_Data\\Excels\\NonMotors\\Derived250\\Female\\GeneCpG\\Urine\n",
    "data = pd.read_csv('UrineCateg_Methylome_Female.csv')\n",
    "data.head(1)"
   ]
  },
  {
   "cell_type": "code",
   "execution_count": 70,
   "id": "a72e8910",
   "metadata": {
    "ExecuteTime": {
     "end_time": "2023-02-20T13:00:54.286125Z",
     "start_time": "2023-02-20T13:00:54.247951Z"
    }
   },
   "outputs": [
    {
     "name": "stdout",
     "output_type": "stream",
     "text": [
      "   cg08012045  cg08300930  cg00134295  cg10537824  cg04990650  cg03379001  \\\n",
      "0    0.964598    0.960974    0.241886    0.852113    0.765526    0.856057   \n",
      "1    0.952757    0.970714    0.227504    0.860591    0.836116    0.863656   \n",
      "\n",
      "   cg02215627  cg06699201  cg18100935  cg19220149  ...  cg16839933  \\\n",
      "0    0.874673    0.798285    0.893820    0.879652  ...    0.227529   \n",
      "1    0.885796    0.741853    0.879686    0.840151  ...    0.232653   \n",
      "\n",
      "   cg00481999  cg16533561  cg11773570  cg22912011  cg02944422  cg24822140  \\\n",
      "0    0.404628    0.784774    0.287128    0.260995    0.367307    0.166336   \n",
      "1    0.357154    0.807268    0.314678    0.244913    0.347417    0.121603   \n",
      "\n",
      "   cg10840597  cg20350952  cg08656747  \n",
      "0    0.899156    0.774554    0.453867  \n",
      "1    0.923040    0.735951    0.457544  \n",
      "\n",
      "[2 rows x 11009 columns]\n"
     ]
    }
   ],
   "source": [
    "X = data.drop(['Sentrix','PATNO','HYS','Gender','Age','AgeCate','SCOPA_Urine_Category','APPRDX'], axis = 1)\n",
    "y = data['APPRDX']\n",
    "X_train, X_test, y_train, y_test = train_test_split(X, y, test_size = .2, random_state = 1) \n",
    "print(X.head(2))"
   ]
  },
  {
   "cell_type": "code",
   "execution_count": 71,
   "id": "f307b41c",
   "metadata": {
    "ExecuteTime": {
     "end_time": "2023-02-20T13:00:56.376478Z",
     "start_time": "2023-02-20T13:00:55.916032Z"
    }
   },
   "outputs": [
    {
     "data": {
      "text/plain": [
       "RandomForestClassifier(random_state=1)"
      ]
     },
     "execution_count": 71,
     "metadata": {},
     "output_type": "execute_result"
    }
   ],
   "source": [
    "rf_all_features = RandomForestClassifier(random_state=1)\n",
    "rf_all_features.fit(X_train, y_train)"
   ]
  },
  {
   "cell_type": "code",
   "execution_count": 72,
   "id": "64af4b66",
   "metadata": {
    "ExecuteTime": {
     "end_time": "2023-02-20T13:00:57.582672Z",
     "start_time": "2023-02-20T13:00:57.504283Z"
    }
   },
   "outputs": [
    {
     "data": {
      "text/plain": [
       "0.8333333333333334"
      ]
     },
     "execution_count": 72,
     "metadata": {},
     "output_type": "execute_result"
    }
   ],
   "source": [
    "accuracy_score(y_test, rf_all_features.predict(X_test))"
   ]
  },
  {
   "cell_type": "code",
   "execution_count": 73,
   "id": "77e1b700",
   "metadata": {
    "ExecuteTime": {
     "end_time": "2023-02-20T13:02:06.088497Z",
     "start_time": "2023-02-20T13:00:59.716181Z"
    }
   },
   "outputs": [
    {
     "name": "stdout",
     "output_type": "stream",
     "text": [
      "Iteration: 1 / 100\n",
      "Iteration: 2 / 100\n",
      "Iteration: 3 / 100\n",
      "Iteration: 4 / 100\n",
      "Iteration: 5 / 100\n",
      "Iteration: 6 / 100\n",
      "Iteration: 7 / 100\n",
      "Iteration: 8 / 100\n",
      "Iteration: 9 / 100\n",
      "Iteration: 10 / 100\n",
      "Iteration: 11 / 100\n",
      "Iteration: 12 / 100\n",
      "Iteration: 13 / 100\n",
      "Iteration: 14 / 100\n",
      "Iteration: 15 / 100\n",
      "Iteration: 16 / 100\n",
      "Iteration: 17 / 100\n",
      "Iteration: 18 / 100\n",
      "Iteration: 19 / 100\n",
      "Iteration: 20 / 100\n",
      "Iteration: 21 / 100\n",
      "Iteration: 22 / 100\n",
      "Iteration: 23 / 100\n",
      "Iteration: 24 / 100\n",
      "Iteration: 25 / 100\n",
      "Iteration: 26 / 100\n",
      "Iteration: 27 / 100\n",
      "Iteration: 28 / 100\n",
      "Iteration: 29 / 100\n",
      "Iteration: 30 / 100\n",
      "Iteration: 31 / 100\n",
      "Iteration: 32 / 100\n",
      "Iteration: 33 / 100\n",
      "Iteration: 34 / 100\n",
      "Iteration: 35 / 100\n",
      "Iteration: 36 / 100\n",
      "Iteration: 37 / 100\n",
      "Iteration: 38 / 100\n",
      "Iteration: 39 / 100\n",
      "Iteration: 40 / 100\n",
      "Iteration: 41 / 100\n",
      "Iteration: 42 / 100\n",
      "Iteration: 43 / 100\n",
      "Iteration: 44 / 100\n",
      "Iteration: 45 / 100\n",
      "Iteration: 46 / 100\n",
      "Iteration: 47 / 100\n",
      "Iteration: 48 / 100\n",
      "Iteration: 49 / 100\n",
      "Iteration: 50 / 100\n",
      "Iteration: 51 / 100\n",
      "\n",
      "\n",
      "BorutaPy finished running.\n",
      "\n",
      "Iteration: \t52 / 100\n",
      "Confirmed: \t2\n",
      "Tentative: \t0\n",
      "Rejected: \t11007\n"
     ]
    },
    {
     "data": {
      "text/plain": [
       "BorutaPy(estimator=RandomForestClassifier(n_estimators=20,\n",
       "                                          random_state=RandomState(MT19937) at 0x1BB34BD9C40),\n",
       "         n_estimators='auto',\n",
       "         random_state=RandomState(MT19937) at 0x1BB34BD9C40, verbose=1)"
      ]
     },
     "execution_count": 73,
     "metadata": {},
     "output_type": "execute_result"
    }
   ],
   "source": [
    "rfc = RandomForestClassifier(random_state=1)\n",
    "boruta_selector = BorutaPy(rfc, n_estimators= 'auto', verbose=1, random_state=2)\n",
    "boruta_selector.fit(np.array(X_train), np.array(y_train))  "
   ]
  },
  {
   "cell_type": "code",
   "execution_count": 74,
   "id": "028e207d",
   "metadata": {
    "ExecuteTime": {
     "end_time": "2023-02-20T13:02:08.521060Z",
     "start_time": "2023-02-20T13:02:08.492933Z"
    }
   },
   "outputs": [
    {
     "name": "stdout",
     "output_type": "stream",
     "text": [
      "No. of significant features:  2\n"
     ]
    }
   ],
   "source": [
    "# print(\"Ranking: \",boruta_selector.ranking_)          \n",
    "print(\"No. of significant features: \", boruta_selector.n_features_)"
   ]
  },
  {
   "cell_type": "code",
   "execution_count": 75,
   "id": "84d0738c",
   "metadata": {
    "ExecuteTime": {
     "end_time": "2023-02-20T13:02:10.614257Z",
     "start_time": "2023-02-20T13:02:10.596088Z"
    }
   },
   "outputs": [],
   "source": [
    "selected_rf_features = pd.DataFrame({'CpG':list(X_train.columns),\n",
    "                                       'Ranking':boruta_selector.ranking_})\n",
    "selected_rf_features = selected_rf_features.sort_values(by='Ranking')"
   ]
  },
  {
   "cell_type": "code",
   "execution_count": 76,
   "id": "931abe1b",
   "metadata": {
    "ExecuteTime": {
     "end_time": "2023-02-20T13:02:11.763723Z",
     "start_time": "2023-02-20T13:02:11.745603Z"
    }
   },
   "outputs": [
    {
     "data": {
      "text/html": [
       "<div>\n",
       "<style scoped>\n",
       "    .dataframe tbody tr th:only-of-type {\n",
       "        vertical-align: middle;\n",
       "    }\n",
       "\n",
       "    .dataframe tbody tr th {\n",
       "        vertical-align: top;\n",
       "    }\n",
       "\n",
       "    .dataframe thead th {\n",
       "        text-align: right;\n",
       "    }\n",
       "</style>\n",
       "<table border=\"1\" class=\"dataframe\">\n",
       "  <thead>\n",
       "    <tr style=\"text-align: right;\">\n",
       "      <th></th>\n",
       "      <th>CpG</th>\n",
       "      <th>Ranking</th>\n",
       "    </tr>\n",
       "  </thead>\n",
       "  <tbody>\n",
       "    <tr>\n",
       "      <th>2909</th>\n",
       "      <td>cg25909697</td>\n",
       "      <td>1</td>\n",
       "    </tr>\n",
       "    <tr>\n",
       "      <th>6945</th>\n",
       "      <td>cg06996696</td>\n",
       "      <td>1</td>\n",
       "    </tr>\n",
       "    <tr>\n",
       "      <th>7911</th>\n",
       "      <td>cg23275623</td>\n",
       "      <td>2</td>\n",
       "    </tr>\n",
       "  </tbody>\n",
       "</table>\n",
       "</div>"
      ],
      "text/plain": [
       "             CpG  Ranking\n",
       "2909  cg25909697        1\n",
       "6945  cg06996696        1\n",
       "7911  cg23275623        2"
      ]
     },
     "execution_count": 76,
     "metadata": {},
     "output_type": "execute_result"
    }
   ],
   "source": [
    "Top50 = selected_rf_features.iloc[:51, :]\n",
    "Top50.head(3)"
   ]
  },
  {
   "cell_type": "code",
   "execution_count": 77,
   "id": "85a82beb",
   "metadata": {
    "ExecuteTime": {
     "end_time": "2023-02-20T13:02:12.916648Z",
     "start_time": "2023-02-20T13:02:12.735485Z"
    }
   },
   "outputs": [],
   "source": [
    "Top50.to_csv ('Urine_BorutaFemale_Top50.csv', index = False)\n",
    "selected_rf_features.to_csv ('Urine_BorutaFemale_All.csv', index = False)"
   ]
  },
  {
   "cell_type": "code",
   "execution_count": 78,
   "id": "34bed1c4",
   "metadata": {
    "ExecuteTime": {
     "end_time": "2023-02-20T13:02:14.060192Z",
     "start_time": "2023-02-20T13:02:13.912966Z"
    }
   },
   "outputs": [
    {
     "name": "stderr",
     "output_type": "stream",
     "text": [
      "C:\\Users\\system 4\\AppData\\Local\\Temp\\ipykernel_2992\\2989198814.py:6: SettingWithCopyWarning: \n",
      "A value is trying to be set on a copy of a slice from a DataFrame.\n",
      "Try using .loc[row_indexer,col_indexer] = value instead\n",
      "\n",
      "See the caveats in the documentation: https://pandas.pydata.org/pandas-docs/stable/user_guide/indexing.html#returning-a-view-versus-a-copy\n",
      "  df_subset['APPRDX'] = data['APPRDX']\n"
     ]
    },
    {
     "data": {
      "text/html": [
       "<div>\n",
       "<style scoped>\n",
       "    .dataframe tbody tr th:only-of-type {\n",
       "        vertical-align: middle;\n",
       "    }\n",
       "\n",
       "    .dataframe tbody tr th {\n",
       "        vertical-align: top;\n",
       "    }\n",
       "\n",
       "    .dataframe thead th {\n",
       "        text-align: right;\n",
       "    }\n",
       "</style>\n",
       "<table border=\"1\" class=\"dataframe\">\n",
       "  <thead>\n",
       "    <tr style=\"text-align: right;\">\n",
       "      <th></th>\n",
       "      <th>cg07567767</th>\n",
       "      <th>cg07150866</th>\n",
       "      <th>cg21230719</th>\n",
       "      <th>cg11499262</th>\n",
       "      <th>cg22982510</th>\n",
       "      <th>cg06893785</th>\n",
       "      <th>cg01507046</th>\n",
       "      <th>cg20258154</th>\n",
       "      <th>ch.12.2471797R</th>\n",
       "      <th>cg21909650</th>\n",
       "      <th>...</th>\n",
       "      <th>cg25186332</th>\n",
       "      <th>cg07924503</th>\n",
       "      <th>cg03913050</th>\n",
       "      <th>cg12372912</th>\n",
       "      <th>cg09705253</th>\n",
       "      <th>cg10029130</th>\n",
       "      <th>cg27193204</th>\n",
       "      <th>cg15567507</th>\n",
       "      <th>cg17165848</th>\n",
       "      <th>APPRDX</th>\n",
       "    </tr>\n",
       "  </thead>\n",
       "  <tbody>\n",
       "    <tr>\n",
       "      <th>0</th>\n",
       "      <td>0.951552</td>\n",
       "      <td>0.915648</td>\n",
       "      <td>0.87687</td>\n",
       "      <td>0.871552</td>\n",
       "      <td>0.913168</td>\n",
       "      <td>0.876917</td>\n",
       "      <td>0.025490</td>\n",
       "      <td>0.015710</td>\n",
       "      <td>0.029217</td>\n",
       "      <td>0.938274</td>\n",
       "      <td>...</td>\n",
       "      <td>0.917926</td>\n",
       "      <td>0.289985</td>\n",
       "      <td>0.154252</td>\n",
       "      <td>0.919962</td>\n",
       "      <td>0.908398</td>\n",
       "      <td>0.054931</td>\n",
       "      <td>0.878167</td>\n",
       "      <td>0.906558</td>\n",
       "      <td>0.065619</td>\n",
       "      <td>2</td>\n",
       "    </tr>\n",
       "    <tr>\n",
       "      <th>1</th>\n",
       "      <td>0.957475</td>\n",
       "      <td>0.914869</td>\n",
       "      <td>0.86454</td>\n",
       "      <td>0.848403</td>\n",
       "      <td>0.887058</td>\n",
       "      <td>0.840248</td>\n",
       "      <td>0.021505</td>\n",
       "      <td>0.016806</td>\n",
       "      <td>0.024404</td>\n",
       "      <td>0.896688</td>\n",
       "      <td>...</td>\n",
       "      <td>0.887484</td>\n",
       "      <td>0.300905</td>\n",
       "      <td>0.182643</td>\n",
       "      <td>0.908645</td>\n",
       "      <td>0.906041</td>\n",
       "      <td>0.067078</td>\n",
       "      <td>0.879973</td>\n",
       "      <td>0.891626</td>\n",
       "      <td>0.042422</td>\n",
       "      <td>1</td>\n",
       "    </tr>\n",
       "  </tbody>\n",
       "</table>\n",
       "<p>2 rows × 52 columns</p>\n",
       "</div>"
      ],
      "text/plain": [
       "   cg07567767  cg07150866  cg21230719  cg11499262  cg22982510  cg06893785  \\\n",
       "0    0.951552    0.915648     0.87687    0.871552    0.913168    0.876917   \n",
       "1    0.957475    0.914869     0.86454    0.848403    0.887058    0.840248   \n",
       "\n",
       "   cg01507046  cg20258154  ch.12.2471797R  cg21909650  ...  cg25186332  \\\n",
       "0    0.025490    0.015710        0.029217    0.938274  ...    0.917926   \n",
       "1    0.021505    0.016806        0.024404    0.896688  ...    0.887484   \n",
       "\n",
       "   cg07924503  cg03913050  cg12372912  cg09705253  cg10029130  cg27193204  \\\n",
       "0    0.289985    0.154252    0.919962    0.908398    0.054931    0.878167   \n",
       "1    0.300905    0.182643    0.908645    0.906041    0.067078    0.879973   \n",
       "\n",
       "   cg15567507  cg17165848  APPRDX  \n",
       "0    0.906558    0.065619       2  \n",
       "1    0.891626    0.042422       1  \n",
       "\n",
       "[2 rows x 52 columns]"
      ]
     },
     "execution_count": 78,
     "metadata": {},
     "output_type": "execute_result"
    }
   ],
   "source": [
    "# create a list of column names to subset from data\n",
    "col_names = Top50.iloc[:, 0].tolist()\n",
    "\n",
    "# subset df based on the column names\n",
    "df_subset = data.loc[:, data.columns.isin(col_names)]\n",
    "df_subset['APPRDX'] = data['APPRDX']\n",
    "df_subset.to_csv ('Urine_Boruta_Top50_Data_Female.csv', index = False)\n",
    "df_subset.head(2)"
   ]
  },
  {
   "cell_type": "code",
   "execution_count": null,
   "id": "2d4429d9",
   "metadata": {},
   "outputs": [],
   "source": []
  }
 ],
 "metadata": {
  "kernelspec": {
   "display_name": "Python 3 (ipykernel)",
   "language": "python",
   "name": "python3"
  },
  "language_info": {
   "codemirror_mode": {
    "name": "ipython",
    "version": 3
   },
   "file_extension": ".py",
   "mimetype": "text/x-python",
   "name": "python",
   "nbconvert_exporter": "python",
   "pygments_lexer": "ipython3",
   "version": "3.9.16"
  },
  "toc": {
   "base_numbering": 1,
   "nav_menu": {},
   "number_sections": true,
   "sideBar": true,
   "skip_h1_title": false,
   "title_cell": "Table of Contents",
   "title_sidebar": "Contents",
   "toc_cell": false,
   "toc_position": {},
   "toc_section_display": true,
   "toc_window_display": false
  },
  "varInspector": {
   "cols": {
    "lenName": 16,
    "lenType": 16,
    "lenVar": 40
   },
   "kernels_config": {
    "python": {
     "delete_cmd_postfix": "",
     "delete_cmd_prefix": "del ",
     "library": "var_list.py",
     "varRefreshCmd": "print(var_dic_list())"
    },
    "r": {
     "delete_cmd_postfix": ") ",
     "delete_cmd_prefix": "rm(",
     "library": "var_list.r",
     "varRefreshCmd": "cat(var_dic_list()) "
    }
   },
   "types_to_exclude": [
    "module",
    "function",
    "builtin_function_or_method",
    "instance",
    "_Feature"
   ],
   "window_display": false
  }
 },
 "nbformat": 4,
 "nbformat_minor": 5
}
