{
 "cells": [
  {
   "cell_type": "markdown",
   "metadata": {
    "colab_type": "text",
    "id": "0MRC0e0KhQ0S"
   },
   "source": [
    "# Random Forest Classification"
   ]
  },
  {
   "cell_type": "code",
   "execution_count": 1,
   "metadata": {
    "ExecuteTime": {
     "end_time": "2023-01-14T11:54:33.109631Z",
     "start_time": "2023-01-14T11:54:31.367148Z"
    },
    "colab": {},
    "colab_type": "code",
    "id": "YvGPUQaHhXfL"
   },
   "outputs": [],
   "source": [
    "import random\n",
    "import numpy as np\n",
    "import pandas as pd\n",
    "import seaborn as sn\n",
    "from numpy import std\n",
    "from numpy import mean\n",
    "import matplotlib.pyplot as plt\n",
    "from sklearn.datasets import make_classification\n",
    "from sklearn.preprocessing import StandardScaler\n",
    "from sklearn.model_selection import cross_val_score\n",
    "from sklearn.ensemble import RandomForestClassifier\n",
    "from sklearn.model_selection import train_test_split\n",
    "from sklearn.model_selection import RepeatedStratifiedKFold\n",
    "from sklearn.metrics import confusion_matrix, accuracy_score\n",
    "%matplotlib inline"
   ]
  },
  {
   "cell_type": "markdown",
   "metadata": {},
   "source": [
    "## RanFor 100 times, CpG only "
   ]
  },
  {
   "cell_type": "code",
   "execution_count": 2,
   "metadata": {
    "ExecuteTime": {
     "end_time": "2023-01-14T11:54:33.172085Z",
     "start_time": "2023-01-14T11:54:33.109631Z"
    },
    "scrolled": true
   },
   "outputs": [
    {
     "name": "stdout",
     "output_type": "stream",
     "text": [
      "Z:\\PPMI_Data\\Excels\\NonMotors\\Derived250\\GeneCpG\\Xtras\\CommonCpG_Data_12CommonFeats\n",
      "(216, 55)\n"
     ]
    },
    {
     "data": {
      "text/html": [
       "<div>\n",
       "<style scoped>\n",
       "    .dataframe tbody tr th:only-of-type {\n",
       "        vertical-align: middle;\n",
       "    }\n",
       "\n",
       "    .dataframe tbody tr th {\n",
       "        vertical-align: top;\n",
       "    }\n",
       "\n",
       "    .dataframe thead th {\n",
       "        text-align: right;\n",
       "    }\n",
       "</style>\n",
       "<table border=\"1\" class=\"dataframe\">\n",
       "  <thead>\n",
       "    <tr style=\"text-align: right;\">\n",
       "      <th></th>\n",
       "      <th>APPRDX</th>\n",
       "      <th>cg00377727</th>\n",
       "      <th>cg19371224</th>\n",
       "      <th>cg12298429</th>\n",
       "      <th>cg12600134</th>\n",
       "      <th>cg21921473</th>\n",
       "      <th>cg06257360</th>\n",
       "      <th>cg12044671</th>\n",
       "      <th>cg03424478</th>\n",
       "      <th>cg06650206</th>\n",
       "      <th>...</th>\n",
       "      <th>cg05142211</th>\n",
       "      <th>cg13959611</th>\n",
       "      <th>cg04875789</th>\n",
       "      <th>cg03682895</th>\n",
       "      <th>cg18322516</th>\n",
       "      <th>cg24215869</th>\n",
       "      <th>cg03827764</th>\n",
       "      <th>cg24628866</th>\n",
       "      <th>cg10061292</th>\n",
       "      <th>cg00260798</th>\n",
       "    </tr>\n",
       "  </thead>\n",
       "  <tbody>\n",
       "    <tr>\n",
       "      <th>0</th>\n",
       "      <td>1</td>\n",
       "      <td>0.9233</td>\n",
       "      <td>0.7516</td>\n",
       "      <td>0.0328</td>\n",
       "      <td>0.0253</td>\n",
       "      <td>0.832439</td>\n",
       "      <td>0.9000</td>\n",
       "      <td>0.8694</td>\n",
       "      <td>0.030953</td>\n",
       "      <td>0.878158</td>\n",
       "      <td>...</td>\n",
       "      <td>0.035018</td>\n",
       "      <td>0.044262</td>\n",
       "      <td>0.042940</td>\n",
       "      <td>0.902725</td>\n",
       "      <td>0.930379</td>\n",
       "      <td>0.345836</td>\n",
       "      <td>0.918298</td>\n",
       "      <td>0.918421</td>\n",
       "      <td>0.013281</td>\n",
       "      <td>0.885679</td>\n",
       "    </tr>\n",
       "    <tr>\n",
       "      <th>1</th>\n",
       "      <td>1</td>\n",
       "      <td>0.6787</td>\n",
       "      <td>0.8603</td>\n",
       "      <td>0.0335</td>\n",
       "      <td>0.0165</td>\n",
       "      <td>0.687594</td>\n",
       "      <td>0.9264</td>\n",
       "      <td>0.7672</td>\n",
       "      <td>0.024719</td>\n",
       "      <td>0.899908</td>\n",
       "      <td>...</td>\n",
       "      <td>0.019257</td>\n",
       "      <td>0.046769</td>\n",
       "      <td>0.021087</td>\n",
       "      <td>0.905745</td>\n",
       "      <td>0.932127</td>\n",
       "      <td>0.274905</td>\n",
       "      <td>0.930904</td>\n",
       "      <td>0.909054</td>\n",
       "      <td>0.012895</td>\n",
       "      <td>0.903372</td>\n",
       "    </tr>\n",
       "  </tbody>\n",
       "</table>\n",
       "<p>2 rows × 55 columns</p>\n",
       "</div>"
      ],
      "text/plain": [
       "   APPRDX  cg00377727  cg19371224  cg12298429  cg12600134  cg21921473  \\\n",
       "0       1      0.9233      0.7516      0.0328      0.0253    0.832439   \n",
       "1       1      0.6787      0.8603      0.0335      0.0165    0.687594   \n",
       "\n",
       "   cg06257360  cg12044671  cg03424478  cg06650206  ...  cg05142211  \\\n",
       "0      0.9000      0.8694    0.030953    0.878158  ...    0.035018   \n",
       "1      0.9264      0.7672    0.024719    0.899908  ...    0.019257   \n",
       "\n",
       "   cg13959611  cg04875789  cg03682895  cg18322516  cg24215869  cg03827764  \\\n",
       "0    0.044262    0.042940    0.902725    0.930379    0.345836    0.918298   \n",
       "1    0.046769    0.021087    0.905745    0.932127    0.274905    0.930904   \n",
       "\n",
       "   cg24628866  cg10061292  cg00260798  \n",
       "0    0.918421    0.013281    0.885679  \n",
       "1    0.909054    0.012895    0.903372  \n",
       "\n",
       "[2 rows x 55 columns]"
      ]
     },
     "execution_count": 2,
     "metadata": {},
     "output_type": "execute_result"
    }
   ],
   "source": [
    "%cd Z:\\PPMI_Data\\Excels\\NonMotors\\Derived250\\GeneCpG\\Xtras\\CommonCpG_Data_12CommonFeats\n",
    "df = pd.read_csv('CommonCpG_ofEachFeats.csv')\n",
    "df = df.drop(['PATNO'], axis=1)\n",
    "print(df.shape)\n",
    "df.head(2)"
   ]
  },
  {
   "cell_type": "code",
   "execution_count": 3,
   "metadata": {
    "ExecuteTime": {
     "end_time": "2023-01-14T11:55:36.781693Z",
     "start_time": "2023-01-14T11:54:33.172085Z"
    }
   },
   "outputs": [
    {
     "name": "stdout",
     "output_type": "stream",
     "text": [
      "1\n",
      "2\n",
      "3\n",
      "4\n",
      "5\n",
      "6\n",
      "7\n",
      "8\n",
      "9\n",
      "10\n",
      "11\n",
      "12\n",
      "13\n",
      "14\n",
      "15\n",
      "16\n",
      "17\n",
      "18\n",
      "19\n",
      "20\n",
      "21\n",
      "22\n",
      "23\n",
      "24\n",
      "25\n",
      "26\n",
      "27\n",
      "28\n",
      "29\n",
      "30\n",
      "31\n",
      "32\n",
      "33\n",
      "34\n",
      "35\n",
      "36\n",
      "37\n",
      "38\n",
      "39\n",
      "40\n",
      "41\n",
      "42\n",
      "43\n",
      "44\n",
      "45\n",
      "46\n",
      "47\n",
      "48\n",
      "49\n",
      "50\n",
      "51\n",
      "52\n",
      "53\n",
      "54\n",
      "55\n",
      "56\n",
      "57\n",
      "58\n",
      "59\n",
      "60\n",
      "61\n",
      "62\n",
      "63\n",
      "64\n",
      "65\n",
      "66\n",
      "67\n",
      "68\n",
      "69\n",
      "70\n",
      "71\n",
      "72\n",
      "73\n",
      "74\n",
      "75\n",
      "76\n",
      "77\n",
      "78\n",
      "79\n",
      "80\n",
      "81\n",
      "82\n",
      "83\n",
      "84\n",
      "85\n",
      "86\n",
      "87\n",
      "88\n",
      "89\n",
      "90\n",
      "91\n",
      "92\n",
      "93\n",
      "94\n",
      "95\n",
      "96\n",
      "97\n",
      "98\n",
      "99\n",
      "100\n"
     ]
    }
   ],
   "source": [
    "np.random.seed (1)\n",
    "dframe1 = pd.DataFrame(columns=['Accuracy', 'Std_Dev'])\n",
    "for i in range (1,101) :\n",
    "        print(i)\n",
    "        dataset = df.groupby('APPRDX').apply(lambda x: x.sample(60))\n",
    "        X = dataset.iloc[:, 1:].values\n",
    "        y = dataset.iloc[:, 0].values\n",
    "        classifier = RandomForestClassifier(n_estimators = 100, criterion = 'entropy', random_state = 1)\n",
    "        cv = RepeatedStratifiedKFold(n_splits=10, n_repeats=1, random_state=1)\n",
    "        n_scores = cross_val_score(classifier, X, y, scoring='accuracy', cv=cv, n_jobs=-1, error_score='raise')\n",
    "        dframe1 = dframe1.append({'Accuracy': mean(n_scores), 'Std_Dev': std(n_scores)}, ignore_index=True)\n"
   ]
  },
  {
   "cell_type": "code",
   "execution_count": 4,
   "metadata": {
    "ExecuteTime": {
     "end_time": "2023-01-14T11:55:36.812968Z",
     "start_time": "2023-01-14T11:55:36.781693Z"
    }
   },
   "outputs": [
    {
     "name": "stdout",
     "output_type": "stream",
     "text": [
      "   Accuracy   Std_Dev\n",
      "0  0.708333  0.150231\n",
      "1  0.700000  0.113039\n"
     ]
    }
   ],
   "source": [
    "print(dframe1.head(2))\n",
    "dframe1.to_csv (\"Common54Cpg_eachFeats_Accuracy_100RF.csv\", index=False)"
   ]
  }
 ],
 "metadata": {
  "colab": {
   "authorship_tag": "ABX9TyPA7K2PAkEFgaKFIvslUMEc",
   "collapsed_sections": [],
   "machine_shape": "hm",
   "name": "random_forest_classification.ipynb",
   "provenance": [],
   "toc_visible": true
  },
  "kernelspec": {
   "display_name": "Python 3 (ipykernel)",
   "language": "python",
   "name": "python3"
  },
  "language_info": {
   "codemirror_mode": {
    "name": "ipython",
    "version": 3
   },
   "file_extension": ".py",
   "mimetype": "text/x-python",
   "name": "python",
   "nbconvert_exporter": "python",
   "pygments_lexer": "ipython3",
   "version": "3.9.7"
  },
  "toc": {
   "base_numbering": 1,
   "nav_menu": {},
   "number_sections": true,
   "sideBar": true,
   "skip_h1_title": false,
   "title_cell": "Table of Contents",
   "title_sidebar": "Contents",
   "toc_cell": false,
   "toc_position": {},
   "toc_section_display": true,
   "toc_window_display": false
  },
  "varInspector": {
   "cols": {
    "lenName": 16,
    "lenType": 16,
    "lenVar": 40
   },
   "kernels_config": {
    "python": {
     "delete_cmd_postfix": "",
     "delete_cmd_prefix": "del ",
     "library": "var_list.py",
     "varRefreshCmd": "print(var_dic_list())"
    },
    "r": {
     "delete_cmd_postfix": ") ",
     "delete_cmd_prefix": "rm(",
     "library": "var_list.r",
     "varRefreshCmd": "cat(var_dic_list()) "
    }
   },
   "types_to_exclude": [
    "module",
    "function",
    "builtin_function_or_method",
    "instance",
    "_Feature"
   ],
   "window_display": false
  }
 },
 "nbformat": 4,
 "nbformat_minor": 1
}
