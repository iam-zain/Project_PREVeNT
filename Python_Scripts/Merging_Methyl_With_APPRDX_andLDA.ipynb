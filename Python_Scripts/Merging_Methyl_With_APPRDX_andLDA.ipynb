{
 "cells": [
  {
   "cell_type": "code",
   "execution_count": 31,
   "id": "227733c0",
   "metadata": {
    "ExecuteTime": {
     "end_time": "2022-10-18T17:58:32.671090Z",
     "start_time": "2022-10-18T17:58:31.918730Z"
    },
    "run_control": {
     "marked": false
    },
    "scrolled": true
   },
   "outputs": [],
   "source": [
    "import pandas as pd\n",
    "import numpy as np\n",
    "from sklearn.discriminant_analysis import LinearDiscriminantAnalysis as LDA\n",
    "from sklearn import preprocessing\n",
    "import matplotlib.pyplot as plt\n",
    "from sklearn.model_selection import train_test_split\n",
    "from sklearn.preprocessing import StandardScaler\n",
    "from sklearn.ensemble import RandomForestClassifier\n",
    "from sklearn import metrics\n",
    "import seaborn as sns"
   ]
  },
  {
   "cell_type": "code",
   "execution_count": 2,
   "id": "0ebb8ca7",
   "metadata": {
    "ExecuteTime": {
     "end_time": "2022-10-18T17:31:39.047657Z",
     "start_time": "2022-10-18T17:27:53.214880Z"
    },
    "scrolled": true
   },
   "outputs": [
    {
     "name": "stdout",
     "output_type": "stream",
     "text": [
      "Z:\\PPMI_Data\\Excel_Data\n"
     ]
    },
    {
     "data": {
      "text/html": [
       "<div>\n",
       "<style scoped>\n",
       "    .dataframe tbody tr th:only-of-type {\n",
       "        vertical-align: middle;\n",
       "    }\n",
       "\n",
       "    .dataframe tbody tr th {\n",
       "        vertical-align: top;\n",
       "    }\n",
       "\n",
       "    .dataframe thead th {\n",
       "        text-align: right;\n",
       "    }\n",
       "</style>\n",
       "<table border=\"1\" class=\"dataframe\">\n",
       "  <thead>\n",
       "    <tr style=\"text-align: right;\">\n",
       "      <th></th>\n",
       "      <th>200973410159_R03C01</th>\n",
       "      <th>200991620021_R01C01</th>\n",
       "      <th>200991620021_R03C01</th>\n",
       "      <th>200989060105_R03C01</th>\n",
       "      <th>200989060135_R07C01</th>\n",
       "      <th>200989060162_R04C01</th>\n",
       "      <th>200973410167_R04C01</th>\n",
       "      <th>200973410143_R01C01</th>\n",
       "      <th>200973410143_R06C01</th>\n",
       "      <th>200973410167_R05C01</th>\n",
       "      <th>...</th>\n",
       "      <th>200989060089_R02C01</th>\n",
       "      <th>200989060089_R01C01</th>\n",
       "      <th>200989060089_R04C01</th>\n",
       "      <th>200973410143_R08C01</th>\n",
       "      <th>200973410143_R07C01</th>\n",
       "      <th>200989060089_R03C01</th>\n",
       "      <th>200989060150_R04C01</th>\n",
       "      <th>200989060150_R05C01</th>\n",
       "      <th>200989060150_R06C01</th>\n",
       "      <th>200991620049_R08C01</th>\n",
       "    </tr>\n",
       "  </thead>\n",
       "  <tbody>\n",
       "    <tr>\n",
       "      <th>cg14817997</th>\n",
       "      <td>0.8340</td>\n",
       "      <td>0.8492</td>\n",
       "      <td>0.7730</td>\n",
       "      <td>0.8853</td>\n",
       "      <td>0.7725</td>\n",
       "      <td>0.7564</td>\n",
       "      <td>0.7198</td>\n",
       "      <td>0.7759</td>\n",
       "      <td>0.7689</td>\n",
       "      <td>0.7594</td>\n",
       "      <td>...</td>\n",
       "      <td>0.7882</td>\n",
       "      <td>0.8389</td>\n",
       "      <td>0.8453</td>\n",
       "      <td>0.7704</td>\n",
       "      <td>0.8529</td>\n",
       "      <td>0.7838</td>\n",
       "      <td>0.8069</td>\n",
       "      <td>0.8757</td>\n",
       "      <td>0.6613</td>\n",
       "      <td>0.7379</td>\n",
       "    </tr>\n",
       "    <tr>\n",
       "      <th>cg26928153</th>\n",
       "      <td>0.9456</td>\n",
       "      <td>0.9485</td>\n",
       "      <td>0.9622</td>\n",
       "      <td>0.9440</td>\n",
       "      <td>0.9263</td>\n",
       "      <td>0.9561</td>\n",
       "      <td>0.9130</td>\n",
       "      <td>0.9560</td>\n",
       "      <td>0.9571</td>\n",
       "      <td>0.8976</td>\n",
       "      <td>...</td>\n",
       "      <td>0.9512</td>\n",
       "      <td>0.9590</td>\n",
       "      <td>0.9571</td>\n",
       "      <td>0.9547</td>\n",
       "      <td>0.9478</td>\n",
       "      <td>0.9581</td>\n",
       "      <td>0.9480</td>\n",
       "      <td>0.9424</td>\n",
       "      <td>0.9550</td>\n",
       "      <td>0.9463</td>\n",
       "    </tr>\n",
       "  </tbody>\n",
       "</table>\n",
       "<p>2 rows × 524 columns</p>\n",
       "</div>"
      ],
      "text/plain": [
       "            200973410159_R03C01  200991620021_R01C01  200991620021_R03C01  \\\n",
       "cg14817997               0.8340               0.8492               0.7730   \n",
       "cg26928153               0.9456               0.9485               0.9622   \n",
       "\n",
       "            200989060105_R03C01  200989060135_R07C01  200989060162_R04C01  \\\n",
       "cg14817997               0.8853               0.7725               0.7564   \n",
       "cg26928153               0.9440               0.9263               0.9561   \n",
       "\n",
       "            200973410167_R04C01  200973410143_R01C01  200973410143_R06C01  \\\n",
       "cg14817997               0.7198               0.7759               0.7689   \n",
       "cg26928153               0.9130               0.9560               0.9571   \n",
       "\n",
       "            200973410167_R05C01  ...  200989060089_R02C01  \\\n",
       "cg14817997               0.7594  ...               0.7882   \n",
       "cg26928153               0.8976  ...               0.9512   \n",
       "\n",
       "            200989060089_R01C01  200989060089_R04C01  200973410143_R08C01  \\\n",
       "cg14817997               0.8389               0.8453               0.7704   \n",
       "cg26928153               0.9590               0.9571               0.9547   \n",
       "\n",
       "            200973410143_R07C01  200989060089_R03C01  200989060150_R04C01  \\\n",
       "cg14817997               0.8529               0.7838               0.8069   \n",
       "cg26928153               0.9478               0.9581               0.9480   \n",
       "\n",
       "            200989060150_R05C01  200989060150_R06C01  200991620049_R08C01  \n",
       "cg14817997               0.8757               0.6613               0.7379  \n",
       "cg26928153               0.9424               0.9550               0.9463  \n",
       "\n",
       "[2 rows x 524 columns]"
      ]
     },
     "execution_count": 2,
     "metadata": {},
     "output_type": "execute_result"
    }
   ],
   "source": [
    "%cd Z:\\PPMI_Data\\Excel_Data\n",
    "df = pd.read_csv (\"beta_post_Funnorm_PPMI_EPICn524final030618.csv\")\n",
    "df = df.round(decimals = 4)\n",
    "df.head(2)\n"
   ]
  },
  {
   "cell_type": "code",
   "execution_count": 3,
   "id": "6caf3efc",
   "metadata": {
    "ExecuteTime": {
     "end_time": "2022-10-18T17:31:39.078877Z",
     "start_time": "2022-10-18T17:31:39.047657Z"
    }
   },
   "outputs": [
    {
     "data": {
      "text/html": [
       "<div>\n",
       "<style scoped>\n",
       "    .dataframe tbody tr th:only-of-type {\n",
       "        vertical-align: middle;\n",
       "    }\n",
       "\n",
       "    .dataframe tbody tr th {\n",
       "        vertical-align: top;\n",
       "    }\n",
       "\n",
       "    .dataframe thead th {\n",
       "        text-align: right;\n",
       "    }\n",
       "</style>\n",
       "<table border=\"1\" class=\"dataframe\">\n",
       "  <thead>\n",
       "    <tr style=\"text-align: right;\">\n",
       "      <th></th>\n",
       "      <th>CpG</th>\n",
       "      <th>200973410159_R03C01</th>\n",
       "      <th>200991620021_R01C01</th>\n",
       "      <th>200991620021_R03C01</th>\n",
       "      <th>200989060105_R03C01</th>\n",
       "      <th>200989060135_R07C01</th>\n",
       "      <th>200989060162_R04C01</th>\n",
       "      <th>200973410167_R04C01</th>\n",
       "      <th>200973410143_R01C01</th>\n",
       "      <th>200973410143_R06C01</th>\n",
       "      <th>...</th>\n",
       "      <th>200989060089_R02C01</th>\n",
       "      <th>200989060089_R01C01</th>\n",
       "      <th>200989060089_R04C01</th>\n",
       "      <th>200973410143_R08C01</th>\n",
       "      <th>200973410143_R07C01</th>\n",
       "      <th>200989060089_R03C01</th>\n",
       "      <th>200989060150_R04C01</th>\n",
       "      <th>200989060150_R05C01</th>\n",
       "      <th>200989060150_R06C01</th>\n",
       "      <th>200991620049_R08C01</th>\n",
       "    </tr>\n",
       "  </thead>\n",
       "  <tbody>\n",
       "    <tr>\n",
       "      <th>0</th>\n",
       "      <td>cg14817997</td>\n",
       "      <td>0.8340</td>\n",
       "      <td>0.8492</td>\n",
       "      <td>0.7730</td>\n",
       "      <td>0.8853</td>\n",
       "      <td>0.7725</td>\n",
       "      <td>0.7564</td>\n",
       "      <td>0.7198</td>\n",
       "      <td>0.7759</td>\n",
       "      <td>0.7689</td>\n",
       "      <td>...</td>\n",
       "      <td>0.7882</td>\n",
       "      <td>0.8389</td>\n",
       "      <td>0.8453</td>\n",
       "      <td>0.7704</td>\n",
       "      <td>0.8529</td>\n",
       "      <td>0.7838</td>\n",
       "      <td>0.8069</td>\n",
       "      <td>0.8757</td>\n",
       "      <td>0.6613</td>\n",
       "      <td>0.7379</td>\n",
       "    </tr>\n",
       "    <tr>\n",
       "      <th>1</th>\n",
       "      <td>cg26928153</td>\n",
       "      <td>0.9456</td>\n",
       "      <td>0.9485</td>\n",
       "      <td>0.9622</td>\n",
       "      <td>0.9440</td>\n",
       "      <td>0.9263</td>\n",
       "      <td>0.9561</td>\n",
       "      <td>0.9130</td>\n",
       "      <td>0.9560</td>\n",
       "      <td>0.9571</td>\n",
       "      <td>...</td>\n",
       "      <td>0.9512</td>\n",
       "      <td>0.9590</td>\n",
       "      <td>0.9571</td>\n",
       "      <td>0.9547</td>\n",
       "      <td>0.9478</td>\n",
       "      <td>0.9581</td>\n",
       "      <td>0.9480</td>\n",
       "      <td>0.9424</td>\n",
       "      <td>0.9550</td>\n",
       "      <td>0.9463</td>\n",
       "    </tr>\n",
       "  </tbody>\n",
       "</table>\n",
       "<p>2 rows × 525 columns</p>\n",
       "</div>"
      ],
      "text/plain": [
       "          CpG  200973410159_R03C01  200991620021_R01C01  200991620021_R03C01  \\\n",
       "0  cg14817997               0.8340               0.8492               0.7730   \n",
       "1  cg26928153               0.9456               0.9485               0.9622   \n",
       "\n",
       "   200989060105_R03C01  200989060135_R07C01  200989060162_R04C01  \\\n",
       "0               0.8853               0.7725               0.7564   \n",
       "1               0.9440               0.9263               0.9561   \n",
       "\n",
       "   200973410167_R04C01  200973410143_R01C01  200973410143_R06C01  ...  \\\n",
       "0               0.7198               0.7759               0.7689  ...   \n",
       "1               0.9130               0.9560               0.9571  ...   \n",
       "\n",
       "   200989060089_R02C01  200989060089_R01C01  200989060089_R04C01  \\\n",
       "0               0.7882               0.8389               0.8453   \n",
       "1               0.9512               0.9590               0.9571   \n",
       "\n",
       "   200973410143_R08C01  200973410143_R07C01  200989060089_R03C01  \\\n",
       "0               0.7704               0.8529               0.7838   \n",
       "1               0.9547               0.9478               0.9581   \n",
       "\n",
       "   200989060150_R04C01  200989060150_R05C01  200989060150_R06C01  \\\n",
       "0               0.8069               0.8757               0.6613   \n",
       "1               0.9480               0.9424               0.9550   \n",
       "\n",
       "   200991620049_R08C01  \n",
       "0               0.7379  \n",
       "1               0.9463  \n",
       "\n",
       "[2 rows x 525 columns]"
      ]
     },
     "execution_count": 3,
     "metadata": {},
     "output_type": "execute_result"
    }
   ],
   "source": [
    "df.index.name ='CpG'\n",
    "df.reset_index(inplace=True)\n",
    "df.head(2)"
   ]
  },
  {
   "cell_type": "code",
   "execution_count": 4,
   "id": "806357ca",
   "metadata": {
    "ExecuteTime": {
     "end_time": "2022-10-18T17:32:47.743474Z",
     "start_time": "2022-10-18T17:31:39.078877Z"
    }
   },
   "outputs": [
    {
     "data": {
      "text/html": [
       "<div>\n",
       "<style scoped>\n",
       "    .dataframe tbody tr th:only-of-type {\n",
       "        vertical-align: middle;\n",
       "    }\n",
       "\n",
       "    .dataframe tbody tr th {\n",
       "        vertical-align: top;\n",
       "    }\n",
       "\n",
       "    .dataframe thead th {\n",
       "        text-align: right;\n",
       "    }\n",
       "</style>\n",
       "<table border=\"1\" class=\"dataframe\">\n",
       "  <thead>\n",
       "    <tr style=\"text-align: right;\">\n",
       "      <th></th>\n",
       "      <th>0</th>\n",
       "      <th>1</th>\n",
       "      <th>2</th>\n",
       "      <th>3</th>\n",
       "      <th>4</th>\n",
       "      <th>5</th>\n",
       "      <th>6</th>\n",
       "      <th>7</th>\n",
       "      <th>8</th>\n",
       "      <th>9</th>\n",
       "      <th>...</th>\n",
       "      <th>864057</th>\n",
       "      <th>864058</th>\n",
       "      <th>864059</th>\n",
       "      <th>864060</th>\n",
       "      <th>864061</th>\n",
       "      <th>864062</th>\n",
       "      <th>864063</th>\n",
       "      <th>864064</th>\n",
       "      <th>864065</th>\n",
       "      <th>864066</th>\n",
       "    </tr>\n",
       "  </thead>\n",
       "  <tbody>\n",
       "    <tr>\n",
       "      <th>CpG</th>\n",
       "      <td>cg14817997</td>\n",
       "      <td>cg26928153</td>\n",
       "      <td>cg16269199</td>\n",
       "      <td>cg13869341</td>\n",
       "      <td>cg14008030</td>\n",
       "      <td>cg12045430</td>\n",
       "      <td>cg20826792</td>\n",
       "      <td>cg20253340</td>\n",
       "      <td>cg02404219</td>\n",
       "      <td>cg21870274</td>\n",
       "      <td>...</td>\n",
       "      <td>cg02995750</td>\n",
       "      <td>cg14467015</td>\n",
       "      <td>cg15516537</td>\n",
       "      <td>cg05999368</td>\n",
       "      <td>cg15462332</td>\n",
       "      <td>cg00335297</td>\n",
       "      <td>cg02600718</td>\n",
       "      <td>cg10488260</td>\n",
       "      <td>cg07587934</td>\n",
       "      <td>cg16855331</td>\n",
       "    </tr>\n",
       "    <tr>\n",
       "      <th>200973410159_R03C01</th>\n",
       "      <td>0.834</td>\n",
       "      <td>0.9456</td>\n",
       "      <td>0.8452</td>\n",
       "      <td>0.9285</td>\n",
       "      <td>0.5825</td>\n",
       "      <td>0.1169</td>\n",
       "      <td>0.06</td>\n",
       "      <td>0.5232</td>\n",
       "      <td>0.7589</td>\n",
       "      <td>0.8879</td>\n",
       "      <td>...</td>\n",
       "      <td>0.6935</td>\n",
       "      <td>0.128</td>\n",
       "      <td>0.4781</td>\n",
       "      <td>0.3</td>\n",
       "      <td>0.2701</td>\n",
       "      <td>0.2172</td>\n",
       "      <td>0.2449</td>\n",
       "      <td>0.2732</td>\n",
       "      <td>0.7812</td>\n",
       "      <td>0.5393</td>\n",
       "    </tr>\n",
       "  </tbody>\n",
       "</table>\n",
       "<p>2 rows × 864067 columns</p>\n",
       "</div>"
      ],
      "text/plain": [
       "                         0           1           2           3       \\\n",
       "CpG                  cg14817997  cg26928153  cg16269199  cg13869341   \n",
       "200973410159_R03C01       0.834      0.9456      0.8452      0.9285   \n",
       "\n",
       "                         4           5           6           7       \\\n",
       "CpG                  cg14008030  cg12045430  cg20826792  cg20253340   \n",
       "200973410159_R03C01      0.5825      0.1169        0.06      0.5232   \n",
       "\n",
       "                         8           9       ...      864057      864058  \\\n",
       "CpG                  cg02404219  cg21870274  ...  cg02995750  cg14467015   \n",
       "200973410159_R03C01      0.7589      0.8879  ...      0.6935       0.128   \n",
       "\n",
       "                         864059      864060      864061      864062  \\\n",
       "CpG                  cg15516537  cg05999368  cg15462332  cg00335297   \n",
       "200973410159_R03C01      0.4781         0.3      0.2701      0.2172   \n",
       "\n",
       "                         864063      864064      864065      864066  \n",
       "CpG                  cg02600718  cg10488260  cg07587934  cg16855331  \n",
       "200973410159_R03C01      0.2449      0.2732      0.7812      0.5393  \n",
       "\n",
       "[2 rows x 864067 columns]"
      ]
     },
     "execution_count": 4,
     "metadata": {},
     "output_type": "execute_result"
    }
   ],
   "source": [
    "dft = df.transpose()\n",
    "dft.head(2)"
   ]
  },
  {
   "cell_type": "code",
   "execution_count": 5,
   "id": "0505d243",
   "metadata": {
    "ExecuteTime": {
     "end_time": "2022-10-18T17:32:51.319837Z",
     "start_time": "2022-10-18T17:32:47.745488Z"
    }
   },
   "outputs": [],
   "source": [
    "dft.rename(columns=dft.iloc[0], inplace = True)\n"
   ]
  },
  {
   "cell_type": "code",
   "execution_count": 6,
   "id": "a16f2e12",
   "metadata": {
    "ExecuteTime": {
     "end_time": "2022-10-18T17:32:51.978887Z",
     "start_time": "2022-10-18T17:32:51.319837Z"
    }
   },
   "outputs": [
    {
     "data": {
      "text/html": [
       "<div>\n",
       "<style scoped>\n",
       "    .dataframe tbody tr th:only-of-type {\n",
       "        vertical-align: middle;\n",
       "    }\n",
       "\n",
       "    .dataframe tbody tr th {\n",
       "        vertical-align: top;\n",
       "    }\n",
       "\n",
       "    .dataframe thead th {\n",
       "        text-align: right;\n",
       "    }\n",
       "</style>\n",
       "<table border=\"1\" class=\"dataframe\">\n",
       "  <thead>\n",
       "    <tr style=\"text-align: right;\">\n",
       "      <th></th>\n",
       "      <th>CpG</th>\n",
       "      <th>cg14817997</th>\n",
       "      <th>cg26928153</th>\n",
       "      <th>cg16269199</th>\n",
       "      <th>cg13869341</th>\n",
       "      <th>cg14008030</th>\n",
       "      <th>cg12045430</th>\n",
       "      <th>cg20826792</th>\n",
       "      <th>cg20253340</th>\n",
       "      <th>cg02404219</th>\n",
       "      <th>...</th>\n",
       "      <th>cg02995750</th>\n",
       "      <th>cg14467015</th>\n",
       "      <th>cg15516537</th>\n",
       "      <th>cg05999368</th>\n",
       "      <th>cg15462332</th>\n",
       "      <th>cg00335297</th>\n",
       "      <th>cg02600718</th>\n",
       "      <th>cg10488260</th>\n",
       "      <th>cg07587934</th>\n",
       "      <th>cg16855331</th>\n",
       "    </tr>\n",
       "  </thead>\n",
       "  <tbody>\n",
       "    <tr>\n",
       "      <th>0</th>\n",
       "      <td>CpG</td>\n",
       "      <td>cg14817997</td>\n",
       "      <td>cg26928153</td>\n",
       "      <td>cg16269199</td>\n",
       "      <td>cg13869341</td>\n",
       "      <td>cg14008030</td>\n",
       "      <td>cg12045430</td>\n",
       "      <td>cg20826792</td>\n",
       "      <td>cg20253340</td>\n",
       "      <td>cg02404219</td>\n",
       "      <td>...</td>\n",
       "      <td>cg02995750</td>\n",
       "      <td>cg14467015</td>\n",
       "      <td>cg15516537</td>\n",
       "      <td>cg05999368</td>\n",
       "      <td>cg15462332</td>\n",
       "      <td>cg00335297</td>\n",
       "      <td>cg02600718</td>\n",
       "      <td>cg10488260</td>\n",
       "      <td>cg07587934</td>\n",
       "      <td>cg16855331</td>\n",
       "    </tr>\n",
       "    <tr>\n",
       "      <th>1</th>\n",
       "      <td>200973410159_R03C01</td>\n",
       "      <td>0.834</td>\n",
       "      <td>0.9456</td>\n",
       "      <td>0.8452</td>\n",
       "      <td>0.9285</td>\n",
       "      <td>0.5825</td>\n",
       "      <td>0.1169</td>\n",
       "      <td>0.06</td>\n",
       "      <td>0.5232</td>\n",
       "      <td>0.7589</td>\n",
       "      <td>...</td>\n",
       "      <td>0.6935</td>\n",
       "      <td>0.128</td>\n",
       "      <td>0.4781</td>\n",
       "      <td>0.3</td>\n",
       "      <td>0.2701</td>\n",
       "      <td>0.2172</td>\n",
       "      <td>0.2449</td>\n",
       "      <td>0.2732</td>\n",
       "      <td>0.7812</td>\n",
       "      <td>0.5393</td>\n",
       "    </tr>\n",
       "  </tbody>\n",
       "</table>\n",
       "<p>2 rows × 864068 columns</p>\n",
       "</div>"
      ],
      "text/plain": [
       "                   CpG  cg14817997  cg26928153  cg16269199  cg13869341  \\\n",
       "0                  CpG  cg14817997  cg26928153  cg16269199  cg13869341   \n",
       "1  200973410159_R03C01       0.834      0.9456      0.8452      0.9285   \n",
       "\n",
       "   cg14008030  cg12045430  cg20826792  cg20253340  cg02404219  ...  \\\n",
       "0  cg14008030  cg12045430  cg20826792  cg20253340  cg02404219  ...   \n",
       "1      0.5825      0.1169        0.06      0.5232      0.7589  ...   \n",
       "\n",
       "   cg02995750  cg14467015  cg15516537  cg05999368  cg15462332  cg00335297  \\\n",
       "0  cg02995750  cg14467015  cg15516537  cg05999368  cg15462332  cg00335297   \n",
       "1      0.6935       0.128      0.4781         0.3      0.2701      0.2172   \n",
       "\n",
       "   cg02600718  cg10488260  cg07587934  cg16855331  \n",
       "0  cg02600718  cg10488260  cg07587934  cg16855331  \n",
       "1      0.2449      0.2732      0.7812      0.5393  \n",
       "\n",
       "[2 rows x 864068 columns]"
      ]
     },
     "execution_count": 6,
     "metadata": {},
     "output_type": "execute_result"
    }
   ],
   "source": [
    "dft.index.name ='CpG'\n",
    "dft.reset_index(inplace=True)\n",
    "dft.head(2)"
   ]
  },
  {
   "cell_type": "code",
   "execution_count": 7,
   "id": "b8cd0f9d",
   "metadata": {
    "ExecuteTime": {
     "end_time": "2022-10-18T17:33:13.330528Z",
     "start_time": "2022-10-18T17:32:51.978887Z"
    }
   },
   "outputs": [
    {
     "data": {
      "text/html": [
       "<div>\n",
       "<style scoped>\n",
       "    .dataframe tbody tr th:only-of-type {\n",
       "        vertical-align: middle;\n",
       "    }\n",
       "\n",
       "    .dataframe tbody tr th {\n",
       "        vertical-align: top;\n",
       "    }\n",
       "\n",
       "    .dataframe thead th {\n",
       "        text-align: right;\n",
       "    }\n",
       "</style>\n",
       "<table border=\"1\" class=\"dataframe\">\n",
       "  <thead>\n",
       "    <tr style=\"text-align: right;\">\n",
       "      <th></th>\n",
       "      <th>CpG</th>\n",
       "      <th>cg14817997</th>\n",
       "      <th>cg26928153</th>\n",
       "      <th>cg16269199</th>\n",
       "      <th>cg13869341</th>\n",
       "      <th>cg14008030</th>\n",
       "      <th>cg12045430</th>\n",
       "      <th>cg20826792</th>\n",
       "      <th>cg20253340</th>\n",
       "      <th>cg02404219</th>\n",
       "      <th>...</th>\n",
       "      <th>cg02995750</th>\n",
       "      <th>cg14467015</th>\n",
       "      <th>cg15516537</th>\n",
       "      <th>cg05999368</th>\n",
       "      <th>cg15462332</th>\n",
       "      <th>cg00335297</th>\n",
       "      <th>cg02600718</th>\n",
       "      <th>cg10488260</th>\n",
       "      <th>cg07587934</th>\n",
       "      <th>cg16855331</th>\n",
       "    </tr>\n",
       "  </thead>\n",
       "  <tbody>\n",
       "    <tr>\n",
       "      <th>1</th>\n",
       "      <td>200973410159_R03C01</td>\n",
       "      <td>0.834</td>\n",
       "      <td>0.9456</td>\n",
       "      <td>0.8452</td>\n",
       "      <td>0.9285</td>\n",
       "      <td>0.5825</td>\n",
       "      <td>0.1169</td>\n",
       "      <td>0.06</td>\n",
       "      <td>0.5232</td>\n",
       "      <td>0.7589</td>\n",
       "      <td>...</td>\n",
       "      <td>0.6935</td>\n",
       "      <td>0.128</td>\n",
       "      <td>0.4781</td>\n",
       "      <td>0.3</td>\n",
       "      <td>0.2701</td>\n",
       "      <td>0.2172</td>\n",
       "      <td>0.2449</td>\n",
       "      <td>0.2732</td>\n",
       "      <td>0.7812</td>\n",
       "      <td>0.5393</td>\n",
       "    </tr>\n",
       "    <tr>\n",
       "      <th>2</th>\n",
       "      <td>200991620021_R01C01</td>\n",
       "      <td>0.8492</td>\n",
       "      <td>0.9485</td>\n",
       "      <td>0.9115</td>\n",
       "      <td>0.8854</td>\n",
       "      <td>0.537</td>\n",
       "      <td>0.097</td>\n",
       "      <td>0.0834</td>\n",
       "      <td>0.5393</td>\n",
       "      <td>0.6704</td>\n",
       "      <td>...</td>\n",
       "      <td>0.8876</td>\n",
       "      <td>0.8508</td>\n",
       "      <td>0.86</td>\n",
       "      <td>0.7366</td>\n",
       "      <td>0.8706</td>\n",
       "      <td>0.7423</td>\n",
       "      <td>0.2477</td>\n",
       "      <td>0.8458</td>\n",
       "      <td>0.7169</td>\n",
       "      <td>0.5197</td>\n",
       "    </tr>\n",
       "  </tbody>\n",
       "</table>\n",
       "<p>2 rows × 864068 columns</p>\n",
       "</div>"
      ],
      "text/plain": [
       "                   CpG cg14817997 cg26928153 cg16269199 cg13869341 cg14008030  \\\n",
       "1  200973410159_R03C01      0.834     0.9456     0.8452     0.9285     0.5825   \n",
       "2  200991620021_R01C01     0.8492     0.9485     0.9115     0.8854      0.537   \n",
       "\n",
       "  cg12045430 cg20826792 cg20253340 cg02404219  ... cg02995750 cg14467015  \\\n",
       "1     0.1169       0.06     0.5232     0.7589  ...     0.6935      0.128   \n",
       "2      0.097     0.0834     0.5393     0.6704  ...     0.8876     0.8508   \n",
       "\n",
       "  cg15516537 cg05999368 cg15462332 cg00335297 cg02600718 cg10488260  \\\n",
       "1     0.4781        0.3     0.2701     0.2172     0.2449     0.2732   \n",
       "2       0.86     0.7366     0.8706     0.7423     0.2477     0.8458   \n",
       "\n",
       "  cg07587934 cg16855331  \n",
       "1     0.7812     0.5393  \n",
       "2     0.7169     0.5197  \n",
       "\n",
       "[2 rows x 864068 columns]"
      ]
     },
     "execution_count": 7,
     "metadata": {},
     "output_type": "execute_result"
    }
   ],
   "source": [
    "dft = dft.drop ([0], axis = 0)\n",
    "dft.head(2)"
   ]
  },
  {
   "cell_type": "code",
   "execution_count": 8,
   "id": "bd979149",
   "metadata": {
    "ExecuteTime": {
     "end_time": "2022-10-18T17:33:13.674775Z",
     "start_time": "2022-10-18T17:33:13.330528Z"
    }
   },
   "outputs": [
    {
     "data": {
      "text/html": [
       "<div>\n",
       "<style scoped>\n",
       "    .dataframe tbody tr th:only-of-type {\n",
       "        vertical-align: middle;\n",
       "    }\n",
       "\n",
       "    .dataframe tbody tr th {\n",
       "        vertical-align: top;\n",
       "    }\n",
       "\n",
       "    .dataframe thead th {\n",
       "        text-align: right;\n",
       "    }\n",
       "</style>\n",
       "<table border=\"1\" class=\"dataframe\">\n",
       "  <thead>\n",
       "    <tr style=\"text-align: right;\">\n",
       "      <th></th>\n",
       "      <th>Sentrix</th>\n",
       "      <th>cg14817997</th>\n",
       "      <th>cg26928153</th>\n",
       "      <th>cg16269199</th>\n",
       "      <th>cg13869341</th>\n",
       "      <th>cg14008030</th>\n",
       "      <th>cg12045430</th>\n",
       "      <th>cg20826792</th>\n",
       "      <th>cg20253340</th>\n",
       "      <th>cg02404219</th>\n",
       "      <th>...</th>\n",
       "      <th>cg02995750</th>\n",
       "      <th>cg14467015</th>\n",
       "      <th>cg15516537</th>\n",
       "      <th>cg05999368</th>\n",
       "      <th>cg15462332</th>\n",
       "      <th>cg00335297</th>\n",
       "      <th>cg02600718</th>\n",
       "      <th>cg10488260</th>\n",
       "      <th>cg07587934</th>\n",
       "      <th>cg16855331</th>\n",
       "    </tr>\n",
       "  </thead>\n",
       "  <tbody>\n",
       "    <tr>\n",
       "      <th>1</th>\n",
       "      <td>200973410159_R03C01</td>\n",
       "      <td>0.834</td>\n",
       "      <td>0.9456</td>\n",
       "      <td>0.8452</td>\n",
       "      <td>0.9285</td>\n",
       "      <td>0.5825</td>\n",
       "      <td>0.1169</td>\n",
       "      <td>0.06</td>\n",
       "      <td>0.5232</td>\n",
       "      <td>0.7589</td>\n",
       "      <td>...</td>\n",
       "      <td>0.6935</td>\n",
       "      <td>0.128</td>\n",
       "      <td>0.4781</td>\n",
       "      <td>0.3</td>\n",
       "      <td>0.2701</td>\n",
       "      <td>0.2172</td>\n",
       "      <td>0.2449</td>\n",
       "      <td>0.2732</td>\n",
       "      <td>0.7812</td>\n",
       "      <td>0.5393</td>\n",
       "    </tr>\n",
       "    <tr>\n",
       "      <th>2</th>\n",
       "      <td>200991620021_R01C01</td>\n",
       "      <td>0.8492</td>\n",
       "      <td>0.9485</td>\n",
       "      <td>0.9115</td>\n",
       "      <td>0.8854</td>\n",
       "      <td>0.537</td>\n",
       "      <td>0.097</td>\n",
       "      <td>0.0834</td>\n",
       "      <td>0.5393</td>\n",
       "      <td>0.6704</td>\n",
       "      <td>...</td>\n",
       "      <td>0.8876</td>\n",
       "      <td>0.8508</td>\n",
       "      <td>0.86</td>\n",
       "      <td>0.7366</td>\n",
       "      <td>0.8706</td>\n",
       "      <td>0.7423</td>\n",
       "      <td>0.2477</td>\n",
       "      <td>0.8458</td>\n",
       "      <td>0.7169</td>\n",
       "      <td>0.5197</td>\n",
       "    </tr>\n",
       "  </tbody>\n",
       "</table>\n",
       "<p>2 rows × 864068 columns</p>\n",
       "</div>"
      ],
      "text/plain": [
       "               Sentrix cg14817997 cg26928153 cg16269199 cg13869341 cg14008030  \\\n",
       "1  200973410159_R03C01      0.834     0.9456     0.8452     0.9285     0.5825   \n",
       "2  200991620021_R01C01     0.8492     0.9485     0.9115     0.8854      0.537   \n",
       "\n",
       "  cg12045430 cg20826792 cg20253340 cg02404219  ... cg02995750 cg14467015  \\\n",
       "1     0.1169       0.06     0.5232     0.7589  ...     0.6935      0.128   \n",
       "2      0.097     0.0834     0.5393     0.6704  ...     0.8876     0.8508   \n",
       "\n",
       "  cg15516537 cg05999368 cg15462332 cg00335297 cg02600718 cg10488260  \\\n",
       "1     0.4781        0.3     0.2701     0.2172     0.2449     0.2732   \n",
       "2       0.86     0.7366     0.8706     0.7423     0.2477     0.8458   \n",
       "\n",
       "  cg07587934 cg16855331  \n",
       "1     0.7812     0.5393  \n",
       "2     0.7169     0.5197  \n",
       "\n",
       "[2 rows x 864068 columns]"
      ]
     },
     "execution_count": 8,
     "metadata": {},
     "output_type": "execute_result"
    }
   ],
   "source": [
    "dft.rename (columns = {\"CpG\" : \"Sentrix\"}, inplace = True)\n",
    "dft.head(2)"
   ]
  },
  {
   "cell_type": "code",
   "execution_count": 9,
   "id": "800f1dff",
   "metadata": {
    "ExecuteTime": {
     "end_time": "2022-10-18T17:33:14.223441Z",
     "start_time": "2022-10-18T17:33:13.674775Z"
    }
   },
   "outputs": [
    {
     "data": {
      "text/html": [
       "<div>\n",
       "<style scoped>\n",
       "    .dataframe tbody tr th:only-of-type {\n",
       "        vertical-align: middle;\n",
       "    }\n",
       "\n",
       "    .dataframe tbody tr th {\n",
       "        vertical-align: top;\n",
       "    }\n",
       "\n",
       "    .dataframe thead th {\n",
       "        text-align: right;\n",
       "    }\n",
       "</style>\n",
       "<table border=\"1\" class=\"dataframe\">\n",
       "  <thead>\n",
       "    <tr style=\"text-align: right;\">\n",
       "      <th></th>\n",
       "      <th>Sentrix</th>\n",
       "      <th>APPRDX</th>\n",
       "    </tr>\n",
       "  </thead>\n",
       "  <tbody>\n",
       "    <tr>\n",
       "      <th>0</th>\n",
       "      <td>200973410159_R03C01</td>\n",
       "      <td>2</td>\n",
       "    </tr>\n",
       "    <tr>\n",
       "      <th>1</th>\n",
       "      <td>200991620021_R01C01</td>\n",
       "      <td>1</td>\n",
       "    </tr>\n",
       "  </tbody>\n",
       "</table>\n",
       "</div>"
      ],
      "text/plain": [
       "               Sentrix  APPRDX\n",
       "0  200973410159_R03C01       2\n",
       "1  200991620021_R01C01       1"
      ]
     },
     "execution_count": 9,
     "metadata": {},
     "output_type": "execute_result"
    }
   ],
   "source": [
    "df2 = pd.read_csv (\"temp_APPRDX457Patno.csv\")\n",
    "df2.head(2)"
   ]
  },
  {
   "cell_type": "code",
   "execution_count": 10,
   "id": "0b805a38",
   "metadata": {
    "ExecuteTime": {
     "end_time": "2022-10-18T17:34:14.599350Z",
     "start_time": "2022-10-18T17:33:14.223441Z"
    },
    "scrolled": false
   },
   "outputs": [
    {
     "data": {
      "text/html": [
       "<div>\n",
       "<style scoped>\n",
       "    .dataframe tbody tr th:only-of-type {\n",
       "        vertical-align: middle;\n",
       "    }\n",
       "\n",
       "    .dataframe tbody tr th {\n",
       "        vertical-align: top;\n",
       "    }\n",
       "\n",
       "    .dataframe thead th {\n",
       "        text-align: right;\n",
       "    }\n",
       "</style>\n",
       "<table border=\"1\" class=\"dataframe\">\n",
       "  <thead>\n",
       "    <tr style=\"text-align: right;\">\n",
       "      <th></th>\n",
       "      <th>Sentrix</th>\n",
       "      <th>APPRDX</th>\n",
       "      <th>cg14817997</th>\n",
       "      <th>cg26928153</th>\n",
       "      <th>cg16269199</th>\n",
       "      <th>cg13869341</th>\n",
       "      <th>cg14008030</th>\n",
       "      <th>cg12045430</th>\n",
       "      <th>cg20826792</th>\n",
       "      <th>cg20253340</th>\n",
       "      <th>...</th>\n",
       "      <th>cg02995750</th>\n",
       "      <th>cg14467015</th>\n",
       "      <th>cg15516537</th>\n",
       "      <th>cg05999368</th>\n",
       "      <th>cg15462332</th>\n",
       "      <th>cg00335297</th>\n",
       "      <th>cg02600718</th>\n",
       "      <th>cg10488260</th>\n",
       "      <th>cg07587934</th>\n",
       "      <th>cg16855331</th>\n",
       "    </tr>\n",
       "  </thead>\n",
       "  <tbody>\n",
       "    <tr>\n",
       "      <th>0</th>\n",
       "      <td>200973410159_R03C01</td>\n",
       "      <td>2</td>\n",
       "      <td>0.834</td>\n",
       "      <td>0.9456</td>\n",
       "      <td>0.8452</td>\n",
       "      <td>0.9285</td>\n",
       "      <td>0.5825</td>\n",
       "      <td>0.1169</td>\n",
       "      <td>0.06</td>\n",
       "      <td>0.5232</td>\n",
       "      <td>...</td>\n",
       "      <td>0.6935</td>\n",
       "      <td>0.128</td>\n",
       "      <td>0.4781</td>\n",
       "      <td>0.3</td>\n",
       "      <td>0.2701</td>\n",
       "      <td>0.2172</td>\n",
       "      <td>0.2449</td>\n",
       "      <td>0.2732</td>\n",
       "      <td>0.7812</td>\n",
       "      <td>0.5393</td>\n",
       "    </tr>\n",
       "    <tr>\n",
       "      <th>1</th>\n",
       "      <td>200991620021_R01C01</td>\n",
       "      <td>1</td>\n",
       "      <td>0.8492</td>\n",
       "      <td>0.9485</td>\n",
       "      <td>0.9115</td>\n",
       "      <td>0.8854</td>\n",
       "      <td>0.537</td>\n",
       "      <td>0.097</td>\n",
       "      <td>0.0834</td>\n",
       "      <td>0.5393</td>\n",
       "      <td>...</td>\n",
       "      <td>0.8876</td>\n",
       "      <td>0.8508</td>\n",
       "      <td>0.86</td>\n",
       "      <td>0.7366</td>\n",
       "      <td>0.8706</td>\n",
       "      <td>0.7423</td>\n",
       "      <td>0.2477</td>\n",
       "      <td>0.8458</td>\n",
       "      <td>0.7169</td>\n",
       "      <td>0.5197</td>\n",
       "    </tr>\n",
       "  </tbody>\n",
       "</table>\n",
       "<p>2 rows × 864069 columns</p>\n",
       "</div>"
      ],
      "text/plain": [
       "               Sentrix  APPRDX cg14817997 cg26928153 cg16269199 cg13869341  \\\n",
       "0  200973410159_R03C01       2      0.834     0.9456     0.8452     0.9285   \n",
       "1  200991620021_R01C01       1     0.8492     0.9485     0.9115     0.8854   \n",
       "\n",
       "  cg14008030 cg12045430 cg20826792 cg20253340  ... cg02995750 cg14467015  \\\n",
       "0     0.5825     0.1169       0.06     0.5232  ...     0.6935      0.128   \n",
       "1      0.537      0.097     0.0834     0.5393  ...     0.8876     0.8508   \n",
       "\n",
       "  cg15516537 cg05999368 cg15462332 cg00335297 cg02600718 cg10488260  \\\n",
       "0     0.4781        0.3     0.2701     0.2172     0.2449     0.2732   \n",
       "1       0.86     0.7366     0.8706     0.7423     0.2477     0.8458   \n",
       "\n",
       "  cg07587934 cg16855331  \n",
       "0     0.7812     0.5393  \n",
       "1     0.7169     0.5197  \n",
       "\n",
       "[2 rows x 864069 columns]"
      ]
     },
     "execution_count": 10,
     "metadata": {},
     "output_type": "execute_result"
    }
   ],
   "source": [
    "df3 = pd.merge (df2, dft, on= \"Sentrix\", how= \"inner\")\n",
    "df3.head(2)"
   ]
  },
  {
   "cell_type": "code",
   "execution_count": 11,
   "id": "6d166ac9",
   "metadata": {
    "ExecuteTime": {
     "end_time": "2022-10-18T17:34:14.953625Z",
     "start_time": "2022-10-18T17:34:14.768635Z"
    }
   },
   "outputs": [
    {
     "data": {
      "text/plain": [
       "(457, 864069)"
      ]
     },
     "execution_count": 11,
     "metadata": {},
     "output_type": "execute_result"
    }
   ],
   "source": [
    "df3.shape"
   ]
  },
  {
   "cell_type": "code",
   "execution_count": 12,
   "id": "548fbe6a",
   "metadata": {
    "ExecuteTime": {
     "end_time": "2022-10-18T17:34:59.048008Z",
     "start_time": "2022-10-18T17:34:15.069224Z"
    }
   },
   "outputs": [
    {
     "data": {
      "text/html": [
       "<div>\n",
       "<style scoped>\n",
       "    .dataframe tbody tr th:only-of-type {\n",
       "        vertical-align: middle;\n",
       "    }\n",
       "\n",
       "    .dataframe tbody tr th {\n",
       "        vertical-align: top;\n",
       "    }\n",
       "\n",
       "    .dataframe thead th {\n",
       "        text-align: right;\n",
       "    }\n",
       "</style>\n",
       "<table border=\"1\" class=\"dataframe\">\n",
       "  <thead>\n",
       "    <tr style=\"text-align: right;\">\n",
       "      <th></th>\n",
       "      <th>APPRDX</th>\n",
       "      <th>cg14817997</th>\n",
       "      <th>cg26928153</th>\n",
       "      <th>cg16269199</th>\n",
       "      <th>cg13869341</th>\n",
       "      <th>cg14008030</th>\n",
       "      <th>cg12045430</th>\n",
       "      <th>cg20826792</th>\n",
       "      <th>cg20253340</th>\n",
       "      <th>cg02404219</th>\n",
       "      <th>...</th>\n",
       "      <th>cg02995750</th>\n",
       "      <th>cg14467015</th>\n",
       "      <th>cg15516537</th>\n",
       "      <th>cg05999368</th>\n",
       "      <th>cg15462332</th>\n",
       "      <th>cg00335297</th>\n",
       "      <th>cg02600718</th>\n",
       "      <th>cg10488260</th>\n",
       "      <th>cg07587934</th>\n",
       "      <th>cg16855331</th>\n",
       "    </tr>\n",
       "  </thead>\n",
       "  <tbody>\n",
       "    <tr>\n",
       "      <th>0</th>\n",
       "      <td>2</td>\n",
       "      <td>0.834</td>\n",
       "      <td>0.9456</td>\n",
       "      <td>0.8452</td>\n",
       "      <td>0.9285</td>\n",
       "      <td>0.5825</td>\n",
       "      <td>0.1169</td>\n",
       "      <td>0.06</td>\n",
       "      <td>0.5232</td>\n",
       "      <td>0.7589</td>\n",
       "      <td>...</td>\n",
       "      <td>0.6935</td>\n",
       "      <td>0.128</td>\n",
       "      <td>0.4781</td>\n",
       "      <td>0.3</td>\n",
       "      <td>0.2701</td>\n",
       "      <td>0.2172</td>\n",
       "      <td>0.2449</td>\n",
       "      <td>0.2732</td>\n",
       "      <td>0.7812</td>\n",
       "      <td>0.5393</td>\n",
       "    </tr>\n",
       "    <tr>\n",
       "      <th>1</th>\n",
       "      <td>1</td>\n",
       "      <td>0.8492</td>\n",
       "      <td>0.9485</td>\n",
       "      <td>0.9115</td>\n",
       "      <td>0.8854</td>\n",
       "      <td>0.537</td>\n",
       "      <td>0.097</td>\n",
       "      <td>0.0834</td>\n",
       "      <td>0.5393</td>\n",
       "      <td>0.6704</td>\n",
       "      <td>...</td>\n",
       "      <td>0.8876</td>\n",
       "      <td>0.8508</td>\n",
       "      <td>0.86</td>\n",
       "      <td>0.7366</td>\n",
       "      <td>0.8706</td>\n",
       "      <td>0.7423</td>\n",
       "      <td>0.2477</td>\n",
       "      <td>0.8458</td>\n",
       "      <td>0.7169</td>\n",
       "      <td>0.5197</td>\n",
       "    </tr>\n",
       "  </tbody>\n",
       "</table>\n",
       "<p>2 rows × 864068 columns</p>\n",
       "</div>"
      ],
      "text/plain": [
       "   APPRDX cg14817997 cg26928153 cg16269199 cg13869341 cg14008030 cg12045430  \\\n",
       "0       2      0.834     0.9456     0.8452     0.9285     0.5825     0.1169   \n",
       "1       1     0.8492     0.9485     0.9115     0.8854      0.537      0.097   \n",
       "\n",
       "  cg20826792 cg20253340 cg02404219  ... cg02995750 cg14467015 cg15516537  \\\n",
       "0       0.06     0.5232     0.7589  ...     0.6935      0.128     0.4781   \n",
       "1     0.0834     0.5393     0.6704  ...     0.8876     0.8508       0.86   \n",
       "\n",
       "  cg05999368 cg15462332 cg00335297 cg02600718 cg10488260 cg07587934 cg16855331  \n",
       "0        0.3     0.2701     0.2172     0.2449     0.2732     0.7812     0.5393  \n",
       "1     0.7366     0.8706     0.7423     0.2477     0.8458     0.7169     0.5197  \n",
       "\n",
       "[2 rows x 864068 columns]"
      ]
     },
     "execution_count": 12,
     "metadata": {},
     "output_type": "execute_result"
    }
   ],
   "source": [
    "df_data = df3.drop(['Sentrix'], axis=1)\n",
    "df_data.head(2)"
   ]
  },
  {
   "cell_type": "code",
   "execution_count": 13,
   "id": "a089177b",
   "metadata": {
    "ExecuteTime": {
     "end_time": "2022-10-18T17:35:16.361187Z",
     "start_time": "2022-10-18T17:34:59.063584Z"
    }
   },
   "outputs": [],
   "source": [
    "X = df_data.iloc[:, 1:].values\n",
    "y = df_data.iloc[:, 0].values"
   ]
  },
  {
   "cell_type": "code",
   "execution_count": 14,
   "id": "b57d5f6e",
   "metadata": {
    "ExecuteTime": {
     "end_time": "2022-10-18T17:36:02.272405Z",
     "start_time": "2022-10-18T17:35:16.392438Z"
    }
   },
   "outputs": [],
   "source": [
    "X_train, X_test, y_train, y_test = train_test_split (X, y, test_size=0.2, random_state=1)"
   ]
  },
  {
   "cell_type": "code",
   "execution_count": 15,
   "id": "30b55905",
   "metadata": {
    "ExecuteTime": {
     "end_time": "2022-10-18T17:36:50.340777Z",
     "start_time": "2022-10-18T17:36:02.334873Z"
    }
   },
   "outputs": [],
   "source": [
    "sc = StandardScaler()\n",
    "X_train = sc.fit_transform(X_train)\n",
    "X_test = sc.transform(X_test)"
   ]
  },
  {
   "cell_type": "code",
   "execution_count": 37,
   "id": "6e457e00",
   "metadata": {
    "ExecuteTime": {
     "end_time": "2022-10-18T18:06:27.015206Z",
     "start_time": "2022-10-18T18:06:26.952754Z"
    }
   },
   "outputs": [],
   "source": [
    "lda = LDA(n_components=1)\n",
    "X_train = lda.fit_transform(X_train, y_train)\n",
    "X_test = lda.transform(X_test)"
   ]
  },
  {
   "cell_type": "code",
   "execution_count": 38,
   "id": "20f071cb",
   "metadata": {
    "ExecuteTime": {
     "end_time": "2022-10-18T18:06:35.350400Z",
     "start_time": "2022-10-18T18:06:35.172010Z"
    }
   },
   "outputs": [],
   "source": [
    "classifier = RandomForestClassifier(max_depth=2, random_state=0)\n",
    "\n",
    "classifier.fit(X_train, y_train)\n",
    "y_pred = classifier.predict(X_test)"
   ]
  },
  {
   "cell_type": "code",
   "execution_count": 59,
   "id": "d94f6370",
   "metadata": {
    "ExecuteTime": {
     "end_time": "2022-10-18T18:33:45.860047Z",
     "start_time": "2022-10-18T18:33:45.828862Z"
    }
   },
   "outputs": [
    {
     "data": {
      "text/plain": [
       "array([1.])"
      ]
     },
     "execution_count": 59,
     "metadata": {},
     "output_type": "execute_result"
    }
   ],
   "source": [
    "lda.explained_variance_ratio_"
   ]
  },
  {
   "cell_type": "code",
   "execution_count": 39,
   "id": "d9f4ff03",
   "metadata": {
    "ExecuteTime": {
     "end_time": "2022-10-18T18:06:39.625583Z",
     "start_time": "2022-10-18T18:06:39.609939Z"
    }
   },
   "outputs": [
    {
     "name": "stdout",
     "output_type": "stream",
     "text": [
      "[[62  1]\n",
      " [29  0]]\n",
      "Accuracy0.6739130434782609\n"
     ]
    }
   ],
   "source": [
    "from sklearn.metrics import confusion_matrix\n",
    "from sklearn.metrics import accuracy_score\n",
    "\n",
    "cm = confusion_matrix(y_test, y_pred)\n",
    "print(cm)\n",
    "print('Accuracy' + str(accuracy_score(y_test, y_pred)))"
   ]
  },
  {
   "cell_type": "code",
   "execution_count": 45,
   "id": "c2d0e8fb",
   "metadata": {
    "ExecuteTime": {
     "end_time": "2022-10-18T18:17:45.778683Z",
     "start_time": "2022-10-18T18:17:45.747443Z"
    }
   },
   "outputs": [
    {
     "name": "stdout",
     "output_type": "stream",
     "text": [
      "              precision    recall  f1-score   support\n",
      "\n",
      "           1       0.68      0.98      0.81        63\n",
      "           2       0.00      0.00      0.00        29\n",
      "\n",
      "    accuracy                           0.67        92\n",
      "   macro avg       0.34      0.49      0.40        92\n",
      "weighted avg       0.47      0.67      0.55        92\n",
      "\n"
     ]
    }
   ],
   "source": [
    "from sklearn.metrics import classification_report\n",
    "print (classification_report (y_test, y_pred))"
   ]
  },
  {
   "cell_type": "code",
   "execution_count": 57,
   "id": "df0b0f84",
   "metadata": {
    "ExecuteTime": {
     "end_time": "2022-10-18T18:31:07.283122Z",
     "start_time": "2022-10-18T18:31:07.251902Z"
    }
   },
   "outputs": [
    {
     "ename": "IndexError",
     "evalue": "index 1 is out of bounds for axis 1 with size 1",
     "output_type": "error",
     "traceback": [
      "\u001b[1;31m---------------------------------------------------------------------------\u001b[0m",
      "\u001b[1;31mIndexError\u001b[0m                                Traceback (most recent call last)",
      "\u001b[1;32mC:\\Users\\SYSTEM~1\\AppData\\Local\\Temp/ipykernel_6836/2652337560.py\u001b[0m in \u001b[0;36m<module>\u001b[1;34m\u001b[0m\n\u001b[0;32m      1\u001b[0m \u001b[0mcolors\u001b[0m\u001b[1;33m=\u001b[0m \u001b[1;33m[\u001b[0m\u001b[1;34m'red'\u001b[0m\u001b[1;33m,\u001b[0m \u001b[1;34m'green'\u001b[0m\u001b[1;33m]\u001b[0m\u001b[1;33m\u001b[0m\u001b[1;33m\u001b[0m\u001b[0m\n\u001b[0;32m      2\u001b[0m \u001b[0mvc\u001b[0m \u001b[1;33m=\u001b[0m \u001b[0mnp\u001b[0m\u001b[1;33m.\u001b[0m\u001b[0mvectorize\u001b[0m \u001b[1;33m(\u001b[0m\u001b[1;32mlambda\u001b[0m \u001b[0mx\u001b[0m\u001b[1;33m:\u001b[0m \u001b[0mcolors\u001b[0m \u001b[1;33m[\u001b[0m\u001b[0mx\u001b[0m \u001b[1;33m%\u001b[0m \u001b[0mlen\u001b[0m \u001b[1;33m(\u001b[0m\u001b[0mcolors\u001b[0m\u001b[1;33m)\u001b[0m\u001b[1;33m]\u001b[0m\u001b[1;33m)\u001b[0m\u001b[1;33m\u001b[0m\u001b[1;33m\u001b[0m\u001b[0m\n\u001b[1;32m----> 3\u001b[1;33m \u001b[0mplt\u001b[0m\u001b[1;33m.\u001b[0m\u001b[0mscatter\u001b[0m \u001b[1;33m(\u001b[0m\u001b[0mX_train\u001b[0m\u001b[1;33m[\u001b[0m\u001b[1;33m:\u001b[0m\u001b[1;33m,\u001b[0m\u001b[1;36m0\u001b[0m\u001b[1;33m]\u001b[0m\u001b[1;33m,\u001b[0m\u001b[0mX_train\u001b[0m\u001b[1;33m[\u001b[0m\u001b[1;33m:\u001b[0m\u001b[1;33m,\u001b[0m\u001b[1;36m1\u001b[0m\u001b[1;33m]\u001b[0m\u001b[1;33m,\u001b[0m \u001b[0mc\u001b[0m\u001b[1;33m=\u001b[0m\u001b[0mvc\u001b[0m\u001b[1;33m(\u001b[0m\u001b[0my_train\u001b[0m\u001b[1;33m)\u001b[0m\u001b[1;33m)\u001b[0m\u001b[1;33m\u001b[0m\u001b[1;33m\u001b[0m\u001b[0m\n\u001b[0m",
      "\u001b[1;31mIndexError\u001b[0m: index 1 is out of bounds for axis 1 with size 1"
     ]
    }
   ],
   "source": [
    "colors= ['red', 'green']\n",
    "vc = np.vectorize (lambda x: colors [x % len (colors)])\n",
    "plt.scatter (X_train[:,0], X_train[:,1], c=vc(y_train))\n"
   ]
  },
  {
   "cell_type": "code",
   "execution_count": 43,
   "id": "7e3f16ed",
   "metadata": {
    "ExecuteTime": {
     "end_time": "2022-10-18T18:16:14.120345Z",
     "start_time": "2022-10-18T18:16:14.102259Z"
    }
   },
   "outputs": [],
   "source": []
  },
  {
   "cell_type": "code",
   "execution_count": null,
   "id": "dfdeb06d",
   "metadata": {},
   "outputs": [],
   "source": []
  }
 ],
 "metadata": {
  "kernelspec": {
   "display_name": "Python 3 (ipykernel)",
   "language": "python",
   "name": "python3"
  },
  "language_info": {
   "codemirror_mode": {
    "name": "ipython",
    "version": 3
   },
   "file_extension": ".py",
   "mimetype": "text/x-python",
   "name": "python",
   "nbconvert_exporter": "python",
   "pygments_lexer": "ipython3",
   "version": "3.9.16"
  },
  "toc": {
   "base_numbering": 1,
   "nav_menu": {},
   "number_sections": true,
   "sideBar": true,
   "skip_h1_title": false,
   "title_cell": "Table of Contents",
   "title_sidebar": "Contents",
   "toc_cell": false,
   "toc_position": {},
   "toc_section_display": true,
   "toc_window_display": false
  },
  "varInspector": {
   "cols": {
    "lenName": 16,
    "lenType": 16,
    "lenVar": 40
   },
   "kernels_config": {
    "python": {
     "delete_cmd_postfix": "",
     "delete_cmd_prefix": "del ",
     "library": "var_list.py",
     "varRefreshCmd": "print(var_dic_list())"
    },
    "r": {
     "delete_cmd_postfix": ") ",
     "delete_cmd_prefix": "rm(",
     "library": "var_list.r",
     "varRefreshCmd": "cat(var_dic_list()) "
    }
   },
   "types_to_exclude": [
    "module",
    "function",
    "builtin_function_or_method",
    "instance",
    "_Feature"
   ],
   "window_display": false
  }
 },
 "nbformat": 4,
 "nbformat_minor": 5
}
