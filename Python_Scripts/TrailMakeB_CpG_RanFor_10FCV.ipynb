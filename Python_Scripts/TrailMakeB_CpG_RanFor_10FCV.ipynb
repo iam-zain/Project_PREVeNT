{
 "cells": [
  {
   "cell_type": "markdown",
   "metadata": {
    "colab_type": "text",
    "id": "0MRC0e0KhQ0S"
   },
   "source": [
    "# Random Forest Classification"
   ]
  },
  {
   "cell_type": "code",
   "execution_count": 1,
   "metadata": {
    "ExecuteTime": {
     "end_time": "2023-01-12T06:58:04.384200Z",
     "start_time": "2023-01-12T06:58:02.742183Z"
    },
    "colab": {},
    "colab_type": "code",
    "id": "YvGPUQaHhXfL"
   },
   "outputs": [],
   "source": [
    "import random\n",
    "import numpy as np\n",
    "import pandas as pd\n",
    "import seaborn as sn\n",
    "from numpy import std\n",
    "from numpy import mean\n",
    "import matplotlib.pyplot as plt\n",
    "from sklearn.datasets import make_classification\n",
    "from sklearn.preprocessing import StandardScaler\n",
    "from sklearn.model_selection import cross_val_score\n",
    "from sklearn.ensemble import RandomForestClassifier\n",
    "from sklearn.model_selection import train_test_split\n",
    "from sklearn.model_selection import RepeatedStratifiedKFold\n",
    "from sklearn.metrics import confusion_matrix, accuracy_score\n",
    "%matplotlib inline"
   ]
  },
  {
   "cell_type": "markdown",
   "metadata": {},
   "source": [
    "## NMI"
   ]
  },
  {
   "cell_type": "code",
   "execution_count": 2,
   "metadata": {
    "ExecuteTime": {
     "end_time": "2023-01-12T06:58:04.431072Z",
     "start_time": "2023-01-12T06:58:04.384200Z"
    },
    "scrolled": false
   },
   "outputs": [
    {
     "name": "stdout",
     "output_type": "stream",
     "text": [
      "Z:\\PPMI_Data\\Excels\\NonMotors\\Derived250\\GeneCpG\\LetterNumber\n",
      "(458, 52)\n"
     ]
    },
    {
     "data": {
      "text/html": [
       "<div>\n",
       "<style scoped>\n",
       "    .dataframe tbody tr th:only-of-type {\n",
       "        vertical-align: middle;\n",
       "    }\n",
       "\n",
       "    .dataframe tbody tr th {\n",
       "        vertical-align: top;\n",
       "    }\n",
       "\n",
       "    .dataframe thead th {\n",
       "        text-align: right;\n",
       "    }\n",
       "</style>\n",
       "<table border=\"1\" class=\"dataframe\">\n",
       "  <thead>\n",
       "    <tr style=\"text-align: right;\">\n",
       "      <th></th>\n",
       "      <th>PATNO</th>\n",
       "      <th>APPRDX</th>\n",
       "      <th>cg17937070</th>\n",
       "      <th>cg06796611</th>\n",
       "      <th>cg17712928</th>\n",
       "      <th>cg26408382</th>\n",
       "      <th>cg03424478</th>\n",
       "      <th>cg00052836</th>\n",
       "      <th>cg00593243</th>\n",
       "      <th>cg06061283</th>\n",
       "      <th>...</th>\n",
       "      <th>cg08606911</th>\n",
       "      <th>cg23849327</th>\n",
       "      <th>cg02647998</th>\n",
       "      <th>cg15520443</th>\n",
       "      <th>cg26562694</th>\n",
       "      <th>cg25195987</th>\n",
       "      <th>cg05082965</th>\n",
       "      <th>cg12046288</th>\n",
       "      <th>cg19534805</th>\n",
       "      <th>cg18634479</th>\n",
       "    </tr>\n",
       "  </thead>\n",
       "  <tbody>\n",
       "    <tr>\n",
       "      <th>0</th>\n",
       "      <td>3000</td>\n",
       "      <td>2</td>\n",
       "      <td>0.955360</td>\n",
       "      <td>0.782549</td>\n",
       "      <td>0.910165</td>\n",
       "      <td>0.903011</td>\n",
       "      <td>0.028517</td>\n",
       "      <td>0.931199</td>\n",
       "      <td>0.948020</td>\n",
       "      <td>0.870155</td>\n",
       "      <td>...</td>\n",
       "      <td>0.059446</td>\n",
       "      <td>0.517787</td>\n",
       "      <td>0.899838</td>\n",
       "      <td>0.116186</td>\n",
       "      <td>0.041020</td>\n",
       "      <td>0.855891</td>\n",
       "      <td>0.042589</td>\n",
       "      <td>0.017441</td>\n",
       "      <td>0.935316</td>\n",
       "      <td>0.019785</td>\n",
       "    </tr>\n",
       "    <tr>\n",
       "      <th>1</th>\n",
       "      <td>3001</td>\n",
       "      <td>1</td>\n",
       "      <td>0.902738</td>\n",
       "      <td>0.728984</td>\n",
       "      <td>0.950909</td>\n",
       "      <td>0.922423</td>\n",
       "      <td>0.030953</td>\n",
       "      <td>0.872534</td>\n",
       "      <td>0.917518</td>\n",
       "      <td>0.732005</td>\n",
       "      <td>...</td>\n",
       "      <td>0.069594</td>\n",
       "      <td>0.554499</td>\n",
       "      <td>0.885940</td>\n",
       "      <td>0.083426</td>\n",
       "      <td>0.025679</td>\n",
       "      <td>0.875692</td>\n",
       "      <td>0.035756</td>\n",
       "      <td>0.019627</td>\n",
       "      <td>0.903219</td>\n",
       "      <td>0.022394</td>\n",
       "    </tr>\n",
       "    <tr>\n",
       "      <th>2</th>\n",
       "      <td>3002</td>\n",
       "      <td>1</td>\n",
       "      <td>0.938737</td>\n",
       "      <td>0.729905</td>\n",
       "      <td>0.951365</td>\n",
       "      <td>0.915557</td>\n",
       "      <td>0.030566</td>\n",
       "      <td>0.900980</td>\n",
       "      <td>0.934445</td>\n",
       "      <td>0.859127</td>\n",
       "      <td>...</td>\n",
       "      <td>0.055525</td>\n",
       "      <td>0.755673</td>\n",
       "      <td>0.929484</td>\n",
       "      <td>0.057722</td>\n",
       "      <td>0.037095</td>\n",
       "      <td>0.844843</td>\n",
       "      <td>0.029307</td>\n",
       "      <td>0.018174</td>\n",
       "      <td>0.926402</td>\n",
       "      <td>0.018282</td>\n",
       "    </tr>\n",
       "  </tbody>\n",
       "</table>\n",
       "<p>3 rows × 52 columns</p>\n",
       "</div>"
      ],
      "text/plain": [
       "   PATNO  APPRDX  cg17937070  cg06796611  cg17712928  cg26408382  cg03424478  \\\n",
       "0   3000       2    0.955360    0.782549    0.910165    0.903011    0.028517   \n",
       "1   3001       1    0.902738    0.728984    0.950909    0.922423    0.030953   \n",
       "2   3002       1    0.938737    0.729905    0.951365    0.915557    0.030566   \n",
       "\n",
       "   cg00052836  cg00593243  cg06061283  ...  cg08606911  cg23849327  \\\n",
       "0    0.931199    0.948020    0.870155  ...    0.059446    0.517787   \n",
       "1    0.872534    0.917518    0.732005  ...    0.069594    0.554499   \n",
       "2    0.900980    0.934445    0.859127  ...    0.055525    0.755673   \n",
       "\n",
       "   cg02647998  cg15520443  cg26562694  cg25195987  cg05082965  cg12046288  \\\n",
       "0    0.899838    0.116186    0.041020    0.855891    0.042589    0.017441   \n",
       "1    0.885940    0.083426    0.025679    0.875692    0.035756    0.019627   \n",
       "2    0.929484    0.057722    0.037095    0.844843    0.029307    0.018174   \n",
       "\n",
       "   cg19534805  cg18634479  \n",
       "0    0.935316    0.019785  \n",
       "1    0.903219    0.022394  \n",
       "2    0.926402    0.018282  \n",
       "\n",
       "[3 rows x 52 columns]"
      ]
     },
     "execution_count": 2,
     "metadata": {},
     "output_type": "execute_result"
    }
   ],
   "source": [
    "%cd Z:\\PPMI_Data\\Excels\\NonMotors\\Derived250\\GeneCpG\\TrailMakeB\n",
    "df = pd.read_csv('Top50NMI_TrailMakeB_Data.csv')\n",
    "print(df.shape)\n",
    "df.head(3)"
   ]
  },
  {
   "cell_type": "code",
   "execution_count": 3,
   "metadata": {
    "ExecuteTime": {
     "end_time": "2023-01-12T06:58:04.515718Z",
     "start_time": "2023-01-12T06:58:04.431072Z"
    },
    "scrolled": false
   },
   "outputs": [
    {
     "data": {
      "text/html": [
       "<div>\n",
       "<style scoped>\n",
       "    .dataframe tbody tr th:only-of-type {\n",
       "        vertical-align: middle;\n",
       "    }\n",
       "\n",
       "    .dataframe tbody tr th {\n",
       "        vertical-align: top;\n",
       "    }\n",
       "\n",
       "    .dataframe thead th {\n",
       "        text-align: right;\n",
       "    }\n",
       "</style>\n",
       "<table border=\"1\" class=\"dataframe\">\n",
       "  <thead>\n",
       "    <tr style=\"text-align: right;\">\n",
       "      <th></th>\n",
       "      <th>APPRDX</th>\n",
       "      <th>cg17937070</th>\n",
       "      <th>cg06796611</th>\n",
       "      <th>cg17712928</th>\n",
       "      <th>cg26408382</th>\n",
       "      <th>cg03424478</th>\n",
       "      <th>cg00052836</th>\n",
       "      <th>cg00593243</th>\n",
       "      <th>cg06061283</th>\n",
       "      <th>cg24402323</th>\n",
       "      <th>...</th>\n",
       "      <th>cg08606911</th>\n",
       "      <th>cg23849327</th>\n",
       "      <th>cg02647998</th>\n",
       "      <th>cg15520443</th>\n",
       "      <th>cg26562694</th>\n",
       "      <th>cg25195987</th>\n",
       "      <th>cg05082965</th>\n",
       "      <th>cg12046288</th>\n",
       "      <th>cg19534805</th>\n",
       "      <th>cg18634479</th>\n",
       "    </tr>\n",
       "  </thead>\n",
       "  <tbody>\n",
       "    <tr>\n",
       "      <th>0</th>\n",
       "      <td>2</td>\n",
       "      <td>0.955360</td>\n",
       "      <td>0.782549</td>\n",
       "      <td>0.910165</td>\n",
       "      <td>0.903011</td>\n",
       "      <td>0.028517</td>\n",
       "      <td>0.931199</td>\n",
       "      <td>0.948020</td>\n",
       "      <td>0.870155</td>\n",
       "      <td>0.039978</td>\n",
       "      <td>...</td>\n",
       "      <td>0.059446</td>\n",
       "      <td>0.517787</td>\n",
       "      <td>0.899838</td>\n",
       "      <td>0.116186</td>\n",
       "      <td>0.041020</td>\n",
       "      <td>0.855891</td>\n",
       "      <td>0.042589</td>\n",
       "      <td>0.017441</td>\n",
       "      <td>0.935316</td>\n",
       "      <td>0.019785</td>\n",
       "    </tr>\n",
       "    <tr>\n",
       "      <th>1</th>\n",
       "      <td>1</td>\n",
       "      <td>0.902738</td>\n",
       "      <td>0.728984</td>\n",
       "      <td>0.950909</td>\n",
       "      <td>0.922423</td>\n",
       "      <td>0.030953</td>\n",
       "      <td>0.872534</td>\n",
       "      <td>0.917518</td>\n",
       "      <td>0.732005</td>\n",
       "      <td>0.060656</td>\n",
       "      <td>...</td>\n",
       "      <td>0.069594</td>\n",
       "      <td>0.554499</td>\n",
       "      <td>0.885940</td>\n",
       "      <td>0.083426</td>\n",
       "      <td>0.025679</td>\n",
       "      <td>0.875692</td>\n",
       "      <td>0.035756</td>\n",
       "      <td>0.019627</td>\n",
       "      <td>0.903219</td>\n",
       "      <td>0.022394</td>\n",
       "    </tr>\n",
       "  </tbody>\n",
       "</table>\n",
       "<p>2 rows × 51 columns</p>\n",
       "</div>"
      ],
      "text/plain": [
       "   APPRDX  cg17937070  cg06796611  cg17712928  cg26408382  cg03424478  \\\n",
       "0       2    0.955360    0.782549    0.910165    0.903011    0.028517   \n",
       "1       1    0.902738    0.728984    0.950909    0.922423    0.030953   \n",
       "\n",
       "   cg00052836  cg00593243  cg06061283  cg24402323  ...  cg08606911  \\\n",
       "0    0.931199    0.948020    0.870155    0.039978  ...    0.059446   \n",
       "1    0.872534    0.917518    0.732005    0.060656  ...    0.069594   \n",
       "\n",
       "   cg23849327  cg02647998  cg15520443  cg26562694  cg25195987  cg05082965  \\\n",
       "0    0.517787    0.899838    0.116186    0.041020    0.855891    0.042589   \n",
       "1    0.554499    0.885940    0.083426    0.025679    0.875692    0.035756   \n",
       "\n",
       "   cg12046288  cg19534805  cg18634479  \n",
       "0    0.017441    0.935316    0.019785  \n",
       "1    0.019627    0.903219    0.022394  \n",
       "\n",
       "[2 rows x 51 columns]"
      ]
     },
     "execution_count": 3,
     "metadata": {},
     "output_type": "execute_result"
    }
   ],
   "source": [
    "df1 = df.drop(['PATNO'], axis=1)\n",
    "df1.head(2)"
   ]
  },
  {
   "cell_type": "code",
   "execution_count": 4,
   "metadata": {
    "ExecuteTime": {
     "end_time": "2023-01-12T07:03:11.979826Z",
     "start_time": "2023-01-12T06:58:04.515718Z"
    }
   },
   "outputs": [
    {
     "name": "stdout",
     "output_type": "stream",
     "text": [
      "1\n",
      "2\n",
      "3\n",
      "4\n",
      "5\n",
      "6\n",
      "7\n",
      "8\n",
      "9\n",
      "10\n",
      "11\n",
      "12\n",
      "13\n",
      "14\n",
      "15\n",
      "16\n",
      "17\n",
      "18\n",
      "19\n",
      "20\n",
      "21\n",
      "22\n",
      "23\n",
      "24\n",
      "25\n",
      "26\n",
      "27\n",
      "28\n",
      "29\n",
      "30\n",
      "31\n",
      "32\n",
      "33\n",
      "34\n",
      "35\n",
      "36\n",
      "37\n",
      "38\n",
      "39\n",
      "40\n",
      "41\n",
      "42\n",
      "43\n",
      "44\n",
      "45\n",
      "46\n",
      "47\n",
      "48\n",
      "49\n",
      "50\n",
      "51\n",
      "52\n",
      "53\n",
      "54\n",
      "55\n",
      "56\n",
      "57\n",
      "58\n",
      "59\n",
      "60\n",
      "61\n",
      "62\n",
      "63\n",
      "64\n",
      "65\n",
      "66\n",
      "67\n",
      "68\n",
      "69\n",
      "70\n",
      "71\n",
      "72\n",
      "73\n",
      "74\n",
      "75\n",
      "76\n",
      "77\n",
      "78\n",
      "79\n",
      "80\n",
      "81\n",
      "82\n",
      "83\n",
      "84\n",
      "85\n",
      "86\n",
      "87\n",
      "88\n",
      "89\n",
      "90\n",
      "91\n",
      "92\n",
      "93\n",
      "94\n",
      "95\n",
      "96\n",
      "97\n",
      "98\n",
      "99\n",
      "100\n"
     ]
    }
   ],
   "source": [
    "np.random.seed (1)\n",
    "dframe1 = pd.DataFrame(columns=['Accuracy', 'Std_Dev'])\n",
    "for i in range (1,101) :\n",
    "        print(i)\n",
    "        dataset = df1.groupby('APPRDX').apply(lambda x: x.sample(100))\n",
    "        X = dataset.iloc[:, 1:].values\n",
    "        y = dataset.iloc[:, 0].values\n",
    "        classifier = RandomForestClassifier(n_estimators = 100, criterion = 'entropy', random_state = 1)\n",
    "        cv = RepeatedStratifiedKFold(n_splits=10, n_repeats=5, random_state=1)\n",
    "        n_scores = cross_val_score(classifier, X, y, scoring='accuracy', cv=cv, n_jobs=-1, error_score='raise')\n",
    "        dframe1 = dframe1.append({'Accuracy': mean(n_scores), 'Std_Dev': std(n_scores)}, ignore_index=True)\n"
   ]
  },
  {
   "cell_type": "code",
   "execution_count": 5,
   "metadata": {
    "ExecuteTime": {
     "end_time": "2023-01-12T07:03:12.005522Z",
     "start_time": "2023-01-12T07:03:11.979826Z"
    }
   },
   "outputs": [
    {
     "name": "stdout",
     "output_type": "stream",
     "text": [
      "   Accuracy   Std_Dev\n",
      "0     0.673  0.112787\n",
      "1     0.688  0.095163\n"
     ]
    }
   ],
   "source": [
    "print(dframe1.head(2))\n",
    "dframe1.to_csv (\"TrailMakeB_NMICpG_100RF.csv\")"
   ]
  },
  {
   "cell_type": "markdown",
   "metadata": {},
   "source": [
    "## Boruta"
   ]
  },
  {
   "cell_type": "code",
   "execution_count": 6,
   "metadata": {
    "ExecuteTime": {
     "end_time": "2023-01-12T07:03:12.183931Z",
     "start_time": "2023-01-12T07:03:12.005522Z"
    }
   },
   "outputs": [
    {
     "name": "stdout",
     "output_type": "stream",
     "text": [
      "(458, 52)\n"
     ]
    },
    {
     "data": {
      "text/html": [
       "<div>\n",
       "<style scoped>\n",
       "    .dataframe tbody tr th:only-of-type {\n",
       "        vertical-align: middle;\n",
       "    }\n",
       "\n",
       "    .dataframe tbody tr th {\n",
       "        vertical-align: top;\n",
       "    }\n",
       "\n",
       "    .dataframe thead th {\n",
       "        text-align: right;\n",
       "    }\n",
       "</style>\n",
       "<table border=\"1\" class=\"dataframe\">\n",
       "  <thead>\n",
       "    <tr style=\"text-align: right;\">\n",
       "      <th></th>\n",
       "      <th>PATNO</th>\n",
       "      <th>APPRDX</th>\n",
       "      <th>cg03424478</th>\n",
       "      <th>cg24467842</th>\n",
       "      <th>cg23937960</th>\n",
       "      <th>cg06709766</th>\n",
       "      <th>cg11608038</th>\n",
       "      <th>cg05932382</th>\n",
       "      <th>cg03135313</th>\n",
       "      <th>cg12600134</th>\n",
       "      <th>...</th>\n",
       "      <th>cg10619653</th>\n",
       "      <th>cg07503829</th>\n",
       "      <th>cg12220605</th>\n",
       "      <th>cg04733951</th>\n",
       "      <th>cg03896074</th>\n",
       "      <th>cg12046288</th>\n",
       "      <th>cg06734098</th>\n",
       "      <th>cg11374446</th>\n",
       "      <th>cg15087178</th>\n",
       "      <th>cg25910494</th>\n",
       "    </tr>\n",
       "  </thead>\n",
       "  <tbody>\n",
       "    <tr>\n",
       "      <th>0</th>\n",
       "      <td>3000</td>\n",
       "      <td>2</td>\n",
       "      <td>0.028517</td>\n",
       "      <td>0.830469</td>\n",
       "      <td>0.035576</td>\n",
       "      <td>0.046912</td>\n",
       "      <td>0.453095</td>\n",
       "      <td>0.017316</td>\n",
       "      <td>0.911096</td>\n",
       "      <td>0.029068</td>\n",
       "      <td>...</td>\n",
       "      <td>0.935868</td>\n",
       "      <td>0.025713</td>\n",
       "      <td>0.117280</td>\n",
       "      <td>0.929554</td>\n",
       "      <td>0.653594</td>\n",
       "      <td>0.017441</td>\n",
       "      <td>0.340984</td>\n",
       "      <td>0.884241</td>\n",
       "      <td>0.931923</td>\n",
       "      <td>0.877061</td>\n",
       "    </tr>\n",
       "    <tr>\n",
       "      <th>1</th>\n",
       "      <td>3001</td>\n",
       "      <td>1</td>\n",
       "      <td>0.030953</td>\n",
       "      <td>0.874708</td>\n",
       "      <td>0.035811</td>\n",
       "      <td>0.055100</td>\n",
       "      <td>0.446784</td>\n",
       "      <td>0.017092</td>\n",
       "      <td>0.852488</td>\n",
       "      <td>0.025254</td>\n",
       "      <td>...</td>\n",
       "      <td>0.906738</td>\n",
       "      <td>0.028810</td>\n",
       "      <td>0.082447</td>\n",
       "      <td>0.836794</td>\n",
       "      <td>0.495885</td>\n",
       "      <td>0.019627</td>\n",
       "      <td>0.050031</td>\n",
       "      <td>0.884892</td>\n",
       "      <td>0.916993</td>\n",
       "      <td>0.778887</td>\n",
       "    </tr>\n",
       "    <tr>\n",
       "      <th>2</th>\n",
       "      <td>3002</td>\n",
       "      <td>1</td>\n",
       "      <td>0.030566</td>\n",
       "      <td>0.852028</td>\n",
       "      <td>0.030482</td>\n",
       "      <td>0.061032</td>\n",
       "      <td>0.543991</td>\n",
       "      <td>0.017214</td>\n",
       "      <td>0.865867</td>\n",
       "      <td>0.017369</td>\n",
       "      <td>...</td>\n",
       "      <td>0.893281</td>\n",
       "      <td>0.020802</td>\n",
       "      <td>0.078017</td>\n",
       "      <td>0.914505</td>\n",
       "      <td>0.581705</td>\n",
       "      <td>0.018174</td>\n",
       "      <td>0.182685</td>\n",
       "      <td>0.903333</td>\n",
       "      <td>0.929765</td>\n",
       "      <td>0.880228</td>\n",
       "    </tr>\n",
       "  </tbody>\n",
       "</table>\n",
       "<p>3 rows × 52 columns</p>\n",
       "</div>"
      ],
      "text/plain": [
       "   PATNO  APPRDX  cg03424478  cg24467842  cg23937960  cg06709766  cg11608038  \\\n",
       "0   3000       2    0.028517    0.830469    0.035576    0.046912    0.453095   \n",
       "1   3001       1    0.030953    0.874708    0.035811    0.055100    0.446784   \n",
       "2   3002       1    0.030566    0.852028    0.030482    0.061032    0.543991   \n",
       "\n",
       "   cg05932382  cg03135313  cg12600134  ...  cg10619653  cg07503829  \\\n",
       "0    0.017316    0.911096    0.029068  ...    0.935868    0.025713   \n",
       "1    0.017092    0.852488    0.025254  ...    0.906738    0.028810   \n",
       "2    0.017214    0.865867    0.017369  ...    0.893281    0.020802   \n",
       "\n",
       "   cg12220605  cg04733951  cg03896074  cg12046288  cg06734098  cg11374446  \\\n",
       "0    0.117280    0.929554    0.653594    0.017441    0.340984    0.884241   \n",
       "1    0.082447    0.836794    0.495885    0.019627    0.050031    0.884892   \n",
       "2    0.078017    0.914505    0.581705    0.018174    0.182685    0.903333   \n",
       "\n",
       "   cg15087178  cg25910494  \n",
       "0    0.931923    0.877061  \n",
       "1    0.916993    0.778887  \n",
       "2    0.929765    0.880228  \n",
       "\n",
       "[3 rows x 52 columns]"
      ]
     },
     "execution_count": 6,
     "metadata": {},
     "output_type": "execute_result"
    }
   ],
   "source": [
    "df = pd.read_csv('Top50Boruta_TrailMakeB_Data.csv')\n",
    "print(df.shape)\n",
    "df.head(3)"
   ]
  },
  {
   "cell_type": "code",
   "execution_count": 7,
   "metadata": {
    "ExecuteTime": {
     "end_time": "2023-01-12T07:03:12.284197Z",
     "start_time": "2023-01-12T07:03:12.190439Z"
    }
   },
   "outputs": [
    {
     "data": {
      "text/html": [
       "<div>\n",
       "<style scoped>\n",
       "    .dataframe tbody tr th:only-of-type {\n",
       "        vertical-align: middle;\n",
       "    }\n",
       "\n",
       "    .dataframe tbody tr th {\n",
       "        vertical-align: top;\n",
       "    }\n",
       "\n",
       "    .dataframe thead th {\n",
       "        text-align: right;\n",
       "    }\n",
       "</style>\n",
       "<table border=\"1\" class=\"dataframe\">\n",
       "  <thead>\n",
       "    <tr style=\"text-align: right;\">\n",
       "      <th></th>\n",
       "      <th>APPRDX</th>\n",
       "      <th>cg03424478</th>\n",
       "      <th>cg24467842</th>\n",
       "      <th>cg23937960</th>\n",
       "      <th>cg06709766</th>\n",
       "      <th>cg11608038</th>\n",
       "      <th>cg05932382</th>\n",
       "      <th>cg03135313</th>\n",
       "      <th>cg12600134</th>\n",
       "      <th>cg13312668</th>\n",
       "      <th>...</th>\n",
       "      <th>cg10619653</th>\n",
       "      <th>cg07503829</th>\n",
       "      <th>cg12220605</th>\n",
       "      <th>cg04733951</th>\n",
       "      <th>cg03896074</th>\n",
       "      <th>cg12046288</th>\n",
       "      <th>cg06734098</th>\n",
       "      <th>cg11374446</th>\n",
       "      <th>cg15087178</th>\n",
       "      <th>cg25910494</th>\n",
       "    </tr>\n",
       "  </thead>\n",
       "  <tbody>\n",
       "    <tr>\n",
       "      <th>0</th>\n",
       "      <td>2</td>\n",
       "      <td>0.028517</td>\n",
       "      <td>0.830469</td>\n",
       "      <td>0.035576</td>\n",
       "      <td>0.046912</td>\n",
       "      <td>0.453095</td>\n",
       "      <td>0.017316</td>\n",
       "      <td>0.911096</td>\n",
       "      <td>0.029068</td>\n",
       "      <td>0.902683</td>\n",
       "      <td>...</td>\n",
       "      <td>0.935868</td>\n",
       "      <td>0.025713</td>\n",
       "      <td>0.117280</td>\n",
       "      <td>0.929554</td>\n",
       "      <td>0.653594</td>\n",
       "      <td>0.017441</td>\n",
       "      <td>0.340984</td>\n",
       "      <td>0.884241</td>\n",
       "      <td>0.931923</td>\n",
       "      <td>0.877061</td>\n",
       "    </tr>\n",
       "    <tr>\n",
       "      <th>1</th>\n",
       "      <td>1</td>\n",
       "      <td>0.030953</td>\n",
       "      <td>0.874708</td>\n",
       "      <td>0.035811</td>\n",
       "      <td>0.055100</td>\n",
       "      <td>0.446784</td>\n",
       "      <td>0.017092</td>\n",
       "      <td>0.852488</td>\n",
       "      <td>0.025254</td>\n",
       "      <td>0.858468</td>\n",
       "      <td>...</td>\n",
       "      <td>0.906738</td>\n",
       "      <td>0.028810</td>\n",
       "      <td>0.082447</td>\n",
       "      <td>0.836794</td>\n",
       "      <td>0.495885</td>\n",
       "      <td>0.019627</td>\n",
       "      <td>0.050031</td>\n",
       "      <td>0.884892</td>\n",
       "      <td>0.916993</td>\n",
       "      <td>0.778887</td>\n",
       "    </tr>\n",
       "  </tbody>\n",
       "</table>\n",
       "<p>2 rows × 51 columns</p>\n",
       "</div>"
      ],
      "text/plain": [
       "   APPRDX  cg03424478  cg24467842  cg23937960  cg06709766  cg11608038  \\\n",
       "0       2    0.028517    0.830469    0.035576    0.046912    0.453095   \n",
       "1       1    0.030953    0.874708    0.035811    0.055100    0.446784   \n",
       "\n",
       "   cg05932382  cg03135313  cg12600134  cg13312668  ...  cg10619653  \\\n",
       "0    0.017316    0.911096    0.029068    0.902683  ...    0.935868   \n",
       "1    0.017092    0.852488    0.025254    0.858468  ...    0.906738   \n",
       "\n",
       "   cg07503829  cg12220605  cg04733951  cg03896074  cg12046288  cg06734098  \\\n",
       "0    0.025713    0.117280    0.929554    0.653594    0.017441    0.340984   \n",
       "1    0.028810    0.082447    0.836794    0.495885    0.019627    0.050031   \n",
       "\n",
       "   cg11374446  cg15087178  cg25910494  \n",
       "0    0.884241    0.931923    0.877061  \n",
       "1    0.884892    0.916993    0.778887  \n",
       "\n",
       "[2 rows x 51 columns]"
      ]
     },
     "execution_count": 7,
     "metadata": {},
     "output_type": "execute_result"
    }
   ],
   "source": [
    "df1 = df.drop(['PATNO'], axis=1)\n",
    "df1.head(2)"
   ]
  },
  {
   "cell_type": "code",
   "execution_count": null,
   "metadata": {
    "ExecuteTime": {
     "start_time": "2023-01-12T06:58:02.770Z"
    }
   },
   "outputs": [
    {
     "name": "stdout",
     "output_type": "stream",
     "text": [
      "1\n",
      "2\n",
      "3\n",
      "4\n",
      "5\n",
      "6\n",
      "7\n",
      "8\n",
      "9\n",
      "10\n",
      "11\n",
      "12\n",
      "13\n",
      "14\n",
      "15\n",
      "16\n",
      "17\n",
      "18\n",
      "19\n",
      "20\n",
      "21\n",
      "22\n",
      "23\n",
      "24\n",
      "25\n",
      "26\n",
      "27\n",
      "28\n",
      "29\n",
      "30\n",
      "31\n",
      "32\n",
      "33\n",
      "34\n",
      "35\n",
      "36\n",
      "37\n",
      "38\n",
      "39\n",
      "40\n",
      "41\n",
      "42\n",
      "43\n",
      "44\n",
      "45\n",
      "46\n",
      "47\n",
      "48\n",
      "49\n",
      "50\n",
      "51\n",
      "52\n",
      "53\n",
      "54\n",
      "55\n",
      "56\n",
      "57\n",
      "58\n",
      "59\n",
      "60\n",
      "61\n",
      "62\n",
      "63\n",
      "64\n",
      "65\n",
      "66\n",
      "67\n",
      "68\n",
      "69\n",
      "70\n",
      "71\n",
      "72\n",
      "73\n",
      "74\n",
      "75\n",
      "76\n",
      "77\n",
      "78\n",
      "79\n",
      "80\n",
      "81\n",
      "82\n",
      "83\n",
      "84\n",
      "85\n",
      "86\n",
      "87\n",
      "88\n",
      "89\n",
      "90\n",
      "91\n",
      "92\n",
      "93\n",
      "94\n",
      "95\n",
      "96\n",
      "97\n",
      "98\n",
      "99\n",
      "100\n"
     ]
    }
   ],
   "source": [
    "np.random.seed (1)\n",
    "dframe1 = pd.DataFrame(columns=['Accuracy', 'Std_Dev'])\n",
    "for i in range (1,101) :\n",
    "        print(i)\n",
    "        dataset = df1.groupby('APPRDX').apply(lambda x: x.sample(100))\n",
    "        X = dataset.iloc[:, 1:].values\n",
    "        y = dataset.iloc[:, 0].values\n",
    "        classifier = RandomForestClassifier(n_estimators = 100, criterion = 'entropy', random_state = 1)\n",
    "        cv = RepeatedStratifiedKFold(n_splits=10, n_repeats=5, random_state=1)\n",
    "        n_scores = cross_val_score(classifier, X, y, scoring='accuracy', cv=cv, n_jobs=-1, error_score='raise')\n",
    "        dframe1 = dframe1.append({'Accuracy': mean(n_scores), 'Std_Dev': std(n_scores)}, ignore_index=True)\n"
   ]
  },
  {
   "cell_type": "code",
   "execution_count": null,
   "metadata": {
    "ExecuteTime": {
     "start_time": "2023-01-12T06:58:02.775Z"
    }
   },
   "outputs": [],
   "source": [
    "print(dframe1.head(2))\n",
    "dframe1.to_csv (\"TrailMakeB_BorutaCpG_100RF.csv\")"
   ]
  },
  {
   "cell_type": "markdown",
   "metadata": {},
   "source": [
    "## BorutaR"
   ]
  },
  {
   "cell_type": "code",
   "execution_count": null,
   "metadata": {
    "ExecuteTime": {
     "start_time": "2023-01-12T06:58:02.778Z"
    }
   },
   "outputs": [],
   "source": [
    "df = pd.read_csv('BorutaR_TrailMakeB_CpG.csv')\n",
    "print(df.shape)\n",
    "df.head(3)"
   ]
  },
  {
   "cell_type": "code",
   "execution_count": null,
   "metadata": {
    "ExecuteTime": {
     "start_time": "2023-01-12T06:58:02.784Z"
    }
   },
   "outputs": [],
   "source": [
    "df1 = df.drop(['PATNO'], axis=1)\n",
    "df1.head(2)"
   ]
  },
  {
   "cell_type": "code",
   "execution_count": null,
   "metadata": {
    "ExecuteTime": {
     "start_time": "2023-01-12T06:58:02.788Z"
    }
   },
   "outputs": [],
   "source": [
    "np.random.seed (1)\n",
    "dframe1 = pd.DataFrame(columns=['Accuracy', 'Std_Dev'])\n",
    "for i in range (1,101) :\n",
    "        print(i)\n",
    "        dataset = df1.groupby('APPRDX').apply(lambda x: x.sample(100))\n",
    "        X = dataset.iloc[:, 1:].values\n",
    "        y = dataset.iloc[:, 0].values\n",
    "        classifier = RandomForestClassifier(n_estimators = 100, criterion = 'entropy', random_state = 1)\n",
    "        cv = RepeatedStratifiedKFold(n_splits=10, n_repeats=5, random_state=1)\n",
    "        n_scores = cross_val_score(classifier, X, y, scoring='accuracy', cv=cv, n_jobs=-1, error_score='raise')\n",
    "        dframe1 = dframe1.append({'Accuracy': mean(n_scores), 'Std_Dev': std(n_scores)}, ignore_index=True)\n"
   ]
  },
  {
   "cell_type": "code",
   "execution_count": null,
   "metadata": {
    "ExecuteTime": {
     "start_time": "2023-01-12T06:58:02.792Z"
    }
   },
   "outputs": [],
   "source": [
    "print(dframe1.head(2))\n",
    "dframe1.to_csv (\"TrailMakeB_BorutaRCpG_100RF.csv\")"
   ]
  },
  {
   "cell_type": "markdown",
   "metadata": {},
   "source": [
    "## Common"
   ]
  },
  {
   "cell_type": "code",
   "execution_count": null,
   "metadata": {
    "ExecuteTime": {
     "start_time": "2023-01-12T06:58:02.796Z"
    }
   },
   "outputs": [],
   "source": [
    "df = pd.read_csv('Common6_TrailMakeB_Data.csv')\n",
    "print(df.shape)\n",
    "df.head(3)"
   ]
  },
  {
   "cell_type": "code",
   "execution_count": null,
   "metadata": {
    "ExecuteTime": {
     "start_time": "2023-01-12T06:58:02.800Z"
    }
   },
   "outputs": [],
   "source": [
    "df1 = df.drop(['PATNO'], axis=1)\n",
    "df1.head(2)"
   ]
  },
  {
   "cell_type": "code",
   "execution_count": null,
   "metadata": {
    "ExecuteTime": {
     "start_time": "2023-01-12T06:58:02.805Z"
    }
   },
   "outputs": [],
   "source": [
    "np.random.seed (1)\n",
    "dframe1 = pd.DataFrame(columns=['Accuracy', 'Std_Dev'])\n",
    "for i in range (1,101) :\n",
    "        print(i)\n",
    "        dataset = df1.groupby('APPRDX').apply(lambda x: x.sample(100))\n",
    "        X = dataset.iloc[:, 1:].values\n",
    "        y = dataset.iloc[:, 0].values\n",
    "        classifier = RandomForestClassifier(n_estimators = 100, criterion = 'entropy', random_state = 1)\n",
    "        cv = RepeatedStratifiedKFold(n_splits=10, n_repeats=5, random_state=1)\n",
    "        n_scores = cross_val_score(classifier, X, y, scoring='accuracy', cv=cv, n_jobs=-1, error_score='raise')\n",
    "        dframe1 = dframe1.append({'Accuracy': mean(n_scores), 'Std_Dev': std(n_scores)}, ignore_index=True)\n"
   ]
  },
  {
   "cell_type": "code",
   "execution_count": null,
   "metadata": {
    "ExecuteTime": {
     "start_time": "2023-01-12T06:58:02.807Z"
    }
   },
   "outputs": [],
   "source": [
    "print(dframe1.head(2))\n",
    "dframe1.to_csv (\"TrailMakeB_Common10CpG_100RF.csv\")"
   ]
  },
  {
   "cell_type": "code",
   "execution_count": null,
   "metadata": {},
   "outputs": [],
   "source": []
  }
 ],
 "metadata": {
  "colab": {
   "authorship_tag": "ABX9TyPA7K2PAkEFgaKFIvslUMEc",
   "collapsed_sections": [],
   "machine_shape": "hm",
   "name": "random_forest_classification.ipynb",
   "provenance": [],
   "toc_visible": true
  },
  "kernelspec": {
   "display_name": "Python 3 (ipykernel)",
   "language": "python",
   "name": "python3"
  },
  "language_info": {
   "codemirror_mode": {
    "name": "ipython",
    "version": 3
   },
   "file_extension": ".py",
   "mimetype": "text/x-python",
   "name": "python",
   "nbconvert_exporter": "python",
   "pygments_lexer": "ipython3",
   "version": "3.9.7"
  },
  "toc": {
   "base_numbering": 1,
   "nav_menu": {},
   "number_sections": true,
   "sideBar": true,
   "skip_h1_title": false,
   "title_cell": "Table of Contents",
   "title_sidebar": "Contents",
   "toc_cell": false,
   "toc_position": {},
   "toc_section_display": true,
   "toc_window_display": false
  },
  "varInspector": {
   "cols": {
    "lenName": 16,
    "lenType": 16,
    "lenVar": 40
   },
   "kernels_config": {
    "python": {
     "delete_cmd_postfix": "",
     "delete_cmd_prefix": "del ",
     "library": "var_list.py",
     "varRefreshCmd": "print(var_dic_list())"
    },
    "r": {
     "delete_cmd_postfix": ") ",
     "delete_cmd_prefix": "rm(",
     "library": "var_list.r",
     "varRefreshCmd": "cat(var_dic_list()) "
    }
   },
   "types_to_exclude": [
    "module",
    "function",
    "builtin_function_or_method",
    "instance",
    "_Feature"
   ],
   "window_display": false
  }
 },
 "nbformat": 4,
 "nbformat_minor": 1
}
