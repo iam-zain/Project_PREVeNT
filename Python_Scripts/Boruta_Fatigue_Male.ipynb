{
 "cells": [
  {
   "cell_type": "code",
   "execution_count": 1,
   "id": "51c5704f",
   "metadata": {
    "ExecuteTime": {
     "end_time": "2022-12-26T12:23:37.946434Z",
     "start_time": "2022-12-26T12:23:27.751504Z"
    }
   },
   "outputs": [],
   "source": [
    "import numpy as np\n",
    "import pandas as pd\n",
    "from boruta import BorutaPy\n",
    "from sklearn.datasets import load_diabetes\n",
    "from sklearn.metrics import accuracy_score \n",
    "from sklearn.ensemble import RandomForestRegressor\n",
    "from sklearn.ensemble import RandomForestClassifier\n",
    "from sklearn.model_selection import train_test_split"
   ]
  },
  {
   "cell_type": "code",
   "execution_count": 2,
   "id": "5ff336b1",
   "metadata": {
    "ExecuteTime": {
     "end_time": "2022-12-26T12:23:56.020343Z",
     "start_time": "2022-12-26T12:23:37.946434Z"
    }
   },
   "outputs": [
    {
     "name": "stdout",
     "output_type": "stream",
     "text": [
      "Z:\\PPMI_Data\\Excels\\Only_Male\\GeneCpG\\Fatigue\n"
     ]
    },
    {
     "data": {
      "text/html": [
       "<div>\n",
       "<style scoped>\n",
       "    .dataframe tbody tr th:only-of-type {\n",
       "        vertical-align: middle;\n",
       "    }\n",
       "\n",
       "    .dataframe tbody tr th {\n",
       "        vertical-align: top;\n",
       "    }\n",
       "\n",
       "    .dataframe thead th {\n",
       "        text-align: right;\n",
       "    }\n",
       "</style>\n",
       "<table border=\"1\" class=\"dataframe\">\n",
       "  <thead>\n",
       "    <tr style=\"text-align: right;\">\n",
       "      <th></th>\n",
       "      <th>Unnamed: 0</th>\n",
       "      <th>Sentrix</th>\n",
       "      <th>PATNO</th>\n",
       "      <th>HYS</th>\n",
       "      <th>Gender</th>\n",
       "      <th>APPRDX</th>\n",
       "      <th>MDSP_Fatigue</th>\n",
       "      <th>cg17960051</th>\n",
       "      <th>cg06562372</th>\n",
       "      <th>cg04099454</th>\n",
       "      <th>...</th>\n",
       "      <th>cg15500865</th>\n",
       "      <th>cg10329418</th>\n",
       "      <th>cg18241308</th>\n",
       "      <th>cg04350520</th>\n",
       "      <th>cg04685170</th>\n",
       "      <th>cg20985067</th>\n",
       "      <th>cg08461772</th>\n",
       "      <th>cg25879118</th>\n",
       "      <th>cg07510163</th>\n",
       "      <th>ch.13.693633F</th>\n",
       "    </tr>\n",
       "  </thead>\n",
       "  <tbody>\n",
       "    <tr>\n",
       "      <th>0</th>\n",
       "      <td>0</td>\n",
       "      <td>200991620021_R01C01</td>\n",
       "      <td>3001</td>\n",
       "      <td>2</td>\n",
       "      <td>1</td>\n",
       "      <td>1</td>\n",
       "      <td>1</td>\n",
       "      <td>0.019716</td>\n",
       "      <td>0.024434</td>\n",
       "      <td>0.895146</td>\n",
       "      <td>...</td>\n",
       "      <td>0.105174</td>\n",
       "      <td>0.262518</td>\n",
       "      <td>0.784256</td>\n",
       "      <td>0.886425</td>\n",
       "      <td>0.080717</td>\n",
       "      <td>0.814912</td>\n",
       "      <td>0.331552</td>\n",
       "      <td>0.916387</td>\n",
       "      <td>0.841837</td>\n",
       "      <td>0.036872</td>\n",
       "    </tr>\n",
       "  </tbody>\n",
       "</table>\n",
       "<p>1 rows × 31218 columns</p>\n",
       "</div>"
      ],
      "text/plain": [
       "   Unnamed: 0              Sentrix  PATNO  HYS  Gender  APPRDX  MDSP_Fatigue  \\\n",
       "0           0  200991620021_R01C01   3001    2       1       1             1   \n",
       "\n",
       "   cg17960051  cg06562372  cg04099454  ...  cg15500865  cg10329418  \\\n",
       "0    0.019716    0.024434    0.895146  ...    0.105174    0.262518   \n",
       "\n",
       "   cg18241308  cg04350520  cg04685170  cg20985067  cg08461772  cg25879118  \\\n",
       "0    0.784256    0.886425    0.080717    0.814912    0.331552    0.916387   \n",
       "\n",
       "   cg07510163  ch.13.693633F  \n",
       "0    0.841837       0.036872  \n",
       "\n",
       "[1 rows x 31218 columns]"
      ]
     },
     "execution_count": 2,
     "metadata": {},
     "output_type": "execute_result"
    }
   ],
   "source": [
    "%cd Z:\\PPMI_Data\\Excels\\Only_Male\\GeneCpG\\Fatigue\n",
    "data = pd.read_csv('FatigueCateg_Methylome_Male.csv')\n",
    "data.head(1)"
   ]
  },
  {
   "cell_type": "code",
   "execution_count": 3,
   "id": "ee22df7a",
   "metadata": {
    "ExecuteTime": {
     "end_time": "2022-12-26T12:24:54.387138Z",
     "start_time": "2022-12-26T12:24:54.010847Z"
    }
   },
   "outputs": [],
   "source": [
    "X = data.drop(['Unnamed: 0','Sentrix','PATNO','HYS','Gender','MDSP_Fatigue','APPRDX'], axis = 1)\n",
    "y = data['APPRDX']\n",
    "X_train, X_test, y_train, y_test = train_test_split(X, y, test_size = .2, random_state = 1) "
   ]
  },
  {
   "cell_type": "code",
   "execution_count": 4,
   "id": "c1ee3e48",
   "metadata": {
    "ExecuteTime": {
     "end_time": "2022-12-26T12:25:10.046762Z",
     "start_time": "2022-12-26T12:25:08.059613Z"
    }
   },
   "outputs": [
    {
     "data": {
      "text/plain": [
       "RandomForestClassifier(random_state=1)"
      ]
     },
     "execution_count": 4,
     "metadata": {},
     "output_type": "execute_result"
    }
   ],
   "source": [
    "rf_all_features = RandomForestClassifier(random_state=1)\n",
    "rf_all_features.fit(X_train, y_train)"
   ]
  },
  {
   "cell_type": "code",
   "execution_count": 5,
   "id": "f17f8606",
   "metadata": {
    "ExecuteTime": {
     "end_time": "2022-12-26T12:25:11.353443Z",
     "start_time": "2022-12-26T12:25:11.114186Z"
    }
   },
   "outputs": [
    {
     "data": {
      "text/plain": [
       "0.7096774193548387"
      ]
     },
     "execution_count": 5,
     "metadata": {},
     "output_type": "execute_result"
    }
   ],
   "source": [
    "accuracy_score(y_test, rf_all_features.predict(X_test))"
   ]
  },
  {
   "cell_type": "code",
   "execution_count": 6,
   "id": "5ba608ac",
   "metadata": {
    "ExecuteTime": {
     "end_time": "2022-12-26T12:35:43.464868Z",
     "start_time": "2022-12-26T12:25:12.298303Z"
    }
   },
   "outputs": [
    {
     "name": "stdout",
     "output_type": "stream",
     "text": [
      "Iteration: 1 / 100\n",
      "Iteration: 2 / 100\n",
      "Iteration: 3 / 100\n",
      "Iteration: 4 / 100\n",
      "Iteration: 5 / 100\n",
      "Iteration: 6 / 100\n",
      "Iteration: 7 / 100\n",
      "Iteration: 8 / 100\n",
      "Iteration: 9 / 100\n",
      "\n",
      "\n",
      "BorutaPy finished running.\n",
      "\n",
      "Iteration: \t10 / 100\n",
      "Confirmed: \t1\n",
      "Tentative: \t0\n",
      "Rejected: \t31211\n"
     ]
    },
    {
     "data": {
      "text/plain": [
       "BorutaPy(estimator=RandomForestClassifier(n_estimators=14,\n",
       "                                          random_state=RandomState(MT19937) at 0x226F7774E40),\n",
       "         n_estimators='auto',\n",
       "         random_state=RandomState(MT19937) at 0x226F7774E40, verbose=1)"
      ]
     },
     "execution_count": 6,
     "metadata": {},
     "output_type": "execute_result"
    }
   ],
   "source": [
    "rfc = RandomForestClassifier(random_state=1)\n",
    "boruta_selector = BorutaPy(rfc, n_estimators= 'auto', verbose=1, random_state=2)\n",
    "boruta_selector.fit(np.array(X_train), np.array(y_train))  "
   ]
  },
  {
   "cell_type": "code",
   "execution_count": 7,
   "id": "51f874e0",
   "metadata": {
    "ExecuteTime": {
     "end_time": "2022-12-26T12:35:45.186106Z",
     "start_time": "2022-12-26T12:35:45.143850Z"
    }
   },
   "outputs": [
    {
     "name": "stdout",
     "output_type": "stream",
     "text": [
      "No. of significant features:  1\n"
     ]
    }
   ],
   "source": [
    "# print(\"Ranking: \",boruta_selector.ranking_)          \n",
    "print(\"No. of significant features: \", boruta_selector.n_features_)"
   ]
  },
  {
   "cell_type": "code",
   "execution_count": 8,
   "id": "61cadc89",
   "metadata": {
    "ExecuteTime": {
     "end_time": "2022-12-26T12:35:46.893230Z",
     "start_time": "2022-12-26T12:35:46.852983Z"
    }
   },
   "outputs": [],
   "source": [
    "selected_rf_features = pd.DataFrame({'CpG':list(X_train.columns),\n",
    "                                       'Ranking':boruta_selector.ranking_})\n",
    "selected_rf_features = selected_rf_features.sort_values(by='Ranking')"
   ]
  },
  {
   "cell_type": "code",
   "execution_count": 9,
   "id": "6ae888ab",
   "metadata": {
    "ExecuteTime": {
     "end_time": "2022-12-26T12:35:48.823651Z",
     "start_time": "2022-12-26T12:35:48.803531Z"
    },
    "scrolled": true
   },
   "outputs": [
    {
     "data": {
      "text/html": [
       "<div>\n",
       "<style scoped>\n",
       "    .dataframe tbody tr th:only-of-type {\n",
       "        vertical-align: middle;\n",
       "    }\n",
       "\n",
       "    .dataframe tbody tr th {\n",
       "        vertical-align: top;\n",
       "    }\n",
       "\n",
       "    .dataframe thead th {\n",
       "        text-align: right;\n",
       "    }\n",
       "</style>\n",
       "<table border=\"1\" class=\"dataframe\">\n",
       "  <thead>\n",
       "    <tr style=\"text-align: right;\">\n",
       "      <th></th>\n",
       "      <th>CpG</th>\n",
       "      <th>Ranking</th>\n",
       "    </tr>\n",
       "  </thead>\n",
       "  <tbody>\n",
       "    <tr>\n",
       "      <th>0</th>\n",
       "      <td>APPRDX</td>\n",
       "      <td>1</td>\n",
       "    </tr>\n",
       "    <tr>\n",
       "      <th>3859</th>\n",
       "      <td>cg18473117</td>\n",
       "      <td>2</td>\n",
       "    </tr>\n",
       "    <tr>\n",
       "      <th>28277</th>\n",
       "      <td>cg17001689</td>\n",
       "      <td>3</td>\n",
       "    </tr>\n",
       "  </tbody>\n",
       "</table>\n",
       "</div>"
      ],
      "text/plain": [
       "              CpG  Ranking\n",
       "0          APPRDX        1\n",
       "3859   cg18473117        2\n",
       "28277  cg17001689        3"
      ]
     },
     "execution_count": 9,
     "metadata": {},
     "output_type": "execute_result"
    }
   ],
   "source": [
    "Top50 = selected_rf_features.iloc[:51, :]\n",
    "Top50.head(3)"
   ]
  },
  {
   "cell_type": "code",
   "execution_count": 10,
   "id": "9605e163",
   "metadata": {
    "ExecuteTime": {
     "end_time": "2022-12-26T12:35:50.733152Z",
     "start_time": "2022-12-26T12:35:50.491943Z"
    }
   },
   "outputs": [],
   "source": [
    "Top50.to_csv ('Fatigue_BorutaMale_Top50.csv', index = False)\n",
    "selected_rf_features.to_csv ('Fatigue_BorutaMale_All.csv', index = False)"
   ]
  },
  {
   "cell_type": "code",
   "execution_count": null,
   "id": "29711053",
   "metadata": {},
   "outputs": [],
   "source": [
    "# create a list of column names to subset from data\n",
    "col_names = Top50.iloc[:, 0].tolist()\n",
    "\n",
    "# subset df based on the column names\n",
    "df_subset = data.loc[:, data.columns.isin(col_names)]\n",
    "df_subset['APPRDX'] = data['APPRDX']\n",
    "df_subset.to_csv ('Fatigue_Boruta_Top50_Data_Male.csv', index = False)\n",
    "df_subset.head(2)"
   ]
  },
  {
   "cell_type": "markdown",
   "id": "3268cc49",
   "metadata": {
    "ExecuteTime": {
     "end_time": "2022-10-25T10:29:24.834703Z",
     "start_time": "2022-10-25T10:29:24.602914Z"
    }
   },
   "source": [
    "#Identify a string in dataframe\n",
    "substring = 'cg15328505'\n",
    "selected_rf_features[selected_rf_features.apply(lambda row: row.astype(str).str.contains(substring, case=False).any(), axis=1)]\n"
   ]
  }
 ],
 "metadata": {
  "kernelspec": {
   "display_name": "Python 3 (ipykernel)",
   "language": "python",
   "name": "python3"
  },
  "language_info": {
   "codemirror_mode": {
    "name": "ipython",
    "version": 3
   },
   "file_extension": ".py",
   "mimetype": "text/x-python",
   "name": "python",
   "nbconvert_exporter": "python",
   "pygments_lexer": "ipython3",
   "version": "3.9.16"
  },
  "toc": {
   "base_numbering": 1,
   "nav_menu": {},
   "number_sections": true,
   "sideBar": true,
   "skip_h1_title": false,
   "title_cell": "Table of Contents",
   "title_sidebar": "Contents",
   "toc_cell": false,
   "toc_position": {},
   "toc_section_display": true,
   "toc_window_display": false
  },
  "varInspector": {
   "cols": {
    "lenName": 16,
    "lenType": 16,
    "lenVar": 40
   },
   "kernels_config": {
    "python": {
     "delete_cmd_postfix": "",
     "delete_cmd_prefix": "del ",
     "library": "var_list.py",
     "varRefreshCmd": "print(var_dic_list())"
    },
    "r": {
     "delete_cmd_postfix": ") ",
     "delete_cmd_prefix": "rm(",
     "library": "var_list.r",
     "varRefreshCmd": "cat(var_dic_list()) "
    }
   },
   "types_to_exclude": [
    "module",
    "function",
    "builtin_function_or_method",
    "instance",
    "_Feature"
   ],
   "window_display": false
  }
 },
 "nbformat": 4,
 "nbformat_minor": 5
}
