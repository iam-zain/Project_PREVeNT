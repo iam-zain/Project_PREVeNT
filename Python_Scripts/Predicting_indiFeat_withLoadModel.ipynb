{
 "cells": [
  {
   "cell_type": "code",
   "execution_count": 1,
   "id": "af1ead43",
   "metadata": {
    "ExecuteTime": {
     "end_time": "2023-03-10T06:19:36.603569Z",
     "start_time": "2023-03-10T06:19:35.870451Z"
    }
   },
   "outputs": [
    {
     "name": "stdout",
     "output_type": "stream",
     "text": [
      "Z:\\PPMI_Data\\Excels\\CollaborativeFiltering\n"
     ]
    }
   ],
   "source": [
    "import joblib\n",
    "import warnings\n",
    "import numpy as np\n",
    "import pandas as pd\n",
    "warnings.filterwarnings(\"ignore\")\n",
    "%cd Z:\\PPMI_Data\\Excels\\CollaborativeFiltering"
   ]
  },
  {
   "cell_type": "code",
   "execution_count": 2,
   "id": "afccfc9c",
   "metadata": {
    "ExecuteTime": {
     "end_time": "2023-03-10T06:20:05.986724Z",
     "start_time": "2023-03-10T06:19:36.603569Z"
    }
   },
   "outputs": [
    {
     "name": "stdout",
     "output_type": "stream",
     "text": [
      "Enter the number of tests (minimum 3, maximum 45): 3\n",
      "Enter the name of test 1: Apathy\n",
      "What is the score for Apathy: 2\n",
      "Enter the name of test 2: Clock\n",
      "What is the score for Clock: 3\n",
      "Enter the name of test 3: UPSIT\n",
      "What is the score for UPSIT: 39\n",
      "For the test Apathy, user may belong to: Patient using Lasso model\n",
      "For the test Apathy, user may belong to: Patient using SVM model\n",
      "For the test Apathy, user may belong to: Patient using Elastic Net model\n",
      "For the test Clock, user may belong to: Patient using Lasso model\n",
      "For the test Clock, user may belong to: Patient using SVM model\n",
      "For the test Clock, user may belong to: Patient using Elastic Net model\n",
      "For the test UPSIT, user may belong to: Healthy using Lasso model\n",
      "For the test UPSIT, user may belong to: Healthy using SVM model\n",
      "For the test UPSIT, user may belong to: Healthy using Elastic Net model\n"
     ]
    }
   ],
   "source": [
    "# Initialize an empty list to store the tests and scores\n",
    "tests_scores = []\n",
    "\n",
    "# Get the number of tests\n",
    "while True:\n",
    "    num_tests = int(input('Enter the number of tests (minimum 3, maximum 45): '))\n",
    "    if num_tests >= 3 and num_tests <= 45:\n",
    "        break\n",
    "    print(\"Invalid input, please enter a number between 3 and 45\")\n",
    "\n",
    "# Get the name and score of each test\n",
    "for i in range(num_tests):\n",
    "    name = input(f'Enter the name of test {i + 1}: ')\n",
    "    score = int(input(f\"What is the score for {name}: \"))\n",
    "    tests_scores.append([name, score])\n",
    "\n",
    "# Initialize an empty list to store the predictions\n",
    "predictions = []\n",
    "\n",
    "# Predict for each test\n",
    "for i in range(num_tests):\n",
    "    name = tests_scores[i][0]\n",
    "    user_data = tests_scores[i][1]\n",
    "    user_data = np.array(user_data).reshape(-1, 1)\n",
    "\n",
    "    # Load the AdaBoost model from the file\n",
    "    #adaBoost_model = joblib.load(name + '_AdaBoost_model.joblib')\n",
    "\n",
    "    # Use the loaded model for predictions or further processing\n",
    "    #adaBoost_prediction = adaBoost_model.predict(user_data)\n",
    "    #print(f\"For the test {name}, user may belong to: {adaBoost_prediction[0]} using AdaBoost model\")\n",
    "\n",
    "    # Load the Lasso model from the file\n",
    "    LASSO_model = joblib.load(name + '_Lasso_model.joblib')\n",
    "\n",
    "    # Use the loaded model for predictions or further processing\n",
    "    Lasso_prediction = LASSO_model.predict(user_data)\n",
    "    \n",
    "    print(f\"For the test {name}, user may belong to: {Lasso_prediction[0]} using Lasso model\")\n",
    "\n",
    "    # Load the SVM Linear model from the file\n",
    "    svmL_model = joblib.load(name + '_svmL_model.joblib')\n",
    "\n",
    "    # Use the loaded model for predictions or further processing\n",
    "    SVM_prediction = svmL_model.predict(user_data)\n",
    "    print(f\"For the test {name}, user may belong to: {SVM_prediction[0]} using SVM model\")\n",
    "    \n",
    "    # Load the Elastic Net model from the file\n",
    "    enet_model = joblib.load(name + '_enet_model.joblib')\n",
    "\n",
    "    # Use the loaded model for predictions or further processing\n",
    "    enet_prediction = enet_model.predict(user_data)\n",
    "    print(f\"For the test {name}, user may belong to: {enet_prediction[0]} using Elastic Net model\")\n",
    "    \n",
    "    # Load the Bagging model from the file\n",
    "    #Bag_model = joblib.load(name + '_bag_model.joblib')\n",
    "\n",
    "    # Use the loaded model for predictions or further processing\n",
    "    #Bag_prediction = Bag_model.predict(user_data)\n",
    "    #print(f\"For the test {name}, user may belong to: {Bag_prediction[0]} using Bagging model\")\n",
    "\n",
    "\n",
    "    # Add the predictions to the list\n",
    "    predictions.append([ Lasso_prediction[0], SVM_prediction[0],enet_prediction[0]])\n",
    "\n",
    "# Convert the list into a dataframe\n",
    "feat_pred_df = pd.DataFrame(predictions, columns=[\"Lasso\", \"SVM Linear\", \"Elastic Net\"])\n"
   ]
  },
  {
   "cell_type": "code",
   "execution_count": 3,
   "id": "26c4dc28",
   "metadata": {
    "ExecuteTime": {
     "end_time": "2023-03-10T06:20:06.017972Z",
     "start_time": "2023-03-10T06:20:05.986724Z"
    },
    "scrolled": true
   },
   "outputs": [
    {
     "data": {
      "text/html": [
       "<div>\n",
       "<style scoped>\n",
       "    .dataframe tbody tr th:only-of-type {\n",
       "        vertical-align: middle;\n",
       "    }\n",
       "\n",
       "    .dataframe tbody tr th {\n",
       "        vertical-align: top;\n",
       "    }\n",
       "\n",
       "    .dataframe thead th {\n",
       "        text-align: right;\n",
       "    }\n",
       "</style>\n",
       "<table border=\"1\" class=\"dataframe\">\n",
       "  <thead>\n",
       "    <tr style=\"text-align: right;\">\n",
       "      <th></th>\n",
       "      <th>Lasso</th>\n",
       "      <th>SVM Linear</th>\n",
       "      <th>Elastic Net</th>\n",
       "    </tr>\n",
       "  </thead>\n",
       "  <tbody>\n",
       "    <tr>\n",
       "      <th>0</th>\n",
       "      <td>Patient</td>\n",
       "      <td>Patient</td>\n",
       "      <td>Patient</td>\n",
       "    </tr>\n",
       "    <tr>\n",
       "      <th>1</th>\n",
       "      <td>Patient</td>\n",
       "      <td>Patient</td>\n",
       "      <td>Patient</td>\n",
       "    </tr>\n",
       "    <tr>\n",
       "      <th>2</th>\n",
       "      <td>Healthy</td>\n",
       "      <td>Healthy</td>\n",
       "      <td>Healthy</td>\n",
       "    </tr>\n",
       "  </tbody>\n",
       "</table>\n",
       "</div>"
      ],
      "text/plain": [
       "     Lasso SVM Linear Elastic Net\n",
       "0  Patient    Patient     Patient\n",
       "1  Patient    Patient     Patient\n",
       "2  Healthy    Healthy     Healthy"
      ]
     },
     "execution_count": 3,
     "metadata": {},
     "output_type": "execute_result"
    }
   ],
   "source": [
    "feat_pred_df.head()"
   ]
  },
  {
   "cell_type": "code",
   "execution_count": 4,
   "id": "a63aef2a",
   "metadata": {
    "ExecuteTime": {
     "end_time": "2023-03-10T06:20:06.102615Z",
     "start_time": "2023-03-10T06:20:06.017972Z"
    }
   },
   "outputs": [
    {
     "data": {
      "text/html": [
       "<div>\n",
       "<style scoped>\n",
       "    .dataframe tbody tr th:only-of-type {\n",
       "        vertical-align: middle;\n",
       "    }\n",
       "\n",
       "    .dataframe tbody tr th {\n",
       "        vertical-align: top;\n",
       "    }\n",
       "\n",
       "    .dataframe thead th {\n",
       "        text-align: right;\n",
       "    }\n",
       "</style>\n",
       "<table border=\"1\" class=\"dataframe\">\n",
       "  <thead>\n",
       "    <tr style=\"text-align: right;\">\n",
       "      <th></th>\n",
       "      <th>Maximum_Occurrence</th>\n",
       "    </tr>\n",
       "  </thead>\n",
       "  <tbody>\n",
       "    <tr>\n",
       "      <th>0</th>\n",
       "      <td>Patient</td>\n",
       "    </tr>\n",
       "    <tr>\n",
       "      <th>1</th>\n",
       "      <td>Patient</td>\n",
       "    </tr>\n",
       "    <tr>\n",
       "      <th>2</th>\n",
       "      <td>Healthy</td>\n",
       "    </tr>\n",
       "  </tbody>\n",
       "</table>\n",
       "</div>"
      ],
      "text/plain": [
       "  Maximum_Occurrence\n",
       "0            Patient\n",
       "1            Patient\n",
       "2            Healthy"
      ]
     },
     "execution_count": 4,
     "metadata": {},
     "output_type": "execute_result"
    }
   ],
   "source": [
    "counts = feat_pred_df.apply(pd.Series.value_counts, axis=1).fillna(0).astype(int)\n",
    "# get the index (value) of the maximum occurrence in each row\n",
    "result = counts.idxmax(axis=1)\n",
    "\n",
    "# create a new column with the result\n",
    "max_inAll = pd.DataFrame()\n",
    "max_inAll[\"Maximum_Occurrence\"] = pd.DataFrame(result)\n",
    "\n",
    "# view the final dataframe\n",
    "max_inAll.head()\n"
   ]
  },
  {
   "cell_type": "code",
   "execution_count": 5,
   "id": "9683ed9d",
   "metadata": {
    "ExecuteTime": {
     "end_time": "2023-03-10T06:20:06.202884Z",
     "start_time": "2023-03-10T06:20:06.102615Z"
    }
   },
   "outputs": [
    {
     "name": "stdout",
     "output_type": "stream",
     "text": [
      "The user might fall under category of Patient\n"
     ]
    }
   ],
   "source": [
    "max_inAll = max_inAll.iloc[:, ]\n",
    "counts = max_inAll['Maximum_Occurrence'].value_counts()\n",
    "most_occurring_value = counts.index[0]\n",
    "print(\"The user might fall under category of\", most_occurring_value)"
   ]
  },
  {
   "cell_type": "code",
   "execution_count": 6,
   "id": "1940e4a5",
   "metadata": {
    "ExecuteTime": {
     "end_time": "2023-03-10T06:20:06.287527Z",
     "start_time": "2023-03-10T06:20:06.202884Z"
    }
   },
   "outputs": [
    {
     "name": "stdout",
     "output_type": "stream",
     "text": [
      "Patient values in IndiMod: 0.6666666666666666\n",
      "Healthy values in IndiMod: 0.3333333333333333\n"
     ]
    }
   ],
   "source": [
    "# Count the occurrences of each category\n",
    "patient_count = ((feat_pred_df == \"Patient\").sum(axis=1) > 0).sum()\n",
    "healthy_count = ((feat_pred_df == \"Healthy\").sum(axis=1) > 0).sum()\n",
    "\n",
    "# Calculate the percentage of occurrence for each category\n",
    "total_count = len(feat_pred_df)\n",
    "patient_percent = (patient_count / total_count)\n",
    "healthy_percent = (healthy_count / total_count)\n",
    "\n",
    "# Print the results\n",
    "print(\"Patient values in IndiMod:\", patient_percent)\n",
    "print(\"Healthy values in IndiMod:\", healthy_percent)"
   ]
  },
  {
   "cell_type": "code",
   "execution_count": 8,
   "id": "443110a9",
   "metadata": {
    "ExecuteTime": {
     "end_time": "2023-03-10T06:21:29.011792Z",
     "start_time": "2023-03-10T06:21:28.980559Z"
    }
   },
   "outputs": [
    {
     "name": "stdout",
     "output_type": "stream",
     "text": [
      "  Category  Percentage\n",
      "0  Patient    0.666667\n"
     ]
    }
   ],
   "source": [
    "# Count the occurrences of each category\n",
    "patient_count = ((feat_pred_df == \"Patient\").sum(axis=1) > 0).sum()\n",
    "healthy_count = ((feat_pred_df == \"Healthy\").sum(axis=1) > 0).sum()\n",
    "\n",
    "# Calculate the percentage of occurrence for each category\n",
    "total_count = len(feat_pred_df)\n",
    "patient_percent = (patient_count / total_count)\n",
    "healthy_percent = (healthy_count / total_count)\n",
    "\n",
    "# Determine which category has the highest percentage\n",
    "if patient_percent > healthy_percent:\n",
    "    category = \"Patient\"\n",
    "    percentage = patient_percent\n",
    "else:\n",
    "    category = \"Healthy\"\n",
    "    percentage = healthy_percent\n",
    "\n",
    "# Create a new dataframe with the result\n",
    "result_df_IndiMod = pd.DataFrame({\"Category\": [category], \"Percentage\": [percentage]})\n",
    "\n",
    "# Print the result dataframe\n",
    "print(result_df_IndiMod)\n"
   ]
  },
  {
   "cell_type": "code",
   "execution_count": null,
   "id": "3117f98a",
   "metadata": {},
   "outputs": [],
   "source": []
  }
 ],
 "metadata": {
  "kernelspec": {
   "display_name": "Python 3 (ipykernel)",
   "language": "python",
   "name": "python3"
  },
  "language_info": {
   "codemirror_mode": {
    "name": "ipython",
    "version": 3
   },
   "file_extension": ".py",
   "mimetype": "text/x-python",
   "name": "python",
   "nbconvert_exporter": "python",
   "pygments_lexer": "ipython3",
   "version": "3.9.16"
  },
  "toc": {
   "base_numbering": 1,
   "nav_menu": {},
   "number_sections": true,
   "sideBar": true,
   "skip_h1_title": false,
   "title_cell": "Table of Contents",
   "title_sidebar": "Contents",
   "toc_cell": false,
   "toc_position": {},
   "toc_section_display": true,
   "toc_window_display": false
  },
  "varInspector": {
   "cols": {
    "lenName": 16,
    "lenType": 16,
    "lenVar": 40
   },
   "kernels_config": {
    "python": {
     "delete_cmd_postfix": "",
     "delete_cmd_prefix": "del ",
     "library": "var_list.py",
     "varRefreshCmd": "print(var_dic_list())"
    },
    "r": {
     "delete_cmd_postfix": ") ",
     "delete_cmd_prefix": "rm(",
     "library": "var_list.r",
     "varRefreshCmd": "cat(var_dic_list()) "
    }
   },
   "types_to_exclude": [
    "module",
    "function",
    "builtin_function_or_method",
    "instance",
    "_Feature"
   ],
   "window_display": false
  }
 },
 "nbformat": 4,
 "nbformat_minor": 5
}
