{
 "cells": [
  {
   "cell_type": "code",
   "execution_count": 1,
   "id": "1cb8c65a",
   "metadata": {
    "ExecuteTime": {
     "end_time": "2023-02-28T06:21:27.494700Z",
     "start_time": "2023-02-28T06:21:25.974498Z"
    }
   },
   "outputs": [],
   "source": [
    "from pywebio.input import *\n",
    "from pywebio.output import *"
   ]
  },
  {
   "cell_type": "code",
   "execution_count": 5,
   "id": "65c611d3",
   "metadata": {
    "ExecuteTime": {
     "end_time": "2023-02-28T06:21:55.891478Z",
     "start_time": "2023-02-28T06:21:55.791147Z"
    }
   },
   "outputs": [
    {
     "ename": "SessionClosedException",
     "evalue": "",
     "output_type": "error",
     "traceback": [
      "\u001b[1;31m---------------------------------------------------------------------------\u001b[0m",
      "\u001b[1;31mSessionClosedException\u001b[0m                    Traceback (most recent call last)",
      "Cell \u001b[1;32mIn[5], line 1\u001b[0m\n\u001b[1;32m----> 1\u001b[0m x \u001b[38;5;241m=\u001b[39m \u001b[38;5;28;43minput\u001b[39;49m\u001b[43m(\u001b[49m\u001b[38;5;124;43m\"\u001b[39;49m\u001b[38;5;124;43mEnter a number:\u001b[39;49m\u001b[38;5;124;43m\"\u001b[39;49m\u001b[43m,\u001b[49m\u001b[43m \u001b[49m\u001b[38;5;28;43mtype\u001b[39;49m\u001b[43m \u001b[49m\u001b[38;5;241;43m=\u001b[39;49m\u001b[43m \u001b[49m\u001b[43mNUMBER\u001b[49m\u001b[43m)\u001b[49m\n\u001b[0;32m      2\u001b[0m y \u001b[38;5;241m=\u001b[39m \u001b[38;5;28minput\u001b[39m(\u001b[38;5;124m\"\u001b[39m\u001b[38;5;124mEnter a number:\u001b[39m\u001b[38;5;124m\"\u001b[39m, \u001b[38;5;28mtype\u001b[39m \u001b[38;5;241m=\u001b[39m FLOAT)\n\u001b[0;32m      3\u001b[0m name \u001b[38;5;241m=\u001b[39m \u001b[38;5;28minput\u001b[39m(\u001b[38;5;124m\"\u001b[39m\u001b[38;5;124mEnter a number:\u001b[39m\u001b[38;5;124m\"\u001b[39m, \u001b[38;5;28mtype\u001b[39m \u001b[38;5;241m=\u001b[39m \u001b[38;5;124m\"\u001b[39m\u001b[38;5;124mtext\u001b[39m\u001b[38;5;124m\"\u001b[39m)\n",
      "File \u001b[1;32mC:\\ProgramData\\Anaconda3\\lib\\site-packages\\pywebio\\input.py:260\u001b[0m, in \u001b[0;36minput\u001b[1;34m(label, type, validate, name, value, action, onchange, placeholder, required, readonly, datalist, help_text, **other_html_attrs)\u001b[0m\n\u001b[0;32m    256\u001b[0m         \u001b[38;5;28;01mreturn\u001b[39;00m value_setter\u001b[38;5;241m.\u001b[39mvalue\n\u001b[0;32m    258\u001b[0m     \u001b[38;5;28;01mreturn\u001b[39;00m d\n\u001b[1;32m--> 260\u001b[0m \u001b[38;5;28;01mreturn\u001b[39;00m \u001b[43msingle_input\u001b[49m\u001b[43m(\u001b[49m\u001b[43mitem_spec\u001b[49m\u001b[43m,\u001b[49m\u001b[43m \u001b[49m\u001b[43mvalid_func\u001b[49m\u001b[43m,\u001b[49m\u001b[43m \u001b[49m\u001b[43mpreprocess_func\u001b[49m\u001b[43m,\u001b[49m\u001b[43m \u001b[49m\u001b[43monchange_func\u001b[49m\u001b[43m)\u001b[49m\n",
      "File \u001b[1;32mC:\\ProgramData\\Anaconda3\\lib\\site-packages\\pywebio\\session\\__init__.py:283\u001b[0m, in \u001b[0;36mchose_impl.<locals>.inner\u001b[1;34m(*args, **kwargs)\u001b[0m\n\u001b[0;32m    281\u001b[0m     \u001b[38;5;28;01mreturn\u001b[39;00m to_coroutine(gen)\n\u001b[0;32m    282\u001b[0m \u001b[38;5;28;01melse\u001b[39;00m:\n\u001b[1;32m--> 283\u001b[0m     \u001b[38;5;28;01mreturn\u001b[39;00m \u001b[43mrun_as_function\u001b[49m\u001b[43m(\u001b[49m\u001b[43mgen\u001b[49m\u001b[43m)\u001b[49m\n",
      "File \u001b[1;32mC:\\ProgramData\\Anaconda3\\lib\\site-packages\\pywebio\\utils.py:296\u001b[0m, in \u001b[0;36mrun_as_function\u001b[1;34m(gen)\u001b[0m\n\u001b[0;32m    294\u001b[0m \u001b[38;5;28;01mwhile\u001b[39;00m \u001b[38;5;241m1\u001b[39m:\n\u001b[0;32m    295\u001b[0m     \u001b[38;5;28;01mtry\u001b[39;00m:\n\u001b[1;32m--> 296\u001b[0m         res \u001b[38;5;241m=\u001b[39m \u001b[43mgen\u001b[49m\u001b[38;5;241;43m.\u001b[39;49m\u001b[43msend\u001b[49m\u001b[43m(\u001b[49m\u001b[43mres\u001b[49m\u001b[43m)\u001b[49m\n\u001b[0;32m    297\u001b[0m     \u001b[38;5;28;01mexcept\u001b[39;00m \u001b[38;5;167;01mStopIteration\u001b[39;00m \u001b[38;5;28;01mas\u001b[39;00m e:\n\u001b[0;32m    298\u001b[0m         \u001b[38;5;28;01mif\u001b[39;00m \u001b[38;5;28mlen\u001b[39m(e\u001b[38;5;241m.\u001b[39margs) \u001b[38;5;241m==\u001b[39m \u001b[38;5;241m1\u001b[39m:\n",
      "File \u001b[1;32mC:\\ProgramData\\Anaconda3\\lib\\site-packages\\pywebio\\io_ctrl.py:260\u001b[0m, in \u001b[0;36msingle_input\u001b[1;34m(item_spec, valid_func, preprocess_func, onchange_func)\u001b[0m\n\u001b[0;32m    257\u001b[0m item_spec\u001b[38;5;241m.\u001b[39msetdefault(\u001b[38;5;124m'\u001b[39m\u001b[38;5;124mauto_focus\u001b[39m\u001b[38;5;124m'\u001b[39m, \u001b[38;5;28;01mTrue\u001b[39;00m)  \u001b[38;5;66;03m# 如果没有设置autofocus参数，则开启参数  todo CHECKBOX, RADIO 特殊处理\u001b[39;00m\n\u001b[0;32m    259\u001b[0m spec \u001b[38;5;241m=\u001b[39m \u001b[38;5;28mdict\u001b[39m(label\u001b[38;5;241m=\u001b[39mlabel, inputs\u001b[38;5;241m=\u001b[39m[item_spec])\n\u001b[1;32m--> 260\u001b[0m data \u001b[38;5;241m=\u001b[39m \u001b[38;5;28;01myield\u001b[39;00m \u001b[43minput_control\u001b[49m\u001b[43m(\u001b[49m\u001b[43mspec\u001b[49m\u001b[38;5;241;43m=\u001b[39;49m\u001b[43mspec\u001b[49m\u001b[43m,\u001b[49m\n\u001b[0;32m    261\u001b[0m \u001b[43m                           \u001b[49m\u001b[43mpreprocess_funcs\u001b[49m\u001b[38;5;241;43m=\u001b[39;49m\u001b[43m{\u001b[49m\u001b[43mname\u001b[49m\u001b[43m:\u001b[49m\u001b[43m \u001b[49m\u001b[43mpreprocess_func\u001b[49m\u001b[43m}\u001b[49m\u001b[43m,\u001b[49m\n\u001b[0;32m    262\u001b[0m \u001b[43m                           \u001b[49m\u001b[43mitem_valid_funcs\u001b[49m\u001b[38;5;241;43m=\u001b[39;49m\u001b[43m{\u001b[49m\u001b[43mname\u001b[49m\u001b[43m:\u001b[49m\u001b[43m \u001b[49m\u001b[43mvalid_func\u001b[49m\u001b[43m}\u001b[49m\u001b[43m,\u001b[49m\n\u001b[0;32m    263\u001b[0m \u001b[43m                           \u001b[49m\u001b[43monchange_funcs\u001b[49m\u001b[38;5;241;43m=\u001b[39;49m\u001b[43m{\u001b[49m\u001b[43mname\u001b[49m\u001b[43m:\u001b[49m\u001b[43m \u001b[49m\u001b[43monchange_func\u001b[49m\u001b[43m}\u001b[49m\u001b[43m)\u001b[49m\n\u001b[0;32m    265\u001b[0m \u001b[38;5;28;01mif\u001b[39;00m \u001b[38;5;129;01mnot\u001b[39;00m data:  \u001b[38;5;66;03m# form cancel\u001b[39;00m\n\u001b[0;32m    266\u001b[0m     \u001b[38;5;28;01mreturn\u001b[39;00m \u001b[38;5;28;01mNone\u001b[39;00m\n",
      "File \u001b[1;32mC:\\ProgramData\\Anaconda3\\lib\\site-packages\\pywebio\\session\\__init__.py:283\u001b[0m, in \u001b[0;36mchose_impl.<locals>.inner\u001b[1;34m(*args, **kwargs)\u001b[0m\n\u001b[0;32m    281\u001b[0m     \u001b[38;5;28;01mreturn\u001b[39;00m to_coroutine(gen)\n\u001b[0;32m    282\u001b[0m \u001b[38;5;28;01melse\u001b[39;00m:\n\u001b[1;32m--> 283\u001b[0m     \u001b[38;5;28;01mreturn\u001b[39;00m \u001b[43mrun_as_function\u001b[49m\u001b[43m(\u001b[49m\u001b[43mgen\u001b[49m\u001b[43m)\u001b[49m\n",
      "File \u001b[1;32mC:\\ProgramData\\Anaconda3\\lib\\site-packages\\pywebio\\utils.py:296\u001b[0m, in \u001b[0;36mrun_as_function\u001b[1;34m(gen)\u001b[0m\n\u001b[0;32m    294\u001b[0m \u001b[38;5;28;01mwhile\u001b[39;00m \u001b[38;5;241m1\u001b[39m:\n\u001b[0;32m    295\u001b[0m     \u001b[38;5;28;01mtry\u001b[39;00m:\n\u001b[1;32m--> 296\u001b[0m         res \u001b[38;5;241m=\u001b[39m \u001b[43mgen\u001b[49m\u001b[38;5;241;43m.\u001b[39;49m\u001b[43msend\u001b[49m\u001b[43m(\u001b[49m\u001b[43mres\u001b[49m\u001b[43m)\u001b[49m\n\u001b[0;32m    297\u001b[0m     \u001b[38;5;28;01mexcept\u001b[39;00m \u001b[38;5;167;01mStopIteration\u001b[39;00m \u001b[38;5;28;01mas\u001b[39;00m e:\n\u001b[0;32m    298\u001b[0m         \u001b[38;5;28;01mif\u001b[39;00m \u001b[38;5;28mlen\u001b[39m(e\u001b[38;5;241m.\u001b[39margs) \u001b[38;5;241m==\u001b[39m \u001b[38;5;241m1\u001b[39m:\n",
      "File \u001b[1;32mC:\\ProgramData\\Anaconda3\\lib\\site-packages\\pywebio\\io_ctrl.py:281\u001b[0m, in \u001b[0;36minput_control\u001b[1;34m(spec, preprocess_funcs, item_valid_funcs, onchange_funcs, form_valid_funcs)\u001b[0m\n\u001b[0;32m    270\u001b[0m \u001b[38;5;129m@chose_impl\u001b[39m\n\u001b[0;32m    271\u001b[0m \u001b[38;5;28;01mdef\u001b[39;00m \u001b[38;5;21minput_control\u001b[39m(spec, preprocess_funcs, item_valid_funcs, onchange_funcs, form_valid_funcs\u001b[38;5;241m=\u001b[39m\u001b[38;5;28;01mNone\u001b[39;00m):\n\u001b[0;32m    272\u001b[0m     \u001b[38;5;124;03m\"\"\"\u001b[39;00m\n\u001b[0;32m    273\u001b[0m \u001b[38;5;124;03m    发送input命令，监听事件，验证输入项，返回结果\u001b[39;00m\n\u001b[0;32m    274\u001b[0m \u001b[38;5;124;03m    :param spec:\u001b[39;00m\n\u001b[1;32m   (...)\u001b[0m\n\u001b[0;32m    279\u001b[0m \u001b[38;5;124;03m    :return:\u001b[39;00m\n\u001b[0;32m    280\u001b[0m \u001b[38;5;124;03m    \"\"\"\u001b[39;00m\n\u001b[1;32m--> 281\u001b[0m     \u001b[43msend_msg\u001b[49m\u001b[43m(\u001b[49m\u001b[38;5;124;43m'\u001b[39;49m\u001b[38;5;124;43minput_group\u001b[39;49m\u001b[38;5;124;43m'\u001b[39;49m\u001b[43m,\u001b[49m\u001b[43m \u001b[49m\u001b[43mspec\u001b[49m\u001b[43m)\u001b[49m\n\u001b[0;32m    283\u001b[0m     data \u001b[38;5;241m=\u001b[39m \u001b[38;5;28;01myield\u001b[39;00m input_event_handle(item_valid_funcs, form_valid_funcs, preprocess_funcs, onchange_funcs)\n\u001b[0;32m    285\u001b[0m     send_msg(\u001b[38;5;124m'\u001b[39m\u001b[38;5;124mdestroy_form\u001b[39m\u001b[38;5;124m'\u001b[39m)\n",
      "File \u001b[1;32mC:\\ProgramData\\Anaconda3\\lib\\site-packages\\pywebio\\io_ctrl.py:216\u001b[0m, in \u001b[0;36msend_msg\u001b[1;34m(cmd, spec, task_id)\u001b[0m\n\u001b[0;32m    215\u001b[0m \u001b[38;5;28;01mdef\u001b[39;00m \u001b[38;5;21msend_msg\u001b[39m(cmd, spec\u001b[38;5;241m=\u001b[39m\u001b[38;5;28;01mNone\u001b[39;00m, task_id\u001b[38;5;241m=\u001b[39m\u001b[38;5;28;01mNone\u001b[39;00m):\n\u001b[1;32m--> 216\u001b[0m     msg \u001b[38;5;241m=\u001b[39m \u001b[38;5;28mdict\u001b[39m(command\u001b[38;5;241m=\u001b[39mcmd, spec\u001b[38;5;241m=\u001b[39mspec, task_id\u001b[38;5;241m=\u001b[39mtask_id \u001b[38;5;129;01mor\u001b[39;00m \u001b[43mget_current_task_id\u001b[49m\u001b[43m(\u001b[49m\u001b[43m)\u001b[49m)\n\u001b[0;32m    217\u001b[0m     get_current_session()\u001b[38;5;241m.\u001b[39msend_task_command(msg)\n",
      "File \u001b[1;32mC:\\ProgramData\\Anaconda3\\lib\\site-packages\\pywebio\\session\\__init__.py:241\u001b[0m, in \u001b[0;36mget_current_task_id\u001b[1;34m()\u001b[0m\n\u001b[0;32m    240\u001b[0m \u001b[38;5;28;01mdef\u001b[39;00m \u001b[38;5;21mget_current_task_id\u001b[39m():\n\u001b[1;32m--> 241\u001b[0m     \u001b[38;5;28;01mreturn\u001b[39;00m \u001b[43mget_session_implement\u001b[49m\u001b[43m(\u001b[49m\u001b[43m)\u001b[49m\u001b[38;5;241;43m.\u001b[39;49m\u001b[43mget_current_task_id\u001b[49m\u001b[43m(\u001b[49m\u001b[43m)\u001b[49m\n",
      "File \u001b[1;32mC:\\ProgramData\\Anaconda3\\lib\\site-packages\\pywebio\\session\\threadbased.py:318\u001b[0m, in \u001b[0;36mScriptModeSession.get_current_task_id\u001b[1;34m(cls)\u001b[0m\n\u001b[0;32m    315\u001b[0m \u001b[38;5;129m@classmethod\u001b[39m\n\u001b[0;32m    316\u001b[0m \u001b[38;5;28;01mdef\u001b[39;00m \u001b[38;5;21mget_current_task_id\u001b[39m(\u001b[38;5;28mcls\u001b[39m):\n\u001b[0;32m    317\u001b[0m     task_id \u001b[38;5;241m=\u001b[39m \u001b[38;5;28msuper\u001b[39m()\u001b[38;5;241m.\u001b[39mget_current_task_id()\n\u001b[1;32m--> 318\u001b[0m     session \u001b[38;5;241m=\u001b[39m \u001b[38;5;28;43mcls\u001b[39;49m\u001b[38;5;241;43m.\u001b[39;49m\u001b[43mget_current_session\u001b[49m\u001b[43m(\u001b[49m\u001b[43m)\u001b[49m\n\u001b[0;32m    319\u001b[0m     \u001b[38;5;28;01mif\u001b[39;00m task_id \u001b[38;5;129;01mnot\u001b[39;00m \u001b[38;5;129;01min\u001b[39;00m session\u001b[38;5;241m.\u001b[39mtask_mqs:\n\u001b[0;32m    320\u001b[0m         session\u001b[38;5;241m.\u001b[39mregister_thread(threading\u001b[38;5;241m.\u001b[39mcurrent_thread())\n",
      "File \u001b[1;32mC:\\ProgramData\\Anaconda3\\lib\\site-packages\\pywebio\\session\\threadbased.py:312\u001b[0m, in \u001b[0;36mScriptModeSession.get_current_session\u001b[1;34m(cls)\u001b[0m\n\u001b[0;32m    310\u001b[0m     \u001b[38;5;28;01mraise\u001b[39;00m SessionNotFoundException(\u001b[38;5;124m\"\u001b[39m\u001b[38;5;124mCan\u001b[39m\u001b[38;5;124m'\u001b[39m\u001b[38;5;124mt find current session. It might be a bug.\u001b[39m\u001b[38;5;124m\"\u001b[39m)\n\u001b[0;32m    311\u001b[0m \u001b[38;5;28;01mif\u001b[39;00m \u001b[38;5;28mcls\u001b[39m\u001b[38;5;241m.\u001b[39minstance\u001b[38;5;241m.\u001b[39mclosed():\n\u001b[1;32m--> 312\u001b[0m     \u001b[38;5;28;01mraise\u001b[39;00m SessionClosedException()\n\u001b[0;32m    313\u001b[0m \u001b[38;5;28;01mreturn\u001b[39;00m \u001b[38;5;28mcls\u001b[39m\u001b[38;5;241m.\u001b[39minstance\n",
      "\u001b[1;31mSessionClosedException\u001b[0m: "
     ]
    }
   ],
   "source": [
    "x = input(\"Enter a number:\", type = NUMBER)\n",
    "y = input(\"Enter a number:\", type = FLOAT)\n",
    "name = input(\"Enter a number:\", type = \"text\")"
   ]
  },
  {
   "cell_type": "code",
   "execution_count": 3,
   "id": "6eafef40",
   "metadata": {
    "ExecuteTime": {
     "end_time": "2023-02-28T06:21:37.445074Z",
     "start_time": "2023-02-28T06:21:37.382624Z"
    },
    "scrolled": true
   },
   "outputs": [
    {
     "name": "stdout",
     "output_type": "stream",
     "text": [
      "12\n"
     ]
    }
   ],
   "source": [
    "print(x)"
   ]
  },
  {
   "cell_type": "code",
   "execution_count": 6,
   "id": "152cdfce",
   "metadata": {
    "ExecuteTime": {
     "end_time": "2023-02-28T06:35:15.076713Z",
     "start_time": "2023-02-28T06:35:14.913946Z"
    }
   },
   "outputs": [],
   "source": [
    "from shiny import App, render, ui\n",
    "\n",
    "app_ui = ui.page_fluid(\n",
    "    ui.input_slider(\"n\", \"N\", 0, 100, 20),\n",
    "    ui.output_text_verbatim(\"txt\"),\n",
    ")\n",
    "\n",
    "\n",
    "def server(input, output, session):\n",
    "    @output\n",
    "    @render.text\n",
    "    def txt():\n",
    "        return f\"n*2 is {input.n() * 2}\"\n",
    "\n",
    "\n",
    "app = App(app_ui, server)"
   ]
  },
  {
   "cell_type": "code",
   "execution_count": null,
   "id": "af5e0f22",
   "metadata": {},
   "outputs": [],
   "source": []
  }
 ],
 "metadata": {
  "kernelspec": {
   "display_name": "Python 3 (ipykernel)",
   "language": "python",
   "name": "python3"
  },
  "language_info": {
   "codemirror_mode": {
    "name": "ipython",
    "version": 3
   },
   "file_extension": ".py",
   "mimetype": "text/x-python",
   "name": "python",
   "nbconvert_exporter": "python",
   "pygments_lexer": "ipython3",
   "version": "3.9.16"
  },
  "toc": {
   "base_numbering": 1,
   "nav_menu": {},
   "number_sections": true,
   "sideBar": true,
   "skip_h1_title": false,
   "title_cell": "Table of Contents",
   "title_sidebar": "Contents",
   "toc_cell": false,
   "toc_position": {},
   "toc_section_display": true,
   "toc_window_display": false
  },
  "varInspector": {
   "cols": {
    "lenName": 16,
    "lenType": 16,
    "lenVar": 40
   },
   "kernels_config": {
    "python": {
     "delete_cmd_postfix": "",
     "delete_cmd_prefix": "del ",
     "library": "var_list.py",
     "varRefreshCmd": "print(var_dic_list())"
    },
    "r": {
     "delete_cmd_postfix": ") ",
     "delete_cmd_prefix": "rm(",
     "library": "var_list.r",
     "varRefreshCmd": "cat(var_dic_list()) "
    }
   },
   "types_to_exclude": [
    "module",
    "function",
    "builtin_function_or_method",
    "instance",
    "_Feature"
   ],
   "window_display": false
  }
 },
 "nbformat": 4,
 "nbformat_minor": 5
}
