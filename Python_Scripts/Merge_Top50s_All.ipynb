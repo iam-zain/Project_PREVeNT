{
 "cells": [
  {
   "cell_type": "code",
   "execution_count": 1,
   "id": "dfe84a79",
   "metadata": {
    "ExecuteTime": {
     "end_time": "2023-02-22T08:26:07.536922Z",
     "start_time": "2023-02-22T08:26:07.046203Z"
    }
   },
   "outputs": [],
   "source": [
    "import numpy as np\n",
    "import pandas as pd"
   ]
  },
  {
   "cell_type": "markdown",
   "id": "1a80e298",
   "metadata": {},
   "source": [
    "# Apathy"
   ]
  },
  {
   "cell_type": "code",
   "execution_count": 2,
   "id": "1196f939",
   "metadata": {
    "ExecuteTime": {
     "end_time": "2023-02-21T07:09:38.524635Z",
     "start_time": "2023-02-21T07:09:38.277101Z"
    }
   },
   "outputs": [
    {
     "name": "stdout",
     "output_type": "stream",
     "text": [
      "Z:\\PPMI_Data\\Excels\\NonMotors\\Derived250\\GeneCpG\\Apathy\n",
      "(458, 52)\n",
      "(458, 52)\n"
     ]
    }
   ],
   "source": [
    "%cd Z:\\PPMI_Data\\Excels\\NonMotors\\Derived250\\GeneCpG\\Apathy\n",
    "df1 = pd.read_csv('Top50NMI_Apathy_Data.csv')\n",
    "print(df1.shape)\n",
    "df2 = pd.read_csv('Top50Boruta_Apathy_Data.csv')\n",
    "print(df2.shape)"
   ]
  },
  {
   "cell_type": "code",
   "execution_count": 3,
   "id": "89aebb5a",
   "metadata": {
    "ExecuteTime": {
     "end_time": "2023-02-21T07:09:38.609277Z",
     "start_time": "2023-02-21T07:09:38.524635Z"
    }
   },
   "outputs": [
    {
     "name": "stdout",
     "output_type": "stream",
     "text": [
      "(458, 95)\n"
     ]
    },
    {
     "data": {
      "text/html": [
       "<div>\n",
       "<style scoped>\n",
       "    .dataframe tbody tr th:only-of-type {\n",
       "        vertical-align: middle;\n",
       "    }\n",
       "\n",
       "    .dataframe tbody tr th {\n",
       "        vertical-align: top;\n",
       "    }\n",
       "\n",
       "    .dataframe thead th {\n",
       "        text-align: right;\n",
       "    }\n",
       "</style>\n",
       "<table border=\"1\" class=\"dataframe\">\n",
       "  <thead>\n",
       "    <tr style=\"text-align: right;\">\n",
       "      <th></th>\n",
       "      <th>PATNO</th>\n",
       "      <th>APPRDX</th>\n",
       "      <th>cg25361663</th>\n",
       "      <th>cg10948748</th>\n",
       "      <th>cg02157463</th>\n",
       "      <th>cg04333485</th>\n",
       "      <th>cg08187983</th>\n",
       "      <th>cg21769820</th>\n",
       "      <th>cg01478937</th>\n",
       "      <th>cg06128182</th>\n",
       "      <th>...</th>\n",
       "      <th>cg17741809</th>\n",
       "      <th>cg15705342</th>\n",
       "      <th>cg18888403</th>\n",
       "      <th>cg24284087</th>\n",
       "      <th>cg15567507</th>\n",
       "      <th>cg03104569</th>\n",
       "      <th>cg26501664</th>\n",
       "      <th>cg11986643</th>\n",
       "      <th>cg12148300</th>\n",
       "      <th>cg09926649</th>\n",
       "    </tr>\n",
       "  </thead>\n",
       "  <tbody>\n",
       "    <tr>\n",
       "      <th>0</th>\n",
       "      <td>3000</td>\n",
       "      <td>2</td>\n",
       "      <td>0.922851</td>\n",
       "      <td>0.168687</td>\n",
       "      <td>0.677453</td>\n",
       "      <td>0.162589</td>\n",
       "      <td>0.976590</td>\n",
       "      <td>0.744137</td>\n",
       "      <td>0.747449</td>\n",
       "      <td>0.051194</td>\n",
       "      <td>...</td>\n",
       "      <td>0.581553</td>\n",
       "      <td>0.799648</td>\n",
       "      <td>0.842037</td>\n",
       "      <td>0.034545</td>\n",
       "      <td>0.906558</td>\n",
       "      <td>0.592606</td>\n",
       "      <td>0.871542</td>\n",
       "      <td>0.075037</td>\n",
       "      <td>0.770635</td>\n",
       "      <td>0.855460</td>\n",
       "    </tr>\n",
       "    <tr>\n",
       "      <th>1</th>\n",
       "      <td>3001</td>\n",
       "      <td>1</td>\n",
       "      <td>0.911043</td>\n",
       "      <td>0.183438</td>\n",
       "      <td>0.641978</td>\n",
       "      <td>0.184197</td>\n",
       "      <td>0.972912</td>\n",
       "      <td>0.672225</td>\n",
       "      <td>0.711039</td>\n",
       "      <td>0.033829</td>\n",
       "      <td>...</td>\n",
       "      <td>0.452972</td>\n",
       "      <td>0.740308</td>\n",
       "      <td>0.724402</td>\n",
       "      <td>0.025670</td>\n",
       "      <td>0.824857</td>\n",
       "      <td>0.577578</td>\n",
       "      <td>0.798379</td>\n",
       "      <td>0.064960</td>\n",
       "      <td>0.708033</td>\n",
       "      <td>0.832275</td>\n",
       "    </tr>\n",
       "  </tbody>\n",
       "</table>\n",
       "<p>2 rows × 95 columns</p>\n",
       "</div>"
      ],
      "text/plain": [
       "   PATNO  APPRDX  cg25361663  cg10948748  cg02157463  cg04333485  cg08187983  \\\n",
       "0   3000       2    0.922851    0.168687    0.677453    0.162589    0.976590   \n",
       "1   3001       1    0.911043    0.183438    0.641978    0.184197    0.972912   \n",
       "\n",
       "   cg21769820  cg01478937  cg06128182  ...  cg17741809  cg15705342  \\\n",
       "0    0.744137    0.747449    0.051194  ...    0.581553    0.799648   \n",
       "1    0.672225    0.711039    0.033829  ...    0.452972    0.740308   \n",
       "\n",
       "   cg18888403  cg24284087  cg15567507  cg03104569  cg26501664  cg11986643  \\\n",
       "0    0.842037    0.034545    0.906558    0.592606    0.871542    0.075037   \n",
       "1    0.724402    0.025670    0.824857    0.577578    0.798379    0.064960   \n",
       "\n",
       "   cg12148300  cg09926649  \n",
       "0    0.770635    0.855460  \n",
       "1    0.708033    0.832275  \n",
       "\n",
       "[2 rows x 95 columns]"
      ]
     },
     "execution_count": 3,
     "metadata": {},
     "output_type": "execute_result"
    }
   ],
   "source": [
    "# concatenate the two dataframes along the columns axis\n",
    "concatenated_df = pd.concat([df1, df2], axis=1)\n",
    "\n",
    "# drop the duplicate columns\n",
    "final_df = concatenated_df.loc[:,~concatenated_df.columns.duplicated()]\n",
    "final_df.to_csv ('Apathy_Top50sMerge_Data.csv', index = False)\n",
    "print(final_df.shape)\n",
    "final_df.head(2)"
   ]
  },
  {
   "cell_type": "markdown",
   "id": "7c91b543",
   "metadata": {},
   "source": [
    "# Cognition"
   ]
  },
  {
   "cell_type": "code",
   "execution_count": 4,
   "id": "aba917f8",
   "metadata": {
    "ExecuteTime": {
     "end_time": "2023-02-21T07:09:38.647081Z",
     "start_time": "2023-02-21T07:09:38.609277Z"
    },
    "scrolled": true
   },
   "outputs": [
    {
     "name": "stdout",
     "output_type": "stream",
     "text": [
      "Z:\\PPMI_Data\\Excels\\NonMotors\\Derived250\\GeneCpG\\Cognition\n",
      "(458, 52)\n"
     ]
    }
   ],
   "source": [
    "%cd Z:\\PPMI_Data\\Excels\\NonMotors\\Derived250\\GeneCpG\\Cognition\n",
    "\n",
    "df2 = pd.read_csv('Cognition_Boruta_Top50_Data.csv')\n",
    "print(df2.shape)"
   ]
  },
  {
   "cell_type": "code",
   "execution_count": 5,
   "id": "5b178e8d",
   "metadata": {
    "ExecuteTime": {
     "end_time": "2023-02-21T07:12:49.292066Z",
     "start_time": "2023-02-21T07:09:38.647081Z"
    },
    "scrolled": true
   },
   "outputs": [
    {
     "name": "stdout",
     "output_type": "stream",
     "text": [
      "(50, 1)\n"
     ]
    },
    {
     "name": "stderr",
     "output_type": "stream",
     "text": [
      "C:\\Users\\system 4\\AppData\\Local\\Temp\\ipykernel_3588\\1681750328.py:9: SettingWithCopyWarning: \n",
      "A value is trying to be set on a copy of a slice from a DataFrame.\n",
      "Try using .loc[row_indexer,col_indexer] = value instead\n",
      "\n",
      "See the caveats in the documentation: https://pandas.pydata.org/pandas-docs/stable/user_guide/indexing.html#returning-a-view-versus-a-copy\n",
      "  df_subset['APPRDX'] = df['APPRDX']\n"
     ]
    },
    {
     "data": {
      "text/html": [
       "<div>\n",
       "<style scoped>\n",
       "    .dataframe tbody tr th:only-of-type {\n",
       "        vertical-align: middle;\n",
       "    }\n",
       "\n",
       "    .dataframe tbody tr th {\n",
       "        vertical-align: top;\n",
       "    }\n",
       "\n",
       "    .dataframe thead th {\n",
       "        text-align: right;\n",
       "    }\n",
       "</style>\n",
       "<table border=\"1\" class=\"dataframe\">\n",
       "  <thead>\n",
       "    <tr style=\"text-align: right;\">\n",
       "      <th></th>\n",
       "      <th>cg16702987</th>\n",
       "      <th>cg16916264</th>\n",
       "      <th>cg14547519</th>\n",
       "      <th>cg04721711</th>\n",
       "      <th>cg10948748</th>\n",
       "      <th>ch.9.1286602F</th>\n",
       "      <th>cg16448286</th>\n",
       "      <th>cg12298429</th>\n",
       "      <th>cg06538998</th>\n",
       "      <th>cg09879107</th>\n",
       "      <th>...</th>\n",
       "      <th>cg23022057</th>\n",
       "      <th>cg25361663</th>\n",
       "      <th>cg21899921</th>\n",
       "      <th>cg00377727</th>\n",
       "      <th>cg10474158</th>\n",
       "      <th>cg15469205</th>\n",
       "      <th>cg15736994</th>\n",
       "      <th>cg09826790</th>\n",
       "      <th>cg15942569</th>\n",
       "      <th>APPRDX</th>\n",
       "    </tr>\n",
       "  </thead>\n",
       "  <tbody>\n",
       "    <tr>\n",
       "      <th>0</th>\n",
       "      <td>0.691866</td>\n",
       "      <td>0.870274</td>\n",
       "      <td>0.900845</td>\n",
       "      <td>0.831384</td>\n",
       "      <td>0.183438</td>\n",
       "      <td>0.041805</td>\n",
       "      <td>0.906014</td>\n",
       "      <td>0.032801</td>\n",
       "      <td>0.013463</td>\n",
       "      <td>0.727246</td>\n",
       "      <td>...</td>\n",
       "      <td>0.888828</td>\n",
       "      <td>0.911043</td>\n",
       "      <td>0.032846</td>\n",
       "      <td>0.923318</td>\n",
       "      <td>0.882391</td>\n",
       "      <td>0.865868</td>\n",
       "      <td>0.523965</td>\n",
       "      <td>0.869270</td>\n",
       "      <td>0.888852</td>\n",
       "      <td>1</td>\n",
       "    </tr>\n",
       "    <tr>\n",
       "      <th>1</th>\n",
       "      <td>0.713975</td>\n",
       "      <td>0.927010</td>\n",
       "      <td>0.902779</td>\n",
       "      <td>0.875973</td>\n",
       "      <td>0.114013</td>\n",
       "      <td>0.042104</td>\n",
       "      <td>0.890996</td>\n",
       "      <td>0.042715</td>\n",
       "      <td>0.010118</td>\n",
       "      <td>0.707857</td>\n",
       "      <td>...</td>\n",
       "      <td>0.858068</td>\n",
       "      <td>0.925910</td>\n",
       "      <td>0.046905</td>\n",
       "      <td>0.925809</td>\n",
       "      <td>0.897195</td>\n",
       "      <td>0.830760</td>\n",
       "      <td>0.562597</td>\n",
       "      <td>0.914964</td>\n",
       "      <td>0.884358</td>\n",
       "      <td>1</td>\n",
       "    </tr>\n",
       "  </tbody>\n",
       "</table>\n",
       "<p>2 rows × 51 columns</p>\n",
       "</div>"
      ],
      "text/plain": [
       "   cg16702987  cg16916264  cg14547519  cg04721711  cg10948748  ch.9.1286602F  \\\n",
       "0    0.691866    0.870274    0.900845    0.831384    0.183438       0.041805   \n",
       "1    0.713975    0.927010    0.902779    0.875973    0.114013       0.042104   \n",
       "\n",
       "   cg16448286  cg12298429  cg06538998  cg09879107  ...  cg23022057  \\\n",
       "0    0.906014    0.032801    0.013463    0.727246  ...    0.888828   \n",
       "1    0.890996    0.042715    0.010118    0.707857  ...    0.858068   \n",
       "\n",
       "   cg25361663  cg21899921  cg00377727  cg10474158  cg15469205  cg15736994  \\\n",
       "0    0.911043    0.032846    0.923318    0.882391    0.865868    0.523965   \n",
       "1    0.925910    0.046905    0.925809    0.897195    0.830760    0.562597   \n",
       "\n",
       "   cg09826790  cg15942569  APPRDX  \n",
       "0    0.869270    0.888852       1  \n",
       "1    0.914964    0.884358       1  \n",
       "\n",
       "[2 rows x 51 columns]"
      ]
     },
     "execution_count": 5,
     "metadata": {},
     "output_type": "execute_result"
    }
   ],
   "source": [
    "df = pd.read_csv('CognitionCateg_Methylome_APPRDXFilter.csv')\n",
    "df1 = pd.read_csv('Cognition_NMI_Top50.csv')\n",
    "print(df1.shape)\n",
    "# create a list of column names to subset from data\n",
    "col_names = df1.iloc[:, 0].tolist()\n",
    "\n",
    "# subset df based on the column names\n",
    "df_subset = df.loc[:, df.columns.isin(col_names)]\n",
    "df_subset['APPRDX'] = df['APPRDX']\n",
    "df_subset.to_csv ('Cognition_NMI_Top50_Data.csv', index = False)\n",
    "df_subset.head(2)"
   ]
  },
  {
   "cell_type": "code",
   "execution_count": 6,
   "id": "0622fe4c",
   "metadata": {
    "ExecuteTime": {
     "end_time": "2023-02-21T07:12:49.392368Z",
     "start_time": "2023-02-21T07:12:49.292066Z"
    }
   },
   "outputs": [
    {
     "name": "stdout",
     "output_type": "stream",
     "text": [
      "(458, 99)\n"
     ]
    },
    {
     "data": {
      "text/html": [
       "<div>\n",
       "<style scoped>\n",
       "    .dataframe tbody tr th:only-of-type {\n",
       "        vertical-align: middle;\n",
       "    }\n",
       "\n",
       "    .dataframe tbody tr th {\n",
       "        vertical-align: top;\n",
       "    }\n",
       "\n",
       "    .dataframe thead th {\n",
       "        text-align: right;\n",
       "    }\n",
       "</style>\n",
       "<table border=\"1\" class=\"dataframe\">\n",
       "  <thead>\n",
       "    <tr style=\"text-align: right;\">\n",
       "      <th></th>\n",
       "      <th>PATNO</th>\n",
       "      <th>APPRDX</th>\n",
       "      <th>cg16541194</th>\n",
       "      <th>cg16333036</th>\n",
       "      <th>cg10410319</th>\n",
       "      <th>cg12345955</th>\n",
       "      <th>cg21043558</th>\n",
       "      <th>cg07456278</th>\n",
       "      <th>cg19690051</th>\n",
       "      <th>cg26090534</th>\n",
       "      <th>...</th>\n",
       "      <th>cg24804436</th>\n",
       "      <th>cg01777678</th>\n",
       "      <th>cg23022057</th>\n",
       "      <th>cg25361663</th>\n",
       "      <th>cg21899921</th>\n",
       "      <th>cg10474158</th>\n",
       "      <th>cg15469205</th>\n",
       "      <th>cg15736994</th>\n",
       "      <th>cg09826790</th>\n",
       "      <th>cg15942569</th>\n",
       "    </tr>\n",
       "  </thead>\n",
       "  <tbody>\n",
       "    <tr>\n",
       "      <th>0</th>\n",
       "      <td>3001</td>\n",
       "      <td>1</td>\n",
       "      <td>0.576279</td>\n",
       "      <td>0.496829</td>\n",
       "      <td>0.021390</td>\n",
       "      <td>0.015210</td>\n",
       "      <td>0.667449</td>\n",
       "      <td>0.582067</td>\n",
       "      <td>0.104141</td>\n",
       "      <td>0.962848</td>\n",
       "      <td>...</td>\n",
       "      <td>0.866382</td>\n",
       "      <td>0.797270</td>\n",
       "      <td>0.888828</td>\n",
       "      <td>0.911043</td>\n",
       "      <td>0.032846</td>\n",
       "      <td>0.882391</td>\n",
       "      <td>0.865868</td>\n",
       "      <td>0.523965</td>\n",
       "      <td>0.869270</td>\n",
       "      <td>0.888852</td>\n",
       "    </tr>\n",
       "    <tr>\n",
       "      <th>1</th>\n",
       "      <td>3007</td>\n",
       "      <td>1</td>\n",
       "      <td>0.471834</td>\n",
       "      <td>0.463492</td>\n",
       "      <td>0.020285</td>\n",
       "      <td>0.013241</td>\n",
       "      <td>0.659961</td>\n",
       "      <td>0.667340</td>\n",
       "      <td>0.045867</td>\n",
       "      <td>0.963592</td>\n",
       "      <td>...</td>\n",
       "      <td>0.890765</td>\n",
       "      <td>0.877015</td>\n",
       "      <td>0.858068</td>\n",
       "      <td>0.925910</td>\n",
       "      <td>0.046905</td>\n",
       "      <td>0.897195</td>\n",
       "      <td>0.830760</td>\n",
       "      <td>0.562597</td>\n",
       "      <td>0.914964</td>\n",
       "      <td>0.884358</td>\n",
       "    </tr>\n",
       "  </tbody>\n",
       "</table>\n",
       "<p>2 rows × 99 columns</p>\n",
       "</div>"
      ],
      "text/plain": [
       "   PATNO  APPRDX  cg16541194  cg16333036  cg10410319  cg12345955  cg21043558  \\\n",
       "0   3001       1    0.576279    0.496829    0.021390    0.015210    0.667449   \n",
       "1   3007       1    0.471834    0.463492    0.020285    0.013241    0.659961   \n",
       "\n",
       "   cg07456278  cg19690051  cg26090534  ...  cg24804436  cg01777678  \\\n",
       "0    0.582067    0.104141    0.962848  ...    0.866382    0.797270   \n",
       "1    0.667340    0.045867    0.963592  ...    0.890765    0.877015   \n",
       "\n",
       "   cg23022057  cg25361663  cg21899921  cg10474158  cg15469205  cg15736994  \\\n",
       "0    0.888828    0.911043    0.032846    0.882391    0.865868    0.523965   \n",
       "1    0.858068    0.925910    0.046905    0.897195    0.830760    0.562597   \n",
       "\n",
       "   cg09826790  cg15942569  \n",
       "0    0.869270    0.888852  \n",
       "1    0.914964    0.884358  \n",
       "\n",
       "[2 rows x 99 columns]"
      ]
     },
     "execution_count": 6,
     "metadata": {},
     "output_type": "execute_result"
    }
   ],
   "source": [
    "# concatenate the two dataframes along the columns axis\n",
    "concatenated_df = pd.concat([df2, df_subset], axis=1)\n",
    "\n",
    "# drop the duplicate columns\n",
    "final_df = concatenated_df.loc[:,~concatenated_df.columns.duplicated()]\n",
    "final_df.to_csv ('Cognition_Top50sMerge_Data.csv', index = False)\n",
    "print(final_df.shape)\n",
    "final_df.head(2)"
   ]
  },
  {
   "cell_type": "markdown",
   "id": "ed23379b",
   "metadata": {},
   "source": [
    "# Constipation"
   ]
  },
  {
   "cell_type": "code",
   "execution_count": 7,
   "id": "d09e4881",
   "metadata": {
    "ExecuteTime": {
     "end_time": "2023-02-21T07:12:49.423586Z",
     "start_time": "2023-02-21T07:12:49.392368Z"
    },
    "scrolled": true
   },
   "outputs": [
    {
     "name": "stdout",
     "output_type": "stream",
     "text": [
      "Z:\\PPMI_Data\\Excels\\NonMotors\\Derived250\\GeneCpG\\Constipation\n",
      "(458, 52)\n"
     ]
    }
   ],
   "source": [
    "%cd Z:\\PPMI_Data\\Excels\\NonMotors\\Derived250\\GeneCpG\\Constipation\n",
    "\n",
    "df2 = pd.read_csv('Constipation_Boruta_Top50_Data.csv')\n",
    "print(df2.shape)"
   ]
  },
  {
   "cell_type": "code",
   "execution_count": 8,
   "id": "f74bc0d7",
   "metadata": {
    "ExecuteTime": {
     "end_time": "2023-02-21T07:12:55.689149Z",
     "start_time": "2023-02-21T07:12:49.423586Z"
    }
   },
   "outputs": [
    {
     "name": "stdout",
     "output_type": "stream",
     "text": [
      "(50, 1)\n"
     ]
    },
    {
     "name": "stderr",
     "output_type": "stream",
     "text": [
      "C:\\Users\\system 4\\AppData\\Local\\Temp\\ipykernel_3588\\3203131823.py:9: SettingWithCopyWarning: \n",
      "A value is trying to be set on a copy of a slice from a DataFrame.\n",
      "Try using .loc[row_indexer,col_indexer] = value instead\n",
      "\n",
      "See the caveats in the documentation: https://pandas.pydata.org/pandas-docs/stable/user_guide/indexing.html#returning-a-view-versus-a-copy\n",
      "  df_subset['APPRDX'] = df['APPRDX']\n"
     ]
    },
    {
     "data": {
      "text/html": [
       "<div>\n",
       "<style scoped>\n",
       "    .dataframe tbody tr th:only-of-type {\n",
       "        vertical-align: middle;\n",
       "    }\n",
       "\n",
       "    .dataframe tbody tr th {\n",
       "        vertical-align: top;\n",
       "    }\n",
       "\n",
       "    .dataframe thead th {\n",
       "        text-align: right;\n",
       "    }\n",
       "</style>\n",
       "<table border=\"1\" class=\"dataframe\">\n",
       "  <thead>\n",
       "    <tr style=\"text-align: right;\">\n",
       "      <th></th>\n",
       "      <th>cg13605579</th>\n",
       "      <th>cg25410117</th>\n",
       "      <th>cg10688123</th>\n",
       "      <th>cg13332222</th>\n",
       "      <th>cg23786063</th>\n",
       "      <th>cg20349377</th>\n",
       "      <th>cg25210047</th>\n",
       "      <th>cg10044815</th>\n",
       "      <th>cg12298429</th>\n",
       "      <th>cg27281389</th>\n",
       "      <th>...</th>\n",
       "      <th>cg26801812</th>\n",
       "      <th>cg09068129</th>\n",
       "      <th>cg06425631</th>\n",
       "      <th>cg05142211</th>\n",
       "      <th>cg11549065</th>\n",
       "      <th>cg17458425</th>\n",
       "      <th>cg10783204</th>\n",
       "      <th>cg08096908</th>\n",
       "      <th>cg24224407</th>\n",
       "      <th>APPRDX</th>\n",
       "    </tr>\n",
       "  </thead>\n",
       "  <tbody>\n",
       "    <tr>\n",
       "      <th>0</th>\n",
       "      <td>0.863394</td>\n",
       "      <td>0.133229</td>\n",
       "      <td>0.833705</td>\n",
       "      <td>0.902238</td>\n",
       "      <td>0.889644</td>\n",
       "      <td>0.876278</td>\n",
       "      <td>0.827441</td>\n",
       "      <td>0.894322</td>\n",
       "      <td>0.032801</td>\n",
       "      <td>0.026921</td>\n",
       "      <td>...</td>\n",
       "      <td>0.847042</td>\n",
       "      <td>0.852115</td>\n",
       "      <td>0.932296</td>\n",
       "      <td>0.035018</td>\n",
       "      <td>0.032903</td>\n",
       "      <td>0.856462</td>\n",
       "      <td>0.585492</td>\n",
       "      <td>0.905542</td>\n",
       "      <td>0.875350</td>\n",
       "      <td>1</td>\n",
       "    </tr>\n",
       "    <tr>\n",
       "      <th>1</th>\n",
       "      <td>0.893290</td>\n",
       "      <td>0.090223</td>\n",
       "      <td>0.861144</td>\n",
       "      <td>0.928699</td>\n",
       "      <td>0.893976</td>\n",
       "      <td>0.893810</td>\n",
       "      <td>0.804296</td>\n",
       "      <td>0.902732</td>\n",
       "      <td>0.042715</td>\n",
       "      <td>0.033420</td>\n",
       "      <td>...</td>\n",
       "      <td>0.817918</td>\n",
       "      <td>0.819744</td>\n",
       "      <td>0.930258</td>\n",
       "      <td>0.041906</td>\n",
       "      <td>0.043359</td>\n",
       "      <td>0.908599</td>\n",
       "      <td>0.654016</td>\n",
       "      <td>0.918975</td>\n",
       "      <td>0.867527</td>\n",
       "      <td>1</td>\n",
       "    </tr>\n",
       "  </tbody>\n",
       "</table>\n",
       "<p>2 rows × 51 columns</p>\n",
       "</div>"
      ],
      "text/plain": [
       "   cg13605579  cg25410117  cg10688123  cg13332222  cg23786063  cg20349377  \\\n",
       "0    0.863394    0.133229    0.833705    0.902238    0.889644    0.876278   \n",
       "1    0.893290    0.090223    0.861144    0.928699    0.893976    0.893810   \n",
       "\n",
       "   cg25210047  cg10044815  cg12298429  cg27281389  ...  cg26801812  \\\n",
       "0    0.827441    0.894322    0.032801    0.026921  ...    0.847042   \n",
       "1    0.804296    0.902732    0.042715    0.033420  ...    0.817918   \n",
       "\n",
       "   cg09068129  cg06425631  cg05142211  cg11549065  cg17458425  cg10783204  \\\n",
       "0    0.852115    0.932296    0.035018    0.032903    0.856462    0.585492   \n",
       "1    0.819744    0.930258    0.041906    0.043359    0.908599    0.654016   \n",
       "\n",
       "   cg08096908  cg24224407  APPRDX  \n",
       "0    0.905542    0.875350       1  \n",
       "1    0.918975    0.867527       1  \n",
       "\n",
       "[2 rows x 51 columns]"
      ]
     },
     "execution_count": 8,
     "metadata": {},
     "output_type": "execute_result"
    }
   ],
   "source": [
    "df = pd.read_csv('ConstipationCateg_Methylome_APPRDXFilter.csv')\n",
    "df1 = pd.read_csv('Constipation_NMI_Top50.csv')\n",
    "print(df1.shape)\n",
    "# create a list of column names to subset from data\n",
    "col_names = df1.iloc[:, 0].tolist()\n",
    "\n",
    "# subset df based on the column names\n",
    "df_subset = df.loc[:, df.columns.isin(col_names)]\n",
    "df_subset['APPRDX'] = df['APPRDX']\n",
    "df_subset.to_csv ('Constipation_NMI_Top50_Data.csv', index = False)\n",
    "df_subset.head(2)"
   ]
  },
  {
   "cell_type": "code",
   "execution_count": 9,
   "id": "f3d49618",
   "metadata": {
    "ExecuteTime": {
     "end_time": "2023-02-21T07:12:55.809734Z",
     "start_time": "2023-02-21T07:12:55.691174Z"
    }
   },
   "outputs": [
    {
     "name": "stdout",
     "output_type": "stream",
     "text": [
      "(458, 95)\n"
     ]
    },
    {
     "data": {
      "text/html": [
       "<div>\n",
       "<style scoped>\n",
       "    .dataframe tbody tr th:only-of-type {\n",
       "        vertical-align: middle;\n",
       "    }\n",
       "\n",
       "    .dataframe tbody tr th {\n",
       "        vertical-align: top;\n",
       "    }\n",
       "\n",
       "    .dataframe thead th {\n",
       "        text-align: right;\n",
       "    }\n",
       "</style>\n",
       "<table border=\"1\" class=\"dataframe\">\n",
       "  <thead>\n",
       "    <tr style=\"text-align: right;\">\n",
       "      <th></th>\n",
       "      <th>PATNO</th>\n",
       "      <th>APPRDX</th>\n",
       "      <th>cg22237213</th>\n",
       "      <th>cg13332222</th>\n",
       "      <th>cg14005240</th>\n",
       "      <th>cg14889643</th>\n",
       "      <th>cg17612987</th>\n",
       "      <th>cg21043558</th>\n",
       "      <th>cg12298429</th>\n",
       "      <th>cg27281389</th>\n",
       "      <th>...</th>\n",
       "      <th>cg07087293</th>\n",
       "      <th>cg12036621</th>\n",
       "      <th>cg26801812</th>\n",
       "      <th>cg09068129</th>\n",
       "      <th>cg06425631</th>\n",
       "      <th>cg11549065</th>\n",
       "      <th>cg17458425</th>\n",
       "      <th>cg10783204</th>\n",
       "      <th>cg08096908</th>\n",
       "      <th>cg24224407</th>\n",
       "    </tr>\n",
       "  </thead>\n",
       "  <tbody>\n",
       "    <tr>\n",
       "      <th>0</th>\n",
       "      <td>3001</td>\n",
       "      <td>1</td>\n",
       "      <td>0.922623</td>\n",
       "      <td>0.902238</td>\n",
       "      <td>0.878486</td>\n",
       "      <td>0.017995</td>\n",
       "      <td>0.031849</td>\n",
       "      <td>0.667449</td>\n",
       "      <td>0.032801</td>\n",
       "      <td>0.026921</td>\n",
       "      <td>...</td>\n",
       "      <td>0.074554</td>\n",
       "      <td>0.030171</td>\n",
       "      <td>0.847042</td>\n",
       "      <td>0.852115</td>\n",
       "      <td>0.932296</td>\n",
       "      <td>0.032903</td>\n",
       "      <td>0.856462</td>\n",
       "      <td>0.585492</td>\n",
       "      <td>0.905542</td>\n",
       "      <td>0.875350</td>\n",
       "    </tr>\n",
       "    <tr>\n",
       "      <th>1</th>\n",
       "      <td>3007</td>\n",
       "      <td>1</td>\n",
       "      <td>0.918179</td>\n",
       "      <td>0.928699</td>\n",
       "      <td>0.887782</td>\n",
       "      <td>0.020710</td>\n",
       "      <td>0.031061</td>\n",
       "      <td>0.659961</td>\n",
       "      <td>0.042715</td>\n",
       "      <td>0.033420</td>\n",
       "      <td>...</td>\n",
       "      <td>0.067149</td>\n",
       "      <td>0.033681</td>\n",
       "      <td>0.817918</td>\n",
       "      <td>0.819744</td>\n",
       "      <td>0.930258</td>\n",
       "      <td>0.043359</td>\n",
       "      <td>0.908599</td>\n",
       "      <td>0.654016</td>\n",
       "      <td>0.918975</td>\n",
       "      <td>0.867527</td>\n",
       "    </tr>\n",
       "  </tbody>\n",
       "</table>\n",
       "<p>2 rows × 95 columns</p>\n",
       "</div>"
      ],
      "text/plain": [
       "   PATNO  APPRDX  cg22237213  cg13332222  cg14005240  cg14889643  cg17612987  \\\n",
       "0   3001       1    0.922623    0.902238    0.878486    0.017995    0.031849   \n",
       "1   3007       1    0.918179    0.928699    0.887782    0.020710    0.031061   \n",
       "\n",
       "   cg21043558  cg12298429  cg27281389  ...  cg07087293  cg12036621  \\\n",
       "0    0.667449    0.032801    0.026921  ...    0.074554    0.030171   \n",
       "1    0.659961    0.042715    0.033420  ...    0.067149    0.033681   \n",
       "\n",
       "   cg26801812  cg09068129  cg06425631  cg11549065  cg17458425  cg10783204  \\\n",
       "0    0.847042    0.852115    0.932296    0.032903    0.856462    0.585492   \n",
       "1    0.817918    0.819744    0.930258    0.043359    0.908599    0.654016   \n",
       "\n",
       "   cg08096908  cg24224407  \n",
       "0    0.905542    0.875350  \n",
       "1    0.918975    0.867527  \n",
       "\n",
       "[2 rows x 95 columns]"
      ]
     },
     "execution_count": 9,
     "metadata": {},
     "output_type": "execute_result"
    }
   ],
   "source": [
    "# concatenate the two dataframes along the columns axis\n",
    "concatenated_df = pd.concat([df2, df_subset], axis=1)\n",
    "\n",
    "# drop the duplicate columns\n",
    "final_df = concatenated_df.loc[:,~concatenated_df.columns.duplicated()]\n",
    "final_df.to_csv ('Constipation_Top50sMerge_Data.csv', index = False)\n",
    "print(final_df.shape)\n",
    "final_df.head(2)"
   ]
  },
  {
   "cell_type": "markdown",
   "id": "1f7ef810",
   "metadata": {},
   "source": [
    "# Depression"
   ]
  },
  {
   "cell_type": "code",
   "execution_count": 10,
   "id": "383e3516",
   "metadata": {
    "ExecuteTime": {
     "end_time": "2023-02-21T07:12:55.849932Z",
     "start_time": "2023-02-21T07:12:55.811755Z"
    }
   },
   "outputs": [
    {
     "name": "stdout",
     "output_type": "stream",
     "text": [
      "Z:\\PPMI_Data\\Excels\\NonMotors\\Derived250\\GeneCpG\\Depression\n",
      "(458, 52)\n"
     ]
    }
   ],
   "source": [
    "%cd Z:\\PPMI_Data\\Excels\\NonMotors\\Derived250\\GeneCpG\\Depression\n",
    "\n",
    "df2 = pd.read_csv('Depression_Boruta_Top50_Data.csv')\n",
    "print(df2.shape)"
   ]
  },
  {
   "cell_type": "code",
   "execution_count": 11,
   "id": "dde6c562",
   "metadata": {
    "ExecuteTime": {
     "end_time": "2023-02-21T07:14:28.145727Z",
     "start_time": "2023-02-21T07:12:55.849932Z"
    }
   },
   "outputs": [
    {
     "name": "stdout",
     "output_type": "stream",
     "text": [
      "(50, 1)\n"
     ]
    },
    {
     "name": "stderr",
     "output_type": "stream",
     "text": [
      "C:\\Users\\system 4\\AppData\\Local\\Temp\\ipykernel_3588\\3183820693.py:9: SettingWithCopyWarning: \n",
      "A value is trying to be set on a copy of a slice from a DataFrame.\n",
      "Try using .loc[row_indexer,col_indexer] = value instead\n",
      "\n",
      "See the caveats in the documentation: https://pandas.pydata.org/pandas-docs/stable/user_guide/indexing.html#returning-a-view-versus-a-copy\n",
      "  df_subset['APPRDX'] = df['APPRDX']\n"
     ]
    },
    {
     "data": {
      "text/html": [
       "<div>\n",
       "<style scoped>\n",
       "    .dataframe tbody tr th:only-of-type {\n",
       "        vertical-align: middle;\n",
       "    }\n",
       "\n",
       "    .dataframe tbody tr th {\n",
       "        vertical-align: top;\n",
       "    }\n",
       "\n",
       "    .dataframe thead th {\n",
       "        text-align: right;\n",
       "    }\n",
       "</style>\n",
       "<table border=\"1\" class=\"dataframe\">\n",
       "  <thead>\n",
       "    <tr style=\"text-align: right;\">\n",
       "      <th></th>\n",
       "      <th>cg16702987</th>\n",
       "      <th>cg26296001</th>\n",
       "      <th>cg20230572</th>\n",
       "      <th>cg24402323</th>\n",
       "      <th>cg10948748</th>\n",
       "      <th>cg14865303</th>\n",
       "      <th>cg00052836</th>\n",
       "      <th>cg16448286</th>\n",
       "      <th>cg12298429</th>\n",
       "      <th>cg09879107</th>\n",
       "      <th>...</th>\n",
       "      <th>cg26595623</th>\n",
       "      <th>cg00714632</th>\n",
       "      <th>cg21899921</th>\n",
       "      <th>cg10474158</th>\n",
       "      <th>cg12321073</th>\n",
       "      <th>cg23999973</th>\n",
       "      <th>cg15736994</th>\n",
       "      <th>cg10192047</th>\n",
       "      <th>cg25744181</th>\n",
       "      <th>APPRDX</th>\n",
       "    </tr>\n",
       "  </thead>\n",
       "  <tbody>\n",
       "    <tr>\n",
       "      <th>0</th>\n",
       "      <td>0.691866</td>\n",
       "      <td>0.877350</td>\n",
       "      <td>0.687517</td>\n",
       "      <td>0.060656</td>\n",
       "      <td>0.183438</td>\n",
       "      <td>0.835223</td>\n",
       "      <td>0.872534</td>\n",
       "      <td>0.906014</td>\n",
       "      <td>0.032801</td>\n",
       "      <td>0.727246</td>\n",
       "      <td>...</td>\n",
       "      <td>0.723680</td>\n",
       "      <td>0.025829</td>\n",
       "      <td>0.032846</td>\n",
       "      <td>0.882391</td>\n",
       "      <td>0.013494</td>\n",
       "      <td>0.038562</td>\n",
       "      <td>0.523965</td>\n",
       "      <td>0.019083</td>\n",
       "      <td>0.026860</td>\n",
       "      <td>1</td>\n",
       "    </tr>\n",
       "    <tr>\n",
       "      <th>1</th>\n",
       "      <td>0.713975</td>\n",
       "      <td>0.875859</td>\n",
       "      <td>0.741894</td>\n",
       "      <td>0.024917</td>\n",
       "      <td>0.114013</td>\n",
       "      <td>0.867976</td>\n",
       "      <td>0.916062</td>\n",
       "      <td>0.890996</td>\n",
       "      <td>0.042715</td>\n",
       "      <td>0.707857</td>\n",
       "      <td>...</td>\n",
       "      <td>0.739204</td>\n",
       "      <td>0.023401</td>\n",
       "      <td>0.046905</td>\n",
       "      <td>0.897195</td>\n",
       "      <td>0.009607</td>\n",
       "      <td>0.014727</td>\n",
       "      <td>0.562597</td>\n",
       "      <td>0.022214</td>\n",
       "      <td>0.017928</td>\n",
       "      <td>1</td>\n",
       "    </tr>\n",
       "  </tbody>\n",
       "</table>\n",
       "<p>2 rows × 51 columns</p>\n",
       "</div>"
      ],
      "text/plain": [
       "   cg16702987  cg26296001  cg20230572  cg24402323  cg10948748  cg14865303  \\\n",
       "0    0.691866    0.877350    0.687517    0.060656    0.183438    0.835223   \n",
       "1    0.713975    0.875859    0.741894    0.024917    0.114013    0.867976   \n",
       "\n",
       "   cg00052836  cg16448286  cg12298429  cg09879107  ...  cg26595623  \\\n",
       "0    0.872534    0.906014    0.032801    0.727246  ...    0.723680   \n",
       "1    0.916062    0.890996    0.042715    0.707857  ...    0.739204   \n",
       "\n",
       "   cg00714632  cg21899921  cg10474158  cg12321073  cg23999973  cg15736994  \\\n",
       "0    0.025829    0.032846    0.882391    0.013494    0.038562    0.523965   \n",
       "1    0.023401    0.046905    0.897195    0.009607    0.014727    0.562597   \n",
       "\n",
       "   cg10192047  cg25744181  APPRDX  \n",
       "0    0.019083    0.026860       1  \n",
       "1    0.022214    0.017928       1  \n",
       "\n",
       "[2 rows x 51 columns]"
      ]
     },
     "execution_count": 11,
     "metadata": {},
     "output_type": "execute_result"
    }
   ],
   "source": [
    "df = pd.read_csv('DepressionCateg_Methylome_APPRDXFilter.csv')\n",
    "df1 = pd.read_csv('Depression_NMI_Top50.csv')\n",
    "print(df1.shape)\n",
    "# create a list of column names to subset from data\n",
    "col_names = df1.iloc[:, 0].tolist()\n",
    "\n",
    "# subset df based on the column names\n",
    "df_subset = df.loc[:, df.columns.isin(col_names)]\n",
    "df_subset['APPRDX'] = df['APPRDX']\n",
    "df_subset.to_csv ('Depression_NMI_Top50_Data.csv', index = False)\n",
    "df_subset.head(2)"
   ]
  },
  {
   "cell_type": "code",
   "execution_count": 12,
   "id": "a1951c84",
   "metadata": {
    "ExecuteTime": {
     "end_time": "2023-02-21T07:14:28.246354Z",
     "start_time": "2023-02-21T07:14:28.147747Z"
    }
   },
   "outputs": [
    {
     "name": "stdout",
     "output_type": "stream",
     "text": [
      "(458, 99)\n"
     ]
    },
    {
     "data": {
      "text/html": [
       "<div>\n",
       "<style scoped>\n",
       "    .dataframe tbody tr th:only-of-type {\n",
       "        vertical-align: middle;\n",
       "    }\n",
       "\n",
       "    .dataframe tbody tr th {\n",
       "        vertical-align: top;\n",
       "    }\n",
       "\n",
       "    .dataframe thead th {\n",
       "        text-align: right;\n",
       "    }\n",
       "</style>\n",
       "<table border=\"1\" class=\"dataframe\">\n",
       "  <thead>\n",
       "    <tr style=\"text-align: right;\">\n",
       "      <th></th>\n",
       "      <th>PATNO</th>\n",
       "      <th>APPRDX</th>\n",
       "      <th>cg18780217</th>\n",
       "      <th>cg21747188</th>\n",
       "      <th>cg04841205</th>\n",
       "      <th>cg00052836</th>\n",
       "      <th>cg07456278</th>\n",
       "      <th>cg12510028</th>\n",
       "      <th>cg19690051</th>\n",
       "      <th>cg21062891</th>\n",
       "      <th>...</th>\n",
       "      <th>cg10595406</th>\n",
       "      <th>cg26595623</th>\n",
       "      <th>cg00714632</th>\n",
       "      <th>cg21899921</th>\n",
       "      <th>cg10474158</th>\n",
       "      <th>cg12321073</th>\n",
       "      <th>cg23999973</th>\n",
       "      <th>cg15736994</th>\n",
       "      <th>cg10192047</th>\n",
       "      <th>cg25744181</th>\n",
       "    </tr>\n",
       "  </thead>\n",
       "  <tbody>\n",
       "    <tr>\n",
       "      <th>0</th>\n",
       "      <td>3001</td>\n",
       "      <td>1</td>\n",
       "      <td>0.038530</td>\n",
       "      <td>0.064156</td>\n",
       "      <td>0.729990</td>\n",
       "      <td>0.872534</td>\n",
       "      <td>0.582067</td>\n",
       "      <td>0.029810</td>\n",
       "      <td>0.104141</td>\n",
       "      <td>0.887982</td>\n",
       "      <td>...</td>\n",
       "      <td>0.906883</td>\n",
       "      <td>0.723680</td>\n",
       "      <td>0.025829</td>\n",
       "      <td>0.032846</td>\n",
       "      <td>0.882391</td>\n",
       "      <td>0.013494</td>\n",
       "      <td>0.038562</td>\n",
       "      <td>0.523965</td>\n",
       "      <td>0.019083</td>\n",
       "      <td>0.026860</td>\n",
       "    </tr>\n",
       "    <tr>\n",
       "      <th>1</th>\n",
       "      <td>3007</td>\n",
       "      <td>1</td>\n",
       "      <td>0.022502</td>\n",
       "      <td>0.056883</td>\n",
       "      <td>0.790912</td>\n",
       "      <td>0.916062</td>\n",
       "      <td>0.667340</td>\n",
       "      <td>0.035511</td>\n",
       "      <td>0.045867</td>\n",
       "      <td>0.923072</td>\n",
       "      <td>...</td>\n",
       "      <td>0.925698</td>\n",
       "      <td>0.739204</td>\n",
       "      <td>0.023401</td>\n",
       "      <td>0.046905</td>\n",
       "      <td>0.897195</td>\n",
       "      <td>0.009607</td>\n",
       "      <td>0.014727</td>\n",
       "      <td>0.562597</td>\n",
       "      <td>0.022214</td>\n",
       "      <td>0.017928</td>\n",
       "    </tr>\n",
       "  </tbody>\n",
       "</table>\n",
       "<p>2 rows × 99 columns</p>\n",
       "</div>"
      ],
      "text/plain": [
       "   PATNO  APPRDX  cg18780217  cg21747188  cg04841205  cg00052836  cg07456278  \\\n",
       "0   3001       1    0.038530    0.064156    0.729990    0.872534    0.582067   \n",
       "1   3007       1    0.022502    0.056883    0.790912    0.916062    0.667340   \n",
       "\n",
       "   cg12510028  cg19690051  cg21062891  ...  cg10595406  cg26595623  \\\n",
       "0    0.029810    0.104141    0.887982  ...    0.906883    0.723680   \n",
       "1    0.035511    0.045867    0.923072  ...    0.925698    0.739204   \n",
       "\n",
       "   cg00714632  cg21899921  cg10474158  cg12321073  cg23999973  cg15736994  \\\n",
       "0    0.025829    0.032846    0.882391    0.013494    0.038562    0.523965   \n",
       "1    0.023401    0.046905    0.897195    0.009607    0.014727    0.562597   \n",
       "\n",
       "   cg10192047  cg25744181  \n",
       "0    0.019083    0.026860  \n",
       "1    0.022214    0.017928  \n",
       "\n",
       "[2 rows x 99 columns]"
      ]
     },
     "execution_count": 12,
     "metadata": {},
     "output_type": "execute_result"
    }
   ],
   "source": [
    "# concatenate the two dataframes along the columns axis\n",
    "concatenated_df = pd.concat([df2, df_subset], axis=1)\n",
    "\n",
    "# drop the duplicate columns\n",
    "final_df = concatenated_df.loc[:,~concatenated_df.columns.duplicated()]\n",
    "final_df.to_csv ('Depression_Top50sMerge_Data.csv', index = False)\n",
    "print(final_df.shape)\n",
    "final_df.head(2)"
   ]
  },
  {
   "cell_type": "markdown",
   "id": "04aaf296",
   "metadata": {},
   "source": [
    "# Fatigue"
   ]
  },
  {
   "cell_type": "code",
   "execution_count": 13,
   "id": "e108f968",
   "metadata": {
    "ExecuteTime": {
     "end_time": "2023-02-21T07:14:28.286575Z",
     "start_time": "2023-02-21T07:14:28.248379Z"
    },
    "scrolled": true
   },
   "outputs": [
    {
     "name": "stdout",
     "output_type": "stream",
     "text": [
      "Z:\\PPMI_Data\\Excels\\NonMotors\\Derived250\\GeneCpG\\Fatigue\n",
      "(458, 52)\n"
     ]
    }
   ],
   "source": [
    "%cd Z:\\PPMI_Data\\Excels\\NonMotors\\Derived250\\GeneCpG\\Fatigue\n",
    "\n",
    "df2 = pd.read_csv('Fatigue_Boruta_Top50_Data.csv')\n",
    "print(df2.shape)"
   ]
  },
  {
   "cell_type": "code",
   "execution_count": 14,
   "id": "ac591188",
   "metadata": {
    "ExecuteTime": {
     "end_time": "2023-02-21T07:14:37.156176Z",
     "start_time": "2023-02-21T07:14:28.286575Z"
    }
   },
   "outputs": [
    {
     "name": "stdout",
     "output_type": "stream",
     "text": [
      "(50, 1)\n"
     ]
    },
    {
     "name": "stderr",
     "output_type": "stream",
     "text": [
      "C:\\Users\\system 4\\AppData\\Local\\Temp\\ipykernel_3588\\4194288258.py:9: SettingWithCopyWarning: \n",
      "A value is trying to be set on a copy of a slice from a DataFrame.\n",
      "Try using .loc[row_indexer,col_indexer] = value instead\n",
      "\n",
      "See the caveats in the documentation: https://pandas.pydata.org/pandas-docs/stable/user_guide/indexing.html#returning-a-view-versus-a-copy\n",
      "  df_subset['APPRDX'] = df['APPRDX']\n"
     ]
    },
    {
     "data": {
      "text/html": [
       "<div>\n",
       "<style scoped>\n",
       "    .dataframe tbody tr th:only-of-type {\n",
       "        vertical-align: middle;\n",
       "    }\n",
       "\n",
       "    .dataframe tbody tr th {\n",
       "        vertical-align: top;\n",
       "    }\n",
       "\n",
       "    .dataframe thead th {\n",
       "        text-align: right;\n",
       "    }\n",
       "</style>\n",
       "<table border=\"1\" class=\"dataframe\">\n",
       "  <thead>\n",
       "    <tr style=\"text-align: right;\">\n",
       "      <th></th>\n",
       "      <th>cg08178124</th>\n",
       "      <th>cg04721711</th>\n",
       "      <th>cg19460902</th>\n",
       "      <th>cg10044815</th>\n",
       "      <th>cg07940547</th>\n",
       "      <th>cg18473117</th>\n",
       "      <th>cg16448286</th>\n",
       "      <th>cg11224251</th>\n",
       "      <th>cg09377020</th>\n",
       "      <th>cg23584714</th>\n",
       "      <th>...</th>\n",
       "      <th>cg18838701</th>\n",
       "      <th>cg17458425</th>\n",
       "      <th>cg10783204</th>\n",
       "      <th>cg23290969</th>\n",
       "      <th>cg09826790</th>\n",
       "      <th>cg24224407</th>\n",
       "      <th>cg21049840</th>\n",
       "      <th>cg15942569</th>\n",
       "      <th>cg12526471</th>\n",
       "      <th>APPRDX</th>\n",
       "    </tr>\n",
       "  </thead>\n",
       "  <tbody>\n",
       "    <tr>\n",
       "      <th>0</th>\n",
       "      <td>0.016319</td>\n",
       "      <td>0.831384</td>\n",
       "      <td>0.792809</td>\n",
       "      <td>0.894322</td>\n",
       "      <td>0.652888</td>\n",
       "      <td>0.938774</td>\n",
       "      <td>0.906014</td>\n",
       "      <td>0.661786</td>\n",
       "      <td>0.817618</td>\n",
       "      <td>0.776498</td>\n",
       "      <td>...</td>\n",
       "      <td>0.381468</td>\n",
       "      <td>0.856462</td>\n",
       "      <td>0.585492</td>\n",
       "      <td>0.035612</td>\n",
       "      <td>0.869270</td>\n",
       "      <td>0.875350</td>\n",
       "      <td>0.475823</td>\n",
       "      <td>0.888852</td>\n",
       "      <td>0.416863</td>\n",
       "      <td>1</td>\n",
       "    </tr>\n",
       "    <tr>\n",
       "      <th>1</th>\n",
       "      <td>0.023260</td>\n",
       "      <td>0.875973</td>\n",
       "      <td>0.621401</td>\n",
       "      <td>0.902732</td>\n",
       "      <td>0.615474</td>\n",
       "      <td>0.928175</td>\n",
       "      <td>0.890996</td>\n",
       "      <td>0.632961</td>\n",
       "      <td>0.800563</td>\n",
       "      <td>0.704093</td>\n",
       "      <td>...</td>\n",
       "      <td>0.289962</td>\n",
       "      <td>0.908599</td>\n",
       "      <td>0.654016</td>\n",
       "      <td>0.018923</td>\n",
       "      <td>0.914964</td>\n",
       "      <td>0.867527</td>\n",
       "      <td>0.405952</td>\n",
       "      <td>0.884358</td>\n",
       "      <td>0.449186</td>\n",
       "      <td>1</td>\n",
       "    </tr>\n",
       "  </tbody>\n",
       "</table>\n",
       "<p>2 rows × 51 columns</p>\n",
       "</div>"
      ],
      "text/plain": [
       "   cg08178124  cg04721711  cg19460902  cg10044815  cg07940547  cg18473117  \\\n",
       "0    0.016319    0.831384    0.792809    0.894322    0.652888    0.938774   \n",
       "1    0.023260    0.875973    0.621401    0.902732    0.615474    0.928175   \n",
       "\n",
       "   cg16448286  cg11224251  cg09377020  cg23584714  ...  cg18838701  \\\n",
       "0    0.906014    0.661786    0.817618    0.776498  ...    0.381468   \n",
       "1    0.890996    0.632961    0.800563    0.704093  ...    0.289962   \n",
       "\n",
       "   cg17458425  cg10783204  cg23290969  cg09826790  cg24224407  cg21049840  \\\n",
       "0    0.856462    0.585492    0.035612    0.869270    0.875350    0.475823   \n",
       "1    0.908599    0.654016    0.018923    0.914964    0.867527    0.405952   \n",
       "\n",
       "   cg15942569  cg12526471  APPRDX  \n",
       "0    0.888852    0.416863       1  \n",
       "1    0.884358    0.449186       1  \n",
       "\n",
       "[2 rows x 51 columns]"
      ]
     },
     "execution_count": 14,
     "metadata": {},
     "output_type": "execute_result"
    }
   ],
   "source": [
    "df = pd.read_csv('FatigueCateg_Methylome_APPRDXFilter.csv')\n",
    "df1 = pd.read_csv('Fatigue_NMI_Top50.csv')\n",
    "print(df1.shape)\n",
    "# create a list of column names to subset from data\n",
    "col_names = df1.iloc[:, 0].tolist()\n",
    "\n",
    "# subset df based on the column names\n",
    "df_subset = df.loc[:, df.columns.isin(col_names)]\n",
    "df_subset['APPRDX'] = df['APPRDX']\n",
    "df_subset.to_csv ('Fatigue_NMI_Top50_Data.csv', index = False)\n",
    "df_subset.head(2)"
   ]
  },
  {
   "cell_type": "code",
   "execution_count": 15,
   "id": "b20efb4f",
   "metadata": {
    "ExecuteTime": {
     "end_time": "2023-02-21T07:14:37.256444Z",
     "start_time": "2023-02-21T07:14:37.156176Z"
    }
   },
   "outputs": [
    {
     "name": "stdout",
     "output_type": "stream",
     "text": [
      "(458, 99)\n"
     ]
    },
    {
     "data": {
      "text/html": [
       "<div>\n",
       "<style scoped>\n",
       "    .dataframe tbody tr th:only-of-type {\n",
       "        vertical-align: middle;\n",
       "    }\n",
       "\n",
       "    .dataframe tbody tr th {\n",
       "        vertical-align: top;\n",
       "    }\n",
       "\n",
       "    .dataframe thead th {\n",
       "        text-align: right;\n",
       "    }\n",
       "</style>\n",
       "<table border=\"1\" class=\"dataframe\">\n",
       "  <thead>\n",
       "    <tr style=\"text-align: right;\">\n",
       "      <th></th>\n",
       "      <th>PATNO</th>\n",
       "      <th>APPRDX</th>\n",
       "      <th>cg06751221</th>\n",
       "      <th>cg03476938</th>\n",
       "      <th>cg23655939</th>\n",
       "      <th>cg21043558</th>\n",
       "      <th>cg19226007</th>\n",
       "      <th>cg18473117</th>\n",
       "      <th>cg12510028</th>\n",
       "      <th>cg27133496</th>\n",
       "      <th>...</th>\n",
       "      <th>cg09652933</th>\n",
       "      <th>cg18838701</th>\n",
       "      <th>cg17458425</th>\n",
       "      <th>cg10783204</th>\n",
       "      <th>cg23290969</th>\n",
       "      <th>cg09826790</th>\n",
       "      <th>cg24224407</th>\n",
       "      <th>cg21049840</th>\n",
       "      <th>cg15942569</th>\n",
       "      <th>cg12526471</th>\n",
       "    </tr>\n",
       "  </thead>\n",
       "  <tbody>\n",
       "    <tr>\n",
       "      <th>0</th>\n",
       "      <td>3001</td>\n",
       "      <td>1</td>\n",
       "      <td>0.057391</td>\n",
       "      <td>0.549004</td>\n",
       "      <td>0.515701</td>\n",
       "      <td>0.667449</td>\n",
       "      <td>0.040020</td>\n",
       "      <td>0.938774</td>\n",
       "      <td>0.029810</td>\n",
       "      <td>0.510178</td>\n",
       "      <td>...</td>\n",
       "      <td>0.014026</td>\n",
       "      <td>0.381468</td>\n",
       "      <td>0.856462</td>\n",
       "      <td>0.585492</td>\n",
       "      <td>0.035612</td>\n",
       "      <td>0.869270</td>\n",
       "      <td>0.875350</td>\n",
       "      <td>0.475823</td>\n",
       "      <td>0.888852</td>\n",
       "      <td>0.416863</td>\n",
       "    </tr>\n",
       "    <tr>\n",
       "      <th>1</th>\n",
       "      <td>3007</td>\n",
       "      <td>1</td>\n",
       "      <td>0.083624</td>\n",
       "      <td>0.561954</td>\n",
       "      <td>0.523438</td>\n",
       "      <td>0.659961</td>\n",
       "      <td>0.017811</td>\n",
       "      <td>0.928175</td>\n",
       "      <td>0.035511</td>\n",
       "      <td>0.653650</td>\n",
       "      <td>...</td>\n",
       "      <td>0.012004</td>\n",
       "      <td>0.289962</td>\n",
       "      <td>0.908599</td>\n",
       "      <td>0.654016</td>\n",
       "      <td>0.018923</td>\n",
       "      <td>0.914964</td>\n",
       "      <td>0.867527</td>\n",
       "      <td>0.405952</td>\n",
       "      <td>0.884358</td>\n",
       "      <td>0.449186</td>\n",
       "    </tr>\n",
       "  </tbody>\n",
       "</table>\n",
       "<p>2 rows × 99 columns</p>\n",
       "</div>"
      ],
      "text/plain": [
       "   PATNO  APPRDX  cg06751221  cg03476938  cg23655939  cg21043558  cg19226007  \\\n",
       "0   3001       1    0.057391    0.549004    0.515701    0.667449    0.040020   \n",
       "1   3007       1    0.083624    0.561954    0.523438    0.659961    0.017811   \n",
       "\n",
       "   cg18473117  cg12510028  cg27133496  ...  cg09652933  cg18838701  \\\n",
       "0    0.938774    0.029810    0.510178  ...    0.014026    0.381468   \n",
       "1    0.928175    0.035511    0.653650  ...    0.012004    0.289962   \n",
       "\n",
       "   cg17458425  cg10783204  cg23290969  cg09826790  cg24224407  cg21049840  \\\n",
       "0    0.856462    0.585492    0.035612    0.869270    0.875350    0.475823   \n",
       "1    0.908599    0.654016    0.018923    0.914964    0.867527    0.405952   \n",
       "\n",
       "   cg15942569  cg12526471  \n",
       "0    0.888852    0.416863  \n",
       "1    0.884358    0.449186  \n",
       "\n",
       "[2 rows x 99 columns]"
      ]
     },
     "execution_count": 15,
     "metadata": {},
     "output_type": "execute_result"
    }
   ],
   "source": [
    "# concatenate the two dataframes along the columns axis\n",
    "concatenated_df = pd.concat([df2, df_subset], axis=1)\n",
    "\n",
    "# drop the duplicate columns\n",
    "final_df = concatenated_df.loc[:,~concatenated_df.columns.duplicated()]\n",
    "final_df.to_csv ('Fatigue_Top50sMerge_Data.csv', index = False)\n",
    "print(final_df.shape)\n",
    "final_df.head(2)"
   ]
  },
  {
   "cell_type": "markdown",
   "id": "8ebd5b9b",
   "metadata": {},
   "source": [
    "# Gastro"
   ]
  },
  {
   "cell_type": "code",
   "execution_count": 16,
   "id": "0dec4845",
   "metadata": {
    "ExecuteTime": {
     "end_time": "2023-02-21T07:14:37.410167Z",
     "start_time": "2023-02-21T07:14:37.256444Z"
    }
   },
   "outputs": [
    {
     "name": "stdout",
     "output_type": "stream",
     "text": [
      "Z:\\PPMI_Data\\Excels\\NonMotors\\Derived250\\GeneCpG\\Gastro\n",
      "(458, 52)\n",
      "(458, 52)\n"
     ]
    }
   ],
   "source": [
    "%cd Z:\\PPMI_Data\\Excels\\NonMotors\\Derived250\\GeneCpG\\Gastro\n",
    "df1 = pd.read_csv('Top50NMI_Gastro_Data.csv')\n",
    "print(df1.shape)\n",
    "df2 = pd.read_csv('Gastro_Boruta_Top50_Data.csv')\n",
    "print(df2.shape)"
   ]
  },
  {
   "cell_type": "code",
   "execution_count": 17,
   "id": "50c59174",
   "metadata": {
    "ExecuteTime": {
     "end_time": "2023-02-21T07:14:37.526059Z",
     "start_time": "2023-02-21T07:14:37.410167Z"
    }
   },
   "outputs": [
    {
     "name": "stdout",
     "output_type": "stream",
     "text": [
      "(458, 100)\n"
     ]
    },
    {
     "data": {
      "text/html": [
       "<div>\n",
       "<style scoped>\n",
       "    .dataframe tbody tr th:only-of-type {\n",
       "        vertical-align: middle;\n",
       "    }\n",
       "\n",
       "    .dataframe tbody tr th {\n",
       "        vertical-align: top;\n",
       "    }\n",
       "\n",
       "    .dataframe thead th {\n",
       "        text-align: right;\n",
       "    }\n",
       "</style>\n",
       "<table border=\"1\" class=\"dataframe\">\n",
       "  <thead>\n",
       "    <tr style=\"text-align: right;\">\n",
       "      <th></th>\n",
       "      <th>PATNO</th>\n",
       "      <th>APPRDX</th>\n",
       "      <th>cg10783204</th>\n",
       "      <th>cg14547519</th>\n",
       "      <th>cg09879107</th>\n",
       "      <th>cg23584714</th>\n",
       "      <th>cg18764107</th>\n",
       "      <th>cg11670533</th>\n",
       "      <th>cg09347135</th>\n",
       "      <th>cg02449892</th>\n",
       "      <th>...</th>\n",
       "      <th>cg26668679</th>\n",
       "      <th>cg22152677</th>\n",
       "      <th>cg06734098</th>\n",
       "      <th>cg12220605</th>\n",
       "      <th>cg00875272</th>\n",
       "      <th>cg13468400</th>\n",
       "      <th>cg08096908</th>\n",
       "      <th>cg17223615</th>\n",
       "      <th>cg16199144</th>\n",
       "      <th>cg19371224</th>\n",
       "    </tr>\n",
       "  </thead>\n",
       "  <tbody>\n",
       "    <tr>\n",
       "      <th>0</th>\n",
       "      <td>3000</td>\n",
       "      <td>2</td>\n",
       "      <td>0.709340</td>\n",
       "      <td>0.918605</td>\n",
       "      <td>0.621822</td>\n",
       "      <td>0.837783</td>\n",
       "      <td>0.042191</td>\n",
       "      <td>0.849763</td>\n",
       "      <td>0.502712</td>\n",
       "      <td>0.879576</td>\n",
       "      <td>...</td>\n",
       "      <td>0.194786</td>\n",
       "      <td>0.932195</td>\n",
       "      <td>0.340984</td>\n",
       "      <td>0.117280</td>\n",
       "      <td>0.032753</td>\n",
       "      <td>0.895386</td>\n",
       "      <td>0.937764</td>\n",
       "      <td>0.822963</td>\n",
       "      <td>0.033485</td>\n",
       "      <td>0.895183</td>\n",
       "    </tr>\n",
       "    <tr>\n",
       "      <th>1</th>\n",
       "      <td>3001</td>\n",
       "      <td>1</td>\n",
       "      <td>0.585492</td>\n",
       "      <td>0.900845</td>\n",
       "      <td>0.727246</td>\n",
       "      <td>0.776498</td>\n",
       "      <td>0.024068</td>\n",
       "      <td>0.790524</td>\n",
       "      <td>0.403945</td>\n",
       "      <td>0.807121</td>\n",
       "      <td>...</td>\n",
       "      <td>0.247316</td>\n",
       "      <td>0.927876</td>\n",
       "      <td>0.050031</td>\n",
       "      <td>0.082447</td>\n",
       "      <td>0.026473</td>\n",
       "      <td>0.812987</td>\n",
       "      <td>0.905542</td>\n",
       "      <td>0.814484</td>\n",
       "      <td>0.027345</td>\n",
       "      <td>0.751572</td>\n",
       "    </tr>\n",
       "  </tbody>\n",
       "</table>\n",
       "<p>2 rows × 100 columns</p>\n",
       "</div>"
      ],
      "text/plain": [
       "   PATNO  APPRDX  cg10783204  cg14547519  cg09879107  cg23584714  cg18764107  \\\n",
       "0   3000       2    0.709340    0.918605    0.621822    0.837783    0.042191   \n",
       "1   3001       1    0.585492    0.900845    0.727246    0.776498    0.024068   \n",
       "\n",
       "   cg11670533  cg09347135  cg02449892  ...  cg26668679  cg22152677  \\\n",
       "0    0.849763    0.502712    0.879576  ...    0.194786    0.932195   \n",
       "1    0.790524    0.403945    0.807121  ...    0.247316    0.927876   \n",
       "\n",
       "   cg06734098  cg12220605  cg00875272  cg13468400  cg08096908  cg17223615  \\\n",
       "0    0.340984    0.117280    0.032753    0.895386    0.937764    0.822963   \n",
       "1    0.050031    0.082447    0.026473    0.812987    0.905542    0.814484   \n",
       "\n",
       "   cg16199144  cg19371224  \n",
       "0    0.033485    0.895183  \n",
       "1    0.027345    0.751572  \n",
       "\n",
       "[2 rows x 100 columns]"
      ]
     },
     "execution_count": 17,
     "metadata": {},
     "output_type": "execute_result"
    }
   ],
   "source": [
    "# concatenate the two dataframes along the columns axis\n",
    "concatenated_df = pd.concat([df1, df2], axis=1)\n",
    "\n",
    "# drop the duplicate columns\n",
    "final_df = concatenated_df.loc[:,~concatenated_df.columns.duplicated()]\n",
    "final_df.to_csv ('Gastro_Top50sMerge_Data.csv', index = False)\n",
    "print(final_df.shape)\n",
    "final_df.head(2)"
   ]
  },
  {
   "cell_type": "markdown",
   "id": "cec9bb89",
   "metadata": {},
   "source": [
    "# LetterNumber"
   ]
  },
  {
   "cell_type": "code",
   "execution_count": 18,
   "id": "33063c43",
   "metadata": {
    "ExecuteTime": {
     "end_time": "2023-02-21T07:14:37.588558Z",
     "start_time": "2023-02-21T07:14:37.526059Z"
    }
   },
   "outputs": [
    {
     "name": "stdout",
     "output_type": "stream",
     "text": [
      "Z:\\PPMI_Data\\Excels\\NonMotors\\Derived250\\GeneCpG\\LetterNumber\n",
      "(458, 52)\n",
      "(458, 52)\n"
     ]
    }
   ],
   "source": [
    "%cd Z:\\PPMI_Data\\Excels\\NonMotors\\Derived250\\GeneCpG\\LetterNumber\n",
    "df1 = pd.read_csv('Top50NMI_LetterNumber_Data.csv')\n",
    "print(df1.shape)\n",
    "df2 = pd.read_csv('LetterNumber_Boruta_Top50_Data.csv')\n",
    "print(df2.shape)"
   ]
  },
  {
   "cell_type": "code",
   "execution_count": 19,
   "id": "37d01a42",
   "metadata": {
    "ExecuteTime": {
     "end_time": "2023-02-21T07:14:37.726602Z",
     "start_time": "2023-02-21T07:14:37.588558Z"
    }
   },
   "outputs": [
    {
     "name": "stdout",
     "output_type": "stream",
     "text": [
      "(458, 98)\n"
     ]
    },
    {
     "data": {
      "text/html": [
       "<div>\n",
       "<style scoped>\n",
       "    .dataframe tbody tr th:only-of-type {\n",
       "        vertical-align: middle;\n",
       "    }\n",
       "\n",
       "    .dataframe tbody tr th {\n",
       "        vertical-align: top;\n",
       "    }\n",
       "\n",
       "    .dataframe thead th {\n",
       "        text-align: right;\n",
       "    }\n",
       "</style>\n",
       "<table border=\"1\" class=\"dataframe\">\n",
       "  <thead>\n",
       "    <tr style=\"text-align: right;\">\n",
       "      <th></th>\n",
       "      <th>PATNO</th>\n",
       "      <th>APPRDX</th>\n",
       "      <th>cg17937070</th>\n",
       "      <th>cg06796611</th>\n",
       "      <th>cg17712928</th>\n",
       "      <th>cg26408382</th>\n",
       "      <th>cg03424478</th>\n",
       "      <th>cg00052836</th>\n",
       "      <th>cg00593243</th>\n",
       "      <th>cg06061283</th>\n",
       "      <th>...</th>\n",
       "      <th>cg07193024</th>\n",
       "      <th>cg07612271</th>\n",
       "      <th>cg14565835</th>\n",
       "      <th>cg27542525</th>\n",
       "      <th>cg10322510</th>\n",
       "      <th>cg18967713</th>\n",
       "      <th>cg11802732</th>\n",
       "      <th>cg12220605</th>\n",
       "      <th>cg12015492</th>\n",
       "      <th>cg00811166</th>\n",
       "    </tr>\n",
       "  </thead>\n",
       "  <tbody>\n",
       "    <tr>\n",
       "      <th>0</th>\n",
       "      <td>3000</td>\n",
       "      <td>2</td>\n",
       "      <td>0.955360</td>\n",
       "      <td>0.782549</td>\n",
       "      <td>0.910165</td>\n",
       "      <td>0.903011</td>\n",
       "      <td>0.028517</td>\n",
       "      <td>0.931199</td>\n",
       "      <td>0.948020</td>\n",
       "      <td>0.870155</td>\n",
       "      <td>...</td>\n",
       "      <td>0.104884</td>\n",
       "      <td>0.918277</td>\n",
       "      <td>0.776492</td>\n",
       "      <td>0.329920</td>\n",
       "      <td>0.967393</td>\n",
       "      <td>0.015011</td>\n",
       "      <td>0.039124</td>\n",
       "      <td>0.117280</td>\n",
       "      <td>0.033413</td>\n",
       "      <td>0.887979</td>\n",
       "    </tr>\n",
       "    <tr>\n",
       "      <th>1</th>\n",
       "      <td>3001</td>\n",
       "      <td>1</td>\n",
       "      <td>0.902738</td>\n",
       "      <td>0.728984</td>\n",
       "      <td>0.950909</td>\n",
       "      <td>0.922423</td>\n",
       "      <td>0.030953</td>\n",
       "      <td>0.872534</td>\n",
       "      <td>0.917518</td>\n",
       "      <td>0.732005</td>\n",
       "      <td>...</td>\n",
       "      <td>0.136834</td>\n",
       "      <td>0.896129</td>\n",
       "      <td>0.856185</td>\n",
       "      <td>0.347469</td>\n",
       "      <td>0.967266</td>\n",
       "      <td>0.019488</td>\n",
       "      <td>0.038867</td>\n",
       "      <td>0.082447</td>\n",
       "      <td>0.039214</td>\n",
       "      <td>0.840791</td>\n",
       "    </tr>\n",
       "  </tbody>\n",
       "</table>\n",
       "<p>2 rows × 98 columns</p>\n",
       "</div>"
      ],
      "text/plain": [
       "   PATNO  APPRDX  cg17937070  cg06796611  cg17712928  cg26408382  cg03424478  \\\n",
       "0   3000       2    0.955360    0.782549    0.910165    0.903011    0.028517   \n",
       "1   3001       1    0.902738    0.728984    0.950909    0.922423    0.030953   \n",
       "\n",
       "   cg00052836  cg00593243  cg06061283  ...  cg07193024  cg07612271  \\\n",
       "0    0.931199    0.948020    0.870155  ...    0.104884    0.918277   \n",
       "1    0.872534    0.917518    0.732005  ...    0.136834    0.896129   \n",
       "\n",
       "   cg14565835  cg27542525  cg10322510  cg18967713  cg11802732  cg12220605  \\\n",
       "0    0.776492    0.329920    0.967393    0.015011    0.039124    0.117280   \n",
       "1    0.856185    0.347469    0.967266    0.019488    0.038867    0.082447   \n",
       "\n",
       "   cg12015492  cg00811166  \n",
       "0    0.033413    0.887979  \n",
       "1    0.039214    0.840791  \n",
       "\n",
       "[2 rows x 98 columns]"
      ]
     },
     "execution_count": 19,
     "metadata": {},
     "output_type": "execute_result"
    }
   ],
   "source": [
    "# concatenate the two dataframes along the columns axis\n",
    "concatenated_df = pd.concat([df1, df2], axis=1)\n",
    "\n",
    "# drop the duplicate columns\n",
    "final_df = concatenated_df.loc[:,~concatenated_df.columns.duplicated()]\n",
    "final_df.to_csv ('LetterNumber_Top50sMerge_Data.csv', index = False)\n",
    "print(final_df.shape)\n",
    "final_df.head(2)"
   ]
  },
  {
   "cell_type": "markdown",
   "id": "3a259097",
   "metadata": {},
   "source": [
    "# LexicalFluency"
   ]
  },
  {
   "cell_type": "code",
   "execution_count": 20,
   "id": "942b076d",
   "metadata": {
    "ExecuteTime": {
     "end_time": "2023-02-21T07:14:37.811244Z",
     "start_time": "2023-02-21T07:14:37.726602Z"
    }
   },
   "outputs": [
    {
     "name": "stdout",
     "output_type": "stream",
     "text": [
      "Z:\\PPMI_Data\\Excels\\NonMotors\\Derived250\\GeneCpG\\LexicalFluency\n",
      "(233, 52)\n",
      "(233, 52)\n"
     ]
    }
   ],
   "source": [
    "%cd Z:\\PPMI_Data\\Excels\\NonMotors\\Derived250\\GeneCpG\\LexicalFluency\n",
    "df1 = pd.read_csv('Top50NMI_LexicalFluency_Data.csv')\n",
    "print(df1.shape)\n",
    "df2 = pd.read_csv('LexicalFluency_Boruta_Top50_Data.csv')\n",
    "print(df2.shape)"
   ]
  },
  {
   "cell_type": "code",
   "execution_count": 21,
   "id": "fe073654",
   "metadata": {
    "ExecuteTime": {
     "end_time": "2023-02-21T07:14:37.911511Z",
     "start_time": "2023-02-21T07:14:37.811244Z"
    }
   },
   "outputs": [
    {
     "name": "stdout",
     "output_type": "stream",
     "text": [
      "(233, 100)\n"
     ]
    },
    {
     "data": {
      "text/html": [
       "<div>\n",
       "<style scoped>\n",
       "    .dataframe tbody tr th:only-of-type {\n",
       "        vertical-align: middle;\n",
       "    }\n",
       "\n",
       "    .dataframe tbody tr th {\n",
       "        vertical-align: top;\n",
       "    }\n",
       "\n",
       "    .dataframe thead th {\n",
       "        text-align: right;\n",
       "    }\n",
       "</style>\n",
       "<table border=\"1\" class=\"dataframe\">\n",
       "  <thead>\n",
       "    <tr style=\"text-align: right;\">\n",
       "      <th></th>\n",
       "      <th>PATNO</th>\n",
       "      <th>APPRDX</th>\n",
       "      <th>cg18504826</th>\n",
       "      <th>cg24706032</th>\n",
       "      <th>cg04958915</th>\n",
       "      <th>cg23983141</th>\n",
       "      <th>cg04310833</th>\n",
       "      <th>cg12184854</th>\n",
       "      <th>cg08550831</th>\n",
       "      <th>cg08096908</th>\n",
       "      <th>...</th>\n",
       "      <th>cg13546658</th>\n",
       "      <th>cg15593930</th>\n",
       "      <th>cg13359134</th>\n",
       "      <th>cg07667731</th>\n",
       "      <th>cg09304381</th>\n",
       "      <th>cg23169811</th>\n",
       "      <th>cg26869617</th>\n",
       "      <th>cg21585627</th>\n",
       "      <th>cg02618319</th>\n",
       "      <th>cg09670616</th>\n",
       "    </tr>\n",
       "  </thead>\n",
       "  <tbody>\n",
       "    <tr>\n",
       "      <th>0</th>\n",
       "      <td>3000</td>\n",
       "      <td>2</td>\n",
       "      <td>0.923461</td>\n",
       "      <td>0.013061</td>\n",
       "      <td>0.953291</td>\n",
       "      <td>0.873134</td>\n",
       "      <td>0.919058</td>\n",
       "      <td>0.935107</td>\n",
       "      <td>0.926300</td>\n",
       "      <td>0.937764</td>\n",
       "      <td>...</td>\n",
       "      <td>0.232474</td>\n",
       "      <td>0.019946</td>\n",
       "      <td>0.016097</td>\n",
       "      <td>0.016602</td>\n",
       "      <td>0.981877</td>\n",
       "      <td>0.933661</td>\n",
       "      <td>0.923248</td>\n",
       "      <td>0.042639</td>\n",
       "      <td>0.981089</td>\n",
       "      <td>0.017773</td>\n",
       "    </tr>\n",
       "    <tr>\n",
       "      <th>1</th>\n",
       "      <td>3001</td>\n",
       "      <td>1</td>\n",
       "      <td>0.912524</td>\n",
       "      <td>0.014550</td>\n",
       "      <td>0.912131</td>\n",
       "      <td>0.863465</td>\n",
       "      <td>0.914570</td>\n",
       "      <td>0.933108</td>\n",
       "      <td>0.907085</td>\n",
       "      <td>0.905542</td>\n",
       "      <td>...</td>\n",
       "      <td>0.164460</td>\n",
       "      <td>0.027932</td>\n",
       "      <td>0.014686</td>\n",
       "      <td>0.013778</td>\n",
       "      <td>0.960567</td>\n",
       "      <td>0.931264</td>\n",
       "      <td>0.906871</td>\n",
       "      <td>0.057217</td>\n",
       "      <td>0.977055</td>\n",
       "      <td>0.031018</td>\n",
       "    </tr>\n",
       "  </tbody>\n",
       "</table>\n",
       "<p>2 rows × 100 columns</p>\n",
       "</div>"
      ],
      "text/plain": [
       "   PATNO  APPRDX  cg18504826  cg24706032  cg04958915  cg23983141  cg04310833  \\\n",
       "0   3000       2    0.923461    0.013061    0.953291    0.873134    0.919058   \n",
       "1   3001       1    0.912524    0.014550    0.912131    0.863465    0.914570   \n",
       "\n",
       "   cg12184854  cg08550831  cg08096908  ...  cg13546658  cg15593930  \\\n",
       "0    0.935107    0.926300    0.937764  ...    0.232474    0.019946   \n",
       "1    0.933108    0.907085    0.905542  ...    0.164460    0.027932   \n",
       "\n",
       "   cg13359134  cg07667731  cg09304381  cg23169811  cg26869617  cg21585627  \\\n",
       "0    0.016097    0.016602    0.981877    0.933661    0.923248    0.042639   \n",
       "1    0.014686    0.013778    0.960567    0.931264    0.906871    0.057217   \n",
       "\n",
       "   cg02618319  cg09670616  \n",
       "0    0.981089    0.017773  \n",
       "1    0.977055    0.031018  \n",
       "\n",
       "[2 rows x 100 columns]"
      ]
     },
     "execution_count": 21,
     "metadata": {},
     "output_type": "execute_result"
    }
   ],
   "source": [
    "# concatenate the two dataframes along the columns axis\n",
    "concatenated_df = pd.concat([df1, df2], axis=1)\n",
    "\n",
    "# drop the duplicate columns\n",
    "final_df = concatenated_df.loc[:,~concatenated_df.columns.duplicated()]\n",
    "final_df.to_csv ('LexicalFluency_Top50sMerge_Data.csv', index = False)\n",
    "print(final_df.shape)\n",
    "final_df.head(2)"
   ]
  },
  {
   "cell_type": "markdown",
   "id": "76ae5493",
   "metadata": {},
   "source": [
    "# SymbolDigit"
   ]
  },
  {
   "cell_type": "code",
   "execution_count": 2,
   "id": "7a0f28e0",
   "metadata": {
    "ExecuteTime": {
     "end_time": "2023-02-22T08:26:24.465904Z",
     "start_time": "2023-02-22T08:26:24.435741Z"
    }
   },
   "outputs": [
    {
     "name": "stdout",
     "output_type": "stream",
     "text": [
      "Z:\\PPMI_Data\\Excels\\NonMotors\\Derived250\\GeneCpG\\SymbolDigit\n",
      "(458, 52)\n",
      "(458, 52)\n"
     ]
    }
   ],
   "source": [
    "%cd Z:\\PPMI_Data\\Excels\\NonMotors\\Derived250\\GeneCpG\\SymbolDigit\n",
    "df1 = pd.read_csv('SymbDigi_NMI_Top50_Data.csv')\n",
    "print(df1.shape)\n",
    "df2 = pd.read_csv('SymbDigi_Boruta_Top50_Data.csv')\n",
    "print(df2.shape)"
   ]
  },
  {
   "cell_type": "code",
   "execution_count": 3,
   "id": "50405625",
   "metadata": {
    "ExecuteTime": {
     "end_time": "2023-02-22T08:26:33.713097Z",
     "start_time": "2023-02-22T08:26:33.501957Z"
    }
   },
   "outputs": [
    {
     "name": "stdout",
     "output_type": "stream",
     "text": [
      "(458, 101)\n"
     ]
    },
    {
     "data": {
      "text/html": [
       "<div>\n",
       "<style scoped>\n",
       "    .dataframe tbody tr th:only-of-type {\n",
       "        vertical-align: middle;\n",
       "    }\n",
       "\n",
       "    .dataframe tbody tr th {\n",
       "        vertical-align: top;\n",
       "    }\n",
       "\n",
       "    .dataframe thead th {\n",
       "        text-align: right;\n",
       "    }\n",
       "</style>\n",
       "<table border=\"1\" class=\"dataframe\">\n",
       "  <thead>\n",
       "    <tr style=\"text-align: right;\">\n",
       "      <th></th>\n",
       "      <th>PATNO</th>\n",
       "      <th>APPRDX</th>\n",
       "      <th>cg16702987</th>\n",
       "      <th>cg16916264</th>\n",
       "      <th>cg14547519</th>\n",
       "      <th>cg00508856</th>\n",
       "      <th>cg20230572</th>\n",
       "      <th>cg11169227</th>\n",
       "      <th>cg24402323</th>\n",
       "      <th>cg16448286</th>\n",
       "      <th>...</th>\n",
       "      <th>cg04061361</th>\n",
       "      <th>cg22534925</th>\n",
       "      <th>cg12179916</th>\n",
       "      <th>cg12044671</th>\n",
       "      <th>cg19555872</th>\n",
       "      <th>cg25273343</th>\n",
       "      <th>cg04286615</th>\n",
       "      <th>cg07931157</th>\n",
       "      <th>cg01120173</th>\n",
       "      <th>cg12600134</th>\n",
       "    </tr>\n",
       "  </thead>\n",
       "  <tbody>\n",
       "    <tr>\n",
       "      <th>0</th>\n",
       "      <td>3001</td>\n",
       "      <td>1</td>\n",
       "      <td>0.691866</td>\n",
       "      <td>0.870274</td>\n",
       "      <td>0.900845</td>\n",
       "      <td>0.903805</td>\n",
       "      <td>0.687517</td>\n",
       "      <td>0.887289</td>\n",
       "      <td>0.060656</td>\n",
       "      <td>0.906014</td>\n",
       "      <td>...</td>\n",
       "      <td>0.568646</td>\n",
       "      <td>0.914514</td>\n",
       "      <td>0.638415</td>\n",
       "      <td>0.869433</td>\n",
       "      <td>0.879701</td>\n",
       "      <td>0.736708</td>\n",
       "      <td>0.034118</td>\n",
       "      <td>0.066176</td>\n",
       "      <td>0.10021</td>\n",
       "      <td>0.025254</td>\n",
       "    </tr>\n",
       "    <tr>\n",
       "      <th>1</th>\n",
       "      <td>3007</td>\n",
       "      <td>1</td>\n",
       "      <td>0.713975</td>\n",
       "      <td>0.927010</td>\n",
       "      <td>0.902779</td>\n",
       "      <td>0.908528</td>\n",
       "      <td>0.741894</td>\n",
       "      <td>0.894105</td>\n",
       "      <td>0.024917</td>\n",
       "      <td>0.890996</td>\n",
       "      <td>...</td>\n",
       "      <td>0.719066</td>\n",
       "      <td>0.930051</td>\n",
       "      <td>0.679014</td>\n",
       "      <td>0.755008</td>\n",
       "      <td>0.894245</td>\n",
       "      <td>0.876514</td>\n",
       "      <td>0.020293</td>\n",
       "      <td>0.069590</td>\n",
       "      <td>0.16000</td>\n",
       "      <td>0.017894</td>\n",
       "    </tr>\n",
       "  </tbody>\n",
       "</table>\n",
       "<p>2 rows × 101 columns</p>\n",
       "</div>"
      ],
      "text/plain": [
       "   PATNO  APPRDX  cg16702987  cg16916264  cg14547519  cg00508856  cg20230572  \\\n",
       "0   3001       1    0.691866    0.870274    0.900845    0.903805    0.687517   \n",
       "1   3007       1    0.713975    0.927010    0.902779    0.908528    0.741894   \n",
       "\n",
       "   cg11169227  cg24402323  cg16448286  ...  cg04061361  cg22534925  \\\n",
       "0    0.887289    0.060656    0.906014  ...    0.568646    0.914514   \n",
       "1    0.894105    0.024917    0.890996  ...    0.719066    0.930051   \n",
       "\n",
       "   cg12179916  cg12044671  cg19555872  cg25273343  cg04286615  cg07931157  \\\n",
       "0    0.638415    0.869433    0.879701    0.736708    0.034118    0.066176   \n",
       "1    0.679014    0.755008    0.894245    0.876514    0.020293    0.069590   \n",
       "\n",
       "   cg01120173  cg12600134  \n",
       "0     0.10021    0.025254  \n",
       "1     0.16000    0.017894  \n",
       "\n",
       "[2 rows x 101 columns]"
      ]
     },
     "execution_count": 3,
     "metadata": {},
     "output_type": "execute_result"
    }
   ],
   "source": [
    "# concatenate the two dataframes along the columns axis\n",
    "concatenated_df = pd.concat([df1, df2], axis=1)\n",
    "\n",
    "# drop the duplicate columns\n",
    "final_df = concatenated_df.loc[:,~concatenated_df.columns.duplicated()]\n",
    "final_df.to_csv ('SymbDigi_Top50sMerge_Data.csv', index = False)\n",
    "print(final_df.shape)\n",
    "final_df.head(2)"
   ]
  },
  {
   "cell_type": "markdown",
   "id": "dc3edc7d",
   "metadata": {},
   "source": [
    "# TrailMakingB"
   ]
  },
  {
   "cell_type": "code",
   "execution_count": 25,
   "id": "d1b6374f",
   "metadata": {
    "ExecuteTime": {
     "end_time": "2023-02-21T07:19:40.854549Z",
     "start_time": "2023-02-21T07:19:40.695684Z"
    }
   },
   "outputs": [
    {
     "name": "stdout",
     "output_type": "stream",
     "text": [
      "Z:\\PPMI_Data\\Excels\\NonMotors\\Derived250\\GeneCpG\\TrailMakeB\n",
      "(216, 52)\n",
      "(216, 52)\n"
     ]
    }
   ],
   "source": [
    "%cd Z:\\PPMI_Data\\Excels\\NonMotors\\Derived250\\GeneCpG\\TrailMakeB\n",
    "df1 = pd.read_csv('Top50NMI_TrailMakeB_Data.csv')\n",
    "print(df1.shape)\n",
    "df2 = pd.read_csv('TrailMakeB_Boruta_Top50_Data.csv')\n",
    "print(df2.shape)"
   ]
  },
  {
   "cell_type": "code",
   "execution_count": 26,
   "id": "54d97912",
   "metadata": {
    "ExecuteTime": {
     "end_time": "2023-02-21T07:19:40.955082Z",
     "start_time": "2023-02-21T07:19:40.856571Z"
    }
   },
   "outputs": [
    {
     "name": "stdout",
     "output_type": "stream",
     "text": [
      "(216, 99)\n"
     ]
    },
    {
     "data": {
      "text/html": [
       "<div>\n",
       "<style scoped>\n",
       "    .dataframe tbody tr th:only-of-type {\n",
       "        vertical-align: middle;\n",
       "    }\n",
       "\n",
       "    .dataframe tbody tr th {\n",
       "        vertical-align: top;\n",
       "    }\n",
       "\n",
       "    .dataframe thead th {\n",
       "        text-align: right;\n",
       "    }\n",
       "</style>\n",
       "<table border=\"1\" class=\"dataframe\">\n",
       "  <thead>\n",
       "    <tr style=\"text-align: right;\">\n",
       "      <th></th>\n",
       "      <th>PATNO</th>\n",
       "      <th>APPRDX</th>\n",
       "      <th>cg04958915</th>\n",
       "      <th>cg03953298</th>\n",
       "      <th>cg23983141</th>\n",
       "      <th>cg18050804</th>\n",
       "      <th>cg05356336</th>\n",
       "      <th>cg16850288</th>\n",
       "      <th>cg19245310</th>\n",
       "      <th>cg11212801</th>\n",
       "      <th>...</th>\n",
       "      <th>cg16476940</th>\n",
       "      <th>cg24421842</th>\n",
       "      <th>cg15469205</th>\n",
       "      <th>cg09495953</th>\n",
       "      <th>cg16620860</th>\n",
       "      <th>cg19810426</th>\n",
       "      <th>cg10425946</th>\n",
       "      <th>cg12417702</th>\n",
       "      <th>cg27497687</th>\n",
       "      <th>cg16356224</th>\n",
       "    </tr>\n",
       "  </thead>\n",
       "  <tbody>\n",
       "    <tr>\n",
       "      <th>0</th>\n",
       "      <td>3000</td>\n",
       "      <td>2</td>\n",
       "      <td>0.953291</td>\n",
       "      <td>0.835808</td>\n",
       "      <td>0.873134</td>\n",
       "      <td>0.903780</td>\n",
       "      <td>0.730565</td>\n",
       "      <td>0.861231</td>\n",
       "      <td>0.838944</td>\n",
       "      <td>0.940099</td>\n",
       "      <td>...</td>\n",
       "      <td>0.804358</td>\n",
       "      <td>0.790974</td>\n",
       "      <td>0.656929</td>\n",
       "      <td>0.812500</td>\n",
       "      <td>0.624056</td>\n",
       "      <td>0.337330</td>\n",
       "      <td>0.017390</td>\n",
       "      <td>0.069469</td>\n",
       "      <td>0.037778</td>\n",
       "      <td>0.148380</td>\n",
       "    </tr>\n",
       "    <tr>\n",
       "      <th>1</th>\n",
       "      <td>3001</td>\n",
       "      <td>1</td>\n",
       "      <td>0.912131</td>\n",
       "      <td>0.854043</td>\n",
       "      <td>0.863465</td>\n",
       "      <td>0.862122</td>\n",
       "      <td>0.794499</td>\n",
       "      <td>0.830251</td>\n",
       "      <td>0.827915</td>\n",
       "      <td>0.920422</td>\n",
       "      <td>...</td>\n",
       "      <td>0.801166</td>\n",
       "      <td>0.821622</td>\n",
       "      <td>0.865868</td>\n",
       "      <td>0.907085</td>\n",
       "      <td>0.582799</td>\n",
       "      <td>0.293279</td>\n",
       "      <td>0.051054</td>\n",
       "      <td>0.030323</td>\n",
       "      <td>0.033875</td>\n",
       "      <td>0.179434</td>\n",
       "    </tr>\n",
       "  </tbody>\n",
       "</table>\n",
       "<p>2 rows × 99 columns</p>\n",
       "</div>"
      ],
      "text/plain": [
       "   PATNO  APPRDX  cg04958915  cg03953298  cg23983141  cg18050804  cg05356336  \\\n",
       "0   3000       2    0.953291    0.835808    0.873134    0.903780    0.730565   \n",
       "1   3001       1    0.912131    0.854043    0.863465    0.862122    0.794499   \n",
       "\n",
       "   cg16850288  cg19245310  cg11212801  ...  cg16476940  cg24421842  \\\n",
       "0    0.861231    0.838944    0.940099  ...    0.804358    0.790974   \n",
       "1    0.830251    0.827915    0.920422  ...    0.801166    0.821622   \n",
       "\n",
       "   cg15469205  cg09495953  cg16620860  cg19810426  cg10425946  cg12417702  \\\n",
       "0    0.656929    0.812500    0.624056    0.337330    0.017390    0.069469   \n",
       "1    0.865868    0.907085    0.582799    0.293279    0.051054    0.030323   \n",
       "\n",
       "   cg27497687  cg16356224  \n",
       "0    0.037778    0.148380  \n",
       "1    0.033875    0.179434  \n",
       "\n",
       "[2 rows x 99 columns]"
      ]
     },
     "execution_count": 26,
     "metadata": {},
     "output_type": "execute_result"
    }
   ],
   "source": [
    "# concatenate the two dataframes along the columns axis\n",
    "concatenated_df = pd.concat([df1, df2], axis=1)\n",
    "\n",
    "# drop the duplicate columns\n",
    "final_df = concatenated_df.loc[:,~concatenated_df.columns.duplicated()]\n",
    "final_df.to_csv ('TrailMakeB_Top50sMerge_Data.csv', index = False)\n",
    "print(final_df.shape)\n",
    "final_df.head(2)"
   ]
  },
  {
   "cell_type": "markdown",
   "id": "22e89ac8",
   "metadata": {},
   "source": [
    "# UPSIT"
   ]
  },
  {
   "cell_type": "code",
   "execution_count": 27,
   "id": "a53ddf95",
   "metadata": {
    "ExecuteTime": {
     "end_time": "2023-02-21T07:19:41.035536Z",
     "start_time": "2023-02-21T07:19:40.997324Z"
    }
   },
   "outputs": [
    {
     "name": "stdout",
     "output_type": "stream",
     "text": [
      "Z:\\PPMI_Data\\Excels\\NonMotors\\Derived250\\GeneCpG\\UPSIT\n",
      "(457, 52)\n"
     ]
    }
   ],
   "source": [
    "%cd Z:\\PPMI_Data\\Excels\\NonMotors\\Derived250\\GeneCpG\\UPSIT\n",
    "\n",
    "df2 = pd.read_csv('UPSIT_Boruta_Top50_Data.csv')\n",
    "print(df2.shape)"
   ]
  },
  {
   "cell_type": "code",
   "execution_count": 28,
   "id": "deebdb24",
   "metadata": {
    "ExecuteTime": {
     "end_time": "2023-02-21T07:19:42.313920Z",
     "start_time": "2023-02-21T07:19:41.037564Z"
    },
    "scrolled": false
   },
   "outputs": [
    {
     "name": "stdout",
     "output_type": "stream",
     "text": [
      "(50, 1)\n"
     ]
    },
    {
     "name": "stderr",
     "output_type": "stream",
     "text": [
      "C:\\Users\\system 4\\AppData\\Local\\Temp\\ipykernel_3588\\2840426946.py:9: SettingWithCopyWarning: \n",
      "A value is trying to be set on a copy of a slice from a DataFrame.\n",
      "Try using .loc[row_indexer,col_indexer] = value instead\n",
      "\n",
      "See the caveats in the documentation: https://pandas.pydata.org/pandas-docs/stable/user_guide/indexing.html#returning-a-view-versus-a-copy\n",
      "  df_subset['APPRDX'] = df['APPRDX']\n"
     ]
    },
    {
     "data": {
      "text/html": [
       "<div>\n",
       "<style scoped>\n",
       "    .dataframe tbody tr th:only-of-type {\n",
       "        vertical-align: middle;\n",
       "    }\n",
       "\n",
       "    .dataframe tbody tr th {\n",
       "        vertical-align: top;\n",
       "    }\n",
       "\n",
       "    .dataframe thead th {\n",
       "        text-align: right;\n",
       "    }\n",
       "</style>\n",
       "<table border=\"1\" class=\"dataframe\">\n",
       "  <thead>\n",
       "    <tr style=\"text-align: right;\">\n",
       "      <th></th>\n",
       "      <th>cg08744312</th>\n",
       "      <th>cg22295787</th>\n",
       "      <th>cg19997384</th>\n",
       "      <th>cg02295000</th>\n",
       "      <th>cg19400616</th>\n",
       "      <th>cg27344018</th>\n",
       "      <th>cg12038759</th>\n",
       "      <th>cg01232534</th>\n",
       "      <th>cg20118247</th>\n",
       "      <th>cg03682895</th>\n",
       "      <th>...</th>\n",
       "      <th>cg11485247</th>\n",
       "      <th>cg04581024</th>\n",
       "      <th>cg03191458</th>\n",
       "      <th>cg20003494</th>\n",
       "      <th>cg05142211</th>\n",
       "      <th>cg19731340</th>\n",
       "      <th>cg06794504</th>\n",
       "      <th>cg13959611</th>\n",
       "      <th>cg14149699</th>\n",
       "      <th>APPRDX</th>\n",
       "    </tr>\n",
       "  </thead>\n",
       "  <tbody>\n",
       "    <tr>\n",
       "      <th>0</th>\n",
       "      <td>0.902975</td>\n",
       "      <td>0.016057</td>\n",
       "      <td>0.284672</td>\n",
       "      <td>0.826318</td>\n",
       "      <td>0.909653</td>\n",
       "      <td>0.845686</td>\n",
       "      <td>0.739036</td>\n",
       "      <td>0.275509</td>\n",
       "      <td>0.937667</td>\n",
       "      <td>0.902725</td>\n",
       "      <td>...</td>\n",
       "      <td>0.024186</td>\n",
       "      <td>0.884052</td>\n",
       "      <td>0.921355</td>\n",
       "      <td>0.025708</td>\n",
       "      <td>0.035018</td>\n",
       "      <td>0.018411</td>\n",
       "      <td>0.752823</td>\n",
       "      <td>0.044262</td>\n",
       "      <td>0.030215</td>\n",
       "      <td>1</td>\n",
       "    </tr>\n",
       "    <tr>\n",
       "      <th>1</th>\n",
       "      <td>0.904315</td>\n",
       "      <td>0.021968</td>\n",
       "      <td>0.329010</td>\n",
       "      <td>0.805755</td>\n",
       "      <td>0.942176</td>\n",
       "      <td>0.810976</td>\n",
       "      <td>0.578553</td>\n",
       "      <td>0.225155</td>\n",
       "      <td>0.927726</td>\n",
       "      <td>0.915318</td>\n",
       "      <td>...</td>\n",
       "      <td>0.031999</td>\n",
       "      <td>0.915653</td>\n",
       "      <td>0.911271</td>\n",
       "      <td>0.045513</td>\n",
       "      <td>0.041906</td>\n",
       "      <td>0.017375</td>\n",
       "      <td>0.843436</td>\n",
       "      <td>0.033433</td>\n",
       "      <td>0.083898</td>\n",
       "      <td>1</td>\n",
       "    </tr>\n",
       "  </tbody>\n",
       "</table>\n",
       "<p>2 rows × 51 columns</p>\n",
       "</div>"
      ],
      "text/plain": [
       "   cg08744312  cg22295787  cg19997384  cg02295000  cg19400616  cg27344018  \\\n",
       "0    0.902975    0.016057    0.284672    0.826318    0.909653    0.845686   \n",
       "1    0.904315    0.021968    0.329010    0.805755    0.942176    0.810976   \n",
       "\n",
       "   cg12038759  cg01232534  cg20118247  cg03682895  ...  cg11485247  \\\n",
       "0    0.739036    0.275509    0.937667    0.902725  ...    0.024186   \n",
       "1    0.578553    0.225155    0.927726    0.915318  ...    0.031999   \n",
       "\n",
       "   cg04581024  cg03191458  cg20003494  cg05142211  cg19731340  cg06794504  \\\n",
       "0    0.884052    0.921355    0.025708    0.035018    0.018411    0.752823   \n",
       "1    0.915653    0.911271    0.045513    0.041906    0.017375    0.843436   \n",
       "\n",
       "   cg13959611  cg14149699  APPRDX  \n",
       "0    0.044262    0.030215       1  \n",
       "1    0.033433    0.083898       1  \n",
       "\n",
       "[2 rows x 51 columns]"
      ]
     },
     "execution_count": 28,
     "metadata": {},
     "output_type": "execute_result"
    }
   ],
   "source": [
    "df = pd.read_csv('UPSIT3Categ_Methylome_APPRDXFilter.csv')\n",
    "df1 = pd.read_csv('UPSIT_NMI_Top50.csv')\n",
    "print(df1.shape)\n",
    "# create a list of column names to subset from data\n",
    "col_names = df1.iloc[:, 0].tolist()\n",
    "\n",
    "# subset df based on the column names\n",
    "df_subset = df.loc[:, df.columns.isin(col_names)]\n",
    "df_subset['APPRDX'] = df['APPRDX']\n",
    "df_subset.to_csv ('UPSIT_NMI_Top50_Data.csv', index = False)\n",
    "df_subset.head(2)"
   ]
  },
  {
   "cell_type": "code",
   "execution_count": 29,
   "id": "b449c22b",
   "metadata": {
    "ExecuteTime": {
     "end_time": "2023-02-21T07:19:42.398567Z",
     "start_time": "2023-02-21T07:19:42.313920Z"
    }
   },
   "outputs": [
    {
     "name": "stdout",
     "output_type": "stream",
     "text": [
      "(457, 94)\n"
     ]
    },
    {
     "data": {
      "text/html": [
       "<div>\n",
       "<style scoped>\n",
       "    .dataframe tbody tr th:only-of-type {\n",
       "        vertical-align: middle;\n",
       "    }\n",
       "\n",
       "    .dataframe tbody tr th {\n",
       "        vertical-align: top;\n",
       "    }\n",
       "\n",
       "    .dataframe thead th {\n",
       "        text-align: right;\n",
       "    }\n",
       "</style>\n",
       "<table border=\"1\" class=\"dataframe\">\n",
       "  <thead>\n",
       "    <tr style=\"text-align: right;\">\n",
       "      <th></th>\n",
       "      <th>PATNO</th>\n",
       "      <th>APPRDX</th>\n",
       "      <th>cg14719675</th>\n",
       "      <th>cg00260798</th>\n",
       "      <th>cg10244356</th>\n",
       "      <th>cg00877792</th>\n",
       "      <th>cg03476938</th>\n",
       "      <th>cg10061292</th>\n",
       "      <th>cg23205529</th>\n",
       "      <th>cg23074747</th>\n",
       "      <th>...</th>\n",
       "      <th>cg25314532</th>\n",
       "      <th>cg25557973</th>\n",
       "      <th>cg05516535</th>\n",
       "      <th>cg11485247</th>\n",
       "      <th>cg04581024</th>\n",
       "      <th>cg03191458</th>\n",
       "      <th>cg20003494</th>\n",
       "      <th>cg19731340</th>\n",
       "      <th>cg06794504</th>\n",
       "      <th>cg14149699</th>\n",
       "    </tr>\n",
       "  </thead>\n",
       "  <tbody>\n",
       "    <tr>\n",
       "      <th>0</th>\n",
       "      <td>3001</td>\n",
       "      <td>1</td>\n",
       "      <td>0.043587</td>\n",
       "      <td>0.885679</td>\n",
       "      <td>0.592379</td>\n",
       "      <td>0.497734</td>\n",
       "      <td>0.549004</td>\n",
       "      <td>0.013281</td>\n",
       "      <td>0.054117</td>\n",
       "      <td>0.011630</td>\n",
       "      <td>...</td>\n",
       "      <td>0.013287</td>\n",
       "      <td>0.840012</td>\n",
       "      <td>0.930609</td>\n",
       "      <td>0.024186</td>\n",
       "      <td>0.884052</td>\n",
       "      <td>0.921355</td>\n",
       "      <td>0.025708</td>\n",
       "      <td>0.018411</td>\n",
       "      <td>0.752823</td>\n",
       "      <td>0.030215</td>\n",
       "    </tr>\n",
       "    <tr>\n",
       "      <th>1</th>\n",
       "      <td>3007</td>\n",
       "      <td>1</td>\n",
       "      <td>0.080217</td>\n",
       "      <td>0.916535</td>\n",
       "      <td>0.609867</td>\n",
       "      <td>0.453499</td>\n",
       "      <td>0.561954</td>\n",
       "      <td>0.012520</td>\n",
       "      <td>0.048337</td>\n",
       "      <td>0.011863</td>\n",
       "      <td>...</td>\n",
       "      <td>0.010308</td>\n",
       "      <td>0.786598</td>\n",
       "      <td>0.925093</td>\n",
       "      <td>0.031999</td>\n",
       "      <td>0.915653</td>\n",
       "      <td>0.911271</td>\n",
       "      <td>0.045513</td>\n",
       "      <td>0.017375</td>\n",
       "      <td>0.843436</td>\n",
       "      <td>0.083898</td>\n",
       "    </tr>\n",
       "  </tbody>\n",
       "</table>\n",
       "<p>2 rows × 94 columns</p>\n",
       "</div>"
      ],
      "text/plain": [
       "   PATNO  APPRDX  cg14719675  cg00260798  cg10244356  cg00877792  cg03476938  \\\n",
       "0   3001       1    0.043587    0.885679    0.592379    0.497734    0.549004   \n",
       "1   3007       1    0.080217    0.916535    0.609867    0.453499    0.561954   \n",
       "\n",
       "   cg10061292  cg23205529  cg23074747  ...  cg25314532  cg25557973  \\\n",
       "0    0.013281    0.054117    0.011630  ...    0.013287    0.840012   \n",
       "1    0.012520    0.048337    0.011863  ...    0.010308    0.786598   \n",
       "\n",
       "   cg05516535  cg11485247  cg04581024  cg03191458  cg20003494  cg19731340  \\\n",
       "0    0.930609    0.024186    0.884052    0.921355    0.025708    0.018411   \n",
       "1    0.925093    0.031999    0.915653    0.911271    0.045513    0.017375   \n",
       "\n",
       "   cg06794504  cg14149699  \n",
       "0    0.752823    0.030215  \n",
       "1    0.843436    0.083898  \n",
       "\n",
       "[2 rows x 94 columns]"
      ]
     },
     "execution_count": 29,
     "metadata": {},
     "output_type": "execute_result"
    }
   ],
   "source": [
    "# concatenate the two dataframes along the columns axis\n",
    "concatenated_df = pd.concat([df2, df_subset], axis=1)\n",
    "\n",
    "# drop the duplicate columns\n",
    "final_df = concatenated_df.loc[:,~concatenated_df.columns.duplicated()]\n",
    "final_df.to_csv ('UPSIT_Top50sMerge_Data.csv', index = False)\n",
    "print(final_df.shape)\n",
    "final_df.head(2)"
   ]
  },
  {
   "cell_type": "code",
   "execution_count": null,
   "id": "6d209d0f",
   "metadata": {},
   "outputs": [],
   "source": []
  }
 ],
 "metadata": {
  "kernelspec": {
   "display_name": "Python 3 (ipykernel)",
   "language": "python",
   "name": "python3"
  },
  "language_info": {
   "codemirror_mode": {
    "name": "ipython",
    "version": 3
   },
   "file_extension": ".py",
   "mimetype": "text/x-python",
   "name": "python",
   "nbconvert_exporter": "python",
   "pygments_lexer": "ipython3",
   "version": "3.9.16"
  },
  "toc": {
   "base_numbering": 1,
   "nav_menu": {},
   "number_sections": true,
   "sideBar": true,
   "skip_h1_title": false,
   "title_cell": "Table of Contents",
   "title_sidebar": "Contents",
   "toc_cell": false,
   "toc_position": {},
   "toc_section_display": true,
   "toc_window_display": false
  },
  "varInspector": {
   "cols": {
    "lenName": 16,
    "lenType": 16,
    "lenVar": 40
   },
   "kernels_config": {
    "python": {
     "delete_cmd_postfix": "",
     "delete_cmd_prefix": "del ",
     "library": "var_list.py",
     "varRefreshCmd": "print(var_dic_list())"
    },
    "r": {
     "delete_cmd_postfix": ") ",
     "delete_cmd_prefix": "rm(",
     "library": "var_list.r",
     "varRefreshCmd": "cat(var_dic_list()) "
    }
   },
   "types_to_exclude": [
    "module",
    "function",
    "builtin_function_or_method",
    "instance",
    "_Feature"
   ],
   "window_display": false
  }
 },
 "nbformat": 4,
 "nbformat_minor": 5
}
